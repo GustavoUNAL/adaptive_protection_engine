{
 "cells": [
  {
   "cell_type": "markdown",
   "metadata": {},
   "source": [
    "# Anlisis detallado escenario base"
   ]
  },
  {
   "cell_type": "code",
   "execution_count": 11,
   "metadata": {},
   "outputs": [
    {
     "name": "stdout",
     "output_type": "stream",
     "text": [
      "============================================\n",
      "=== Relay Coordination Analysis Script ===\n",
      "===       Mode: Analyze Scenario 1       ===\n",
      "============================================\n",
      "Attempting to load data from: /Users/gustavo/Documents/Projects/TESIS_UNAL/ADAPTIVE_ALGORITHM/data/processed/independent_relay_pairs_second_optimization.json\n",
      "Successfully loaded 6800 records from JSON.\n",
      "--- Starting Analysis for Single Scenario: scenario_3 ---\n",
      "Using CTI = 0.2s\n",
      "Results will be saved in: /Users/gustavo/Documents/Projects/TESIS_UNAL/ADAPTIVE_ALGORITHM/results/second_coordination_plots\n",
      "Starting data extraction and processing for scenarios...\n",
      "Data extraction complete. Processed pairs: 6800, Skipped records/pairs: 0\n",
      "Aggregating results per scenario...\n",
      "Scenario aggregation complete.\n",
      "\n",
      "--- Processing Detailed Analysis for: scenario_3 ---\n",
      "\n",
      "--- Resumen de Coordinación ---\n",
      "Total Pares Analizados: 100\n",
      "Pares Coordinados (Δt >= 0): 75 (75.0%)\n",
      "Pares Descoordinados (Δt < 0): 25 (25.0%)\n",
      "\n",
      "--- Estadísticas del Índice MT ---\n",
      "count    100.000000\n",
      "mean      -0.190496\n",
      "std        0.592184\n",
      "min       -2.537300\n",
      "25%       -0.001850\n",
      "50%        0.000000\n",
      "75%        0.000000\n",
      "max        0.000000\n",
      "TMT (Suma MT): -19.04960\n",
      "\n",
      "--- Par Más Descoordinado (Peor MT) ---\n",
      "Par (P-R): R2-R1\n",
      "MT:        -2.5373\n",
      "Δt:        -2.5373 s\n",
      "Tm:        2.3373 s\n",
      "Tb:        0.0000 s\n",
      "Línea:     L2-3\n",
      "Falla:     10\n",
      "\n",
      "--- Top 10 Pares con Mayor Descoordinación (Ordenados por Peor MT) ---\n",
      "Par (P-R)      mt      Δt     tm     tb  Línea Falla\n",
      "    R2-R1 -2.5373 -2.5373 2.3373 0.0000   L2-3    10\n",
      "   R9-R71 -2.2012 -2.2012 2.0012 0.0000  L9-10    10\n",
      "    R9-R8 -2.2012 -2.2012 2.0012 0.0000  L9-10    10\n",
      "  R45-R46 -2.1929 -2.1929 1.9929 0.0000   L8-9    90\n",
      "  R45-R71 -2.1929 -2.1929 1.9929 0.0000   L8-9    90\n",
      "  R34-R46 -2.1749 -2.1749 1.9749 0.0000  L9-15    10\n",
      "   R34-R8 -2.1749 -2.1749 1.9749 0.0000  L9-15    10\n",
      "   R18-R1 -1.6979 -1.6979 1.4979 0.0000  L2-19    10\n",
      "  R43-R44 -0.2000 -0.2000 2.2370 2.2370   L6-7    90\n",
      "  R11-R10 -0.2000 -0.2000 2.3080 2.3080 L11-12    10\n",
      "\n",
      "Saving detailed results to CSV: /Users/gustavo/Documents/Projects/TESIS_UNAL/ADAPTIVE_ALGORITHM/results/second_coordination_plots/scenario_3_detailed_results.csv\n",
      "  Successfully saved.\n",
      "\n",
      "--- Generating Plots for Scenario: scenario_3 ---\n",
      "  Generating MT Bar Chart...\n",
      "  Generating Delta_t Bar Chart...\n",
      "  Generating Delta_t Scatter Plot...\n",
      "  Generating MT Histogram...\n",
      "  Saving plots for scenario_3...\n",
      "    Displaying mt_bar plot...\n"
     ]
    },
    {
     "data": {
      "application/vnd.plotly.v1+json": {
       "config": {
        "plotlyServerURL": "https://plot.ly"
       },
       "data": [
        {
         "hoverinfo": "text",
         "marker": {
          "color": [
           "red",
           "red",
           "red",
           "red",
           "red",
           "red",
           "red",
           "red",
           "red",
           "red",
           "red",
           "red",
           "red",
           "red",
           "red",
           "red",
           "red",
           "red",
           "red",
           "red",
           "red",
           "red",
           "red",
           "red",
           "red",
           "green",
           "green",
           "green",
           "green",
           "green",
           "green",
           "green",
           "green",
           "green",
           "green",
           "green",
           "green",
           "green",
           "green",
           "green",
           "green",
           "green",
           "green",
           "green",
           "green",
           "green",
           "green",
           "green",
           "green",
           "green",
           "green",
           "green",
           "green",
           "green",
           "green",
           "green",
           "green",
           "green",
           "green",
           "green",
           "green",
           "green",
           "green",
           "green",
           "green",
           "green",
           "green",
           "green",
           "green",
           "green",
           "green",
           "green",
           "green",
           "green",
           "green",
           "green",
           "green",
           "green",
           "green",
           "green",
           "green",
           "green",
           "green",
           "green",
           "green",
           "green",
           "green",
           "green",
           "green",
           "green",
           "green",
           "green",
           "green",
           "green",
           "green",
           "green",
           "green",
           "green",
           "green",
           "green"
          ]
         },
         "name": "Índice MT",
         "text": [
          "<b>R2-R1</b><br>Índice Plot: 1<br>MT: -2.5373 | <b>Δt: -2.5373s</b><br>Tm: 2.3373s | Tb: 0.0000s<br>Línea: L2-3 | Falla: 10<br>Estado: Descoordinado<extra></extra>",
          "<b>R9-R71</b><br>Índice Plot: 2<br>MT: -2.2012 | <b>Δt: -2.2012s</b><br>Tm: 2.0012s | Tb: 0.0000s<br>Línea: L9-10 | Falla: 10<br>Estado: Descoordinado<extra></extra>",
          "<b>R9-R8</b><br>Índice Plot: 3<br>MT: -2.2012 | <b>Δt: -2.2012s</b><br>Tm: 2.0012s | Tb: 0.0000s<br>Línea: L9-10 | Falla: 10<br>Estado: Descoordinado<extra></extra>",
          "<b>R45-R46</b><br>Índice Plot: 4<br>MT: -2.1929 | <b>Δt: -2.1929s</b><br>Tm: 1.9929s | Tb: 0.0000s<br>Línea: L8-9 | Falla: 90<br>Estado: Descoordinado<extra></extra>",
          "<b>R45-R71</b><br>Índice Plot: 5<br>MT: -2.1929 | <b>Δt: -2.1929s</b><br>Tm: 1.9929s | Tb: 0.0000s<br>Línea: L8-9 | Falla: 90<br>Estado: Descoordinado<extra></extra>",
          "<b>R34-R46</b><br>Índice Plot: 6<br>MT: -2.1749 | <b>Δt: -2.1749s</b><br>Tm: 1.9749s | Tb: 0.0000s<br>Línea: L9-15 | Falla: 10<br>Estado: Descoordinado<extra></extra>",
          "<b>R34-R8</b><br>Índice Plot: 7<br>MT: -2.1749 | <b>Δt: -2.1749s</b><br>Tm: 1.9749s | Tb: 0.0000s<br>Línea: L9-15 | Falla: 10<br>Estado: Descoordinado<extra></extra>",
          "<b>R18-R1</b><br>Índice Plot: 8<br>MT: -1.6979 | <b>Δt: -1.6979s</b><br>Tm: 1.4979s | Tb: 0.0000s<br>Línea: L2-19 | Falla: 10<br>Estado: Descoordinado<extra></extra>",
          "<b>R10-R9</b><br>Índice Plot: 9<br>MT: -0.2000 | <b>Δt: -0.2000s</b><br>Tm: 2.2596s | Tb: 2.2596s<br>Línea: L10-11 | Falla: 10<br>Estado: Descoordinado<extra></extra>",
          "<b>R47-R48</b><br>Índice Plot: 10<br>MT: -0.2000 | <b>Δt: -0.2000s</b><br>Tm: 3.2968s | Tb: 3.2968s<br>Línea: L10-11 | Falla: 90<br>Estado: Descoordinado<extra></extra>",
          "<b>R11-R10</b><br>Índice Plot: 11<br>MT: -0.2000 | <b>Δt: -0.2000s</b><br>Tm: 2.3080s | Tb: 2.3080s<br>Línea: L11-12 | Falla: 10<br>Estado: Descoordinado<extra></extra>",
          "<b>R43-R44</b><br>Índice Plot: 12<br>MT: -0.2000 | <b>Δt: -0.2000s</b><br>Tm: 2.2370s | Tb: 2.2370s<br>Línea: L6-7 | Falla: 90<br>Estado: Descoordinado<extra></extra>",
          "<b>R26-R25</b><br>Índice Plot: 13<br>MT: -0.1774 | <b>Δt: -0.1774s</b><br>Tm: 2.2144s | Tb: 2.2370s<br>Línea: L26-27 | Falla: 10<br>Estado: Descoordinado<extra></extra>",
          "<b>R46-R47</b><br>Índice Plot: 14<br>MT: -0.1630 | <b>Δt: -0.1630s</b><br>Tm: 3.6644s | Tb: 3.7014s<br>Línea: L9-10 | Falla: 90<br>Estado: Descoordinado<extra></extra>",
          "<b>R16-R15</b><br>Índice Plot: 15<br>MT: -0.1063 | <b>Δt: -0.1063s</b><br>Tm: 2.2496s | Tb: 2.3433s<br>Línea: L16-17 | Falla: 10<br>Estado: Descoordinado<extra></extra>",
          "<b>R44-R45</b><br>Índice Plot: 16<br>MT: -0.0975 | <b>Δt: -0.0975s</b><br>Tm: 2.1063s | Tb: 2.2088s<br>Línea: L7-8 | Falla: 90<br>Estado: Descoordinado<extra></extra>",
          "<b>R42-R43</b><br>Índice Plot: 17<br>MT: -0.0752 | <b>Δt: -0.0752s</b><br>Tm: 2.2525s | Tb: 2.3773s<br>Línea: L5-6 | Falla: 90<br>Estado: Descoordinado<extra></extra>",
          "<b>R41-R42</b><br>Índice Plot: 18<br>MT: -0.0716 | <b>Δt: -0.0716s</b><br>Tm: 2.4148s | Tb: 2.5432s<br>Línea: L4-5 | Falla: 90<br>Estado: Descoordinado<extra></extra>",
          "<b>R38-R39</b><br>Índice Plot: 19<br>MT: -0.0650 | <b>Δt: -0.0650s</b><br>Tm: 1.6257s | Tb: 1.7607s<br>Línea: L1-2 | Falla: 90<br>Estado: Descoordinado<extra></extra>",
          "<b>R17-R16</b><br>Índice Plot: 20<br>MT: -0.0414 | <b>Δt: -0.0414s</b><br>Tm: 2.3792s | Tb: 2.5378s<br>Línea: L17-18 | Falla: 10<br>Estado: Descoordinado<extra></extra>",
          "<b>R25-R43</b><br>Índice Plot: 21<br>MT: -0.0263 | <b>Δt: -0.0263s</b><br>Tm: 2.1936s | Tb: 2.3673s<br>Línea: L6-26 | Falla: 10<br>Estado: Descoordinado<extra></extra>",
          "<b>R12-R11</b><br>Índice Plot: 22<br>MT: -0.0233 | <b>Δt: -0.0233s</b><br>Tm: 2.2674s | Tb: 2.4441s<br>Línea: L12-13 | Falla: 10<br>Estado: Descoordinado<extra></extra>",
          "<b>R27-R26</b><br>Índice Plot: 23<br>MT: -0.0118 | <b>Δt: -0.0118s</b><br>Tm: 2.1173s | Tb: 2.3055s<br>Línea: L27-28 | Falla: 10<br>Estado: Descoordinado<extra></extra>",
          "<b>R13-R12</b><br>Índice Plot: 24<br>MT: -0.0102 | <b>Δt: -0.0102s</b><br>Tm: 2.5211s | Tb: 2.7109s<br>Línea: L13-14 | Falla: 10<br>Estado: Descoordinado<extra></extra>",
          "<b>R14-R13</b><br>Índice Plot: 25<br>MT: -0.0074 | <b>Δt: -0.0074s</b><br>Tm: 2.6211s | Tb: 2.8137s<br>Línea: L14-15 | Falla: 10<br>Estado: Descoordinado<extra></extra>",
          "<b>R39-R59</b><br>Índice Plot: 26<br>MT: 0.0000 | <b>Δt: 0.1558s</b><br>Tm: 1.6770s | Tb: 2.0328s<br>Línea: L2-3 | Falla: 90<br>Estado: Coordinado<extra></extra>",
          "<b>R39-R40</b><br>Índice Plot: 27<br>MT: 0.0000 | <b>Δt: 0.6047s</b><br>Tm: 1.6770s | Tb: 2.4817s<br>Línea: L2-3 | Falla: 90<br>Estado: Coordinado<extra></extra>",
          "<b>R2-R55</b><br>Índice Plot: 28<br>MT: 0.0000 | <b>Δt: 0.0181s</b><br>Tm: 2.3373s | Tb: 2.5554s<br>Línea: L2-3 | Falla: 10<br>Estado: Coordinado<extra></extra>",
          "<b>R15-R14</b><br>Índice Plot: 29<br>MT: 0.0000 | <b>Δt: 0.6098s</b><br>Tm: 2.2020s | Tb: 3.0118s<br>Línea: L15-16 | Falla: 10<br>Estado: Coordinado<extra></extra>",
          "<b>R38-R55</b><br>Índice Plot: 30<br>MT: 0.0000 | <b>Δt: 0.7038s</b><br>Tm: 1.6257s | Tb: 2.5295s<br>Línea: L1-2 | Falla: 90<br>Estado: Coordinado<extra></extra>",
          "<b>R48-R49</b><br>Índice Plot: 31<br>MT: 0.0000 | <b>Δt: 0.0093s</b><br>Tm: 3.0255s | Tb: 3.2348s<br>Línea: L11-12 | Falla: 90<br>Estado: Coordinado<extra></extra>",
          "<b>R48-R72</b><br>Índice Plot: 32<br>MT: 0.0000 | <b>Δt: 0.0440s</b><br>Tm: 3.0255s | Tb: 3.2695s<br>Línea: L11-12 | Falla: 90<br>Estado: Coordinado<extra></extra>",
          "<b>R49-R50</b><br>Índice Plot: 33<br>MT: 0.0000 | <b>Δt: 0.0850s</b><br>Tm: 2.3083s | Tb: 2.5933s<br>Línea: L12-13 | Falla: 90<br>Estado: Coordinado<extra></extra>",
          "<b>R74-R28</b><br>Índice Plot: 34<br>MT: 0.0000 | <b>Δt: 0.6534s</b><br>Tm: 1.7020s | Tb: 2.5554s<br>Línea: L25-29 | Falla: 90<br>Estado: Coordinado<extra></extra>",
          "<b>R50-R51</b><br>Índice Plot: 35<br>MT: 0.0000 | <b>Δt: 0.0055s</b><br>Tm: 2.3377s | Tb: 2.5432s<br>Línea: L13-14 | Falla: 90<br>Estado: Coordinado<extra></extra>",
          "<b>R51-R52</b><br>Índice Plot: 36<br>MT: 0.0000 | <b>Δt: 0.3383s</b><br>Tm: 2.3574s | Tb: 2.8957s<br>Línea: L14-15 | Falla: 90<br>Estado: Coordinado<extra></extra>",
          "<b>R51-R34</b><br>Índice Plot: 37<br>MT: 0.0000 | <b>Δt: 0.0068s</b><br>Tm: 2.3574s | Tb: 2.5642s<br>Línea: L14-15 | Falla: 90<br>Estado: Coordinado<extra></extra>",
          "<b>R15-R34</b><br>Índice Plot: 38<br>MT: 0.0000 | <b>Δt: 0.1622s</b><br>Tm: 2.2020s | Tb: 2.5642s<br>Línea: L15-16 | Falla: 10<br>Estado: Coordinado<extra></extra>",
          "<b>R55-R56</b><br>Índice Plot: 39<br>MT: 0.0000 | <b>Δt: 0.0098s</b><br>Tm: 2.4580s | Tb: 2.6678s<br>Línea: L2-19 | Falla: 90<br>Estado: Coordinado<extra></extra>",
          "<b>R52-R53</b><br>Índice Plot: 40<br>MT: 0.0000 | <b>Δt: 0.0388s</b><br>Tm: 2.0691s | Tb: 2.3079s<br>Línea: L15-16 | Falla: 90<br>Estado: Coordinado<extra></extra>",
          "<b>R12-R72</b><br>Índice Plot: 41<br>MT: 0.0000 | <b>Δt: 0.9188s</b><br>Tm: 2.2674s | Tb: 3.3862s<br>Línea: L12-13 | Falla: 10<br>Estado: Coordinado<extra></extra>",
          "<b>R37-R24</b><br>Índice Plot: 42<br>MT: 0.0000 | <b>Δt: 0.0254s</b><br>Tm: 2.2537s | Tb: 2.4791s<br>Línea: L25-29 | Falla: 10<br>Estado: Coordinado<extra></extra>",
          "<b>R58-R35</b><br>Índice Plot: 43<br>MT: 0.0000 | <b>Δt: 0.0828s</b><br>Tm: 2.2341s | Tb: 2.5169s<br>Línea: L21-22 | Falla: 90<br>Estado: Coordinado<extra></extra>",
          "<b>R24-R23</b><br>Índice Plot: 44<br>MT: 0.0000 | <b>Δt: 0.0508s</b><br>Tm: 2.1456s | Tb: 2.3964s<br>Línea: L24-25 | Falla: 10<br>Estado: Coordinado<extra></extra>",
          "<b>R20-R19</b><br>Índice Plot: 45<br>MT: 0.0000 | <b>Δt: 0.0547s</b><br>Tm: 1.5288s | Tb: 1.7835s<br>Línea: L20-21 | Falla: 10<br>Estado: Coordinado<extra></extra>",
          "<b>R57-R58</b><br>Índice Plot: 46<br>MT: 0.0000 | <b>Δt: 0.0093s</b><br>Tm: 2.3342s | Tb: 2.5435s<br>Línea: L20-21 | Falla: 90<br>Estado: Coordinado<extra></extra>",
          "<b>R57-R33</b><br>Índice Plot: 47<br>MT: 0.0000 | <b>Δt: 0.0502s</b><br>Tm: 2.3342s | Tb: 2.5844s<br>Línea: L20-21 | Falla: 90<br>Estado: Coordinado<extra></extra>",
          "<b>R21-R20</b><br>Índice Plot: 48<br>MT: 0.0000 | <b>Δt: 0.5661s</b><br>Tm: 1.0314s | Tb: 1.7975s<br>Línea: L21-22 | Falla: 10<br>Estado: Coordinado<extra></extra>",
          "<b>R21-R33</b><br>Índice Plot: 49<br>MT: 0.0000 | <b>Δt: 1.3530s</b><br>Tm: 1.0314s | Tb: 2.5844s<br>Línea: L21-22 | Falla: 10<br>Estado: Coordinado<extra></extra>",
          "<b>R53-R54</b><br>Índice Plot: 50<br>MT: 0.0000 | <b>Δt: 0.0150s</b><br>Tm: 1.7194s | Tb: 1.9344s<br>Línea: L16-17 | Falla: 90<br>Estado: Coordinado<extra></extra>",
          "<b>R33-R7</b><br>Índice Plot: 51<br>MT: 0.0000 | <b>Δt: 4.6370s</b><br>Tm: 1.8929s | Tb: 6.7299s<br>Línea: L8-21 | Falla: 10<br>Estado: Coordinado<extra></extra>",
          "<b>R33-R45</b><br>Índice Plot: 52<br>MT: 0.0000 | <b>Δt: 0.1516s</b><br>Tm: 1.8929s | Tb: 2.2445s<br>Línea: L8-21 | Falla: 10<br>Estado: Coordinado<extra></extra>",
          "<b>R70-R58</b><br>Índice Plot: 53<br>MT: 0.0000 | <b>Δt: 0.7407s</b><br>Tm: 1.6965s | Tb: 2.6372s<br>Línea: L8-21 | Falla: 90<br>Estado: Coordinado<extra></extra>",
          "<b>R70-R20</b><br>Índice Plot: 54<br>MT: 0.0000 | <b>Δt: 0.0008s</b><br>Tm: 1.6965s | Tb: 1.8973s<br>Línea: L8-21 | Falla: 90<br>Estado: Coordinado<extra></extra>",
          "<b>R72-R21</b><br>Índice Plot: 55<br>MT: 0.0000 | <b>Δt: 0.0384s</b><br>Tm: 1.5163s | Tb: 1.7547s<br>Línea: L12-22 | Falla: 10<br>Estado: Coordinado<extra></extra>",
          "<b>R35-R11</b><br>Índice Plot: 56<br>MT: 0.0000 | <b>Δt: 0.2692s</b><br>Tm: 2.5563s | Tb: 3.0255s<br>Línea: L12-22 | Falla: 90<br>Estado: Coordinado<extra></extra>",
          "<b>R35-R49</b><br>Índice Plot: 57<br>MT: 0.0000 | <b>Δt: 2.6941s</b><br>Tm: 2.5563s | Tb: 5.4504s<br>Línea: L12-22 | Falla: 90<br>Estado: Coordinado<extra></extra>",
          "<b>R23-R22</b><br>Índice Plot: 58<br>MT: 0.0000 | <b>Δt: 0.0479s</b><br>Tm: 2.1316s | Tb: 2.3795s<br>Línea: L23-24 | Falla: 10<br>Estado: Coordinado<extra></extra>",
          "<b>R60-R61</b><br>Índice Plot: 59<br>MT: 0.0000 | <b>Δt: 0.0493s</b><br>Tm: 1.5893s | Tb: 1.8386s<br>Línea: L23-24 | Falla: 90<br>Estado: Coordinado<extra></extra>",
          "<b>R71-R14</b><br>Índice Plot: 60<br>MT: 0.0000 | <b>Δt: 0.0868s</b><br>Tm: 2.8666s | Tb: 3.1534s<br>Línea: L9-15 | Falla: 90<br>Estado: Coordinado<extra></extra>",
          "<b>R54-R73</b><br>Índice Plot: 61<br>MT: 0.0000 | <b>Δt: 0.0576s</b><br>Tm: 1.7386s | Tb: 1.9962s<br>Línea: L17-18 | Falla: 90<br>Estado: Coordinado<extra></extra>",
          "<b>R8-R7</b><br>Índice Plot: 62<br>MT: 0.0000 | <b>Δt: 0.0257s</b><br>Tm: 4.2797s | Tb: 4.5054s<br>Línea: L8-9 | Falla: 10<br>Estado: Coordinado<extra></extra>",
          "<b>R73-R32</b><br>Índice Plot: 63<br>MT: 0.0000 | <b>Δt: 0.0138s</b><br>Tm: 1.8938s | Tb: 2.1076s<br>Línea: L18-33 | Falla: 90<br>Estado: Coordinado<extra></extra>",
          "<b>R67-R68</b><br>Índice Plot: 64<br>MT: 0.0000 | <b>Δt: 0.0547s</b><br>Tm: 1.8465s | Tb: 2.1012s<br>Línea: L30-31 | Falla: 90<br>Estado: Coordinado<extra></extra>",
          "<b>R40-R41</b><br>Índice Plot: 65<br>MT: 0.0000 | <b>Δt: 0.0456s</b><br>Tm: 2.3196s | Tb: 2.5652s<br>Línea: L3-4 | Falla: 90<br>Estado: Coordinado<extra></extra>",
          "<b>R3-R59</b><br>Índice Plot: 66<br>MT: 0.0000 | <b>Δt: 0.0590s</b><br>Tm: 1.7738s | Tb: 2.0328s<br>Línea: L3-4 | Falla: 10<br>Estado: Coordinado<extra></extra>",
          "<b>R3-R2</b><br>Índice Plot: 67<br>MT: 0.0000 | <b>Δt: 0.5626s</b><br>Tm: 1.7738s | Tb: 2.5364s<br>Línea: L3-4 | Falla: 10<br>Estado: Coordinado<extra></extra>",
          "<b>R59-R60</b><br>Índice Plot: 68<br>MT: 0.0000 | <b>Δt: 0.0303s</b><br>Tm: 1.7267s | Tb: 1.9570s<br>Línea: L3-23 | Falla: 90<br>Estado: Coordinado<extra></extra>",
          "<b>R22-R40</b><br>Índice Plot: 69<br>MT: 0.0000 | <b>Δt: 0.0233s</b><br>Tm: 2.2584s | Tb: 2.4817s<br>Línea: L3-23 | Falla: 10<br>Estado: Coordinado<extra></extra>",
          "<b>R22-R2</b><br>Índice Plot: 70<br>MT: 0.0000 | <b>Δt: 0.0780s</b><br>Tm: 2.2584s | Tb: 2.5364s<br>Línea: L3-23 | Falla: 10<br>Estado: Coordinado<extra></extra>",
          "<b>R66-R67</b><br>Índice Plot: 71<br>MT: 0.0000 | <b>Δt: 0.0507s</b><br>Tm: 1.8269s | Tb: 2.0776s<br>Línea: L29-30 | Falla: 90<br>Estado: Coordinado<extra></extra>",
          "<b>R29-R37</b><br>Índice Plot: 72<br>MT: 0.0000 | <b>Δt: 0.0537s</b><br>Tm: 2.2942s | Tb: 2.5479s<br>Línea: L29-30 | Falla: 10<br>Estado: Coordinado<extra></extra>",
          "<b>R29-R28</b><br>Índice Plot: 73<br>MT: 0.0000 | <b>Δt: 0.0353s</b><br>Tm: 2.2942s | Tb: 2.5295s<br>Línea: L29-30 | Falla: 10<br>Estado: Coordinado<extra></extra>",
          "<b>R65-R66</b><br>Índice Plot: 74<br>MT: 0.0000 | <b>Δt: 0.2389s</b><br>Tm: 1.5181s | Tb: 1.9570s<br>Línea: L28-29 | Falla: 90<br>Estado: Coordinado<extra></extra>",
          "<b>R65-R37</b><br>Índice Plot: 75<br>MT: 0.0000 | <b>Δt: 0.8729s</b><br>Tm: 1.5181s | Tb: 2.5910s<br>Línea: L28-29 | Falla: 90<br>Estado: Coordinado<extra></extra>",
          "<b>R28-R27</b><br>Índice Plot: 76<br>MT: 0.0000 | <b>Δt: 0.0169s</b><br>Tm: 2.2229s | Tb: 2.4398s<br>Línea: L28-29 | Falla: 10<br>Estado: Coordinado<extra></extra>",
          "<b>R64-R65</b><br>Índice Plot: 77<br>MT: 0.0000 | <b>Δt: 0.0205s</b><br>Tm: 1.5431s | Tb: 1.7636s<br>Línea: L27-28 | Falla: 90<br>Estado: Coordinado<extra></extra>",
          "<b>R6-R5</b><br>Índice Plot: 78<br>MT: 0.0000 | <b>Δt: 0.1345s</b><br>Tm: 2.1554s | Tb: 2.4899s<br>Línea: L6-7 | Falla: 10<br>Estado: Coordinado<extra></extra>",
          "<b>R6-R62</b><br>Índice Plot: 79<br>MT: 0.0000 | <b>Δt: 0.1654s</b><br>Tm: 2.1554s | Tb: 2.5208s<br>Línea: L6-7 | Falla: 10<br>Estado: Coordinado<extra></extra>",
          "<b>R31-R30</b><br>Índice Plot: 80<br>MT: 0.0000 | <b>Δt: 0.0245s</b><br>Tm: 2.1614s | Tb: 2.3859s<br>Línea: L31-32 | Falla: 10<br>Estado: Coordinado<extra></extra>",
          "<b>R68-R69</b><br>Índice Plot: 81<br>MT: 0.0000 | <b>Δt: 0.0444s</b><br>Tm: 2.0160s | Tb: 2.2604s<br>Línea: L31-32 | Falla: 90<br>Estado: Coordinado<extra></extra>",
          "<b>R32-R31</b><br>Índice Plot: 82<br>MT: 0.0000 | <b>Δt: 0.0317s</b><br>Tm: 1.9979s | Tb: 2.2296s<br>Línea: L32-33 | Falla: 10<br>Estado: Coordinado<extra></extra>",
          "<b>R19-R18</b><br>Índice Plot: 83<br>MT: 0.0000 | <b>Δt: 0.0198s</b><br>Tm: 1.3463s | Tb: 1.5661s<br>Línea: L19-20 | Falla: 10<br>Estado: Coordinado<extra></extra>",
          "<b>R56-R57</b><br>Índice Plot: 84<br>MT: 0.0000 | <b>Δt: 0.0739s</b><br>Tm: 2.2167s | Tb: 2.4906s<br>Línea: L19-20 | Falla: 90<br>Estado: Coordinado<extra></extra>",
          "<b>R18-R39</b><br>Índice Plot: 85<br>MT: 0.0000 | <b>Δt: 0.0628s</b><br>Tm: 1.4979s | Tb: 1.7607s<br>Línea: L2-19 | Falla: 10<br>Estado: Coordinado<extra></extra>",
          "<b>R74-R66</b><br>Índice Plot: 86<br>MT: 0.0000 | <b>Δt: 0.0550s</b><br>Tm: 1.7020s | Tb: 1.9570s<br>Línea: L25-29 | Falla: 90<br>Estado: Coordinado<extra></extra>",
          "<b>R61-R74</b><br>Índice Plot: 87<br>MT: 0.0000 | <b>Δt: 0.0440s</b><br>Tm: 1.5994s | Tb: 1.8434s<br>Línea: L24-25 | Falla: 90<br>Estado: Coordinado<extra></extra>",
          "<b>R25-R5</b><br>Índice Plot: 88<br>MT: 0.0000 | <b>Δt: 0.0104s</b><br>Tm: 2.1936s | Tb: 2.4040s<br>Línea: L6-26 | Falla: 10<br>Estado: Coordinado<extra></extra>",
          "<b>R30-R29</b><br>Índice Plot: 89<br>MT: 0.0000 | <b>Δt: 0.0055s</b><br>Tm: 2.1836s | Tb: 2.3891s<br>Línea: L30-31 | Falla: 10<br>Estado: Coordinado<extra></extra>",
          "<b>R36-R17</b><br>Índice Plot: 90<br>MT: 0.0000 | <b>Δt: 0.0246s</b><br>Tm: 2.3017s | Tb: 2.5263s<br>Línea: L18-33 | Falla: 10<br>Estado: Coordinado<extra></extra>",
          "<b>R62-R63</b><br>Índice Plot: 91<br>MT: 0.0000 | <b>Δt: 0.0070s</b><br>Tm: 2.0695s | Tb: 2.2765s<br>Línea: L6-26 | Falla: 90<br>Estado: Coordinado<extra></extra>",
          "<b>R44-R70</b><br>Índice Plot: 92<br>MT: 0.0000 | <b>Δt: 2.2348s</b><br>Tm: 2.1063s | Tb: 4.5411s<br>Línea: L7-8 | Falla: 90<br>Estado: Coordinado<extra></extra>",
          "<b>R63-R64</b><br>Índice Plot: 93<br>MT: 0.0000 | <b>Δt: 0.0196s</b><br>Tm: 1.9329s | Tb: 2.1525s<br>Línea: L26-27 | Falla: 90<br>Estado: Coordinado<extra></extra>",
          "<b>R42-R62</b><br>Índice Plot: 94<br>MT: 0.0000 | <b>Δt: 0.2390s</b><br>Tm: 2.2525s | Tb: 2.6915s<br>Línea: L5-6 | Falla: 90<br>Estado: Coordinado<extra></extra>",
          "<b>R8-R70</b><br>Índice Plot: 95<br>MT: 0.0000 | <b>Δt: 0.0614s</b><br>Tm: 4.2797s | Tb: 4.5411s<br>Línea: L8-9 | Falla: 10<br>Estado: Coordinado<extra></extra>",
          "<b>R5-R4</b><br>Índice Plot: 96<br>MT: 0.0000 | <b>Δt: 0.0254s</b><br>Tm: 1.6098s | Tb: 1.8352s<br>Línea: L5-6 | Falla: 10<br>Estado: Coordinado<extra></extra>",
          "<b>R4-R3</b><br>Índice Plot: 97<br>MT: 0.0000 | <b>Δt: 0.0336s</b><br>Tm: 1.6642s | Tb: 1.8978s<br>Línea: L4-5 | Falla: 10<br>Estado: Coordinado<extra></extra>",
          "<b>R69-R36</b><br>Índice Plot: 98<br>MT: 0.0000 | <b>Δt: 0.0335s</b><br>Tm: 2.1606s | Tb: 2.3941s<br>Línea: L32-33 | Falla: 90<br>Estado: Coordinado<extra></extra>",
          "<b>R7-R6</b><br>Índice Plot: 99<br>MT: 0.0000 | <b>Δt: 0.0153s</b><br>Tm: 2.3740s | Tb: 2.5893s<br>Línea: L7-8 | Falla: 10<br>Estado: Coordinado<extra></extra>",
          "<b>R71-R52</b><br>Índice Plot: 100<br>MT: 0.0000 | <b>Δt: 0.0560s</b><br>Tm: 2.8666s | Tb: 3.1226s<br>Línea: L9-15 | Falla: 90<br>Estado: Coordinado<extra></extra>"
         ],
         "type": "bar",
         "x": [
          1,
          2,
          3,
          4,
          5,
          6,
          7,
          8,
          9,
          10,
          11,
          12,
          13,
          14,
          15,
          16,
          17,
          18,
          19,
          20,
          21,
          22,
          23,
          24,
          25,
          26,
          27,
          28,
          29,
          30,
          31,
          32,
          33,
          34,
          35,
          36,
          37,
          38,
          39,
          40,
          41,
          42,
          43,
          44,
          45,
          46,
          47,
          48,
          49,
          50,
          51,
          52,
          53,
          54,
          55,
          56,
          57,
          58,
          59,
          60,
          61,
          62,
          63,
          64,
          65,
          66,
          67,
          68,
          69,
          70,
          71,
          72,
          73,
          74,
          75,
          76,
          77,
          78,
          79,
          80,
          81,
          82,
          83,
          84,
          85,
          86,
          87,
          88,
          89,
          90,
          91,
          92,
          93,
          94,
          95,
          96,
          97,
          98,
          99,
          100
         ],
         "y": [
          -2.5373,
          -2.2012,
          -2.2012,
          -2.1929,
          -2.1929,
          -2.1749,
          -2.1749,
          -1.6979,
          -0.2,
          -0.2,
          -0.2,
          -0.2,
          -0.17739999999999984,
          -0.1630000000000001,
          -0.1062999999999999,
          -0.09749999999999998,
          -0.07519999999999999,
          -0.07159999999999994,
          -0.065,
          -0.04140000000000016,
          -0.026299999999999824,
          -0.02329999999999971,
          -0.01180000000000031,
          -0.010200000000000042,
          -0.007400000000000351,
          0,
          0,
          0,
          0,
          0,
          0,
          0,
          0,
          0,
          0,
          0,
          0,
          0,
          0,
          0,
          0,
          0,
          0,
          0,
          0,
          0,
          0,
          0,
          0,
          0,
          0,
          0,
          0,
          0,
          0,
          0,
          0,
          0,
          0,
          0,
          0,
          0,
          0,
          0,
          0,
          0,
          0,
          0,
          0,
          0,
          0,
          0,
          0,
          0,
          0,
          0,
          0,
          0,
          0,
          0,
          0,
          0,
          0,
          0,
          0,
          0,
          0,
          0,
          0,
          0,
          0,
          0,
          0,
          0,
          0,
          0,
          0,
          0,
          0,
          0
         ]
        }
       ],
       "layout": {
        "bargap": 0.1,
        "height": 900,
        "margin": {
         "b": 100,
         "l": 60,
         "r": 30,
         "t": 100
        },
        "shapes": [
         {
          "line": {
           "color": "black",
           "dash": "dash",
           "width": 1.5
          },
          "type": "line",
          "x0": 0,
          "x1": 1,
          "xref": "x domain",
          "y0": 0,
          "y1": 0,
          "yref": "y"
         }
        ],
        "template": {
         "data": {
          "bar": [
           {
            "error_x": {
             "color": "#2a3f5f"
            },
            "error_y": {
             "color": "#2a3f5f"
            },
            "marker": {
             "line": {
              "color": "white",
              "width": 0.5
             },
             "pattern": {
              "fillmode": "overlay",
              "size": 10,
              "solidity": 0.2
             }
            },
            "type": "bar"
           }
          ],
          "barpolar": [
           {
            "marker": {
             "line": {
              "color": "white",
              "width": 0.5
             },
             "pattern": {
              "fillmode": "overlay",
              "size": 10,
              "solidity": 0.2
             }
            },
            "type": "barpolar"
           }
          ],
          "carpet": [
           {
            "aaxis": {
             "endlinecolor": "#2a3f5f",
             "gridcolor": "#C8D4E3",
             "linecolor": "#C8D4E3",
             "minorgridcolor": "#C8D4E3",
             "startlinecolor": "#2a3f5f"
            },
            "baxis": {
             "endlinecolor": "#2a3f5f",
             "gridcolor": "#C8D4E3",
             "linecolor": "#C8D4E3",
             "minorgridcolor": "#C8D4E3",
             "startlinecolor": "#2a3f5f"
            },
            "type": "carpet"
           }
          ],
          "choropleth": [
           {
            "colorbar": {
             "outlinewidth": 0,
             "ticks": ""
            },
            "type": "choropleth"
           }
          ],
          "contour": [
           {
            "colorbar": {
             "outlinewidth": 0,
             "ticks": ""
            },
            "colorscale": [
             [
              0,
              "#0d0887"
             ],
             [
              0.1111111111111111,
              "#46039f"
             ],
             [
              0.2222222222222222,
              "#7201a8"
             ],
             [
              0.3333333333333333,
              "#9c179e"
             ],
             [
              0.4444444444444444,
              "#bd3786"
             ],
             [
              0.5555555555555556,
              "#d8576b"
             ],
             [
              0.6666666666666666,
              "#ed7953"
             ],
             [
              0.7777777777777778,
              "#fb9f3a"
             ],
             [
              0.8888888888888888,
              "#fdca26"
             ],
             [
              1,
              "#f0f921"
             ]
            ],
            "type": "contour"
           }
          ],
          "contourcarpet": [
           {
            "colorbar": {
             "outlinewidth": 0,
             "ticks": ""
            },
            "type": "contourcarpet"
           }
          ],
          "heatmap": [
           {
            "colorbar": {
             "outlinewidth": 0,
             "ticks": ""
            },
            "colorscale": [
             [
              0,
              "#0d0887"
             ],
             [
              0.1111111111111111,
              "#46039f"
             ],
             [
              0.2222222222222222,
              "#7201a8"
             ],
             [
              0.3333333333333333,
              "#9c179e"
             ],
             [
              0.4444444444444444,
              "#bd3786"
             ],
             [
              0.5555555555555556,
              "#d8576b"
             ],
             [
              0.6666666666666666,
              "#ed7953"
             ],
             [
              0.7777777777777778,
              "#fb9f3a"
             ],
             [
              0.8888888888888888,
              "#fdca26"
             ],
             [
              1,
              "#f0f921"
             ]
            ],
            "type": "heatmap"
           }
          ],
          "heatmapgl": [
           {
            "colorbar": {
             "outlinewidth": 0,
             "ticks": ""
            },
            "colorscale": [
             [
              0,
              "#0d0887"
             ],
             [
              0.1111111111111111,
              "#46039f"
             ],
             [
              0.2222222222222222,
              "#7201a8"
             ],
             [
              0.3333333333333333,
              "#9c179e"
             ],
             [
              0.4444444444444444,
              "#bd3786"
             ],
             [
              0.5555555555555556,
              "#d8576b"
             ],
             [
              0.6666666666666666,
              "#ed7953"
             ],
             [
              0.7777777777777778,
              "#fb9f3a"
             ],
             [
              0.8888888888888888,
              "#fdca26"
             ],
             [
              1,
              "#f0f921"
             ]
            ],
            "type": "heatmapgl"
           }
          ],
          "histogram": [
           {
            "marker": {
             "pattern": {
              "fillmode": "overlay",
              "size": 10,
              "solidity": 0.2
             }
            },
            "type": "histogram"
           }
          ],
          "histogram2d": [
           {
            "colorbar": {
             "outlinewidth": 0,
             "ticks": ""
            },
            "colorscale": [
             [
              0,
              "#0d0887"
             ],
             [
              0.1111111111111111,
              "#46039f"
             ],
             [
              0.2222222222222222,
              "#7201a8"
             ],
             [
              0.3333333333333333,
              "#9c179e"
             ],
             [
              0.4444444444444444,
              "#bd3786"
             ],
             [
              0.5555555555555556,
              "#d8576b"
             ],
             [
              0.6666666666666666,
              "#ed7953"
             ],
             [
              0.7777777777777778,
              "#fb9f3a"
             ],
             [
              0.8888888888888888,
              "#fdca26"
             ],
             [
              1,
              "#f0f921"
             ]
            ],
            "type": "histogram2d"
           }
          ],
          "histogram2dcontour": [
           {
            "colorbar": {
             "outlinewidth": 0,
             "ticks": ""
            },
            "colorscale": [
             [
              0,
              "#0d0887"
             ],
             [
              0.1111111111111111,
              "#46039f"
             ],
             [
              0.2222222222222222,
              "#7201a8"
             ],
             [
              0.3333333333333333,
              "#9c179e"
             ],
             [
              0.4444444444444444,
              "#bd3786"
             ],
             [
              0.5555555555555556,
              "#d8576b"
             ],
             [
              0.6666666666666666,
              "#ed7953"
             ],
             [
              0.7777777777777778,
              "#fb9f3a"
             ],
             [
              0.8888888888888888,
              "#fdca26"
             ],
             [
              1,
              "#f0f921"
             ]
            ],
            "type": "histogram2dcontour"
           }
          ],
          "mesh3d": [
           {
            "colorbar": {
             "outlinewidth": 0,
             "ticks": ""
            },
            "type": "mesh3d"
           }
          ],
          "parcoords": [
           {
            "line": {
             "colorbar": {
              "outlinewidth": 0,
              "ticks": ""
             }
            },
            "type": "parcoords"
           }
          ],
          "pie": [
           {
            "automargin": true,
            "type": "pie"
           }
          ],
          "scatter": [
           {
            "fillpattern": {
             "fillmode": "overlay",
             "size": 10,
             "solidity": 0.2
            },
            "type": "scatter"
           }
          ],
          "scatter3d": [
           {
            "line": {
             "colorbar": {
              "outlinewidth": 0,
              "ticks": ""
             }
            },
            "marker": {
             "colorbar": {
              "outlinewidth": 0,
              "ticks": ""
             }
            },
            "type": "scatter3d"
           }
          ],
          "scattercarpet": [
           {
            "marker": {
             "colorbar": {
              "outlinewidth": 0,
              "ticks": ""
             }
            },
            "type": "scattercarpet"
           }
          ],
          "scattergeo": [
           {
            "marker": {
             "colorbar": {
              "outlinewidth": 0,
              "ticks": ""
             }
            },
            "type": "scattergeo"
           }
          ],
          "scattergl": [
           {
            "marker": {
             "colorbar": {
              "outlinewidth": 0,
              "ticks": ""
             }
            },
            "type": "scattergl"
           }
          ],
          "scattermapbox": [
           {
            "marker": {
             "colorbar": {
              "outlinewidth": 0,
              "ticks": ""
             }
            },
            "type": "scattermapbox"
           }
          ],
          "scatterpolar": [
           {
            "marker": {
             "colorbar": {
              "outlinewidth": 0,
              "ticks": ""
             }
            },
            "type": "scatterpolar"
           }
          ],
          "scatterpolargl": [
           {
            "marker": {
             "colorbar": {
              "outlinewidth": 0,
              "ticks": ""
             }
            },
            "type": "scatterpolargl"
           }
          ],
          "scatterternary": [
           {
            "marker": {
             "colorbar": {
              "outlinewidth": 0,
              "ticks": ""
             }
            },
            "type": "scatterternary"
           }
          ],
          "surface": [
           {
            "colorbar": {
             "outlinewidth": 0,
             "ticks": ""
            },
            "colorscale": [
             [
              0,
              "#0d0887"
             ],
             [
              0.1111111111111111,
              "#46039f"
             ],
             [
              0.2222222222222222,
              "#7201a8"
             ],
             [
              0.3333333333333333,
              "#9c179e"
             ],
             [
              0.4444444444444444,
              "#bd3786"
             ],
             [
              0.5555555555555556,
              "#d8576b"
             ],
             [
              0.6666666666666666,
              "#ed7953"
             ],
             [
              0.7777777777777778,
              "#fb9f3a"
             ],
             [
              0.8888888888888888,
              "#fdca26"
             ],
             [
              1,
              "#f0f921"
             ]
            ],
            "type": "surface"
           }
          ],
          "table": [
           {
            "cells": {
             "fill": {
              "color": "#EBF0F8"
             },
             "line": {
              "color": "white"
             }
            },
            "header": {
             "fill": {
              "color": "#C8D4E3"
             },
             "line": {
              "color": "white"
             }
            },
            "type": "table"
           }
          ]
         },
         "layout": {
          "annotationdefaults": {
           "arrowcolor": "#2a3f5f",
           "arrowhead": 0,
           "arrowwidth": 1
          },
          "autotypenumbers": "strict",
          "coloraxis": {
           "colorbar": {
            "outlinewidth": 0,
            "ticks": ""
           }
          },
          "colorscale": {
           "diverging": [
            [
             0,
             "#8e0152"
            ],
            [
             0.1,
             "#c51b7d"
            ],
            [
             0.2,
             "#de77ae"
            ],
            [
             0.3,
             "#f1b6da"
            ],
            [
             0.4,
             "#fde0ef"
            ],
            [
             0.5,
             "#f7f7f7"
            ],
            [
             0.6,
             "#e6f5d0"
            ],
            [
             0.7,
             "#b8e186"
            ],
            [
             0.8,
             "#7fbc41"
            ],
            [
             0.9,
             "#4d9221"
            ],
            [
             1,
             "#276419"
            ]
           ],
           "sequential": [
            [
             0,
             "#0d0887"
            ],
            [
             0.1111111111111111,
             "#46039f"
            ],
            [
             0.2222222222222222,
             "#7201a8"
            ],
            [
             0.3333333333333333,
             "#9c179e"
            ],
            [
             0.4444444444444444,
             "#bd3786"
            ],
            [
             0.5555555555555556,
             "#d8576b"
            ],
            [
             0.6666666666666666,
             "#ed7953"
            ],
            [
             0.7777777777777778,
             "#fb9f3a"
            ],
            [
             0.8888888888888888,
             "#fdca26"
            ],
            [
             1,
             "#f0f921"
            ]
           ],
           "sequentialminus": [
            [
             0,
             "#0d0887"
            ],
            [
             0.1111111111111111,
             "#46039f"
            ],
            [
             0.2222222222222222,
             "#7201a8"
            ],
            [
             0.3333333333333333,
             "#9c179e"
            ],
            [
             0.4444444444444444,
             "#bd3786"
            ],
            [
             0.5555555555555556,
             "#d8576b"
            ],
            [
             0.6666666666666666,
             "#ed7953"
            ],
            [
             0.7777777777777778,
             "#fb9f3a"
            ],
            [
             0.8888888888888888,
             "#fdca26"
            ],
            [
             1,
             "#f0f921"
            ]
           ]
          },
          "colorway": [
           "#636efa",
           "#EF553B",
           "#00cc96",
           "#ab63fa",
           "#FFA15A",
           "#19d3f3",
           "#FF6692",
           "#B6E880",
           "#FF97FF",
           "#FECB52"
          ],
          "font": {
           "color": "#2a3f5f"
          },
          "geo": {
           "bgcolor": "white",
           "lakecolor": "white",
           "landcolor": "white",
           "showlakes": true,
           "showland": true,
           "subunitcolor": "#C8D4E3"
          },
          "hoverlabel": {
           "align": "left"
          },
          "hovermode": "closest",
          "mapbox": {
           "style": "light"
          },
          "paper_bgcolor": "white",
          "plot_bgcolor": "white",
          "polar": {
           "angularaxis": {
            "gridcolor": "#EBF0F8",
            "linecolor": "#EBF0F8",
            "ticks": ""
           },
           "bgcolor": "white",
           "radialaxis": {
            "gridcolor": "#EBF0F8",
            "linecolor": "#EBF0F8",
            "ticks": ""
           }
          },
          "scene": {
           "xaxis": {
            "backgroundcolor": "white",
            "gridcolor": "#DFE8F3",
            "gridwidth": 2,
            "linecolor": "#EBF0F8",
            "showbackground": true,
            "ticks": "",
            "zerolinecolor": "#EBF0F8"
           },
           "yaxis": {
            "backgroundcolor": "white",
            "gridcolor": "#DFE8F3",
            "gridwidth": 2,
            "linecolor": "#EBF0F8",
            "showbackground": true,
            "ticks": "",
            "zerolinecolor": "#EBF0F8"
           },
           "zaxis": {
            "backgroundcolor": "white",
            "gridcolor": "#DFE8F3",
            "gridwidth": 2,
            "linecolor": "#EBF0F8",
            "showbackground": true,
            "ticks": "",
            "zerolinecolor": "#EBF0F8"
           }
          },
          "shapedefaults": {
           "line": {
            "color": "#2a3f5f"
           }
          },
          "ternary": {
           "aaxis": {
            "gridcolor": "#DFE8F3",
            "linecolor": "#A2B1C6",
            "ticks": ""
           },
           "baxis": {
            "gridcolor": "#DFE8F3",
            "linecolor": "#A2B1C6",
            "ticks": ""
           },
           "bgcolor": "white",
           "caxis": {
            "gridcolor": "#DFE8F3",
            "linecolor": "#A2B1C6",
            "ticks": ""
           }
          },
          "title": {
           "x": 0.05
          },
          "xaxis": {
           "automargin": true,
           "gridcolor": "#EBF0F8",
           "linecolor": "#EBF0F8",
           "ticks": "",
           "title": {
            "standoff": 15
           },
           "zerolinecolor": "#EBF0F8",
           "zerolinewidth": 2
          },
          "yaxis": {
           "automargin": true,
           "gridcolor": "#EBF0F8",
           "linecolor": "#EBF0F8",
           "ticks": "",
           "title": {
            "standoff": 15
           },
           "zerolinecolor": "#EBF0F8",
           "zerolinewidth": 2
          }
         }
        },
        "title": {
         "text": "Índice de Descoordinación (MT) - Escenario: scenario_3 Optimizado<br><sup>TMT = -19.0496 | Pares = 100</sup>"
        },
        "xaxis": {
         "tickmode": "auto",
         "title": {
          "text": "Índice del Par de Relés (Ordenado por MT Ascendente)"
         }
        },
        "yaxis": {
         "gridcolor": "lightgrey",
         "title": {
          "text": "Índice MT"
         },
         "zerolinecolor": "black",
         "zerolinewidth": 1.5
        }
       }
      }
     },
     "metadata": {},
     "output_type": "display_data"
    },
    {
     "name": "stdout",
     "output_type": "stream",
     "text": [
      "    Displaying delta_bar plot...\n"
     ]
    },
    {
     "data": {
      "application/vnd.plotly.v1+json": {
       "config": {
        "plotlyServerURL": "https://plot.ly"
       },
       "data": [
        {
         "hoverinfo": "text",
         "marker": {
          "color": [
           "red",
           "red",
           "red",
           "red",
           "red",
           "red",
           "red",
           "red",
           "red",
           "red",
           "red",
           "red",
           "red",
           "red",
           "red",
           "red",
           "red",
           "red",
           "red",
           "red",
           "red",
           "red",
           "red",
           "red",
           "red",
           "green",
           "green",
           "green",
           "green",
           "green",
           "green",
           "green",
           "green",
           "green",
           "green",
           "green",
           "green",
           "green",
           "green",
           "green",
           "green",
           "green",
           "green",
           "green",
           "green",
           "green",
           "green",
           "green",
           "green",
           "green",
           "green",
           "green",
           "green",
           "green",
           "green",
           "green",
           "green",
           "green",
           "green",
           "green",
           "green",
           "green",
           "green",
           "green",
           "green",
           "green",
           "green",
           "green",
           "green",
           "green",
           "green",
           "green",
           "green",
           "green",
           "green",
           "green",
           "green",
           "green",
           "green",
           "green",
           "green",
           "green",
           "green",
           "green",
           "green",
           "green",
           "green",
           "green",
           "green",
           "green",
           "green",
           "green",
           "green",
           "green",
           "green",
           "green",
           "green",
           "green",
           "green",
           "green"
          ]
         },
         "name": "Δt (Tb - Tm - CTI)",
         "text": [
          "<b>R2-R1</b><br>Índice Plot: 1<br>MT: -2.5373 | <b>Δt: -2.5373s</b><br>Tm: 2.3373s | Tb: 0.0000s<br>Línea: L2-3 | Falla: 10<br>Estado: Descoordinado<extra></extra>",
          "<b>R9-R71</b><br>Índice Plot: 2<br>MT: -2.2012 | <b>Δt: -2.2012s</b><br>Tm: 2.0012s | Tb: 0.0000s<br>Línea: L9-10 | Falla: 10<br>Estado: Descoordinado<extra></extra>",
          "<b>R9-R8</b><br>Índice Plot: 3<br>MT: -2.2012 | <b>Δt: -2.2012s</b><br>Tm: 2.0012s | Tb: 0.0000s<br>Línea: L9-10 | Falla: 10<br>Estado: Descoordinado<extra></extra>",
          "<b>R45-R46</b><br>Índice Plot: 4<br>MT: -2.1929 | <b>Δt: -2.1929s</b><br>Tm: 1.9929s | Tb: 0.0000s<br>Línea: L8-9 | Falla: 90<br>Estado: Descoordinado<extra></extra>",
          "<b>R45-R71</b><br>Índice Plot: 5<br>MT: -2.1929 | <b>Δt: -2.1929s</b><br>Tm: 1.9929s | Tb: 0.0000s<br>Línea: L8-9 | Falla: 90<br>Estado: Descoordinado<extra></extra>",
          "<b>R34-R46</b><br>Índice Plot: 6<br>MT: -2.1749 | <b>Δt: -2.1749s</b><br>Tm: 1.9749s | Tb: 0.0000s<br>Línea: L9-15 | Falla: 10<br>Estado: Descoordinado<extra></extra>",
          "<b>R34-R8</b><br>Índice Plot: 7<br>MT: -2.1749 | <b>Δt: -2.1749s</b><br>Tm: 1.9749s | Tb: 0.0000s<br>Línea: L9-15 | Falla: 10<br>Estado: Descoordinado<extra></extra>",
          "<b>R18-R1</b><br>Índice Plot: 8<br>MT: -1.6979 | <b>Δt: -1.6979s</b><br>Tm: 1.4979s | Tb: 0.0000s<br>Línea: L2-19 | Falla: 10<br>Estado: Descoordinado<extra></extra>",
          "<b>R10-R9</b><br>Índice Plot: 9<br>MT: -0.2000 | <b>Δt: -0.2000s</b><br>Tm: 2.2596s | Tb: 2.2596s<br>Línea: L10-11 | Falla: 10<br>Estado: Descoordinado<extra></extra>",
          "<b>R47-R48</b><br>Índice Plot: 10<br>MT: -0.2000 | <b>Δt: -0.2000s</b><br>Tm: 3.2968s | Tb: 3.2968s<br>Línea: L10-11 | Falla: 90<br>Estado: Descoordinado<extra></extra>",
          "<b>R11-R10</b><br>Índice Plot: 11<br>MT: -0.2000 | <b>Δt: -0.2000s</b><br>Tm: 2.3080s | Tb: 2.3080s<br>Línea: L11-12 | Falla: 10<br>Estado: Descoordinado<extra></extra>",
          "<b>R43-R44</b><br>Índice Plot: 12<br>MT: -0.2000 | <b>Δt: -0.2000s</b><br>Tm: 2.2370s | Tb: 2.2370s<br>Línea: L6-7 | Falla: 90<br>Estado: Descoordinado<extra></extra>",
          "<b>R26-R25</b><br>Índice Plot: 13<br>MT: -0.1774 | <b>Δt: -0.1774s</b><br>Tm: 2.2144s | Tb: 2.2370s<br>Línea: L26-27 | Falla: 10<br>Estado: Descoordinado<extra></extra>",
          "<b>R46-R47</b><br>Índice Plot: 14<br>MT: -0.1630 | <b>Δt: -0.1630s</b><br>Tm: 3.6644s | Tb: 3.7014s<br>Línea: L9-10 | Falla: 90<br>Estado: Descoordinado<extra></extra>",
          "<b>R16-R15</b><br>Índice Plot: 15<br>MT: -0.1063 | <b>Δt: -0.1063s</b><br>Tm: 2.2496s | Tb: 2.3433s<br>Línea: L16-17 | Falla: 10<br>Estado: Descoordinado<extra></extra>",
          "<b>R44-R45</b><br>Índice Plot: 16<br>MT: -0.0975 | <b>Δt: -0.0975s</b><br>Tm: 2.1063s | Tb: 2.2088s<br>Línea: L7-8 | Falla: 90<br>Estado: Descoordinado<extra></extra>",
          "<b>R42-R43</b><br>Índice Plot: 17<br>MT: -0.0752 | <b>Δt: -0.0752s</b><br>Tm: 2.2525s | Tb: 2.3773s<br>Línea: L5-6 | Falla: 90<br>Estado: Descoordinado<extra></extra>",
          "<b>R41-R42</b><br>Índice Plot: 18<br>MT: -0.0716 | <b>Δt: -0.0716s</b><br>Tm: 2.4148s | Tb: 2.5432s<br>Línea: L4-5 | Falla: 90<br>Estado: Descoordinado<extra></extra>",
          "<b>R38-R39</b><br>Índice Plot: 19<br>MT: -0.0650 | <b>Δt: -0.0650s</b><br>Tm: 1.6257s | Tb: 1.7607s<br>Línea: L1-2 | Falla: 90<br>Estado: Descoordinado<extra></extra>",
          "<b>R17-R16</b><br>Índice Plot: 20<br>MT: -0.0414 | <b>Δt: -0.0414s</b><br>Tm: 2.3792s | Tb: 2.5378s<br>Línea: L17-18 | Falla: 10<br>Estado: Descoordinado<extra></extra>",
          "<b>R25-R43</b><br>Índice Plot: 21<br>MT: -0.0263 | <b>Δt: -0.0263s</b><br>Tm: 2.1936s | Tb: 2.3673s<br>Línea: L6-26 | Falla: 10<br>Estado: Descoordinado<extra></extra>",
          "<b>R12-R11</b><br>Índice Plot: 22<br>MT: -0.0233 | <b>Δt: -0.0233s</b><br>Tm: 2.2674s | Tb: 2.4441s<br>Línea: L12-13 | Falla: 10<br>Estado: Descoordinado<extra></extra>",
          "<b>R27-R26</b><br>Índice Plot: 23<br>MT: -0.0118 | <b>Δt: -0.0118s</b><br>Tm: 2.1173s | Tb: 2.3055s<br>Línea: L27-28 | Falla: 10<br>Estado: Descoordinado<extra></extra>",
          "<b>R13-R12</b><br>Índice Plot: 24<br>MT: -0.0102 | <b>Δt: -0.0102s</b><br>Tm: 2.5211s | Tb: 2.7109s<br>Línea: L13-14 | Falla: 10<br>Estado: Descoordinado<extra></extra>",
          "<b>R14-R13</b><br>Índice Plot: 25<br>MT: -0.0074 | <b>Δt: -0.0074s</b><br>Tm: 2.6211s | Tb: 2.8137s<br>Línea: L14-15 | Falla: 10<br>Estado: Descoordinado<extra></extra>",
          "<b>R39-R59</b><br>Índice Plot: 26<br>MT: 0.0000 | <b>Δt: 0.1558s</b><br>Tm: 1.6770s | Tb: 2.0328s<br>Línea: L2-3 | Falla: 90<br>Estado: Coordinado<extra></extra>",
          "<b>R39-R40</b><br>Índice Plot: 27<br>MT: 0.0000 | <b>Δt: 0.6047s</b><br>Tm: 1.6770s | Tb: 2.4817s<br>Línea: L2-3 | Falla: 90<br>Estado: Coordinado<extra></extra>",
          "<b>R2-R55</b><br>Índice Plot: 28<br>MT: 0.0000 | <b>Δt: 0.0181s</b><br>Tm: 2.3373s | Tb: 2.5554s<br>Línea: L2-3 | Falla: 10<br>Estado: Coordinado<extra></extra>",
          "<b>R15-R14</b><br>Índice Plot: 29<br>MT: 0.0000 | <b>Δt: 0.6098s</b><br>Tm: 2.2020s | Tb: 3.0118s<br>Línea: L15-16 | Falla: 10<br>Estado: Coordinado<extra></extra>",
          "<b>R38-R55</b><br>Índice Plot: 30<br>MT: 0.0000 | <b>Δt: 0.7038s</b><br>Tm: 1.6257s | Tb: 2.5295s<br>Línea: L1-2 | Falla: 90<br>Estado: Coordinado<extra></extra>",
          "<b>R48-R49</b><br>Índice Plot: 31<br>MT: 0.0000 | <b>Δt: 0.0093s</b><br>Tm: 3.0255s | Tb: 3.2348s<br>Línea: L11-12 | Falla: 90<br>Estado: Coordinado<extra></extra>",
          "<b>R48-R72</b><br>Índice Plot: 32<br>MT: 0.0000 | <b>Δt: 0.0440s</b><br>Tm: 3.0255s | Tb: 3.2695s<br>Línea: L11-12 | Falla: 90<br>Estado: Coordinado<extra></extra>",
          "<b>R49-R50</b><br>Índice Plot: 33<br>MT: 0.0000 | <b>Δt: 0.0850s</b><br>Tm: 2.3083s | Tb: 2.5933s<br>Línea: L12-13 | Falla: 90<br>Estado: Coordinado<extra></extra>",
          "<b>R74-R28</b><br>Índice Plot: 34<br>MT: 0.0000 | <b>Δt: 0.6534s</b><br>Tm: 1.7020s | Tb: 2.5554s<br>Línea: L25-29 | Falla: 90<br>Estado: Coordinado<extra></extra>",
          "<b>R50-R51</b><br>Índice Plot: 35<br>MT: 0.0000 | <b>Δt: 0.0055s</b><br>Tm: 2.3377s | Tb: 2.5432s<br>Línea: L13-14 | Falla: 90<br>Estado: Coordinado<extra></extra>",
          "<b>R51-R52</b><br>Índice Plot: 36<br>MT: 0.0000 | <b>Δt: 0.3383s</b><br>Tm: 2.3574s | Tb: 2.8957s<br>Línea: L14-15 | Falla: 90<br>Estado: Coordinado<extra></extra>",
          "<b>R51-R34</b><br>Índice Plot: 37<br>MT: 0.0000 | <b>Δt: 0.0068s</b><br>Tm: 2.3574s | Tb: 2.5642s<br>Línea: L14-15 | Falla: 90<br>Estado: Coordinado<extra></extra>",
          "<b>R15-R34</b><br>Índice Plot: 38<br>MT: 0.0000 | <b>Δt: 0.1622s</b><br>Tm: 2.2020s | Tb: 2.5642s<br>Línea: L15-16 | Falla: 10<br>Estado: Coordinado<extra></extra>",
          "<b>R55-R56</b><br>Índice Plot: 39<br>MT: 0.0000 | <b>Δt: 0.0098s</b><br>Tm: 2.4580s | Tb: 2.6678s<br>Línea: L2-19 | Falla: 90<br>Estado: Coordinado<extra></extra>",
          "<b>R52-R53</b><br>Índice Plot: 40<br>MT: 0.0000 | <b>Δt: 0.0388s</b><br>Tm: 2.0691s | Tb: 2.3079s<br>Línea: L15-16 | Falla: 90<br>Estado: Coordinado<extra></extra>",
          "<b>R12-R72</b><br>Índice Plot: 41<br>MT: 0.0000 | <b>Δt: 0.9188s</b><br>Tm: 2.2674s | Tb: 3.3862s<br>Línea: L12-13 | Falla: 10<br>Estado: Coordinado<extra></extra>",
          "<b>R37-R24</b><br>Índice Plot: 42<br>MT: 0.0000 | <b>Δt: 0.0254s</b><br>Tm: 2.2537s | Tb: 2.4791s<br>Línea: L25-29 | Falla: 10<br>Estado: Coordinado<extra></extra>",
          "<b>R58-R35</b><br>Índice Plot: 43<br>MT: 0.0000 | <b>Δt: 0.0828s</b><br>Tm: 2.2341s | Tb: 2.5169s<br>Línea: L21-22 | Falla: 90<br>Estado: Coordinado<extra></extra>",
          "<b>R24-R23</b><br>Índice Plot: 44<br>MT: 0.0000 | <b>Δt: 0.0508s</b><br>Tm: 2.1456s | Tb: 2.3964s<br>Línea: L24-25 | Falla: 10<br>Estado: Coordinado<extra></extra>",
          "<b>R20-R19</b><br>Índice Plot: 45<br>MT: 0.0000 | <b>Δt: 0.0547s</b><br>Tm: 1.5288s | Tb: 1.7835s<br>Línea: L20-21 | Falla: 10<br>Estado: Coordinado<extra></extra>",
          "<b>R57-R58</b><br>Índice Plot: 46<br>MT: 0.0000 | <b>Δt: 0.0093s</b><br>Tm: 2.3342s | Tb: 2.5435s<br>Línea: L20-21 | Falla: 90<br>Estado: Coordinado<extra></extra>",
          "<b>R57-R33</b><br>Índice Plot: 47<br>MT: 0.0000 | <b>Δt: 0.0502s</b><br>Tm: 2.3342s | Tb: 2.5844s<br>Línea: L20-21 | Falla: 90<br>Estado: Coordinado<extra></extra>",
          "<b>R21-R20</b><br>Índice Plot: 48<br>MT: 0.0000 | <b>Δt: 0.5661s</b><br>Tm: 1.0314s | Tb: 1.7975s<br>Línea: L21-22 | Falla: 10<br>Estado: Coordinado<extra></extra>",
          "<b>R21-R33</b><br>Índice Plot: 49<br>MT: 0.0000 | <b>Δt: 1.3530s</b><br>Tm: 1.0314s | Tb: 2.5844s<br>Línea: L21-22 | Falla: 10<br>Estado: Coordinado<extra></extra>",
          "<b>R53-R54</b><br>Índice Plot: 50<br>MT: 0.0000 | <b>Δt: 0.0150s</b><br>Tm: 1.7194s | Tb: 1.9344s<br>Línea: L16-17 | Falla: 90<br>Estado: Coordinado<extra></extra>",
          "<b>R33-R7</b><br>Índice Plot: 51<br>MT: 0.0000 | <b>Δt: 4.6370s</b><br>Tm: 1.8929s | Tb: 6.7299s<br>Línea: L8-21 | Falla: 10<br>Estado: Coordinado<extra></extra>",
          "<b>R33-R45</b><br>Índice Plot: 52<br>MT: 0.0000 | <b>Δt: 0.1516s</b><br>Tm: 1.8929s | Tb: 2.2445s<br>Línea: L8-21 | Falla: 10<br>Estado: Coordinado<extra></extra>",
          "<b>R70-R58</b><br>Índice Plot: 53<br>MT: 0.0000 | <b>Δt: 0.7407s</b><br>Tm: 1.6965s | Tb: 2.6372s<br>Línea: L8-21 | Falla: 90<br>Estado: Coordinado<extra></extra>",
          "<b>R70-R20</b><br>Índice Plot: 54<br>MT: 0.0000 | <b>Δt: 0.0008s</b><br>Tm: 1.6965s | Tb: 1.8973s<br>Línea: L8-21 | Falla: 90<br>Estado: Coordinado<extra></extra>",
          "<b>R72-R21</b><br>Índice Plot: 55<br>MT: 0.0000 | <b>Δt: 0.0384s</b><br>Tm: 1.5163s | Tb: 1.7547s<br>Línea: L12-22 | Falla: 10<br>Estado: Coordinado<extra></extra>",
          "<b>R35-R11</b><br>Índice Plot: 56<br>MT: 0.0000 | <b>Δt: 0.2692s</b><br>Tm: 2.5563s | Tb: 3.0255s<br>Línea: L12-22 | Falla: 90<br>Estado: Coordinado<extra></extra>",
          "<b>R35-R49</b><br>Índice Plot: 57<br>MT: 0.0000 | <b>Δt: 2.6941s</b><br>Tm: 2.5563s | Tb: 5.4504s<br>Línea: L12-22 | Falla: 90<br>Estado: Coordinado<extra></extra>",
          "<b>R23-R22</b><br>Índice Plot: 58<br>MT: 0.0000 | <b>Δt: 0.0479s</b><br>Tm: 2.1316s | Tb: 2.3795s<br>Línea: L23-24 | Falla: 10<br>Estado: Coordinado<extra></extra>",
          "<b>R60-R61</b><br>Índice Plot: 59<br>MT: 0.0000 | <b>Δt: 0.0493s</b><br>Tm: 1.5893s | Tb: 1.8386s<br>Línea: L23-24 | Falla: 90<br>Estado: Coordinado<extra></extra>",
          "<b>R71-R14</b><br>Índice Plot: 60<br>MT: 0.0000 | <b>Δt: 0.0868s</b><br>Tm: 2.8666s | Tb: 3.1534s<br>Línea: L9-15 | Falla: 90<br>Estado: Coordinado<extra></extra>",
          "<b>R54-R73</b><br>Índice Plot: 61<br>MT: 0.0000 | <b>Δt: 0.0576s</b><br>Tm: 1.7386s | Tb: 1.9962s<br>Línea: L17-18 | Falla: 90<br>Estado: Coordinado<extra></extra>",
          "<b>R8-R7</b><br>Índice Plot: 62<br>MT: 0.0000 | <b>Δt: 0.0257s</b><br>Tm: 4.2797s | Tb: 4.5054s<br>Línea: L8-9 | Falla: 10<br>Estado: Coordinado<extra></extra>",
          "<b>R73-R32</b><br>Índice Plot: 63<br>MT: 0.0000 | <b>Δt: 0.0138s</b><br>Tm: 1.8938s | Tb: 2.1076s<br>Línea: L18-33 | Falla: 90<br>Estado: Coordinado<extra></extra>",
          "<b>R67-R68</b><br>Índice Plot: 64<br>MT: 0.0000 | <b>Δt: 0.0547s</b><br>Tm: 1.8465s | Tb: 2.1012s<br>Línea: L30-31 | Falla: 90<br>Estado: Coordinado<extra></extra>",
          "<b>R40-R41</b><br>Índice Plot: 65<br>MT: 0.0000 | <b>Δt: 0.0456s</b><br>Tm: 2.3196s | Tb: 2.5652s<br>Línea: L3-4 | Falla: 90<br>Estado: Coordinado<extra></extra>",
          "<b>R3-R59</b><br>Índice Plot: 66<br>MT: 0.0000 | <b>Δt: 0.0590s</b><br>Tm: 1.7738s | Tb: 2.0328s<br>Línea: L3-4 | Falla: 10<br>Estado: Coordinado<extra></extra>",
          "<b>R3-R2</b><br>Índice Plot: 67<br>MT: 0.0000 | <b>Δt: 0.5626s</b><br>Tm: 1.7738s | Tb: 2.5364s<br>Línea: L3-4 | Falla: 10<br>Estado: Coordinado<extra></extra>",
          "<b>R59-R60</b><br>Índice Plot: 68<br>MT: 0.0000 | <b>Δt: 0.0303s</b><br>Tm: 1.7267s | Tb: 1.9570s<br>Línea: L3-23 | Falla: 90<br>Estado: Coordinado<extra></extra>",
          "<b>R22-R40</b><br>Índice Plot: 69<br>MT: 0.0000 | <b>Δt: 0.0233s</b><br>Tm: 2.2584s | Tb: 2.4817s<br>Línea: L3-23 | Falla: 10<br>Estado: Coordinado<extra></extra>",
          "<b>R22-R2</b><br>Índice Plot: 70<br>MT: 0.0000 | <b>Δt: 0.0780s</b><br>Tm: 2.2584s | Tb: 2.5364s<br>Línea: L3-23 | Falla: 10<br>Estado: Coordinado<extra></extra>",
          "<b>R66-R67</b><br>Índice Plot: 71<br>MT: 0.0000 | <b>Δt: 0.0507s</b><br>Tm: 1.8269s | Tb: 2.0776s<br>Línea: L29-30 | Falla: 90<br>Estado: Coordinado<extra></extra>",
          "<b>R29-R37</b><br>Índice Plot: 72<br>MT: 0.0000 | <b>Δt: 0.0537s</b><br>Tm: 2.2942s | Tb: 2.5479s<br>Línea: L29-30 | Falla: 10<br>Estado: Coordinado<extra></extra>",
          "<b>R29-R28</b><br>Índice Plot: 73<br>MT: 0.0000 | <b>Δt: 0.0353s</b><br>Tm: 2.2942s | Tb: 2.5295s<br>Línea: L29-30 | Falla: 10<br>Estado: Coordinado<extra></extra>",
          "<b>R65-R66</b><br>Índice Plot: 74<br>MT: 0.0000 | <b>Δt: 0.2389s</b><br>Tm: 1.5181s | Tb: 1.9570s<br>Línea: L28-29 | Falla: 90<br>Estado: Coordinado<extra></extra>",
          "<b>R65-R37</b><br>Índice Plot: 75<br>MT: 0.0000 | <b>Δt: 0.8729s</b><br>Tm: 1.5181s | Tb: 2.5910s<br>Línea: L28-29 | Falla: 90<br>Estado: Coordinado<extra></extra>",
          "<b>R28-R27</b><br>Índice Plot: 76<br>MT: 0.0000 | <b>Δt: 0.0169s</b><br>Tm: 2.2229s | Tb: 2.4398s<br>Línea: L28-29 | Falla: 10<br>Estado: Coordinado<extra></extra>",
          "<b>R64-R65</b><br>Índice Plot: 77<br>MT: 0.0000 | <b>Δt: 0.0205s</b><br>Tm: 1.5431s | Tb: 1.7636s<br>Línea: L27-28 | Falla: 90<br>Estado: Coordinado<extra></extra>",
          "<b>R6-R5</b><br>Índice Plot: 78<br>MT: 0.0000 | <b>Δt: 0.1345s</b><br>Tm: 2.1554s | Tb: 2.4899s<br>Línea: L6-7 | Falla: 10<br>Estado: Coordinado<extra></extra>",
          "<b>R6-R62</b><br>Índice Plot: 79<br>MT: 0.0000 | <b>Δt: 0.1654s</b><br>Tm: 2.1554s | Tb: 2.5208s<br>Línea: L6-7 | Falla: 10<br>Estado: Coordinado<extra></extra>",
          "<b>R31-R30</b><br>Índice Plot: 80<br>MT: 0.0000 | <b>Δt: 0.0245s</b><br>Tm: 2.1614s | Tb: 2.3859s<br>Línea: L31-32 | Falla: 10<br>Estado: Coordinado<extra></extra>",
          "<b>R68-R69</b><br>Índice Plot: 81<br>MT: 0.0000 | <b>Δt: 0.0444s</b><br>Tm: 2.0160s | Tb: 2.2604s<br>Línea: L31-32 | Falla: 90<br>Estado: Coordinado<extra></extra>",
          "<b>R32-R31</b><br>Índice Plot: 82<br>MT: 0.0000 | <b>Δt: 0.0317s</b><br>Tm: 1.9979s | Tb: 2.2296s<br>Línea: L32-33 | Falla: 10<br>Estado: Coordinado<extra></extra>",
          "<b>R19-R18</b><br>Índice Plot: 83<br>MT: 0.0000 | <b>Δt: 0.0198s</b><br>Tm: 1.3463s | Tb: 1.5661s<br>Línea: L19-20 | Falla: 10<br>Estado: Coordinado<extra></extra>",
          "<b>R56-R57</b><br>Índice Plot: 84<br>MT: 0.0000 | <b>Δt: 0.0739s</b><br>Tm: 2.2167s | Tb: 2.4906s<br>Línea: L19-20 | Falla: 90<br>Estado: Coordinado<extra></extra>",
          "<b>R18-R39</b><br>Índice Plot: 85<br>MT: 0.0000 | <b>Δt: 0.0628s</b><br>Tm: 1.4979s | Tb: 1.7607s<br>Línea: L2-19 | Falla: 10<br>Estado: Coordinado<extra></extra>",
          "<b>R74-R66</b><br>Índice Plot: 86<br>MT: 0.0000 | <b>Δt: 0.0550s</b><br>Tm: 1.7020s | Tb: 1.9570s<br>Línea: L25-29 | Falla: 90<br>Estado: Coordinado<extra></extra>",
          "<b>R61-R74</b><br>Índice Plot: 87<br>MT: 0.0000 | <b>Δt: 0.0440s</b><br>Tm: 1.5994s | Tb: 1.8434s<br>Línea: L24-25 | Falla: 90<br>Estado: Coordinado<extra></extra>",
          "<b>R25-R5</b><br>Índice Plot: 88<br>MT: 0.0000 | <b>Δt: 0.0104s</b><br>Tm: 2.1936s | Tb: 2.4040s<br>Línea: L6-26 | Falla: 10<br>Estado: Coordinado<extra></extra>",
          "<b>R30-R29</b><br>Índice Plot: 89<br>MT: 0.0000 | <b>Δt: 0.0055s</b><br>Tm: 2.1836s | Tb: 2.3891s<br>Línea: L30-31 | Falla: 10<br>Estado: Coordinado<extra></extra>",
          "<b>R36-R17</b><br>Índice Plot: 90<br>MT: 0.0000 | <b>Δt: 0.0246s</b><br>Tm: 2.3017s | Tb: 2.5263s<br>Línea: L18-33 | Falla: 10<br>Estado: Coordinado<extra></extra>",
          "<b>R62-R63</b><br>Índice Plot: 91<br>MT: 0.0000 | <b>Δt: 0.0070s</b><br>Tm: 2.0695s | Tb: 2.2765s<br>Línea: L6-26 | Falla: 90<br>Estado: Coordinado<extra></extra>",
          "<b>R44-R70</b><br>Índice Plot: 92<br>MT: 0.0000 | <b>Δt: 2.2348s</b><br>Tm: 2.1063s | Tb: 4.5411s<br>Línea: L7-8 | Falla: 90<br>Estado: Coordinado<extra></extra>",
          "<b>R63-R64</b><br>Índice Plot: 93<br>MT: 0.0000 | <b>Δt: 0.0196s</b><br>Tm: 1.9329s | Tb: 2.1525s<br>Línea: L26-27 | Falla: 90<br>Estado: Coordinado<extra></extra>",
          "<b>R42-R62</b><br>Índice Plot: 94<br>MT: 0.0000 | <b>Δt: 0.2390s</b><br>Tm: 2.2525s | Tb: 2.6915s<br>Línea: L5-6 | Falla: 90<br>Estado: Coordinado<extra></extra>",
          "<b>R8-R70</b><br>Índice Plot: 95<br>MT: 0.0000 | <b>Δt: 0.0614s</b><br>Tm: 4.2797s | Tb: 4.5411s<br>Línea: L8-9 | Falla: 10<br>Estado: Coordinado<extra></extra>",
          "<b>R5-R4</b><br>Índice Plot: 96<br>MT: 0.0000 | <b>Δt: 0.0254s</b><br>Tm: 1.6098s | Tb: 1.8352s<br>Línea: L5-6 | Falla: 10<br>Estado: Coordinado<extra></extra>",
          "<b>R4-R3</b><br>Índice Plot: 97<br>MT: 0.0000 | <b>Δt: 0.0336s</b><br>Tm: 1.6642s | Tb: 1.8978s<br>Línea: L4-5 | Falla: 10<br>Estado: Coordinado<extra></extra>",
          "<b>R69-R36</b><br>Índice Plot: 98<br>MT: 0.0000 | <b>Δt: 0.0335s</b><br>Tm: 2.1606s | Tb: 2.3941s<br>Línea: L32-33 | Falla: 90<br>Estado: Coordinado<extra></extra>",
          "<b>R7-R6</b><br>Índice Plot: 99<br>MT: 0.0000 | <b>Δt: 0.0153s</b><br>Tm: 2.3740s | Tb: 2.5893s<br>Línea: L7-8 | Falla: 10<br>Estado: Coordinado<extra></extra>",
          "<b>R71-R52</b><br>Índice Plot: 100<br>MT: 0.0000 | <b>Δt: 0.0560s</b><br>Tm: 2.8666s | Tb: 3.1226s<br>Línea: L9-15 | Falla: 90<br>Estado: Coordinado<extra></extra>"
         ],
         "type": "bar",
         "x": [
          1,
          2,
          3,
          4,
          5,
          6,
          7,
          8,
          9,
          10,
          11,
          12,
          13,
          14,
          15,
          16,
          17,
          18,
          19,
          20,
          21,
          22,
          23,
          24,
          25,
          26,
          27,
          28,
          29,
          30,
          31,
          32,
          33,
          34,
          35,
          36,
          37,
          38,
          39,
          40,
          41,
          42,
          43,
          44,
          45,
          46,
          47,
          48,
          49,
          50,
          51,
          52,
          53,
          54,
          55,
          56,
          57,
          58,
          59,
          60,
          61,
          62,
          63,
          64,
          65,
          66,
          67,
          68,
          69,
          70,
          71,
          72,
          73,
          74,
          75,
          76,
          77,
          78,
          79,
          80,
          81,
          82,
          83,
          84,
          85,
          86,
          87,
          88,
          89,
          90,
          91,
          92,
          93,
          94,
          95,
          96,
          97,
          98,
          99,
          100
         ],
         "y": [
          -2.5373,
          -2.2012,
          -2.2012,
          -2.1929,
          -2.1929,
          -2.1749,
          -2.1749,
          -1.6979,
          -0.2,
          -0.2,
          -0.2,
          -0.2,
          -0.17739999999999984,
          -0.1630000000000001,
          -0.1062999999999999,
          -0.09749999999999998,
          -0.07519999999999999,
          -0.07159999999999994,
          -0.065,
          -0.04140000000000016,
          -0.026299999999999824,
          -0.02329999999999971,
          -0.01180000000000031,
          -0.010200000000000042,
          -0.007400000000000351,
          0.15579999999999988,
          0.6047,
          0.01810000000000017,
          0.6098000000000001,
          0.7038000000000002,
          0.009299999999999808,
          0.04399999999999976,
          0.08500000000000013,
          0.6534000000000002,
          0.005500000000000227,
          0.3383,
          0.006799999999999862,
          0.16220000000000007,
          0.009799999999999975,
          0.03879999999999989,
          0.9188000000000003,
          0.025400000000000034,
          0.08279999999999993,
          0.0507999999999999,
          0.05470000000000014,
          0.009299999999999808,
          0.05019999999999997,
          0.5661,
          1.353,
          0.014999999999999847,
          4.637,
          0.1515999999999999,
          0.7407000000000001,
          0.0008000000000000784,
          0.038399999999999934,
          0.2692000000000003,
          2.6941,
          0.0479,
          0.049300000000000066,
          0.08679999999999993,
          0.05760000000000004,
          0.02569999999999978,
          0.013800000000000201,
          0.054699999999999915,
          0.04560000000000003,
          0.058999999999999886,
          0.5626,
          0.03030000000000016,
          0.023300000000000043,
          0.07800000000000001,
          0.05069999999999991,
          0.0536999999999998,
          0.035300000000000054,
          0.23890000000000006,
          0.8729000000000002,
          0.01689999999999986,
          0.02050000000000013,
          0.1344999999999998,
          0.16539999999999971,
          0.02449999999999991,
          0.04440000000000016,
          0.031700000000000006,
          0.019799999999999984,
          0.07390000000000024,
          0.06279999999999991,
          0.055000000000000104,
          0.043999999999999984,
          0.01039999999999991,
          0.005499999999999783,
          0.024600000000000122,
          0.00699999999999984,
          2.2348,
          0.019599999999999784,
          0.23900000000000005,
          0.061400000000000066,
          0.025400000000000034,
          0.03360000000000002,
          0.03349999999999981,
          0.015300000000000036,
          0.05599999999999977
         ]
        }
       ],
       "layout": {
        "annotations": [
         {
          "showarrow": false,
          "text": "Límite CTI (Δt=0)",
          "x": 1,
          "xanchor": "right",
          "xref": "x domain",
          "y": 0,
          "yanchor": "top",
          "yref": "y"
         }
        ],
        "bargap": 0.1,
        "height": 900,
        "margin": {
         "b": 100,
         "l": 60,
         "r": 30,
         "t": 100
        },
        "shapes": [
         {
          "line": {
           "color": "black",
           "dash": "dash",
           "width": 1.5
          },
          "type": "line",
          "x0": 0,
          "x1": 1,
          "xref": "x domain",
          "y0": 0,
          "y1": 0,
          "yref": "y"
         }
        ],
        "template": {
         "data": {
          "bar": [
           {
            "error_x": {
             "color": "#2a3f5f"
            },
            "error_y": {
             "color": "#2a3f5f"
            },
            "marker": {
             "line": {
              "color": "white",
              "width": 0.5
             },
             "pattern": {
              "fillmode": "overlay",
              "size": 10,
              "solidity": 0.2
             }
            },
            "type": "bar"
           }
          ],
          "barpolar": [
           {
            "marker": {
             "line": {
              "color": "white",
              "width": 0.5
             },
             "pattern": {
              "fillmode": "overlay",
              "size": 10,
              "solidity": 0.2
             }
            },
            "type": "barpolar"
           }
          ],
          "carpet": [
           {
            "aaxis": {
             "endlinecolor": "#2a3f5f",
             "gridcolor": "#C8D4E3",
             "linecolor": "#C8D4E3",
             "minorgridcolor": "#C8D4E3",
             "startlinecolor": "#2a3f5f"
            },
            "baxis": {
             "endlinecolor": "#2a3f5f",
             "gridcolor": "#C8D4E3",
             "linecolor": "#C8D4E3",
             "minorgridcolor": "#C8D4E3",
             "startlinecolor": "#2a3f5f"
            },
            "type": "carpet"
           }
          ],
          "choropleth": [
           {
            "colorbar": {
             "outlinewidth": 0,
             "ticks": ""
            },
            "type": "choropleth"
           }
          ],
          "contour": [
           {
            "colorbar": {
             "outlinewidth": 0,
             "ticks": ""
            },
            "colorscale": [
             [
              0,
              "#0d0887"
             ],
             [
              0.1111111111111111,
              "#46039f"
             ],
             [
              0.2222222222222222,
              "#7201a8"
             ],
             [
              0.3333333333333333,
              "#9c179e"
             ],
             [
              0.4444444444444444,
              "#bd3786"
             ],
             [
              0.5555555555555556,
              "#d8576b"
             ],
             [
              0.6666666666666666,
              "#ed7953"
             ],
             [
              0.7777777777777778,
              "#fb9f3a"
             ],
             [
              0.8888888888888888,
              "#fdca26"
             ],
             [
              1,
              "#f0f921"
             ]
            ],
            "type": "contour"
           }
          ],
          "contourcarpet": [
           {
            "colorbar": {
             "outlinewidth": 0,
             "ticks": ""
            },
            "type": "contourcarpet"
           }
          ],
          "heatmap": [
           {
            "colorbar": {
             "outlinewidth": 0,
             "ticks": ""
            },
            "colorscale": [
             [
              0,
              "#0d0887"
             ],
             [
              0.1111111111111111,
              "#46039f"
             ],
             [
              0.2222222222222222,
              "#7201a8"
             ],
             [
              0.3333333333333333,
              "#9c179e"
             ],
             [
              0.4444444444444444,
              "#bd3786"
             ],
             [
              0.5555555555555556,
              "#d8576b"
             ],
             [
              0.6666666666666666,
              "#ed7953"
             ],
             [
              0.7777777777777778,
              "#fb9f3a"
             ],
             [
              0.8888888888888888,
              "#fdca26"
             ],
             [
              1,
              "#f0f921"
             ]
            ],
            "type": "heatmap"
           }
          ],
          "heatmapgl": [
           {
            "colorbar": {
             "outlinewidth": 0,
             "ticks": ""
            },
            "colorscale": [
             [
              0,
              "#0d0887"
             ],
             [
              0.1111111111111111,
              "#46039f"
             ],
             [
              0.2222222222222222,
              "#7201a8"
             ],
             [
              0.3333333333333333,
              "#9c179e"
             ],
             [
              0.4444444444444444,
              "#bd3786"
             ],
             [
              0.5555555555555556,
              "#d8576b"
             ],
             [
              0.6666666666666666,
              "#ed7953"
             ],
             [
              0.7777777777777778,
              "#fb9f3a"
             ],
             [
              0.8888888888888888,
              "#fdca26"
             ],
             [
              1,
              "#f0f921"
             ]
            ],
            "type": "heatmapgl"
           }
          ],
          "histogram": [
           {
            "marker": {
             "pattern": {
              "fillmode": "overlay",
              "size": 10,
              "solidity": 0.2
             }
            },
            "type": "histogram"
           }
          ],
          "histogram2d": [
           {
            "colorbar": {
             "outlinewidth": 0,
             "ticks": ""
            },
            "colorscale": [
             [
              0,
              "#0d0887"
             ],
             [
              0.1111111111111111,
              "#46039f"
             ],
             [
              0.2222222222222222,
              "#7201a8"
             ],
             [
              0.3333333333333333,
              "#9c179e"
             ],
             [
              0.4444444444444444,
              "#bd3786"
             ],
             [
              0.5555555555555556,
              "#d8576b"
             ],
             [
              0.6666666666666666,
              "#ed7953"
             ],
             [
              0.7777777777777778,
              "#fb9f3a"
             ],
             [
              0.8888888888888888,
              "#fdca26"
             ],
             [
              1,
              "#f0f921"
             ]
            ],
            "type": "histogram2d"
           }
          ],
          "histogram2dcontour": [
           {
            "colorbar": {
             "outlinewidth": 0,
             "ticks": ""
            },
            "colorscale": [
             [
              0,
              "#0d0887"
             ],
             [
              0.1111111111111111,
              "#46039f"
             ],
             [
              0.2222222222222222,
              "#7201a8"
             ],
             [
              0.3333333333333333,
              "#9c179e"
             ],
             [
              0.4444444444444444,
              "#bd3786"
             ],
             [
              0.5555555555555556,
              "#d8576b"
             ],
             [
              0.6666666666666666,
              "#ed7953"
             ],
             [
              0.7777777777777778,
              "#fb9f3a"
             ],
             [
              0.8888888888888888,
              "#fdca26"
             ],
             [
              1,
              "#f0f921"
             ]
            ],
            "type": "histogram2dcontour"
           }
          ],
          "mesh3d": [
           {
            "colorbar": {
             "outlinewidth": 0,
             "ticks": ""
            },
            "type": "mesh3d"
           }
          ],
          "parcoords": [
           {
            "line": {
             "colorbar": {
              "outlinewidth": 0,
              "ticks": ""
             }
            },
            "type": "parcoords"
           }
          ],
          "pie": [
           {
            "automargin": true,
            "type": "pie"
           }
          ],
          "scatter": [
           {
            "fillpattern": {
             "fillmode": "overlay",
             "size": 10,
             "solidity": 0.2
            },
            "type": "scatter"
           }
          ],
          "scatter3d": [
           {
            "line": {
             "colorbar": {
              "outlinewidth": 0,
              "ticks": ""
             }
            },
            "marker": {
             "colorbar": {
              "outlinewidth": 0,
              "ticks": ""
             }
            },
            "type": "scatter3d"
           }
          ],
          "scattercarpet": [
           {
            "marker": {
             "colorbar": {
              "outlinewidth": 0,
              "ticks": ""
             }
            },
            "type": "scattercarpet"
           }
          ],
          "scattergeo": [
           {
            "marker": {
             "colorbar": {
              "outlinewidth": 0,
              "ticks": ""
             }
            },
            "type": "scattergeo"
           }
          ],
          "scattergl": [
           {
            "marker": {
             "colorbar": {
              "outlinewidth": 0,
              "ticks": ""
             }
            },
            "type": "scattergl"
           }
          ],
          "scattermapbox": [
           {
            "marker": {
             "colorbar": {
              "outlinewidth": 0,
              "ticks": ""
             }
            },
            "type": "scattermapbox"
           }
          ],
          "scatterpolar": [
           {
            "marker": {
             "colorbar": {
              "outlinewidth": 0,
              "ticks": ""
             }
            },
            "type": "scatterpolar"
           }
          ],
          "scatterpolargl": [
           {
            "marker": {
             "colorbar": {
              "outlinewidth": 0,
              "ticks": ""
             }
            },
            "type": "scatterpolargl"
           }
          ],
          "scatterternary": [
           {
            "marker": {
             "colorbar": {
              "outlinewidth": 0,
              "ticks": ""
             }
            },
            "type": "scatterternary"
           }
          ],
          "surface": [
           {
            "colorbar": {
             "outlinewidth": 0,
             "ticks": ""
            },
            "colorscale": [
             [
              0,
              "#0d0887"
             ],
             [
              0.1111111111111111,
              "#46039f"
             ],
             [
              0.2222222222222222,
              "#7201a8"
             ],
             [
              0.3333333333333333,
              "#9c179e"
             ],
             [
              0.4444444444444444,
              "#bd3786"
             ],
             [
              0.5555555555555556,
              "#d8576b"
             ],
             [
              0.6666666666666666,
              "#ed7953"
             ],
             [
              0.7777777777777778,
              "#fb9f3a"
             ],
             [
              0.8888888888888888,
              "#fdca26"
             ],
             [
              1,
              "#f0f921"
             ]
            ],
            "type": "surface"
           }
          ],
          "table": [
           {
            "cells": {
             "fill": {
              "color": "#EBF0F8"
             },
             "line": {
              "color": "white"
             }
            },
            "header": {
             "fill": {
              "color": "#C8D4E3"
             },
             "line": {
              "color": "white"
             }
            },
            "type": "table"
           }
          ]
         },
         "layout": {
          "annotationdefaults": {
           "arrowcolor": "#2a3f5f",
           "arrowhead": 0,
           "arrowwidth": 1
          },
          "autotypenumbers": "strict",
          "coloraxis": {
           "colorbar": {
            "outlinewidth": 0,
            "ticks": ""
           }
          },
          "colorscale": {
           "diverging": [
            [
             0,
             "#8e0152"
            ],
            [
             0.1,
             "#c51b7d"
            ],
            [
             0.2,
             "#de77ae"
            ],
            [
             0.3,
             "#f1b6da"
            ],
            [
             0.4,
             "#fde0ef"
            ],
            [
             0.5,
             "#f7f7f7"
            ],
            [
             0.6,
             "#e6f5d0"
            ],
            [
             0.7,
             "#b8e186"
            ],
            [
             0.8,
             "#7fbc41"
            ],
            [
             0.9,
             "#4d9221"
            ],
            [
             1,
             "#276419"
            ]
           ],
           "sequential": [
            [
             0,
             "#0d0887"
            ],
            [
             0.1111111111111111,
             "#46039f"
            ],
            [
             0.2222222222222222,
             "#7201a8"
            ],
            [
             0.3333333333333333,
             "#9c179e"
            ],
            [
             0.4444444444444444,
             "#bd3786"
            ],
            [
             0.5555555555555556,
             "#d8576b"
            ],
            [
             0.6666666666666666,
             "#ed7953"
            ],
            [
             0.7777777777777778,
             "#fb9f3a"
            ],
            [
             0.8888888888888888,
             "#fdca26"
            ],
            [
             1,
             "#f0f921"
            ]
           ],
           "sequentialminus": [
            [
             0,
             "#0d0887"
            ],
            [
             0.1111111111111111,
             "#46039f"
            ],
            [
             0.2222222222222222,
             "#7201a8"
            ],
            [
             0.3333333333333333,
             "#9c179e"
            ],
            [
             0.4444444444444444,
             "#bd3786"
            ],
            [
             0.5555555555555556,
             "#d8576b"
            ],
            [
             0.6666666666666666,
             "#ed7953"
            ],
            [
             0.7777777777777778,
             "#fb9f3a"
            ],
            [
             0.8888888888888888,
             "#fdca26"
            ],
            [
             1,
             "#f0f921"
            ]
           ]
          },
          "colorway": [
           "#636efa",
           "#EF553B",
           "#00cc96",
           "#ab63fa",
           "#FFA15A",
           "#19d3f3",
           "#FF6692",
           "#B6E880",
           "#FF97FF",
           "#FECB52"
          ],
          "font": {
           "color": "#2a3f5f"
          },
          "geo": {
           "bgcolor": "white",
           "lakecolor": "white",
           "landcolor": "white",
           "showlakes": true,
           "showland": true,
           "subunitcolor": "#C8D4E3"
          },
          "hoverlabel": {
           "align": "left"
          },
          "hovermode": "closest",
          "mapbox": {
           "style": "light"
          },
          "paper_bgcolor": "white",
          "plot_bgcolor": "white",
          "polar": {
           "angularaxis": {
            "gridcolor": "#EBF0F8",
            "linecolor": "#EBF0F8",
            "ticks": ""
           },
           "bgcolor": "white",
           "radialaxis": {
            "gridcolor": "#EBF0F8",
            "linecolor": "#EBF0F8",
            "ticks": ""
           }
          },
          "scene": {
           "xaxis": {
            "backgroundcolor": "white",
            "gridcolor": "#DFE8F3",
            "gridwidth": 2,
            "linecolor": "#EBF0F8",
            "showbackground": true,
            "ticks": "",
            "zerolinecolor": "#EBF0F8"
           },
           "yaxis": {
            "backgroundcolor": "white",
            "gridcolor": "#DFE8F3",
            "gridwidth": 2,
            "linecolor": "#EBF0F8",
            "showbackground": true,
            "ticks": "",
            "zerolinecolor": "#EBF0F8"
           },
           "zaxis": {
            "backgroundcolor": "white",
            "gridcolor": "#DFE8F3",
            "gridwidth": 2,
            "linecolor": "#EBF0F8",
            "showbackground": true,
            "ticks": "",
            "zerolinecolor": "#EBF0F8"
           }
          },
          "shapedefaults": {
           "line": {
            "color": "#2a3f5f"
           }
          },
          "ternary": {
           "aaxis": {
            "gridcolor": "#DFE8F3",
            "linecolor": "#A2B1C6",
            "ticks": ""
           },
           "baxis": {
            "gridcolor": "#DFE8F3",
            "linecolor": "#A2B1C6",
            "ticks": ""
           },
           "bgcolor": "white",
           "caxis": {
            "gridcolor": "#DFE8F3",
            "linecolor": "#A2B1C6",
            "ticks": ""
           }
          },
          "title": {
           "x": 0.05
          },
          "xaxis": {
           "automargin": true,
           "gridcolor": "#EBF0F8",
           "linecolor": "#EBF0F8",
           "ticks": "",
           "title": {
            "standoff": 15
           },
           "zerolinecolor": "#EBF0F8",
           "zerolinewidth": 2
          },
          "yaxis": {
           "automargin": true,
           "gridcolor": "#EBF0F8",
           "linecolor": "#EBF0F8",
           "ticks": "",
           "title": {
            "standoff": 15
           },
           "zerolinecolor": "#EBF0F8",
           "zerolinewidth": 2
          }
         }
        },
        "title": {
         "text": "Diferencia de Tiempo (Δt = Tb - Tm - CTI) - Escenario: scenario_3 Optimizado<br><sup>CTI = 0.2s</sup>"
        },
        "xaxis": {
         "tickmode": "auto",
         "title": {
          "text": "Índice del Par de Relés (Ordenado por MT Ascendente)"
         }
        },
        "yaxis": {
         "gridcolor": "lightgrey",
         "title": {
          "text": "Δt [s]"
         },
         "zerolinecolor": "black",
         "zerolinewidth": 1.5
        }
       }
      }
     },
     "metadata": {},
     "output_type": "display_data"
    },
    {
     "name": "stdout",
     "output_type": "stream",
     "text": [
      "    Displaying delta_scatter plot...\n"
     ]
    },
    {
     "data": {
      "application/vnd.plotly.v1+json": {
       "config": {
        "plotlyServerURL": "https://plot.ly"
       },
       "data": [
        {
         "customdata": [
          [
           "R2-R1",
           -2.5373,
           2.3373,
           0,
           "L2-3",
           "10",
           "Descoordinado"
          ],
          [
           "R9-R71",
           -2.2012,
           2.0012,
           0,
           "L9-10",
           "10",
           "Descoordinado"
          ],
          [
           "R9-R8",
           -2.2012,
           2.0012,
           0,
           "L9-10",
           "10",
           "Descoordinado"
          ],
          [
           "R45-R46",
           -2.1929,
           1.9929,
           0,
           "L8-9",
           "90",
           "Descoordinado"
          ],
          [
           "R45-R71",
           -2.1929,
           1.9929,
           0,
           "L8-9",
           "90",
           "Descoordinado"
          ],
          [
           "R34-R46",
           -2.1749,
           1.9749,
           0,
           "L9-15",
           "10",
           "Descoordinado"
          ],
          [
           "R34-R8",
           -2.1749,
           1.9749,
           0,
           "L9-15",
           "10",
           "Descoordinado"
          ],
          [
           "R18-R1",
           -1.6979,
           1.4979,
           0,
           "L2-19",
           "10",
           "Descoordinado"
          ],
          [
           "R10-R9",
           -0.2,
           2.2596,
           2.2596,
           "L10-11",
           "10",
           "Descoordinado"
          ],
          [
           "R47-R48",
           -0.2,
           3.2968,
           3.2968,
           "L10-11",
           "90",
           "Descoordinado"
          ],
          [
           "R11-R10",
           -0.2,
           2.308,
           2.308,
           "L11-12",
           "10",
           "Descoordinado"
          ],
          [
           "R43-R44",
           -0.2,
           2.237,
           2.237,
           "L6-7",
           "90",
           "Descoordinado"
          ],
          [
           "R26-R25",
           -0.17739999999999984,
           2.2144,
           2.237,
           "L26-27",
           "10",
           "Descoordinado"
          ],
          [
           "R46-R47",
           -0.1630000000000001,
           3.6644,
           3.7014,
           "L9-10",
           "90",
           "Descoordinado"
          ],
          [
           "R16-R15",
           -0.1062999999999999,
           2.2496,
           2.3433,
           "L16-17",
           "10",
           "Descoordinado"
          ],
          [
           "R44-R45",
           -0.09749999999999998,
           2.1063,
           2.2088,
           "L7-8",
           "90",
           "Descoordinado"
          ],
          [
           "R42-R43",
           -0.07519999999999999,
           2.2525,
           2.3773,
           "L5-6",
           "90",
           "Descoordinado"
          ],
          [
           "R41-R42",
           -0.07159999999999994,
           2.4148,
           2.5432,
           "L4-5",
           "90",
           "Descoordinado"
          ],
          [
           "R38-R39",
           -0.065,
           1.6257,
           1.7607,
           "L1-2",
           "90",
           "Descoordinado"
          ],
          [
           "R17-R16",
           -0.04140000000000016,
           2.3792,
           2.5378,
           "L17-18",
           "10",
           "Descoordinado"
          ],
          [
           "R25-R43",
           -0.026299999999999824,
           2.1936,
           2.3673,
           "L6-26",
           "10",
           "Descoordinado"
          ],
          [
           "R12-R11",
           -0.02329999999999971,
           2.2674,
           2.4441,
           "L12-13",
           "10",
           "Descoordinado"
          ],
          [
           "R27-R26",
           -0.01180000000000031,
           2.1173,
           2.3055,
           "L27-28",
           "10",
           "Descoordinado"
          ],
          [
           "R13-R12",
           -0.010200000000000042,
           2.5211,
           2.7109,
           "L13-14",
           "10",
           "Descoordinado"
          ],
          [
           "R14-R13",
           -0.007400000000000351,
           2.6211,
           2.8137,
           "L14-15",
           "10",
           "Descoordinado"
          ]
         ],
         "hovertemplate": "status=%{customdata[6]}<br>delta_t=%{y:.4f}<br>pair_label=%{customdata[0]}<br>mt=%{customdata[1]:.4f}<br>tm=%{customdata[2]:.4f}<br>tb=%{customdata[3]:.4f}<br>line=%{customdata[4]}<br>fault=%{customdata[5]}<extra></extra>",
         "legendgroup": "Descoordinado",
         "marker": {
          "color": "red",
          "opacity": 0.7,
          "size": 8,
          "symbol": "circle"
         },
         "mode": "markers",
         "name": "Descoordinado",
         "orientation": "v",
         "showlegend": true,
         "type": "scatter",
         "x": [
          1,
          2,
          3,
          4,
          5,
          6,
          7,
          8,
          9,
          10,
          11,
          12,
          13,
          14,
          15,
          16,
          17,
          18,
          19,
          20,
          21,
          22,
          23,
          24,
          25
         ],
         "xaxis": "x",
         "y": [
          -2.5373,
          -2.2012,
          -2.2012,
          -2.1929,
          -2.1929,
          -2.1749,
          -2.1749,
          -1.6979,
          -0.2,
          -0.2,
          -0.2,
          -0.2,
          -0.17739999999999984,
          -0.1630000000000001,
          -0.1062999999999999,
          -0.09749999999999998,
          -0.07519999999999999,
          -0.07159999999999994,
          -0.065,
          -0.04140000000000016,
          -0.026299999999999824,
          -0.02329999999999971,
          -0.01180000000000031,
          -0.010200000000000042,
          -0.007400000000000351
         ],
         "yaxis": "y"
        },
        {
         "customdata": [
          [
           "R39-R59",
           0,
           1.677,
           2.0328,
           "L2-3",
           "90",
           "Coordinado"
          ],
          [
           "R39-R40",
           0,
           1.677,
           2.4817,
           "L2-3",
           "90",
           "Coordinado"
          ],
          [
           "R2-R55",
           0,
           2.3373,
           2.5554,
           "L2-3",
           "10",
           "Coordinado"
          ],
          [
           "R15-R14",
           0,
           2.202,
           3.0118,
           "L15-16",
           "10",
           "Coordinado"
          ],
          [
           "R38-R55",
           0,
           1.6257,
           2.5295,
           "L1-2",
           "90",
           "Coordinado"
          ],
          [
           "R48-R49",
           0,
           3.0255,
           3.2348,
           "L11-12",
           "90",
           "Coordinado"
          ],
          [
           "R48-R72",
           0,
           3.0255,
           3.2695,
           "L11-12",
           "90",
           "Coordinado"
          ],
          [
           "R49-R50",
           0,
           2.3083,
           2.5933,
           "L12-13",
           "90",
           "Coordinado"
          ],
          [
           "R74-R28",
           0,
           1.702,
           2.5554,
           "L25-29",
           "90",
           "Coordinado"
          ],
          [
           "R50-R51",
           0,
           2.3377,
           2.5432,
           "L13-14",
           "90",
           "Coordinado"
          ],
          [
           "R51-R52",
           0,
           2.3574,
           2.8957,
           "L14-15",
           "90",
           "Coordinado"
          ],
          [
           "R51-R34",
           0,
           2.3574,
           2.5642,
           "L14-15",
           "90",
           "Coordinado"
          ],
          [
           "R15-R34",
           0,
           2.202,
           2.5642,
           "L15-16",
           "10",
           "Coordinado"
          ],
          [
           "R55-R56",
           0,
           2.458,
           2.6678,
           "L2-19",
           "90",
           "Coordinado"
          ],
          [
           "R52-R53",
           0,
           2.0691,
           2.3079,
           "L15-16",
           "90",
           "Coordinado"
          ],
          [
           "R12-R72",
           0,
           2.2674,
           3.3862,
           "L12-13",
           "10",
           "Coordinado"
          ],
          [
           "R37-R24",
           0,
           2.2537,
           2.4791,
           "L25-29",
           "10",
           "Coordinado"
          ],
          [
           "R58-R35",
           0,
           2.2341,
           2.5169,
           "L21-22",
           "90",
           "Coordinado"
          ],
          [
           "R24-R23",
           0,
           2.1456,
           2.3964,
           "L24-25",
           "10",
           "Coordinado"
          ],
          [
           "R20-R19",
           0,
           1.5288,
           1.7835,
           "L20-21",
           "10",
           "Coordinado"
          ],
          [
           "R57-R58",
           0,
           2.3342,
           2.5435,
           "L20-21",
           "90",
           "Coordinado"
          ],
          [
           "R57-R33",
           0,
           2.3342,
           2.5844,
           "L20-21",
           "90",
           "Coordinado"
          ],
          [
           "R21-R20",
           0,
           1.0314,
           1.7975,
           "L21-22",
           "10",
           "Coordinado"
          ],
          [
           "R21-R33",
           0,
           1.0314,
           2.5844,
           "L21-22",
           "10",
           "Coordinado"
          ],
          [
           "R53-R54",
           0,
           1.7194,
           1.9344,
           "L16-17",
           "90",
           "Coordinado"
          ],
          [
           "R33-R7",
           0,
           1.8929,
           6.7299,
           "L8-21",
           "10",
           "Coordinado"
          ],
          [
           "R33-R45",
           0,
           1.8929,
           2.2445,
           "L8-21",
           "10",
           "Coordinado"
          ],
          [
           "R70-R58",
           0,
           1.6965,
           2.6372,
           "L8-21",
           "90",
           "Coordinado"
          ],
          [
           "R70-R20",
           0,
           1.6965,
           1.8973,
           "L8-21",
           "90",
           "Coordinado"
          ],
          [
           "R72-R21",
           0,
           1.5163,
           1.7547,
           "L12-22",
           "10",
           "Coordinado"
          ],
          [
           "R35-R11",
           0,
           2.5563,
           3.0255,
           "L12-22",
           "90",
           "Coordinado"
          ],
          [
           "R35-R49",
           0,
           2.5563,
           5.4504,
           "L12-22",
           "90",
           "Coordinado"
          ],
          [
           "R23-R22",
           0,
           2.1316,
           2.3795,
           "L23-24",
           "10",
           "Coordinado"
          ],
          [
           "R60-R61",
           0,
           1.5893,
           1.8386,
           "L23-24",
           "90",
           "Coordinado"
          ],
          [
           "R71-R14",
           0,
           2.8666,
           3.1534,
           "L9-15",
           "90",
           "Coordinado"
          ],
          [
           "R54-R73",
           0,
           1.7386,
           1.9962,
           "L17-18",
           "90",
           "Coordinado"
          ],
          [
           "R8-R7",
           0,
           4.2797,
           4.5054,
           "L8-9",
           "10",
           "Coordinado"
          ],
          [
           "R73-R32",
           0,
           1.8938,
           2.1076,
           "L18-33",
           "90",
           "Coordinado"
          ],
          [
           "R67-R68",
           0,
           1.8465,
           2.1012,
           "L30-31",
           "90",
           "Coordinado"
          ],
          [
           "R40-R41",
           0,
           2.3196,
           2.5652,
           "L3-4",
           "90",
           "Coordinado"
          ],
          [
           "R3-R59",
           0,
           1.7738,
           2.0328,
           "L3-4",
           "10",
           "Coordinado"
          ],
          [
           "R3-R2",
           0,
           1.7738,
           2.5364,
           "L3-4",
           "10",
           "Coordinado"
          ],
          [
           "R59-R60",
           0,
           1.7267,
           1.957,
           "L3-23",
           "90",
           "Coordinado"
          ],
          [
           "R22-R40",
           0,
           2.2584,
           2.4817,
           "L3-23",
           "10",
           "Coordinado"
          ],
          [
           "R22-R2",
           0,
           2.2584,
           2.5364,
           "L3-23",
           "10",
           "Coordinado"
          ],
          [
           "R66-R67",
           0,
           1.8269,
           2.0776,
           "L29-30",
           "90",
           "Coordinado"
          ],
          [
           "R29-R37",
           0,
           2.2942,
           2.5479,
           "L29-30",
           "10",
           "Coordinado"
          ],
          [
           "R29-R28",
           0,
           2.2942,
           2.5295,
           "L29-30",
           "10",
           "Coordinado"
          ],
          [
           "R65-R66",
           0,
           1.5181,
           1.957,
           "L28-29",
           "90",
           "Coordinado"
          ],
          [
           "R65-R37",
           0,
           1.5181,
           2.591,
           "L28-29",
           "90",
           "Coordinado"
          ],
          [
           "R28-R27",
           0,
           2.2229,
           2.4398,
           "L28-29",
           "10",
           "Coordinado"
          ],
          [
           "R64-R65",
           0,
           1.5431,
           1.7636,
           "L27-28",
           "90",
           "Coordinado"
          ],
          [
           "R6-R5",
           0,
           2.1554,
           2.4899,
           "L6-7",
           "10",
           "Coordinado"
          ],
          [
           "R6-R62",
           0,
           2.1554,
           2.5208,
           "L6-7",
           "10",
           "Coordinado"
          ],
          [
           "R31-R30",
           0,
           2.1614,
           2.3859,
           "L31-32",
           "10",
           "Coordinado"
          ],
          [
           "R68-R69",
           0,
           2.016,
           2.2604,
           "L31-32",
           "90",
           "Coordinado"
          ],
          [
           "R32-R31",
           0,
           1.9979,
           2.2296,
           "L32-33",
           "10",
           "Coordinado"
          ],
          [
           "R19-R18",
           0,
           1.3463,
           1.5661,
           "L19-20",
           "10",
           "Coordinado"
          ],
          [
           "R56-R57",
           0,
           2.2167,
           2.4906,
           "L19-20",
           "90",
           "Coordinado"
          ],
          [
           "R18-R39",
           0,
           1.4979,
           1.7607,
           "L2-19",
           "10",
           "Coordinado"
          ],
          [
           "R74-R66",
           0,
           1.702,
           1.957,
           "L25-29",
           "90",
           "Coordinado"
          ],
          [
           "R61-R74",
           0,
           1.5994,
           1.8434,
           "L24-25",
           "90",
           "Coordinado"
          ],
          [
           "R25-R5",
           0,
           2.1936,
           2.404,
           "L6-26",
           "10",
           "Coordinado"
          ],
          [
           "R30-R29",
           0,
           2.1836,
           2.3891,
           "L30-31",
           "10",
           "Coordinado"
          ],
          [
           "R36-R17",
           0,
           2.3017,
           2.5263,
           "L18-33",
           "10",
           "Coordinado"
          ],
          [
           "R62-R63",
           0,
           2.0695,
           2.2765,
           "L6-26",
           "90",
           "Coordinado"
          ],
          [
           "R44-R70",
           0,
           2.1063,
           4.5411,
           "L7-8",
           "90",
           "Coordinado"
          ],
          [
           "R63-R64",
           0,
           1.9329,
           2.1525,
           "L26-27",
           "90",
           "Coordinado"
          ],
          [
           "R42-R62",
           0,
           2.2525,
           2.6915,
           "L5-6",
           "90",
           "Coordinado"
          ],
          [
           "R8-R70",
           0,
           4.2797,
           4.5411,
           "L8-9",
           "10",
           "Coordinado"
          ],
          [
           "R5-R4",
           0,
           1.6098,
           1.8352,
           "L5-6",
           "10",
           "Coordinado"
          ],
          [
           "R4-R3",
           0,
           1.6642,
           1.8978,
           "L4-5",
           "10",
           "Coordinado"
          ],
          [
           "R69-R36",
           0,
           2.1606,
           2.3941,
           "L32-33",
           "90",
           "Coordinado"
          ],
          [
           "R7-R6",
           0,
           2.374,
           2.5893,
           "L7-8",
           "10",
           "Coordinado"
          ],
          [
           "R71-R52",
           0,
           2.8666,
           3.1226,
           "L9-15",
           "90",
           "Coordinado"
          ]
         ],
         "hovertemplate": "status=%{customdata[6]}<br>delta_t=%{y:.4f}<br>pair_label=%{customdata[0]}<br>mt=%{customdata[1]:.4f}<br>tm=%{customdata[2]:.4f}<br>tb=%{customdata[3]:.4f}<br>line=%{customdata[4]}<br>fault=%{customdata[5]}<extra></extra>",
         "legendgroup": "Coordinado",
         "marker": {
          "color": "green",
          "opacity": 0.7,
          "size": 8,
          "symbol": "circle"
         },
         "mode": "markers",
         "name": "Coordinado",
         "orientation": "v",
         "showlegend": true,
         "type": "scatter",
         "x": [
          26,
          27,
          28,
          29,
          30,
          31,
          32,
          33,
          34,
          35,
          36,
          37,
          38,
          39,
          40,
          41,
          42,
          43,
          44,
          45,
          46,
          47,
          48,
          49,
          50,
          51,
          52,
          53,
          54,
          55,
          56,
          57,
          58,
          59,
          60,
          61,
          62,
          63,
          64,
          65,
          66,
          67,
          68,
          69,
          70,
          71,
          72,
          73,
          74,
          75,
          76,
          77,
          78,
          79,
          80,
          81,
          82,
          83,
          84,
          85,
          86,
          87,
          88,
          89,
          90,
          91,
          92,
          93,
          94,
          95,
          96,
          97,
          98,
          99,
          100
         ],
         "xaxis": "x",
         "y": [
          0.15579999999999988,
          0.6047,
          0.01810000000000017,
          0.6098000000000001,
          0.7038000000000002,
          0.009299999999999808,
          0.04399999999999976,
          0.08500000000000013,
          0.6534000000000002,
          0.005500000000000227,
          0.3383,
          0.006799999999999862,
          0.16220000000000007,
          0.009799999999999975,
          0.03879999999999989,
          0.9188000000000003,
          0.025400000000000034,
          0.08279999999999993,
          0.0507999999999999,
          0.05470000000000014,
          0.009299999999999808,
          0.05019999999999997,
          0.5661,
          1.353,
          0.014999999999999847,
          4.637,
          0.1515999999999999,
          0.7407000000000001,
          0.0008000000000000784,
          0.038399999999999934,
          0.2692000000000003,
          2.6941,
          0.0479,
          0.049300000000000066,
          0.08679999999999993,
          0.05760000000000004,
          0.02569999999999978,
          0.013800000000000201,
          0.054699999999999915,
          0.04560000000000003,
          0.058999999999999886,
          0.5626,
          0.03030000000000016,
          0.023300000000000043,
          0.07800000000000001,
          0.05069999999999991,
          0.0536999999999998,
          0.035300000000000054,
          0.23890000000000006,
          0.8729000000000002,
          0.01689999999999986,
          0.02050000000000013,
          0.1344999999999998,
          0.16539999999999971,
          0.02449999999999991,
          0.04440000000000016,
          0.031700000000000006,
          0.019799999999999984,
          0.07390000000000024,
          0.06279999999999991,
          0.055000000000000104,
          0.043999999999999984,
          0.01039999999999991,
          0.005499999999999783,
          0.024600000000000122,
          0.00699999999999984,
          2.2348,
          0.019599999999999784,
          0.23900000000000005,
          0.061400000000000066,
          0.025400000000000034,
          0.03360000000000002,
          0.03349999999999981,
          0.015300000000000036,
          0.05599999999999977
         ],
         "yaxis": "y"
        }
       ],
       "layout": {
        "annotations": [
         {
          "showarrow": false,
          "text": "Límite CTI (Δt=0)",
          "x": 1,
          "xanchor": "right",
          "xref": "x domain",
          "y": 0,
          "yanchor": "top",
          "yref": "y"
         }
        ],
        "legend": {
         "title": {
          "text": "Estado Coordinación"
         },
         "tracegroupgap": 0
        },
        "shapes": [
         {
          "line": {
           "color": "black",
           "dash": "dash",
           "width": 1.5
          },
          "type": "line",
          "x0": 0,
          "x1": 1,
          "xref": "x domain",
          "y0": 0,
          "y1": 0,
          "yref": "y"
         }
        ],
        "template": {
         "data": {
          "bar": [
           {
            "error_x": {
             "color": "#2a3f5f"
            },
            "error_y": {
             "color": "#2a3f5f"
            },
            "marker": {
             "line": {
              "color": "white",
              "width": 0.5
             },
             "pattern": {
              "fillmode": "overlay",
              "size": 10,
              "solidity": 0.2
             }
            },
            "type": "bar"
           }
          ],
          "barpolar": [
           {
            "marker": {
             "line": {
              "color": "white",
              "width": 0.5
             },
             "pattern": {
              "fillmode": "overlay",
              "size": 10,
              "solidity": 0.2
             }
            },
            "type": "barpolar"
           }
          ],
          "carpet": [
           {
            "aaxis": {
             "endlinecolor": "#2a3f5f",
             "gridcolor": "#C8D4E3",
             "linecolor": "#C8D4E3",
             "minorgridcolor": "#C8D4E3",
             "startlinecolor": "#2a3f5f"
            },
            "baxis": {
             "endlinecolor": "#2a3f5f",
             "gridcolor": "#C8D4E3",
             "linecolor": "#C8D4E3",
             "minorgridcolor": "#C8D4E3",
             "startlinecolor": "#2a3f5f"
            },
            "type": "carpet"
           }
          ],
          "choropleth": [
           {
            "colorbar": {
             "outlinewidth": 0,
             "ticks": ""
            },
            "type": "choropleth"
           }
          ],
          "contour": [
           {
            "colorbar": {
             "outlinewidth": 0,
             "ticks": ""
            },
            "colorscale": [
             [
              0,
              "#0d0887"
             ],
             [
              0.1111111111111111,
              "#46039f"
             ],
             [
              0.2222222222222222,
              "#7201a8"
             ],
             [
              0.3333333333333333,
              "#9c179e"
             ],
             [
              0.4444444444444444,
              "#bd3786"
             ],
             [
              0.5555555555555556,
              "#d8576b"
             ],
             [
              0.6666666666666666,
              "#ed7953"
             ],
             [
              0.7777777777777778,
              "#fb9f3a"
             ],
             [
              0.8888888888888888,
              "#fdca26"
             ],
             [
              1,
              "#f0f921"
             ]
            ],
            "type": "contour"
           }
          ],
          "contourcarpet": [
           {
            "colorbar": {
             "outlinewidth": 0,
             "ticks": ""
            },
            "type": "contourcarpet"
           }
          ],
          "heatmap": [
           {
            "colorbar": {
             "outlinewidth": 0,
             "ticks": ""
            },
            "colorscale": [
             [
              0,
              "#0d0887"
             ],
             [
              0.1111111111111111,
              "#46039f"
             ],
             [
              0.2222222222222222,
              "#7201a8"
             ],
             [
              0.3333333333333333,
              "#9c179e"
             ],
             [
              0.4444444444444444,
              "#bd3786"
             ],
             [
              0.5555555555555556,
              "#d8576b"
             ],
             [
              0.6666666666666666,
              "#ed7953"
             ],
             [
              0.7777777777777778,
              "#fb9f3a"
             ],
             [
              0.8888888888888888,
              "#fdca26"
             ],
             [
              1,
              "#f0f921"
             ]
            ],
            "type": "heatmap"
           }
          ],
          "heatmapgl": [
           {
            "colorbar": {
             "outlinewidth": 0,
             "ticks": ""
            },
            "colorscale": [
             [
              0,
              "#0d0887"
             ],
             [
              0.1111111111111111,
              "#46039f"
             ],
             [
              0.2222222222222222,
              "#7201a8"
             ],
             [
              0.3333333333333333,
              "#9c179e"
             ],
             [
              0.4444444444444444,
              "#bd3786"
             ],
             [
              0.5555555555555556,
              "#d8576b"
             ],
             [
              0.6666666666666666,
              "#ed7953"
             ],
             [
              0.7777777777777778,
              "#fb9f3a"
             ],
             [
              0.8888888888888888,
              "#fdca26"
             ],
             [
              1,
              "#f0f921"
             ]
            ],
            "type": "heatmapgl"
           }
          ],
          "histogram": [
           {
            "marker": {
             "pattern": {
              "fillmode": "overlay",
              "size": 10,
              "solidity": 0.2
             }
            },
            "type": "histogram"
           }
          ],
          "histogram2d": [
           {
            "colorbar": {
             "outlinewidth": 0,
             "ticks": ""
            },
            "colorscale": [
             [
              0,
              "#0d0887"
             ],
             [
              0.1111111111111111,
              "#46039f"
             ],
             [
              0.2222222222222222,
              "#7201a8"
             ],
             [
              0.3333333333333333,
              "#9c179e"
             ],
             [
              0.4444444444444444,
              "#bd3786"
             ],
             [
              0.5555555555555556,
              "#d8576b"
             ],
             [
              0.6666666666666666,
              "#ed7953"
             ],
             [
              0.7777777777777778,
              "#fb9f3a"
             ],
             [
              0.8888888888888888,
              "#fdca26"
             ],
             [
              1,
              "#f0f921"
             ]
            ],
            "type": "histogram2d"
           }
          ],
          "histogram2dcontour": [
           {
            "colorbar": {
             "outlinewidth": 0,
             "ticks": ""
            },
            "colorscale": [
             [
              0,
              "#0d0887"
             ],
             [
              0.1111111111111111,
              "#46039f"
             ],
             [
              0.2222222222222222,
              "#7201a8"
             ],
             [
              0.3333333333333333,
              "#9c179e"
             ],
             [
              0.4444444444444444,
              "#bd3786"
             ],
             [
              0.5555555555555556,
              "#d8576b"
             ],
             [
              0.6666666666666666,
              "#ed7953"
             ],
             [
              0.7777777777777778,
              "#fb9f3a"
             ],
             [
              0.8888888888888888,
              "#fdca26"
             ],
             [
              1,
              "#f0f921"
             ]
            ],
            "type": "histogram2dcontour"
           }
          ],
          "mesh3d": [
           {
            "colorbar": {
             "outlinewidth": 0,
             "ticks": ""
            },
            "type": "mesh3d"
           }
          ],
          "parcoords": [
           {
            "line": {
             "colorbar": {
              "outlinewidth": 0,
              "ticks": ""
             }
            },
            "type": "parcoords"
           }
          ],
          "pie": [
           {
            "automargin": true,
            "type": "pie"
           }
          ],
          "scatter": [
           {
            "fillpattern": {
             "fillmode": "overlay",
             "size": 10,
             "solidity": 0.2
            },
            "type": "scatter"
           }
          ],
          "scatter3d": [
           {
            "line": {
             "colorbar": {
              "outlinewidth": 0,
              "ticks": ""
             }
            },
            "marker": {
             "colorbar": {
              "outlinewidth": 0,
              "ticks": ""
             }
            },
            "type": "scatter3d"
           }
          ],
          "scattercarpet": [
           {
            "marker": {
             "colorbar": {
              "outlinewidth": 0,
              "ticks": ""
             }
            },
            "type": "scattercarpet"
           }
          ],
          "scattergeo": [
           {
            "marker": {
             "colorbar": {
              "outlinewidth": 0,
              "ticks": ""
             }
            },
            "type": "scattergeo"
           }
          ],
          "scattergl": [
           {
            "marker": {
             "colorbar": {
              "outlinewidth": 0,
              "ticks": ""
             }
            },
            "type": "scattergl"
           }
          ],
          "scattermapbox": [
           {
            "marker": {
             "colorbar": {
              "outlinewidth": 0,
              "ticks": ""
             }
            },
            "type": "scattermapbox"
           }
          ],
          "scatterpolar": [
           {
            "marker": {
             "colorbar": {
              "outlinewidth": 0,
              "ticks": ""
             }
            },
            "type": "scatterpolar"
           }
          ],
          "scatterpolargl": [
           {
            "marker": {
             "colorbar": {
              "outlinewidth": 0,
              "ticks": ""
             }
            },
            "type": "scatterpolargl"
           }
          ],
          "scatterternary": [
           {
            "marker": {
             "colorbar": {
              "outlinewidth": 0,
              "ticks": ""
             }
            },
            "type": "scatterternary"
           }
          ],
          "surface": [
           {
            "colorbar": {
             "outlinewidth": 0,
             "ticks": ""
            },
            "colorscale": [
             [
              0,
              "#0d0887"
             ],
             [
              0.1111111111111111,
              "#46039f"
             ],
             [
              0.2222222222222222,
              "#7201a8"
             ],
             [
              0.3333333333333333,
              "#9c179e"
             ],
             [
              0.4444444444444444,
              "#bd3786"
             ],
             [
              0.5555555555555556,
              "#d8576b"
             ],
             [
              0.6666666666666666,
              "#ed7953"
             ],
             [
              0.7777777777777778,
              "#fb9f3a"
             ],
             [
              0.8888888888888888,
              "#fdca26"
             ],
             [
              1,
              "#f0f921"
             ]
            ],
            "type": "surface"
           }
          ],
          "table": [
           {
            "cells": {
             "fill": {
              "color": "#EBF0F8"
             },
             "line": {
              "color": "white"
             }
            },
            "header": {
             "fill": {
              "color": "#C8D4E3"
             },
             "line": {
              "color": "white"
             }
            },
            "type": "table"
           }
          ]
         },
         "layout": {
          "annotationdefaults": {
           "arrowcolor": "#2a3f5f",
           "arrowhead": 0,
           "arrowwidth": 1
          },
          "autotypenumbers": "strict",
          "coloraxis": {
           "colorbar": {
            "outlinewidth": 0,
            "ticks": ""
           }
          },
          "colorscale": {
           "diverging": [
            [
             0,
             "#8e0152"
            ],
            [
             0.1,
             "#c51b7d"
            ],
            [
             0.2,
             "#de77ae"
            ],
            [
             0.3,
             "#f1b6da"
            ],
            [
             0.4,
             "#fde0ef"
            ],
            [
             0.5,
             "#f7f7f7"
            ],
            [
             0.6,
             "#e6f5d0"
            ],
            [
             0.7,
             "#b8e186"
            ],
            [
             0.8,
             "#7fbc41"
            ],
            [
             0.9,
             "#4d9221"
            ],
            [
             1,
             "#276419"
            ]
           ],
           "sequential": [
            [
             0,
             "#0d0887"
            ],
            [
             0.1111111111111111,
             "#46039f"
            ],
            [
             0.2222222222222222,
             "#7201a8"
            ],
            [
             0.3333333333333333,
             "#9c179e"
            ],
            [
             0.4444444444444444,
             "#bd3786"
            ],
            [
             0.5555555555555556,
             "#d8576b"
            ],
            [
             0.6666666666666666,
             "#ed7953"
            ],
            [
             0.7777777777777778,
             "#fb9f3a"
            ],
            [
             0.8888888888888888,
             "#fdca26"
            ],
            [
             1,
             "#f0f921"
            ]
           ],
           "sequentialminus": [
            [
             0,
             "#0d0887"
            ],
            [
             0.1111111111111111,
             "#46039f"
            ],
            [
             0.2222222222222222,
             "#7201a8"
            ],
            [
             0.3333333333333333,
             "#9c179e"
            ],
            [
             0.4444444444444444,
             "#bd3786"
            ],
            [
             0.5555555555555556,
             "#d8576b"
            ],
            [
             0.6666666666666666,
             "#ed7953"
            ],
            [
             0.7777777777777778,
             "#fb9f3a"
            ],
            [
             0.8888888888888888,
             "#fdca26"
            ],
            [
             1,
             "#f0f921"
            ]
           ]
          },
          "colorway": [
           "#636efa",
           "#EF553B",
           "#00cc96",
           "#ab63fa",
           "#FFA15A",
           "#19d3f3",
           "#FF6692",
           "#B6E880",
           "#FF97FF",
           "#FECB52"
          ],
          "font": {
           "color": "#2a3f5f"
          },
          "geo": {
           "bgcolor": "white",
           "lakecolor": "white",
           "landcolor": "white",
           "showlakes": true,
           "showland": true,
           "subunitcolor": "#C8D4E3"
          },
          "hoverlabel": {
           "align": "left"
          },
          "hovermode": "closest",
          "mapbox": {
           "style": "light"
          },
          "paper_bgcolor": "white",
          "plot_bgcolor": "white",
          "polar": {
           "angularaxis": {
            "gridcolor": "#EBF0F8",
            "linecolor": "#EBF0F8",
            "ticks": ""
           },
           "bgcolor": "white",
           "radialaxis": {
            "gridcolor": "#EBF0F8",
            "linecolor": "#EBF0F8",
            "ticks": ""
           }
          },
          "scene": {
           "xaxis": {
            "backgroundcolor": "white",
            "gridcolor": "#DFE8F3",
            "gridwidth": 2,
            "linecolor": "#EBF0F8",
            "showbackground": true,
            "ticks": "",
            "zerolinecolor": "#EBF0F8"
           },
           "yaxis": {
            "backgroundcolor": "white",
            "gridcolor": "#DFE8F3",
            "gridwidth": 2,
            "linecolor": "#EBF0F8",
            "showbackground": true,
            "ticks": "",
            "zerolinecolor": "#EBF0F8"
           },
           "zaxis": {
            "backgroundcolor": "white",
            "gridcolor": "#DFE8F3",
            "gridwidth": 2,
            "linecolor": "#EBF0F8",
            "showbackground": true,
            "ticks": "",
            "zerolinecolor": "#EBF0F8"
           }
          },
          "shapedefaults": {
           "line": {
            "color": "#2a3f5f"
           }
          },
          "ternary": {
           "aaxis": {
            "gridcolor": "#DFE8F3",
            "linecolor": "#A2B1C6",
            "ticks": ""
           },
           "baxis": {
            "gridcolor": "#DFE8F3",
            "linecolor": "#A2B1C6",
            "ticks": ""
           },
           "bgcolor": "white",
           "caxis": {
            "gridcolor": "#DFE8F3",
            "linecolor": "#A2B1C6",
            "ticks": ""
           }
          },
          "title": {
           "x": 0.05
          },
          "xaxis": {
           "automargin": true,
           "gridcolor": "#EBF0F8",
           "linecolor": "#EBF0F8",
           "ticks": "",
           "title": {
            "standoff": 15
           },
           "zerolinecolor": "#EBF0F8",
           "zerolinewidth": 2
          },
          "yaxis": {
           "automargin": true,
           "gridcolor": "#EBF0F8",
           "linecolor": "#EBF0F8",
           "ticks": "",
           "title": {
            "standoff": 15
           },
           "zerolinecolor": "#EBF0F8",
           "zerolinewidth": 2
          }
         }
        },
        "title": {
         "text": "Diferencia de Tiempo (Δt vs Índice) - Escenario: scenario_3 Optimizado<br><sup>CTI = 0.2s</sup>"
        },
        "xaxis": {
         "anchor": "y",
         "domain": [
          0,
          1
         ],
         "tickmode": "auto",
         "title": {
          "text": "Índice del Par de Relés (Ordenado por MT Ascendente)"
         }
        },
        "yaxis": {
         "anchor": "x",
         "domain": [
          0,
          1
         ],
         "gridcolor": "lightgrey",
         "title": {
          "text": "Δt (Tb - Tm - CTI) [s]"
         },
         "zerolinecolor": "black",
         "zerolinewidth": 1.5
        }
       }
      }
     },
     "metadata": {},
     "output_type": "display_data"
    },
    {
     "name": "stdout",
     "output_type": "stream",
     "text": [
      "    Displaying mt_histogram plot...\n"
     ]
    },
    {
     "data": {
      "application/vnd.plotly.v1+json": {
       "config": {
        "plotlyServerURL": "https://plot.ly"
       },
       "data": [
        {
         "alignmentgroup": "True",
         "bingroup": "x",
         "hovertemplate": "status=Descoordinado<br>mt=%{x}<br>count=%{y}<extra></extra>",
         "legendgroup": "Descoordinado",
         "marker": {
          "color": "red",
          "pattern": {
           "shape": ""
          }
         },
         "name": "Descoordinado",
         "nbinsx": 20,
         "offsetgroup": "Descoordinado",
         "orientation": "v",
         "showlegend": true,
         "type": "histogram",
         "x": [
          -2.5373,
          -2.2012,
          -2.2012,
          -2.1929,
          -2.1929,
          -2.1749,
          -2.1749,
          -1.6979,
          -0.2,
          -0.2,
          -0.2,
          -0.2,
          -0.17739999999999984,
          -0.1630000000000001,
          -0.1062999999999999,
          -0.09749999999999998,
          -0.07519999999999999,
          -0.07159999999999994,
          -0.065,
          -0.04140000000000016,
          -0.026299999999999824,
          -0.02329999999999971,
          -0.01180000000000031,
          -0.010200000000000042,
          -0.007400000000000351
         ],
         "xaxis": "x",
         "yaxis": "y"
        },
        {
         "alignmentgroup": "True",
         "hovertemplate": "status=Descoordinado<br>mt=%{x}<extra></extra>",
         "legendgroup": "Descoordinado",
         "marker": {
          "color": "red"
         },
         "name": "Descoordinado",
         "notched": true,
         "offsetgroup": "Descoordinado",
         "showlegend": false,
         "type": "box",
         "x": [
          -2.5373,
          -2.2012,
          -2.2012,
          -2.1929,
          -2.1929,
          -2.1749,
          -2.1749,
          -1.6979,
          -0.2,
          -0.2,
          -0.2,
          -0.2,
          -0.17739999999999984,
          -0.1630000000000001,
          -0.1062999999999999,
          -0.09749999999999998,
          -0.07519999999999999,
          -0.07159999999999994,
          -0.065,
          -0.04140000000000016,
          -0.026299999999999824,
          -0.02329999999999971,
          -0.01180000000000031,
          -0.010200000000000042,
          -0.007400000000000351
         ],
         "xaxis": "x2",
         "yaxis": "y2"
        },
        {
         "alignmentgroup": "True",
         "bingroup": "x",
         "hovertemplate": "status=Coordinado<br>mt=%{x}<br>count=%{y}<extra></extra>",
         "legendgroup": "Coordinado",
         "marker": {
          "color": "green",
          "pattern": {
           "shape": ""
          }
         },
         "name": "Coordinado",
         "nbinsx": 20,
         "offsetgroup": "Coordinado",
         "orientation": "v",
         "showlegend": true,
         "type": "histogram",
         "x": [
          0,
          0,
          0,
          0,
          0,
          0,
          0,
          0,
          0,
          0,
          0,
          0,
          0,
          0,
          0,
          0,
          0,
          0,
          0,
          0,
          0,
          0,
          0,
          0,
          0,
          0,
          0,
          0,
          0,
          0,
          0,
          0,
          0,
          0,
          0,
          0,
          0,
          0,
          0,
          0,
          0,
          0,
          0,
          0,
          0,
          0,
          0,
          0,
          0,
          0,
          0,
          0,
          0,
          0,
          0,
          0,
          0,
          0,
          0,
          0,
          0,
          0,
          0,
          0,
          0,
          0,
          0,
          0,
          0,
          0,
          0,
          0,
          0,
          0,
          0
         ],
         "xaxis": "x",
         "yaxis": "y"
        },
        {
         "alignmentgroup": "True",
         "hovertemplate": "status=Coordinado<br>mt=%{x}<extra></extra>",
         "legendgroup": "Coordinado",
         "marker": {
          "color": "green"
         },
         "name": "Coordinado",
         "notched": true,
         "offsetgroup": "Coordinado",
         "showlegend": false,
         "type": "box",
         "x": [
          0,
          0,
          0,
          0,
          0,
          0,
          0,
          0,
          0,
          0,
          0,
          0,
          0,
          0,
          0,
          0,
          0,
          0,
          0,
          0,
          0,
          0,
          0,
          0,
          0,
          0,
          0,
          0,
          0,
          0,
          0,
          0,
          0,
          0,
          0,
          0,
          0,
          0,
          0,
          0,
          0,
          0,
          0,
          0,
          0,
          0,
          0,
          0,
          0,
          0,
          0,
          0,
          0,
          0,
          0,
          0,
          0,
          0,
          0,
          0,
          0,
          0,
          0,
          0,
          0,
          0,
          0,
          0,
          0,
          0,
          0,
          0,
          0,
          0,
          0
         ],
         "xaxis": "x2",
         "yaxis": "y2"
        }
       ],
       "layout": {
        "bargap": 0.1,
        "barmode": "relative",
        "legend": {
         "title": {
          "text": "Estado Coordinación"
         },
         "tracegroupgap": 0
        },
        "template": {
         "data": {
          "bar": [
           {
            "error_x": {
             "color": "#2a3f5f"
            },
            "error_y": {
             "color": "#2a3f5f"
            },
            "marker": {
             "line": {
              "color": "white",
              "width": 0.5
             },
             "pattern": {
              "fillmode": "overlay",
              "size": 10,
              "solidity": 0.2
             }
            },
            "type": "bar"
           }
          ],
          "barpolar": [
           {
            "marker": {
             "line": {
              "color": "white",
              "width": 0.5
             },
             "pattern": {
              "fillmode": "overlay",
              "size": 10,
              "solidity": 0.2
             }
            },
            "type": "barpolar"
           }
          ],
          "carpet": [
           {
            "aaxis": {
             "endlinecolor": "#2a3f5f",
             "gridcolor": "#C8D4E3",
             "linecolor": "#C8D4E3",
             "minorgridcolor": "#C8D4E3",
             "startlinecolor": "#2a3f5f"
            },
            "baxis": {
             "endlinecolor": "#2a3f5f",
             "gridcolor": "#C8D4E3",
             "linecolor": "#C8D4E3",
             "minorgridcolor": "#C8D4E3",
             "startlinecolor": "#2a3f5f"
            },
            "type": "carpet"
           }
          ],
          "choropleth": [
           {
            "colorbar": {
             "outlinewidth": 0,
             "ticks": ""
            },
            "type": "choropleth"
           }
          ],
          "contour": [
           {
            "colorbar": {
             "outlinewidth": 0,
             "ticks": ""
            },
            "colorscale": [
             [
              0,
              "#0d0887"
             ],
             [
              0.1111111111111111,
              "#46039f"
             ],
             [
              0.2222222222222222,
              "#7201a8"
             ],
             [
              0.3333333333333333,
              "#9c179e"
             ],
             [
              0.4444444444444444,
              "#bd3786"
             ],
             [
              0.5555555555555556,
              "#d8576b"
             ],
             [
              0.6666666666666666,
              "#ed7953"
             ],
             [
              0.7777777777777778,
              "#fb9f3a"
             ],
             [
              0.8888888888888888,
              "#fdca26"
             ],
             [
              1,
              "#f0f921"
             ]
            ],
            "type": "contour"
           }
          ],
          "contourcarpet": [
           {
            "colorbar": {
             "outlinewidth": 0,
             "ticks": ""
            },
            "type": "contourcarpet"
           }
          ],
          "heatmap": [
           {
            "colorbar": {
             "outlinewidth": 0,
             "ticks": ""
            },
            "colorscale": [
             [
              0,
              "#0d0887"
             ],
             [
              0.1111111111111111,
              "#46039f"
             ],
             [
              0.2222222222222222,
              "#7201a8"
             ],
             [
              0.3333333333333333,
              "#9c179e"
             ],
             [
              0.4444444444444444,
              "#bd3786"
             ],
             [
              0.5555555555555556,
              "#d8576b"
             ],
             [
              0.6666666666666666,
              "#ed7953"
             ],
             [
              0.7777777777777778,
              "#fb9f3a"
             ],
             [
              0.8888888888888888,
              "#fdca26"
             ],
             [
              1,
              "#f0f921"
             ]
            ],
            "type": "heatmap"
           }
          ],
          "heatmapgl": [
           {
            "colorbar": {
             "outlinewidth": 0,
             "ticks": ""
            },
            "colorscale": [
             [
              0,
              "#0d0887"
             ],
             [
              0.1111111111111111,
              "#46039f"
             ],
             [
              0.2222222222222222,
              "#7201a8"
             ],
             [
              0.3333333333333333,
              "#9c179e"
             ],
             [
              0.4444444444444444,
              "#bd3786"
             ],
             [
              0.5555555555555556,
              "#d8576b"
             ],
             [
              0.6666666666666666,
              "#ed7953"
             ],
             [
              0.7777777777777778,
              "#fb9f3a"
             ],
             [
              0.8888888888888888,
              "#fdca26"
             ],
             [
              1,
              "#f0f921"
             ]
            ],
            "type": "heatmapgl"
           }
          ],
          "histogram": [
           {
            "marker": {
             "pattern": {
              "fillmode": "overlay",
              "size": 10,
              "solidity": 0.2
             }
            },
            "type": "histogram"
           }
          ],
          "histogram2d": [
           {
            "colorbar": {
             "outlinewidth": 0,
             "ticks": ""
            },
            "colorscale": [
             [
              0,
              "#0d0887"
             ],
             [
              0.1111111111111111,
              "#46039f"
             ],
             [
              0.2222222222222222,
              "#7201a8"
             ],
             [
              0.3333333333333333,
              "#9c179e"
             ],
             [
              0.4444444444444444,
              "#bd3786"
             ],
             [
              0.5555555555555556,
              "#d8576b"
             ],
             [
              0.6666666666666666,
              "#ed7953"
             ],
             [
              0.7777777777777778,
              "#fb9f3a"
             ],
             [
              0.8888888888888888,
              "#fdca26"
             ],
             [
              1,
              "#f0f921"
             ]
            ],
            "type": "histogram2d"
           }
          ],
          "histogram2dcontour": [
           {
            "colorbar": {
             "outlinewidth": 0,
             "ticks": ""
            },
            "colorscale": [
             [
              0,
              "#0d0887"
             ],
             [
              0.1111111111111111,
              "#46039f"
             ],
             [
              0.2222222222222222,
              "#7201a8"
             ],
             [
              0.3333333333333333,
              "#9c179e"
             ],
             [
              0.4444444444444444,
              "#bd3786"
             ],
             [
              0.5555555555555556,
              "#d8576b"
             ],
             [
              0.6666666666666666,
              "#ed7953"
             ],
             [
              0.7777777777777778,
              "#fb9f3a"
             ],
             [
              0.8888888888888888,
              "#fdca26"
             ],
             [
              1,
              "#f0f921"
             ]
            ],
            "type": "histogram2dcontour"
           }
          ],
          "mesh3d": [
           {
            "colorbar": {
             "outlinewidth": 0,
             "ticks": ""
            },
            "type": "mesh3d"
           }
          ],
          "parcoords": [
           {
            "line": {
             "colorbar": {
              "outlinewidth": 0,
              "ticks": ""
             }
            },
            "type": "parcoords"
           }
          ],
          "pie": [
           {
            "automargin": true,
            "type": "pie"
           }
          ],
          "scatter": [
           {
            "fillpattern": {
             "fillmode": "overlay",
             "size": 10,
             "solidity": 0.2
            },
            "type": "scatter"
           }
          ],
          "scatter3d": [
           {
            "line": {
             "colorbar": {
              "outlinewidth": 0,
              "ticks": ""
             }
            },
            "marker": {
             "colorbar": {
              "outlinewidth": 0,
              "ticks": ""
             }
            },
            "type": "scatter3d"
           }
          ],
          "scattercarpet": [
           {
            "marker": {
             "colorbar": {
              "outlinewidth": 0,
              "ticks": ""
             }
            },
            "type": "scattercarpet"
           }
          ],
          "scattergeo": [
           {
            "marker": {
             "colorbar": {
              "outlinewidth": 0,
              "ticks": ""
             }
            },
            "type": "scattergeo"
           }
          ],
          "scattergl": [
           {
            "marker": {
             "colorbar": {
              "outlinewidth": 0,
              "ticks": ""
             }
            },
            "type": "scattergl"
           }
          ],
          "scattermapbox": [
           {
            "marker": {
             "colorbar": {
              "outlinewidth": 0,
              "ticks": ""
             }
            },
            "type": "scattermapbox"
           }
          ],
          "scatterpolar": [
           {
            "marker": {
             "colorbar": {
              "outlinewidth": 0,
              "ticks": ""
             }
            },
            "type": "scatterpolar"
           }
          ],
          "scatterpolargl": [
           {
            "marker": {
             "colorbar": {
              "outlinewidth": 0,
              "ticks": ""
             }
            },
            "type": "scatterpolargl"
           }
          ],
          "scatterternary": [
           {
            "marker": {
             "colorbar": {
              "outlinewidth": 0,
              "ticks": ""
             }
            },
            "type": "scatterternary"
           }
          ],
          "surface": [
           {
            "colorbar": {
             "outlinewidth": 0,
             "ticks": ""
            },
            "colorscale": [
             [
              0,
              "#0d0887"
             ],
             [
              0.1111111111111111,
              "#46039f"
             ],
             [
              0.2222222222222222,
              "#7201a8"
             ],
             [
              0.3333333333333333,
              "#9c179e"
             ],
             [
              0.4444444444444444,
              "#bd3786"
             ],
             [
              0.5555555555555556,
              "#d8576b"
             ],
             [
              0.6666666666666666,
              "#ed7953"
             ],
             [
              0.7777777777777778,
              "#fb9f3a"
             ],
             [
              0.8888888888888888,
              "#fdca26"
             ],
             [
              1,
              "#f0f921"
             ]
            ],
            "type": "surface"
           }
          ],
          "table": [
           {
            "cells": {
             "fill": {
              "color": "#EBF0F8"
             },
             "line": {
              "color": "white"
             }
            },
            "header": {
             "fill": {
              "color": "#C8D4E3"
             },
             "line": {
              "color": "white"
             }
            },
            "type": "table"
           }
          ]
         },
         "layout": {
          "annotationdefaults": {
           "arrowcolor": "#2a3f5f",
           "arrowhead": 0,
           "arrowwidth": 1
          },
          "autotypenumbers": "strict",
          "coloraxis": {
           "colorbar": {
            "outlinewidth": 0,
            "ticks": ""
           }
          },
          "colorscale": {
           "diverging": [
            [
             0,
             "#8e0152"
            ],
            [
             0.1,
             "#c51b7d"
            ],
            [
             0.2,
             "#de77ae"
            ],
            [
             0.3,
             "#f1b6da"
            ],
            [
             0.4,
             "#fde0ef"
            ],
            [
             0.5,
             "#f7f7f7"
            ],
            [
             0.6,
             "#e6f5d0"
            ],
            [
             0.7,
             "#b8e186"
            ],
            [
             0.8,
             "#7fbc41"
            ],
            [
             0.9,
             "#4d9221"
            ],
            [
             1,
             "#276419"
            ]
           ],
           "sequential": [
            [
             0,
             "#0d0887"
            ],
            [
             0.1111111111111111,
             "#46039f"
            ],
            [
             0.2222222222222222,
             "#7201a8"
            ],
            [
             0.3333333333333333,
             "#9c179e"
            ],
            [
             0.4444444444444444,
             "#bd3786"
            ],
            [
             0.5555555555555556,
             "#d8576b"
            ],
            [
             0.6666666666666666,
             "#ed7953"
            ],
            [
             0.7777777777777778,
             "#fb9f3a"
            ],
            [
             0.8888888888888888,
             "#fdca26"
            ],
            [
             1,
             "#f0f921"
            ]
           ],
           "sequentialminus": [
            [
             0,
             "#0d0887"
            ],
            [
             0.1111111111111111,
             "#46039f"
            ],
            [
             0.2222222222222222,
             "#7201a8"
            ],
            [
             0.3333333333333333,
             "#9c179e"
            ],
            [
             0.4444444444444444,
             "#bd3786"
            ],
            [
             0.5555555555555556,
             "#d8576b"
            ],
            [
             0.6666666666666666,
             "#ed7953"
            ],
            [
             0.7777777777777778,
             "#fb9f3a"
            ],
            [
             0.8888888888888888,
             "#fdca26"
            ],
            [
             1,
             "#f0f921"
            ]
           ]
          },
          "colorway": [
           "#636efa",
           "#EF553B",
           "#00cc96",
           "#ab63fa",
           "#FFA15A",
           "#19d3f3",
           "#FF6692",
           "#B6E880",
           "#FF97FF",
           "#FECB52"
          ],
          "font": {
           "color": "#2a3f5f"
          },
          "geo": {
           "bgcolor": "white",
           "lakecolor": "white",
           "landcolor": "white",
           "showlakes": true,
           "showland": true,
           "subunitcolor": "#C8D4E3"
          },
          "hoverlabel": {
           "align": "left"
          },
          "hovermode": "closest",
          "mapbox": {
           "style": "light"
          },
          "paper_bgcolor": "white",
          "plot_bgcolor": "white",
          "polar": {
           "angularaxis": {
            "gridcolor": "#EBF0F8",
            "linecolor": "#EBF0F8",
            "ticks": ""
           },
           "bgcolor": "white",
           "radialaxis": {
            "gridcolor": "#EBF0F8",
            "linecolor": "#EBF0F8",
            "ticks": ""
           }
          },
          "scene": {
           "xaxis": {
            "backgroundcolor": "white",
            "gridcolor": "#DFE8F3",
            "gridwidth": 2,
            "linecolor": "#EBF0F8",
            "showbackground": true,
            "ticks": "",
            "zerolinecolor": "#EBF0F8"
           },
           "yaxis": {
            "backgroundcolor": "white",
            "gridcolor": "#DFE8F3",
            "gridwidth": 2,
            "linecolor": "#EBF0F8",
            "showbackground": true,
            "ticks": "",
            "zerolinecolor": "#EBF0F8"
           },
           "zaxis": {
            "backgroundcolor": "white",
            "gridcolor": "#DFE8F3",
            "gridwidth": 2,
            "linecolor": "#EBF0F8",
            "showbackground": true,
            "ticks": "",
            "zerolinecolor": "#EBF0F8"
           }
          },
          "shapedefaults": {
           "line": {
            "color": "#2a3f5f"
           }
          },
          "ternary": {
           "aaxis": {
            "gridcolor": "#DFE8F3",
            "linecolor": "#A2B1C6",
            "ticks": ""
           },
           "baxis": {
            "gridcolor": "#DFE8F3",
            "linecolor": "#A2B1C6",
            "ticks": ""
           },
           "bgcolor": "white",
           "caxis": {
            "gridcolor": "#DFE8F3",
            "linecolor": "#A2B1C6",
            "ticks": ""
           }
          },
          "title": {
           "x": 0.05
          },
          "xaxis": {
           "automargin": true,
           "gridcolor": "#EBF0F8",
           "linecolor": "#EBF0F8",
           "ticks": "",
           "title": {
            "standoff": 15
           },
           "zerolinecolor": "#EBF0F8",
           "zerolinewidth": 2
          },
          "yaxis": {
           "automargin": true,
           "gridcolor": "#EBF0F8",
           "linecolor": "#EBF0F8",
           "ticks": "",
           "title": {
            "standoff": 15
           },
           "zerolinecolor": "#EBF0F8",
           "zerolinewidth": 2
          }
         }
        },
        "title": {
         "text": "Distribución de Valores MT - Escenario: scenario_3 Optimizado"
        },
        "xaxis": {
         "anchor": "y",
         "domain": [
          0,
          1
         ],
         "title": {
          "text": "Valor MT"
         }
        },
        "xaxis2": {
         "anchor": "y2",
         "domain": [
          0,
          1
         ],
         "matches": "x",
         "showgrid": true,
         "showticklabels": false
        },
        "yaxis": {
         "anchor": "x",
         "domain": [
          0,
          0.7326
         ],
         "title": {
          "text": "Frecuencia (Número de Pares)"
         }
        },
        "yaxis2": {
         "anchor": "x2",
         "domain": [
          0.7426,
          1
         ],
         "matches": "y2",
         "showgrid": false,
         "showline": false,
         "showticklabels": false,
         "ticks": ""
        }
       }
      }
     },
     "metadata": {},
     "output_type": "display_data"
    },
    {
     "name": "stdout",
     "output_type": "stream",
     "text": [
      "--- Plot generation, saving, and display complete for Scenario: scenario_3 ---\n",
      "\n",
      "--- Analysis Complete for Scenario: scenario_3 ---\n",
      "\n",
      "============================================\n",
      "=== Script Execution Finished ===\n",
      "============================================\n"
     ]
    }
   ],
   "source": [
    "# %% Import Libraries\n",
    "import json\n",
    "import matplotlib.pyplot as plt # Still needed for TMT summary plot if run for all\n",
    "import numpy as np\n",
    "import pandas as pd\n",
    "from collections import defaultdict\n",
    "import os\n",
    "import plotly.graph_objects as go\n",
    "import plotly.express as px\n",
    "import plotly.io as pio\n",
    "import traceback # For detailed error reporting\n",
    "\n",
    "# %% Configuration\n",
    "# Set default Plotly template\n",
    "# --- CORRECTED TEMPLATE NAME ---\n",
    "pio.templates.default = \"plotly_white\" # Standard template for white background\n",
    "# -------------------------------\n",
    "\n",
    "json_file_path = \"/Users/gustavo/Documents/Projects/TESIS_UNAL/ADAPTIVE_ALGORITHM/data/processed/independent_relay_pairs_second_optimization.json\"\n",
    "# Output directory for results - will be created if it doesn't exist\n",
    "output_dir = \"/Users/gustavo/Documents/Projects/TESIS_UNAL/ADAPTIVE_ALGORITHM/results/second_coordination_plots\"\n",
    "\n",
    "# Coordination Time Interval (CTI)\n",
    "CTI = 0.2\n",
    "\n",
    "# %% Helper Functions\n",
    "\n",
    "def calculate_MT(tm, tb, cti=CTI):\n",
    "    \"\"\"Calculates the Miscoordination Index (MT) and the time difference delta.\"\"\"\n",
    "    delta_tmb = tb - tm - cti\n",
    "    MT = (delta_tmb - abs(delta_tmb)) / 2\n",
    "    return MT, delta_tmb\n",
    "\n",
    "def analyze_by_scenario(data, cti=CTI):\n",
    "    \"\"\"\n",
    "    Analyzes relay pair data, calculating MT, Delta_t, TMT,\n",
    "    and extracting additional info (line, fault) for each scenario.\n",
    "    Returns a dictionary mapping scenario_id to its analysis results (DataFrame, TMT).\n",
    "    \"\"\"\n",
    "    scenarios = defaultdict(lambda: {\"pairs_data\": []})\n",
    "    print(\"Starting data extraction and processing for scenarios...\")\n",
    "    processed_count = 0\n",
    "    skipped_count = 0\n",
    "    # --- Data Extraction and Initial Processing ---\n",
    "    for idx, relay_pair in enumerate(data):\n",
    "        record_label = f\"Record {idx+1}\"\n",
    "        scenario_id = relay_pair.get(\"scenario_id\")\n",
    "        if not scenario_id:\n",
    "            # print(f\"Warning: Skipping record {idx+1} - Missing 'scenario_id'.\")\n",
    "            skipped_count += 1\n",
    "            continue\n",
    "\n",
    "        record_label = f\"{record_label} (Scenario: {scenario_id})\"\n",
    "        main_relay = relay_pair.get(\"main_relay\")\n",
    "        backup_relay = relay_pair.get(\"backup_relay\")\n",
    "        if not main_relay or not backup_relay:\n",
    "            # print(f\"Warning: Skipping {record_label} - Missing 'main_relay' or 'backup_relay' data.\")\n",
    "            skipped_count += 1\n",
    "            continue\n",
    "\n",
    "        tm_val = main_relay.get(\"Time_out\")\n",
    "        tb_val = backup_relay.get(\"Time_out\")\n",
    "        main_relay_id = main_relay.get(\"relay\", f\"Main_Unknown_{idx+1}\")\n",
    "        backup_relay_id = backup_relay.get(\"relay\", f\"Backup_Unknown_{idx+1}\")\n",
    "        pair_name = f\"{main_relay_id}-{backup_relay_id}\"\n",
    "        record_label = f\"{record_label}, Pair: {pair_name}\"\n",
    "\n",
    "        if tm_val is None or tb_val is None:\n",
    "            # print(f\"Warning: Skipping {record_label} - Missing 'Time_out' for main or backup relay.\")\n",
    "            skipped_count += 1\n",
    "            continue\n",
    "\n",
    "        line_info = relay_pair.get('line', main_relay.get('line', backup_relay.get('line', 'N/A')))\n",
    "        fault_info = relay_pair.get('fault', main_relay.get('fault', backup_relay.get('fault', 'N/A')))\n",
    "\n",
    "        try:\n",
    "             tm_float = float(tm_val)\n",
    "             tb_float = float(tb_val)\n",
    "             if tm_float < 0 or tb_float < 0:\n",
    "                 # print(f\"Warning: Skipping {record_label} - Negative time values detected (Tm={tm_float}, Tb={tb_float}).\")\n",
    "                 skipped_count += 1\n",
    "                 continue\n",
    "             mt, delta_t = calculate_MT(tm_float, tb_float, cti)\n",
    "        except (ValueError, TypeError) as e:\n",
    "             print(f\"Warning: Could not calculate MT for {record_label}. Invalid time values? Tm='{tm_val}', Tb='{tb_val}'. Error: {e}\")\n",
    "             skipped_count += 1\n",
    "             continue\n",
    "\n",
    "        pair_info = {\n",
    "            \"pair_label\": pair_name, \"mt\": mt, \"delta_t\": delta_t,\n",
    "            \"tm\": tm_float, \"tb\": tb_float, \"main_relay_id\": main_relay_id,\n",
    "            \"backup_relay_id\": backup_relay_id, \"line\": line_info,\n",
    "            \"fault\": fault_info, \"status\": \"Coordinado\" if delta_t >= 0 else \"Descoordinado\"\n",
    "        }\n",
    "        scenarios[scenario_id][\"pairs_data\"].append(pair_info)\n",
    "        processed_count += 1\n",
    "\n",
    "    print(f\"Data extraction complete. Processed pairs: {processed_count}, Skipped records/pairs: {skipped_count}\")\n",
    "\n",
    "    # --- Aggregation per Scenario ---\n",
    "    print(\"Aggregating results per scenario...\")\n",
    "    results = {}\n",
    "    all_scenario_ids = sorted(list(scenarios.keys()))\n",
    "\n",
    "    if not all_scenario_ids:\n",
    "        print(\"No scenarios found with valid data after processing.\")\n",
    "        return results\n",
    "\n",
    "    for scenario_id in all_scenario_ids:\n",
    "        scenario_pairs_list = scenarios[scenario_id][\"pairs_data\"]\n",
    "        if not scenario_pairs_list:\n",
    "            # print(f\"Info: Scenario '{scenario_id}' has no valid pairs after processing.\")\n",
    "            continue\n",
    "        try:\n",
    "            df = pd.DataFrame(scenario_pairs_list)\n",
    "            tmt = df[\"mt\"].sum()\n",
    "            results[scenario_id] = {\"detailed_df\": df, \"TMT\": tmt}\n",
    "            # print(f\"Scenario '{scenario_id}' processed. TMT: {tmt:.4f}, Pairs: {len(df)}\")\n",
    "        except Exception as e:\n",
    "            print(f\"Error creating DataFrame or calculating TMT for scenario '{scenario_id}': {e}\")\n",
    "            continue\n",
    "\n",
    "    print(\"Scenario aggregation complete.\")\n",
    "    return results\n",
    "\n",
    "\n",
    "# %% Plotting Functions\n",
    "\n",
    "def plot_scenario_details_plotly(scenario_data_df, scenario_id, output_dir, cti=CTI):\n",
    "    \"\"\"\n",
    "    Generates, SAVES, and DISPLAYS multiple interactive Plotly charts for a scenario:\n",
    "    1. MT Bar Chart\n",
    "    2. Delta_t Bar Chart  <-- NEW\n",
    "    3. Delta_t Scatter Plot\n",
    "    4. MT Histogram\n",
    "    \"\"\"\n",
    "    if not isinstance(scenario_data_df, pd.DataFrame) or scenario_data_df.empty:\n",
    "        print(f\"Plotting skipped for scenario {scenario_id}: No valid DataFrame provided.\")\n",
    "        return\n",
    "\n",
    "    print(f\"\\n--- Generating Plots for Scenario: {scenario_id} ---\")\n",
    "    # Sort by MT for consistent ordering in MT and Delta_t plots\n",
    "    df_sorted_mt = scenario_data_df.sort_values(by='mt', ascending=True).reset_index(drop=True)\n",
    "    df_sorted_mt['plot_index'] = df_sorted_mt.index + 1\n",
    "    tmt = df_sorted_mt[\"mt\"].sum()\n",
    "    n_pairs = len(df_sorted_mt)\n",
    "\n",
    "    # Common hover text generation logic (avoids repetition)\n",
    "    def generate_hover_text(row):\n",
    "        return (f\"<b>{row['pair_label']}</b><br>Índice Plot: {row['plot_index']}<br>\" +\n",
    "                f\"MT: {row['mt']:.4f} | <b>Δt: {row['delta_t']:.4f}s</b><br>\" +\n",
    "                f\"Tm: {row['tm']:.4f}s | Tb: {row['tb']:.4f}s<br>Línea: {row['line']} | Falla: {row['fault']}<br>\" +\n",
    "                f\"Estado: {row['status']}<extra></extra>\")\n",
    "\n",
    "    hover_texts = [generate_hover_text(row) for _, row in df_sorted_mt.iterrows()]\n",
    "\n",
    "    # --- 1. MT Bar Chart (Shows all pairs, positive and negative MT) ---\n",
    "    try:\n",
    "        print(f\"  Generating MT Bar Chart...\")\n",
    "        colors_mt = ['red' if mt < 0 else 'green' for mt in df_sorted_mt['mt']]\n",
    "        fig_mt_bar = go.Figure(data=[go.Bar(\n",
    "            x=df_sorted_mt['plot_index'], y=df_sorted_mt['mt'], marker_color=colors_mt,\n",
    "            name='Índice MT', text=hover_texts, hoverinfo='text'\n",
    "        )])\n",
    "        fig_mt_bar.add_hline(y=0, line_width=1.5, line_dash=\"dash\", line_color=\"black\")\n",
    "        fig_mt_bar.update_layout(\n",
    "            title=f'Índice de Descoordinación (MT) - Escenario: {scenario_id} Optimizado<br><sup>TMT = {tmt:.4f} | Pares = {n_pairs}</sup>',\n",
    "            xaxis_title='Índice del Par de Relés (Ordenado por MT Ascendente)', yaxis_title='Índice MT',\n",
    "            xaxis=dict(tickmode='auto'),\n",
    "            yaxis=dict(gridcolor='lightgrey', zerolinecolor='black', zerolinewidth=1.5),\n",
    "            bargap=0.1, height=max(500, 400 + n_pairs * 5), margin=dict(l=60, r=30, t=100, b=100)\n",
    "        )\n",
    "    except Exception as e:\n",
    "        print(f\"    Error generating MT Bar Chart: {e}\")\n",
    "        fig_mt_bar = None\n",
    "\n",
    "    # --- 2. Delta_t Bar Chart (Shows all pairs, positive and negative Delta_t) --- <<< NEW PLOT\n",
    "    try:\n",
    "        print(f\"  Generating Delta_t Bar Chart...\")\n",
    "        colors_delta = ['red' if delta_t < 0 else 'green' for delta_t in df_sorted_mt['delta_t']]\n",
    "        fig_delta_bar = go.Figure(data=[go.Bar(\n",
    "            x=df_sorted_mt['plot_index'], y=df_sorted_mt['delta_t'], marker_color=colors_delta,\n",
    "            name='Δt (Tb - Tm - CTI)', text=hover_texts, hoverinfo='text'\n",
    "        )])\n",
    "        fig_delta_bar.add_hline(y=0, line_width=1.5, line_dash=\"dash\", line_color=\"black\",\n",
    "                                annotation_text=\"Límite CTI (Δt=0)\", annotation_position=\"bottom right\")\n",
    "        fig_delta_bar.update_layout(\n",
    "            title=f'Diferencia de Tiempo (Δt = Tb - Tm - CTI) - Escenario: {scenario_id} Optimizado<br><sup>CTI = {cti}s</sup>',\n",
    "            xaxis_title='Índice del Par de Relés (Ordenado por MT Ascendente)', yaxis_title='Δt [s]',\n",
    "            xaxis=dict(tickmode='auto'),\n",
    "            yaxis=dict(gridcolor='lightgrey', zerolinecolor='black', zerolinewidth=1.5),\n",
    "            bargap=0.1, height=max(500, 400 + n_pairs * 5), margin=dict(l=60, r=30, t=100, b=100)\n",
    "        )\n",
    "    except Exception as e:\n",
    "        print(f\"    Error generating Delta_t Bar Chart: {e}\")\n",
    "        fig_delta_bar = None\n",
    "\n",
    "    # --- 3. Delta_t Scatter Plot (Shows all pairs, colors by status) ---\n",
    "    try:\n",
    "        print(f\"  Generating Delta_t Scatter Plot...\")\n",
    "        fig_delta_scatter = px.scatter(\n",
    "            df_sorted_mt, x='plot_index', y='delta_t', color='status',\n",
    "            color_discrete_map={'Coordinado': 'green', 'Descoordinado': 'red'},\n",
    "            hover_data={'plot_index': False, 'pair_label': True, 'delta_t': ':.4f', 'mt': ':.4f',\n",
    "                        'tm': ':.4f', 'tb': ':.4f', 'line': True, 'fault': True, 'status': True},\n",
    "            title=f'Diferencia de Tiempo (Δt vs Índice) - Escenario: {scenario_id} Optimizado<br><sup>CTI = {cti}s</sup>'\n",
    "        )\n",
    "        fig_delta_scatter.add_hline(y=0, line_width=1.5, line_dash=\"dash\", line_color=\"black\",\n",
    "                                     annotation_text=\"Límite CTI (Δt=0)\", annotation_position=\"bottom right\")\n",
    "        fig_delta_scatter.update_layout(\n",
    "            xaxis_title='Índice del Par de Relés (Ordenado por MT Ascendente)', yaxis_title='Δt (Tb - Tm - CTI) [s]',\n",
    "            xaxis=dict(tickmode='auto'), yaxis=dict(gridcolor='lightgrey', zerolinecolor='black', zerolinewidth=1.5),\n",
    "            legend_title_text='Estado Coordinación'\n",
    "        )\n",
    "        fig_delta_scatter.update_traces(marker=dict(size=8, opacity=0.7), selector=dict(mode='markers'))\n",
    "    except Exception as e:\n",
    "        print(f\"    Error generating Delta_t Scatter Plot: {e}\")\n",
    "        fig_delta_scatter = None\n",
    "\n",
    "    # --- 4. MT Histogram ---\n",
    "    try:\n",
    "        print(f\"  Generating MT Histogram...\")\n",
    "        fig_mt_hist = px.histogram(\n",
    "            df_sorted_mt, x='mt', color='status',\n",
    "            color_discrete_map={'Coordinado': 'green', 'Descoordinado': 'red'},\n",
    "            marginal='box', nbins=max(10, n_pairs // 5),\n",
    "            title=f\"Distribución de Valores MT - Escenario: {scenario_id} Optimizado\"\n",
    "        )\n",
    "        fig_mt_hist.update_layout(\n",
    "            xaxis_title='Valor MT', yaxis_title='Frecuencia (Número de Pares)',\n",
    "            legend_title_text='Estado Coordinación', bargap=0.1\n",
    "        )\n",
    "    except Exception as e:\n",
    "        print(f\"    Error generating MT Histogram: {e}\")\n",
    "        fig_mt_hist = None\n",
    "\n",
    "    # --- Save Plots ---\n",
    "    plots_to_save = {\n",
    "        \"mt_bar\": fig_mt_bar,\n",
    "        \"delta_bar\": fig_delta_bar, # <<< Added new plot\n",
    "        \"delta_scatter\": fig_delta_scatter,\n",
    "        \"mt_histogram\": fig_mt_hist\n",
    "    }\n",
    "    print(f\"  Saving plots for {scenario_id}...\")\n",
    "    kaleido_error_shown = False\n",
    "    for name, fig in plots_to_save.items():\n",
    "        if fig is None:\n",
    "            print(f\"    Skipping saving/display for '{name}' plot (generation failed).\")\n",
    "            continue\n",
    "        base_filename = os.path.join(output_dir, f\"{scenario_id}_{name}\") # Use os.path.join\n",
    "        html_filename = f\"{base_filename}.html\"\n",
    "        png_filename = f\"{base_filename}.png\"\n",
    "\n",
    "        # Save HTML\n",
    "        try: fig.write_html(html_filename)\n",
    "        except Exception as e: print(f\"    Error saving HTML plot '{html_filename}': {e}\")\n",
    "\n",
    "        # Save PNG (optional, requires kaleido)\n",
    "        try: fig.write_image(png_filename, scale=2)\n",
    "        except ValueError as e:\n",
    "            if \"kaleido\" in str(e) and not kaleido_error_shown:\n",
    "                print(\"\\n    Info: Install kaleido for static PNG export: pip install -U kaleido\")\n",
    "                print(\"    Skipping further PNG saving attempts if Kaleido is missing.\\n\")\n",
    "                kaleido_error_shown = True\n",
    "            elif \"kaleido\" not in str(e): print(f\"    Error saving static image '{png_filename}': {e}\")\n",
    "        except Exception as e: print(f\"    Unexpected error saving static image '{png_filename}': {e}\")\n",
    "\n",
    "        # --- DISPLAY PLOT IN JUPYTER/OUTPUT ---\n",
    "        print(f\"    Displaying {name} plot...\")\n",
    "        fig.show() # This line displays the plot in the notebook output or default browser\n",
    "        # ---------------------------------\n",
    "\n",
    "    print(f\"--- Plot generation, saving, and display complete for Scenario: {scenario_id} ---\")\n",
    "\n",
    "\n",
    "# %% Main Execution Logic - Focused on Single Scenario\n",
    "\n",
    "def main_analyze_single_scenario(data, scenario_id_to_analyze, cti=CTI):\n",
    "    \"\"\"\n",
    "    Loads data, performs analysis, generates detailed table, stats, and plots\n",
    "    SPECIFICALLY for the given scenario_id_to_analyze.\n",
    "    \"\"\"\n",
    "    print(f\"--- Starting Analysis for Single Scenario: {scenario_id_to_analyze} ---\")\n",
    "    print(f\"Using CTI = {cti}s\")\n",
    "\n",
    "    # --- Ensure Output Directory Exists ---\n",
    "    try:\n",
    "        os.makedirs(output_dir, exist_ok=True)\n",
    "        print(f\"Results will be saved in: {output_dir}\")\n",
    "    except OSError as e:\n",
    "        print(f\"Error: Could not create output directory '{output_dir}'. Check permissions. Error: {e}\")\n",
    "        return\n",
    "\n",
    "    # --- Analyze Data (for all scenarios, then filter) ---\n",
    "    all_results = analyze_by_scenario(data, cti)\n",
    "\n",
    "    if not all_results:\n",
    "        print(\"Error: Analysis yielded no results. Please check input data and analysis function.\")\n",
    "        return\n",
    "\n",
    "    # --- Detailed Analysis for the Specified Scenario ---\n",
    "    if scenario_id_to_analyze in all_results:\n",
    "        print(f\"\\n--- Processing Detailed Analysis for: {scenario_id_to_analyze} ---\")\n",
    "        scenario_result = all_results[scenario_id_to_analyze]\n",
    "        detailed_df = scenario_result.get(\"detailed_df\")\n",
    "\n",
    "        if detailed_df is not None and not detailed_df.empty:\n",
    "            try:\n",
    "                detailed_df_sorted = detailed_df.sort_values(by=\"mt\", ascending=True).reset_index(drop=True)\n",
    "            except KeyError:\n",
    "                 print(f\"Error: 'mt' column not found in DataFrame for scenario {scenario_id_to_analyze}. Cannot proceed.\")\n",
    "                 return\n",
    "\n",
    "            # --- Print Coordination Summary Statistics ---\n",
    "            print(\"\\n--- Resumen de Coordinación ---\") # <<< Renamed section for clarity\n",
    "            n_total = len(detailed_df_sorted)\n",
    "            n_coord = len(detailed_df_sorted[detailed_df_sorted['status'] == 'Coordinado'])\n",
    "            n_descoord = n_total - n_coord\n",
    "            coord_pct = (n_coord / n_total * 100) if n_total > 0 else 0\n",
    "            descoord_pct = (n_descoord / n_total * 100) if n_total > 0 else 0\n",
    "            print(f\"Total Pares Analizados: {n_total}\")\n",
    "            print(f\"Pares Coordinados (Δt >= 0): {n_coord} ({coord_pct:.1f}%)\") # <<< Shows count and percentage\n",
    "            print(f\"Pares Descoordinados (Δt < 0): {n_descoord} ({descoord_pct:.1f}%)\") # <<< Shows count and percentage\n",
    "\n",
    "            print(\"\\n--- Estadísticas del Índice MT ---\")\n",
    "            try:\n",
    "                print(detailed_df_sorted['mt'].describe().to_string())\n",
    "            except Exception as e:\n",
    "                print(f\"  Could not generate MT statistics: {e}\")\n",
    "            print(f\"TMT (Suma MT): {scenario_result.get('TMT', 0):.5f}\")\n",
    "\n",
    "            # --- Identify and Print Worst Coordinated Pair --- <<< MODIFIED SECTION\n",
    "            uncoordinated_pairs = detailed_df_sorted[detailed_df_sorted['status'] == 'Descoordinado']\n",
    "            if not uncoordinated_pairs.empty:\n",
    "                # Find the single worst pair (minimum MT)\n",
    "                worst_pair = uncoordinated_pairs.loc[uncoordinated_pairs['mt'].idxmin()]\n",
    "\n",
    "                print(\"\\n--- Par Más Descoordinado (Peor MT) ---\") # <<< Specific heading\n",
    "                print(f\"Par (P-R): {worst_pair['pair_label']}\")\n",
    "                print(f\"MT:        {worst_pair['mt']:.4f}\")\n",
    "                print(f\"Δt:        {worst_pair['delta_t']:.4f} s\")\n",
    "                print(f\"Tm:        {worst_pair['tm']:.4f} s\")\n",
    "                print(f\"Tb:        {worst_pair['tb']:.4f} s\")\n",
    "                print(f\"Línea:     {worst_pair['line']}\")\n",
    "                print(f\"Falla:     {worst_pair['fault']}\")\n",
    "\n",
    "                # --- Optionally print Top 10 list as before ---\n",
    "                print(\"\\n--- Top 10 Pares con Mayor Descoordinación (Ordenados por Peor MT) ---\")\n",
    "                worst_pairs_display = uncoordinated_pairs.head(10)\n",
    "                display_cols = ['pair_label', 'mt', 'delta_t', 'tm', 'tb', 'line', 'fault']\n",
    "                existing_display_cols = [col for col in display_cols if col in worst_pairs_display.columns]\n",
    "                # Create a copy to avoid SettingWithCopyWarning\n",
    "                worst_pairs_display_formatted = worst_pairs_display[existing_display_cols].copy()\n",
    "                worst_pairs_display_formatted = worst_pairs_display_formatted.rename(\n",
    "                    columns={'pair_label': 'Par (P-R)', 'delta_t': 'Δt', 'line': 'Línea', 'fault': 'Falla'})\n",
    "                float_cols = worst_pairs_display_formatted.select_dtypes(include=['float']).columns\n",
    "                for col in float_cols:\n",
    "                     worst_pairs_display_formatted[col] = worst_pairs_display_formatted[col].map('{:.4f}'.format)\n",
    "                pd.set_option('display.max_rows', 20)\n",
    "                pd.set_option('display.width', 120)\n",
    "                print(worst_pairs_display_formatted.to_string(index=False))\n",
    "            else:\n",
    "                print(\"\\n--- ¡Excelente! No se encontraron pares descoordinados en este escenario. ---\")\n",
    "\n",
    "            # --- Save Detailed DataFrame to CSV ---\n",
    "            csv_filename = os.path.join(output_dir, f\"{scenario_id_to_analyze}_detailed_results.csv\") # Use os.path.join\n",
    "            print(f\"\\nSaving detailed results to CSV: {csv_filename}\")\n",
    "            try:\n",
    "                detailed_df_sorted.to_csv(csv_filename, index=False, encoding='utf-8-sig')\n",
    "                print(f\"  Successfully saved.\")\n",
    "            except Exception as e:\n",
    "                print(f\"  Error saving detailed CSV: {e}\")\n",
    "\n",
    "            # --- Generate AND DISPLAY Plotly Plots ---\n",
    "            plot_scenario_details_plotly(detailed_df_sorted, scenario_id_to_analyze, output_dir, cti)\n",
    "\n",
    "        else:\n",
    "            print(f\"No valid pair data found in DataFrame to generate table or plots for {scenario_id_to_analyze}.\")\n",
    "\n",
    "    else:\n",
    "        print(f\"Error: El escenario '{scenario_id_to_analyze}' especificado no se encontró en los resultados del análisis.\")\n",
    "        available_scenarios = list(all_results.keys()) if all_results else \"None\"\n",
    "        print(f\"Available scenarios found: {available_scenarios}\")\n",
    "\n",
    "    print(f\"\\n--- Analysis Complete for Scenario: {scenario_id_to_analyze} ---\")\n",
    "\n",
    "\n",
    "# %% Script Entry Point - Execute Analysis for Scenario 1\n",
    "\n",
    "if __name__ == \"__main__\":\n",
    "    # This block executes when the script is run directly (or a cell in Jupyter)\n",
    "    print(\"============================================\")\n",
    "    print(\"=== Relay Coordination Analysis Script ===\")\n",
    "    print(\"===       Mode: Analyze Scenario 1       ===\")\n",
    "    print(\"============================================\")\n",
    "\n",
    "    # --- Create dummy data and directory for execution if file doesn't exist ---\n",
    "    # This is just for demonstration if the actual file isn't available in the environment\n",
    "    # You should REPLACE json_file_path and output_dir with your actual paths above.\n",
    "    if not os.path.exists(os.path.dirname(json_file_path)):\n",
    "         os.makedirs(os.path.dirname(json_file_path), exist_ok=True)\n",
    "         print(f\"Created dummy directory: {os.path.dirname(json_file_path)}\")\n",
    "\n",
    "    if not os.path.exists(json_file_path):\n",
    "        print(f\"Warning: JSON file '{json_file_path}' not found. Creating a dummy file for demonstration.\")\n",
    "        dummy_data = [\n",
    "            {\"scenario_id\": \"scenario_1\", \"main_relay\": {\"relay\": \"P1\", \"Time_out\": 0.1, \"line\": \"L1\", \"fault\": \"F1\"}, \"backup_relay\": {\"relay\": \"R1\", \"Time_out\": 0.35}}, # Coordinated dt=0.05\n",
    "            {\"scenario_id\": \"scenario_1\", \"main_relay\": {\"relay\": \"P2\", \"Time_out\": 0.2, \"line\": \"L2\", \"fault\": \"F1\"}, \"backup_relay\": {\"relay\": \"R2\", \"Time_out\": 0.3}}, # Uncoordinated dt=-0.1, mt=-0.1\n",
    "            {\"scenario_id\": \"scenario_1\", \"main_relay\": {\"relay\": \"P3\", \"Time_out\": 0.15, \"line\": \"L1\", \"fault\": \"F2\"}, \"backup_relay\": {\"relay\": \"R3\", \"Time_out\": 0.25}}, # Uncoordinated dt=-0.1, mt=-0.1\n",
    "            {\"scenario_id\": \"scenario_1\", \"main_relay\": {\"relay\": \"P4\", \"Time_out\": 0.25, \"line\": \"L3\", \"fault\": \"F3\"}, \"backup_relay\": {\"relay\": \"R4\", \"Time_out\": 0.3}}, # Uncoordinated dt=-0.15, mt=-0.15 <- Worst\n",
    "            {\"scenario_id\": \"scenario_1\", \"main_relay\": {\"relay\": \"P5\", \"Time_out\": 0.3, \"line\": \"L2\", \"fault\": \"F2\"}, \"backup_relay\": {\"relay\": \"R5\", \"Time_out\": 0.6}}, # Coordinated dt=0.1\n",
    "            {\"scenario_id\": \"scenario_2\", \"main_relay\": {\"relay\": \"P6\", \"Time_out\": 0.1, \"line\": \"L4\", \"fault\": \"F4\"}, \"backup_relay\": {\"relay\": \"R6\", \"Time_out\": 0.4}}  # Different scenario\n",
    "        ]\n",
    "        try:\n",
    "            with open(json_file_path, 'w', encoding='utf-8') as f:\n",
    "                json.dump(dummy_data, f, indent=2)\n",
    "            print(f\"Successfully created dummy file: {json_file_path}\")\n",
    "        except Exception as e:\n",
    "            print(f\"Error creating dummy file: {e}\")\n",
    "            # Exit if dummy file creation fails and original wasn't found\n",
    "            exit() # Or handle differently\n",
    "\n",
    "    # --- Main execution ---\n",
    "    try:\n",
    "        print(f\"Attempting to load data from: {json_file_path}\")\n",
    "        if not os.path.exists(json_file_path):\n",
    "             abs_path = os.path.abspath(json_file_path)\n",
    "             raise FileNotFoundError(f\"JSON file not found: '{json_file_path}' (Absolute: '{abs_path}')\")\n",
    "        if not os.path.isfile(json_file_path):\n",
    "             raise FileNotFoundError(f\"Specified path is not a file: '{json_file_path}'\")\n",
    "\n",
    "        with open(json_file_path, 'r', encoding='utf-8') as file:\n",
    "            first_char = file.read(1)\n",
    "            if not first_char: raise ValueError(\"JSON file appears to be empty.\")\n",
    "            file.seek(0) # Rewind after checking\n",
    "            data = json.load(file)\n",
    "\n",
    "        if not isinstance(data, list):\n",
    "            raise TypeError(f\"Expected JSON root to be a List '[]', found type '{type(data)}'. Check JSON structure.\")\n",
    "        if not data:\n",
    "             print(\"Warning: JSON file loaded, but the list is empty. No data to analyze.\")\n",
    "             # Decide if exiting is appropriate\n",
    "             # exit() # Exit if no data - or remove this to let it proceed and show no results\n",
    "\n",
    "        print(f\"Successfully loaded {len(data)} records from JSON.\")\n",
    "\n",
    "        # --- Run the main analysis function, focusing ONLY on scenario_1 ---\n",
    "        TARGET_SCENARIO = \"scenario_3\"\n",
    "        # Check if data was loaded before proceeding\n",
    "        if data:\n",
    "            main_analyze_single_scenario(data, scenario_id_to_analyze=TARGET_SCENARIO, cti=CTI)\n",
    "        else:\n",
    "            print(\"Skipping analysis as no data was loaded.\")\n",
    "\n",
    "\n",
    "    # --- Exception Handling ---\n",
    "    except FileNotFoundError as e: print(f\"\\n--- Error ---\\nFile Not Found: {e}\\n*** Please ensure the 'json_file_path' variable is set correctly at the top of the script. ***\")\n",
    "    except ValueError as e: print(f\"\\n--- Error ---\\nValue Error: {e}\") # Catch empty file error\n",
    "    except TypeError as e: print(f\"\\n--- Error ---\\nType Error: {e}\") # Catch wrong JSON root type\n",
    "    except json.JSONDecodeError as e: print(f\"\\n--- Error ---\\nJSON Decode Error: {e.msg} at Line {e.lineno}, Col {e.colno}. Check JSON syntax.\")\n",
    "    except KeyError as e: print(f\"\\n--- Error ---\\nMissing Key Error: Required key {e} not found in the JSON data. Check data structure consistency.\")\n",
    "    except Exception as e:\n",
    "        print(f\"\\n--- An Unexpected Error Occurred ---\")\n",
    "        print(f\"Error Type: {type(e).__name__}\")\n",
    "        print(f\"Error Details: {str(e)}\")\n",
    "        print(\"\\n--- Traceback ---\")\n",
    "        traceback.print_exc()\n",
    "        print(\"-----------------\")\n",
    "\n",
    "    print(\"\\n============================================\")\n",
    "    print(\"=== Script Execution Finished ===\")\n",
    "    print(\"============================================\")"
   ]
  },
  {
   "cell_type": "markdown",
   "metadata": {},
   "source": [
    "# 🚀🚀🚀"
   ]
  },
  {
   "cell_type": "markdown",
   "metadata": {},
   "source": [
    "# Analisys"
   ]
  },
  {
   "cell_type": "code",
   "execution_count": 14,
   "metadata": {},
   "outputs": [
    {
     "name": "stdout",
     "output_type": "stream",
     "text": [
      "Cargando datos desde: /Users/gustavo/Documents/Projects/TESIS_UNAL/ADAPTIVE_ALGORITHM/data/processed/independent_relay_pairs_second_optimization.json\n",
      "Calculando TMT por escenario...\n",
      "\n",
      "--- Resultados por Escenario ---\n",
      "Escenario       Pares Válidos   Coordinados     Descoordinados  % Coordin.      TMT            \n",
      "------------------------------------------------------------------------------------------\n",
      "scenario_1      100             67              33              67.0%           -4.16000\n",
      "scenario_10     100             90              10              90.0%           -4.03170\n",
      "scenario_11     100             89              11              89.0%           -4.05650\n",
      "scenario_12     100             87              13              87.0%           -3.99090\n",
      "scenario_13     100             91              9               91.0%           -4.08100\n",
      "scenario_14     100             91              9               91.0%           -4.03190\n",
      "scenario_15     100             90              10              90.0%           -4.15730\n",
      "scenario_16     100             88              12              88.0%           -4.13790\n",
      "scenario_17     100             89              11              89.0%           -4.10170\n",
      "scenario_18     100             88              12              88.0%           -4.10600\n",
      "scenario_19     100             89              11              89.0%           -4.09540\n",
      "scenario_2      100             90              10              90.0%           -4.07570\n",
      "scenario_20     100             89              11              89.0%           -4.09570\n",
      "scenario_21     100             67              33              67.0%           -4.13490\n",
      "scenario_22     100             69              31              69.0%           -4.19280\n",
      "scenario_23     100             66              34              66.0%           -4.13020\n",
      "scenario_24     100             66              34              66.0%           -4.19440\n",
      "scenario_25     100             68              32              68.0%           -4.15960\n",
      "scenario_26     100             71              29              71.0%           -4.09070\n",
      "scenario_27     100             67              33              67.0%           -4.16780\n",
      "scenario_28     100             66              34              66.0%           -4.19690\n",
      "scenario_29     100             67              33              67.0%           -4.13890\n",
      "scenario_3      100             87              13              87.0%           -8.30690\n",
      "scenario_30     100             67              33              67.0%           -4.14730\n",
      "scenario_31     100             65              35              65.0%           -4.12110\n",
      "scenario_32     100             68              32              68.0%           -4.12970\n",
      "scenario_33     100             66              34              66.0%           -4.17470\n",
      "scenario_34     100             64              36              64.0%           -4.14980\n",
      "scenario_35     100             68              32              68.0%           -4.18230\n",
      "scenario_36     100             67              33              67.0%           -4.12450\n",
      "scenario_37     100             90              10              90.0%           -8.63210\n",
      "scenario_38     100             90              10              90.0%           -8.58210\n",
      "scenario_39     100             90              10              90.0%           -8.46570\n",
      "scenario_4      100             67              33              67.0%           -4.24050\n",
      "scenario_40     100             90              10              90.0%           -4.30560\n",
      "scenario_41     100             89              11              89.0%           -8.49670\n",
      "scenario_42     100             88              12              88.0%           -8.48260\n",
      "scenario_43     100             90              10              90.0%           -8.45760\n",
      "scenario_44     100             87              13              87.0%           -8.55020\n",
      "scenario_45     100             89              11              89.0%           -8.53620\n",
      "scenario_46     100             88              12              88.0%           -8.56420\n",
      "scenario_47     100             89              11              89.0%           -8.48940\n",
      "scenario_48     100             89              11              89.0%           -8.58880\n",
      "scenario_49     100             91              9               91.0%           -4.28160\n",
      "scenario_5      100             90              10              90.0%           -4.01530\n",
      "scenario_50     100             91              9               91.0%           -4.25530\n",
      "scenario_51     100             91              9               91.0%           -4.35670\n",
      "scenario_52     100             91              9               91.0%           -4.37370\n",
      "scenario_53     100             68              32              68.0%           -4.16480\n",
      "scenario_54     100             67              33              67.0%           -4.11760\n",
      "scenario_55     100             68              32              68.0%           -4.22870\n",
      "scenario_56     100             69              31              69.0%           -4.26030\n",
      "scenario_57     100             67              33              67.0%           -4.19020\n",
      "scenario_58     100             67              33              67.0%           -4.19450\n",
      "scenario_59     100             67              33              67.0%           -4.16400\n",
      "scenario_6      100             91              9               91.0%           -4.05360\n",
      "scenario_60     100             66              34              66.0%           -4.16540\n",
      "scenario_61     100             67              33              67.0%           -4.21730\n",
      "scenario_62     100             68              32              68.0%           -4.19330\n",
      "scenario_63     100             64              36              64.0%           -4.22020\n",
      "scenario_64     100             63              37              63.0%           -4.17930\n",
      "scenario_65     100             66              34              66.0%           -4.19750\n",
      "scenario_66     100             68              32              68.0%           -4.16460\n",
      "scenario_67     100             68              32              68.0%           -4.22060\n",
      "scenario_68     100             67              33              67.0%           -4.20110\n",
      "scenario_7      100             91              9               91.0%           -4.12250\n",
      "scenario_8      100             91              9               91.0%           -4.16970\n",
      "scenario_9      100             94              6               94.0%           -3.99130\n",
      "\n",
      "Total de pares leídos: 6800\n",
      "Pares omitidos (datos inválidos/faltantes): 0\n",
      "\n",
      "Gráfico de TMT guardado en: /Users/gustavo/Documents/Projects/TESIS_UNAL/ADAPTIVE_ALGORITHM/data/processed/tmt_by_scenario.html\n",
      "Gráfico de Porcentaje de Coordinación guardado en: /Users/gustavo/Documents/Projects/TESIS_UNAL/ADAPTIVE_ALGORITHM/data/processed/coordination_percentage_by_scenario.html\n"
     ]
    },
    {
     "data": {
      "application/vnd.plotly.v1+json": {
       "config": {
        "plotlyServerURL": "https://plot.ly"
       },
       "data": [
        {
         "alignmentgroup": "True",
         "customdata": [
          [
           67,
           33,
           100,
           67
          ],
          [
           90,
           10,
           100,
           90
          ],
          [
           89,
           11,
           100,
           89
          ],
          [
           87,
           13,
           100,
           87
          ],
          [
           91,
           9,
           100,
           91
          ],
          [
           91,
           9,
           100,
           91
          ],
          [
           90,
           10,
           100,
           90
          ],
          [
           88,
           12,
           100,
           88
          ],
          [
           89,
           11,
           100,
           89
          ],
          [
           88,
           12,
           100,
           88
          ],
          [
           89,
           11,
           100,
           89
          ],
          [
           90,
           10,
           100,
           90
          ],
          [
           89,
           11,
           100,
           89
          ],
          [
           67,
           33,
           100,
           67
          ],
          [
           69,
           31,
           100,
           69
          ],
          [
           66,
           34,
           100,
           66
          ],
          [
           66,
           34,
           100,
           66
          ],
          [
           68,
           32,
           100,
           68
          ],
          [
           71,
           29,
           100,
           71
          ],
          [
           67,
           33,
           100,
           67
          ],
          [
           66,
           34,
           100,
           66
          ],
          [
           67,
           33,
           100,
           67
          ],
          [
           87,
           13,
           100,
           87
          ],
          [
           67,
           33,
           100,
           67
          ],
          [
           65,
           35,
           100,
           65
          ],
          [
           68,
           32,
           100,
           68
          ],
          [
           66,
           34,
           100,
           66
          ],
          [
           64,
           36,
           100,
           64
          ],
          [
           68,
           32,
           100,
           68
          ],
          [
           67,
           33,
           100,
           67
          ],
          [
           90,
           10,
           100,
           90
          ],
          [
           90,
           10,
           100,
           90
          ],
          [
           90,
           10,
           100,
           90
          ],
          [
           67,
           33,
           100,
           67
          ],
          [
           90,
           10,
           100,
           90
          ],
          [
           89,
           11,
           100,
           89
          ],
          [
           88,
           12,
           100,
           88
          ],
          [
           90,
           10,
           100,
           90
          ],
          [
           87,
           13,
           100,
           87
          ],
          [
           89,
           11,
           100,
           89
          ],
          [
           88,
           12,
           100,
           88
          ],
          [
           89,
           11,
           100,
           89
          ],
          [
           89,
           11,
           100,
           89
          ],
          [
           91,
           9,
           100,
           91
          ],
          [
           90,
           10,
           100,
           90
          ],
          [
           91,
           9,
           100,
           91
          ],
          [
           91,
           9,
           100,
           91
          ],
          [
           91,
           9,
           100,
           91
          ],
          [
           68,
           32,
           100,
           68
          ],
          [
           67,
           33,
           100,
           67
          ],
          [
           68,
           32,
           100,
           68
          ],
          [
           69,
           31,
           100,
           69
          ],
          [
           67,
           33,
           100,
           67
          ],
          [
           67,
           33,
           100,
           67
          ],
          [
           67,
           33,
           100,
           67
          ],
          [
           91,
           9,
           100,
           91
          ],
          [
           66,
           34,
           100,
           66
          ],
          [
           67,
           33,
           100,
           67
          ],
          [
           68,
           32,
           100,
           68
          ],
          [
           64,
           36,
           100,
           64
          ],
          [
           63,
           37,
           100,
           63
          ],
          [
           66,
           34,
           100,
           66
          ],
          [
           68,
           32,
           100,
           68
          ],
          [
           68,
           32,
           100,
           68
          ],
          [
           67,
           33,
           100,
           67
          ],
          [
           91,
           9,
           100,
           91
          ],
          [
           91,
           9,
           100,
           91
          ],
          [
           94,
           6,
           100,
           94
          ]
         ],
         "hovertemplate": "Escenario=%{x}<br>Total Miscoordination Time=%{marker.color}<br>Pares Coordinados=%{customdata[0]}<br>Pares Descoordinados=%{customdata[1]}<br>Total Pares Válidos=%{customdata[2]}<br>Porcentaje Coordinación=%{customdata[3]}<extra></extra>",
         "legendgroup": "",
         "marker": {
          "color": [
           -4.160000000000002,
           -4.0317,
           -4.0565,
           -3.990900000000001,
           -4.081,
           -4.0319,
           -4.1573,
           -4.1379,
           -4.1017,
           -4.106000000000001,
           -4.095400000000001,
           -4.0757,
           -4.0957,
           -4.134900000000001,
           -4.192800000000002,
           -4.1302,
           -4.194400000000001,
           -4.1596,
           -4.090700000000002,
           -4.167800000000002,
           -4.196900000000001,
           -4.1389000000000005,
           -8.3069,
           -4.1472999999999995,
           -4.1211,
           -4.1297000000000015,
           -4.1747000000000005,
           -4.1498,
           -4.182300000000001,
           -4.124500000000002,
           -8.632100000000001,
           -8.5821,
           -8.4657,
           -4.2405,
           -4.3056,
           -8.4967,
           -8.4826,
           -8.4576,
           -8.5502,
           -8.5362,
           -8.5642,
           -8.4894,
           -8.588799999999999,
           -4.281600000000001,
           -4.0153,
           -4.255300000000001,
           -4.356700000000001,
           -4.373700000000001,
           -4.164800000000003,
           -4.117600000000002,
           -4.228700000000001,
           -4.260300000000001,
           -4.190200000000001,
           -4.194500000000001,
           -4.164000000000001,
           -4.0536,
           -4.165400000000003,
           -4.217300000000001,
           -4.193300000000001,
           -4.220200000000001,
           -4.179300000000001,
           -4.197500000000001,
           -4.164600000000002,
           -4.220600000000001,
           -4.201100000000002,
           -4.1225000000000005,
           -4.1697,
           -3.9913000000000003
          ],
          "coloraxis": "coloraxis",
          "pattern": {
           "shape": ""
          }
         },
         "name": "",
         "offsetgroup": "",
         "orientation": "v",
         "showlegend": false,
         "text": [
          -4.160000000000002,
          -4.0317,
          -4.0565,
          -3.990900000000001,
          -4.081,
          -4.0319,
          -4.1573,
          -4.1379,
          -4.1017,
          -4.106000000000001,
          -4.095400000000001,
          -4.0757,
          -4.0957,
          -4.134900000000001,
          -4.192800000000002,
          -4.1302,
          -4.194400000000001,
          -4.1596,
          -4.090700000000002,
          -4.167800000000002,
          -4.196900000000001,
          -4.1389000000000005,
          -8.3069,
          -4.1472999999999995,
          -4.1211,
          -4.1297000000000015,
          -4.1747000000000005,
          -4.1498,
          -4.182300000000001,
          -4.124500000000002,
          -8.632100000000001,
          -8.5821,
          -8.4657,
          -4.2405,
          -4.3056,
          -8.4967,
          -8.4826,
          -8.4576,
          -8.5502,
          -8.5362,
          -8.5642,
          -8.4894,
          -8.588799999999999,
          -4.281600000000001,
          -4.0153,
          -4.255300000000001,
          -4.356700000000001,
          -4.373700000000001,
          -4.164800000000003,
          -4.117600000000002,
          -4.228700000000001,
          -4.260300000000001,
          -4.190200000000001,
          -4.194500000000001,
          -4.164000000000001,
          -4.0536,
          -4.165400000000003,
          -4.217300000000001,
          -4.193300000000001,
          -4.220200000000001,
          -4.179300000000001,
          -4.197500000000001,
          -4.164600000000002,
          -4.220600000000001,
          -4.201100000000002,
          -4.1225000000000005,
          -4.1697,
          -3.9913000000000003
         ],
         "textposition": "outside",
         "texttemplate": "%{text:.5f}",
         "type": "bar",
         "x": [
          "scenario_1",
          "scenario_10",
          "scenario_11",
          "scenario_12",
          "scenario_13",
          "scenario_14",
          "scenario_15",
          "scenario_16",
          "scenario_17",
          "scenario_18",
          "scenario_19",
          "scenario_2",
          "scenario_20",
          "scenario_21",
          "scenario_22",
          "scenario_23",
          "scenario_24",
          "scenario_25",
          "scenario_26",
          "scenario_27",
          "scenario_28",
          "scenario_29",
          "scenario_3",
          "scenario_30",
          "scenario_31",
          "scenario_32",
          "scenario_33",
          "scenario_34",
          "scenario_35",
          "scenario_36",
          "scenario_37",
          "scenario_38",
          "scenario_39",
          "scenario_4",
          "scenario_40",
          "scenario_41",
          "scenario_42",
          "scenario_43",
          "scenario_44",
          "scenario_45",
          "scenario_46",
          "scenario_47",
          "scenario_48",
          "scenario_49",
          "scenario_5",
          "scenario_50",
          "scenario_51",
          "scenario_52",
          "scenario_53",
          "scenario_54",
          "scenario_55",
          "scenario_56",
          "scenario_57",
          "scenario_58",
          "scenario_59",
          "scenario_6",
          "scenario_60",
          "scenario_61",
          "scenario_62",
          "scenario_63",
          "scenario_64",
          "scenario_65",
          "scenario_66",
          "scenario_67",
          "scenario_68",
          "scenario_7",
          "scenario_8",
          "scenario_9"
         ],
         "xaxis": "x",
         "y": [
          -4.160000000000002,
          -4.0317,
          -4.0565,
          -3.990900000000001,
          -4.081,
          -4.0319,
          -4.1573,
          -4.1379,
          -4.1017,
          -4.106000000000001,
          -4.095400000000001,
          -4.0757,
          -4.0957,
          -4.134900000000001,
          -4.192800000000002,
          -4.1302,
          -4.194400000000001,
          -4.1596,
          -4.090700000000002,
          -4.167800000000002,
          -4.196900000000001,
          -4.1389000000000005,
          -8.3069,
          -4.1472999999999995,
          -4.1211,
          -4.1297000000000015,
          -4.1747000000000005,
          -4.1498,
          -4.182300000000001,
          -4.124500000000002,
          -8.632100000000001,
          -8.5821,
          -8.4657,
          -4.2405,
          -4.3056,
          -8.4967,
          -8.4826,
          -8.4576,
          -8.5502,
          -8.5362,
          -8.5642,
          -8.4894,
          -8.588799999999999,
          -4.281600000000001,
          -4.0153,
          -4.255300000000001,
          -4.356700000000001,
          -4.373700000000001,
          -4.164800000000003,
          -4.117600000000002,
          -4.228700000000001,
          -4.260300000000001,
          -4.190200000000001,
          -4.194500000000001,
          -4.164000000000001,
          -4.0536,
          -4.165400000000003,
          -4.217300000000001,
          -4.193300000000001,
          -4.220200000000001,
          -4.179300000000001,
          -4.197500000000001,
          -4.164600000000002,
          -4.220600000000001,
          -4.201100000000002,
          -4.1225000000000005,
          -4.1697,
          -3.9913000000000003
         ],
         "yaxis": "y"
        }
       ],
       "layout": {
        "barmode": "relative",
        "coloraxis": {
         "colorbar": {
          "title": {
           "text": "Total Miscoordination Time"
          }
         },
         "colorscale": [
          [
           0,
           "#440154"
          ],
          [
           0.1111111111111111,
           "#482878"
          ],
          [
           0.2222222222222222,
           "#3e4989"
          ],
          [
           0.3333333333333333,
           "#31688e"
          ],
          [
           0.4444444444444444,
           "#26828e"
          ],
          [
           0.5555555555555556,
           "#1f9e89"
          ],
          [
           0.6666666666666666,
           "#35b779"
          ],
          [
           0.7777777777777778,
           "#6ece58"
          ],
          [
           0.8888888888888888,
           "#b5de2b"
          ],
          [
           1,
           "#fde725"
          ]
         ]
        },
        "font": {
         "size": 12
        },
        "height": 600,
        "legend": {
         "tracegroupgap": 0
        },
        "template": {
         "data": {
          "bar": [
           {
            "error_x": {
             "color": "#2a3f5f"
            },
            "error_y": {
             "color": "#2a3f5f"
            },
            "marker": {
             "line": {
              "color": "white",
              "width": 0.5
             },
             "pattern": {
              "fillmode": "overlay",
              "size": 10,
              "solidity": 0.2
             }
            },
            "type": "bar"
           }
          ],
          "barpolar": [
           {
            "marker": {
             "line": {
              "color": "white",
              "width": 0.5
             },
             "pattern": {
              "fillmode": "overlay",
              "size": 10,
              "solidity": 0.2
             }
            },
            "type": "barpolar"
           }
          ],
          "carpet": [
           {
            "aaxis": {
             "endlinecolor": "#2a3f5f",
             "gridcolor": "#C8D4E3",
             "linecolor": "#C8D4E3",
             "minorgridcolor": "#C8D4E3",
             "startlinecolor": "#2a3f5f"
            },
            "baxis": {
             "endlinecolor": "#2a3f5f",
             "gridcolor": "#C8D4E3",
             "linecolor": "#C8D4E3",
             "minorgridcolor": "#C8D4E3",
             "startlinecolor": "#2a3f5f"
            },
            "type": "carpet"
           }
          ],
          "choropleth": [
           {
            "colorbar": {
             "outlinewidth": 0,
             "ticks": ""
            },
            "type": "choropleth"
           }
          ],
          "contour": [
           {
            "colorbar": {
             "outlinewidth": 0,
             "ticks": ""
            },
            "colorscale": [
             [
              0,
              "#0d0887"
             ],
             [
              0.1111111111111111,
              "#46039f"
             ],
             [
              0.2222222222222222,
              "#7201a8"
             ],
             [
              0.3333333333333333,
              "#9c179e"
             ],
             [
              0.4444444444444444,
              "#bd3786"
             ],
             [
              0.5555555555555556,
              "#d8576b"
             ],
             [
              0.6666666666666666,
              "#ed7953"
             ],
             [
              0.7777777777777778,
              "#fb9f3a"
             ],
             [
              0.8888888888888888,
              "#fdca26"
             ],
             [
              1,
              "#f0f921"
             ]
            ],
            "type": "contour"
           }
          ],
          "contourcarpet": [
           {
            "colorbar": {
             "outlinewidth": 0,
             "ticks": ""
            },
            "type": "contourcarpet"
           }
          ],
          "heatmap": [
           {
            "colorbar": {
             "outlinewidth": 0,
             "ticks": ""
            },
            "colorscale": [
             [
              0,
              "#0d0887"
             ],
             [
              0.1111111111111111,
              "#46039f"
             ],
             [
              0.2222222222222222,
              "#7201a8"
             ],
             [
              0.3333333333333333,
              "#9c179e"
             ],
             [
              0.4444444444444444,
              "#bd3786"
             ],
             [
              0.5555555555555556,
              "#d8576b"
             ],
             [
              0.6666666666666666,
              "#ed7953"
             ],
             [
              0.7777777777777778,
              "#fb9f3a"
             ],
             [
              0.8888888888888888,
              "#fdca26"
             ],
             [
              1,
              "#f0f921"
             ]
            ],
            "type": "heatmap"
           }
          ],
          "heatmapgl": [
           {
            "colorbar": {
             "outlinewidth": 0,
             "ticks": ""
            },
            "colorscale": [
             [
              0,
              "#0d0887"
             ],
             [
              0.1111111111111111,
              "#46039f"
             ],
             [
              0.2222222222222222,
              "#7201a8"
             ],
             [
              0.3333333333333333,
              "#9c179e"
             ],
             [
              0.4444444444444444,
              "#bd3786"
             ],
             [
              0.5555555555555556,
              "#d8576b"
             ],
             [
              0.6666666666666666,
              "#ed7953"
             ],
             [
              0.7777777777777778,
              "#fb9f3a"
             ],
             [
              0.8888888888888888,
              "#fdca26"
             ],
             [
              1,
              "#f0f921"
             ]
            ],
            "type": "heatmapgl"
           }
          ],
          "histogram": [
           {
            "marker": {
             "pattern": {
              "fillmode": "overlay",
              "size": 10,
              "solidity": 0.2
             }
            },
            "type": "histogram"
           }
          ],
          "histogram2d": [
           {
            "colorbar": {
             "outlinewidth": 0,
             "ticks": ""
            },
            "colorscale": [
             [
              0,
              "#0d0887"
             ],
             [
              0.1111111111111111,
              "#46039f"
             ],
             [
              0.2222222222222222,
              "#7201a8"
             ],
             [
              0.3333333333333333,
              "#9c179e"
             ],
             [
              0.4444444444444444,
              "#bd3786"
             ],
             [
              0.5555555555555556,
              "#d8576b"
             ],
             [
              0.6666666666666666,
              "#ed7953"
             ],
             [
              0.7777777777777778,
              "#fb9f3a"
             ],
             [
              0.8888888888888888,
              "#fdca26"
             ],
             [
              1,
              "#f0f921"
             ]
            ],
            "type": "histogram2d"
           }
          ],
          "histogram2dcontour": [
           {
            "colorbar": {
             "outlinewidth": 0,
             "ticks": ""
            },
            "colorscale": [
             [
              0,
              "#0d0887"
             ],
             [
              0.1111111111111111,
              "#46039f"
             ],
             [
              0.2222222222222222,
              "#7201a8"
             ],
             [
              0.3333333333333333,
              "#9c179e"
             ],
             [
              0.4444444444444444,
              "#bd3786"
             ],
             [
              0.5555555555555556,
              "#d8576b"
             ],
             [
              0.6666666666666666,
              "#ed7953"
             ],
             [
              0.7777777777777778,
              "#fb9f3a"
             ],
             [
              0.8888888888888888,
              "#fdca26"
             ],
             [
              1,
              "#f0f921"
             ]
            ],
            "type": "histogram2dcontour"
           }
          ],
          "mesh3d": [
           {
            "colorbar": {
             "outlinewidth": 0,
             "ticks": ""
            },
            "type": "mesh3d"
           }
          ],
          "parcoords": [
           {
            "line": {
             "colorbar": {
              "outlinewidth": 0,
              "ticks": ""
             }
            },
            "type": "parcoords"
           }
          ],
          "pie": [
           {
            "automargin": true,
            "type": "pie"
           }
          ],
          "scatter": [
           {
            "fillpattern": {
             "fillmode": "overlay",
             "size": 10,
             "solidity": 0.2
            },
            "type": "scatter"
           }
          ],
          "scatter3d": [
           {
            "line": {
             "colorbar": {
              "outlinewidth": 0,
              "ticks": ""
             }
            },
            "marker": {
             "colorbar": {
              "outlinewidth": 0,
              "ticks": ""
             }
            },
            "type": "scatter3d"
           }
          ],
          "scattercarpet": [
           {
            "marker": {
             "colorbar": {
              "outlinewidth": 0,
              "ticks": ""
             }
            },
            "type": "scattercarpet"
           }
          ],
          "scattergeo": [
           {
            "marker": {
             "colorbar": {
              "outlinewidth": 0,
              "ticks": ""
             }
            },
            "type": "scattergeo"
           }
          ],
          "scattergl": [
           {
            "marker": {
             "colorbar": {
              "outlinewidth": 0,
              "ticks": ""
             }
            },
            "type": "scattergl"
           }
          ],
          "scattermapbox": [
           {
            "marker": {
             "colorbar": {
              "outlinewidth": 0,
              "ticks": ""
             }
            },
            "type": "scattermapbox"
           }
          ],
          "scatterpolar": [
           {
            "marker": {
             "colorbar": {
              "outlinewidth": 0,
              "ticks": ""
             }
            },
            "type": "scatterpolar"
           }
          ],
          "scatterpolargl": [
           {
            "marker": {
             "colorbar": {
              "outlinewidth": 0,
              "ticks": ""
             }
            },
            "type": "scatterpolargl"
           }
          ],
          "scatterternary": [
           {
            "marker": {
             "colorbar": {
              "outlinewidth": 0,
              "ticks": ""
             }
            },
            "type": "scatterternary"
           }
          ],
          "surface": [
           {
            "colorbar": {
             "outlinewidth": 0,
             "ticks": ""
            },
            "colorscale": [
             [
              0,
              "#0d0887"
             ],
             [
              0.1111111111111111,
              "#46039f"
             ],
             [
              0.2222222222222222,
              "#7201a8"
             ],
             [
              0.3333333333333333,
              "#9c179e"
             ],
             [
              0.4444444444444444,
              "#bd3786"
             ],
             [
              0.5555555555555556,
              "#d8576b"
             ],
             [
              0.6666666666666666,
              "#ed7953"
             ],
             [
              0.7777777777777778,
              "#fb9f3a"
             ],
             [
              0.8888888888888888,
              "#fdca26"
             ],
             [
              1,
              "#f0f921"
             ]
            ],
            "type": "surface"
           }
          ],
          "table": [
           {
            "cells": {
             "fill": {
              "color": "#EBF0F8"
             },
             "line": {
              "color": "white"
             }
            },
            "header": {
             "fill": {
              "color": "#C8D4E3"
             },
             "line": {
              "color": "white"
             }
            },
            "type": "table"
           }
          ]
         },
         "layout": {
          "annotationdefaults": {
           "arrowcolor": "#2a3f5f",
           "arrowhead": 0,
           "arrowwidth": 1
          },
          "autotypenumbers": "strict",
          "coloraxis": {
           "colorbar": {
            "outlinewidth": 0,
            "ticks": ""
           }
          },
          "colorscale": {
           "diverging": [
            [
             0,
             "#8e0152"
            ],
            [
             0.1,
             "#c51b7d"
            ],
            [
             0.2,
             "#de77ae"
            ],
            [
             0.3,
             "#f1b6da"
            ],
            [
             0.4,
             "#fde0ef"
            ],
            [
             0.5,
             "#f7f7f7"
            ],
            [
             0.6,
             "#e6f5d0"
            ],
            [
             0.7,
             "#b8e186"
            ],
            [
             0.8,
             "#7fbc41"
            ],
            [
             0.9,
             "#4d9221"
            ],
            [
             1,
             "#276419"
            ]
           ],
           "sequential": [
            [
             0,
             "#0d0887"
            ],
            [
             0.1111111111111111,
             "#46039f"
            ],
            [
             0.2222222222222222,
             "#7201a8"
            ],
            [
             0.3333333333333333,
             "#9c179e"
            ],
            [
             0.4444444444444444,
             "#bd3786"
            ],
            [
             0.5555555555555556,
             "#d8576b"
            ],
            [
             0.6666666666666666,
             "#ed7953"
            ],
            [
             0.7777777777777778,
             "#fb9f3a"
            ],
            [
             0.8888888888888888,
             "#fdca26"
            ],
            [
             1,
             "#f0f921"
            ]
           ],
           "sequentialminus": [
            [
             0,
             "#0d0887"
            ],
            [
             0.1111111111111111,
             "#46039f"
            ],
            [
             0.2222222222222222,
             "#7201a8"
            ],
            [
             0.3333333333333333,
             "#9c179e"
            ],
            [
             0.4444444444444444,
             "#bd3786"
            ],
            [
             0.5555555555555556,
             "#d8576b"
            ],
            [
             0.6666666666666666,
             "#ed7953"
            ],
            [
             0.7777777777777778,
             "#fb9f3a"
            ],
            [
             0.8888888888888888,
             "#fdca26"
            ],
            [
             1,
             "#f0f921"
            ]
           ]
          },
          "colorway": [
           "#636efa",
           "#EF553B",
           "#00cc96",
           "#ab63fa",
           "#FFA15A",
           "#19d3f3",
           "#FF6692",
           "#B6E880",
           "#FF97FF",
           "#FECB52"
          ],
          "font": {
           "color": "#2a3f5f"
          },
          "geo": {
           "bgcolor": "white",
           "lakecolor": "white",
           "landcolor": "white",
           "showlakes": true,
           "showland": true,
           "subunitcolor": "#C8D4E3"
          },
          "hoverlabel": {
           "align": "left"
          },
          "hovermode": "closest",
          "mapbox": {
           "style": "light"
          },
          "paper_bgcolor": "white",
          "plot_bgcolor": "white",
          "polar": {
           "angularaxis": {
            "gridcolor": "#EBF0F8",
            "linecolor": "#EBF0F8",
            "ticks": ""
           },
           "bgcolor": "white",
           "radialaxis": {
            "gridcolor": "#EBF0F8",
            "linecolor": "#EBF0F8",
            "ticks": ""
           }
          },
          "scene": {
           "xaxis": {
            "backgroundcolor": "white",
            "gridcolor": "#DFE8F3",
            "gridwidth": 2,
            "linecolor": "#EBF0F8",
            "showbackground": true,
            "ticks": "",
            "zerolinecolor": "#EBF0F8"
           },
           "yaxis": {
            "backgroundcolor": "white",
            "gridcolor": "#DFE8F3",
            "gridwidth": 2,
            "linecolor": "#EBF0F8",
            "showbackground": true,
            "ticks": "",
            "zerolinecolor": "#EBF0F8"
           },
           "zaxis": {
            "backgroundcolor": "white",
            "gridcolor": "#DFE8F3",
            "gridwidth": 2,
            "linecolor": "#EBF0F8",
            "showbackground": true,
            "ticks": "",
            "zerolinecolor": "#EBF0F8"
           }
          },
          "shapedefaults": {
           "line": {
            "color": "#2a3f5f"
           }
          },
          "ternary": {
           "aaxis": {
            "gridcolor": "#DFE8F3",
            "linecolor": "#A2B1C6",
            "ticks": ""
           },
           "baxis": {
            "gridcolor": "#DFE8F3",
            "linecolor": "#A2B1C6",
            "ticks": ""
           },
           "bgcolor": "white",
           "caxis": {
            "gridcolor": "#DFE8F3",
            "linecolor": "#A2B1C6",
            "ticks": ""
           }
          },
          "title": {
           "x": 0.05
          },
          "xaxis": {
           "automargin": true,
           "gridcolor": "#EBF0F8",
           "linecolor": "#EBF0F8",
           "ticks": "",
           "title": {
            "standoff": 15
           },
           "zerolinecolor": "#EBF0F8",
           "zerolinewidth": 2
          },
          "yaxis": {
           "automargin": true,
           "gridcolor": "#EBF0F8",
           "linecolor": "#EBF0F8",
           "ticks": "",
           "title": {
            "standoff": 15
           },
           "zerolinecolor": "#EBF0F8",
           "zerolinewidth": 2
          }
         }
        },
        "title": {
         "text": "Penalización Total por Descoordinación (TMT) por Escenario"
        },
        "width": 1000,
        "xaxis": {
         "anchor": "y",
         "categoryarray": [
          "scenario_1",
          "scenario_10",
          "scenario_11",
          "scenario_12",
          "scenario_13",
          "scenario_14",
          "scenario_15",
          "scenario_16",
          "scenario_17",
          "scenario_18",
          "scenario_19",
          "scenario_2",
          "scenario_20",
          "scenario_21",
          "scenario_22",
          "scenario_23",
          "scenario_24",
          "scenario_25",
          "scenario_26",
          "scenario_27",
          "scenario_28",
          "scenario_29",
          "scenario_3",
          "scenario_30",
          "scenario_31",
          "scenario_32",
          "scenario_33",
          "scenario_34",
          "scenario_35",
          "scenario_36",
          "scenario_37",
          "scenario_38",
          "scenario_39",
          "scenario_4",
          "scenario_40",
          "scenario_41",
          "scenario_42",
          "scenario_43",
          "scenario_44",
          "scenario_45",
          "scenario_46",
          "scenario_47",
          "scenario_48",
          "scenario_49",
          "scenario_5",
          "scenario_50",
          "scenario_51",
          "scenario_52",
          "scenario_53",
          "scenario_54",
          "scenario_55",
          "scenario_56",
          "scenario_57",
          "scenario_58",
          "scenario_59",
          "scenario_6",
          "scenario_60",
          "scenario_61",
          "scenario_62",
          "scenario_63",
          "scenario_64",
          "scenario_65",
          "scenario_66",
          "scenario_67",
          "scenario_68",
          "scenario_7",
          "scenario_8",
          "scenario_9"
         ],
         "categoryorder": "array",
         "domain": [
          0,
          1
         ],
         "title": {
          "text": "Escenarios"
         }
        },
        "yaxis": {
         "anchor": "x",
         "domain": [
          0,
          1
         ],
         "title": {
          "text": "TMT (Total Miscoordination Time)"
         }
        }
       }
      }
     },
     "metadata": {},
     "output_type": "display_data"
    },
    {
     "data": {
      "application/vnd.plotly.v1+json": {
       "config": {
        "plotlyServerURL": "https://plot.ly"
       },
       "data": [
        {
         "alignmentgroup": "True",
         "customdata": [
          [
           67,
           33,
           100,
           -4.160000000000002
          ],
          [
           90,
           10,
           100,
           -4.0317
          ],
          [
           89,
           11,
           100,
           -4.0565
          ],
          [
           87,
           13,
           100,
           -3.990900000000001
          ],
          [
           91,
           9,
           100,
           -4.081
          ],
          [
           91,
           9,
           100,
           -4.0319
          ],
          [
           90,
           10,
           100,
           -4.1573
          ],
          [
           88,
           12,
           100,
           -4.1379
          ],
          [
           89,
           11,
           100,
           -4.1017
          ],
          [
           88,
           12,
           100,
           -4.106000000000001
          ],
          [
           89,
           11,
           100,
           -4.095400000000001
          ],
          [
           90,
           10,
           100,
           -4.0757
          ],
          [
           89,
           11,
           100,
           -4.0957
          ],
          [
           67,
           33,
           100,
           -4.134900000000001
          ],
          [
           69,
           31,
           100,
           -4.192800000000002
          ],
          [
           66,
           34,
           100,
           -4.1302
          ],
          [
           66,
           34,
           100,
           -4.194400000000001
          ],
          [
           68,
           32,
           100,
           -4.1596
          ],
          [
           71,
           29,
           100,
           -4.090700000000002
          ],
          [
           67,
           33,
           100,
           -4.167800000000002
          ],
          [
           66,
           34,
           100,
           -4.196900000000001
          ],
          [
           67,
           33,
           100,
           -4.1389000000000005
          ],
          [
           87,
           13,
           100,
           -8.3069
          ],
          [
           67,
           33,
           100,
           -4.1472999999999995
          ],
          [
           65,
           35,
           100,
           -4.1211
          ],
          [
           68,
           32,
           100,
           -4.1297000000000015
          ],
          [
           66,
           34,
           100,
           -4.1747000000000005
          ],
          [
           64,
           36,
           100,
           -4.1498
          ],
          [
           68,
           32,
           100,
           -4.182300000000001
          ],
          [
           67,
           33,
           100,
           -4.124500000000002
          ],
          [
           90,
           10,
           100,
           -8.632100000000001
          ],
          [
           90,
           10,
           100,
           -8.5821
          ],
          [
           90,
           10,
           100,
           -8.4657
          ],
          [
           67,
           33,
           100,
           -4.2405
          ],
          [
           90,
           10,
           100,
           -4.3056
          ],
          [
           89,
           11,
           100,
           -8.4967
          ],
          [
           88,
           12,
           100,
           -8.4826
          ],
          [
           90,
           10,
           100,
           -8.4576
          ],
          [
           87,
           13,
           100,
           -8.5502
          ],
          [
           89,
           11,
           100,
           -8.5362
          ],
          [
           88,
           12,
           100,
           -8.5642
          ],
          [
           89,
           11,
           100,
           -8.4894
          ],
          [
           89,
           11,
           100,
           -8.588799999999999
          ],
          [
           91,
           9,
           100,
           -4.281600000000001
          ],
          [
           90,
           10,
           100,
           -4.0153
          ],
          [
           91,
           9,
           100,
           -4.255300000000001
          ],
          [
           91,
           9,
           100,
           -4.356700000000001
          ],
          [
           91,
           9,
           100,
           -4.373700000000001
          ],
          [
           68,
           32,
           100,
           -4.164800000000003
          ],
          [
           67,
           33,
           100,
           -4.117600000000002
          ],
          [
           68,
           32,
           100,
           -4.228700000000001
          ],
          [
           69,
           31,
           100,
           -4.260300000000001
          ],
          [
           67,
           33,
           100,
           -4.190200000000001
          ],
          [
           67,
           33,
           100,
           -4.194500000000001
          ],
          [
           67,
           33,
           100,
           -4.164000000000001
          ],
          [
           91,
           9,
           100,
           -4.0536
          ],
          [
           66,
           34,
           100,
           -4.165400000000003
          ],
          [
           67,
           33,
           100,
           -4.217300000000001
          ],
          [
           68,
           32,
           100,
           -4.193300000000001
          ],
          [
           64,
           36,
           100,
           -4.220200000000001
          ],
          [
           63,
           37,
           100,
           -4.179300000000001
          ],
          [
           66,
           34,
           100,
           -4.197500000000001
          ],
          [
           68,
           32,
           100,
           -4.164600000000002
          ],
          [
           68,
           32,
           100,
           -4.220600000000001
          ],
          [
           67,
           33,
           100,
           -4.201100000000002
          ],
          [
           91,
           9,
           100,
           -4.1225000000000005
          ],
          [
           91,
           9,
           100,
           -4.1697
          ],
          [
           94,
           6,
           100,
           -3.9913000000000003
          ]
         ],
         "hovertemplate": "Escenario=%{x}<br>Porcentaje de Coordinación (%)=%{marker.color}<br>Pares Coordinados=%{customdata[0]}<br>Pares Descoordinados=%{customdata[1]}<br>Total Pares Válidos=%{customdata[2]}<br>TMT=%{customdata[3]}<extra></extra>",
         "legendgroup": "",
         "marker": {
          "color": [
           67,
           90,
           89,
           87,
           91,
           91,
           90,
           88,
           89,
           88,
           89,
           90,
           89,
           67,
           69,
           66,
           66,
           68,
           71,
           67,
           66,
           67,
           87,
           67,
           65,
           68,
           66,
           64,
           68,
           67,
           90,
           90,
           90,
           67,
           90,
           89,
           88,
           90,
           87,
           89,
           88,
           89,
           89,
           91,
           90,
           91,
           91,
           91,
           68,
           67,
           68,
           69,
           67,
           67,
           67,
           91,
           66,
           67,
           68,
           64,
           63,
           66,
           68,
           68,
           67,
           91,
           91,
           94
          ],
          "coloraxis": "coloraxis",
          "pattern": {
           "shape": ""
          }
         },
         "name": "",
         "offsetgroup": "",
         "orientation": "v",
         "showlegend": false,
         "text": [
          67,
          90,
          89,
          87,
          91,
          91,
          90,
          88,
          89,
          88,
          89,
          90,
          89,
          67,
          69,
          66,
          66,
          68,
          71,
          67,
          66,
          67,
          87,
          67,
          65,
          68,
          66,
          64,
          68,
          67,
          90,
          90,
          90,
          67,
          90,
          89,
          88,
          90,
          87,
          89,
          88,
          89,
          89,
          91,
          90,
          91,
          91,
          91,
          68,
          67,
          68,
          69,
          67,
          67,
          67,
          91,
          66,
          67,
          68,
          64,
          63,
          66,
          68,
          68,
          67,
          91,
          91,
          94
         ],
         "textposition": "outside",
         "texttemplate": "%{text:.1f}%",
         "type": "bar",
         "x": [
          "scenario_1",
          "scenario_10",
          "scenario_11",
          "scenario_12",
          "scenario_13",
          "scenario_14",
          "scenario_15",
          "scenario_16",
          "scenario_17",
          "scenario_18",
          "scenario_19",
          "scenario_2",
          "scenario_20",
          "scenario_21",
          "scenario_22",
          "scenario_23",
          "scenario_24",
          "scenario_25",
          "scenario_26",
          "scenario_27",
          "scenario_28",
          "scenario_29",
          "scenario_3",
          "scenario_30",
          "scenario_31",
          "scenario_32",
          "scenario_33",
          "scenario_34",
          "scenario_35",
          "scenario_36",
          "scenario_37",
          "scenario_38",
          "scenario_39",
          "scenario_4",
          "scenario_40",
          "scenario_41",
          "scenario_42",
          "scenario_43",
          "scenario_44",
          "scenario_45",
          "scenario_46",
          "scenario_47",
          "scenario_48",
          "scenario_49",
          "scenario_5",
          "scenario_50",
          "scenario_51",
          "scenario_52",
          "scenario_53",
          "scenario_54",
          "scenario_55",
          "scenario_56",
          "scenario_57",
          "scenario_58",
          "scenario_59",
          "scenario_6",
          "scenario_60",
          "scenario_61",
          "scenario_62",
          "scenario_63",
          "scenario_64",
          "scenario_65",
          "scenario_66",
          "scenario_67",
          "scenario_68",
          "scenario_7",
          "scenario_8",
          "scenario_9"
         ],
         "xaxis": "x",
         "y": [
          67,
          90,
          89,
          87,
          91,
          91,
          90,
          88,
          89,
          88,
          89,
          90,
          89,
          67,
          69,
          66,
          66,
          68,
          71,
          67,
          66,
          67,
          87,
          67,
          65,
          68,
          66,
          64,
          68,
          67,
          90,
          90,
          90,
          67,
          90,
          89,
          88,
          90,
          87,
          89,
          88,
          89,
          89,
          91,
          90,
          91,
          91,
          91,
          68,
          67,
          68,
          69,
          67,
          67,
          67,
          91,
          66,
          67,
          68,
          64,
          63,
          66,
          68,
          68,
          67,
          91,
          91,
          94
         ],
         "yaxis": "y"
        }
       ],
       "layout": {
        "barmode": "relative",
        "coloraxis": {
         "colorbar": {
          "title": {
           "text": "Porcentaje de Coordinación (%)"
          }
         },
         "colorscale": [
          [
           0,
           "#30123b"
          ],
          [
           0.07142857142857142,
           "#4145ab"
          ],
          [
           0.14285714285714285,
           "#4675ed"
          ],
          [
           0.21428571428571427,
           "#39a2fc"
          ],
          [
           0.2857142857142857,
           "#1bcfd4"
          ],
          [
           0.35714285714285715,
           "#24eca6"
          ],
          [
           0.42857142857142855,
           "#61fc6c"
          ],
          [
           0.5,
           "#a4fc3b"
          ],
          [
           0.5714285714285714,
           "#d1e834"
          ],
          [
           0.6428571428571429,
           "#f3c63a"
          ],
          [
           0.7142857142857143,
           "#fe9b2d"
          ],
          [
           0.7857142857142857,
           "#f36315"
          ],
          [
           0.8571428571428571,
           "#d93806"
          ],
          [
           0.9285714285714286,
           "#b11901"
          ],
          [
           1,
           "#7a0402"
          ]
         ]
        },
        "font": {
         "size": 12
        },
        "height": 600,
        "legend": {
         "tracegroupgap": 0
        },
        "template": {
         "data": {
          "bar": [
           {
            "error_x": {
             "color": "#2a3f5f"
            },
            "error_y": {
             "color": "#2a3f5f"
            },
            "marker": {
             "line": {
              "color": "white",
              "width": 0.5
             },
             "pattern": {
              "fillmode": "overlay",
              "size": 10,
              "solidity": 0.2
             }
            },
            "type": "bar"
           }
          ],
          "barpolar": [
           {
            "marker": {
             "line": {
              "color": "white",
              "width": 0.5
             },
             "pattern": {
              "fillmode": "overlay",
              "size": 10,
              "solidity": 0.2
             }
            },
            "type": "barpolar"
           }
          ],
          "carpet": [
           {
            "aaxis": {
             "endlinecolor": "#2a3f5f",
             "gridcolor": "#C8D4E3",
             "linecolor": "#C8D4E3",
             "minorgridcolor": "#C8D4E3",
             "startlinecolor": "#2a3f5f"
            },
            "baxis": {
             "endlinecolor": "#2a3f5f",
             "gridcolor": "#C8D4E3",
             "linecolor": "#C8D4E3",
             "minorgridcolor": "#C8D4E3",
             "startlinecolor": "#2a3f5f"
            },
            "type": "carpet"
           }
          ],
          "choropleth": [
           {
            "colorbar": {
             "outlinewidth": 0,
             "ticks": ""
            },
            "type": "choropleth"
           }
          ],
          "contour": [
           {
            "colorbar": {
             "outlinewidth": 0,
             "ticks": ""
            },
            "colorscale": [
             [
              0,
              "#0d0887"
             ],
             [
              0.1111111111111111,
              "#46039f"
             ],
             [
              0.2222222222222222,
              "#7201a8"
             ],
             [
              0.3333333333333333,
              "#9c179e"
             ],
             [
              0.4444444444444444,
              "#bd3786"
             ],
             [
              0.5555555555555556,
              "#d8576b"
             ],
             [
              0.6666666666666666,
              "#ed7953"
             ],
             [
              0.7777777777777778,
              "#fb9f3a"
             ],
             [
              0.8888888888888888,
              "#fdca26"
             ],
             [
              1,
              "#f0f921"
             ]
            ],
            "type": "contour"
           }
          ],
          "contourcarpet": [
           {
            "colorbar": {
             "outlinewidth": 0,
             "ticks": ""
            },
            "type": "contourcarpet"
           }
          ],
          "heatmap": [
           {
            "colorbar": {
             "outlinewidth": 0,
             "ticks": ""
            },
            "colorscale": [
             [
              0,
              "#0d0887"
             ],
             [
              0.1111111111111111,
              "#46039f"
             ],
             [
              0.2222222222222222,
              "#7201a8"
             ],
             [
              0.3333333333333333,
              "#9c179e"
             ],
             [
              0.4444444444444444,
              "#bd3786"
             ],
             [
              0.5555555555555556,
              "#d8576b"
             ],
             [
              0.6666666666666666,
              "#ed7953"
             ],
             [
              0.7777777777777778,
              "#fb9f3a"
             ],
             [
              0.8888888888888888,
              "#fdca26"
             ],
             [
              1,
              "#f0f921"
             ]
            ],
            "type": "heatmap"
           }
          ],
          "heatmapgl": [
           {
            "colorbar": {
             "outlinewidth": 0,
             "ticks": ""
            },
            "colorscale": [
             [
              0,
              "#0d0887"
             ],
             [
              0.1111111111111111,
              "#46039f"
             ],
             [
              0.2222222222222222,
              "#7201a8"
             ],
             [
              0.3333333333333333,
              "#9c179e"
             ],
             [
              0.4444444444444444,
              "#bd3786"
             ],
             [
              0.5555555555555556,
              "#d8576b"
             ],
             [
              0.6666666666666666,
              "#ed7953"
             ],
             [
              0.7777777777777778,
              "#fb9f3a"
             ],
             [
              0.8888888888888888,
              "#fdca26"
             ],
             [
              1,
              "#f0f921"
             ]
            ],
            "type": "heatmapgl"
           }
          ],
          "histogram": [
           {
            "marker": {
             "pattern": {
              "fillmode": "overlay",
              "size": 10,
              "solidity": 0.2
             }
            },
            "type": "histogram"
           }
          ],
          "histogram2d": [
           {
            "colorbar": {
             "outlinewidth": 0,
             "ticks": ""
            },
            "colorscale": [
             [
              0,
              "#0d0887"
             ],
             [
              0.1111111111111111,
              "#46039f"
             ],
             [
              0.2222222222222222,
              "#7201a8"
             ],
             [
              0.3333333333333333,
              "#9c179e"
             ],
             [
              0.4444444444444444,
              "#bd3786"
             ],
             [
              0.5555555555555556,
              "#d8576b"
             ],
             [
              0.6666666666666666,
              "#ed7953"
             ],
             [
              0.7777777777777778,
              "#fb9f3a"
             ],
             [
              0.8888888888888888,
              "#fdca26"
             ],
             [
              1,
              "#f0f921"
             ]
            ],
            "type": "histogram2d"
           }
          ],
          "histogram2dcontour": [
           {
            "colorbar": {
             "outlinewidth": 0,
             "ticks": ""
            },
            "colorscale": [
             [
              0,
              "#0d0887"
             ],
             [
              0.1111111111111111,
              "#46039f"
             ],
             [
              0.2222222222222222,
              "#7201a8"
             ],
             [
              0.3333333333333333,
              "#9c179e"
             ],
             [
              0.4444444444444444,
              "#bd3786"
             ],
             [
              0.5555555555555556,
              "#d8576b"
             ],
             [
              0.6666666666666666,
              "#ed7953"
             ],
             [
              0.7777777777777778,
              "#fb9f3a"
             ],
             [
              0.8888888888888888,
              "#fdca26"
             ],
             [
              1,
              "#f0f921"
             ]
            ],
            "type": "histogram2dcontour"
           }
          ],
          "mesh3d": [
           {
            "colorbar": {
             "outlinewidth": 0,
             "ticks": ""
            },
            "type": "mesh3d"
           }
          ],
          "parcoords": [
           {
            "line": {
             "colorbar": {
              "outlinewidth": 0,
              "ticks": ""
             }
            },
            "type": "parcoords"
           }
          ],
          "pie": [
           {
            "automargin": true,
            "type": "pie"
           }
          ],
          "scatter": [
           {
            "fillpattern": {
             "fillmode": "overlay",
             "size": 10,
             "solidity": 0.2
            },
            "type": "scatter"
           }
          ],
          "scatter3d": [
           {
            "line": {
             "colorbar": {
              "outlinewidth": 0,
              "ticks": ""
             }
            },
            "marker": {
             "colorbar": {
              "outlinewidth": 0,
              "ticks": ""
             }
            },
            "type": "scatter3d"
           }
          ],
          "scattercarpet": [
           {
            "marker": {
             "colorbar": {
              "outlinewidth": 0,
              "ticks": ""
             }
            },
            "type": "scattercarpet"
           }
          ],
          "scattergeo": [
           {
            "marker": {
             "colorbar": {
              "outlinewidth": 0,
              "ticks": ""
             }
            },
            "type": "scattergeo"
           }
          ],
          "scattergl": [
           {
            "marker": {
             "colorbar": {
              "outlinewidth": 0,
              "ticks": ""
             }
            },
            "type": "scattergl"
           }
          ],
          "scattermapbox": [
           {
            "marker": {
             "colorbar": {
              "outlinewidth": 0,
              "ticks": ""
             }
            },
            "type": "scattermapbox"
           }
          ],
          "scatterpolar": [
           {
            "marker": {
             "colorbar": {
              "outlinewidth": 0,
              "ticks": ""
             }
            },
            "type": "scatterpolar"
           }
          ],
          "scatterpolargl": [
           {
            "marker": {
             "colorbar": {
              "outlinewidth": 0,
              "ticks": ""
             }
            },
            "type": "scatterpolargl"
           }
          ],
          "scatterternary": [
           {
            "marker": {
             "colorbar": {
              "outlinewidth": 0,
              "ticks": ""
             }
            },
            "type": "scatterternary"
           }
          ],
          "surface": [
           {
            "colorbar": {
             "outlinewidth": 0,
             "ticks": ""
            },
            "colorscale": [
             [
              0,
              "#0d0887"
             ],
             [
              0.1111111111111111,
              "#46039f"
             ],
             [
              0.2222222222222222,
              "#7201a8"
             ],
             [
              0.3333333333333333,
              "#9c179e"
             ],
             [
              0.4444444444444444,
              "#bd3786"
             ],
             [
              0.5555555555555556,
              "#d8576b"
             ],
             [
              0.6666666666666666,
              "#ed7953"
             ],
             [
              0.7777777777777778,
              "#fb9f3a"
             ],
             [
              0.8888888888888888,
              "#fdca26"
             ],
             [
              1,
              "#f0f921"
             ]
            ],
            "type": "surface"
           }
          ],
          "table": [
           {
            "cells": {
             "fill": {
              "color": "#EBF0F8"
             },
             "line": {
              "color": "white"
             }
            },
            "header": {
             "fill": {
              "color": "#C8D4E3"
             },
             "line": {
              "color": "white"
             }
            },
            "type": "table"
           }
          ]
         },
         "layout": {
          "annotationdefaults": {
           "arrowcolor": "#2a3f5f",
           "arrowhead": 0,
           "arrowwidth": 1
          },
          "autotypenumbers": "strict",
          "coloraxis": {
           "colorbar": {
            "outlinewidth": 0,
            "ticks": ""
           }
          },
          "colorscale": {
           "diverging": [
            [
             0,
             "#8e0152"
            ],
            [
             0.1,
             "#c51b7d"
            ],
            [
             0.2,
             "#de77ae"
            ],
            [
             0.3,
             "#f1b6da"
            ],
            [
             0.4,
             "#fde0ef"
            ],
            [
             0.5,
             "#f7f7f7"
            ],
            [
             0.6,
             "#e6f5d0"
            ],
            [
             0.7,
             "#b8e186"
            ],
            [
             0.8,
             "#7fbc41"
            ],
            [
             0.9,
             "#4d9221"
            ],
            [
             1,
             "#276419"
            ]
           ],
           "sequential": [
            [
             0,
             "#0d0887"
            ],
            [
             0.1111111111111111,
             "#46039f"
            ],
            [
             0.2222222222222222,
             "#7201a8"
            ],
            [
             0.3333333333333333,
             "#9c179e"
            ],
            [
             0.4444444444444444,
             "#bd3786"
            ],
            [
             0.5555555555555556,
             "#d8576b"
            ],
            [
             0.6666666666666666,
             "#ed7953"
            ],
            [
             0.7777777777777778,
             "#fb9f3a"
            ],
            [
             0.8888888888888888,
             "#fdca26"
            ],
            [
             1,
             "#f0f921"
            ]
           ],
           "sequentialminus": [
            [
             0,
             "#0d0887"
            ],
            [
             0.1111111111111111,
             "#46039f"
            ],
            [
             0.2222222222222222,
             "#7201a8"
            ],
            [
             0.3333333333333333,
             "#9c179e"
            ],
            [
             0.4444444444444444,
             "#bd3786"
            ],
            [
             0.5555555555555556,
             "#d8576b"
            ],
            [
             0.6666666666666666,
             "#ed7953"
            ],
            [
             0.7777777777777778,
             "#fb9f3a"
            ],
            [
             0.8888888888888888,
             "#fdca26"
            ],
            [
             1,
             "#f0f921"
            ]
           ]
          },
          "colorway": [
           "#636efa",
           "#EF553B",
           "#00cc96",
           "#ab63fa",
           "#FFA15A",
           "#19d3f3",
           "#FF6692",
           "#B6E880",
           "#FF97FF",
           "#FECB52"
          ],
          "font": {
           "color": "#2a3f5f"
          },
          "geo": {
           "bgcolor": "white",
           "lakecolor": "white",
           "landcolor": "white",
           "showlakes": true,
           "showland": true,
           "subunitcolor": "#C8D4E3"
          },
          "hoverlabel": {
           "align": "left"
          },
          "hovermode": "closest",
          "mapbox": {
           "style": "light"
          },
          "paper_bgcolor": "white",
          "plot_bgcolor": "white",
          "polar": {
           "angularaxis": {
            "gridcolor": "#EBF0F8",
            "linecolor": "#EBF0F8",
            "ticks": ""
           },
           "bgcolor": "white",
           "radialaxis": {
            "gridcolor": "#EBF0F8",
            "linecolor": "#EBF0F8",
            "ticks": ""
           }
          },
          "scene": {
           "xaxis": {
            "backgroundcolor": "white",
            "gridcolor": "#DFE8F3",
            "gridwidth": 2,
            "linecolor": "#EBF0F8",
            "showbackground": true,
            "ticks": "",
            "zerolinecolor": "#EBF0F8"
           },
           "yaxis": {
            "backgroundcolor": "white",
            "gridcolor": "#DFE8F3",
            "gridwidth": 2,
            "linecolor": "#EBF0F8",
            "showbackground": true,
            "ticks": "",
            "zerolinecolor": "#EBF0F8"
           },
           "zaxis": {
            "backgroundcolor": "white",
            "gridcolor": "#DFE8F3",
            "gridwidth": 2,
            "linecolor": "#EBF0F8",
            "showbackground": true,
            "ticks": "",
            "zerolinecolor": "#EBF0F8"
           }
          },
          "shapedefaults": {
           "line": {
            "color": "#2a3f5f"
           }
          },
          "ternary": {
           "aaxis": {
            "gridcolor": "#DFE8F3",
            "linecolor": "#A2B1C6",
            "ticks": ""
           },
           "baxis": {
            "gridcolor": "#DFE8F3",
            "linecolor": "#A2B1C6",
            "ticks": ""
           },
           "bgcolor": "white",
           "caxis": {
            "gridcolor": "#DFE8F3",
            "linecolor": "#A2B1C6",
            "ticks": ""
           }
          },
          "title": {
           "x": 0.05
          },
          "xaxis": {
           "automargin": true,
           "gridcolor": "#EBF0F8",
           "linecolor": "#EBF0F8",
           "ticks": "",
           "title": {
            "standoff": 15
           },
           "zerolinecolor": "#EBF0F8",
           "zerolinewidth": 2
          },
          "yaxis": {
           "automargin": true,
           "gridcolor": "#EBF0F8",
           "linecolor": "#EBF0F8",
           "ticks": "",
           "title": {
            "standoff": 15
           },
           "zerolinecolor": "#EBF0F8",
           "zerolinewidth": 2
          }
         }
        },
        "title": {
         "text": "Porcentaje de Pares Coordinados por Escenario"
        },
        "width": 1000,
        "xaxis": {
         "anchor": "y",
         "categoryarray": [
          "scenario_1",
          "scenario_10",
          "scenario_11",
          "scenario_12",
          "scenario_13",
          "scenario_14",
          "scenario_15",
          "scenario_16",
          "scenario_17",
          "scenario_18",
          "scenario_19",
          "scenario_2",
          "scenario_20",
          "scenario_21",
          "scenario_22",
          "scenario_23",
          "scenario_24",
          "scenario_25",
          "scenario_26",
          "scenario_27",
          "scenario_28",
          "scenario_29",
          "scenario_3",
          "scenario_30",
          "scenario_31",
          "scenario_32",
          "scenario_33",
          "scenario_34",
          "scenario_35",
          "scenario_36",
          "scenario_37",
          "scenario_38",
          "scenario_39",
          "scenario_4",
          "scenario_40",
          "scenario_41",
          "scenario_42",
          "scenario_43",
          "scenario_44",
          "scenario_45",
          "scenario_46",
          "scenario_47",
          "scenario_48",
          "scenario_49",
          "scenario_5",
          "scenario_50",
          "scenario_51",
          "scenario_52",
          "scenario_53",
          "scenario_54",
          "scenario_55",
          "scenario_56",
          "scenario_57",
          "scenario_58",
          "scenario_59",
          "scenario_6",
          "scenario_60",
          "scenario_61",
          "scenario_62",
          "scenario_63",
          "scenario_64",
          "scenario_65",
          "scenario_66",
          "scenario_67",
          "scenario_68",
          "scenario_7",
          "scenario_8",
          "scenario_9"
         ],
         "categoryorder": "array",
         "domain": [
          0,
          1
         ],
         "title": {
          "text": "Escenarios"
         }
        },
        "yaxis": {
         "anchor": "x",
         "domain": [
          0,
          1
         ],
         "title": {
          "text": "Porcentaje de Coordinación (%)"
         }
        }
       }
      }
     },
     "metadata": {},
     "output_type": "display_data"
    }
   ],
   "source": [
    "import json\n",
    "import os\n",
    "import copy\n",
    "import plotly.express as px\n",
    "import plotly.graph_objects as go\n",
    "import pandas as pd\n",
    "import numpy as np\n",
    "\n",
    "# --- Constantes ---\n",
    "CTI = 0.2  # Intervalo de tiempo de coordinación típico (en segundos)\n",
    "\n",
    "# --- Ruta del archivo ---\n",
    "input_file = \"/Users/gustavo/Documents/Projects/TESIS_UNAL/ADAPTIVE_ALGORITHM/data/processed/independent_relay_pairs_second_optimization.json\"\n",
    "\n",
    "def analyze_all_scenarios():\n",
    "    try:\n",
    "        # 1. Cargar el archivo JSON\n",
    "        print(f\"Cargando datos desde: {input_file}\")\n",
    "        with open(input_file, 'r') as f:\n",
    "            relay_pairs_data = json.load(f)\n",
    "        \n",
    "        if not isinstance(relay_pairs_data, list):\n",
    "            raise TypeError(f\"Error: El archivo {input_file} no contiene una lista JSON.\")\n",
    "        \n",
    "        # Diccionarios para almacenar datos por escenario\n",
    "        scenario_results = {}  # Estructura: {scenario_id: {'tmt': valor, 'coordinated': cantidad, 'uncoordinated': cantidad}}\n",
    "        \n",
    "        # 2. Procesar cada par y agrupar por escenario\n",
    "        print(\"Calculando TMT por escenario...\")\n",
    "        total_pairs_read = 0\n",
    "        skipped_pairs_count = 0\n",
    "        \n",
    "        for pair_entry in relay_pairs_data:\n",
    "            total_pairs_read += 1\n",
    "            if not isinstance(pair_entry, dict):\n",
    "                skipped_pairs_count += 1\n",
    "                continue\n",
    "            \n",
    "            scenario_id = pair_entry.get(\"scenario_id\")\n",
    "            if not scenario_id:\n",
    "                skipped_pairs_count += 1\n",
    "                continue\n",
    "                \n",
    "            # Inicializar datos del escenario si es la primera vez\n",
    "            if scenario_id not in scenario_results:\n",
    "                scenario_results[scenario_id] = {\n",
    "                    'tmt': 0, \n",
    "                    'coordinated': 0, \n",
    "                    'uncoordinated': 0,\n",
    "                    'total_valid': 0\n",
    "                }\n",
    "            \n",
    "            # Obtener información de los relés\n",
    "            main_relay_info = pair_entry.get('main_relay')\n",
    "            backup_relay_info = pair_entry.get('backup_relay')\n",
    "            \n",
    "            if not isinstance(main_relay_info, dict) or not isinstance(backup_relay_info, dict):\n",
    "                skipped_pairs_count += 1\n",
    "                continue\n",
    "                \n",
    "            # Obtener tiempos de operación\n",
    "            main_time = main_relay_info.get('Time_out')\n",
    "            backup_time = backup_relay_info.get('Time_out')\n",
    "            \n",
    "            # Validar que los tiempos son números\n",
    "            if not isinstance(main_time, (int, float)) or not isinstance(backup_time, (int, float)):\n",
    "                skipped_pairs_count += 1\n",
    "                continue\n",
    "                \n",
    "            # Cálculos\n",
    "            delta_t = backup_time - main_time - CTI\n",
    "            mt = (delta_t - abs(delta_t)) / 2  # Penalización solo si delta_t es negativo\n",
    "            \n",
    "            # Actualizar resultados del escenario\n",
    "            scenario_results[scenario_id]['tmt'] += mt\n",
    "            scenario_results[scenario_id]['total_valid'] += 1\n",
    "            \n",
    "            if delta_t >= 0:\n",
    "                scenario_results[scenario_id]['coordinated'] += 1\n",
    "            else:\n",
    "                scenario_results[scenario_id]['uncoordinated'] += 1\n",
    "        \n",
    "        # 3. Preparar datos para graficar\n",
    "        data_for_chart = []\n",
    "        for scenario, data in scenario_results.items():\n",
    "            data_for_chart.append({\n",
    "                'Escenario': scenario,\n",
    "                'TMT': data['tmt'],\n",
    "                'Pares Coordinados': data['coordinated'],\n",
    "                'Pares Descoordinados': data['uncoordinated'],\n",
    "                'Total Pares Válidos': data['total_valid'],\n",
    "                'Porcentaje Coordinación': 100 * data['coordinated'] / data['total_valid'] if data['total_valid'] > 0 else 0\n",
    "            })\n",
    "        \n",
    "        # Convertir a DataFrame y ordenar por nombre de escenario\n",
    "        df = pd.DataFrame(data_for_chart)\n",
    "        df = df.sort_values(by='Escenario')\n",
    "        \n",
    "        # 4. Crear gráfico de barras con Plotly\n",
    "        fig = px.bar(\n",
    "            df, \n",
    "            x='Escenario', \n",
    "            y='TMT',\n",
    "            text='TMT',\n",
    "            color='TMT',\n",
    "            color_continuous_scale='Viridis',\n",
    "            title='Penalización Total por Descoordinación (TMT) por Escenario',\n",
    "            labels={'TMT': 'Total Miscoordination Time'},\n",
    "            hover_data=['Pares Coordinados', 'Pares Descoordinados', 'Total Pares Válidos', 'Porcentaje Coordinación']\n",
    "        )\n",
    "        \n",
    "        # Personalizar el gráfico\n",
    "        fig.update_traces(\n",
    "            texttemplate='%{text:.5f}',\n",
    "            textposition='outside'\n",
    "        )\n",
    "        \n",
    "        fig.update_layout(\n",
    "            xaxis_title='Escenarios',\n",
    "            yaxis_title='TMT (Total Miscoordination Time)',\n",
    "            xaxis={'categoryorder': 'array', 'categoryarray': df['Escenario'].tolist()},\n",
    "            font=dict(size=12),\n",
    "            height=600,\n",
    "            width=1000\n",
    "        )\n",
    "        \n",
    "        # 5. Crear un segundo gráfico: porcentaje de coordinación\n",
    "        fig2 = px.bar(\n",
    "            df,\n",
    "            x='Escenario',\n",
    "            y='Porcentaje Coordinación',\n",
    "            text='Porcentaje Coordinación',\n",
    "            color='Porcentaje Coordinación',\n",
    "            color_continuous_scale='Turbo',\n",
    "            title='Porcentaje de Pares Coordinados por Escenario',\n",
    "            labels={'Porcentaje Coordinación': 'Porcentaje de Coordinación (%)'},\n",
    "            hover_data=['Pares Coordinados', 'Pares Descoordinados', 'Total Pares Válidos', 'TMT']\n",
    "        )\n",
    "        \n",
    "        fig2.update_traces(\n",
    "            texttemplate='%{text:.1f}%',\n",
    "            textposition='outside'\n",
    "        )\n",
    "        \n",
    "        fig2.update_layout(\n",
    "            xaxis_title='Escenarios',\n",
    "            yaxis_title='Porcentaje de Coordinación (%)',\n",
    "            xaxis={'categoryorder': 'array', 'categoryarray': df['Escenario'].tolist()},\n",
    "            font=dict(size=12),\n",
    "            height=600,\n",
    "            width=1000\n",
    "        )\n",
    "        \n",
    "        # 5. Mostrar tabla de resultados\n",
    "        print(\"\\n--- Resultados por Escenario ---\")\n",
    "        print(f\"{'Escenario':<15} {'Pares Válidos':<15} {'Coordinados':<15} {'Descoordinados':<15} {'% Coordin.':<15} {'TMT':<15}\")\n",
    "        print(\"-\" * 90)\n",
    "        \n",
    "        for index, row in df.iterrows():\n",
    "            print(f\"{row['Escenario']:<15} {int(row['Total Pares Válidos']):<15} {int(row['Pares Coordinados']):<15} {int(row['Pares Descoordinados']):<15} {row['Porcentaje Coordinación']:.1f}%{' ':<10} {row['TMT']:.5f}\")\n",
    "        \n",
    "        print(f\"\\nTotal de pares leídos: {total_pairs_read}\")\n",
    "        print(f\"Pares omitidos (datos inválidos/faltantes): {skipped_pairs_count}\")\n",
    "        \n",
    "        # Guardar los gráficos antes de mostrarlos\n",
    "        output_dir = os.path.dirname(input_file)\n",
    "        \n",
    "        # Guardar el primer gráfico (TMT)\n",
    "        output_file_tmt = os.path.join(output_dir, \"tmt_by_scenario.html\")\n",
    "        fig.write_html(output_file_tmt)\n",
    "        print(f\"\\nGráfico de TMT guardado en: {output_file_tmt}\")\n",
    "        \n",
    "        # Guardar el segundo gráfico (% Coordinación)\n",
    "        output_file_coord = os.path.join(output_dir, \"coordination_percentage_by_scenario.html\")\n",
    "        fig2.write_html(output_file_coord)\n",
    "        print(f\"Gráfico de Porcentaje de Coordinación guardado en: {output_file_coord}\")\n",
    "        \n",
    "        # Mostrar los gráficos\n",
    "        fig.show()\n",
    "        fig2.show()\n",
    "        \n",
    "    except FileNotFoundError:\n",
    "        print(f\"Error CRÍTICO: No se pudo encontrar el archivo de entrada: {input_file}\")\n",
    "    except TypeError as e:\n",
    "        print(f\"Error CRÍTICO: Problema con el tipo de datos esperado en el archivo JSON: {e}\")\n",
    "    except json.JSONDecodeError as e:\n",
    "        print(f\"Error CRÍTICO: El archivo de entrada JSON ({input_file}) está mal formado: {e}\")\n",
    "    except Exception as e:\n",
    "        import traceback\n",
    "        print(f\"Error inesperado durante el procesamiento: {e}\")\n",
    "        print(\"--- Traceback ---\")\n",
    "        traceback.print_exc()\n",
    "        print(\"-----------------\")\n",
    "        \n",
    "if __name__ == \"__main__\":\n",
    "    analyze_all_scenarios()\n"
   ]
  },
  {
   "cell_type": "code",
   "execution_count": null,
   "metadata": {},
   "outputs": [],
   "source": []
  }
 ],
 "metadata": {
  "kernelspec": {
   "display_name": "Python 3",
   "language": "python",
   "name": "python3"
  },
  "language_info": {
   "codemirror_mode": {
    "name": "ipython",
    "version": 3
   },
   "file_extension": ".py",
   "mimetype": "text/x-python",
   "name": "python",
   "nbconvert_exporter": "python",
   "pygments_lexer": "ipython3",
   "version": "3.11.11"
  }
 },
 "nbformat": 4,
 "nbformat_minor": 2
}
