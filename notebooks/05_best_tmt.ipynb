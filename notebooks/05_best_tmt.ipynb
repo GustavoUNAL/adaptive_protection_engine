{
 "cells": [
  {
   "cell_type": "code",
   "execution_count": 37,
   "metadata": {},
   "outputs": [
    {
     "name": "stdout",
     "output_type": "stream",
     "text": [
      "Archivo de entrada: /Users/gustavo/Documents/Projects/TESIS_UNAL/ADAPTIVE_ALGORITHM/data/processed/model/input_data.json\n",
      "Analizando SOLAMENTE para: 'scenario_1'\n",
      "Cargando datos (lista de pares)...\n",
      "Datos cargados correctamente.\n",
      "Calculando delta_t, mt y clasificando pares para 'scenario_1'...\n",
      "Procesamiento de pares completado.\n",
      "\n",
      "--- Resultados del Análisis de Coordinación para 'scenario_1' ---\n",
      "Total de pares leídos del archivo: 3400\n",
      "Total de pares encontrados para 'scenario_1': 100\n",
      "Total de pares válidos analizados para 'scenario_1': 100\n",
      "Número de pares coordinados (delta_t >= 0) en 'scenario_1': 92\n",
      "Número de pares DESCOORDINADOS (delta_t < 0) en 'scenario_1': 8\n",
      "Suma total de penalización por descoordinación (TMT Total) para 'scenario_1': -0.62690\n"
     ]
    }
   ],
   "source": [
    "import json\n",
    "import os\n",
    "import math\n",
    "import copy # Para crear copias de los diccionarios si es necesario\n",
    "\n",
    "# --- Constantes ---\n",
    "CTI = 0.2  # Intervalo de tiempo de coordinación típico (en segundos)\n",
    "TARGET_SCENARIO_ID = \"scenario_1\" # Escenario específico a analizar\n",
    "\n",
    "# --- Ruta del archivo ---\n",
    "input_file = \"/Users/gustavo/Documents/Projects/TESIS_UNAL/ADAPTIVE_ALGORITHM/data/processed/model/input_data.json\"\n",
    "\n",
    "print(f\"Archivo de entrada: {input_file}\")\n",
    "print(f\"Analizando SOLAMENTE para: '{TARGET_SCENARIO_ID}'\")\n",
    "\n",
    "# Listas para clasificar los pares del escenario objetivo\n",
    "coordinated_pairs = []\n",
    "uncoordinated_pairs = []\n",
    "\n",
    "try:\n",
    "    # 1. Cargar el archivo JSON (lista de pares)\n",
    "    print(\"Cargando datos (lista de pares)...\")\n",
    "    with open(input_file, 'r') as f:\n",
    "        relay_pairs_data = json.load(f)\n",
    "    print(\"Datos cargados correctamente.\")\n",
    "\n",
    "    # Validar que es una lista\n",
    "    if not isinstance(relay_pairs_data, list):\n",
    "        raise TypeError(f\"Error: El archivo {input_file} no contiene una lista JSON.\")\n",
    "\n",
    "    # 2. Procesar cada par de relés, filtrando por scenario_id\n",
    "    print(f\"Calculando delta_t, mt y clasificando pares para '{TARGET_SCENARIO_ID}'...\")\n",
    "    total_pairs_read = 0\n",
    "    scenario_pairs_found = 0\n",
    "    skipped_pairs_count = 0 # Pares omitidos DENTRO del scenario_id objetivo\n",
    "\n",
    "    for pair_entry in relay_pairs_data:\n",
    "        total_pairs_read += 1\n",
    "        if not isinstance(pair_entry, dict):\n",
    "            # Contar como leído pero no procesado si no es diccionario\n",
    "            continue\n",
    "\n",
    "        # --- FILTRAR POR SCENARIO_ID ---\n",
    "        current_scenario_id = pair_entry.get(\"scenario_id\")\n",
    "        if current_scenario_id != TARGET_SCENARIO_ID:\n",
    "            continue # Omitir este par si no es del escenario objetivo\n",
    "        # ---------------------------------\n",
    "\n",
    "        # Si llegamos aquí, el par pertenece a TARGET_SCENARIO_ID\n",
    "        scenario_pairs_found += 1\n",
    "\n",
    "        # Obtener información de los relés de forma segura\n",
    "        main_relay_info = pair_entry.get('main_relay')\n",
    "        backup_relay_info = pair_entry.get('backup_relay')\n",
    "\n",
    "        if not isinstance(main_relay_info, dict) or not isinstance(backup_relay_info, dict):\n",
    "            print(f\"Advertencia ({TARGET_SCENARIO_ID}): Falta información de relé principal o de respaldo en: {pair_entry.get('line', 'N/A')}-{pair_entry.get('fault', 'N/A')}. Par omitido.\")\n",
    "            skipped_pairs_count += 1\n",
    "            continue\n",
    "\n",
    "        # Obtener tiempos de operación de forma segura\n",
    "        main_time = main_relay_info.get('Time_out')\n",
    "        backup_time = backup_relay_info.get('Time_out')\n",
    "\n",
    "        # Validar que los tiempos son números\n",
    "        if not isinstance(main_time, (int, float)) or not isinstance(backup_time, (int, float)):\n",
    "            print(f\"Advertencia ({TARGET_SCENARIO_ID}): Tiempo(s) de operación no numéricos o faltantes en: {pair_entry.get('line', 'N/A')}-{pair_entry.get('fault', 'N/A')} (Main: {main_time}, Backup: {backup_time}). Par omitido.\")\n",
    "            skipped_pairs_count += 1\n",
    "            continue\n",
    "\n",
    "        # --- Realizar Cálculos ---\n",
    "        delta_t = backup_time - main_time - CTI\n",
    "        mt = (delta_t - abs(delta_t)) / 2  # Penalización solo si delta_t es negativo\n",
    "\n",
    "        # Crear una copia del par y añadirle los resultados del cálculo\n",
    "        pair_info = copy.deepcopy(pair_entry)\n",
    "        pair_info['delta_t'] = delta_t\n",
    "        pair_info['mt'] = mt\n",
    "\n",
    "        # --- Clasificar (solo pares del TARGET_SCENARIO_ID) ---\n",
    "        if delta_t >= 0:\n",
    "            coordinated_pairs.append(pair_info)\n",
    "        else:\n",
    "            uncoordinated_pairs.append(pair_info)\n",
    "\n",
    "    print(\"Procesamiento de pares completado.\")\n",
    "\n",
    "    # 3. Calcular Métricas Finales (solo para TARGET_SCENARIO_ID)\n",
    "    if scenario_pairs_found == 0:\n",
    "         print (f\"No se encontraron pares válidos para '{TARGET_SCENARIO_ID}' en el archivo.\")\n",
    "    else:\n",
    "        total_valid_pairs_scenario = len(coordinated_pairs) + len(uncoordinated_pairs) # Pares válidos DENTRO del escenario\n",
    "        miscoordination_count_scenario = len(uncoordinated_pairs)\n",
    "        # Sumar 'mt' solo de los pares del escenario objetivo (que son los únicos en las listas)\n",
    "        tmt_total_scenario = sum(pair[\"mt\"] for pair in coordinated_pairs + uncoordinated_pairs)\n",
    "\n",
    "\n",
    "        # 4. Imprimir Resultados\n",
    "        print(f\"\\n--- Resultados del Análisis de Coordinación para '{TARGET_SCENARIO_ID}' ---\")\n",
    "        print(f\"Total de pares leídos del archivo: {total_pairs_read}\")\n",
    "        print(f\"Total de pares encontrados para '{TARGET_SCENARIO_ID}': {scenario_pairs_found}\")\n",
    "        if skipped_pairs_count > 0:\n",
    "            print(f\"Pares omitidos DENTRO de '{TARGET_SCENARIO_ID}' (datos inválidos/faltantes): {skipped_pairs_count}\")\n",
    "        print(f\"Total de pares válidos analizados para '{TARGET_SCENARIO_ID}': {total_valid_pairs_scenario}\")\n",
    "        print(f\"Número de pares coordinados (delta_t >= 0) en '{TARGET_SCENARIO_ID}': {len(coordinated_pairs)}\")\n",
    "        print(f\"Número de pares DESCOORDINADOS (delta_t < 0) en '{TARGET_SCENARIO_ID}': {miscoordination_count_scenario}\")\n",
    "        print(f\"Suma total de penalización por descoordinación (TMT Total) para '{TARGET_SCENARIO_ID}': {tmt_total_scenario:.5f}\") # Imprimir con 5 decimales\n",
    "\n",
    "except FileNotFoundError:\n",
    "    print(f\"Error CRÍTICO: No se pudo encontrar el archivo de entrada: {input_file}\")\n",
    "except TypeError as e:\n",
    "    print(f\"Error CRÍTICO: Problema con el tipo de datos esperado en el archivo JSON: {e}\")\n",
    "except json.JSONDecodeError as e:\n",
    "    print(f\"Error CRÍTICO: El archivo de entrada JSON ({input_file}) está mal formado: {e}\")\n",
    "except Exception as e:\n",
    "    import traceback\n",
    "    print(f\"Error inesperado durante el procesamiento: {e}\")\n",
    "    print(\"--- Traceback ---\")\n",
    "    traceback.print_exc()\n",
    "    print(\"-----------------\")"
   ]
  },
  {
   "cell_type": "markdown",
   "metadata": {},
   "source": [
    "# Analisys"
   ]
  },
  {
   "cell_type": "code",
   "execution_count": 38,
   "metadata": {},
   "outputs": [
    {
     "name": "stderr",
     "output_type": "stream",
     "text": [
      "2025-04-19 19:13:05,329 - INFO - Archivo de entrada: /Users/gustavo/Documents/Projects/TESIS_UNAL/ADAPTIVE_ALGORITHM/data/processed/model/input_data.json\n",
      "2025-04-19 19:13:05,333 - INFO - Cargando y agrupando datos por escenario...\n",
      "2025-04-19 19:13:05,382 - INFO - Archivo cargado: /Users/gustavo/Documents/Projects/TESIS_UNAL/ADAPTIVE_ALGORITHM/data/processed/model/input_data.json\n",
      "2025-04-19 19:13:05,403 - INFO - Datos agrupados: 34 escenarios encontrados.\n",
      "2025-04-19 19:13:05,404 - INFO - 3400 pares válidos leídos y agrupados.\n",
      "2025-04-19 19:13:05,404 - INFO - Calculando TMT y métricas para cada escenario usando los Time_out existentes...\n",
      "2025-04-19 19:13:05,412 - INFO - Cálculo de TMT completado para 34 escenarios.\n",
      "2025-04-19 19:13:05,762 - INFO - Generando gráfico de barras de TMT para todos los escenarios...\n"
     ]
    },
    {
     "name": "stdout",
     "output_type": "stream",
     "text": [
      "\n",
      "--- Mejores 54 Escenarios por TMT (Basado en Tiempos del Archivo de Entrada) ---\n",
      "    scenario_id     TMT  MiscoordinatedCount  TotalPairsEvaluated  \\\n",
      "30  scenario_65 -0.1757                    2                  100   \n",
      "29  scenario_64 -0.2734                    2                  100   \n",
      "26  scenario_61 -0.2776                    3                  100   \n",
      "27  scenario_62 -0.3267                    5                  100   \n",
      "33  scenario_68 -0.3414                    5                  100   \n",
      "16  scenario_35 -0.3768                    4                  100   \n",
      "13  scenario_32 -0.3921                    2                  100   \n",
      "8   scenario_27 -0.3974                    3                  100   \n",
      "25  scenario_60 -0.4049                    3                  100   \n",
      "18  scenario_53 -0.5197                    4                  100   \n",
      "32  scenario_67 -0.5396                    2                  100   \n",
      "9   scenario_28 -0.5595                    8                  100   \n",
      "24  scenario_59 -0.5674                    7                  100   \n",
      "3   scenario_22 -0.5773                    3                  100   \n",
      "31  scenario_66 -0.5804                    2                  100   \n",
      "14  scenario_33 -0.6231                    7                  100   \n",
      "0    scenario_1 -0.6269                    8                  100   \n",
      "23  scenario_58 -0.6346                    4                  100   \n",
      "28  scenario_63 -0.6515                    5                  100   \n",
      "4   scenario_23 -0.6865                    4                  100   \n",
      "19  scenario_54 -0.6925                    5                  100   \n",
      "15  scenario_34 -0.7084                    3                  100   \n",
      "21  scenario_56 -0.7648                    6                  100   \n",
      "22  scenario_57 -0.8088                    5                  100   \n",
      "2   scenario_21 -0.8233                    6                  100   \n",
      "11  scenario_30 -0.8522                    5                  100   \n",
      "7   scenario_26 -0.9031                    3                  100   \n",
      "20  scenario_55 -0.9663                    4                  100   \n",
      "6   scenario_25 -1.2170                    4                  100   \n",
      "17  scenario_36 -1.2178                    4                  100   \n",
      "12  scenario_31 -1.2550                    6                  100   \n",
      "5   scenario_24 -1.2749                    4                  100   \n",
      "1    scenario_4 -1.6377                   10                  100   \n",
      "10  scenario_29 -1.8110                    5                  100   \n",
      "\n",
      "    MaxNegativeMT  \n",
      "30        -0.1462  \n",
      "29        -0.2711  \n",
      "26        -0.1816  \n",
      "27        -0.1719  \n",
      "33        -0.1772  \n",
      "16        -0.1764  \n",
      "13        -0.3164  \n",
      "8         -0.3087  \n",
      "25        -0.2501  \n",
      "18        -0.2176  \n",
      "32        -0.3716  \n",
      "9         -0.2964  \n",
      "24        -0.2068  \n",
      "3         -0.3538  \n",
      "31        -0.4411  \n",
      "14        -0.3220  \n",
      "0         -0.2776  \n",
      "23        -0.5270  \n",
      "28        -0.3504  \n",
      "4         -0.5424  \n",
      "19        -0.3494  \n",
      "15        -0.6271  \n",
      "21        -0.5216  \n",
      "22        -0.3314  \n",
      "2         -0.4768  \n",
      "11        -0.6209  \n",
      "7         -0.6953  \n",
      "20        -0.4492  \n",
      "6         -0.4999  \n",
      "17        -1.1371  \n",
      "12        -0.6636  \n",
      "5         -0.6915  \n",
      "1         -0.6305  \n",
      "10        -0.8498  \n"
     ]
    },
    {
     "data": {
      "application/vnd.plotly.v1+json": {
       "config": {
        "plotlyServerURL": "https://plot.ly"
       },
       "data": [
        {
         "hoverinfo": "text",
         "hovertext": [
          "<b>scenario_1</b><br>TMT: -0.6269<br>Descoordinados: 8/100<br>Peor MT Individual: -0.2776",
          "<b>scenario_4</b><br>TMT: -1.6377<br>Descoordinados: 10/100<br>Peor MT Individual: -0.6305",
          "<b>scenario_21</b><br>TMT: -0.8233<br>Descoordinados: 6/100<br>Peor MT Individual: -0.4768",
          "<b>scenario_22</b><br>TMT: -0.5773<br>Descoordinados: 3/100<br>Peor MT Individual: -0.3538",
          "<b>scenario_23</b><br>TMT: -0.6865<br>Descoordinados: 4/100<br>Peor MT Individual: -0.5424",
          "<b>scenario_24</b><br>TMT: -1.2749<br>Descoordinados: 4/100<br>Peor MT Individual: -0.6915",
          "<b>scenario_25</b><br>TMT: -1.2170<br>Descoordinados: 4/100<br>Peor MT Individual: -0.4999",
          "<b>scenario_26</b><br>TMT: -0.9031<br>Descoordinados: 3/100<br>Peor MT Individual: -0.6953",
          "<b>scenario_27</b><br>TMT: -0.3974<br>Descoordinados: 3/100<br>Peor MT Individual: -0.3087",
          "<b>scenario_28</b><br>TMT: -0.5595<br>Descoordinados: 8/100<br>Peor MT Individual: -0.2964",
          "<b>scenario_29</b><br>TMT: -1.8110<br>Descoordinados: 5/100<br>Peor MT Individual: -0.8498",
          "<b>scenario_30</b><br>TMT: -0.8522<br>Descoordinados: 5/100<br>Peor MT Individual: -0.6209",
          "<b>scenario_31</b><br>TMT: -1.2550<br>Descoordinados: 6/100<br>Peor MT Individual: -0.6636",
          "<b>scenario_32</b><br>TMT: -0.3921<br>Descoordinados: 2/100<br>Peor MT Individual: -0.3164",
          "<b>scenario_33</b><br>TMT: -0.6231<br>Descoordinados: 7/100<br>Peor MT Individual: -0.3220",
          "<b>scenario_34</b><br>TMT: -0.7084<br>Descoordinados: 3/100<br>Peor MT Individual: -0.6271",
          "<b>scenario_35</b><br>TMT: -0.3768<br>Descoordinados: 4/100<br>Peor MT Individual: -0.1764",
          "<b>scenario_36</b><br>TMT: -1.2178<br>Descoordinados: 4/100<br>Peor MT Individual: -1.1371",
          "<b>scenario_53</b><br>TMT: -0.5197<br>Descoordinados: 4/100<br>Peor MT Individual: -0.2176",
          "<b>scenario_54</b><br>TMT: -0.6925<br>Descoordinados: 5/100<br>Peor MT Individual: -0.3494",
          "<b>scenario_55</b><br>TMT: -0.9663<br>Descoordinados: 4/100<br>Peor MT Individual: -0.4492",
          "<b>scenario_56</b><br>TMT: -0.7648<br>Descoordinados: 6/100<br>Peor MT Individual: -0.5216",
          "<b>scenario_57</b><br>TMT: -0.8088<br>Descoordinados: 5/100<br>Peor MT Individual: -0.3314",
          "<b>scenario_58</b><br>TMT: -0.6346<br>Descoordinados: 4/100<br>Peor MT Individual: -0.5270",
          "<b>scenario_59</b><br>TMT: -0.5674<br>Descoordinados: 7/100<br>Peor MT Individual: -0.2068",
          "<b>scenario_60</b><br>TMT: -0.4049<br>Descoordinados: 3/100<br>Peor MT Individual: -0.2501",
          "<b>scenario_61</b><br>TMT: -0.2776<br>Descoordinados: 3/100<br>Peor MT Individual: -0.1816",
          "<b>scenario_62</b><br>TMT: -0.3267<br>Descoordinados: 5/100<br>Peor MT Individual: -0.1719",
          "<b>scenario_63</b><br>TMT: -0.6515<br>Descoordinados: 5/100<br>Peor MT Individual: -0.3504",
          "<b>scenario_64</b><br>TMT: -0.2734<br>Descoordinados: 2/100<br>Peor MT Individual: -0.2711",
          "<b>scenario_65</b><br>TMT: -0.1757<br>Descoordinados: 2/100<br>Peor MT Individual: -0.1462",
          "<b>scenario_66</b><br>TMT: -0.5804<br>Descoordinados: 2/100<br>Peor MT Individual: -0.4411",
          "<b>scenario_67</b><br>TMT: -0.5396<br>Descoordinados: 2/100<br>Peor MT Individual: -0.3716",
          "<b>scenario_68</b><br>TMT: -0.3414<br>Descoordinados: 5/100<br>Peor MT Individual: -0.1772"
         ],
         "marker": {
          "color": [
           "#d62728",
           "#d62728",
           "#d62728",
           "#d62728",
           "#d62728",
           "#d62728",
           "#d62728",
           "#d62728",
           "#d62728",
           "#d62728",
           "#d62728",
           "#d62728",
           "#d62728",
           "#d62728",
           "#d62728",
           "#d62728",
           "#d62728",
           "#d62728",
           "#d62728",
           "#d62728",
           "#d62728",
           "#d62728",
           "#d62728",
           "#d62728",
           "#d62728",
           "#d62728",
           "#d62728",
           "#d62728",
           "#d62728",
           "#d62728",
           "#d62728",
           "#d62728",
           "#d62728",
           "#d62728"
          ]
         },
         "text": [
          "8/100",
          "10/100",
          "6/100",
          "3/100",
          "4/100",
          "4/100",
          "4/100",
          "3/100",
          "3/100",
          "8/100",
          "5/100",
          "5/100",
          "6/100",
          "2/100",
          "7/100",
          "3/100",
          "4/100",
          "4/100",
          "4/100",
          "5/100",
          "4/100",
          "6/100",
          "5/100",
          "4/100",
          "7/100",
          "3/100",
          "3/100",
          "5/100",
          "5/100",
          "2/100",
          "2/100",
          "2/100",
          "2/100",
          "5/100"
         ],
         "textfont": {
          "size": 8
         },
         "textposition": "outside",
         "type": "bar",
         "x": [
          "scenario_1",
          "scenario_4",
          "scenario_21",
          "scenario_22",
          "scenario_23",
          "scenario_24",
          "scenario_25",
          "scenario_26",
          "scenario_27",
          "scenario_28",
          "scenario_29",
          "scenario_30",
          "scenario_31",
          "scenario_32",
          "scenario_33",
          "scenario_34",
          "scenario_35",
          "scenario_36",
          "scenario_53",
          "scenario_54",
          "scenario_55",
          "scenario_56",
          "scenario_57",
          "scenario_58",
          "scenario_59",
          "scenario_60",
          "scenario_61",
          "scenario_62",
          "scenario_63",
          "scenario_64",
          "scenario_65",
          "scenario_66",
          "scenario_67",
          "scenario_68"
         ],
         "y": [
          -0.6269,
          -1.637699999999999,
          -0.8232999999999999,
          -0.5773000000000001,
          -0.6864999999999999,
          -1.2749000000000001,
          -1.2170000000000003,
          -0.9030999999999999,
          -0.3973999999999997,
          -0.5594999999999999,
          -1.8110000000000002,
          -0.8522000000000001,
          -1.2550000000000001,
          -0.3921,
          -0.6231000000000002,
          -0.7084,
          -0.37680000000000025,
          -1.2178,
          -0.5196999999999998,
          -0.6925000000000001,
          -0.9662999999999999,
          -0.7647999999999999,
          -0.8088000000000002,
          -0.6345999999999998,
          -0.5674000000000006,
          -0.4049000000000002,
          -0.2776,
          -0.3266999999999998,
          -0.6515000000000004,
          -0.2734,
          -0.17569999999999986,
          -0.5804000000000001,
          -0.5396000000000002,
          -0.34139999999999976
         ]
        }
       ],
       "layout": {
        "bargap": 0.2,
        "height": 700,
        "hovermode": "x unified",
        "template": {
         "data": {
          "bar": [
           {
            "error_x": {
             "color": "#2a3f5f"
            },
            "error_y": {
             "color": "#2a3f5f"
            },
            "marker": {
             "line": {
              "color": "#E5ECF6",
              "width": 0.5
             },
             "pattern": {
              "fillmode": "overlay",
              "size": 10,
              "solidity": 0.2
             }
            },
            "type": "bar"
           }
          ],
          "barpolar": [
           {
            "marker": {
             "line": {
              "color": "#E5ECF6",
              "width": 0.5
             },
             "pattern": {
              "fillmode": "overlay",
              "size": 10,
              "solidity": 0.2
             }
            },
            "type": "barpolar"
           }
          ],
          "carpet": [
           {
            "aaxis": {
             "endlinecolor": "#2a3f5f",
             "gridcolor": "white",
             "linecolor": "white",
             "minorgridcolor": "white",
             "startlinecolor": "#2a3f5f"
            },
            "baxis": {
             "endlinecolor": "#2a3f5f",
             "gridcolor": "white",
             "linecolor": "white",
             "minorgridcolor": "white",
             "startlinecolor": "#2a3f5f"
            },
            "type": "carpet"
           }
          ],
          "choropleth": [
           {
            "colorbar": {
             "outlinewidth": 0,
             "ticks": ""
            },
            "type": "choropleth"
           }
          ],
          "contour": [
           {
            "colorbar": {
             "outlinewidth": 0,
             "ticks": ""
            },
            "colorscale": [
             [
              0,
              "#0d0887"
             ],
             [
              0.1111111111111111,
              "#46039f"
             ],
             [
              0.2222222222222222,
              "#7201a8"
             ],
             [
              0.3333333333333333,
              "#9c179e"
             ],
             [
              0.4444444444444444,
              "#bd3786"
             ],
             [
              0.5555555555555556,
              "#d8576b"
             ],
             [
              0.6666666666666666,
              "#ed7953"
             ],
             [
              0.7777777777777778,
              "#fb9f3a"
             ],
             [
              0.8888888888888888,
              "#fdca26"
             ],
             [
              1,
              "#f0f921"
             ]
            ],
            "type": "contour"
           }
          ],
          "contourcarpet": [
           {
            "colorbar": {
             "outlinewidth": 0,
             "ticks": ""
            },
            "type": "contourcarpet"
           }
          ],
          "heatmap": [
           {
            "colorbar": {
             "outlinewidth": 0,
             "ticks": ""
            },
            "colorscale": [
             [
              0,
              "#0d0887"
             ],
             [
              0.1111111111111111,
              "#46039f"
             ],
             [
              0.2222222222222222,
              "#7201a8"
             ],
             [
              0.3333333333333333,
              "#9c179e"
             ],
             [
              0.4444444444444444,
              "#bd3786"
             ],
             [
              0.5555555555555556,
              "#d8576b"
             ],
             [
              0.6666666666666666,
              "#ed7953"
             ],
             [
              0.7777777777777778,
              "#fb9f3a"
             ],
             [
              0.8888888888888888,
              "#fdca26"
             ],
             [
              1,
              "#f0f921"
             ]
            ],
            "type": "heatmap"
           }
          ],
          "heatmapgl": [
           {
            "colorbar": {
             "outlinewidth": 0,
             "ticks": ""
            },
            "colorscale": [
             [
              0,
              "#0d0887"
             ],
             [
              0.1111111111111111,
              "#46039f"
             ],
             [
              0.2222222222222222,
              "#7201a8"
             ],
             [
              0.3333333333333333,
              "#9c179e"
             ],
             [
              0.4444444444444444,
              "#bd3786"
             ],
             [
              0.5555555555555556,
              "#d8576b"
             ],
             [
              0.6666666666666666,
              "#ed7953"
             ],
             [
              0.7777777777777778,
              "#fb9f3a"
             ],
             [
              0.8888888888888888,
              "#fdca26"
             ],
             [
              1,
              "#f0f921"
             ]
            ],
            "type": "heatmapgl"
           }
          ],
          "histogram": [
           {
            "marker": {
             "pattern": {
              "fillmode": "overlay",
              "size": 10,
              "solidity": 0.2
             }
            },
            "type": "histogram"
           }
          ],
          "histogram2d": [
           {
            "colorbar": {
             "outlinewidth": 0,
             "ticks": ""
            },
            "colorscale": [
             [
              0,
              "#0d0887"
             ],
             [
              0.1111111111111111,
              "#46039f"
             ],
             [
              0.2222222222222222,
              "#7201a8"
             ],
             [
              0.3333333333333333,
              "#9c179e"
             ],
             [
              0.4444444444444444,
              "#bd3786"
             ],
             [
              0.5555555555555556,
              "#d8576b"
             ],
             [
              0.6666666666666666,
              "#ed7953"
             ],
             [
              0.7777777777777778,
              "#fb9f3a"
             ],
             [
              0.8888888888888888,
              "#fdca26"
             ],
             [
              1,
              "#f0f921"
             ]
            ],
            "type": "histogram2d"
           }
          ],
          "histogram2dcontour": [
           {
            "colorbar": {
             "outlinewidth": 0,
             "ticks": ""
            },
            "colorscale": [
             [
              0,
              "#0d0887"
             ],
             [
              0.1111111111111111,
              "#46039f"
             ],
             [
              0.2222222222222222,
              "#7201a8"
             ],
             [
              0.3333333333333333,
              "#9c179e"
             ],
             [
              0.4444444444444444,
              "#bd3786"
             ],
             [
              0.5555555555555556,
              "#d8576b"
             ],
             [
              0.6666666666666666,
              "#ed7953"
             ],
             [
              0.7777777777777778,
              "#fb9f3a"
             ],
             [
              0.8888888888888888,
              "#fdca26"
             ],
             [
              1,
              "#f0f921"
             ]
            ],
            "type": "histogram2dcontour"
           }
          ],
          "mesh3d": [
           {
            "colorbar": {
             "outlinewidth": 0,
             "ticks": ""
            },
            "type": "mesh3d"
           }
          ],
          "parcoords": [
           {
            "line": {
             "colorbar": {
              "outlinewidth": 0,
              "ticks": ""
             }
            },
            "type": "parcoords"
           }
          ],
          "pie": [
           {
            "automargin": true,
            "type": "pie"
           }
          ],
          "scatter": [
           {
            "fillpattern": {
             "fillmode": "overlay",
             "size": 10,
             "solidity": 0.2
            },
            "type": "scatter"
           }
          ],
          "scatter3d": [
           {
            "line": {
             "colorbar": {
              "outlinewidth": 0,
              "ticks": ""
             }
            },
            "marker": {
             "colorbar": {
              "outlinewidth": 0,
              "ticks": ""
             }
            },
            "type": "scatter3d"
           }
          ],
          "scattercarpet": [
           {
            "marker": {
             "colorbar": {
              "outlinewidth": 0,
              "ticks": ""
             }
            },
            "type": "scattercarpet"
           }
          ],
          "scattergeo": [
           {
            "marker": {
             "colorbar": {
              "outlinewidth": 0,
              "ticks": ""
             }
            },
            "type": "scattergeo"
           }
          ],
          "scattergl": [
           {
            "marker": {
             "colorbar": {
              "outlinewidth": 0,
              "ticks": ""
             }
            },
            "type": "scattergl"
           }
          ],
          "scattermapbox": [
           {
            "marker": {
             "colorbar": {
              "outlinewidth": 0,
              "ticks": ""
             }
            },
            "type": "scattermapbox"
           }
          ],
          "scatterpolar": [
           {
            "marker": {
             "colorbar": {
              "outlinewidth": 0,
              "ticks": ""
             }
            },
            "type": "scatterpolar"
           }
          ],
          "scatterpolargl": [
           {
            "marker": {
             "colorbar": {
              "outlinewidth": 0,
              "ticks": ""
             }
            },
            "type": "scatterpolargl"
           }
          ],
          "scatterternary": [
           {
            "marker": {
             "colorbar": {
              "outlinewidth": 0,
              "ticks": ""
             }
            },
            "type": "scatterternary"
           }
          ],
          "surface": [
           {
            "colorbar": {
             "outlinewidth": 0,
             "ticks": ""
            },
            "colorscale": [
             [
              0,
              "#0d0887"
             ],
             [
              0.1111111111111111,
              "#46039f"
             ],
             [
              0.2222222222222222,
              "#7201a8"
             ],
             [
              0.3333333333333333,
              "#9c179e"
             ],
             [
              0.4444444444444444,
              "#bd3786"
             ],
             [
              0.5555555555555556,
              "#d8576b"
             ],
             [
              0.6666666666666666,
              "#ed7953"
             ],
             [
              0.7777777777777778,
              "#fb9f3a"
             ],
             [
              0.8888888888888888,
              "#fdca26"
             ],
             [
              1,
              "#f0f921"
             ]
            ],
            "type": "surface"
           }
          ],
          "table": [
           {
            "cells": {
             "fill": {
              "color": "#EBF0F8"
             },
             "line": {
              "color": "white"
             }
            },
            "header": {
             "fill": {
              "color": "#C8D4E3"
             },
             "line": {
              "color": "white"
             }
            },
            "type": "table"
           }
          ]
         },
         "layout": {
          "annotationdefaults": {
           "arrowcolor": "#2a3f5f",
           "arrowhead": 0,
           "arrowwidth": 1
          },
          "autotypenumbers": "strict",
          "coloraxis": {
           "colorbar": {
            "outlinewidth": 0,
            "ticks": ""
           }
          },
          "colorscale": {
           "diverging": [
            [
             0,
             "#8e0152"
            ],
            [
             0.1,
             "#c51b7d"
            ],
            [
             0.2,
             "#de77ae"
            ],
            [
             0.3,
             "#f1b6da"
            ],
            [
             0.4,
             "#fde0ef"
            ],
            [
             0.5,
             "#f7f7f7"
            ],
            [
             0.6,
             "#e6f5d0"
            ],
            [
             0.7,
             "#b8e186"
            ],
            [
             0.8,
             "#7fbc41"
            ],
            [
             0.9,
             "#4d9221"
            ],
            [
             1,
             "#276419"
            ]
           ],
           "sequential": [
            [
             0,
             "#0d0887"
            ],
            [
             0.1111111111111111,
             "#46039f"
            ],
            [
             0.2222222222222222,
             "#7201a8"
            ],
            [
             0.3333333333333333,
             "#9c179e"
            ],
            [
             0.4444444444444444,
             "#bd3786"
            ],
            [
             0.5555555555555556,
             "#d8576b"
            ],
            [
             0.6666666666666666,
             "#ed7953"
            ],
            [
             0.7777777777777778,
             "#fb9f3a"
            ],
            [
             0.8888888888888888,
             "#fdca26"
            ],
            [
             1,
             "#f0f921"
            ]
           ],
           "sequentialminus": [
            [
             0,
             "#0d0887"
            ],
            [
             0.1111111111111111,
             "#46039f"
            ],
            [
             0.2222222222222222,
             "#7201a8"
            ],
            [
             0.3333333333333333,
             "#9c179e"
            ],
            [
             0.4444444444444444,
             "#bd3786"
            ],
            [
             0.5555555555555556,
             "#d8576b"
            ],
            [
             0.6666666666666666,
             "#ed7953"
            ],
            [
             0.7777777777777778,
             "#fb9f3a"
            ],
            [
             0.8888888888888888,
             "#fdca26"
            ],
            [
             1,
             "#f0f921"
            ]
           ]
          },
          "colorway": [
           "#636efa",
           "#EF553B",
           "#00cc96",
           "#ab63fa",
           "#FFA15A",
           "#19d3f3",
           "#FF6692",
           "#B6E880",
           "#FF97FF",
           "#FECB52"
          ],
          "font": {
           "color": "#2a3f5f"
          },
          "geo": {
           "bgcolor": "white",
           "lakecolor": "white",
           "landcolor": "#E5ECF6",
           "showlakes": true,
           "showland": true,
           "subunitcolor": "white"
          },
          "hoverlabel": {
           "align": "left"
          },
          "hovermode": "closest",
          "mapbox": {
           "style": "light"
          },
          "paper_bgcolor": "white",
          "plot_bgcolor": "#E5ECF6",
          "polar": {
           "angularaxis": {
            "gridcolor": "white",
            "linecolor": "white",
            "ticks": ""
           },
           "bgcolor": "#E5ECF6",
           "radialaxis": {
            "gridcolor": "white",
            "linecolor": "white",
            "ticks": ""
           }
          },
          "scene": {
           "xaxis": {
            "backgroundcolor": "#E5ECF6",
            "gridcolor": "white",
            "gridwidth": 2,
            "linecolor": "white",
            "showbackground": true,
            "ticks": "",
            "zerolinecolor": "white"
           },
           "yaxis": {
            "backgroundcolor": "#E5ECF6",
            "gridcolor": "white",
            "gridwidth": 2,
            "linecolor": "white",
            "showbackground": true,
            "ticks": "",
            "zerolinecolor": "white"
           },
           "zaxis": {
            "backgroundcolor": "#E5ECF6",
            "gridcolor": "white",
            "gridwidth": 2,
            "linecolor": "white",
            "showbackground": true,
            "ticks": "",
            "zerolinecolor": "white"
           }
          },
          "shapedefaults": {
           "line": {
            "color": "#2a3f5f"
           }
          },
          "ternary": {
           "aaxis": {
            "gridcolor": "white",
            "linecolor": "white",
            "ticks": ""
           },
           "baxis": {
            "gridcolor": "white",
            "linecolor": "white",
            "ticks": ""
           },
           "bgcolor": "#E5ECF6",
           "caxis": {
            "gridcolor": "white",
            "linecolor": "white",
            "ticks": ""
           }
          },
          "title": {
           "x": 0.05
          },
          "xaxis": {
           "automargin": true,
           "gridcolor": "white",
           "linecolor": "white",
           "ticks": "",
           "title": {
            "standoff": 15
           },
           "zerolinecolor": "white",
           "zerolinewidth": 2
          },
          "yaxis": {
           "automargin": true,
           "gridcolor": "white",
           "linecolor": "white",
           "ticks": "",
           "title": {
            "standoff": 15
           },
           "zerolinecolor": "white",
           "zerolinewidth": 2
          }
         }
        },
        "title": {
         "text": "TMT Total por Escenario (Basado en Tiempos del Archivo de Entrada)"
        },
        "xaxis": {
         "tickangle": -90,
         "title": {
          "text": "ID de Escenario"
         },
         "type": "category"
        },
        "yaxis": {
         "range": [
          -1.9921000000000004,
          0.05
         ],
         "title": {
          "text": "TMT Total (Suma de mt < 0) [s]"
         },
         "zeroline": true,
         "zerolinecolor": "black",
         "zerolinewidth": 2
        }
       }
      }
     },
     "metadata": {},
     "output_type": "display_data"
    },
    {
     "name": "stderr",
     "output_type": "stream",
     "text": [
      "2025-04-19 19:13:05,788 - INFO - --- Análisis de TMT para todos los escenarios (basado en tiempos de entrada) Finalizado ---\n"
     ]
    }
   ],
   "source": [
    "\n",
    "import json\n",
    "import os\n",
    "import math\n",
    "import pandas as pd\n",
    "import plotly.graph_objects as go\n",
    "from plotly.subplots import make_subplots\n",
    "import logging\n",
    "import numpy as np # Para isnan\n",
    "from typing import Dict, List, Any, Optional\n",
    "\n",
    "# Configuración básica de logging\n",
    "logging.basicConfig(level=logging.INFO, format='%(asctime)s - %(levelname)s - %(message)s')\n",
    "logger = logging.getLogger(__name__)\n",
    "\n",
    "# --- Constantes ---\n",
    "CTI = 0.2  # Intervalo de tiempo de coordinación típico (en segundos)\n",
    "\n",
    "# --- Rutas de los archivos ---\n",
    "# ENTRADA: Archivo con la lista de pares, incluyendo 'Time_out' en cada relé\n",
    "INPUT_FILE = \"/Users/gustavo/Documents/Projects/TESIS_UNAL/ADAPTIVE_ALGORITHM/data/processed/model/input_data.json\"\n",
    "# SALIDA (Opcional): Gráfico HTML\n",
    "# PLOT_OUTPUT_PATH = \"/Users/gustavo/Documents/Projects/TESIS_UNAL/ADAPTIVE_ALGORITHM/data/processed/model/tmt_analysis_all_scenarios_from_input_times.html\"\n",
    "\n",
    "logger.info(f\"Archivo de entrada: {INPUT_FILE}\")\n",
    "\n",
    "# %%\n",
    "# Celda 2: Funciones de Ayuda (Carga)\n",
    "\n",
    "def load_json_file(file_path: str) -> Optional[Any]:\n",
    "    \"\"\"Loads data from a JSON file.\"\"\"\n",
    "    try:\n",
    "        with open(file_path, 'r') as file: data = json.load(file)\n",
    "        logger.info(f\"Archivo cargado: {file_path}\"); return data\n",
    "    except FileNotFoundError: logger.error(f\"No encontrado: {file_path}\"); return None\n",
    "    except json.JSONDecodeError as e: logger.error(f\"JSON inválido: {file_path}: {e}\"); return None\n",
    "    except Exception as e: logger.error(f\"Error carga {file_path}: {e}\"); return None\n",
    "\n",
    "# %%\n",
    "# Celda 3: Carga y Agrupación de Datos por Escenario\n",
    "\n",
    "logger.info(\"Cargando y agrupando datos por escenario...\")\n",
    "relay_pairs_data = load_json_file(INPUT_FILE)\n",
    "\n",
    "if relay_pairs_data is None:\n",
    "    raise SystemExit(\"Error crítico al cargar archivo de entrada.\")\n",
    "if not isinstance(relay_pairs_data, list):\n",
    "     raise SystemExit(\"Error de formato en archivo de entrada (se espera lista).\")\n",
    "\n",
    "# Crear mapa de pares originales: scenario_id -> [list of pairs]\n",
    "original_pairs_map: Dict[str, List[Dict]] = {}\n",
    "total_original_pairs_read = 0\n",
    "skipped_pairs_structure = 0\n",
    "for pair in relay_pairs_data:\n",
    "    s_id = pair.get(\"scenario_id\")\n",
    "    # Validar estructura mínima y la presencia de Time_out antes de agrupar\n",
    "    main_info = pair.get('main_relay')\n",
    "    backup_info = pair.get('backup_relay')\n",
    "    if s_id and isinstance(main_info, dict) and isinstance(backup_info, dict) and \\\n",
    "       'Time_out' in main_info and 'Time_out' in backup_info:\n",
    "        if s_id not in original_pairs_map: original_pairs_map[s_id] = []\n",
    "        original_pairs_map[s_id].append(pair)\n",
    "        total_original_pairs_read += 1\n",
    "    else:\n",
    "        skipped_pairs_structure += 1\n",
    "        # logger.warning(f\"Par omitido por estructura/Time_out inválido: {pair.get('scenario_id', 'N/A')}\")\n",
    "\n",
    "logger.info(f\"Datos agrupados: {len(original_pairs_map)} escenarios encontrados.\")\n",
    "logger.info(f\"{total_original_pairs_read} pares válidos leídos y agrupados.\")\n",
    "if skipped_pairs_structure > 0:\n",
    "    logger.warning(f\"{skipped_pairs_structure} pares fueron omitidos durante la carga debido a estructura o Time_out faltante.\")\n",
    "\n",
    "\n",
    "# %%\n",
    "# Celda 4: Calcular Métricas de Coordinación para Todos los Escenarios (Usando Tiempos Existentes)\n",
    "\n",
    "logger.info(\"Calculando TMT y métricas para cada escenario usando los Time_out existentes...\")\n",
    "scenario_results: Dict[str, Dict[str, Any]] = {}\n",
    "\n",
    "if not original_pairs_map:\n",
    "     raise SystemExit(\"No hay datos de escenario para procesar.\")\n",
    "\n",
    "for scenario_id, pairs_for_scenario in original_pairs_map.items():\n",
    "    tmt_for_scenario = 0.0\n",
    "    miscoordination_count = 0\n",
    "    valid_pairs_evaluated = 0\n",
    "    max_neg_mt_scenario = 0.0\n",
    "    skipped_this_scenario = 0\n",
    "\n",
    "    for pair_entry in pairs_for_scenario:\n",
    "        main_relay_info = pair_entry.get('main_relay') # Ya validado que existe\n",
    "        backup_relay_info = pair_entry.get('backup_relay') # Ya validado que existe\n",
    "\n",
    "        # Obtener tiempos existentes\n",
    "        main_time = main_relay_info.get('Time_out')\n",
    "        backup_time = backup_relay_info.get('Time_out')\n",
    "\n",
    "        # Validar que los tiempos son números válidos\n",
    "        if not isinstance(main_time, (int, float)) or math.isnan(main_time) or \\\n",
    "           not isinstance(backup_time, (int, float)) or math.isnan(backup_time):\n",
    "            # logger.warning(f\"({scenario_id}) Tiempos inválidos en par {main_relay_info.get('relay')}/{backup_relay_info.get('relay')}. Omitido.\")\n",
    "            skipped_this_scenario += 1\n",
    "            continue\n",
    "\n",
    "        # --- Calcular delta_t y mt con tiempos existentes ---\n",
    "        delta_t = backup_time - main_time - CTI\n",
    "        mt = min(0, delta_t) # Penalización solo si delta_t es negativo\n",
    "\n",
    "        valid_pairs_evaluated += 1\n",
    "        if mt < -1e-6: # Usar tolerancia\n",
    "            miscoordination_count += 1\n",
    "            tmt_for_scenario += mt\n",
    "            max_neg_mt_scenario = min(max_neg_mt_scenario, mt)\n",
    "\n",
    "    # Almacenar resultados del escenario\n",
    "    if valid_pairs_evaluated > 0:\n",
    "        scenario_results[scenario_id] = {\n",
    "            \"TMT\": tmt_for_scenario,\n",
    "            \"MiscoordinatedCount\": miscoordination_count,\n",
    "            \"TotalPairsEvaluated\": valid_pairs_evaluated,\n",
    "            \"MaxNegativeMT\": max_neg_mt_scenario\n",
    "        }\n",
    "        # Log resumido por escenario\n",
    "        # logger.info(f\"Resultados {scenario_id}: TMT={tmt_for_scenario:.4f}, Descoordinados={miscoordination_count}/{valid_pairs_evaluated}\")\n",
    "        if skipped_this_scenario > 0:\n",
    "             logger.warning(f\"({scenario_id}) Se omitieron {skipped_this_scenario} pares adicionales durante el cálculo por tiempos inválidos.\")\n",
    "    elif pairs_for_scenario: # Si había pares pero ninguno fue válido\n",
    "         logger.warning(f\"({scenario_id}) No se evaluaron pares válidos (problemas con Time_out?).\")\n",
    "\n",
    "\n",
    "logger.info(f\"Cálculo de TMT completado para {len(scenario_results)} escenarios.\")\n",
    "\n",
    "# %%\n",
    "# Celda 5: Análisis - Mostrar los 54 Mejores Escenarios por TMT\n",
    "\n",
    "if not scenario_results:\n",
    "    logger.error(\"No hay resultados de escenario para analizar.\")\n",
    "else:\n",
    "    # Convertir a DataFrame\n",
    "    df_results = pd.DataFrame.from_dict(scenario_results, orient='index')\n",
    "    df_results.index.name = 'scenario_id'\n",
    "    df_results = df_results.reset_index()\n",
    "\n",
    "    # Ordenar por TMT (descendente: mejor primero)\n",
    "    df_results_sorted_by_tmt = df_results.sort_values(by='TMT', ascending=False)\n",
    "\n",
    "    # Seleccionar los 54 mejores diferentes de cero\n",
    "    top_54_scenarios = df_results_sorted_by_tmt[df_results_sorted_by_tmt['TMT'] != 0].head(54)\n",
    "    # top_54_scenarios = df_results_sorted_by_tmt.head(54)\n",
    "\n",
    "    print(\"\\n--- Mejores 54 Escenarios por TMT (Basado en Tiempos del Archivo de Entrada) ---\")\n",
    "    pd.set_option('display.max_rows', 60) # Mostrar suficientes filas\n",
    "    # Mostrar columnas relevantes\n",
    "    print(top_54_scenarios[['scenario_id', 'TMT', 'MiscoordinatedCount', 'TotalPairsEvaluated', 'MaxNegativeMT']].round(5))\n",
    "    pd.reset_option('display.max_rows')\n",
    "\n",
    "    # Guardar en CSV (Opcional)\n",
    "    # try:\n",
    "    #     top_54_scenarios.to_csv(\"top_54_scenarios_by_tmt_input_times.csv\", index=False)\n",
    "    #     logger.info(\"Datos de los 54 mejores escenarios guardados en top_54_scenarios_by_tmt_input_times.csv\")\n",
    "    # except Exception as e:\n",
    "    #     logger.error(f\"No se pudo guardar el CSV: {e}\")\n",
    "\n",
    "\n",
    "# %%\n",
    "# Celda 6: Visualización - Gráfico de Barras del TMT para Todos los Escenarios\n",
    "\n",
    "if not scenario_results:\n",
    "    logger.error(\"No hay resultados de TMT para graficar.\")\n",
    "elif 'df_results' not in locals():\n",
    "     logger.error(\"DataFrame df_results no fue creado. No se puede graficar.\")\n",
    "else:\n",
    "    logger.info(\"Generando gráfico de barras de TMT para todos los escenarios...\")\n",
    "\n",
    "    # Ordenar por ID de escenario para el gráfico\n",
    "    def get_scenario_num(s_id):\n",
    "        try: return int(s_id.split('_')[-1])\n",
    "        except: return float('inf') # Poner nombres no estándar al final\n",
    "\n",
    "    df_results_plot_sorted = df_results.copy()\n",
    "    df_results_plot_sorted['scenario_num'] = df_results_plot_sorted['scenario_id'].apply(get_scenario_num)\n",
    "    df_results_plot_sorted = df_results_plot_sorted.sort_values(by='scenario_num')\n",
    "\n",
    "    # Extraer datos ordenados\n",
    "    scenario_labels_plot = df_results_plot_sorted['scenario_id'].tolist()\n",
    "    tmt_values_plot = df_results_plot_sorted['TMT'].tolist()\n",
    "    miscoord_counts_plot = df_results_plot_sorted['MiscoordinatedCount'].tolist()\n",
    "    total_pairs_plot = df_results_plot_sorted['TotalPairsEvaluated'].tolist()\n",
    "    max_neg_mt_plot = df_results_plot_sorted['MaxNegativeMT'].tolist()\n",
    "\n",
    "    # Textos de hover\n",
    "    hover_texts_plot = [\n",
    "        f\"<b>{s_id}</b><br>\" +\n",
    "        f\"TMT: {tmt:.4f}<br>\" +\n",
    "        f\"Descoordinados: {mc}/{tp}<br>\" +\n",
    "        f\"Peor MT Individual: {max_neg_mt:.4f}\"\n",
    "        for s_id, tmt, mc, tp, max_neg_mt in zip(scenario_labels_plot, tmt_values_plot, miscoord_counts_plot, total_pairs_plot, max_neg_mt_plot)\n",
    "    ]\n",
    "\n",
    "    # Colores (ajustar umbrales si es necesario)\n",
    "    colors = ['#2ca02c' if tmt >= -0.001 else '#ff7f0e' if tmt >= -0.05 else '#d62728' # Verde, Naranja, Rojo\n",
    "              for tmt in tmt_values_plot]\n",
    "\n",
    "    # Crear figura\n",
    "    fig_tmt_all = go.Figure(data=[\n",
    "        go.Bar(\n",
    "            x=scenario_labels_plot,\n",
    "            y=tmt_values_plot,\n",
    "            text=[f\"{mc}/{tp}\" if tp > 0 else \"N/A\" for mc, tp in zip(miscoord_counts_plot, total_pairs_plot)], # Mostrar Descoord/Total\n",
    "            textposition='outside',\n",
    "            textfont_size=8,\n",
    "            hovertext=hover_texts_plot,\n",
    "            hoverinfo='text',\n",
    "            marker_color=colors\n",
    "        )\n",
    "    ])\n",
    "\n",
    "    fig_tmt_all.update_layout(\n",
    "        title=\"TMT Total por Escenario (Basado en Tiempos del Archivo de Entrada)\",\n",
    "        xaxis_title=\"ID de Escenario\",\n",
    "        yaxis_title=\"TMT Total (Suma de mt < 0) [s]\",\n",
    "        yaxis=dict(range=[min(tmt_values_plot + [-0.1]) * 1.1, max(tmt_values_plot + [0.05])]), # Ajustar rango eje Y\n",
    "        yaxis_zeroline=True, yaxis_zerolinewidth=2, yaxis_zerolinecolor='black',\n",
    "        xaxis={'type': 'category', 'tickangle': -90}, # Rotar etiquetas\n",
    "        height=700, # Ajustar altura si hay muchos escenarios\n",
    "        bargap=0.2,\n",
    "        hovermode='x unified'\n",
    "    )\n",
    "\n",
    "    # Mostrar y guardar\n",
    "    fig_tmt_all.show()\n",
    "    # try:\n",
    "    #     output_dir = os.path.dirname(PLOT_OUTPUT_PATH)\n",
    "    #     if output_dir: os.makedirs(output_dir, exist_ok=True)\n",
    "    #     fig_tmt_all.write_html(PLOT_OUTPUT_PATH)\n",
    "    #     logger.info(f\"Gráfico guardado en: {PLOT_OUTPUT_PATH}\")\n",
    "    # except Exception as e:\n",
    "    #     logger.error(f\"No se pudo guardar el gráfico en {PLOT_OUTPUT_PATH}: {e}\")\n",
    "\n",
    "\n",
    "logger.info(\"--- Análisis de TMT para todos los escenarios (basado en tiempos de entrada) Finalizado ---\")"
   ]
  }
 ],
 "metadata": {
  "kernelspec": {
   "display_name": "Python 3",
   "language": "python",
   "name": "python3"
  },
  "language_info": {
   "codemirror_mode": {
    "name": "ipython",
    "version": 3
   },
   "file_extension": ".py",
   "mimetype": "text/x-python",
   "name": "python",
   "nbconvert_exporter": "python",
   "pygments_lexer": "ipython3",
   "version": "3.11.11"
  }
 },
 "nbformat": 4,
 "nbformat_minor": 2
}
