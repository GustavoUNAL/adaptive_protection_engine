{
 "cells": [
  {
   "cell_type": "markdown",
   "metadata": {},
   "source": [
    "# Analisys"
   ]
  },
  {
   "cell_type": "code",
   "execution_count": 4,
   "metadata": {},
   "outputs": [
    {
     "name": "stderr",
     "output_type": "stream",
     "text": [
      "2025-04-19 23:42:55,419 - INFO - Archivo de entrada: /Users/gustavo/Documents/Projects/TESIS_UNAL/ADAPTIVE_ALGORITHM/data/processed/independent_relay_pairs_paper.json\n",
      "2025-04-19 23:42:55,423 - INFO - Cargando y agrupando datos por escenario...\n",
      "2025-04-19 23:42:55,478 - INFO - Archivo cargado: /Users/gustavo/Documents/Projects/TESIS_UNAL/ADAPTIVE_ALGORITHM/data/processed/independent_relay_pairs_paper.json\n",
      "2025-04-19 23:42:55,526 - INFO - Datos agrupados: 68 escenarios encontrados.\n",
      "2025-04-19 23:42:55,527 - INFO - 6800 pares válidos leídos y agrupados.\n",
      "2025-04-19 23:42:55,527 - INFO - Calculando TMT y métricas para cada escenario usando los Time_out existentes...\n",
      "2025-04-19 23:42:55,539 - INFO - Cálculo de TMT completado para 68 escenarios.\n",
      "2025-04-19 23:42:55,542 - INFO - Valores de TMT por escenario:\n",
      "2025-04-19 23:42:55,651 - INFO - Generando gráfico de barras de TMT para todos los escenarios...\n"
     ]
    },
    {
     "name": "stdout",
     "output_type": "stream",
     "text": [
      "Escenario scenario_1: TMT = -20.0000 s\n",
      "Escenario scenario_2: TMT = -20.0000 s\n",
      "Escenario scenario_3: TMT = -20.0000 s\n",
      "Escenario scenario_4: TMT = -20.0000 s\n",
      "Escenario scenario_5: TMT = -20.0000 s\n",
      "Escenario scenario_6: TMT = -20.0000 s\n",
      "Escenario scenario_7: TMT = -20.0000 s\n",
      "Escenario scenario_8: TMT = -20.0000 s\n",
      "Escenario scenario_9: TMT = -20.0000 s\n",
      "Escenario scenario_10: TMT = -20.0000 s\n",
      "Escenario scenario_11: TMT = -20.0000 s\n",
      "Escenario scenario_12: TMT = -20.0000 s\n",
      "Escenario scenario_13: TMT = -20.0000 s\n",
      "Escenario scenario_14: TMT = -20.0000 s\n",
      "Escenario scenario_15: TMT = -20.0000 s\n",
      "Escenario scenario_16: TMT = -20.0000 s\n",
      "Escenario scenario_17: TMT = -20.0000 s\n",
      "Escenario scenario_18: TMT = -20.0000 s\n",
      "Escenario scenario_19: TMT = -20.0000 s\n",
      "Escenario scenario_20: TMT = -20.0000 s\n",
      "Escenario scenario_21: TMT = -20.0000 s\n",
      "Escenario scenario_22: TMT = -20.0000 s\n",
      "Escenario scenario_23: TMT = -20.0000 s\n",
      "Escenario scenario_24: TMT = -20.0000 s\n",
      "Escenario scenario_25: TMT = -20.0000 s\n",
      "Escenario scenario_26: TMT = -20.0000 s\n",
      "Escenario scenario_27: TMT = -20.0000 s\n",
      "Escenario scenario_28: TMT = -20.0000 s\n",
      "Escenario scenario_29: TMT = -20.0000 s\n",
      "Escenario scenario_30: TMT = -20.0000 s\n",
      "Escenario scenario_31: TMT = -20.0000 s\n",
      "Escenario scenario_32: TMT = -20.0000 s\n",
      "Escenario scenario_33: TMT = -20.0000 s\n",
      "Escenario scenario_34: TMT = -20.0000 s\n",
      "Escenario scenario_35: TMT = -20.0000 s\n",
      "Escenario scenario_36: TMT = -20.0000 s\n",
      "Escenario scenario_37: TMT = -20.0000 s\n",
      "Escenario scenario_38: TMT = -20.0000 s\n",
      "Escenario scenario_39: TMT = -20.0000 s\n",
      "Escenario scenario_40: TMT = -20.0000 s\n",
      "Escenario scenario_41: TMT = -20.0000 s\n",
      "Escenario scenario_42: TMT = -20.0000 s\n",
      "Escenario scenario_43: TMT = -20.0000 s\n",
      "Escenario scenario_44: TMT = -20.0000 s\n",
      "Escenario scenario_45: TMT = -20.0000 s\n",
      "Escenario scenario_46: TMT = -20.0000 s\n",
      "Escenario scenario_47: TMT = -20.0000 s\n",
      "Escenario scenario_48: TMT = -20.0000 s\n",
      "Escenario scenario_49: TMT = -20.0000 s\n",
      "Escenario scenario_50: TMT = -20.0000 s\n",
      "Escenario scenario_51: TMT = -20.0000 s\n",
      "Escenario scenario_52: TMT = -20.0000 s\n",
      "Escenario scenario_53: TMT = -20.0000 s\n",
      "Escenario scenario_54: TMT = -20.0000 s\n",
      "Escenario scenario_55: TMT = -20.0000 s\n",
      "Escenario scenario_56: TMT = -20.0000 s\n",
      "Escenario scenario_57: TMT = -20.0000 s\n",
      "Escenario scenario_58: TMT = -20.0000 s\n",
      "Escenario scenario_59: TMT = -20.0000 s\n",
      "Escenario scenario_60: TMT = -20.0000 s\n",
      "Escenario scenario_61: TMT = -20.0000 s\n",
      "Escenario scenario_62: TMT = -20.0000 s\n",
      "Escenario scenario_63: TMT = -20.0000 s\n",
      "Escenario scenario_64: TMT = -20.0000 s\n",
      "Escenario scenario_65: TMT = -20.0000 s\n",
      "Escenario scenario_66: TMT = -20.0000 s\n",
      "Escenario scenario_67: TMT = -20.0000 s\n",
      "Escenario scenario_68: TMT = -20.0000 s\n",
      "\n",
      "--- Mejores 54 Escenarios por TMT (Basado en Tiempos del Archivo de Entrada) ---\n",
      "    scenario_id   TMT  MiscoordinatedCount  TotalPairsEvaluated  MaxNegativeMT\n",
      "0    scenario_1 -20.0                  100                  100           -0.2\n",
      "43  scenario_44 -20.0                  100                  100           -0.2\n",
      "49  scenario_50 -20.0                  100                  100           -0.2\n",
      "48  scenario_49 -20.0                  100                  100           -0.2\n",
      "47  scenario_48 -20.0                  100                  100           -0.2\n",
      "46  scenario_47 -20.0                  100                  100           -0.2\n",
      "45  scenario_46 -20.0                  100                  100           -0.2\n",
      "44  scenario_45 -20.0                  100                  100           -0.2\n",
      "42  scenario_43 -20.0                  100                  100           -0.2\n",
      "1    scenario_2 -20.0                  100                  100           -0.2\n",
      "41  scenario_42 -20.0                  100                  100           -0.2\n",
      "40  scenario_41 -20.0                  100                  100           -0.2\n",
      "39  scenario_40 -20.0                  100                  100           -0.2\n",
      "38  scenario_39 -20.0                  100                  100           -0.2\n",
      "37  scenario_38 -20.0                  100                  100           -0.2\n",
      "36  scenario_37 -20.0                  100                  100           -0.2\n",
      "50  scenario_51 -20.0                  100                  100           -0.2\n",
      "51  scenario_52 -20.0                  100                  100           -0.2\n",
      "52  scenario_53 -20.0                  100                  100           -0.2\n",
      "53  scenario_54 -20.0                  100                  100           -0.2\n",
      "54  scenario_55 -20.0                  100                  100           -0.2\n",
      "55  scenario_56 -20.0                  100                  100           -0.2\n",
      "56  scenario_57 -20.0                  100                  100           -0.2\n",
      "57  scenario_58 -20.0                  100                  100           -0.2\n",
      "58  scenario_59 -20.0                  100                  100           -0.2\n",
      "59  scenario_60 -20.0                  100                  100           -0.2\n",
      "60  scenario_61 -20.0                  100                  100           -0.2\n",
      "61  scenario_62 -20.0                  100                  100           -0.2\n",
      "62  scenario_63 -20.0                  100                  100           -0.2\n",
      "63  scenario_64 -20.0                  100                  100           -0.2\n",
      "64  scenario_65 -20.0                  100                  100           -0.2\n",
      "65  scenario_66 -20.0                  100                  100           -0.2\n",
      "66  scenario_67 -20.0                  100                  100           -0.2\n",
      "35  scenario_36 -20.0                  100                  100           -0.2\n",
      "34  scenario_35 -20.0                  100                  100           -0.2\n",
      "33  scenario_34 -20.0                  100                  100           -0.2\n",
      "16  scenario_17 -20.0                  100                  100           -0.2\n",
      "2    scenario_3 -20.0                  100                  100           -0.2\n",
      "3    scenario_4 -20.0                  100                  100           -0.2\n",
      "4    scenario_5 -20.0                  100                  100           -0.2\n",
      "5    scenario_6 -20.0                  100                  100           -0.2\n",
      "6    scenario_7 -20.0                  100                  100           -0.2\n",
      "7    scenario_8 -20.0                  100                  100           -0.2\n",
      "8    scenario_9 -20.0                  100                  100           -0.2\n",
      "9   scenario_10 -20.0                  100                  100           -0.2\n",
      "10  scenario_11 -20.0                  100                  100           -0.2\n",
      "11  scenario_12 -20.0                  100                  100           -0.2\n",
      "12  scenario_13 -20.0                  100                  100           -0.2\n",
      "13  scenario_14 -20.0                  100                  100           -0.2\n",
      "14  scenario_15 -20.0                  100                  100           -0.2\n",
      "15  scenario_16 -20.0                  100                  100           -0.2\n",
      "17  scenario_18 -20.0                  100                  100           -0.2\n",
      "32  scenario_33 -20.0                  100                  100           -0.2\n",
      "18  scenario_19 -20.0                  100                  100           -0.2\n"
     ]
    },
    {
     "data": {
      "application/vnd.plotly.v1+json": {
       "config": {
        "plotlyServerURL": "https://plot.ly"
       },
       "data": [
        {
         "hoverinfo": "text",
         "hovertext": [
          "<b>scenario_1</b><br>TMT: -20.0000<br>Descoordinados: 100/100<br>Peor MT: -0.2000",
          "<b>scenario_2</b><br>TMT: -20.0000<br>Descoordinados: 100/100<br>Peor MT: -0.2000",
          "<b>scenario_3</b><br>TMT: -20.0000<br>Descoordinados: 100/100<br>Peor MT: -0.2000",
          "<b>scenario_4</b><br>TMT: -20.0000<br>Descoordinados: 100/100<br>Peor MT: -0.2000",
          "<b>scenario_5</b><br>TMT: -20.0000<br>Descoordinados: 100/100<br>Peor MT: -0.2000",
          "<b>scenario_6</b><br>TMT: -20.0000<br>Descoordinados: 100/100<br>Peor MT: -0.2000",
          "<b>scenario_7</b><br>TMT: -20.0000<br>Descoordinados: 100/100<br>Peor MT: -0.2000",
          "<b>scenario_8</b><br>TMT: -20.0000<br>Descoordinados: 100/100<br>Peor MT: -0.2000",
          "<b>scenario_9</b><br>TMT: -20.0000<br>Descoordinados: 100/100<br>Peor MT: -0.2000",
          "<b>scenario_10</b><br>TMT: -20.0000<br>Descoordinados: 100/100<br>Peor MT: -0.2000",
          "<b>scenario_11</b><br>TMT: -20.0000<br>Descoordinados: 100/100<br>Peor MT: -0.2000",
          "<b>scenario_12</b><br>TMT: -20.0000<br>Descoordinados: 100/100<br>Peor MT: -0.2000",
          "<b>scenario_13</b><br>TMT: -20.0000<br>Descoordinados: 100/100<br>Peor MT: -0.2000",
          "<b>scenario_14</b><br>TMT: -20.0000<br>Descoordinados: 100/100<br>Peor MT: -0.2000",
          "<b>scenario_15</b><br>TMT: -20.0000<br>Descoordinados: 100/100<br>Peor MT: -0.2000",
          "<b>scenario_16</b><br>TMT: -20.0000<br>Descoordinados: 100/100<br>Peor MT: -0.2000",
          "<b>scenario_17</b><br>TMT: -20.0000<br>Descoordinados: 100/100<br>Peor MT: -0.2000",
          "<b>scenario_18</b><br>TMT: -20.0000<br>Descoordinados: 100/100<br>Peor MT: -0.2000",
          "<b>scenario_19</b><br>TMT: -20.0000<br>Descoordinados: 100/100<br>Peor MT: -0.2000",
          "<b>scenario_20</b><br>TMT: -20.0000<br>Descoordinados: 100/100<br>Peor MT: -0.2000",
          "<b>scenario_21</b><br>TMT: -20.0000<br>Descoordinados: 100/100<br>Peor MT: -0.2000",
          "<b>scenario_22</b><br>TMT: -20.0000<br>Descoordinados: 100/100<br>Peor MT: -0.2000",
          "<b>scenario_23</b><br>TMT: -20.0000<br>Descoordinados: 100/100<br>Peor MT: -0.2000",
          "<b>scenario_24</b><br>TMT: -20.0000<br>Descoordinados: 100/100<br>Peor MT: -0.2000",
          "<b>scenario_25</b><br>TMT: -20.0000<br>Descoordinados: 100/100<br>Peor MT: -0.2000",
          "<b>scenario_26</b><br>TMT: -20.0000<br>Descoordinados: 100/100<br>Peor MT: -0.2000",
          "<b>scenario_27</b><br>TMT: -20.0000<br>Descoordinados: 100/100<br>Peor MT: -0.2000",
          "<b>scenario_28</b><br>TMT: -20.0000<br>Descoordinados: 100/100<br>Peor MT: -0.2000",
          "<b>scenario_29</b><br>TMT: -20.0000<br>Descoordinados: 100/100<br>Peor MT: -0.2000",
          "<b>scenario_30</b><br>TMT: -20.0000<br>Descoordinados: 100/100<br>Peor MT: -0.2000",
          "<b>scenario_31</b><br>TMT: -20.0000<br>Descoordinados: 100/100<br>Peor MT: -0.2000",
          "<b>scenario_32</b><br>TMT: -20.0000<br>Descoordinados: 100/100<br>Peor MT: -0.2000",
          "<b>scenario_33</b><br>TMT: -20.0000<br>Descoordinados: 100/100<br>Peor MT: -0.2000",
          "<b>scenario_34</b><br>TMT: -20.0000<br>Descoordinados: 100/100<br>Peor MT: -0.2000",
          "<b>scenario_35</b><br>TMT: -20.0000<br>Descoordinados: 100/100<br>Peor MT: -0.2000",
          "<b>scenario_36</b><br>TMT: -20.0000<br>Descoordinados: 100/100<br>Peor MT: -0.2000",
          "<b>scenario_37</b><br>TMT: -20.0000<br>Descoordinados: 100/100<br>Peor MT: -0.2000",
          "<b>scenario_38</b><br>TMT: -20.0000<br>Descoordinados: 100/100<br>Peor MT: -0.2000",
          "<b>scenario_39</b><br>TMT: -20.0000<br>Descoordinados: 100/100<br>Peor MT: -0.2000",
          "<b>scenario_40</b><br>TMT: -20.0000<br>Descoordinados: 100/100<br>Peor MT: -0.2000",
          "<b>scenario_41</b><br>TMT: -20.0000<br>Descoordinados: 100/100<br>Peor MT: -0.2000",
          "<b>scenario_42</b><br>TMT: -20.0000<br>Descoordinados: 100/100<br>Peor MT: -0.2000",
          "<b>scenario_43</b><br>TMT: -20.0000<br>Descoordinados: 100/100<br>Peor MT: -0.2000",
          "<b>scenario_44</b><br>TMT: -20.0000<br>Descoordinados: 100/100<br>Peor MT: -0.2000",
          "<b>scenario_45</b><br>TMT: -20.0000<br>Descoordinados: 100/100<br>Peor MT: -0.2000",
          "<b>scenario_46</b><br>TMT: -20.0000<br>Descoordinados: 100/100<br>Peor MT: -0.2000",
          "<b>scenario_47</b><br>TMT: -20.0000<br>Descoordinados: 100/100<br>Peor MT: -0.2000",
          "<b>scenario_48</b><br>TMT: -20.0000<br>Descoordinados: 100/100<br>Peor MT: -0.2000",
          "<b>scenario_49</b><br>TMT: -20.0000<br>Descoordinados: 100/100<br>Peor MT: -0.2000",
          "<b>scenario_50</b><br>TMT: -20.0000<br>Descoordinados: 100/100<br>Peor MT: -0.2000",
          "<b>scenario_51</b><br>TMT: -20.0000<br>Descoordinados: 100/100<br>Peor MT: -0.2000",
          "<b>scenario_52</b><br>TMT: -20.0000<br>Descoordinados: 100/100<br>Peor MT: -0.2000",
          "<b>scenario_53</b><br>TMT: -20.0000<br>Descoordinados: 100/100<br>Peor MT: -0.2000",
          "<b>scenario_54</b><br>TMT: -20.0000<br>Descoordinados: 100/100<br>Peor MT: -0.2000",
          "<b>scenario_55</b><br>TMT: -20.0000<br>Descoordinados: 100/100<br>Peor MT: -0.2000",
          "<b>scenario_56</b><br>TMT: -20.0000<br>Descoordinados: 100/100<br>Peor MT: -0.2000",
          "<b>scenario_57</b><br>TMT: -20.0000<br>Descoordinados: 100/100<br>Peor MT: -0.2000",
          "<b>scenario_58</b><br>TMT: -20.0000<br>Descoordinados: 100/100<br>Peor MT: -0.2000",
          "<b>scenario_59</b><br>TMT: -20.0000<br>Descoordinados: 100/100<br>Peor MT: -0.2000",
          "<b>scenario_60</b><br>TMT: -20.0000<br>Descoordinados: 100/100<br>Peor MT: -0.2000",
          "<b>scenario_61</b><br>TMT: -20.0000<br>Descoordinados: 100/100<br>Peor MT: -0.2000",
          "<b>scenario_62</b><br>TMT: -20.0000<br>Descoordinados: 100/100<br>Peor MT: -0.2000",
          "<b>scenario_63</b><br>TMT: -20.0000<br>Descoordinados: 100/100<br>Peor MT: -0.2000",
          "<b>scenario_64</b><br>TMT: -20.0000<br>Descoordinados: 100/100<br>Peor MT: -0.2000",
          "<b>scenario_65</b><br>TMT: -20.0000<br>Descoordinados: 100/100<br>Peor MT: -0.2000",
          "<b>scenario_66</b><br>TMT: -20.0000<br>Descoordinados: 100/100<br>Peor MT: -0.2000",
          "<b>scenario_67</b><br>TMT: -20.0000<br>Descoordinados: 100/100<br>Peor MT: -0.2000",
          "<b>scenario_68</b><br>TMT: -20.0000<br>Descoordinados: 100/100<br>Peor MT: -0.2000"
         ],
         "marker": {
          "color": [
           "#d62728",
           "#d62728",
           "#d62728",
           "#d62728",
           "#d62728",
           "#d62728",
           "#d62728",
           "#d62728",
           "#d62728",
           "#d62728",
           "#d62728",
           "#d62728",
           "#d62728",
           "#d62728",
           "#d62728",
           "#d62728",
           "#d62728",
           "#d62728",
           "#d62728",
           "#d62728",
           "#d62728",
           "#d62728",
           "#d62728",
           "#d62728",
           "#d62728",
           "#d62728",
           "#d62728",
           "#d62728",
           "#d62728",
           "#d62728",
           "#d62728",
           "#d62728",
           "#d62728",
           "#d62728",
           "#d62728",
           "#d62728",
           "#d62728",
           "#d62728",
           "#d62728",
           "#d62728",
           "#d62728",
           "#d62728",
           "#d62728",
           "#d62728",
           "#d62728",
           "#d62728",
           "#d62728",
           "#d62728",
           "#d62728",
           "#d62728",
           "#d62728",
           "#d62728",
           "#d62728",
           "#d62728",
           "#d62728",
           "#d62728",
           "#d62728",
           "#d62728",
           "#d62728",
           "#d62728",
           "#d62728",
           "#d62728",
           "#d62728",
           "#d62728",
           "#d62728",
           "#d62728",
           "#d62728",
           "#d62728"
          ]
         },
         "text": [
          "100/100",
          "100/100",
          "100/100",
          "100/100",
          "100/100",
          "100/100",
          "100/100",
          "100/100",
          "100/100",
          "100/100",
          "100/100",
          "100/100",
          "100/100",
          "100/100",
          "100/100",
          "100/100",
          "100/100",
          "100/100",
          "100/100",
          "100/100",
          "100/100",
          "100/100",
          "100/100",
          "100/100",
          "100/100",
          "100/100",
          "100/100",
          "100/100",
          "100/100",
          "100/100",
          "100/100",
          "100/100",
          "100/100",
          "100/100",
          "100/100",
          "100/100",
          "100/100",
          "100/100",
          "100/100",
          "100/100",
          "100/100",
          "100/100",
          "100/100",
          "100/100",
          "100/100",
          "100/100",
          "100/100",
          "100/100",
          "100/100",
          "100/100",
          "100/100",
          "100/100",
          "100/100",
          "100/100",
          "100/100",
          "100/100",
          "100/100",
          "100/100",
          "100/100",
          "100/100",
          "100/100",
          "100/100",
          "100/100",
          "100/100",
          "100/100",
          "100/100",
          "100/100",
          "100/100"
         ],
         "textfont": {
          "size": 8
         },
         "textposition": "outside",
         "type": "bar",
         "x": [
          "scenario_1",
          "scenario_2",
          "scenario_3",
          "scenario_4",
          "scenario_5",
          "scenario_6",
          "scenario_7",
          "scenario_8",
          "scenario_9",
          "scenario_10",
          "scenario_11",
          "scenario_12",
          "scenario_13",
          "scenario_14",
          "scenario_15",
          "scenario_16",
          "scenario_17",
          "scenario_18",
          "scenario_19",
          "scenario_20",
          "scenario_21",
          "scenario_22",
          "scenario_23",
          "scenario_24",
          "scenario_25",
          "scenario_26",
          "scenario_27",
          "scenario_28",
          "scenario_29",
          "scenario_30",
          "scenario_31",
          "scenario_32",
          "scenario_33",
          "scenario_34",
          "scenario_35",
          "scenario_36",
          "scenario_37",
          "scenario_38",
          "scenario_39",
          "scenario_40",
          "scenario_41",
          "scenario_42",
          "scenario_43",
          "scenario_44",
          "scenario_45",
          "scenario_46",
          "scenario_47",
          "scenario_48",
          "scenario_49",
          "scenario_50",
          "scenario_51",
          "scenario_52",
          "scenario_53",
          "scenario_54",
          "scenario_55",
          "scenario_56",
          "scenario_57",
          "scenario_58",
          "scenario_59",
          "scenario_60",
          "scenario_61",
          "scenario_62",
          "scenario_63",
          "scenario_64",
          "scenario_65",
          "scenario_66",
          "scenario_67",
          "scenario_68"
         ],
         "y": [
          -19.99999999999996,
          -19.99999999999996,
          -19.99999999999996,
          -19.99999999999996,
          -19.99999999999996,
          -19.99999999999996,
          -19.99999999999996,
          -19.99999999999996,
          -19.99999999999996,
          -19.99999999999996,
          -19.99999999999996,
          -19.99999999999996,
          -19.99999999999996,
          -19.99999999999996,
          -19.99999999999996,
          -19.99999999999996,
          -19.99999999999996,
          -19.99999999999996,
          -19.99999999999996,
          -19.99999999999996,
          -19.99999999999996,
          -19.99999999999996,
          -19.99999999999996,
          -19.99999999999996,
          -19.99999999999996,
          -19.99999999999996,
          -19.99999999999996,
          -19.99999999999996,
          -19.99999999999996,
          -19.99999999999996,
          -19.99999999999996,
          -19.99999999999996,
          -19.99999999999996,
          -19.99999999999996,
          -19.99999999999996,
          -19.99999999999996,
          -19.99999999999996,
          -19.99999999999996,
          -19.99999999999996,
          -19.99999999999996,
          -19.99999999999996,
          -19.99999999999996,
          -19.99999999999996,
          -19.99999999999996,
          -19.99999999999996,
          -19.99999999999996,
          -19.99999999999996,
          -19.99999999999996,
          -19.99999999999996,
          -19.99999999999996,
          -19.99999999999996,
          -19.99999999999996,
          -19.99999999999996,
          -19.99999999999996,
          -19.99999999999996,
          -19.99999999999996,
          -19.99999999999996,
          -19.99999999999996,
          -19.99999999999996,
          -19.99999999999996,
          -19.99999999999996,
          -19.99999999999996,
          -19.99999999999996,
          -19.99999999999996,
          -19.99999999999996,
          -19.99999999999996,
          -19.99999999999996,
          -19.99999999999996
         ]
        }
       ],
       "layout": {
        "bargap": 0.2,
        "height": 700,
        "hovermode": "x unified",
        "template": {
         "data": {
          "bar": [
           {
            "error_x": {
             "color": "#2a3f5f"
            },
            "error_y": {
             "color": "#2a3f5f"
            },
            "marker": {
             "line": {
              "color": "#E5ECF6",
              "width": 0.5
             },
             "pattern": {
              "fillmode": "overlay",
              "size": 10,
              "solidity": 0.2
             }
            },
            "type": "bar"
           }
          ],
          "barpolar": [
           {
            "marker": {
             "line": {
              "color": "#E5ECF6",
              "width": 0.5
             },
             "pattern": {
              "fillmode": "overlay",
              "size": 10,
              "solidity": 0.2
             }
            },
            "type": "barpolar"
           }
          ],
          "carpet": [
           {
            "aaxis": {
             "endlinecolor": "#2a3f5f",
             "gridcolor": "white",
             "linecolor": "white",
             "minorgridcolor": "white",
             "startlinecolor": "#2a3f5f"
            },
            "baxis": {
             "endlinecolor": "#2a3f5f",
             "gridcolor": "white",
             "linecolor": "white",
             "minorgridcolor": "white",
             "startlinecolor": "#2a3f5f"
            },
            "type": "carpet"
           }
          ],
          "choropleth": [
           {
            "colorbar": {
             "outlinewidth": 0,
             "ticks": ""
            },
            "type": "choropleth"
           }
          ],
          "contour": [
           {
            "colorbar": {
             "outlinewidth": 0,
             "ticks": ""
            },
            "colorscale": [
             [
              0,
              "#0d0887"
             ],
             [
              0.1111111111111111,
              "#46039f"
             ],
             [
              0.2222222222222222,
              "#7201a8"
             ],
             [
              0.3333333333333333,
              "#9c179e"
             ],
             [
              0.4444444444444444,
              "#bd3786"
             ],
             [
              0.5555555555555556,
              "#d8576b"
             ],
             [
              0.6666666666666666,
              "#ed7953"
             ],
             [
              0.7777777777777778,
              "#fb9f3a"
             ],
             [
              0.8888888888888888,
              "#fdca26"
             ],
             [
              1,
              "#f0f921"
             ]
            ],
            "type": "contour"
           }
          ],
          "contourcarpet": [
           {
            "colorbar": {
             "outlinewidth": 0,
             "ticks": ""
            },
            "type": "contourcarpet"
           }
          ],
          "heatmap": [
           {
            "colorbar": {
             "outlinewidth": 0,
             "ticks": ""
            },
            "colorscale": [
             [
              0,
              "#0d0887"
             ],
             [
              0.1111111111111111,
              "#46039f"
             ],
             [
              0.2222222222222222,
              "#7201a8"
             ],
             [
              0.3333333333333333,
              "#9c179e"
             ],
             [
              0.4444444444444444,
              "#bd3786"
             ],
             [
              0.5555555555555556,
              "#d8576b"
             ],
             [
              0.6666666666666666,
              "#ed7953"
             ],
             [
              0.7777777777777778,
              "#fb9f3a"
             ],
             [
              0.8888888888888888,
              "#fdca26"
             ],
             [
              1,
              "#f0f921"
             ]
            ],
            "type": "heatmap"
           }
          ],
          "heatmapgl": [
           {
            "colorbar": {
             "outlinewidth": 0,
             "ticks": ""
            },
            "colorscale": [
             [
              0,
              "#0d0887"
             ],
             [
              0.1111111111111111,
              "#46039f"
             ],
             [
              0.2222222222222222,
              "#7201a8"
             ],
             [
              0.3333333333333333,
              "#9c179e"
             ],
             [
              0.4444444444444444,
              "#bd3786"
             ],
             [
              0.5555555555555556,
              "#d8576b"
             ],
             [
              0.6666666666666666,
              "#ed7953"
             ],
             [
              0.7777777777777778,
              "#fb9f3a"
             ],
             [
              0.8888888888888888,
              "#fdca26"
             ],
             [
              1,
              "#f0f921"
             ]
            ],
            "type": "heatmapgl"
           }
          ],
          "histogram": [
           {
            "marker": {
             "pattern": {
              "fillmode": "overlay",
              "size": 10,
              "solidity": 0.2
             }
            },
            "type": "histogram"
           }
          ],
          "histogram2d": [
           {
            "colorbar": {
             "outlinewidth": 0,
             "ticks": ""
            },
            "colorscale": [
             [
              0,
              "#0d0887"
             ],
             [
              0.1111111111111111,
              "#46039f"
             ],
             [
              0.2222222222222222,
              "#7201a8"
             ],
             [
              0.3333333333333333,
              "#9c179e"
             ],
             [
              0.4444444444444444,
              "#bd3786"
             ],
             [
              0.5555555555555556,
              "#d8576b"
             ],
             [
              0.6666666666666666,
              "#ed7953"
             ],
             [
              0.7777777777777778,
              "#fb9f3a"
             ],
             [
              0.8888888888888888,
              "#fdca26"
             ],
             [
              1,
              "#f0f921"
             ]
            ],
            "type": "histogram2d"
           }
          ],
          "histogram2dcontour": [
           {
            "colorbar": {
             "outlinewidth": 0,
             "ticks": ""
            },
            "colorscale": [
             [
              0,
              "#0d0887"
             ],
             [
              0.1111111111111111,
              "#46039f"
             ],
             [
              0.2222222222222222,
              "#7201a8"
             ],
             [
              0.3333333333333333,
              "#9c179e"
             ],
             [
              0.4444444444444444,
              "#bd3786"
             ],
             [
              0.5555555555555556,
              "#d8576b"
             ],
             [
              0.6666666666666666,
              "#ed7953"
             ],
             [
              0.7777777777777778,
              "#fb9f3a"
             ],
             [
              0.8888888888888888,
              "#fdca26"
             ],
             [
              1,
              "#f0f921"
             ]
            ],
            "type": "histogram2dcontour"
           }
          ],
          "mesh3d": [
           {
            "colorbar": {
             "outlinewidth": 0,
             "ticks": ""
            },
            "type": "mesh3d"
           }
          ],
          "parcoords": [
           {
            "line": {
             "colorbar": {
              "outlinewidth": 0,
              "ticks": ""
             }
            },
            "type": "parcoords"
           }
          ],
          "pie": [
           {
            "automargin": true,
            "type": "pie"
           }
          ],
          "scatter": [
           {
            "fillpattern": {
             "fillmode": "overlay",
             "size": 10,
             "solidity": 0.2
            },
            "type": "scatter"
           }
          ],
          "scatter3d": [
           {
            "line": {
             "colorbar": {
              "outlinewidth": 0,
              "ticks": ""
             }
            },
            "marker": {
             "colorbar": {
              "outlinewidth": 0,
              "ticks": ""
             }
            },
            "type": "scatter3d"
           }
          ],
          "scattercarpet": [
           {
            "marker": {
             "colorbar": {
              "outlinewidth": 0,
              "ticks": ""
             }
            },
            "type": "scattercarpet"
           }
          ],
          "scattergeo": [
           {
            "marker": {
             "colorbar": {
              "outlinewidth": 0,
              "ticks": ""
             }
            },
            "type": "scattergeo"
           }
          ],
          "scattergl": [
           {
            "marker": {
             "colorbar": {
              "outlinewidth": 0,
              "ticks": ""
             }
            },
            "type": "scattergl"
           }
          ],
          "scattermapbox": [
           {
            "marker": {
             "colorbar": {
              "outlinewidth": 0,
              "ticks": ""
             }
            },
            "type": "scattermapbox"
           }
          ],
          "scatterpolar": [
           {
            "marker": {
             "colorbar": {
              "outlinewidth": 0,
              "ticks": ""
             }
            },
            "type": "scatterpolar"
           }
          ],
          "scatterpolargl": [
           {
            "marker": {
             "colorbar": {
              "outlinewidth": 0,
              "ticks": ""
             }
            },
            "type": "scatterpolargl"
           }
          ],
          "scatterternary": [
           {
            "marker": {
             "colorbar": {
              "outlinewidth": 0,
              "ticks": ""
             }
            },
            "type": "scatterternary"
           }
          ],
          "surface": [
           {
            "colorbar": {
             "outlinewidth": 0,
             "ticks": ""
            },
            "colorscale": [
             [
              0,
              "#0d0887"
             ],
             [
              0.1111111111111111,
              "#46039f"
             ],
             [
              0.2222222222222222,
              "#7201a8"
             ],
             [
              0.3333333333333333,
              "#9c179e"
             ],
             [
              0.4444444444444444,
              "#bd3786"
             ],
             [
              0.5555555555555556,
              "#d8576b"
             ],
             [
              0.6666666666666666,
              "#ed7953"
             ],
             [
              0.7777777777777778,
              "#fb9f3a"
             ],
             [
              0.8888888888888888,
              "#fdca26"
             ],
             [
              1,
              "#f0f921"
             ]
            ],
            "type": "surface"
           }
          ],
          "table": [
           {
            "cells": {
             "fill": {
              "color": "#EBF0F8"
             },
             "line": {
              "color": "white"
             }
            },
            "header": {
             "fill": {
              "color": "#C8D4E3"
             },
             "line": {
              "color": "white"
             }
            },
            "type": "table"
           }
          ]
         },
         "layout": {
          "annotationdefaults": {
           "arrowcolor": "#2a3f5f",
           "arrowhead": 0,
           "arrowwidth": 1
          },
          "autotypenumbers": "strict",
          "coloraxis": {
           "colorbar": {
            "outlinewidth": 0,
            "ticks": ""
           }
          },
          "colorscale": {
           "diverging": [
            [
             0,
             "#8e0152"
            ],
            [
             0.1,
             "#c51b7d"
            ],
            [
             0.2,
             "#de77ae"
            ],
            [
             0.3,
             "#f1b6da"
            ],
            [
             0.4,
             "#fde0ef"
            ],
            [
             0.5,
             "#f7f7f7"
            ],
            [
             0.6,
             "#e6f5d0"
            ],
            [
             0.7,
             "#b8e186"
            ],
            [
             0.8,
             "#7fbc41"
            ],
            [
             0.9,
             "#4d9221"
            ],
            [
             1,
             "#276419"
            ]
           ],
           "sequential": [
            [
             0,
             "#0d0887"
            ],
            [
             0.1111111111111111,
             "#46039f"
            ],
            [
             0.2222222222222222,
             "#7201a8"
            ],
            [
             0.3333333333333333,
             "#9c179e"
            ],
            [
             0.4444444444444444,
             "#bd3786"
            ],
            [
             0.5555555555555556,
             "#d8576b"
            ],
            [
             0.6666666666666666,
             "#ed7953"
            ],
            [
             0.7777777777777778,
             "#fb9f3a"
            ],
            [
             0.8888888888888888,
             "#fdca26"
            ],
            [
             1,
             "#f0f921"
            ]
           ],
           "sequentialminus": [
            [
             0,
             "#0d0887"
            ],
            [
             0.1111111111111111,
             "#46039f"
            ],
            [
             0.2222222222222222,
             "#7201a8"
            ],
            [
             0.3333333333333333,
             "#9c179e"
            ],
            [
             0.4444444444444444,
             "#bd3786"
            ],
            [
             0.5555555555555556,
             "#d8576b"
            ],
            [
             0.6666666666666666,
             "#ed7953"
            ],
            [
             0.7777777777777778,
             "#fb9f3a"
            ],
            [
             0.8888888888888888,
             "#fdca26"
            ],
            [
             1,
             "#f0f921"
            ]
           ]
          },
          "colorway": [
           "#636efa",
           "#EF553B",
           "#00cc96",
           "#ab63fa",
           "#FFA15A",
           "#19d3f3",
           "#FF6692",
           "#B6E880",
           "#FF97FF",
           "#FECB52"
          ],
          "font": {
           "color": "#2a3f5f"
          },
          "geo": {
           "bgcolor": "white",
           "lakecolor": "white",
           "landcolor": "#E5ECF6",
           "showlakes": true,
           "showland": true,
           "subunitcolor": "white"
          },
          "hoverlabel": {
           "align": "left"
          },
          "hovermode": "closest",
          "mapbox": {
           "style": "light"
          },
          "paper_bgcolor": "white",
          "plot_bgcolor": "#E5ECF6",
          "polar": {
           "angularaxis": {
            "gridcolor": "white",
            "linecolor": "white",
            "ticks": ""
           },
           "bgcolor": "#E5ECF6",
           "radialaxis": {
            "gridcolor": "white",
            "linecolor": "white",
            "ticks": ""
           }
          },
          "scene": {
           "xaxis": {
            "backgroundcolor": "#E5ECF6",
            "gridcolor": "white",
            "gridwidth": 2,
            "linecolor": "white",
            "showbackground": true,
            "ticks": "",
            "zerolinecolor": "white"
           },
           "yaxis": {
            "backgroundcolor": "#E5ECF6",
            "gridcolor": "white",
            "gridwidth": 2,
            "linecolor": "white",
            "showbackground": true,
            "ticks": "",
            "zerolinecolor": "white"
           },
           "zaxis": {
            "backgroundcolor": "#E5ECF6",
            "gridcolor": "white",
            "gridwidth": 2,
            "linecolor": "white",
            "showbackground": true,
            "ticks": "",
            "zerolinecolor": "white"
           }
          },
          "shapedefaults": {
           "line": {
            "color": "#2a3f5f"
           }
          },
          "ternary": {
           "aaxis": {
            "gridcolor": "white",
            "linecolor": "white",
            "ticks": ""
           },
           "baxis": {
            "gridcolor": "white",
            "linecolor": "white",
            "ticks": ""
           },
           "bgcolor": "#E5ECF6",
           "caxis": {
            "gridcolor": "white",
            "linecolor": "white",
            "ticks": ""
           }
          },
          "title": {
           "x": 0.05
          },
          "xaxis": {
           "automargin": true,
           "gridcolor": "white",
           "linecolor": "white",
           "ticks": "",
           "title": {
            "standoff": 15
           },
           "zerolinecolor": "white",
           "zerolinewidth": 2
          },
          "yaxis": {
           "automargin": true,
           "gridcolor": "white",
           "linecolor": "white",
           "ticks": "",
           "title": {
            "standoff": 15
           },
           "zerolinecolor": "white",
           "zerolinewidth": 2
          }
         }
        },
        "title": {
         "text": "TMT Total por Escenario (Basado en Tiempos del Archivo de Entrada)"
        },
        "xaxis": {
         "tickangle": -90,
         "title": {
          "text": "ID de Escenario"
         },
         "type": "category"
        },
        "yaxis": {
         "range": [
          -21.999999999999957,
          0.05
         ],
         "title": {
          "text": "TMT Total (s)"
         },
         "zeroline": true,
         "zerolinecolor": "black",
         "zerolinewidth": 2
        }
       }
      }
     },
     "metadata": {},
     "output_type": "display_data"
    },
    {
     "name": "stderr",
     "output_type": "stream",
     "text": [
      "2025-04-19 23:42:55,990 - INFO - --- Análisis de TMT completado ---\n"
     ]
    }
   ],
   "source": [
    "import json\n",
    "import os\n",
    "import math\n",
    "import pandas as pd\n",
    "import plotly.graph_objects as go\n",
    "from plotly.subplots import make_subplots\n",
    "import logging\n",
    "import numpy as np  # Para isnan\n",
    "from typing import Dict, List, Any, Optional\n",
    "\n",
    "# Configuración básica de logging\n",
    "logging.basicConfig(level=logging.INFO, format='%(asctime)s - %(levelname)s - %(message)s')\n",
    "logger = logging.getLogger(__name__)\n",
    "\n",
    "# --- Constantes ---\n",
    "CTI = 0.2  # Intervalo de tiempo de coordinación típico (en segundos)\n",
    "\n",
    "# --- Rutas de los archivos ---\n",
    "INPUT_FILE = \"/Users/gustavo/Documents/Projects/TESIS_UNAL/ADAPTIVE_ALGORITHM/data/processed/independent_relay_pairs_paper.json\"\n",
    "# PLOT_OUTPUT_PATH = \"/Users/gustavo/Documents/Projects/TESIS_UNAL/ADAPTIVE_ALGORITHM/data/processed/model/tmt_analysis_all_scenarios_from_input_times.html\"\n",
    "\n",
    "logger.info(f\"Archivo de entrada: {INPUT_FILE}\")\n",
    "\n",
    "# %%\n",
    "# Celda 2: Funciones de Ayuda (Carga)\n",
    "def load_json_file(file_path: str) -> Optional[Any]:\n",
    "    \"\"\"Carga datos desde un archivo JSON.\"\"\"\n",
    "    try:\n",
    "        with open(file_path, 'r') as file:\n",
    "            data = json.load(file)\n",
    "        logger.info(f\"Archivo cargado: {file_path}\")\n",
    "        return data\n",
    "    except FileNotFoundError:\n",
    "        logger.error(f\"No encontrado: {file_path}\")\n",
    "        return None\n",
    "    except json.JSONDecodeError as e:\n",
    "        logger.error(f\"JSON inválido: {file_path}: {e}\")\n",
    "        return None\n",
    "    except Exception as e:\n",
    "        logger.error(f\"Error carga {file_path}: {e}\")\n",
    "        return None\n",
    "\n",
    "# %%\n",
    "# Celda 3: Carga y Agrupación de Datos por Escenario\n",
    "logger.info(\"Cargando y agrupando datos por escenario...\")\n",
    "relay_pairs_data = load_json_file(INPUT_FILE)\n",
    "\n",
    "if relay_pairs_data is None:\n",
    "    raise SystemExit(\"Error crítico al cargar archivo de entrada.\")\n",
    "if not isinstance(relay_pairs_data, list):\n",
    "    raise SystemExit(\"Error de formato en archivo de entrada (se espera lista).\")\n",
    "\n",
    "original_pairs_map: Dict[str, List[Dict]] = {}\n",
    "total_original_pairs_read = 0\n",
    "skipped_pairs_structure = 0\n",
    "\n",
    "for pair in relay_pairs_data:\n",
    "    s_id = pair.get(\"scenario_id\")\n",
    "    main_info = pair.get('main_relay')\n",
    "    backup_info = pair.get('backup_relay')\n",
    "    if s_id and isinstance(main_info, dict) and isinstance(backup_info, dict) and \\\n",
    "       'Time_out' in main_info and 'Time_out' in backup_info:\n",
    "        original_pairs_map.setdefault(s_id, []).append(pair)\n",
    "        total_original_pairs_read += 1\n",
    "    else:\n",
    "        skipped_pairs_structure += 1\n",
    "\n",
    "logger.info(f\"Datos agrupados: {len(original_pairs_map)} escenarios encontrados.\")\n",
    "logger.info(f\"{total_original_pairs_read} pares válidos leídos y agrupados.\")\n",
    "if skipped_pairs_structure > 0:\n",
    "    logger.warning(f\"{skipped_pairs_structure} pares fueron omitidos durante la carga debido a estructura o Time_out faltante.\")\n",
    "\n",
    "# %%\n",
    "# Celda 4: Calcular Métricas de Coordinación para Todos los Escenarios\n",
    "logger.info(\"Calculando TMT y métricas para cada escenario usando los Time_out existentes...\")\n",
    "scenario_results: Dict[str, Dict[str, Any]] = {}\n",
    "\n",
    "if not original_pairs_map:\n",
    "    raise SystemExit(\"No hay datos de escenario para procesar.\")\n",
    "\n",
    "for scenario_id, pairs_for_scenario in original_pairs_map.items():\n",
    "    tmt_for_scenario = 0.0\n",
    "    miscoordination_count = 0\n",
    "    valid_pairs_evaluated = 0\n",
    "    max_neg_mt_scenario = 0.0\n",
    "    skipped_this_scenario = 0\n",
    "\n",
    "    for pair_entry in pairs_for_scenario:\n",
    "        main_time = pair_entry['main_relay'].get('Time_out')\n",
    "        backup_time = pair_entry['backup_relay'].get('Time_out')\n",
    "\n",
    "        if not isinstance(main_time, (int, float)) or math.isnan(main_time) or \\\n",
    "           not isinstance(backup_time, (int, float)) or math.isnan(backup_time):\n",
    "            skipped_this_scenario += 1\n",
    "            continue\n",
    "\n",
    "        delta_t = backup_time - main_time - CTI\n",
    "        mt = min(0, delta_t)\n",
    "\n",
    "        valid_pairs_evaluated += 1\n",
    "        if mt < -1e-6:\n",
    "            miscoordination_count += 1\n",
    "            tmt_for_scenario += mt\n",
    "            max_neg_mt_scenario = min(max_neg_mt_scenario, mt)\n",
    "\n",
    "    if valid_pairs_evaluated > 0:\n",
    "        scenario_results[scenario_id] = {\n",
    "            \"TMT\": tmt_for_scenario,\n",
    "            \"MiscoordinatedCount\": miscoordination_count,\n",
    "            \"TotalPairsEvaluated\": valid_pairs_evaluated,\n",
    "            \"MaxNegativeMT\": max_neg_mt_scenario\n",
    "        }\n",
    "        if skipped_this_scenario > 0:\n",
    "            logger.warning(f\"({scenario_id}) Se omitieron {skipped_this_scenario} pares adicionales por tiempos inválidos.\")\n",
    "    elif pairs_for_scenario:\n",
    "        logger.warning(f\"({scenario_id}) No se evaluaron pares válidos (problemas con Time_out?).\")\n",
    "\n",
    "logger.info(f\"Cálculo de TMT completado para {len(scenario_results)} escenarios.\")\n",
    "\n",
    "# --- Nuevo bloque: imprimir TMT de cada escenario ---\n",
    "logger.info(\"Valores de TMT por escenario:\")\n",
    "for scenario_id, metrics in scenario_results.items():\n",
    "    tmt = metrics.get(\"TMT\", 0.0)\n",
    "    print(f\"Escenario {scenario_id}: TMT = {tmt:.4f} s\")\n",
    "\n",
    "# %%\n",
    "# Celda 5: Análisis - Mostrar los 54 Mejores Escenarios por TMT\n",
    "if not scenario_results:\n",
    "    logger.error(\"No hay resultados de escenario para analizar.\")\n",
    "else:\n",
    "    df_results = pd.DataFrame.from_dict(scenario_results, orient='index')\n",
    "    df_results.index.name = 'scenario_id'\n",
    "    df_results = df_results.reset_index()\n",
    "    df_results_sorted_by_tmt = df_results.sort_values(by='TMT', ascending=False)\n",
    "    top_54_scenarios = df_results_sorted_by_tmt[df_results_sorted_by_tmt['TMT'] != 0].head(54)\n",
    "\n",
    "    print(\"\\n--- Mejores 54 Escenarios por TMT (Basado en Tiempos del Archivo de Entrada) ---\")\n",
    "    pd.set_option('display.max_rows', 60)\n",
    "    print(top_54_scenarios[['scenario_id', 'TMT', 'MiscoordinatedCount', 'TotalPairsEvaluated', 'MaxNegativeMT']].round(5))\n",
    "    pd.reset_option('display.max_rows')\n",
    "\n",
    "# %%\n",
    "# Celda 6: Visualización - Gráfico de Barras del TMT para Todos los Escenarios\n",
    "if scenario_results and 'df_results' in locals():\n",
    "    logger.info(\"Generando gráfico de barras de TMT para todos los escenarios...\")\n",
    "\n",
    "    def get_scenario_num(s_id):\n",
    "        try:\n",
    "            return int(s_id.split('_')[-1])\n",
    "        except:\n",
    "            return float('inf')\n",
    "\n",
    "    df_results_plot_sorted = df_results.copy()\n",
    "    df_results_plot_sorted['scenario_num'] = df_results_plot_sorted['scenario_id'].apply(get_scenario_num)\n",
    "    df_results_plot_sorted = df_results_plot_sorted.sort_values(by='scenario_num')\n",
    "\n",
    "    scenario_labels_plot = df_results_plot_sorted['scenario_id'].tolist()\n",
    "    tmt_values_plot    = df_results_plot_sorted['TMT'].tolist()\n",
    "    miscoord_counts_plot = df_results_plot_sorted['MiscoordinatedCount'].tolist()\n",
    "    total_pairs_plot     = df_results_plot_sorted['TotalPairsEvaluated'].tolist()\n",
    "    max_neg_mt_plot      = df_results_plot_sorted['MaxNegativeMT'].tolist()\n",
    "\n",
    "    hover_texts_plot = [\n",
    "        f\"<b>{s_id}</b><br>TMT: {tmt:.4f}<br>Descoordinados: {mc}/{tp}<br>Peor MT: {max_neg_mt:.4f}\"\n",
    "        for s_id, tmt, mc, tp, max_neg_mt in zip(scenario_labels_plot, tmt_values_plot, miscoord_counts_plot, total_pairs_plot, max_neg_mt_plot)\n",
    "    ]\n",
    "\n",
    "    colors = [\n",
    "        '#2ca02c' if tmt >= -0.001 else\n",
    "        '#ff7f0e' if tmt >= -0.05 else\n",
    "        '#d62728'\n",
    "        for tmt in tmt_values_plot\n",
    "    ]\n",
    "\n",
    "    fig_tmt_all = go.Figure(data=[\n",
    "        go.Bar(\n",
    "            x=scenario_labels_plot,\n",
    "            y=tmt_values_plot,\n",
    "            text=[f\"{mc}/{tp}\" for mc, tp in zip(miscoord_counts_plot, total_pairs_plot)],\n",
    "            textposition='outside',\n",
    "            textfont_size=8,\n",
    "            hovertext=hover_texts_plot,\n",
    "            hoverinfo='text',\n",
    "            marker_color=colors\n",
    "        )\n",
    "    ])\n",
    "\n",
    "    fig_tmt_all.update_layout(\n",
    "        title=\"TMT Total por Escenario (Basado en Tiempos del Archivo de Entrada)\",\n",
    "        xaxis_title=\"ID de Escenario\",\n",
    "        yaxis_title=\"TMT Total (s)\",\n",
    "        yaxis=dict(range=[min(tmt_values_plot + [-0.1]) * 1.1, max(tmt_values_plot + [0.05])]),\n",
    "        yaxis_zeroline=True, yaxis_zerolinewidth=2, yaxis_zerolinecolor='black',\n",
    "        xaxis={'type': 'category', 'tickangle': -90},\n",
    "        height=700,\n",
    "        bargap=0.2,\n",
    "        hovermode='x unified'\n",
    "    )\n",
    "\n",
    "    fig_tmt_all.show()\n",
    "logger.info(\"--- Análisis de TMT completado ---\")\n"
   ]
  }
 ],
 "metadata": {
  "kernelspec": {
   "display_name": "Python 3",
   "language": "python",
   "name": "python3"
  },
  "language_info": {
   "codemirror_mode": {
    "name": "ipython",
    "version": 3
   },
   "file_extension": ".py",
   "mimetype": "text/x-python",
   "name": "python",
   "nbconvert_exporter": "python",
   "pygments_lexer": "ipython3",
   "version": "3.11.11"
  }
 },
 "nbformat": 4,
 "nbformat_minor": 2
}
