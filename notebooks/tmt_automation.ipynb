{
 "cells": [
  {
   "cell_type": "markdown",
   "metadata": {},
   "source": [
    "# Scenario base"
   ]
  },
  {
   "cell_type": "code",
   "execution_count": 14,
   "metadata": {},
   "outputs": [
    {
     "name": "stdout",
     "output_type": "stream",
     "text": [
      "============================================\n",
      "=== Relay Coordination Analysis Script ===\n",
      "===       Mode: Analyze Scenario 1       ===\n",
      "============================================\n",
      "Attempting to load data from: /Users/gustavo/Documents/Projects/TESIS_UNAL/ADAPTIVE_ALGORITHM/data/processed/independent_relay_pairs_automation.json\n",
      "Successfully loaded 6800 records from JSON.\n",
      "--- Starting Analysis for Single Scenario: scenario_1 ---\n",
      "Using CTI = 0.2s\n",
      "Results will be saved in: /Users/gustavo/Documents/Projects/TESIS_UNAL/ADAPTIVE_ALGORITHM/results/coordination_plots\n",
      "Starting data extraction and processing for scenarios...\n",
      "Data extraction complete. Processed pairs: 6800, Skipped records/pairs: 0\n",
      "Aggregating results per scenario...\n",
      "Scenario aggregation complete.\n",
      "\n",
      "--- Processing Detailed Analysis for: scenario_1 ---\n",
      "\n",
      "--- Resumen de Coordinación ---\n",
      "Total Pares Analizados: 100\n",
      "Pares Coordinados (Δt >= 0): 12 (12.0%)\n",
      "Pares Descoordinados (Δt < 0): 88 (88.0%)\n",
      "\n",
      "--- Estadísticas del Índice MT ---\n",
      "count    100.000000\n",
      "mean      -0.158543\n",
      "std        0.091623\n",
      "min       -0.384200\n",
      "25%       -0.193050\n",
      "50%       -0.175700\n",
      "75%       -0.121225\n",
      "max        0.000000\n",
      "TMT (Suma MT): -15.85430\n",
      "\n",
      "--- Par Más Descoordinado (Peor MT) ---\n",
      "Par (P-R): R66-R67\n",
      "MT:        -0.3842\n",
      "Δt:        -0.3842 s\n",
      "Tm:        0.2699 s\n",
      "Tb:        0.0857 s\n",
      "Línea:     L29-30\n",
      "Falla:     90\n",
      "\n",
      "--- Top 10 Pares con Mayor Descoordinación (Ordenados por Peor MT) ---\n",
      "Par (P-R)      mt      Δt     tm     tb  Línea Falla\n",
      "  R66-R67 -0.3842 -0.3842 0.2699 0.0857 L29-30    90\n",
      "    R7-R6 -0.3837 -0.3837 0.2806 0.0969   L7-8    10\n",
      "  R15-R14 -0.3731 -0.3731 0.2676 0.0945 L15-16    10\n",
      "  R43-R44 -0.3665 -0.3665 0.2732 0.1067   L6-7    90\n",
      "  R30-R29 -0.3521 -0.3521 0.2420 0.0899 L30-31    10\n",
      "  R51-R52 -0.3447 -0.3447 0.2664 0.1217 L14-15    90\n",
      "    R9-R8 -0.3266 -0.3266 0.2566 0.1300  L9-10    10\n",
      "  R45-R46 -0.2978 -0.2978 0.2540 0.1562   L8-9    90\n",
      "   R34-R8 -0.2777 -0.2777 0.2112 0.1335  L9-15    10\n",
      "  R71-R14 -0.2707 -0.2707 0.1676 0.0969  L9-15    90\n",
      "\n",
      "Saving detailed results to CSV: /Users/gustavo/Documents/Projects/TESIS_UNAL/ADAPTIVE_ALGORITHM/results/coordination_plots/scenario_1_detailed_results.csv\n",
      "  Successfully saved.\n",
      "\n",
      "--- Generating Plots for Scenario: scenario_1 ---\n",
      "  Generating MT Bar Chart...\n",
      "  Generating Delta_t Bar Chart...\n",
      "  Generating Delta_t Scatter Plot...\n",
      "  Generating MT Histogram...\n",
      "  Saving plots for scenario_1...\n",
      "    Displaying mt_bar plot...\n"
     ]
    },
    {
     "data": {
      "application/vnd.plotly.v1+json": {
       "config": {
        "plotlyServerURL": "https://plot.ly"
       },
       "data": [
        {
         "hoverinfo": "text",
         "marker": {
          "color": [
           "red",
           "red",
           "red",
           "red",
           "red",
           "red",
           "red",
           "red",
           "red",
           "red",
           "red",
           "red",
           "red",
           "red",
           "red",
           "red",
           "red",
           "red",
           "red",
           "red",
           "red",
           "red",
           "red",
           "red",
           "red",
           "red",
           "red",
           "red",
           "red",
           "red",
           "red",
           "red",
           "red",
           "red",
           "red",
           "red",
           "red",
           "red",
           "red",
           "red",
           "red",
           "red",
           "red",
           "red",
           "red",
           "red",
           "red",
           "red",
           "red",
           "red",
           "red",
           "red",
           "red",
           "red",
           "red",
           "red",
           "red",
           "red",
           "red",
           "red",
           "red",
           "red",
           "red",
           "red",
           "red",
           "red",
           "red",
           "red",
           "red",
           "red",
           "red",
           "red",
           "red",
           "red",
           "red",
           "red",
           "red",
           "red",
           "red",
           "red",
           "red",
           "red",
           "red",
           "red",
           "red",
           "red",
           "red",
           "red",
           "green",
           "green",
           "green",
           "green",
           "green",
           "green",
           "green",
           "green",
           "green",
           "green",
           "green",
           "green"
          ]
         },
         "name": "Índice MT",
         "text": [
          "<b>R66-R67</b><br>Índice Plot: 1<br>MT: -0.3842 | <b>Δt: -0.3842s</b><br>Tm: 0.2699s | Tb: 0.0857s<br>Línea: L29-30 | Falla: 90<br>Estado: Descoordinado<extra></extra>",
          "<b>R7-R6</b><br>Índice Plot: 2<br>MT: -0.3837 | <b>Δt: -0.3837s</b><br>Tm: 0.2806s | Tb: 0.0969s<br>Línea: L7-8 | Falla: 10<br>Estado: Descoordinado<extra></extra>",
          "<b>R15-R14</b><br>Índice Plot: 3<br>MT: -0.3731 | <b>Δt: -0.3731s</b><br>Tm: 0.2676s | Tb: 0.0945s<br>Línea: L15-16 | Falla: 10<br>Estado: Descoordinado<extra></extra>",
          "<b>R43-R44</b><br>Índice Plot: 4<br>MT: -0.3665 | <b>Δt: -0.3665s</b><br>Tm: 0.2732s | Tb: 0.1067s<br>Línea: L6-7 | Falla: 90<br>Estado: Descoordinado<extra></extra>",
          "<b>R30-R29</b><br>Índice Plot: 5<br>MT: -0.3521 | <b>Δt: -0.3521s</b><br>Tm: 0.2420s | Tb: 0.0899s<br>Línea: L30-31 | Falla: 10<br>Estado: Descoordinado<extra></extra>",
          "<b>R51-R52</b><br>Índice Plot: 6<br>MT: -0.3447 | <b>Δt: -0.3447s</b><br>Tm: 0.2664s | Tb: 0.1217s<br>Línea: L14-15 | Falla: 90<br>Estado: Descoordinado<extra></extra>",
          "<b>R9-R8</b><br>Índice Plot: 7<br>MT: -0.3266 | <b>Δt: -0.3266s</b><br>Tm: 0.2566s | Tb: 0.1300s<br>Línea: L9-10 | Falla: 10<br>Estado: Descoordinado<extra></extra>",
          "<b>R45-R46</b><br>Índice Plot: 8<br>MT: -0.2978 | <b>Δt: -0.2978s</b><br>Tm: 0.2540s | Tb: 0.1562s<br>Línea: L8-9 | Falla: 90<br>Estado: Descoordinado<extra></extra>",
          "<b>R34-R8</b><br>Índice Plot: 9<br>MT: -0.2777 | <b>Δt: -0.2777s</b><br>Tm: 0.2112s | Tb: 0.1335s<br>Línea: L9-15 | Falla: 10<br>Estado: Descoordinado<extra></extra>",
          "<b>R71-R14</b><br>Índice Plot: 10<br>MT: -0.2707 | <b>Δt: -0.2707s</b><br>Tm: 0.1676s | Tb: 0.0969s<br>Línea: L9-15 | Falla: 90<br>Estado: Descoordinado<extra></extra>",
          "<b>R71-R52</b><br>Índice Plot: 11<br>MT: -0.2432 | <b>Δt: -0.2432s</b><br>Tm: 0.1676s | Tb: 0.1244s<br>Línea: L9-15 | Falla: 90<br>Estado: Descoordinado<extra></extra>",
          "<b>R34-R46</b><br>Índice Plot: 12<br>MT: -0.2364 | <b>Δt: -0.2364s</b><br>Tm: 0.2112s | Tb: 0.1748s<br>Línea: L9-15 | Falla: 10<br>Estado: Descoordinado<extra></extra>",
          "<b>R31-R30</b><br>Índice Plot: 13<br>MT: -0.2108 | <b>Δt: -0.2108s</b><br>Tm: 0.2701s | Tb: 0.2593s<br>Línea: L31-32 | Falla: 10<br>Estado: Descoordinado<extra></extra>",
          "<b>R68-R69</b><br>Índice Plot: 14<br>MT: -0.2073 | <b>Δt: -0.2073s</b><br>Tm: 0.2758s | Tb: 0.2685s<br>Línea: L31-32 | Falla: 90<br>Estado: Descoordinado<extra></extra>",
          "<b>R73-R32</b><br>Índice Plot: 15<br>MT: -0.1992 | <b>Δt: -0.1992s</b><br>Tm: 0.2818s | Tb: 0.2826s<br>Línea: L18-33 | Falla: 90<br>Estado: Descoordinado<extra></extra>",
          "<b>R74-R66</b><br>Índice Plot: 16<br>MT: -0.1990 | <b>Δt: -0.1990s</b><br>Tm: 0.2838s | Tb: 0.2848s<br>Línea: L25-29 | Falla: 90<br>Estado: Descoordinado<extra></extra>",
          "<b>R74-R28</b><br>Índice Plot: 17<br>MT: -0.1989 | <b>Δt: -0.1989s</b><br>Tm: 0.2838s | Tb: 0.2849s<br>Línea: L25-29 | Falla: 90<br>Estado: Descoordinado<extra></extra>",
          "<b>R32-R31</b><br>Índice Plot: 18<br>MT: -0.1984 | <b>Δt: -0.1984s</b><br>Tm: 0.2743s | Tb: 0.2759s<br>Línea: L32-33 | Falla: 10<br>Estado: Descoordinado<extra></extra>",
          "<b>R40-R41</b><br>Índice Plot: 19<br>MT: -0.1968 | <b>Δt: -0.1968s</b><br>Tm: 0.3142s | Tb: 0.3174s<br>Línea: L3-4 | Falla: 90<br>Estado: Descoordinado<extra></extra>",
          "<b>R61-R74</b><br>Índice Plot: 20<br>MT: -0.1962 | <b>Δt: -0.1962s</b><br>Tm: 0.2964s | Tb: 0.3002s<br>Línea: L24-25 | Falla: 90<br>Estado: Descoordinado<extra></extra>",
          "<b>R54-R73</b><br>Índice Plot: 21<br>MT: -0.1946 | <b>Δt: -0.1946s</b><br>Tm: 0.2863s | Tb: 0.2917s<br>Línea: L17-18 | Falla: 90<br>Estado: Descoordinado<extra></extra>",
          "<b>R63-R64</b><br>Índice Plot: 22<br>MT: -0.1944 | <b>Δt: -0.1944s</b><br>Tm: 0.3113s | Tb: 0.3169s<br>Línea: L26-27 | Falla: 90<br>Estado: Descoordinado<extra></extra>",
          "<b>R10-R9</b><br>Índice Plot: 23<br>MT: -0.1940 | <b>Δt: -0.1940s</b><br>Tm: 0.2905s | Tb: 0.2965s<br>Línea: L10-11 | Falla: 10<br>Estado: Descoordinado<extra></extra>",
          "<b>R47-R48</b><br>Índice Plot: 24<br>MT: -0.1937 | <b>Δt: -0.1937s</b><br>Tm: 0.3008s | Tb: 0.3071s<br>Línea: L10-11 | Falla: 90<br>Estado: Descoordinado<extra></extra>",
          "<b>R55-R56</b><br>Índice Plot: 25<br>MT: -0.1932 | <b>Δt: -0.1932s</b><br>Tm: 0.3338s | Tb: 0.3406s<br>Línea: L2-19 | Falla: 90<br>Estado: Descoordinado<extra></extra>",
          "<b>R48-R49</b><br>Índice Plot: 26<br>MT: -0.1930 | <b>Δt: -0.1930s</b><br>Tm: 0.2941s | Tb: 0.3011s<br>Línea: L11-12 | Falla: 90<br>Estado: Descoordinado<extra></extra>",
          "<b>R48-R72</b><br>Índice Plot: 27<br>MT: -0.1930 | <b>Δt: -0.1930s</b><br>Tm: 0.2941s | Tb: 0.3011s<br>Línea: L11-12 | Falla: 90<br>Estado: Descoordinado<extra></extra>",
          "<b>R50-R51</b><br>Índice Plot: 28<br>MT: -0.1896 | <b>Δt: -0.1896s</b><br>Tm: 0.2724s | Tb: 0.2828s<br>Línea: L13-14 | Falla: 90<br>Estado: Descoordinado<extra></extra>",
          "<b>R36-R17</b><br>Índice Plot: 29<br>MT: -0.1892 | <b>Δt: -0.1892s</b><br>Tm: 0.2786s | Tb: 0.2894s<br>Línea: L18-33 | Falla: 10<br>Estado: Descoordinado<extra></extra>",
          "<b>R26-R25</b><br>Índice Plot: 30<br>MT: -0.1888 | <b>Δt: -0.1888s</b><br>Tm: 0.2681s | Tb: 0.2793s<br>Línea: L26-27 | Falla: 10<br>Estado: Descoordinado<extra></extra>",
          "<b>R57-R58</b><br>Índice Plot: 31<br>MT: -0.1876 | <b>Δt: -0.1876s</b><br>Tm: 0.2858s | Tb: 0.2982s<br>Línea: L20-21 | Falla: 90<br>Estado: Descoordinado<extra></extra>",
          "<b>R41-R42</b><br>Índice Plot: 32<br>MT: -0.1875 | <b>Δt: -0.1875s</b><br>Tm: 0.2931s | Tb: 0.3056s<br>Línea: L4-5 | Falla: 90<br>Estado: Descoordinado<extra></extra>",
          "<b>R57-R33</b><br>Índice Plot: 33<br>MT: -0.1875 | <b>Δt: -0.1875s</b><br>Tm: 0.2858s | Tb: 0.2983s<br>Línea: L20-21 | Falla: 90<br>Estado: Descoordinado<extra></extra>",
          "<b>R37-R24</b><br>Índice Plot: 34<br>MT: -0.1868 | <b>Δt: -0.1868s</b><br>Tm: 0.2711s | Tb: 0.2843s<br>Línea: L25-29 | Falla: 10<br>Estado: Descoordinado<extra></extra>",
          "<b>R53-R54</b><br>Índice Plot: 35<br>MT: -0.1857 | <b>Δt: -0.1857s</b><br>Tm: 0.2859s | Tb: 0.3002s<br>Línea: L16-17 | Falla: 90<br>Estado: Descoordinado<extra></extra>",
          "<b>R13-R12</b><br>Índice Plot: 36<br>MT: -0.1856 | <b>Δt: -0.1856s</b><br>Tm: 0.2698s | Tb: 0.2842s<br>Línea: L13-14 | Falla: 10<br>Estado: Descoordinado<extra></extra>",
          "<b>R17-R16</b><br>Índice Plot: 37<br>MT: -0.1854 | <b>Δt: -0.1854s</b><br>Tm: 0.2776s | Tb: 0.2922s<br>Línea: L17-18 | Falla: 10<br>Estado: Descoordinado<extra></extra>",
          "<b>R4-R3</b><br>Índice Plot: 38<br>MT: -0.1851 | <b>Δt: -0.1851s</b><br>Tm: 0.2605s | Tb: 0.2754s<br>Línea: L4-5 | Falla: 10<br>Estado: Descoordinado<extra></extra>",
          "<b>R15-R34</b><br>Índice Plot: 39<br>MT: -0.1843 | <b>Δt: -0.1843s</b><br>Tm: 0.2676s | Tb: 0.2833s<br>Línea: L15-16 | Falla: 10<br>Estado: Descoordinado<extra></extra>",
          "<b>R65-R37</b><br>Índice Plot: 40<br>MT: -0.1841 | <b>Δt: -0.1841s</b><br>Tm: 0.2715s | Tb: 0.2874s<br>Línea: L28-29 | Falla: 90<br>Estado: Descoordinado<extra></extra>",
          "<b>R65-R66</b><br>Índice Plot: 41<br>MT: -0.1839 | <b>Δt: -0.1839s</b><br>Tm: 0.2715s | Tb: 0.2876s<br>Línea: L28-29 | Falla: 90<br>Estado: Descoordinado<extra></extra>",
          "<b>R51-R34</b><br>Índice Plot: 42<br>MT: -0.1831 | <b>Δt: -0.1831s</b><br>Tm: 0.2664s | Tb: 0.2833s<br>Línea: L14-15 | Falla: 90<br>Estado: Descoordinado<extra></extra>",
          "<b>R3-R2</b><br>Índice Plot: 43<br>MT: -0.1823 | <b>Δt: -0.1823s</b><br>Tm: 0.2554s | Tb: 0.2731s<br>Línea: L3-4 | Falla: 10<br>Estado: Descoordinado<extra></extra>",
          "<b>R25-R5</b><br>Índice Plot: 44<br>MT: -0.1816 | <b>Δt: -0.1816s</b><br>Tm: 0.2712s | Tb: 0.2896s<br>Línea: L6-26 | Falla: 10<br>Estado: Descoordinado<extra></extra>",
          "<b>R25-R43</b><br>Índice Plot: 45<br>MT: -0.1814 | <b>Δt: -0.1814s</b><br>Tm: 0.2712s | Tb: 0.2898s<br>Línea: L6-26 | Falla: 10<br>Estado: Descoordinado<extra></extra>",
          "<b>R64-R65</b><br>Índice Plot: 46<br>MT: -0.1776 | <b>Δt: -0.1776s</b><br>Tm: 0.2766s | Tb: 0.2990s<br>Línea: L27-28 | Falla: 90<br>Estado: Descoordinado<extra></extra>",
          "<b>R22-R2</b><br>Índice Plot: 47<br>MT: -0.1771 | <b>Δt: -0.1771s</b><br>Tm: 0.2513s | Tb: 0.2742s<br>Línea: L3-23 | Falla: 10<br>Estado: Descoordinado<extra></extra>",
          "<b>R42-R43</b><br>Índice Plot: 48<br>MT: -0.1771 | <b>Δt: -0.1771s</b><br>Tm: 0.2696s | Tb: 0.2925s<br>Línea: L5-6 | Falla: 90<br>Estado: Descoordinado<extra></extra>",
          "<b>R16-R15</b><br>Índice Plot: 49<br>MT: -0.1764 | <b>Δt: -0.1764s</b><br>Tm: 0.2627s | Tb: 0.2863s<br>Línea: L16-17 | Falla: 10<br>Estado: Descoordinado<extra></extra>",
          "<b>R69-R36</b><br>Índice Plot: 50<br>MT: -0.1761 | <b>Δt: -0.1761s</b><br>Tm: 0.2626s | Tb: 0.2865s<br>Línea: L32-33 | Falla: 90<br>Estado: Descoordinado<extra></extra>",
          "<b>R42-R62</b><br>Índice Plot: 51<br>MT: -0.1753 | <b>Δt: -0.1753s</b><br>Tm: 0.2696s | Tb: 0.2943s<br>Línea: L5-6 | Falla: 90<br>Estado: Descoordinado<extra></extra>",
          "<b>R5-R4</b><br>Índice Plot: 52<br>MT: -0.1736 | <b>Δt: -0.1736s</b><br>Tm: 0.2545s | Tb: 0.2809s<br>Línea: L5-6 | Falla: 10<br>Estado: Descoordinado<extra></extra>",
          "<b>R27-R26</b><br>Índice Plot: 53<br>MT: -0.1732 | <b>Δt: -0.1732s</b><br>Tm: 0.2547s | Tb: 0.2815s<br>Línea: L27-28 | Falla: 10<br>Estado: Descoordinado<extra></extra>",
          "<b>R24-R23</b><br>Índice Plot: 54<br>MT: -0.1724 | <b>Δt: -0.1724s</b><br>Tm: 0.2569s | Tb: 0.2845s<br>Línea: L24-25 | Falla: 10<br>Estado: Descoordinado<extra></extra>",
          "<b>R28-R27</b><br>Índice Plot: 55<br>MT: -0.1701 | <b>Δt: -0.1701s</b><br>Tm: 0.2606s | Tb: 0.2905s<br>Línea: L28-29 | Falla: 10<br>Estado: Descoordinado<extra></extra>",
          "<b>R18-R1</b><br>Índice Plot: 56<br>MT: -0.1700 | <b>Δt: -0.1700s</b><br>Tm: 0.2453s | Tb: 0.2753s<br>Línea: L2-19 | Falla: 10<br>Estado: Descoordinado<extra></extra>",
          "<b>R12-R11</b><br>Índice Plot: 57<br>MT: -0.1697 | <b>Δt: -0.1697s</b><br>Tm: 0.2458s | Tb: 0.2761s<br>Línea: L12-13 | Falla: 10<br>Estado: Descoordinado<extra></extra>",
          "<b>R58-R35</b><br>Índice Plot: 58<br>MT: -0.1691 | <b>Δt: -0.1691s</b><br>Tm: 0.2675s | Tb: 0.2984s<br>Línea: L21-22 | Falla: 90<br>Estado: Descoordinado<extra></extra>",
          "<b>R60-R61</b><br>Índice Plot: 59<br>MT: -0.1685 | <b>Δt: -0.1685s</b><br>Tm: 0.2978s | Tb: 0.3293s<br>Línea: L23-24 | Falla: 90<br>Estado: Descoordinado<extra></extra>",
          "<b>R72-R21</b><br>Índice Plot: 60<br>MT: -0.1669 | <b>Δt: -0.1669s</b><br>Tm: 0.2489s | Tb: 0.2820s<br>Línea: L12-22 | Falla: 10<br>Estado: Descoordinado<extra></extra>",
          "<b>R20-R19</b><br>Índice Plot: 61<br>MT: -0.1663 | <b>Δt: -0.1663s</b><br>Tm: 0.2546s | Tb: 0.2883s<br>Línea: L20-21 | Falla: 10<br>Estado: Descoordinado<extra></extra>",
          "<b>R2-R1</b><br>Índice Plot: 62<br>MT: -0.1640 | <b>Δt: -0.1640s</b><br>Tm: 0.2409s | Tb: 0.2769s<br>Línea: L2-3 | Falla: 10<br>Estado: Descoordinado<extra></extra>",
          "<b>R23-R22</b><br>Índice Plot: 63<br>MT: -0.1631 | <b>Δt: -0.1631s</b><br>Tm: 0.2445s | Tb: 0.2814s<br>Línea: L23-24 | Falla: 10<br>Estado: Descoordinado<extra></extra>",
          "<b>R11-R10</b><br>Índice Plot: 64<br>MT: -0.1612 | <b>Δt: -0.1612s</b><br>Tm: 0.2587s | Tb: 0.2975s<br>Línea: L11-12 | Falla: 10<br>Estado: Descoordinado<extra></extra>",
          "<b>R70-R20</b><br>Índice Plot: 65<br>MT: -0.1611 | <b>Δt: -0.1611s</b><br>Tm: 0.2375s | Tb: 0.2764s<br>Línea: L8-21 | Falla: 90<br>Estado: Descoordinado<extra></extra>",
          "<b>R19-R18</b><br>Índice Plot: 66<br>MT: -0.1556 | <b>Δt: -0.1556s</b><br>Tm: 0.2243s | Tb: 0.2687s<br>Línea: L19-20 | Falla: 10<br>Estado: Descoordinado<extra></extra>",
          "<b>R49-R50</b><br>Índice Plot: 67<br>MT: -0.1551 | <b>Δt: -0.1551s</b><br>Tm: 0.2485s | Tb: 0.2934s<br>Línea: L12-13 | Falla: 90<br>Estado: Descoordinado<extra></extra>",
          "<b>R56-R57</b><br>Índice Plot: 68<br>MT: -0.1499 | <b>Δt: -0.1499s</b><br>Tm: 0.2546s | Tb: 0.3047s<br>Línea: L19-20 | Falla: 90<br>Estado: Descoordinado<extra></extra>",
          "<b>R62-R63</b><br>Índice Plot: 69<br>MT: -0.1476 | <b>Δt: -0.1476s</b><br>Tm: 0.2739s | Tb: 0.3263s<br>Línea: L6-26 | Falla: 90<br>Estado: Descoordinado<extra></extra>",
          "<b>R21-R20</b><br>Índice Plot: 70<br>MT: -0.1418 | <b>Δt: -0.1418s</b><br>Tm: 0.2142s | Tb: 0.2724s<br>Línea: L21-22 | Falla: 10<br>Estado: Descoordinado<extra></extra>",
          "<b>R45-R71</b><br>Índice Plot: 71<br>MT: -0.1409 | <b>Δt: -0.1409s</b><br>Tm: 0.2540s | Tb: 0.3131s<br>Línea: L8-9 | Falla: 90<br>Estado: Descoordinado<extra></extra>",
          "<b>R12-R72</b><br>Índice Plot: 72<br>MT: -0.1392 | <b>Δt: -0.1392s</b><br>Tm: 0.2458s | Tb: 0.3066s<br>Línea: L12-13 | Falla: 10<br>Estado: Descoordinado<extra></extra>",
          "<b>R39-R40</b><br>Índice Plot: 73<br>MT: -0.1270 | <b>Δt: -0.1270s</b><br>Tm: 0.2924s | Tb: 0.3654s<br>Línea: L2-3 | Falla: 90<br>Estado: Descoordinado<extra></extra>",
          "<b>R39-R59</b><br>Índice Plot: 74<br>MT: -0.1269 | <b>Δt: -0.1269s</b><br>Tm: 0.2924s | Tb: 0.3655s<br>Línea: L2-3 | Falla: 90<br>Estado: Descoordinado<extra></extra>",
          "<b>R9-R71</b><br>Índice Plot: 75<br>MT: -0.1215 | <b>Δt: -0.1215s</b><br>Tm: 0.2566s | Tb: 0.3351s<br>Línea: L9-10 | Falla: 10<br>Estado: Descoordinado<extra></extra>",
          "<b>R33-R7</b><br>Índice Plot: 76<br>MT: -0.1204 | <b>Δt: -0.1204s</b><br>Tm: 0.2354s | Tb: 0.3150s<br>Línea: L8-21 | Falla: 10<br>Estado: Descoordinado<extra></extra>",
          "<b>R70-R58</b><br>Índice Plot: 77<br>MT: -0.1204 | <b>Δt: -0.1204s</b><br>Tm: 0.2375s | Tb: 0.3171s<br>Línea: L8-21 | Falla: 90<br>Estado: Descoordinado<extra></extra>",
          "<b>R33-R45</b><br>Índice Plot: 78<br>MT: -0.1202 | <b>Δt: -0.1202s</b><br>Tm: 0.2354s | Tb: 0.3152s<br>Línea: L8-21 | Falla: 10<br>Estado: Descoordinado<extra></extra>",
          "<b>R21-R33</b><br>Índice Plot: 79<br>MT: -0.1116 | <b>Δt: -0.1116s</b><br>Tm: 0.2142s | Tb: 0.3026s<br>Línea: L21-22 | Falla: 10<br>Estado: Descoordinado<extra></extra>",
          "<b>R35-R11</b><br>Índice Plot: 80<br>MT: -0.1032 | <b>Δt: -0.1032s</b><br>Tm: 0.2460s | Tb: 0.3428s<br>Línea: L12-22 | Falla: 90<br>Estado: Descoordinado<extra></extra>",
          "<b>R59-R60</b><br>Índice Plot: 81<br>MT: -0.0837 | <b>Δt: -0.0837s</b><br>Tm: 0.2482s | Tb: 0.3645s<br>Línea: L3-23 | Falla: 90<br>Estado: Descoordinado<extra></extra>",
          "<b>R22-R40</b><br>Índice Plot: 82<br>MT: -0.0768 | <b>Δt: -0.0768s</b><br>Tm: 0.2513s | Tb: 0.3745s<br>Línea: L3-23 | Falla: 10<br>Estado: Descoordinado<extra></extra>",
          "<b>R3-R59</b><br>Índice Plot: 83<br>MT: -0.0603 | <b>Δt: -0.0603s</b><br>Tm: 0.2554s | Tb: 0.3951s<br>Línea: L3-4 | Falla: 10<br>Estado: Descoordinado<extra></extra>",
          "<b>R35-R49</b><br>Índice Plot: 84<br>MT: -0.0582 | <b>Δt: -0.0582s</b><br>Tm: 0.2460s | Tb: 0.3878s<br>Línea: L12-22 | Falla: 90<br>Estado: Descoordinado<extra></extra>",
          "<b>R18-R39</b><br>Índice Plot: 85<br>MT: -0.0265 | <b>Δt: -0.0265s</b><br>Tm: 0.2453s | Tb: 0.4188s<br>Línea: L2-19 | Falla: 10<br>Estado: Descoordinado<extra></extra>",
          "<b>R38-R39</b><br>Índice Plot: 86<br>MT: -0.0000 | <b>Δt: -0.0000s</b><br>Tm: 0.1989s | Tb: 0.3989s<br>Línea: L1-2 | Falla: 90<br>Estado: Descoordinado<extra></extra>",
          "<b>R29-R28</b><br>Índice Plot: 87<br>MT: -0.0000 | <b>Δt: -0.0000s</b><br>Tm: 0.0849s | Tb: 0.2849s<br>Línea: L29-30 | Falla: 10<br>Estado: Descoordinado<extra></extra>",
          "<b>R38-R55</b><br>Índice Plot: 88<br>MT: -0.0000 | <b>Δt: -0.0000s</b><br>Tm: 0.1989s | Tb: 0.3989s<br>Línea: L1-2 | Falla: 90<br>Estado: Descoordinado<extra></extra>",
          "<b>R6-R62</b><br>Índice Plot: 89<br>MT: 0.0000 | <b>Δt: 0.0000s</b><br>Tm: 0.0904s | Tb: 0.2904s<br>Línea: L6-7 | Falla: 10<br>Estado: Coordinado<extra></extra>",
          "<b>R44-R70</b><br>Índice Plot: 90<br>MT: 0.0000 | <b>Δt: 0.0042s</b><br>Tm: 0.0989s | Tb: 0.3031s<br>Línea: L7-8 | Falla: 90<br>Estado: Coordinado<extra></extra>",
          "<b>R44-R45</b><br>Índice Plot: 91<br>MT: 0.0000 | <b>Δt: 0.0000s</b><br>Tm: 0.0989s | Tb: 0.2989s<br>Línea: L7-8 | Falla: 90<br>Estado: Coordinado<extra></extra>",
          "<b>R8-R7</b><br>Índice Plot: 92<br>MT: 0.0000 | <b>Δt: 0.0000s</b><br>Tm: 0.1073s | Tb: 0.3073s<br>Línea: L8-9 | Falla: 10<br>Estado: Coordinado<extra></extra>",
          "<b>R8-R70</b><br>Índice Plot: 93<br>MT: 0.0000 | <b>Δt: 0.0000s</b><br>Tm: 0.1073s | Tb: 0.3073s<br>Línea: L8-9 | Falla: 10<br>Estado: Coordinado<extra></extra>",
          "<b>R6-R5</b><br>Índice Plot: 94<br>MT: 0.0000 | <b>Δt: 0.0000s</b><br>Tm: 0.0904s | Tb: 0.2904s<br>Línea: L6-7 | Falla: 10<br>Estado: Coordinado<extra></extra>",
          "<b>R2-R55</b><br>Índice Plot: 95<br>MT: 0.0000 | <b>Δt: 0.0080s</b><br>Tm: 0.2409s | Tb: 0.4489s<br>Línea: L2-3 | Falla: 10<br>Estado: Coordinado<extra></extra>",
          "<b>R14-R13</b><br>Índice Plot: 96<br>MT: 0.0000 | <b>Δt: 0.0000s</b><br>Tm: 0.0883s | Tb: 0.2883s<br>Línea: L14-15 | Falla: 10<br>Estado: Coordinado<extra></extra>",
          "<b>R29-R37</b><br>Índice Plot: 97<br>MT: 0.0000 | <b>Δt: 0.0013s</b><br>Tm: 0.0849s | Tb: 0.2862s<br>Línea: L29-30 | Falla: 10<br>Estado: Coordinado<extra></extra>",
          "<b>R46-R47</b><br>Índice Plot: 98<br>MT: 0.0000 | <b>Δt: 0.0000s</b><br>Tm: 0.1143s | Tb: 0.3143s<br>Línea: L9-10 | Falla: 90<br>Estado: Coordinado<extra></extra>",
          "<b>R52-R53</b><br>Índice Plot: 99<br>MT: 0.0000 | <b>Δt: 0.0000s</b><br>Tm: 0.1151s | Tb: 0.3151s<br>Línea: L15-16 | Falla: 90<br>Estado: Coordinado<extra></extra>",
          "<b>R67-R68</b><br>Índice Plot: 100<br>MT: 0.0000 | <b>Δt: 0.0000s</b><br>Tm: 0.0812s | Tb: 0.2812s<br>Línea: L30-31 | Falla: 90<br>Estado: Coordinado<extra></extra>"
         ],
         "type": "bar",
         "x": [
          1,
          2,
          3,
          4,
          5,
          6,
          7,
          8,
          9,
          10,
          11,
          12,
          13,
          14,
          15,
          16,
          17,
          18,
          19,
          20,
          21,
          22,
          23,
          24,
          25,
          26,
          27,
          28,
          29,
          30,
          31,
          32,
          33,
          34,
          35,
          36,
          37,
          38,
          39,
          40,
          41,
          42,
          43,
          44,
          45,
          46,
          47,
          48,
          49,
          50,
          51,
          52,
          53,
          54,
          55,
          56,
          57,
          58,
          59,
          60,
          61,
          62,
          63,
          64,
          65,
          66,
          67,
          68,
          69,
          70,
          71,
          72,
          73,
          74,
          75,
          76,
          77,
          78,
          79,
          80,
          81,
          82,
          83,
          84,
          85,
          86,
          87,
          88,
          89,
          90,
          91,
          92,
          93,
          94,
          95,
          96,
          97,
          98,
          99,
          100
         ],
         "y": [
          -0.3842,
          -0.38370000000000004,
          -0.3731,
          -0.3665,
          -0.3521,
          -0.3447,
          -0.3266,
          -0.2978,
          -0.2777,
          -0.2707,
          -0.24320000000000003,
          -0.2364,
          -0.21080000000000004,
          -0.20729999999999998,
          -0.1992,
          -0.199,
          -0.19890000000000002,
          -0.19840000000000002,
          -0.19679999999999997,
          -0.19619999999999999,
          -0.1946,
          -0.19440000000000002,
          -0.194,
          -0.19370000000000004,
          -0.19319999999999998,
          -0.193,
          -0.193,
          -0.1896,
          -0.18920000000000003,
          -0.18880000000000002,
          -0.1876,
          -0.18750000000000006,
          -0.1875,
          -0.18680000000000002,
          -0.18569999999999998,
          -0.1856,
          -0.1854,
          -0.18510000000000004,
          -0.18430000000000002,
          -0.18410000000000004,
          -0.1839,
          -0.18310000000000004,
          -0.18230000000000002,
          -0.18159999999999998,
          -0.1814,
          -0.17760000000000004,
          -0.17710000000000004,
          -0.17710000000000004,
          -0.1764,
          -0.17610000000000003,
          -0.1753,
          -0.17360000000000003,
          -0.17320000000000002,
          -0.17240000000000005,
          -0.17010000000000003,
          -0.17,
          -0.1697,
          -0.16910000000000003,
          -0.16850000000000004,
          -0.16690000000000005,
          -0.1663,
          -0.16400000000000003,
          -0.16310000000000002,
          -0.1612,
          -0.16110000000000002,
          -0.15560000000000002,
          -0.15510000000000002,
          -0.14989999999999998,
          -0.1476,
          -0.14180000000000004,
          -0.14090000000000003,
          -0.13920000000000002,
          -0.127,
          -0.1269,
          -0.1215,
          -0.12040000000000001,
          -0.12040000000000001,
          -0.12020000000000003,
          -0.11160000000000003,
          -0.10320000000000001,
          -0.08370000000000002,
          -0.07680000000000003,
          -0.06030000000000002,
          -0.05820000000000003,
          -0.026499999999999996,
          -2.7755575615628914e-17,
          -2.7755575615628914e-17,
          -2.7755575615628914e-17,
          0,
          0,
          0,
          0,
          0,
          0,
          0,
          0,
          0,
          0,
          0,
          0
         ]
        }
       ],
       "layout": {
        "bargap": 0.1,
        "height": 900,
        "margin": {
         "b": 100,
         "l": 60,
         "r": 30,
         "t": 100
        },
        "shapes": [
         {
          "line": {
           "color": "black",
           "dash": "dash",
           "width": 1.5
          },
          "type": "line",
          "x0": 0,
          "x1": 1,
          "xref": "x domain",
          "y0": 0,
          "y1": 0,
          "yref": "y"
         }
        ],
        "template": {
         "data": {
          "bar": [
           {
            "error_x": {
             "color": "#2a3f5f"
            },
            "error_y": {
             "color": "#2a3f5f"
            },
            "marker": {
             "line": {
              "color": "white",
              "width": 0.5
             },
             "pattern": {
              "fillmode": "overlay",
              "size": 10,
              "solidity": 0.2
             }
            },
            "type": "bar"
           }
          ],
          "barpolar": [
           {
            "marker": {
             "line": {
              "color": "white",
              "width": 0.5
             },
             "pattern": {
              "fillmode": "overlay",
              "size": 10,
              "solidity": 0.2
             }
            },
            "type": "barpolar"
           }
          ],
          "carpet": [
           {
            "aaxis": {
             "endlinecolor": "#2a3f5f",
             "gridcolor": "#C8D4E3",
             "linecolor": "#C8D4E3",
             "minorgridcolor": "#C8D4E3",
             "startlinecolor": "#2a3f5f"
            },
            "baxis": {
             "endlinecolor": "#2a3f5f",
             "gridcolor": "#C8D4E3",
             "linecolor": "#C8D4E3",
             "minorgridcolor": "#C8D4E3",
             "startlinecolor": "#2a3f5f"
            },
            "type": "carpet"
           }
          ],
          "choropleth": [
           {
            "colorbar": {
             "outlinewidth": 0,
             "ticks": ""
            },
            "type": "choropleth"
           }
          ],
          "contour": [
           {
            "colorbar": {
             "outlinewidth": 0,
             "ticks": ""
            },
            "colorscale": [
             [
              0,
              "#0d0887"
             ],
             [
              0.1111111111111111,
              "#46039f"
             ],
             [
              0.2222222222222222,
              "#7201a8"
             ],
             [
              0.3333333333333333,
              "#9c179e"
             ],
             [
              0.4444444444444444,
              "#bd3786"
             ],
             [
              0.5555555555555556,
              "#d8576b"
             ],
             [
              0.6666666666666666,
              "#ed7953"
             ],
             [
              0.7777777777777778,
              "#fb9f3a"
             ],
             [
              0.8888888888888888,
              "#fdca26"
             ],
             [
              1,
              "#f0f921"
             ]
            ],
            "type": "contour"
           }
          ],
          "contourcarpet": [
           {
            "colorbar": {
             "outlinewidth": 0,
             "ticks": ""
            },
            "type": "contourcarpet"
           }
          ],
          "heatmap": [
           {
            "colorbar": {
             "outlinewidth": 0,
             "ticks": ""
            },
            "colorscale": [
             [
              0,
              "#0d0887"
             ],
             [
              0.1111111111111111,
              "#46039f"
             ],
             [
              0.2222222222222222,
              "#7201a8"
             ],
             [
              0.3333333333333333,
              "#9c179e"
             ],
             [
              0.4444444444444444,
              "#bd3786"
             ],
             [
              0.5555555555555556,
              "#d8576b"
             ],
             [
              0.6666666666666666,
              "#ed7953"
             ],
             [
              0.7777777777777778,
              "#fb9f3a"
             ],
             [
              0.8888888888888888,
              "#fdca26"
             ],
             [
              1,
              "#f0f921"
             ]
            ],
            "type": "heatmap"
           }
          ],
          "heatmapgl": [
           {
            "colorbar": {
             "outlinewidth": 0,
             "ticks": ""
            },
            "colorscale": [
             [
              0,
              "#0d0887"
             ],
             [
              0.1111111111111111,
              "#46039f"
             ],
             [
              0.2222222222222222,
              "#7201a8"
             ],
             [
              0.3333333333333333,
              "#9c179e"
             ],
             [
              0.4444444444444444,
              "#bd3786"
             ],
             [
              0.5555555555555556,
              "#d8576b"
             ],
             [
              0.6666666666666666,
              "#ed7953"
             ],
             [
              0.7777777777777778,
              "#fb9f3a"
             ],
             [
              0.8888888888888888,
              "#fdca26"
             ],
             [
              1,
              "#f0f921"
             ]
            ],
            "type": "heatmapgl"
           }
          ],
          "histogram": [
           {
            "marker": {
             "pattern": {
              "fillmode": "overlay",
              "size": 10,
              "solidity": 0.2
             }
            },
            "type": "histogram"
           }
          ],
          "histogram2d": [
           {
            "colorbar": {
             "outlinewidth": 0,
             "ticks": ""
            },
            "colorscale": [
             [
              0,
              "#0d0887"
             ],
             [
              0.1111111111111111,
              "#46039f"
             ],
             [
              0.2222222222222222,
              "#7201a8"
             ],
             [
              0.3333333333333333,
              "#9c179e"
             ],
             [
              0.4444444444444444,
              "#bd3786"
             ],
             [
              0.5555555555555556,
              "#d8576b"
             ],
             [
              0.6666666666666666,
              "#ed7953"
             ],
             [
              0.7777777777777778,
              "#fb9f3a"
             ],
             [
              0.8888888888888888,
              "#fdca26"
             ],
             [
              1,
              "#f0f921"
             ]
            ],
            "type": "histogram2d"
           }
          ],
          "histogram2dcontour": [
           {
            "colorbar": {
             "outlinewidth": 0,
             "ticks": ""
            },
            "colorscale": [
             [
              0,
              "#0d0887"
             ],
             [
              0.1111111111111111,
              "#46039f"
             ],
             [
              0.2222222222222222,
              "#7201a8"
             ],
             [
              0.3333333333333333,
              "#9c179e"
             ],
             [
              0.4444444444444444,
              "#bd3786"
             ],
             [
              0.5555555555555556,
              "#d8576b"
             ],
             [
              0.6666666666666666,
              "#ed7953"
             ],
             [
              0.7777777777777778,
              "#fb9f3a"
             ],
             [
              0.8888888888888888,
              "#fdca26"
             ],
             [
              1,
              "#f0f921"
             ]
            ],
            "type": "histogram2dcontour"
           }
          ],
          "mesh3d": [
           {
            "colorbar": {
             "outlinewidth": 0,
             "ticks": ""
            },
            "type": "mesh3d"
           }
          ],
          "parcoords": [
           {
            "line": {
             "colorbar": {
              "outlinewidth": 0,
              "ticks": ""
             }
            },
            "type": "parcoords"
           }
          ],
          "pie": [
           {
            "automargin": true,
            "type": "pie"
           }
          ],
          "scatter": [
           {
            "fillpattern": {
             "fillmode": "overlay",
             "size": 10,
             "solidity": 0.2
            },
            "type": "scatter"
           }
          ],
          "scatter3d": [
           {
            "line": {
             "colorbar": {
              "outlinewidth": 0,
              "ticks": ""
             }
            },
            "marker": {
             "colorbar": {
              "outlinewidth": 0,
              "ticks": ""
             }
            },
            "type": "scatter3d"
           }
          ],
          "scattercarpet": [
           {
            "marker": {
             "colorbar": {
              "outlinewidth": 0,
              "ticks": ""
             }
            },
            "type": "scattercarpet"
           }
          ],
          "scattergeo": [
           {
            "marker": {
             "colorbar": {
              "outlinewidth": 0,
              "ticks": ""
             }
            },
            "type": "scattergeo"
           }
          ],
          "scattergl": [
           {
            "marker": {
             "colorbar": {
              "outlinewidth": 0,
              "ticks": ""
             }
            },
            "type": "scattergl"
           }
          ],
          "scattermapbox": [
           {
            "marker": {
             "colorbar": {
              "outlinewidth": 0,
              "ticks": ""
             }
            },
            "type": "scattermapbox"
           }
          ],
          "scatterpolar": [
           {
            "marker": {
             "colorbar": {
              "outlinewidth": 0,
              "ticks": ""
             }
            },
            "type": "scatterpolar"
           }
          ],
          "scatterpolargl": [
           {
            "marker": {
             "colorbar": {
              "outlinewidth": 0,
              "ticks": ""
             }
            },
            "type": "scatterpolargl"
           }
          ],
          "scatterternary": [
           {
            "marker": {
             "colorbar": {
              "outlinewidth": 0,
              "ticks": ""
             }
            },
            "type": "scatterternary"
           }
          ],
          "surface": [
           {
            "colorbar": {
             "outlinewidth": 0,
             "ticks": ""
            },
            "colorscale": [
             [
              0,
              "#0d0887"
             ],
             [
              0.1111111111111111,
              "#46039f"
             ],
             [
              0.2222222222222222,
              "#7201a8"
             ],
             [
              0.3333333333333333,
              "#9c179e"
             ],
             [
              0.4444444444444444,
              "#bd3786"
             ],
             [
              0.5555555555555556,
              "#d8576b"
             ],
             [
              0.6666666666666666,
              "#ed7953"
             ],
             [
              0.7777777777777778,
              "#fb9f3a"
             ],
             [
              0.8888888888888888,
              "#fdca26"
             ],
             [
              1,
              "#f0f921"
             ]
            ],
            "type": "surface"
           }
          ],
          "table": [
           {
            "cells": {
             "fill": {
              "color": "#EBF0F8"
             },
             "line": {
              "color": "white"
             }
            },
            "header": {
             "fill": {
              "color": "#C8D4E3"
             },
             "line": {
              "color": "white"
             }
            },
            "type": "table"
           }
          ]
         },
         "layout": {
          "annotationdefaults": {
           "arrowcolor": "#2a3f5f",
           "arrowhead": 0,
           "arrowwidth": 1
          },
          "autotypenumbers": "strict",
          "coloraxis": {
           "colorbar": {
            "outlinewidth": 0,
            "ticks": ""
           }
          },
          "colorscale": {
           "diverging": [
            [
             0,
             "#8e0152"
            ],
            [
             0.1,
             "#c51b7d"
            ],
            [
             0.2,
             "#de77ae"
            ],
            [
             0.3,
             "#f1b6da"
            ],
            [
             0.4,
             "#fde0ef"
            ],
            [
             0.5,
             "#f7f7f7"
            ],
            [
             0.6,
             "#e6f5d0"
            ],
            [
             0.7,
             "#b8e186"
            ],
            [
             0.8,
             "#7fbc41"
            ],
            [
             0.9,
             "#4d9221"
            ],
            [
             1,
             "#276419"
            ]
           ],
           "sequential": [
            [
             0,
             "#0d0887"
            ],
            [
             0.1111111111111111,
             "#46039f"
            ],
            [
             0.2222222222222222,
             "#7201a8"
            ],
            [
             0.3333333333333333,
             "#9c179e"
            ],
            [
             0.4444444444444444,
             "#bd3786"
            ],
            [
             0.5555555555555556,
             "#d8576b"
            ],
            [
             0.6666666666666666,
             "#ed7953"
            ],
            [
             0.7777777777777778,
             "#fb9f3a"
            ],
            [
             0.8888888888888888,
             "#fdca26"
            ],
            [
             1,
             "#f0f921"
            ]
           ],
           "sequentialminus": [
            [
             0,
             "#0d0887"
            ],
            [
             0.1111111111111111,
             "#46039f"
            ],
            [
             0.2222222222222222,
             "#7201a8"
            ],
            [
             0.3333333333333333,
             "#9c179e"
            ],
            [
             0.4444444444444444,
             "#bd3786"
            ],
            [
             0.5555555555555556,
             "#d8576b"
            ],
            [
             0.6666666666666666,
             "#ed7953"
            ],
            [
             0.7777777777777778,
             "#fb9f3a"
            ],
            [
             0.8888888888888888,
             "#fdca26"
            ],
            [
             1,
             "#f0f921"
            ]
           ]
          },
          "colorway": [
           "#636efa",
           "#EF553B",
           "#00cc96",
           "#ab63fa",
           "#FFA15A",
           "#19d3f3",
           "#FF6692",
           "#B6E880",
           "#FF97FF",
           "#FECB52"
          ],
          "font": {
           "color": "#2a3f5f"
          },
          "geo": {
           "bgcolor": "white",
           "lakecolor": "white",
           "landcolor": "white",
           "showlakes": true,
           "showland": true,
           "subunitcolor": "#C8D4E3"
          },
          "hoverlabel": {
           "align": "left"
          },
          "hovermode": "closest",
          "mapbox": {
           "style": "light"
          },
          "paper_bgcolor": "white",
          "plot_bgcolor": "white",
          "polar": {
           "angularaxis": {
            "gridcolor": "#EBF0F8",
            "linecolor": "#EBF0F8",
            "ticks": ""
           },
           "bgcolor": "white",
           "radialaxis": {
            "gridcolor": "#EBF0F8",
            "linecolor": "#EBF0F8",
            "ticks": ""
           }
          },
          "scene": {
           "xaxis": {
            "backgroundcolor": "white",
            "gridcolor": "#DFE8F3",
            "gridwidth": 2,
            "linecolor": "#EBF0F8",
            "showbackground": true,
            "ticks": "",
            "zerolinecolor": "#EBF0F8"
           },
           "yaxis": {
            "backgroundcolor": "white",
            "gridcolor": "#DFE8F3",
            "gridwidth": 2,
            "linecolor": "#EBF0F8",
            "showbackground": true,
            "ticks": "",
            "zerolinecolor": "#EBF0F8"
           },
           "zaxis": {
            "backgroundcolor": "white",
            "gridcolor": "#DFE8F3",
            "gridwidth": 2,
            "linecolor": "#EBF0F8",
            "showbackground": true,
            "ticks": "",
            "zerolinecolor": "#EBF0F8"
           }
          },
          "shapedefaults": {
           "line": {
            "color": "#2a3f5f"
           }
          },
          "ternary": {
           "aaxis": {
            "gridcolor": "#DFE8F3",
            "linecolor": "#A2B1C6",
            "ticks": ""
           },
           "baxis": {
            "gridcolor": "#DFE8F3",
            "linecolor": "#A2B1C6",
            "ticks": ""
           },
           "bgcolor": "white",
           "caxis": {
            "gridcolor": "#DFE8F3",
            "linecolor": "#A2B1C6",
            "ticks": ""
           }
          },
          "title": {
           "x": 0.05
          },
          "xaxis": {
           "automargin": true,
           "gridcolor": "#EBF0F8",
           "linecolor": "#EBF0F8",
           "ticks": "",
           "title": {
            "standoff": 15
           },
           "zerolinecolor": "#EBF0F8",
           "zerolinewidth": 2
          },
          "yaxis": {
           "automargin": true,
           "gridcolor": "#EBF0F8",
           "linecolor": "#EBF0F8",
           "ticks": "",
           "title": {
            "standoff": 15
           },
           "zerolinecolor": "#EBF0F8",
           "zerolinewidth": 2
          }
         }
        },
        "title": {
         "text": "Índice de Descoordinación (MT) - Escenario: scenario_1<br><sup>TMT = -15.8543 | Pares = 100</sup>"
        },
        "xaxis": {
         "tickmode": "auto",
         "title": {
          "text": "Índice del Par de Relés (Ordenado por MT Ascendente)"
         }
        },
        "yaxis": {
         "gridcolor": "lightgrey",
         "title": {
          "text": "Índice MT"
         },
         "zerolinecolor": "black",
         "zerolinewidth": 1.5
        }
       }
      }
     },
     "metadata": {},
     "output_type": "display_data"
    },
    {
     "name": "stdout",
     "output_type": "stream",
     "text": [
      "    Displaying delta_bar plot...\n"
     ]
    },
    {
     "data": {
      "application/vnd.plotly.v1+json": {
       "config": {
        "plotlyServerURL": "https://plot.ly"
       },
       "data": [
        {
         "hoverinfo": "text",
         "marker": {
          "color": [
           "red",
           "red",
           "red",
           "red",
           "red",
           "red",
           "red",
           "red",
           "red",
           "red",
           "red",
           "red",
           "red",
           "red",
           "red",
           "red",
           "red",
           "red",
           "red",
           "red",
           "red",
           "red",
           "red",
           "red",
           "red",
           "red",
           "red",
           "red",
           "red",
           "red",
           "red",
           "red",
           "red",
           "red",
           "red",
           "red",
           "red",
           "red",
           "red",
           "red",
           "red",
           "red",
           "red",
           "red",
           "red",
           "red",
           "red",
           "red",
           "red",
           "red",
           "red",
           "red",
           "red",
           "red",
           "red",
           "red",
           "red",
           "red",
           "red",
           "red",
           "red",
           "red",
           "red",
           "red",
           "red",
           "red",
           "red",
           "red",
           "red",
           "red",
           "red",
           "red",
           "red",
           "red",
           "red",
           "red",
           "red",
           "red",
           "red",
           "red",
           "red",
           "red",
           "red",
           "red",
           "red",
           "red",
           "red",
           "red",
           "green",
           "green",
           "green",
           "green",
           "green",
           "green",
           "green",
           "green",
           "green",
           "green",
           "green",
           "green"
          ]
         },
         "name": "Δt (Tb - Tm - CTI)",
         "text": [
          "<b>R66-R67</b><br>Índice Plot: 1<br>MT: -0.3842 | <b>Δt: -0.3842s</b><br>Tm: 0.2699s | Tb: 0.0857s<br>Línea: L29-30 | Falla: 90<br>Estado: Descoordinado<extra></extra>",
          "<b>R7-R6</b><br>Índice Plot: 2<br>MT: -0.3837 | <b>Δt: -0.3837s</b><br>Tm: 0.2806s | Tb: 0.0969s<br>Línea: L7-8 | Falla: 10<br>Estado: Descoordinado<extra></extra>",
          "<b>R15-R14</b><br>Índice Plot: 3<br>MT: -0.3731 | <b>Δt: -0.3731s</b><br>Tm: 0.2676s | Tb: 0.0945s<br>Línea: L15-16 | Falla: 10<br>Estado: Descoordinado<extra></extra>",
          "<b>R43-R44</b><br>Índice Plot: 4<br>MT: -0.3665 | <b>Δt: -0.3665s</b><br>Tm: 0.2732s | Tb: 0.1067s<br>Línea: L6-7 | Falla: 90<br>Estado: Descoordinado<extra></extra>",
          "<b>R30-R29</b><br>Índice Plot: 5<br>MT: -0.3521 | <b>Δt: -0.3521s</b><br>Tm: 0.2420s | Tb: 0.0899s<br>Línea: L30-31 | Falla: 10<br>Estado: Descoordinado<extra></extra>",
          "<b>R51-R52</b><br>Índice Plot: 6<br>MT: -0.3447 | <b>Δt: -0.3447s</b><br>Tm: 0.2664s | Tb: 0.1217s<br>Línea: L14-15 | Falla: 90<br>Estado: Descoordinado<extra></extra>",
          "<b>R9-R8</b><br>Índice Plot: 7<br>MT: -0.3266 | <b>Δt: -0.3266s</b><br>Tm: 0.2566s | Tb: 0.1300s<br>Línea: L9-10 | Falla: 10<br>Estado: Descoordinado<extra></extra>",
          "<b>R45-R46</b><br>Índice Plot: 8<br>MT: -0.2978 | <b>Δt: -0.2978s</b><br>Tm: 0.2540s | Tb: 0.1562s<br>Línea: L8-9 | Falla: 90<br>Estado: Descoordinado<extra></extra>",
          "<b>R34-R8</b><br>Índice Plot: 9<br>MT: -0.2777 | <b>Δt: -0.2777s</b><br>Tm: 0.2112s | Tb: 0.1335s<br>Línea: L9-15 | Falla: 10<br>Estado: Descoordinado<extra></extra>",
          "<b>R71-R14</b><br>Índice Plot: 10<br>MT: -0.2707 | <b>Δt: -0.2707s</b><br>Tm: 0.1676s | Tb: 0.0969s<br>Línea: L9-15 | Falla: 90<br>Estado: Descoordinado<extra></extra>",
          "<b>R71-R52</b><br>Índice Plot: 11<br>MT: -0.2432 | <b>Δt: -0.2432s</b><br>Tm: 0.1676s | Tb: 0.1244s<br>Línea: L9-15 | Falla: 90<br>Estado: Descoordinado<extra></extra>",
          "<b>R34-R46</b><br>Índice Plot: 12<br>MT: -0.2364 | <b>Δt: -0.2364s</b><br>Tm: 0.2112s | Tb: 0.1748s<br>Línea: L9-15 | Falla: 10<br>Estado: Descoordinado<extra></extra>",
          "<b>R31-R30</b><br>Índice Plot: 13<br>MT: -0.2108 | <b>Δt: -0.2108s</b><br>Tm: 0.2701s | Tb: 0.2593s<br>Línea: L31-32 | Falla: 10<br>Estado: Descoordinado<extra></extra>",
          "<b>R68-R69</b><br>Índice Plot: 14<br>MT: -0.2073 | <b>Δt: -0.2073s</b><br>Tm: 0.2758s | Tb: 0.2685s<br>Línea: L31-32 | Falla: 90<br>Estado: Descoordinado<extra></extra>",
          "<b>R73-R32</b><br>Índice Plot: 15<br>MT: -0.1992 | <b>Δt: -0.1992s</b><br>Tm: 0.2818s | Tb: 0.2826s<br>Línea: L18-33 | Falla: 90<br>Estado: Descoordinado<extra></extra>",
          "<b>R74-R66</b><br>Índice Plot: 16<br>MT: -0.1990 | <b>Δt: -0.1990s</b><br>Tm: 0.2838s | Tb: 0.2848s<br>Línea: L25-29 | Falla: 90<br>Estado: Descoordinado<extra></extra>",
          "<b>R74-R28</b><br>Índice Plot: 17<br>MT: -0.1989 | <b>Δt: -0.1989s</b><br>Tm: 0.2838s | Tb: 0.2849s<br>Línea: L25-29 | Falla: 90<br>Estado: Descoordinado<extra></extra>",
          "<b>R32-R31</b><br>Índice Plot: 18<br>MT: -0.1984 | <b>Δt: -0.1984s</b><br>Tm: 0.2743s | Tb: 0.2759s<br>Línea: L32-33 | Falla: 10<br>Estado: Descoordinado<extra></extra>",
          "<b>R40-R41</b><br>Índice Plot: 19<br>MT: -0.1968 | <b>Δt: -0.1968s</b><br>Tm: 0.3142s | Tb: 0.3174s<br>Línea: L3-4 | Falla: 90<br>Estado: Descoordinado<extra></extra>",
          "<b>R61-R74</b><br>Índice Plot: 20<br>MT: -0.1962 | <b>Δt: -0.1962s</b><br>Tm: 0.2964s | Tb: 0.3002s<br>Línea: L24-25 | Falla: 90<br>Estado: Descoordinado<extra></extra>",
          "<b>R54-R73</b><br>Índice Plot: 21<br>MT: -0.1946 | <b>Δt: -0.1946s</b><br>Tm: 0.2863s | Tb: 0.2917s<br>Línea: L17-18 | Falla: 90<br>Estado: Descoordinado<extra></extra>",
          "<b>R63-R64</b><br>Índice Plot: 22<br>MT: -0.1944 | <b>Δt: -0.1944s</b><br>Tm: 0.3113s | Tb: 0.3169s<br>Línea: L26-27 | Falla: 90<br>Estado: Descoordinado<extra></extra>",
          "<b>R10-R9</b><br>Índice Plot: 23<br>MT: -0.1940 | <b>Δt: -0.1940s</b><br>Tm: 0.2905s | Tb: 0.2965s<br>Línea: L10-11 | Falla: 10<br>Estado: Descoordinado<extra></extra>",
          "<b>R47-R48</b><br>Índice Plot: 24<br>MT: -0.1937 | <b>Δt: -0.1937s</b><br>Tm: 0.3008s | Tb: 0.3071s<br>Línea: L10-11 | Falla: 90<br>Estado: Descoordinado<extra></extra>",
          "<b>R55-R56</b><br>Índice Plot: 25<br>MT: -0.1932 | <b>Δt: -0.1932s</b><br>Tm: 0.3338s | Tb: 0.3406s<br>Línea: L2-19 | Falla: 90<br>Estado: Descoordinado<extra></extra>",
          "<b>R48-R49</b><br>Índice Plot: 26<br>MT: -0.1930 | <b>Δt: -0.1930s</b><br>Tm: 0.2941s | Tb: 0.3011s<br>Línea: L11-12 | Falla: 90<br>Estado: Descoordinado<extra></extra>",
          "<b>R48-R72</b><br>Índice Plot: 27<br>MT: -0.1930 | <b>Δt: -0.1930s</b><br>Tm: 0.2941s | Tb: 0.3011s<br>Línea: L11-12 | Falla: 90<br>Estado: Descoordinado<extra></extra>",
          "<b>R50-R51</b><br>Índice Plot: 28<br>MT: -0.1896 | <b>Δt: -0.1896s</b><br>Tm: 0.2724s | Tb: 0.2828s<br>Línea: L13-14 | Falla: 90<br>Estado: Descoordinado<extra></extra>",
          "<b>R36-R17</b><br>Índice Plot: 29<br>MT: -0.1892 | <b>Δt: -0.1892s</b><br>Tm: 0.2786s | Tb: 0.2894s<br>Línea: L18-33 | Falla: 10<br>Estado: Descoordinado<extra></extra>",
          "<b>R26-R25</b><br>Índice Plot: 30<br>MT: -0.1888 | <b>Δt: -0.1888s</b><br>Tm: 0.2681s | Tb: 0.2793s<br>Línea: L26-27 | Falla: 10<br>Estado: Descoordinado<extra></extra>",
          "<b>R57-R58</b><br>Índice Plot: 31<br>MT: -0.1876 | <b>Δt: -0.1876s</b><br>Tm: 0.2858s | Tb: 0.2982s<br>Línea: L20-21 | Falla: 90<br>Estado: Descoordinado<extra></extra>",
          "<b>R41-R42</b><br>Índice Plot: 32<br>MT: -0.1875 | <b>Δt: -0.1875s</b><br>Tm: 0.2931s | Tb: 0.3056s<br>Línea: L4-5 | Falla: 90<br>Estado: Descoordinado<extra></extra>",
          "<b>R57-R33</b><br>Índice Plot: 33<br>MT: -0.1875 | <b>Δt: -0.1875s</b><br>Tm: 0.2858s | Tb: 0.2983s<br>Línea: L20-21 | Falla: 90<br>Estado: Descoordinado<extra></extra>",
          "<b>R37-R24</b><br>Índice Plot: 34<br>MT: -0.1868 | <b>Δt: -0.1868s</b><br>Tm: 0.2711s | Tb: 0.2843s<br>Línea: L25-29 | Falla: 10<br>Estado: Descoordinado<extra></extra>",
          "<b>R53-R54</b><br>Índice Plot: 35<br>MT: -0.1857 | <b>Δt: -0.1857s</b><br>Tm: 0.2859s | Tb: 0.3002s<br>Línea: L16-17 | Falla: 90<br>Estado: Descoordinado<extra></extra>",
          "<b>R13-R12</b><br>Índice Plot: 36<br>MT: -0.1856 | <b>Δt: -0.1856s</b><br>Tm: 0.2698s | Tb: 0.2842s<br>Línea: L13-14 | Falla: 10<br>Estado: Descoordinado<extra></extra>",
          "<b>R17-R16</b><br>Índice Plot: 37<br>MT: -0.1854 | <b>Δt: -0.1854s</b><br>Tm: 0.2776s | Tb: 0.2922s<br>Línea: L17-18 | Falla: 10<br>Estado: Descoordinado<extra></extra>",
          "<b>R4-R3</b><br>Índice Plot: 38<br>MT: -0.1851 | <b>Δt: -0.1851s</b><br>Tm: 0.2605s | Tb: 0.2754s<br>Línea: L4-5 | Falla: 10<br>Estado: Descoordinado<extra></extra>",
          "<b>R15-R34</b><br>Índice Plot: 39<br>MT: -0.1843 | <b>Δt: -0.1843s</b><br>Tm: 0.2676s | Tb: 0.2833s<br>Línea: L15-16 | Falla: 10<br>Estado: Descoordinado<extra></extra>",
          "<b>R65-R37</b><br>Índice Plot: 40<br>MT: -0.1841 | <b>Δt: -0.1841s</b><br>Tm: 0.2715s | Tb: 0.2874s<br>Línea: L28-29 | Falla: 90<br>Estado: Descoordinado<extra></extra>",
          "<b>R65-R66</b><br>Índice Plot: 41<br>MT: -0.1839 | <b>Δt: -0.1839s</b><br>Tm: 0.2715s | Tb: 0.2876s<br>Línea: L28-29 | Falla: 90<br>Estado: Descoordinado<extra></extra>",
          "<b>R51-R34</b><br>Índice Plot: 42<br>MT: -0.1831 | <b>Δt: -0.1831s</b><br>Tm: 0.2664s | Tb: 0.2833s<br>Línea: L14-15 | Falla: 90<br>Estado: Descoordinado<extra></extra>",
          "<b>R3-R2</b><br>Índice Plot: 43<br>MT: -0.1823 | <b>Δt: -0.1823s</b><br>Tm: 0.2554s | Tb: 0.2731s<br>Línea: L3-4 | Falla: 10<br>Estado: Descoordinado<extra></extra>",
          "<b>R25-R5</b><br>Índice Plot: 44<br>MT: -0.1816 | <b>Δt: -0.1816s</b><br>Tm: 0.2712s | Tb: 0.2896s<br>Línea: L6-26 | Falla: 10<br>Estado: Descoordinado<extra></extra>",
          "<b>R25-R43</b><br>Índice Plot: 45<br>MT: -0.1814 | <b>Δt: -0.1814s</b><br>Tm: 0.2712s | Tb: 0.2898s<br>Línea: L6-26 | Falla: 10<br>Estado: Descoordinado<extra></extra>",
          "<b>R64-R65</b><br>Índice Plot: 46<br>MT: -0.1776 | <b>Δt: -0.1776s</b><br>Tm: 0.2766s | Tb: 0.2990s<br>Línea: L27-28 | Falla: 90<br>Estado: Descoordinado<extra></extra>",
          "<b>R22-R2</b><br>Índice Plot: 47<br>MT: -0.1771 | <b>Δt: -0.1771s</b><br>Tm: 0.2513s | Tb: 0.2742s<br>Línea: L3-23 | Falla: 10<br>Estado: Descoordinado<extra></extra>",
          "<b>R42-R43</b><br>Índice Plot: 48<br>MT: -0.1771 | <b>Δt: -0.1771s</b><br>Tm: 0.2696s | Tb: 0.2925s<br>Línea: L5-6 | Falla: 90<br>Estado: Descoordinado<extra></extra>",
          "<b>R16-R15</b><br>Índice Plot: 49<br>MT: -0.1764 | <b>Δt: -0.1764s</b><br>Tm: 0.2627s | Tb: 0.2863s<br>Línea: L16-17 | Falla: 10<br>Estado: Descoordinado<extra></extra>",
          "<b>R69-R36</b><br>Índice Plot: 50<br>MT: -0.1761 | <b>Δt: -0.1761s</b><br>Tm: 0.2626s | Tb: 0.2865s<br>Línea: L32-33 | Falla: 90<br>Estado: Descoordinado<extra></extra>",
          "<b>R42-R62</b><br>Índice Plot: 51<br>MT: -0.1753 | <b>Δt: -0.1753s</b><br>Tm: 0.2696s | Tb: 0.2943s<br>Línea: L5-6 | Falla: 90<br>Estado: Descoordinado<extra></extra>",
          "<b>R5-R4</b><br>Índice Plot: 52<br>MT: -0.1736 | <b>Δt: -0.1736s</b><br>Tm: 0.2545s | Tb: 0.2809s<br>Línea: L5-6 | Falla: 10<br>Estado: Descoordinado<extra></extra>",
          "<b>R27-R26</b><br>Índice Plot: 53<br>MT: -0.1732 | <b>Δt: -0.1732s</b><br>Tm: 0.2547s | Tb: 0.2815s<br>Línea: L27-28 | Falla: 10<br>Estado: Descoordinado<extra></extra>",
          "<b>R24-R23</b><br>Índice Plot: 54<br>MT: -0.1724 | <b>Δt: -0.1724s</b><br>Tm: 0.2569s | Tb: 0.2845s<br>Línea: L24-25 | Falla: 10<br>Estado: Descoordinado<extra></extra>",
          "<b>R28-R27</b><br>Índice Plot: 55<br>MT: -0.1701 | <b>Δt: -0.1701s</b><br>Tm: 0.2606s | Tb: 0.2905s<br>Línea: L28-29 | Falla: 10<br>Estado: Descoordinado<extra></extra>",
          "<b>R18-R1</b><br>Índice Plot: 56<br>MT: -0.1700 | <b>Δt: -0.1700s</b><br>Tm: 0.2453s | Tb: 0.2753s<br>Línea: L2-19 | Falla: 10<br>Estado: Descoordinado<extra></extra>",
          "<b>R12-R11</b><br>Índice Plot: 57<br>MT: -0.1697 | <b>Δt: -0.1697s</b><br>Tm: 0.2458s | Tb: 0.2761s<br>Línea: L12-13 | Falla: 10<br>Estado: Descoordinado<extra></extra>",
          "<b>R58-R35</b><br>Índice Plot: 58<br>MT: -0.1691 | <b>Δt: -0.1691s</b><br>Tm: 0.2675s | Tb: 0.2984s<br>Línea: L21-22 | Falla: 90<br>Estado: Descoordinado<extra></extra>",
          "<b>R60-R61</b><br>Índice Plot: 59<br>MT: -0.1685 | <b>Δt: -0.1685s</b><br>Tm: 0.2978s | Tb: 0.3293s<br>Línea: L23-24 | Falla: 90<br>Estado: Descoordinado<extra></extra>",
          "<b>R72-R21</b><br>Índice Plot: 60<br>MT: -0.1669 | <b>Δt: -0.1669s</b><br>Tm: 0.2489s | Tb: 0.2820s<br>Línea: L12-22 | Falla: 10<br>Estado: Descoordinado<extra></extra>",
          "<b>R20-R19</b><br>Índice Plot: 61<br>MT: -0.1663 | <b>Δt: -0.1663s</b><br>Tm: 0.2546s | Tb: 0.2883s<br>Línea: L20-21 | Falla: 10<br>Estado: Descoordinado<extra></extra>",
          "<b>R2-R1</b><br>Índice Plot: 62<br>MT: -0.1640 | <b>Δt: -0.1640s</b><br>Tm: 0.2409s | Tb: 0.2769s<br>Línea: L2-3 | Falla: 10<br>Estado: Descoordinado<extra></extra>",
          "<b>R23-R22</b><br>Índice Plot: 63<br>MT: -0.1631 | <b>Δt: -0.1631s</b><br>Tm: 0.2445s | Tb: 0.2814s<br>Línea: L23-24 | Falla: 10<br>Estado: Descoordinado<extra></extra>",
          "<b>R11-R10</b><br>Índice Plot: 64<br>MT: -0.1612 | <b>Δt: -0.1612s</b><br>Tm: 0.2587s | Tb: 0.2975s<br>Línea: L11-12 | Falla: 10<br>Estado: Descoordinado<extra></extra>",
          "<b>R70-R20</b><br>Índice Plot: 65<br>MT: -0.1611 | <b>Δt: -0.1611s</b><br>Tm: 0.2375s | Tb: 0.2764s<br>Línea: L8-21 | Falla: 90<br>Estado: Descoordinado<extra></extra>",
          "<b>R19-R18</b><br>Índice Plot: 66<br>MT: -0.1556 | <b>Δt: -0.1556s</b><br>Tm: 0.2243s | Tb: 0.2687s<br>Línea: L19-20 | Falla: 10<br>Estado: Descoordinado<extra></extra>",
          "<b>R49-R50</b><br>Índice Plot: 67<br>MT: -0.1551 | <b>Δt: -0.1551s</b><br>Tm: 0.2485s | Tb: 0.2934s<br>Línea: L12-13 | Falla: 90<br>Estado: Descoordinado<extra></extra>",
          "<b>R56-R57</b><br>Índice Plot: 68<br>MT: -0.1499 | <b>Δt: -0.1499s</b><br>Tm: 0.2546s | Tb: 0.3047s<br>Línea: L19-20 | Falla: 90<br>Estado: Descoordinado<extra></extra>",
          "<b>R62-R63</b><br>Índice Plot: 69<br>MT: -0.1476 | <b>Δt: -0.1476s</b><br>Tm: 0.2739s | Tb: 0.3263s<br>Línea: L6-26 | Falla: 90<br>Estado: Descoordinado<extra></extra>",
          "<b>R21-R20</b><br>Índice Plot: 70<br>MT: -0.1418 | <b>Δt: -0.1418s</b><br>Tm: 0.2142s | Tb: 0.2724s<br>Línea: L21-22 | Falla: 10<br>Estado: Descoordinado<extra></extra>",
          "<b>R45-R71</b><br>Índice Plot: 71<br>MT: -0.1409 | <b>Δt: -0.1409s</b><br>Tm: 0.2540s | Tb: 0.3131s<br>Línea: L8-9 | Falla: 90<br>Estado: Descoordinado<extra></extra>",
          "<b>R12-R72</b><br>Índice Plot: 72<br>MT: -0.1392 | <b>Δt: -0.1392s</b><br>Tm: 0.2458s | Tb: 0.3066s<br>Línea: L12-13 | Falla: 10<br>Estado: Descoordinado<extra></extra>",
          "<b>R39-R40</b><br>Índice Plot: 73<br>MT: -0.1270 | <b>Δt: -0.1270s</b><br>Tm: 0.2924s | Tb: 0.3654s<br>Línea: L2-3 | Falla: 90<br>Estado: Descoordinado<extra></extra>",
          "<b>R39-R59</b><br>Índice Plot: 74<br>MT: -0.1269 | <b>Δt: -0.1269s</b><br>Tm: 0.2924s | Tb: 0.3655s<br>Línea: L2-3 | Falla: 90<br>Estado: Descoordinado<extra></extra>",
          "<b>R9-R71</b><br>Índice Plot: 75<br>MT: -0.1215 | <b>Δt: -0.1215s</b><br>Tm: 0.2566s | Tb: 0.3351s<br>Línea: L9-10 | Falla: 10<br>Estado: Descoordinado<extra></extra>",
          "<b>R33-R7</b><br>Índice Plot: 76<br>MT: -0.1204 | <b>Δt: -0.1204s</b><br>Tm: 0.2354s | Tb: 0.3150s<br>Línea: L8-21 | Falla: 10<br>Estado: Descoordinado<extra></extra>",
          "<b>R70-R58</b><br>Índice Plot: 77<br>MT: -0.1204 | <b>Δt: -0.1204s</b><br>Tm: 0.2375s | Tb: 0.3171s<br>Línea: L8-21 | Falla: 90<br>Estado: Descoordinado<extra></extra>",
          "<b>R33-R45</b><br>Índice Plot: 78<br>MT: -0.1202 | <b>Δt: -0.1202s</b><br>Tm: 0.2354s | Tb: 0.3152s<br>Línea: L8-21 | Falla: 10<br>Estado: Descoordinado<extra></extra>",
          "<b>R21-R33</b><br>Índice Plot: 79<br>MT: -0.1116 | <b>Δt: -0.1116s</b><br>Tm: 0.2142s | Tb: 0.3026s<br>Línea: L21-22 | Falla: 10<br>Estado: Descoordinado<extra></extra>",
          "<b>R35-R11</b><br>Índice Plot: 80<br>MT: -0.1032 | <b>Δt: -0.1032s</b><br>Tm: 0.2460s | Tb: 0.3428s<br>Línea: L12-22 | Falla: 90<br>Estado: Descoordinado<extra></extra>",
          "<b>R59-R60</b><br>Índice Plot: 81<br>MT: -0.0837 | <b>Δt: -0.0837s</b><br>Tm: 0.2482s | Tb: 0.3645s<br>Línea: L3-23 | Falla: 90<br>Estado: Descoordinado<extra></extra>",
          "<b>R22-R40</b><br>Índice Plot: 82<br>MT: -0.0768 | <b>Δt: -0.0768s</b><br>Tm: 0.2513s | Tb: 0.3745s<br>Línea: L3-23 | Falla: 10<br>Estado: Descoordinado<extra></extra>",
          "<b>R3-R59</b><br>Índice Plot: 83<br>MT: -0.0603 | <b>Δt: -0.0603s</b><br>Tm: 0.2554s | Tb: 0.3951s<br>Línea: L3-4 | Falla: 10<br>Estado: Descoordinado<extra></extra>",
          "<b>R35-R49</b><br>Índice Plot: 84<br>MT: -0.0582 | <b>Δt: -0.0582s</b><br>Tm: 0.2460s | Tb: 0.3878s<br>Línea: L12-22 | Falla: 90<br>Estado: Descoordinado<extra></extra>",
          "<b>R18-R39</b><br>Índice Plot: 85<br>MT: -0.0265 | <b>Δt: -0.0265s</b><br>Tm: 0.2453s | Tb: 0.4188s<br>Línea: L2-19 | Falla: 10<br>Estado: Descoordinado<extra></extra>",
          "<b>R38-R39</b><br>Índice Plot: 86<br>MT: -0.0000 | <b>Δt: -0.0000s</b><br>Tm: 0.1989s | Tb: 0.3989s<br>Línea: L1-2 | Falla: 90<br>Estado: Descoordinado<extra></extra>",
          "<b>R29-R28</b><br>Índice Plot: 87<br>MT: -0.0000 | <b>Δt: -0.0000s</b><br>Tm: 0.0849s | Tb: 0.2849s<br>Línea: L29-30 | Falla: 10<br>Estado: Descoordinado<extra></extra>",
          "<b>R38-R55</b><br>Índice Plot: 88<br>MT: -0.0000 | <b>Δt: -0.0000s</b><br>Tm: 0.1989s | Tb: 0.3989s<br>Línea: L1-2 | Falla: 90<br>Estado: Descoordinado<extra></extra>",
          "<b>R6-R62</b><br>Índice Plot: 89<br>MT: 0.0000 | <b>Δt: 0.0000s</b><br>Tm: 0.0904s | Tb: 0.2904s<br>Línea: L6-7 | Falla: 10<br>Estado: Coordinado<extra></extra>",
          "<b>R44-R70</b><br>Índice Plot: 90<br>MT: 0.0000 | <b>Δt: 0.0042s</b><br>Tm: 0.0989s | Tb: 0.3031s<br>Línea: L7-8 | Falla: 90<br>Estado: Coordinado<extra></extra>",
          "<b>R44-R45</b><br>Índice Plot: 91<br>MT: 0.0000 | <b>Δt: 0.0000s</b><br>Tm: 0.0989s | Tb: 0.2989s<br>Línea: L7-8 | Falla: 90<br>Estado: Coordinado<extra></extra>",
          "<b>R8-R7</b><br>Índice Plot: 92<br>MT: 0.0000 | <b>Δt: 0.0000s</b><br>Tm: 0.1073s | Tb: 0.3073s<br>Línea: L8-9 | Falla: 10<br>Estado: Coordinado<extra></extra>",
          "<b>R8-R70</b><br>Índice Plot: 93<br>MT: 0.0000 | <b>Δt: 0.0000s</b><br>Tm: 0.1073s | Tb: 0.3073s<br>Línea: L8-9 | Falla: 10<br>Estado: Coordinado<extra></extra>",
          "<b>R6-R5</b><br>Índice Plot: 94<br>MT: 0.0000 | <b>Δt: 0.0000s</b><br>Tm: 0.0904s | Tb: 0.2904s<br>Línea: L6-7 | Falla: 10<br>Estado: Coordinado<extra></extra>",
          "<b>R2-R55</b><br>Índice Plot: 95<br>MT: 0.0000 | <b>Δt: 0.0080s</b><br>Tm: 0.2409s | Tb: 0.4489s<br>Línea: L2-3 | Falla: 10<br>Estado: Coordinado<extra></extra>",
          "<b>R14-R13</b><br>Índice Plot: 96<br>MT: 0.0000 | <b>Δt: 0.0000s</b><br>Tm: 0.0883s | Tb: 0.2883s<br>Línea: L14-15 | Falla: 10<br>Estado: Coordinado<extra></extra>",
          "<b>R29-R37</b><br>Índice Plot: 97<br>MT: 0.0000 | <b>Δt: 0.0013s</b><br>Tm: 0.0849s | Tb: 0.2862s<br>Línea: L29-30 | Falla: 10<br>Estado: Coordinado<extra></extra>",
          "<b>R46-R47</b><br>Índice Plot: 98<br>MT: 0.0000 | <b>Δt: 0.0000s</b><br>Tm: 0.1143s | Tb: 0.3143s<br>Línea: L9-10 | Falla: 90<br>Estado: Coordinado<extra></extra>",
          "<b>R52-R53</b><br>Índice Plot: 99<br>MT: 0.0000 | <b>Δt: 0.0000s</b><br>Tm: 0.1151s | Tb: 0.3151s<br>Línea: L15-16 | Falla: 90<br>Estado: Coordinado<extra></extra>",
          "<b>R67-R68</b><br>Índice Plot: 100<br>MT: 0.0000 | <b>Δt: 0.0000s</b><br>Tm: 0.0812s | Tb: 0.2812s<br>Línea: L30-31 | Falla: 90<br>Estado: Coordinado<extra></extra>"
         ],
         "type": "bar",
         "x": [
          1,
          2,
          3,
          4,
          5,
          6,
          7,
          8,
          9,
          10,
          11,
          12,
          13,
          14,
          15,
          16,
          17,
          18,
          19,
          20,
          21,
          22,
          23,
          24,
          25,
          26,
          27,
          28,
          29,
          30,
          31,
          32,
          33,
          34,
          35,
          36,
          37,
          38,
          39,
          40,
          41,
          42,
          43,
          44,
          45,
          46,
          47,
          48,
          49,
          50,
          51,
          52,
          53,
          54,
          55,
          56,
          57,
          58,
          59,
          60,
          61,
          62,
          63,
          64,
          65,
          66,
          67,
          68,
          69,
          70,
          71,
          72,
          73,
          74,
          75,
          76,
          77,
          78,
          79,
          80,
          81,
          82,
          83,
          84,
          85,
          86,
          87,
          88,
          89,
          90,
          91,
          92,
          93,
          94,
          95,
          96,
          97,
          98,
          99,
          100
         ],
         "y": [
          -0.3842,
          -0.38370000000000004,
          -0.3731,
          -0.3665,
          -0.3521,
          -0.3447,
          -0.3266,
          -0.2978,
          -0.2777,
          -0.2707,
          -0.24320000000000003,
          -0.2364,
          -0.21080000000000004,
          -0.20729999999999998,
          -0.1992,
          -0.199,
          -0.19890000000000002,
          -0.19840000000000002,
          -0.19679999999999997,
          -0.19619999999999999,
          -0.1946,
          -0.19440000000000002,
          -0.194,
          -0.19370000000000004,
          -0.19319999999999998,
          -0.193,
          -0.193,
          -0.1896,
          -0.18920000000000003,
          -0.18880000000000002,
          -0.1876,
          -0.18750000000000006,
          -0.1875,
          -0.18680000000000002,
          -0.18569999999999998,
          -0.1856,
          -0.1854,
          -0.18510000000000004,
          -0.18430000000000002,
          -0.18410000000000004,
          -0.1839,
          -0.18310000000000004,
          -0.18230000000000002,
          -0.18159999999999998,
          -0.1814,
          -0.17760000000000004,
          -0.17710000000000004,
          -0.17710000000000004,
          -0.1764,
          -0.17610000000000003,
          -0.1753,
          -0.17360000000000003,
          -0.17320000000000002,
          -0.17240000000000005,
          -0.17010000000000003,
          -0.17,
          -0.1697,
          -0.16910000000000003,
          -0.16850000000000004,
          -0.16690000000000005,
          -0.1663,
          -0.16400000000000003,
          -0.16310000000000002,
          -0.1612,
          -0.16110000000000002,
          -0.15560000000000002,
          -0.15510000000000002,
          -0.14989999999999998,
          -0.1476,
          -0.14180000000000004,
          -0.14090000000000003,
          -0.13920000000000002,
          -0.127,
          -0.1269,
          -0.1215,
          -0.12040000000000001,
          -0.12040000000000001,
          -0.12020000000000003,
          -0.11160000000000003,
          -0.10320000000000001,
          -0.08370000000000002,
          -0.07680000000000003,
          -0.06030000000000002,
          -0.05820000000000003,
          -0.026499999999999996,
          -2.7755575615628914e-17,
          -2.7755575615628914e-17,
          -2.7755575615628914e-17,
          0,
          0.0041999999999999815,
          0,
          0,
          0,
          0,
          0.008000000000000007,
          0,
          0.0012999999999999956,
          0,
          0,
          0
         ]
        }
       ],
       "layout": {
        "annotations": [
         {
          "showarrow": false,
          "text": "Límite CTI (Δt=0)",
          "x": 1,
          "xanchor": "right",
          "xref": "x domain",
          "y": 0,
          "yanchor": "top",
          "yref": "y"
         }
        ],
        "bargap": 0.1,
        "height": 900,
        "margin": {
         "b": 100,
         "l": 60,
         "r": 30,
         "t": 100
        },
        "shapes": [
         {
          "line": {
           "color": "black",
           "dash": "dash",
           "width": 1.5
          },
          "type": "line",
          "x0": 0,
          "x1": 1,
          "xref": "x domain",
          "y0": 0,
          "y1": 0,
          "yref": "y"
         }
        ],
        "template": {
         "data": {
          "bar": [
           {
            "error_x": {
             "color": "#2a3f5f"
            },
            "error_y": {
             "color": "#2a3f5f"
            },
            "marker": {
             "line": {
              "color": "white",
              "width": 0.5
             },
             "pattern": {
              "fillmode": "overlay",
              "size": 10,
              "solidity": 0.2
             }
            },
            "type": "bar"
           }
          ],
          "barpolar": [
           {
            "marker": {
             "line": {
              "color": "white",
              "width": 0.5
             },
             "pattern": {
              "fillmode": "overlay",
              "size": 10,
              "solidity": 0.2
             }
            },
            "type": "barpolar"
           }
          ],
          "carpet": [
           {
            "aaxis": {
             "endlinecolor": "#2a3f5f",
             "gridcolor": "#C8D4E3",
             "linecolor": "#C8D4E3",
             "minorgridcolor": "#C8D4E3",
             "startlinecolor": "#2a3f5f"
            },
            "baxis": {
             "endlinecolor": "#2a3f5f",
             "gridcolor": "#C8D4E3",
             "linecolor": "#C8D4E3",
             "minorgridcolor": "#C8D4E3",
             "startlinecolor": "#2a3f5f"
            },
            "type": "carpet"
           }
          ],
          "choropleth": [
           {
            "colorbar": {
             "outlinewidth": 0,
             "ticks": ""
            },
            "type": "choropleth"
           }
          ],
          "contour": [
           {
            "colorbar": {
             "outlinewidth": 0,
             "ticks": ""
            },
            "colorscale": [
             [
              0,
              "#0d0887"
             ],
             [
              0.1111111111111111,
              "#46039f"
             ],
             [
              0.2222222222222222,
              "#7201a8"
             ],
             [
              0.3333333333333333,
              "#9c179e"
             ],
             [
              0.4444444444444444,
              "#bd3786"
             ],
             [
              0.5555555555555556,
              "#d8576b"
             ],
             [
              0.6666666666666666,
              "#ed7953"
             ],
             [
              0.7777777777777778,
              "#fb9f3a"
             ],
             [
              0.8888888888888888,
              "#fdca26"
             ],
             [
              1,
              "#f0f921"
             ]
            ],
            "type": "contour"
           }
          ],
          "contourcarpet": [
           {
            "colorbar": {
             "outlinewidth": 0,
             "ticks": ""
            },
            "type": "contourcarpet"
           }
          ],
          "heatmap": [
           {
            "colorbar": {
             "outlinewidth": 0,
             "ticks": ""
            },
            "colorscale": [
             [
              0,
              "#0d0887"
             ],
             [
              0.1111111111111111,
              "#46039f"
             ],
             [
              0.2222222222222222,
              "#7201a8"
             ],
             [
              0.3333333333333333,
              "#9c179e"
             ],
             [
              0.4444444444444444,
              "#bd3786"
             ],
             [
              0.5555555555555556,
              "#d8576b"
             ],
             [
              0.6666666666666666,
              "#ed7953"
             ],
             [
              0.7777777777777778,
              "#fb9f3a"
             ],
             [
              0.8888888888888888,
              "#fdca26"
             ],
             [
              1,
              "#f0f921"
             ]
            ],
            "type": "heatmap"
           }
          ],
          "heatmapgl": [
           {
            "colorbar": {
             "outlinewidth": 0,
             "ticks": ""
            },
            "colorscale": [
             [
              0,
              "#0d0887"
             ],
             [
              0.1111111111111111,
              "#46039f"
             ],
             [
              0.2222222222222222,
              "#7201a8"
             ],
             [
              0.3333333333333333,
              "#9c179e"
             ],
             [
              0.4444444444444444,
              "#bd3786"
             ],
             [
              0.5555555555555556,
              "#d8576b"
             ],
             [
              0.6666666666666666,
              "#ed7953"
             ],
             [
              0.7777777777777778,
              "#fb9f3a"
             ],
             [
              0.8888888888888888,
              "#fdca26"
             ],
             [
              1,
              "#f0f921"
             ]
            ],
            "type": "heatmapgl"
           }
          ],
          "histogram": [
           {
            "marker": {
             "pattern": {
              "fillmode": "overlay",
              "size": 10,
              "solidity": 0.2
             }
            },
            "type": "histogram"
           }
          ],
          "histogram2d": [
           {
            "colorbar": {
             "outlinewidth": 0,
             "ticks": ""
            },
            "colorscale": [
             [
              0,
              "#0d0887"
             ],
             [
              0.1111111111111111,
              "#46039f"
             ],
             [
              0.2222222222222222,
              "#7201a8"
             ],
             [
              0.3333333333333333,
              "#9c179e"
             ],
             [
              0.4444444444444444,
              "#bd3786"
             ],
             [
              0.5555555555555556,
              "#d8576b"
             ],
             [
              0.6666666666666666,
              "#ed7953"
             ],
             [
              0.7777777777777778,
              "#fb9f3a"
             ],
             [
              0.8888888888888888,
              "#fdca26"
             ],
             [
              1,
              "#f0f921"
             ]
            ],
            "type": "histogram2d"
           }
          ],
          "histogram2dcontour": [
           {
            "colorbar": {
             "outlinewidth": 0,
             "ticks": ""
            },
            "colorscale": [
             [
              0,
              "#0d0887"
             ],
             [
              0.1111111111111111,
              "#46039f"
             ],
             [
              0.2222222222222222,
              "#7201a8"
             ],
             [
              0.3333333333333333,
              "#9c179e"
             ],
             [
              0.4444444444444444,
              "#bd3786"
             ],
             [
              0.5555555555555556,
              "#d8576b"
             ],
             [
              0.6666666666666666,
              "#ed7953"
             ],
             [
              0.7777777777777778,
              "#fb9f3a"
             ],
             [
              0.8888888888888888,
              "#fdca26"
             ],
             [
              1,
              "#f0f921"
             ]
            ],
            "type": "histogram2dcontour"
           }
          ],
          "mesh3d": [
           {
            "colorbar": {
             "outlinewidth": 0,
             "ticks": ""
            },
            "type": "mesh3d"
           }
          ],
          "parcoords": [
           {
            "line": {
             "colorbar": {
              "outlinewidth": 0,
              "ticks": ""
             }
            },
            "type": "parcoords"
           }
          ],
          "pie": [
           {
            "automargin": true,
            "type": "pie"
           }
          ],
          "scatter": [
           {
            "fillpattern": {
             "fillmode": "overlay",
             "size": 10,
             "solidity": 0.2
            },
            "type": "scatter"
           }
          ],
          "scatter3d": [
           {
            "line": {
             "colorbar": {
              "outlinewidth": 0,
              "ticks": ""
             }
            },
            "marker": {
             "colorbar": {
              "outlinewidth": 0,
              "ticks": ""
             }
            },
            "type": "scatter3d"
           }
          ],
          "scattercarpet": [
           {
            "marker": {
             "colorbar": {
              "outlinewidth": 0,
              "ticks": ""
             }
            },
            "type": "scattercarpet"
           }
          ],
          "scattergeo": [
           {
            "marker": {
             "colorbar": {
              "outlinewidth": 0,
              "ticks": ""
             }
            },
            "type": "scattergeo"
           }
          ],
          "scattergl": [
           {
            "marker": {
             "colorbar": {
              "outlinewidth": 0,
              "ticks": ""
             }
            },
            "type": "scattergl"
           }
          ],
          "scattermapbox": [
           {
            "marker": {
             "colorbar": {
              "outlinewidth": 0,
              "ticks": ""
             }
            },
            "type": "scattermapbox"
           }
          ],
          "scatterpolar": [
           {
            "marker": {
             "colorbar": {
              "outlinewidth": 0,
              "ticks": ""
             }
            },
            "type": "scatterpolar"
           }
          ],
          "scatterpolargl": [
           {
            "marker": {
             "colorbar": {
              "outlinewidth": 0,
              "ticks": ""
             }
            },
            "type": "scatterpolargl"
           }
          ],
          "scatterternary": [
           {
            "marker": {
             "colorbar": {
              "outlinewidth": 0,
              "ticks": ""
             }
            },
            "type": "scatterternary"
           }
          ],
          "surface": [
           {
            "colorbar": {
             "outlinewidth": 0,
             "ticks": ""
            },
            "colorscale": [
             [
              0,
              "#0d0887"
             ],
             [
              0.1111111111111111,
              "#46039f"
             ],
             [
              0.2222222222222222,
              "#7201a8"
             ],
             [
              0.3333333333333333,
              "#9c179e"
             ],
             [
              0.4444444444444444,
              "#bd3786"
             ],
             [
              0.5555555555555556,
              "#d8576b"
             ],
             [
              0.6666666666666666,
              "#ed7953"
             ],
             [
              0.7777777777777778,
              "#fb9f3a"
             ],
             [
              0.8888888888888888,
              "#fdca26"
             ],
             [
              1,
              "#f0f921"
             ]
            ],
            "type": "surface"
           }
          ],
          "table": [
           {
            "cells": {
             "fill": {
              "color": "#EBF0F8"
             },
             "line": {
              "color": "white"
             }
            },
            "header": {
             "fill": {
              "color": "#C8D4E3"
             },
             "line": {
              "color": "white"
             }
            },
            "type": "table"
           }
          ]
         },
         "layout": {
          "annotationdefaults": {
           "arrowcolor": "#2a3f5f",
           "arrowhead": 0,
           "arrowwidth": 1
          },
          "autotypenumbers": "strict",
          "coloraxis": {
           "colorbar": {
            "outlinewidth": 0,
            "ticks": ""
           }
          },
          "colorscale": {
           "diverging": [
            [
             0,
             "#8e0152"
            ],
            [
             0.1,
             "#c51b7d"
            ],
            [
             0.2,
             "#de77ae"
            ],
            [
             0.3,
             "#f1b6da"
            ],
            [
             0.4,
             "#fde0ef"
            ],
            [
             0.5,
             "#f7f7f7"
            ],
            [
             0.6,
             "#e6f5d0"
            ],
            [
             0.7,
             "#b8e186"
            ],
            [
             0.8,
             "#7fbc41"
            ],
            [
             0.9,
             "#4d9221"
            ],
            [
             1,
             "#276419"
            ]
           ],
           "sequential": [
            [
             0,
             "#0d0887"
            ],
            [
             0.1111111111111111,
             "#46039f"
            ],
            [
             0.2222222222222222,
             "#7201a8"
            ],
            [
             0.3333333333333333,
             "#9c179e"
            ],
            [
             0.4444444444444444,
             "#bd3786"
            ],
            [
             0.5555555555555556,
             "#d8576b"
            ],
            [
             0.6666666666666666,
             "#ed7953"
            ],
            [
             0.7777777777777778,
             "#fb9f3a"
            ],
            [
             0.8888888888888888,
             "#fdca26"
            ],
            [
             1,
             "#f0f921"
            ]
           ],
           "sequentialminus": [
            [
             0,
             "#0d0887"
            ],
            [
             0.1111111111111111,
             "#46039f"
            ],
            [
             0.2222222222222222,
             "#7201a8"
            ],
            [
             0.3333333333333333,
             "#9c179e"
            ],
            [
             0.4444444444444444,
             "#bd3786"
            ],
            [
             0.5555555555555556,
             "#d8576b"
            ],
            [
             0.6666666666666666,
             "#ed7953"
            ],
            [
             0.7777777777777778,
             "#fb9f3a"
            ],
            [
             0.8888888888888888,
             "#fdca26"
            ],
            [
             1,
             "#f0f921"
            ]
           ]
          },
          "colorway": [
           "#636efa",
           "#EF553B",
           "#00cc96",
           "#ab63fa",
           "#FFA15A",
           "#19d3f3",
           "#FF6692",
           "#B6E880",
           "#FF97FF",
           "#FECB52"
          ],
          "font": {
           "color": "#2a3f5f"
          },
          "geo": {
           "bgcolor": "white",
           "lakecolor": "white",
           "landcolor": "white",
           "showlakes": true,
           "showland": true,
           "subunitcolor": "#C8D4E3"
          },
          "hoverlabel": {
           "align": "left"
          },
          "hovermode": "closest",
          "mapbox": {
           "style": "light"
          },
          "paper_bgcolor": "white",
          "plot_bgcolor": "white",
          "polar": {
           "angularaxis": {
            "gridcolor": "#EBF0F8",
            "linecolor": "#EBF0F8",
            "ticks": ""
           },
           "bgcolor": "white",
           "radialaxis": {
            "gridcolor": "#EBF0F8",
            "linecolor": "#EBF0F8",
            "ticks": ""
           }
          },
          "scene": {
           "xaxis": {
            "backgroundcolor": "white",
            "gridcolor": "#DFE8F3",
            "gridwidth": 2,
            "linecolor": "#EBF0F8",
            "showbackground": true,
            "ticks": "",
            "zerolinecolor": "#EBF0F8"
           },
           "yaxis": {
            "backgroundcolor": "white",
            "gridcolor": "#DFE8F3",
            "gridwidth": 2,
            "linecolor": "#EBF0F8",
            "showbackground": true,
            "ticks": "",
            "zerolinecolor": "#EBF0F8"
           },
           "zaxis": {
            "backgroundcolor": "white",
            "gridcolor": "#DFE8F3",
            "gridwidth": 2,
            "linecolor": "#EBF0F8",
            "showbackground": true,
            "ticks": "",
            "zerolinecolor": "#EBF0F8"
           }
          },
          "shapedefaults": {
           "line": {
            "color": "#2a3f5f"
           }
          },
          "ternary": {
           "aaxis": {
            "gridcolor": "#DFE8F3",
            "linecolor": "#A2B1C6",
            "ticks": ""
           },
           "baxis": {
            "gridcolor": "#DFE8F3",
            "linecolor": "#A2B1C6",
            "ticks": ""
           },
           "bgcolor": "white",
           "caxis": {
            "gridcolor": "#DFE8F3",
            "linecolor": "#A2B1C6",
            "ticks": ""
           }
          },
          "title": {
           "x": 0.05
          },
          "xaxis": {
           "automargin": true,
           "gridcolor": "#EBF0F8",
           "linecolor": "#EBF0F8",
           "ticks": "",
           "title": {
            "standoff": 15
           },
           "zerolinecolor": "#EBF0F8",
           "zerolinewidth": 2
          },
          "yaxis": {
           "automargin": true,
           "gridcolor": "#EBF0F8",
           "linecolor": "#EBF0F8",
           "ticks": "",
           "title": {
            "standoff": 15
           },
           "zerolinecolor": "#EBF0F8",
           "zerolinewidth": 2
          }
         }
        },
        "title": {
         "text": "Diferencia de Tiempo (Δt = Tb - Tm - CTI) - Escenario: scenario_1<br><sup>CTI = 0.2s</sup>"
        },
        "xaxis": {
         "tickmode": "auto",
         "title": {
          "text": "Índice del Par de Relés (Ordenado por MT Ascendente)"
         }
        },
        "yaxis": {
         "gridcolor": "lightgrey",
         "title": {
          "text": "Δt [s]"
         },
         "zerolinecolor": "black",
         "zerolinewidth": 1.5
        }
       }
      }
     },
     "metadata": {},
     "output_type": "display_data"
    },
    {
     "name": "stdout",
     "output_type": "stream",
     "text": [
      "    Displaying delta_scatter plot...\n"
     ]
    },
    {
     "data": {
      "application/vnd.plotly.v1+json": {
       "config": {
        "plotlyServerURL": "https://plot.ly"
       },
       "data": [
        {
         "customdata": [
          [
           "R66-R67",
           -0.3842,
           0.2699,
           0.0857,
           "L29-30",
           "90",
           "Descoordinado"
          ],
          [
           "R7-R6",
           -0.38370000000000004,
           0.2806,
           0.0969,
           "L7-8",
           "10",
           "Descoordinado"
          ],
          [
           "R15-R14",
           -0.3731,
           0.2676,
           0.0945,
           "L15-16",
           "10",
           "Descoordinado"
          ],
          [
           "R43-R44",
           -0.3665,
           0.2732,
           0.1067,
           "L6-7",
           "90",
           "Descoordinado"
          ],
          [
           "R30-R29",
           -0.3521,
           0.242,
           0.0899,
           "L30-31",
           "10",
           "Descoordinado"
          ],
          [
           "R51-R52",
           -0.3447,
           0.2664,
           0.1217,
           "L14-15",
           "90",
           "Descoordinado"
          ],
          [
           "R9-R8",
           -0.3266,
           0.2566,
           0.13,
           "L9-10",
           "10",
           "Descoordinado"
          ],
          [
           "R45-R46",
           -0.2978,
           0.254,
           0.1562,
           "L8-9",
           "90",
           "Descoordinado"
          ],
          [
           "R34-R8",
           -0.2777,
           0.2112,
           0.1335,
           "L9-15",
           "10",
           "Descoordinado"
          ],
          [
           "R71-R14",
           -0.2707,
           0.1676,
           0.0969,
           "L9-15",
           "90",
           "Descoordinado"
          ],
          [
           "R71-R52",
           -0.24320000000000003,
           0.1676,
           0.1244,
           "L9-15",
           "90",
           "Descoordinado"
          ],
          [
           "R34-R46",
           -0.2364,
           0.2112,
           0.1748,
           "L9-15",
           "10",
           "Descoordinado"
          ],
          [
           "R31-R30",
           -0.21080000000000004,
           0.2701,
           0.2593,
           "L31-32",
           "10",
           "Descoordinado"
          ],
          [
           "R68-R69",
           -0.20729999999999998,
           0.2758,
           0.2685,
           "L31-32",
           "90",
           "Descoordinado"
          ],
          [
           "R73-R32",
           -0.1992,
           0.2818,
           0.2826,
           "L18-33",
           "90",
           "Descoordinado"
          ],
          [
           "R74-R66",
           -0.199,
           0.2838,
           0.2848,
           "L25-29",
           "90",
           "Descoordinado"
          ],
          [
           "R74-R28",
           -0.19890000000000002,
           0.2838,
           0.2849,
           "L25-29",
           "90",
           "Descoordinado"
          ],
          [
           "R32-R31",
           -0.19840000000000002,
           0.2743,
           0.2759,
           "L32-33",
           "10",
           "Descoordinado"
          ],
          [
           "R40-R41",
           -0.19679999999999997,
           0.3142,
           0.3174,
           "L3-4",
           "90",
           "Descoordinado"
          ],
          [
           "R61-R74",
           -0.19619999999999999,
           0.2964,
           0.3002,
           "L24-25",
           "90",
           "Descoordinado"
          ],
          [
           "R54-R73",
           -0.1946,
           0.2863,
           0.2917,
           "L17-18",
           "90",
           "Descoordinado"
          ],
          [
           "R63-R64",
           -0.19440000000000002,
           0.3113,
           0.3169,
           "L26-27",
           "90",
           "Descoordinado"
          ],
          [
           "R10-R9",
           -0.194,
           0.2905,
           0.2965,
           "L10-11",
           "10",
           "Descoordinado"
          ],
          [
           "R47-R48",
           -0.19370000000000004,
           0.3008,
           0.3071,
           "L10-11",
           "90",
           "Descoordinado"
          ],
          [
           "R55-R56",
           -0.19319999999999998,
           0.3338,
           0.3406,
           "L2-19",
           "90",
           "Descoordinado"
          ],
          [
           "R48-R49",
           -0.193,
           0.2941,
           0.3011,
           "L11-12",
           "90",
           "Descoordinado"
          ],
          [
           "R48-R72",
           -0.193,
           0.2941,
           0.3011,
           "L11-12",
           "90",
           "Descoordinado"
          ],
          [
           "R50-R51",
           -0.1896,
           0.2724,
           0.2828,
           "L13-14",
           "90",
           "Descoordinado"
          ],
          [
           "R36-R17",
           -0.18920000000000003,
           0.2786,
           0.2894,
           "L18-33",
           "10",
           "Descoordinado"
          ],
          [
           "R26-R25",
           -0.18880000000000002,
           0.2681,
           0.2793,
           "L26-27",
           "10",
           "Descoordinado"
          ],
          [
           "R57-R58",
           -0.1876,
           0.2858,
           0.2982,
           "L20-21",
           "90",
           "Descoordinado"
          ],
          [
           "R41-R42",
           -0.18750000000000006,
           0.2931,
           0.3056,
           "L4-5",
           "90",
           "Descoordinado"
          ],
          [
           "R57-R33",
           -0.1875,
           0.2858,
           0.2983,
           "L20-21",
           "90",
           "Descoordinado"
          ],
          [
           "R37-R24",
           -0.18680000000000002,
           0.2711,
           0.2843,
           "L25-29",
           "10",
           "Descoordinado"
          ],
          [
           "R53-R54",
           -0.18569999999999998,
           0.2859,
           0.3002,
           "L16-17",
           "90",
           "Descoordinado"
          ],
          [
           "R13-R12",
           -0.1856,
           0.2698,
           0.2842,
           "L13-14",
           "10",
           "Descoordinado"
          ],
          [
           "R17-R16",
           -0.1854,
           0.2776,
           0.2922,
           "L17-18",
           "10",
           "Descoordinado"
          ],
          [
           "R4-R3",
           -0.18510000000000004,
           0.2605,
           0.2754,
           "L4-5",
           "10",
           "Descoordinado"
          ],
          [
           "R15-R34",
           -0.18430000000000002,
           0.2676,
           0.2833,
           "L15-16",
           "10",
           "Descoordinado"
          ],
          [
           "R65-R37",
           -0.18410000000000004,
           0.2715,
           0.2874,
           "L28-29",
           "90",
           "Descoordinado"
          ],
          [
           "R65-R66",
           -0.1839,
           0.2715,
           0.2876,
           "L28-29",
           "90",
           "Descoordinado"
          ],
          [
           "R51-R34",
           -0.18310000000000004,
           0.2664,
           0.2833,
           "L14-15",
           "90",
           "Descoordinado"
          ],
          [
           "R3-R2",
           -0.18230000000000002,
           0.2554,
           0.2731,
           "L3-4",
           "10",
           "Descoordinado"
          ],
          [
           "R25-R5",
           -0.18159999999999998,
           0.2712,
           0.2896,
           "L6-26",
           "10",
           "Descoordinado"
          ],
          [
           "R25-R43",
           -0.1814,
           0.2712,
           0.2898,
           "L6-26",
           "10",
           "Descoordinado"
          ],
          [
           "R64-R65",
           -0.17760000000000004,
           0.2766,
           0.299,
           "L27-28",
           "90",
           "Descoordinado"
          ],
          [
           "R22-R2",
           -0.17710000000000004,
           0.2513,
           0.2742,
           "L3-23",
           "10",
           "Descoordinado"
          ],
          [
           "R42-R43",
           -0.17710000000000004,
           0.2696,
           0.2925,
           "L5-6",
           "90",
           "Descoordinado"
          ],
          [
           "R16-R15",
           -0.1764,
           0.2627,
           0.2863,
           "L16-17",
           "10",
           "Descoordinado"
          ],
          [
           "R69-R36",
           -0.17610000000000003,
           0.2626,
           0.2865,
           "L32-33",
           "90",
           "Descoordinado"
          ],
          [
           "R42-R62",
           -0.1753,
           0.2696,
           0.2943,
           "L5-6",
           "90",
           "Descoordinado"
          ],
          [
           "R5-R4",
           -0.17360000000000003,
           0.2545,
           0.2809,
           "L5-6",
           "10",
           "Descoordinado"
          ],
          [
           "R27-R26",
           -0.17320000000000002,
           0.2547,
           0.2815,
           "L27-28",
           "10",
           "Descoordinado"
          ],
          [
           "R24-R23",
           -0.17240000000000005,
           0.2569,
           0.2845,
           "L24-25",
           "10",
           "Descoordinado"
          ],
          [
           "R28-R27",
           -0.17010000000000003,
           0.2606,
           0.2905,
           "L28-29",
           "10",
           "Descoordinado"
          ],
          [
           "R18-R1",
           -0.17,
           0.2453,
           0.2753,
           "L2-19",
           "10",
           "Descoordinado"
          ],
          [
           "R12-R11",
           -0.1697,
           0.2458,
           0.2761,
           "L12-13",
           "10",
           "Descoordinado"
          ],
          [
           "R58-R35",
           -0.16910000000000003,
           0.2675,
           0.2984,
           "L21-22",
           "90",
           "Descoordinado"
          ],
          [
           "R60-R61",
           -0.16850000000000004,
           0.2978,
           0.3293,
           "L23-24",
           "90",
           "Descoordinado"
          ],
          [
           "R72-R21",
           -0.16690000000000005,
           0.2489,
           0.282,
           "L12-22",
           "10",
           "Descoordinado"
          ],
          [
           "R20-R19",
           -0.1663,
           0.2546,
           0.2883,
           "L20-21",
           "10",
           "Descoordinado"
          ],
          [
           "R2-R1",
           -0.16400000000000003,
           0.2409,
           0.2769,
           "L2-3",
           "10",
           "Descoordinado"
          ],
          [
           "R23-R22",
           -0.16310000000000002,
           0.2445,
           0.2814,
           "L23-24",
           "10",
           "Descoordinado"
          ],
          [
           "R11-R10",
           -0.1612,
           0.2587,
           0.2975,
           "L11-12",
           "10",
           "Descoordinado"
          ],
          [
           "R70-R20",
           -0.16110000000000002,
           0.2375,
           0.2764,
           "L8-21",
           "90",
           "Descoordinado"
          ],
          [
           "R19-R18",
           -0.15560000000000002,
           0.2243,
           0.2687,
           "L19-20",
           "10",
           "Descoordinado"
          ],
          [
           "R49-R50",
           -0.15510000000000002,
           0.2485,
           0.2934,
           "L12-13",
           "90",
           "Descoordinado"
          ],
          [
           "R56-R57",
           -0.14989999999999998,
           0.2546,
           0.3047,
           "L19-20",
           "90",
           "Descoordinado"
          ],
          [
           "R62-R63",
           -0.1476,
           0.2739,
           0.3263,
           "L6-26",
           "90",
           "Descoordinado"
          ],
          [
           "R21-R20",
           -0.14180000000000004,
           0.2142,
           0.2724,
           "L21-22",
           "10",
           "Descoordinado"
          ],
          [
           "R45-R71",
           -0.14090000000000003,
           0.254,
           0.3131,
           "L8-9",
           "90",
           "Descoordinado"
          ],
          [
           "R12-R72",
           -0.13920000000000002,
           0.2458,
           0.3066,
           "L12-13",
           "10",
           "Descoordinado"
          ],
          [
           "R39-R40",
           -0.127,
           0.2924,
           0.3654,
           "L2-3",
           "90",
           "Descoordinado"
          ],
          [
           "R39-R59",
           -0.1269,
           0.2924,
           0.3655,
           "L2-3",
           "90",
           "Descoordinado"
          ],
          [
           "R9-R71",
           -0.1215,
           0.2566,
           0.3351,
           "L9-10",
           "10",
           "Descoordinado"
          ],
          [
           "R33-R7",
           -0.12040000000000001,
           0.2354,
           0.315,
           "L8-21",
           "10",
           "Descoordinado"
          ],
          [
           "R70-R58",
           -0.12040000000000001,
           0.2375,
           0.3171,
           "L8-21",
           "90",
           "Descoordinado"
          ],
          [
           "R33-R45",
           -0.12020000000000003,
           0.2354,
           0.3152,
           "L8-21",
           "10",
           "Descoordinado"
          ],
          [
           "R21-R33",
           -0.11160000000000003,
           0.2142,
           0.3026,
           "L21-22",
           "10",
           "Descoordinado"
          ],
          [
           "R35-R11",
           -0.10320000000000001,
           0.246,
           0.3428,
           "L12-22",
           "90",
           "Descoordinado"
          ],
          [
           "R59-R60",
           -0.08370000000000002,
           0.2482,
           0.3645,
           "L3-23",
           "90",
           "Descoordinado"
          ],
          [
           "R22-R40",
           -0.07680000000000003,
           0.2513,
           0.3745,
           "L3-23",
           "10",
           "Descoordinado"
          ],
          [
           "R3-R59",
           -0.06030000000000002,
           0.2554,
           0.3951,
           "L3-4",
           "10",
           "Descoordinado"
          ],
          [
           "R35-R49",
           -0.05820000000000003,
           0.246,
           0.3878,
           "L12-22",
           "90",
           "Descoordinado"
          ],
          [
           "R18-R39",
           -0.026499999999999996,
           0.2453,
           0.4188,
           "L2-19",
           "10",
           "Descoordinado"
          ],
          [
           "R38-R39",
           -2.7755575615628914e-17,
           0.1989,
           0.3989,
           "L1-2",
           "90",
           "Descoordinado"
          ],
          [
           "R29-R28",
           -2.7755575615628914e-17,
           0.0849,
           0.2849,
           "L29-30",
           "10",
           "Descoordinado"
          ],
          [
           "R38-R55",
           -2.7755575615628914e-17,
           0.1989,
           0.3989,
           "L1-2",
           "90",
           "Descoordinado"
          ]
         ],
         "hovertemplate": "status=%{customdata[6]}<br>delta_t=%{y:.4f}<br>pair_label=%{customdata[0]}<br>mt=%{customdata[1]:.4f}<br>tm=%{customdata[2]:.4f}<br>tb=%{customdata[3]:.4f}<br>line=%{customdata[4]}<br>fault=%{customdata[5]}<extra></extra>",
         "legendgroup": "Descoordinado",
         "marker": {
          "color": "red",
          "opacity": 0.7,
          "size": 8,
          "symbol": "circle"
         },
         "mode": "markers",
         "name": "Descoordinado",
         "orientation": "v",
         "showlegend": true,
         "type": "scatter",
         "x": [
          1,
          2,
          3,
          4,
          5,
          6,
          7,
          8,
          9,
          10,
          11,
          12,
          13,
          14,
          15,
          16,
          17,
          18,
          19,
          20,
          21,
          22,
          23,
          24,
          25,
          26,
          27,
          28,
          29,
          30,
          31,
          32,
          33,
          34,
          35,
          36,
          37,
          38,
          39,
          40,
          41,
          42,
          43,
          44,
          45,
          46,
          47,
          48,
          49,
          50,
          51,
          52,
          53,
          54,
          55,
          56,
          57,
          58,
          59,
          60,
          61,
          62,
          63,
          64,
          65,
          66,
          67,
          68,
          69,
          70,
          71,
          72,
          73,
          74,
          75,
          76,
          77,
          78,
          79,
          80,
          81,
          82,
          83,
          84,
          85,
          86,
          87,
          88
         ],
         "xaxis": "x",
         "y": [
          -0.3842,
          -0.38370000000000004,
          -0.3731,
          -0.3665,
          -0.3521,
          -0.3447,
          -0.3266,
          -0.2978,
          -0.2777,
          -0.2707,
          -0.24320000000000003,
          -0.2364,
          -0.21080000000000004,
          -0.20729999999999998,
          -0.1992,
          -0.199,
          -0.19890000000000002,
          -0.19840000000000002,
          -0.19679999999999997,
          -0.19619999999999999,
          -0.1946,
          -0.19440000000000002,
          -0.194,
          -0.19370000000000004,
          -0.19319999999999998,
          -0.193,
          -0.193,
          -0.1896,
          -0.18920000000000003,
          -0.18880000000000002,
          -0.1876,
          -0.18750000000000006,
          -0.1875,
          -0.18680000000000002,
          -0.18569999999999998,
          -0.1856,
          -0.1854,
          -0.18510000000000004,
          -0.18430000000000002,
          -0.18410000000000004,
          -0.1839,
          -0.18310000000000004,
          -0.18230000000000002,
          -0.18159999999999998,
          -0.1814,
          -0.17760000000000004,
          -0.17710000000000004,
          -0.17710000000000004,
          -0.1764,
          -0.17610000000000003,
          -0.1753,
          -0.17360000000000003,
          -0.17320000000000002,
          -0.17240000000000005,
          -0.17010000000000003,
          -0.17,
          -0.1697,
          -0.16910000000000003,
          -0.16850000000000004,
          -0.16690000000000005,
          -0.1663,
          -0.16400000000000003,
          -0.16310000000000002,
          -0.1612,
          -0.16110000000000002,
          -0.15560000000000002,
          -0.15510000000000002,
          -0.14989999999999998,
          -0.1476,
          -0.14180000000000004,
          -0.14090000000000003,
          -0.13920000000000002,
          -0.127,
          -0.1269,
          -0.1215,
          -0.12040000000000001,
          -0.12040000000000001,
          -0.12020000000000003,
          -0.11160000000000003,
          -0.10320000000000001,
          -0.08370000000000002,
          -0.07680000000000003,
          -0.06030000000000002,
          -0.05820000000000003,
          -0.026499999999999996,
          -2.7755575615628914e-17,
          -2.7755575615628914e-17,
          -2.7755575615628914e-17
         ],
         "yaxis": "y"
        },
        {
         "customdata": [
          [
           "R6-R62",
           0,
           0.0904,
           0.2904,
           "L6-7",
           "10",
           "Coordinado"
          ],
          [
           "R44-R70",
           0,
           0.0989,
           0.3031,
           "L7-8",
           "90",
           "Coordinado"
          ],
          [
           "R44-R45",
           0,
           0.0989,
           0.2989,
           "L7-8",
           "90",
           "Coordinado"
          ],
          [
           "R8-R7",
           0,
           0.1073,
           0.3073,
           "L8-9",
           "10",
           "Coordinado"
          ],
          [
           "R8-R70",
           0,
           0.1073,
           0.3073,
           "L8-9",
           "10",
           "Coordinado"
          ],
          [
           "R6-R5",
           0,
           0.0904,
           0.2904,
           "L6-7",
           "10",
           "Coordinado"
          ],
          [
           "R2-R55",
           0,
           0.2409,
           0.4489,
           "L2-3",
           "10",
           "Coordinado"
          ],
          [
           "R14-R13",
           0,
           0.0883,
           0.2883,
           "L14-15",
           "10",
           "Coordinado"
          ],
          [
           "R29-R37",
           0,
           0.0849,
           0.2862,
           "L29-30",
           "10",
           "Coordinado"
          ],
          [
           "R46-R47",
           0,
           0.1143,
           0.3143,
           "L9-10",
           "90",
           "Coordinado"
          ],
          [
           "R52-R53",
           0,
           0.1151,
           0.3151,
           "L15-16",
           "90",
           "Coordinado"
          ],
          [
           "R67-R68",
           0,
           0.0812,
           0.2812,
           "L30-31",
           "90",
           "Coordinado"
          ]
         ],
         "hovertemplate": "status=%{customdata[6]}<br>delta_t=%{y:.4f}<br>pair_label=%{customdata[0]}<br>mt=%{customdata[1]:.4f}<br>tm=%{customdata[2]:.4f}<br>tb=%{customdata[3]:.4f}<br>line=%{customdata[4]}<br>fault=%{customdata[5]}<extra></extra>",
         "legendgroup": "Coordinado",
         "marker": {
          "color": "green",
          "opacity": 0.7,
          "size": 8,
          "symbol": "circle"
         },
         "mode": "markers",
         "name": "Coordinado",
         "orientation": "v",
         "showlegend": true,
         "type": "scatter",
         "x": [
          89,
          90,
          91,
          92,
          93,
          94,
          95,
          96,
          97,
          98,
          99,
          100
         ],
         "xaxis": "x",
         "y": [
          0,
          0.0041999999999999815,
          0,
          0,
          0,
          0,
          0.008000000000000007,
          0,
          0.0012999999999999956,
          0,
          0,
          0
         ],
         "yaxis": "y"
        }
       ],
       "layout": {
        "annotations": [
         {
          "showarrow": false,
          "text": "Límite CTI (Δt=0)",
          "x": 1,
          "xanchor": "right",
          "xref": "x domain",
          "y": 0,
          "yanchor": "top",
          "yref": "y"
         }
        ],
        "legend": {
         "title": {
          "text": "Estado Coordinación"
         },
         "tracegroupgap": 0
        },
        "shapes": [
         {
          "line": {
           "color": "black",
           "dash": "dash",
           "width": 1.5
          },
          "type": "line",
          "x0": 0,
          "x1": 1,
          "xref": "x domain",
          "y0": 0,
          "y1": 0,
          "yref": "y"
         }
        ],
        "template": {
         "data": {
          "bar": [
           {
            "error_x": {
             "color": "#2a3f5f"
            },
            "error_y": {
             "color": "#2a3f5f"
            },
            "marker": {
             "line": {
              "color": "white",
              "width": 0.5
             },
             "pattern": {
              "fillmode": "overlay",
              "size": 10,
              "solidity": 0.2
             }
            },
            "type": "bar"
           }
          ],
          "barpolar": [
           {
            "marker": {
             "line": {
              "color": "white",
              "width": 0.5
             },
             "pattern": {
              "fillmode": "overlay",
              "size": 10,
              "solidity": 0.2
             }
            },
            "type": "barpolar"
           }
          ],
          "carpet": [
           {
            "aaxis": {
             "endlinecolor": "#2a3f5f",
             "gridcolor": "#C8D4E3",
             "linecolor": "#C8D4E3",
             "minorgridcolor": "#C8D4E3",
             "startlinecolor": "#2a3f5f"
            },
            "baxis": {
             "endlinecolor": "#2a3f5f",
             "gridcolor": "#C8D4E3",
             "linecolor": "#C8D4E3",
             "minorgridcolor": "#C8D4E3",
             "startlinecolor": "#2a3f5f"
            },
            "type": "carpet"
           }
          ],
          "choropleth": [
           {
            "colorbar": {
             "outlinewidth": 0,
             "ticks": ""
            },
            "type": "choropleth"
           }
          ],
          "contour": [
           {
            "colorbar": {
             "outlinewidth": 0,
             "ticks": ""
            },
            "colorscale": [
             [
              0,
              "#0d0887"
             ],
             [
              0.1111111111111111,
              "#46039f"
             ],
             [
              0.2222222222222222,
              "#7201a8"
             ],
             [
              0.3333333333333333,
              "#9c179e"
             ],
             [
              0.4444444444444444,
              "#bd3786"
             ],
             [
              0.5555555555555556,
              "#d8576b"
             ],
             [
              0.6666666666666666,
              "#ed7953"
             ],
             [
              0.7777777777777778,
              "#fb9f3a"
             ],
             [
              0.8888888888888888,
              "#fdca26"
             ],
             [
              1,
              "#f0f921"
             ]
            ],
            "type": "contour"
           }
          ],
          "contourcarpet": [
           {
            "colorbar": {
             "outlinewidth": 0,
             "ticks": ""
            },
            "type": "contourcarpet"
           }
          ],
          "heatmap": [
           {
            "colorbar": {
             "outlinewidth": 0,
             "ticks": ""
            },
            "colorscale": [
             [
              0,
              "#0d0887"
             ],
             [
              0.1111111111111111,
              "#46039f"
             ],
             [
              0.2222222222222222,
              "#7201a8"
             ],
             [
              0.3333333333333333,
              "#9c179e"
             ],
             [
              0.4444444444444444,
              "#bd3786"
             ],
             [
              0.5555555555555556,
              "#d8576b"
             ],
             [
              0.6666666666666666,
              "#ed7953"
             ],
             [
              0.7777777777777778,
              "#fb9f3a"
             ],
             [
              0.8888888888888888,
              "#fdca26"
             ],
             [
              1,
              "#f0f921"
             ]
            ],
            "type": "heatmap"
           }
          ],
          "heatmapgl": [
           {
            "colorbar": {
             "outlinewidth": 0,
             "ticks": ""
            },
            "colorscale": [
             [
              0,
              "#0d0887"
             ],
             [
              0.1111111111111111,
              "#46039f"
             ],
             [
              0.2222222222222222,
              "#7201a8"
             ],
             [
              0.3333333333333333,
              "#9c179e"
             ],
             [
              0.4444444444444444,
              "#bd3786"
             ],
             [
              0.5555555555555556,
              "#d8576b"
             ],
             [
              0.6666666666666666,
              "#ed7953"
             ],
             [
              0.7777777777777778,
              "#fb9f3a"
             ],
             [
              0.8888888888888888,
              "#fdca26"
             ],
             [
              1,
              "#f0f921"
             ]
            ],
            "type": "heatmapgl"
           }
          ],
          "histogram": [
           {
            "marker": {
             "pattern": {
              "fillmode": "overlay",
              "size": 10,
              "solidity": 0.2
             }
            },
            "type": "histogram"
           }
          ],
          "histogram2d": [
           {
            "colorbar": {
             "outlinewidth": 0,
             "ticks": ""
            },
            "colorscale": [
             [
              0,
              "#0d0887"
             ],
             [
              0.1111111111111111,
              "#46039f"
             ],
             [
              0.2222222222222222,
              "#7201a8"
             ],
             [
              0.3333333333333333,
              "#9c179e"
             ],
             [
              0.4444444444444444,
              "#bd3786"
             ],
             [
              0.5555555555555556,
              "#d8576b"
             ],
             [
              0.6666666666666666,
              "#ed7953"
             ],
             [
              0.7777777777777778,
              "#fb9f3a"
             ],
             [
              0.8888888888888888,
              "#fdca26"
             ],
             [
              1,
              "#f0f921"
             ]
            ],
            "type": "histogram2d"
           }
          ],
          "histogram2dcontour": [
           {
            "colorbar": {
             "outlinewidth": 0,
             "ticks": ""
            },
            "colorscale": [
             [
              0,
              "#0d0887"
             ],
             [
              0.1111111111111111,
              "#46039f"
             ],
             [
              0.2222222222222222,
              "#7201a8"
             ],
             [
              0.3333333333333333,
              "#9c179e"
             ],
             [
              0.4444444444444444,
              "#bd3786"
             ],
             [
              0.5555555555555556,
              "#d8576b"
             ],
             [
              0.6666666666666666,
              "#ed7953"
             ],
             [
              0.7777777777777778,
              "#fb9f3a"
             ],
             [
              0.8888888888888888,
              "#fdca26"
             ],
             [
              1,
              "#f0f921"
             ]
            ],
            "type": "histogram2dcontour"
           }
          ],
          "mesh3d": [
           {
            "colorbar": {
             "outlinewidth": 0,
             "ticks": ""
            },
            "type": "mesh3d"
           }
          ],
          "parcoords": [
           {
            "line": {
             "colorbar": {
              "outlinewidth": 0,
              "ticks": ""
             }
            },
            "type": "parcoords"
           }
          ],
          "pie": [
           {
            "automargin": true,
            "type": "pie"
           }
          ],
          "scatter": [
           {
            "fillpattern": {
             "fillmode": "overlay",
             "size": 10,
             "solidity": 0.2
            },
            "type": "scatter"
           }
          ],
          "scatter3d": [
           {
            "line": {
             "colorbar": {
              "outlinewidth": 0,
              "ticks": ""
             }
            },
            "marker": {
             "colorbar": {
              "outlinewidth": 0,
              "ticks": ""
             }
            },
            "type": "scatter3d"
           }
          ],
          "scattercarpet": [
           {
            "marker": {
             "colorbar": {
              "outlinewidth": 0,
              "ticks": ""
             }
            },
            "type": "scattercarpet"
           }
          ],
          "scattergeo": [
           {
            "marker": {
             "colorbar": {
              "outlinewidth": 0,
              "ticks": ""
             }
            },
            "type": "scattergeo"
           }
          ],
          "scattergl": [
           {
            "marker": {
             "colorbar": {
              "outlinewidth": 0,
              "ticks": ""
             }
            },
            "type": "scattergl"
           }
          ],
          "scattermapbox": [
           {
            "marker": {
             "colorbar": {
              "outlinewidth": 0,
              "ticks": ""
             }
            },
            "type": "scattermapbox"
           }
          ],
          "scatterpolar": [
           {
            "marker": {
             "colorbar": {
              "outlinewidth": 0,
              "ticks": ""
             }
            },
            "type": "scatterpolar"
           }
          ],
          "scatterpolargl": [
           {
            "marker": {
             "colorbar": {
              "outlinewidth": 0,
              "ticks": ""
             }
            },
            "type": "scatterpolargl"
           }
          ],
          "scatterternary": [
           {
            "marker": {
             "colorbar": {
              "outlinewidth": 0,
              "ticks": ""
             }
            },
            "type": "scatterternary"
           }
          ],
          "surface": [
           {
            "colorbar": {
             "outlinewidth": 0,
             "ticks": ""
            },
            "colorscale": [
             [
              0,
              "#0d0887"
             ],
             [
              0.1111111111111111,
              "#46039f"
             ],
             [
              0.2222222222222222,
              "#7201a8"
             ],
             [
              0.3333333333333333,
              "#9c179e"
             ],
             [
              0.4444444444444444,
              "#bd3786"
             ],
             [
              0.5555555555555556,
              "#d8576b"
             ],
             [
              0.6666666666666666,
              "#ed7953"
             ],
             [
              0.7777777777777778,
              "#fb9f3a"
             ],
             [
              0.8888888888888888,
              "#fdca26"
             ],
             [
              1,
              "#f0f921"
             ]
            ],
            "type": "surface"
           }
          ],
          "table": [
           {
            "cells": {
             "fill": {
              "color": "#EBF0F8"
             },
             "line": {
              "color": "white"
             }
            },
            "header": {
             "fill": {
              "color": "#C8D4E3"
             },
             "line": {
              "color": "white"
             }
            },
            "type": "table"
           }
          ]
         },
         "layout": {
          "annotationdefaults": {
           "arrowcolor": "#2a3f5f",
           "arrowhead": 0,
           "arrowwidth": 1
          },
          "autotypenumbers": "strict",
          "coloraxis": {
           "colorbar": {
            "outlinewidth": 0,
            "ticks": ""
           }
          },
          "colorscale": {
           "diverging": [
            [
             0,
             "#8e0152"
            ],
            [
             0.1,
             "#c51b7d"
            ],
            [
             0.2,
             "#de77ae"
            ],
            [
             0.3,
             "#f1b6da"
            ],
            [
             0.4,
             "#fde0ef"
            ],
            [
             0.5,
             "#f7f7f7"
            ],
            [
             0.6,
             "#e6f5d0"
            ],
            [
             0.7,
             "#b8e186"
            ],
            [
             0.8,
             "#7fbc41"
            ],
            [
             0.9,
             "#4d9221"
            ],
            [
             1,
             "#276419"
            ]
           ],
           "sequential": [
            [
             0,
             "#0d0887"
            ],
            [
             0.1111111111111111,
             "#46039f"
            ],
            [
             0.2222222222222222,
             "#7201a8"
            ],
            [
             0.3333333333333333,
             "#9c179e"
            ],
            [
             0.4444444444444444,
             "#bd3786"
            ],
            [
             0.5555555555555556,
             "#d8576b"
            ],
            [
             0.6666666666666666,
             "#ed7953"
            ],
            [
             0.7777777777777778,
             "#fb9f3a"
            ],
            [
             0.8888888888888888,
             "#fdca26"
            ],
            [
             1,
             "#f0f921"
            ]
           ],
           "sequentialminus": [
            [
             0,
             "#0d0887"
            ],
            [
             0.1111111111111111,
             "#46039f"
            ],
            [
             0.2222222222222222,
             "#7201a8"
            ],
            [
             0.3333333333333333,
             "#9c179e"
            ],
            [
             0.4444444444444444,
             "#bd3786"
            ],
            [
             0.5555555555555556,
             "#d8576b"
            ],
            [
             0.6666666666666666,
             "#ed7953"
            ],
            [
             0.7777777777777778,
             "#fb9f3a"
            ],
            [
             0.8888888888888888,
             "#fdca26"
            ],
            [
             1,
             "#f0f921"
            ]
           ]
          },
          "colorway": [
           "#636efa",
           "#EF553B",
           "#00cc96",
           "#ab63fa",
           "#FFA15A",
           "#19d3f3",
           "#FF6692",
           "#B6E880",
           "#FF97FF",
           "#FECB52"
          ],
          "font": {
           "color": "#2a3f5f"
          },
          "geo": {
           "bgcolor": "white",
           "lakecolor": "white",
           "landcolor": "white",
           "showlakes": true,
           "showland": true,
           "subunitcolor": "#C8D4E3"
          },
          "hoverlabel": {
           "align": "left"
          },
          "hovermode": "closest",
          "mapbox": {
           "style": "light"
          },
          "paper_bgcolor": "white",
          "plot_bgcolor": "white",
          "polar": {
           "angularaxis": {
            "gridcolor": "#EBF0F8",
            "linecolor": "#EBF0F8",
            "ticks": ""
           },
           "bgcolor": "white",
           "radialaxis": {
            "gridcolor": "#EBF0F8",
            "linecolor": "#EBF0F8",
            "ticks": ""
           }
          },
          "scene": {
           "xaxis": {
            "backgroundcolor": "white",
            "gridcolor": "#DFE8F3",
            "gridwidth": 2,
            "linecolor": "#EBF0F8",
            "showbackground": true,
            "ticks": "",
            "zerolinecolor": "#EBF0F8"
           },
           "yaxis": {
            "backgroundcolor": "white",
            "gridcolor": "#DFE8F3",
            "gridwidth": 2,
            "linecolor": "#EBF0F8",
            "showbackground": true,
            "ticks": "",
            "zerolinecolor": "#EBF0F8"
           },
           "zaxis": {
            "backgroundcolor": "white",
            "gridcolor": "#DFE8F3",
            "gridwidth": 2,
            "linecolor": "#EBF0F8",
            "showbackground": true,
            "ticks": "",
            "zerolinecolor": "#EBF0F8"
           }
          },
          "shapedefaults": {
           "line": {
            "color": "#2a3f5f"
           }
          },
          "ternary": {
           "aaxis": {
            "gridcolor": "#DFE8F3",
            "linecolor": "#A2B1C6",
            "ticks": ""
           },
           "baxis": {
            "gridcolor": "#DFE8F3",
            "linecolor": "#A2B1C6",
            "ticks": ""
           },
           "bgcolor": "white",
           "caxis": {
            "gridcolor": "#DFE8F3",
            "linecolor": "#A2B1C6",
            "ticks": ""
           }
          },
          "title": {
           "x": 0.05
          },
          "xaxis": {
           "automargin": true,
           "gridcolor": "#EBF0F8",
           "linecolor": "#EBF0F8",
           "ticks": "",
           "title": {
            "standoff": 15
           },
           "zerolinecolor": "#EBF0F8",
           "zerolinewidth": 2
          },
          "yaxis": {
           "automargin": true,
           "gridcolor": "#EBF0F8",
           "linecolor": "#EBF0F8",
           "ticks": "",
           "title": {
            "standoff": 15
           },
           "zerolinecolor": "#EBF0F8",
           "zerolinewidth": 2
          }
         }
        },
        "title": {
         "text": "Diferencia de Tiempo (Δt vs Índice) - Escenario: scenario_1<br><sup>CTI = 0.2s</sup>"
        },
        "xaxis": {
         "anchor": "y",
         "domain": [
          0,
          1
         ],
         "tickmode": "auto",
         "title": {
          "text": "Índice del Par de Relés (Ordenado por MT Ascendente)"
         }
        },
        "yaxis": {
         "anchor": "x",
         "domain": [
          0,
          1
         ],
         "gridcolor": "lightgrey",
         "title": {
          "text": "Δt (Tb - Tm - CTI) [s]"
         },
         "zerolinecolor": "black",
         "zerolinewidth": 1.5
        }
       }
      }
     },
     "metadata": {},
     "output_type": "display_data"
    },
    {
     "name": "stdout",
     "output_type": "stream",
     "text": [
      "    Displaying mt_histogram plot...\n"
     ]
    },
    {
     "data": {
      "application/vnd.plotly.v1+json": {
       "config": {
        "plotlyServerURL": "https://plot.ly"
       },
       "data": [
        {
         "alignmentgroup": "True",
         "bingroup": "x",
         "hovertemplate": "status=Descoordinado<br>mt=%{x}<br>count=%{y}<extra></extra>",
         "legendgroup": "Descoordinado",
         "marker": {
          "color": "red",
          "pattern": {
           "shape": ""
          }
         },
         "name": "Descoordinado",
         "nbinsx": 20,
         "offsetgroup": "Descoordinado",
         "orientation": "v",
         "showlegend": true,
         "type": "histogram",
         "x": [
          -0.3842,
          -0.38370000000000004,
          -0.3731,
          -0.3665,
          -0.3521,
          -0.3447,
          -0.3266,
          -0.2978,
          -0.2777,
          -0.2707,
          -0.24320000000000003,
          -0.2364,
          -0.21080000000000004,
          -0.20729999999999998,
          -0.1992,
          -0.199,
          -0.19890000000000002,
          -0.19840000000000002,
          -0.19679999999999997,
          -0.19619999999999999,
          -0.1946,
          -0.19440000000000002,
          -0.194,
          -0.19370000000000004,
          -0.19319999999999998,
          -0.193,
          -0.193,
          -0.1896,
          -0.18920000000000003,
          -0.18880000000000002,
          -0.1876,
          -0.18750000000000006,
          -0.1875,
          -0.18680000000000002,
          -0.18569999999999998,
          -0.1856,
          -0.1854,
          -0.18510000000000004,
          -0.18430000000000002,
          -0.18410000000000004,
          -0.1839,
          -0.18310000000000004,
          -0.18230000000000002,
          -0.18159999999999998,
          -0.1814,
          -0.17760000000000004,
          -0.17710000000000004,
          -0.17710000000000004,
          -0.1764,
          -0.17610000000000003,
          -0.1753,
          -0.17360000000000003,
          -0.17320000000000002,
          -0.17240000000000005,
          -0.17010000000000003,
          -0.17,
          -0.1697,
          -0.16910000000000003,
          -0.16850000000000004,
          -0.16690000000000005,
          -0.1663,
          -0.16400000000000003,
          -0.16310000000000002,
          -0.1612,
          -0.16110000000000002,
          -0.15560000000000002,
          -0.15510000000000002,
          -0.14989999999999998,
          -0.1476,
          -0.14180000000000004,
          -0.14090000000000003,
          -0.13920000000000002,
          -0.127,
          -0.1269,
          -0.1215,
          -0.12040000000000001,
          -0.12040000000000001,
          -0.12020000000000003,
          -0.11160000000000003,
          -0.10320000000000001,
          -0.08370000000000002,
          -0.07680000000000003,
          -0.06030000000000002,
          -0.05820000000000003,
          -0.026499999999999996,
          -2.7755575615628914e-17,
          -2.7755575615628914e-17,
          -2.7755575615628914e-17
         ],
         "xaxis": "x",
         "yaxis": "y"
        },
        {
         "alignmentgroup": "True",
         "hovertemplate": "status=Descoordinado<br>mt=%{x}<extra></extra>",
         "legendgroup": "Descoordinado",
         "marker": {
          "color": "red"
         },
         "name": "Descoordinado",
         "notched": true,
         "offsetgroup": "Descoordinado",
         "showlegend": false,
         "type": "box",
         "x": [
          -0.3842,
          -0.38370000000000004,
          -0.3731,
          -0.3665,
          -0.3521,
          -0.3447,
          -0.3266,
          -0.2978,
          -0.2777,
          -0.2707,
          -0.24320000000000003,
          -0.2364,
          -0.21080000000000004,
          -0.20729999999999998,
          -0.1992,
          -0.199,
          -0.19890000000000002,
          -0.19840000000000002,
          -0.19679999999999997,
          -0.19619999999999999,
          -0.1946,
          -0.19440000000000002,
          -0.194,
          -0.19370000000000004,
          -0.19319999999999998,
          -0.193,
          -0.193,
          -0.1896,
          -0.18920000000000003,
          -0.18880000000000002,
          -0.1876,
          -0.18750000000000006,
          -0.1875,
          -0.18680000000000002,
          -0.18569999999999998,
          -0.1856,
          -0.1854,
          -0.18510000000000004,
          -0.18430000000000002,
          -0.18410000000000004,
          -0.1839,
          -0.18310000000000004,
          -0.18230000000000002,
          -0.18159999999999998,
          -0.1814,
          -0.17760000000000004,
          -0.17710000000000004,
          -0.17710000000000004,
          -0.1764,
          -0.17610000000000003,
          -0.1753,
          -0.17360000000000003,
          -0.17320000000000002,
          -0.17240000000000005,
          -0.17010000000000003,
          -0.17,
          -0.1697,
          -0.16910000000000003,
          -0.16850000000000004,
          -0.16690000000000005,
          -0.1663,
          -0.16400000000000003,
          -0.16310000000000002,
          -0.1612,
          -0.16110000000000002,
          -0.15560000000000002,
          -0.15510000000000002,
          -0.14989999999999998,
          -0.1476,
          -0.14180000000000004,
          -0.14090000000000003,
          -0.13920000000000002,
          -0.127,
          -0.1269,
          -0.1215,
          -0.12040000000000001,
          -0.12040000000000001,
          -0.12020000000000003,
          -0.11160000000000003,
          -0.10320000000000001,
          -0.08370000000000002,
          -0.07680000000000003,
          -0.06030000000000002,
          -0.05820000000000003,
          -0.026499999999999996,
          -2.7755575615628914e-17,
          -2.7755575615628914e-17,
          -2.7755575615628914e-17
         ],
         "xaxis": "x2",
         "yaxis": "y2"
        },
        {
         "alignmentgroup": "True",
         "bingroup": "x",
         "hovertemplate": "status=Coordinado<br>mt=%{x}<br>count=%{y}<extra></extra>",
         "legendgroup": "Coordinado",
         "marker": {
          "color": "green",
          "pattern": {
           "shape": ""
          }
         },
         "name": "Coordinado",
         "nbinsx": 20,
         "offsetgroup": "Coordinado",
         "orientation": "v",
         "showlegend": true,
         "type": "histogram",
         "x": [
          0,
          0,
          0,
          0,
          0,
          0,
          0,
          0,
          0,
          0,
          0,
          0
         ],
         "xaxis": "x",
         "yaxis": "y"
        },
        {
         "alignmentgroup": "True",
         "hovertemplate": "status=Coordinado<br>mt=%{x}<extra></extra>",
         "legendgroup": "Coordinado",
         "marker": {
          "color": "green"
         },
         "name": "Coordinado",
         "notched": true,
         "offsetgroup": "Coordinado",
         "showlegend": false,
         "type": "box",
         "x": [
          0,
          0,
          0,
          0,
          0,
          0,
          0,
          0,
          0,
          0,
          0,
          0
         ],
         "xaxis": "x2",
         "yaxis": "y2"
        }
       ],
       "layout": {
        "bargap": 0.1,
        "barmode": "relative",
        "legend": {
         "title": {
          "text": "Estado Coordinación"
         },
         "tracegroupgap": 0
        },
        "template": {
         "data": {
          "bar": [
           {
            "error_x": {
             "color": "#2a3f5f"
            },
            "error_y": {
             "color": "#2a3f5f"
            },
            "marker": {
             "line": {
              "color": "white",
              "width": 0.5
             },
             "pattern": {
              "fillmode": "overlay",
              "size": 10,
              "solidity": 0.2
             }
            },
            "type": "bar"
           }
          ],
          "barpolar": [
           {
            "marker": {
             "line": {
              "color": "white",
              "width": 0.5
             },
             "pattern": {
              "fillmode": "overlay",
              "size": 10,
              "solidity": 0.2
             }
            },
            "type": "barpolar"
           }
          ],
          "carpet": [
           {
            "aaxis": {
             "endlinecolor": "#2a3f5f",
             "gridcolor": "#C8D4E3",
             "linecolor": "#C8D4E3",
             "minorgridcolor": "#C8D4E3",
             "startlinecolor": "#2a3f5f"
            },
            "baxis": {
             "endlinecolor": "#2a3f5f",
             "gridcolor": "#C8D4E3",
             "linecolor": "#C8D4E3",
             "minorgridcolor": "#C8D4E3",
             "startlinecolor": "#2a3f5f"
            },
            "type": "carpet"
           }
          ],
          "choropleth": [
           {
            "colorbar": {
             "outlinewidth": 0,
             "ticks": ""
            },
            "type": "choropleth"
           }
          ],
          "contour": [
           {
            "colorbar": {
             "outlinewidth": 0,
             "ticks": ""
            },
            "colorscale": [
             [
              0,
              "#0d0887"
             ],
             [
              0.1111111111111111,
              "#46039f"
             ],
             [
              0.2222222222222222,
              "#7201a8"
             ],
             [
              0.3333333333333333,
              "#9c179e"
             ],
             [
              0.4444444444444444,
              "#bd3786"
             ],
             [
              0.5555555555555556,
              "#d8576b"
             ],
             [
              0.6666666666666666,
              "#ed7953"
             ],
             [
              0.7777777777777778,
              "#fb9f3a"
             ],
             [
              0.8888888888888888,
              "#fdca26"
             ],
             [
              1,
              "#f0f921"
             ]
            ],
            "type": "contour"
           }
          ],
          "contourcarpet": [
           {
            "colorbar": {
             "outlinewidth": 0,
             "ticks": ""
            },
            "type": "contourcarpet"
           }
          ],
          "heatmap": [
           {
            "colorbar": {
             "outlinewidth": 0,
             "ticks": ""
            },
            "colorscale": [
             [
              0,
              "#0d0887"
             ],
             [
              0.1111111111111111,
              "#46039f"
             ],
             [
              0.2222222222222222,
              "#7201a8"
             ],
             [
              0.3333333333333333,
              "#9c179e"
             ],
             [
              0.4444444444444444,
              "#bd3786"
             ],
             [
              0.5555555555555556,
              "#d8576b"
             ],
             [
              0.6666666666666666,
              "#ed7953"
             ],
             [
              0.7777777777777778,
              "#fb9f3a"
             ],
             [
              0.8888888888888888,
              "#fdca26"
             ],
             [
              1,
              "#f0f921"
             ]
            ],
            "type": "heatmap"
           }
          ],
          "heatmapgl": [
           {
            "colorbar": {
             "outlinewidth": 0,
             "ticks": ""
            },
            "colorscale": [
             [
              0,
              "#0d0887"
             ],
             [
              0.1111111111111111,
              "#46039f"
             ],
             [
              0.2222222222222222,
              "#7201a8"
             ],
             [
              0.3333333333333333,
              "#9c179e"
             ],
             [
              0.4444444444444444,
              "#bd3786"
             ],
             [
              0.5555555555555556,
              "#d8576b"
             ],
             [
              0.6666666666666666,
              "#ed7953"
             ],
             [
              0.7777777777777778,
              "#fb9f3a"
             ],
             [
              0.8888888888888888,
              "#fdca26"
             ],
             [
              1,
              "#f0f921"
             ]
            ],
            "type": "heatmapgl"
           }
          ],
          "histogram": [
           {
            "marker": {
             "pattern": {
              "fillmode": "overlay",
              "size": 10,
              "solidity": 0.2
             }
            },
            "type": "histogram"
           }
          ],
          "histogram2d": [
           {
            "colorbar": {
             "outlinewidth": 0,
             "ticks": ""
            },
            "colorscale": [
             [
              0,
              "#0d0887"
             ],
             [
              0.1111111111111111,
              "#46039f"
             ],
             [
              0.2222222222222222,
              "#7201a8"
             ],
             [
              0.3333333333333333,
              "#9c179e"
             ],
             [
              0.4444444444444444,
              "#bd3786"
             ],
             [
              0.5555555555555556,
              "#d8576b"
             ],
             [
              0.6666666666666666,
              "#ed7953"
             ],
             [
              0.7777777777777778,
              "#fb9f3a"
             ],
             [
              0.8888888888888888,
              "#fdca26"
             ],
             [
              1,
              "#f0f921"
             ]
            ],
            "type": "histogram2d"
           }
          ],
          "histogram2dcontour": [
           {
            "colorbar": {
             "outlinewidth": 0,
             "ticks": ""
            },
            "colorscale": [
             [
              0,
              "#0d0887"
             ],
             [
              0.1111111111111111,
              "#46039f"
             ],
             [
              0.2222222222222222,
              "#7201a8"
             ],
             [
              0.3333333333333333,
              "#9c179e"
             ],
             [
              0.4444444444444444,
              "#bd3786"
             ],
             [
              0.5555555555555556,
              "#d8576b"
             ],
             [
              0.6666666666666666,
              "#ed7953"
             ],
             [
              0.7777777777777778,
              "#fb9f3a"
             ],
             [
              0.8888888888888888,
              "#fdca26"
             ],
             [
              1,
              "#f0f921"
             ]
            ],
            "type": "histogram2dcontour"
           }
          ],
          "mesh3d": [
           {
            "colorbar": {
             "outlinewidth": 0,
             "ticks": ""
            },
            "type": "mesh3d"
           }
          ],
          "parcoords": [
           {
            "line": {
             "colorbar": {
              "outlinewidth": 0,
              "ticks": ""
             }
            },
            "type": "parcoords"
           }
          ],
          "pie": [
           {
            "automargin": true,
            "type": "pie"
           }
          ],
          "scatter": [
           {
            "fillpattern": {
             "fillmode": "overlay",
             "size": 10,
             "solidity": 0.2
            },
            "type": "scatter"
           }
          ],
          "scatter3d": [
           {
            "line": {
             "colorbar": {
              "outlinewidth": 0,
              "ticks": ""
             }
            },
            "marker": {
             "colorbar": {
              "outlinewidth": 0,
              "ticks": ""
             }
            },
            "type": "scatter3d"
           }
          ],
          "scattercarpet": [
           {
            "marker": {
             "colorbar": {
              "outlinewidth": 0,
              "ticks": ""
             }
            },
            "type": "scattercarpet"
           }
          ],
          "scattergeo": [
           {
            "marker": {
             "colorbar": {
              "outlinewidth": 0,
              "ticks": ""
             }
            },
            "type": "scattergeo"
           }
          ],
          "scattergl": [
           {
            "marker": {
             "colorbar": {
              "outlinewidth": 0,
              "ticks": ""
             }
            },
            "type": "scattergl"
           }
          ],
          "scattermapbox": [
           {
            "marker": {
             "colorbar": {
              "outlinewidth": 0,
              "ticks": ""
             }
            },
            "type": "scattermapbox"
           }
          ],
          "scatterpolar": [
           {
            "marker": {
             "colorbar": {
              "outlinewidth": 0,
              "ticks": ""
             }
            },
            "type": "scatterpolar"
           }
          ],
          "scatterpolargl": [
           {
            "marker": {
             "colorbar": {
              "outlinewidth": 0,
              "ticks": ""
             }
            },
            "type": "scatterpolargl"
           }
          ],
          "scatterternary": [
           {
            "marker": {
             "colorbar": {
              "outlinewidth": 0,
              "ticks": ""
             }
            },
            "type": "scatterternary"
           }
          ],
          "surface": [
           {
            "colorbar": {
             "outlinewidth": 0,
             "ticks": ""
            },
            "colorscale": [
             [
              0,
              "#0d0887"
             ],
             [
              0.1111111111111111,
              "#46039f"
             ],
             [
              0.2222222222222222,
              "#7201a8"
             ],
             [
              0.3333333333333333,
              "#9c179e"
             ],
             [
              0.4444444444444444,
              "#bd3786"
             ],
             [
              0.5555555555555556,
              "#d8576b"
             ],
             [
              0.6666666666666666,
              "#ed7953"
             ],
             [
              0.7777777777777778,
              "#fb9f3a"
             ],
             [
              0.8888888888888888,
              "#fdca26"
             ],
             [
              1,
              "#f0f921"
             ]
            ],
            "type": "surface"
           }
          ],
          "table": [
           {
            "cells": {
             "fill": {
              "color": "#EBF0F8"
             },
             "line": {
              "color": "white"
             }
            },
            "header": {
             "fill": {
              "color": "#C8D4E3"
             },
             "line": {
              "color": "white"
             }
            },
            "type": "table"
           }
          ]
         },
         "layout": {
          "annotationdefaults": {
           "arrowcolor": "#2a3f5f",
           "arrowhead": 0,
           "arrowwidth": 1
          },
          "autotypenumbers": "strict",
          "coloraxis": {
           "colorbar": {
            "outlinewidth": 0,
            "ticks": ""
           }
          },
          "colorscale": {
           "diverging": [
            [
             0,
             "#8e0152"
            ],
            [
             0.1,
             "#c51b7d"
            ],
            [
             0.2,
             "#de77ae"
            ],
            [
             0.3,
             "#f1b6da"
            ],
            [
             0.4,
             "#fde0ef"
            ],
            [
             0.5,
             "#f7f7f7"
            ],
            [
             0.6,
             "#e6f5d0"
            ],
            [
             0.7,
             "#b8e186"
            ],
            [
             0.8,
             "#7fbc41"
            ],
            [
             0.9,
             "#4d9221"
            ],
            [
             1,
             "#276419"
            ]
           ],
           "sequential": [
            [
             0,
             "#0d0887"
            ],
            [
             0.1111111111111111,
             "#46039f"
            ],
            [
             0.2222222222222222,
             "#7201a8"
            ],
            [
             0.3333333333333333,
             "#9c179e"
            ],
            [
             0.4444444444444444,
             "#bd3786"
            ],
            [
             0.5555555555555556,
             "#d8576b"
            ],
            [
             0.6666666666666666,
             "#ed7953"
            ],
            [
             0.7777777777777778,
             "#fb9f3a"
            ],
            [
             0.8888888888888888,
             "#fdca26"
            ],
            [
             1,
             "#f0f921"
            ]
           ],
           "sequentialminus": [
            [
             0,
             "#0d0887"
            ],
            [
             0.1111111111111111,
             "#46039f"
            ],
            [
             0.2222222222222222,
             "#7201a8"
            ],
            [
             0.3333333333333333,
             "#9c179e"
            ],
            [
             0.4444444444444444,
             "#bd3786"
            ],
            [
             0.5555555555555556,
             "#d8576b"
            ],
            [
             0.6666666666666666,
             "#ed7953"
            ],
            [
             0.7777777777777778,
             "#fb9f3a"
            ],
            [
             0.8888888888888888,
             "#fdca26"
            ],
            [
             1,
             "#f0f921"
            ]
           ]
          },
          "colorway": [
           "#636efa",
           "#EF553B",
           "#00cc96",
           "#ab63fa",
           "#FFA15A",
           "#19d3f3",
           "#FF6692",
           "#B6E880",
           "#FF97FF",
           "#FECB52"
          ],
          "font": {
           "color": "#2a3f5f"
          },
          "geo": {
           "bgcolor": "white",
           "lakecolor": "white",
           "landcolor": "white",
           "showlakes": true,
           "showland": true,
           "subunitcolor": "#C8D4E3"
          },
          "hoverlabel": {
           "align": "left"
          },
          "hovermode": "closest",
          "mapbox": {
           "style": "light"
          },
          "paper_bgcolor": "white",
          "plot_bgcolor": "white",
          "polar": {
           "angularaxis": {
            "gridcolor": "#EBF0F8",
            "linecolor": "#EBF0F8",
            "ticks": ""
           },
           "bgcolor": "white",
           "radialaxis": {
            "gridcolor": "#EBF0F8",
            "linecolor": "#EBF0F8",
            "ticks": ""
           }
          },
          "scene": {
           "xaxis": {
            "backgroundcolor": "white",
            "gridcolor": "#DFE8F3",
            "gridwidth": 2,
            "linecolor": "#EBF0F8",
            "showbackground": true,
            "ticks": "",
            "zerolinecolor": "#EBF0F8"
           },
           "yaxis": {
            "backgroundcolor": "white",
            "gridcolor": "#DFE8F3",
            "gridwidth": 2,
            "linecolor": "#EBF0F8",
            "showbackground": true,
            "ticks": "",
            "zerolinecolor": "#EBF0F8"
           },
           "zaxis": {
            "backgroundcolor": "white",
            "gridcolor": "#DFE8F3",
            "gridwidth": 2,
            "linecolor": "#EBF0F8",
            "showbackground": true,
            "ticks": "",
            "zerolinecolor": "#EBF0F8"
           }
          },
          "shapedefaults": {
           "line": {
            "color": "#2a3f5f"
           }
          },
          "ternary": {
           "aaxis": {
            "gridcolor": "#DFE8F3",
            "linecolor": "#A2B1C6",
            "ticks": ""
           },
           "baxis": {
            "gridcolor": "#DFE8F3",
            "linecolor": "#A2B1C6",
            "ticks": ""
           },
           "bgcolor": "white",
           "caxis": {
            "gridcolor": "#DFE8F3",
            "linecolor": "#A2B1C6",
            "ticks": ""
           }
          },
          "title": {
           "x": 0.05
          },
          "xaxis": {
           "automargin": true,
           "gridcolor": "#EBF0F8",
           "linecolor": "#EBF0F8",
           "ticks": "",
           "title": {
            "standoff": 15
           },
           "zerolinecolor": "#EBF0F8",
           "zerolinewidth": 2
          },
          "yaxis": {
           "automargin": true,
           "gridcolor": "#EBF0F8",
           "linecolor": "#EBF0F8",
           "ticks": "",
           "title": {
            "standoff": 15
           },
           "zerolinecolor": "#EBF0F8",
           "zerolinewidth": 2
          }
         }
        },
        "title": {
         "text": "Distribución de Valores MT - Escenario: scenario_1"
        },
        "xaxis": {
         "anchor": "y",
         "domain": [
          0,
          1
         ],
         "title": {
          "text": "Valor MT"
         }
        },
        "xaxis2": {
         "anchor": "y2",
         "domain": [
          0,
          1
         ],
         "matches": "x",
         "showgrid": true,
         "showticklabels": false
        },
        "yaxis": {
         "anchor": "x",
         "domain": [
          0,
          0.7326
         ],
         "title": {
          "text": "Frecuencia (Número de Pares)"
         }
        },
        "yaxis2": {
         "anchor": "x2",
         "domain": [
          0.7426,
          1
         ],
         "matches": "y2",
         "showgrid": false,
         "showline": false,
         "showticklabels": false,
         "ticks": ""
        }
       }
      }
     },
     "metadata": {},
     "output_type": "display_data"
    },
    {
     "name": "stdout",
     "output_type": "stream",
     "text": [
      "--- Plot generation, saving, and display complete for Scenario: scenario_1 ---\n",
      "\n",
      "--- Analysis Complete for Scenario: scenario_1 ---\n",
      "\n",
      "============================================\n",
      "=== Script Execution Finished ===\n",
      "============================================\n"
     ]
    }
   ],
   "source": [
    "# %% Import Libraries\n",
    "import json\n",
    "import matplotlib.pyplot as plt # Still needed for TMT summary plot if run for all\n",
    "import numpy as np\n",
    "import pandas as pd\n",
    "from collections import defaultdict\n",
    "import os\n",
    "import plotly.graph_objects as go\n",
    "import plotly.express as px\n",
    "import plotly.io as pio\n",
    "import traceback # For detailed error reporting\n",
    "\n",
    "# %% Configuration\n",
    "# Set default Plotly template\n",
    "# --- CORRECTED TEMPLATE NAME ---\n",
    "pio.templates.default = \"plotly_white\" # Standard template for white background\n",
    "# -------------------------------\n",
    "\n",
    "json_file_path = \"/Users/gustavo/Documents/Projects/TESIS_UNAL/ADAPTIVE_ALGORITHM/data/processed/independent_relay_pairs_automation.json\"\n",
    "# Output directory for results - will be created if it doesn't exist\n",
    "output_dir = \"/Users/gustavo/Documents/Projects/TESIS_UNAL/ADAPTIVE_ALGORITHM/results/coordination_plots\"\n",
    "\n",
    "# Coordination Time Interval (CTI)\n",
    "CTI = 0.2\n",
    "\n",
    "# %% Helper Functions\n",
    "\n",
    "def calculate_MT(tm, tb, cti=CTI):\n",
    "    \"\"\"Calculates the Miscoordination Index (MT) and the time difference delta.\"\"\"\n",
    "    delta_tmb = tb - tm - cti\n",
    "    MT = (delta_tmb - abs(delta_tmb)) / 2\n",
    "    return MT, delta_tmb\n",
    "\n",
    "def analyze_by_scenario(data, cti=CTI):\n",
    "    \"\"\"\n",
    "    Analyzes relay pair data, calculating MT, Delta_t, TMT,\n",
    "    and extracting additional info (line, fault) for each scenario.\n",
    "    Returns a dictionary mapping scenario_id to its analysis results (DataFrame, TMT).\n",
    "    \"\"\"\n",
    "    scenarios = defaultdict(lambda: {\"pairs_data\": []})\n",
    "    print(\"Starting data extraction and processing for scenarios...\")\n",
    "    processed_count = 0\n",
    "    skipped_count = 0\n",
    "    # --- Data Extraction and Initial Processing ---\n",
    "    for idx, relay_pair in enumerate(data):\n",
    "        record_label = f\"Record {idx+1}\"\n",
    "        scenario_id = relay_pair.get(\"scenario_id\")\n",
    "        if not scenario_id:\n",
    "            # print(f\"Warning: Skipping record {idx+1} - Missing 'scenario_id'.\")\n",
    "            skipped_count += 1\n",
    "            continue\n",
    "\n",
    "        record_label = f\"{record_label} (Scenario: {scenario_id})\"\n",
    "        main_relay = relay_pair.get(\"main_relay\")\n",
    "        backup_relay = relay_pair.get(\"backup_relay\")\n",
    "        if not main_relay or not backup_relay:\n",
    "            # print(f\"Warning: Skipping {record_label} - Missing 'main_relay' or 'backup_relay' data.\")\n",
    "            skipped_count += 1\n",
    "            continue\n",
    "\n",
    "        tm_val = main_relay.get(\"Time_out\")\n",
    "        tb_val = backup_relay.get(\"Time_out\")\n",
    "        main_relay_id = main_relay.get(\"relay\", f\"Main_Unknown_{idx+1}\")\n",
    "        backup_relay_id = backup_relay.get(\"relay\", f\"Backup_Unknown_{idx+1}\")\n",
    "        pair_name = f\"{main_relay_id}-{backup_relay_id}\"\n",
    "        record_label = f\"{record_label}, Pair: {pair_name}\"\n",
    "\n",
    "        if tm_val is None or tb_val is None:\n",
    "            # print(f\"Warning: Skipping {record_label} - Missing 'Time_out' for main or backup relay.\")\n",
    "            skipped_count += 1\n",
    "            continue\n",
    "\n",
    "        line_info = relay_pair.get('line', main_relay.get('line', backup_relay.get('line', 'N/A')))\n",
    "        fault_info = relay_pair.get('fault', main_relay.get('fault', backup_relay.get('fault', 'N/A')))\n",
    "\n",
    "        try:\n",
    "             tm_float = float(tm_val)\n",
    "             tb_float = float(tb_val)\n",
    "             if tm_float < 0 or tb_float < 0:\n",
    "                 # print(f\"Warning: Skipping {record_label} - Negative time values detected (Tm={tm_float}, Tb={tb_float}).\")\n",
    "                 skipped_count += 1\n",
    "                 continue\n",
    "             mt, delta_t = calculate_MT(tm_float, tb_float, cti)\n",
    "        except (ValueError, TypeError) as e:\n",
    "             print(f\"Warning: Could not calculate MT for {record_label}. Invalid time values? Tm='{tm_val}', Tb='{tb_val}'. Error: {e}\")\n",
    "             skipped_count += 1\n",
    "             continue\n",
    "\n",
    "        pair_info = {\n",
    "            \"pair_label\": pair_name, \"mt\": mt, \"delta_t\": delta_t,\n",
    "            \"tm\": tm_float, \"tb\": tb_float, \"main_relay_id\": main_relay_id,\n",
    "            \"backup_relay_id\": backup_relay_id, \"line\": line_info,\n",
    "            \"fault\": fault_info, \"status\": \"Coordinado\" if delta_t >= 0 else \"Descoordinado\"\n",
    "        }\n",
    "        scenarios[scenario_id][\"pairs_data\"].append(pair_info)\n",
    "        processed_count += 1\n",
    "\n",
    "    print(f\"Data extraction complete. Processed pairs: {processed_count}, Skipped records/pairs: {skipped_count}\")\n",
    "\n",
    "    # --- Aggregation per Scenario ---\n",
    "    print(\"Aggregating results per scenario...\")\n",
    "    results = {}\n",
    "    all_scenario_ids = sorted(list(scenarios.keys()))\n",
    "\n",
    "    if not all_scenario_ids:\n",
    "        print(\"No scenarios found with valid data after processing.\")\n",
    "        return results\n",
    "\n",
    "    for scenario_id in all_scenario_ids:\n",
    "        scenario_pairs_list = scenarios[scenario_id][\"pairs_data\"]\n",
    "        if not scenario_pairs_list:\n",
    "            # print(f\"Info: Scenario '{scenario_id}' has no valid pairs after processing.\")\n",
    "            continue\n",
    "        try:\n",
    "            df = pd.DataFrame(scenario_pairs_list)\n",
    "            tmt = df[\"mt\"].sum()\n",
    "            results[scenario_id] = {\"detailed_df\": df, \"TMT\": tmt}\n",
    "            # print(f\"Scenario '{scenario_id}' processed. TMT: {tmt:.4f}, Pairs: {len(df)}\")\n",
    "        except Exception as e:\n",
    "            print(f\"Error creating DataFrame or calculating TMT for scenario '{scenario_id}': {e}\")\n",
    "            continue\n",
    "\n",
    "    print(\"Scenario aggregation complete.\")\n",
    "    return results\n",
    "\n",
    "\n",
    "# %% Plotting Functions\n",
    "\n",
    "def plot_scenario_details_plotly(scenario_data_df, scenario_id, output_dir, cti=CTI):\n",
    "    \"\"\"\n",
    "    Generates, SAVES, and DISPLAYS multiple interactive Plotly charts for a scenario:\n",
    "    1. MT Bar Chart\n",
    "    2. Delta_t Bar Chart  <-- NEW\n",
    "    3. Delta_t Scatter Plot\n",
    "    4. MT Histogram\n",
    "    \"\"\"\n",
    "    if not isinstance(scenario_data_df, pd.DataFrame) or scenario_data_df.empty:\n",
    "        print(f\"Plotting skipped for scenario {scenario_id}: No valid DataFrame provided.\")\n",
    "        return\n",
    "\n",
    "    print(f\"\\n--- Generating Plots for Scenario: {scenario_id} ---\")\n",
    "    # Sort by MT for consistent ordering in MT and Delta_t plots\n",
    "    df_sorted_mt = scenario_data_df.sort_values(by='mt', ascending=True).reset_index(drop=True)\n",
    "    df_sorted_mt['plot_index'] = df_sorted_mt.index + 1\n",
    "    tmt = df_sorted_mt[\"mt\"].sum()\n",
    "    n_pairs = len(df_sorted_mt)\n",
    "\n",
    "    # Common hover text generation logic (avoids repetition)\n",
    "    def generate_hover_text(row):\n",
    "        return (f\"<b>{row['pair_label']}</b><br>Índice Plot: {row['plot_index']}<br>\" +\n",
    "                f\"MT: {row['mt']:.4f} | <b>Δt: {row['delta_t']:.4f}s</b><br>\" +\n",
    "                f\"Tm: {row['tm']:.4f}s | Tb: {row['tb']:.4f}s<br>Línea: {row['line']} | Falla: {row['fault']}<br>\" +\n",
    "                f\"Estado: {row['status']}<extra></extra>\")\n",
    "\n",
    "    hover_texts = [generate_hover_text(row) for _, row in df_sorted_mt.iterrows()]\n",
    "\n",
    "    # --- 1. MT Bar Chart (Shows all pairs, positive and negative MT) ---\n",
    "    try:\n",
    "        print(f\"  Generating MT Bar Chart...\")\n",
    "        colors_mt = ['red' if mt < 0 else 'green' for mt in df_sorted_mt['mt']]\n",
    "        fig_mt_bar = go.Figure(data=[go.Bar(\n",
    "            x=df_sorted_mt['plot_index'], y=df_sorted_mt['mt'], marker_color=colors_mt,\n",
    "            name='Índice MT', text=hover_texts, hoverinfo='text'\n",
    "        )])\n",
    "        fig_mt_bar.add_hline(y=0, line_width=1.5, line_dash=\"dash\", line_color=\"black\")\n",
    "        fig_mt_bar.update_layout(\n",
    "            title=f'Índice de Descoordinación (MT) - Escenario: {scenario_id}<br><sup>TMT = {tmt:.4f} | Pares = {n_pairs}</sup>',\n",
    "            xaxis_title='Índice del Par de Relés (Ordenado por MT Ascendente)', yaxis_title='Índice MT',\n",
    "            xaxis=dict(tickmode='auto'),\n",
    "            yaxis=dict(gridcolor='lightgrey', zerolinecolor='black', zerolinewidth=1.5),\n",
    "            bargap=0.1, height=max(500, 400 + n_pairs * 5), margin=dict(l=60, r=30, t=100, b=100)\n",
    "        )\n",
    "    except Exception as e:\n",
    "        print(f\"    Error generating MT Bar Chart: {e}\")\n",
    "        fig_mt_bar = None\n",
    "\n",
    "    # --- 2. Delta_t Bar Chart (Shows all pairs, positive and negative Delta_t) --- <<< NEW PLOT\n",
    "    try:\n",
    "        print(f\"  Generating Delta_t Bar Chart...\")\n",
    "        colors_delta = ['red' if delta_t < 0 else 'green' for delta_t in df_sorted_mt['delta_t']]\n",
    "        fig_delta_bar = go.Figure(data=[go.Bar(\n",
    "            x=df_sorted_mt['plot_index'], y=df_sorted_mt['delta_t'], marker_color=colors_delta,\n",
    "            name='Δt (Tb - Tm - CTI)', text=hover_texts, hoverinfo='text'\n",
    "        )])\n",
    "        fig_delta_bar.add_hline(y=0, line_width=1.5, line_dash=\"dash\", line_color=\"black\",\n",
    "                                annotation_text=\"Límite CTI (Δt=0)\", annotation_position=\"bottom right\")\n",
    "        fig_delta_bar.update_layout(\n",
    "            title=f'Diferencia de Tiempo (Δt = Tb - Tm - CTI) - Escenario: {scenario_id}<br><sup>CTI = {cti}s</sup>',\n",
    "            xaxis_title='Índice del Par de Relés (Ordenado por MT Ascendente)', yaxis_title='Δt [s]',\n",
    "            xaxis=dict(tickmode='auto'),\n",
    "            yaxis=dict(gridcolor='lightgrey', zerolinecolor='black', zerolinewidth=1.5),\n",
    "            bargap=0.1, height=max(500, 400 + n_pairs * 5), margin=dict(l=60, r=30, t=100, b=100)\n",
    "        )\n",
    "    except Exception as e:\n",
    "        print(f\"    Error generating Delta_t Bar Chart: {e}\")\n",
    "        fig_delta_bar = None\n",
    "\n",
    "    # --- 3. Delta_t Scatter Plot (Shows all pairs, colors by status) ---\n",
    "    try:\n",
    "        print(f\"  Generating Delta_t Scatter Plot...\")\n",
    "        fig_delta_scatter = px.scatter(\n",
    "            df_sorted_mt, x='plot_index', y='delta_t', color='status',\n",
    "            color_discrete_map={'Coordinado': 'green', 'Descoordinado': 'red'},\n",
    "            hover_data={'plot_index': False, 'pair_label': True, 'delta_t': ':.4f', 'mt': ':.4f',\n",
    "                        'tm': ':.4f', 'tb': ':.4f', 'line': True, 'fault': True, 'status': True},\n",
    "            title=f'Diferencia de Tiempo (Δt vs Índice) - Escenario: {scenario_id}<br><sup>CTI = {cti}s</sup>'\n",
    "        )\n",
    "        fig_delta_scatter.add_hline(y=0, line_width=1.5, line_dash=\"dash\", line_color=\"black\",\n",
    "                                     annotation_text=\"Límite CTI (Δt=0)\", annotation_position=\"bottom right\")\n",
    "        fig_delta_scatter.update_layout(\n",
    "            xaxis_title='Índice del Par de Relés (Ordenado por MT Ascendente)', yaxis_title='Δt (Tb - Tm - CTI) [s]',\n",
    "            xaxis=dict(tickmode='auto'), yaxis=dict(gridcolor='lightgrey', zerolinecolor='black', zerolinewidth=1.5),\n",
    "            legend_title_text='Estado Coordinación'\n",
    "        )\n",
    "        fig_delta_scatter.update_traces(marker=dict(size=8, opacity=0.7), selector=dict(mode='markers'))\n",
    "    except Exception as e:\n",
    "        print(f\"    Error generating Delta_t Scatter Plot: {e}\")\n",
    "        fig_delta_scatter = None\n",
    "\n",
    "    # --- 4. MT Histogram ---\n",
    "    try:\n",
    "        print(f\"  Generating MT Histogram...\")\n",
    "        fig_mt_hist = px.histogram(\n",
    "            df_sorted_mt, x='mt', color='status',\n",
    "            color_discrete_map={'Coordinado': 'green', 'Descoordinado': 'red'},\n",
    "            marginal='box', nbins=max(10, n_pairs // 5),\n",
    "            title=f\"Distribución de Valores MT - Escenario: {scenario_id}\"\n",
    "        )\n",
    "        fig_mt_hist.update_layout(\n",
    "            xaxis_title='Valor MT', yaxis_title='Frecuencia (Número de Pares)',\n",
    "            legend_title_text='Estado Coordinación', bargap=0.1\n",
    "        )\n",
    "    except Exception as e:\n",
    "        print(f\"    Error generating MT Histogram: {e}\")\n",
    "        fig_mt_hist = None\n",
    "\n",
    "    # --- Save Plots ---\n",
    "    plots_to_save = {\n",
    "        \"mt_bar\": fig_mt_bar,\n",
    "        \"delta_bar\": fig_delta_bar, # <<< Added new plot\n",
    "        \"delta_scatter\": fig_delta_scatter,\n",
    "        \"mt_histogram\": fig_mt_hist\n",
    "    }\n",
    "    print(f\"  Saving plots for {scenario_id}...\")\n",
    "    kaleido_error_shown = False\n",
    "    for name, fig in plots_to_save.items():\n",
    "        if fig is None:\n",
    "            print(f\"    Skipping saving/display for '{name}' plot (generation failed).\")\n",
    "            continue\n",
    "        base_filename = os.path.join(output_dir, f\"{scenario_id}_{name}\") # Use os.path.join\n",
    "        html_filename = f\"{base_filename}.html\"\n",
    "        png_filename = f\"{base_filename}.png\"\n",
    "\n",
    "        # Save HTML\n",
    "        try: fig.write_html(html_filename)\n",
    "        except Exception as e: print(f\"    Error saving HTML plot '{html_filename}': {e}\")\n",
    "\n",
    "        # Save PNG (optional, requires kaleido)\n",
    "        try: fig.write_image(png_filename, scale=2)\n",
    "        except ValueError as e:\n",
    "            if \"kaleido\" in str(e) and not kaleido_error_shown:\n",
    "                print(\"\\n    Info: Install kaleido for static PNG export: pip install -U kaleido\")\n",
    "                print(\"    Skipping further PNG saving attempts if Kaleido is missing.\\n\")\n",
    "                kaleido_error_shown = True\n",
    "            elif \"kaleido\" not in str(e): print(f\"    Error saving static image '{png_filename}': {e}\")\n",
    "        except Exception as e: print(f\"    Unexpected error saving static image '{png_filename}': {e}\")\n",
    "\n",
    "        # --- DISPLAY PLOT IN JUPYTER/OUTPUT ---\n",
    "        print(f\"    Displaying {name} plot...\")\n",
    "        fig.show() # This line displays the plot in the notebook output or default browser\n",
    "        # ---------------------------------\n",
    "\n",
    "    print(f\"--- Plot generation, saving, and display complete for Scenario: {scenario_id} ---\")\n",
    "\n",
    "\n",
    "# %% Main Execution Logic - Focused on Single Scenario\n",
    "\n",
    "def main_analyze_single_scenario(data, scenario_id_to_analyze, cti=CTI):\n",
    "    \"\"\"\n",
    "    Loads data, performs analysis, generates detailed table, stats, and plots\n",
    "    SPECIFICALLY for the given scenario_id_to_analyze.\n",
    "    \"\"\"\n",
    "    print(f\"--- Starting Analysis for Single Scenario: {scenario_id_to_analyze} ---\")\n",
    "    print(f\"Using CTI = {cti}s\")\n",
    "\n",
    "    # --- Ensure Output Directory Exists ---\n",
    "    try:\n",
    "        os.makedirs(output_dir, exist_ok=True)\n",
    "        print(f\"Results will be saved in: {output_dir}\")\n",
    "    except OSError as e:\n",
    "        print(f\"Error: Could not create output directory '{output_dir}'. Check permissions. Error: {e}\")\n",
    "        return\n",
    "\n",
    "    # --- Analyze Data (for all scenarios, then filter) ---\n",
    "    all_results = analyze_by_scenario(data, cti)\n",
    "\n",
    "    if not all_results:\n",
    "        print(\"Error: Analysis yielded no results. Please check input data and analysis function.\")\n",
    "        return\n",
    "\n",
    "    # --- Detailed Analysis for the Specified Scenario ---\n",
    "    if scenario_id_to_analyze in all_results:\n",
    "        print(f\"\\n--- Processing Detailed Analysis for: {scenario_id_to_analyze} ---\")\n",
    "        scenario_result = all_results[scenario_id_to_analyze]\n",
    "        detailed_df = scenario_result.get(\"detailed_df\")\n",
    "\n",
    "        if detailed_df is not None and not detailed_df.empty:\n",
    "            try:\n",
    "                detailed_df_sorted = detailed_df.sort_values(by=\"mt\", ascending=True).reset_index(drop=True)\n",
    "            except KeyError:\n",
    "                 print(f\"Error: 'mt' column not found in DataFrame for scenario {scenario_id_to_analyze}. Cannot proceed.\")\n",
    "                 return\n",
    "\n",
    "            # --- Print Coordination Summary Statistics ---\n",
    "            print(\"\\n--- Resumen de Coordinación ---\") # <<< Renamed section for clarity\n",
    "            n_total = len(detailed_df_sorted)\n",
    "            n_coord = len(detailed_df_sorted[detailed_df_sorted['status'] == 'Coordinado'])\n",
    "            n_descoord = n_total - n_coord\n",
    "            coord_pct = (n_coord / n_total * 100) if n_total > 0 else 0\n",
    "            descoord_pct = (n_descoord / n_total * 100) if n_total > 0 else 0\n",
    "            print(f\"Total Pares Analizados: {n_total}\")\n",
    "            print(f\"Pares Coordinados (Δt >= 0): {n_coord} ({coord_pct:.1f}%)\") # <<< Shows count and percentage\n",
    "            print(f\"Pares Descoordinados (Δt < 0): {n_descoord} ({descoord_pct:.1f}%)\") # <<< Shows count and percentage\n",
    "\n",
    "            print(\"\\n--- Estadísticas del Índice MT ---\")\n",
    "            try:\n",
    "                print(detailed_df_sorted['mt'].describe().to_string())\n",
    "            except Exception as e:\n",
    "                print(f\"  Could not generate MT statistics: {e}\")\n",
    "            print(f\"TMT (Suma MT): {scenario_result.get('TMT', 0):.5f}\")\n",
    "\n",
    "            # --- Identify and Print Worst Coordinated Pair --- <<< MODIFIED SECTION\n",
    "            uncoordinated_pairs = detailed_df_sorted[detailed_df_sorted['status'] == 'Descoordinado']\n",
    "            if not uncoordinated_pairs.empty:\n",
    "                # Find the single worst pair (minimum MT)\n",
    "                worst_pair = uncoordinated_pairs.loc[uncoordinated_pairs['mt'].idxmin()]\n",
    "\n",
    "                print(\"\\n--- Par Más Descoordinado (Peor MT) ---\") # <<< Specific heading\n",
    "                print(f\"Par (P-R): {worst_pair['pair_label']}\")\n",
    "                print(f\"MT:        {worst_pair['mt']:.4f}\")\n",
    "                print(f\"Δt:        {worst_pair['delta_t']:.4f} s\")\n",
    "                print(f\"Tm:        {worst_pair['tm']:.4f} s\")\n",
    "                print(f\"Tb:        {worst_pair['tb']:.4f} s\")\n",
    "                print(f\"Línea:     {worst_pair['line']}\")\n",
    "                print(f\"Falla:     {worst_pair['fault']}\")\n",
    "\n",
    "                # --- Optionally print Top 10 list as before ---\n",
    "                print(\"\\n--- Top 10 Pares con Mayor Descoordinación (Ordenados por Peor MT) ---\")\n",
    "                worst_pairs_display = uncoordinated_pairs.head(10)\n",
    "                display_cols = ['pair_label', 'mt', 'delta_t', 'tm', 'tb', 'line', 'fault']\n",
    "                existing_display_cols = [col for col in display_cols if col in worst_pairs_display.columns]\n",
    "                # Create a copy to avoid SettingWithCopyWarning\n",
    "                worst_pairs_display_formatted = worst_pairs_display[existing_display_cols].copy()\n",
    "                worst_pairs_display_formatted = worst_pairs_display_formatted.rename(\n",
    "                    columns={'pair_label': 'Par (P-R)', 'delta_t': 'Δt', 'line': 'Línea', 'fault': 'Falla'})\n",
    "                float_cols = worst_pairs_display_formatted.select_dtypes(include=['float']).columns\n",
    "                for col in float_cols:\n",
    "                     worst_pairs_display_formatted[col] = worst_pairs_display_formatted[col].map('{:.4f}'.format)\n",
    "                pd.set_option('display.max_rows', 20)\n",
    "                pd.set_option('display.width', 120)\n",
    "                print(worst_pairs_display_formatted.to_string(index=False))\n",
    "            else:\n",
    "                print(\"\\n--- ¡Excelente! No se encontraron pares descoordinados en este escenario. ---\")\n",
    "\n",
    "            # --- Save Detailed DataFrame to CSV ---\n",
    "            csv_filename = os.path.join(output_dir, f\"{scenario_id_to_analyze}_detailed_results.csv\") # Use os.path.join\n",
    "            print(f\"\\nSaving detailed results to CSV: {csv_filename}\")\n",
    "            try:\n",
    "                detailed_df_sorted.to_csv(csv_filename, index=False, encoding='utf-8-sig')\n",
    "                print(f\"  Successfully saved.\")\n",
    "            except Exception as e:\n",
    "                print(f\"  Error saving detailed CSV: {e}\")\n",
    "\n",
    "            # --- Generate AND DISPLAY Plotly Plots ---\n",
    "            plot_scenario_details_plotly(detailed_df_sorted, scenario_id_to_analyze, output_dir, cti)\n",
    "\n",
    "        else:\n",
    "            print(f\"No valid pair data found in DataFrame to generate table or plots for {scenario_id_to_analyze}.\")\n",
    "\n",
    "    else:\n",
    "        print(f\"Error: El escenario '{scenario_id_to_analyze}' especificado no se encontró en los resultados del análisis.\")\n",
    "        available_scenarios = list(all_results.keys()) if all_results else \"None\"\n",
    "        print(f\"Available scenarios found: {available_scenarios}\")\n",
    "\n",
    "    print(f\"\\n--- Analysis Complete for Scenario: {scenario_id_to_analyze} ---\")\n",
    "\n",
    "\n",
    "# %% Script Entry Point - Execute Analysis for Scenario 1\n",
    "\n",
    "if __name__ == \"__main__\":\n",
    "    # This block executes when the script is run directly (or a cell in Jupyter)\n",
    "    print(\"============================================\")\n",
    "    print(\"=== Relay Coordination Analysis Script ===\")\n",
    "    print(\"===       Mode: Analyze Scenario 1       ===\")\n",
    "    print(\"============================================\")\n",
    "\n",
    "    # --- Create dummy data and directory for execution if file doesn't exist ---\n",
    "    # This is just for demonstration if the actual file isn't available in the environment\n",
    "    # You should REPLACE json_file_path and output_dir with your actual paths above.\n",
    "    if not os.path.exists(os.path.dirname(json_file_path)):\n",
    "         os.makedirs(os.path.dirname(json_file_path), exist_ok=True)\n",
    "         print(f\"Created dummy directory: {os.path.dirname(json_file_path)}\")\n",
    "\n",
    "    if not os.path.exists(json_file_path):\n",
    "        print(f\"Warning: JSON file '{json_file_path}' not found. Creating a dummy file for demonstration.\")\n",
    "        dummy_data = [\n",
    "            {\"scenario_id\": \"scenario_1\", \"main_relay\": {\"relay\": \"P1\", \"Time_out\": 0.1, \"line\": \"L1\", \"fault\": \"F1\"}, \"backup_relay\": {\"relay\": \"R1\", \"Time_out\": 0.35}}, # Coordinated dt=0.05\n",
    "            {\"scenario_id\": \"scenario_1\", \"main_relay\": {\"relay\": \"P2\", \"Time_out\": 0.2, \"line\": \"L2\", \"fault\": \"F1\"}, \"backup_relay\": {\"relay\": \"R2\", \"Time_out\": 0.3}}, # Uncoordinated dt=-0.1, mt=-0.1\n",
    "            {\"scenario_id\": \"scenario_1\", \"main_relay\": {\"relay\": \"P3\", \"Time_out\": 0.15, \"line\": \"L1\", \"fault\": \"F2\"}, \"backup_relay\": {\"relay\": \"R3\", \"Time_out\": 0.25}}, # Uncoordinated dt=-0.1, mt=-0.1\n",
    "            {\"scenario_id\": \"scenario_1\", \"main_relay\": {\"relay\": \"P4\", \"Time_out\": 0.25, \"line\": \"L3\", \"fault\": \"F3\"}, \"backup_relay\": {\"relay\": \"R4\", \"Time_out\": 0.3}}, # Uncoordinated dt=-0.15, mt=-0.15 <- Worst\n",
    "            {\"scenario_id\": \"scenario_1\", \"main_relay\": {\"relay\": \"P5\", \"Time_out\": 0.3, \"line\": \"L2\", \"fault\": \"F2\"}, \"backup_relay\": {\"relay\": \"R5\", \"Time_out\": 0.6}}, # Coordinated dt=0.1\n",
    "            {\"scenario_id\": \"scenario_2\", \"main_relay\": {\"relay\": \"P6\", \"Time_out\": 0.1, \"line\": \"L4\", \"fault\": \"F4\"}, \"backup_relay\": {\"relay\": \"R6\", \"Time_out\": 0.4}}  # Different scenario\n",
    "        ]\n",
    "        try:\n",
    "            with open(json_file_path, 'w', encoding='utf-8') as f:\n",
    "                json.dump(dummy_data, f, indent=2)\n",
    "            print(f\"Successfully created dummy file: {json_file_path}\")\n",
    "        except Exception as e:\n",
    "            print(f\"Error creating dummy file: {e}\")\n",
    "            # Exit if dummy file creation fails and original wasn't found\n",
    "            exit() # Or handle differently\n",
    "\n",
    "    # --- Main execution ---\n",
    "    try:\n",
    "        print(f\"Attempting to load data from: {json_file_path}\")\n",
    "        if not os.path.exists(json_file_path):\n",
    "             abs_path = os.path.abspath(json_file_path)\n",
    "             raise FileNotFoundError(f\"JSON file not found: '{json_file_path}' (Absolute: '{abs_path}')\")\n",
    "        if not os.path.isfile(json_file_path):\n",
    "             raise FileNotFoundError(f\"Specified path is not a file: '{json_file_path}'\")\n",
    "\n",
    "        with open(json_file_path, 'r', encoding='utf-8') as file:\n",
    "            first_char = file.read(1)\n",
    "            if not first_char: raise ValueError(\"JSON file appears to be empty.\")\n",
    "            file.seek(0) # Rewind after checking\n",
    "            data = json.load(file)\n",
    "\n",
    "        if not isinstance(data, list):\n",
    "            raise TypeError(f\"Expected JSON root to be a List '[]', found type '{type(data)}'. Check JSON structure.\")\n",
    "        if not data:\n",
    "             print(\"Warning: JSON file loaded, but the list is empty. No data to analyze.\")\n",
    "             # Decide if exiting is appropriate\n",
    "             # exit() # Exit if no data - or remove this to let it proceed and show no results\n",
    "\n",
    "        print(f\"Successfully loaded {len(data)} records from JSON.\")\n",
    "\n",
    "        # --- Run the main analysis function, focusing ONLY on scenario_1 ---\n",
    "        TARGET_SCENARIO = \"scenario_1\"\n",
    "        # Check if data was loaded before proceeding\n",
    "        if data:\n",
    "            main_analyze_single_scenario(data, scenario_id_to_analyze=TARGET_SCENARIO, cti=CTI)\n",
    "        else:\n",
    "            print(\"Skipping analysis as no data was loaded.\")\n",
    "\n",
    "\n",
    "    # --- Exception Handling ---\n",
    "    except FileNotFoundError as e: print(f\"\\n--- Error ---\\nFile Not Found: {e}\\n*** Please ensure the 'json_file_path' variable is set correctly at the top of the script. ***\")\n",
    "    except ValueError as e: print(f\"\\n--- Error ---\\nValue Error: {e}\") # Catch empty file error\n",
    "    except TypeError as e: print(f\"\\n--- Error ---\\nType Error: {e}\") # Catch wrong JSON root type\n",
    "    except json.JSONDecodeError as e: print(f\"\\n--- Error ---\\nJSON Decode Error: {e.msg} at Line {e.lineno}, Col {e.colno}. Check JSON syntax.\")\n",
    "    except KeyError as e: print(f\"\\n--- Error ---\\nMissing Key Error: Required key {e} not found in the JSON data. Check data structure consistency.\")\n",
    "    except Exception as e:\n",
    "        print(f\"\\n--- An Unexpected Error Occurred ---\")\n",
    "        print(f\"Error Type: {type(e).__name__}\")\n",
    "        print(f\"Error Details: {str(e)}\")\n",
    "        print(\"\\n--- Traceback ---\")\n",
    "        traceback.print_exc()\n",
    "        print(\"-----------------\")\n",
    "\n",
    "    print(\"\\n============================================\")\n",
    "    print(\"=== Script Execution Finished ===\")\n",
    "    print(\"============================================\")"
   ]
  },
  {
   "cell_type": "markdown",
   "metadata": {},
   "source": [
    "# Analisys"
   ]
  },
  {
   "cell_type": "code",
   "execution_count": 18,
   "metadata": {},
   "outputs": [
    {
     "name": "stdout",
     "output_type": "stream",
     "text": [
      "Cargando datos desde: /Users/gustavo/Documents/Projects/TESIS_UNAL/ADAPTIVE_ALGORITHM/data/processed/independent_relay_pairs_automation.json\n",
      "Calculando TMT y coordinación por escenario...\n",
      "Preparando datos para visualización...\n",
      "Datos ordenados por escenario numéricamente.\n",
      "\n",
      "--- Resultados Detallados por Escenario (Ordenados) ---\n",
      "Escenario                      | Pares Válidos |  Coordinados | Descoordinados |   % Coord. |             TMT\n",
      "---------------------------------------------------------------------------------------------------\n",
      "scenario_1                     |           100 |           12 |             88 |      12.0% |        -15.8543\n",
      "scenario_2                     |           100 |           12 |             88 |      12.0% |        -18.9624\n",
      "scenario_3                     |           100 |           13 |             87 |      13.0% |        -17.8215\n",
      "scenario_4                     |           100 |           13 |             87 |      13.0% |        -15.2305\n",
      "scenario_5                     |           100 |           13 |             87 |      13.0% |        -24.9475\n",
      "scenario_6                     |           100 |           13 |             87 |      13.0% |        -20.9747\n",
      "scenario_7                     |           100 |           14 |             86 |      14.0% |        -17.7863\n",
      "scenario_8                     |           100 |           12 |             88 |      12.0% |        -19.0027\n",
      "scenario_9                     |           100 |           14 |             86 |      14.0% |        -20.1472\n",
      "scenario_10                    |           100 |           14 |             86 |      14.0% |        -19.2274\n",
      "scenario_11                    |           100 |           12 |             88 |      12.0% |        -17.8127\n",
      "scenario_12                    |           100 |           11 |             89 |      11.0% |        -18.1171\n",
      "scenario_13                    |           100 |           13 |             87 |      13.0% |        -18.4497\n",
      "scenario_14                    |           100 |           14 |             86 |      14.0% |        -45.6815\n",
      "scenario_15                    |           100 |           14 |             86 |      14.0% |        -32.1528\n",
      "scenario_16                    |           100 |           11 |             89 |      11.0% |        -23.6468\n",
      "scenario_17                    |           100 |           13 |             87 |      13.0% |        -17.7734\n",
      "scenario_18                    |           100 |           10 |             90 |      10.0% |        -18.3251\n",
      "scenario_19                    |           100 |           13 |             87 |      13.0% |        -18.0611\n",
      "scenario_20                    |           100 |           11 |             89 |      11.0% |        -18.2316\n",
      "scenario_21                    |           100 |           12 |             88 |      12.0% |        -15.9922\n",
      "scenario_22                    |           100 |           12 |             88 |      12.0% |        -15.8950\n",
      "scenario_23                    |           100 |           10 |             90 |      10.0% |        -15.6903\n",
      "scenario_24                    |           100 |           15 |             85 |      15.0% |        -15.5895\n",
      "scenario_25                    |           100 |           12 |             88 |      12.0% |        -15.6964\n",
      "scenario_26                    |           100 |            7 |             93 |       7.0% |        -15.8085\n",
      "scenario_27                    |           100 |           13 |             87 |      13.0% |        -15.8769\n",
      "scenario_28                    |           100 |           12 |             88 |      12.0% |        -15.8432\n",
      "scenario_29                    |           100 |           15 |             85 |      15.0% |        -15.7265\n",
      "scenario_30                    |           100 |            9 |             91 |       9.0% |        -15.6882\n",
      "scenario_31                    |           100 |           11 |             89 |      11.0% |        -15.8668\n",
      "scenario_32                    |           100 |           11 |             89 |      11.0% |        -15.8046\n",
      "scenario_33                    |           100 |           12 |             88 |      12.0% |        -15.5410\n",
      "scenario_34                    |           100 |           11 |             89 |      11.0% |        -15.6680\n",
      "scenario_35                    |           100 |           11 |             89 |      11.0% |        -15.5672\n",
      "scenario_36                    |           100 |           10 |             90 |      10.0% |        -15.6951\n",
      "scenario_37                    |           100 |           10 |             90 |      10.0% |        -19.9642\n",
      "scenario_38                    |           100 |            8 |             92 |       8.0% |        -19.4904\n",
      "scenario_39                    |           100 |           13 |             87 |      13.0% |        -17.9669\n",
      "scenario_40                    |           100 |           13 |             87 |      13.0% |        -17.8400\n",
      "scenario_41                    |           100 |           14 |             86 |      14.0% |        -18.7637\n",
      "scenario_42                    |           100 |           16 |             84 |      16.0% |        -17.7312\n",
      "scenario_43                    |           100 |           13 |             87 |      13.0% |        -17.5218\n",
      "scenario_44                    |           100 |           10 |             90 |      10.0% |        -17.6427\n",
      "scenario_45                    |           100 |           13 |             87 |      13.0% |        -22.8568\n",
      "scenario_46                    |           100 |           12 |             88 |      12.0% |        -21.0507\n",
      "scenario_47                    |           100 |           12 |             88 |      12.0% |        -20.7948\n",
      "scenario_48                    |           100 |           10 |             90 |      10.0% |        -19.9803\n",
      "scenario_49                    |           100 |           11 |             89 |      11.0% |        -17.7564\n",
      "scenario_50                    |           100 |            9 |             91 |       9.0% |        -17.7856\n",
      "scenario_51                    |           100 |           14 |             86 |      14.0% |        -17.5827\n",
      "scenario_52                    |           100 |           13 |             87 |      13.0% |        -17.6468\n",
      "scenario_53                    |           100 |            9 |             91 |       9.0% |        -15.5084\n",
      "scenario_54                    |           100 |           13 |             87 |      13.0% |        -15.3747\n",
      "scenario_55                    |           100 |           15 |             85 |      15.0% |        -15.0913\n",
      "scenario_56                    |           100 |           12 |             88 |      12.0% |        -14.9869\n",
      "scenario_57                    |           100 |           12 |             88 |      12.0% |        -15.2631\n",
      "scenario_58                    |           100 |           12 |             88 |      12.0% |        -15.2593\n",
      "scenario_59                    |           100 |           12 |             88 |      12.0% |        -15.1619\n",
      "scenario_60                    |           100 |           12 |             88 |      12.0% |        -15.0577\n",
      "scenario_61                    |           100 |           11 |             89 |      11.0% |        -15.4256\n",
      "scenario_62                    |           100 |           14 |             86 |      14.0% |        -15.3309\n",
      "scenario_63                    |           100 |           15 |             85 |      15.0% |        -15.4762\n",
      "scenario_64                    |           100 |           11 |             89 |      11.0% |        -15.3634\n",
      "scenario_65                    |           100 |           15 |             85 |      15.0% |        -14.8151\n",
      "scenario_66                    |           100 |           14 |             86 |      14.0% |        -14.9448\n",
      "scenario_67                    |           100 |           14 |             86 |      14.0% |        -14.8980\n",
      "scenario_68                    |           100 |           16 |             84 |      16.0% |        -15.0429\n",
      "---------------------------------------------------------------------------------------------------\n",
      "Total pares leídos: 6800, Omitidos: 0, Válidos Procesados: 6800\n",
      "\n",
      "--- Resumen General ---\n",
      "TMT Total Acumulado: -1215.53090\n",
      "Porcentaje de Coordinación Promedio General: 12.25% (833 / 6800)\n",
      "Escenario con Mayor Penalización (TMT más bajo): 'scenario_14' (TMT = -45.6815)\n",
      "Escenario con Menor % de Coordinación: 'scenario_26' (7.0%)\n",
      "\n",
      "Generando gráfico de TMT (calidad tesis)...\n",
      "Generando gráfico de Porcentaje de Coordinación (calidad tesis)...\n",
      "\n",
      "Gráfico TMT (interactivo) guardado en: /Users/gustavo/Documents/Projects/TESIS_UNAL/ADAPTIVE_ALGORITHM/data/processed/grafico_tesis_tmt_por_escenario.html\n",
      "Gráfico TMT (vectorial SVG) guardado en: /Users/gustavo/Documents/Projects/TESIS_UNAL/ADAPTIVE_ALGORITHM/data/processed/grafico_tesis_tmt_por_escenario.svg\n",
      "Gráfico TMT (PDF) guardado en: /Users/gustavo/Documents/Projects/TESIS_UNAL/ADAPTIVE_ALGORITHM/data/processed/grafico_tesis_tmt_por_escenario.pdf\n",
      "Gráfico TMT (PNG @3x) guardado en: /Users/gustavo/Documents/Projects/TESIS_UNAL/ADAPTIVE_ALGORITHM/data/processed/grafico_tesis_tmt_por_escenario.png\n",
      "\n",
      "Gráfico Coordinación (interactivo) guardado en: /Users/gustavo/Documents/Projects/TESIS_UNAL/ADAPTIVE_ALGORITHM/data/processed/grafico_tesis_coordinacion_por_escenario.html\n",
      "Gráfico Coordinación (vectorial SVG) guardado en: /Users/gustavo/Documents/Projects/TESIS_UNAL/ADAPTIVE_ALGORITHM/data/processed/grafico_tesis_coordinacion_por_escenario.svg\n",
      "Gráfico Coordinación (PDF) guardado en: /Users/gustavo/Documents/Projects/TESIS_UNAL/ADAPTIVE_ALGORITHM/data/processed/grafico_tesis_coordinacion_por_escenario.pdf\n",
      "Gráfico Coordinación (PNG @3x) guardado en: /Users/gustavo/Documents/Projects/TESIS_UNAL/ADAPTIVE_ALGORITHM/data/processed/grafico_tesis_coordinacion_por_escenario.png\n",
      "\n",
      "Mostrando gráficos interactivos (puedes cerrar las ventanas)...\n"
     ]
    },
    {
     "data": {
      "application/vnd.plotly.v1+json": {
       "config": {
        "plotlyServerURL": "https://plot.ly"
       },
       "data": [
        {
         "alignmentgroup": "True",
         "customdata": [
          [
           12,
           88,
           100,
           12
          ],
          [
           12,
           88,
           100,
           12
          ],
          [
           13,
           87,
           100,
           13
          ],
          [
           13,
           87,
           100,
           13
          ],
          [
           13,
           87,
           100,
           13
          ],
          [
           13,
           87,
           100,
           13
          ],
          [
           14,
           86,
           100,
           14.000000000000002
          ],
          [
           12,
           88,
           100,
           12
          ],
          [
           14,
           86,
           100,
           14.000000000000002
          ],
          [
           14,
           86,
           100,
           14.000000000000002
          ],
          [
           12,
           88,
           100,
           12
          ],
          [
           11,
           89,
           100,
           11
          ],
          [
           13,
           87,
           100,
           13
          ],
          [
           14,
           86,
           100,
           14.000000000000002
          ],
          [
           14,
           86,
           100,
           14.000000000000002
          ],
          [
           11,
           89,
           100,
           11
          ],
          [
           13,
           87,
           100,
           13
          ],
          [
           10,
           90,
           100,
           10
          ],
          [
           13,
           87,
           100,
           13
          ],
          [
           11,
           89,
           100,
           11
          ],
          [
           12,
           88,
           100,
           12
          ],
          [
           12,
           88,
           100,
           12
          ],
          [
           10,
           90,
           100,
           10
          ],
          [
           15,
           85,
           100,
           15
          ],
          [
           12,
           88,
           100,
           12
          ],
          [
           7,
           93,
           100,
           7.000000000000001
          ],
          [
           13,
           87,
           100,
           13
          ],
          [
           12,
           88,
           100,
           12
          ],
          [
           15,
           85,
           100,
           15
          ],
          [
           9,
           91,
           100,
           9
          ],
          [
           11,
           89,
           100,
           11
          ],
          [
           11,
           89,
           100,
           11
          ],
          [
           12,
           88,
           100,
           12
          ],
          [
           11,
           89,
           100,
           11
          ],
          [
           11,
           89,
           100,
           11
          ],
          [
           10,
           90,
           100,
           10
          ],
          [
           10,
           90,
           100,
           10
          ],
          [
           8,
           92,
           100,
           8
          ],
          [
           13,
           87,
           100,
           13
          ],
          [
           13,
           87,
           100,
           13
          ],
          [
           14,
           86,
           100,
           14.000000000000002
          ],
          [
           16,
           84,
           100,
           16
          ],
          [
           13,
           87,
           100,
           13
          ],
          [
           10,
           90,
           100,
           10
          ],
          [
           13,
           87,
           100,
           13
          ],
          [
           12,
           88,
           100,
           12
          ],
          [
           12,
           88,
           100,
           12
          ],
          [
           10,
           90,
           100,
           10
          ],
          [
           11,
           89,
           100,
           11
          ],
          [
           9,
           91,
           100,
           9
          ],
          [
           14,
           86,
           100,
           14.000000000000002
          ],
          [
           13,
           87,
           100,
           13
          ],
          [
           9,
           91,
           100,
           9
          ],
          [
           13,
           87,
           100,
           13
          ],
          [
           15,
           85,
           100,
           15
          ],
          [
           12,
           88,
           100,
           12
          ],
          [
           12,
           88,
           100,
           12
          ],
          [
           12,
           88,
           100,
           12
          ],
          [
           12,
           88,
           100,
           12
          ],
          [
           12,
           88,
           100,
           12
          ],
          [
           11,
           89,
           100,
           11
          ],
          [
           14,
           86,
           100,
           14.000000000000002
          ],
          [
           15,
           85,
           100,
           15
          ],
          [
           11,
           89,
           100,
           11
          ],
          [
           15,
           85,
           100,
           15
          ],
          [
           14,
           86,
           100,
           14.000000000000002
          ],
          [
           14,
           86,
           100,
           14.000000000000002
          ],
          [
           16,
           84,
           100,
           16
          ]
         ],
         "hovertemplate": "<b>Escenario:</b> %{x}<br><b>TMT:</b> %{y:.4f} s<br><b>Pares Coordinados:</b> %{customdata[0]}<br><b>Pares Descoordinados:</b> %{customdata[1]}<br><b>Total Pares Válidos:</b> %{customdata[2]}<br><b>Coordinación:</b> %{customdata[3]:.1f}%<extra></extra>",
         "legendgroup": "",
         "marker": {
          "color": [
           -15.854299999999997,
           -18.9624,
           -17.821500000000004,
           -15.230500000000008,
           -24.94750000000001,
           -20.974700000000002,
           -17.786299999999994,
           -19.002700000000004,
           -20.1472,
           -19.227399999999996,
           -17.812700000000003,
           -18.117099999999994,
           -18.4497,
           -45.681500000000014,
           -32.1528,
           -23.6468,
           -17.773400000000002,
           -18.32510000000001,
           -18.061100000000003,
           -18.231599999999997,
           -15.992200000000002,
           -15.895,
           -15.6903,
           -15.589500000000001,
           -15.696399999999999,
           -15.808500000000004,
           -15.876900000000001,
           -15.8432,
           -15.7265,
           -15.6882,
           -15.866800000000003,
           -15.804599999999995,
           -15.541000000000006,
           -15.667999999999992,
           -15.567200000000001,
           -15.695100000000004,
           -19.964199999999998,
           -19.490400000000005,
           -17.966900000000006,
           -17.840000000000003,
           -18.763700000000007,
           -17.731199999999998,
           -17.521800000000006,
           -17.642699999999998,
           -22.856799999999993,
           -21.050700000000003,
           -20.7948,
           -19.980300000000003,
           -17.756400000000003,
           -17.785600000000006,
           -17.582700000000003,
           -17.646800000000002,
           -15.508400000000002,
           -15.374700000000006,
           -15.0913,
           -14.9869,
           -15.263099999999996,
           -15.259300000000001,
           -15.161900000000001,
           -15.057700000000006,
           -15.425599999999998,
           -15.330900000000003,
           -15.476200000000006,
           -15.363399999999993,
           -14.815099999999994,
           -14.944799999999997,
           -14.897999999999998,
           -15.042900000000005
          ],
          "coloraxis": "coloraxis",
          "pattern": {
           "shape": ""
          }
         },
         "name": "",
         "offsetgroup": "",
         "orientation": "v",
         "showlegend": false,
         "text": [
          -15.854299999999997,
          -18.9624,
          -17.821500000000004,
          -15.230500000000008,
          -24.94750000000001,
          -20.974700000000002,
          -17.786299999999994,
          -19.002700000000004,
          -20.1472,
          -19.227399999999996,
          -17.812700000000003,
          -18.117099999999994,
          -18.4497,
          -45.681500000000014,
          -32.1528,
          -23.6468,
          -17.773400000000002,
          -18.32510000000001,
          -18.061100000000003,
          -18.231599999999997,
          -15.992200000000002,
          -15.895,
          -15.6903,
          -15.589500000000001,
          -15.696399999999999,
          -15.808500000000004,
          -15.876900000000001,
          -15.8432,
          -15.7265,
          -15.6882,
          -15.866800000000003,
          -15.804599999999995,
          -15.541000000000006,
          -15.667999999999992,
          -15.567200000000001,
          -15.695100000000004,
          -19.964199999999998,
          -19.490400000000005,
          -17.966900000000006,
          -17.840000000000003,
          -18.763700000000007,
          -17.731199999999998,
          -17.521800000000006,
          -17.642699999999998,
          -22.856799999999993,
          -21.050700000000003,
          -20.7948,
          -19.980300000000003,
          -17.756400000000003,
          -17.785600000000006,
          -17.582700000000003,
          -17.646800000000002,
          -15.508400000000002,
          -15.374700000000006,
          -15.0913,
          -14.9869,
          -15.263099999999996,
          -15.259300000000001,
          -15.161900000000001,
          -15.057700000000006,
          -15.425599999999998,
          -15.330900000000003,
          -15.476200000000006,
          -15.363399999999993,
          -14.815099999999994,
          -14.944799999999997,
          -14.897999999999998,
          -15.042900000000005
         ],
         "textfont": {
          "size": 10
         },
         "textposition": "outside",
         "texttemplate": "%{text:.3f}",
         "type": "bar",
         "x": [
          "scenario_1",
          "scenario_2",
          "scenario_3",
          "scenario_4",
          "scenario_5",
          "scenario_6",
          "scenario_7",
          "scenario_8",
          "scenario_9",
          "scenario_10",
          "scenario_11",
          "scenario_12",
          "scenario_13",
          "scenario_14",
          "scenario_15",
          "scenario_16",
          "scenario_17",
          "scenario_18",
          "scenario_19",
          "scenario_20",
          "scenario_21",
          "scenario_22",
          "scenario_23",
          "scenario_24",
          "scenario_25",
          "scenario_26",
          "scenario_27",
          "scenario_28",
          "scenario_29",
          "scenario_30",
          "scenario_31",
          "scenario_32",
          "scenario_33",
          "scenario_34",
          "scenario_35",
          "scenario_36",
          "scenario_37",
          "scenario_38",
          "scenario_39",
          "scenario_40",
          "scenario_41",
          "scenario_42",
          "scenario_43",
          "scenario_44",
          "scenario_45",
          "scenario_46",
          "scenario_47",
          "scenario_48",
          "scenario_49",
          "scenario_50",
          "scenario_51",
          "scenario_52",
          "scenario_53",
          "scenario_54",
          "scenario_55",
          "scenario_56",
          "scenario_57",
          "scenario_58",
          "scenario_59",
          "scenario_60",
          "scenario_61",
          "scenario_62",
          "scenario_63",
          "scenario_64",
          "scenario_65",
          "scenario_66",
          "scenario_67",
          "scenario_68"
         ],
         "xaxis": "x",
         "y": [
          -15.854299999999997,
          -18.9624,
          -17.821500000000004,
          -15.230500000000008,
          -24.94750000000001,
          -20.974700000000002,
          -17.786299999999994,
          -19.002700000000004,
          -20.1472,
          -19.227399999999996,
          -17.812700000000003,
          -18.117099999999994,
          -18.4497,
          -45.681500000000014,
          -32.1528,
          -23.6468,
          -17.773400000000002,
          -18.32510000000001,
          -18.061100000000003,
          -18.231599999999997,
          -15.992200000000002,
          -15.895,
          -15.6903,
          -15.589500000000001,
          -15.696399999999999,
          -15.808500000000004,
          -15.876900000000001,
          -15.8432,
          -15.7265,
          -15.6882,
          -15.866800000000003,
          -15.804599999999995,
          -15.541000000000006,
          -15.667999999999992,
          -15.567200000000001,
          -15.695100000000004,
          -19.964199999999998,
          -19.490400000000005,
          -17.966900000000006,
          -17.840000000000003,
          -18.763700000000007,
          -17.731199999999998,
          -17.521800000000006,
          -17.642699999999998,
          -22.856799999999993,
          -21.050700000000003,
          -20.7948,
          -19.980300000000003,
          -17.756400000000003,
          -17.785600000000006,
          -17.582700000000003,
          -17.646800000000002,
          -15.508400000000002,
          -15.374700000000006,
          -15.0913,
          -14.9869,
          -15.263099999999996,
          -15.259300000000001,
          -15.161900000000001,
          -15.057700000000006,
          -15.425599999999998,
          -15.330900000000003,
          -15.476200000000006,
          -15.363399999999993,
          -14.815099999999994,
          -14.944799999999997,
          -14.897999999999998,
          -15.042900000000005
         ],
         "yaxis": "y"
        }
       ],
       "layout": {
        "barmode": "relative",
        "coloraxis": {
         "colorbar": {
          "tickfont": {
           "size": 12
          },
          "title": {
           "font": {
            "size": 14
           },
           "text": "TMT (s)"
          }
         },
         "colorscale": [
          [
           0,
           "#440154"
          ],
          [
           0.1111111111111111,
           "#482878"
          ],
          [
           0.2222222222222222,
           "#3e4989"
          ],
          [
           0.3333333333333333,
           "#31688e"
          ],
          [
           0.4444444444444444,
           "#26828e"
          ],
          [
           0.5555555555555556,
           "#1f9e89"
          ],
          [
           0.6666666666666666,
           "#35b779"
          ],
          [
           0.7777777777777778,
           "#6ece58"
          ],
          [
           0.8888888888888888,
           "#b5de2b"
          ],
          [
           1,
           "#fde725"
          ]
         ]
        },
        "height": 600,
        "legend": {
         "tracegroupgap": 0
        },
        "margin": {
         "b": 80,
         "l": 80,
         "r": 50,
         "t": 100
        },
        "template": {
         "data": {
          "bar": [
           {
            "error_x": {
             "color": "#2a3f5f"
            },
            "error_y": {
             "color": "#2a3f5f"
            },
            "marker": {
             "line": {
              "color": "white",
              "width": 0.5
             },
             "pattern": {
              "fillmode": "overlay",
              "size": 10,
              "solidity": 0.2
             }
            },
            "type": "bar"
           }
          ],
          "barpolar": [
           {
            "marker": {
             "line": {
              "color": "white",
              "width": 0.5
             },
             "pattern": {
              "fillmode": "overlay",
              "size": 10,
              "solidity": 0.2
             }
            },
            "type": "barpolar"
           }
          ],
          "carpet": [
           {
            "aaxis": {
             "endlinecolor": "#2a3f5f",
             "gridcolor": "#C8D4E3",
             "linecolor": "#C8D4E3",
             "minorgridcolor": "#C8D4E3",
             "startlinecolor": "#2a3f5f"
            },
            "baxis": {
             "endlinecolor": "#2a3f5f",
             "gridcolor": "#C8D4E3",
             "linecolor": "#C8D4E3",
             "minorgridcolor": "#C8D4E3",
             "startlinecolor": "#2a3f5f"
            },
            "type": "carpet"
           }
          ],
          "choropleth": [
           {
            "colorbar": {
             "outlinewidth": 0,
             "ticks": ""
            },
            "type": "choropleth"
           }
          ],
          "contour": [
           {
            "colorbar": {
             "outlinewidth": 0,
             "ticks": ""
            },
            "colorscale": [
             [
              0,
              "#0d0887"
             ],
             [
              0.1111111111111111,
              "#46039f"
             ],
             [
              0.2222222222222222,
              "#7201a8"
             ],
             [
              0.3333333333333333,
              "#9c179e"
             ],
             [
              0.4444444444444444,
              "#bd3786"
             ],
             [
              0.5555555555555556,
              "#d8576b"
             ],
             [
              0.6666666666666666,
              "#ed7953"
             ],
             [
              0.7777777777777778,
              "#fb9f3a"
             ],
             [
              0.8888888888888888,
              "#fdca26"
             ],
             [
              1,
              "#f0f921"
             ]
            ],
            "type": "contour"
           }
          ],
          "contourcarpet": [
           {
            "colorbar": {
             "outlinewidth": 0,
             "ticks": ""
            },
            "type": "contourcarpet"
           }
          ],
          "heatmap": [
           {
            "colorbar": {
             "outlinewidth": 0,
             "ticks": ""
            },
            "colorscale": [
             [
              0,
              "#0d0887"
             ],
             [
              0.1111111111111111,
              "#46039f"
             ],
             [
              0.2222222222222222,
              "#7201a8"
             ],
             [
              0.3333333333333333,
              "#9c179e"
             ],
             [
              0.4444444444444444,
              "#bd3786"
             ],
             [
              0.5555555555555556,
              "#d8576b"
             ],
             [
              0.6666666666666666,
              "#ed7953"
             ],
             [
              0.7777777777777778,
              "#fb9f3a"
             ],
             [
              0.8888888888888888,
              "#fdca26"
             ],
             [
              1,
              "#f0f921"
             ]
            ],
            "type": "heatmap"
           }
          ],
          "heatmapgl": [
           {
            "colorbar": {
             "outlinewidth": 0,
             "ticks": ""
            },
            "colorscale": [
             [
              0,
              "#0d0887"
             ],
             [
              0.1111111111111111,
              "#46039f"
             ],
             [
              0.2222222222222222,
              "#7201a8"
             ],
             [
              0.3333333333333333,
              "#9c179e"
             ],
             [
              0.4444444444444444,
              "#bd3786"
             ],
             [
              0.5555555555555556,
              "#d8576b"
             ],
             [
              0.6666666666666666,
              "#ed7953"
             ],
             [
              0.7777777777777778,
              "#fb9f3a"
             ],
             [
              0.8888888888888888,
              "#fdca26"
             ],
             [
              1,
              "#f0f921"
             ]
            ],
            "type": "heatmapgl"
           }
          ],
          "histogram": [
           {
            "marker": {
             "pattern": {
              "fillmode": "overlay",
              "size": 10,
              "solidity": 0.2
             }
            },
            "type": "histogram"
           }
          ],
          "histogram2d": [
           {
            "colorbar": {
             "outlinewidth": 0,
             "ticks": ""
            },
            "colorscale": [
             [
              0,
              "#0d0887"
             ],
             [
              0.1111111111111111,
              "#46039f"
             ],
             [
              0.2222222222222222,
              "#7201a8"
             ],
             [
              0.3333333333333333,
              "#9c179e"
             ],
             [
              0.4444444444444444,
              "#bd3786"
             ],
             [
              0.5555555555555556,
              "#d8576b"
             ],
             [
              0.6666666666666666,
              "#ed7953"
             ],
             [
              0.7777777777777778,
              "#fb9f3a"
             ],
             [
              0.8888888888888888,
              "#fdca26"
             ],
             [
              1,
              "#f0f921"
             ]
            ],
            "type": "histogram2d"
           }
          ],
          "histogram2dcontour": [
           {
            "colorbar": {
             "outlinewidth": 0,
             "ticks": ""
            },
            "colorscale": [
             [
              0,
              "#0d0887"
             ],
             [
              0.1111111111111111,
              "#46039f"
             ],
             [
              0.2222222222222222,
              "#7201a8"
             ],
             [
              0.3333333333333333,
              "#9c179e"
             ],
             [
              0.4444444444444444,
              "#bd3786"
             ],
             [
              0.5555555555555556,
              "#d8576b"
             ],
             [
              0.6666666666666666,
              "#ed7953"
             ],
             [
              0.7777777777777778,
              "#fb9f3a"
             ],
             [
              0.8888888888888888,
              "#fdca26"
             ],
             [
              1,
              "#f0f921"
             ]
            ],
            "type": "histogram2dcontour"
           }
          ],
          "mesh3d": [
           {
            "colorbar": {
             "outlinewidth": 0,
             "ticks": ""
            },
            "type": "mesh3d"
           }
          ],
          "parcoords": [
           {
            "line": {
             "colorbar": {
              "outlinewidth": 0,
              "ticks": ""
             }
            },
            "type": "parcoords"
           }
          ],
          "pie": [
           {
            "automargin": true,
            "type": "pie"
           }
          ],
          "scatter": [
           {
            "fillpattern": {
             "fillmode": "overlay",
             "size": 10,
             "solidity": 0.2
            },
            "type": "scatter"
           }
          ],
          "scatter3d": [
           {
            "line": {
             "colorbar": {
              "outlinewidth": 0,
              "ticks": ""
             }
            },
            "marker": {
             "colorbar": {
              "outlinewidth": 0,
              "ticks": ""
             }
            },
            "type": "scatter3d"
           }
          ],
          "scattercarpet": [
           {
            "marker": {
             "colorbar": {
              "outlinewidth": 0,
              "ticks": ""
             }
            },
            "type": "scattercarpet"
           }
          ],
          "scattergeo": [
           {
            "marker": {
             "colorbar": {
              "outlinewidth": 0,
              "ticks": ""
             }
            },
            "type": "scattergeo"
           }
          ],
          "scattergl": [
           {
            "marker": {
             "colorbar": {
              "outlinewidth": 0,
              "ticks": ""
             }
            },
            "type": "scattergl"
           }
          ],
          "scattermapbox": [
           {
            "marker": {
             "colorbar": {
              "outlinewidth": 0,
              "ticks": ""
             }
            },
            "type": "scattermapbox"
           }
          ],
          "scatterpolar": [
           {
            "marker": {
             "colorbar": {
              "outlinewidth": 0,
              "ticks": ""
             }
            },
            "type": "scatterpolar"
           }
          ],
          "scatterpolargl": [
           {
            "marker": {
             "colorbar": {
              "outlinewidth": 0,
              "ticks": ""
             }
            },
            "type": "scatterpolargl"
           }
          ],
          "scatterternary": [
           {
            "marker": {
             "colorbar": {
              "outlinewidth": 0,
              "ticks": ""
             }
            },
            "type": "scatterternary"
           }
          ],
          "surface": [
           {
            "colorbar": {
             "outlinewidth": 0,
             "ticks": ""
            },
            "colorscale": [
             [
              0,
              "#0d0887"
             ],
             [
              0.1111111111111111,
              "#46039f"
             ],
             [
              0.2222222222222222,
              "#7201a8"
             ],
             [
              0.3333333333333333,
              "#9c179e"
             ],
             [
              0.4444444444444444,
              "#bd3786"
             ],
             [
              0.5555555555555556,
              "#d8576b"
             ],
             [
              0.6666666666666666,
              "#ed7953"
             ],
             [
              0.7777777777777778,
              "#fb9f3a"
             ],
             [
              0.8888888888888888,
              "#fdca26"
             ],
             [
              1,
              "#f0f921"
             ]
            ],
            "type": "surface"
           }
          ],
          "table": [
           {
            "cells": {
             "fill": {
              "color": "#EBF0F8"
             },
             "line": {
              "color": "white"
             }
            },
            "header": {
             "fill": {
              "color": "#C8D4E3"
             },
             "line": {
              "color": "white"
             }
            },
            "type": "table"
           }
          ]
         },
         "layout": {
          "annotationdefaults": {
           "arrowcolor": "#2a3f5f",
           "arrowhead": 0,
           "arrowwidth": 1
          },
          "autotypenumbers": "strict",
          "coloraxis": {
           "colorbar": {
            "outlinewidth": 0,
            "ticks": ""
           }
          },
          "colorscale": {
           "diverging": [
            [
             0,
             "#8e0152"
            ],
            [
             0.1,
             "#c51b7d"
            ],
            [
             0.2,
             "#de77ae"
            ],
            [
             0.3,
             "#f1b6da"
            ],
            [
             0.4,
             "#fde0ef"
            ],
            [
             0.5,
             "#f7f7f7"
            ],
            [
             0.6,
             "#e6f5d0"
            ],
            [
             0.7,
             "#b8e186"
            ],
            [
             0.8,
             "#7fbc41"
            ],
            [
             0.9,
             "#4d9221"
            ],
            [
             1,
             "#276419"
            ]
           ],
           "sequential": [
            [
             0,
             "#0d0887"
            ],
            [
             0.1111111111111111,
             "#46039f"
            ],
            [
             0.2222222222222222,
             "#7201a8"
            ],
            [
             0.3333333333333333,
             "#9c179e"
            ],
            [
             0.4444444444444444,
             "#bd3786"
            ],
            [
             0.5555555555555556,
             "#d8576b"
            ],
            [
             0.6666666666666666,
             "#ed7953"
            ],
            [
             0.7777777777777778,
             "#fb9f3a"
            ],
            [
             0.8888888888888888,
             "#fdca26"
            ],
            [
             1,
             "#f0f921"
            ]
           ],
           "sequentialminus": [
            [
             0,
             "#0d0887"
            ],
            [
             0.1111111111111111,
             "#46039f"
            ],
            [
             0.2222222222222222,
             "#7201a8"
            ],
            [
             0.3333333333333333,
             "#9c179e"
            ],
            [
             0.4444444444444444,
             "#bd3786"
            ],
            [
             0.5555555555555556,
             "#d8576b"
            ],
            [
             0.6666666666666666,
             "#ed7953"
            ],
            [
             0.7777777777777778,
             "#fb9f3a"
            ],
            [
             0.8888888888888888,
             "#fdca26"
            ],
            [
             1,
             "#f0f921"
            ]
           ]
          },
          "colorway": [
           "#636efa",
           "#EF553B",
           "#00cc96",
           "#ab63fa",
           "#FFA15A",
           "#19d3f3",
           "#FF6692",
           "#B6E880",
           "#FF97FF",
           "#FECB52"
          ],
          "font": {
           "color": "#2a3f5f"
          },
          "geo": {
           "bgcolor": "white",
           "lakecolor": "white",
           "landcolor": "white",
           "showlakes": true,
           "showland": true,
           "subunitcolor": "#C8D4E3"
          },
          "hoverlabel": {
           "align": "left"
          },
          "hovermode": "closest",
          "mapbox": {
           "style": "light"
          },
          "paper_bgcolor": "white",
          "plot_bgcolor": "white",
          "polar": {
           "angularaxis": {
            "gridcolor": "#EBF0F8",
            "linecolor": "#EBF0F8",
            "ticks": ""
           },
           "bgcolor": "white",
           "radialaxis": {
            "gridcolor": "#EBF0F8",
            "linecolor": "#EBF0F8",
            "ticks": ""
           }
          },
          "scene": {
           "xaxis": {
            "backgroundcolor": "white",
            "gridcolor": "#DFE8F3",
            "gridwidth": 2,
            "linecolor": "#EBF0F8",
            "showbackground": true,
            "ticks": "",
            "zerolinecolor": "#EBF0F8"
           },
           "yaxis": {
            "backgroundcolor": "white",
            "gridcolor": "#DFE8F3",
            "gridwidth": 2,
            "linecolor": "#EBF0F8",
            "showbackground": true,
            "ticks": "",
            "zerolinecolor": "#EBF0F8"
           },
           "zaxis": {
            "backgroundcolor": "white",
            "gridcolor": "#DFE8F3",
            "gridwidth": 2,
            "linecolor": "#EBF0F8",
            "showbackground": true,
            "ticks": "",
            "zerolinecolor": "#EBF0F8"
           }
          },
          "shapedefaults": {
           "line": {
            "color": "#2a3f5f"
           }
          },
          "ternary": {
           "aaxis": {
            "gridcolor": "#DFE8F3",
            "linecolor": "#A2B1C6",
            "ticks": ""
           },
           "baxis": {
            "gridcolor": "#DFE8F3",
            "linecolor": "#A2B1C6",
            "ticks": ""
           },
           "bgcolor": "white",
           "caxis": {
            "gridcolor": "#DFE8F3",
            "linecolor": "#A2B1C6",
            "ticks": ""
           }
          },
          "title": {
           "x": 0.05
          },
          "xaxis": {
           "automargin": true,
           "gridcolor": "#EBF0F8",
           "linecolor": "#EBF0F8",
           "ticks": "",
           "title": {
            "standoff": 15
           },
           "zerolinecolor": "#EBF0F8",
           "zerolinewidth": 2
          },
          "yaxis": {
           "automargin": true,
           "gridcolor": "#EBF0F8",
           "linecolor": "#EBF0F8",
           "ticks": "",
           "title": {
            "standoff": 15
           },
           "zerolinecolor": "#EBF0F8",
           "zerolinewidth": 2
          }
         }
        },
        "title": {
         "font": {
          "size": 20
         },
         "text": "Penalización Agregada por Descoordinación (TMT) por Escenario Operacional"
        },
        "width": 1200,
        "xaxis": {
         "anchor": "y",
         "categoryarray": [
          "scenario_1",
          "scenario_2",
          "scenario_3",
          "scenario_4",
          "scenario_5",
          "scenario_6",
          "scenario_7",
          "scenario_8",
          "scenario_9",
          "scenario_10",
          "scenario_11",
          "scenario_12",
          "scenario_13",
          "scenario_14",
          "scenario_15",
          "scenario_16",
          "scenario_17",
          "scenario_18",
          "scenario_19",
          "scenario_20",
          "scenario_21",
          "scenario_22",
          "scenario_23",
          "scenario_24",
          "scenario_25",
          "scenario_26",
          "scenario_27",
          "scenario_28",
          "scenario_29",
          "scenario_30",
          "scenario_31",
          "scenario_32",
          "scenario_33",
          "scenario_34",
          "scenario_35",
          "scenario_36",
          "scenario_37",
          "scenario_38",
          "scenario_39",
          "scenario_40",
          "scenario_41",
          "scenario_42",
          "scenario_43",
          "scenario_44",
          "scenario_45",
          "scenario_46",
          "scenario_47",
          "scenario_48",
          "scenario_49",
          "scenario_50",
          "scenario_51",
          "scenario_52",
          "scenario_53",
          "scenario_54",
          "scenario_55",
          "scenario_56",
          "scenario_57",
          "scenario_58",
          "scenario_59",
          "scenario_60",
          "scenario_61",
          "scenario_62",
          "scenario_63",
          "scenario_64",
          "scenario_65",
          "scenario_66",
          "scenario_67",
          "scenario_68"
         ],
         "categoryorder": "array",
         "domain": [
          0,
          1
         ],
         "tickfont": {
          "size": 12
         },
         "title": {
          "font": {
           "size": 16
          },
          "text": "<b>Escenario Operacional</b>"
         }
        },
        "yaxis": {
         "anchor": "x",
         "domain": [
          0,
          1
         ],
         "tickfont": {
          "size": 12
         },
         "title": {
          "font": {
           "size": 16
          },
          "text": "<b>TMT Acumulado (s)</b>"
         }
        }
       }
      }
     },
     "metadata": {},
     "output_type": "display_data"
    },
    {
     "data": {
      "application/vnd.plotly.v1+json": {
       "config": {
        "plotlyServerURL": "https://plot.ly"
       },
       "data": [
        {
         "alignmentgroup": "True",
         "customdata": [
          [
           12,
           88,
           100,
           -15.854299999999997
          ],
          [
           12,
           88,
           100,
           -18.9624
          ],
          [
           13,
           87,
           100,
           -17.821500000000004
          ],
          [
           13,
           87,
           100,
           -15.230500000000008
          ],
          [
           13,
           87,
           100,
           -24.94750000000001
          ],
          [
           13,
           87,
           100,
           -20.974700000000002
          ],
          [
           14,
           86,
           100,
           -17.786299999999994
          ],
          [
           12,
           88,
           100,
           -19.002700000000004
          ],
          [
           14,
           86,
           100,
           -20.1472
          ],
          [
           14,
           86,
           100,
           -19.227399999999996
          ],
          [
           12,
           88,
           100,
           -17.812700000000003
          ],
          [
           11,
           89,
           100,
           -18.117099999999994
          ],
          [
           13,
           87,
           100,
           -18.4497
          ],
          [
           14,
           86,
           100,
           -45.681500000000014
          ],
          [
           14,
           86,
           100,
           -32.1528
          ],
          [
           11,
           89,
           100,
           -23.6468
          ],
          [
           13,
           87,
           100,
           -17.773400000000002
          ],
          [
           10,
           90,
           100,
           -18.32510000000001
          ],
          [
           13,
           87,
           100,
           -18.061100000000003
          ],
          [
           11,
           89,
           100,
           -18.231599999999997
          ],
          [
           12,
           88,
           100,
           -15.992200000000002
          ],
          [
           12,
           88,
           100,
           -15.895
          ],
          [
           10,
           90,
           100,
           -15.6903
          ],
          [
           15,
           85,
           100,
           -15.589500000000001
          ],
          [
           12,
           88,
           100,
           -15.696399999999999
          ],
          [
           7,
           93,
           100,
           -15.808500000000004
          ],
          [
           13,
           87,
           100,
           -15.876900000000001
          ],
          [
           12,
           88,
           100,
           -15.8432
          ],
          [
           15,
           85,
           100,
           -15.7265
          ],
          [
           9,
           91,
           100,
           -15.6882
          ],
          [
           11,
           89,
           100,
           -15.866800000000003
          ],
          [
           11,
           89,
           100,
           -15.804599999999995
          ],
          [
           12,
           88,
           100,
           -15.541000000000006
          ],
          [
           11,
           89,
           100,
           -15.667999999999992
          ],
          [
           11,
           89,
           100,
           -15.567200000000001
          ],
          [
           10,
           90,
           100,
           -15.695100000000004
          ],
          [
           10,
           90,
           100,
           -19.964199999999998
          ],
          [
           8,
           92,
           100,
           -19.490400000000005
          ],
          [
           13,
           87,
           100,
           -17.966900000000006
          ],
          [
           13,
           87,
           100,
           -17.840000000000003
          ],
          [
           14,
           86,
           100,
           -18.763700000000007
          ],
          [
           16,
           84,
           100,
           -17.731199999999998
          ],
          [
           13,
           87,
           100,
           -17.521800000000006
          ],
          [
           10,
           90,
           100,
           -17.642699999999998
          ],
          [
           13,
           87,
           100,
           -22.856799999999993
          ],
          [
           12,
           88,
           100,
           -21.050700000000003
          ],
          [
           12,
           88,
           100,
           -20.7948
          ],
          [
           10,
           90,
           100,
           -19.980300000000003
          ],
          [
           11,
           89,
           100,
           -17.756400000000003
          ],
          [
           9,
           91,
           100,
           -17.785600000000006
          ],
          [
           14,
           86,
           100,
           -17.582700000000003
          ],
          [
           13,
           87,
           100,
           -17.646800000000002
          ],
          [
           9,
           91,
           100,
           -15.508400000000002
          ],
          [
           13,
           87,
           100,
           -15.374700000000006
          ],
          [
           15,
           85,
           100,
           -15.0913
          ],
          [
           12,
           88,
           100,
           -14.9869
          ],
          [
           12,
           88,
           100,
           -15.263099999999996
          ],
          [
           12,
           88,
           100,
           -15.259300000000001
          ],
          [
           12,
           88,
           100,
           -15.161900000000001
          ],
          [
           12,
           88,
           100,
           -15.057700000000006
          ],
          [
           11,
           89,
           100,
           -15.425599999999998
          ],
          [
           14,
           86,
           100,
           -15.330900000000003
          ],
          [
           15,
           85,
           100,
           -15.476200000000006
          ],
          [
           11,
           89,
           100,
           -15.363399999999993
          ],
          [
           15,
           85,
           100,
           -14.815099999999994
          ],
          [
           14,
           86,
           100,
           -14.944799999999997
          ],
          [
           14,
           86,
           100,
           -14.897999999999998
          ],
          [
           16,
           84,
           100,
           -15.042900000000005
          ]
         ],
         "hovertemplate": "<b>Escenario:</b> %{x}<br><b>Coordinación:</b> %{y:.1f}%<br><b>Pares Coordinados:</b> %{customdata[0]}<br><b>Pares Descoordinados:</b> %{customdata[1]}<br><b>Total Pares Válidos:</b> %{customdata[2]}<br><b>TMT:</b> %{customdata[3]:.4f} s<extra></extra>",
         "legendgroup": "",
         "marker": {
          "color": [
           12,
           12,
           13,
           13,
           13,
           13,
           14.000000000000002,
           12,
           14.000000000000002,
           14.000000000000002,
           12,
           11,
           13,
           14.000000000000002,
           14.000000000000002,
           11,
           13,
           10,
           13,
           11,
           12,
           12,
           10,
           15,
           12,
           7.000000000000001,
           13,
           12,
           15,
           9,
           11,
           11,
           12,
           11,
           11,
           10,
           10,
           8,
           13,
           13,
           14.000000000000002,
           16,
           13,
           10,
           13,
           12,
           12,
           10,
           11,
           9,
           14.000000000000002,
           13,
           9,
           13,
           15,
           12,
           12,
           12,
           12,
           12,
           11,
           14.000000000000002,
           15,
           11,
           15,
           14.000000000000002,
           14.000000000000002,
           16
          ],
          "coloraxis": "coloraxis",
          "pattern": {
           "shape": ""
          }
         },
         "name": "",
         "offsetgroup": "",
         "orientation": "v",
         "showlegend": false,
         "text": [
          12,
          12,
          13,
          13,
          13,
          13,
          14.000000000000002,
          12,
          14.000000000000002,
          14.000000000000002,
          12,
          11,
          13,
          14.000000000000002,
          14.000000000000002,
          11,
          13,
          10,
          13,
          11,
          12,
          12,
          10,
          15,
          12,
          7.000000000000001,
          13,
          12,
          15,
          9,
          11,
          11,
          12,
          11,
          11,
          10,
          10,
          8,
          13,
          13,
          14.000000000000002,
          16,
          13,
          10,
          13,
          12,
          12,
          10,
          11,
          9,
          14.000000000000002,
          13,
          9,
          13,
          15,
          12,
          12,
          12,
          12,
          12,
          11,
          14.000000000000002,
          15,
          11,
          15,
          14.000000000000002,
          14.000000000000002,
          16
         ],
         "textfont": {
          "size": 10
         },
         "textposition": "outside",
         "texttemplate": "%{text:.1f}%",
         "type": "bar",
         "x": [
          "scenario_1",
          "scenario_2",
          "scenario_3",
          "scenario_4",
          "scenario_5",
          "scenario_6",
          "scenario_7",
          "scenario_8",
          "scenario_9",
          "scenario_10",
          "scenario_11",
          "scenario_12",
          "scenario_13",
          "scenario_14",
          "scenario_15",
          "scenario_16",
          "scenario_17",
          "scenario_18",
          "scenario_19",
          "scenario_20",
          "scenario_21",
          "scenario_22",
          "scenario_23",
          "scenario_24",
          "scenario_25",
          "scenario_26",
          "scenario_27",
          "scenario_28",
          "scenario_29",
          "scenario_30",
          "scenario_31",
          "scenario_32",
          "scenario_33",
          "scenario_34",
          "scenario_35",
          "scenario_36",
          "scenario_37",
          "scenario_38",
          "scenario_39",
          "scenario_40",
          "scenario_41",
          "scenario_42",
          "scenario_43",
          "scenario_44",
          "scenario_45",
          "scenario_46",
          "scenario_47",
          "scenario_48",
          "scenario_49",
          "scenario_50",
          "scenario_51",
          "scenario_52",
          "scenario_53",
          "scenario_54",
          "scenario_55",
          "scenario_56",
          "scenario_57",
          "scenario_58",
          "scenario_59",
          "scenario_60",
          "scenario_61",
          "scenario_62",
          "scenario_63",
          "scenario_64",
          "scenario_65",
          "scenario_66",
          "scenario_67",
          "scenario_68"
         ],
         "xaxis": "x",
         "y": [
          12,
          12,
          13,
          13,
          13,
          13,
          14.000000000000002,
          12,
          14.000000000000002,
          14.000000000000002,
          12,
          11,
          13,
          14.000000000000002,
          14.000000000000002,
          11,
          13,
          10,
          13,
          11,
          12,
          12,
          10,
          15,
          12,
          7.000000000000001,
          13,
          12,
          15,
          9,
          11,
          11,
          12,
          11,
          11,
          10,
          10,
          8,
          13,
          13,
          14.000000000000002,
          16,
          13,
          10,
          13,
          12,
          12,
          10,
          11,
          9,
          14.000000000000002,
          13,
          9,
          13,
          15,
          12,
          12,
          12,
          12,
          12,
          11,
          14.000000000000002,
          15,
          11,
          15,
          14.000000000000002,
          14.000000000000002,
          16
         ],
         "yaxis": "y"
        }
       ],
       "layout": {
        "barmode": "relative",
        "coloraxis": {
         "cmax": 100,
         "cmin": 0,
         "colorbar": {
          "tickfont": {
           "size": 12
          },
          "title": {
           "font": {
            "size": 14
           },
           "text": "Coord. (%)"
          }
         },
         "colorscale": [
          [
           0,
           "rgb(247,251,255)"
          ],
          [
           0.125,
           "rgb(222,235,247)"
          ],
          [
           0.25,
           "rgb(198,219,239)"
          ],
          [
           0.375,
           "rgb(158,202,225)"
          ],
          [
           0.5,
           "rgb(107,174,214)"
          ],
          [
           0.625,
           "rgb(66,146,198)"
          ],
          [
           0.75,
           "rgb(33,113,181)"
          ],
          [
           0.875,
           "rgb(8,81,156)"
          ],
          [
           1,
           "rgb(8,48,107)"
          ]
         ]
        },
        "height": 600,
        "legend": {
         "tracegroupgap": 0
        },
        "margin": {
         "b": 80,
         "l": 80,
         "r": 50,
         "t": 100
        },
        "template": {
         "data": {
          "bar": [
           {
            "error_x": {
             "color": "#2a3f5f"
            },
            "error_y": {
             "color": "#2a3f5f"
            },
            "marker": {
             "line": {
              "color": "white",
              "width": 0.5
             },
             "pattern": {
              "fillmode": "overlay",
              "size": 10,
              "solidity": 0.2
             }
            },
            "type": "bar"
           }
          ],
          "barpolar": [
           {
            "marker": {
             "line": {
              "color": "white",
              "width": 0.5
             },
             "pattern": {
              "fillmode": "overlay",
              "size": 10,
              "solidity": 0.2
             }
            },
            "type": "barpolar"
           }
          ],
          "carpet": [
           {
            "aaxis": {
             "endlinecolor": "#2a3f5f",
             "gridcolor": "#C8D4E3",
             "linecolor": "#C8D4E3",
             "minorgridcolor": "#C8D4E3",
             "startlinecolor": "#2a3f5f"
            },
            "baxis": {
             "endlinecolor": "#2a3f5f",
             "gridcolor": "#C8D4E3",
             "linecolor": "#C8D4E3",
             "minorgridcolor": "#C8D4E3",
             "startlinecolor": "#2a3f5f"
            },
            "type": "carpet"
           }
          ],
          "choropleth": [
           {
            "colorbar": {
             "outlinewidth": 0,
             "ticks": ""
            },
            "type": "choropleth"
           }
          ],
          "contour": [
           {
            "colorbar": {
             "outlinewidth": 0,
             "ticks": ""
            },
            "colorscale": [
             [
              0,
              "#0d0887"
             ],
             [
              0.1111111111111111,
              "#46039f"
             ],
             [
              0.2222222222222222,
              "#7201a8"
             ],
             [
              0.3333333333333333,
              "#9c179e"
             ],
             [
              0.4444444444444444,
              "#bd3786"
             ],
             [
              0.5555555555555556,
              "#d8576b"
             ],
             [
              0.6666666666666666,
              "#ed7953"
             ],
             [
              0.7777777777777778,
              "#fb9f3a"
             ],
             [
              0.8888888888888888,
              "#fdca26"
             ],
             [
              1,
              "#f0f921"
             ]
            ],
            "type": "contour"
           }
          ],
          "contourcarpet": [
           {
            "colorbar": {
             "outlinewidth": 0,
             "ticks": ""
            },
            "type": "contourcarpet"
           }
          ],
          "heatmap": [
           {
            "colorbar": {
             "outlinewidth": 0,
             "ticks": ""
            },
            "colorscale": [
             [
              0,
              "#0d0887"
             ],
             [
              0.1111111111111111,
              "#46039f"
             ],
             [
              0.2222222222222222,
              "#7201a8"
             ],
             [
              0.3333333333333333,
              "#9c179e"
             ],
             [
              0.4444444444444444,
              "#bd3786"
             ],
             [
              0.5555555555555556,
              "#d8576b"
             ],
             [
              0.6666666666666666,
              "#ed7953"
             ],
             [
              0.7777777777777778,
              "#fb9f3a"
             ],
             [
              0.8888888888888888,
              "#fdca26"
             ],
             [
              1,
              "#f0f921"
             ]
            ],
            "type": "heatmap"
           }
          ],
          "heatmapgl": [
           {
            "colorbar": {
             "outlinewidth": 0,
             "ticks": ""
            },
            "colorscale": [
             [
              0,
              "#0d0887"
             ],
             [
              0.1111111111111111,
              "#46039f"
             ],
             [
              0.2222222222222222,
              "#7201a8"
             ],
             [
              0.3333333333333333,
              "#9c179e"
             ],
             [
              0.4444444444444444,
              "#bd3786"
             ],
             [
              0.5555555555555556,
              "#d8576b"
             ],
             [
              0.6666666666666666,
              "#ed7953"
             ],
             [
              0.7777777777777778,
              "#fb9f3a"
             ],
             [
              0.8888888888888888,
              "#fdca26"
             ],
             [
              1,
              "#f0f921"
             ]
            ],
            "type": "heatmapgl"
           }
          ],
          "histogram": [
           {
            "marker": {
             "pattern": {
              "fillmode": "overlay",
              "size": 10,
              "solidity": 0.2
             }
            },
            "type": "histogram"
           }
          ],
          "histogram2d": [
           {
            "colorbar": {
             "outlinewidth": 0,
             "ticks": ""
            },
            "colorscale": [
             [
              0,
              "#0d0887"
             ],
             [
              0.1111111111111111,
              "#46039f"
             ],
             [
              0.2222222222222222,
              "#7201a8"
             ],
             [
              0.3333333333333333,
              "#9c179e"
             ],
             [
              0.4444444444444444,
              "#bd3786"
             ],
             [
              0.5555555555555556,
              "#d8576b"
             ],
             [
              0.6666666666666666,
              "#ed7953"
             ],
             [
              0.7777777777777778,
              "#fb9f3a"
             ],
             [
              0.8888888888888888,
              "#fdca26"
             ],
             [
              1,
              "#f0f921"
             ]
            ],
            "type": "histogram2d"
           }
          ],
          "histogram2dcontour": [
           {
            "colorbar": {
             "outlinewidth": 0,
             "ticks": ""
            },
            "colorscale": [
             [
              0,
              "#0d0887"
             ],
             [
              0.1111111111111111,
              "#46039f"
             ],
             [
              0.2222222222222222,
              "#7201a8"
             ],
             [
              0.3333333333333333,
              "#9c179e"
             ],
             [
              0.4444444444444444,
              "#bd3786"
             ],
             [
              0.5555555555555556,
              "#d8576b"
             ],
             [
              0.6666666666666666,
              "#ed7953"
             ],
             [
              0.7777777777777778,
              "#fb9f3a"
             ],
             [
              0.8888888888888888,
              "#fdca26"
             ],
             [
              1,
              "#f0f921"
             ]
            ],
            "type": "histogram2dcontour"
           }
          ],
          "mesh3d": [
           {
            "colorbar": {
             "outlinewidth": 0,
             "ticks": ""
            },
            "type": "mesh3d"
           }
          ],
          "parcoords": [
           {
            "line": {
             "colorbar": {
              "outlinewidth": 0,
              "ticks": ""
             }
            },
            "type": "parcoords"
           }
          ],
          "pie": [
           {
            "automargin": true,
            "type": "pie"
           }
          ],
          "scatter": [
           {
            "fillpattern": {
             "fillmode": "overlay",
             "size": 10,
             "solidity": 0.2
            },
            "type": "scatter"
           }
          ],
          "scatter3d": [
           {
            "line": {
             "colorbar": {
              "outlinewidth": 0,
              "ticks": ""
             }
            },
            "marker": {
             "colorbar": {
              "outlinewidth": 0,
              "ticks": ""
             }
            },
            "type": "scatter3d"
           }
          ],
          "scattercarpet": [
           {
            "marker": {
             "colorbar": {
              "outlinewidth": 0,
              "ticks": ""
             }
            },
            "type": "scattercarpet"
           }
          ],
          "scattergeo": [
           {
            "marker": {
             "colorbar": {
              "outlinewidth": 0,
              "ticks": ""
             }
            },
            "type": "scattergeo"
           }
          ],
          "scattergl": [
           {
            "marker": {
             "colorbar": {
              "outlinewidth": 0,
              "ticks": ""
             }
            },
            "type": "scattergl"
           }
          ],
          "scattermapbox": [
           {
            "marker": {
             "colorbar": {
              "outlinewidth": 0,
              "ticks": ""
             }
            },
            "type": "scattermapbox"
           }
          ],
          "scatterpolar": [
           {
            "marker": {
             "colorbar": {
              "outlinewidth": 0,
              "ticks": ""
             }
            },
            "type": "scatterpolar"
           }
          ],
          "scatterpolargl": [
           {
            "marker": {
             "colorbar": {
              "outlinewidth": 0,
              "ticks": ""
             }
            },
            "type": "scatterpolargl"
           }
          ],
          "scatterternary": [
           {
            "marker": {
             "colorbar": {
              "outlinewidth": 0,
              "ticks": ""
             }
            },
            "type": "scatterternary"
           }
          ],
          "surface": [
           {
            "colorbar": {
             "outlinewidth": 0,
             "ticks": ""
            },
            "colorscale": [
             [
              0,
              "#0d0887"
             ],
             [
              0.1111111111111111,
              "#46039f"
             ],
             [
              0.2222222222222222,
              "#7201a8"
             ],
             [
              0.3333333333333333,
              "#9c179e"
             ],
             [
              0.4444444444444444,
              "#bd3786"
             ],
             [
              0.5555555555555556,
              "#d8576b"
             ],
             [
              0.6666666666666666,
              "#ed7953"
             ],
             [
              0.7777777777777778,
              "#fb9f3a"
             ],
             [
              0.8888888888888888,
              "#fdca26"
             ],
             [
              1,
              "#f0f921"
             ]
            ],
            "type": "surface"
           }
          ],
          "table": [
           {
            "cells": {
             "fill": {
              "color": "#EBF0F8"
             },
             "line": {
              "color": "white"
             }
            },
            "header": {
             "fill": {
              "color": "#C8D4E3"
             },
             "line": {
              "color": "white"
             }
            },
            "type": "table"
           }
          ]
         },
         "layout": {
          "annotationdefaults": {
           "arrowcolor": "#2a3f5f",
           "arrowhead": 0,
           "arrowwidth": 1
          },
          "autotypenumbers": "strict",
          "coloraxis": {
           "colorbar": {
            "outlinewidth": 0,
            "ticks": ""
           }
          },
          "colorscale": {
           "diverging": [
            [
             0,
             "#8e0152"
            ],
            [
             0.1,
             "#c51b7d"
            ],
            [
             0.2,
             "#de77ae"
            ],
            [
             0.3,
             "#f1b6da"
            ],
            [
             0.4,
             "#fde0ef"
            ],
            [
             0.5,
             "#f7f7f7"
            ],
            [
             0.6,
             "#e6f5d0"
            ],
            [
             0.7,
             "#b8e186"
            ],
            [
             0.8,
             "#7fbc41"
            ],
            [
             0.9,
             "#4d9221"
            ],
            [
             1,
             "#276419"
            ]
           ],
           "sequential": [
            [
             0,
             "#0d0887"
            ],
            [
             0.1111111111111111,
             "#46039f"
            ],
            [
             0.2222222222222222,
             "#7201a8"
            ],
            [
             0.3333333333333333,
             "#9c179e"
            ],
            [
             0.4444444444444444,
             "#bd3786"
            ],
            [
             0.5555555555555556,
             "#d8576b"
            ],
            [
             0.6666666666666666,
             "#ed7953"
            ],
            [
             0.7777777777777778,
             "#fb9f3a"
            ],
            [
             0.8888888888888888,
             "#fdca26"
            ],
            [
             1,
             "#f0f921"
            ]
           ],
           "sequentialminus": [
            [
             0,
             "#0d0887"
            ],
            [
             0.1111111111111111,
             "#46039f"
            ],
            [
             0.2222222222222222,
             "#7201a8"
            ],
            [
             0.3333333333333333,
             "#9c179e"
            ],
            [
             0.4444444444444444,
             "#bd3786"
            ],
            [
             0.5555555555555556,
             "#d8576b"
            ],
            [
             0.6666666666666666,
             "#ed7953"
            ],
            [
             0.7777777777777778,
             "#fb9f3a"
            ],
            [
             0.8888888888888888,
             "#fdca26"
            ],
            [
             1,
             "#f0f921"
            ]
           ]
          },
          "colorway": [
           "#636efa",
           "#EF553B",
           "#00cc96",
           "#ab63fa",
           "#FFA15A",
           "#19d3f3",
           "#FF6692",
           "#B6E880",
           "#FF97FF",
           "#FECB52"
          ],
          "font": {
           "color": "#2a3f5f"
          },
          "geo": {
           "bgcolor": "white",
           "lakecolor": "white",
           "landcolor": "white",
           "showlakes": true,
           "showland": true,
           "subunitcolor": "#C8D4E3"
          },
          "hoverlabel": {
           "align": "left"
          },
          "hovermode": "closest",
          "mapbox": {
           "style": "light"
          },
          "paper_bgcolor": "white",
          "plot_bgcolor": "white",
          "polar": {
           "angularaxis": {
            "gridcolor": "#EBF0F8",
            "linecolor": "#EBF0F8",
            "ticks": ""
           },
           "bgcolor": "white",
           "radialaxis": {
            "gridcolor": "#EBF0F8",
            "linecolor": "#EBF0F8",
            "ticks": ""
           }
          },
          "scene": {
           "xaxis": {
            "backgroundcolor": "white",
            "gridcolor": "#DFE8F3",
            "gridwidth": 2,
            "linecolor": "#EBF0F8",
            "showbackground": true,
            "ticks": "",
            "zerolinecolor": "#EBF0F8"
           },
           "yaxis": {
            "backgroundcolor": "white",
            "gridcolor": "#DFE8F3",
            "gridwidth": 2,
            "linecolor": "#EBF0F8",
            "showbackground": true,
            "ticks": "",
            "zerolinecolor": "#EBF0F8"
           },
           "zaxis": {
            "backgroundcolor": "white",
            "gridcolor": "#DFE8F3",
            "gridwidth": 2,
            "linecolor": "#EBF0F8",
            "showbackground": true,
            "ticks": "",
            "zerolinecolor": "#EBF0F8"
           }
          },
          "shapedefaults": {
           "line": {
            "color": "#2a3f5f"
           }
          },
          "ternary": {
           "aaxis": {
            "gridcolor": "#DFE8F3",
            "linecolor": "#A2B1C6",
            "ticks": ""
           },
           "baxis": {
            "gridcolor": "#DFE8F3",
            "linecolor": "#A2B1C6",
            "ticks": ""
           },
           "bgcolor": "white",
           "caxis": {
            "gridcolor": "#DFE8F3",
            "linecolor": "#A2B1C6",
            "ticks": ""
           }
          },
          "title": {
           "x": 0.05
          },
          "xaxis": {
           "automargin": true,
           "gridcolor": "#EBF0F8",
           "linecolor": "#EBF0F8",
           "ticks": "",
           "title": {
            "standoff": 15
           },
           "zerolinecolor": "#EBF0F8",
           "zerolinewidth": 2
          },
          "yaxis": {
           "automargin": true,
           "gridcolor": "#EBF0F8",
           "linecolor": "#EBF0F8",
           "ticks": "",
           "title": {
            "standoff": 15
           },
           "zerolinecolor": "#EBF0F8",
           "zerolinewidth": 2
          }
         }
        },
        "title": {
         "font": {
          "size": 20
         },
         "text": "Porcentaje de Pares de Relés Coordinados por Escenario Operacional"
        },
        "width": 1200,
        "xaxis": {
         "anchor": "y",
         "categoryarray": [
          "scenario_1",
          "scenario_2",
          "scenario_3",
          "scenario_4",
          "scenario_5",
          "scenario_6",
          "scenario_7",
          "scenario_8",
          "scenario_9",
          "scenario_10",
          "scenario_11",
          "scenario_12",
          "scenario_13",
          "scenario_14",
          "scenario_15",
          "scenario_16",
          "scenario_17",
          "scenario_18",
          "scenario_19",
          "scenario_20",
          "scenario_21",
          "scenario_22",
          "scenario_23",
          "scenario_24",
          "scenario_25",
          "scenario_26",
          "scenario_27",
          "scenario_28",
          "scenario_29",
          "scenario_30",
          "scenario_31",
          "scenario_32",
          "scenario_33",
          "scenario_34",
          "scenario_35",
          "scenario_36",
          "scenario_37",
          "scenario_38",
          "scenario_39",
          "scenario_40",
          "scenario_41",
          "scenario_42",
          "scenario_43",
          "scenario_44",
          "scenario_45",
          "scenario_46",
          "scenario_47",
          "scenario_48",
          "scenario_49",
          "scenario_50",
          "scenario_51",
          "scenario_52",
          "scenario_53",
          "scenario_54",
          "scenario_55",
          "scenario_56",
          "scenario_57",
          "scenario_58",
          "scenario_59",
          "scenario_60",
          "scenario_61",
          "scenario_62",
          "scenario_63",
          "scenario_64",
          "scenario_65",
          "scenario_66",
          "scenario_67",
          "scenario_68"
         ],
         "categoryorder": "array",
         "domain": [
          0,
          1
         ],
         "tickfont": {
          "size": 12
         },
         "title": {
          "font": {
           "size": 16
          },
          "text": "<b>Escenario Operacional</b>"
         }
        },
        "yaxis": {
         "anchor": "x",
         "domain": [
          0,
          1
         ],
         "range": [
          0,
          105
         ],
         "tickfont": {
          "size": 12
         },
         "title": {
          "font": {
           "size": 16
          },
          "text": "<b>Coordinación (%)</b>"
         }
        }
       }
      }
     },
     "metadata": {},
     "output_type": "display_data"
    },
    {
     "name": "stdout",
     "output_type": "stream",
     "text": [
      "\n",
      "Análisis y generación de gráficos completado.\n"
     ]
    }
   ],
   "source": [
    "import json\n",
    "import os\n",
    "import copy\n",
    "import plotly.express as px\n",
    "import plotly.graph_objects as go\n",
    "import plotly.io as pio # Import for static image export and themes\n",
    "import pandas as pd\n",
    "import numpy as np\n",
    "import re # Importar el módulo de expresiones regulares\n",
    "\n",
    "# --- Constantes ---\n",
    "CTI = 0.2  # Intervalo de tiempo de coordinación típico (en segundos)\n",
    "\n",
    "# --- Ruta del archivo ---\n",
    "# Asegúrate de que esta ruta sea correcta para tu sistema\n",
    "# Ejemplo: input_file = \"/path/to/your/data/independent_relay_pairs_automation.json\"\n",
    "input_file = \"/Users/gustavo/Documents/Projects/TESIS_UNAL/ADAPTIVE_ALGORITHM/data/processed/independent_relay_pairs_automation.json\" # MANTENIDA TU RUTA\n",
    "\n",
    "# --- Constantes de Estilo para Gráficos (Ajusta según necesites) ---\n",
    "FIG_WIDTH = 1200      # Ancho de la figura en píxeles (ajusta para tu página)\n",
    "FIG_HEIGHT = 600      # Alto de la figura en píxeles\n",
    "TITLE_FONT_SIZE = 20\n",
    "AXIS_LABEL_FONT_SIZE = 16\n",
    "TICK_FONT_SIZE = 12\n",
    "LEGEND_TITLE_FONT_SIZE = 14\n",
    "LEGEND_FONT_SIZE = 12\n",
    "TEXT_ON_BAR_FONT_SIZE = 10\n",
    "PLOT_TEMPLATE = \"plotly_white\" # Temas recomendados: \"plotly_white\", \"simple_white\", \"ggplot2\", \"seaborn\"\n",
    "\n",
    "# --- Funciones Auxiliares ---\n",
    "def extract_scenario_number(scenario_name):\n",
    "    \"\"\"\n",
    "    Extrae el primer número encontrado en el nombre del escenario.\n",
    "    Si no encuentra un número, devuelve un valor muy grande para ordenarlo al final.\n",
    "    \"\"\"\n",
    "    if not isinstance(scenario_name, str):\n",
    "        return float('inf') # Manejar casos donde el nombre no es string\n",
    "    match = re.search(r'\\d+', scenario_name)\n",
    "    if match:\n",
    "        return int(match.group(0))\n",
    "    else:\n",
    "        print(f\"Advertencia: No se encontró número en el nombre de escenario '{scenario_name}'. Se ordenará al final.\")\n",
    "        return float('inf')\n",
    "\n",
    "# --- Función Principal ---\n",
    "def analyze_all_scenarios():\n",
    "    \"\"\"\n",
    "    Carga datos de pares de relés, calcula TMT y coordinación por escenario,\n",
    "    genera gráficos de alta calidad ordenados numéricamente por escenario\n",
    "    y muestra/guarda resultados en HTML y formatos estáticos (SVG, PDF).\n",
    "    \"\"\"\n",
    "    try:\n",
    "        # 1. Cargar el archivo JSON\n",
    "        print(f\"Cargando datos desde: {input_file}\")\n",
    "        if not os.path.exists(input_file):\n",
    "             raise FileNotFoundError(f\"El archivo no se encontró en la ruta: {input_file}\")\n",
    "        with open(input_file, 'r', encoding='utf-8') as f:\n",
    "            relay_pairs_data = json.load(f)\n",
    "\n",
    "        if not isinstance(relay_pairs_data, list):\n",
    "            raise TypeError(f\"Error: El archivo {input_file} no contiene una lista JSON principal.\")\n",
    "\n",
    "        # Diccionarios para almacenar datos por escenario\n",
    "        scenario_results = {}\n",
    "\n",
    "        # 2. Procesar cada par y agrupar por escenario\n",
    "        print(\"Calculando TMT y coordinación por escenario...\")\n",
    "        total_pairs_read = 0\n",
    "        skipped_pairs_count = 0\n",
    "\n",
    "        for pair_entry in relay_pairs_data:\n",
    "            total_pairs_read += 1\n",
    "            if not isinstance(pair_entry, dict):\n",
    "                print(f\"Advertencia: Entrada omitida no es un diccionario: {pair_entry}\")\n",
    "                skipped_pairs_count += 1\n",
    "                continue\n",
    "\n",
    "            scenario_id = pair_entry.get(\"scenario_id\")\n",
    "            if not scenario_id:\n",
    "                print(f\"Advertencia: Entrada omitida por falta de 'scenario_id': {pair_entry.get('pair_id', 'ID desconocido')}\")\n",
    "                skipped_pairs_count += 1\n",
    "                continue\n",
    "\n",
    "            if scenario_id not in scenario_results:\n",
    "                scenario_results[scenario_id] = {\n",
    "                    'tmt': 0.0,\n",
    "                    'coordinated': 0,\n",
    "                    'uncoordinated': 0,\n",
    "                    'total_valid': 0\n",
    "                }\n",
    "\n",
    "            main_relay_info = pair_entry.get('main_relay')\n",
    "            backup_relay_info = pair_entry.get('backup_relay')\n",
    "\n",
    "            if not isinstance(main_relay_info, dict) or not isinstance(backup_relay_info, dict):\n",
    "                print(f\"Advertencia: Datos de relé inválidos para par en escenario '{scenario_id}'. Par ID: {pair_entry.get('pair_id', 'ID desconocido')}\")\n",
    "                skipped_pairs_count += 1\n",
    "                continue\n",
    "\n",
    "            main_time = main_relay_info.get('Time_out')\n",
    "            backup_time = backup_relay_info.get('Time_out')\n",
    "\n",
    "            if not isinstance(main_time, (int, float)) or not isinstance(backup_time, (int, float)):\n",
    "                print(f\"Advertencia: Tiempos inválidos ('{main_time}', '{backup_time}') para par en escenario '{scenario_id}'. Par ID: {pair_entry.get('pair_id', 'ID desconocido')}\")\n",
    "                skipped_pairs_count += 1\n",
    "                continue\n",
    "\n",
    "            if main_time < 0 or backup_time < 0:\n",
    "                print(f\"Advertencia: Tiempos negativos ('{main_time}', '{backup_time}') en par '{pair_entry.get('pair_id', 'ID desconocido')}' (Esc: '{scenario_id}'). Omitiendo par.\")\n",
    "                skipped_pairs_count += 1\n",
    "                continue\n",
    "\n",
    "            delta_t = backup_time - main_time - CTI\n",
    "            mt = (delta_t - abs(delta_t)) / 2 # Penalización solo si delta_t < 0\n",
    "\n",
    "            scenario_results[scenario_id]['tmt'] += mt\n",
    "            scenario_results[scenario_id]['total_valid'] += 1\n",
    "\n",
    "            if delta_t >= 0:\n",
    "                scenario_results[scenario_id]['coordinated'] += 1\n",
    "            else:\n",
    "                scenario_results[scenario_id]['uncoordinated'] += 1\n",
    "\n",
    "        if not scenario_results:\n",
    "            print(\"\\nError CRÍTICO: No se encontraron datos de escenarios válidos para procesar.\")\n",
    "            return\n",
    "\n",
    "        # 3. Preparar datos para graficar y analizar\n",
    "        print(\"Preparando datos para visualización...\")\n",
    "        data_for_analysis = []\n",
    "        for scenario, data in scenario_results.items():\n",
    "            total_valid_pairs = data['total_valid']\n",
    "            percentage_coordination = (data['coordinated'] / total_valid_pairs * 100) if total_valid_pairs > 0 else 0\n",
    "\n",
    "            data_for_analysis.append({\n",
    "                'Escenario': scenario,\n",
    "                'TMT': data['tmt'],\n",
    "                'Pares Coordinados': data['coordinated'],\n",
    "                'Pares Descoordinados': data['uncoordinated'],\n",
    "                'Total Pares Válidos': total_valid_pairs,\n",
    "                'Porcentaje Coordinación': percentage_coordination\n",
    "            })\n",
    "\n",
    "        df = pd.DataFrame(data_for_analysis)\n",
    "\n",
    "        # --- ORDENAMIENTO NUMÉRICO ---\n",
    "        df['Scenario_Num'] = df['Escenario'].apply(extract_scenario_number)\n",
    "        df = df.sort_values(by='Scenario_Num').reset_index(drop=True)\n",
    "        print(\"Datos ordenados por escenario numéricamente.\")\n",
    "\n",
    "        # --- IMPRESIÓN DE TABLA DETALLADA (Mejorada) ---\n",
    "        print(\"\\n--- Resultados Detallados por Escenario (Ordenados) ---\")\n",
    "        # Usar formato más limpio, potencialmente con tabuladores o f-strings alineados\n",
    "        print(f\"{'Escenario':<30} | {'Pares Válidos':>12} | {'Coordinados':>12} | {'Descoordinados':>14} | {'% Coord.':>10} | {'TMT':>15}\")\n",
    "        print(\"-\" * 99)\n",
    "        for index, row in df.iterrows():\n",
    "             print(f\"{row['Escenario']:<30} | {int(row['Total Pares Válidos']):>13} | {int(row['Pares Coordinados']):>12} | {int(row['Pares Descoordinados']):>14} | {row['Porcentaje Coordinación']:>9.1f}% | {row['TMT']:>15.4f}\")\n",
    "        print(\"-\" * 99)\n",
    "        print(f\"Total pares leídos: {total_pairs_read}, Omitidos: {skipped_pairs_count}, Válidos Procesados: {df['Total Pares Válidos'].sum()}\")\n",
    "\n",
    "        # --- RESUMEN GENERAL (Sin cambios) ---\n",
    "        print(\"\\n--- Resumen General ---\")\n",
    "        total_tmt = df['TMT'].sum()\n",
    "        total_valid_overall = df['Total Pares Válidos'].sum()\n",
    "        total_coordinated_overall = df['Pares Coordinados'].sum()\n",
    "        if total_valid_overall > 0:\n",
    "             average_coordination = (total_coordinated_overall / total_valid_overall) * 100\n",
    "             print(f\"TMT Total Acumulado: {total_tmt:.5f}\")\n",
    "             print(f\"Porcentaje de Coordinación Promedio General: {average_coordination:.2f}% ({int(total_coordinated_overall)} / {int(total_valid_overall)})\")\n",
    "        else:\n",
    "            print(\"No hay pares válidos para calcular resumen general.\")\n",
    "\n",
    "        if not df.empty:\n",
    "            worst_tmt_scenario = df.loc[df['TMT'].idxmin()]\n",
    "            worst_coord_scenario = df.loc[df['Porcentaje Coordinación'].idxmin()]\n",
    "            print(f\"Escenario con Mayor Penalización (TMT más bajo): '{worst_tmt_scenario['Escenario']}' (TMT = {worst_tmt_scenario['TMT']:.4f})\")\n",
    "            print(f\"Escenario con Menor % de Coordinación: '{worst_coord_scenario['Escenario']}' ({worst_coord_scenario['Porcentaje Coordinación']:.1f}%)\")\n",
    "\n",
    "\n",
    "        # --- 4. Crear gráfico de barras TMT (MEJORADO) ---\n",
    "        print(\"\\nGenerando gráfico de TMT (calidad tesis)...\")\n",
    "        fig_tmt = px.bar(\n",
    "            df,\n",
    "            x='Escenario',\n",
    "            y='TMT',\n",
    "            text='TMT',\n",
    "            color='TMT', # Usar TMT directamente para el color\n",
    "            color_continuous_scale='Viridis', # Buena escala perceptualmente uniforme\n",
    "            title='Penalización Agregada por Descoordinación (TMT) por Escenario Operacional',\n",
    "            labels={'TMT': 'TMT Acumulado (s)', # Añadir unidades si aplica (segundos)\n",
    "                    'Escenario': 'Escenario Operacional'},\n",
    "            # Incluir columnas necesarias para el hovertemplate personalizado\n",
    "            custom_data=['Pares Coordinados', 'Pares Descoordinados', 'Total Pares Válidos', 'Porcentaje Coordinación']\n",
    "        )\n",
    "\n",
    "        # --- Personalización Avanzada para TMT ---\n",
    "        fig_tmt.update_traces(\n",
    "            texttemplate='%{text:.3f}', # Mostrar 3 decimales en la barra\n",
    "            textposition='outside',\n",
    "            textfont_size=TEXT_ON_BAR_FONT_SIZE,\n",
    "            # Hoevertemplate mejorado para más claridad\n",
    "            hovertemplate=\"<b>Escenario:</b> %{x}<br>\" +\n",
    "                          \"<b>TMT:</b> %{y:.4f} s<br>\" +\n",
    "                          \"<b>Pares Coordinados:</b> %{customdata[0]}<br>\" +\n",
    "                          \"<b>Pares Descoordinados:</b> %{customdata[1]}<br>\" +\n",
    "                          \"<b>Total Pares Válidos:</b> %{customdata[2]}<br>\" +\n",
    "                          \"<b>Coordinación:</b> %{customdata[3]:.1f}%\" +\n",
    "                          \"<extra></extra>\" # <extra></extra> para ocultar el 'trace' info\n",
    "        )\n",
    "\n",
    "        fig_tmt.update_layout(\n",
    "            template=PLOT_TEMPLATE, # Aplicar tema limpio\n",
    "            width=FIG_WIDTH,\n",
    "            height=FIG_HEIGHT,\n",
    "            title_font_size=TITLE_FONT_SIZE,\n",
    "            xaxis_title='<b>Escenario Operacional</b>', # Negrita opcional\n",
    "            yaxis_title='<b>TMT Acumulado (s)</b>', # Negrita opcional\n",
    "            xaxis_title_font_size=AXIS_LABEL_FONT_SIZE,\n",
    "            yaxis_title_font_size=AXIS_LABEL_FONT_SIZE,\n",
    "            xaxis_tickfont_size=TICK_FONT_SIZE,\n",
    "            yaxis_tickfont_size=TICK_FONT_SIZE,\n",
    "            # Asegurar el orden correcto del eje X\n",
    "            xaxis={'categoryorder': 'array', 'categoryarray': df['Escenario'].tolist()},\n",
    "            # Ajustar márgenes si es necesario (l=left, r=right, t=top, b=bottom)\n",
    "            margin=dict(l=80, r=50, t=100, b=80),\n",
    "            coloraxis_colorbar=dict(\n",
    "                title=\"TMT (s)\",\n",
    "                titlefont_size=LEGEND_TITLE_FONT_SIZE,\n",
    "                tickfont_size=TICK_FONT_SIZE\n",
    "            )\n",
    "            # Considerar rotar etiquetas del eje X si hay muchos escenarios\n",
    "            # xaxis_tickangle=-45\n",
    "        )\n",
    "\n",
    "        # --- 5. Crear gráfico de barras: porcentaje de coordinación (MEJORADO) ---\n",
    "        print(\"Generando gráfico de Porcentaje de Coordinación (calidad tesis)...\")\n",
    "        fig_coord = px.bar(\n",
    "            df,\n",
    "            x='Escenario',\n",
    "            y='Porcentaje Coordinación',\n",
    "            text='Porcentaje Coordinación',\n",
    "            color='Porcentaje Coordinación',\n",
    "            # Escala RdYlGn es intuitiva pero NO colorblind-friendly. 'Turbo', 'Viridis', 'Blues', 'Greens' son mejores.\n",
    "            color_continuous_scale='Blues', # Usar escala secuencial para % (ej. Blues, Greens)\n",
    "            range_color=[0, 100], # Rango fijo 0-100%\n",
    "            title='Porcentaje de Pares de Relés Coordinados por Escenario Operacional',\n",
    "            labels={'Porcentaje Coordinación': 'Coordinación (%)',\n",
    "                    'Escenario': 'Escenario Operacional'},\n",
    "            custom_data=['Pares Coordinados', 'Pares Descoordinados', 'Total Pares Válidos', 'TMT']\n",
    "        )\n",
    "\n",
    "        # --- Personalización Avanzada para Coordinación ---\n",
    "        fig_coord.update_traces(\n",
    "            texttemplate='%{text:.1f}%', # Mostrar 1 decimal\n",
    "            textposition='outside',\n",
    "            textfont_size=TEXT_ON_BAR_FONT_SIZE,\n",
    "             # Hoevertemplate mejorado\n",
    "            hovertemplate=\"<b>Escenario:</b> %{x}<br>\" +\n",
    "                          \"<b>Coordinación:</b> %{y:.1f}%<br>\" +\n",
    "                          \"<b>Pares Coordinados:</b> %{customdata[0]}<br>\" +\n",
    "                          \"<b>Pares Descoordinados:</b> %{customdata[1]}<br>\" +\n",
    "                          \"<b>Total Pares Válidos:</b> %{customdata[2]}<br>\" +\n",
    "                          \"<b>TMT:</b> %{customdata[3]:.4f} s\" +\n",
    "                          \"<extra></extra>\"\n",
    "        )\n",
    "\n",
    "        fig_coord.update_layout(\n",
    "            template=PLOT_TEMPLATE,\n",
    "            width=FIG_WIDTH,\n",
    "            height=FIG_HEIGHT,\n",
    "            title_font_size=TITLE_FONT_SIZE,\n",
    "            xaxis_title='<b>Escenario Operacional</b>',\n",
    "            yaxis_title='<b>Coordinación (%)</b>',\n",
    "            xaxis_title_font_size=AXIS_LABEL_FONT_SIZE,\n",
    "            yaxis_title_font_size=AXIS_LABEL_FONT_SIZE,\n",
    "            xaxis_tickfont_size=TICK_FONT_SIZE,\n",
    "            yaxis_tickfont_size=TICK_FONT_SIZE,\n",
    "             # Asegurar orden del eje X\n",
    "            xaxis={'categoryorder': 'array', 'categoryarray': df['Escenario'].tolist()},\n",
    "            yaxis=dict(range=[0, 105]), # Eje Y hasta 105% para espacio\n",
    "            margin=dict(l=80, r=50, t=100, b=80),\n",
    "            coloraxis_colorbar=dict(\n",
    "                title=\"Coord. (%)\",\n",
    "                titlefont_size=LEGEND_TITLE_FONT_SIZE,\n",
    "                tickfont_size=TICK_FONT_SIZE\n",
    "            )\n",
    "            # xaxis_tickangle=-45 # Si es necesario\n",
    "        )\n",
    "\n",
    "        # --- 6. Guardar y Mostrar los gráficos (MEJORADO) ---\n",
    "        output_dir = os.path.dirname(input_file) # Guardar cerca del JSON\n",
    "        if not os.path.exists(output_dir):\n",
    "             os.makedirs(output_dir) # Crear directorio si no existe\n",
    "\n",
    "        # --- Guardar Gráfico TMT ---\n",
    "        output_base_tmt = os.path.join(output_dir, \"grafico_tesis_tmt_por_escenario\")\n",
    "        # Guardar en HTML (Interactivo)\n",
    "        fig_tmt.write_html(f\"{output_base_tmt}.html\")\n",
    "        print(f\"\\nGráfico TMT (interactivo) guardado en: {output_base_tmt}.html\")\n",
    "        # Guardar en SVG (Vectorial, alta calidad para documentos)\n",
    "        try:\n",
    "            fig_tmt.write_image(f\"{output_base_tmt}.svg\")\n",
    "            print(f\"Gráfico TMT (vectorial SVG) guardado en: {output_base_tmt}.svg\")\n",
    "        except Exception as e_svg:\n",
    "            print(f\"WARN: No se pudo guardar TMT como SVG. ¿Instalaste 'kaleido'? Error: {e_svg}\")\n",
    "        # Guardar en PDF (Vectorial/Raster, común para documentos)\n",
    "        try:\n",
    "            fig_tmt.write_image(f\"{output_base_tmt}.pdf\")\n",
    "            print(f\"Gráfico TMT (PDF) guardado en: {output_base_tmt}.pdf\")\n",
    "        except Exception as e_pdf:\n",
    "             print(f\"WARN: No se pudo guardar TMT como PDF. ¿Instalaste 'kaleido'? Error: {e_pdf}\")\n",
    "        # Guardar en PNG (Raster, buena compatibilidad)\n",
    "        try:\n",
    "            # Aumentar escala para mejor resolución en PNG\n",
    "            fig_tmt.write_image(f\"{output_base_tmt}.png\", scale=3)\n",
    "            print(f\"Gráfico TMT (PNG @3x) guardado en: {output_base_tmt}.png\")\n",
    "        except Exception as e_png:\n",
    "             print(f\"WARN: No se pudo guardar TMT como PNG. ¿Instalaste 'kaleido'? Error: {e_png}\")\n",
    "\n",
    "\n",
    "        # --- Guardar Gráfico Coordinación ---\n",
    "        output_base_coord = os.path.join(output_dir, \"grafico_tesis_coordinacion_por_escenario\")\n",
    "        # Guardar en HTML\n",
    "        fig_coord.write_html(f\"{output_base_coord}.html\")\n",
    "        print(f\"\\nGráfico Coordinación (interactivo) guardado en: {output_base_coord}.html\")\n",
    "        # Guardar en SVG\n",
    "        try:\n",
    "            fig_coord.write_image(f\"{output_base_coord}.svg\")\n",
    "            print(f\"Gráfico Coordinación (vectorial SVG) guardado en: {output_base_coord}.svg\")\n",
    "        except Exception as e_svg:\n",
    "             print(f\"WARN: No se pudo guardar Coordinación como SVG. ¿Instalaste 'kaleido'? Error: {e_svg}\")\n",
    "        # Guardar en PDF\n",
    "        try:\n",
    "            fig_coord.write_image(f\"{output_base_coord}.pdf\")\n",
    "            print(f\"Gráfico Coordinación (PDF) guardado en: {output_base_coord}.pdf\")\n",
    "        except Exception as e_pdf:\n",
    "             print(f\"WARN: No se pudo guardar Coordinación como PDF. ¿Instalaste 'kaleido'? Error: {e_pdf}\")\n",
    "        # Guardar en PNG\n",
    "        try:\n",
    "            fig_coord.write_image(f\"{output_base_coord}.png\", scale=3) # Escala para alta resolución\n",
    "            print(f\"Gráfico Coordinación (PNG @3x) guardado en: {output_base_coord}.png\")\n",
    "        except Exception as e_png:\n",
    "             print(f\"WARN: No se pudo guardar Coordinación como PNG. ¿Instalaste 'kaleido'? Error: {e_png}\")\n",
    "\n",
    "\n",
    "        # Mostrar los gráficos interactivos (opcional, puedes comentarlo si solo quieres guardar)\n",
    "        print(\"\\nMostrando gráficos interactivos (puedes cerrar las ventanas)...\")\n",
    "        fig_tmt.show()\n",
    "        fig_coord.show()\n",
    "\n",
    "        print(\"\\nAnálisis y generación de gráficos completado.\")\n",
    "\n",
    "    except FileNotFoundError as e:\n",
    "        print(f\"Error CRÍTICO - Archivo no encontrado: {e}\")\n",
    "    except TypeError as e:\n",
    "        print(f\"Error CRÍTICO - Tipo de dato inesperado: {e}\")\n",
    "        print(\"Verifica la estructura del JSON.\")\n",
    "    except json.JSONDecodeError as e:\n",
    "        print(f\"Error CRÍTICO - JSON mal formado: {input_file} - {e}\")\n",
    "    except KeyError as e:\n",
    "        print(f\"Error CRÍTICO - Falta una clave esperada en los datos JSON: {e}\")\n",
    "        print(\"Verifica que todos los elementos tengan las claves requeridas.\")\n",
    "    except ImportError:\n",
    "         print(\"Error CRÍTICO - Falta una librería necesaria (plotly, pandas, numpy, kaleido?).\")\n",
    "         print(\"Asegúrate de tenerlas instaladas: pip install plotly pandas numpy kaleido\")\n",
    "    except Exception as e:\n",
    "        import traceback\n",
    "        print(f\"Error INESPERADO durante la ejecución: {e}\")\n",
    "        print(\"--- Traceback ---\")\n",
    "        traceback.print_exc()\n",
    "        print(\"-----------------\")\n",
    "\n",
    "if __name__ == \"__main__\":\n",
    "    analyze_all_scenarios()"
   ]
  },
  {
   "cell_type": "code",
   "execution_count": null,
   "metadata": {},
   "outputs": [],
   "source": []
  }
 ],
 "metadata": {
  "kernelspec": {
   "display_name": "Python 3",
   "language": "python",
   "name": "python3"
  },
  "language_info": {
   "codemirror_mode": {
    "name": "ipython",
    "version": 3
   },
   "file_extension": ".py",
   "mimetype": "text/x-python",
   "name": "python",
   "nbconvert_exporter": "python",
   "pygments_lexer": "ipython3",
   "version": "3.11.11"
  }
 },
 "nbformat": 4,
 "nbformat_minor": 2
}
