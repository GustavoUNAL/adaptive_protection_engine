{
 "cells": [
  {
   "cell_type": "markdown",
   "metadata": {},
   "source": [
    "# Pares con mal TMT"
   ]
  },
  {
   "cell_type": "code",
   "execution_count": 4,
   "metadata": {},
   "outputs": [
    {
     "name": "stdout",
     "output_type": "stream",
     "text": [
      "Se han guardado 3400 pares en:\n",
      "/Users/gustavo/Documents/Projects/TESIS_UNAL/ADAPTIVE_ALGORITHM/data/processed/independent_relay_pairs_bad.json\n"
     ]
    }
   ],
   "source": [
    "import json\n",
    "\n",
    "# Ruta de tu archivo original\n",
    "input_path  = '/Users/gustavo/Documents/Projects/TESIS_UNAL/ADAPTIVE_ALGORITHM/data/processed/independent_relay_pairs.json'\n",
    "# Ruta donde quieres guardar el filtrado\n",
    "output_path = '/Users/gustavo/Documents/Projects/TESIS_UNAL/ADAPTIVE_ALGORITHM/data/processed/independent_relay_pairs_bad.json'\n",
    "\n",
    "# 1. Cargar JSON original\n",
    "with open(input_path, 'r') as f:\n",
    "    data = json.load(f)\n",
    "\n",
    "# 2. Lista de escenarios considerados “Buenos”\n",
    "malos = [\n",
    "    \"scenario_2\",\n",
    "    \"scenario_3\",\n",
    "    \"scenario_5\",\n",
    "    \"scenario_6\",\n",
    "    \"scenario_7\",\n",
    "    \"scenario_8\",\n",
    "    \"scenario_9\",\n",
    "    \"scenario_10\",\n",
    "    \"scenario_11\",\n",
    "    \"scenario_12\",\n",
    "    \"scenario_13\",\n",
    "    \"scenario_14\",\n",
    "    \"scenario_15\",\n",
    "    \"scenario_16\",\n",
    "    \"scenario_17\",\n",
    "    \"scenario_18\",\n",
    "    \"scenario_19\",\n",
    "    \"scenario_20\",\n",
    "    \"scenario_37\",\n",
    "    \"scenario_38\",\n",
    "    \"scenario_39\",\n",
    "    \"scenario_40\",\n",
    "    \"scenario_41\",\n",
    "    \"scenario_42\",\n",
    "    \"scenario_43\",\n",
    "    \"scenario_44\",\n",
    "    \"scenario_45\",\n",
    "    \"scenario_46\",\n",
    "    \"scenario_47\",\n",
    "    \"scenario_48\",\n",
    "    \"scenario_49\",\n",
    "    \"scenario_50\",\n",
    "    \"scenario_51\",\n",
    "    \"scenario_52\"\n",
    "]\n",
    "\n",
    "# 3. Filtrar sólo las entradas cuyo 'scenario_id' esté en la lista de buenos\n",
    "filtered = [item for item in data if item.get('scenario_id') in malos]\n",
    "\n",
    "# 4. Guardar el resultado en el nuevo JSON\n",
    "with open(output_path, 'w') as f:\n",
    "    json.dump(filtered, f, indent=2)\n",
    "\n",
    "print(f'Se han guardado {len(filtered)} pares en:\\n{output_path}')\n"
   ]
  },
  {
   "cell_type": "markdown",
   "metadata": {},
   "source": [
    "# Bad TMT"
   ]
  },
  {
   "cell_type": "code",
   "execution_count": 6,
   "metadata": {},
   "outputs": [
    {
     "name": "stdout",
     "output_type": "stream",
     "text": [
      "Archivo de entrada: /Users/gustavo/Documents/Projects/TESIS_UNAL/ADAPTIVE_ALGORITHM/data/processed/independent_relay_pairs_bad.json\n",
      "Analizando SOLAMENTE para: 'scenario_2'\n",
      "Cargando datos (lista de pares)...\n",
      "Datos cargados correctamente.\n",
      "Calculando delta_t, mt y clasificando pares para 'scenario_2'...\n",
      "Procesamiento de pares completado.\n",
      "\n",
      "--- Resultados del Análisis de Coordinación para 'scenario_2' ---\n",
      "Total de pares leídos del archivo: 3400\n",
      "Total de pares encontrados para 'scenario_2': 100\n",
      "Total de pares válidos analizados para 'scenario_2': 100\n",
      "Número de pares coordinados (delta_t >= 0) en 'scenario_2': 90\n",
      "Número de pares DESCOORDINADOS (delta_t < 0) en 'scenario_2': 10\n",
      "Suma total de penalización por descoordinación (TMT Total) para 'scenario_2': -13.95800\n"
     ]
    }
   ],
   "source": [
    "import json\n",
    "import os\n",
    "import math\n",
    "import copy # Para crear copias de los diccionarios si es necesario\n",
    "\n",
    "# --- Constantes ---\n",
    "CTI = 0.2  # Intervalo de tiempo de coordinación típico (en segundos)\n",
    "TARGET_SCENARIO_ID = \"scenario_2\" # Escenario específico a analizar\n",
    "\n",
    "# --- Ruta del archivo ---\n",
    "input_file = \"/Users/gustavo/Documents/Projects/TESIS_UNAL/ADAPTIVE_ALGORITHM/data/processed/independent_relay_pairs_bad.json\"\n",
    "\n",
    "print(f\"Archivo de entrada: {input_file}\")\n",
    "print(f\"Analizando SOLAMENTE para: '{TARGET_SCENARIO_ID}'\")\n",
    "\n",
    "# Listas para clasificar los pares del escenario objetivo\n",
    "coordinated_pairs = []\n",
    "uncoordinated_pairs = []\n",
    "\n",
    "try:\n",
    "    # 1. Cargar el archivo JSON (lista de pares)\n",
    "    print(\"Cargando datos (lista de pares)...\")\n",
    "    with open(input_file, 'r') as f:\n",
    "        relay_pairs_data = json.load(f)\n",
    "    print(\"Datos cargados correctamente.\")\n",
    "\n",
    "    # Validar que es una lista\n",
    "    if not isinstance(relay_pairs_data, list):\n",
    "        raise TypeError(f\"Error: El archivo {input_file} no contiene una lista JSON.\")\n",
    "\n",
    "    # 2. Procesar cada par de relés, filtrando por scenario_id\n",
    "    print(f\"Calculando delta_t, mt y clasificando pares para '{TARGET_SCENARIO_ID}'...\")\n",
    "    total_pairs_read = 0\n",
    "    scenario_pairs_found = 0\n",
    "    skipped_pairs_count = 0 # Pares omitidos DENTRO del scenario_id objetivo\n",
    "\n",
    "    for pair_entry in relay_pairs_data:\n",
    "        total_pairs_read += 1\n",
    "        if not isinstance(pair_entry, dict):\n",
    "            # Contar como leído pero no procesado si no es diccionario\n",
    "            continue\n",
    "\n",
    "        # --- FILTRAR POR SCENARIO_ID ---\n",
    "        current_scenario_id = pair_entry.get(\"scenario_id\")\n",
    "        if current_scenario_id != TARGET_SCENARIO_ID:\n",
    "            continue # Omitir este par si no es del escenario objetivo\n",
    "        # ---------------------------------\n",
    "\n",
    "        # Si llegamos aquí, el par pertenece a TARGET_SCENARIO_ID\n",
    "        scenario_pairs_found += 1\n",
    "\n",
    "        # Obtener información de los relés de forma segura\n",
    "        main_relay_info = pair_entry.get('main_relay')\n",
    "        backup_relay_info = pair_entry.get('backup_relay')\n",
    "\n",
    "        if not isinstance(main_relay_info, dict) or not isinstance(backup_relay_info, dict):\n",
    "            print(f\"Advertencia ({TARGET_SCENARIO_ID}): Falta información de relé principal o de respaldo en: {pair_entry.get('line', 'N/A')}-{pair_entry.get('fault', 'N/A')}. Par omitido.\")\n",
    "            skipped_pairs_count += 1\n",
    "            continue\n",
    "\n",
    "        # Obtener tiempos de operación de forma segura\n",
    "        main_time = main_relay_info.get('Time_out')\n",
    "        backup_time = backup_relay_info.get('Time_out')\n",
    "\n",
    "        # Validar que los tiempos son números\n",
    "        if not isinstance(main_time, (int, float)) or not isinstance(backup_time, (int, float)):\n",
    "            print(f\"Advertencia ({TARGET_SCENARIO_ID}): Tiempo(s) de operación no numéricos o faltantes en: {pair_entry.get('line', 'N/A')}-{pair_entry.get('fault', 'N/A')} (Main: {main_time}, Backup: {backup_time}). Par omitido.\")\n",
    "            skipped_pairs_count += 1\n",
    "            continue\n",
    "\n",
    "        # --- Realizar Cálculos ---\n",
    "        delta_t = backup_time - main_time - CTI\n",
    "        mt = (delta_t - abs(delta_t)) / 2  # Penalización solo si delta_t es negativo\n",
    "\n",
    "        # Crear una copia del par y añadirle los resultados del cálculo\n",
    "        pair_info = copy.deepcopy(pair_entry)\n",
    "        pair_info['delta_t'] = delta_t\n",
    "        pair_info['mt'] = mt\n",
    "\n",
    "        # --- Clasificar (solo pares del TARGET_SCENARIO_ID) ---\n",
    "        if delta_t >= 0:\n",
    "            coordinated_pairs.append(pair_info)\n",
    "        else:\n",
    "            uncoordinated_pairs.append(pair_info)\n",
    "\n",
    "    print(\"Procesamiento de pares completado.\")\n",
    "\n",
    "    # 3. Calcular Métricas Finales (solo para TARGET_SCENARIO_ID)\n",
    "    if scenario_pairs_found == 0:\n",
    "         print (f\"No se encontraron pares válidos para '{TARGET_SCENARIO_ID}' en el archivo.\")\n",
    "    else:\n",
    "        total_valid_pairs_scenario = len(coordinated_pairs) + len(uncoordinated_pairs) # Pares válidos DENTRO del escenario\n",
    "        miscoordination_count_scenario = len(uncoordinated_pairs)\n",
    "        # Sumar 'mt' solo de los pares del escenario objetivo (que son los únicos en las listas)\n",
    "        tmt_total_scenario = sum(pair[\"mt\"] for pair in coordinated_pairs + uncoordinated_pairs)\n",
    "\n",
    "\n",
    "        # 4. Imprimir Resultados\n",
    "        print(f\"\\n--- Resultados del Análisis de Coordinación para '{TARGET_SCENARIO_ID}' ---\")\n",
    "        print(f\"Total de pares leídos del archivo: {total_pairs_read}\")\n",
    "        print(f\"Total de pares encontrados para '{TARGET_SCENARIO_ID}': {scenario_pairs_found}\")\n",
    "        if skipped_pairs_count > 0:\n",
    "            print(f\"Pares omitidos DENTRO de '{TARGET_SCENARIO_ID}' (datos inválidos/faltantes): {skipped_pairs_count}\")\n",
    "        print(f\"Total de pares válidos analizados para '{TARGET_SCENARIO_ID}': {total_valid_pairs_scenario}\")\n",
    "        print(f\"Número de pares coordinados (delta_t >= 0) en '{TARGET_SCENARIO_ID}': {len(coordinated_pairs)}\")\n",
    "        print(f\"Número de pares DESCOORDINADOS (delta_t < 0) en '{TARGET_SCENARIO_ID}': {miscoordination_count_scenario}\")\n",
    "        print(f\"Suma total de penalización por descoordinación (TMT Total) para '{TARGET_SCENARIO_ID}': {tmt_total_scenario:.5f}\") # Imprimir con 5 decimales\n",
    "\n",
    "except FileNotFoundError:\n",
    "    print(f\"Error CRÍTICO: No se pudo encontrar el archivo de entrada: {input_file}\")\n",
    "except TypeError as e:\n",
    "    print(f\"Error CRÍTICO: Problema con el tipo de datos esperado en el archivo JSON: {e}\")\n",
    "except json.JSONDecodeError as e:\n",
    "    print(f\"Error CRÍTICO: El archivo de entrada JSON ({input_file}) está mal formado: {e}\")\n",
    "except Exception as e:\n",
    "    import traceback\n",
    "    print(f\"Error inesperado durante el procesamiento: {e}\")\n",
    "    print(\"--- Traceback ---\")\n",
    "    traceback.print_exc()\n",
    "    print(\"-----------------\")"
   ]
  },
  {
   "cell_type": "markdown",
   "metadata": {},
   "source": [
    "# Analisys"
   ]
  },
  {
   "cell_type": "code",
   "execution_count": 7,
   "metadata": {},
   "outputs": [
    {
     "name": "stderr",
     "output_type": "stream",
     "text": [
      "2025-04-19 19:21:50,353 - INFO - Archivo de entrada: /Users/gustavo/Documents/Projects/TESIS_UNAL/ADAPTIVE_ALGORITHM/data/processed/independent_relay_pairs_bad.json\n",
      "2025-04-19 19:21:50,355 - INFO - Cargando y agrupando datos por escenario...\n",
      "2025-04-19 19:21:50,812 - INFO - Archivo cargado: /Users/gustavo/Documents/Projects/TESIS_UNAL/ADAPTIVE_ALGORITHM/data/processed/independent_relay_pairs_bad.json\n",
      "2025-04-19 19:21:50,817 - INFO - Datos agrupados: 34 escenarios encontrados.\n",
      "2025-04-19 19:21:50,817 - INFO - 3400 pares válidos leídos y agrupados.\n",
      "2025-04-19 19:21:50,817 - INFO - Calculando TMT y métricas para cada escenario usando los Time_out existentes...\n",
      "2025-04-19 19:21:50,823 - INFO - Cálculo de TMT completado para 34 escenarios.\n",
      "2025-04-19 19:21:50,849 - INFO - Generando gráfico de barras de TMT para todos los escenarios...\n"
     ]
    },
    {
     "name": "stdout",
     "output_type": "stream",
     "text": [
      "\n",
      "--- Mejores 54 Escenarios por TMT (Basado en Tiempos del Archivo de Entrada) ---\n",
      "    scenario_id      TMT  MiscoordinatedCount  TotalPairsEvaluated  \\\n",
      "6    scenario_9 -13.3405                    9                  100   \n",
      "12  scenario_15 -13.5756                   17                  100   \n",
      "13  scenario_16 -13.8589                   11                  100   \n",
      "0    scenario_2 -13.9580                   10                  100   \n",
      "19  scenario_38 -14.0657                    9                  100   \n",
      "18  scenario_37 -14.1898                    9                  100   \n",
      "1    scenario_3 -14.2484                    9                  100   \n",
      "17  scenario_20 -14.3601                    9                  100   \n",
      "3    scenario_6 -14.4177                    9                  100   \n",
      "2    scenario_5 -14.4276                   10                  100   \n",
      "5    scenario_8 -14.4887                   11                  100   \n",
      "28  scenario_47 -14.6540                   23                  100   \n",
      "26  scenario_45 -14.6643                   23                  100   \n",
      "11  scenario_14 -14.6804                   14                  100   \n",
      "27  scenario_46 -14.7329                   19                  100   \n",
      "9   scenario_12 -14.7350                   16                  100   \n",
      "4    scenario_7 -14.7517                    9                  100   \n",
      "15  scenario_18 -14.7656                   13                  100   \n",
      "7   scenario_10 -14.7749                   11                  100   \n",
      "10  scenario_13 -14.8995                   14                  100   \n",
      "25  scenario_44 -14.9288                   16                  100   \n",
      "14  scenario_17 -14.9712                   15                  100   \n",
      "29  scenario_48 -14.9716                   20                  100   \n",
      "23  scenario_42 -15.0400                   21                  100   \n",
      "20  scenario_39 -15.0605                    9                  100   \n",
      "24  scenario_43 -15.0960                   18                  100   \n",
      "16  scenario_19 -15.1275                   11                  100   \n",
      "8   scenario_11 -15.2263                   16                  100   \n",
      "32  scenario_51 -15.3035                    9                  100   \n",
      "31  scenario_50 -15.3647                    9                  100   \n",
      "33  scenario_52 -15.4226                    9                  100   \n",
      "30  scenario_49 -15.6765                   23                  100   \n",
      "21  scenario_40 -15.7962                   24                  100   \n",
      "22  scenario_41 -16.1407                   26                  100   \n",
      "\n",
      "    MaxNegativeMT  \n",
      "6         -1.8632  \n",
      "12        -1.9254  \n",
      "13        -1.9553  \n",
      "0         -1.9671  \n",
      "19        -2.0066  \n",
      "18        -1.9892  \n",
      "1         -2.0299  \n",
      "17        -1.9843  \n",
      "3         -1.8532  \n",
      "2         -1.8812  \n",
      "5         -2.0207  \n",
      "28        -1.9561  \n",
      "26        -1.8626  \n",
      "11        -2.1660  \n",
      "27        -1.8399  \n",
      "9         -2.0144  \n",
      "4         -2.1088  \n",
      "15        -1.9962  \n",
      "7         -2.1389  \n",
      "10        -2.1044  \n",
      "25        -1.9396  \n",
      "14        -1.9021  \n",
      "29        -1.9228  \n",
      "23        -2.1665  \n",
      "20        -2.1761  \n",
      "24        -1.8177  \n",
      "16        -2.2089  \n",
      "8         -2.2448  \n",
      "32        -2.2447  \n",
      "31        -2.1542  \n",
      "33        -2.2073  \n",
      "30        -2.1339  \n",
      "21        -1.9449  \n",
      "22        -1.9736  \n"
     ]
    },
    {
     "data": {
      "application/vnd.plotly.v1+json": {
       "config": {
        "plotlyServerURL": "https://plot.ly"
       },
       "data": [
        {
         "hoverinfo": "text",
         "hovertext": [
          "<b>scenario_2</b><br>TMT: -13.9580<br>Descoordinados: 10/100<br>Peor MT Individual: -1.9671",
          "<b>scenario_3</b><br>TMT: -14.2484<br>Descoordinados: 9/100<br>Peor MT Individual: -2.0299",
          "<b>scenario_5</b><br>TMT: -14.4276<br>Descoordinados: 10/100<br>Peor MT Individual: -1.8812",
          "<b>scenario_6</b><br>TMT: -14.4177<br>Descoordinados: 9/100<br>Peor MT Individual: -1.8532",
          "<b>scenario_7</b><br>TMT: -14.7517<br>Descoordinados: 9/100<br>Peor MT Individual: -2.1088",
          "<b>scenario_8</b><br>TMT: -14.4887<br>Descoordinados: 11/100<br>Peor MT Individual: -2.0207",
          "<b>scenario_9</b><br>TMT: -13.3405<br>Descoordinados: 9/100<br>Peor MT Individual: -1.8632",
          "<b>scenario_10</b><br>TMT: -14.7749<br>Descoordinados: 11/100<br>Peor MT Individual: -2.1389",
          "<b>scenario_11</b><br>TMT: -15.2263<br>Descoordinados: 16/100<br>Peor MT Individual: -2.2448",
          "<b>scenario_12</b><br>TMT: -14.7350<br>Descoordinados: 16/100<br>Peor MT Individual: -2.0144",
          "<b>scenario_13</b><br>TMT: -14.8995<br>Descoordinados: 14/100<br>Peor MT Individual: -2.1044",
          "<b>scenario_14</b><br>TMT: -14.6804<br>Descoordinados: 14/100<br>Peor MT Individual: -2.1660",
          "<b>scenario_15</b><br>TMT: -13.5756<br>Descoordinados: 17/100<br>Peor MT Individual: -1.9254",
          "<b>scenario_16</b><br>TMT: -13.8589<br>Descoordinados: 11/100<br>Peor MT Individual: -1.9553",
          "<b>scenario_17</b><br>TMT: -14.9712<br>Descoordinados: 15/100<br>Peor MT Individual: -1.9021",
          "<b>scenario_18</b><br>TMT: -14.7656<br>Descoordinados: 13/100<br>Peor MT Individual: -1.9962",
          "<b>scenario_19</b><br>TMT: -15.1275<br>Descoordinados: 11/100<br>Peor MT Individual: -2.2089",
          "<b>scenario_20</b><br>TMT: -14.3601<br>Descoordinados: 9/100<br>Peor MT Individual: -1.9843",
          "<b>scenario_37</b><br>TMT: -14.1898<br>Descoordinados: 9/100<br>Peor MT Individual: -1.9892",
          "<b>scenario_38</b><br>TMT: -14.0657<br>Descoordinados: 9/100<br>Peor MT Individual: -2.0066",
          "<b>scenario_39</b><br>TMT: -15.0605<br>Descoordinados: 9/100<br>Peor MT Individual: -2.1761",
          "<b>scenario_40</b><br>TMT: -15.7962<br>Descoordinados: 24/100<br>Peor MT Individual: -1.9449",
          "<b>scenario_41</b><br>TMT: -16.1407<br>Descoordinados: 26/100<br>Peor MT Individual: -1.9736",
          "<b>scenario_42</b><br>TMT: -15.0400<br>Descoordinados: 21/100<br>Peor MT Individual: -2.1665",
          "<b>scenario_43</b><br>TMT: -15.0960<br>Descoordinados: 18/100<br>Peor MT Individual: -1.8177",
          "<b>scenario_44</b><br>TMT: -14.9288<br>Descoordinados: 16/100<br>Peor MT Individual: -1.9396",
          "<b>scenario_45</b><br>TMT: -14.6643<br>Descoordinados: 23/100<br>Peor MT Individual: -1.8626",
          "<b>scenario_46</b><br>TMT: -14.7329<br>Descoordinados: 19/100<br>Peor MT Individual: -1.8399",
          "<b>scenario_47</b><br>TMT: -14.6540<br>Descoordinados: 23/100<br>Peor MT Individual: -1.9561",
          "<b>scenario_48</b><br>TMT: -14.9716<br>Descoordinados: 20/100<br>Peor MT Individual: -1.9228",
          "<b>scenario_49</b><br>TMT: -15.6765<br>Descoordinados: 23/100<br>Peor MT Individual: -2.1339",
          "<b>scenario_50</b><br>TMT: -15.3647<br>Descoordinados: 9/100<br>Peor MT Individual: -2.1542",
          "<b>scenario_51</b><br>TMT: -15.3035<br>Descoordinados: 9/100<br>Peor MT Individual: -2.2447",
          "<b>scenario_52</b><br>TMT: -15.4226<br>Descoordinados: 9/100<br>Peor MT Individual: -2.2073"
         ],
         "marker": {
          "color": [
           "#d62728",
           "#d62728",
           "#d62728",
           "#d62728",
           "#d62728",
           "#d62728",
           "#d62728",
           "#d62728",
           "#d62728",
           "#d62728",
           "#d62728",
           "#d62728",
           "#d62728",
           "#d62728",
           "#d62728",
           "#d62728",
           "#d62728",
           "#d62728",
           "#d62728",
           "#d62728",
           "#d62728",
           "#d62728",
           "#d62728",
           "#d62728",
           "#d62728",
           "#d62728",
           "#d62728",
           "#d62728",
           "#d62728",
           "#d62728",
           "#d62728",
           "#d62728",
           "#d62728",
           "#d62728"
          ]
         },
         "text": [
          "10/100",
          "9/100",
          "10/100",
          "9/100",
          "9/100",
          "11/100",
          "9/100",
          "11/100",
          "16/100",
          "16/100",
          "14/100",
          "14/100",
          "17/100",
          "11/100",
          "15/100",
          "13/100",
          "11/100",
          "9/100",
          "9/100",
          "9/100",
          "9/100",
          "24/100",
          "26/100",
          "21/100",
          "18/100",
          "16/100",
          "23/100",
          "19/100",
          "23/100",
          "20/100",
          "23/100",
          "9/100",
          "9/100",
          "9/100"
         ],
         "textfont": {
          "size": 8
         },
         "textposition": "outside",
         "type": "bar",
         "x": [
          "scenario_2",
          "scenario_3",
          "scenario_5",
          "scenario_6",
          "scenario_7",
          "scenario_8",
          "scenario_9",
          "scenario_10",
          "scenario_11",
          "scenario_12",
          "scenario_13",
          "scenario_14",
          "scenario_15",
          "scenario_16",
          "scenario_17",
          "scenario_18",
          "scenario_19",
          "scenario_20",
          "scenario_37",
          "scenario_38",
          "scenario_39",
          "scenario_40",
          "scenario_41",
          "scenario_42",
          "scenario_43",
          "scenario_44",
          "scenario_45",
          "scenario_46",
          "scenario_47",
          "scenario_48",
          "scenario_49",
          "scenario_50",
          "scenario_51",
          "scenario_52"
         ],
         "y": [
          -13.958000000000002,
          -14.2484,
          -14.4276,
          -14.4177,
          -14.7517,
          -14.4887,
          -13.3405,
          -14.774899999999999,
          -15.2263,
          -14.735,
          -14.899500000000003,
          -14.6804,
          -13.5756,
          -13.858900000000002,
          -14.971200000000001,
          -14.7656,
          -15.1275,
          -14.3601,
          -14.189800000000002,
          -14.0657,
          -15.060500000000001,
          -15.796200000000004,
          -16.1407,
          -15.040000000000003,
          -15.096,
          -14.9288,
          -14.664300000000003,
          -14.732899999999999,
          -14.654,
          -14.971600000000002,
          -15.676499999999997,
          -15.3647,
          -15.303500000000001,
          -15.422599999999997
         ]
        }
       ],
       "layout": {
        "bargap": 0.2,
        "height": 700,
        "hovermode": "x unified",
        "template": {
         "data": {
          "bar": [
           {
            "error_x": {
             "color": "#2a3f5f"
            },
            "error_y": {
             "color": "#2a3f5f"
            },
            "marker": {
             "line": {
              "color": "#E5ECF6",
              "width": 0.5
             },
             "pattern": {
              "fillmode": "overlay",
              "size": 10,
              "solidity": 0.2
             }
            },
            "type": "bar"
           }
          ],
          "barpolar": [
           {
            "marker": {
             "line": {
              "color": "#E5ECF6",
              "width": 0.5
             },
             "pattern": {
              "fillmode": "overlay",
              "size": 10,
              "solidity": 0.2
             }
            },
            "type": "barpolar"
           }
          ],
          "carpet": [
           {
            "aaxis": {
             "endlinecolor": "#2a3f5f",
             "gridcolor": "white",
             "linecolor": "white",
             "minorgridcolor": "white",
             "startlinecolor": "#2a3f5f"
            },
            "baxis": {
             "endlinecolor": "#2a3f5f",
             "gridcolor": "white",
             "linecolor": "white",
             "minorgridcolor": "white",
             "startlinecolor": "#2a3f5f"
            },
            "type": "carpet"
           }
          ],
          "choropleth": [
           {
            "colorbar": {
             "outlinewidth": 0,
             "ticks": ""
            },
            "type": "choropleth"
           }
          ],
          "contour": [
           {
            "colorbar": {
             "outlinewidth": 0,
             "ticks": ""
            },
            "colorscale": [
             [
              0,
              "#0d0887"
             ],
             [
              0.1111111111111111,
              "#46039f"
             ],
             [
              0.2222222222222222,
              "#7201a8"
             ],
             [
              0.3333333333333333,
              "#9c179e"
             ],
             [
              0.4444444444444444,
              "#bd3786"
             ],
             [
              0.5555555555555556,
              "#d8576b"
             ],
             [
              0.6666666666666666,
              "#ed7953"
             ],
             [
              0.7777777777777778,
              "#fb9f3a"
             ],
             [
              0.8888888888888888,
              "#fdca26"
             ],
             [
              1,
              "#f0f921"
             ]
            ],
            "type": "contour"
           }
          ],
          "contourcarpet": [
           {
            "colorbar": {
             "outlinewidth": 0,
             "ticks": ""
            },
            "type": "contourcarpet"
           }
          ],
          "heatmap": [
           {
            "colorbar": {
             "outlinewidth": 0,
             "ticks": ""
            },
            "colorscale": [
             [
              0,
              "#0d0887"
             ],
             [
              0.1111111111111111,
              "#46039f"
             ],
             [
              0.2222222222222222,
              "#7201a8"
             ],
             [
              0.3333333333333333,
              "#9c179e"
             ],
             [
              0.4444444444444444,
              "#bd3786"
             ],
             [
              0.5555555555555556,
              "#d8576b"
             ],
             [
              0.6666666666666666,
              "#ed7953"
             ],
             [
              0.7777777777777778,
              "#fb9f3a"
             ],
             [
              0.8888888888888888,
              "#fdca26"
             ],
             [
              1,
              "#f0f921"
             ]
            ],
            "type": "heatmap"
           }
          ],
          "heatmapgl": [
           {
            "colorbar": {
             "outlinewidth": 0,
             "ticks": ""
            },
            "colorscale": [
             [
              0,
              "#0d0887"
             ],
             [
              0.1111111111111111,
              "#46039f"
             ],
             [
              0.2222222222222222,
              "#7201a8"
             ],
             [
              0.3333333333333333,
              "#9c179e"
             ],
             [
              0.4444444444444444,
              "#bd3786"
             ],
             [
              0.5555555555555556,
              "#d8576b"
             ],
             [
              0.6666666666666666,
              "#ed7953"
             ],
             [
              0.7777777777777778,
              "#fb9f3a"
             ],
             [
              0.8888888888888888,
              "#fdca26"
             ],
             [
              1,
              "#f0f921"
             ]
            ],
            "type": "heatmapgl"
           }
          ],
          "histogram": [
           {
            "marker": {
             "pattern": {
              "fillmode": "overlay",
              "size": 10,
              "solidity": 0.2
             }
            },
            "type": "histogram"
           }
          ],
          "histogram2d": [
           {
            "colorbar": {
             "outlinewidth": 0,
             "ticks": ""
            },
            "colorscale": [
             [
              0,
              "#0d0887"
             ],
             [
              0.1111111111111111,
              "#46039f"
             ],
             [
              0.2222222222222222,
              "#7201a8"
             ],
             [
              0.3333333333333333,
              "#9c179e"
             ],
             [
              0.4444444444444444,
              "#bd3786"
             ],
             [
              0.5555555555555556,
              "#d8576b"
             ],
             [
              0.6666666666666666,
              "#ed7953"
             ],
             [
              0.7777777777777778,
              "#fb9f3a"
             ],
             [
              0.8888888888888888,
              "#fdca26"
             ],
             [
              1,
              "#f0f921"
             ]
            ],
            "type": "histogram2d"
           }
          ],
          "histogram2dcontour": [
           {
            "colorbar": {
             "outlinewidth": 0,
             "ticks": ""
            },
            "colorscale": [
             [
              0,
              "#0d0887"
             ],
             [
              0.1111111111111111,
              "#46039f"
             ],
             [
              0.2222222222222222,
              "#7201a8"
             ],
             [
              0.3333333333333333,
              "#9c179e"
             ],
             [
              0.4444444444444444,
              "#bd3786"
             ],
             [
              0.5555555555555556,
              "#d8576b"
             ],
             [
              0.6666666666666666,
              "#ed7953"
             ],
             [
              0.7777777777777778,
              "#fb9f3a"
             ],
             [
              0.8888888888888888,
              "#fdca26"
             ],
             [
              1,
              "#f0f921"
             ]
            ],
            "type": "histogram2dcontour"
           }
          ],
          "mesh3d": [
           {
            "colorbar": {
             "outlinewidth": 0,
             "ticks": ""
            },
            "type": "mesh3d"
           }
          ],
          "parcoords": [
           {
            "line": {
             "colorbar": {
              "outlinewidth": 0,
              "ticks": ""
             }
            },
            "type": "parcoords"
           }
          ],
          "pie": [
           {
            "automargin": true,
            "type": "pie"
           }
          ],
          "scatter": [
           {
            "fillpattern": {
             "fillmode": "overlay",
             "size": 10,
             "solidity": 0.2
            },
            "type": "scatter"
           }
          ],
          "scatter3d": [
           {
            "line": {
             "colorbar": {
              "outlinewidth": 0,
              "ticks": ""
             }
            },
            "marker": {
             "colorbar": {
              "outlinewidth": 0,
              "ticks": ""
             }
            },
            "type": "scatter3d"
           }
          ],
          "scattercarpet": [
           {
            "marker": {
             "colorbar": {
              "outlinewidth": 0,
              "ticks": ""
             }
            },
            "type": "scattercarpet"
           }
          ],
          "scattergeo": [
           {
            "marker": {
             "colorbar": {
              "outlinewidth": 0,
              "ticks": ""
             }
            },
            "type": "scattergeo"
           }
          ],
          "scattergl": [
           {
            "marker": {
             "colorbar": {
              "outlinewidth": 0,
              "ticks": ""
             }
            },
            "type": "scattergl"
           }
          ],
          "scattermapbox": [
           {
            "marker": {
             "colorbar": {
              "outlinewidth": 0,
              "ticks": ""
             }
            },
            "type": "scattermapbox"
           }
          ],
          "scatterpolar": [
           {
            "marker": {
             "colorbar": {
              "outlinewidth": 0,
              "ticks": ""
             }
            },
            "type": "scatterpolar"
           }
          ],
          "scatterpolargl": [
           {
            "marker": {
             "colorbar": {
              "outlinewidth": 0,
              "ticks": ""
             }
            },
            "type": "scatterpolargl"
           }
          ],
          "scatterternary": [
           {
            "marker": {
             "colorbar": {
              "outlinewidth": 0,
              "ticks": ""
             }
            },
            "type": "scatterternary"
           }
          ],
          "surface": [
           {
            "colorbar": {
             "outlinewidth": 0,
             "ticks": ""
            },
            "colorscale": [
             [
              0,
              "#0d0887"
             ],
             [
              0.1111111111111111,
              "#46039f"
             ],
             [
              0.2222222222222222,
              "#7201a8"
             ],
             [
              0.3333333333333333,
              "#9c179e"
             ],
             [
              0.4444444444444444,
              "#bd3786"
             ],
             [
              0.5555555555555556,
              "#d8576b"
             ],
             [
              0.6666666666666666,
              "#ed7953"
             ],
             [
              0.7777777777777778,
              "#fb9f3a"
             ],
             [
              0.8888888888888888,
              "#fdca26"
             ],
             [
              1,
              "#f0f921"
             ]
            ],
            "type": "surface"
           }
          ],
          "table": [
           {
            "cells": {
             "fill": {
              "color": "#EBF0F8"
             },
             "line": {
              "color": "white"
             }
            },
            "header": {
             "fill": {
              "color": "#C8D4E3"
             },
             "line": {
              "color": "white"
             }
            },
            "type": "table"
           }
          ]
         },
         "layout": {
          "annotationdefaults": {
           "arrowcolor": "#2a3f5f",
           "arrowhead": 0,
           "arrowwidth": 1
          },
          "autotypenumbers": "strict",
          "coloraxis": {
           "colorbar": {
            "outlinewidth": 0,
            "ticks": ""
           }
          },
          "colorscale": {
           "diverging": [
            [
             0,
             "#8e0152"
            ],
            [
             0.1,
             "#c51b7d"
            ],
            [
             0.2,
             "#de77ae"
            ],
            [
             0.3,
             "#f1b6da"
            ],
            [
             0.4,
             "#fde0ef"
            ],
            [
             0.5,
             "#f7f7f7"
            ],
            [
             0.6,
             "#e6f5d0"
            ],
            [
             0.7,
             "#b8e186"
            ],
            [
             0.8,
             "#7fbc41"
            ],
            [
             0.9,
             "#4d9221"
            ],
            [
             1,
             "#276419"
            ]
           ],
           "sequential": [
            [
             0,
             "#0d0887"
            ],
            [
             0.1111111111111111,
             "#46039f"
            ],
            [
             0.2222222222222222,
             "#7201a8"
            ],
            [
             0.3333333333333333,
             "#9c179e"
            ],
            [
             0.4444444444444444,
             "#bd3786"
            ],
            [
             0.5555555555555556,
             "#d8576b"
            ],
            [
             0.6666666666666666,
             "#ed7953"
            ],
            [
             0.7777777777777778,
             "#fb9f3a"
            ],
            [
             0.8888888888888888,
             "#fdca26"
            ],
            [
             1,
             "#f0f921"
            ]
           ],
           "sequentialminus": [
            [
             0,
             "#0d0887"
            ],
            [
             0.1111111111111111,
             "#46039f"
            ],
            [
             0.2222222222222222,
             "#7201a8"
            ],
            [
             0.3333333333333333,
             "#9c179e"
            ],
            [
             0.4444444444444444,
             "#bd3786"
            ],
            [
             0.5555555555555556,
             "#d8576b"
            ],
            [
             0.6666666666666666,
             "#ed7953"
            ],
            [
             0.7777777777777778,
             "#fb9f3a"
            ],
            [
             0.8888888888888888,
             "#fdca26"
            ],
            [
             1,
             "#f0f921"
            ]
           ]
          },
          "colorway": [
           "#636efa",
           "#EF553B",
           "#00cc96",
           "#ab63fa",
           "#FFA15A",
           "#19d3f3",
           "#FF6692",
           "#B6E880",
           "#FF97FF",
           "#FECB52"
          ],
          "font": {
           "color": "#2a3f5f"
          },
          "geo": {
           "bgcolor": "white",
           "lakecolor": "white",
           "landcolor": "#E5ECF6",
           "showlakes": true,
           "showland": true,
           "subunitcolor": "white"
          },
          "hoverlabel": {
           "align": "left"
          },
          "hovermode": "closest",
          "mapbox": {
           "style": "light"
          },
          "paper_bgcolor": "white",
          "plot_bgcolor": "#E5ECF6",
          "polar": {
           "angularaxis": {
            "gridcolor": "white",
            "linecolor": "white",
            "ticks": ""
           },
           "bgcolor": "#E5ECF6",
           "radialaxis": {
            "gridcolor": "white",
            "linecolor": "white",
            "ticks": ""
           }
          },
          "scene": {
           "xaxis": {
            "backgroundcolor": "#E5ECF6",
            "gridcolor": "white",
            "gridwidth": 2,
            "linecolor": "white",
            "showbackground": true,
            "ticks": "",
            "zerolinecolor": "white"
           },
           "yaxis": {
            "backgroundcolor": "#E5ECF6",
            "gridcolor": "white",
            "gridwidth": 2,
            "linecolor": "white",
            "showbackground": true,
            "ticks": "",
            "zerolinecolor": "white"
           },
           "zaxis": {
            "backgroundcolor": "#E5ECF6",
            "gridcolor": "white",
            "gridwidth": 2,
            "linecolor": "white",
            "showbackground": true,
            "ticks": "",
            "zerolinecolor": "white"
           }
          },
          "shapedefaults": {
           "line": {
            "color": "#2a3f5f"
           }
          },
          "ternary": {
           "aaxis": {
            "gridcolor": "white",
            "linecolor": "white",
            "ticks": ""
           },
           "baxis": {
            "gridcolor": "white",
            "linecolor": "white",
            "ticks": ""
           },
           "bgcolor": "#E5ECF6",
           "caxis": {
            "gridcolor": "white",
            "linecolor": "white",
            "ticks": ""
           }
          },
          "title": {
           "x": 0.05
          },
          "xaxis": {
           "automargin": true,
           "gridcolor": "white",
           "linecolor": "white",
           "ticks": "",
           "title": {
            "standoff": 15
           },
           "zerolinecolor": "white",
           "zerolinewidth": 2
          },
          "yaxis": {
           "automargin": true,
           "gridcolor": "white",
           "linecolor": "white",
           "ticks": "",
           "title": {
            "standoff": 15
           },
           "zerolinecolor": "white",
           "zerolinewidth": 2
          }
         }
        },
        "title": {
         "text": "TMT Total por Escenario (Basado en Tiempos del Archivo de Entrada)"
        },
        "xaxis": {
         "tickangle": -90,
         "title": {
          "text": "ID de Escenario"
         },
         "type": "category"
        },
        "yaxis": {
         "range": [
          -17.75477,
          0.05
         ],
         "title": {
          "text": "TMT Total (Suma de mt < 0) [s]"
         },
         "zeroline": true,
         "zerolinecolor": "black",
         "zerolinewidth": 2
        }
       }
      }
     },
     "metadata": {},
     "output_type": "display_data"
    },
    {
     "name": "stderr",
     "output_type": "stream",
     "text": [
      "2025-04-19 19:21:50,858 - INFO - --- Análisis de TMT para todos los escenarios (basado en tiempos de entrada) Finalizado ---\n"
     ]
    }
   ],
   "source": [
    "\n",
    "import json\n",
    "import os\n",
    "import math\n",
    "import pandas as pd\n",
    "import plotly.graph_objects as go\n",
    "from plotly.subplots import make_subplots\n",
    "import logging\n",
    "import numpy as np # Para isnan\n",
    "from typing import Dict, List, Any, Optional\n",
    "\n",
    "# Configuración básica de logging\n",
    "logging.basicConfig(level=logging.INFO, format='%(asctime)s - %(levelname)s - %(message)s')\n",
    "logger = logging.getLogger(__name__)\n",
    "\n",
    "# --- Constantes ---\n",
    "CTI = 0.2  # Intervalo de tiempo de coordinación típico (en segundos)\n",
    "\n",
    "# --- Rutas de los archivos ---\n",
    "# ENTRADA: Archivo con la lista de pares, incluyendo 'Time_out' en cada relé\n",
    "INPUT_FILE = \"/Users/gustavo/Documents/Projects/TESIS_UNAL/ADAPTIVE_ALGORITHM/data/processed/independent_relay_pairs_bad.json\"\n",
    "# SALIDA (Opcional): Gráfico HTML\n",
    "# PLOT_OUTPUT_PATH = \"/Users/gustavo/Documents/Projects/TESIS_UNAL/ADAPTIVE_ALGORITHM/data/processed/model/tmt_analysis_all_scenarios_from_input_times.html\"\n",
    "\n",
    "logger.info(f\"Archivo de entrada: {INPUT_FILE}\")\n",
    "\n",
    "# %%\n",
    "# Celda 2: Funciones de Ayuda (Carga)\n",
    "\n",
    "def load_json_file(file_path: str) -> Optional[Any]:\n",
    "    \"\"\"Loads data from a JSON file.\"\"\"\n",
    "    try:\n",
    "        with open(file_path, 'r') as file: data = json.load(file)\n",
    "        logger.info(f\"Archivo cargado: {file_path}\"); return data\n",
    "    except FileNotFoundError: logger.error(f\"No encontrado: {file_path}\"); return None\n",
    "    except json.JSONDecodeError as e: logger.error(f\"JSON inválido: {file_path}: {e}\"); return None\n",
    "    except Exception as e: logger.error(f\"Error carga {file_path}: {e}\"); return None\n",
    "\n",
    "# %%\n",
    "# Celda 3: Carga y Agrupación de Datos por Escenario\n",
    "\n",
    "logger.info(\"Cargando y agrupando datos por escenario...\")\n",
    "relay_pairs_data = load_json_file(INPUT_FILE)\n",
    "\n",
    "if relay_pairs_data is None:\n",
    "    raise SystemExit(\"Error crítico al cargar archivo de entrada.\")\n",
    "if not isinstance(relay_pairs_data, list):\n",
    "     raise SystemExit(\"Error de formato en archivo de entrada (se espera lista).\")\n",
    "\n",
    "# Crear mapa de pares originales: scenario_id -> [list of pairs]\n",
    "original_pairs_map: Dict[str, List[Dict]] = {}\n",
    "total_original_pairs_read = 0\n",
    "skipped_pairs_structure = 0\n",
    "for pair in relay_pairs_data:\n",
    "    s_id = pair.get(\"scenario_id\")\n",
    "    # Validar estructura mínima y la presencia de Time_out antes de agrupar\n",
    "    main_info = pair.get('main_relay')\n",
    "    backup_info = pair.get('backup_relay')\n",
    "    if s_id and isinstance(main_info, dict) and isinstance(backup_info, dict) and \\\n",
    "       'Time_out' in main_info and 'Time_out' in backup_info:\n",
    "        if s_id not in original_pairs_map: original_pairs_map[s_id] = []\n",
    "        original_pairs_map[s_id].append(pair)\n",
    "        total_original_pairs_read += 1\n",
    "    else:\n",
    "        skipped_pairs_structure += 1\n",
    "        # logger.warning(f\"Par omitido por estructura/Time_out inválido: {pair.get('scenario_id', 'N/A')}\")\n",
    "\n",
    "logger.info(f\"Datos agrupados: {len(original_pairs_map)} escenarios encontrados.\")\n",
    "logger.info(f\"{total_original_pairs_read} pares válidos leídos y agrupados.\")\n",
    "if skipped_pairs_structure > 0:\n",
    "    logger.warning(f\"{skipped_pairs_structure} pares fueron omitidos durante la carga debido a estructura o Time_out faltante.\")\n",
    "\n",
    "\n",
    "# %%\n",
    "# Celda 4: Calcular Métricas de Coordinación para Todos los Escenarios (Usando Tiempos Existentes)\n",
    "\n",
    "logger.info(\"Calculando TMT y métricas para cada escenario usando los Time_out existentes...\")\n",
    "scenario_results: Dict[str, Dict[str, Any]] = {}\n",
    "\n",
    "if not original_pairs_map:\n",
    "     raise SystemExit(\"No hay datos de escenario para procesar.\")\n",
    "\n",
    "for scenario_id, pairs_for_scenario in original_pairs_map.items():\n",
    "    tmt_for_scenario = 0.0\n",
    "    miscoordination_count = 0\n",
    "    valid_pairs_evaluated = 0\n",
    "    max_neg_mt_scenario = 0.0\n",
    "    skipped_this_scenario = 0\n",
    "\n",
    "    for pair_entry in pairs_for_scenario:\n",
    "        main_relay_info = pair_entry.get('main_relay') # Ya validado que existe\n",
    "        backup_relay_info = pair_entry.get('backup_relay') # Ya validado que existe\n",
    "\n",
    "        # Obtener tiempos existentes\n",
    "        main_time = main_relay_info.get('Time_out')\n",
    "        backup_time = backup_relay_info.get('Time_out')\n",
    "\n",
    "        # Validar que los tiempos son números válidos\n",
    "        if not isinstance(main_time, (int, float)) or math.isnan(main_time) or \\\n",
    "           not isinstance(backup_time, (int, float)) or math.isnan(backup_time):\n",
    "            # logger.warning(f\"({scenario_id}) Tiempos inválidos en par {main_relay_info.get('relay')}/{backup_relay_info.get('relay')}. Omitido.\")\n",
    "            skipped_this_scenario += 1\n",
    "            continue\n",
    "\n",
    "        # --- Calcular delta_t y mt con tiempos existentes ---\n",
    "        delta_t = backup_time - main_time - CTI\n",
    "        mt = min(0, delta_t) # Penalización solo si delta_t es negativo\n",
    "\n",
    "        valid_pairs_evaluated += 1\n",
    "        if mt < -1e-6: # Usar tolerancia\n",
    "            miscoordination_count += 1\n",
    "            tmt_for_scenario += mt\n",
    "            max_neg_mt_scenario = min(max_neg_mt_scenario, mt)\n",
    "\n",
    "    # Almacenar resultados del escenario\n",
    "    if valid_pairs_evaluated > 0:\n",
    "        scenario_results[scenario_id] = {\n",
    "            \"TMT\": tmt_for_scenario,\n",
    "            \"MiscoordinatedCount\": miscoordination_count,\n",
    "            \"TotalPairsEvaluated\": valid_pairs_evaluated,\n",
    "            \"MaxNegativeMT\": max_neg_mt_scenario\n",
    "        }\n",
    "        # Log resumido por escenario\n",
    "        # logger.info(f\"Resultados {scenario_id}: TMT={tmt_for_scenario:.4f}, Descoordinados={miscoordination_count}/{valid_pairs_evaluated}\")\n",
    "        if skipped_this_scenario > 0:\n",
    "             logger.warning(f\"({scenario_id}) Se omitieron {skipped_this_scenario} pares adicionales durante el cálculo por tiempos inválidos.\")\n",
    "    elif pairs_for_scenario: # Si había pares pero ninguno fue válido\n",
    "         logger.warning(f\"({scenario_id}) No se evaluaron pares válidos (problemas con Time_out?).\")\n",
    "\n",
    "\n",
    "logger.info(f\"Cálculo de TMT completado para {len(scenario_results)} escenarios.\")\n",
    "\n",
    "# %%\n",
    "# Celda 5: Análisis - Mostrar los 54 Mejores Escenarios por TMT\n",
    "\n",
    "if not scenario_results:\n",
    "    logger.error(\"No hay resultados de escenario para analizar.\")\n",
    "else:\n",
    "    # Convertir a DataFrame\n",
    "    df_results = pd.DataFrame.from_dict(scenario_results, orient='index')\n",
    "    df_results.index.name = 'scenario_id'\n",
    "    df_results = df_results.reset_index()\n",
    "\n",
    "    # Ordenar por TMT (descendente: mejor primero)\n",
    "    df_results_sorted_by_tmt = df_results.sort_values(by='TMT', ascending=False)\n",
    "\n",
    "    # Seleccionar los 54 mejores diferentes de cero\n",
    "    top_54_scenarios = df_results_sorted_by_tmt[df_results_sorted_by_tmt['TMT'] != 0].head(54)\n",
    "    # top_54_scenarios = df_results_sorted_by_tmt.head(54)\n",
    "\n",
    "    print(\"\\n--- Mejores 54 Escenarios por TMT (Basado en Tiempos del Archivo de Entrada) ---\")\n",
    "    pd.set_option('display.max_rows', 60) # Mostrar suficientes filas\n",
    "    # Mostrar columnas relevantes\n",
    "    print(top_54_scenarios[['scenario_id', 'TMT', 'MiscoordinatedCount', 'TotalPairsEvaluated', 'MaxNegativeMT']].round(5))\n",
    "    pd.reset_option('display.max_rows')\n",
    "\n",
    "    # Guardar en CSV (Opcional)\n",
    "    # try:\n",
    "    #     top_54_scenarios.to_csv(\"top_54_scenarios_by_tmt_input_times.csv\", index=False)\n",
    "    #     logger.info(\"Datos de los 54 mejores escenarios guardados en top_54_scenarios_by_tmt_input_times.csv\")\n",
    "    # except Exception as e:\n",
    "    #     logger.error(f\"No se pudo guardar el CSV: {e}\")\n",
    "\n",
    "\n",
    "# %%\n",
    "# Celda 6: Visualización - Gráfico de Barras del TMT para Todos los Escenarios\n",
    "\n",
    "if not scenario_results:\n",
    "    logger.error(\"No hay resultados de TMT para graficar.\")\n",
    "elif 'df_results' not in locals():\n",
    "     logger.error(\"DataFrame df_results no fue creado. No se puede graficar.\")\n",
    "else:\n",
    "    logger.info(\"Generando gráfico de barras de TMT para todos los escenarios...\")\n",
    "\n",
    "    # Ordenar por ID de escenario para el gráfico\n",
    "    def get_scenario_num(s_id):\n",
    "        try: return int(s_id.split('_')[-1])\n",
    "        except: return float('inf') # Poner nombres no estándar al final\n",
    "\n",
    "    df_results_plot_sorted = df_results.copy()\n",
    "    df_results_plot_sorted['scenario_num'] = df_results_plot_sorted['scenario_id'].apply(get_scenario_num)\n",
    "    df_results_plot_sorted = df_results_plot_sorted.sort_values(by='scenario_num')\n",
    "\n",
    "    # Extraer datos ordenados\n",
    "    scenario_labels_plot = df_results_plot_sorted['scenario_id'].tolist()\n",
    "    tmt_values_plot = df_results_plot_sorted['TMT'].tolist()\n",
    "    miscoord_counts_plot = df_results_plot_sorted['MiscoordinatedCount'].tolist()\n",
    "    total_pairs_plot = df_results_plot_sorted['TotalPairsEvaluated'].tolist()\n",
    "    max_neg_mt_plot = df_results_plot_sorted['MaxNegativeMT'].tolist()\n",
    "\n",
    "    # Textos de hover\n",
    "    hover_texts_plot = [\n",
    "        f\"<b>{s_id}</b><br>\" +\n",
    "        f\"TMT: {tmt:.4f}<br>\" +\n",
    "        f\"Descoordinados: {mc}/{tp}<br>\" +\n",
    "        f\"Peor MT Individual: {max_neg_mt:.4f}\"\n",
    "        for s_id, tmt, mc, tp, max_neg_mt in zip(scenario_labels_plot, tmt_values_plot, miscoord_counts_plot, total_pairs_plot, max_neg_mt_plot)\n",
    "    ]\n",
    "\n",
    "    # Colores (ajustar umbrales si es necesario)\n",
    "    colors = ['#2ca02c' if tmt >= -0.001 else '#ff7f0e' if tmt >= -0.05 else '#d62728' # Verde, Naranja, Rojo\n",
    "              for tmt in tmt_values_plot]\n",
    "\n",
    "    # Crear figura\n",
    "    fig_tmt_all = go.Figure(data=[\n",
    "        go.Bar(\n",
    "            x=scenario_labels_plot,\n",
    "            y=tmt_values_plot,\n",
    "            text=[f\"{mc}/{tp}\" if tp > 0 else \"N/A\" for mc, tp in zip(miscoord_counts_plot, total_pairs_plot)], # Mostrar Descoord/Total\n",
    "            textposition='outside',\n",
    "            textfont_size=8,\n",
    "            hovertext=hover_texts_plot,\n",
    "            hoverinfo='text',\n",
    "            marker_color=colors\n",
    "        )\n",
    "    ])\n",
    "\n",
    "    fig_tmt_all.update_layout(\n",
    "        title=\"TMT Total por Escenario (Basado en Tiempos del Archivo de Entrada)\",\n",
    "        xaxis_title=\"ID de Escenario\",\n",
    "        yaxis_title=\"TMT Total (Suma de mt < 0) [s]\",\n",
    "        yaxis=dict(range=[min(tmt_values_plot + [-0.1]) * 1.1, max(tmt_values_plot + [0.05])]), # Ajustar rango eje Y\n",
    "        yaxis_zeroline=True, yaxis_zerolinewidth=2, yaxis_zerolinecolor='black',\n",
    "        xaxis={'type': 'category', 'tickangle': -90}, # Rotar etiquetas\n",
    "        height=700, # Ajustar altura si hay muchos escenarios\n",
    "        bargap=0.2,\n",
    "        hovermode='x unified'\n",
    "    )\n",
    "\n",
    "    # Mostrar y guardar\n",
    "    fig_tmt_all.show()\n",
    "    # try:\n",
    "    #     output_dir = os.path.dirname(PLOT_OUTPUT_PATH)\n",
    "    #     if output_dir: os.makedirs(output_dir, exist_ok=True)\n",
    "    #     fig_tmt_all.write_html(PLOT_OUTPUT_PATH)\n",
    "    #     logger.info(f\"Gráfico guardado en: {PLOT_OUTPUT_PATH}\")\n",
    "    # except Exception as e:\n",
    "    #     logger.error(f\"No se pudo guardar el gráfico en {PLOT_OUTPUT_PATH}: {e}\")\n",
    "\n",
    "\n",
    "logger.info(\"--- Análisis de TMT para todos los escenarios (basado en tiempos de entrada) Finalizado ---\")"
   ]
  }
 ],
 "metadata": {
  "kernelspec": {
   "display_name": "Python 3",
   "language": "python",
   "name": "python3"
  },
  "language_info": {
   "codemirror_mode": {
    "name": "ipython",
    "version": 3
   },
   "file_extension": ".py",
   "mimetype": "text/x-python",
   "name": "python",
   "nbconvert_exporter": "python",
   "pygments_lexer": "ipython3",
   "version": "3.11.11"
  }
 },
 "nbformat": 4,
 "nbformat_minor": 2
}
