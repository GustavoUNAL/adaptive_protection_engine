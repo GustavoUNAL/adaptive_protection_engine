{
 "cells": [
  {
   "cell_type": "markdown",
   "metadata": {},
   "source": [
    "# Scenario 15"
   ]
  },
  {
   "cell_type": "markdown",
   "metadata": {},
   "source": [
    "# Anlisis detallado escenario 15"
   ]
  },
  {
   "cell_type": "code",
   "execution_count": 1,
   "metadata": {},
   "outputs": [
    {
     "name": "stdout",
     "output_type": "stream",
     "text": [
      "Archivo de entrada: /Users/gustavo/Documents/Projects/TESIS_UNAL/ADAPTIVE_ALGORITHM/data/processed/independent_relay_pairs_optimization.json\n",
      "Analizando SOLAMENTE para: 'scenario_15'\n",
      "Cargando datos (lista de pares)...\n",
      "Datos cargados correctamente.\n",
      "Calculando delta_t, mt y clasificando pares para 'scenario_15'...\n",
      "Procesamiento de pares completado.\n",
      "\n",
      "--- Resultados del Análisis de Coordinación para 'scenario_15' ---\n",
      "Total de pares leídos del archivo: 6800\n",
      "Total de pares encontrados para 'scenario_15': 100\n",
      "Total de pares válidos analizados para 'scenario_15': 100\n",
      "Número de pares coordinados (delta_t >= 0) en 'scenario_15': 89\n",
      "Número de pares DESCOORDINADOS (delta_t < 0) en 'scenario_15': 11\n",
      "Suma total de penalización por descoordinación (TMT Total) para 'scenario_15': -20.22100\n"
     ]
    },
    {
     "data": {
      "application/vnd.plotly.v1+json": {
       "config": {
        "plotlyServerURL": "https://plot.ly"
       },
       "data": [
        {
         "hovertemplate": "<b>%{text}</b><br>MT: %{y:.5f}<br>Índice: %{x}<extra></extra>",
         "marker": {
          "color": "green"
         },
         "name": "Pares Coordinados",
         "text": [
          "Main_52-Backup_52",
          "Main_67-Backup_67",
          "Main_66-Backup_66",
          "Main_65-Backup_65",
          "Main_64-Backup_64",
          "Main_63-Backup_63",
          "Main_62-Backup_62",
          "Main_61-Backup_61",
          "Main_60-Backup_60",
          "Main_59-Backup_59",
          "Main_68-Backup_68",
          "Main_57-Backup_57",
          "Main_56-Backup_56",
          "Main_55-Backup_55",
          "Main_54-Backup_54",
          "Main_53-Backup_53",
          "Main_51-Backup_51",
          "Main_58-Backup_58",
          "Main_70-Backup_70",
          "Main_71-Backup_71",
          "Main_88-Backup_88",
          "Main_87-Backup_87",
          "Main_86-Backup_86",
          "Main_85-Backup_85",
          "Main_84-Backup_84",
          "Main_83-Backup_83",
          "Main_82-Backup_82",
          "Main_81-Backup_81",
          "Main_80-Backup_80",
          "Main_79-Backup_79",
          "Main_78-Backup_78",
          "Main_77-Backup_77",
          "Main_76-Backup_76",
          "Main_75-Backup_75",
          "Main_50-Backup_50",
          "Main_73-Backup_73",
          "Main_72-Backup_72",
          "Main_69-Backup_69",
          "Main_74-Backup_74",
          "Main_0-Backup_0",
          "Main_47-Backup_47",
          "Main_21-Backup_21",
          "Main_20-Backup_20",
          "Main_19-Backup_19",
          "Main_18-Backup_18",
          "Main_17-Backup_17",
          "Main_16-Backup_16",
          "Main_15-Backup_15",
          "Main_14-Backup_14",
          "Main_13-Backup_13",
          "Main_12-Backup_12",
          "Main_11-Backup_11",
          "Main_10-Backup_10",
          "Main_9-Backup_9",
          "Main_8-Backup_8",
          "Main_7-Backup_7",
          "Main_6-Backup_6",
          "Main_5-Backup_5",
          "Main_4-Backup_4",
          "Main_3-Backup_3",
          "Main_2-Backup_2",
          "Main_1-Backup_1",
          "Main_22-Backup_22",
          "Main_48-Backup_48",
          "Main_23-Backup_23",
          "Main_25-Backup_25",
          "Main_46-Backup_46",
          "Main_45-Backup_45",
          "Main_44-Backup_44",
          "Main_43-Backup_43",
          "Main_42-Backup_42",
          "Main_41-Backup_41",
          "Main_40-Backup_40",
          "Main_39-Backup_39",
          "Main_38-Backup_38",
          "Main_37-Backup_37",
          "Main_36-Backup_36",
          "Main_35-Backup_35",
          "Main_34-Backup_34",
          "Main_33-Backup_33",
          "Main_32-Backup_32",
          "Main_31-Backup_31",
          "Main_30-Backup_30",
          "Main_29-Backup_29",
          "Main_28-Backup_28",
          "Main_27-Backup_27",
          "Main_26-Backup_26",
          "Main_24-Backup_24",
          "Main_49-Backup_49"
         ],
         "type": "bar",
         "x": [
          53,
          68,
          67,
          66,
          65,
          64,
          63,
          62,
          61,
          60,
          69,
          58,
          57,
          56,
          55,
          54,
          52,
          59,
          71,
          72,
          89,
          88,
          87,
          86,
          85,
          84,
          83,
          82,
          81,
          80,
          79,
          78,
          77,
          76,
          51,
          74,
          73,
          70,
          75,
          1,
          48,
          22,
          21,
          20,
          19,
          18,
          17,
          16,
          15,
          14,
          13,
          12,
          11,
          10,
          9,
          8,
          7,
          6,
          5,
          4,
          3,
          2,
          23,
          49,
          24,
          26,
          47,
          46,
          45,
          44,
          43,
          42,
          41,
          40,
          39,
          38,
          37,
          36,
          35,
          34,
          33,
          32,
          31,
          30,
          29,
          28,
          27,
          25,
          50
         ],
         "y": [
          0,
          0,
          0,
          0,
          0,
          0,
          0,
          0,
          0,
          0,
          0,
          0,
          0,
          0,
          0,
          0,
          0,
          0,
          0,
          0,
          0,
          0,
          0,
          0,
          0,
          0,
          0,
          0,
          0,
          0,
          0,
          0,
          0,
          0,
          0,
          0,
          0,
          0,
          0,
          0,
          0,
          0,
          0,
          0,
          0,
          0,
          0,
          0,
          0,
          0,
          0,
          0,
          0,
          0,
          0,
          0,
          0,
          0,
          0,
          0,
          0,
          0,
          0,
          0,
          0,
          0,
          0,
          0,
          0,
          0,
          0,
          0,
          0,
          0,
          0,
          0,
          0,
          0,
          0,
          0,
          0,
          0,
          0,
          0,
          0,
          0,
          0,
          0,
          0
         ]
        },
        {
         "hovertemplate": "<b>%{text}</b><br>MT: %{y:.5f}<br>Índice: %{x}<extra></extra>",
         "marker": {
          "color": "red"
         },
         "name": "Pares Descoordinados",
         "text": [
          "Main_95-Backup_95",
          "Main_94-Backup_94",
          "Main_97-Backup_97",
          "Main_96-Backup_96",
          "Main_90-Backup_90",
          "Main_99-Backup_99",
          "Main_98-Backup_98",
          "Main_91-Backup_91",
          "Main_89-Backup_89",
          "Main_93-Backup_93",
          "Main_92-Backup_92"
         ],
         "type": "bar",
         "x": [
          96,
          95,
          98,
          97,
          91,
          100,
          99,
          92,
          90,
          94,
          93
         ],
         "y": [
          -2.3016,
          -2.3016,
          -2.2790000000000004,
          -2.2790000000000004,
          -2.1074,
          -1.9606,
          -1.9606,
          -1.8521999999999998,
          -1.1998,
          -1.1778,
          -0.8013999999999999
         ]
        }
       ],
       "layout": {
        "barmode": "group",
        "legend": {
         "bgcolor": "rgba(255, 255, 255, 0.5)",
         "bordercolor": "rgba(0, 0, 0, 0.5)",
         "x": 0.01,
         "y": 0.99
        },
        "shapes": [
         {
          "line": {
           "color": "black",
           "dash": "dash",
           "width": 1
          },
          "type": "line",
          "x0": 0,
          "x1": 100,
          "y0": 0,
          "y1": 0
         }
        ],
        "template": {
         "data": {
          "bar": [
           {
            "error_x": {
             "color": "#2a3f5f"
            },
            "error_y": {
             "color": "#2a3f5f"
            },
            "marker": {
             "line": {
              "color": "#E5ECF6",
              "width": 0.5
             },
             "pattern": {
              "fillmode": "overlay",
              "size": 10,
              "solidity": 0.2
             }
            },
            "type": "bar"
           }
          ],
          "barpolar": [
           {
            "marker": {
             "line": {
              "color": "#E5ECF6",
              "width": 0.5
             },
             "pattern": {
              "fillmode": "overlay",
              "size": 10,
              "solidity": 0.2
             }
            },
            "type": "barpolar"
           }
          ],
          "carpet": [
           {
            "aaxis": {
             "endlinecolor": "#2a3f5f",
             "gridcolor": "white",
             "linecolor": "white",
             "minorgridcolor": "white",
             "startlinecolor": "#2a3f5f"
            },
            "baxis": {
             "endlinecolor": "#2a3f5f",
             "gridcolor": "white",
             "linecolor": "white",
             "minorgridcolor": "white",
             "startlinecolor": "#2a3f5f"
            },
            "type": "carpet"
           }
          ],
          "choropleth": [
           {
            "colorbar": {
             "outlinewidth": 0,
             "ticks": ""
            },
            "type": "choropleth"
           }
          ],
          "contour": [
           {
            "colorbar": {
             "outlinewidth": 0,
             "ticks": ""
            },
            "colorscale": [
             [
              0,
              "#0d0887"
             ],
             [
              0.1111111111111111,
              "#46039f"
             ],
             [
              0.2222222222222222,
              "#7201a8"
             ],
             [
              0.3333333333333333,
              "#9c179e"
             ],
             [
              0.4444444444444444,
              "#bd3786"
             ],
             [
              0.5555555555555556,
              "#d8576b"
             ],
             [
              0.6666666666666666,
              "#ed7953"
             ],
             [
              0.7777777777777778,
              "#fb9f3a"
             ],
             [
              0.8888888888888888,
              "#fdca26"
             ],
             [
              1,
              "#f0f921"
             ]
            ],
            "type": "contour"
           }
          ],
          "contourcarpet": [
           {
            "colorbar": {
             "outlinewidth": 0,
             "ticks": ""
            },
            "type": "contourcarpet"
           }
          ],
          "heatmap": [
           {
            "colorbar": {
             "outlinewidth": 0,
             "ticks": ""
            },
            "colorscale": [
             [
              0,
              "#0d0887"
             ],
             [
              0.1111111111111111,
              "#46039f"
             ],
             [
              0.2222222222222222,
              "#7201a8"
             ],
             [
              0.3333333333333333,
              "#9c179e"
             ],
             [
              0.4444444444444444,
              "#bd3786"
             ],
             [
              0.5555555555555556,
              "#d8576b"
             ],
             [
              0.6666666666666666,
              "#ed7953"
             ],
             [
              0.7777777777777778,
              "#fb9f3a"
             ],
             [
              0.8888888888888888,
              "#fdca26"
             ],
             [
              1,
              "#f0f921"
             ]
            ],
            "type": "heatmap"
           }
          ],
          "heatmapgl": [
           {
            "colorbar": {
             "outlinewidth": 0,
             "ticks": ""
            },
            "colorscale": [
             [
              0,
              "#0d0887"
             ],
             [
              0.1111111111111111,
              "#46039f"
             ],
             [
              0.2222222222222222,
              "#7201a8"
             ],
             [
              0.3333333333333333,
              "#9c179e"
             ],
             [
              0.4444444444444444,
              "#bd3786"
             ],
             [
              0.5555555555555556,
              "#d8576b"
             ],
             [
              0.6666666666666666,
              "#ed7953"
             ],
             [
              0.7777777777777778,
              "#fb9f3a"
             ],
             [
              0.8888888888888888,
              "#fdca26"
             ],
             [
              1,
              "#f0f921"
             ]
            ],
            "type": "heatmapgl"
           }
          ],
          "histogram": [
           {
            "marker": {
             "pattern": {
              "fillmode": "overlay",
              "size": 10,
              "solidity": 0.2
             }
            },
            "type": "histogram"
           }
          ],
          "histogram2d": [
           {
            "colorbar": {
             "outlinewidth": 0,
             "ticks": ""
            },
            "colorscale": [
             [
              0,
              "#0d0887"
             ],
             [
              0.1111111111111111,
              "#46039f"
             ],
             [
              0.2222222222222222,
              "#7201a8"
             ],
             [
              0.3333333333333333,
              "#9c179e"
             ],
             [
              0.4444444444444444,
              "#bd3786"
             ],
             [
              0.5555555555555556,
              "#d8576b"
             ],
             [
              0.6666666666666666,
              "#ed7953"
             ],
             [
              0.7777777777777778,
              "#fb9f3a"
             ],
             [
              0.8888888888888888,
              "#fdca26"
             ],
             [
              1,
              "#f0f921"
             ]
            ],
            "type": "histogram2d"
           }
          ],
          "histogram2dcontour": [
           {
            "colorbar": {
             "outlinewidth": 0,
             "ticks": ""
            },
            "colorscale": [
             [
              0,
              "#0d0887"
             ],
             [
              0.1111111111111111,
              "#46039f"
             ],
             [
              0.2222222222222222,
              "#7201a8"
             ],
             [
              0.3333333333333333,
              "#9c179e"
             ],
             [
              0.4444444444444444,
              "#bd3786"
             ],
             [
              0.5555555555555556,
              "#d8576b"
             ],
             [
              0.6666666666666666,
              "#ed7953"
             ],
             [
              0.7777777777777778,
              "#fb9f3a"
             ],
             [
              0.8888888888888888,
              "#fdca26"
             ],
             [
              1,
              "#f0f921"
             ]
            ],
            "type": "histogram2dcontour"
           }
          ],
          "mesh3d": [
           {
            "colorbar": {
             "outlinewidth": 0,
             "ticks": ""
            },
            "type": "mesh3d"
           }
          ],
          "parcoords": [
           {
            "line": {
             "colorbar": {
              "outlinewidth": 0,
              "ticks": ""
             }
            },
            "type": "parcoords"
           }
          ],
          "pie": [
           {
            "automargin": true,
            "type": "pie"
           }
          ],
          "scatter": [
           {
            "fillpattern": {
             "fillmode": "overlay",
             "size": 10,
             "solidity": 0.2
            },
            "type": "scatter"
           }
          ],
          "scatter3d": [
           {
            "line": {
             "colorbar": {
              "outlinewidth": 0,
              "ticks": ""
             }
            },
            "marker": {
             "colorbar": {
              "outlinewidth": 0,
              "ticks": ""
             }
            },
            "type": "scatter3d"
           }
          ],
          "scattercarpet": [
           {
            "marker": {
             "colorbar": {
              "outlinewidth": 0,
              "ticks": ""
             }
            },
            "type": "scattercarpet"
           }
          ],
          "scattergeo": [
           {
            "marker": {
             "colorbar": {
              "outlinewidth": 0,
              "ticks": ""
             }
            },
            "type": "scattergeo"
           }
          ],
          "scattergl": [
           {
            "marker": {
             "colorbar": {
              "outlinewidth": 0,
              "ticks": ""
             }
            },
            "type": "scattergl"
           }
          ],
          "scattermapbox": [
           {
            "marker": {
             "colorbar": {
              "outlinewidth": 0,
              "ticks": ""
             }
            },
            "type": "scattermapbox"
           }
          ],
          "scatterpolar": [
           {
            "marker": {
             "colorbar": {
              "outlinewidth": 0,
              "ticks": ""
             }
            },
            "type": "scatterpolar"
           }
          ],
          "scatterpolargl": [
           {
            "marker": {
             "colorbar": {
              "outlinewidth": 0,
              "ticks": ""
             }
            },
            "type": "scatterpolargl"
           }
          ],
          "scatterternary": [
           {
            "marker": {
             "colorbar": {
              "outlinewidth": 0,
              "ticks": ""
             }
            },
            "type": "scatterternary"
           }
          ],
          "surface": [
           {
            "colorbar": {
             "outlinewidth": 0,
             "ticks": ""
            },
            "colorscale": [
             [
              0,
              "#0d0887"
             ],
             [
              0.1111111111111111,
              "#46039f"
             ],
             [
              0.2222222222222222,
              "#7201a8"
             ],
             [
              0.3333333333333333,
              "#9c179e"
             ],
             [
              0.4444444444444444,
              "#bd3786"
             ],
             [
              0.5555555555555556,
              "#d8576b"
             ],
             [
              0.6666666666666666,
              "#ed7953"
             ],
             [
              0.7777777777777778,
              "#fb9f3a"
             ],
             [
              0.8888888888888888,
              "#fdca26"
             ],
             [
              1,
              "#f0f921"
             ]
            ],
            "type": "surface"
           }
          ],
          "table": [
           {
            "cells": {
             "fill": {
              "color": "#EBF0F8"
             },
             "line": {
              "color": "white"
             }
            },
            "header": {
             "fill": {
              "color": "#C8D4E3"
             },
             "line": {
              "color": "white"
             }
            },
            "type": "table"
           }
          ]
         },
         "layout": {
          "annotationdefaults": {
           "arrowcolor": "#2a3f5f",
           "arrowhead": 0,
           "arrowwidth": 1
          },
          "autotypenumbers": "strict",
          "coloraxis": {
           "colorbar": {
            "outlinewidth": 0,
            "ticks": ""
           }
          },
          "colorscale": {
           "diverging": [
            [
             0,
             "#8e0152"
            ],
            [
             0.1,
             "#c51b7d"
            ],
            [
             0.2,
             "#de77ae"
            ],
            [
             0.3,
             "#f1b6da"
            ],
            [
             0.4,
             "#fde0ef"
            ],
            [
             0.5,
             "#f7f7f7"
            ],
            [
             0.6,
             "#e6f5d0"
            ],
            [
             0.7,
             "#b8e186"
            ],
            [
             0.8,
             "#7fbc41"
            ],
            [
             0.9,
             "#4d9221"
            ],
            [
             1,
             "#276419"
            ]
           ],
           "sequential": [
            [
             0,
             "#0d0887"
            ],
            [
             0.1111111111111111,
             "#46039f"
            ],
            [
             0.2222222222222222,
             "#7201a8"
            ],
            [
             0.3333333333333333,
             "#9c179e"
            ],
            [
             0.4444444444444444,
             "#bd3786"
            ],
            [
             0.5555555555555556,
             "#d8576b"
            ],
            [
             0.6666666666666666,
             "#ed7953"
            ],
            [
             0.7777777777777778,
             "#fb9f3a"
            ],
            [
             0.8888888888888888,
             "#fdca26"
            ],
            [
             1,
             "#f0f921"
            ]
           ],
           "sequentialminus": [
            [
             0,
             "#0d0887"
            ],
            [
             0.1111111111111111,
             "#46039f"
            ],
            [
             0.2222222222222222,
             "#7201a8"
            ],
            [
             0.3333333333333333,
             "#9c179e"
            ],
            [
             0.4444444444444444,
             "#bd3786"
            ],
            [
             0.5555555555555556,
             "#d8576b"
            ],
            [
             0.6666666666666666,
             "#ed7953"
            ],
            [
             0.7777777777777778,
             "#fb9f3a"
            ],
            [
             0.8888888888888888,
             "#fdca26"
            ],
            [
             1,
             "#f0f921"
            ]
           ]
          },
          "colorway": [
           "#636efa",
           "#EF553B",
           "#00cc96",
           "#ab63fa",
           "#FFA15A",
           "#19d3f3",
           "#FF6692",
           "#B6E880",
           "#FF97FF",
           "#FECB52"
          ],
          "font": {
           "color": "#2a3f5f"
          },
          "geo": {
           "bgcolor": "white",
           "lakecolor": "white",
           "landcolor": "#E5ECF6",
           "showlakes": true,
           "showland": true,
           "subunitcolor": "white"
          },
          "hoverlabel": {
           "align": "left"
          },
          "hovermode": "closest",
          "mapbox": {
           "style": "light"
          },
          "paper_bgcolor": "white",
          "plot_bgcolor": "#E5ECF6",
          "polar": {
           "angularaxis": {
            "gridcolor": "white",
            "linecolor": "white",
            "ticks": ""
           },
           "bgcolor": "#E5ECF6",
           "radialaxis": {
            "gridcolor": "white",
            "linecolor": "white",
            "ticks": ""
           }
          },
          "scene": {
           "xaxis": {
            "backgroundcolor": "#E5ECF6",
            "gridcolor": "white",
            "gridwidth": 2,
            "linecolor": "white",
            "showbackground": true,
            "ticks": "",
            "zerolinecolor": "white"
           },
           "yaxis": {
            "backgroundcolor": "#E5ECF6",
            "gridcolor": "white",
            "gridwidth": 2,
            "linecolor": "white",
            "showbackground": true,
            "ticks": "",
            "zerolinecolor": "white"
           },
           "zaxis": {
            "backgroundcolor": "#E5ECF6",
            "gridcolor": "white",
            "gridwidth": 2,
            "linecolor": "white",
            "showbackground": true,
            "ticks": "",
            "zerolinecolor": "white"
           }
          },
          "shapedefaults": {
           "line": {
            "color": "#2a3f5f"
           }
          },
          "ternary": {
           "aaxis": {
            "gridcolor": "white",
            "linecolor": "white",
            "ticks": ""
           },
           "baxis": {
            "gridcolor": "white",
            "linecolor": "white",
            "ticks": ""
           },
           "bgcolor": "#E5ECF6",
           "caxis": {
            "gridcolor": "white",
            "linecolor": "white",
            "ticks": ""
           }
          },
          "title": {
           "x": 0.05
          },
          "xaxis": {
           "automargin": true,
           "gridcolor": "white",
           "linecolor": "white",
           "ticks": "",
           "title": {
            "standoff": 15
           },
           "zerolinecolor": "white",
           "zerolinewidth": 2
          },
          "yaxis": {
           "automargin": true,
           "gridcolor": "white",
           "linecolor": "white",
           "ticks": "",
           "title": {
            "standoff": 15
           },
           "zerolinecolor": "white",
           "zerolinewidth": 2
          }
         }
        },
        "title": {
         "text": "Índice MT para 100 Pares de Relés en el Escenario Base"
        },
        "xaxis": {
         "dtick": 5,
         "tick0": 1,
         "tickmode": "linear",
         "title": {
          "text": "Índice del Par de Relés"
         }
        },
        "yaxis": {
         "title": {
          "text": "Valor MT (Penalización)"
         }
        }
       }
      }
     },
     "metadata": {},
     "output_type": "display_data"
    },
    {
     "data": {
      "application/vnd.plotly.v1+json": {
       "config": {
        "plotlyServerURL": "https://plot.ly"
       },
       "data": [
        {
         "customdata": [
          [
           "Main_95-Backup_95",
           -2.3016
          ],
          [
           "Main_94-Backup_94",
           -2.3016
          ],
          [
           "Main_97-Backup_97",
           -2.2790000000000004
          ],
          [
           "Main_96-Backup_96",
           -2.2790000000000004
          ],
          [
           "Main_90-Backup_90",
           -2.1074
          ],
          [
           "Main_99-Backup_99",
           -1.9606
          ],
          [
           "Main_98-Backup_98",
           -1.9606
          ],
          [
           "Main_91-Backup_91",
           -1.8521999999999998
          ],
          [
           "Main_89-Backup_89",
           -1.1998
          ],
          [
           "Main_93-Backup_93",
           -1.1778
          ],
          [
           "Main_92-Backup_92",
           -0.8013999999999999
          ]
         ],
         "hovertemplate": "status=Descoordinado<br>index=%{x}<br>delta_t=%{y}<br>pair_name=%{customdata[0]}<br>mt=%{customdata[1]}<extra></extra>",
         "legendgroup": "Descoordinado",
         "marker": {
          "color": "red",
          "symbol": "circle"
         },
         "mode": "markers",
         "name": "Descoordinado",
         "orientation": "v",
         "showlegend": true,
         "type": "scatter",
         "x": [
          96,
          95,
          98,
          97,
          91,
          100,
          99,
          92,
          90,
          94,
          93
         ],
         "xaxis": "x",
         "y": [
          -2.3016,
          -2.3016,
          -2.2790000000000004,
          -2.2790000000000004,
          -2.1074,
          -1.9606,
          -1.9606,
          -1.8521999999999998,
          -1.1998,
          -1.1778,
          -0.8013999999999999
         ],
         "yaxis": "y"
        },
        {
         "customdata": [
          [
           "Main_52-Backup_52",
           0
          ],
          [
           "Main_67-Backup_67",
           0
          ],
          [
           "Main_66-Backup_66",
           0
          ],
          [
           "Main_65-Backup_65",
           0
          ],
          [
           "Main_64-Backup_64",
           0
          ],
          [
           "Main_63-Backup_63",
           0
          ],
          [
           "Main_62-Backup_62",
           0
          ],
          [
           "Main_61-Backup_61",
           0
          ],
          [
           "Main_60-Backup_60",
           0
          ],
          [
           "Main_59-Backup_59",
           0
          ],
          [
           "Main_68-Backup_68",
           0
          ],
          [
           "Main_57-Backup_57",
           0
          ],
          [
           "Main_56-Backup_56",
           0
          ],
          [
           "Main_55-Backup_55",
           0
          ],
          [
           "Main_54-Backup_54",
           0
          ],
          [
           "Main_53-Backup_53",
           0
          ],
          [
           "Main_51-Backup_51",
           0
          ],
          [
           "Main_58-Backup_58",
           0
          ],
          [
           "Main_70-Backup_70",
           0
          ],
          [
           "Main_71-Backup_71",
           0
          ],
          [
           "Main_88-Backup_88",
           0
          ],
          [
           "Main_87-Backup_87",
           0
          ],
          [
           "Main_86-Backup_86",
           0
          ],
          [
           "Main_85-Backup_85",
           0
          ],
          [
           "Main_84-Backup_84",
           0
          ],
          [
           "Main_83-Backup_83",
           0
          ],
          [
           "Main_82-Backup_82",
           0
          ],
          [
           "Main_81-Backup_81",
           0
          ],
          [
           "Main_80-Backup_80",
           0
          ],
          [
           "Main_79-Backup_79",
           0
          ],
          [
           "Main_78-Backup_78",
           0
          ],
          [
           "Main_77-Backup_77",
           0
          ],
          [
           "Main_76-Backup_76",
           0
          ],
          [
           "Main_75-Backup_75",
           0
          ],
          [
           "Main_50-Backup_50",
           0
          ],
          [
           "Main_73-Backup_73",
           0
          ],
          [
           "Main_72-Backup_72",
           0
          ],
          [
           "Main_69-Backup_69",
           0
          ],
          [
           "Main_74-Backup_74",
           0
          ],
          [
           "Main_0-Backup_0",
           0
          ],
          [
           "Main_47-Backup_47",
           0
          ],
          [
           "Main_21-Backup_21",
           0
          ],
          [
           "Main_20-Backup_20",
           0
          ],
          [
           "Main_19-Backup_19",
           0
          ],
          [
           "Main_18-Backup_18",
           0
          ],
          [
           "Main_17-Backup_17",
           0
          ],
          [
           "Main_16-Backup_16",
           0
          ],
          [
           "Main_15-Backup_15",
           0
          ],
          [
           "Main_14-Backup_14",
           0
          ],
          [
           "Main_13-Backup_13",
           0
          ],
          [
           "Main_12-Backup_12",
           0
          ],
          [
           "Main_11-Backup_11",
           0
          ],
          [
           "Main_10-Backup_10",
           0
          ],
          [
           "Main_9-Backup_9",
           0
          ],
          [
           "Main_8-Backup_8",
           0
          ],
          [
           "Main_7-Backup_7",
           0
          ],
          [
           "Main_6-Backup_6",
           0
          ],
          [
           "Main_5-Backup_5",
           0
          ],
          [
           "Main_4-Backup_4",
           0
          ],
          [
           "Main_3-Backup_3",
           0
          ],
          [
           "Main_2-Backup_2",
           0
          ],
          [
           "Main_1-Backup_1",
           0
          ],
          [
           "Main_22-Backup_22",
           0
          ],
          [
           "Main_48-Backup_48",
           0
          ],
          [
           "Main_23-Backup_23",
           0
          ],
          [
           "Main_25-Backup_25",
           0
          ],
          [
           "Main_46-Backup_46",
           0
          ],
          [
           "Main_45-Backup_45",
           0
          ],
          [
           "Main_44-Backup_44",
           0
          ],
          [
           "Main_43-Backup_43",
           0
          ],
          [
           "Main_42-Backup_42",
           0
          ],
          [
           "Main_41-Backup_41",
           0
          ],
          [
           "Main_40-Backup_40",
           0
          ],
          [
           "Main_39-Backup_39",
           0
          ],
          [
           "Main_38-Backup_38",
           0
          ],
          [
           "Main_37-Backup_37",
           0
          ],
          [
           "Main_36-Backup_36",
           0
          ],
          [
           "Main_35-Backup_35",
           0
          ],
          [
           "Main_34-Backup_34",
           0
          ],
          [
           "Main_33-Backup_33",
           0
          ],
          [
           "Main_32-Backup_32",
           0
          ],
          [
           "Main_31-Backup_31",
           0
          ],
          [
           "Main_30-Backup_30",
           0
          ],
          [
           "Main_29-Backup_29",
           0
          ],
          [
           "Main_28-Backup_28",
           0
          ],
          [
           "Main_27-Backup_27",
           0
          ],
          [
           "Main_26-Backup_26",
           0
          ],
          [
           "Main_24-Backup_24",
           0
          ],
          [
           "Main_49-Backup_49",
           0
          ]
         ],
         "hovertemplate": "status=Coordinado<br>index=%{x}<br>delta_t=%{y}<br>pair_name=%{customdata[0]}<br>mt=%{customdata[1]}<extra></extra>",
         "legendgroup": "Coordinado",
         "marker": {
          "color": "green",
          "symbol": "circle"
         },
         "mode": "markers",
         "name": "Coordinado",
         "orientation": "v",
         "showlegend": true,
         "type": "scatter",
         "x": [
          53,
          68,
          67,
          66,
          65,
          64,
          63,
          62,
          61,
          60,
          69,
          58,
          57,
          56,
          55,
          54,
          52,
          59,
          71,
          72,
          89,
          88,
          87,
          86,
          85,
          84,
          83,
          82,
          81,
          80,
          79,
          78,
          77,
          76,
          51,
          74,
          73,
          70,
          75,
          1,
          48,
          22,
          21,
          20,
          19,
          18,
          17,
          16,
          15,
          14,
          13,
          12,
          11,
          10,
          9,
          8,
          7,
          6,
          5,
          4,
          3,
          2,
          23,
          49,
          24,
          26,
          47,
          46,
          45,
          44,
          43,
          42,
          41,
          40,
          39,
          38,
          37,
          36,
          35,
          34,
          33,
          32,
          31,
          30,
          29,
          28,
          27,
          25,
          50
         ],
         "xaxis": "x",
         "y": [
          0.018699999999999883,
          0.025199999999999834,
          0.005699999999999983,
          0.03560000000000024,
          0.06069999999999992,
          0.2530999999999998,
          0.020699999999999885,
          0.021799999999999986,
          0.023199999999999832,
          0.013999999999999957,
          0.061600000000000044,
          0.02560000000000001,
          0.28119999999999984,
          0.459,
          0.0016999999999999793,
          0.07900000000000013,
          0.036199999999999954,
          0.00039999999999990044,
          0.016599999999999893,
          0.06189999999999979,
          1.3074,
          2.1008999999999998,
          0.010599999999999998,
          1.4255,
          0.21650000000000008,
          0.06050000000000039,
          0.048700000000000354,
          1.6209,
          1.7539,
          0.10959999999999986,
          0.07330000000000009,
          0.04389999999999977,
          0.08659999999999995,
          0.05929999999999963,
          0.03229999999999972,
          0.06109999999999988,
          0.017600000000000005,
          0.03999999999999998,
          0.014099999999999946,
          0.8924000000000001,
          0.006800000000000084,
          0.04370000000000002,
          0.009700000000000208,
          0.020499999999999907,
          0.003799999999999748,
          0.0963,
          0.08849999999999997,
          0.0772000000000001,
          1.0343999999999998,
          0.010499999999999898,
          0.008800000000000086,
          0.07259999999999994,
          0.020699999999999885,
          0.014399999999999913,
          0.0015999999999999903,
          0.006199999999999928,
          1.3159,
          0.5177,
          0.050700000000000134,
          0.07769999999999999,
          0.028299999999999936,
          1.8591,
          0.00259999999999988,
          0.23100000000000004,
          0.039500000000000035,
          0.040399999999999714,
          0.014999999999999847,
          0.02270000000000011,
          0.05219999999999997,
          0.07109999999999989,
          0.01490000000000008,
          0.2910000000000001,
          0.020399999999999918,
          0.049199999999999966,
          1.1697999999999997,
          0.7670000000000003,
          0.07919999999999966,
          1.3723,
          0.17519999999999997,
          0.04639999999999994,
          0.00840000000000013,
          0.003700000000000092,
          0.5347,
          0.7081000000000002,
          0.06149999999999983,
          0.01769999999999977,
          0.002399999999999902,
          0.03820000000000007,
          0.040499999999999925
         ],
         "yaxis": "y"
        }
       ],
       "layout": {
        "legend": {
         "title": {
          "text": "status"
         },
         "tracegroupgap": 0
        },
        "shapes": [
         {
          "line": {
           "color": "black",
           "dash": "dash",
           "width": 1
          },
          "type": "line",
          "x0": 0,
          "x1": 100,
          "y0": 0,
          "y1": 0
         }
        ],
        "template": {
         "data": {
          "bar": [
           {
            "error_x": {
             "color": "#2a3f5f"
            },
            "error_y": {
             "color": "#2a3f5f"
            },
            "marker": {
             "line": {
              "color": "#E5ECF6",
              "width": 0.5
             },
             "pattern": {
              "fillmode": "overlay",
              "size": 10,
              "solidity": 0.2
             }
            },
            "type": "bar"
           }
          ],
          "barpolar": [
           {
            "marker": {
             "line": {
              "color": "#E5ECF6",
              "width": 0.5
             },
             "pattern": {
              "fillmode": "overlay",
              "size": 10,
              "solidity": 0.2
             }
            },
            "type": "barpolar"
           }
          ],
          "carpet": [
           {
            "aaxis": {
             "endlinecolor": "#2a3f5f",
             "gridcolor": "white",
             "linecolor": "white",
             "minorgridcolor": "white",
             "startlinecolor": "#2a3f5f"
            },
            "baxis": {
             "endlinecolor": "#2a3f5f",
             "gridcolor": "white",
             "linecolor": "white",
             "minorgridcolor": "white",
             "startlinecolor": "#2a3f5f"
            },
            "type": "carpet"
           }
          ],
          "choropleth": [
           {
            "colorbar": {
             "outlinewidth": 0,
             "ticks": ""
            },
            "type": "choropleth"
           }
          ],
          "contour": [
           {
            "colorbar": {
             "outlinewidth": 0,
             "ticks": ""
            },
            "colorscale": [
             [
              0,
              "#0d0887"
             ],
             [
              0.1111111111111111,
              "#46039f"
             ],
             [
              0.2222222222222222,
              "#7201a8"
             ],
             [
              0.3333333333333333,
              "#9c179e"
             ],
             [
              0.4444444444444444,
              "#bd3786"
             ],
             [
              0.5555555555555556,
              "#d8576b"
             ],
             [
              0.6666666666666666,
              "#ed7953"
             ],
             [
              0.7777777777777778,
              "#fb9f3a"
             ],
             [
              0.8888888888888888,
              "#fdca26"
             ],
             [
              1,
              "#f0f921"
             ]
            ],
            "type": "contour"
           }
          ],
          "contourcarpet": [
           {
            "colorbar": {
             "outlinewidth": 0,
             "ticks": ""
            },
            "type": "contourcarpet"
           }
          ],
          "heatmap": [
           {
            "colorbar": {
             "outlinewidth": 0,
             "ticks": ""
            },
            "colorscale": [
             [
              0,
              "#0d0887"
             ],
             [
              0.1111111111111111,
              "#46039f"
             ],
             [
              0.2222222222222222,
              "#7201a8"
             ],
             [
              0.3333333333333333,
              "#9c179e"
             ],
             [
              0.4444444444444444,
              "#bd3786"
             ],
             [
              0.5555555555555556,
              "#d8576b"
             ],
             [
              0.6666666666666666,
              "#ed7953"
             ],
             [
              0.7777777777777778,
              "#fb9f3a"
             ],
             [
              0.8888888888888888,
              "#fdca26"
             ],
             [
              1,
              "#f0f921"
             ]
            ],
            "type": "heatmap"
           }
          ],
          "heatmapgl": [
           {
            "colorbar": {
             "outlinewidth": 0,
             "ticks": ""
            },
            "colorscale": [
             [
              0,
              "#0d0887"
             ],
             [
              0.1111111111111111,
              "#46039f"
             ],
             [
              0.2222222222222222,
              "#7201a8"
             ],
             [
              0.3333333333333333,
              "#9c179e"
             ],
             [
              0.4444444444444444,
              "#bd3786"
             ],
             [
              0.5555555555555556,
              "#d8576b"
             ],
             [
              0.6666666666666666,
              "#ed7953"
             ],
             [
              0.7777777777777778,
              "#fb9f3a"
             ],
             [
              0.8888888888888888,
              "#fdca26"
             ],
             [
              1,
              "#f0f921"
             ]
            ],
            "type": "heatmapgl"
           }
          ],
          "histogram": [
           {
            "marker": {
             "pattern": {
              "fillmode": "overlay",
              "size": 10,
              "solidity": 0.2
             }
            },
            "type": "histogram"
           }
          ],
          "histogram2d": [
           {
            "colorbar": {
             "outlinewidth": 0,
             "ticks": ""
            },
            "colorscale": [
             [
              0,
              "#0d0887"
             ],
             [
              0.1111111111111111,
              "#46039f"
             ],
             [
              0.2222222222222222,
              "#7201a8"
             ],
             [
              0.3333333333333333,
              "#9c179e"
             ],
             [
              0.4444444444444444,
              "#bd3786"
             ],
             [
              0.5555555555555556,
              "#d8576b"
             ],
             [
              0.6666666666666666,
              "#ed7953"
             ],
             [
              0.7777777777777778,
              "#fb9f3a"
             ],
             [
              0.8888888888888888,
              "#fdca26"
             ],
             [
              1,
              "#f0f921"
             ]
            ],
            "type": "histogram2d"
           }
          ],
          "histogram2dcontour": [
           {
            "colorbar": {
             "outlinewidth": 0,
             "ticks": ""
            },
            "colorscale": [
             [
              0,
              "#0d0887"
             ],
             [
              0.1111111111111111,
              "#46039f"
             ],
             [
              0.2222222222222222,
              "#7201a8"
             ],
             [
              0.3333333333333333,
              "#9c179e"
             ],
             [
              0.4444444444444444,
              "#bd3786"
             ],
             [
              0.5555555555555556,
              "#d8576b"
             ],
             [
              0.6666666666666666,
              "#ed7953"
             ],
             [
              0.7777777777777778,
              "#fb9f3a"
             ],
             [
              0.8888888888888888,
              "#fdca26"
             ],
             [
              1,
              "#f0f921"
             ]
            ],
            "type": "histogram2dcontour"
           }
          ],
          "mesh3d": [
           {
            "colorbar": {
             "outlinewidth": 0,
             "ticks": ""
            },
            "type": "mesh3d"
           }
          ],
          "parcoords": [
           {
            "line": {
             "colorbar": {
              "outlinewidth": 0,
              "ticks": ""
             }
            },
            "type": "parcoords"
           }
          ],
          "pie": [
           {
            "automargin": true,
            "type": "pie"
           }
          ],
          "scatter": [
           {
            "fillpattern": {
             "fillmode": "overlay",
             "size": 10,
             "solidity": 0.2
            },
            "type": "scatter"
           }
          ],
          "scatter3d": [
           {
            "line": {
             "colorbar": {
              "outlinewidth": 0,
              "ticks": ""
             }
            },
            "marker": {
             "colorbar": {
              "outlinewidth": 0,
              "ticks": ""
             }
            },
            "type": "scatter3d"
           }
          ],
          "scattercarpet": [
           {
            "marker": {
             "colorbar": {
              "outlinewidth": 0,
              "ticks": ""
             }
            },
            "type": "scattercarpet"
           }
          ],
          "scattergeo": [
           {
            "marker": {
             "colorbar": {
              "outlinewidth": 0,
              "ticks": ""
             }
            },
            "type": "scattergeo"
           }
          ],
          "scattergl": [
           {
            "marker": {
             "colorbar": {
              "outlinewidth": 0,
              "ticks": ""
             }
            },
            "type": "scattergl"
           }
          ],
          "scattermapbox": [
           {
            "marker": {
             "colorbar": {
              "outlinewidth": 0,
              "ticks": ""
             }
            },
            "type": "scattermapbox"
           }
          ],
          "scatterpolar": [
           {
            "marker": {
             "colorbar": {
              "outlinewidth": 0,
              "ticks": ""
             }
            },
            "type": "scatterpolar"
           }
          ],
          "scatterpolargl": [
           {
            "marker": {
             "colorbar": {
              "outlinewidth": 0,
              "ticks": ""
             }
            },
            "type": "scatterpolargl"
           }
          ],
          "scatterternary": [
           {
            "marker": {
             "colorbar": {
              "outlinewidth": 0,
              "ticks": ""
             }
            },
            "type": "scatterternary"
           }
          ],
          "surface": [
           {
            "colorbar": {
             "outlinewidth": 0,
             "ticks": ""
            },
            "colorscale": [
             [
              0,
              "#0d0887"
             ],
             [
              0.1111111111111111,
              "#46039f"
             ],
             [
              0.2222222222222222,
              "#7201a8"
             ],
             [
              0.3333333333333333,
              "#9c179e"
             ],
             [
              0.4444444444444444,
              "#bd3786"
             ],
             [
              0.5555555555555556,
              "#d8576b"
             ],
             [
              0.6666666666666666,
              "#ed7953"
             ],
             [
              0.7777777777777778,
              "#fb9f3a"
             ],
             [
              0.8888888888888888,
              "#fdca26"
             ],
             [
              1,
              "#f0f921"
             ]
            ],
            "type": "surface"
           }
          ],
          "table": [
           {
            "cells": {
             "fill": {
              "color": "#EBF0F8"
             },
             "line": {
              "color": "white"
             }
            },
            "header": {
             "fill": {
              "color": "#C8D4E3"
             },
             "line": {
              "color": "white"
             }
            },
            "type": "table"
           }
          ]
         },
         "layout": {
          "annotationdefaults": {
           "arrowcolor": "#2a3f5f",
           "arrowhead": 0,
           "arrowwidth": 1
          },
          "autotypenumbers": "strict",
          "coloraxis": {
           "colorbar": {
            "outlinewidth": 0,
            "ticks": ""
           }
          },
          "colorscale": {
           "diverging": [
            [
             0,
             "#8e0152"
            ],
            [
             0.1,
             "#c51b7d"
            ],
            [
             0.2,
             "#de77ae"
            ],
            [
             0.3,
             "#f1b6da"
            ],
            [
             0.4,
             "#fde0ef"
            ],
            [
             0.5,
             "#f7f7f7"
            ],
            [
             0.6,
             "#e6f5d0"
            ],
            [
             0.7,
             "#b8e186"
            ],
            [
             0.8,
             "#7fbc41"
            ],
            [
             0.9,
             "#4d9221"
            ],
            [
             1,
             "#276419"
            ]
           ],
           "sequential": [
            [
             0,
             "#0d0887"
            ],
            [
             0.1111111111111111,
             "#46039f"
            ],
            [
             0.2222222222222222,
             "#7201a8"
            ],
            [
             0.3333333333333333,
             "#9c179e"
            ],
            [
             0.4444444444444444,
             "#bd3786"
            ],
            [
             0.5555555555555556,
             "#d8576b"
            ],
            [
             0.6666666666666666,
             "#ed7953"
            ],
            [
             0.7777777777777778,
             "#fb9f3a"
            ],
            [
             0.8888888888888888,
             "#fdca26"
            ],
            [
             1,
             "#f0f921"
            ]
           ],
           "sequentialminus": [
            [
             0,
             "#0d0887"
            ],
            [
             0.1111111111111111,
             "#46039f"
            ],
            [
             0.2222222222222222,
             "#7201a8"
            ],
            [
             0.3333333333333333,
             "#9c179e"
            ],
            [
             0.4444444444444444,
             "#bd3786"
            ],
            [
             0.5555555555555556,
             "#d8576b"
            ],
            [
             0.6666666666666666,
             "#ed7953"
            ],
            [
             0.7777777777777778,
             "#fb9f3a"
            ],
            [
             0.8888888888888888,
             "#fdca26"
            ],
            [
             1,
             "#f0f921"
            ]
           ]
          },
          "colorway": [
           "#636efa",
           "#EF553B",
           "#00cc96",
           "#ab63fa",
           "#FFA15A",
           "#19d3f3",
           "#FF6692",
           "#B6E880",
           "#FF97FF",
           "#FECB52"
          ],
          "font": {
           "color": "#2a3f5f"
          },
          "geo": {
           "bgcolor": "white",
           "lakecolor": "white",
           "landcolor": "#E5ECF6",
           "showlakes": true,
           "showland": true,
           "subunitcolor": "white"
          },
          "hoverlabel": {
           "align": "left"
          },
          "hovermode": "closest",
          "mapbox": {
           "style": "light"
          },
          "paper_bgcolor": "white",
          "plot_bgcolor": "#E5ECF6",
          "polar": {
           "angularaxis": {
            "gridcolor": "white",
            "linecolor": "white",
            "ticks": ""
           },
           "bgcolor": "#E5ECF6",
           "radialaxis": {
            "gridcolor": "white",
            "linecolor": "white",
            "ticks": ""
           }
          },
          "scene": {
           "xaxis": {
            "backgroundcolor": "#E5ECF6",
            "gridcolor": "white",
            "gridwidth": 2,
            "linecolor": "white",
            "showbackground": true,
            "ticks": "",
            "zerolinecolor": "white"
           },
           "yaxis": {
            "backgroundcolor": "#E5ECF6",
            "gridcolor": "white",
            "gridwidth": 2,
            "linecolor": "white",
            "showbackground": true,
            "ticks": "",
            "zerolinecolor": "white"
           },
           "zaxis": {
            "backgroundcolor": "#E5ECF6",
            "gridcolor": "white",
            "gridwidth": 2,
            "linecolor": "white",
            "showbackground": true,
            "ticks": "",
            "zerolinecolor": "white"
           }
          },
          "shapedefaults": {
           "line": {
            "color": "#2a3f5f"
           }
          },
          "ternary": {
           "aaxis": {
            "gridcolor": "white",
            "linecolor": "white",
            "ticks": ""
           },
           "baxis": {
            "gridcolor": "white",
            "linecolor": "white",
            "ticks": ""
           },
           "bgcolor": "#E5ECF6",
           "caxis": {
            "gridcolor": "white",
            "linecolor": "white",
            "ticks": ""
           }
          },
          "title": {
           "x": 0.05
          },
          "xaxis": {
           "automargin": true,
           "gridcolor": "white",
           "linecolor": "white",
           "ticks": "",
           "title": {
            "standoff": 15
           },
           "zerolinecolor": "white",
           "zerolinewidth": 2
          },
          "yaxis": {
           "automargin": true,
           "gridcolor": "white",
           "linecolor": "white",
           "ticks": "",
           "title": {
            "standoff": 15
           },
           "zerolinecolor": "white",
           "zerolinewidth": 2
          }
         }
        },
        "title": {
         "text": "Delta_t para 100 Pares de Relés (CTI = 0.2s)"
        },
        "xaxis": {
         "anchor": "y",
         "domain": [
          0,
          1
         ],
         "dtick": 5,
         "tick0": 1,
         "tickmode": "linear",
         "title": {
          "text": "Índice del Par de Relés"
         }
        },
        "yaxis": {
         "anchor": "x",
         "domain": [
          0,
          1
         ],
         "title": {
          "text": "Delta_t - CTI (s)"
         }
        }
       }
      }
     },
     "metadata": {},
     "output_type": "display_data"
    },
    {
     "data": {
      "application/vnd.plotly.v1+json": {
       "config": {
        "plotlyServerURL": "https://plot.ly"
       },
       "data": [
        {
         "alignmentgroup": "True",
         "bingroup": "x",
         "hovertemplate": "status=Descoordinado<br>mt=%{x}<br>count=%{y}<extra></extra>",
         "legendgroup": "Descoordinado",
         "marker": {
          "color": "red",
          "pattern": {
           "shape": ""
          }
         },
         "name": "Descoordinado",
         "offsetgroup": "Descoordinado",
         "orientation": "v",
         "showlegend": true,
         "type": "histogram",
         "x": [
          -2.3016,
          -2.3016,
          -2.2790000000000004,
          -2.2790000000000004,
          -2.1074,
          -1.9606,
          -1.9606,
          -1.8521999999999998,
          -1.1998,
          -1.1778,
          -0.8013999999999999
         ],
         "xaxis": "x",
         "yaxis": "y"
        },
        {
         "alignmentgroup": "True",
         "hovertemplate": "status=Descoordinado<br>mt=%{x}<extra></extra>",
         "legendgroup": "Descoordinado",
         "marker": {
          "color": "red"
         },
         "name": "Descoordinado",
         "notched": true,
         "offsetgroup": "Descoordinado",
         "showlegend": false,
         "type": "box",
         "x": [
          -2.3016,
          -2.3016,
          -2.2790000000000004,
          -2.2790000000000004,
          -2.1074,
          -1.9606,
          -1.9606,
          -1.8521999999999998,
          -1.1998,
          -1.1778,
          -0.8013999999999999
         ],
         "xaxis": "x2",
         "yaxis": "y2"
        },
        {
         "alignmentgroup": "True",
         "bingroup": "x",
         "hovertemplate": "status=Coordinado<br>mt=%{x}<br>count=%{y}<extra></extra>",
         "legendgroup": "Coordinado",
         "marker": {
          "color": "green",
          "pattern": {
           "shape": ""
          }
         },
         "name": "Coordinado",
         "offsetgroup": "Coordinado",
         "orientation": "v",
         "showlegend": true,
         "type": "histogram",
         "x": [
          0,
          0,
          0,
          0,
          0,
          0,
          0,
          0,
          0,
          0,
          0,
          0,
          0,
          0,
          0,
          0,
          0,
          0,
          0,
          0,
          0,
          0,
          0,
          0,
          0,
          0,
          0,
          0,
          0,
          0,
          0,
          0,
          0,
          0,
          0,
          0,
          0,
          0,
          0,
          0,
          0,
          0,
          0,
          0,
          0,
          0,
          0,
          0,
          0,
          0,
          0,
          0,
          0,
          0,
          0,
          0,
          0,
          0,
          0,
          0,
          0,
          0,
          0,
          0,
          0,
          0,
          0,
          0,
          0,
          0,
          0,
          0,
          0,
          0,
          0,
          0,
          0,
          0,
          0,
          0,
          0,
          0,
          0,
          0,
          0,
          0,
          0,
          0,
          0
         ],
         "xaxis": "x",
         "yaxis": "y"
        },
        {
         "alignmentgroup": "True",
         "hovertemplate": "status=Coordinado<br>mt=%{x}<extra></extra>",
         "legendgroup": "Coordinado",
         "marker": {
          "color": "green"
         },
         "name": "Coordinado",
         "notched": true,
         "offsetgroup": "Coordinado",
         "showlegend": false,
         "type": "box",
         "x": [
          0,
          0,
          0,
          0,
          0,
          0,
          0,
          0,
          0,
          0,
          0,
          0,
          0,
          0,
          0,
          0,
          0,
          0,
          0,
          0,
          0,
          0,
          0,
          0,
          0,
          0,
          0,
          0,
          0,
          0,
          0,
          0,
          0,
          0,
          0,
          0,
          0,
          0,
          0,
          0,
          0,
          0,
          0,
          0,
          0,
          0,
          0,
          0,
          0,
          0,
          0,
          0,
          0,
          0,
          0,
          0,
          0,
          0,
          0,
          0,
          0,
          0,
          0,
          0,
          0,
          0,
          0,
          0,
          0,
          0,
          0,
          0,
          0,
          0,
          0,
          0,
          0,
          0,
          0,
          0,
          0,
          0,
          0,
          0,
          0,
          0,
          0,
          0,
          0
         ],
         "xaxis": "x2",
         "yaxis": "y2"
        }
       ],
       "layout": {
        "barmode": "relative",
        "legend": {
         "title": {
          "text": "status"
         },
         "tracegroupgap": 0
        },
        "template": {
         "data": {
          "bar": [
           {
            "error_x": {
             "color": "#2a3f5f"
            },
            "error_y": {
             "color": "#2a3f5f"
            },
            "marker": {
             "line": {
              "color": "#E5ECF6",
              "width": 0.5
             },
             "pattern": {
              "fillmode": "overlay",
              "size": 10,
              "solidity": 0.2
             }
            },
            "type": "bar"
           }
          ],
          "barpolar": [
           {
            "marker": {
             "line": {
              "color": "#E5ECF6",
              "width": 0.5
             },
             "pattern": {
              "fillmode": "overlay",
              "size": 10,
              "solidity": 0.2
             }
            },
            "type": "barpolar"
           }
          ],
          "carpet": [
           {
            "aaxis": {
             "endlinecolor": "#2a3f5f",
             "gridcolor": "white",
             "linecolor": "white",
             "minorgridcolor": "white",
             "startlinecolor": "#2a3f5f"
            },
            "baxis": {
             "endlinecolor": "#2a3f5f",
             "gridcolor": "white",
             "linecolor": "white",
             "minorgridcolor": "white",
             "startlinecolor": "#2a3f5f"
            },
            "type": "carpet"
           }
          ],
          "choropleth": [
           {
            "colorbar": {
             "outlinewidth": 0,
             "ticks": ""
            },
            "type": "choropleth"
           }
          ],
          "contour": [
           {
            "colorbar": {
             "outlinewidth": 0,
             "ticks": ""
            },
            "colorscale": [
             [
              0,
              "#0d0887"
             ],
             [
              0.1111111111111111,
              "#46039f"
             ],
             [
              0.2222222222222222,
              "#7201a8"
             ],
             [
              0.3333333333333333,
              "#9c179e"
             ],
             [
              0.4444444444444444,
              "#bd3786"
             ],
             [
              0.5555555555555556,
              "#d8576b"
             ],
             [
              0.6666666666666666,
              "#ed7953"
             ],
             [
              0.7777777777777778,
              "#fb9f3a"
             ],
             [
              0.8888888888888888,
              "#fdca26"
             ],
             [
              1,
              "#f0f921"
             ]
            ],
            "type": "contour"
           }
          ],
          "contourcarpet": [
           {
            "colorbar": {
             "outlinewidth": 0,
             "ticks": ""
            },
            "type": "contourcarpet"
           }
          ],
          "heatmap": [
           {
            "colorbar": {
             "outlinewidth": 0,
             "ticks": ""
            },
            "colorscale": [
             [
              0,
              "#0d0887"
             ],
             [
              0.1111111111111111,
              "#46039f"
             ],
             [
              0.2222222222222222,
              "#7201a8"
             ],
             [
              0.3333333333333333,
              "#9c179e"
             ],
             [
              0.4444444444444444,
              "#bd3786"
             ],
             [
              0.5555555555555556,
              "#d8576b"
             ],
             [
              0.6666666666666666,
              "#ed7953"
             ],
             [
              0.7777777777777778,
              "#fb9f3a"
             ],
             [
              0.8888888888888888,
              "#fdca26"
             ],
             [
              1,
              "#f0f921"
             ]
            ],
            "type": "heatmap"
           }
          ],
          "heatmapgl": [
           {
            "colorbar": {
             "outlinewidth": 0,
             "ticks": ""
            },
            "colorscale": [
             [
              0,
              "#0d0887"
             ],
             [
              0.1111111111111111,
              "#46039f"
             ],
             [
              0.2222222222222222,
              "#7201a8"
             ],
             [
              0.3333333333333333,
              "#9c179e"
             ],
             [
              0.4444444444444444,
              "#bd3786"
             ],
             [
              0.5555555555555556,
              "#d8576b"
             ],
             [
              0.6666666666666666,
              "#ed7953"
             ],
             [
              0.7777777777777778,
              "#fb9f3a"
             ],
             [
              0.8888888888888888,
              "#fdca26"
             ],
             [
              1,
              "#f0f921"
             ]
            ],
            "type": "heatmapgl"
           }
          ],
          "histogram": [
           {
            "marker": {
             "pattern": {
              "fillmode": "overlay",
              "size": 10,
              "solidity": 0.2
             }
            },
            "type": "histogram"
           }
          ],
          "histogram2d": [
           {
            "colorbar": {
             "outlinewidth": 0,
             "ticks": ""
            },
            "colorscale": [
             [
              0,
              "#0d0887"
             ],
             [
              0.1111111111111111,
              "#46039f"
             ],
             [
              0.2222222222222222,
              "#7201a8"
             ],
             [
              0.3333333333333333,
              "#9c179e"
             ],
             [
              0.4444444444444444,
              "#bd3786"
             ],
             [
              0.5555555555555556,
              "#d8576b"
             ],
             [
              0.6666666666666666,
              "#ed7953"
             ],
             [
              0.7777777777777778,
              "#fb9f3a"
             ],
             [
              0.8888888888888888,
              "#fdca26"
             ],
             [
              1,
              "#f0f921"
             ]
            ],
            "type": "histogram2d"
           }
          ],
          "histogram2dcontour": [
           {
            "colorbar": {
             "outlinewidth": 0,
             "ticks": ""
            },
            "colorscale": [
             [
              0,
              "#0d0887"
             ],
             [
              0.1111111111111111,
              "#46039f"
             ],
             [
              0.2222222222222222,
              "#7201a8"
             ],
             [
              0.3333333333333333,
              "#9c179e"
             ],
             [
              0.4444444444444444,
              "#bd3786"
             ],
             [
              0.5555555555555556,
              "#d8576b"
             ],
             [
              0.6666666666666666,
              "#ed7953"
             ],
             [
              0.7777777777777778,
              "#fb9f3a"
             ],
             [
              0.8888888888888888,
              "#fdca26"
             ],
             [
              1,
              "#f0f921"
             ]
            ],
            "type": "histogram2dcontour"
           }
          ],
          "mesh3d": [
           {
            "colorbar": {
             "outlinewidth": 0,
             "ticks": ""
            },
            "type": "mesh3d"
           }
          ],
          "parcoords": [
           {
            "line": {
             "colorbar": {
              "outlinewidth": 0,
              "ticks": ""
             }
            },
            "type": "parcoords"
           }
          ],
          "pie": [
           {
            "automargin": true,
            "type": "pie"
           }
          ],
          "scatter": [
           {
            "fillpattern": {
             "fillmode": "overlay",
             "size": 10,
             "solidity": 0.2
            },
            "type": "scatter"
           }
          ],
          "scatter3d": [
           {
            "line": {
             "colorbar": {
              "outlinewidth": 0,
              "ticks": ""
             }
            },
            "marker": {
             "colorbar": {
              "outlinewidth": 0,
              "ticks": ""
             }
            },
            "type": "scatter3d"
           }
          ],
          "scattercarpet": [
           {
            "marker": {
             "colorbar": {
              "outlinewidth": 0,
              "ticks": ""
             }
            },
            "type": "scattercarpet"
           }
          ],
          "scattergeo": [
           {
            "marker": {
             "colorbar": {
              "outlinewidth": 0,
              "ticks": ""
             }
            },
            "type": "scattergeo"
           }
          ],
          "scattergl": [
           {
            "marker": {
             "colorbar": {
              "outlinewidth": 0,
              "ticks": ""
             }
            },
            "type": "scattergl"
           }
          ],
          "scattermapbox": [
           {
            "marker": {
             "colorbar": {
              "outlinewidth": 0,
              "ticks": ""
             }
            },
            "type": "scattermapbox"
           }
          ],
          "scatterpolar": [
           {
            "marker": {
             "colorbar": {
              "outlinewidth": 0,
              "ticks": ""
             }
            },
            "type": "scatterpolar"
           }
          ],
          "scatterpolargl": [
           {
            "marker": {
             "colorbar": {
              "outlinewidth": 0,
              "ticks": ""
             }
            },
            "type": "scatterpolargl"
           }
          ],
          "scatterternary": [
           {
            "marker": {
             "colorbar": {
              "outlinewidth": 0,
              "ticks": ""
             }
            },
            "type": "scatterternary"
           }
          ],
          "surface": [
           {
            "colorbar": {
             "outlinewidth": 0,
             "ticks": ""
            },
            "colorscale": [
             [
              0,
              "#0d0887"
             ],
             [
              0.1111111111111111,
              "#46039f"
             ],
             [
              0.2222222222222222,
              "#7201a8"
             ],
             [
              0.3333333333333333,
              "#9c179e"
             ],
             [
              0.4444444444444444,
              "#bd3786"
             ],
             [
              0.5555555555555556,
              "#d8576b"
             ],
             [
              0.6666666666666666,
              "#ed7953"
             ],
             [
              0.7777777777777778,
              "#fb9f3a"
             ],
             [
              0.8888888888888888,
              "#fdca26"
             ],
             [
              1,
              "#f0f921"
             ]
            ],
            "type": "surface"
           }
          ],
          "table": [
           {
            "cells": {
             "fill": {
              "color": "#EBF0F8"
             },
             "line": {
              "color": "white"
             }
            },
            "header": {
             "fill": {
              "color": "#C8D4E3"
             },
             "line": {
              "color": "white"
             }
            },
            "type": "table"
           }
          ]
         },
         "layout": {
          "annotationdefaults": {
           "arrowcolor": "#2a3f5f",
           "arrowhead": 0,
           "arrowwidth": 1
          },
          "autotypenumbers": "strict",
          "coloraxis": {
           "colorbar": {
            "outlinewidth": 0,
            "ticks": ""
           }
          },
          "colorscale": {
           "diverging": [
            [
             0,
             "#8e0152"
            ],
            [
             0.1,
             "#c51b7d"
            ],
            [
             0.2,
             "#de77ae"
            ],
            [
             0.3,
             "#f1b6da"
            ],
            [
             0.4,
             "#fde0ef"
            ],
            [
             0.5,
             "#f7f7f7"
            ],
            [
             0.6,
             "#e6f5d0"
            ],
            [
             0.7,
             "#b8e186"
            ],
            [
             0.8,
             "#7fbc41"
            ],
            [
             0.9,
             "#4d9221"
            ],
            [
             1,
             "#276419"
            ]
           ],
           "sequential": [
            [
             0,
             "#0d0887"
            ],
            [
             0.1111111111111111,
             "#46039f"
            ],
            [
             0.2222222222222222,
             "#7201a8"
            ],
            [
             0.3333333333333333,
             "#9c179e"
            ],
            [
             0.4444444444444444,
             "#bd3786"
            ],
            [
             0.5555555555555556,
             "#d8576b"
            ],
            [
             0.6666666666666666,
             "#ed7953"
            ],
            [
             0.7777777777777778,
             "#fb9f3a"
            ],
            [
             0.8888888888888888,
             "#fdca26"
            ],
            [
             1,
             "#f0f921"
            ]
           ],
           "sequentialminus": [
            [
             0,
             "#0d0887"
            ],
            [
             0.1111111111111111,
             "#46039f"
            ],
            [
             0.2222222222222222,
             "#7201a8"
            ],
            [
             0.3333333333333333,
             "#9c179e"
            ],
            [
             0.4444444444444444,
             "#bd3786"
            ],
            [
             0.5555555555555556,
             "#d8576b"
            ],
            [
             0.6666666666666666,
             "#ed7953"
            ],
            [
             0.7777777777777778,
             "#fb9f3a"
            ],
            [
             0.8888888888888888,
             "#fdca26"
            ],
            [
             1,
             "#f0f921"
            ]
           ]
          },
          "colorway": [
           "#636efa",
           "#EF553B",
           "#00cc96",
           "#ab63fa",
           "#FFA15A",
           "#19d3f3",
           "#FF6692",
           "#B6E880",
           "#FF97FF",
           "#FECB52"
          ],
          "font": {
           "color": "#2a3f5f"
          },
          "geo": {
           "bgcolor": "white",
           "lakecolor": "white",
           "landcolor": "#E5ECF6",
           "showlakes": true,
           "showland": true,
           "subunitcolor": "white"
          },
          "hoverlabel": {
           "align": "left"
          },
          "hovermode": "closest",
          "mapbox": {
           "style": "light"
          },
          "paper_bgcolor": "white",
          "plot_bgcolor": "#E5ECF6",
          "polar": {
           "angularaxis": {
            "gridcolor": "white",
            "linecolor": "white",
            "ticks": ""
           },
           "bgcolor": "#E5ECF6",
           "radialaxis": {
            "gridcolor": "white",
            "linecolor": "white",
            "ticks": ""
           }
          },
          "scene": {
           "xaxis": {
            "backgroundcolor": "#E5ECF6",
            "gridcolor": "white",
            "gridwidth": 2,
            "linecolor": "white",
            "showbackground": true,
            "ticks": "",
            "zerolinecolor": "white"
           },
           "yaxis": {
            "backgroundcolor": "#E5ECF6",
            "gridcolor": "white",
            "gridwidth": 2,
            "linecolor": "white",
            "showbackground": true,
            "ticks": "",
            "zerolinecolor": "white"
           },
           "zaxis": {
            "backgroundcolor": "#E5ECF6",
            "gridcolor": "white",
            "gridwidth": 2,
            "linecolor": "white",
            "showbackground": true,
            "ticks": "",
            "zerolinecolor": "white"
           }
          },
          "shapedefaults": {
           "line": {
            "color": "#2a3f5f"
           }
          },
          "ternary": {
           "aaxis": {
            "gridcolor": "white",
            "linecolor": "white",
            "ticks": ""
           },
           "baxis": {
            "gridcolor": "white",
            "linecolor": "white",
            "ticks": ""
           },
           "bgcolor": "#E5ECF6",
           "caxis": {
            "gridcolor": "white",
            "linecolor": "white",
            "ticks": ""
           }
          },
          "title": {
           "x": 0.05
          },
          "xaxis": {
           "automargin": true,
           "gridcolor": "white",
           "linecolor": "white",
           "ticks": "",
           "title": {
            "standoff": 15
           },
           "zerolinecolor": "white",
           "zerolinewidth": 2
          },
          "yaxis": {
           "automargin": true,
           "gridcolor": "white",
           "linecolor": "white",
           "ticks": "",
           "title": {
            "standoff": 15
           },
           "zerolinecolor": "white",
           "zerolinewidth": 2
          }
         }
        },
        "title": {
         "text": "Distribución de Valores MT"
        },
        "xaxis": {
         "anchor": "y",
         "domain": [
          0,
          1
         ],
         "title": {
          "text": "Valor MT"
         }
        },
        "xaxis2": {
         "anchor": "y2",
         "domain": [
          0,
          1
         ],
         "matches": "x",
         "showgrid": true,
         "showticklabels": false
        },
        "yaxis": {
         "anchor": "x",
         "domain": [
          0,
          0.7326
         ],
         "title": {
          "text": "Frecuencia"
         }
        },
        "yaxis2": {
         "anchor": "x2",
         "domain": [
          0.7426,
          1
         ],
         "matches": "y2",
         "showgrid": false,
         "showline": false,
         "showticklabels": false,
         "ticks": ""
        }
       }
      }
     },
     "metadata": {},
     "output_type": "display_data"
    },
    {
     "name": "stdout",
     "output_type": "stream",
     "text": [
      "\n",
      "--- Resumen Estadístico de MT ---\n",
      "Mínimo: -2.30160\n",
      "Máximo: -2.30160\n",
      "Promedio: -0.20221\n",
      "Mediana: 0.00000\n",
      "\n",
      "--- 5 Pares con Mayor Descoordinación ---\n",
      "Par: Main_95-Backup_95, Línea: N/A, Falla: 90, MT: -2.30160, Delta_t: -2.30160\n",
      "Par: Main_94-Backup_94, Línea: N/A, Falla: 90, MT: -2.30160, Delta_t: -2.30160\n",
      "Par: Main_97-Backup_97, Línea: N/A, Falla: 10, MT: -2.27900, Delta_t: -2.27900\n",
      "Par: Main_96-Backup_96, Línea: N/A, Falla: 10, MT: -2.27900, Delta_t: -2.27900\n",
      "Par: Main_90-Backup_90, Línea: N/A, Falla: 10, MT: -2.10740, Delta_t: -2.10740\n"
     ]
    }
   ],
   "source": [
    "import json\n",
    "import os\n",
    "import math\n",
    "import copy # Para crear copias de los diccionarios si es necesario\n",
    "\n",
    "# --- Constantes ---\n",
    "CTI = 0.2  # Intervalo de tiempo de coordinación típico (en segundos)\n",
    "TARGET_SCENARIO_ID = \"scenario_15\" # Escenario específico a analizar\n",
    "\n",
    "# --- Ruta del archivo ---\n",
    "input_file = \"/Users/gustavo/Documents/Projects/TESIS_UNAL/ADAPTIVE_ALGORITHM/data/processed/independent_relay_pairs_optimization.json\"\n",
    "\n",
    "print(f\"Archivo de entrada: {input_file}\")\n",
    "print(f\"Analizando SOLAMENTE para: '{TARGET_SCENARIO_ID}'\")\n",
    "\n",
    "# Listas para clasificar los pares del escenario objetivo\n",
    "coordinated_pairs = []\n",
    "uncoordinated_pairs = []\n",
    "\n",
    "try:\n",
    "    # 1. Cargar el archivo JSON (lista de pares)\n",
    "    print(\"Cargando datos (lista de pares)...\")\n",
    "    with open(input_file, 'r') as f:\n",
    "        relay_pairs_data = json.load(f)\n",
    "    print(\"Datos cargados correctamente.\")\n",
    "\n",
    "    # Validar que es una lista\n",
    "    if not isinstance(relay_pairs_data, list):\n",
    "        raise TypeError(f\"Error: El archivo {input_file} no contiene una lista JSON.\")\n",
    "\n",
    "    # 2. Procesar cada par de relés, filtrando por scenario_id\n",
    "    print(f\"Calculando delta_t, mt y clasificando pares para '{TARGET_SCENARIO_ID}'...\")\n",
    "    total_pairs_read = 0\n",
    "    scenario_pairs_found = 0\n",
    "    skipped_pairs_count = 0 # Pares omitidos DENTRO del scenario_id objetivo\n",
    "\n",
    "    for pair_entry in relay_pairs_data:\n",
    "        total_pairs_read += 1\n",
    "        if not isinstance(pair_entry, dict):\n",
    "            # Contar como leído pero no procesado si no es diccionario\n",
    "            continue\n",
    "\n",
    "        # --- FILTRAR POR SCENARIO_ID ---\n",
    "        current_scenario_id = pair_entry.get(\"scenario_id\")\n",
    "        if current_scenario_id != TARGET_SCENARIO_ID:\n",
    "            continue # Omitir este par si no es del escenario objetivo\n",
    "        # ---------------------------------\n",
    "\n",
    "        # Si llegamos aquí, el par pertenece a TARGET_SCENARIO_ID\n",
    "        scenario_pairs_found += 1\n",
    "\n",
    "        # Obtener información de los relés de forma segura\n",
    "        main_relay_info = pair_entry.get('main_relay')\n",
    "        backup_relay_info = pair_entry.get('backup_relay')\n",
    "\n",
    "        if not isinstance(main_relay_info, dict) or not isinstance(backup_relay_info, dict):\n",
    "            print(f\"Advertencia ({TARGET_SCENARIO_ID}): Falta información de relé principal o de respaldo en: {pair_entry.get('line', 'N/A')}-{pair_entry.get('fault', 'N/A')}. Par omitido.\")\n",
    "            skipped_pairs_count += 1\n",
    "            continue\n",
    "\n",
    "        # Obtener tiempos de operación de forma segura\n",
    "        main_time = main_relay_info.get('Time_out')\n",
    "        backup_time = backup_relay_info.get('Time_out')\n",
    "\n",
    "        # Validar que los tiempos son números\n",
    "        if not isinstance(main_time, (int, float)) or not isinstance(backup_time, (int, float)):\n",
    "            print(f\"Advertencia ({TARGET_SCENARIO_ID}): Tiempo(s) de operación no numéricos o faltantes en: {pair_entry.get('line', 'N/A')}-{pair_entry.get('fault', 'N/A')} (Main: {main_time}, Backup: {backup_time}). Par omitido.\")\n",
    "            skipped_pairs_count += 1\n",
    "            continue\n",
    "\n",
    "        # --- Realizar Cálculos ---\n",
    "        delta_t = backup_time - main_time - CTI\n",
    "        mt = (delta_t - abs(delta_t)) / 2  # Penalización solo si delta_t es negativo\n",
    "\n",
    "        # Crear una copia del par y añadirle los resultados del cálculo\n",
    "        pair_info = copy.deepcopy(pair_entry)\n",
    "        pair_info['delta_t'] = delta_t\n",
    "        pair_info['mt'] = mt\n",
    "\n",
    "        # --- Clasificar (solo pares del TARGET_SCENARIO_ID) ---\n",
    "        if delta_t >= 0:\n",
    "            coordinated_pairs.append(pair_info)\n",
    "        else:\n",
    "            uncoordinated_pairs.append(pair_info)\n",
    "\n",
    "    print(\"Procesamiento de pares completado.\")\n",
    "\n",
    "    # 3. Calcular Métricas Finales (solo para TARGET_SCENARIO_ID)\n",
    "    if scenario_pairs_found == 0:\n",
    "         print (f\"No se encontraron pares válidos para '{TARGET_SCENARIO_ID}' en el archivo.\")\n",
    "    else:\n",
    "        total_valid_pairs_scenario = len(coordinated_pairs) + len(uncoordinated_pairs) # Pares válidos DENTRO del escenario\n",
    "        miscoordination_count_scenario = len(uncoordinated_pairs)\n",
    "        # Sumar 'mt' solo de los pares del escenario objetivo (que son los únicos en las listas)\n",
    "        tmt_total_scenario = sum(pair[\"mt\"] for pair in coordinated_pairs + uncoordinated_pairs)\n",
    "\n",
    "\n",
    "        # 4. Imprimir Resultados\n",
    "        print(f\"\\n--- Resultados del Análisis de Coordinación para '{TARGET_SCENARIO_ID}' ---\")\n",
    "        print(f\"Total de pares leídos del archivo: {total_pairs_read}\")\n",
    "        print(f\"Total de pares encontrados para '{TARGET_SCENARIO_ID}': {scenario_pairs_found}\")\n",
    "        if skipped_pairs_count > 0:\n",
    "            print(f\"Pares omitidos DENTRO de '{TARGET_SCENARIO_ID}' (datos inválidos/faltantes): {skipped_pairs_count}\")\n",
    "        print(f\"Total de pares válidos analizados para '{TARGET_SCENARIO_ID}': {total_valid_pairs_scenario}\")\n",
    "        print(f\"Número de pares coordinados (delta_t >= 0) en '{TARGET_SCENARIO_ID}': {len(coordinated_pairs)}\")\n",
    "        print(f\"Número de pares DESCOORDINADOS (delta_t < 0) en '{TARGET_SCENARIO_ID}': {miscoordination_count_scenario}\")\n",
    "        print(f\"Suma total de penalización por descoordinación (TMT Total) para '{TARGET_SCENARIO_ID}': {tmt_total_scenario:.5f}\") # Imprimir con 5 decimales\n",
    "\n",
    "except FileNotFoundError:\n",
    "    print(f\"Error CRÍTICO: No se pudo encontrar el archivo de entrada: {input_file}\")\n",
    "except TypeError as e:\n",
    "    print(f\"Error CRÍTICO: Problema con el tipo de datos esperado en el archivo JSON: {e}\")\n",
    "except json.JSONDecodeError as e:\n",
    "    print(f\"Error CRÍTICO: El archivo de entrada JSON ({input_file}) está mal formado: {e}\")\n",
    "except Exception as e:\n",
    "    import traceback\n",
    "    print(f\"Error inesperado durante el procesamiento: {e}\")\n",
    "    print(\"--- Traceback ---\")\n",
    "    traceback.print_exc()\n",
    "    print(\"-----------------\")\n",
    "import plotly.graph_objects as go\n",
    "import plotly.express as px\n",
    "import pandas as pd\n",
    "import numpy as np\n",
    "\n",
    "# Preparar los datos para la gráfica\n",
    "def prepare_data_for_plot(coordinated_pairs, uncoordinated_pairs):\n",
    "    # Combinar ambas listas\n",
    "    all_pairs = coordinated_pairs + uncoordinated_pairs\n",
    "    \n",
    "    # Crear un DataFrame para facilitar el manejo de datos\n",
    "    pairs_data = []\n",
    "    for idx, pair in enumerate(all_pairs):\n",
    "        main_relay_name = pair.get('main_relay', {}).get('RelayID', f\"Main_{idx}\")\n",
    "        backup_relay_name = pair.get('backup_relay', {}).get('RelayID', f\"Backup_{idx}\")\n",
    "        pair_name = f\"{main_relay_name}-{backup_relay_name}\"\n",
    "        \n",
    "        pairs_data.append({\n",
    "            'index': idx + 1,  # Para enumerar los pares\n",
    "            'pair_name': pair_name,\n",
    "            'main_relay': main_relay_name,\n",
    "            'backup_relay': backup_relay_name,\n",
    "            'mt': pair.get('mt', 0),\n",
    "            'delta_t': pair.get('delta_t', 0),\n",
    "            'status': 'Coordinado' if pair.get('delta_t', 0) >= 0 else 'Descoordinado',\n",
    "            'line': pair.get('line', 'N/A'),\n",
    "            'fault': pair.get('fault', 'N/A')\n",
    "        })\n",
    "    \n",
    "    return pd.DataFrame(pairs_data)\n",
    "\n",
    "# Crear la visualización\n",
    "def plot_mt_values(df):\n",
    "    # Ordenar por valor de MT (de peor a mejor)\n",
    "    df_sorted = df.sort_values(by='mt')\n",
    "    \n",
    "    # Crear un gráfico de barras para MT\n",
    "    fig = go.Figure()\n",
    "    \n",
    "    # Añadir barras para pares coordinados (en verde)\n",
    "    coordinated_df = df_sorted[df_sorted['status'] == 'Coordinado']\n",
    "    fig.add_trace(go.Bar(\n",
    "        x=coordinated_df['index'],\n",
    "        y=coordinated_df['mt'],\n",
    "        name='Pares Coordinados',\n",
    "        marker_color='green',\n",
    "        text=coordinated_df['pair_name'],\n",
    "        hovertemplate='<b>%{text}</b><br>MT: %{y:.5f}<br>Índice: %{x}<extra></extra>'\n",
    "    ))\n",
    "    \n",
    "    # Añadir barras para pares descoordinados (en rojo)\n",
    "    uncoordinated_df = df_sorted[df_sorted['status'] == 'Descoordinado']\n",
    "    fig.add_trace(go.Bar(\n",
    "        x=uncoordinated_df['index'],\n",
    "        y=uncoordinated_df['mt'],\n",
    "        name='Pares Descoordinados',\n",
    "        marker_color='red',\n",
    "        text=uncoordinated_df['pair_name'],\n",
    "        hovertemplate='<b>%{text}</b><br>MT: %{y:.5f}<br>Índice: %{x}<extra></extra>'\n",
    "    ))\n",
    "    \n",
    "    # Añadir una línea horizontal en y=0\n",
    "    fig.add_shape(\n",
    "        type='line',\n",
    "        x0=0,\n",
    "        y0=0,\n",
    "        x1=len(df),\n",
    "        y1=0,\n",
    "        line=dict(color='black', width=1, dash='dash')\n",
    "    )\n",
    "    \n",
    "    # Personalizar la apariencia\n",
    "    fig.update_layout(\n",
    "        title=f'Índice MT para {len(df)} Pares de Relés en el Escenario Base',\n",
    "        xaxis_title='Índice del Par de Relés',\n",
    "        yaxis_title='Valor MT (Penalización)',\n",
    "        barmode='group',\n",
    "        xaxis=dict(\n",
    "            tickmode='linear',\n",
    "            tick0=1,\n",
    "            dtick=5,\n",
    "        ),\n",
    "        legend=dict(\n",
    "            x=0.01,\n",
    "            y=0.99,\n",
    "            bgcolor='rgba(255, 255, 255, 0.5)',\n",
    "            bordercolor='rgba(0, 0, 0, 0.5)'\n",
    "        )\n",
    "    )\n",
    "    \n",
    "    # Mostrar el gráfico\n",
    "    fig.show()\n",
    "\n",
    "    # También crear una gráfica de delta_t para ver la diferencia de tiempos\n",
    "    fig_delta = px.scatter(\n",
    "        df_sorted,\n",
    "        x='index',\n",
    "        y='delta_t',\n",
    "        color='status',\n",
    "        color_discrete_map={'Coordinado': 'green', 'Descoordinado': 'red'},\n",
    "        hover_data=['pair_name', 'delta_t', 'mt'],\n",
    "        title=f'Delta_t para {len(df)} Pares de Relés (CTI = {CTI}s)'\n",
    "    )\n",
    "    \n",
    "    # Añadir línea de CTI\n",
    "    fig_delta.add_shape(\n",
    "        type='line',\n",
    "        x0=0,\n",
    "        y0=0,\n",
    "        x1=len(df),\n",
    "        y1=0,\n",
    "        line=dict(color='black', width=1, dash='dash')\n",
    "    )\n",
    "    \n",
    "    fig_delta.update_layout(\n",
    "        xaxis_title='Índice del Par de Relés',\n",
    "        yaxis_title='Delta_t - CTI (s)',\n",
    "        xaxis=dict(\n",
    "            tickmode='linear',\n",
    "            tick0=1,\n",
    "            dtick=5,\n",
    "        )\n",
    "    )\n",
    "    \n",
    "    fig_delta.show()\n",
    "    \n",
    "    # Gráfico de distribución de valores MT\n",
    "    fig_hist = px.histogram(\n",
    "        df_sorted, \n",
    "        x='mt',\n",
    "        color='status',\n",
    "        color_discrete_map={'Coordinado': 'green', 'Descoordinado': 'red'},\n",
    "        marginal='box',\n",
    "        title=\"Distribución de Valores MT\"\n",
    "    )\n",
    "    fig_hist.update_layout(\n",
    "        xaxis_title='Valor MT',\n",
    "        yaxis_title='Frecuencia',\n",
    "    )\n",
    "    fig_hist.show()\n",
    "\n",
    "# Ejecutar la visualización\n",
    "try:\n",
    "    # Preparar los datos\n",
    "    df = prepare_data_for_plot(coordinated_pairs, uncoordinated_pairs)\n",
    "    \n",
    "    # Generar las gráficas\n",
    "    plot_mt_values(df)\n",
    "    \n",
    "    # Mostrar un resumen estadístico\n",
    "    print(\"\\n--- Resumen Estadístico de MT ---\")\n",
    "    print(f\"Mínimo: {df['mt'].min():.5f}\")\n",
    "    print(f\"Máximo: {df['mt'].min():.5f}\")\n",
    "    print(f\"Promedio: {df['mt'].mean():.5f}\")\n",
    "    print(f\"Mediana: {df['mt'].median():.5f}\")\n",
    "    \n",
    "    # Identificar los 5 pares con peor descoordinación (MT más negativo)\n",
    "    if len(df[df['status'] == 'Descoordinado']) > 0:\n",
    "        print(\"\\n--- 5 Pares con Mayor Descoordinación ---\")\n",
    "        worst_pairs = df.sort_values(by='mt').head(5)\n",
    "        for idx, row in worst_pairs.iterrows():\n",
    "            print(f\"Par: {row['pair_name']}, Línea: {row['line']}, Falla: {row['fault']}, MT: {row['mt']:.5f}, Delta_t: {row['delta_t']:.5f}\")\n",
    "    \n",
    "except Exception as e:\n",
    "    print(f\"Error al crear las gráficas: {e}\")\n"
   ]
  },
  {
   "cell_type": "code",
   "execution_count": 2,
   "metadata": {},
   "outputs": [
    {
     "name": "stdout",
     "output_type": "stream",
     "text": [
      "Archivo de entrada: /Users/gustavo/Documents/Projects/TESIS_UNAL/ADAPTIVE_ALGORITHM/data/processed/independent_relay_pairs_optimization.json\n",
      "Analizando SOLAMENTE para: 'scenario_15'\n",
      "Cargando datos (lista de pares)...\n",
      "Datos cargados correctamente.\n",
      "Calculando delta_t, mt y clasificando pares para 'scenario_15'...\n",
      "Procesamiento de pares completado.\n",
      "\n",
      "--- Resultados del Análisis de Coordinación para 'scenario_15' ---\n",
      "Total de pares leídos del archivo: 6800\n",
      "Total de pares encontrados para 'scenario_15': 100\n",
      "Total de pares válidos analizados para 'scenario_15': 100\n",
      "Número de pares coordinados (delta_t >= 0) en 'scenario_15': 89\n",
      "Número de pares DESCOORDINADOS (delta_t < 0) en 'scenario_15': 11\n",
      "Suma total de penalización por descoordinación (TMT Total) para 'scenario_15': -20.22100\n"
     ]
    },
    {
     "data": {
      "application/vnd.plotly.v1+json": {
       "config": {
        "plotlyServerURL": "https://plot.ly"
       },
       "data": [
        {
         "hovertemplate": "<b>%{text}</b><br>MT: %{y:.5f}<br>Índice: %{x}<extra></extra>",
         "marker": {
          "color": "green"
         },
         "name": "Pares Coordinados",
         "text": [
          "R27-R26",
          "R67-R68",
          "R30-R29",
          "R40-R41",
          "R3-R59",
          "R3-R2",
          "R59-R60",
          "R22-R40",
          "R22-R2",
          "R66-R67",
          "R31-R30",
          "R29-R28",
          "R65-R66",
          "R65-R37",
          "R28-R27",
          "R64-R65",
          "R63-R64",
          "R29-R37",
          "R32-R31",
          "R69-R36",
          "R71-R52",
          "R71-R14",
          "R46-R47",
          "R8-R70",
          "R44-R45",
          "R44-R70",
          "R43-R44",
          "R6-R62",
          "R6-R5",
          "R62-R63",
          "R25-R43",
          "R25-R5",
          "R42-R62",
          "R42-R43",
          "R26-R25",
          "R41-R42",
          "R4-R3",
          "R68-R69",
          "R5-R4",
          "R38-R39",
          "R37-R24",
          "R54-R73",
          "R17-R16",
          "R53-R54",
          "R16-R15",
          "R52-R53",
          "R15-R34",
          "R15-R14",
          "R51-R34",
          "R51-R52",
          "R14-R13",
          "R50-R51",
          "R13-R12",
          "R49-R50",
          "R12-R72",
          "R12-R11",
          "R48-R72",
          "R48-R49",
          "R11-R10",
          "R47-R48",
          "R10-R9",
          "R38-R55",
          "R36-R17",
          "R74-R28",
          "R73-R32",
          "R56-R57",
          "R61-R74",
          "R24-R23",
          "R60-R61",
          "R23-R22",
          "R35-R49",
          "R35-R11",
          "R72-R21",
          "R70-R20",
          "R70-R58",
          "R33-R45",
          "R58-R35",
          "R21-R33",
          "R21-R20",
          "R57-R33",
          "R57-R58",
          "R20-R19",
          "R39-R59",
          "R39-R40",
          "R2-R55",
          "R55-R56",
          "R18-R39",
          "R19-R18",
          "R74-R66"
         ],
         "type": "bar",
         "x": [
          53,
          68,
          67,
          66,
          65,
          64,
          63,
          62,
          61,
          60,
          69,
          58,
          57,
          56,
          55,
          54,
          52,
          59,
          71,
          72,
          89,
          88,
          87,
          86,
          85,
          84,
          83,
          82,
          81,
          80,
          79,
          78,
          77,
          76,
          51,
          74,
          73,
          70,
          75,
          1,
          48,
          22,
          21,
          20,
          19,
          18,
          17,
          16,
          15,
          14,
          13,
          12,
          11,
          10,
          9,
          8,
          7,
          6,
          5,
          4,
          3,
          2,
          23,
          49,
          24,
          26,
          47,
          46,
          45,
          44,
          43,
          42,
          41,
          40,
          39,
          38,
          37,
          36,
          35,
          34,
          33,
          32,
          31,
          30,
          29,
          28,
          27,
          25,
          50
         ],
         "y": [
          0,
          0,
          0,
          0,
          0,
          0,
          0,
          0,
          0,
          0,
          0,
          0,
          0,
          0,
          0,
          0,
          0,
          0,
          0,
          0,
          0,
          0,
          0,
          0,
          0,
          0,
          0,
          0,
          0,
          0,
          0,
          0,
          0,
          0,
          0,
          0,
          0,
          0,
          0,
          0,
          0,
          0,
          0,
          0,
          0,
          0,
          0,
          0,
          0,
          0,
          0,
          0,
          0,
          0,
          0,
          0,
          0,
          0,
          0,
          0,
          0,
          0,
          0,
          0,
          0,
          0,
          0,
          0,
          0,
          0,
          0,
          0,
          0,
          0,
          0,
          0,
          0,
          0,
          0,
          0,
          0,
          0,
          0,
          0,
          0,
          0,
          0,
          0,
          0
         ]
        },
        {
         "hovertemplate": "<b>%{text}</b><br>MT: %{y:.5f}<br>Índice: %{x}<extra></extra>",
         "marker": {
          "color": "red"
         },
         "name": "Pares Descoordinados",
         "text": [
          "R45-R71",
          "R45-R46",
          "R9-R71",
          "R9-R8",
          "R2-R1",
          "R34-R46",
          "R34-R8",
          "R33-R7",
          "R18-R1",
          "R8-R7",
          "R7-R6"
         ],
         "type": "bar",
         "x": [
          96,
          95,
          98,
          97,
          91,
          100,
          99,
          92,
          90,
          94,
          93
         ],
         "y": [
          -2.3016,
          -2.3016,
          -2.2790000000000004,
          -2.2790000000000004,
          -2.1074,
          -1.9606,
          -1.9606,
          -1.8521999999999998,
          -1.1998,
          -1.1778,
          -0.8013999999999999
         ]
        }
       ],
       "layout": {
        "barmode": "group",
        "legend": {
         "bgcolor": "rgba(255, 255, 255, 0.5)",
         "bordercolor": "rgba(0, 0, 0, 0.5)",
         "x": 0.01,
         "y": 0.99
        },
        "shapes": [
         {
          "line": {
           "color": "black",
           "dash": "dash",
           "width": 1
          },
          "type": "line",
          "x0": 0,
          "x1": 100,
          "y0": 0,
          "y1": 0
         }
        ],
        "template": {
         "data": {
          "bar": [
           {
            "error_x": {
             "color": "#2a3f5f"
            },
            "error_y": {
             "color": "#2a3f5f"
            },
            "marker": {
             "line": {
              "color": "#E5ECF6",
              "width": 0.5
             },
             "pattern": {
              "fillmode": "overlay",
              "size": 10,
              "solidity": 0.2
             }
            },
            "type": "bar"
           }
          ],
          "barpolar": [
           {
            "marker": {
             "line": {
              "color": "#E5ECF6",
              "width": 0.5
             },
             "pattern": {
              "fillmode": "overlay",
              "size": 10,
              "solidity": 0.2
             }
            },
            "type": "barpolar"
           }
          ],
          "carpet": [
           {
            "aaxis": {
             "endlinecolor": "#2a3f5f",
             "gridcolor": "white",
             "linecolor": "white",
             "minorgridcolor": "white",
             "startlinecolor": "#2a3f5f"
            },
            "baxis": {
             "endlinecolor": "#2a3f5f",
             "gridcolor": "white",
             "linecolor": "white",
             "minorgridcolor": "white",
             "startlinecolor": "#2a3f5f"
            },
            "type": "carpet"
           }
          ],
          "choropleth": [
           {
            "colorbar": {
             "outlinewidth": 0,
             "ticks": ""
            },
            "type": "choropleth"
           }
          ],
          "contour": [
           {
            "colorbar": {
             "outlinewidth": 0,
             "ticks": ""
            },
            "colorscale": [
             [
              0,
              "#0d0887"
             ],
             [
              0.1111111111111111,
              "#46039f"
             ],
             [
              0.2222222222222222,
              "#7201a8"
             ],
             [
              0.3333333333333333,
              "#9c179e"
             ],
             [
              0.4444444444444444,
              "#bd3786"
             ],
             [
              0.5555555555555556,
              "#d8576b"
             ],
             [
              0.6666666666666666,
              "#ed7953"
             ],
             [
              0.7777777777777778,
              "#fb9f3a"
             ],
             [
              0.8888888888888888,
              "#fdca26"
             ],
             [
              1,
              "#f0f921"
             ]
            ],
            "type": "contour"
           }
          ],
          "contourcarpet": [
           {
            "colorbar": {
             "outlinewidth": 0,
             "ticks": ""
            },
            "type": "contourcarpet"
           }
          ],
          "heatmap": [
           {
            "colorbar": {
             "outlinewidth": 0,
             "ticks": ""
            },
            "colorscale": [
             [
              0,
              "#0d0887"
             ],
             [
              0.1111111111111111,
              "#46039f"
             ],
             [
              0.2222222222222222,
              "#7201a8"
             ],
             [
              0.3333333333333333,
              "#9c179e"
             ],
             [
              0.4444444444444444,
              "#bd3786"
             ],
             [
              0.5555555555555556,
              "#d8576b"
             ],
             [
              0.6666666666666666,
              "#ed7953"
             ],
             [
              0.7777777777777778,
              "#fb9f3a"
             ],
             [
              0.8888888888888888,
              "#fdca26"
             ],
             [
              1,
              "#f0f921"
             ]
            ],
            "type": "heatmap"
           }
          ],
          "heatmapgl": [
           {
            "colorbar": {
             "outlinewidth": 0,
             "ticks": ""
            },
            "colorscale": [
             [
              0,
              "#0d0887"
             ],
             [
              0.1111111111111111,
              "#46039f"
             ],
             [
              0.2222222222222222,
              "#7201a8"
             ],
             [
              0.3333333333333333,
              "#9c179e"
             ],
             [
              0.4444444444444444,
              "#bd3786"
             ],
             [
              0.5555555555555556,
              "#d8576b"
             ],
             [
              0.6666666666666666,
              "#ed7953"
             ],
             [
              0.7777777777777778,
              "#fb9f3a"
             ],
             [
              0.8888888888888888,
              "#fdca26"
             ],
             [
              1,
              "#f0f921"
             ]
            ],
            "type": "heatmapgl"
           }
          ],
          "histogram": [
           {
            "marker": {
             "pattern": {
              "fillmode": "overlay",
              "size": 10,
              "solidity": 0.2
             }
            },
            "type": "histogram"
           }
          ],
          "histogram2d": [
           {
            "colorbar": {
             "outlinewidth": 0,
             "ticks": ""
            },
            "colorscale": [
             [
              0,
              "#0d0887"
             ],
             [
              0.1111111111111111,
              "#46039f"
             ],
             [
              0.2222222222222222,
              "#7201a8"
             ],
             [
              0.3333333333333333,
              "#9c179e"
             ],
             [
              0.4444444444444444,
              "#bd3786"
             ],
             [
              0.5555555555555556,
              "#d8576b"
             ],
             [
              0.6666666666666666,
              "#ed7953"
             ],
             [
              0.7777777777777778,
              "#fb9f3a"
             ],
             [
              0.8888888888888888,
              "#fdca26"
             ],
             [
              1,
              "#f0f921"
             ]
            ],
            "type": "histogram2d"
           }
          ],
          "histogram2dcontour": [
           {
            "colorbar": {
             "outlinewidth": 0,
             "ticks": ""
            },
            "colorscale": [
             [
              0,
              "#0d0887"
             ],
             [
              0.1111111111111111,
              "#46039f"
             ],
             [
              0.2222222222222222,
              "#7201a8"
             ],
             [
              0.3333333333333333,
              "#9c179e"
             ],
             [
              0.4444444444444444,
              "#bd3786"
             ],
             [
              0.5555555555555556,
              "#d8576b"
             ],
             [
              0.6666666666666666,
              "#ed7953"
             ],
             [
              0.7777777777777778,
              "#fb9f3a"
             ],
             [
              0.8888888888888888,
              "#fdca26"
             ],
             [
              1,
              "#f0f921"
             ]
            ],
            "type": "histogram2dcontour"
           }
          ],
          "mesh3d": [
           {
            "colorbar": {
             "outlinewidth": 0,
             "ticks": ""
            },
            "type": "mesh3d"
           }
          ],
          "parcoords": [
           {
            "line": {
             "colorbar": {
              "outlinewidth": 0,
              "ticks": ""
             }
            },
            "type": "parcoords"
           }
          ],
          "pie": [
           {
            "automargin": true,
            "type": "pie"
           }
          ],
          "scatter": [
           {
            "fillpattern": {
             "fillmode": "overlay",
             "size": 10,
             "solidity": 0.2
            },
            "type": "scatter"
           }
          ],
          "scatter3d": [
           {
            "line": {
             "colorbar": {
              "outlinewidth": 0,
              "ticks": ""
             }
            },
            "marker": {
             "colorbar": {
              "outlinewidth": 0,
              "ticks": ""
             }
            },
            "type": "scatter3d"
           }
          ],
          "scattercarpet": [
           {
            "marker": {
             "colorbar": {
              "outlinewidth": 0,
              "ticks": ""
             }
            },
            "type": "scattercarpet"
           }
          ],
          "scattergeo": [
           {
            "marker": {
             "colorbar": {
              "outlinewidth": 0,
              "ticks": ""
             }
            },
            "type": "scattergeo"
           }
          ],
          "scattergl": [
           {
            "marker": {
             "colorbar": {
              "outlinewidth": 0,
              "ticks": ""
             }
            },
            "type": "scattergl"
           }
          ],
          "scattermapbox": [
           {
            "marker": {
             "colorbar": {
              "outlinewidth": 0,
              "ticks": ""
             }
            },
            "type": "scattermapbox"
           }
          ],
          "scatterpolar": [
           {
            "marker": {
             "colorbar": {
              "outlinewidth": 0,
              "ticks": ""
             }
            },
            "type": "scatterpolar"
           }
          ],
          "scatterpolargl": [
           {
            "marker": {
             "colorbar": {
              "outlinewidth": 0,
              "ticks": ""
             }
            },
            "type": "scatterpolargl"
           }
          ],
          "scatterternary": [
           {
            "marker": {
             "colorbar": {
              "outlinewidth": 0,
              "ticks": ""
             }
            },
            "type": "scatterternary"
           }
          ],
          "surface": [
           {
            "colorbar": {
             "outlinewidth": 0,
             "ticks": ""
            },
            "colorscale": [
             [
              0,
              "#0d0887"
             ],
             [
              0.1111111111111111,
              "#46039f"
             ],
             [
              0.2222222222222222,
              "#7201a8"
             ],
             [
              0.3333333333333333,
              "#9c179e"
             ],
             [
              0.4444444444444444,
              "#bd3786"
             ],
             [
              0.5555555555555556,
              "#d8576b"
             ],
             [
              0.6666666666666666,
              "#ed7953"
             ],
             [
              0.7777777777777778,
              "#fb9f3a"
             ],
             [
              0.8888888888888888,
              "#fdca26"
             ],
             [
              1,
              "#f0f921"
             ]
            ],
            "type": "surface"
           }
          ],
          "table": [
           {
            "cells": {
             "fill": {
              "color": "#EBF0F8"
             },
             "line": {
              "color": "white"
             }
            },
            "header": {
             "fill": {
              "color": "#C8D4E3"
             },
             "line": {
              "color": "white"
             }
            },
            "type": "table"
           }
          ]
         },
         "layout": {
          "annotationdefaults": {
           "arrowcolor": "#2a3f5f",
           "arrowhead": 0,
           "arrowwidth": 1
          },
          "autotypenumbers": "strict",
          "coloraxis": {
           "colorbar": {
            "outlinewidth": 0,
            "ticks": ""
           }
          },
          "colorscale": {
           "diverging": [
            [
             0,
             "#8e0152"
            ],
            [
             0.1,
             "#c51b7d"
            ],
            [
             0.2,
             "#de77ae"
            ],
            [
             0.3,
             "#f1b6da"
            ],
            [
             0.4,
             "#fde0ef"
            ],
            [
             0.5,
             "#f7f7f7"
            ],
            [
             0.6,
             "#e6f5d0"
            ],
            [
             0.7,
             "#b8e186"
            ],
            [
             0.8,
             "#7fbc41"
            ],
            [
             0.9,
             "#4d9221"
            ],
            [
             1,
             "#276419"
            ]
           ],
           "sequential": [
            [
             0,
             "#0d0887"
            ],
            [
             0.1111111111111111,
             "#46039f"
            ],
            [
             0.2222222222222222,
             "#7201a8"
            ],
            [
             0.3333333333333333,
             "#9c179e"
            ],
            [
             0.4444444444444444,
             "#bd3786"
            ],
            [
             0.5555555555555556,
             "#d8576b"
            ],
            [
             0.6666666666666666,
             "#ed7953"
            ],
            [
             0.7777777777777778,
             "#fb9f3a"
            ],
            [
             0.8888888888888888,
             "#fdca26"
            ],
            [
             1,
             "#f0f921"
            ]
           ],
           "sequentialminus": [
            [
             0,
             "#0d0887"
            ],
            [
             0.1111111111111111,
             "#46039f"
            ],
            [
             0.2222222222222222,
             "#7201a8"
            ],
            [
             0.3333333333333333,
             "#9c179e"
            ],
            [
             0.4444444444444444,
             "#bd3786"
            ],
            [
             0.5555555555555556,
             "#d8576b"
            ],
            [
             0.6666666666666666,
             "#ed7953"
            ],
            [
             0.7777777777777778,
             "#fb9f3a"
            ],
            [
             0.8888888888888888,
             "#fdca26"
            ],
            [
             1,
             "#f0f921"
            ]
           ]
          },
          "colorway": [
           "#636efa",
           "#EF553B",
           "#00cc96",
           "#ab63fa",
           "#FFA15A",
           "#19d3f3",
           "#FF6692",
           "#B6E880",
           "#FF97FF",
           "#FECB52"
          ],
          "font": {
           "color": "#2a3f5f"
          },
          "geo": {
           "bgcolor": "white",
           "lakecolor": "white",
           "landcolor": "#E5ECF6",
           "showlakes": true,
           "showland": true,
           "subunitcolor": "white"
          },
          "hoverlabel": {
           "align": "left"
          },
          "hovermode": "closest",
          "mapbox": {
           "style": "light"
          },
          "paper_bgcolor": "white",
          "plot_bgcolor": "#E5ECF6",
          "polar": {
           "angularaxis": {
            "gridcolor": "white",
            "linecolor": "white",
            "ticks": ""
           },
           "bgcolor": "#E5ECF6",
           "radialaxis": {
            "gridcolor": "white",
            "linecolor": "white",
            "ticks": ""
           }
          },
          "scene": {
           "xaxis": {
            "backgroundcolor": "#E5ECF6",
            "gridcolor": "white",
            "gridwidth": 2,
            "linecolor": "white",
            "showbackground": true,
            "ticks": "",
            "zerolinecolor": "white"
           },
           "yaxis": {
            "backgroundcolor": "#E5ECF6",
            "gridcolor": "white",
            "gridwidth": 2,
            "linecolor": "white",
            "showbackground": true,
            "ticks": "",
            "zerolinecolor": "white"
           },
           "zaxis": {
            "backgroundcolor": "#E5ECF6",
            "gridcolor": "white",
            "gridwidth": 2,
            "linecolor": "white",
            "showbackground": true,
            "ticks": "",
            "zerolinecolor": "white"
           }
          },
          "shapedefaults": {
           "line": {
            "color": "#2a3f5f"
           }
          },
          "ternary": {
           "aaxis": {
            "gridcolor": "white",
            "linecolor": "white",
            "ticks": ""
           },
           "baxis": {
            "gridcolor": "white",
            "linecolor": "white",
            "ticks": ""
           },
           "bgcolor": "#E5ECF6",
           "caxis": {
            "gridcolor": "white",
            "linecolor": "white",
            "ticks": ""
           }
          },
          "title": {
           "x": 0.05
          },
          "xaxis": {
           "automargin": true,
           "gridcolor": "white",
           "linecolor": "white",
           "ticks": "",
           "title": {
            "standoff": 15
           },
           "zerolinecolor": "white",
           "zerolinewidth": 2
          },
          "yaxis": {
           "automargin": true,
           "gridcolor": "white",
           "linecolor": "white",
           "ticks": "",
           "title": {
            "standoff": 15
           },
           "zerolinecolor": "white",
           "zerolinewidth": 2
          }
         }
        },
        "title": {
         "text": "Índice MT para 100 Pares de Relés en el Escenario Base"
        },
        "xaxis": {
         "dtick": 5,
         "tick0": 1,
         "tickmode": "linear",
         "title": {
          "text": "Índice del Par de Relés"
         }
        },
        "yaxis": {
         "title": {
          "text": "Valor MT (Penalización)"
         }
        }
       }
      }
     },
     "metadata": {},
     "output_type": "display_data"
    },
    {
     "data": {
      "application/vnd.plotly.v1+json": {
       "config": {
        "plotlyServerURL": "https://plot.ly"
       },
       "data": [
        {
         "customdata": [
          [
           "R45-R71",
           -2.3016
          ],
          [
           "R45-R46",
           -2.3016
          ],
          [
           "R9-R71",
           -2.2790000000000004
          ],
          [
           "R9-R8",
           -2.2790000000000004
          ],
          [
           "R2-R1",
           -2.1074
          ],
          [
           "R34-R46",
           -1.9606
          ],
          [
           "R34-R8",
           -1.9606
          ],
          [
           "R33-R7",
           -1.8521999999999998
          ],
          [
           "R18-R1",
           -1.1998
          ],
          [
           "R8-R7",
           -1.1778
          ],
          [
           "R7-R6",
           -0.8013999999999999
          ]
         ],
         "hovertemplate": "status=Descoordinado<br>index=%{x}<br>delta_t=%{y}<br>pair_name=%{customdata[0]}<br>mt=%{customdata[1]}<extra></extra>",
         "legendgroup": "Descoordinado",
         "marker": {
          "color": "red",
          "symbol": "circle"
         },
         "mode": "markers",
         "name": "Descoordinado",
         "orientation": "v",
         "showlegend": true,
         "type": "scatter",
         "x": [
          96,
          95,
          98,
          97,
          91,
          100,
          99,
          92,
          90,
          94,
          93
         ],
         "xaxis": "x",
         "y": [
          -2.3016,
          -2.3016,
          -2.2790000000000004,
          -2.2790000000000004,
          -2.1074,
          -1.9606,
          -1.9606,
          -1.8521999999999998,
          -1.1998,
          -1.1778,
          -0.8013999999999999
         ],
         "yaxis": "y"
        },
        {
         "customdata": [
          [
           "R27-R26",
           0
          ],
          [
           "R67-R68",
           0
          ],
          [
           "R30-R29",
           0
          ],
          [
           "R40-R41",
           0
          ],
          [
           "R3-R59",
           0
          ],
          [
           "R3-R2",
           0
          ],
          [
           "R59-R60",
           0
          ],
          [
           "R22-R40",
           0
          ],
          [
           "R22-R2",
           0
          ],
          [
           "R66-R67",
           0
          ],
          [
           "R31-R30",
           0
          ],
          [
           "R29-R28",
           0
          ],
          [
           "R65-R66",
           0
          ],
          [
           "R65-R37",
           0
          ],
          [
           "R28-R27",
           0
          ],
          [
           "R64-R65",
           0
          ],
          [
           "R63-R64",
           0
          ],
          [
           "R29-R37",
           0
          ],
          [
           "R32-R31",
           0
          ],
          [
           "R69-R36",
           0
          ],
          [
           "R71-R52",
           0
          ],
          [
           "R71-R14",
           0
          ],
          [
           "R46-R47",
           0
          ],
          [
           "R8-R70",
           0
          ],
          [
           "R44-R45",
           0
          ],
          [
           "R44-R70",
           0
          ],
          [
           "R43-R44",
           0
          ],
          [
           "R6-R62",
           0
          ],
          [
           "R6-R5",
           0
          ],
          [
           "R62-R63",
           0
          ],
          [
           "R25-R43",
           0
          ],
          [
           "R25-R5",
           0
          ],
          [
           "R42-R62",
           0
          ],
          [
           "R42-R43",
           0
          ],
          [
           "R26-R25",
           0
          ],
          [
           "R41-R42",
           0
          ],
          [
           "R4-R3",
           0
          ],
          [
           "R68-R69",
           0
          ],
          [
           "R5-R4",
           0
          ],
          [
           "R38-R39",
           0
          ],
          [
           "R37-R24",
           0
          ],
          [
           "R54-R73",
           0
          ],
          [
           "R17-R16",
           0
          ],
          [
           "R53-R54",
           0
          ],
          [
           "R16-R15",
           0
          ],
          [
           "R52-R53",
           0
          ],
          [
           "R15-R34",
           0
          ],
          [
           "R15-R14",
           0
          ],
          [
           "R51-R34",
           0
          ],
          [
           "R51-R52",
           0
          ],
          [
           "R14-R13",
           0
          ],
          [
           "R50-R51",
           0
          ],
          [
           "R13-R12",
           0
          ],
          [
           "R49-R50",
           0
          ],
          [
           "R12-R72",
           0
          ],
          [
           "R12-R11",
           0
          ],
          [
           "R48-R72",
           0
          ],
          [
           "R48-R49",
           0
          ],
          [
           "R11-R10",
           0
          ],
          [
           "R47-R48",
           0
          ],
          [
           "R10-R9",
           0
          ],
          [
           "R38-R55",
           0
          ],
          [
           "R36-R17",
           0
          ],
          [
           "R74-R28",
           0
          ],
          [
           "R73-R32",
           0
          ],
          [
           "R56-R57",
           0
          ],
          [
           "R61-R74",
           0
          ],
          [
           "R24-R23",
           0
          ],
          [
           "R60-R61",
           0
          ],
          [
           "R23-R22",
           0
          ],
          [
           "R35-R49",
           0
          ],
          [
           "R35-R11",
           0
          ],
          [
           "R72-R21",
           0
          ],
          [
           "R70-R20",
           0
          ],
          [
           "R70-R58",
           0
          ],
          [
           "R33-R45",
           0
          ],
          [
           "R58-R35",
           0
          ],
          [
           "R21-R33",
           0
          ],
          [
           "R21-R20",
           0
          ],
          [
           "R57-R33",
           0
          ],
          [
           "R57-R58",
           0
          ],
          [
           "R20-R19",
           0
          ],
          [
           "R39-R59",
           0
          ],
          [
           "R39-R40",
           0
          ],
          [
           "R2-R55",
           0
          ],
          [
           "R55-R56",
           0
          ],
          [
           "R18-R39",
           0
          ],
          [
           "R19-R18",
           0
          ],
          [
           "R74-R66",
           0
          ]
         ],
         "hovertemplate": "status=Coordinado<br>index=%{x}<br>delta_t=%{y}<br>pair_name=%{customdata[0]}<br>mt=%{customdata[1]}<extra></extra>",
         "legendgroup": "Coordinado",
         "marker": {
          "color": "green",
          "symbol": "circle"
         },
         "mode": "markers",
         "name": "Coordinado",
         "orientation": "v",
         "showlegend": true,
         "type": "scatter",
         "x": [
          53,
          68,
          67,
          66,
          65,
          64,
          63,
          62,
          61,
          60,
          69,
          58,
          57,
          56,
          55,
          54,
          52,
          59,
          71,
          72,
          89,
          88,
          87,
          86,
          85,
          84,
          83,
          82,
          81,
          80,
          79,
          78,
          77,
          76,
          51,
          74,
          73,
          70,
          75,
          1,
          48,
          22,
          21,
          20,
          19,
          18,
          17,
          16,
          15,
          14,
          13,
          12,
          11,
          10,
          9,
          8,
          7,
          6,
          5,
          4,
          3,
          2,
          23,
          49,
          24,
          26,
          47,
          46,
          45,
          44,
          43,
          42,
          41,
          40,
          39,
          38,
          37,
          36,
          35,
          34,
          33,
          32,
          31,
          30,
          29,
          28,
          27,
          25,
          50
         ],
         "xaxis": "x",
         "y": [
          0.018699999999999883,
          0.025199999999999834,
          0.005699999999999983,
          0.03560000000000024,
          0.06069999999999992,
          0.2530999999999998,
          0.020699999999999885,
          0.021799999999999986,
          0.023199999999999832,
          0.013999999999999957,
          0.061600000000000044,
          0.02560000000000001,
          0.28119999999999984,
          0.459,
          0.0016999999999999793,
          0.07900000000000013,
          0.036199999999999954,
          0.00039999999999990044,
          0.016599999999999893,
          0.06189999999999979,
          1.3074,
          2.1008999999999998,
          0.010599999999999998,
          1.4255,
          0.21650000000000008,
          0.06050000000000039,
          0.048700000000000354,
          1.6209,
          1.7539,
          0.10959999999999986,
          0.07330000000000009,
          0.04389999999999977,
          0.08659999999999995,
          0.05929999999999963,
          0.03229999999999972,
          0.06109999999999988,
          0.017600000000000005,
          0.03999999999999998,
          0.014099999999999946,
          0.8924000000000001,
          0.006800000000000084,
          0.04370000000000002,
          0.009700000000000208,
          0.020499999999999907,
          0.003799999999999748,
          0.0963,
          0.08849999999999997,
          0.0772000000000001,
          1.0343999999999998,
          0.010499999999999898,
          0.008800000000000086,
          0.07259999999999994,
          0.020699999999999885,
          0.014399999999999913,
          0.0015999999999999903,
          0.006199999999999928,
          1.3159,
          0.5177,
          0.050700000000000134,
          0.07769999999999999,
          0.028299999999999936,
          1.8591,
          0.00259999999999988,
          0.23100000000000004,
          0.039500000000000035,
          0.040399999999999714,
          0.014999999999999847,
          0.02270000000000011,
          0.05219999999999997,
          0.07109999999999989,
          0.01490000000000008,
          0.2910000000000001,
          0.020399999999999918,
          0.049199999999999966,
          1.1697999999999997,
          0.7670000000000003,
          0.07919999999999966,
          1.3723,
          0.17519999999999997,
          0.04639999999999994,
          0.00840000000000013,
          0.003700000000000092,
          0.5347,
          0.7081000000000002,
          0.06149999999999983,
          0.01769999999999977,
          0.002399999999999902,
          0.03820000000000007,
          0.040499999999999925
         ],
         "yaxis": "y"
        }
       ],
       "layout": {
        "legend": {
         "title": {
          "text": "status"
         },
         "tracegroupgap": 0
        },
        "shapes": [
         {
          "line": {
           "color": "black",
           "dash": "dash",
           "width": 1
          },
          "type": "line",
          "x0": 0,
          "x1": 100,
          "y0": 0,
          "y1": 0
         }
        ],
        "template": {
         "data": {
          "bar": [
           {
            "error_x": {
             "color": "#2a3f5f"
            },
            "error_y": {
             "color": "#2a3f5f"
            },
            "marker": {
             "line": {
              "color": "#E5ECF6",
              "width": 0.5
             },
             "pattern": {
              "fillmode": "overlay",
              "size": 10,
              "solidity": 0.2
             }
            },
            "type": "bar"
           }
          ],
          "barpolar": [
           {
            "marker": {
             "line": {
              "color": "#E5ECF6",
              "width": 0.5
             },
             "pattern": {
              "fillmode": "overlay",
              "size": 10,
              "solidity": 0.2
             }
            },
            "type": "barpolar"
           }
          ],
          "carpet": [
           {
            "aaxis": {
             "endlinecolor": "#2a3f5f",
             "gridcolor": "white",
             "linecolor": "white",
             "minorgridcolor": "white",
             "startlinecolor": "#2a3f5f"
            },
            "baxis": {
             "endlinecolor": "#2a3f5f",
             "gridcolor": "white",
             "linecolor": "white",
             "minorgridcolor": "white",
             "startlinecolor": "#2a3f5f"
            },
            "type": "carpet"
           }
          ],
          "choropleth": [
           {
            "colorbar": {
             "outlinewidth": 0,
             "ticks": ""
            },
            "type": "choropleth"
           }
          ],
          "contour": [
           {
            "colorbar": {
             "outlinewidth": 0,
             "ticks": ""
            },
            "colorscale": [
             [
              0,
              "#0d0887"
             ],
             [
              0.1111111111111111,
              "#46039f"
             ],
             [
              0.2222222222222222,
              "#7201a8"
             ],
             [
              0.3333333333333333,
              "#9c179e"
             ],
             [
              0.4444444444444444,
              "#bd3786"
             ],
             [
              0.5555555555555556,
              "#d8576b"
             ],
             [
              0.6666666666666666,
              "#ed7953"
             ],
             [
              0.7777777777777778,
              "#fb9f3a"
             ],
             [
              0.8888888888888888,
              "#fdca26"
             ],
             [
              1,
              "#f0f921"
             ]
            ],
            "type": "contour"
           }
          ],
          "contourcarpet": [
           {
            "colorbar": {
             "outlinewidth": 0,
             "ticks": ""
            },
            "type": "contourcarpet"
           }
          ],
          "heatmap": [
           {
            "colorbar": {
             "outlinewidth": 0,
             "ticks": ""
            },
            "colorscale": [
             [
              0,
              "#0d0887"
             ],
             [
              0.1111111111111111,
              "#46039f"
             ],
             [
              0.2222222222222222,
              "#7201a8"
             ],
             [
              0.3333333333333333,
              "#9c179e"
             ],
             [
              0.4444444444444444,
              "#bd3786"
             ],
             [
              0.5555555555555556,
              "#d8576b"
             ],
             [
              0.6666666666666666,
              "#ed7953"
             ],
             [
              0.7777777777777778,
              "#fb9f3a"
             ],
             [
              0.8888888888888888,
              "#fdca26"
             ],
             [
              1,
              "#f0f921"
             ]
            ],
            "type": "heatmap"
           }
          ],
          "heatmapgl": [
           {
            "colorbar": {
             "outlinewidth": 0,
             "ticks": ""
            },
            "colorscale": [
             [
              0,
              "#0d0887"
             ],
             [
              0.1111111111111111,
              "#46039f"
             ],
             [
              0.2222222222222222,
              "#7201a8"
             ],
             [
              0.3333333333333333,
              "#9c179e"
             ],
             [
              0.4444444444444444,
              "#bd3786"
             ],
             [
              0.5555555555555556,
              "#d8576b"
             ],
             [
              0.6666666666666666,
              "#ed7953"
             ],
             [
              0.7777777777777778,
              "#fb9f3a"
             ],
             [
              0.8888888888888888,
              "#fdca26"
             ],
             [
              1,
              "#f0f921"
             ]
            ],
            "type": "heatmapgl"
           }
          ],
          "histogram": [
           {
            "marker": {
             "pattern": {
              "fillmode": "overlay",
              "size": 10,
              "solidity": 0.2
             }
            },
            "type": "histogram"
           }
          ],
          "histogram2d": [
           {
            "colorbar": {
             "outlinewidth": 0,
             "ticks": ""
            },
            "colorscale": [
             [
              0,
              "#0d0887"
             ],
             [
              0.1111111111111111,
              "#46039f"
             ],
             [
              0.2222222222222222,
              "#7201a8"
             ],
             [
              0.3333333333333333,
              "#9c179e"
             ],
             [
              0.4444444444444444,
              "#bd3786"
             ],
             [
              0.5555555555555556,
              "#d8576b"
             ],
             [
              0.6666666666666666,
              "#ed7953"
             ],
             [
              0.7777777777777778,
              "#fb9f3a"
             ],
             [
              0.8888888888888888,
              "#fdca26"
             ],
             [
              1,
              "#f0f921"
             ]
            ],
            "type": "histogram2d"
           }
          ],
          "histogram2dcontour": [
           {
            "colorbar": {
             "outlinewidth": 0,
             "ticks": ""
            },
            "colorscale": [
             [
              0,
              "#0d0887"
             ],
             [
              0.1111111111111111,
              "#46039f"
             ],
             [
              0.2222222222222222,
              "#7201a8"
             ],
             [
              0.3333333333333333,
              "#9c179e"
             ],
             [
              0.4444444444444444,
              "#bd3786"
             ],
             [
              0.5555555555555556,
              "#d8576b"
             ],
             [
              0.6666666666666666,
              "#ed7953"
             ],
             [
              0.7777777777777778,
              "#fb9f3a"
             ],
             [
              0.8888888888888888,
              "#fdca26"
             ],
             [
              1,
              "#f0f921"
             ]
            ],
            "type": "histogram2dcontour"
           }
          ],
          "mesh3d": [
           {
            "colorbar": {
             "outlinewidth": 0,
             "ticks": ""
            },
            "type": "mesh3d"
           }
          ],
          "parcoords": [
           {
            "line": {
             "colorbar": {
              "outlinewidth": 0,
              "ticks": ""
             }
            },
            "type": "parcoords"
           }
          ],
          "pie": [
           {
            "automargin": true,
            "type": "pie"
           }
          ],
          "scatter": [
           {
            "fillpattern": {
             "fillmode": "overlay",
             "size": 10,
             "solidity": 0.2
            },
            "type": "scatter"
           }
          ],
          "scatter3d": [
           {
            "line": {
             "colorbar": {
              "outlinewidth": 0,
              "ticks": ""
             }
            },
            "marker": {
             "colorbar": {
              "outlinewidth": 0,
              "ticks": ""
             }
            },
            "type": "scatter3d"
           }
          ],
          "scattercarpet": [
           {
            "marker": {
             "colorbar": {
              "outlinewidth": 0,
              "ticks": ""
             }
            },
            "type": "scattercarpet"
           }
          ],
          "scattergeo": [
           {
            "marker": {
             "colorbar": {
              "outlinewidth": 0,
              "ticks": ""
             }
            },
            "type": "scattergeo"
           }
          ],
          "scattergl": [
           {
            "marker": {
             "colorbar": {
              "outlinewidth": 0,
              "ticks": ""
             }
            },
            "type": "scattergl"
           }
          ],
          "scattermapbox": [
           {
            "marker": {
             "colorbar": {
              "outlinewidth": 0,
              "ticks": ""
             }
            },
            "type": "scattermapbox"
           }
          ],
          "scatterpolar": [
           {
            "marker": {
             "colorbar": {
              "outlinewidth": 0,
              "ticks": ""
             }
            },
            "type": "scatterpolar"
           }
          ],
          "scatterpolargl": [
           {
            "marker": {
             "colorbar": {
              "outlinewidth": 0,
              "ticks": ""
             }
            },
            "type": "scatterpolargl"
           }
          ],
          "scatterternary": [
           {
            "marker": {
             "colorbar": {
              "outlinewidth": 0,
              "ticks": ""
             }
            },
            "type": "scatterternary"
           }
          ],
          "surface": [
           {
            "colorbar": {
             "outlinewidth": 0,
             "ticks": ""
            },
            "colorscale": [
             [
              0,
              "#0d0887"
             ],
             [
              0.1111111111111111,
              "#46039f"
             ],
             [
              0.2222222222222222,
              "#7201a8"
             ],
             [
              0.3333333333333333,
              "#9c179e"
             ],
             [
              0.4444444444444444,
              "#bd3786"
             ],
             [
              0.5555555555555556,
              "#d8576b"
             ],
             [
              0.6666666666666666,
              "#ed7953"
             ],
             [
              0.7777777777777778,
              "#fb9f3a"
             ],
             [
              0.8888888888888888,
              "#fdca26"
             ],
             [
              1,
              "#f0f921"
             ]
            ],
            "type": "surface"
           }
          ],
          "table": [
           {
            "cells": {
             "fill": {
              "color": "#EBF0F8"
             },
             "line": {
              "color": "white"
             }
            },
            "header": {
             "fill": {
              "color": "#C8D4E3"
             },
             "line": {
              "color": "white"
             }
            },
            "type": "table"
           }
          ]
         },
         "layout": {
          "annotationdefaults": {
           "arrowcolor": "#2a3f5f",
           "arrowhead": 0,
           "arrowwidth": 1
          },
          "autotypenumbers": "strict",
          "coloraxis": {
           "colorbar": {
            "outlinewidth": 0,
            "ticks": ""
           }
          },
          "colorscale": {
           "diverging": [
            [
             0,
             "#8e0152"
            ],
            [
             0.1,
             "#c51b7d"
            ],
            [
             0.2,
             "#de77ae"
            ],
            [
             0.3,
             "#f1b6da"
            ],
            [
             0.4,
             "#fde0ef"
            ],
            [
             0.5,
             "#f7f7f7"
            ],
            [
             0.6,
             "#e6f5d0"
            ],
            [
             0.7,
             "#b8e186"
            ],
            [
             0.8,
             "#7fbc41"
            ],
            [
             0.9,
             "#4d9221"
            ],
            [
             1,
             "#276419"
            ]
           ],
           "sequential": [
            [
             0,
             "#0d0887"
            ],
            [
             0.1111111111111111,
             "#46039f"
            ],
            [
             0.2222222222222222,
             "#7201a8"
            ],
            [
             0.3333333333333333,
             "#9c179e"
            ],
            [
             0.4444444444444444,
             "#bd3786"
            ],
            [
             0.5555555555555556,
             "#d8576b"
            ],
            [
             0.6666666666666666,
             "#ed7953"
            ],
            [
             0.7777777777777778,
             "#fb9f3a"
            ],
            [
             0.8888888888888888,
             "#fdca26"
            ],
            [
             1,
             "#f0f921"
            ]
           ],
           "sequentialminus": [
            [
             0,
             "#0d0887"
            ],
            [
             0.1111111111111111,
             "#46039f"
            ],
            [
             0.2222222222222222,
             "#7201a8"
            ],
            [
             0.3333333333333333,
             "#9c179e"
            ],
            [
             0.4444444444444444,
             "#bd3786"
            ],
            [
             0.5555555555555556,
             "#d8576b"
            ],
            [
             0.6666666666666666,
             "#ed7953"
            ],
            [
             0.7777777777777778,
             "#fb9f3a"
            ],
            [
             0.8888888888888888,
             "#fdca26"
            ],
            [
             1,
             "#f0f921"
            ]
           ]
          },
          "colorway": [
           "#636efa",
           "#EF553B",
           "#00cc96",
           "#ab63fa",
           "#FFA15A",
           "#19d3f3",
           "#FF6692",
           "#B6E880",
           "#FF97FF",
           "#FECB52"
          ],
          "font": {
           "color": "#2a3f5f"
          },
          "geo": {
           "bgcolor": "white",
           "lakecolor": "white",
           "landcolor": "#E5ECF6",
           "showlakes": true,
           "showland": true,
           "subunitcolor": "white"
          },
          "hoverlabel": {
           "align": "left"
          },
          "hovermode": "closest",
          "mapbox": {
           "style": "light"
          },
          "paper_bgcolor": "white",
          "plot_bgcolor": "#E5ECF6",
          "polar": {
           "angularaxis": {
            "gridcolor": "white",
            "linecolor": "white",
            "ticks": ""
           },
           "bgcolor": "#E5ECF6",
           "radialaxis": {
            "gridcolor": "white",
            "linecolor": "white",
            "ticks": ""
           }
          },
          "scene": {
           "xaxis": {
            "backgroundcolor": "#E5ECF6",
            "gridcolor": "white",
            "gridwidth": 2,
            "linecolor": "white",
            "showbackground": true,
            "ticks": "",
            "zerolinecolor": "white"
           },
           "yaxis": {
            "backgroundcolor": "#E5ECF6",
            "gridcolor": "white",
            "gridwidth": 2,
            "linecolor": "white",
            "showbackground": true,
            "ticks": "",
            "zerolinecolor": "white"
           },
           "zaxis": {
            "backgroundcolor": "#E5ECF6",
            "gridcolor": "white",
            "gridwidth": 2,
            "linecolor": "white",
            "showbackground": true,
            "ticks": "",
            "zerolinecolor": "white"
           }
          },
          "shapedefaults": {
           "line": {
            "color": "#2a3f5f"
           }
          },
          "ternary": {
           "aaxis": {
            "gridcolor": "white",
            "linecolor": "white",
            "ticks": ""
           },
           "baxis": {
            "gridcolor": "white",
            "linecolor": "white",
            "ticks": ""
           },
           "bgcolor": "#E5ECF6",
           "caxis": {
            "gridcolor": "white",
            "linecolor": "white",
            "ticks": ""
           }
          },
          "title": {
           "x": 0.05
          },
          "xaxis": {
           "automargin": true,
           "gridcolor": "white",
           "linecolor": "white",
           "ticks": "",
           "title": {
            "standoff": 15
           },
           "zerolinecolor": "white",
           "zerolinewidth": 2
          },
          "yaxis": {
           "automargin": true,
           "gridcolor": "white",
           "linecolor": "white",
           "ticks": "",
           "title": {
            "standoff": 15
           },
           "zerolinecolor": "white",
           "zerolinewidth": 2
          }
         }
        },
        "title": {
         "text": "Delta_t para 100 Pares de Relés (CTI = 0.2s)"
        },
        "xaxis": {
         "anchor": "y",
         "domain": [
          0,
          1
         ],
         "dtick": 5,
         "tick0": 1,
         "tickmode": "linear",
         "title": {
          "text": "Índice del Par de Relés"
         }
        },
        "yaxis": {
         "anchor": "x",
         "domain": [
          0,
          1
         ],
         "title": {
          "text": "Delta_t - CTI (s)"
         }
        }
       }
      }
     },
     "metadata": {},
     "output_type": "display_data"
    },
    {
     "data": {
      "application/vnd.plotly.v1+json": {
       "config": {
        "plotlyServerURL": "https://plot.ly"
       },
       "data": [
        {
         "alignmentgroup": "True",
         "bingroup": "x",
         "hovertemplate": "status=Descoordinado<br>mt=%{x}<br>count=%{y}<extra></extra>",
         "legendgroup": "Descoordinado",
         "marker": {
          "color": "red",
          "pattern": {
           "shape": ""
          }
         },
         "name": "Descoordinado",
         "offsetgroup": "Descoordinado",
         "orientation": "v",
         "showlegend": true,
         "type": "histogram",
         "x": [
          -2.3016,
          -2.3016,
          -2.2790000000000004,
          -2.2790000000000004,
          -2.1074,
          -1.9606,
          -1.9606,
          -1.8521999999999998,
          -1.1998,
          -1.1778,
          -0.8013999999999999
         ],
         "xaxis": "x",
         "yaxis": "y"
        },
        {
         "alignmentgroup": "True",
         "hovertemplate": "status=Descoordinado<br>mt=%{x}<extra></extra>",
         "legendgroup": "Descoordinado",
         "marker": {
          "color": "red"
         },
         "name": "Descoordinado",
         "notched": true,
         "offsetgroup": "Descoordinado",
         "showlegend": false,
         "type": "box",
         "x": [
          -2.3016,
          -2.3016,
          -2.2790000000000004,
          -2.2790000000000004,
          -2.1074,
          -1.9606,
          -1.9606,
          -1.8521999999999998,
          -1.1998,
          -1.1778,
          -0.8013999999999999
         ],
         "xaxis": "x2",
         "yaxis": "y2"
        },
        {
         "alignmentgroup": "True",
         "bingroup": "x",
         "hovertemplate": "status=Coordinado<br>mt=%{x}<br>count=%{y}<extra></extra>",
         "legendgroup": "Coordinado",
         "marker": {
          "color": "green",
          "pattern": {
           "shape": ""
          }
         },
         "name": "Coordinado",
         "offsetgroup": "Coordinado",
         "orientation": "v",
         "showlegend": true,
         "type": "histogram",
         "x": [
          0,
          0,
          0,
          0,
          0,
          0,
          0,
          0,
          0,
          0,
          0,
          0,
          0,
          0,
          0,
          0,
          0,
          0,
          0,
          0,
          0,
          0,
          0,
          0,
          0,
          0,
          0,
          0,
          0,
          0,
          0,
          0,
          0,
          0,
          0,
          0,
          0,
          0,
          0,
          0,
          0,
          0,
          0,
          0,
          0,
          0,
          0,
          0,
          0,
          0,
          0,
          0,
          0,
          0,
          0,
          0,
          0,
          0,
          0,
          0,
          0,
          0,
          0,
          0,
          0,
          0,
          0,
          0,
          0,
          0,
          0,
          0,
          0,
          0,
          0,
          0,
          0,
          0,
          0,
          0,
          0,
          0,
          0,
          0,
          0,
          0,
          0,
          0,
          0
         ],
         "xaxis": "x",
         "yaxis": "y"
        },
        {
         "alignmentgroup": "True",
         "hovertemplate": "status=Coordinado<br>mt=%{x}<extra></extra>",
         "legendgroup": "Coordinado",
         "marker": {
          "color": "green"
         },
         "name": "Coordinado",
         "notched": true,
         "offsetgroup": "Coordinado",
         "showlegend": false,
         "type": "box",
         "x": [
          0,
          0,
          0,
          0,
          0,
          0,
          0,
          0,
          0,
          0,
          0,
          0,
          0,
          0,
          0,
          0,
          0,
          0,
          0,
          0,
          0,
          0,
          0,
          0,
          0,
          0,
          0,
          0,
          0,
          0,
          0,
          0,
          0,
          0,
          0,
          0,
          0,
          0,
          0,
          0,
          0,
          0,
          0,
          0,
          0,
          0,
          0,
          0,
          0,
          0,
          0,
          0,
          0,
          0,
          0,
          0,
          0,
          0,
          0,
          0,
          0,
          0,
          0,
          0,
          0,
          0,
          0,
          0,
          0,
          0,
          0,
          0,
          0,
          0,
          0,
          0,
          0,
          0,
          0,
          0,
          0,
          0,
          0,
          0,
          0,
          0,
          0,
          0,
          0
         ],
         "xaxis": "x2",
         "yaxis": "y2"
        }
       ],
       "layout": {
        "barmode": "relative",
        "legend": {
         "title": {
          "text": "status"
         },
         "tracegroupgap": 0
        },
        "template": {
         "data": {
          "bar": [
           {
            "error_x": {
             "color": "#2a3f5f"
            },
            "error_y": {
             "color": "#2a3f5f"
            },
            "marker": {
             "line": {
              "color": "#E5ECF6",
              "width": 0.5
             },
             "pattern": {
              "fillmode": "overlay",
              "size": 10,
              "solidity": 0.2
             }
            },
            "type": "bar"
           }
          ],
          "barpolar": [
           {
            "marker": {
             "line": {
              "color": "#E5ECF6",
              "width": 0.5
             },
             "pattern": {
              "fillmode": "overlay",
              "size": 10,
              "solidity": 0.2
             }
            },
            "type": "barpolar"
           }
          ],
          "carpet": [
           {
            "aaxis": {
             "endlinecolor": "#2a3f5f",
             "gridcolor": "white",
             "linecolor": "white",
             "minorgridcolor": "white",
             "startlinecolor": "#2a3f5f"
            },
            "baxis": {
             "endlinecolor": "#2a3f5f",
             "gridcolor": "white",
             "linecolor": "white",
             "minorgridcolor": "white",
             "startlinecolor": "#2a3f5f"
            },
            "type": "carpet"
           }
          ],
          "choropleth": [
           {
            "colorbar": {
             "outlinewidth": 0,
             "ticks": ""
            },
            "type": "choropleth"
           }
          ],
          "contour": [
           {
            "colorbar": {
             "outlinewidth": 0,
             "ticks": ""
            },
            "colorscale": [
             [
              0,
              "#0d0887"
             ],
             [
              0.1111111111111111,
              "#46039f"
             ],
             [
              0.2222222222222222,
              "#7201a8"
             ],
             [
              0.3333333333333333,
              "#9c179e"
             ],
             [
              0.4444444444444444,
              "#bd3786"
             ],
             [
              0.5555555555555556,
              "#d8576b"
             ],
             [
              0.6666666666666666,
              "#ed7953"
             ],
             [
              0.7777777777777778,
              "#fb9f3a"
             ],
             [
              0.8888888888888888,
              "#fdca26"
             ],
             [
              1,
              "#f0f921"
             ]
            ],
            "type": "contour"
           }
          ],
          "contourcarpet": [
           {
            "colorbar": {
             "outlinewidth": 0,
             "ticks": ""
            },
            "type": "contourcarpet"
           }
          ],
          "heatmap": [
           {
            "colorbar": {
             "outlinewidth": 0,
             "ticks": ""
            },
            "colorscale": [
             [
              0,
              "#0d0887"
             ],
             [
              0.1111111111111111,
              "#46039f"
             ],
             [
              0.2222222222222222,
              "#7201a8"
             ],
             [
              0.3333333333333333,
              "#9c179e"
             ],
             [
              0.4444444444444444,
              "#bd3786"
             ],
             [
              0.5555555555555556,
              "#d8576b"
             ],
             [
              0.6666666666666666,
              "#ed7953"
             ],
             [
              0.7777777777777778,
              "#fb9f3a"
             ],
             [
              0.8888888888888888,
              "#fdca26"
             ],
             [
              1,
              "#f0f921"
             ]
            ],
            "type": "heatmap"
           }
          ],
          "heatmapgl": [
           {
            "colorbar": {
             "outlinewidth": 0,
             "ticks": ""
            },
            "colorscale": [
             [
              0,
              "#0d0887"
             ],
             [
              0.1111111111111111,
              "#46039f"
             ],
             [
              0.2222222222222222,
              "#7201a8"
             ],
             [
              0.3333333333333333,
              "#9c179e"
             ],
             [
              0.4444444444444444,
              "#bd3786"
             ],
             [
              0.5555555555555556,
              "#d8576b"
             ],
             [
              0.6666666666666666,
              "#ed7953"
             ],
             [
              0.7777777777777778,
              "#fb9f3a"
             ],
             [
              0.8888888888888888,
              "#fdca26"
             ],
             [
              1,
              "#f0f921"
             ]
            ],
            "type": "heatmapgl"
           }
          ],
          "histogram": [
           {
            "marker": {
             "pattern": {
              "fillmode": "overlay",
              "size": 10,
              "solidity": 0.2
             }
            },
            "type": "histogram"
           }
          ],
          "histogram2d": [
           {
            "colorbar": {
             "outlinewidth": 0,
             "ticks": ""
            },
            "colorscale": [
             [
              0,
              "#0d0887"
             ],
             [
              0.1111111111111111,
              "#46039f"
             ],
             [
              0.2222222222222222,
              "#7201a8"
             ],
             [
              0.3333333333333333,
              "#9c179e"
             ],
             [
              0.4444444444444444,
              "#bd3786"
             ],
             [
              0.5555555555555556,
              "#d8576b"
             ],
             [
              0.6666666666666666,
              "#ed7953"
             ],
             [
              0.7777777777777778,
              "#fb9f3a"
             ],
             [
              0.8888888888888888,
              "#fdca26"
             ],
             [
              1,
              "#f0f921"
             ]
            ],
            "type": "histogram2d"
           }
          ],
          "histogram2dcontour": [
           {
            "colorbar": {
             "outlinewidth": 0,
             "ticks": ""
            },
            "colorscale": [
             [
              0,
              "#0d0887"
             ],
             [
              0.1111111111111111,
              "#46039f"
             ],
             [
              0.2222222222222222,
              "#7201a8"
             ],
             [
              0.3333333333333333,
              "#9c179e"
             ],
             [
              0.4444444444444444,
              "#bd3786"
             ],
             [
              0.5555555555555556,
              "#d8576b"
             ],
             [
              0.6666666666666666,
              "#ed7953"
             ],
             [
              0.7777777777777778,
              "#fb9f3a"
             ],
             [
              0.8888888888888888,
              "#fdca26"
             ],
             [
              1,
              "#f0f921"
             ]
            ],
            "type": "histogram2dcontour"
           }
          ],
          "mesh3d": [
           {
            "colorbar": {
             "outlinewidth": 0,
             "ticks": ""
            },
            "type": "mesh3d"
           }
          ],
          "parcoords": [
           {
            "line": {
             "colorbar": {
              "outlinewidth": 0,
              "ticks": ""
             }
            },
            "type": "parcoords"
           }
          ],
          "pie": [
           {
            "automargin": true,
            "type": "pie"
           }
          ],
          "scatter": [
           {
            "fillpattern": {
             "fillmode": "overlay",
             "size": 10,
             "solidity": 0.2
            },
            "type": "scatter"
           }
          ],
          "scatter3d": [
           {
            "line": {
             "colorbar": {
              "outlinewidth": 0,
              "ticks": ""
             }
            },
            "marker": {
             "colorbar": {
              "outlinewidth": 0,
              "ticks": ""
             }
            },
            "type": "scatter3d"
           }
          ],
          "scattercarpet": [
           {
            "marker": {
             "colorbar": {
              "outlinewidth": 0,
              "ticks": ""
             }
            },
            "type": "scattercarpet"
           }
          ],
          "scattergeo": [
           {
            "marker": {
             "colorbar": {
              "outlinewidth": 0,
              "ticks": ""
             }
            },
            "type": "scattergeo"
           }
          ],
          "scattergl": [
           {
            "marker": {
             "colorbar": {
              "outlinewidth": 0,
              "ticks": ""
             }
            },
            "type": "scattergl"
           }
          ],
          "scattermapbox": [
           {
            "marker": {
             "colorbar": {
              "outlinewidth": 0,
              "ticks": ""
             }
            },
            "type": "scattermapbox"
           }
          ],
          "scatterpolar": [
           {
            "marker": {
             "colorbar": {
              "outlinewidth": 0,
              "ticks": ""
             }
            },
            "type": "scatterpolar"
           }
          ],
          "scatterpolargl": [
           {
            "marker": {
             "colorbar": {
              "outlinewidth": 0,
              "ticks": ""
             }
            },
            "type": "scatterpolargl"
           }
          ],
          "scatterternary": [
           {
            "marker": {
             "colorbar": {
              "outlinewidth": 0,
              "ticks": ""
             }
            },
            "type": "scatterternary"
           }
          ],
          "surface": [
           {
            "colorbar": {
             "outlinewidth": 0,
             "ticks": ""
            },
            "colorscale": [
             [
              0,
              "#0d0887"
             ],
             [
              0.1111111111111111,
              "#46039f"
             ],
             [
              0.2222222222222222,
              "#7201a8"
             ],
             [
              0.3333333333333333,
              "#9c179e"
             ],
             [
              0.4444444444444444,
              "#bd3786"
             ],
             [
              0.5555555555555556,
              "#d8576b"
             ],
             [
              0.6666666666666666,
              "#ed7953"
             ],
             [
              0.7777777777777778,
              "#fb9f3a"
             ],
             [
              0.8888888888888888,
              "#fdca26"
             ],
             [
              1,
              "#f0f921"
             ]
            ],
            "type": "surface"
           }
          ],
          "table": [
           {
            "cells": {
             "fill": {
              "color": "#EBF0F8"
             },
             "line": {
              "color": "white"
             }
            },
            "header": {
             "fill": {
              "color": "#C8D4E3"
             },
             "line": {
              "color": "white"
             }
            },
            "type": "table"
           }
          ]
         },
         "layout": {
          "annotationdefaults": {
           "arrowcolor": "#2a3f5f",
           "arrowhead": 0,
           "arrowwidth": 1
          },
          "autotypenumbers": "strict",
          "coloraxis": {
           "colorbar": {
            "outlinewidth": 0,
            "ticks": ""
           }
          },
          "colorscale": {
           "diverging": [
            [
             0,
             "#8e0152"
            ],
            [
             0.1,
             "#c51b7d"
            ],
            [
             0.2,
             "#de77ae"
            ],
            [
             0.3,
             "#f1b6da"
            ],
            [
             0.4,
             "#fde0ef"
            ],
            [
             0.5,
             "#f7f7f7"
            ],
            [
             0.6,
             "#e6f5d0"
            ],
            [
             0.7,
             "#b8e186"
            ],
            [
             0.8,
             "#7fbc41"
            ],
            [
             0.9,
             "#4d9221"
            ],
            [
             1,
             "#276419"
            ]
           ],
           "sequential": [
            [
             0,
             "#0d0887"
            ],
            [
             0.1111111111111111,
             "#46039f"
            ],
            [
             0.2222222222222222,
             "#7201a8"
            ],
            [
             0.3333333333333333,
             "#9c179e"
            ],
            [
             0.4444444444444444,
             "#bd3786"
            ],
            [
             0.5555555555555556,
             "#d8576b"
            ],
            [
             0.6666666666666666,
             "#ed7953"
            ],
            [
             0.7777777777777778,
             "#fb9f3a"
            ],
            [
             0.8888888888888888,
             "#fdca26"
            ],
            [
             1,
             "#f0f921"
            ]
           ],
           "sequentialminus": [
            [
             0,
             "#0d0887"
            ],
            [
             0.1111111111111111,
             "#46039f"
            ],
            [
             0.2222222222222222,
             "#7201a8"
            ],
            [
             0.3333333333333333,
             "#9c179e"
            ],
            [
             0.4444444444444444,
             "#bd3786"
            ],
            [
             0.5555555555555556,
             "#d8576b"
            ],
            [
             0.6666666666666666,
             "#ed7953"
            ],
            [
             0.7777777777777778,
             "#fb9f3a"
            ],
            [
             0.8888888888888888,
             "#fdca26"
            ],
            [
             1,
             "#f0f921"
            ]
           ]
          },
          "colorway": [
           "#636efa",
           "#EF553B",
           "#00cc96",
           "#ab63fa",
           "#FFA15A",
           "#19d3f3",
           "#FF6692",
           "#B6E880",
           "#FF97FF",
           "#FECB52"
          ],
          "font": {
           "color": "#2a3f5f"
          },
          "geo": {
           "bgcolor": "white",
           "lakecolor": "white",
           "landcolor": "#E5ECF6",
           "showlakes": true,
           "showland": true,
           "subunitcolor": "white"
          },
          "hoverlabel": {
           "align": "left"
          },
          "hovermode": "closest",
          "mapbox": {
           "style": "light"
          },
          "paper_bgcolor": "white",
          "plot_bgcolor": "#E5ECF6",
          "polar": {
           "angularaxis": {
            "gridcolor": "white",
            "linecolor": "white",
            "ticks": ""
           },
           "bgcolor": "#E5ECF6",
           "radialaxis": {
            "gridcolor": "white",
            "linecolor": "white",
            "ticks": ""
           }
          },
          "scene": {
           "xaxis": {
            "backgroundcolor": "#E5ECF6",
            "gridcolor": "white",
            "gridwidth": 2,
            "linecolor": "white",
            "showbackground": true,
            "ticks": "",
            "zerolinecolor": "white"
           },
           "yaxis": {
            "backgroundcolor": "#E5ECF6",
            "gridcolor": "white",
            "gridwidth": 2,
            "linecolor": "white",
            "showbackground": true,
            "ticks": "",
            "zerolinecolor": "white"
           },
           "zaxis": {
            "backgroundcolor": "#E5ECF6",
            "gridcolor": "white",
            "gridwidth": 2,
            "linecolor": "white",
            "showbackground": true,
            "ticks": "",
            "zerolinecolor": "white"
           }
          },
          "shapedefaults": {
           "line": {
            "color": "#2a3f5f"
           }
          },
          "ternary": {
           "aaxis": {
            "gridcolor": "white",
            "linecolor": "white",
            "ticks": ""
           },
           "baxis": {
            "gridcolor": "white",
            "linecolor": "white",
            "ticks": ""
           },
           "bgcolor": "#E5ECF6",
           "caxis": {
            "gridcolor": "white",
            "linecolor": "white",
            "ticks": ""
           }
          },
          "title": {
           "x": 0.05
          },
          "xaxis": {
           "automargin": true,
           "gridcolor": "white",
           "linecolor": "white",
           "ticks": "",
           "title": {
            "standoff": 15
           },
           "zerolinecolor": "white",
           "zerolinewidth": 2
          },
          "yaxis": {
           "automargin": true,
           "gridcolor": "white",
           "linecolor": "white",
           "ticks": "",
           "title": {
            "standoff": 15
           },
           "zerolinecolor": "white",
           "zerolinewidth": 2
          }
         }
        },
        "title": {
         "text": "Distribución de Valores MT"
        },
        "xaxis": {
         "anchor": "y",
         "domain": [
          0,
          1
         ],
         "title": {
          "text": "Valor MT"
         }
        },
        "xaxis2": {
         "anchor": "y2",
         "domain": [
          0,
          1
         ],
         "matches": "x",
         "showgrid": true,
         "showticklabels": false
        },
        "yaxis": {
         "anchor": "x",
         "domain": [
          0,
          0.7326
         ],
         "title": {
          "text": "Frecuencia"
         }
        },
        "yaxis2": {
         "anchor": "x2",
         "domain": [
          0.7426,
          1
         ],
         "matches": "y2",
         "showgrid": false,
         "showline": false,
         "showticklabels": false,
         "ticks": ""
        }
       }
      }
     },
     "metadata": {},
     "output_type": "display_data"
    },
    {
     "name": "stdout",
     "output_type": "stream",
     "text": [
      "\n",
      "--- Resumen Estadístico de MT ---\n",
      "Mínimo: -2.30160\n",
      "Máximo: 0.00000\n",
      "Promedio: -0.20221\n",
      "Mediana: 0.00000\n",
      "\n",
      "--- 5 Pares con Mayor Descoordinación ---\n",
      "Par: R45-R71 (Líneas: L8-9-L9-15), Falla: 90, MT: -2.30160, Delta_t: -2.30160\n",
      "Par: R45-R46 (Líneas: L8-9-L9-10), Falla: 90, MT: -2.30160, Delta_t: -2.30160\n",
      "Par: R9-R71 (Líneas: L9-10-L9-15), Falla: 10, MT: -2.27900, Delta_t: -2.27900\n",
      "Par: R9-R8 (Líneas: L9-10-L8-9), Falla: 10, MT: -2.27900, Delta_t: -2.27900\n",
      "Par: R2-R1 (Líneas: L2-3-L1-2), Falla: 10, MT: -2.10740, Delta_t: -2.10740\n"
     ]
    }
   ],
   "source": [
    "import json\n",
    "import os\n",
    "import math\n",
    "import copy # Para crear copias de los diccionarios si es necesario\n",
    "\n",
    "# --- Constantes ---\n",
    "CTI = 0.2  # Intervalo de tiempo de coordinación típico (en segundos)\n",
    "TARGET_SCENARIO_ID = \"scenario_15\" # Escenario específico a analizar\n",
    "\n",
    "# --- Ruta del archivo ---\n",
    "input_file = \"/Users/gustavo/Documents/Projects/TESIS_UNAL/ADAPTIVE_ALGORITHM/data/processed/independent_relay_pairs_optimization.json\"\n",
    "\n",
    "print(f\"Archivo de entrada: {input_file}\")\n",
    "print(f\"Analizando SOLAMENTE para: '{TARGET_SCENARIO_ID}'\")\n",
    "\n",
    "# Listas para clasificar los pares del escenario objetivo\n",
    "coordinated_pairs = []\n",
    "uncoordinated_pairs = []\n",
    "\n",
    "try:\n",
    "    # 1. Cargar el archivo JSON (lista de pares)\n",
    "    print(\"Cargando datos (lista de pares)...\")\n",
    "    with open(input_file, 'r') as f:\n",
    "        relay_pairs_data = json.load(f)\n",
    "    print(\"Datos cargados correctamente.\")\n",
    "\n",
    "    # Validar que es una lista\n",
    "    if not isinstance(relay_pairs_data, list):\n",
    "        raise TypeError(f\"Error: El archivo {input_file} no contiene una lista JSON.\")\n",
    "\n",
    "    # 2. Procesar cada par de relés, filtrando por scenario_id\n",
    "    print(f\"Calculando delta_t, mt y clasificando pares para '{TARGET_SCENARIO_ID}'...\")\n",
    "    total_pairs_read = 0\n",
    "    scenario_pairs_found = 0\n",
    "    skipped_pairs_count = 0 # Pares omitidos DENTRO del scenario_id objetivo\n",
    "\n",
    "    for pair_entry in relay_pairs_data:\n",
    "        total_pairs_read += 1\n",
    "        if not isinstance(pair_entry, dict):\n",
    "            # Contar como leído pero no procesado si no es diccionario\n",
    "            continue\n",
    "\n",
    "        # --- FILTRAR POR SCENARIO_ID ---\n",
    "        current_scenario_id = pair_entry.get(\"scenario_id\")\n",
    "        if current_scenario_id != TARGET_SCENARIO_ID:\n",
    "            continue # Omitir este par si no es del escenario objetivo\n",
    "        # ---------------------------------\n",
    "\n",
    "        # Si llegamos aquí, el par pertenece a TARGET_SCENARIO_ID\n",
    "        scenario_pairs_found += 1\n",
    "\n",
    "        # Obtener información de los relés de forma segura\n",
    "        main_relay_info = pair_entry.get('main_relay')\n",
    "        backup_relay_info = pair_entry.get('backup_relay')\n",
    "\n",
    "        if not isinstance(main_relay_info, dict) or not isinstance(backup_relay_info, dict):\n",
    "            print(f\"Advertencia ({TARGET_SCENARIO_ID}): Falta información de relé principal o de respaldo en: {pair_entry.get('line', 'N/A')}-{pair_entry.get('fault', 'N/A')}. Par omitido.\")\n",
    "            skipped_pairs_count += 1\n",
    "            continue\n",
    "\n",
    "        # Obtener tiempos de operación de forma segura\n",
    "        main_time = main_relay_info.get('Time_out')\n",
    "        backup_time = backup_relay_info.get('Time_out')\n",
    "\n",
    "        # Validar que los tiempos son números\n",
    "        if not isinstance(main_time, (int, float)) or not isinstance(backup_time, (int, float)):\n",
    "            print(f\"Advertencia ({TARGET_SCENARIO_ID}): Tiempo(s) de operación no numéricos o faltantes en: {pair_entry.get('line', 'N/A')}-{pair_entry.get('fault', 'N/A')} (Main: {main_time}, Backup: {backup_time}). Par omitido.\")\n",
    "            skipped_pairs_count += 1\n",
    "            continue\n",
    "\n",
    "        # --- Realizar Cálculos ---\n",
    "        delta_t = backup_time - main_time - CTI\n",
    "        mt = (delta_t - abs(delta_t)) / 2  # Penalización solo si delta_t es negativo\n",
    "\n",
    "        # Crear una copia del par y añadirle los resultados del cálculo\n",
    "        pair_info = copy.deepcopy(pair_entry)\n",
    "        pair_info['delta_t'] = delta_t\n",
    "        pair_info['mt'] = mt\n",
    "\n",
    "        # --- Clasificar (solo pares del TARGET_SCENARIO_ID) ---\n",
    "        if delta_t >= 0:\n",
    "            coordinated_pairs.append(pair_info)\n",
    "        else:\n",
    "            uncoordinated_pairs.append(pair_info)\n",
    "\n",
    "    print(\"Procesamiento de pares completado.\")\n",
    "\n",
    "    # 3. Calcular Métricas Finales (solo para TARGET_SCENARIO_ID)\n",
    "    if scenario_pairs_found == 0:\n",
    "         print (f\"No se encontraron pares válidos para '{TARGET_SCENARIO_ID}' en el archivo.\")\n",
    "    else:\n",
    "        total_valid_pairs_scenario = len(coordinated_pairs) + len(uncoordinated_pairs) # Pares válidos DENTRO del escenario\n",
    "        miscoordination_count_scenario = len(uncoordinated_pairs)\n",
    "        # Sumar 'mt' solo de los pares del escenario objetivo (que son los únicos en las listas)\n",
    "        tmt_total_scenario = sum(pair[\"mt\"] for pair in coordinated_pairs + uncoordinated_pairs)\n",
    "\n",
    "\n",
    "        # 4. Imprimir Resultados\n",
    "        print(f\"\\n--- Resultados del Análisis de Coordinación para '{TARGET_SCENARIO_ID}' ---\")\n",
    "        print(f\"Total de pares leídos del archivo: {total_pairs_read}\")\n",
    "        print(f\"Total de pares encontrados para '{TARGET_SCENARIO_ID}': {scenario_pairs_found}\")\n",
    "        if skipped_pairs_count > 0:\n",
    "            print(f\"Pares omitidos DENTRO de '{TARGET_SCENARIO_ID}' (datos inválidos/faltantes): {skipped_pairs_count}\")\n",
    "        print(f\"Total de pares válidos analizados para '{TARGET_SCENARIO_ID}': {total_valid_pairs_scenario}\")\n",
    "        print(f\"Número de pares coordinados (delta_t >= 0) en '{TARGET_SCENARIO_ID}': {len(coordinated_pairs)}\")\n",
    "        print(f\"Número de pares DESCOORDINADOS (delta_t < 0) en '{TARGET_SCENARIO_ID}': {miscoordination_count_scenario}\")\n",
    "        print(f\"Suma total de penalización por descoordinación (TMT Total) para '{TARGET_SCENARIO_ID}': {tmt_total_scenario:.5f}\") # Imprimir con 5 decimales\n",
    "\n",
    "except FileNotFoundError:\n",
    "    print(f\"Error CRÍTICO: No se pudo encontrar el archivo de entrada: {input_file}\")\n",
    "except TypeError as e:\n",
    "    print(f\"Error CRÍTICO: Problema con el tipo de datos esperado en el archivo JSON: {e}\")\n",
    "except json.JSONDecodeError as e:\n",
    "    print(f\"Error CRÍTICO: El archivo de entrada JSON ({input_file}) está mal formado: {e}\")\n",
    "except Exception as e:\n",
    "    import traceback\n",
    "    print(f\"Error inesperado durante el procesamiento: {e}\")\n",
    "    print(\"--- Traceback ---\")\n",
    "    traceback.print_exc()\n",
    "    print(\"-----------------\")\n",
    "\n",
    "import plotly.graph_objects as go\n",
    "import plotly.express as px\n",
    "import pandas as pd\n",
    "import numpy as np\n",
    "\n",
    "# Preparar los datos para la gráfica\n",
    "def prepare_data_for_plot(coordinated_pairs, uncoordinated_pairs):\n",
    "    # Combinar ambas listas\n",
    "    all_pairs = coordinated_pairs + uncoordinated_pairs\n",
    "    \n",
    "    # Crear un DataFrame para facilitar el manejo de datos\n",
    "    pairs_data = []\n",
    "    for idx, pair in enumerate(all_pairs):\n",
    "        # CORRECCIÓN: Cambiar 'RelayID' por 'relay' para obtener los identificadores correctos\n",
    "        main_relay_name = pair.get('main_relay', {}).get('relay', f\"Main_{idx}\")\n",
    "        backup_relay_name = pair.get('backup_relay', {}).get('relay', f\"Backup_{idx}\")\n",
    "        pair_name = f\"{main_relay_name}-{backup_relay_name}\"\n",
    "        \n",
    "        # También obtener las líneas si están disponibles\n",
    "        main_line = pair.get('main_relay', {}).get('line', 'N/A')\n",
    "        backup_line = pair.get('backup_relay', {}).get('line', 'N/A')\n",
    "        \n",
    "        pairs_data.append({\n",
    "            'index': idx + 1,  # Para enumerar los pares\n",
    "            'pair_name': pair_name,\n",
    "            'main_relay': main_relay_name,\n",
    "            'backup_relay': backup_relay_name,\n",
    "            'main_line': main_line,\n",
    "            'backup_line': backup_line,\n",
    "            'mt': pair.get('mt', 0),\n",
    "            'delta_t': pair.get('delta_t', 0),\n",
    "            'status': 'Coordinado' if pair.get('delta_t', 0) >= 0 else 'Descoordinado',\n",
    "            'line': pair.get('line', 'N/A'),\n",
    "            'fault': pair.get('fault', 'N/A')\n",
    "        })\n",
    "    \n",
    "    return pd.DataFrame(pairs_data)\n",
    "\n",
    "# Crear la visualización\n",
    "def plot_mt_values(df):\n",
    "    # Ordenar por valor de MT (de peor a mejor)\n",
    "    df_sorted = df.sort_values(by='mt')\n",
    "    \n",
    "    # Crear un gráfico de barras para MT\n",
    "    fig = go.Figure()\n",
    "    \n",
    "    # Añadir barras para pares coordinados (en verde)\n",
    "    coordinated_df = df_sorted[df_sorted['status'] == 'Coordinado']\n",
    "    fig.add_trace(go.Bar(\n",
    "        x=coordinated_df['index'],\n",
    "        y=coordinated_df['mt'],\n",
    "        name='Pares Coordinados',\n",
    "        marker_color='green',\n",
    "        text=coordinated_df['pair_name'],\n",
    "        hovertemplate='<b>%{text}</b><br>MT: %{y:.5f}<br>Índice: %{x}<extra></extra>'\n",
    "    ))\n",
    "    \n",
    "    # Añadir barras para pares descoordinados (en rojo)\n",
    "    uncoordinated_df = df_sorted[df_sorted['status'] == 'Descoordinado']\n",
    "    fig.add_trace(go.Bar(\n",
    "        x=uncoordinated_df['index'],\n",
    "        y=uncoordinated_df['mt'],\n",
    "        name='Pares Descoordinados',\n",
    "        marker_color='red',\n",
    "        text=uncoordinated_df['pair_name'],\n",
    "        hovertemplate='<b>%{text}</b><br>MT: %{y:.5f}<br>Índice: %{x}<extra></extra>'\n",
    "    ))\n",
    "    \n",
    "    # Añadir una línea horizontal en y=0\n",
    "    fig.add_shape(\n",
    "        type='line',\n",
    "        x0=0,\n",
    "        y0=0,\n",
    "        x1=len(df),\n",
    "        y1=0,\n",
    "        line=dict(color='black', width=1, dash='dash')\n",
    "    )\n",
    "    \n",
    "    # Personalizar la apariencia\n",
    "    fig.update_layout(\n",
    "        title=f'Índice MT para {len(df)} Pares de Relés en el Escenario Base',\n",
    "        xaxis_title='Índice del Par de Relés',\n",
    "        yaxis_title='Valor MT (Penalización)',\n",
    "        barmode='group',\n",
    "        xaxis=dict(\n",
    "            tickmode='linear',\n",
    "            tick0=1,\n",
    "            dtick=5,\n",
    "        ),\n",
    "        legend=dict(\n",
    "            x=0.01,\n",
    "            y=0.99,\n",
    "            bgcolor='rgba(255, 255, 255, 0.5)',\n",
    "            bordercolor='rgba(0, 0, 0, 0.5)'\n",
    "        )\n",
    "    )\n",
    "    \n",
    "    # Mostrar el gráfico\n",
    "    fig.show()\n",
    "\n",
    "    # También crear una gráfica de delta_t para ver la diferencia de tiempos\n",
    "    fig_delta = px.scatter(\n",
    "        df_sorted,\n",
    "        x='index',\n",
    "        y='delta_t',\n",
    "        color='status',\n",
    "        color_discrete_map={'Coordinado': 'green', 'Descoordinado': 'red'},\n",
    "        hover_data=['pair_name', 'delta_t', 'mt'],\n",
    "        title=f'Delta_t para {len(df)} Pares de Relés (CTI = {CTI}s)'\n",
    "    )\n",
    "    \n",
    "    # Añadir línea de CTI\n",
    "    fig_delta.add_shape(\n",
    "        type='line',\n",
    "        x0=0,\n",
    "        y0=0,\n",
    "        x1=len(df),\n",
    "        y1=0,\n",
    "        line=dict(color='black', width=1, dash='dash')\n",
    "    )\n",
    "    \n",
    "    fig_delta.update_layout(\n",
    "        xaxis_title='Índice del Par de Relés',\n",
    "        yaxis_title='Delta_t - CTI (s)',\n",
    "        xaxis=dict(\n",
    "            tickmode='linear',\n",
    "            tick0=1,\n",
    "            dtick=5,\n",
    "        )\n",
    "    )\n",
    "    \n",
    "    fig_delta.show()\n",
    "    \n",
    "    # Gráfico de distribución de valores MT\n",
    "    fig_hist = px.histogram(\n",
    "        df_sorted, \n",
    "        x='mt',\n",
    "        color='status',\n",
    "        color_discrete_map={'Coordinado': 'green', 'Descoordinado': 'red'},\n",
    "        marginal='box',\n",
    "        title=\"Distribución de Valores MT\"\n",
    "    )\n",
    "    fig_hist.update_layout(\n",
    "        xaxis_title='Valor MT',\n",
    "        yaxis_title='Frecuencia',\n",
    "    )\n",
    "    fig_hist.show()\n",
    "\n",
    "# Ejecutar la visualización\n",
    "try:\n",
    "    # Preparar los datos\n",
    "    df = prepare_data_for_plot(coordinated_pairs, uncoordinated_pairs)\n",
    "    \n",
    "    # Generar las gráficas\n",
    "    plot_mt_values(df)\n",
    "    \n",
    "    # Mostrar un resumen estadístico\n",
    "    print(\"\\n--- Resumen Estadístico de MT ---\")\n",
    "    print(f\"Mínimo: {df['mt'].min():.5f}\")\n",
    "    print(f\"Máximo: {df['mt'].max():.5f}\")  # CORREGIDO: era min(), ahora es max()\n",
    "    print(f\"Promedio: {df['mt'].mean():.5f}\")\n",
    "    print(f\"Mediana: {df['mt'].median():.5f}\")\n",
    "    \n",
    "    # Identificar los 5 pares con peor descoordinación (MT más negativo)\n",
    "    if len(df[df['status'] == 'Descoordinado']) > 0:\n",
    "        print(\"\\n--- 5 Pares con Mayor Descoordinación ---\")\n",
    "        worst_pairs = df.sort_values(by='mt').head(5)\n",
    "        for idx, row in worst_pairs.iterrows():\n",
    "            # MEJORADO: Incluir más información útil en el resumen\n",
    "            print(f\"Par: {row['pair_name']} (Líneas: {row['main_line']}-{row['backup_line']}), Falla: {row['fault']}, MT: {row['mt']:.5f}, Delta_t: {row['delta_t']:.5f}\")\n",
    "    \n",
    "except Exception as e:\n",
    "    print(f\"Error al crear las gráficas: {e}\")\n"
   ]
  },
  {
   "cell_type": "markdown",
   "metadata": {},
   "source": [
    "# 🚀🚀🚀"
   ]
  },
  {
   "cell_type": "markdown",
   "metadata": {},
   "source": [
    "# Analisys"
   ]
  },
  {
   "cell_type": "code",
   "execution_count": 6,
   "metadata": {},
   "outputs": [
    {
     "name": "stdout",
     "output_type": "stream",
     "text": [
      "Cargando datos desde: /Users/gustavo/Documents/Projects/TESIS_UNAL/ADAPTIVE_ALGORITHM/data/processed/independent_relay_pairs_optimization.json\n",
      "Calculando TMT por escenario...\n",
      "\n",
      "--- Resultados por Escenario ---\n",
      "Escenario       Pares Válidos   Coordinados     Descoordinados  % Coordin.      TMT            \n",
      "------------------------------------------------------------------------------------------\n",
      "scenario_1      100             87              13              87.0%           -0.73930\n",
      "scenario_10     100             90              10              90.0%           -19.95510\n",
      "scenario_11     100             91              9               91.0%           -17.32250\n",
      "scenario_12     100             90              10              90.0%           -18.72680\n",
      "scenario_13     100             88              12              88.0%           -19.71930\n",
      "scenario_14     100             89              11              89.0%           -19.22260\n",
      "scenario_15     100             89              11              89.0%           -20.22100\n",
      "scenario_16     100             88              12              88.0%           -19.98520\n",
      "scenario_17     100             92              8               92.0%           -17.41480\n",
      "scenario_18     100             87              13              87.0%           -18.68940\n",
      "scenario_19     100             89              11              89.0%           -18.60860\n",
      "scenario_2      100             90              10              90.0%           -19.58760\n",
      "scenario_20     100             90              10              90.0%           -19.02860\n",
      "scenario_21     100             93              7               93.0%           -0.35300\n",
      "scenario_22     100             92              8               92.0%           -0.37330\n",
      "scenario_23     100             80              20              80.0%           -1.59470\n",
      "scenario_24     100             93              7               93.0%           -0.30390\n",
      "scenario_25     100             95              5               95.0%           -0.11710\n",
      "scenario_26     100             83              17              83.0%           -0.71190\n",
      "scenario_27     100             84              16              84.0%           -1.03180\n",
      "scenario_28     100             88              12              88.0%           -0.55960\n",
      "scenario_29     100             87              13              87.0%           -0.60610\n",
      "scenario_3      100             91              9               91.0%           -19.23740\n",
      "scenario_30     100             91              9               91.0%           -0.32290\n",
      "scenario_31     100             88              12              88.0%           -0.56410\n",
      "scenario_32     100             86              14              86.0%           -0.58600\n",
      "scenario_33     100             86              14              86.0%           -0.80790\n",
      "scenario_34     100             97              3               97.0%           -0.20690\n",
      "scenario_35     100             93              7               93.0%           -0.23850\n",
      "scenario_36     100             92              8               92.0%           -0.49580\n",
      "scenario_37     100             88              12              88.0%           -19.73940\n",
      "scenario_38     100             88              12              88.0%           -19.55650\n",
      "scenario_39     100             91              9               91.0%           -19.83910\n",
      "scenario_4      100             89              11              89.0%           -0.51750\n",
      "scenario_40     100             91              9               91.0%           -19.39860\n",
      "scenario_41     100             89              11              89.0%           -18.69680\n",
      "scenario_42     100             91              9               91.0%           -18.83230\n",
      "scenario_43     100             91              9               91.0%           -18.17140\n",
      "scenario_44     100             91              9               91.0%           -18.15220\n",
      "scenario_45     100             89              11              89.0%           -19.89780\n",
      "scenario_46     100             90              10              90.0%           -19.13270\n",
      "scenario_47     100             90              10              90.0%           -19.16290\n",
      "scenario_48     100             88              12              88.0%           -19.45440\n",
      "scenario_49     100             92              8               92.0%           -17.67330\n",
      "scenario_5      100             90              10              90.0%           -19.74950\n",
      "scenario_50     100             92              8               92.0%           -17.89430\n",
      "scenario_51     100             89              11              89.0%           -17.00610\n",
      "scenario_52     100             88              12              88.0%           -17.14540\n",
      "scenario_53     100             89              11              89.0%           -0.53900\n",
      "scenario_54     100             97              3               97.0%           -0.13860\n",
      "scenario_55     100             92              8               92.0%           -0.49530\n",
      "scenario_56     100             94              6               94.0%           -0.35770\n",
      "scenario_57     100             91              9               91.0%           -0.68320\n",
      "scenario_58     100             91              9               91.0%           -0.35940\n",
      "scenario_59     100             85              15              85.0%           -1.10130\n",
      "scenario_6      100             89              11              89.0%           -20.04720\n",
      "scenario_60     100             94              6               94.0%           -0.24280\n",
      "scenario_61     100             86              14              86.0%           -0.59150\n",
      "scenario_62     100             91              9               91.0%           -0.40880\n",
      "scenario_63     100             82              18              82.0%           -0.89540\n",
      "scenario_64     100             79              21              79.0%           -1.80930\n",
      "scenario_65     100             87              13              87.0%           -0.84160\n",
      "scenario_66     100             95              5               95.0%           -0.23300\n",
      "scenario_67     100             96              4               96.0%           -0.22470\n",
      "scenario_68     100             89              11              89.0%           -0.73450\n",
      "scenario_7      100             89              11              89.0%           -18.60720\n",
      "scenario_8      100             90              10              90.0%           -19.80500\n",
      "scenario_9      100             90              10              90.0%           -19.11650\n",
      "\n",
      "Total de pares leídos: 6800\n",
      "Pares omitidos (datos inválidos/faltantes): 0\n",
      "\n",
      "Gráfico de TMT guardado en: /Users/gustavo/Documents/Projects/TESIS_UNAL/ADAPTIVE_ALGORITHM/data/processed/tmt_by_scenario.html\n",
      "Gráfico de Porcentaje de Coordinación guardado en: /Users/gustavo/Documents/Projects/TESIS_UNAL/ADAPTIVE_ALGORITHM/data/processed/coordination_percentage_by_scenario.html\n"
     ]
    },
    {
     "data": {
      "application/vnd.plotly.v1+json": {
       "config": {
        "plotlyServerURL": "https://plot.ly"
       },
       "data": [
        {
         "alignmentgroup": "True",
         "customdata": [
          [
           87,
           13,
           100,
           87
          ],
          [
           90,
           10,
           100,
           90
          ],
          [
           91,
           9,
           100,
           91
          ],
          [
           90,
           10,
           100,
           90
          ],
          [
           88,
           12,
           100,
           88
          ],
          [
           89,
           11,
           100,
           89
          ],
          [
           89,
           11,
           100,
           89
          ],
          [
           88,
           12,
           100,
           88
          ],
          [
           92,
           8,
           100,
           92
          ],
          [
           87,
           13,
           100,
           87
          ],
          [
           89,
           11,
           100,
           89
          ],
          [
           90,
           10,
           100,
           90
          ],
          [
           90,
           10,
           100,
           90
          ],
          [
           93,
           7,
           100,
           93
          ],
          [
           92,
           8,
           100,
           92
          ],
          [
           80,
           20,
           100,
           80
          ],
          [
           93,
           7,
           100,
           93
          ],
          [
           95,
           5,
           100,
           95
          ],
          [
           83,
           17,
           100,
           83
          ],
          [
           84,
           16,
           100,
           84
          ],
          [
           88,
           12,
           100,
           88
          ],
          [
           87,
           13,
           100,
           87
          ],
          [
           91,
           9,
           100,
           91
          ],
          [
           91,
           9,
           100,
           91
          ],
          [
           88,
           12,
           100,
           88
          ],
          [
           86,
           14,
           100,
           86
          ],
          [
           86,
           14,
           100,
           86
          ],
          [
           97,
           3,
           100,
           97
          ],
          [
           93,
           7,
           100,
           93
          ],
          [
           92,
           8,
           100,
           92
          ],
          [
           88,
           12,
           100,
           88
          ],
          [
           88,
           12,
           100,
           88
          ],
          [
           91,
           9,
           100,
           91
          ],
          [
           89,
           11,
           100,
           89
          ],
          [
           91,
           9,
           100,
           91
          ],
          [
           89,
           11,
           100,
           89
          ],
          [
           91,
           9,
           100,
           91
          ],
          [
           91,
           9,
           100,
           91
          ],
          [
           91,
           9,
           100,
           91
          ],
          [
           89,
           11,
           100,
           89
          ],
          [
           90,
           10,
           100,
           90
          ],
          [
           90,
           10,
           100,
           90
          ],
          [
           88,
           12,
           100,
           88
          ],
          [
           92,
           8,
           100,
           92
          ],
          [
           90,
           10,
           100,
           90
          ],
          [
           92,
           8,
           100,
           92
          ],
          [
           89,
           11,
           100,
           89
          ],
          [
           88,
           12,
           100,
           88
          ],
          [
           89,
           11,
           100,
           89
          ],
          [
           97,
           3,
           100,
           97
          ],
          [
           92,
           8,
           100,
           92
          ],
          [
           94,
           6,
           100,
           94
          ],
          [
           91,
           9,
           100,
           91
          ],
          [
           91,
           9,
           100,
           91
          ],
          [
           85,
           15,
           100,
           85
          ],
          [
           89,
           11,
           100,
           89
          ],
          [
           94,
           6,
           100,
           94
          ],
          [
           86,
           14,
           100,
           86
          ],
          [
           91,
           9,
           100,
           91
          ],
          [
           82,
           18,
           100,
           82
          ],
          [
           79,
           21,
           100,
           79
          ],
          [
           87,
           13,
           100,
           87
          ],
          [
           95,
           5,
           100,
           95
          ],
          [
           96,
           4,
           100,
           96
          ],
          [
           89,
           11,
           100,
           89
          ],
          [
           89,
           11,
           100,
           89
          ],
          [
           90,
           10,
           100,
           90
          ],
          [
           90,
           10,
           100,
           90
          ]
         ],
         "hovertemplate": "Escenario=%{x}<br>Total Miscoordination Time=%{marker.color}<br>Pares Coordinados=%{customdata[0]}<br>Pares Descoordinados=%{customdata[1]}<br>Total Pares Válidos=%{customdata[2]}<br>Porcentaje Coordinación=%{customdata[3]}<extra></extra>",
         "legendgroup": "",
         "marker": {
          "color": [
           -0.7392999999999994,
           -19.9551,
           -17.3225,
           -18.726800000000004,
           -19.7193,
           -19.222600000000003,
           -20.221,
           -19.985200000000003,
           -17.414799999999996,
           -18.6894,
           -18.608599999999996,
           -19.5876,
           -19.028600000000004,
           -0.35299999999999904,
           -0.3733000000000002,
           -1.5947,
           -0.30390000000000067,
           -0.11710000000000004,
           -0.7118999999999995,
           -1.031800000000002,
           -0.5596000000000008,
           -0.6061000000000001,
           -19.237400000000004,
           -0.32290000000000046,
           -0.5640999999999994,
           -0.585999999999999,
           -0.8078999999999994,
           -0.20690000000000025,
           -0.2385000000000001,
           -0.4958,
           -19.739400000000003,
           -19.5565,
           -19.8391,
           -0.517499999999999,
           -19.3986,
           -18.696800000000003,
           -18.8323,
           -18.171400000000002,
           -18.1522,
           -19.8978,
           -19.1327,
           -19.162900000000004,
           -19.4544,
           -17.6733,
           -19.749499999999998,
           -17.8943,
           -17.0061,
           -17.1454,
           -0.5390000000000001,
           -0.1386,
           -0.4953000000000005,
           -0.35770000000000024,
           -0.6831999999999998,
           -0.3594000000000002,
           -1.1012999999999997,
           -20.0472,
           -0.24280000000000002,
           -0.5915000000000004,
           -0.40880000000000033,
           -0.8953999999999998,
           -1.809299999999999,
           -0.8416000000000003,
           -0.2330000000000006,
           -0.22469999999999968,
           -0.7344999999999999,
           -18.6072,
           -19.804999999999996,
           -19.116500000000002
          ],
          "coloraxis": "coloraxis",
          "pattern": {
           "shape": ""
          }
         },
         "name": "",
         "offsetgroup": "",
         "orientation": "v",
         "showlegend": false,
         "text": [
          -0.7392999999999994,
          -19.9551,
          -17.3225,
          -18.726800000000004,
          -19.7193,
          -19.222600000000003,
          -20.221,
          -19.985200000000003,
          -17.414799999999996,
          -18.6894,
          -18.608599999999996,
          -19.5876,
          -19.028600000000004,
          -0.35299999999999904,
          -0.3733000000000002,
          -1.5947,
          -0.30390000000000067,
          -0.11710000000000004,
          -0.7118999999999995,
          -1.031800000000002,
          -0.5596000000000008,
          -0.6061000000000001,
          -19.237400000000004,
          -0.32290000000000046,
          -0.5640999999999994,
          -0.585999999999999,
          -0.8078999999999994,
          -0.20690000000000025,
          -0.2385000000000001,
          -0.4958,
          -19.739400000000003,
          -19.5565,
          -19.8391,
          -0.517499999999999,
          -19.3986,
          -18.696800000000003,
          -18.8323,
          -18.171400000000002,
          -18.1522,
          -19.8978,
          -19.1327,
          -19.162900000000004,
          -19.4544,
          -17.6733,
          -19.749499999999998,
          -17.8943,
          -17.0061,
          -17.1454,
          -0.5390000000000001,
          -0.1386,
          -0.4953000000000005,
          -0.35770000000000024,
          -0.6831999999999998,
          -0.3594000000000002,
          -1.1012999999999997,
          -20.0472,
          -0.24280000000000002,
          -0.5915000000000004,
          -0.40880000000000033,
          -0.8953999999999998,
          -1.809299999999999,
          -0.8416000000000003,
          -0.2330000000000006,
          -0.22469999999999968,
          -0.7344999999999999,
          -18.6072,
          -19.804999999999996,
          -19.116500000000002
         ],
         "textposition": "outside",
         "texttemplate": "%{text:.5f}",
         "type": "bar",
         "x": [
          "scenario_1",
          "scenario_10",
          "scenario_11",
          "scenario_12",
          "scenario_13",
          "scenario_14",
          "scenario_15",
          "scenario_16",
          "scenario_17",
          "scenario_18",
          "scenario_19",
          "scenario_2",
          "scenario_20",
          "scenario_21",
          "scenario_22",
          "scenario_23",
          "scenario_24",
          "scenario_25",
          "scenario_26",
          "scenario_27",
          "scenario_28",
          "scenario_29",
          "scenario_3",
          "scenario_30",
          "scenario_31",
          "scenario_32",
          "scenario_33",
          "scenario_34",
          "scenario_35",
          "scenario_36",
          "scenario_37",
          "scenario_38",
          "scenario_39",
          "scenario_4",
          "scenario_40",
          "scenario_41",
          "scenario_42",
          "scenario_43",
          "scenario_44",
          "scenario_45",
          "scenario_46",
          "scenario_47",
          "scenario_48",
          "scenario_49",
          "scenario_5",
          "scenario_50",
          "scenario_51",
          "scenario_52",
          "scenario_53",
          "scenario_54",
          "scenario_55",
          "scenario_56",
          "scenario_57",
          "scenario_58",
          "scenario_59",
          "scenario_6",
          "scenario_60",
          "scenario_61",
          "scenario_62",
          "scenario_63",
          "scenario_64",
          "scenario_65",
          "scenario_66",
          "scenario_67",
          "scenario_68",
          "scenario_7",
          "scenario_8",
          "scenario_9"
         ],
         "xaxis": "x",
         "y": [
          -0.7392999999999994,
          -19.9551,
          -17.3225,
          -18.726800000000004,
          -19.7193,
          -19.222600000000003,
          -20.221,
          -19.985200000000003,
          -17.414799999999996,
          -18.6894,
          -18.608599999999996,
          -19.5876,
          -19.028600000000004,
          -0.35299999999999904,
          -0.3733000000000002,
          -1.5947,
          -0.30390000000000067,
          -0.11710000000000004,
          -0.7118999999999995,
          -1.031800000000002,
          -0.5596000000000008,
          -0.6061000000000001,
          -19.237400000000004,
          -0.32290000000000046,
          -0.5640999999999994,
          -0.585999999999999,
          -0.8078999999999994,
          -0.20690000000000025,
          -0.2385000000000001,
          -0.4958,
          -19.739400000000003,
          -19.5565,
          -19.8391,
          -0.517499999999999,
          -19.3986,
          -18.696800000000003,
          -18.8323,
          -18.171400000000002,
          -18.1522,
          -19.8978,
          -19.1327,
          -19.162900000000004,
          -19.4544,
          -17.6733,
          -19.749499999999998,
          -17.8943,
          -17.0061,
          -17.1454,
          -0.5390000000000001,
          -0.1386,
          -0.4953000000000005,
          -0.35770000000000024,
          -0.6831999999999998,
          -0.3594000000000002,
          -1.1012999999999997,
          -20.0472,
          -0.24280000000000002,
          -0.5915000000000004,
          -0.40880000000000033,
          -0.8953999999999998,
          -1.809299999999999,
          -0.8416000000000003,
          -0.2330000000000006,
          -0.22469999999999968,
          -0.7344999999999999,
          -18.6072,
          -19.804999999999996,
          -19.116500000000002
         ],
         "yaxis": "y"
        }
       ],
       "layout": {
        "barmode": "relative",
        "coloraxis": {
         "colorbar": {
          "title": {
           "text": "Total Miscoordination Time"
          }
         },
         "colorscale": [
          [
           0,
           "#440154"
          ],
          [
           0.1111111111111111,
           "#482878"
          ],
          [
           0.2222222222222222,
           "#3e4989"
          ],
          [
           0.3333333333333333,
           "#31688e"
          ],
          [
           0.4444444444444444,
           "#26828e"
          ],
          [
           0.5555555555555556,
           "#1f9e89"
          ],
          [
           0.6666666666666666,
           "#35b779"
          ],
          [
           0.7777777777777778,
           "#6ece58"
          ],
          [
           0.8888888888888888,
           "#b5de2b"
          ],
          [
           1,
           "#fde725"
          ]
         ]
        },
        "font": {
         "size": 12
        },
        "height": 600,
        "legend": {
         "tracegroupgap": 0
        },
        "template": {
         "data": {
          "bar": [
           {
            "error_x": {
             "color": "#2a3f5f"
            },
            "error_y": {
             "color": "#2a3f5f"
            },
            "marker": {
             "line": {
              "color": "#E5ECF6",
              "width": 0.5
             },
             "pattern": {
              "fillmode": "overlay",
              "size": 10,
              "solidity": 0.2
             }
            },
            "type": "bar"
           }
          ],
          "barpolar": [
           {
            "marker": {
             "line": {
              "color": "#E5ECF6",
              "width": 0.5
             },
             "pattern": {
              "fillmode": "overlay",
              "size": 10,
              "solidity": 0.2
             }
            },
            "type": "barpolar"
           }
          ],
          "carpet": [
           {
            "aaxis": {
             "endlinecolor": "#2a3f5f",
             "gridcolor": "white",
             "linecolor": "white",
             "minorgridcolor": "white",
             "startlinecolor": "#2a3f5f"
            },
            "baxis": {
             "endlinecolor": "#2a3f5f",
             "gridcolor": "white",
             "linecolor": "white",
             "minorgridcolor": "white",
             "startlinecolor": "#2a3f5f"
            },
            "type": "carpet"
           }
          ],
          "choropleth": [
           {
            "colorbar": {
             "outlinewidth": 0,
             "ticks": ""
            },
            "type": "choropleth"
           }
          ],
          "contour": [
           {
            "colorbar": {
             "outlinewidth": 0,
             "ticks": ""
            },
            "colorscale": [
             [
              0,
              "#0d0887"
             ],
             [
              0.1111111111111111,
              "#46039f"
             ],
             [
              0.2222222222222222,
              "#7201a8"
             ],
             [
              0.3333333333333333,
              "#9c179e"
             ],
             [
              0.4444444444444444,
              "#bd3786"
             ],
             [
              0.5555555555555556,
              "#d8576b"
             ],
             [
              0.6666666666666666,
              "#ed7953"
             ],
             [
              0.7777777777777778,
              "#fb9f3a"
             ],
             [
              0.8888888888888888,
              "#fdca26"
             ],
             [
              1,
              "#f0f921"
             ]
            ],
            "type": "contour"
           }
          ],
          "contourcarpet": [
           {
            "colorbar": {
             "outlinewidth": 0,
             "ticks": ""
            },
            "type": "contourcarpet"
           }
          ],
          "heatmap": [
           {
            "colorbar": {
             "outlinewidth": 0,
             "ticks": ""
            },
            "colorscale": [
             [
              0,
              "#0d0887"
             ],
             [
              0.1111111111111111,
              "#46039f"
             ],
             [
              0.2222222222222222,
              "#7201a8"
             ],
             [
              0.3333333333333333,
              "#9c179e"
             ],
             [
              0.4444444444444444,
              "#bd3786"
             ],
             [
              0.5555555555555556,
              "#d8576b"
             ],
             [
              0.6666666666666666,
              "#ed7953"
             ],
             [
              0.7777777777777778,
              "#fb9f3a"
             ],
             [
              0.8888888888888888,
              "#fdca26"
             ],
             [
              1,
              "#f0f921"
             ]
            ],
            "type": "heatmap"
           }
          ],
          "heatmapgl": [
           {
            "colorbar": {
             "outlinewidth": 0,
             "ticks": ""
            },
            "colorscale": [
             [
              0,
              "#0d0887"
             ],
             [
              0.1111111111111111,
              "#46039f"
             ],
             [
              0.2222222222222222,
              "#7201a8"
             ],
             [
              0.3333333333333333,
              "#9c179e"
             ],
             [
              0.4444444444444444,
              "#bd3786"
             ],
             [
              0.5555555555555556,
              "#d8576b"
             ],
             [
              0.6666666666666666,
              "#ed7953"
             ],
             [
              0.7777777777777778,
              "#fb9f3a"
             ],
             [
              0.8888888888888888,
              "#fdca26"
             ],
             [
              1,
              "#f0f921"
             ]
            ],
            "type": "heatmapgl"
           }
          ],
          "histogram": [
           {
            "marker": {
             "pattern": {
              "fillmode": "overlay",
              "size": 10,
              "solidity": 0.2
             }
            },
            "type": "histogram"
           }
          ],
          "histogram2d": [
           {
            "colorbar": {
             "outlinewidth": 0,
             "ticks": ""
            },
            "colorscale": [
             [
              0,
              "#0d0887"
             ],
             [
              0.1111111111111111,
              "#46039f"
             ],
             [
              0.2222222222222222,
              "#7201a8"
             ],
             [
              0.3333333333333333,
              "#9c179e"
             ],
             [
              0.4444444444444444,
              "#bd3786"
             ],
             [
              0.5555555555555556,
              "#d8576b"
             ],
             [
              0.6666666666666666,
              "#ed7953"
             ],
             [
              0.7777777777777778,
              "#fb9f3a"
             ],
             [
              0.8888888888888888,
              "#fdca26"
             ],
             [
              1,
              "#f0f921"
             ]
            ],
            "type": "histogram2d"
           }
          ],
          "histogram2dcontour": [
           {
            "colorbar": {
             "outlinewidth": 0,
             "ticks": ""
            },
            "colorscale": [
             [
              0,
              "#0d0887"
             ],
             [
              0.1111111111111111,
              "#46039f"
             ],
             [
              0.2222222222222222,
              "#7201a8"
             ],
             [
              0.3333333333333333,
              "#9c179e"
             ],
             [
              0.4444444444444444,
              "#bd3786"
             ],
             [
              0.5555555555555556,
              "#d8576b"
             ],
             [
              0.6666666666666666,
              "#ed7953"
             ],
             [
              0.7777777777777778,
              "#fb9f3a"
             ],
             [
              0.8888888888888888,
              "#fdca26"
             ],
             [
              1,
              "#f0f921"
             ]
            ],
            "type": "histogram2dcontour"
           }
          ],
          "mesh3d": [
           {
            "colorbar": {
             "outlinewidth": 0,
             "ticks": ""
            },
            "type": "mesh3d"
           }
          ],
          "parcoords": [
           {
            "line": {
             "colorbar": {
              "outlinewidth": 0,
              "ticks": ""
             }
            },
            "type": "parcoords"
           }
          ],
          "pie": [
           {
            "automargin": true,
            "type": "pie"
           }
          ],
          "scatter": [
           {
            "fillpattern": {
             "fillmode": "overlay",
             "size": 10,
             "solidity": 0.2
            },
            "type": "scatter"
           }
          ],
          "scatter3d": [
           {
            "line": {
             "colorbar": {
              "outlinewidth": 0,
              "ticks": ""
             }
            },
            "marker": {
             "colorbar": {
              "outlinewidth": 0,
              "ticks": ""
             }
            },
            "type": "scatter3d"
           }
          ],
          "scattercarpet": [
           {
            "marker": {
             "colorbar": {
              "outlinewidth": 0,
              "ticks": ""
             }
            },
            "type": "scattercarpet"
           }
          ],
          "scattergeo": [
           {
            "marker": {
             "colorbar": {
              "outlinewidth": 0,
              "ticks": ""
             }
            },
            "type": "scattergeo"
           }
          ],
          "scattergl": [
           {
            "marker": {
             "colorbar": {
              "outlinewidth": 0,
              "ticks": ""
             }
            },
            "type": "scattergl"
           }
          ],
          "scattermapbox": [
           {
            "marker": {
             "colorbar": {
              "outlinewidth": 0,
              "ticks": ""
             }
            },
            "type": "scattermapbox"
           }
          ],
          "scatterpolar": [
           {
            "marker": {
             "colorbar": {
              "outlinewidth": 0,
              "ticks": ""
             }
            },
            "type": "scatterpolar"
           }
          ],
          "scatterpolargl": [
           {
            "marker": {
             "colorbar": {
              "outlinewidth": 0,
              "ticks": ""
             }
            },
            "type": "scatterpolargl"
           }
          ],
          "scatterternary": [
           {
            "marker": {
             "colorbar": {
              "outlinewidth": 0,
              "ticks": ""
             }
            },
            "type": "scatterternary"
           }
          ],
          "surface": [
           {
            "colorbar": {
             "outlinewidth": 0,
             "ticks": ""
            },
            "colorscale": [
             [
              0,
              "#0d0887"
             ],
             [
              0.1111111111111111,
              "#46039f"
             ],
             [
              0.2222222222222222,
              "#7201a8"
             ],
             [
              0.3333333333333333,
              "#9c179e"
             ],
             [
              0.4444444444444444,
              "#bd3786"
             ],
             [
              0.5555555555555556,
              "#d8576b"
             ],
             [
              0.6666666666666666,
              "#ed7953"
             ],
             [
              0.7777777777777778,
              "#fb9f3a"
             ],
             [
              0.8888888888888888,
              "#fdca26"
             ],
             [
              1,
              "#f0f921"
             ]
            ],
            "type": "surface"
           }
          ],
          "table": [
           {
            "cells": {
             "fill": {
              "color": "#EBF0F8"
             },
             "line": {
              "color": "white"
             }
            },
            "header": {
             "fill": {
              "color": "#C8D4E3"
             },
             "line": {
              "color": "white"
             }
            },
            "type": "table"
           }
          ]
         },
         "layout": {
          "annotationdefaults": {
           "arrowcolor": "#2a3f5f",
           "arrowhead": 0,
           "arrowwidth": 1
          },
          "autotypenumbers": "strict",
          "coloraxis": {
           "colorbar": {
            "outlinewidth": 0,
            "ticks": ""
           }
          },
          "colorscale": {
           "diverging": [
            [
             0,
             "#8e0152"
            ],
            [
             0.1,
             "#c51b7d"
            ],
            [
             0.2,
             "#de77ae"
            ],
            [
             0.3,
             "#f1b6da"
            ],
            [
             0.4,
             "#fde0ef"
            ],
            [
             0.5,
             "#f7f7f7"
            ],
            [
             0.6,
             "#e6f5d0"
            ],
            [
             0.7,
             "#b8e186"
            ],
            [
             0.8,
             "#7fbc41"
            ],
            [
             0.9,
             "#4d9221"
            ],
            [
             1,
             "#276419"
            ]
           ],
           "sequential": [
            [
             0,
             "#0d0887"
            ],
            [
             0.1111111111111111,
             "#46039f"
            ],
            [
             0.2222222222222222,
             "#7201a8"
            ],
            [
             0.3333333333333333,
             "#9c179e"
            ],
            [
             0.4444444444444444,
             "#bd3786"
            ],
            [
             0.5555555555555556,
             "#d8576b"
            ],
            [
             0.6666666666666666,
             "#ed7953"
            ],
            [
             0.7777777777777778,
             "#fb9f3a"
            ],
            [
             0.8888888888888888,
             "#fdca26"
            ],
            [
             1,
             "#f0f921"
            ]
           ],
           "sequentialminus": [
            [
             0,
             "#0d0887"
            ],
            [
             0.1111111111111111,
             "#46039f"
            ],
            [
             0.2222222222222222,
             "#7201a8"
            ],
            [
             0.3333333333333333,
             "#9c179e"
            ],
            [
             0.4444444444444444,
             "#bd3786"
            ],
            [
             0.5555555555555556,
             "#d8576b"
            ],
            [
             0.6666666666666666,
             "#ed7953"
            ],
            [
             0.7777777777777778,
             "#fb9f3a"
            ],
            [
             0.8888888888888888,
             "#fdca26"
            ],
            [
             1,
             "#f0f921"
            ]
           ]
          },
          "colorway": [
           "#636efa",
           "#EF553B",
           "#00cc96",
           "#ab63fa",
           "#FFA15A",
           "#19d3f3",
           "#FF6692",
           "#B6E880",
           "#FF97FF",
           "#FECB52"
          ],
          "font": {
           "color": "#2a3f5f"
          },
          "geo": {
           "bgcolor": "white",
           "lakecolor": "white",
           "landcolor": "#E5ECF6",
           "showlakes": true,
           "showland": true,
           "subunitcolor": "white"
          },
          "hoverlabel": {
           "align": "left"
          },
          "hovermode": "closest",
          "mapbox": {
           "style": "light"
          },
          "paper_bgcolor": "white",
          "plot_bgcolor": "#E5ECF6",
          "polar": {
           "angularaxis": {
            "gridcolor": "white",
            "linecolor": "white",
            "ticks": ""
           },
           "bgcolor": "#E5ECF6",
           "radialaxis": {
            "gridcolor": "white",
            "linecolor": "white",
            "ticks": ""
           }
          },
          "scene": {
           "xaxis": {
            "backgroundcolor": "#E5ECF6",
            "gridcolor": "white",
            "gridwidth": 2,
            "linecolor": "white",
            "showbackground": true,
            "ticks": "",
            "zerolinecolor": "white"
           },
           "yaxis": {
            "backgroundcolor": "#E5ECF6",
            "gridcolor": "white",
            "gridwidth": 2,
            "linecolor": "white",
            "showbackground": true,
            "ticks": "",
            "zerolinecolor": "white"
           },
           "zaxis": {
            "backgroundcolor": "#E5ECF6",
            "gridcolor": "white",
            "gridwidth": 2,
            "linecolor": "white",
            "showbackground": true,
            "ticks": "",
            "zerolinecolor": "white"
           }
          },
          "shapedefaults": {
           "line": {
            "color": "#2a3f5f"
           }
          },
          "ternary": {
           "aaxis": {
            "gridcolor": "white",
            "linecolor": "white",
            "ticks": ""
           },
           "baxis": {
            "gridcolor": "white",
            "linecolor": "white",
            "ticks": ""
           },
           "bgcolor": "#E5ECF6",
           "caxis": {
            "gridcolor": "white",
            "linecolor": "white",
            "ticks": ""
           }
          },
          "title": {
           "x": 0.05
          },
          "xaxis": {
           "automargin": true,
           "gridcolor": "white",
           "linecolor": "white",
           "ticks": "",
           "title": {
            "standoff": 15
           },
           "zerolinecolor": "white",
           "zerolinewidth": 2
          },
          "yaxis": {
           "automargin": true,
           "gridcolor": "white",
           "linecolor": "white",
           "ticks": "",
           "title": {
            "standoff": 15
           },
           "zerolinecolor": "white",
           "zerolinewidth": 2
          }
         }
        },
        "title": {
         "text": "Penalización Total por Descoordinación (TMT) por Escenario"
        },
        "width": 1000,
        "xaxis": {
         "anchor": "y",
         "categoryarray": [
          "scenario_1",
          "scenario_10",
          "scenario_11",
          "scenario_12",
          "scenario_13",
          "scenario_14",
          "scenario_15",
          "scenario_16",
          "scenario_17",
          "scenario_18",
          "scenario_19",
          "scenario_2",
          "scenario_20",
          "scenario_21",
          "scenario_22",
          "scenario_23",
          "scenario_24",
          "scenario_25",
          "scenario_26",
          "scenario_27",
          "scenario_28",
          "scenario_29",
          "scenario_3",
          "scenario_30",
          "scenario_31",
          "scenario_32",
          "scenario_33",
          "scenario_34",
          "scenario_35",
          "scenario_36",
          "scenario_37",
          "scenario_38",
          "scenario_39",
          "scenario_4",
          "scenario_40",
          "scenario_41",
          "scenario_42",
          "scenario_43",
          "scenario_44",
          "scenario_45",
          "scenario_46",
          "scenario_47",
          "scenario_48",
          "scenario_49",
          "scenario_5",
          "scenario_50",
          "scenario_51",
          "scenario_52",
          "scenario_53",
          "scenario_54",
          "scenario_55",
          "scenario_56",
          "scenario_57",
          "scenario_58",
          "scenario_59",
          "scenario_6",
          "scenario_60",
          "scenario_61",
          "scenario_62",
          "scenario_63",
          "scenario_64",
          "scenario_65",
          "scenario_66",
          "scenario_67",
          "scenario_68",
          "scenario_7",
          "scenario_8",
          "scenario_9"
         ],
         "categoryorder": "array",
         "domain": [
          0,
          1
         ],
         "title": {
          "text": "Escenarios"
         }
        },
        "yaxis": {
         "anchor": "x",
         "domain": [
          0,
          1
         ],
         "title": {
          "text": "TMT (Total Miscoordination Time)"
         }
        }
       }
      }
     },
     "metadata": {},
     "output_type": "display_data"
    },
    {
     "data": {
      "application/vnd.plotly.v1+json": {
       "config": {
        "plotlyServerURL": "https://plot.ly"
       },
       "data": [
        {
         "alignmentgroup": "True",
         "customdata": [
          [
           87,
           13,
           100,
           -0.7392999999999994
          ],
          [
           90,
           10,
           100,
           -19.9551
          ],
          [
           91,
           9,
           100,
           -17.3225
          ],
          [
           90,
           10,
           100,
           -18.726800000000004
          ],
          [
           88,
           12,
           100,
           -19.7193
          ],
          [
           89,
           11,
           100,
           -19.222600000000003
          ],
          [
           89,
           11,
           100,
           -20.221
          ],
          [
           88,
           12,
           100,
           -19.985200000000003
          ],
          [
           92,
           8,
           100,
           -17.414799999999996
          ],
          [
           87,
           13,
           100,
           -18.6894
          ],
          [
           89,
           11,
           100,
           -18.608599999999996
          ],
          [
           90,
           10,
           100,
           -19.5876
          ],
          [
           90,
           10,
           100,
           -19.028600000000004
          ],
          [
           93,
           7,
           100,
           -0.35299999999999904
          ],
          [
           92,
           8,
           100,
           -0.3733000000000002
          ],
          [
           80,
           20,
           100,
           -1.5947
          ],
          [
           93,
           7,
           100,
           -0.30390000000000067
          ],
          [
           95,
           5,
           100,
           -0.11710000000000004
          ],
          [
           83,
           17,
           100,
           -0.7118999999999995
          ],
          [
           84,
           16,
           100,
           -1.031800000000002
          ],
          [
           88,
           12,
           100,
           -0.5596000000000008
          ],
          [
           87,
           13,
           100,
           -0.6061000000000001
          ],
          [
           91,
           9,
           100,
           -19.237400000000004
          ],
          [
           91,
           9,
           100,
           -0.32290000000000046
          ],
          [
           88,
           12,
           100,
           -0.5640999999999994
          ],
          [
           86,
           14,
           100,
           -0.585999999999999
          ],
          [
           86,
           14,
           100,
           -0.8078999999999994
          ],
          [
           97,
           3,
           100,
           -0.20690000000000025
          ],
          [
           93,
           7,
           100,
           -0.2385000000000001
          ],
          [
           92,
           8,
           100,
           -0.4958
          ],
          [
           88,
           12,
           100,
           -19.739400000000003
          ],
          [
           88,
           12,
           100,
           -19.5565
          ],
          [
           91,
           9,
           100,
           -19.8391
          ],
          [
           89,
           11,
           100,
           -0.517499999999999
          ],
          [
           91,
           9,
           100,
           -19.3986
          ],
          [
           89,
           11,
           100,
           -18.696800000000003
          ],
          [
           91,
           9,
           100,
           -18.8323
          ],
          [
           91,
           9,
           100,
           -18.171400000000002
          ],
          [
           91,
           9,
           100,
           -18.1522
          ],
          [
           89,
           11,
           100,
           -19.8978
          ],
          [
           90,
           10,
           100,
           -19.1327
          ],
          [
           90,
           10,
           100,
           -19.162900000000004
          ],
          [
           88,
           12,
           100,
           -19.4544
          ],
          [
           92,
           8,
           100,
           -17.6733
          ],
          [
           90,
           10,
           100,
           -19.749499999999998
          ],
          [
           92,
           8,
           100,
           -17.8943
          ],
          [
           89,
           11,
           100,
           -17.0061
          ],
          [
           88,
           12,
           100,
           -17.1454
          ],
          [
           89,
           11,
           100,
           -0.5390000000000001
          ],
          [
           97,
           3,
           100,
           -0.1386
          ],
          [
           92,
           8,
           100,
           -0.4953000000000005
          ],
          [
           94,
           6,
           100,
           -0.35770000000000024
          ],
          [
           91,
           9,
           100,
           -0.6831999999999998
          ],
          [
           91,
           9,
           100,
           -0.3594000000000002
          ],
          [
           85,
           15,
           100,
           -1.1012999999999997
          ],
          [
           89,
           11,
           100,
           -20.0472
          ],
          [
           94,
           6,
           100,
           -0.24280000000000002
          ],
          [
           86,
           14,
           100,
           -0.5915000000000004
          ],
          [
           91,
           9,
           100,
           -0.40880000000000033
          ],
          [
           82,
           18,
           100,
           -0.8953999999999998
          ],
          [
           79,
           21,
           100,
           -1.809299999999999
          ],
          [
           87,
           13,
           100,
           -0.8416000000000003
          ],
          [
           95,
           5,
           100,
           -0.2330000000000006
          ],
          [
           96,
           4,
           100,
           -0.22469999999999968
          ],
          [
           89,
           11,
           100,
           -0.7344999999999999
          ],
          [
           89,
           11,
           100,
           -18.6072
          ],
          [
           90,
           10,
           100,
           -19.804999999999996
          ],
          [
           90,
           10,
           100,
           -19.116500000000002
          ]
         ],
         "hovertemplate": "Escenario=%{x}<br>Porcentaje de Coordinación (%)=%{marker.color}<br>Pares Coordinados=%{customdata[0]}<br>Pares Descoordinados=%{customdata[1]}<br>Total Pares Válidos=%{customdata[2]}<br>TMT=%{customdata[3]}<extra></extra>",
         "legendgroup": "",
         "marker": {
          "color": [
           87,
           90,
           91,
           90,
           88,
           89,
           89,
           88,
           92,
           87,
           89,
           90,
           90,
           93,
           92,
           80,
           93,
           95,
           83,
           84,
           88,
           87,
           91,
           91,
           88,
           86,
           86,
           97,
           93,
           92,
           88,
           88,
           91,
           89,
           91,
           89,
           91,
           91,
           91,
           89,
           90,
           90,
           88,
           92,
           90,
           92,
           89,
           88,
           89,
           97,
           92,
           94,
           91,
           91,
           85,
           89,
           94,
           86,
           91,
           82,
           79,
           87,
           95,
           96,
           89,
           89,
           90,
           90
          ],
          "coloraxis": "coloraxis",
          "pattern": {
           "shape": ""
          }
         },
         "name": "",
         "offsetgroup": "",
         "orientation": "v",
         "showlegend": false,
         "text": [
          87,
          90,
          91,
          90,
          88,
          89,
          89,
          88,
          92,
          87,
          89,
          90,
          90,
          93,
          92,
          80,
          93,
          95,
          83,
          84,
          88,
          87,
          91,
          91,
          88,
          86,
          86,
          97,
          93,
          92,
          88,
          88,
          91,
          89,
          91,
          89,
          91,
          91,
          91,
          89,
          90,
          90,
          88,
          92,
          90,
          92,
          89,
          88,
          89,
          97,
          92,
          94,
          91,
          91,
          85,
          89,
          94,
          86,
          91,
          82,
          79,
          87,
          95,
          96,
          89,
          89,
          90,
          90
         ],
         "textposition": "outside",
         "texttemplate": "%{text:.1f}%",
         "type": "bar",
         "x": [
          "scenario_1",
          "scenario_10",
          "scenario_11",
          "scenario_12",
          "scenario_13",
          "scenario_14",
          "scenario_15",
          "scenario_16",
          "scenario_17",
          "scenario_18",
          "scenario_19",
          "scenario_2",
          "scenario_20",
          "scenario_21",
          "scenario_22",
          "scenario_23",
          "scenario_24",
          "scenario_25",
          "scenario_26",
          "scenario_27",
          "scenario_28",
          "scenario_29",
          "scenario_3",
          "scenario_30",
          "scenario_31",
          "scenario_32",
          "scenario_33",
          "scenario_34",
          "scenario_35",
          "scenario_36",
          "scenario_37",
          "scenario_38",
          "scenario_39",
          "scenario_4",
          "scenario_40",
          "scenario_41",
          "scenario_42",
          "scenario_43",
          "scenario_44",
          "scenario_45",
          "scenario_46",
          "scenario_47",
          "scenario_48",
          "scenario_49",
          "scenario_5",
          "scenario_50",
          "scenario_51",
          "scenario_52",
          "scenario_53",
          "scenario_54",
          "scenario_55",
          "scenario_56",
          "scenario_57",
          "scenario_58",
          "scenario_59",
          "scenario_6",
          "scenario_60",
          "scenario_61",
          "scenario_62",
          "scenario_63",
          "scenario_64",
          "scenario_65",
          "scenario_66",
          "scenario_67",
          "scenario_68",
          "scenario_7",
          "scenario_8",
          "scenario_9"
         ],
         "xaxis": "x",
         "y": [
          87,
          90,
          91,
          90,
          88,
          89,
          89,
          88,
          92,
          87,
          89,
          90,
          90,
          93,
          92,
          80,
          93,
          95,
          83,
          84,
          88,
          87,
          91,
          91,
          88,
          86,
          86,
          97,
          93,
          92,
          88,
          88,
          91,
          89,
          91,
          89,
          91,
          91,
          91,
          89,
          90,
          90,
          88,
          92,
          90,
          92,
          89,
          88,
          89,
          97,
          92,
          94,
          91,
          91,
          85,
          89,
          94,
          86,
          91,
          82,
          79,
          87,
          95,
          96,
          89,
          89,
          90,
          90
         ],
         "yaxis": "y"
        }
       ],
       "layout": {
        "barmode": "relative",
        "coloraxis": {
         "colorbar": {
          "title": {
           "text": "Porcentaje de Coordinación (%)"
          }
         },
         "colorscale": [
          [
           0,
           "#30123b"
          ],
          [
           0.07142857142857142,
           "#4145ab"
          ],
          [
           0.14285714285714285,
           "#4675ed"
          ],
          [
           0.21428571428571427,
           "#39a2fc"
          ],
          [
           0.2857142857142857,
           "#1bcfd4"
          ],
          [
           0.35714285714285715,
           "#24eca6"
          ],
          [
           0.42857142857142855,
           "#61fc6c"
          ],
          [
           0.5,
           "#a4fc3b"
          ],
          [
           0.5714285714285714,
           "#d1e834"
          ],
          [
           0.6428571428571429,
           "#f3c63a"
          ],
          [
           0.7142857142857143,
           "#fe9b2d"
          ],
          [
           0.7857142857142857,
           "#f36315"
          ],
          [
           0.8571428571428571,
           "#d93806"
          ],
          [
           0.9285714285714286,
           "#b11901"
          ],
          [
           1,
           "#7a0402"
          ]
         ]
        },
        "font": {
         "size": 12
        },
        "height": 600,
        "legend": {
         "tracegroupgap": 0
        },
        "template": {
         "data": {
          "bar": [
           {
            "error_x": {
             "color": "#2a3f5f"
            },
            "error_y": {
             "color": "#2a3f5f"
            },
            "marker": {
             "line": {
              "color": "#E5ECF6",
              "width": 0.5
             },
             "pattern": {
              "fillmode": "overlay",
              "size": 10,
              "solidity": 0.2
             }
            },
            "type": "bar"
           }
          ],
          "barpolar": [
           {
            "marker": {
             "line": {
              "color": "#E5ECF6",
              "width": 0.5
             },
             "pattern": {
              "fillmode": "overlay",
              "size": 10,
              "solidity": 0.2
             }
            },
            "type": "barpolar"
           }
          ],
          "carpet": [
           {
            "aaxis": {
             "endlinecolor": "#2a3f5f",
             "gridcolor": "white",
             "linecolor": "white",
             "minorgridcolor": "white",
             "startlinecolor": "#2a3f5f"
            },
            "baxis": {
             "endlinecolor": "#2a3f5f",
             "gridcolor": "white",
             "linecolor": "white",
             "minorgridcolor": "white",
             "startlinecolor": "#2a3f5f"
            },
            "type": "carpet"
           }
          ],
          "choropleth": [
           {
            "colorbar": {
             "outlinewidth": 0,
             "ticks": ""
            },
            "type": "choropleth"
           }
          ],
          "contour": [
           {
            "colorbar": {
             "outlinewidth": 0,
             "ticks": ""
            },
            "colorscale": [
             [
              0,
              "#0d0887"
             ],
             [
              0.1111111111111111,
              "#46039f"
             ],
             [
              0.2222222222222222,
              "#7201a8"
             ],
             [
              0.3333333333333333,
              "#9c179e"
             ],
             [
              0.4444444444444444,
              "#bd3786"
             ],
             [
              0.5555555555555556,
              "#d8576b"
             ],
             [
              0.6666666666666666,
              "#ed7953"
             ],
             [
              0.7777777777777778,
              "#fb9f3a"
             ],
             [
              0.8888888888888888,
              "#fdca26"
             ],
             [
              1,
              "#f0f921"
             ]
            ],
            "type": "contour"
           }
          ],
          "contourcarpet": [
           {
            "colorbar": {
             "outlinewidth": 0,
             "ticks": ""
            },
            "type": "contourcarpet"
           }
          ],
          "heatmap": [
           {
            "colorbar": {
             "outlinewidth": 0,
             "ticks": ""
            },
            "colorscale": [
             [
              0,
              "#0d0887"
             ],
             [
              0.1111111111111111,
              "#46039f"
             ],
             [
              0.2222222222222222,
              "#7201a8"
             ],
             [
              0.3333333333333333,
              "#9c179e"
             ],
             [
              0.4444444444444444,
              "#bd3786"
             ],
             [
              0.5555555555555556,
              "#d8576b"
             ],
             [
              0.6666666666666666,
              "#ed7953"
             ],
             [
              0.7777777777777778,
              "#fb9f3a"
             ],
             [
              0.8888888888888888,
              "#fdca26"
             ],
             [
              1,
              "#f0f921"
             ]
            ],
            "type": "heatmap"
           }
          ],
          "heatmapgl": [
           {
            "colorbar": {
             "outlinewidth": 0,
             "ticks": ""
            },
            "colorscale": [
             [
              0,
              "#0d0887"
             ],
             [
              0.1111111111111111,
              "#46039f"
             ],
             [
              0.2222222222222222,
              "#7201a8"
             ],
             [
              0.3333333333333333,
              "#9c179e"
             ],
             [
              0.4444444444444444,
              "#bd3786"
             ],
             [
              0.5555555555555556,
              "#d8576b"
             ],
             [
              0.6666666666666666,
              "#ed7953"
             ],
             [
              0.7777777777777778,
              "#fb9f3a"
             ],
             [
              0.8888888888888888,
              "#fdca26"
             ],
             [
              1,
              "#f0f921"
             ]
            ],
            "type": "heatmapgl"
           }
          ],
          "histogram": [
           {
            "marker": {
             "pattern": {
              "fillmode": "overlay",
              "size": 10,
              "solidity": 0.2
             }
            },
            "type": "histogram"
           }
          ],
          "histogram2d": [
           {
            "colorbar": {
             "outlinewidth": 0,
             "ticks": ""
            },
            "colorscale": [
             [
              0,
              "#0d0887"
             ],
             [
              0.1111111111111111,
              "#46039f"
             ],
             [
              0.2222222222222222,
              "#7201a8"
             ],
             [
              0.3333333333333333,
              "#9c179e"
             ],
             [
              0.4444444444444444,
              "#bd3786"
             ],
             [
              0.5555555555555556,
              "#d8576b"
             ],
             [
              0.6666666666666666,
              "#ed7953"
             ],
             [
              0.7777777777777778,
              "#fb9f3a"
             ],
             [
              0.8888888888888888,
              "#fdca26"
             ],
             [
              1,
              "#f0f921"
             ]
            ],
            "type": "histogram2d"
           }
          ],
          "histogram2dcontour": [
           {
            "colorbar": {
             "outlinewidth": 0,
             "ticks": ""
            },
            "colorscale": [
             [
              0,
              "#0d0887"
             ],
             [
              0.1111111111111111,
              "#46039f"
             ],
             [
              0.2222222222222222,
              "#7201a8"
             ],
             [
              0.3333333333333333,
              "#9c179e"
             ],
             [
              0.4444444444444444,
              "#bd3786"
             ],
             [
              0.5555555555555556,
              "#d8576b"
             ],
             [
              0.6666666666666666,
              "#ed7953"
             ],
             [
              0.7777777777777778,
              "#fb9f3a"
             ],
             [
              0.8888888888888888,
              "#fdca26"
             ],
             [
              1,
              "#f0f921"
             ]
            ],
            "type": "histogram2dcontour"
           }
          ],
          "mesh3d": [
           {
            "colorbar": {
             "outlinewidth": 0,
             "ticks": ""
            },
            "type": "mesh3d"
           }
          ],
          "parcoords": [
           {
            "line": {
             "colorbar": {
              "outlinewidth": 0,
              "ticks": ""
             }
            },
            "type": "parcoords"
           }
          ],
          "pie": [
           {
            "automargin": true,
            "type": "pie"
           }
          ],
          "scatter": [
           {
            "fillpattern": {
             "fillmode": "overlay",
             "size": 10,
             "solidity": 0.2
            },
            "type": "scatter"
           }
          ],
          "scatter3d": [
           {
            "line": {
             "colorbar": {
              "outlinewidth": 0,
              "ticks": ""
             }
            },
            "marker": {
             "colorbar": {
              "outlinewidth": 0,
              "ticks": ""
             }
            },
            "type": "scatter3d"
           }
          ],
          "scattercarpet": [
           {
            "marker": {
             "colorbar": {
              "outlinewidth": 0,
              "ticks": ""
             }
            },
            "type": "scattercarpet"
           }
          ],
          "scattergeo": [
           {
            "marker": {
             "colorbar": {
              "outlinewidth": 0,
              "ticks": ""
             }
            },
            "type": "scattergeo"
           }
          ],
          "scattergl": [
           {
            "marker": {
             "colorbar": {
              "outlinewidth": 0,
              "ticks": ""
             }
            },
            "type": "scattergl"
           }
          ],
          "scattermapbox": [
           {
            "marker": {
             "colorbar": {
              "outlinewidth": 0,
              "ticks": ""
             }
            },
            "type": "scattermapbox"
           }
          ],
          "scatterpolar": [
           {
            "marker": {
             "colorbar": {
              "outlinewidth": 0,
              "ticks": ""
             }
            },
            "type": "scatterpolar"
           }
          ],
          "scatterpolargl": [
           {
            "marker": {
             "colorbar": {
              "outlinewidth": 0,
              "ticks": ""
             }
            },
            "type": "scatterpolargl"
           }
          ],
          "scatterternary": [
           {
            "marker": {
             "colorbar": {
              "outlinewidth": 0,
              "ticks": ""
             }
            },
            "type": "scatterternary"
           }
          ],
          "surface": [
           {
            "colorbar": {
             "outlinewidth": 0,
             "ticks": ""
            },
            "colorscale": [
             [
              0,
              "#0d0887"
             ],
             [
              0.1111111111111111,
              "#46039f"
             ],
             [
              0.2222222222222222,
              "#7201a8"
             ],
             [
              0.3333333333333333,
              "#9c179e"
             ],
             [
              0.4444444444444444,
              "#bd3786"
             ],
             [
              0.5555555555555556,
              "#d8576b"
             ],
             [
              0.6666666666666666,
              "#ed7953"
             ],
             [
              0.7777777777777778,
              "#fb9f3a"
             ],
             [
              0.8888888888888888,
              "#fdca26"
             ],
             [
              1,
              "#f0f921"
             ]
            ],
            "type": "surface"
           }
          ],
          "table": [
           {
            "cells": {
             "fill": {
              "color": "#EBF0F8"
             },
             "line": {
              "color": "white"
             }
            },
            "header": {
             "fill": {
              "color": "#C8D4E3"
             },
             "line": {
              "color": "white"
             }
            },
            "type": "table"
           }
          ]
         },
         "layout": {
          "annotationdefaults": {
           "arrowcolor": "#2a3f5f",
           "arrowhead": 0,
           "arrowwidth": 1
          },
          "autotypenumbers": "strict",
          "coloraxis": {
           "colorbar": {
            "outlinewidth": 0,
            "ticks": ""
           }
          },
          "colorscale": {
           "diverging": [
            [
             0,
             "#8e0152"
            ],
            [
             0.1,
             "#c51b7d"
            ],
            [
             0.2,
             "#de77ae"
            ],
            [
             0.3,
             "#f1b6da"
            ],
            [
             0.4,
             "#fde0ef"
            ],
            [
             0.5,
             "#f7f7f7"
            ],
            [
             0.6,
             "#e6f5d0"
            ],
            [
             0.7,
             "#b8e186"
            ],
            [
             0.8,
             "#7fbc41"
            ],
            [
             0.9,
             "#4d9221"
            ],
            [
             1,
             "#276419"
            ]
           ],
           "sequential": [
            [
             0,
             "#0d0887"
            ],
            [
             0.1111111111111111,
             "#46039f"
            ],
            [
             0.2222222222222222,
             "#7201a8"
            ],
            [
             0.3333333333333333,
             "#9c179e"
            ],
            [
             0.4444444444444444,
             "#bd3786"
            ],
            [
             0.5555555555555556,
             "#d8576b"
            ],
            [
             0.6666666666666666,
             "#ed7953"
            ],
            [
             0.7777777777777778,
             "#fb9f3a"
            ],
            [
             0.8888888888888888,
             "#fdca26"
            ],
            [
             1,
             "#f0f921"
            ]
           ],
           "sequentialminus": [
            [
             0,
             "#0d0887"
            ],
            [
             0.1111111111111111,
             "#46039f"
            ],
            [
             0.2222222222222222,
             "#7201a8"
            ],
            [
             0.3333333333333333,
             "#9c179e"
            ],
            [
             0.4444444444444444,
             "#bd3786"
            ],
            [
             0.5555555555555556,
             "#d8576b"
            ],
            [
             0.6666666666666666,
             "#ed7953"
            ],
            [
             0.7777777777777778,
             "#fb9f3a"
            ],
            [
             0.8888888888888888,
             "#fdca26"
            ],
            [
             1,
             "#f0f921"
            ]
           ]
          },
          "colorway": [
           "#636efa",
           "#EF553B",
           "#00cc96",
           "#ab63fa",
           "#FFA15A",
           "#19d3f3",
           "#FF6692",
           "#B6E880",
           "#FF97FF",
           "#FECB52"
          ],
          "font": {
           "color": "#2a3f5f"
          },
          "geo": {
           "bgcolor": "white",
           "lakecolor": "white",
           "landcolor": "#E5ECF6",
           "showlakes": true,
           "showland": true,
           "subunitcolor": "white"
          },
          "hoverlabel": {
           "align": "left"
          },
          "hovermode": "closest",
          "mapbox": {
           "style": "light"
          },
          "paper_bgcolor": "white",
          "plot_bgcolor": "#E5ECF6",
          "polar": {
           "angularaxis": {
            "gridcolor": "white",
            "linecolor": "white",
            "ticks": ""
           },
           "bgcolor": "#E5ECF6",
           "radialaxis": {
            "gridcolor": "white",
            "linecolor": "white",
            "ticks": ""
           }
          },
          "scene": {
           "xaxis": {
            "backgroundcolor": "#E5ECF6",
            "gridcolor": "white",
            "gridwidth": 2,
            "linecolor": "white",
            "showbackground": true,
            "ticks": "",
            "zerolinecolor": "white"
           },
           "yaxis": {
            "backgroundcolor": "#E5ECF6",
            "gridcolor": "white",
            "gridwidth": 2,
            "linecolor": "white",
            "showbackground": true,
            "ticks": "",
            "zerolinecolor": "white"
           },
           "zaxis": {
            "backgroundcolor": "#E5ECF6",
            "gridcolor": "white",
            "gridwidth": 2,
            "linecolor": "white",
            "showbackground": true,
            "ticks": "",
            "zerolinecolor": "white"
           }
          },
          "shapedefaults": {
           "line": {
            "color": "#2a3f5f"
           }
          },
          "ternary": {
           "aaxis": {
            "gridcolor": "white",
            "linecolor": "white",
            "ticks": ""
           },
           "baxis": {
            "gridcolor": "white",
            "linecolor": "white",
            "ticks": ""
           },
           "bgcolor": "#E5ECF6",
           "caxis": {
            "gridcolor": "white",
            "linecolor": "white",
            "ticks": ""
           }
          },
          "title": {
           "x": 0.05
          },
          "xaxis": {
           "automargin": true,
           "gridcolor": "white",
           "linecolor": "white",
           "ticks": "",
           "title": {
            "standoff": 15
           },
           "zerolinecolor": "white",
           "zerolinewidth": 2
          },
          "yaxis": {
           "automargin": true,
           "gridcolor": "white",
           "linecolor": "white",
           "ticks": "",
           "title": {
            "standoff": 15
           },
           "zerolinecolor": "white",
           "zerolinewidth": 2
          }
         }
        },
        "title": {
         "text": "Porcentaje de Pares Coordinados por Escenario"
        },
        "width": 1000,
        "xaxis": {
         "anchor": "y",
         "categoryarray": [
          "scenario_1",
          "scenario_10",
          "scenario_11",
          "scenario_12",
          "scenario_13",
          "scenario_14",
          "scenario_15",
          "scenario_16",
          "scenario_17",
          "scenario_18",
          "scenario_19",
          "scenario_2",
          "scenario_20",
          "scenario_21",
          "scenario_22",
          "scenario_23",
          "scenario_24",
          "scenario_25",
          "scenario_26",
          "scenario_27",
          "scenario_28",
          "scenario_29",
          "scenario_3",
          "scenario_30",
          "scenario_31",
          "scenario_32",
          "scenario_33",
          "scenario_34",
          "scenario_35",
          "scenario_36",
          "scenario_37",
          "scenario_38",
          "scenario_39",
          "scenario_4",
          "scenario_40",
          "scenario_41",
          "scenario_42",
          "scenario_43",
          "scenario_44",
          "scenario_45",
          "scenario_46",
          "scenario_47",
          "scenario_48",
          "scenario_49",
          "scenario_5",
          "scenario_50",
          "scenario_51",
          "scenario_52",
          "scenario_53",
          "scenario_54",
          "scenario_55",
          "scenario_56",
          "scenario_57",
          "scenario_58",
          "scenario_59",
          "scenario_6",
          "scenario_60",
          "scenario_61",
          "scenario_62",
          "scenario_63",
          "scenario_64",
          "scenario_65",
          "scenario_66",
          "scenario_67",
          "scenario_68",
          "scenario_7",
          "scenario_8",
          "scenario_9"
         ],
         "categoryorder": "array",
         "domain": [
          0,
          1
         ],
         "title": {
          "text": "Escenarios"
         }
        },
        "yaxis": {
         "anchor": "x",
         "domain": [
          0,
          1
         ],
         "title": {
          "text": "Porcentaje de Coordinación (%)"
         }
        }
       }
      }
     },
     "metadata": {},
     "output_type": "display_data"
    }
   ],
   "source": [
    "import json\n",
    "import os\n",
    "import copy\n",
    "import plotly.express as px\n",
    "import plotly.graph_objects as go\n",
    "import pandas as pd\n",
    "import numpy as np\n",
    "\n",
    "# --- Constantes ---\n",
    "CTI = 0.2  # Intervalo de tiempo de coordinación típico (en segundos)\n",
    "\n",
    "# --- Ruta del archivo ---\n",
    "input_file = \"/Users/gustavo/Documents/Projects/TESIS_UNAL/ADAPTIVE_ALGORITHM/data/processed/independent_relay_pairs_optimization.json\"\n",
    "\n",
    "def analyze_all_scenarios():\n",
    "    try:\n",
    "        # 1. Cargar el archivo JSON\n",
    "        print(f\"Cargando datos desde: {input_file}\")\n",
    "        with open(input_file, 'r') as f:\n",
    "            relay_pairs_data = json.load(f)\n",
    "        \n",
    "        if not isinstance(relay_pairs_data, list):\n",
    "            raise TypeError(f\"Error: El archivo {input_file} no contiene una lista JSON.\")\n",
    "        \n",
    "        # Diccionarios para almacenar datos por escenario\n",
    "        scenario_results = {}  # Estructura: {scenario_id: {'tmt': valor, 'coordinated': cantidad, 'uncoordinated': cantidad}}\n",
    "        \n",
    "        # 2. Procesar cada par y agrupar por escenario\n",
    "        print(\"Calculando TMT por escenario...\")\n",
    "        total_pairs_read = 0\n",
    "        skipped_pairs_count = 0\n",
    "        \n",
    "        for pair_entry in relay_pairs_data:\n",
    "            total_pairs_read += 1\n",
    "            if not isinstance(pair_entry, dict):\n",
    "                skipped_pairs_count += 1\n",
    "                continue\n",
    "            \n",
    "            scenario_id = pair_entry.get(\"scenario_id\")\n",
    "            if not scenario_id:\n",
    "                skipped_pairs_count += 1\n",
    "                continue\n",
    "                \n",
    "            # Inicializar datos del escenario si es la primera vez\n",
    "            if scenario_id not in scenario_results:\n",
    "                scenario_results[scenario_id] = {\n",
    "                    'tmt': 0, \n",
    "                    'coordinated': 0, \n",
    "                    'uncoordinated': 0,\n",
    "                    'total_valid': 0\n",
    "                }\n",
    "            \n",
    "            # Obtener información de los relés\n",
    "            main_relay_info = pair_entry.get('main_relay')\n",
    "            backup_relay_info = pair_entry.get('backup_relay')\n",
    "            \n",
    "            if not isinstance(main_relay_info, dict) or not isinstance(backup_relay_info, dict):\n",
    "                skipped_pairs_count += 1\n",
    "                continue\n",
    "                \n",
    "            # Obtener tiempos de operación\n",
    "            main_time = main_relay_info.get('Time_out')\n",
    "            backup_time = backup_relay_info.get('Time_out')\n",
    "            \n",
    "            # Validar que los tiempos son números\n",
    "            if not isinstance(main_time, (int, float)) or not isinstance(backup_time, (int, float)):\n",
    "                skipped_pairs_count += 1\n",
    "                continue\n",
    "                \n",
    "            # Cálculos\n",
    "            delta_t = backup_time - main_time - CTI\n",
    "            mt = (delta_t - abs(delta_t)) / 2  # Penalización solo si delta_t es negativo\n",
    "            \n",
    "            # Actualizar resultados del escenario\n",
    "            scenario_results[scenario_id]['tmt'] += mt\n",
    "            scenario_results[scenario_id]['total_valid'] += 1\n",
    "            \n",
    "            if delta_t >= 0:\n",
    "                scenario_results[scenario_id]['coordinated'] += 1\n",
    "            else:\n",
    "                scenario_results[scenario_id]['uncoordinated'] += 1\n",
    "        \n",
    "        # 3. Preparar datos para graficar\n",
    "        data_for_chart = []\n",
    "        for scenario, data in scenario_results.items():\n",
    "            data_for_chart.append({\n",
    "                'Escenario': scenario,\n",
    "                'TMT': data['tmt'],\n",
    "                'Pares Coordinados': data['coordinated'],\n",
    "                'Pares Descoordinados': data['uncoordinated'],\n",
    "                'Total Pares Válidos': data['total_valid'],\n",
    "                'Porcentaje Coordinación': 100 * data['coordinated'] / data['total_valid'] if data['total_valid'] > 0 else 0\n",
    "            })\n",
    "        \n",
    "        # Convertir a DataFrame y ordenar por nombre de escenario\n",
    "        df = pd.DataFrame(data_for_chart)\n",
    "        df = df.sort_values(by='Escenario')\n",
    "        \n",
    "        # 4. Crear gráfico de barras con Plotly\n",
    "        fig = px.bar(\n",
    "            df, \n",
    "            x='Escenario', \n",
    "            y='TMT',\n",
    "            text='TMT',\n",
    "            color='TMT',\n",
    "            color_continuous_scale='Viridis',\n",
    "            title='Penalización Total por Descoordinación (TMT) por Escenario',\n",
    "            labels={'TMT': 'Total Miscoordination Time'},\n",
    "            hover_data=['Pares Coordinados', 'Pares Descoordinados', 'Total Pares Válidos', 'Porcentaje Coordinación']\n",
    "        )\n",
    "        \n",
    "        # Personalizar el gráfico\n",
    "        fig.update_traces(\n",
    "            texttemplate='%{text:.5f}',\n",
    "            textposition='outside'\n",
    "        )\n",
    "        \n",
    "        fig.update_layout(\n",
    "            xaxis_title='Escenarios',\n",
    "            yaxis_title='TMT (Total Miscoordination Time)',\n",
    "            xaxis={'categoryorder': 'array', 'categoryarray': df['Escenario'].tolist()},\n",
    "            font=dict(size=12),\n",
    "            height=600,\n",
    "            width=1000\n",
    "        )\n",
    "        \n",
    "        # 5. Crear un segundo gráfico: porcentaje de coordinación\n",
    "        fig2 = px.bar(\n",
    "            df,\n",
    "            x='Escenario',\n",
    "            y='Porcentaje Coordinación',\n",
    "            text='Porcentaje Coordinación',\n",
    "            color='Porcentaje Coordinación',\n",
    "            color_continuous_scale='Turbo',\n",
    "            title='Porcentaje de Pares Coordinados por Escenario',\n",
    "            labels={'Porcentaje Coordinación': 'Porcentaje de Coordinación (%)'},\n",
    "            hover_data=['Pares Coordinados', 'Pares Descoordinados', 'Total Pares Válidos', 'TMT']\n",
    "        )\n",
    "        \n",
    "        fig2.update_traces(\n",
    "            texttemplate='%{text:.1f}%',\n",
    "            textposition='outside'\n",
    "        )\n",
    "        \n",
    "        fig2.update_layout(\n",
    "            xaxis_title='Escenarios',\n",
    "            yaxis_title='Porcentaje de Coordinación (%)',\n",
    "            xaxis={'categoryorder': 'array', 'categoryarray': df['Escenario'].tolist()},\n",
    "            font=dict(size=12),\n",
    "            height=600,\n",
    "            width=1000\n",
    "        )\n",
    "        \n",
    "        # 5. Mostrar tabla de resultados\n",
    "        print(\"\\n--- Resultados por Escenario ---\")\n",
    "        print(f\"{'Escenario':<15} {'Pares Válidos':<15} {'Coordinados':<15} {'Descoordinados':<15} {'% Coordin.':<15} {'TMT':<15}\")\n",
    "        print(\"-\" * 90)\n",
    "        \n",
    "        for index, row in df.iterrows():\n",
    "            print(f\"{row['Escenario']:<15} {int(row['Total Pares Válidos']):<15} {int(row['Pares Coordinados']):<15} {int(row['Pares Descoordinados']):<15} {row['Porcentaje Coordinación']:.1f}%{' ':<10} {row['TMT']:.5f}\")\n",
    "        \n",
    "        print(f\"\\nTotal de pares leídos: {total_pairs_read}\")\n",
    "        print(f\"Pares omitidos (datos inválidos/faltantes): {skipped_pairs_count}\")\n",
    "        \n",
    "        # Guardar los gráficos antes de mostrarlos\n",
    "        output_dir = os.path.dirname(input_file)\n",
    "        \n",
    "        # Guardar el primer gráfico (TMT)\n",
    "        output_file_tmt = os.path.join(output_dir, \"tmt_by_scenario.html\")\n",
    "        fig.write_html(output_file_tmt)\n",
    "        print(f\"\\nGráfico de TMT guardado en: {output_file_tmt}\")\n",
    "        \n",
    "        # Guardar el segundo gráfico (% Coordinación)\n",
    "        output_file_coord = os.path.join(output_dir, \"coordination_percentage_by_scenario.html\")\n",
    "        fig2.write_html(output_file_coord)\n",
    "        print(f\"Gráfico de Porcentaje de Coordinación guardado en: {output_file_coord}\")\n",
    "        \n",
    "        # Mostrar los gráficos\n",
    "        fig.show()\n",
    "        fig2.show()\n",
    "        \n",
    "    except FileNotFoundError:\n",
    "        print(f\"Error CRÍTICO: No se pudo encontrar el archivo de entrada: {input_file}\")\n",
    "    except TypeError as e:\n",
    "        print(f\"Error CRÍTICO: Problema con el tipo de datos esperado en el archivo JSON: {e}\")\n",
    "    except json.JSONDecodeError as e:\n",
    "        print(f\"Error CRÍTICO: El archivo de entrada JSON ({input_file}) está mal formado: {e}\")\n",
    "    except Exception as e:\n",
    "        import traceback\n",
    "        print(f\"Error inesperado durante el procesamiento: {e}\")\n",
    "        print(\"--- Traceback ---\")\n",
    "        traceback.print_exc()\n",
    "        print(\"-----------------\")\n",
    "        \n",
    "if __name__ == \"__main__\":\n",
    "    analyze_all_scenarios()\n"
   ]
  },
  {
   "cell_type": "code",
   "execution_count": null,
   "metadata": {},
   "outputs": [],
   "source": []
  },
  {
   "cell_type": "code",
   "execution_count": null,
   "metadata": {},
   "outputs": [],
   "source": []
  }
 ],
 "metadata": {
  "kernelspec": {
   "display_name": "Python 3",
   "language": "python",
   "name": "python3"
  },
  "language_info": {
   "codemirror_mode": {
    "name": "ipython",
    "version": 3
   },
   "file_extension": ".py",
   "mimetype": "text/x-python",
   "name": "python",
   "nbconvert_exporter": "python",
   "pygments_lexer": "ipython3",
   "version": "3.11.11"
  }
 },
 "nbformat": 4,
 "nbformat_minor": 2
}
