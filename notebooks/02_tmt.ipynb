{
 "cells": [
  {
   "cell_type": "markdown",
   "metadata": {},
   "source": [
    "# Scenario base"
   ]
  },
  {
   "cell_type": "code",
   "execution_count": 1,
   "metadata": {},
   "outputs": [
    {
     "name": "stdout",
     "output_type": "stream",
     "text": [
      "Se cargaron 6800 pares de relés del archivo.\n",
      "El scenario_1 contiene 100 pares de relés.\n",
      "\n",
      "--- Análisis para scenario_1 ---\n",
      "TMT para scenario_1: -15.8543\n",
      "\n",
      "--- Detalles del scenario_1 ---\n",
      "   Par de relés      Valor MT       Delta t\n",
      "62      R66-R67 -3.842000e-01 -3.842000e-01\n",
      "86        R7-R6 -3.837000e-01 -3.837000e-01\n",
      "15      R15-R14 -3.731000e-01 -3.731000e-01\n",
      "85      R43-R44 -3.665000e-01 -3.665000e-01\n",
      "69      R30-R29 -3.521000e-01 -3.521000e-01\n",
      "13      R51-R52 -3.447000e-01 -3.447000e-01\n",
      "93        R9-R8 -3.266000e-01 -3.266000e-01\n",
      "91      R45-R46 -2.978000e-01 -2.978000e-01\n",
      "96       R34-R8 -2.777000e-01 -2.777000e-01\n",
      "98      R71-R14 -2.707000e-01 -2.707000e-01\n",
      "99      R71-R52 -2.432000e-01 -2.432000e-01\n",
      "97      R34-R46 -2.364000e-01 -2.364000e-01\n",
      "71      R31-R30 -2.108000e-01 -2.108000e-01\n",
      "72      R68-R69 -2.073000e-01 -2.073000e-01\n",
      "23      R73-R32 -1.992000e-01 -1.992000e-01\n",
      "52      R74-R66 -1.990000e-01 -1.990000e-01\n",
      "51      R74-R28 -1.989000e-01 -1.989000e-01\n",
      "73      R32-R31 -1.984000e-01 -1.984000e-01\n",
      "68      R40-R41 -1.968000e-01 -1.968000e-01\n",
      "49      R61-R74 -1.962000e-01 -1.962000e-01\n",
      "21      R54-R73 -1.946000e-01 -1.946000e-01\n",
      "54      R63-R64 -1.944000e-01 -1.944000e-01\n",
      "2        R10-R9 -1.940000e-01 -1.940000e-01\n",
      "3       R47-R48 -1.937000e-01 -1.937000e-01\n",
      "28      R55-R56 -1.932000e-01 -1.932000e-01\n",
      "5       R48-R49 -1.930000e-01 -1.930000e-01\n",
      "6       R48-R72 -1.930000e-01 -1.930000e-01\n",
      "11      R50-R51 -1.896000e-01 -1.896000e-01\n",
      "22      R36-R17 -1.892000e-01 -1.892000e-01\n",
      "53      R26-R25 -1.888000e-01 -1.888000e-01\n",
      "34      R57-R58 -1.876000e-01 -1.876000e-01\n",
      "76      R41-R42 -1.875000e-01 -1.875000e-01\n",
      "35      R57-R33 -1.875000e-01 -1.875000e-01\n",
      "50      R37-R24 -1.868000e-01 -1.868000e-01\n",
      "19      R53-R54 -1.857000e-01 -1.857000e-01\n",
      "10      R13-R12 -1.856000e-01 -1.856000e-01\n",
      "20      R17-R16 -1.854000e-01 -1.854000e-01\n",
      "75        R4-R3 -1.851000e-01 -1.851000e-01\n",
      "16      R15-R34 -1.843000e-01 -1.843000e-01\n",
      "58      R65-R37 -1.841000e-01 -1.841000e-01\n",
      "59      R65-R66 -1.839000e-01 -1.839000e-01\n",
      "14      R51-R34 -1.831000e-01 -1.831000e-01\n",
      "66        R3-R2 -1.823000e-01 -1.823000e-01\n",
      "80       R25-R5 -1.816000e-01 -1.816000e-01\n",
      "81      R25-R43 -1.814000e-01 -1.814000e-01\n",
      "56      R64-R65 -1.776000e-01 -1.776000e-01\n",
      "63       R22-R2 -1.771000e-01 -1.771000e-01\n",
      "78      R42-R43 -1.771000e-01 -1.771000e-01\n",
      "18      R16-R15 -1.764000e-01 -1.764000e-01\n",
      "74      R69-R36 -1.761000e-01 -1.761000e-01\n",
      "79      R42-R62 -1.753000e-01 -1.753000e-01\n",
      "77        R5-R4 -1.736000e-01 -1.736000e-01\n",
      "55      R27-R26 -1.732000e-01 -1.732000e-01\n",
      "48      R24-R23 -1.724000e-01 -1.724000e-01\n",
      "57      R28-R27 -1.701000e-01 -1.701000e-01\n",
      "26       R18-R1 -1.700000e-01 -1.700000e-01\n",
      "7       R12-R11 -1.697000e-01 -1.697000e-01\n",
      "38      R58-R35 -1.691000e-01 -1.691000e-01\n",
      "47      R60-R61 -1.685000e-01 -1.685000e-01\n",
      "43      R72-R21 -1.669000e-01 -1.669000e-01\n",
      "33      R20-R19 -1.663000e-01 -1.663000e-01\n",
      "29        R2-R1 -1.640000e-01 -1.640000e-01\n",
      "46      R23-R22 -1.631000e-01 -1.631000e-01\n",
      "4       R11-R10 -1.612000e-01 -1.612000e-01\n",
      "42      R70-R20 -1.611000e-01 -1.611000e-01\n",
      "24      R19-R18 -1.556000e-01 -1.556000e-01\n",
      "9       R49-R50 -1.551000e-01 -1.551000e-01\n",
      "25      R56-R57 -1.499000e-01 -1.499000e-01\n",
      "82      R62-R63 -1.476000e-01 -1.476000e-01\n",
      "36      R21-R20 -1.418000e-01 -1.418000e-01\n",
      "92      R45-R71 -1.409000e-01 -1.409000e-01\n",
      "8       R12-R72 -1.392000e-01 -1.392000e-01\n",
      "31      R39-R40 -1.270000e-01 -1.270000e-01\n",
      "32      R39-R59 -1.269000e-01 -1.269000e-01\n",
      "94       R9-R71 -1.215000e-01 -1.215000e-01\n",
      "39       R33-R7 -1.204000e-01 -1.204000e-01\n",
      "41      R70-R58 -1.204000e-01 -1.204000e-01\n",
      "40      R33-R45 -1.202000e-01 -1.202000e-01\n",
      "37      R21-R33 -1.116000e-01 -1.116000e-01\n",
      "44      R35-R11 -1.032000e-01 -1.032000e-01\n",
      "65      R59-R60 -8.370000e-02 -8.370000e-02\n",
      "64      R22-R40 -7.680000e-02 -7.680000e-02\n",
      "67       R3-R59 -6.030000e-02 -6.030000e-02\n",
      "45      R35-R49 -5.820000e-02 -5.820000e-02\n",
      "27      R18-R39 -2.650000e-02 -2.650000e-02\n",
      "1       R38-R55 -2.775558e-17 -2.775558e-17\n",
      "0       R38-R39 -2.775558e-17 -2.775558e-17\n",
      "60      R29-R28 -2.775558e-17 -2.775558e-17\n",
      "87      R44-R70  0.000000e+00  4.200000e-03\n",
      "88      R44-R45  0.000000e+00  0.000000e+00\n",
      "89        R8-R7  0.000000e+00  0.000000e+00\n",
      "90       R8-R70  0.000000e+00  0.000000e+00\n",
      "83        R6-R5  0.000000e+00  0.000000e+00\n",
      "30       R2-R55  0.000000e+00  8.000000e-03\n",
      "12      R14-R13  0.000000e+00  0.000000e+00\n",
      "61      R29-R37  0.000000e+00  1.300000e-03\n",
      "95      R46-R47  0.000000e+00  0.000000e+00\n",
      "17      R52-R53  0.000000e+00  0.000000e+00\n",
      "84       R6-R62  0.000000e+00  0.000000e+00\n",
      "70      R67-R68  0.000000e+00  0.000000e+00\n",
      "\n",
      "TMT total para scenario_1: -15.8543\n",
      "Error inesperado: name 'os' is not defined\n"
     ]
    }
   ],
   "source": [
    "import json\n",
    "import matplotlib.pyplot as plt\n",
    "import numpy as np\n",
    "import pandas as pd\n",
    "from collections import defaultdict\n",
    "\n",
    "# Ruta del archivo JSON\n",
    "json_file_path = \"/Users/gustavo/Documents/Projects/TESIS_UNAL/ADAPTIVE_ALGORITHM/data/processed/independent_relay_pairs_automation.json\"\n",
    "\n",
    "# Constante CTI (Coordination Time Interval)\n",
    "CTI = 0.2\n",
    "\n",
    "# Función para calcular el índice MT\n",
    "def calculate_MT(tm, tb):\n",
    "    delta_tmb = tb - tm - CTI\n",
    "    MT = (delta_tmb - abs(delta_tmb)) / 2\n",
    "    return MT, delta_tmb\n",
    "\n",
    "# Función para analizar los datos por escenario\n",
    "def analyze_by_scenario(data):\n",
    "    # Organizar datos por escenario\n",
    "    scenarios = defaultdict(list)\n",
    "    for relay_pair in data:\n",
    "        scenario_id = relay_pair.get(\"scenario_id\")\n",
    "        if scenario_id:\n",
    "            scenarios[scenario_id].append(relay_pair)\n",
    "    \n",
    "    results = {}\n",
    "    \n",
    "    for scenario_id, pairs in scenarios.items():\n",
    "        print(f\"\\n--- Análisis para {scenario_id} ---\")\n",
    "        \n",
    "        # Calcular MT para cada par de relés\n",
    "        mt_values = []\n",
    "        delta_values = []\n",
    "        labels = []\n",
    "        \n",
    "        for pair in pairs:\n",
    "            if \"main_relay\" in pair and \"backup_relay\" in pair:\n",
    "                main = pair[\"main_relay\"]\n",
    "                backup = pair[\"backup_relay\"]\n",
    "                \n",
    "                # Verificar que existan los tiempos de operación\n",
    "                if \"Time_out\" in main and \"Time_out\" in backup:\n",
    "                    tm = main[\"Time_out\"]\n",
    "                    tb = backup[\"Time_out\"]\n",
    "                    \n",
    "                    # Calcular MT y Delta\n",
    "                    mt, delta = calculate_MT(tm, tb)\n",
    "                    \n",
    "                    mt_values.append(mt)\n",
    "                    delta_values.append(delta)\n",
    "                    labels.append(f\"{main['relay']}-{backup['relay']}\")\n",
    "        \n",
    "        # Calcular TMT (suma de todos los MT)\n",
    "        tmt = sum(mt_values)\n",
    "        results[scenario_id] = {\n",
    "            \"MT_values\": mt_values,\n",
    "            \"Delta_values\": delta_values,\n",
    "            \"Labels\": labels,\n",
    "            \"TMT\": tmt\n",
    "        }\n",
    "        \n",
    "        print(f\"TMT para {scenario_id}: {tmt:.4f}\")\n",
    "    \n",
    "    return results\n",
    "\n",
    "# Función para graficar resultados\n",
    "def plot_results(results, scenario_id):\n",
    "    if scenario_id not in results:\n",
    "        print(f\"El escenario {scenario_id} no existe en los resultados.\")\n",
    "        return\n",
    "    \n",
    "    scenario_data = results[scenario_id]\n",
    "    mt_values = scenario_data[\"MT_values\"]\n",
    "    labels = scenario_data[\"Labels\"]\n",
    "    \n",
    "    # Crear índices para el eje x\n",
    "    x = np.arange(len(labels))\n",
    "    \n",
    "    plt.figure(figsize=(14, 8))\n",
    "    \n",
    "    # Graficar valores de MT\n",
    "    bars = plt.bar(x, mt_values, width=0.7, alpha=0.7)\n",
    "    \n",
    "    # Colorear barras basado en si el valor de MT es negativo (problema de coordinación)\n",
    "    for i, bar in enumerate(bars):\n",
    "        if mt_values[i] < 0:\n",
    "            bar.set_color('red')\n",
    "        else:\n",
    "            bar.set_color('green')\n",
    "    \n",
    "    # Añadir línea horizontal en y=0\n",
    "    plt.axhline(y=0, color='black', linestyle='-', linewidth=1)\n",
    "    \n",
    "    # Configuración del gráfico\n",
    "    plt.xlabel('Pares de Relés (Principal-Respaldo)')\n",
    "    plt.ylabel('Índice MT')\n",
    "    plt.title(f'Índice MT para pares de relés en {scenario_id}\\nTMT = {scenario_data[\"TMT\"]:.4f}')\n",
    "    \n",
    "    # Rotar etiquetas del eje x para mejor visualización\n",
    "    plt.xticks(x, labels, rotation=90)\n",
    "    \n",
    "    plt.tight_layout()\n",
    "    plt.grid(axis='y', linestyle='--', alpha=0.7)\n",
    "    \n",
    "    return plt\n",
    "\n",
    "# Función principal para ejecutar el análisis\n",
    "def main(data, scenario_id=None):\n",
    "    # Analizar datos por escenario\n",
    "    results = analyze_by_scenario(data)\n",
    "    \n",
    "    # Crear directorio para guardar las gráficas\n",
    "    import os\n",
    "    output_dir = \"/Users/gustavo/Documents/Projects/TESIS_UNAL/ADAPTIVE_ALGORITHM/results/coordination_plots\"\n",
    "    os.makedirs(output_dir, exist_ok=True)\n",
    "    \n",
    "    # Si se especifica un escenario, graficar solo ese\n",
    "    if scenario_id and scenario_id in results:\n",
    "        plt = plot_results(results, scenario_id)\n",
    "        plt.savefig(f\"{output_dir}/{scenario_id}_MT_plot.png\", dpi=300)\n",
    "        plt.show()\n",
    "    # Si no, graficar todos los escenarios\n",
    "    elif not scenario_id:\n",
    "        # Crear un DataFrame para guardar los resultados de TMT\n",
    "        tmt_data = {\"Escenario\": [], \"TMT\": []}\n",
    "        \n",
    "        for scenario_id in results:\n",
    "            plt = plot_results(results, scenario_id)\n",
    "            plt.savefig(f\"{output_dir}/{scenario_id}_MT_plot.png\", dpi=300)\n",
    "            plt.close()\n",
    "            \n",
    "            # Guardar TMT en el DataFrame\n",
    "            tmt_data[\"Escenario\"].append(scenario_id)\n",
    "            tmt_data[\"TMT\"].append(results[scenario_id][\"TMT\"])\n",
    "        \n",
    "        # Guardar resultados de TMT a CSV\n",
    "        tmt_df = pd.DataFrame(tmt_data)\n",
    "        tmt_df.to_csv(f\"{output_dir}/TMT_results.csv\", index=False)\n",
    "        \n",
    "        print(f\"\\nResumen de TMT por escenario:\")\n",
    "        print(tmt_df)\n",
    "        \n",
    "        # Graficar resumen de TMT\n",
    "        plt.figure(figsize=(12, 6))\n",
    "        bars = plt.bar(tmt_df[\"Escenario\"], tmt_df[\"TMT\"], alpha=0.7)\n",
    "        \n",
    "        # Colorear barras basado en si TMT es negativo\n",
    "        for i, bar in enumerate(bars):\n",
    "            if tmt_df[\"TMT\"].iloc[i] < 0:\n",
    "                bar.set_color('red')\n",
    "            else:\n",
    "                bar.set_color('green')\n",
    "        \n",
    "        plt.axhline(y=0, color='black', linestyle='-', linewidth=1)\n",
    "        plt.xticks(rotation=45, ha='right')\n",
    "        plt.title('TMT por Escenario')\n",
    "        plt.xlabel('Escenario')\n",
    "        plt.ylabel('TMT')\n",
    "        plt.tight_layout()\n",
    "        plt.grid(axis='y', linestyle='--', alpha=0.7)\n",
    "        plt.savefig(f\"{output_dir}/TMT_summary.png\", dpi=300)\n",
    "    else:\n",
    "        print(f\"El escenario {scenario_id} no existe en los datos.\")\n",
    "\n",
    "# Cargar datos del archivo JSON\n",
    "try:\n",
    "    with open(json_file_path, 'r') as file:\n",
    "        data = json.load(file)\n",
    "    \n",
    "    # Verificar si los datos son una lista\n",
    "    if not isinstance(data, list):\n",
    "        print(f\"Error: El archivo no contiene una lista. Tipo de datos: {type(data)}\")\n",
    "        exit(1)\n",
    "    \n",
    "    print(f\"Se cargaron {len(data)} pares de relés del archivo.\")\n",
    "    \n",
    "    # Filtrar solo los datos del scenario_1\n",
    "    scenario_1_data = [pair for pair in data if pair.get(\"scenario_id\") == \"scenario_1\"]\n",
    "    print(f\"El scenario_1 contiene {len(scenario_1_data)} pares de relés.\")\n",
    "    \n",
    "    # Mostrar información detallada\n",
    "    results = analyze_by_scenario(scenario_1_data)\n",
    "    scenario_result = results.get(\"scenario_1\", {})\n",
    "    \n",
    "    # Crear DataFrame para mejor visualización\n",
    "    if scenario_result:\n",
    "        pairs_data = {\n",
    "            \"Par de relés\": scenario_result[\"Labels\"],\n",
    "            \"Valor MT\": scenario_result[\"MT_values\"],\n",
    "            \"Delta t\": scenario_result[\"Delta_values\"]\n",
    "        }\n",
    "        pairs_df = pd.DataFrame(pairs_data)\n",
    "        \n",
    "        # Ordenar por Valor MT para ver primero los problemas más graves\n",
    "        pairs_df = pairs_df.sort_values(by=\"Valor MT\", ascending=True)\n",
    "        \n",
    "        print(\"\\n--- Detalles del scenario_1 ---\")\n",
    "        pd.set_option('display.max_rows', None)  # Mostrar todas las filas\n",
    "        print(pairs_df)\n",
    "        print(f\"\\nTMT total para scenario_1: {scenario_result.get('TMT', 0):.4f}\")\n",
    "        \n",
    "        # Guardar el DataFrame a CSV\n",
    "        output_dir = \"/Users/gustavo/Documents/Projects/TESIS_UNAL/ADAPTIVE_ALGORITHM/results/coordination_plots\"\n",
    "        os.makedirs(output_dir, exist_ok=True)\n",
    "        pairs_df.to_csv(f\"{output_dir}/scenario_1_detailed_results.csv\", index=False)\n",
    "    \n",
    "    # Ejecutar el análisis gráfico para scenario_1\n",
    "    main(scenario_1_data, \"scenario_1\")\n",
    "    \n",
    "except FileNotFoundError:\n",
    "    print(f\"Error: No se encontró el archivo en la ruta {json_file_path}\")\n",
    "except json.JSONDecodeError:\n",
    "    print(f\"Error: El archivo no tiene un formato JSON válido\")\n",
    "except Exception as e:\n",
    "    print(f\"Error inesperado: {str(e)}\")\n"
   ]
  },
  {
   "cell_type": "code",
   "execution_count": null,
   "metadata": {},
   "outputs": [],
   "source": []
  },
  {
   "cell_type": "code",
   "execution_count": null,
   "metadata": {},
   "outputs": [],
   "source": []
  },
  {
   "cell_type": "code",
   "execution_count": 2,
   "metadata": {},
   "outputs": [
    {
     "name": "stdout",
     "output_type": "stream",
     "text": [
      "Archivo de entrada: /Users/gustavo/Documents/Projects/TESIS_UNAL/ADAPTIVE_ALGORITHM/data/processed/independent_relay_pairs_automation.json\n",
      "Analizando SOLAMENTE para: 'scenario_1'\n",
      "Cargando datos (lista de pares)...\n",
      "Datos cargados correctamente.\n",
      "Calculando delta_t, mt y clasificando pares para 'scenario_1'...\n",
      "Procesamiento de pares completado.\n",
      "\n",
      "--- Resultados del Análisis de Coordinación para 'scenario_1' ---\n",
      "Total de pares leídos del archivo: 6800\n",
      "Total de pares encontrados para 'scenario_1': 100\n",
      "Total de pares válidos analizados para 'scenario_1': 100\n",
      "Número de pares coordinados (delta_t >= 0) en 'scenario_1': 12\n",
      "Número de pares DESCOORDINADOS (delta_t < 0) en 'scenario_1': 88\n",
      "Suma total de penalización por descoordinación (TMT Total) para 'scenario_1': -15.85430\n"
     ]
    }
   ],
   "source": [
    "import json\n",
    "import os\n",
    "import math\n",
    "import copy # Para crear copias de los diccionarios si es necesario\n",
    "\n",
    "# --- Constantes ---\n",
    "CTI = 0.2  # Intervalo de tiempo de coordinación típico (en segundos)\n",
    "TARGET_SCENARIO_ID = \"scenario_1\" # Escenario específico a analizar\n",
    "\n",
    "# --- Ruta del archivo ---\n",
    "input_file = \"/Users/gustavo/Documents/Projects/TESIS_UNAL/ADAPTIVE_ALGORITHM/data/processed/independent_relay_pairs_automation.json\"\n",
    "\n",
    "print(f\"Archivo de entrada: {input_file}\")\n",
    "print(f\"Analizando SOLAMENTE para: '{TARGET_SCENARIO_ID}'\")\n",
    "\n",
    "# Listas para clasificar los pares del escenario objetivo\n",
    "coordinated_pairs = []\n",
    "uncoordinated_pairs = []\n",
    "\n",
    "try:\n",
    "    # 1. Cargar el archivo JSON (lista de pares)\n",
    "    print(\"Cargando datos (lista de pares)...\")\n",
    "    with open(input_file, 'r') as f:\n",
    "        relay_pairs_data = json.load(f)\n",
    "    print(\"Datos cargados correctamente.\")\n",
    "\n",
    "    # Validar que es una lista\n",
    "    if not isinstance(relay_pairs_data, list):\n",
    "        raise TypeError(f\"Error: El archivo {input_file} no contiene una lista JSON.\")\n",
    "\n",
    "    # 2. Procesar cada par de relés, filtrando por scenario_id\n",
    "    print(f\"Calculando delta_t, mt y clasificando pares para '{TARGET_SCENARIO_ID}'...\")\n",
    "    total_pairs_read = 0\n",
    "    scenario_pairs_found = 0\n",
    "    skipped_pairs_count = 0 # Pares omitidos DENTRO del scenario_id objetivo\n",
    "\n",
    "    for pair_entry in relay_pairs_data:\n",
    "        total_pairs_read += 1\n",
    "        if not isinstance(pair_entry, dict):\n",
    "            # Contar como leído pero no procesado si no es diccionario\n",
    "            continue\n",
    "\n",
    "        # --- FILTRAR POR SCENARIO_ID ---\n",
    "        current_scenario_id = pair_entry.get(\"scenario_id\")\n",
    "        if current_scenario_id != TARGET_SCENARIO_ID:\n",
    "            continue # Omitir este par si no es del escenario objetivo\n",
    "        # ---------------------------------\n",
    "\n",
    "        # Si llegamos aquí, el par pertenece a TARGET_SCENARIO_ID\n",
    "        scenario_pairs_found += 1\n",
    "\n",
    "        # Obtener información de los relés de forma segura\n",
    "        main_relay_info = pair_entry.get('main_relay')\n",
    "        backup_relay_info = pair_entry.get('backup_relay')\n",
    "\n",
    "        if not isinstance(main_relay_info, dict) or not isinstance(backup_relay_info, dict):\n",
    "            print(f\"Advertencia ({TARGET_SCENARIO_ID}): Falta información de relé principal o de respaldo en: {pair_entry.get('line', 'N/A')}-{pair_entry.get('fault', 'N/A')}. Par omitido.\")\n",
    "            skipped_pairs_count += 1\n",
    "            continue\n",
    "\n",
    "        # Obtener tiempos de operación de forma segura\n",
    "        main_time = main_relay_info.get('Time_out')\n",
    "        backup_time = backup_relay_info.get('Time_out')\n",
    "\n",
    "        # Validar que los tiempos son números\n",
    "        if not isinstance(main_time, (int, float)) or not isinstance(backup_time, (int, float)):\n",
    "            print(f\"Advertencia ({TARGET_SCENARIO_ID}): Tiempo(s) de operación no numéricos o faltantes en: {pair_entry.get('line', 'N/A')}-{pair_entry.get('fault', 'N/A')} (Main: {main_time}, Backup: {backup_time}). Par omitido.\")\n",
    "            skipped_pairs_count += 1\n",
    "            continue\n",
    "\n",
    "        # --- Realizar Cálculos ---\n",
    "        delta_t = backup_time - main_time - CTI\n",
    "        mt = (delta_t - abs(delta_t)) / 2  # Penalización solo si delta_t es negativo\n",
    "\n",
    "        # Crear una copia del par y añadirle los resultados del cálculo\n",
    "        pair_info = copy.deepcopy(pair_entry)\n",
    "        pair_info['delta_t'] = delta_t\n",
    "        pair_info['mt'] = mt\n",
    "\n",
    "        # --- Clasificar (solo pares del TARGET_SCENARIO_ID) ---\n",
    "        if delta_t >= 0:\n",
    "            coordinated_pairs.append(pair_info)\n",
    "        else:\n",
    "            uncoordinated_pairs.append(pair_info)\n",
    "\n",
    "    print(\"Procesamiento de pares completado.\")\n",
    "\n",
    "    # 3. Calcular Métricas Finales (solo para TARGET_SCENARIO_ID)\n",
    "    if scenario_pairs_found == 0:\n",
    "         print (f\"No se encontraron pares válidos para '{TARGET_SCENARIO_ID}' en el archivo.\")\n",
    "    else:\n",
    "        total_valid_pairs_scenario = len(coordinated_pairs) + len(uncoordinated_pairs) # Pares válidos DENTRO del escenario\n",
    "        miscoordination_count_scenario = len(uncoordinated_pairs)\n",
    "        # Sumar 'mt' solo de los pares del escenario objetivo (que son los únicos en las listas)\n",
    "        tmt_total_scenario = sum(pair[\"mt\"] for pair in coordinated_pairs + uncoordinated_pairs)\n",
    "\n",
    "\n",
    "        # 4. Imprimir Resultados\n",
    "        print(f\"\\n--- Resultados del Análisis de Coordinación para '{TARGET_SCENARIO_ID}' ---\")\n",
    "        print(f\"Total de pares leídos del archivo: {total_pairs_read}\")\n",
    "        print(f\"Total de pares encontrados para '{TARGET_SCENARIO_ID}': {scenario_pairs_found}\")\n",
    "        if skipped_pairs_count > 0:\n",
    "            print(f\"Pares omitidos DENTRO de '{TARGET_SCENARIO_ID}' (datos inválidos/faltantes): {skipped_pairs_count}\")\n",
    "        print(f\"Total de pares válidos analizados para '{TARGET_SCENARIO_ID}': {total_valid_pairs_scenario}\")\n",
    "        print(f\"Número de pares coordinados (delta_t >= 0) en '{TARGET_SCENARIO_ID}': {len(coordinated_pairs)}\")\n",
    "        print(f\"Número de pares DESCOORDINADOS (delta_t < 0) en '{TARGET_SCENARIO_ID}': {miscoordination_count_scenario}\")\n",
    "        print(f\"Suma total de penalización por descoordinación (TMT Total) para '{TARGET_SCENARIO_ID}': {tmt_total_scenario:.5f}\") # Imprimir con 5 decimales\n",
    "\n",
    "except FileNotFoundError:\n",
    "    print(f\"Error CRÍTICO: No se pudo encontrar el archivo de entrada: {input_file}\")\n",
    "except TypeError as e:\n",
    "    print(f\"Error CRÍTICO: Problema con el tipo de datos esperado en el archivo JSON: {e}\")\n",
    "except json.JSONDecodeError as e:\n",
    "    print(f\"Error CRÍTICO: El archivo de entrada JSON ({input_file}) está mal formado: {e}\")\n",
    "except Exception as e:\n",
    "    import traceback\n",
    "    print(f\"Error inesperado durante el procesamiento: {e}\")\n",
    "    print(\"--- Traceback ---\")\n",
    "    traceback.print_exc()\n",
    "    print(\"-----------------\")"
   ]
  },
  {
   "cell_type": "code",
   "execution_count": 3,
   "metadata": {},
   "outputs": [
    {
     "data": {
      "application/vnd.plotly.v1+json": {
       "config": {
        "plotlyServerURL": "https://plot.ly"
       },
       "data": [
        {
         "hovertemplate": "<b>%{text}</b><br>MT: %{y:.5f}<br>Índice: %{x}<extra></extra>",
         "marker": {
          "color": "green"
         },
         "name": "Pares Coordinados",
         "text": [
          "Main_1-Backup_1",
          "Main_2-Backup_2",
          "Main_3-Backup_3",
          "Main_4-Backup_4",
          "Main_5-Backup_5",
          "Main_10-Backup_10",
          "Main_7-Backup_7",
          "Main_8-Backup_8",
          "Main_9-Backup_9",
          "Main_11-Backup_11",
          "Main_6-Backup_6",
          "Main_0-Backup_0"
         ],
         "type": "bar",
         "x": [
          2,
          3,
          4,
          5,
          6,
          11,
          8,
          9,
          10,
          12,
          7,
          1
         ],
         "y": [
          0,
          0,
          0,
          0,
          0,
          0,
          0,
          0,
          0,
          0,
          0,
          0
         ]
        },
        {
         "hovertemplate": "<b>%{text}</b><br>MT: %{y:.5f}<br>Índice: %{x}<extra></extra>",
         "marker": {
          "color": "red"
         },
         "name": "Pares Descoordinados",
         "text": [
          "Main_70-Backup_70",
          "Main_91-Backup_91",
          "Main_26-Backup_26",
          "Main_90-Backup_90",
          "Main_77-Backup_77",
          "Main_24-Backup_24",
          "Main_94-Backup_94",
          "Main_92-Backup_92",
          "Main_96-Backup_96",
          "Main_98-Backup_98",
          "Main_99-Backup_99",
          "Main_97-Backup_97",
          "Main_78-Backup_78",
          "Main_79-Backup_79",
          "Main_33-Backup_33",
          "Main_61-Backup_61",
          "Main_60-Backup_60",
          "Main_80-Backup_80",
          "Main_76-Backup_76",
          "Main_58-Backup_58",
          "Main_31-Backup_31",
          "Main_63-Backup_63",
          "Main_14-Backup_14",
          "Main_15-Backup_15",
          "Main_38-Backup_38",
          "Main_18-Backup_18",
          "Main_17-Backup_17",
          "Main_23-Backup_23",
          "Main_32-Backup_32",
          "Main_62-Backup_62",
          "Main_43-Backup_43",
          "Main_83-Backup_83",
          "Main_44-Backup_44",
          "Main_59-Backup_59",
          "Main_29-Backup_29",
          "Main_22-Backup_22",
          "Main_30-Backup_30",
          "Main_82-Backup_82",
          "Main_27-Backup_27",
          "Main_67-Backup_67",
          "Main_68-Backup_68",
          "Main_25-Backup_25",
          "Main_74-Backup_74",
          "Main_87-Backup_87",
          "Main_88-Backup_88",
          "Main_65-Backup_65",
          "Main_85-Backup_85",
          "Main_71-Backup_71",
          "Main_28-Backup_28",
          "Main_81-Backup_81",
          "Main_86-Backup_86",
          "Main_84-Backup_84",
          "Main_64-Backup_64",
          "Main_57-Backup_57",
          "Main_66-Backup_66",
          "Main_36-Backup_36",
          "Main_19-Backup_19",
          "Main_47-Backup_47",
          "Main_56-Backup_56",
          "Main_52-Backup_52",
          "Main_42-Backup_42",
          "Main_39-Backup_39",
          "Main_55-Backup_55",
          "Main_16-Backup_16",
          "Main_51-Backup_51",
          "Main_34-Backup_34",
          "Main_21-Backup_21",
          "Main_35-Backup_35",
          "Main_89-Backup_89",
          "Main_45-Backup_45",
          "Main_93-Backup_93",
          "Main_20-Backup_20",
          "Main_40-Backup_40",
          "Main_41-Backup_41",
          "Main_95-Backup_95",
          "Main_50-Backup_50",
          "Main_48-Backup_48",
          "Main_49-Backup_49",
          "Main_46-Backup_46",
          "Main_53-Backup_53",
          "Main_73-Backup_73",
          "Main_72-Backup_72",
          "Main_75-Backup_75",
          "Main_54-Backup_54",
          "Main_37-Backup_37",
          "Main_69-Backup_69",
          "Main_13-Backup_13",
          "Main_12-Backup_12"
         ],
         "type": "bar",
         "x": [
          71,
          92,
          27,
          91,
          78,
          25,
          95,
          93,
          97,
          99,
          100,
          98,
          79,
          80,
          34,
          62,
          61,
          81,
          77,
          59,
          32,
          64,
          15,
          16,
          39,
          19,
          18,
          24,
          33,
          63,
          44,
          84,
          45,
          60,
          30,
          23,
          31,
          83,
          28,
          68,
          69,
          26,
          75,
          88,
          89,
          66,
          86,
          72,
          29,
          82,
          87,
          85,
          65,
          58,
          67,
          37,
          20,
          48,
          57,
          53,
          43,
          40,
          56,
          17,
          52,
          35,
          22,
          36,
          90,
          46,
          94,
          21,
          41,
          42,
          96,
          51,
          49,
          50,
          47,
          54,
          74,
          73,
          76,
          55,
          38,
          70,
          14,
          13
         ],
         "y": [
          -0.3842,
          -0.38370000000000004,
          -0.3731,
          -0.3665,
          -0.3521,
          -0.3447,
          -0.3266,
          -0.2978,
          -0.2777,
          -0.2707,
          -0.24320000000000003,
          -0.2364,
          -0.21080000000000004,
          -0.20729999999999998,
          -0.1992,
          -0.199,
          -0.19890000000000002,
          -0.19840000000000002,
          -0.19679999999999997,
          -0.19619999999999999,
          -0.1946,
          -0.19440000000000002,
          -0.194,
          -0.19370000000000004,
          -0.19319999999999998,
          -0.193,
          -0.193,
          -0.1896,
          -0.18920000000000003,
          -0.18880000000000002,
          -0.1876,
          -0.18750000000000006,
          -0.1875,
          -0.18680000000000002,
          -0.18569999999999998,
          -0.1856,
          -0.1854,
          -0.18510000000000004,
          -0.18430000000000002,
          -0.18410000000000004,
          -0.1839,
          -0.18310000000000004,
          -0.18230000000000002,
          -0.18159999999999998,
          -0.1814,
          -0.17760000000000004,
          -0.17710000000000004,
          -0.17710000000000004,
          -0.1764,
          -0.17610000000000003,
          -0.1753,
          -0.17360000000000003,
          -0.17320000000000002,
          -0.17240000000000005,
          -0.17010000000000003,
          -0.17,
          -0.1697,
          -0.16910000000000003,
          -0.16850000000000004,
          -0.16690000000000005,
          -0.1663,
          -0.16400000000000003,
          -0.16310000000000002,
          -0.1612,
          -0.16110000000000002,
          -0.15560000000000002,
          -0.15510000000000002,
          -0.14989999999999998,
          -0.1476,
          -0.14180000000000004,
          -0.14090000000000003,
          -0.13920000000000002,
          -0.127,
          -0.1269,
          -0.1215,
          -0.12040000000000001,
          -0.12040000000000001,
          -0.12020000000000003,
          -0.11160000000000003,
          -0.10320000000000001,
          -0.08370000000000002,
          -0.07680000000000003,
          -0.06030000000000002,
          -0.05820000000000003,
          -0.026499999999999996,
          -2.7755575615628914e-17,
          -2.7755575615628914e-17,
          -2.7755575615628914e-17
         ]
        }
       ],
       "layout": {
        "barmode": "group",
        "legend": {
         "bgcolor": "rgba(255, 255, 255, 0.5)",
         "bordercolor": "rgba(0, 0, 0, 0.5)",
         "x": 0.01,
         "y": 0.99
        },
        "shapes": [
         {
          "line": {
           "color": "black",
           "dash": "dash",
           "width": 1
          },
          "type": "line",
          "x0": 0,
          "x1": 100,
          "y0": 0,
          "y1": 0
         }
        ],
        "template": {
         "data": {
          "bar": [
           {
            "error_x": {
             "color": "#2a3f5f"
            },
            "error_y": {
             "color": "#2a3f5f"
            },
            "marker": {
             "line": {
              "color": "#E5ECF6",
              "width": 0.5
             },
             "pattern": {
              "fillmode": "overlay",
              "size": 10,
              "solidity": 0.2
             }
            },
            "type": "bar"
           }
          ],
          "barpolar": [
           {
            "marker": {
             "line": {
              "color": "#E5ECF6",
              "width": 0.5
             },
             "pattern": {
              "fillmode": "overlay",
              "size": 10,
              "solidity": 0.2
             }
            },
            "type": "barpolar"
           }
          ],
          "carpet": [
           {
            "aaxis": {
             "endlinecolor": "#2a3f5f",
             "gridcolor": "white",
             "linecolor": "white",
             "minorgridcolor": "white",
             "startlinecolor": "#2a3f5f"
            },
            "baxis": {
             "endlinecolor": "#2a3f5f",
             "gridcolor": "white",
             "linecolor": "white",
             "minorgridcolor": "white",
             "startlinecolor": "#2a3f5f"
            },
            "type": "carpet"
           }
          ],
          "choropleth": [
           {
            "colorbar": {
             "outlinewidth": 0,
             "ticks": ""
            },
            "type": "choropleth"
           }
          ],
          "contour": [
           {
            "colorbar": {
             "outlinewidth": 0,
             "ticks": ""
            },
            "colorscale": [
             [
              0,
              "#0d0887"
             ],
             [
              0.1111111111111111,
              "#46039f"
             ],
             [
              0.2222222222222222,
              "#7201a8"
             ],
             [
              0.3333333333333333,
              "#9c179e"
             ],
             [
              0.4444444444444444,
              "#bd3786"
             ],
             [
              0.5555555555555556,
              "#d8576b"
             ],
             [
              0.6666666666666666,
              "#ed7953"
             ],
             [
              0.7777777777777778,
              "#fb9f3a"
             ],
             [
              0.8888888888888888,
              "#fdca26"
             ],
             [
              1,
              "#f0f921"
             ]
            ],
            "type": "contour"
           }
          ],
          "contourcarpet": [
           {
            "colorbar": {
             "outlinewidth": 0,
             "ticks": ""
            },
            "type": "contourcarpet"
           }
          ],
          "heatmap": [
           {
            "colorbar": {
             "outlinewidth": 0,
             "ticks": ""
            },
            "colorscale": [
             [
              0,
              "#0d0887"
             ],
             [
              0.1111111111111111,
              "#46039f"
             ],
             [
              0.2222222222222222,
              "#7201a8"
             ],
             [
              0.3333333333333333,
              "#9c179e"
             ],
             [
              0.4444444444444444,
              "#bd3786"
             ],
             [
              0.5555555555555556,
              "#d8576b"
             ],
             [
              0.6666666666666666,
              "#ed7953"
             ],
             [
              0.7777777777777778,
              "#fb9f3a"
             ],
             [
              0.8888888888888888,
              "#fdca26"
             ],
             [
              1,
              "#f0f921"
             ]
            ],
            "type": "heatmap"
           }
          ],
          "heatmapgl": [
           {
            "colorbar": {
             "outlinewidth": 0,
             "ticks": ""
            },
            "colorscale": [
             [
              0,
              "#0d0887"
             ],
             [
              0.1111111111111111,
              "#46039f"
             ],
             [
              0.2222222222222222,
              "#7201a8"
             ],
             [
              0.3333333333333333,
              "#9c179e"
             ],
             [
              0.4444444444444444,
              "#bd3786"
             ],
             [
              0.5555555555555556,
              "#d8576b"
             ],
             [
              0.6666666666666666,
              "#ed7953"
             ],
             [
              0.7777777777777778,
              "#fb9f3a"
             ],
             [
              0.8888888888888888,
              "#fdca26"
             ],
             [
              1,
              "#f0f921"
             ]
            ],
            "type": "heatmapgl"
           }
          ],
          "histogram": [
           {
            "marker": {
             "pattern": {
              "fillmode": "overlay",
              "size": 10,
              "solidity": 0.2
             }
            },
            "type": "histogram"
           }
          ],
          "histogram2d": [
           {
            "colorbar": {
             "outlinewidth": 0,
             "ticks": ""
            },
            "colorscale": [
             [
              0,
              "#0d0887"
             ],
             [
              0.1111111111111111,
              "#46039f"
             ],
             [
              0.2222222222222222,
              "#7201a8"
             ],
             [
              0.3333333333333333,
              "#9c179e"
             ],
             [
              0.4444444444444444,
              "#bd3786"
             ],
             [
              0.5555555555555556,
              "#d8576b"
             ],
             [
              0.6666666666666666,
              "#ed7953"
             ],
             [
              0.7777777777777778,
              "#fb9f3a"
             ],
             [
              0.8888888888888888,
              "#fdca26"
             ],
             [
              1,
              "#f0f921"
             ]
            ],
            "type": "histogram2d"
           }
          ],
          "histogram2dcontour": [
           {
            "colorbar": {
             "outlinewidth": 0,
             "ticks": ""
            },
            "colorscale": [
             [
              0,
              "#0d0887"
             ],
             [
              0.1111111111111111,
              "#46039f"
             ],
             [
              0.2222222222222222,
              "#7201a8"
             ],
             [
              0.3333333333333333,
              "#9c179e"
             ],
             [
              0.4444444444444444,
              "#bd3786"
             ],
             [
              0.5555555555555556,
              "#d8576b"
             ],
             [
              0.6666666666666666,
              "#ed7953"
             ],
             [
              0.7777777777777778,
              "#fb9f3a"
             ],
             [
              0.8888888888888888,
              "#fdca26"
             ],
             [
              1,
              "#f0f921"
             ]
            ],
            "type": "histogram2dcontour"
           }
          ],
          "mesh3d": [
           {
            "colorbar": {
             "outlinewidth": 0,
             "ticks": ""
            },
            "type": "mesh3d"
           }
          ],
          "parcoords": [
           {
            "line": {
             "colorbar": {
              "outlinewidth": 0,
              "ticks": ""
             }
            },
            "type": "parcoords"
           }
          ],
          "pie": [
           {
            "automargin": true,
            "type": "pie"
           }
          ],
          "scatter": [
           {
            "fillpattern": {
             "fillmode": "overlay",
             "size": 10,
             "solidity": 0.2
            },
            "type": "scatter"
           }
          ],
          "scatter3d": [
           {
            "line": {
             "colorbar": {
              "outlinewidth": 0,
              "ticks": ""
             }
            },
            "marker": {
             "colorbar": {
              "outlinewidth": 0,
              "ticks": ""
             }
            },
            "type": "scatter3d"
           }
          ],
          "scattercarpet": [
           {
            "marker": {
             "colorbar": {
              "outlinewidth": 0,
              "ticks": ""
             }
            },
            "type": "scattercarpet"
           }
          ],
          "scattergeo": [
           {
            "marker": {
             "colorbar": {
              "outlinewidth": 0,
              "ticks": ""
             }
            },
            "type": "scattergeo"
           }
          ],
          "scattergl": [
           {
            "marker": {
             "colorbar": {
              "outlinewidth": 0,
              "ticks": ""
             }
            },
            "type": "scattergl"
           }
          ],
          "scattermapbox": [
           {
            "marker": {
             "colorbar": {
              "outlinewidth": 0,
              "ticks": ""
             }
            },
            "type": "scattermapbox"
           }
          ],
          "scatterpolar": [
           {
            "marker": {
             "colorbar": {
              "outlinewidth": 0,
              "ticks": ""
             }
            },
            "type": "scatterpolar"
           }
          ],
          "scatterpolargl": [
           {
            "marker": {
             "colorbar": {
              "outlinewidth": 0,
              "ticks": ""
             }
            },
            "type": "scatterpolargl"
           }
          ],
          "scatterternary": [
           {
            "marker": {
             "colorbar": {
              "outlinewidth": 0,
              "ticks": ""
             }
            },
            "type": "scatterternary"
           }
          ],
          "surface": [
           {
            "colorbar": {
             "outlinewidth": 0,
             "ticks": ""
            },
            "colorscale": [
             [
              0,
              "#0d0887"
             ],
             [
              0.1111111111111111,
              "#46039f"
             ],
             [
              0.2222222222222222,
              "#7201a8"
             ],
             [
              0.3333333333333333,
              "#9c179e"
             ],
             [
              0.4444444444444444,
              "#bd3786"
             ],
             [
              0.5555555555555556,
              "#d8576b"
             ],
             [
              0.6666666666666666,
              "#ed7953"
             ],
             [
              0.7777777777777778,
              "#fb9f3a"
             ],
             [
              0.8888888888888888,
              "#fdca26"
             ],
             [
              1,
              "#f0f921"
             ]
            ],
            "type": "surface"
           }
          ],
          "table": [
           {
            "cells": {
             "fill": {
              "color": "#EBF0F8"
             },
             "line": {
              "color": "white"
             }
            },
            "header": {
             "fill": {
              "color": "#C8D4E3"
             },
             "line": {
              "color": "white"
             }
            },
            "type": "table"
           }
          ]
         },
         "layout": {
          "annotationdefaults": {
           "arrowcolor": "#2a3f5f",
           "arrowhead": 0,
           "arrowwidth": 1
          },
          "autotypenumbers": "strict",
          "coloraxis": {
           "colorbar": {
            "outlinewidth": 0,
            "ticks": ""
           }
          },
          "colorscale": {
           "diverging": [
            [
             0,
             "#8e0152"
            ],
            [
             0.1,
             "#c51b7d"
            ],
            [
             0.2,
             "#de77ae"
            ],
            [
             0.3,
             "#f1b6da"
            ],
            [
             0.4,
             "#fde0ef"
            ],
            [
             0.5,
             "#f7f7f7"
            ],
            [
             0.6,
             "#e6f5d0"
            ],
            [
             0.7,
             "#b8e186"
            ],
            [
             0.8,
             "#7fbc41"
            ],
            [
             0.9,
             "#4d9221"
            ],
            [
             1,
             "#276419"
            ]
           ],
           "sequential": [
            [
             0,
             "#0d0887"
            ],
            [
             0.1111111111111111,
             "#46039f"
            ],
            [
             0.2222222222222222,
             "#7201a8"
            ],
            [
             0.3333333333333333,
             "#9c179e"
            ],
            [
             0.4444444444444444,
             "#bd3786"
            ],
            [
             0.5555555555555556,
             "#d8576b"
            ],
            [
             0.6666666666666666,
             "#ed7953"
            ],
            [
             0.7777777777777778,
             "#fb9f3a"
            ],
            [
             0.8888888888888888,
             "#fdca26"
            ],
            [
             1,
             "#f0f921"
            ]
           ],
           "sequentialminus": [
            [
             0,
             "#0d0887"
            ],
            [
             0.1111111111111111,
             "#46039f"
            ],
            [
             0.2222222222222222,
             "#7201a8"
            ],
            [
             0.3333333333333333,
             "#9c179e"
            ],
            [
             0.4444444444444444,
             "#bd3786"
            ],
            [
             0.5555555555555556,
             "#d8576b"
            ],
            [
             0.6666666666666666,
             "#ed7953"
            ],
            [
             0.7777777777777778,
             "#fb9f3a"
            ],
            [
             0.8888888888888888,
             "#fdca26"
            ],
            [
             1,
             "#f0f921"
            ]
           ]
          },
          "colorway": [
           "#636efa",
           "#EF553B",
           "#00cc96",
           "#ab63fa",
           "#FFA15A",
           "#19d3f3",
           "#FF6692",
           "#B6E880",
           "#FF97FF",
           "#FECB52"
          ],
          "font": {
           "color": "#2a3f5f"
          },
          "geo": {
           "bgcolor": "white",
           "lakecolor": "white",
           "landcolor": "#E5ECF6",
           "showlakes": true,
           "showland": true,
           "subunitcolor": "white"
          },
          "hoverlabel": {
           "align": "left"
          },
          "hovermode": "closest",
          "mapbox": {
           "style": "light"
          },
          "paper_bgcolor": "white",
          "plot_bgcolor": "#E5ECF6",
          "polar": {
           "angularaxis": {
            "gridcolor": "white",
            "linecolor": "white",
            "ticks": ""
           },
           "bgcolor": "#E5ECF6",
           "radialaxis": {
            "gridcolor": "white",
            "linecolor": "white",
            "ticks": ""
           }
          },
          "scene": {
           "xaxis": {
            "backgroundcolor": "#E5ECF6",
            "gridcolor": "white",
            "gridwidth": 2,
            "linecolor": "white",
            "showbackground": true,
            "ticks": "",
            "zerolinecolor": "white"
           },
           "yaxis": {
            "backgroundcolor": "#E5ECF6",
            "gridcolor": "white",
            "gridwidth": 2,
            "linecolor": "white",
            "showbackground": true,
            "ticks": "",
            "zerolinecolor": "white"
           },
           "zaxis": {
            "backgroundcolor": "#E5ECF6",
            "gridcolor": "white",
            "gridwidth": 2,
            "linecolor": "white",
            "showbackground": true,
            "ticks": "",
            "zerolinecolor": "white"
           }
          },
          "shapedefaults": {
           "line": {
            "color": "#2a3f5f"
           }
          },
          "ternary": {
           "aaxis": {
            "gridcolor": "white",
            "linecolor": "white",
            "ticks": ""
           },
           "baxis": {
            "gridcolor": "white",
            "linecolor": "white",
            "ticks": ""
           },
           "bgcolor": "#E5ECF6",
           "caxis": {
            "gridcolor": "white",
            "linecolor": "white",
            "ticks": ""
           }
          },
          "title": {
           "x": 0.05
          },
          "xaxis": {
           "automargin": true,
           "gridcolor": "white",
           "linecolor": "white",
           "ticks": "",
           "title": {
            "standoff": 15
           },
           "zerolinecolor": "white",
           "zerolinewidth": 2
          },
          "yaxis": {
           "automargin": true,
           "gridcolor": "white",
           "linecolor": "white",
           "ticks": "",
           "title": {
            "standoff": 15
           },
           "zerolinecolor": "white",
           "zerolinewidth": 2
          }
         }
        },
        "title": {
         "text": "Índice MT para 100 Pares de Relés en el Escenario Base"
        },
        "xaxis": {
         "dtick": 5,
         "tick0": 1,
         "tickmode": "linear",
         "title": {
          "text": "Índice del Par de Relés"
         }
        },
        "yaxis": {
         "title": {
          "text": "Valor MT (Penalización)"
         }
        }
       }
      }
     },
     "metadata": {},
     "output_type": "display_data"
    },
    {
     "data": {
      "application/vnd.plotly.v1+json": {
       "config": {
        "plotlyServerURL": "https://plot.ly"
       },
       "data": [
        {
         "customdata": [
          [
           "Main_70-Backup_70",
           -0.3842
          ],
          [
           "Main_91-Backup_91",
           -0.38370000000000004
          ],
          [
           "Main_26-Backup_26",
           -0.3731
          ],
          [
           "Main_90-Backup_90",
           -0.3665
          ],
          [
           "Main_77-Backup_77",
           -0.3521
          ],
          [
           "Main_24-Backup_24",
           -0.3447
          ],
          [
           "Main_94-Backup_94",
           -0.3266
          ],
          [
           "Main_92-Backup_92",
           -0.2978
          ],
          [
           "Main_96-Backup_96",
           -0.2777
          ],
          [
           "Main_98-Backup_98",
           -0.2707
          ],
          [
           "Main_99-Backup_99",
           -0.24320000000000003
          ],
          [
           "Main_97-Backup_97",
           -0.2364
          ],
          [
           "Main_78-Backup_78",
           -0.21080000000000004
          ],
          [
           "Main_79-Backup_79",
           -0.20729999999999998
          ],
          [
           "Main_33-Backup_33",
           -0.1992
          ],
          [
           "Main_61-Backup_61",
           -0.199
          ],
          [
           "Main_60-Backup_60",
           -0.19890000000000002
          ],
          [
           "Main_80-Backup_80",
           -0.19840000000000002
          ],
          [
           "Main_76-Backup_76",
           -0.19679999999999997
          ],
          [
           "Main_58-Backup_58",
           -0.19619999999999999
          ],
          [
           "Main_31-Backup_31",
           -0.1946
          ],
          [
           "Main_63-Backup_63",
           -0.19440000000000002
          ],
          [
           "Main_14-Backup_14",
           -0.194
          ],
          [
           "Main_15-Backup_15",
           -0.19370000000000004
          ],
          [
           "Main_38-Backup_38",
           -0.19319999999999998
          ],
          [
           "Main_18-Backup_18",
           -0.193
          ],
          [
           "Main_17-Backup_17",
           -0.193
          ],
          [
           "Main_23-Backup_23",
           -0.1896
          ],
          [
           "Main_32-Backup_32",
           -0.18920000000000003
          ],
          [
           "Main_62-Backup_62",
           -0.18880000000000002
          ],
          [
           "Main_43-Backup_43",
           -0.1876
          ],
          [
           "Main_83-Backup_83",
           -0.18750000000000006
          ],
          [
           "Main_44-Backup_44",
           -0.1875
          ],
          [
           "Main_59-Backup_59",
           -0.18680000000000002
          ],
          [
           "Main_29-Backup_29",
           -0.18569999999999998
          ],
          [
           "Main_22-Backup_22",
           -0.1856
          ],
          [
           "Main_30-Backup_30",
           -0.1854
          ],
          [
           "Main_82-Backup_82",
           -0.18510000000000004
          ],
          [
           "Main_27-Backup_27",
           -0.18430000000000002
          ],
          [
           "Main_67-Backup_67",
           -0.18410000000000004
          ],
          [
           "Main_68-Backup_68",
           -0.1839
          ],
          [
           "Main_25-Backup_25",
           -0.18310000000000004
          ],
          [
           "Main_74-Backup_74",
           -0.18230000000000002
          ],
          [
           "Main_87-Backup_87",
           -0.18159999999999998
          ],
          [
           "Main_88-Backup_88",
           -0.1814
          ],
          [
           "Main_65-Backup_65",
           -0.17760000000000004
          ],
          [
           "Main_85-Backup_85",
           -0.17710000000000004
          ],
          [
           "Main_71-Backup_71",
           -0.17710000000000004
          ],
          [
           "Main_28-Backup_28",
           -0.1764
          ],
          [
           "Main_81-Backup_81",
           -0.17610000000000003
          ],
          [
           "Main_86-Backup_86",
           -0.1753
          ],
          [
           "Main_84-Backup_84",
           -0.17360000000000003
          ],
          [
           "Main_64-Backup_64",
           -0.17320000000000002
          ],
          [
           "Main_57-Backup_57",
           -0.17240000000000005
          ],
          [
           "Main_66-Backup_66",
           -0.17010000000000003
          ],
          [
           "Main_36-Backup_36",
           -0.17
          ],
          [
           "Main_19-Backup_19",
           -0.1697
          ],
          [
           "Main_47-Backup_47",
           -0.16910000000000003
          ],
          [
           "Main_56-Backup_56",
           -0.16850000000000004
          ],
          [
           "Main_52-Backup_52",
           -0.16690000000000005
          ],
          [
           "Main_42-Backup_42",
           -0.1663
          ],
          [
           "Main_39-Backup_39",
           -0.16400000000000003
          ],
          [
           "Main_55-Backup_55",
           -0.16310000000000002
          ],
          [
           "Main_16-Backup_16",
           -0.1612
          ],
          [
           "Main_51-Backup_51",
           -0.16110000000000002
          ],
          [
           "Main_34-Backup_34",
           -0.15560000000000002
          ],
          [
           "Main_21-Backup_21",
           -0.15510000000000002
          ],
          [
           "Main_35-Backup_35",
           -0.14989999999999998
          ],
          [
           "Main_89-Backup_89",
           -0.1476
          ],
          [
           "Main_45-Backup_45",
           -0.14180000000000004
          ],
          [
           "Main_93-Backup_93",
           -0.14090000000000003
          ],
          [
           "Main_20-Backup_20",
           -0.13920000000000002
          ],
          [
           "Main_40-Backup_40",
           -0.127
          ],
          [
           "Main_41-Backup_41",
           -0.1269
          ],
          [
           "Main_95-Backup_95",
           -0.1215
          ],
          [
           "Main_50-Backup_50",
           -0.12040000000000001
          ],
          [
           "Main_48-Backup_48",
           -0.12040000000000001
          ],
          [
           "Main_49-Backup_49",
           -0.12020000000000003
          ],
          [
           "Main_46-Backup_46",
           -0.11160000000000003
          ],
          [
           "Main_53-Backup_53",
           -0.10320000000000001
          ],
          [
           "Main_73-Backup_73",
           -0.08370000000000002
          ],
          [
           "Main_72-Backup_72",
           -0.07680000000000003
          ],
          [
           "Main_75-Backup_75",
           -0.06030000000000002
          ],
          [
           "Main_54-Backup_54",
           -0.05820000000000003
          ],
          [
           "Main_37-Backup_37",
           -0.026499999999999996
          ],
          [
           "Main_69-Backup_69",
           -2.7755575615628914e-17
          ],
          [
           "Main_13-Backup_13",
           -2.7755575615628914e-17
          ],
          [
           "Main_12-Backup_12",
           -2.7755575615628914e-17
          ]
         ],
         "hovertemplate": "status=Descoordinado<br>index=%{x}<br>delta_t=%{y}<br>pair_name=%{customdata[0]}<br>mt=%{customdata[1]}<extra></extra>",
         "legendgroup": "Descoordinado",
         "marker": {
          "color": "red",
          "symbol": "circle"
         },
         "mode": "markers",
         "name": "Descoordinado",
         "orientation": "v",
         "showlegend": true,
         "type": "scatter",
         "x": [
          71,
          92,
          27,
          91,
          78,
          25,
          95,
          93,
          97,
          99,
          100,
          98,
          79,
          80,
          34,
          62,
          61,
          81,
          77,
          59,
          32,
          64,
          15,
          16,
          39,
          19,
          18,
          24,
          33,
          63,
          44,
          84,
          45,
          60,
          30,
          23,
          31,
          83,
          28,
          68,
          69,
          26,
          75,
          88,
          89,
          66,
          86,
          72,
          29,
          82,
          87,
          85,
          65,
          58,
          67,
          37,
          20,
          48,
          57,
          53,
          43,
          40,
          56,
          17,
          52,
          35,
          22,
          36,
          90,
          46,
          94,
          21,
          41,
          42,
          96,
          51,
          49,
          50,
          47,
          54,
          74,
          73,
          76,
          55,
          38,
          70,
          14,
          13
         ],
         "xaxis": "x",
         "y": [
          -0.3842,
          -0.38370000000000004,
          -0.3731,
          -0.3665,
          -0.3521,
          -0.3447,
          -0.3266,
          -0.2978,
          -0.2777,
          -0.2707,
          -0.24320000000000003,
          -0.2364,
          -0.21080000000000004,
          -0.20729999999999998,
          -0.1992,
          -0.199,
          -0.19890000000000002,
          -0.19840000000000002,
          -0.19679999999999997,
          -0.19619999999999999,
          -0.1946,
          -0.19440000000000002,
          -0.194,
          -0.19370000000000004,
          -0.19319999999999998,
          -0.193,
          -0.193,
          -0.1896,
          -0.18920000000000003,
          -0.18880000000000002,
          -0.1876,
          -0.18750000000000006,
          -0.1875,
          -0.18680000000000002,
          -0.18569999999999998,
          -0.1856,
          -0.1854,
          -0.18510000000000004,
          -0.18430000000000002,
          -0.18410000000000004,
          -0.1839,
          -0.18310000000000004,
          -0.18230000000000002,
          -0.18159999999999998,
          -0.1814,
          -0.17760000000000004,
          -0.17710000000000004,
          -0.17710000000000004,
          -0.1764,
          -0.17610000000000003,
          -0.1753,
          -0.17360000000000003,
          -0.17320000000000002,
          -0.17240000000000005,
          -0.17010000000000003,
          -0.17,
          -0.1697,
          -0.16910000000000003,
          -0.16850000000000004,
          -0.16690000000000005,
          -0.1663,
          -0.16400000000000003,
          -0.16310000000000002,
          -0.1612,
          -0.16110000000000002,
          -0.15560000000000002,
          -0.15510000000000002,
          -0.14989999999999998,
          -0.1476,
          -0.14180000000000004,
          -0.14090000000000003,
          -0.13920000000000002,
          -0.127,
          -0.1269,
          -0.1215,
          -0.12040000000000001,
          -0.12040000000000001,
          -0.12020000000000003,
          -0.11160000000000003,
          -0.10320000000000001,
          -0.08370000000000002,
          -0.07680000000000003,
          -0.06030000000000002,
          -0.05820000000000003,
          -0.026499999999999996,
          -2.7755575615628914e-17,
          -2.7755575615628914e-17,
          -2.7755575615628914e-17
         ],
         "yaxis": "y"
        },
        {
         "customdata": [
          [
           "Main_1-Backup_1",
           0
          ],
          [
           "Main_2-Backup_2",
           0
          ],
          [
           "Main_3-Backup_3",
           0
          ],
          [
           "Main_4-Backup_4",
           0
          ],
          [
           "Main_5-Backup_5",
           0
          ],
          [
           "Main_10-Backup_10",
           0
          ],
          [
           "Main_7-Backup_7",
           0
          ],
          [
           "Main_8-Backup_8",
           0
          ],
          [
           "Main_9-Backup_9",
           0
          ],
          [
           "Main_11-Backup_11",
           0
          ],
          [
           "Main_6-Backup_6",
           0
          ],
          [
           "Main_0-Backup_0",
           0
          ]
         ],
         "hovertemplate": "status=Coordinado<br>index=%{x}<br>delta_t=%{y}<br>pair_name=%{customdata[0]}<br>mt=%{customdata[1]}<extra></extra>",
         "legendgroup": "Coordinado",
         "marker": {
          "color": "green",
          "symbol": "circle"
         },
         "mode": "markers",
         "name": "Coordinado",
         "orientation": "v",
         "showlegend": true,
         "type": "scatter",
         "x": [
          2,
          3,
          4,
          5,
          6,
          11,
          8,
          9,
          10,
          12,
          7,
          1
         ],
         "xaxis": "x",
         "y": [
          0,
          0.008000000000000007,
          0.0012999999999999956,
          0,
          0,
          0,
          0.0041999999999999815,
          0,
          0,
          0,
          0,
          0
         ],
         "yaxis": "y"
        }
       ],
       "layout": {
        "legend": {
         "title": {
          "text": "status"
         },
         "tracegroupgap": 0
        },
        "shapes": [
         {
          "line": {
           "color": "black",
           "dash": "dash",
           "width": 1
          },
          "type": "line",
          "x0": 0,
          "x1": 100,
          "y0": 0,
          "y1": 0
         }
        ],
        "template": {
         "data": {
          "bar": [
           {
            "error_x": {
             "color": "#2a3f5f"
            },
            "error_y": {
             "color": "#2a3f5f"
            },
            "marker": {
             "line": {
              "color": "#E5ECF6",
              "width": 0.5
             },
             "pattern": {
              "fillmode": "overlay",
              "size": 10,
              "solidity": 0.2
             }
            },
            "type": "bar"
           }
          ],
          "barpolar": [
           {
            "marker": {
             "line": {
              "color": "#E5ECF6",
              "width": 0.5
             },
             "pattern": {
              "fillmode": "overlay",
              "size": 10,
              "solidity": 0.2
             }
            },
            "type": "barpolar"
           }
          ],
          "carpet": [
           {
            "aaxis": {
             "endlinecolor": "#2a3f5f",
             "gridcolor": "white",
             "linecolor": "white",
             "minorgridcolor": "white",
             "startlinecolor": "#2a3f5f"
            },
            "baxis": {
             "endlinecolor": "#2a3f5f",
             "gridcolor": "white",
             "linecolor": "white",
             "minorgridcolor": "white",
             "startlinecolor": "#2a3f5f"
            },
            "type": "carpet"
           }
          ],
          "choropleth": [
           {
            "colorbar": {
             "outlinewidth": 0,
             "ticks": ""
            },
            "type": "choropleth"
           }
          ],
          "contour": [
           {
            "colorbar": {
             "outlinewidth": 0,
             "ticks": ""
            },
            "colorscale": [
             [
              0,
              "#0d0887"
             ],
             [
              0.1111111111111111,
              "#46039f"
             ],
             [
              0.2222222222222222,
              "#7201a8"
             ],
             [
              0.3333333333333333,
              "#9c179e"
             ],
             [
              0.4444444444444444,
              "#bd3786"
             ],
             [
              0.5555555555555556,
              "#d8576b"
             ],
             [
              0.6666666666666666,
              "#ed7953"
             ],
             [
              0.7777777777777778,
              "#fb9f3a"
             ],
             [
              0.8888888888888888,
              "#fdca26"
             ],
             [
              1,
              "#f0f921"
             ]
            ],
            "type": "contour"
           }
          ],
          "contourcarpet": [
           {
            "colorbar": {
             "outlinewidth": 0,
             "ticks": ""
            },
            "type": "contourcarpet"
           }
          ],
          "heatmap": [
           {
            "colorbar": {
             "outlinewidth": 0,
             "ticks": ""
            },
            "colorscale": [
             [
              0,
              "#0d0887"
             ],
             [
              0.1111111111111111,
              "#46039f"
             ],
             [
              0.2222222222222222,
              "#7201a8"
             ],
             [
              0.3333333333333333,
              "#9c179e"
             ],
             [
              0.4444444444444444,
              "#bd3786"
             ],
             [
              0.5555555555555556,
              "#d8576b"
             ],
             [
              0.6666666666666666,
              "#ed7953"
             ],
             [
              0.7777777777777778,
              "#fb9f3a"
             ],
             [
              0.8888888888888888,
              "#fdca26"
             ],
             [
              1,
              "#f0f921"
             ]
            ],
            "type": "heatmap"
           }
          ],
          "heatmapgl": [
           {
            "colorbar": {
             "outlinewidth": 0,
             "ticks": ""
            },
            "colorscale": [
             [
              0,
              "#0d0887"
             ],
             [
              0.1111111111111111,
              "#46039f"
             ],
             [
              0.2222222222222222,
              "#7201a8"
             ],
             [
              0.3333333333333333,
              "#9c179e"
             ],
             [
              0.4444444444444444,
              "#bd3786"
             ],
             [
              0.5555555555555556,
              "#d8576b"
             ],
             [
              0.6666666666666666,
              "#ed7953"
             ],
             [
              0.7777777777777778,
              "#fb9f3a"
             ],
             [
              0.8888888888888888,
              "#fdca26"
             ],
             [
              1,
              "#f0f921"
             ]
            ],
            "type": "heatmapgl"
           }
          ],
          "histogram": [
           {
            "marker": {
             "pattern": {
              "fillmode": "overlay",
              "size": 10,
              "solidity": 0.2
             }
            },
            "type": "histogram"
           }
          ],
          "histogram2d": [
           {
            "colorbar": {
             "outlinewidth": 0,
             "ticks": ""
            },
            "colorscale": [
             [
              0,
              "#0d0887"
             ],
             [
              0.1111111111111111,
              "#46039f"
             ],
             [
              0.2222222222222222,
              "#7201a8"
             ],
             [
              0.3333333333333333,
              "#9c179e"
             ],
             [
              0.4444444444444444,
              "#bd3786"
             ],
             [
              0.5555555555555556,
              "#d8576b"
             ],
             [
              0.6666666666666666,
              "#ed7953"
             ],
             [
              0.7777777777777778,
              "#fb9f3a"
             ],
             [
              0.8888888888888888,
              "#fdca26"
             ],
             [
              1,
              "#f0f921"
             ]
            ],
            "type": "histogram2d"
           }
          ],
          "histogram2dcontour": [
           {
            "colorbar": {
             "outlinewidth": 0,
             "ticks": ""
            },
            "colorscale": [
             [
              0,
              "#0d0887"
             ],
             [
              0.1111111111111111,
              "#46039f"
             ],
             [
              0.2222222222222222,
              "#7201a8"
             ],
             [
              0.3333333333333333,
              "#9c179e"
             ],
             [
              0.4444444444444444,
              "#bd3786"
             ],
             [
              0.5555555555555556,
              "#d8576b"
             ],
             [
              0.6666666666666666,
              "#ed7953"
             ],
             [
              0.7777777777777778,
              "#fb9f3a"
             ],
             [
              0.8888888888888888,
              "#fdca26"
             ],
             [
              1,
              "#f0f921"
             ]
            ],
            "type": "histogram2dcontour"
           }
          ],
          "mesh3d": [
           {
            "colorbar": {
             "outlinewidth": 0,
             "ticks": ""
            },
            "type": "mesh3d"
           }
          ],
          "parcoords": [
           {
            "line": {
             "colorbar": {
              "outlinewidth": 0,
              "ticks": ""
             }
            },
            "type": "parcoords"
           }
          ],
          "pie": [
           {
            "automargin": true,
            "type": "pie"
           }
          ],
          "scatter": [
           {
            "fillpattern": {
             "fillmode": "overlay",
             "size": 10,
             "solidity": 0.2
            },
            "type": "scatter"
           }
          ],
          "scatter3d": [
           {
            "line": {
             "colorbar": {
              "outlinewidth": 0,
              "ticks": ""
             }
            },
            "marker": {
             "colorbar": {
              "outlinewidth": 0,
              "ticks": ""
             }
            },
            "type": "scatter3d"
           }
          ],
          "scattercarpet": [
           {
            "marker": {
             "colorbar": {
              "outlinewidth": 0,
              "ticks": ""
             }
            },
            "type": "scattercarpet"
           }
          ],
          "scattergeo": [
           {
            "marker": {
             "colorbar": {
              "outlinewidth": 0,
              "ticks": ""
             }
            },
            "type": "scattergeo"
           }
          ],
          "scattergl": [
           {
            "marker": {
             "colorbar": {
              "outlinewidth": 0,
              "ticks": ""
             }
            },
            "type": "scattergl"
           }
          ],
          "scattermapbox": [
           {
            "marker": {
             "colorbar": {
              "outlinewidth": 0,
              "ticks": ""
             }
            },
            "type": "scattermapbox"
           }
          ],
          "scatterpolar": [
           {
            "marker": {
             "colorbar": {
              "outlinewidth": 0,
              "ticks": ""
             }
            },
            "type": "scatterpolar"
           }
          ],
          "scatterpolargl": [
           {
            "marker": {
             "colorbar": {
              "outlinewidth": 0,
              "ticks": ""
             }
            },
            "type": "scatterpolargl"
           }
          ],
          "scatterternary": [
           {
            "marker": {
             "colorbar": {
              "outlinewidth": 0,
              "ticks": ""
             }
            },
            "type": "scatterternary"
           }
          ],
          "surface": [
           {
            "colorbar": {
             "outlinewidth": 0,
             "ticks": ""
            },
            "colorscale": [
             [
              0,
              "#0d0887"
             ],
             [
              0.1111111111111111,
              "#46039f"
             ],
             [
              0.2222222222222222,
              "#7201a8"
             ],
             [
              0.3333333333333333,
              "#9c179e"
             ],
             [
              0.4444444444444444,
              "#bd3786"
             ],
             [
              0.5555555555555556,
              "#d8576b"
             ],
             [
              0.6666666666666666,
              "#ed7953"
             ],
             [
              0.7777777777777778,
              "#fb9f3a"
             ],
             [
              0.8888888888888888,
              "#fdca26"
             ],
             [
              1,
              "#f0f921"
             ]
            ],
            "type": "surface"
           }
          ],
          "table": [
           {
            "cells": {
             "fill": {
              "color": "#EBF0F8"
             },
             "line": {
              "color": "white"
             }
            },
            "header": {
             "fill": {
              "color": "#C8D4E3"
             },
             "line": {
              "color": "white"
             }
            },
            "type": "table"
           }
          ]
         },
         "layout": {
          "annotationdefaults": {
           "arrowcolor": "#2a3f5f",
           "arrowhead": 0,
           "arrowwidth": 1
          },
          "autotypenumbers": "strict",
          "coloraxis": {
           "colorbar": {
            "outlinewidth": 0,
            "ticks": ""
           }
          },
          "colorscale": {
           "diverging": [
            [
             0,
             "#8e0152"
            ],
            [
             0.1,
             "#c51b7d"
            ],
            [
             0.2,
             "#de77ae"
            ],
            [
             0.3,
             "#f1b6da"
            ],
            [
             0.4,
             "#fde0ef"
            ],
            [
             0.5,
             "#f7f7f7"
            ],
            [
             0.6,
             "#e6f5d0"
            ],
            [
             0.7,
             "#b8e186"
            ],
            [
             0.8,
             "#7fbc41"
            ],
            [
             0.9,
             "#4d9221"
            ],
            [
             1,
             "#276419"
            ]
           ],
           "sequential": [
            [
             0,
             "#0d0887"
            ],
            [
             0.1111111111111111,
             "#46039f"
            ],
            [
             0.2222222222222222,
             "#7201a8"
            ],
            [
             0.3333333333333333,
             "#9c179e"
            ],
            [
             0.4444444444444444,
             "#bd3786"
            ],
            [
             0.5555555555555556,
             "#d8576b"
            ],
            [
             0.6666666666666666,
             "#ed7953"
            ],
            [
             0.7777777777777778,
             "#fb9f3a"
            ],
            [
             0.8888888888888888,
             "#fdca26"
            ],
            [
             1,
             "#f0f921"
            ]
           ],
           "sequentialminus": [
            [
             0,
             "#0d0887"
            ],
            [
             0.1111111111111111,
             "#46039f"
            ],
            [
             0.2222222222222222,
             "#7201a8"
            ],
            [
             0.3333333333333333,
             "#9c179e"
            ],
            [
             0.4444444444444444,
             "#bd3786"
            ],
            [
             0.5555555555555556,
             "#d8576b"
            ],
            [
             0.6666666666666666,
             "#ed7953"
            ],
            [
             0.7777777777777778,
             "#fb9f3a"
            ],
            [
             0.8888888888888888,
             "#fdca26"
            ],
            [
             1,
             "#f0f921"
            ]
           ]
          },
          "colorway": [
           "#636efa",
           "#EF553B",
           "#00cc96",
           "#ab63fa",
           "#FFA15A",
           "#19d3f3",
           "#FF6692",
           "#B6E880",
           "#FF97FF",
           "#FECB52"
          ],
          "font": {
           "color": "#2a3f5f"
          },
          "geo": {
           "bgcolor": "white",
           "lakecolor": "white",
           "landcolor": "#E5ECF6",
           "showlakes": true,
           "showland": true,
           "subunitcolor": "white"
          },
          "hoverlabel": {
           "align": "left"
          },
          "hovermode": "closest",
          "mapbox": {
           "style": "light"
          },
          "paper_bgcolor": "white",
          "plot_bgcolor": "#E5ECF6",
          "polar": {
           "angularaxis": {
            "gridcolor": "white",
            "linecolor": "white",
            "ticks": ""
           },
           "bgcolor": "#E5ECF6",
           "radialaxis": {
            "gridcolor": "white",
            "linecolor": "white",
            "ticks": ""
           }
          },
          "scene": {
           "xaxis": {
            "backgroundcolor": "#E5ECF6",
            "gridcolor": "white",
            "gridwidth": 2,
            "linecolor": "white",
            "showbackground": true,
            "ticks": "",
            "zerolinecolor": "white"
           },
           "yaxis": {
            "backgroundcolor": "#E5ECF6",
            "gridcolor": "white",
            "gridwidth": 2,
            "linecolor": "white",
            "showbackground": true,
            "ticks": "",
            "zerolinecolor": "white"
           },
           "zaxis": {
            "backgroundcolor": "#E5ECF6",
            "gridcolor": "white",
            "gridwidth": 2,
            "linecolor": "white",
            "showbackground": true,
            "ticks": "",
            "zerolinecolor": "white"
           }
          },
          "shapedefaults": {
           "line": {
            "color": "#2a3f5f"
           }
          },
          "ternary": {
           "aaxis": {
            "gridcolor": "white",
            "linecolor": "white",
            "ticks": ""
           },
           "baxis": {
            "gridcolor": "white",
            "linecolor": "white",
            "ticks": ""
           },
           "bgcolor": "#E5ECF6",
           "caxis": {
            "gridcolor": "white",
            "linecolor": "white",
            "ticks": ""
           }
          },
          "title": {
           "x": 0.05
          },
          "xaxis": {
           "automargin": true,
           "gridcolor": "white",
           "linecolor": "white",
           "ticks": "",
           "title": {
            "standoff": 15
           },
           "zerolinecolor": "white",
           "zerolinewidth": 2
          },
          "yaxis": {
           "automargin": true,
           "gridcolor": "white",
           "linecolor": "white",
           "ticks": "",
           "title": {
            "standoff": 15
           },
           "zerolinecolor": "white",
           "zerolinewidth": 2
          }
         }
        },
        "title": {
         "text": "Delta_t para 100 Pares de Relés (CTI = 0.2s)"
        },
        "xaxis": {
         "anchor": "y",
         "domain": [
          0,
          1
         ],
         "dtick": 5,
         "tick0": 1,
         "tickmode": "linear",
         "title": {
          "text": "Índice del Par de Relés"
         }
        },
        "yaxis": {
         "anchor": "x",
         "domain": [
          0,
          1
         ],
         "title": {
          "text": "Delta_t - CTI (s)"
         }
        }
       }
      }
     },
     "metadata": {},
     "output_type": "display_data"
    },
    {
     "data": {
      "application/vnd.plotly.v1+json": {
       "config": {
        "plotlyServerURL": "https://plot.ly"
       },
       "data": [
        {
         "alignmentgroup": "True",
         "bingroup": "x",
         "hovertemplate": "status=Descoordinado<br>mt=%{x}<br>count=%{y}<extra></extra>",
         "legendgroup": "Descoordinado",
         "marker": {
          "color": "red",
          "pattern": {
           "shape": ""
          }
         },
         "name": "Descoordinado",
         "offsetgroup": "Descoordinado",
         "orientation": "v",
         "showlegend": true,
         "type": "histogram",
         "x": [
          -0.3842,
          -0.38370000000000004,
          -0.3731,
          -0.3665,
          -0.3521,
          -0.3447,
          -0.3266,
          -0.2978,
          -0.2777,
          -0.2707,
          -0.24320000000000003,
          -0.2364,
          -0.21080000000000004,
          -0.20729999999999998,
          -0.1992,
          -0.199,
          -0.19890000000000002,
          -0.19840000000000002,
          -0.19679999999999997,
          -0.19619999999999999,
          -0.1946,
          -0.19440000000000002,
          -0.194,
          -0.19370000000000004,
          -0.19319999999999998,
          -0.193,
          -0.193,
          -0.1896,
          -0.18920000000000003,
          -0.18880000000000002,
          -0.1876,
          -0.18750000000000006,
          -0.1875,
          -0.18680000000000002,
          -0.18569999999999998,
          -0.1856,
          -0.1854,
          -0.18510000000000004,
          -0.18430000000000002,
          -0.18410000000000004,
          -0.1839,
          -0.18310000000000004,
          -0.18230000000000002,
          -0.18159999999999998,
          -0.1814,
          -0.17760000000000004,
          -0.17710000000000004,
          -0.17710000000000004,
          -0.1764,
          -0.17610000000000003,
          -0.1753,
          -0.17360000000000003,
          -0.17320000000000002,
          -0.17240000000000005,
          -0.17010000000000003,
          -0.17,
          -0.1697,
          -0.16910000000000003,
          -0.16850000000000004,
          -0.16690000000000005,
          -0.1663,
          -0.16400000000000003,
          -0.16310000000000002,
          -0.1612,
          -0.16110000000000002,
          -0.15560000000000002,
          -0.15510000000000002,
          -0.14989999999999998,
          -0.1476,
          -0.14180000000000004,
          -0.14090000000000003,
          -0.13920000000000002,
          -0.127,
          -0.1269,
          -0.1215,
          -0.12040000000000001,
          -0.12040000000000001,
          -0.12020000000000003,
          -0.11160000000000003,
          -0.10320000000000001,
          -0.08370000000000002,
          -0.07680000000000003,
          -0.06030000000000002,
          -0.05820000000000003,
          -0.026499999999999996,
          -2.7755575615628914e-17,
          -2.7755575615628914e-17,
          -2.7755575615628914e-17
         ],
         "xaxis": "x",
         "yaxis": "y"
        },
        {
         "alignmentgroup": "True",
         "hovertemplate": "status=Descoordinado<br>mt=%{x}<extra></extra>",
         "legendgroup": "Descoordinado",
         "marker": {
          "color": "red"
         },
         "name": "Descoordinado",
         "notched": true,
         "offsetgroup": "Descoordinado",
         "showlegend": false,
         "type": "box",
         "x": [
          -0.3842,
          -0.38370000000000004,
          -0.3731,
          -0.3665,
          -0.3521,
          -0.3447,
          -0.3266,
          -0.2978,
          -0.2777,
          -0.2707,
          -0.24320000000000003,
          -0.2364,
          -0.21080000000000004,
          -0.20729999999999998,
          -0.1992,
          -0.199,
          -0.19890000000000002,
          -0.19840000000000002,
          -0.19679999999999997,
          -0.19619999999999999,
          -0.1946,
          -0.19440000000000002,
          -0.194,
          -0.19370000000000004,
          -0.19319999999999998,
          -0.193,
          -0.193,
          -0.1896,
          -0.18920000000000003,
          -0.18880000000000002,
          -0.1876,
          -0.18750000000000006,
          -0.1875,
          -0.18680000000000002,
          -0.18569999999999998,
          -0.1856,
          -0.1854,
          -0.18510000000000004,
          -0.18430000000000002,
          -0.18410000000000004,
          -0.1839,
          -0.18310000000000004,
          -0.18230000000000002,
          -0.18159999999999998,
          -0.1814,
          -0.17760000000000004,
          -0.17710000000000004,
          -0.17710000000000004,
          -0.1764,
          -0.17610000000000003,
          -0.1753,
          -0.17360000000000003,
          -0.17320000000000002,
          -0.17240000000000005,
          -0.17010000000000003,
          -0.17,
          -0.1697,
          -0.16910000000000003,
          -0.16850000000000004,
          -0.16690000000000005,
          -0.1663,
          -0.16400000000000003,
          -0.16310000000000002,
          -0.1612,
          -0.16110000000000002,
          -0.15560000000000002,
          -0.15510000000000002,
          -0.14989999999999998,
          -0.1476,
          -0.14180000000000004,
          -0.14090000000000003,
          -0.13920000000000002,
          -0.127,
          -0.1269,
          -0.1215,
          -0.12040000000000001,
          -0.12040000000000001,
          -0.12020000000000003,
          -0.11160000000000003,
          -0.10320000000000001,
          -0.08370000000000002,
          -0.07680000000000003,
          -0.06030000000000002,
          -0.05820000000000003,
          -0.026499999999999996,
          -2.7755575615628914e-17,
          -2.7755575615628914e-17,
          -2.7755575615628914e-17
         ],
         "xaxis": "x2",
         "yaxis": "y2"
        },
        {
         "alignmentgroup": "True",
         "bingroup": "x",
         "hovertemplate": "status=Coordinado<br>mt=%{x}<br>count=%{y}<extra></extra>",
         "legendgroup": "Coordinado",
         "marker": {
          "color": "green",
          "pattern": {
           "shape": ""
          }
         },
         "name": "Coordinado",
         "offsetgroup": "Coordinado",
         "orientation": "v",
         "showlegend": true,
         "type": "histogram",
         "x": [
          0,
          0,
          0,
          0,
          0,
          0,
          0,
          0,
          0,
          0,
          0,
          0
         ],
         "xaxis": "x",
         "yaxis": "y"
        },
        {
         "alignmentgroup": "True",
         "hovertemplate": "status=Coordinado<br>mt=%{x}<extra></extra>",
         "legendgroup": "Coordinado",
         "marker": {
          "color": "green"
         },
         "name": "Coordinado",
         "notched": true,
         "offsetgroup": "Coordinado",
         "showlegend": false,
         "type": "box",
         "x": [
          0,
          0,
          0,
          0,
          0,
          0,
          0,
          0,
          0,
          0,
          0,
          0
         ],
         "xaxis": "x2",
         "yaxis": "y2"
        }
       ],
       "layout": {
        "barmode": "relative",
        "legend": {
         "title": {
          "text": "status"
         },
         "tracegroupgap": 0
        },
        "template": {
         "data": {
          "bar": [
           {
            "error_x": {
             "color": "#2a3f5f"
            },
            "error_y": {
             "color": "#2a3f5f"
            },
            "marker": {
             "line": {
              "color": "#E5ECF6",
              "width": 0.5
             },
             "pattern": {
              "fillmode": "overlay",
              "size": 10,
              "solidity": 0.2
             }
            },
            "type": "bar"
           }
          ],
          "barpolar": [
           {
            "marker": {
             "line": {
              "color": "#E5ECF6",
              "width": 0.5
             },
             "pattern": {
              "fillmode": "overlay",
              "size": 10,
              "solidity": 0.2
             }
            },
            "type": "barpolar"
           }
          ],
          "carpet": [
           {
            "aaxis": {
             "endlinecolor": "#2a3f5f",
             "gridcolor": "white",
             "linecolor": "white",
             "minorgridcolor": "white",
             "startlinecolor": "#2a3f5f"
            },
            "baxis": {
             "endlinecolor": "#2a3f5f",
             "gridcolor": "white",
             "linecolor": "white",
             "minorgridcolor": "white",
             "startlinecolor": "#2a3f5f"
            },
            "type": "carpet"
           }
          ],
          "choropleth": [
           {
            "colorbar": {
             "outlinewidth": 0,
             "ticks": ""
            },
            "type": "choropleth"
           }
          ],
          "contour": [
           {
            "colorbar": {
             "outlinewidth": 0,
             "ticks": ""
            },
            "colorscale": [
             [
              0,
              "#0d0887"
             ],
             [
              0.1111111111111111,
              "#46039f"
             ],
             [
              0.2222222222222222,
              "#7201a8"
             ],
             [
              0.3333333333333333,
              "#9c179e"
             ],
             [
              0.4444444444444444,
              "#bd3786"
             ],
             [
              0.5555555555555556,
              "#d8576b"
             ],
             [
              0.6666666666666666,
              "#ed7953"
             ],
             [
              0.7777777777777778,
              "#fb9f3a"
             ],
             [
              0.8888888888888888,
              "#fdca26"
             ],
             [
              1,
              "#f0f921"
             ]
            ],
            "type": "contour"
           }
          ],
          "contourcarpet": [
           {
            "colorbar": {
             "outlinewidth": 0,
             "ticks": ""
            },
            "type": "contourcarpet"
           }
          ],
          "heatmap": [
           {
            "colorbar": {
             "outlinewidth": 0,
             "ticks": ""
            },
            "colorscale": [
             [
              0,
              "#0d0887"
             ],
             [
              0.1111111111111111,
              "#46039f"
             ],
             [
              0.2222222222222222,
              "#7201a8"
             ],
             [
              0.3333333333333333,
              "#9c179e"
             ],
             [
              0.4444444444444444,
              "#bd3786"
             ],
             [
              0.5555555555555556,
              "#d8576b"
             ],
             [
              0.6666666666666666,
              "#ed7953"
             ],
             [
              0.7777777777777778,
              "#fb9f3a"
             ],
             [
              0.8888888888888888,
              "#fdca26"
             ],
             [
              1,
              "#f0f921"
             ]
            ],
            "type": "heatmap"
           }
          ],
          "heatmapgl": [
           {
            "colorbar": {
             "outlinewidth": 0,
             "ticks": ""
            },
            "colorscale": [
             [
              0,
              "#0d0887"
             ],
             [
              0.1111111111111111,
              "#46039f"
             ],
             [
              0.2222222222222222,
              "#7201a8"
             ],
             [
              0.3333333333333333,
              "#9c179e"
             ],
             [
              0.4444444444444444,
              "#bd3786"
             ],
             [
              0.5555555555555556,
              "#d8576b"
             ],
             [
              0.6666666666666666,
              "#ed7953"
             ],
             [
              0.7777777777777778,
              "#fb9f3a"
             ],
             [
              0.8888888888888888,
              "#fdca26"
             ],
             [
              1,
              "#f0f921"
             ]
            ],
            "type": "heatmapgl"
           }
          ],
          "histogram": [
           {
            "marker": {
             "pattern": {
              "fillmode": "overlay",
              "size": 10,
              "solidity": 0.2
             }
            },
            "type": "histogram"
           }
          ],
          "histogram2d": [
           {
            "colorbar": {
             "outlinewidth": 0,
             "ticks": ""
            },
            "colorscale": [
             [
              0,
              "#0d0887"
             ],
             [
              0.1111111111111111,
              "#46039f"
             ],
             [
              0.2222222222222222,
              "#7201a8"
             ],
             [
              0.3333333333333333,
              "#9c179e"
             ],
             [
              0.4444444444444444,
              "#bd3786"
             ],
             [
              0.5555555555555556,
              "#d8576b"
             ],
             [
              0.6666666666666666,
              "#ed7953"
             ],
             [
              0.7777777777777778,
              "#fb9f3a"
             ],
             [
              0.8888888888888888,
              "#fdca26"
             ],
             [
              1,
              "#f0f921"
             ]
            ],
            "type": "histogram2d"
           }
          ],
          "histogram2dcontour": [
           {
            "colorbar": {
             "outlinewidth": 0,
             "ticks": ""
            },
            "colorscale": [
             [
              0,
              "#0d0887"
             ],
             [
              0.1111111111111111,
              "#46039f"
             ],
             [
              0.2222222222222222,
              "#7201a8"
             ],
             [
              0.3333333333333333,
              "#9c179e"
             ],
             [
              0.4444444444444444,
              "#bd3786"
             ],
             [
              0.5555555555555556,
              "#d8576b"
             ],
             [
              0.6666666666666666,
              "#ed7953"
             ],
             [
              0.7777777777777778,
              "#fb9f3a"
             ],
             [
              0.8888888888888888,
              "#fdca26"
             ],
             [
              1,
              "#f0f921"
             ]
            ],
            "type": "histogram2dcontour"
           }
          ],
          "mesh3d": [
           {
            "colorbar": {
             "outlinewidth": 0,
             "ticks": ""
            },
            "type": "mesh3d"
           }
          ],
          "parcoords": [
           {
            "line": {
             "colorbar": {
              "outlinewidth": 0,
              "ticks": ""
             }
            },
            "type": "parcoords"
           }
          ],
          "pie": [
           {
            "automargin": true,
            "type": "pie"
           }
          ],
          "scatter": [
           {
            "fillpattern": {
             "fillmode": "overlay",
             "size": 10,
             "solidity": 0.2
            },
            "type": "scatter"
           }
          ],
          "scatter3d": [
           {
            "line": {
             "colorbar": {
              "outlinewidth": 0,
              "ticks": ""
             }
            },
            "marker": {
             "colorbar": {
              "outlinewidth": 0,
              "ticks": ""
             }
            },
            "type": "scatter3d"
           }
          ],
          "scattercarpet": [
           {
            "marker": {
             "colorbar": {
              "outlinewidth": 0,
              "ticks": ""
             }
            },
            "type": "scattercarpet"
           }
          ],
          "scattergeo": [
           {
            "marker": {
             "colorbar": {
              "outlinewidth": 0,
              "ticks": ""
             }
            },
            "type": "scattergeo"
           }
          ],
          "scattergl": [
           {
            "marker": {
             "colorbar": {
              "outlinewidth": 0,
              "ticks": ""
             }
            },
            "type": "scattergl"
           }
          ],
          "scattermapbox": [
           {
            "marker": {
             "colorbar": {
              "outlinewidth": 0,
              "ticks": ""
             }
            },
            "type": "scattermapbox"
           }
          ],
          "scatterpolar": [
           {
            "marker": {
             "colorbar": {
              "outlinewidth": 0,
              "ticks": ""
             }
            },
            "type": "scatterpolar"
           }
          ],
          "scatterpolargl": [
           {
            "marker": {
             "colorbar": {
              "outlinewidth": 0,
              "ticks": ""
             }
            },
            "type": "scatterpolargl"
           }
          ],
          "scatterternary": [
           {
            "marker": {
             "colorbar": {
              "outlinewidth": 0,
              "ticks": ""
             }
            },
            "type": "scatterternary"
           }
          ],
          "surface": [
           {
            "colorbar": {
             "outlinewidth": 0,
             "ticks": ""
            },
            "colorscale": [
             [
              0,
              "#0d0887"
             ],
             [
              0.1111111111111111,
              "#46039f"
             ],
             [
              0.2222222222222222,
              "#7201a8"
             ],
             [
              0.3333333333333333,
              "#9c179e"
             ],
             [
              0.4444444444444444,
              "#bd3786"
             ],
             [
              0.5555555555555556,
              "#d8576b"
             ],
             [
              0.6666666666666666,
              "#ed7953"
             ],
             [
              0.7777777777777778,
              "#fb9f3a"
             ],
             [
              0.8888888888888888,
              "#fdca26"
             ],
             [
              1,
              "#f0f921"
             ]
            ],
            "type": "surface"
           }
          ],
          "table": [
           {
            "cells": {
             "fill": {
              "color": "#EBF0F8"
             },
             "line": {
              "color": "white"
             }
            },
            "header": {
             "fill": {
              "color": "#C8D4E3"
             },
             "line": {
              "color": "white"
             }
            },
            "type": "table"
           }
          ]
         },
         "layout": {
          "annotationdefaults": {
           "arrowcolor": "#2a3f5f",
           "arrowhead": 0,
           "arrowwidth": 1
          },
          "autotypenumbers": "strict",
          "coloraxis": {
           "colorbar": {
            "outlinewidth": 0,
            "ticks": ""
           }
          },
          "colorscale": {
           "diverging": [
            [
             0,
             "#8e0152"
            ],
            [
             0.1,
             "#c51b7d"
            ],
            [
             0.2,
             "#de77ae"
            ],
            [
             0.3,
             "#f1b6da"
            ],
            [
             0.4,
             "#fde0ef"
            ],
            [
             0.5,
             "#f7f7f7"
            ],
            [
             0.6,
             "#e6f5d0"
            ],
            [
             0.7,
             "#b8e186"
            ],
            [
             0.8,
             "#7fbc41"
            ],
            [
             0.9,
             "#4d9221"
            ],
            [
             1,
             "#276419"
            ]
           ],
           "sequential": [
            [
             0,
             "#0d0887"
            ],
            [
             0.1111111111111111,
             "#46039f"
            ],
            [
             0.2222222222222222,
             "#7201a8"
            ],
            [
             0.3333333333333333,
             "#9c179e"
            ],
            [
             0.4444444444444444,
             "#bd3786"
            ],
            [
             0.5555555555555556,
             "#d8576b"
            ],
            [
             0.6666666666666666,
             "#ed7953"
            ],
            [
             0.7777777777777778,
             "#fb9f3a"
            ],
            [
             0.8888888888888888,
             "#fdca26"
            ],
            [
             1,
             "#f0f921"
            ]
           ],
           "sequentialminus": [
            [
             0,
             "#0d0887"
            ],
            [
             0.1111111111111111,
             "#46039f"
            ],
            [
             0.2222222222222222,
             "#7201a8"
            ],
            [
             0.3333333333333333,
             "#9c179e"
            ],
            [
             0.4444444444444444,
             "#bd3786"
            ],
            [
             0.5555555555555556,
             "#d8576b"
            ],
            [
             0.6666666666666666,
             "#ed7953"
            ],
            [
             0.7777777777777778,
             "#fb9f3a"
            ],
            [
             0.8888888888888888,
             "#fdca26"
            ],
            [
             1,
             "#f0f921"
            ]
           ]
          },
          "colorway": [
           "#636efa",
           "#EF553B",
           "#00cc96",
           "#ab63fa",
           "#FFA15A",
           "#19d3f3",
           "#FF6692",
           "#B6E880",
           "#FF97FF",
           "#FECB52"
          ],
          "font": {
           "color": "#2a3f5f"
          },
          "geo": {
           "bgcolor": "white",
           "lakecolor": "white",
           "landcolor": "#E5ECF6",
           "showlakes": true,
           "showland": true,
           "subunitcolor": "white"
          },
          "hoverlabel": {
           "align": "left"
          },
          "hovermode": "closest",
          "mapbox": {
           "style": "light"
          },
          "paper_bgcolor": "white",
          "plot_bgcolor": "#E5ECF6",
          "polar": {
           "angularaxis": {
            "gridcolor": "white",
            "linecolor": "white",
            "ticks": ""
           },
           "bgcolor": "#E5ECF6",
           "radialaxis": {
            "gridcolor": "white",
            "linecolor": "white",
            "ticks": ""
           }
          },
          "scene": {
           "xaxis": {
            "backgroundcolor": "#E5ECF6",
            "gridcolor": "white",
            "gridwidth": 2,
            "linecolor": "white",
            "showbackground": true,
            "ticks": "",
            "zerolinecolor": "white"
           },
           "yaxis": {
            "backgroundcolor": "#E5ECF6",
            "gridcolor": "white",
            "gridwidth": 2,
            "linecolor": "white",
            "showbackground": true,
            "ticks": "",
            "zerolinecolor": "white"
           },
           "zaxis": {
            "backgroundcolor": "#E5ECF6",
            "gridcolor": "white",
            "gridwidth": 2,
            "linecolor": "white",
            "showbackground": true,
            "ticks": "",
            "zerolinecolor": "white"
           }
          },
          "shapedefaults": {
           "line": {
            "color": "#2a3f5f"
           }
          },
          "ternary": {
           "aaxis": {
            "gridcolor": "white",
            "linecolor": "white",
            "ticks": ""
           },
           "baxis": {
            "gridcolor": "white",
            "linecolor": "white",
            "ticks": ""
           },
           "bgcolor": "#E5ECF6",
           "caxis": {
            "gridcolor": "white",
            "linecolor": "white",
            "ticks": ""
           }
          },
          "title": {
           "x": 0.05
          },
          "xaxis": {
           "automargin": true,
           "gridcolor": "white",
           "linecolor": "white",
           "ticks": "",
           "title": {
            "standoff": 15
           },
           "zerolinecolor": "white",
           "zerolinewidth": 2
          },
          "yaxis": {
           "automargin": true,
           "gridcolor": "white",
           "linecolor": "white",
           "ticks": "",
           "title": {
            "standoff": 15
           },
           "zerolinecolor": "white",
           "zerolinewidth": 2
          }
         }
        },
        "title": {
         "text": "Distribución de Valores MT"
        },
        "xaxis": {
         "anchor": "y",
         "domain": [
          0,
          1
         ],
         "title": {
          "text": "Valor MT"
         }
        },
        "xaxis2": {
         "anchor": "y2",
         "domain": [
          0,
          1
         ],
         "matches": "x",
         "showgrid": true,
         "showticklabels": false
        },
        "yaxis": {
         "anchor": "x",
         "domain": [
          0,
          0.7326
         ],
         "title": {
          "text": "Frecuencia"
         }
        },
        "yaxis2": {
         "anchor": "x2",
         "domain": [
          0.7426,
          1
         ],
         "matches": "y2",
         "showgrid": false,
         "showline": false,
         "showticklabels": false,
         "ticks": ""
        }
       }
      }
     },
     "metadata": {},
     "output_type": "display_data"
    },
    {
     "name": "stdout",
     "output_type": "stream",
     "text": [
      "\n",
      "--- Resumen Estadístico de MT ---\n",
      "Mínimo: -0.38420\n",
      "Máximo: -0.38420\n",
      "Promedio: -0.15854\n",
      "Mediana: -0.17570\n",
      "\n",
      "--- 5 Pares con Mayor Descoordinación ---\n",
      "Par: Main_70-Backup_70, Línea: N/A, Falla: 90, MT: -0.38420, Delta_t: -0.38420\n",
      "Par: Main_91-Backup_91, Línea: N/A, Falla: 10, MT: -0.38370, Delta_t: -0.38370\n",
      "Par: Main_26-Backup_26, Línea: N/A, Falla: 10, MT: -0.37310, Delta_t: -0.37310\n",
      "Par: Main_90-Backup_90, Línea: N/A, Falla: 90, MT: -0.36650, Delta_t: -0.36650\n",
      "Par: Main_77-Backup_77, Línea: N/A, Falla: 10, MT: -0.35210, Delta_t: -0.35210\n"
     ]
    }
   ],
   "source": [
    "import plotly.graph_objects as go\n",
    "import plotly.express as px\n",
    "import pandas as pd\n",
    "import numpy as np\n",
    "\n",
    "# Preparar los datos para la gráfica\n",
    "def prepare_data_for_plot(coordinated_pairs, uncoordinated_pairs):\n",
    "    # Combinar ambas listas\n",
    "    all_pairs = coordinated_pairs + uncoordinated_pairs\n",
    "    \n",
    "    # Crear un DataFrame para facilitar el manejo de datos\n",
    "    pairs_data = []\n",
    "    for idx, pair in enumerate(all_pairs):\n",
    "        main_relay_name = pair.get('main_relay', {}).get('RelayID', f\"Main_{idx}\")\n",
    "        backup_relay_name = pair.get('backup_relay', {}).get('RelayID', f\"Backup_{idx}\")\n",
    "        pair_name = f\"{main_relay_name}-{backup_relay_name}\"\n",
    "        \n",
    "        pairs_data.append({\n",
    "            'index': idx + 1,  # Para enumerar los pares\n",
    "            'pair_name': pair_name,\n",
    "            'main_relay': main_relay_name,\n",
    "            'backup_relay': backup_relay_name,\n",
    "            'mt': pair.get('mt', 0),\n",
    "            'delta_t': pair.get('delta_t', 0),\n",
    "            'status': 'Coordinado' if pair.get('delta_t', 0) >= 0 else 'Descoordinado',\n",
    "            'line': pair.get('line', 'N/A'),\n",
    "            'fault': pair.get('fault', 'N/A')\n",
    "        })\n",
    "    \n",
    "    return pd.DataFrame(pairs_data)\n",
    "\n",
    "# Crear la visualización\n",
    "def plot_mt_values(df):\n",
    "    # Ordenar por valor de MT (de peor a mejor)\n",
    "    df_sorted = df.sort_values(by='mt')\n",
    "    \n",
    "    # Crear un gráfico de barras para MT\n",
    "    fig = go.Figure()\n",
    "    \n",
    "    # Añadir barras para pares coordinados (en verde)\n",
    "    coordinated_df = df_sorted[df_sorted['status'] == 'Coordinado']\n",
    "    fig.add_trace(go.Bar(\n",
    "        x=coordinated_df['index'],\n",
    "        y=coordinated_df['mt'],\n",
    "        name='Pares Coordinados',\n",
    "        marker_color='green',\n",
    "        text=coordinated_df['pair_name'],\n",
    "        hovertemplate='<b>%{text}</b><br>MT: %{y:.5f}<br>Índice: %{x}<extra></extra>'\n",
    "    ))\n",
    "    \n",
    "    # Añadir barras para pares descoordinados (en rojo)\n",
    "    uncoordinated_df = df_sorted[df_sorted['status'] == 'Descoordinado']\n",
    "    fig.add_trace(go.Bar(\n",
    "        x=uncoordinated_df['index'],\n",
    "        y=uncoordinated_df['mt'],\n",
    "        name='Pares Descoordinados',\n",
    "        marker_color='red',\n",
    "        text=uncoordinated_df['pair_name'],\n",
    "        hovertemplate='<b>%{text}</b><br>MT: %{y:.5f}<br>Índice: %{x}<extra></extra>'\n",
    "    ))\n",
    "    \n",
    "    # Añadir una línea horizontal en y=0\n",
    "    fig.add_shape(\n",
    "        type='line',\n",
    "        x0=0,\n",
    "        y0=0,\n",
    "        x1=len(df),\n",
    "        y1=0,\n",
    "        line=dict(color='black', width=1, dash='dash')\n",
    "    )\n",
    "    \n",
    "    # Personalizar la apariencia\n",
    "    fig.update_layout(\n",
    "        title=f'Índice MT para {len(df)} Pares de Relés en el Escenario Base',\n",
    "        xaxis_title='Índice del Par de Relés',\n",
    "        yaxis_title='Valor MT (Penalización)',\n",
    "        barmode='group',\n",
    "        xaxis=dict(\n",
    "            tickmode='linear',\n",
    "            tick0=1,\n",
    "            dtick=5,\n",
    "        ),\n",
    "        legend=dict(\n",
    "            x=0.01,\n",
    "            y=0.99,\n",
    "            bgcolor='rgba(255, 255, 255, 0.5)',\n",
    "            bordercolor='rgba(0, 0, 0, 0.5)'\n",
    "        )\n",
    "    )\n",
    "    \n",
    "    # Mostrar el gráfico\n",
    "    fig.show()\n",
    "\n",
    "    # También crear una gráfica de delta_t para ver la diferencia de tiempos\n",
    "    fig_delta = px.scatter(\n",
    "        df_sorted,\n",
    "        x='index',\n",
    "        y='delta_t',\n",
    "        color='status',\n",
    "        color_discrete_map={'Coordinado': 'green', 'Descoordinado': 'red'},\n",
    "        hover_data=['pair_name', 'delta_t', 'mt'],\n",
    "        title=f'Delta_t para {len(df)} Pares de Relés (CTI = {CTI}s)'\n",
    "    )\n",
    "    \n",
    "    # Añadir línea de CTI\n",
    "    fig_delta.add_shape(\n",
    "        type='line',\n",
    "        x0=0,\n",
    "        y0=0,\n",
    "        x1=len(df),\n",
    "        y1=0,\n",
    "        line=dict(color='black', width=1, dash='dash')\n",
    "    )\n",
    "    \n",
    "    fig_delta.update_layout(\n",
    "        xaxis_title='Índice del Par de Relés',\n",
    "        yaxis_title='Delta_t - CTI (s)',\n",
    "        xaxis=dict(\n",
    "            tickmode='linear',\n",
    "            tick0=1,\n",
    "            dtick=5,\n",
    "        )\n",
    "    )\n",
    "    \n",
    "    fig_delta.show()\n",
    "    \n",
    "    # Gráfico de distribución de valores MT\n",
    "    fig_hist = px.histogram(\n",
    "        df_sorted, \n",
    "        x='mt',\n",
    "        color='status',\n",
    "        color_discrete_map={'Coordinado': 'green', 'Descoordinado': 'red'},\n",
    "        marginal='box',\n",
    "        title=\"Distribución de Valores MT\"\n",
    "    )\n",
    "    fig_hist.update_layout(\n",
    "        xaxis_title='Valor MT',\n",
    "        yaxis_title='Frecuencia',\n",
    "    )\n",
    "    fig_hist.show()\n",
    "\n",
    "# Ejecutar la visualización\n",
    "try:\n",
    "    # Preparar los datos\n",
    "    df = prepare_data_for_plot(coordinated_pairs, uncoordinated_pairs)\n",
    "    \n",
    "    # Generar las gráficas\n",
    "    plot_mt_values(df)\n",
    "    \n",
    "    # Mostrar un resumen estadístico\n",
    "    print(\"\\n--- Resumen Estadístico de MT ---\")\n",
    "    print(f\"Mínimo: {df['mt'].min():.5f}\")\n",
    "    print(f\"Máximo: {df['mt'].min():.5f}\")\n",
    "    print(f\"Promedio: {df['mt'].mean():.5f}\")\n",
    "    print(f\"Mediana: {df['mt'].median():.5f}\")\n",
    "    \n",
    "    # Identificar los 5 pares con peor descoordinación (MT más negativo)\n",
    "    if len(df[df['status'] == 'Descoordinado']) > 0:\n",
    "        print(\"\\n--- 5 Pares con Mayor Descoordinación ---\")\n",
    "        worst_pairs = df.sort_values(by='mt').head(5)\n",
    "        for idx, row in worst_pairs.iterrows():\n",
    "            print(f\"Par: {row['pair_name']}, Línea: {row['line']}, Falla: {row['fault']}, MT: {row['mt']:.5f}, Delta_t: {row['delta_t']:.5f}\")\n",
    "    \n",
    "except Exception as e:\n",
    "    print(f\"Error al crear las gráficas: {e}\")\n"
   ]
  },
  {
   "cell_type": "markdown",
   "metadata": {},
   "source": [
    "# Analisys"
   ]
  },
  {
   "cell_type": "code",
   "execution_count": 122,
   "metadata": {},
   "outputs": [
    {
     "name": "stdout",
     "output_type": "stream",
     "text": [
      "Cargando datos desde: /Users/gustavo/Documents/Projects/TESIS_UNAL/ADAPTIVE_ALGORITHM/data/processed/independent_relay_pairs_optimization.json\n",
      "Calculando TMT por escenario...\n",
      "\n",
      "--- Resultados por Escenario ---\n",
      "Escenario       Pares Válidos   Coordinados     Descoordinados  % Coordin.      TMT            \n",
      "------------------------------------------------------------------------------------------\n",
      "scenario_1      100             87              13              87.0%           -0.73930\n",
      "scenario_10     100             90              10              90.0%           -19.95510\n",
      "scenario_11     100             91              9               91.0%           -17.32250\n",
      "scenario_12     100             90              10              90.0%           -18.72680\n",
      "scenario_13     100             88              12              88.0%           -19.71930\n",
      "scenario_14     100             89              11              89.0%           -19.22260\n",
      "scenario_15     100             89              11              89.0%           -20.22100\n",
      "scenario_16     100             88              12              88.0%           -19.98520\n",
      "scenario_17     100             92              8               92.0%           -17.41480\n",
      "scenario_18     100             87              13              87.0%           -18.68940\n",
      "scenario_19     100             89              11              89.0%           -18.60860\n",
      "scenario_2      100             90              10              90.0%           -19.58760\n",
      "scenario_20     100             90              10              90.0%           -19.02860\n",
      "scenario_21     100             93              7               93.0%           -0.35300\n",
      "scenario_22     100             92              8               92.0%           -0.37330\n",
      "scenario_23     100             80              20              80.0%           -1.59470\n",
      "scenario_24     100             93              7               93.0%           -0.30390\n",
      "scenario_25     100             95              5               95.0%           -0.11710\n",
      "scenario_26     100             83              17              83.0%           -0.71190\n",
      "scenario_27     100             84              16              84.0%           -1.03180\n",
      "scenario_28     100             88              12              88.0%           -0.55960\n",
      "scenario_29     100             87              13              87.0%           -0.60610\n",
      "scenario_3      100             91              9               91.0%           -19.23740\n",
      "scenario_30     100             91              9               91.0%           -0.32290\n",
      "scenario_31     100             88              12              88.0%           -0.56410\n",
      "scenario_32     100             86              14              86.0%           -0.58600\n",
      "scenario_33     100             86              14              86.0%           -0.80790\n",
      "scenario_34     100             97              3               97.0%           -0.20690\n",
      "scenario_35     100             93              7               93.0%           -0.23850\n",
      "scenario_36     100             92              8               92.0%           -0.49580\n",
      "scenario_37     100             88              12              88.0%           -19.73940\n",
      "scenario_38     100             88              12              88.0%           -19.55650\n",
      "scenario_39     100             91              9               91.0%           -19.83910\n",
      "scenario_4      100             89              11              89.0%           -0.51750\n",
      "scenario_40     100             91              9               91.0%           -19.39860\n",
      "scenario_41     100             89              11              89.0%           -18.69680\n",
      "scenario_42     100             91              9               91.0%           -18.83230\n",
      "scenario_43     100             91              9               91.0%           -18.17140\n",
      "scenario_44     100             91              9               91.0%           -18.15220\n",
      "scenario_45     100             89              11              89.0%           -19.89780\n",
      "scenario_46     100             90              10              90.0%           -19.13270\n",
      "scenario_47     100             90              10              90.0%           -19.16290\n",
      "scenario_48     100             88              12              88.0%           -19.45440\n",
      "scenario_49     100             92              8               92.0%           -17.67330\n",
      "scenario_5      100             90              10              90.0%           -19.74950\n",
      "scenario_50     100             92              8               92.0%           -17.89430\n",
      "scenario_51     100             89              11              89.0%           -17.00610\n",
      "scenario_52     100             88              12              88.0%           -17.14540\n",
      "scenario_53     100             89              11              89.0%           -0.53900\n",
      "scenario_54     100             97              3               97.0%           -0.13860\n",
      "scenario_55     100             92              8               92.0%           -0.49530\n",
      "scenario_56     100             94              6               94.0%           -0.35770\n",
      "scenario_57     100             91              9               91.0%           -0.68320\n",
      "scenario_58     100             91              9               91.0%           -0.35940\n",
      "scenario_59     100             85              15              85.0%           -1.10130\n",
      "scenario_6      100             89              11              89.0%           -20.04720\n",
      "scenario_60     100             94              6               94.0%           -0.24280\n",
      "scenario_61     100             86              14              86.0%           -0.59150\n",
      "scenario_62     100             91              9               91.0%           -0.40880\n",
      "scenario_63     100             82              18              82.0%           -0.89540\n",
      "scenario_64     100             79              21              79.0%           -1.80930\n",
      "scenario_65     100             87              13              87.0%           -0.84160\n",
      "scenario_66     100             95              5               95.0%           -0.23300\n",
      "scenario_67     100             96              4               96.0%           -0.22470\n",
      "scenario_68     100             89              11              89.0%           -0.73450\n",
      "scenario_7      100             89              11              89.0%           -18.60720\n",
      "scenario_8      100             90              10              90.0%           -19.80500\n",
      "scenario_9      100             90              10              90.0%           -19.11650\n",
      "\n",
      "Total de pares leídos: 6800\n",
      "Pares omitidos (datos inválidos/faltantes): 0\n",
      "\n",
      "Gráfico de TMT guardado en: /Users/gustavo/Documents/Projects/TESIS_UNAL/ADAPTIVE_ALGORITHM/data/processed/tmt_by_scenario.html\n",
      "Gráfico de Porcentaje de Coordinación guardado en: /Users/gustavo/Documents/Projects/TESIS_UNAL/ADAPTIVE_ALGORITHM/data/processed/coordination_percentage_by_scenario.html\n"
     ]
    },
    {
     "data": {
      "application/vnd.plotly.v1+json": {
       "config": {
        "plotlyServerURL": "https://plot.ly"
       },
       "data": [
        {
         "alignmentgroup": "True",
         "customdata": [
          [
           87,
           13,
           100,
           87
          ],
          [
           90,
           10,
           100,
           90
          ],
          [
           91,
           9,
           100,
           91
          ],
          [
           90,
           10,
           100,
           90
          ],
          [
           88,
           12,
           100,
           88
          ],
          [
           89,
           11,
           100,
           89
          ],
          [
           89,
           11,
           100,
           89
          ],
          [
           88,
           12,
           100,
           88
          ],
          [
           92,
           8,
           100,
           92
          ],
          [
           87,
           13,
           100,
           87
          ],
          [
           89,
           11,
           100,
           89
          ],
          [
           90,
           10,
           100,
           90
          ],
          [
           90,
           10,
           100,
           90
          ],
          [
           93,
           7,
           100,
           93
          ],
          [
           92,
           8,
           100,
           92
          ],
          [
           80,
           20,
           100,
           80
          ],
          [
           93,
           7,
           100,
           93
          ],
          [
           95,
           5,
           100,
           95
          ],
          [
           83,
           17,
           100,
           83
          ],
          [
           84,
           16,
           100,
           84
          ],
          [
           88,
           12,
           100,
           88
          ],
          [
           87,
           13,
           100,
           87
          ],
          [
           91,
           9,
           100,
           91
          ],
          [
           91,
           9,
           100,
           91
          ],
          [
           88,
           12,
           100,
           88
          ],
          [
           86,
           14,
           100,
           86
          ],
          [
           86,
           14,
           100,
           86
          ],
          [
           97,
           3,
           100,
           97
          ],
          [
           93,
           7,
           100,
           93
          ],
          [
           92,
           8,
           100,
           92
          ],
          [
           88,
           12,
           100,
           88
          ],
          [
           88,
           12,
           100,
           88
          ],
          [
           91,
           9,
           100,
           91
          ],
          [
           89,
           11,
           100,
           89
          ],
          [
           91,
           9,
           100,
           91
          ],
          [
           89,
           11,
           100,
           89
          ],
          [
           91,
           9,
           100,
           91
          ],
          [
           91,
           9,
           100,
           91
          ],
          [
           91,
           9,
           100,
           91
          ],
          [
           89,
           11,
           100,
           89
          ],
          [
           90,
           10,
           100,
           90
          ],
          [
           90,
           10,
           100,
           90
          ],
          [
           88,
           12,
           100,
           88
          ],
          [
           92,
           8,
           100,
           92
          ],
          [
           90,
           10,
           100,
           90
          ],
          [
           92,
           8,
           100,
           92
          ],
          [
           89,
           11,
           100,
           89
          ],
          [
           88,
           12,
           100,
           88
          ],
          [
           89,
           11,
           100,
           89
          ],
          [
           97,
           3,
           100,
           97
          ],
          [
           92,
           8,
           100,
           92
          ],
          [
           94,
           6,
           100,
           94
          ],
          [
           91,
           9,
           100,
           91
          ],
          [
           91,
           9,
           100,
           91
          ],
          [
           85,
           15,
           100,
           85
          ],
          [
           89,
           11,
           100,
           89
          ],
          [
           94,
           6,
           100,
           94
          ],
          [
           86,
           14,
           100,
           86
          ],
          [
           91,
           9,
           100,
           91
          ],
          [
           82,
           18,
           100,
           82
          ],
          [
           79,
           21,
           100,
           79
          ],
          [
           87,
           13,
           100,
           87
          ],
          [
           95,
           5,
           100,
           95
          ],
          [
           96,
           4,
           100,
           96
          ],
          [
           89,
           11,
           100,
           89
          ],
          [
           89,
           11,
           100,
           89
          ],
          [
           90,
           10,
           100,
           90
          ],
          [
           90,
           10,
           100,
           90
          ]
         ],
         "hovertemplate": "Escenario=%{x}<br>Total Miscoordination Time=%{marker.color}<br>Pares Coordinados=%{customdata[0]}<br>Pares Descoordinados=%{customdata[1]}<br>Total Pares Válidos=%{customdata[2]}<br>Porcentaje Coordinación=%{customdata[3]}<extra></extra>",
         "legendgroup": "",
         "marker": {
          "color": [
           -0.7392999999999994,
           -19.9551,
           -17.3225,
           -18.726800000000004,
           -19.7193,
           -19.222600000000003,
           -20.221,
           -19.985200000000003,
           -17.414799999999996,
           -18.6894,
           -18.608599999999996,
           -19.5876,
           -19.028600000000004,
           -0.35299999999999904,
           -0.3733000000000002,
           -1.5947,
           -0.30390000000000067,
           -0.11710000000000004,
           -0.7118999999999995,
           -1.031800000000002,
           -0.5596000000000008,
           -0.6061000000000001,
           -19.237400000000004,
           -0.32290000000000046,
           -0.5640999999999994,
           -0.585999999999999,
           -0.8078999999999994,
           -0.20690000000000025,
           -0.2385000000000001,
           -0.4958,
           -19.739400000000003,
           -19.5565,
           -19.8391,
           -0.517499999999999,
           -19.3986,
           -18.696800000000003,
           -18.8323,
           -18.171400000000002,
           -18.1522,
           -19.8978,
           -19.1327,
           -19.162900000000004,
           -19.4544,
           -17.6733,
           -19.749499999999998,
           -17.8943,
           -17.0061,
           -17.1454,
           -0.5390000000000001,
           -0.1386,
           -0.4953000000000005,
           -0.35770000000000024,
           -0.6831999999999998,
           -0.3594000000000002,
           -1.1012999999999997,
           -20.0472,
           -0.24280000000000002,
           -0.5915000000000004,
           -0.40880000000000033,
           -0.8953999999999998,
           -1.809299999999999,
           -0.8416000000000003,
           -0.2330000000000006,
           -0.22469999999999968,
           -0.7344999999999999,
           -18.6072,
           -19.804999999999996,
           -19.116500000000002
          ],
          "coloraxis": "coloraxis",
          "pattern": {
           "shape": ""
          }
         },
         "name": "",
         "offsetgroup": "",
         "orientation": "v",
         "showlegend": false,
         "text": [
          -0.7392999999999994,
          -19.9551,
          -17.3225,
          -18.726800000000004,
          -19.7193,
          -19.222600000000003,
          -20.221,
          -19.985200000000003,
          -17.414799999999996,
          -18.6894,
          -18.608599999999996,
          -19.5876,
          -19.028600000000004,
          -0.35299999999999904,
          -0.3733000000000002,
          -1.5947,
          -0.30390000000000067,
          -0.11710000000000004,
          -0.7118999999999995,
          -1.031800000000002,
          -0.5596000000000008,
          -0.6061000000000001,
          -19.237400000000004,
          -0.32290000000000046,
          -0.5640999999999994,
          -0.585999999999999,
          -0.8078999999999994,
          -0.20690000000000025,
          -0.2385000000000001,
          -0.4958,
          -19.739400000000003,
          -19.5565,
          -19.8391,
          -0.517499999999999,
          -19.3986,
          -18.696800000000003,
          -18.8323,
          -18.171400000000002,
          -18.1522,
          -19.8978,
          -19.1327,
          -19.162900000000004,
          -19.4544,
          -17.6733,
          -19.749499999999998,
          -17.8943,
          -17.0061,
          -17.1454,
          -0.5390000000000001,
          -0.1386,
          -0.4953000000000005,
          -0.35770000000000024,
          -0.6831999999999998,
          -0.3594000000000002,
          -1.1012999999999997,
          -20.0472,
          -0.24280000000000002,
          -0.5915000000000004,
          -0.40880000000000033,
          -0.8953999999999998,
          -1.809299999999999,
          -0.8416000000000003,
          -0.2330000000000006,
          -0.22469999999999968,
          -0.7344999999999999,
          -18.6072,
          -19.804999999999996,
          -19.116500000000002
         ],
         "textposition": "outside",
         "texttemplate": "%{text:.5f}",
         "type": "bar",
         "x": [
          "scenario_1",
          "scenario_10",
          "scenario_11",
          "scenario_12",
          "scenario_13",
          "scenario_14",
          "scenario_15",
          "scenario_16",
          "scenario_17",
          "scenario_18",
          "scenario_19",
          "scenario_2",
          "scenario_20",
          "scenario_21",
          "scenario_22",
          "scenario_23",
          "scenario_24",
          "scenario_25",
          "scenario_26",
          "scenario_27",
          "scenario_28",
          "scenario_29",
          "scenario_3",
          "scenario_30",
          "scenario_31",
          "scenario_32",
          "scenario_33",
          "scenario_34",
          "scenario_35",
          "scenario_36",
          "scenario_37",
          "scenario_38",
          "scenario_39",
          "scenario_4",
          "scenario_40",
          "scenario_41",
          "scenario_42",
          "scenario_43",
          "scenario_44",
          "scenario_45",
          "scenario_46",
          "scenario_47",
          "scenario_48",
          "scenario_49",
          "scenario_5",
          "scenario_50",
          "scenario_51",
          "scenario_52",
          "scenario_53",
          "scenario_54",
          "scenario_55",
          "scenario_56",
          "scenario_57",
          "scenario_58",
          "scenario_59",
          "scenario_6",
          "scenario_60",
          "scenario_61",
          "scenario_62",
          "scenario_63",
          "scenario_64",
          "scenario_65",
          "scenario_66",
          "scenario_67",
          "scenario_68",
          "scenario_7",
          "scenario_8",
          "scenario_9"
         ],
         "xaxis": "x",
         "y": [
          -0.7392999999999994,
          -19.9551,
          -17.3225,
          -18.726800000000004,
          -19.7193,
          -19.222600000000003,
          -20.221,
          -19.985200000000003,
          -17.414799999999996,
          -18.6894,
          -18.608599999999996,
          -19.5876,
          -19.028600000000004,
          -0.35299999999999904,
          -0.3733000000000002,
          -1.5947,
          -0.30390000000000067,
          -0.11710000000000004,
          -0.7118999999999995,
          -1.031800000000002,
          -0.5596000000000008,
          -0.6061000000000001,
          -19.237400000000004,
          -0.32290000000000046,
          -0.5640999999999994,
          -0.585999999999999,
          -0.8078999999999994,
          -0.20690000000000025,
          -0.2385000000000001,
          -0.4958,
          -19.739400000000003,
          -19.5565,
          -19.8391,
          -0.517499999999999,
          -19.3986,
          -18.696800000000003,
          -18.8323,
          -18.171400000000002,
          -18.1522,
          -19.8978,
          -19.1327,
          -19.162900000000004,
          -19.4544,
          -17.6733,
          -19.749499999999998,
          -17.8943,
          -17.0061,
          -17.1454,
          -0.5390000000000001,
          -0.1386,
          -0.4953000000000005,
          -0.35770000000000024,
          -0.6831999999999998,
          -0.3594000000000002,
          -1.1012999999999997,
          -20.0472,
          -0.24280000000000002,
          -0.5915000000000004,
          -0.40880000000000033,
          -0.8953999999999998,
          -1.809299999999999,
          -0.8416000000000003,
          -0.2330000000000006,
          -0.22469999999999968,
          -0.7344999999999999,
          -18.6072,
          -19.804999999999996,
          -19.116500000000002
         ],
         "yaxis": "y"
        }
       ],
       "layout": {
        "barmode": "relative",
        "coloraxis": {
         "colorbar": {
          "title": {
           "text": "Total Miscoordination Time"
          }
         },
         "colorscale": [
          [
           0,
           "#440154"
          ],
          [
           0.1111111111111111,
           "#482878"
          ],
          [
           0.2222222222222222,
           "#3e4989"
          ],
          [
           0.3333333333333333,
           "#31688e"
          ],
          [
           0.4444444444444444,
           "#26828e"
          ],
          [
           0.5555555555555556,
           "#1f9e89"
          ],
          [
           0.6666666666666666,
           "#35b779"
          ],
          [
           0.7777777777777778,
           "#6ece58"
          ],
          [
           0.8888888888888888,
           "#b5de2b"
          ],
          [
           1,
           "#fde725"
          ]
         ]
        },
        "font": {
         "size": 12
        },
        "height": 600,
        "legend": {
         "tracegroupgap": 0
        },
        "template": {
         "data": {
          "bar": [
           {
            "error_x": {
             "color": "#2a3f5f"
            },
            "error_y": {
             "color": "#2a3f5f"
            },
            "marker": {
             "line": {
              "color": "#E5ECF6",
              "width": 0.5
             },
             "pattern": {
              "fillmode": "overlay",
              "size": 10,
              "solidity": 0.2
             }
            },
            "type": "bar"
           }
          ],
          "barpolar": [
           {
            "marker": {
             "line": {
              "color": "#E5ECF6",
              "width": 0.5
             },
             "pattern": {
              "fillmode": "overlay",
              "size": 10,
              "solidity": 0.2
             }
            },
            "type": "barpolar"
           }
          ],
          "carpet": [
           {
            "aaxis": {
             "endlinecolor": "#2a3f5f",
             "gridcolor": "white",
             "linecolor": "white",
             "minorgridcolor": "white",
             "startlinecolor": "#2a3f5f"
            },
            "baxis": {
             "endlinecolor": "#2a3f5f",
             "gridcolor": "white",
             "linecolor": "white",
             "minorgridcolor": "white",
             "startlinecolor": "#2a3f5f"
            },
            "type": "carpet"
           }
          ],
          "choropleth": [
           {
            "colorbar": {
             "outlinewidth": 0,
             "ticks": ""
            },
            "type": "choropleth"
           }
          ],
          "contour": [
           {
            "colorbar": {
             "outlinewidth": 0,
             "ticks": ""
            },
            "colorscale": [
             [
              0,
              "#0d0887"
             ],
             [
              0.1111111111111111,
              "#46039f"
             ],
             [
              0.2222222222222222,
              "#7201a8"
             ],
             [
              0.3333333333333333,
              "#9c179e"
             ],
             [
              0.4444444444444444,
              "#bd3786"
             ],
             [
              0.5555555555555556,
              "#d8576b"
             ],
             [
              0.6666666666666666,
              "#ed7953"
             ],
             [
              0.7777777777777778,
              "#fb9f3a"
             ],
             [
              0.8888888888888888,
              "#fdca26"
             ],
             [
              1,
              "#f0f921"
             ]
            ],
            "type": "contour"
           }
          ],
          "contourcarpet": [
           {
            "colorbar": {
             "outlinewidth": 0,
             "ticks": ""
            },
            "type": "contourcarpet"
           }
          ],
          "heatmap": [
           {
            "colorbar": {
             "outlinewidth": 0,
             "ticks": ""
            },
            "colorscale": [
             [
              0,
              "#0d0887"
             ],
             [
              0.1111111111111111,
              "#46039f"
             ],
             [
              0.2222222222222222,
              "#7201a8"
             ],
             [
              0.3333333333333333,
              "#9c179e"
             ],
             [
              0.4444444444444444,
              "#bd3786"
             ],
             [
              0.5555555555555556,
              "#d8576b"
             ],
             [
              0.6666666666666666,
              "#ed7953"
             ],
             [
              0.7777777777777778,
              "#fb9f3a"
             ],
             [
              0.8888888888888888,
              "#fdca26"
             ],
             [
              1,
              "#f0f921"
             ]
            ],
            "type": "heatmap"
           }
          ],
          "heatmapgl": [
           {
            "colorbar": {
             "outlinewidth": 0,
             "ticks": ""
            },
            "colorscale": [
             [
              0,
              "#0d0887"
             ],
             [
              0.1111111111111111,
              "#46039f"
             ],
             [
              0.2222222222222222,
              "#7201a8"
             ],
             [
              0.3333333333333333,
              "#9c179e"
             ],
             [
              0.4444444444444444,
              "#bd3786"
             ],
             [
              0.5555555555555556,
              "#d8576b"
             ],
             [
              0.6666666666666666,
              "#ed7953"
             ],
             [
              0.7777777777777778,
              "#fb9f3a"
             ],
             [
              0.8888888888888888,
              "#fdca26"
             ],
             [
              1,
              "#f0f921"
             ]
            ],
            "type": "heatmapgl"
           }
          ],
          "histogram": [
           {
            "marker": {
             "pattern": {
              "fillmode": "overlay",
              "size": 10,
              "solidity": 0.2
             }
            },
            "type": "histogram"
           }
          ],
          "histogram2d": [
           {
            "colorbar": {
             "outlinewidth": 0,
             "ticks": ""
            },
            "colorscale": [
             [
              0,
              "#0d0887"
             ],
             [
              0.1111111111111111,
              "#46039f"
             ],
             [
              0.2222222222222222,
              "#7201a8"
             ],
             [
              0.3333333333333333,
              "#9c179e"
             ],
             [
              0.4444444444444444,
              "#bd3786"
             ],
             [
              0.5555555555555556,
              "#d8576b"
             ],
             [
              0.6666666666666666,
              "#ed7953"
             ],
             [
              0.7777777777777778,
              "#fb9f3a"
             ],
             [
              0.8888888888888888,
              "#fdca26"
             ],
             [
              1,
              "#f0f921"
             ]
            ],
            "type": "histogram2d"
           }
          ],
          "histogram2dcontour": [
           {
            "colorbar": {
             "outlinewidth": 0,
             "ticks": ""
            },
            "colorscale": [
             [
              0,
              "#0d0887"
             ],
             [
              0.1111111111111111,
              "#46039f"
             ],
             [
              0.2222222222222222,
              "#7201a8"
             ],
             [
              0.3333333333333333,
              "#9c179e"
             ],
             [
              0.4444444444444444,
              "#bd3786"
             ],
             [
              0.5555555555555556,
              "#d8576b"
             ],
             [
              0.6666666666666666,
              "#ed7953"
             ],
             [
              0.7777777777777778,
              "#fb9f3a"
             ],
             [
              0.8888888888888888,
              "#fdca26"
             ],
             [
              1,
              "#f0f921"
             ]
            ],
            "type": "histogram2dcontour"
           }
          ],
          "mesh3d": [
           {
            "colorbar": {
             "outlinewidth": 0,
             "ticks": ""
            },
            "type": "mesh3d"
           }
          ],
          "parcoords": [
           {
            "line": {
             "colorbar": {
              "outlinewidth": 0,
              "ticks": ""
             }
            },
            "type": "parcoords"
           }
          ],
          "pie": [
           {
            "automargin": true,
            "type": "pie"
           }
          ],
          "scatter": [
           {
            "fillpattern": {
             "fillmode": "overlay",
             "size": 10,
             "solidity": 0.2
            },
            "type": "scatter"
           }
          ],
          "scatter3d": [
           {
            "line": {
             "colorbar": {
              "outlinewidth": 0,
              "ticks": ""
             }
            },
            "marker": {
             "colorbar": {
              "outlinewidth": 0,
              "ticks": ""
             }
            },
            "type": "scatter3d"
           }
          ],
          "scattercarpet": [
           {
            "marker": {
             "colorbar": {
              "outlinewidth": 0,
              "ticks": ""
             }
            },
            "type": "scattercarpet"
           }
          ],
          "scattergeo": [
           {
            "marker": {
             "colorbar": {
              "outlinewidth": 0,
              "ticks": ""
             }
            },
            "type": "scattergeo"
           }
          ],
          "scattergl": [
           {
            "marker": {
             "colorbar": {
              "outlinewidth": 0,
              "ticks": ""
             }
            },
            "type": "scattergl"
           }
          ],
          "scattermapbox": [
           {
            "marker": {
             "colorbar": {
              "outlinewidth": 0,
              "ticks": ""
             }
            },
            "type": "scattermapbox"
           }
          ],
          "scatterpolar": [
           {
            "marker": {
             "colorbar": {
              "outlinewidth": 0,
              "ticks": ""
             }
            },
            "type": "scatterpolar"
           }
          ],
          "scatterpolargl": [
           {
            "marker": {
             "colorbar": {
              "outlinewidth": 0,
              "ticks": ""
             }
            },
            "type": "scatterpolargl"
           }
          ],
          "scatterternary": [
           {
            "marker": {
             "colorbar": {
              "outlinewidth": 0,
              "ticks": ""
             }
            },
            "type": "scatterternary"
           }
          ],
          "surface": [
           {
            "colorbar": {
             "outlinewidth": 0,
             "ticks": ""
            },
            "colorscale": [
             [
              0,
              "#0d0887"
             ],
             [
              0.1111111111111111,
              "#46039f"
             ],
             [
              0.2222222222222222,
              "#7201a8"
             ],
             [
              0.3333333333333333,
              "#9c179e"
             ],
             [
              0.4444444444444444,
              "#bd3786"
             ],
             [
              0.5555555555555556,
              "#d8576b"
             ],
             [
              0.6666666666666666,
              "#ed7953"
             ],
             [
              0.7777777777777778,
              "#fb9f3a"
             ],
             [
              0.8888888888888888,
              "#fdca26"
             ],
             [
              1,
              "#f0f921"
             ]
            ],
            "type": "surface"
           }
          ],
          "table": [
           {
            "cells": {
             "fill": {
              "color": "#EBF0F8"
             },
             "line": {
              "color": "white"
             }
            },
            "header": {
             "fill": {
              "color": "#C8D4E3"
             },
             "line": {
              "color": "white"
             }
            },
            "type": "table"
           }
          ]
         },
         "layout": {
          "annotationdefaults": {
           "arrowcolor": "#2a3f5f",
           "arrowhead": 0,
           "arrowwidth": 1
          },
          "autotypenumbers": "strict",
          "coloraxis": {
           "colorbar": {
            "outlinewidth": 0,
            "ticks": ""
           }
          },
          "colorscale": {
           "diverging": [
            [
             0,
             "#8e0152"
            ],
            [
             0.1,
             "#c51b7d"
            ],
            [
             0.2,
             "#de77ae"
            ],
            [
             0.3,
             "#f1b6da"
            ],
            [
             0.4,
             "#fde0ef"
            ],
            [
             0.5,
             "#f7f7f7"
            ],
            [
             0.6,
             "#e6f5d0"
            ],
            [
             0.7,
             "#b8e186"
            ],
            [
             0.8,
             "#7fbc41"
            ],
            [
             0.9,
             "#4d9221"
            ],
            [
             1,
             "#276419"
            ]
           ],
           "sequential": [
            [
             0,
             "#0d0887"
            ],
            [
             0.1111111111111111,
             "#46039f"
            ],
            [
             0.2222222222222222,
             "#7201a8"
            ],
            [
             0.3333333333333333,
             "#9c179e"
            ],
            [
             0.4444444444444444,
             "#bd3786"
            ],
            [
             0.5555555555555556,
             "#d8576b"
            ],
            [
             0.6666666666666666,
             "#ed7953"
            ],
            [
             0.7777777777777778,
             "#fb9f3a"
            ],
            [
             0.8888888888888888,
             "#fdca26"
            ],
            [
             1,
             "#f0f921"
            ]
           ],
           "sequentialminus": [
            [
             0,
             "#0d0887"
            ],
            [
             0.1111111111111111,
             "#46039f"
            ],
            [
             0.2222222222222222,
             "#7201a8"
            ],
            [
             0.3333333333333333,
             "#9c179e"
            ],
            [
             0.4444444444444444,
             "#bd3786"
            ],
            [
             0.5555555555555556,
             "#d8576b"
            ],
            [
             0.6666666666666666,
             "#ed7953"
            ],
            [
             0.7777777777777778,
             "#fb9f3a"
            ],
            [
             0.8888888888888888,
             "#fdca26"
            ],
            [
             1,
             "#f0f921"
            ]
           ]
          },
          "colorway": [
           "#636efa",
           "#EF553B",
           "#00cc96",
           "#ab63fa",
           "#FFA15A",
           "#19d3f3",
           "#FF6692",
           "#B6E880",
           "#FF97FF",
           "#FECB52"
          ],
          "font": {
           "color": "#2a3f5f"
          },
          "geo": {
           "bgcolor": "white",
           "lakecolor": "white",
           "landcolor": "#E5ECF6",
           "showlakes": true,
           "showland": true,
           "subunitcolor": "white"
          },
          "hoverlabel": {
           "align": "left"
          },
          "hovermode": "closest",
          "mapbox": {
           "style": "light"
          },
          "paper_bgcolor": "white",
          "plot_bgcolor": "#E5ECF6",
          "polar": {
           "angularaxis": {
            "gridcolor": "white",
            "linecolor": "white",
            "ticks": ""
           },
           "bgcolor": "#E5ECF6",
           "radialaxis": {
            "gridcolor": "white",
            "linecolor": "white",
            "ticks": ""
           }
          },
          "scene": {
           "xaxis": {
            "backgroundcolor": "#E5ECF6",
            "gridcolor": "white",
            "gridwidth": 2,
            "linecolor": "white",
            "showbackground": true,
            "ticks": "",
            "zerolinecolor": "white"
           },
           "yaxis": {
            "backgroundcolor": "#E5ECF6",
            "gridcolor": "white",
            "gridwidth": 2,
            "linecolor": "white",
            "showbackground": true,
            "ticks": "",
            "zerolinecolor": "white"
           },
           "zaxis": {
            "backgroundcolor": "#E5ECF6",
            "gridcolor": "white",
            "gridwidth": 2,
            "linecolor": "white",
            "showbackground": true,
            "ticks": "",
            "zerolinecolor": "white"
           }
          },
          "shapedefaults": {
           "line": {
            "color": "#2a3f5f"
           }
          },
          "ternary": {
           "aaxis": {
            "gridcolor": "white",
            "linecolor": "white",
            "ticks": ""
           },
           "baxis": {
            "gridcolor": "white",
            "linecolor": "white",
            "ticks": ""
           },
           "bgcolor": "#E5ECF6",
           "caxis": {
            "gridcolor": "white",
            "linecolor": "white",
            "ticks": ""
           }
          },
          "title": {
           "x": 0.05
          },
          "xaxis": {
           "automargin": true,
           "gridcolor": "white",
           "linecolor": "white",
           "ticks": "",
           "title": {
            "standoff": 15
           },
           "zerolinecolor": "white",
           "zerolinewidth": 2
          },
          "yaxis": {
           "automargin": true,
           "gridcolor": "white",
           "linecolor": "white",
           "ticks": "",
           "title": {
            "standoff": 15
           },
           "zerolinecolor": "white",
           "zerolinewidth": 2
          }
         }
        },
        "title": {
         "text": "Penalización Total por Descoordinación (TMT) por Escenario"
        },
        "width": 1000,
        "xaxis": {
         "anchor": "y",
         "categoryarray": [
          "scenario_1",
          "scenario_10",
          "scenario_11",
          "scenario_12",
          "scenario_13",
          "scenario_14",
          "scenario_15",
          "scenario_16",
          "scenario_17",
          "scenario_18",
          "scenario_19",
          "scenario_2",
          "scenario_20",
          "scenario_21",
          "scenario_22",
          "scenario_23",
          "scenario_24",
          "scenario_25",
          "scenario_26",
          "scenario_27",
          "scenario_28",
          "scenario_29",
          "scenario_3",
          "scenario_30",
          "scenario_31",
          "scenario_32",
          "scenario_33",
          "scenario_34",
          "scenario_35",
          "scenario_36",
          "scenario_37",
          "scenario_38",
          "scenario_39",
          "scenario_4",
          "scenario_40",
          "scenario_41",
          "scenario_42",
          "scenario_43",
          "scenario_44",
          "scenario_45",
          "scenario_46",
          "scenario_47",
          "scenario_48",
          "scenario_49",
          "scenario_5",
          "scenario_50",
          "scenario_51",
          "scenario_52",
          "scenario_53",
          "scenario_54",
          "scenario_55",
          "scenario_56",
          "scenario_57",
          "scenario_58",
          "scenario_59",
          "scenario_6",
          "scenario_60",
          "scenario_61",
          "scenario_62",
          "scenario_63",
          "scenario_64",
          "scenario_65",
          "scenario_66",
          "scenario_67",
          "scenario_68",
          "scenario_7",
          "scenario_8",
          "scenario_9"
         ],
         "categoryorder": "array",
         "domain": [
          0,
          1
         ],
         "title": {
          "text": "Escenarios"
         }
        },
        "yaxis": {
         "anchor": "x",
         "domain": [
          0,
          1
         ],
         "title": {
          "text": "TMT (Total Miscoordination Time)"
         }
        }
       }
      }
     },
     "metadata": {},
     "output_type": "display_data"
    },
    {
     "data": {
      "application/vnd.plotly.v1+json": {
       "config": {
        "plotlyServerURL": "https://plot.ly"
       },
       "data": [
        {
         "alignmentgroup": "True",
         "customdata": [
          [
           87,
           13,
           100,
           -0.7392999999999994
          ],
          [
           90,
           10,
           100,
           -19.9551
          ],
          [
           91,
           9,
           100,
           -17.3225
          ],
          [
           90,
           10,
           100,
           -18.726800000000004
          ],
          [
           88,
           12,
           100,
           -19.7193
          ],
          [
           89,
           11,
           100,
           -19.222600000000003
          ],
          [
           89,
           11,
           100,
           -20.221
          ],
          [
           88,
           12,
           100,
           -19.985200000000003
          ],
          [
           92,
           8,
           100,
           -17.414799999999996
          ],
          [
           87,
           13,
           100,
           -18.6894
          ],
          [
           89,
           11,
           100,
           -18.608599999999996
          ],
          [
           90,
           10,
           100,
           -19.5876
          ],
          [
           90,
           10,
           100,
           -19.028600000000004
          ],
          [
           93,
           7,
           100,
           -0.35299999999999904
          ],
          [
           92,
           8,
           100,
           -0.3733000000000002
          ],
          [
           80,
           20,
           100,
           -1.5947
          ],
          [
           93,
           7,
           100,
           -0.30390000000000067
          ],
          [
           95,
           5,
           100,
           -0.11710000000000004
          ],
          [
           83,
           17,
           100,
           -0.7118999999999995
          ],
          [
           84,
           16,
           100,
           -1.031800000000002
          ],
          [
           88,
           12,
           100,
           -0.5596000000000008
          ],
          [
           87,
           13,
           100,
           -0.6061000000000001
          ],
          [
           91,
           9,
           100,
           -19.237400000000004
          ],
          [
           91,
           9,
           100,
           -0.32290000000000046
          ],
          [
           88,
           12,
           100,
           -0.5640999999999994
          ],
          [
           86,
           14,
           100,
           -0.585999999999999
          ],
          [
           86,
           14,
           100,
           -0.8078999999999994
          ],
          [
           97,
           3,
           100,
           -0.20690000000000025
          ],
          [
           93,
           7,
           100,
           -0.2385000000000001
          ],
          [
           92,
           8,
           100,
           -0.4958
          ],
          [
           88,
           12,
           100,
           -19.739400000000003
          ],
          [
           88,
           12,
           100,
           -19.5565
          ],
          [
           91,
           9,
           100,
           -19.8391
          ],
          [
           89,
           11,
           100,
           -0.517499999999999
          ],
          [
           91,
           9,
           100,
           -19.3986
          ],
          [
           89,
           11,
           100,
           -18.696800000000003
          ],
          [
           91,
           9,
           100,
           -18.8323
          ],
          [
           91,
           9,
           100,
           -18.171400000000002
          ],
          [
           91,
           9,
           100,
           -18.1522
          ],
          [
           89,
           11,
           100,
           -19.8978
          ],
          [
           90,
           10,
           100,
           -19.1327
          ],
          [
           90,
           10,
           100,
           -19.162900000000004
          ],
          [
           88,
           12,
           100,
           -19.4544
          ],
          [
           92,
           8,
           100,
           -17.6733
          ],
          [
           90,
           10,
           100,
           -19.749499999999998
          ],
          [
           92,
           8,
           100,
           -17.8943
          ],
          [
           89,
           11,
           100,
           -17.0061
          ],
          [
           88,
           12,
           100,
           -17.1454
          ],
          [
           89,
           11,
           100,
           -0.5390000000000001
          ],
          [
           97,
           3,
           100,
           -0.1386
          ],
          [
           92,
           8,
           100,
           -0.4953000000000005
          ],
          [
           94,
           6,
           100,
           -0.35770000000000024
          ],
          [
           91,
           9,
           100,
           -0.6831999999999998
          ],
          [
           91,
           9,
           100,
           -0.3594000000000002
          ],
          [
           85,
           15,
           100,
           -1.1012999999999997
          ],
          [
           89,
           11,
           100,
           -20.0472
          ],
          [
           94,
           6,
           100,
           -0.24280000000000002
          ],
          [
           86,
           14,
           100,
           -0.5915000000000004
          ],
          [
           91,
           9,
           100,
           -0.40880000000000033
          ],
          [
           82,
           18,
           100,
           -0.8953999999999998
          ],
          [
           79,
           21,
           100,
           -1.809299999999999
          ],
          [
           87,
           13,
           100,
           -0.8416000000000003
          ],
          [
           95,
           5,
           100,
           -0.2330000000000006
          ],
          [
           96,
           4,
           100,
           -0.22469999999999968
          ],
          [
           89,
           11,
           100,
           -0.7344999999999999
          ],
          [
           89,
           11,
           100,
           -18.6072
          ],
          [
           90,
           10,
           100,
           -19.804999999999996
          ],
          [
           90,
           10,
           100,
           -19.116500000000002
          ]
         ],
         "hovertemplate": "Escenario=%{x}<br>Porcentaje de Coordinación (%)=%{marker.color}<br>Pares Coordinados=%{customdata[0]}<br>Pares Descoordinados=%{customdata[1]}<br>Total Pares Válidos=%{customdata[2]}<br>TMT=%{customdata[3]}<extra></extra>",
         "legendgroup": "",
         "marker": {
          "color": [
           87,
           90,
           91,
           90,
           88,
           89,
           89,
           88,
           92,
           87,
           89,
           90,
           90,
           93,
           92,
           80,
           93,
           95,
           83,
           84,
           88,
           87,
           91,
           91,
           88,
           86,
           86,
           97,
           93,
           92,
           88,
           88,
           91,
           89,
           91,
           89,
           91,
           91,
           91,
           89,
           90,
           90,
           88,
           92,
           90,
           92,
           89,
           88,
           89,
           97,
           92,
           94,
           91,
           91,
           85,
           89,
           94,
           86,
           91,
           82,
           79,
           87,
           95,
           96,
           89,
           89,
           90,
           90
          ],
          "coloraxis": "coloraxis",
          "pattern": {
           "shape": ""
          }
         },
         "name": "",
         "offsetgroup": "",
         "orientation": "v",
         "showlegend": false,
         "text": [
          87,
          90,
          91,
          90,
          88,
          89,
          89,
          88,
          92,
          87,
          89,
          90,
          90,
          93,
          92,
          80,
          93,
          95,
          83,
          84,
          88,
          87,
          91,
          91,
          88,
          86,
          86,
          97,
          93,
          92,
          88,
          88,
          91,
          89,
          91,
          89,
          91,
          91,
          91,
          89,
          90,
          90,
          88,
          92,
          90,
          92,
          89,
          88,
          89,
          97,
          92,
          94,
          91,
          91,
          85,
          89,
          94,
          86,
          91,
          82,
          79,
          87,
          95,
          96,
          89,
          89,
          90,
          90
         ],
         "textposition": "outside",
         "texttemplate": "%{text:.1f}%",
         "type": "bar",
         "x": [
          "scenario_1",
          "scenario_10",
          "scenario_11",
          "scenario_12",
          "scenario_13",
          "scenario_14",
          "scenario_15",
          "scenario_16",
          "scenario_17",
          "scenario_18",
          "scenario_19",
          "scenario_2",
          "scenario_20",
          "scenario_21",
          "scenario_22",
          "scenario_23",
          "scenario_24",
          "scenario_25",
          "scenario_26",
          "scenario_27",
          "scenario_28",
          "scenario_29",
          "scenario_3",
          "scenario_30",
          "scenario_31",
          "scenario_32",
          "scenario_33",
          "scenario_34",
          "scenario_35",
          "scenario_36",
          "scenario_37",
          "scenario_38",
          "scenario_39",
          "scenario_4",
          "scenario_40",
          "scenario_41",
          "scenario_42",
          "scenario_43",
          "scenario_44",
          "scenario_45",
          "scenario_46",
          "scenario_47",
          "scenario_48",
          "scenario_49",
          "scenario_5",
          "scenario_50",
          "scenario_51",
          "scenario_52",
          "scenario_53",
          "scenario_54",
          "scenario_55",
          "scenario_56",
          "scenario_57",
          "scenario_58",
          "scenario_59",
          "scenario_6",
          "scenario_60",
          "scenario_61",
          "scenario_62",
          "scenario_63",
          "scenario_64",
          "scenario_65",
          "scenario_66",
          "scenario_67",
          "scenario_68",
          "scenario_7",
          "scenario_8",
          "scenario_9"
         ],
         "xaxis": "x",
         "y": [
          87,
          90,
          91,
          90,
          88,
          89,
          89,
          88,
          92,
          87,
          89,
          90,
          90,
          93,
          92,
          80,
          93,
          95,
          83,
          84,
          88,
          87,
          91,
          91,
          88,
          86,
          86,
          97,
          93,
          92,
          88,
          88,
          91,
          89,
          91,
          89,
          91,
          91,
          91,
          89,
          90,
          90,
          88,
          92,
          90,
          92,
          89,
          88,
          89,
          97,
          92,
          94,
          91,
          91,
          85,
          89,
          94,
          86,
          91,
          82,
          79,
          87,
          95,
          96,
          89,
          89,
          90,
          90
         ],
         "yaxis": "y"
        }
       ],
       "layout": {
        "barmode": "relative",
        "coloraxis": {
         "colorbar": {
          "title": {
           "text": "Porcentaje de Coordinación (%)"
          }
         },
         "colorscale": [
          [
           0,
           "#30123b"
          ],
          [
           0.07142857142857142,
           "#4145ab"
          ],
          [
           0.14285714285714285,
           "#4675ed"
          ],
          [
           0.21428571428571427,
           "#39a2fc"
          ],
          [
           0.2857142857142857,
           "#1bcfd4"
          ],
          [
           0.35714285714285715,
           "#24eca6"
          ],
          [
           0.42857142857142855,
           "#61fc6c"
          ],
          [
           0.5,
           "#a4fc3b"
          ],
          [
           0.5714285714285714,
           "#d1e834"
          ],
          [
           0.6428571428571429,
           "#f3c63a"
          ],
          [
           0.7142857142857143,
           "#fe9b2d"
          ],
          [
           0.7857142857142857,
           "#f36315"
          ],
          [
           0.8571428571428571,
           "#d93806"
          ],
          [
           0.9285714285714286,
           "#b11901"
          ],
          [
           1,
           "#7a0402"
          ]
         ]
        },
        "font": {
         "size": 12
        },
        "height": 600,
        "legend": {
         "tracegroupgap": 0
        },
        "template": {
         "data": {
          "bar": [
           {
            "error_x": {
             "color": "#2a3f5f"
            },
            "error_y": {
             "color": "#2a3f5f"
            },
            "marker": {
             "line": {
              "color": "#E5ECF6",
              "width": 0.5
             },
             "pattern": {
              "fillmode": "overlay",
              "size": 10,
              "solidity": 0.2
             }
            },
            "type": "bar"
           }
          ],
          "barpolar": [
           {
            "marker": {
             "line": {
              "color": "#E5ECF6",
              "width": 0.5
             },
             "pattern": {
              "fillmode": "overlay",
              "size": 10,
              "solidity": 0.2
             }
            },
            "type": "barpolar"
           }
          ],
          "carpet": [
           {
            "aaxis": {
             "endlinecolor": "#2a3f5f",
             "gridcolor": "white",
             "linecolor": "white",
             "minorgridcolor": "white",
             "startlinecolor": "#2a3f5f"
            },
            "baxis": {
             "endlinecolor": "#2a3f5f",
             "gridcolor": "white",
             "linecolor": "white",
             "minorgridcolor": "white",
             "startlinecolor": "#2a3f5f"
            },
            "type": "carpet"
           }
          ],
          "choropleth": [
           {
            "colorbar": {
             "outlinewidth": 0,
             "ticks": ""
            },
            "type": "choropleth"
           }
          ],
          "contour": [
           {
            "colorbar": {
             "outlinewidth": 0,
             "ticks": ""
            },
            "colorscale": [
             [
              0,
              "#0d0887"
             ],
             [
              0.1111111111111111,
              "#46039f"
             ],
             [
              0.2222222222222222,
              "#7201a8"
             ],
             [
              0.3333333333333333,
              "#9c179e"
             ],
             [
              0.4444444444444444,
              "#bd3786"
             ],
             [
              0.5555555555555556,
              "#d8576b"
             ],
             [
              0.6666666666666666,
              "#ed7953"
             ],
             [
              0.7777777777777778,
              "#fb9f3a"
             ],
             [
              0.8888888888888888,
              "#fdca26"
             ],
             [
              1,
              "#f0f921"
             ]
            ],
            "type": "contour"
           }
          ],
          "contourcarpet": [
           {
            "colorbar": {
             "outlinewidth": 0,
             "ticks": ""
            },
            "type": "contourcarpet"
           }
          ],
          "heatmap": [
           {
            "colorbar": {
             "outlinewidth": 0,
             "ticks": ""
            },
            "colorscale": [
             [
              0,
              "#0d0887"
             ],
             [
              0.1111111111111111,
              "#46039f"
             ],
             [
              0.2222222222222222,
              "#7201a8"
             ],
             [
              0.3333333333333333,
              "#9c179e"
             ],
             [
              0.4444444444444444,
              "#bd3786"
             ],
             [
              0.5555555555555556,
              "#d8576b"
             ],
             [
              0.6666666666666666,
              "#ed7953"
             ],
             [
              0.7777777777777778,
              "#fb9f3a"
             ],
             [
              0.8888888888888888,
              "#fdca26"
             ],
             [
              1,
              "#f0f921"
             ]
            ],
            "type": "heatmap"
           }
          ],
          "heatmapgl": [
           {
            "colorbar": {
             "outlinewidth": 0,
             "ticks": ""
            },
            "colorscale": [
             [
              0,
              "#0d0887"
             ],
             [
              0.1111111111111111,
              "#46039f"
             ],
             [
              0.2222222222222222,
              "#7201a8"
             ],
             [
              0.3333333333333333,
              "#9c179e"
             ],
             [
              0.4444444444444444,
              "#bd3786"
             ],
             [
              0.5555555555555556,
              "#d8576b"
             ],
             [
              0.6666666666666666,
              "#ed7953"
             ],
             [
              0.7777777777777778,
              "#fb9f3a"
             ],
             [
              0.8888888888888888,
              "#fdca26"
             ],
             [
              1,
              "#f0f921"
             ]
            ],
            "type": "heatmapgl"
           }
          ],
          "histogram": [
           {
            "marker": {
             "pattern": {
              "fillmode": "overlay",
              "size": 10,
              "solidity": 0.2
             }
            },
            "type": "histogram"
           }
          ],
          "histogram2d": [
           {
            "colorbar": {
             "outlinewidth": 0,
             "ticks": ""
            },
            "colorscale": [
             [
              0,
              "#0d0887"
             ],
             [
              0.1111111111111111,
              "#46039f"
             ],
             [
              0.2222222222222222,
              "#7201a8"
             ],
             [
              0.3333333333333333,
              "#9c179e"
             ],
             [
              0.4444444444444444,
              "#bd3786"
             ],
             [
              0.5555555555555556,
              "#d8576b"
             ],
             [
              0.6666666666666666,
              "#ed7953"
             ],
             [
              0.7777777777777778,
              "#fb9f3a"
             ],
             [
              0.8888888888888888,
              "#fdca26"
             ],
             [
              1,
              "#f0f921"
             ]
            ],
            "type": "histogram2d"
           }
          ],
          "histogram2dcontour": [
           {
            "colorbar": {
             "outlinewidth": 0,
             "ticks": ""
            },
            "colorscale": [
             [
              0,
              "#0d0887"
             ],
             [
              0.1111111111111111,
              "#46039f"
             ],
             [
              0.2222222222222222,
              "#7201a8"
             ],
             [
              0.3333333333333333,
              "#9c179e"
             ],
             [
              0.4444444444444444,
              "#bd3786"
             ],
             [
              0.5555555555555556,
              "#d8576b"
             ],
             [
              0.6666666666666666,
              "#ed7953"
             ],
             [
              0.7777777777777778,
              "#fb9f3a"
             ],
             [
              0.8888888888888888,
              "#fdca26"
             ],
             [
              1,
              "#f0f921"
             ]
            ],
            "type": "histogram2dcontour"
           }
          ],
          "mesh3d": [
           {
            "colorbar": {
             "outlinewidth": 0,
             "ticks": ""
            },
            "type": "mesh3d"
           }
          ],
          "parcoords": [
           {
            "line": {
             "colorbar": {
              "outlinewidth": 0,
              "ticks": ""
             }
            },
            "type": "parcoords"
           }
          ],
          "pie": [
           {
            "automargin": true,
            "type": "pie"
           }
          ],
          "scatter": [
           {
            "fillpattern": {
             "fillmode": "overlay",
             "size": 10,
             "solidity": 0.2
            },
            "type": "scatter"
           }
          ],
          "scatter3d": [
           {
            "line": {
             "colorbar": {
              "outlinewidth": 0,
              "ticks": ""
             }
            },
            "marker": {
             "colorbar": {
              "outlinewidth": 0,
              "ticks": ""
             }
            },
            "type": "scatter3d"
           }
          ],
          "scattercarpet": [
           {
            "marker": {
             "colorbar": {
              "outlinewidth": 0,
              "ticks": ""
             }
            },
            "type": "scattercarpet"
           }
          ],
          "scattergeo": [
           {
            "marker": {
             "colorbar": {
              "outlinewidth": 0,
              "ticks": ""
             }
            },
            "type": "scattergeo"
           }
          ],
          "scattergl": [
           {
            "marker": {
             "colorbar": {
              "outlinewidth": 0,
              "ticks": ""
             }
            },
            "type": "scattergl"
           }
          ],
          "scattermapbox": [
           {
            "marker": {
             "colorbar": {
              "outlinewidth": 0,
              "ticks": ""
             }
            },
            "type": "scattermapbox"
           }
          ],
          "scatterpolar": [
           {
            "marker": {
             "colorbar": {
              "outlinewidth": 0,
              "ticks": ""
             }
            },
            "type": "scatterpolar"
           }
          ],
          "scatterpolargl": [
           {
            "marker": {
             "colorbar": {
              "outlinewidth": 0,
              "ticks": ""
             }
            },
            "type": "scatterpolargl"
           }
          ],
          "scatterternary": [
           {
            "marker": {
             "colorbar": {
              "outlinewidth": 0,
              "ticks": ""
             }
            },
            "type": "scatterternary"
           }
          ],
          "surface": [
           {
            "colorbar": {
             "outlinewidth": 0,
             "ticks": ""
            },
            "colorscale": [
             [
              0,
              "#0d0887"
             ],
             [
              0.1111111111111111,
              "#46039f"
             ],
             [
              0.2222222222222222,
              "#7201a8"
             ],
             [
              0.3333333333333333,
              "#9c179e"
             ],
             [
              0.4444444444444444,
              "#bd3786"
             ],
             [
              0.5555555555555556,
              "#d8576b"
             ],
             [
              0.6666666666666666,
              "#ed7953"
             ],
             [
              0.7777777777777778,
              "#fb9f3a"
             ],
             [
              0.8888888888888888,
              "#fdca26"
             ],
             [
              1,
              "#f0f921"
             ]
            ],
            "type": "surface"
           }
          ],
          "table": [
           {
            "cells": {
             "fill": {
              "color": "#EBF0F8"
             },
             "line": {
              "color": "white"
             }
            },
            "header": {
             "fill": {
              "color": "#C8D4E3"
             },
             "line": {
              "color": "white"
             }
            },
            "type": "table"
           }
          ]
         },
         "layout": {
          "annotationdefaults": {
           "arrowcolor": "#2a3f5f",
           "arrowhead": 0,
           "arrowwidth": 1
          },
          "autotypenumbers": "strict",
          "coloraxis": {
           "colorbar": {
            "outlinewidth": 0,
            "ticks": ""
           }
          },
          "colorscale": {
           "diverging": [
            [
             0,
             "#8e0152"
            ],
            [
             0.1,
             "#c51b7d"
            ],
            [
             0.2,
             "#de77ae"
            ],
            [
             0.3,
             "#f1b6da"
            ],
            [
             0.4,
             "#fde0ef"
            ],
            [
             0.5,
             "#f7f7f7"
            ],
            [
             0.6,
             "#e6f5d0"
            ],
            [
             0.7,
             "#b8e186"
            ],
            [
             0.8,
             "#7fbc41"
            ],
            [
             0.9,
             "#4d9221"
            ],
            [
             1,
             "#276419"
            ]
           ],
           "sequential": [
            [
             0,
             "#0d0887"
            ],
            [
             0.1111111111111111,
             "#46039f"
            ],
            [
             0.2222222222222222,
             "#7201a8"
            ],
            [
             0.3333333333333333,
             "#9c179e"
            ],
            [
             0.4444444444444444,
             "#bd3786"
            ],
            [
             0.5555555555555556,
             "#d8576b"
            ],
            [
             0.6666666666666666,
             "#ed7953"
            ],
            [
             0.7777777777777778,
             "#fb9f3a"
            ],
            [
             0.8888888888888888,
             "#fdca26"
            ],
            [
             1,
             "#f0f921"
            ]
           ],
           "sequentialminus": [
            [
             0,
             "#0d0887"
            ],
            [
             0.1111111111111111,
             "#46039f"
            ],
            [
             0.2222222222222222,
             "#7201a8"
            ],
            [
             0.3333333333333333,
             "#9c179e"
            ],
            [
             0.4444444444444444,
             "#bd3786"
            ],
            [
             0.5555555555555556,
             "#d8576b"
            ],
            [
             0.6666666666666666,
             "#ed7953"
            ],
            [
             0.7777777777777778,
             "#fb9f3a"
            ],
            [
             0.8888888888888888,
             "#fdca26"
            ],
            [
             1,
             "#f0f921"
            ]
           ]
          },
          "colorway": [
           "#636efa",
           "#EF553B",
           "#00cc96",
           "#ab63fa",
           "#FFA15A",
           "#19d3f3",
           "#FF6692",
           "#B6E880",
           "#FF97FF",
           "#FECB52"
          ],
          "font": {
           "color": "#2a3f5f"
          },
          "geo": {
           "bgcolor": "white",
           "lakecolor": "white",
           "landcolor": "#E5ECF6",
           "showlakes": true,
           "showland": true,
           "subunitcolor": "white"
          },
          "hoverlabel": {
           "align": "left"
          },
          "hovermode": "closest",
          "mapbox": {
           "style": "light"
          },
          "paper_bgcolor": "white",
          "plot_bgcolor": "#E5ECF6",
          "polar": {
           "angularaxis": {
            "gridcolor": "white",
            "linecolor": "white",
            "ticks": ""
           },
           "bgcolor": "#E5ECF6",
           "radialaxis": {
            "gridcolor": "white",
            "linecolor": "white",
            "ticks": ""
           }
          },
          "scene": {
           "xaxis": {
            "backgroundcolor": "#E5ECF6",
            "gridcolor": "white",
            "gridwidth": 2,
            "linecolor": "white",
            "showbackground": true,
            "ticks": "",
            "zerolinecolor": "white"
           },
           "yaxis": {
            "backgroundcolor": "#E5ECF6",
            "gridcolor": "white",
            "gridwidth": 2,
            "linecolor": "white",
            "showbackground": true,
            "ticks": "",
            "zerolinecolor": "white"
           },
           "zaxis": {
            "backgroundcolor": "#E5ECF6",
            "gridcolor": "white",
            "gridwidth": 2,
            "linecolor": "white",
            "showbackground": true,
            "ticks": "",
            "zerolinecolor": "white"
           }
          },
          "shapedefaults": {
           "line": {
            "color": "#2a3f5f"
           }
          },
          "ternary": {
           "aaxis": {
            "gridcolor": "white",
            "linecolor": "white",
            "ticks": ""
           },
           "baxis": {
            "gridcolor": "white",
            "linecolor": "white",
            "ticks": ""
           },
           "bgcolor": "#E5ECF6",
           "caxis": {
            "gridcolor": "white",
            "linecolor": "white",
            "ticks": ""
           }
          },
          "title": {
           "x": 0.05
          },
          "xaxis": {
           "automargin": true,
           "gridcolor": "white",
           "linecolor": "white",
           "ticks": "",
           "title": {
            "standoff": 15
           },
           "zerolinecolor": "white",
           "zerolinewidth": 2
          },
          "yaxis": {
           "automargin": true,
           "gridcolor": "white",
           "linecolor": "white",
           "ticks": "",
           "title": {
            "standoff": 15
           },
           "zerolinecolor": "white",
           "zerolinewidth": 2
          }
         }
        },
        "title": {
         "text": "Porcentaje de Pares Coordinados por Escenario"
        },
        "width": 1000,
        "xaxis": {
         "anchor": "y",
         "categoryarray": [
          "scenario_1",
          "scenario_10",
          "scenario_11",
          "scenario_12",
          "scenario_13",
          "scenario_14",
          "scenario_15",
          "scenario_16",
          "scenario_17",
          "scenario_18",
          "scenario_19",
          "scenario_2",
          "scenario_20",
          "scenario_21",
          "scenario_22",
          "scenario_23",
          "scenario_24",
          "scenario_25",
          "scenario_26",
          "scenario_27",
          "scenario_28",
          "scenario_29",
          "scenario_3",
          "scenario_30",
          "scenario_31",
          "scenario_32",
          "scenario_33",
          "scenario_34",
          "scenario_35",
          "scenario_36",
          "scenario_37",
          "scenario_38",
          "scenario_39",
          "scenario_4",
          "scenario_40",
          "scenario_41",
          "scenario_42",
          "scenario_43",
          "scenario_44",
          "scenario_45",
          "scenario_46",
          "scenario_47",
          "scenario_48",
          "scenario_49",
          "scenario_5",
          "scenario_50",
          "scenario_51",
          "scenario_52",
          "scenario_53",
          "scenario_54",
          "scenario_55",
          "scenario_56",
          "scenario_57",
          "scenario_58",
          "scenario_59",
          "scenario_6",
          "scenario_60",
          "scenario_61",
          "scenario_62",
          "scenario_63",
          "scenario_64",
          "scenario_65",
          "scenario_66",
          "scenario_67",
          "scenario_68",
          "scenario_7",
          "scenario_8",
          "scenario_9"
         ],
         "categoryorder": "array",
         "domain": [
          0,
          1
         ],
         "title": {
          "text": "Escenarios"
         }
        },
        "yaxis": {
         "anchor": "x",
         "domain": [
          0,
          1
         ],
         "title": {
          "text": "Porcentaje de Coordinación (%)"
         }
        }
       }
      }
     },
     "metadata": {},
     "output_type": "display_data"
    }
   ],
   "source": [
    "import json\n",
    "import os\n",
    "import copy\n",
    "import plotly.express as px\n",
    "import plotly.graph_objects as go\n",
    "import pandas as pd\n",
    "import numpy as np\n",
    "\n",
    "# --- Constantes ---\n",
    "CTI = 0.2  # Intervalo de tiempo de coordinación típico (en segundos)\n",
    "\n",
    "# --- Ruta del archivo ---\n",
    "input_file = \"/Users/gustavo/Documents/Projects/TESIS_UNAL/ADAPTIVE_ALGORITHM/data/processed/independent_relay_pairs_optimization.json\"\n",
    "\n",
    "def analyze_all_scenarios():\n",
    "    try:\n",
    "        # 1. Cargar el archivo JSON\n",
    "        print(f\"Cargando datos desde: {input_file}\")\n",
    "        with open(input_file, 'r') as f:\n",
    "            relay_pairs_data = json.load(f)\n",
    "        \n",
    "        if not isinstance(relay_pairs_data, list):\n",
    "            raise TypeError(f\"Error: El archivo {input_file} no contiene una lista JSON.\")\n",
    "        \n",
    "        # Diccionarios para almacenar datos por escenario\n",
    "        scenario_results = {}  # Estructura: {scenario_id: {'tmt': valor, 'coordinated': cantidad, 'uncoordinated': cantidad}}\n",
    "        \n",
    "        # 2. Procesar cada par y agrupar por escenario\n",
    "        print(\"Calculando TMT por escenario...\")\n",
    "        total_pairs_read = 0\n",
    "        skipped_pairs_count = 0\n",
    "        \n",
    "        for pair_entry in relay_pairs_data:\n",
    "            total_pairs_read += 1\n",
    "            if not isinstance(pair_entry, dict):\n",
    "                skipped_pairs_count += 1\n",
    "                continue\n",
    "            \n",
    "            scenario_id = pair_entry.get(\"scenario_id\")\n",
    "            if not scenario_id:\n",
    "                skipped_pairs_count += 1\n",
    "                continue\n",
    "                \n",
    "            # Inicializar datos del escenario si es la primera vez\n",
    "            if scenario_id not in scenario_results:\n",
    "                scenario_results[scenario_id] = {\n",
    "                    'tmt': 0, \n",
    "                    'coordinated': 0, \n",
    "                    'uncoordinated': 0,\n",
    "                    'total_valid': 0\n",
    "                }\n",
    "            \n",
    "            # Obtener información de los relés\n",
    "            main_relay_info = pair_entry.get('main_relay')\n",
    "            backup_relay_info = pair_entry.get('backup_relay')\n",
    "            \n",
    "            if not isinstance(main_relay_info, dict) or not isinstance(backup_relay_info, dict):\n",
    "                skipped_pairs_count += 1\n",
    "                continue\n",
    "                \n",
    "            # Obtener tiempos de operación\n",
    "            main_time = main_relay_info.get('Time_out')\n",
    "            backup_time = backup_relay_info.get('Time_out')\n",
    "            \n",
    "            # Validar que los tiempos son números\n",
    "            if not isinstance(main_time, (int, float)) or not isinstance(backup_time, (int, float)):\n",
    "                skipped_pairs_count += 1\n",
    "                continue\n",
    "                \n",
    "            # Cálculos\n",
    "            delta_t = backup_time - main_time - CTI\n",
    "            mt = (delta_t - abs(delta_t)) / 2  # Penalización solo si delta_t es negativo\n",
    "            \n",
    "            # Actualizar resultados del escenario\n",
    "            scenario_results[scenario_id]['tmt'] += mt\n",
    "            scenario_results[scenario_id]['total_valid'] += 1\n",
    "            \n",
    "            if delta_t >= 0:\n",
    "                scenario_results[scenario_id]['coordinated'] += 1\n",
    "            else:\n",
    "                scenario_results[scenario_id]['uncoordinated'] += 1\n",
    "        \n",
    "        # 3. Preparar datos para graficar\n",
    "        data_for_chart = []\n",
    "        for scenario, data in scenario_results.items():\n",
    "            data_for_chart.append({\n",
    "                'Escenario': scenario,\n",
    "                'TMT': data['tmt'],\n",
    "                'Pares Coordinados': data['coordinated'],\n",
    "                'Pares Descoordinados': data['uncoordinated'],\n",
    "                'Total Pares Válidos': data['total_valid'],\n",
    "                'Porcentaje Coordinación': 100 * data['coordinated'] / data['total_valid'] if data['total_valid'] > 0 else 0\n",
    "            })\n",
    "        \n",
    "        # Convertir a DataFrame y ordenar por nombre de escenario\n",
    "        df = pd.DataFrame(data_for_chart)\n",
    "        df = df.sort_values(by='Escenario')\n",
    "        \n",
    "        # 4. Crear gráfico de barras con Plotly\n",
    "        fig = px.bar(\n",
    "            df, \n",
    "            x='Escenario', \n",
    "            y='TMT',\n",
    "            text='TMT',\n",
    "            color='TMT',\n",
    "            color_continuous_scale='Viridis',\n",
    "            title='Penalización Total por Descoordinación (TMT) por Escenario',\n",
    "            labels={'TMT': 'Total Miscoordination Time'},\n",
    "            hover_data=['Pares Coordinados', 'Pares Descoordinados', 'Total Pares Válidos', 'Porcentaje Coordinación']\n",
    "        )\n",
    "        \n",
    "        # Personalizar el gráfico\n",
    "        fig.update_traces(\n",
    "            texttemplate='%{text:.5f}',\n",
    "            textposition='outside'\n",
    "        )\n",
    "        \n",
    "        fig.update_layout(\n",
    "            xaxis_title='Escenarios',\n",
    "            yaxis_title='TMT (Total Miscoordination Time)',\n",
    "            xaxis={'categoryorder': 'array', 'categoryarray': df['Escenario'].tolist()},\n",
    "            font=dict(size=12),\n",
    "            height=600,\n",
    "            width=1000\n",
    "        )\n",
    "        \n",
    "        # 5. Crear un segundo gráfico: porcentaje de coordinación\n",
    "        fig2 = px.bar(\n",
    "            df,\n",
    "            x='Escenario',\n",
    "            y='Porcentaje Coordinación',\n",
    "            text='Porcentaje Coordinación',\n",
    "            color='Porcentaje Coordinación',\n",
    "            color_continuous_scale='Turbo',\n",
    "            title='Porcentaje de Pares Coordinados por Escenario',\n",
    "            labels={'Porcentaje Coordinación': 'Porcentaje de Coordinación (%)'},\n",
    "            hover_data=['Pares Coordinados', 'Pares Descoordinados', 'Total Pares Válidos', 'TMT']\n",
    "        )\n",
    "        \n",
    "        fig2.update_traces(\n",
    "            texttemplate='%{text:.1f}%',\n",
    "            textposition='outside'\n",
    "        )\n",
    "        \n",
    "        fig2.update_layout(\n",
    "            xaxis_title='Escenarios',\n",
    "            yaxis_title='Porcentaje de Coordinación (%)',\n",
    "            xaxis={'categoryorder': 'array', 'categoryarray': df['Escenario'].tolist()},\n",
    "            font=dict(size=12),\n",
    "            height=600,\n",
    "            width=1000\n",
    "        )\n",
    "        \n",
    "        # 5. Mostrar tabla de resultados\n",
    "        print(\"\\n--- Resultados por Escenario ---\")\n",
    "        print(f\"{'Escenario':<15} {'Pares Válidos':<15} {'Coordinados':<15} {'Descoordinados':<15} {'% Coordin.':<15} {'TMT':<15}\")\n",
    "        print(\"-\" * 90)\n",
    "        \n",
    "        for index, row in df.iterrows():\n",
    "            print(f\"{row['Escenario']:<15} {int(row['Total Pares Válidos']):<15} {int(row['Pares Coordinados']):<15} {int(row['Pares Descoordinados']):<15} {row['Porcentaje Coordinación']:.1f}%{' ':<10} {row['TMT']:.5f}\")\n",
    "        \n",
    "        print(f\"\\nTotal de pares leídos: {total_pairs_read}\")\n",
    "        print(f\"Pares omitidos (datos inválidos/faltantes): {skipped_pairs_count}\")\n",
    "        \n",
    "        # Guardar los gráficos antes de mostrarlos\n",
    "        output_dir = os.path.dirname(input_file)\n",
    "        \n",
    "        # Guardar el primer gráfico (TMT)\n",
    "        output_file_tmt = os.path.join(output_dir, \"tmt_by_scenario.html\")\n",
    "        fig.write_html(output_file_tmt)\n",
    "        print(f\"\\nGráfico de TMT guardado en: {output_file_tmt}\")\n",
    "        \n",
    "        # Guardar el segundo gráfico (% Coordinación)\n",
    "        output_file_coord = os.path.join(output_dir, \"coordination_percentage_by_scenario.html\")\n",
    "        fig2.write_html(output_file_coord)\n",
    "        print(f\"Gráfico de Porcentaje de Coordinación guardado en: {output_file_coord}\")\n",
    "        \n",
    "        # Mostrar los gráficos\n",
    "        fig.show()\n",
    "        fig2.show()\n",
    "        \n",
    "    except FileNotFoundError:\n",
    "        print(f\"Error CRÍTICO: No se pudo encontrar el archivo de entrada: {input_file}\")\n",
    "    except TypeError as e:\n",
    "        print(f\"Error CRÍTICO: Problema con el tipo de datos esperado en el archivo JSON: {e}\")\n",
    "    except json.JSONDecodeError as e:\n",
    "        print(f\"Error CRÍTICO: El archivo de entrada JSON ({input_file}) está mal formado: {e}\")\n",
    "    except Exception as e:\n",
    "        import traceback\n",
    "        print(f\"Error inesperado durante el procesamiento: {e}\")\n",
    "        print(\"--- Traceback ---\")\n",
    "        traceback.print_exc()\n",
    "        print(\"-----------------\")\n",
    "        \n",
    "if __name__ == \"__main__\":\n",
    "    analyze_all_scenarios()\n"
   ]
  },
  {
   "cell_type": "code",
   "execution_count": null,
   "metadata": {},
   "outputs": [],
   "source": []
  },
  {
   "cell_type": "code",
   "execution_count": null,
   "metadata": {},
   "outputs": [],
   "source": []
  }
 ],
 "metadata": {
  "kernelspec": {
   "display_name": "Python 3",
   "language": "python",
   "name": "python3"
  },
  "language_info": {
   "codemirror_mode": {
    "name": "ipython",
    "version": 3
   },
   "file_extension": ".py",
   "mimetype": "text/x-python",
   "name": "python",
   "nbconvert_exporter": "python",
   "pygments_lexer": "ipython3",
   "version": "3.11.11"
  }
 },
 "nbformat": 4,
 "nbformat_minor": 2
}
