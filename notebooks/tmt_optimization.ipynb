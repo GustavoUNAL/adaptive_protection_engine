{
 "cells": [
  {
   "cell_type": "markdown",
   "metadata": {},
   "source": [
    "# Anlisis detallado escenario base"
   ]
  },
  {
   "cell_type": "code",
   "execution_count": 16,
   "metadata": {},
   "outputs": [
    {
     "name": "stdout",
     "output_type": "stream",
     "text": [
      "============================================\n",
      "=== Relay Coordination Analysis Script ===\n",
      "=== Mode: Analyze Scenario 1 (Pub Quality) ===\n",
      "============================================\n",
      "Attempting to load data from: /Users/gustavo/Documents/Projects/TESIS_UNAL/ADAPTIVE_ALGORITHM/data/processed/independent_relay_pairs_optimization.json\n",
      "Successfully loaded 6800 records from JSON.\n",
      "--- Starting Analysis for Single Scenario: scenario_1 ---\n",
      "Using CTI = 0.2s\n",
      "Results will be saved in: /Users/gustavo/Documents/Projects/TESIS_UNAL/ADAPTIVE_ALGORITHM/results/coordination_plots_paper\n",
      "Starting data extraction and processing for scenarios...\n",
      "Data extraction complete. Processed pairs: 6800, Skipped records/pairs: 0\n",
      "Aggregating results per scenario...\n",
      "Scenario aggregation complete.\n",
      "\n",
      "--- Processing Detailed Analysis for: scenario_1 ---\n",
      "\n",
      "--- Coordination Summary ---\n",
      "Total Pairs Analyzed: 100\n",
      "Coordinated Pairs (Δt >= 0): 87 (87.0%)\n",
      "Miscoordinated Pairs (Δt < 0): 13 (13.0%)\n",
      "\n",
      "--- MT Statistics ---\n",
      "   count    mean    std     min    25%    50%    75%    max\n",
      "mt   100 -0.0074 0.0255 -0.1390 0.0000 0.0000 0.0000 0.0000\n",
      "TMT (Sum of MT): -0.73930\n",
      "\n",
      "--- Most Miscoordinated Pair (Lowest MT) ---\n",
      "  Pair (P-R): R19-R18\n",
      "  MT:         -0.1390\n",
      "  Δt:         -0.1390 s\n",
      "  Tm:         1.5523 s\n",
      "  Tb:         1.6133 s\n",
      "  Line:       L19-20\n",
      "  Fault:      10\n",
      "\n",
      "--- Top 10 Miscoordinated Pairs (by MT) ---\n",
      "Pair (P-R)      MT  Δt [s] Tm [s] Tb [s]   Line Fault\n",
      "   R19-R18 -0.1390 -0.1390 1.5523 1.6133 L19-20    10\n",
      "   R11-R10 -0.1201 -0.1201 1.9870 2.0669 L11-12    10\n",
      "   R12-R11 -0.1069 -0.1069 2.0294 2.1225 L12-13    10\n",
      "    R10-R9 -0.0967 -0.0967 2.0165 2.1198 L10-11    10\n",
      "   R23-R22 -0.0750 -0.0750 2.1218 2.2468 L23-24    10\n",
      "   R44-R70 -0.0652 -0.0652 2.4149 2.5497   L7-8    90\n",
      "   R13-R12 -0.0644 -0.0644 2.3337 2.4693 L13-14    10\n",
      "   R17-R16 -0.0255 -0.0255 2.5522 2.7267 L17-18    10\n",
      "   R20-R19 -0.0156 -0.0156 1.8801 2.0645 L20-21    10\n",
      "   R70-R20 -0.0116 -0.0116 1.8668 2.0552  L8-21    90\n",
      "\n",
      "Saving detailed results to CSV: /Users/gustavo/Documents/Projects/TESIS_UNAL/ADAPTIVE_ALGORITHM/results/coordination_plots_paper/Scenario_scenario_1_DetailedResults.csv\n",
      "  Successfully saved.\n",
      "\n",
      "--- Generating Publication Quality Plots for Scenario: scenario_1 ---\n",
      "  Generating MT Bar Chart...\n",
      "  Generating Delta_t Bar Chart...\n",
      "  Generating Delta_t Scatter Plot...\n",
      "  Generating MT Histogram...\n",
      "  Saving plots for scenario_1 to /Users/gustavo/Documents/Projects/TESIS_UNAL/ADAPTIVE_ALGORITHM/results/coordination_plots_paper...\n",
      "    Displaying mt_bar plot...\n"
     ]
    },
    {
     "data": {
      "application/vnd.plotly.v1+json": {
       "config": {
        "plotlyServerURL": "https://plot.ly"
       },
       "data": [
        {
         "hoverinfo": "text",
         "marker": {
          "color": [
           "indianred",
           "indianred",
           "indianred",
           "indianred",
           "indianred",
           "indianred",
           "indianred",
           "indianred",
           "indianred",
           "indianred",
           "indianred",
           "indianred",
           "indianred",
           "mediumseagreen",
           "mediumseagreen",
           "mediumseagreen",
           "mediumseagreen",
           "mediumseagreen",
           "mediumseagreen",
           "mediumseagreen",
           "mediumseagreen",
           "mediumseagreen",
           "mediumseagreen",
           "mediumseagreen",
           "mediumseagreen",
           "mediumseagreen",
           "mediumseagreen",
           "mediumseagreen",
           "mediumseagreen",
           "mediumseagreen",
           "mediumseagreen",
           "mediumseagreen",
           "mediumseagreen",
           "mediumseagreen",
           "mediumseagreen",
           "mediumseagreen",
           "mediumseagreen",
           "mediumseagreen",
           "mediumseagreen",
           "mediumseagreen",
           "mediumseagreen",
           "mediumseagreen",
           "mediumseagreen",
           "mediumseagreen",
           "mediumseagreen",
           "mediumseagreen",
           "mediumseagreen",
           "mediumseagreen",
           "mediumseagreen",
           "mediumseagreen",
           "mediumseagreen",
           "mediumseagreen",
           "mediumseagreen",
           "mediumseagreen",
           "mediumseagreen",
           "mediumseagreen",
           "mediumseagreen",
           "mediumseagreen",
           "mediumseagreen",
           "mediumseagreen",
           "mediumseagreen",
           "mediumseagreen",
           "mediumseagreen",
           "mediumseagreen",
           "mediumseagreen",
           "mediumseagreen",
           "mediumseagreen",
           "mediumseagreen",
           "mediumseagreen",
           "mediumseagreen",
           "mediumseagreen",
           "mediumseagreen",
           "mediumseagreen",
           "mediumseagreen",
           "mediumseagreen",
           "mediumseagreen",
           "mediumseagreen",
           "mediumseagreen",
           "mediumseagreen",
           "mediumseagreen",
           "mediumseagreen",
           "mediumseagreen",
           "mediumseagreen",
           "mediumseagreen",
           "mediumseagreen",
           "mediumseagreen",
           "mediumseagreen",
           "mediumseagreen",
           "mediumseagreen",
           "mediumseagreen",
           "mediumseagreen",
           "mediumseagreen",
           "mediumseagreen",
           "mediumseagreen",
           "mediumseagreen",
           "mediumseagreen",
           "mediumseagreen",
           "mediumseagreen",
           "mediumseagreen",
           "mediumseagreen"
          ]
         },
         "name": "MT",
         "text": [
          "<b>R19-R18</b><br>Plot Index: 1<br>MT: -0.1390 | <b>Δt: -0.1390 s</b><br>Tm: 1.5523 s | Tb: 1.6133 s<br>Line: L19-20 | Fault: 10<br>Status: Miscoordinated<extra></extra>",
          "<b>R11-R10</b><br>Plot Index: 2<br>MT: -0.1201 | <b>Δt: -0.1201 s</b><br>Tm: 1.9870 s | Tb: 2.0669 s<br>Line: L11-12 | Fault: 10<br>Status: Miscoordinated<extra></extra>",
          "<b>R12-R11</b><br>Plot Index: 3<br>MT: -0.1069 | <b>Δt: -0.1069 s</b><br>Tm: 2.0294 s | Tb: 2.1225 s<br>Line: L12-13 | Fault: 10<br>Status: Miscoordinated<extra></extra>",
          "<b>R10-R9</b><br>Plot Index: 4<br>MT: -0.0967 | <b>Δt: -0.0967 s</b><br>Tm: 2.0165 s | Tb: 2.1198 s<br>Line: L10-11 | Fault: 10<br>Status: Miscoordinated<extra></extra>",
          "<b>R23-R22</b><br>Plot Index: 5<br>MT: -0.0750 | <b>Δt: -0.0750 s</b><br>Tm: 2.1218 s | Tb: 2.2468 s<br>Line: L23-24 | Fault: 10<br>Status: Miscoordinated<extra></extra>",
          "<b>R44-R70</b><br>Plot Index: 6<br>MT: -0.0652 | <b>Δt: -0.0652 s</b><br>Tm: 2.4149 s | Tb: 2.5497 s<br>Line: L7-8 | Fault: 90<br>Status: Miscoordinated<extra></extra>",
          "<b>R13-R12</b><br>Plot Index: 7<br>MT: -0.0644 | <b>Δt: -0.0644 s</b><br>Tm: 2.3337 s | Tb: 2.4693 s<br>Line: L13-14 | Fault: 10<br>Status: Miscoordinated<extra></extra>",
          "<b>R17-R16</b><br>Plot Index: 8<br>MT: -0.0255 | <b>Δt: -0.0255 s</b><br>Tm: 2.5522 s | Tb: 2.7267 s<br>Line: L17-18 | Fault: 10<br>Status: Miscoordinated<extra></extra>",
          "<b>R20-R19</b><br>Plot Index: 9<br>MT: -0.0156 | <b>Δt: -0.0156 s</b><br>Tm: 1.8801 s | Tb: 2.0645 s<br>Line: L20-21 | Fault: 10<br>Status: Miscoordinated<extra></extra>",
          "<b>R70-R20</b><br>Plot Index: 10<br>MT: -0.0116 | <b>Δt: -0.0116 s</b><br>Tm: 1.8668 s | Tb: 2.0552 s<br>Line: L8-21 | Fault: 90<br>Status: Miscoordinated<extra></extra>",
          "<b>R15-R34</b><br>Plot Index: 11<br>MT: -0.0093 | <b>Δt: -0.0093 s</b><br>Tm: 2.3380 s | Tb: 2.5287 s<br>Line: L15-16 | Fault: 10<br>Status: Miscoordinated<extra></extra>",
          "<b>R15-R14</b><br>Plot Index: 12<br>MT: -0.0072 | <b>Δt: -0.0072 s</b><br>Tm: 2.3380 s | Tb: 2.5308 s<br>Line: L15-16 | Fault: 10<br>Status: Miscoordinated<extra></extra>",
          "<b>R24-R23</b><br>Plot Index: 13<br>MT: -0.0028 | <b>Δt: -0.0028 s</b><br>Tm: 2.4064 s | Tb: 2.6036 s<br>Line: L24-25 | Fault: 10<br>Status: Miscoordinated<extra></extra>",
          "<b>R51-R52</b><br>Plot Index: 14<br>MT: 0.0000 | <b>Δt: 0.0667 s</b><br>Tm: 1.8980 s | Tb: 2.1647 s<br>Line: L14-15 | Fault: 90<br>Status: Coordinated<extra></extra>",
          "<b>R38-R55</b><br>Plot Index: 15<br>MT: 0.0000 | <b>Δt: 1.7861 s</b><br>Tm: 0.1989 s | Tb: 2.1850 s<br>Line: L1-2 | Fault: 90<br>Status: Coordinated<extra></extra>",
          "<b>R47-R48</b><br>Plot Index: 16<br>MT: 0.0000 | <b>Δt: 0.0215 s</b><br>Tm: 1.9344 s | Tb: 2.1559 s<br>Line: L10-11 | Fault: 90<br>Status: Coordinated<extra></extra>",
          "<b>R48-R49</b><br>Plot Index: 17<br>MT: 0.0000 | <b>Δt: 0.0219 s</b><br>Tm: 2.0627 s | Tb: 2.2846 s<br>Line: L11-12 | Fault: 90<br>Status: Coordinated<extra></extra>",
          "<b>R48-R72</b><br>Plot Index: 18<br>MT: 0.0000 | <b>Δt: 0.0439 s</b><br>Tm: 2.0627 s | Tb: 2.3066 s<br>Line: L11-12 | Fault: 90<br>Status: Coordinated<extra></extra>",
          "<b>R12-R72</b><br>Plot Index: 19<br>MT: 0.0000 | <b>Δt: 0.1267 s</b><br>Tm: 2.0294 s | Tb: 2.3561 s<br>Line: L12-13 | Fault: 10<br>Status: Coordinated<extra></extra>",
          "<b>R49-R50</b><br>Plot Index: 20<br>MT: 0.0000 | <b>Δt: 0.0335 s</b><br>Tm: 1.7994 s | Tb: 2.0329 s<br>Line: L12-13 | Fault: 90<br>Status: Coordinated<extra></extra>",
          "<b>R50-R51</b><br>Plot Index: 21<br>MT: 0.0000 | <b>Δt: 0.0032 s</b><br>Tm: 1.8518 s | Tb: 2.0550 s<br>Line: L13-14 | Fault: 90<br>Status: Coordinated<extra></extra>",
          "<b>R14-R13</b><br>Plot Index: 22<br>MT: 0.0000 | <b>Δt: 0.0585 s</b><br>Tm: 2.3044 s | Tb: 2.5629 s<br>Line: L14-15 | Fault: 10<br>Status: Coordinated<extra></extra>",
          "<b>R54-R73</b><br>Plot Index: 23<br>MT: 0.0000 | <b>Δt: 0.0757 s</b><br>Tm: 2.2353 s | Tb: 2.5110 s<br>Line: L17-18 | Fault: 90<br>Status: Coordinated<extra></extra>",
          "<b>R18-R39</b><br>Plot Index: 24<br>MT: 0.0000 | <b>Δt: 0.0653 s</b><br>Tm: 1.4531 s | Tb: 1.7184 s<br>Line: L2-19 | Fault: 10<br>Status: Coordinated<extra></extra>",
          "<b>R52-R53</b><br>Plot Index: 25<br>MT: 0.0000 | <b>Δt: 0.0894 s</b><br>Tm: 2.0266 s | Tb: 2.3160 s<br>Line: L15-16 | Fault: 90<br>Status: Coordinated<extra></extra>",
          "<b>R16-R15</b><br>Plot Index: 26<br>MT: 0.0000 | <b>Δt: 0.0752 s</b><br>Tm: 2.3050 s | Tb: 2.5802 s<br>Line: L16-17 | Fault: 10<br>Status: Coordinated<extra></extra>",
          "<b>R53-R54</b><br>Plot Index: 27<br>MT: 0.0000 | <b>Δt: 0.1214 s</b><br>Tm: 2.0604 s | Tb: 2.3818 s<br>Line: L16-17 | Fault: 90<br>Status: Coordinated<extra></extra>",
          "<b>R55-R56</b><br>Plot Index: 28<br>MT: 0.0000 | <b>Δt: 0.0660 s</b><br>Tm: 1.8282 s | Tb: 2.0942 s<br>Line: L2-19 | Fault: 90<br>Status: Coordinated<extra></extra>",
          "<b>R36-R17</b><br>Plot Index: 29<br>MT: 0.0000 | <b>Δt: 0.0232 s</b><br>Tm: 2.5008 s | Tb: 2.7240 s<br>Line: L18-33 | Fault: 10<br>Status: Coordinated<extra></extra>",
          "<b>R73-R32</b><br>Plot Index: 30<br>MT: 0.0000 | <b>Δt: 0.0991 s</b><br>Tm: 2.3767 s | Tb: 2.6758 s<br>Line: L18-33 | Fault: 90<br>Status: Coordinated<extra></extra>",
          "<b>R56-R57</b><br>Plot Index: 31<br>MT: 0.0000 | <b>Δt: 0.0045 s</b><br>Tm: 1.5655 s | Tb: 1.7700 s<br>Line: L19-20 | Fault: 90<br>Status: Coordinated<extra></extra>",
          "<b>R51-R34</b><br>Plot Index: 32<br>MT: 0.0000 | <b>Δt: 0.4307 s</b><br>Tm: 1.8980 s | Tb: 2.5287 s<br>Line: L14-15 | Fault: 90<br>Status: Coordinated<extra></extra>",
          "<b>R2-R1</b><br>Plot Index: 33<br>MT: 0.0000 | <b>Δt: 0.0944 s</b><br>Tm: 1.9891 s | Tb: 2.2835 s<br>Line: L2-3 | Fault: 10<br>Status: Coordinated<extra></extra>",
          "<b>R71-R14</b><br>Plot Index: 34<br>MT: 0.0000 | <b>Δt: 1.0817 s</b><br>Tm: 1.3400 s | Tb: 2.6217 s<br>Line: L9-15 | Fault: 90<br>Status: Coordinated<extra></extra>",
          "<b>R26-R25</b><br>Plot Index: 35<br>MT: 0.0000 | <b>Δt: 0.0492 s</b><br>Tm: 2.2805 s | Tb: 2.5297 s<br>Line: L26-27 | Fault: 10<br>Status: Coordinated<extra></extra>",
          "<b>R39-R40</b><br>Plot Index: 36<br>MT: 0.0000 | <b>Δt: 0.7327 s</b><br>Tm: 1.1999 s | Tb: 2.1326 s<br>Line: L2-3 | Fault: 90<br>Status: Coordinated<extra></extra>",
          "<b>R39-R59</b><br>Plot Index: 37<br>MT: 0.0000 | <b>Δt: 0.9717 s</b><br>Tm: 1.1999 s | Tb: 2.3716 s<br>Line: L2-3 | Fault: 90<br>Status: Coordinated<extra></extra>",
          "<b>R57-R58</b><br>Plot Index: 38<br>MT: 0.0000 | <b>Δt: 0.0650 s</b><br>Tm: 1.6605 s | Tb: 1.9255 s<br>Line: L20-21 | Fault: 90<br>Status: Coordinated<extra></extra>",
          "<b>R57-R33</b><br>Plot Index: 39<br>MT: 0.0000 | <b>Δt: 0.0189 s</b><br>Tm: 1.6605 s | Tb: 1.8794 s<br>Line: L20-21 | Fault: 90<br>Status: Coordinated<extra></extra>",
          "<b>R21-R20</b><br>Plot Index: 40<br>MT: 0.0000 | <b>Δt: 0.3241 s</b><br>Tm: 1.4986 s | Tb: 2.0227 s<br>Line: L21-22 | Fault: 10<br>Status: Coordinated<extra></extra>",
          "<b>R21-R33</b><br>Plot Index: 41<br>MT: 0.0000 | <b>Δt: 0.2140 s</b><br>Tm: 1.4986 s | Tb: 1.9126 s<br>Line: L21-22 | Fault: 10<br>Status: Coordinated<extra></extra>",
          "<b>R58-R35</b><br>Plot Index: 42<br>MT: 0.0000 | <b>Δt: 0.0136 s</b><br>Tm: 1.6871 s | Tb: 1.9007 s<br>Line: L21-22 | Fault: 90<br>Status: Coordinated<extra></extra>",
          "<b>R33-R7</b><br>Plot Index: 43<br>MT: 0.0000 | <b>Δt: 0.3356 s</b><br>Tm: 1.4160 s | Tb: 1.9516 s<br>Line: L8-21 | Fault: 10<br>Status: Coordinated<extra></extra>",
          "<b>R2-R55</b><br>Plot Index: 44<br>MT: 0.0000 | <b>Δt: 0.2697 s</b><br>Tm: 1.9891 s | Tb: 2.4588 s<br>Line: L2-3 | Fault: 10<br>Status: Coordinated<extra></extra>",
          "<b>R33-R45</b><br>Plot Index: 45<br>MT: 0.0000 | <b>Δt: 1.1912 s</b><br>Tm: 1.4160 s | Tb: 2.8072 s<br>Line: L8-21 | Fault: 10<br>Status: Coordinated<extra></extra>",
          "<b>R72-R21</b><br>Plot Index: 46<br>MT: 0.0000 | <b>Δt: 0.0158 s</b><br>Tm: 1.8478 s | Tb: 2.0636 s<br>Line: L12-22 | Fault: 10<br>Status: Coordinated<extra></extra>",
          "<b>R35-R11</b><br>Plot Index: 47<br>MT: 0.0000 | <b>Δt: 0.9304 s</b><br>Tm: 1.5177 s | Tb: 2.6481 s<br>Line: L12-22 | Fault: 90<br>Status: Coordinated<extra></extra>",
          "<b>R35-R49</b><br>Plot Index: 48<br>MT: 0.0000 | <b>Δt: 1.4758 s</b><br>Tm: 1.5177 s | Tb: 3.1935 s<br>Line: L12-22 | Fault: 90<br>Status: Coordinated<extra></extra>",
          "<b>R60-R61</b><br>Plot Index: 49<br>MT: 0.0000 | <b>Δt: 0.0016 s</b><br>Tm: 1.5096 s | Tb: 1.7112 s<br>Line: L23-24 | Fault: 90<br>Status: Coordinated<extra></extra>",
          "<b>R18-R1</b><br>Plot Index: 50<br>MT: 0.0000 | <b>Δt: 0.6124 s</b><br>Tm: 1.4531 s | Tb: 2.2655 s<br>Line: L2-19 | Fault: 10<br>Status: Coordinated<extra></extra>",
          "<b>R37-R24</b><br>Plot Index: 51<br>MT: 0.0000 | <b>Δt: 0.0002 s</b><br>Tm: 2.6099 s | Tb: 2.8101 s<br>Line: L25-29 | Fault: 10<br>Status: Coordinated<extra></extra>",
          "<b>R74-R28</b><br>Plot Index: 52<br>MT: 0.0000 | <b>Δt: 1.0917 s</b><br>Tm: 1.6779 s | Tb: 2.9696 s<br>Line: L25-29 | Fault: 90<br>Status: Coordinated<extra></extra>",
          "<b>R74-R66</b><br>Plot Index: 53<br>MT: 0.0000 | <b>Δt: 0.3042 s</b><br>Tm: 1.6779 s | Tb: 2.1821 s<br>Line: L25-29 | Fault: 90<br>Status: Coordinated<extra></extra>",
          "<b>R70-R58</b><br>Plot Index: 54<br>MT: 0.0000 | <b>Δt: 0.0108 s</b><br>Tm: 1.8668 s | Tb: 2.0776 s<br>Line: L8-21 | Fault: 90<br>Status: Coordinated<extra></extra>",
          "<b>R63-R64</b><br>Plot Index: 55<br>MT: 0.0000 | <b>Δt: 0.0113 s</b><br>Tm: 2.0625 s | Tb: 2.2738 s<br>Line: L26-27 | Fault: 90<br>Status: Coordinated<extra></extra>",
          "<b>R25-R5</b><br>Plot Index: 56<br>MT: 0.0000 | <b>Δt: 0.0713 s</b><br>Tm: 2.4072 s | Tb: 2.6785 s<br>Line: L6-26 | Fault: 10<br>Status: Coordinated<extra></extra>",
          "<b>R64-R65</b><br>Plot Index: 57<br>MT: 0.0000 | <b>Δt: 0.0340 s</b><br>Tm: 1.9583 s | Tb: 2.1923 s<br>Line: L27-28 | Fault: 90<br>Status: Coordinated<extra></extra>",
          "<b>R69-R36</b><br>Plot Index: 58<br>MT: 0.0000 | <b>Δt: 0.0333 s</b><br>Tm: 2.3775 s | Tb: 2.6108 s<br>Line: L32-33 | Fault: 90<br>Status: Coordinated<extra></extra>",
          "<b>R3-R2</b><br>Plot Index: 59<br>MT: 0.0000 | <b>Δt: 0.0647 s</b><br>Tm: 2.1218 s | Tb: 2.3865 s<br>Line: L3-4 | Fault: 10<br>Status: Coordinated<extra></extra>",
          "<b>R65-R37</b><br>Plot Index: 60<br>MT: 0.0000 | <b>Δt: 0.7113 s</b><br>Tm: 1.9594 s | Tb: 2.8707 s<br>Line: L28-29 | Fault: 90<br>Status: Coordinated<extra></extra>",
          "<b>R65-R66</b><br>Plot Index: 61<br>MT: 0.0000 | <b>Δt: 0.0450 s</b><br>Tm: 1.9594 s | Tb: 2.2044 s<br>Line: L28-29 | Fault: 90<br>Status: Coordinated<extra></extra>",
          "<b>R29-R28</b><br>Plot Index: 62<br>MT: 0.0000 | <b>Δt: 0.1530 s</b><br>Tm: 2.6166 s | Tb: 2.9696 s<br>Line: L29-30 | Fault: 10<br>Status: Coordinated<extra></extra>",
          "<b>R29-R37</b><br>Plot Index: 63<br>MT: 0.0000 | <b>Δt: 0.0344 s</b><br>Tm: 2.6166 s | Tb: 2.8510 s<br>Line: L29-30 | Fault: 10<br>Status: Coordinated<extra></extra>",
          "<b>R66-R67</b><br>Plot Index: 64<br>MT: 0.0000 | <b>Δt: 0.0448 s</b><br>Tm: 2.0653 s | Tb: 2.3101 s<br>Line: L29-30 | Fault: 90<br>Status: Coordinated<extra></extra>",
          "<b>R22-R2</b><br>Plot Index: 65<br>MT: 0.0000 | <b>Δt: 0.2618 s</b><br>Tm: 1.9394 s | Tb: 2.4012 s<br>Line: L3-23 | Fault: 10<br>Status: Coordinated<extra></extra>",
          "<b>R42-R62</b><br>Plot Index: 66<br>MT: 0.0000 | <b>Δt: 0.0438 s</b><br>Tm: 1.8509 s | Tb: 2.0947 s<br>Line: L5-6 | Fault: 90<br>Status: Coordinated<extra></extra>",
          "<b>R22-R40</b><br>Plot Index: 67<br>MT: 0.0000 | <b>Δt: 0.0459 s</b><br>Tm: 1.9394 s | Tb: 2.1853 s<br>Line: L3-23 | Fault: 10<br>Status: Coordinated<extra></extra>",
          "<b>R38-R39</b><br>Plot Index: 68<br>MT: 0.0000 | <b>Δt: 1.2379 s</b><br>Tm: 0.1989 s | Tb: 1.6368 s<br>Line: L1-2 | Fault: 90<br>Status: Coordinated<extra></extra>",
          "<b>R67-R68</b><br>Plot Index: 69<br>MT: 0.0000 | <b>Δt: 0.0144 s</b><br>Tm: 2.1176 s | Tb: 2.3320 s<br>Line: L30-31 | Fault: 90<br>Status: Coordinated<extra></extra>",
          "<b>R32-R31</b><br>Plot Index: 70<br>MT: 0.0000 | <b>Δt: 0.1070 s</b><br>Tm: 2.5315 s | Tb: 2.8385 s<br>Line: L32-33 | Fault: 10<br>Status: Coordinated<extra></extra>",
          "<b>R3-R59</b><br>Plot Index: 71<br>MT: 0.0000 | <b>Δt: 0.2420 s</b><br>Tm: 2.1218 s | Tb: 2.5638 s<br>Line: L3-4 | Fault: 10<br>Status: Coordinated<extra></extra>",
          "<b>R40-R41</b><br>Plot Index: 72<br>MT: 0.0000 | <b>Δt: 0.0188 s</b><br>Tm: 1.8337 s | Tb: 2.0525 s<br>Line: L3-4 | Fault: 90<br>Status: Coordinated<extra></extra>",
          "<b>R30-R29</b><br>Plot Index: 73<br>MT: 0.0000 | <b>Δt: 0.2114 s</b><br>Tm: 2.4651 s | Tb: 2.8765 s<br>Line: L30-31 | Fault: 10<br>Status: Coordinated<extra></extra>",
          "<b>R68-R69</b><br>Plot Index: 74<br>MT: 0.0000 | <b>Δt: 0.0087 s</b><br>Tm: 2.2508 s | Tb: 2.4595 s<br>Line: L31-32 | Fault: 90<br>Status: Coordinated<extra></extra>",
          "<b>R31-R30</b><br>Plot Index: 75<br>MT: 0.0000 | <b>Δt: 0.0102 s</b><br>Tm: 2.6913 s | Tb: 2.9015 s<br>Line: L31-32 | Fault: 10<br>Status: Coordinated<extra></extra>",
          "<b>R59-R60</b><br>Plot Index: 76<br>MT: 0.0000 | <b>Δt: 0.0372 s</b><br>Tm: 1.6106 s | Tb: 1.8478 s<br>Line: L3-23 | Fault: 90<br>Status: Coordinated<extra></extra>",
          "<b>R41-R42</b><br>Plot Index: 77<br>MT: 0.0000 | <b>Δt: 0.0023 s</b><br>Tm: 1.8954 s | Tb: 2.0977 s<br>Line: L4-5 | Fault: 90<br>Status: Coordinated<extra></extra>",
          "<b>R34-R46</b><br>Plot Index: 78<br>MT: 0.0000 | <b>Δt: 0.7241 s</b><br>Tm: 1.8600 s | Tb: 2.7841 s<br>Line: L9-15 | Fault: 10<br>Status: Coordinated<extra></extra>",
          "<b>R34-R8</b><br>Plot Index: 79<br>MT: 0.0000 | <b>Δt: 0.0272 s</b><br>Tm: 1.8600 s | Tb: 2.0872 s<br>Line: L9-15 | Fault: 10<br>Status: Coordinated<extra></extra>",
          "<b>R7-R6</b><br>Plot Index: 80<br>MT: 0.0000 | <b>Δt: 0.0238 s</b><br>Tm: 1.7384 s | Tb: 1.9622 s<br>Line: L7-8 | Fault: 10<br>Status: Coordinated<extra></extra>",
          "<b>R5-R4</b><br>Plot Index: 81<br>MT: 0.0000 | <b>Δt: 0.0290 s</b><br>Tm: 2.2100 s | Tb: 2.4390 s<br>Line: L5-6 | Fault: 10<br>Status: Coordinated<extra></extra>",
          "<b>R42-R43</b><br>Plot Index: 82<br>MT: 0.0000 | <b>Δt: 0.6125 s</b><br>Tm: 1.8509 s | Tb: 2.6634 s<br>Line: L5-6 | Fault: 90<br>Status: Coordinated<extra></extra>",
          "<b>R28-R27</b><br>Plot Index: 83<br>MT: 0.0000 | <b>Δt: 0.0006 s</b><br>Tm: 2.5829 s | Tb: 2.7835 s<br>Line: L28-29 | Fault: 10<br>Status: Coordinated<extra></extra>",
          "<b>R27-R26</b><br>Plot Index: 84<br>MT: 0.0000 | <b>Δt: 0.0268 s</b><br>Tm: 2.2492 s | Tb: 2.4760 s<br>Line: L27-28 | Fault: 10<br>Status: Coordinated<extra></extra>",
          "<b>R25-R43</b><br>Plot Index: 85<br>MT: 0.0000 | <b>Δt: 0.0241 s</b><br>Tm: 2.4072 s | Tb: 2.6313 s<br>Line: L6-26 | Fault: 10<br>Status: Coordinated<extra></extra>",
          "<b>R62-R63</b><br>Plot Index: 86<br>MT: 0.0000 | <b>Δt: 0.0180 s</b><br>Tm: 1.9479 s | Tb: 2.1659 s<br>Line: L6-26 | Fault: 90<br>Status: Coordinated<extra></extra>",
          "<b>R6-R5</b><br>Plot Index: 87<br>MT: 0.0000 | <b>Δt: 0.6638 s</b><br>Tm: 1.8263 s | Tb: 2.6901 s<br>Line: L6-7 | Fault: 10<br>Status: Coordinated<extra></extra>",
          "<b>R6-R62</b><br>Plot Index: 88<br>MT: 0.0000 | <b>Δt: 0.0404 s</b><br>Tm: 1.8263 s | Tb: 2.0667 s<br>Line: L6-7 | Fault: 10<br>Status: Coordinated<extra></extra>",
          "<b>R43-R44</b><br>Plot Index: 89<br>MT: 0.0000 | <b>Δt: 0.0146 s</b><br>Tm: 2.4393 s | Tb: 2.6539 s<br>Line: L6-7 | Fault: 90<br>Status: Coordinated<extra></extra>",
          "<b>R44-R45</b><br>Plot Index: 90<br>MT: 0.0000 | <b>Δt: 0.0473 s</b><br>Tm: 2.4149 s | Tb: 2.6622 s<br>Line: L7-8 | Fault: 90<br>Status: Coordinated<extra></extra>",
          "<b>R4-R3</b><br>Plot Index: 91<br>MT: 0.0000 | <b>Δt: 0.0349 s</b><br>Tm: 2.1654 s | Tb: 2.4003 s<br>Line: L4-5 | Fault: 10<br>Status: Coordinated<extra></extra>",
          "<b>R8-R7</b><br>Plot Index: 92<br>MT: 0.0000 | <b>Δt: 0.0266 s</b><br>Tm: 1.6771 s | Tb: 1.9037 s<br>Line: L8-9 | Fault: 10<br>Status: Coordinated<extra></extra>",
          "<b>R8-R70</b><br>Plot Index: 93<br>MT: 0.0000 | <b>Δt: 0.7190 s</b><br>Tm: 1.6771 s | Tb: 2.5961 s<br>Line: L8-9 | Fault: 10<br>Status: Coordinated<extra></extra>",
          "<b>R45-R46</b><br>Plot Index: 94<br>MT: 0.0000 | <b>Δt: 0.0265 s</b><br>Tm: 2.2619 s | Tb: 2.4884 s<br>Line: L8-9 | Fault: 90<br>Status: Coordinated<extra></extra>",
          "<b>R45-R71</b><br>Plot Index: 95<br>MT: 0.0000 | <b>Δt: 0.0421 s</b><br>Tm: 2.2619 s | Tb: 2.5040 s<br>Line: L8-9 | Fault: 90<br>Status: Coordinated<extra></extra>",
          "<b>R9-R8</b><br>Plot Index: 96<br>MT: 0.0000 | <b>Δt: 0.0164 s</b><br>Tm: 1.8166 s | Tb: 2.0330 s<br>Line: L9-10 | Fault: 10<br>Status: Coordinated<extra></extra>",
          "<b>R9-R71</b><br>Plot Index: 97<br>MT: 0.0000 | <b>Δt: 0.6633 s</b><br>Tm: 1.8166 s | Tb: 2.6799 s<br>Line: L9-10 | Fault: 10<br>Status: Coordinated<extra></extra>",
          "<b>R46-R47</b><br>Plot Index: 98<br>MT: 0.0000 | <b>Δt: 0.0004 s</b><br>Tm: 1.8203 s | Tb: 2.0207 s<br>Line: L9-10 | Fault: 90<br>Status: Coordinated<extra></extra>",
          "<b>R61-R74</b><br>Plot Index: 99<br>MT: 0.0000 | <b>Δt: 0.0557 s</b><br>Tm: 1.5339 s | Tb: 1.7896 s<br>Line: L24-25 | Fault: 90<br>Status: Coordinated<extra></extra>",
          "<b>R71-R52</b><br>Plot Index: 100<br>MT: 0.0000 | <b>Δt: 0.6808 s</b><br>Tm: 1.3400 s | Tb: 2.2208 s<br>Line: L9-15 | Fault: 90<br>Status: Coordinated<extra></extra>"
         ],
         "type": "bar",
         "x": [
          1,
          2,
          3,
          4,
          5,
          6,
          7,
          8,
          9,
          10,
          11,
          12,
          13,
          14,
          15,
          16,
          17,
          18,
          19,
          20,
          21,
          22,
          23,
          24,
          25,
          26,
          27,
          28,
          29,
          30,
          31,
          32,
          33,
          34,
          35,
          36,
          37,
          38,
          39,
          40,
          41,
          42,
          43,
          44,
          45,
          46,
          47,
          48,
          49,
          50,
          51,
          52,
          53,
          54,
          55,
          56,
          57,
          58,
          59,
          60,
          61,
          62,
          63,
          64,
          65,
          66,
          67,
          68,
          69,
          70,
          71,
          72,
          73,
          74,
          75,
          76,
          77,
          78,
          79,
          80,
          81,
          82,
          83,
          84,
          85,
          86,
          87,
          88,
          89,
          90,
          91,
          92,
          93,
          94,
          95,
          96,
          97,
          98,
          99,
          100
         ],
         "y": [
          -0.13900000000000007,
          -0.12010000000000015,
          -0.10689999999999983,
          -0.09670000000000006,
          -0.07500000000000001,
          -0.06519999999999976,
          -0.06439999999999985,
          -0.02549999999999991,
          -0.015600000000000336,
          -0.011599999999999888,
          -0.00929999999999992,
          -0.007199999999999929,
          -0.002799999999999969,
          0,
          0,
          0,
          0,
          0,
          0,
          0,
          0,
          0,
          0,
          0,
          0,
          0,
          0,
          0,
          0,
          0,
          0,
          0,
          0,
          0,
          0,
          0,
          0,
          0,
          0,
          0,
          0,
          0,
          0,
          0,
          0,
          0,
          0,
          0,
          0,
          0,
          0,
          0,
          0,
          0,
          0,
          0,
          0,
          0,
          0,
          0,
          0,
          0,
          0,
          0,
          0,
          0,
          0,
          0,
          0,
          0,
          0,
          0,
          0,
          0,
          0,
          0,
          0,
          0,
          0,
          0,
          0,
          0,
          0,
          0,
          0,
          0,
          0,
          0,
          0,
          0,
          0,
          0,
          0,
          0,
          0,
          0,
          0,
          0,
          0,
          0
         ]
        }
       ],
       "layout": {
        "bargap": 0.2,
        "height": 500,
        "legend": {
         "font": {
          "size": 12
         },
         "title": {
          "font": {
           "size": 14
          }
         }
        },
        "margin": {
         "b": 70,
         "l": 70,
         "r": 40,
         "t": 80
        },
        "shapes": [
         {
          "line": {
           "color": "black",
           "dash": "dash",
           "width": 1.5
          },
          "type": "line",
          "x0": 0,
          "x1": 1,
          "xref": "x domain",
          "y0": 0,
          "y1": 0,
          "yref": "y"
         }
        ],
        "template": {
         "data": {
          "bar": [
           {
            "error_x": {
             "color": "#2a3f5f"
            },
            "error_y": {
             "color": "#2a3f5f"
            },
            "marker": {
             "line": {
              "color": "white",
              "width": 0.5
             },
             "pattern": {
              "fillmode": "overlay",
              "size": 10,
              "solidity": 0.2
             }
            },
            "type": "bar"
           }
          ],
          "barpolar": [
           {
            "marker": {
             "line": {
              "color": "white",
              "width": 0.5
             },
             "pattern": {
              "fillmode": "overlay",
              "size": 10,
              "solidity": 0.2
             }
            },
            "type": "barpolar"
           }
          ],
          "carpet": [
           {
            "aaxis": {
             "endlinecolor": "#2a3f5f",
             "gridcolor": "#C8D4E3",
             "linecolor": "#C8D4E3",
             "minorgridcolor": "#C8D4E3",
             "startlinecolor": "#2a3f5f"
            },
            "baxis": {
             "endlinecolor": "#2a3f5f",
             "gridcolor": "#C8D4E3",
             "linecolor": "#C8D4E3",
             "minorgridcolor": "#C8D4E3",
             "startlinecolor": "#2a3f5f"
            },
            "type": "carpet"
           }
          ],
          "choropleth": [
           {
            "colorbar": {
             "outlinewidth": 0,
             "ticks": ""
            },
            "type": "choropleth"
           }
          ],
          "contour": [
           {
            "colorbar": {
             "outlinewidth": 0,
             "ticks": ""
            },
            "colorscale": [
             [
              0,
              "#0d0887"
             ],
             [
              0.1111111111111111,
              "#46039f"
             ],
             [
              0.2222222222222222,
              "#7201a8"
             ],
             [
              0.3333333333333333,
              "#9c179e"
             ],
             [
              0.4444444444444444,
              "#bd3786"
             ],
             [
              0.5555555555555556,
              "#d8576b"
             ],
             [
              0.6666666666666666,
              "#ed7953"
             ],
             [
              0.7777777777777778,
              "#fb9f3a"
             ],
             [
              0.8888888888888888,
              "#fdca26"
             ],
             [
              1,
              "#f0f921"
             ]
            ],
            "type": "contour"
           }
          ],
          "contourcarpet": [
           {
            "colorbar": {
             "outlinewidth": 0,
             "ticks": ""
            },
            "type": "contourcarpet"
           }
          ],
          "heatmap": [
           {
            "colorbar": {
             "outlinewidth": 0,
             "ticks": ""
            },
            "colorscale": [
             [
              0,
              "#0d0887"
             ],
             [
              0.1111111111111111,
              "#46039f"
             ],
             [
              0.2222222222222222,
              "#7201a8"
             ],
             [
              0.3333333333333333,
              "#9c179e"
             ],
             [
              0.4444444444444444,
              "#bd3786"
             ],
             [
              0.5555555555555556,
              "#d8576b"
             ],
             [
              0.6666666666666666,
              "#ed7953"
             ],
             [
              0.7777777777777778,
              "#fb9f3a"
             ],
             [
              0.8888888888888888,
              "#fdca26"
             ],
             [
              1,
              "#f0f921"
             ]
            ],
            "type": "heatmap"
           }
          ],
          "heatmapgl": [
           {
            "colorbar": {
             "outlinewidth": 0,
             "ticks": ""
            },
            "colorscale": [
             [
              0,
              "#0d0887"
             ],
             [
              0.1111111111111111,
              "#46039f"
             ],
             [
              0.2222222222222222,
              "#7201a8"
             ],
             [
              0.3333333333333333,
              "#9c179e"
             ],
             [
              0.4444444444444444,
              "#bd3786"
             ],
             [
              0.5555555555555556,
              "#d8576b"
             ],
             [
              0.6666666666666666,
              "#ed7953"
             ],
             [
              0.7777777777777778,
              "#fb9f3a"
             ],
             [
              0.8888888888888888,
              "#fdca26"
             ],
             [
              1,
              "#f0f921"
             ]
            ],
            "type": "heatmapgl"
           }
          ],
          "histogram": [
           {
            "marker": {
             "pattern": {
              "fillmode": "overlay",
              "size": 10,
              "solidity": 0.2
             }
            },
            "type": "histogram"
           }
          ],
          "histogram2d": [
           {
            "colorbar": {
             "outlinewidth": 0,
             "ticks": ""
            },
            "colorscale": [
             [
              0,
              "#0d0887"
             ],
             [
              0.1111111111111111,
              "#46039f"
             ],
             [
              0.2222222222222222,
              "#7201a8"
             ],
             [
              0.3333333333333333,
              "#9c179e"
             ],
             [
              0.4444444444444444,
              "#bd3786"
             ],
             [
              0.5555555555555556,
              "#d8576b"
             ],
             [
              0.6666666666666666,
              "#ed7953"
             ],
             [
              0.7777777777777778,
              "#fb9f3a"
             ],
             [
              0.8888888888888888,
              "#fdca26"
             ],
             [
              1,
              "#f0f921"
             ]
            ],
            "type": "histogram2d"
           }
          ],
          "histogram2dcontour": [
           {
            "colorbar": {
             "outlinewidth": 0,
             "ticks": ""
            },
            "colorscale": [
             [
              0,
              "#0d0887"
             ],
             [
              0.1111111111111111,
              "#46039f"
             ],
             [
              0.2222222222222222,
              "#7201a8"
             ],
             [
              0.3333333333333333,
              "#9c179e"
             ],
             [
              0.4444444444444444,
              "#bd3786"
             ],
             [
              0.5555555555555556,
              "#d8576b"
             ],
             [
              0.6666666666666666,
              "#ed7953"
             ],
             [
              0.7777777777777778,
              "#fb9f3a"
             ],
             [
              0.8888888888888888,
              "#fdca26"
             ],
             [
              1,
              "#f0f921"
             ]
            ],
            "type": "histogram2dcontour"
           }
          ],
          "mesh3d": [
           {
            "colorbar": {
             "outlinewidth": 0,
             "ticks": ""
            },
            "type": "mesh3d"
           }
          ],
          "parcoords": [
           {
            "line": {
             "colorbar": {
              "outlinewidth": 0,
              "ticks": ""
             }
            },
            "type": "parcoords"
           }
          ],
          "pie": [
           {
            "automargin": true,
            "type": "pie"
           }
          ],
          "scatter": [
           {
            "fillpattern": {
             "fillmode": "overlay",
             "size": 10,
             "solidity": 0.2
            },
            "type": "scatter"
           }
          ],
          "scatter3d": [
           {
            "line": {
             "colorbar": {
              "outlinewidth": 0,
              "ticks": ""
             }
            },
            "marker": {
             "colorbar": {
              "outlinewidth": 0,
              "ticks": ""
             }
            },
            "type": "scatter3d"
           }
          ],
          "scattercarpet": [
           {
            "marker": {
             "colorbar": {
              "outlinewidth": 0,
              "ticks": ""
             }
            },
            "type": "scattercarpet"
           }
          ],
          "scattergeo": [
           {
            "marker": {
             "colorbar": {
              "outlinewidth": 0,
              "ticks": ""
             }
            },
            "type": "scattergeo"
           }
          ],
          "scattergl": [
           {
            "marker": {
             "colorbar": {
              "outlinewidth": 0,
              "ticks": ""
             }
            },
            "type": "scattergl"
           }
          ],
          "scattermapbox": [
           {
            "marker": {
             "colorbar": {
              "outlinewidth": 0,
              "ticks": ""
             }
            },
            "type": "scattermapbox"
           }
          ],
          "scatterpolar": [
           {
            "marker": {
             "colorbar": {
              "outlinewidth": 0,
              "ticks": ""
             }
            },
            "type": "scatterpolar"
           }
          ],
          "scatterpolargl": [
           {
            "marker": {
             "colorbar": {
              "outlinewidth": 0,
              "ticks": ""
             }
            },
            "type": "scatterpolargl"
           }
          ],
          "scatterternary": [
           {
            "marker": {
             "colorbar": {
              "outlinewidth": 0,
              "ticks": ""
             }
            },
            "type": "scatterternary"
           }
          ],
          "surface": [
           {
            "colorbar": {
             "outlinewidth": 0,
             "ticks": ""
            },
            "colorscale": [
             [
              0,
              "#0d0887"
             ],
             [
              0.1111111111111111,
              "#46039f"
             ],
             [
              0.2222222222222222,
              "#7201a8"
             ],
             [
              0.3333333333333333,
              "#9c179e"
             ],
             [
              0.4444444444444444,
              "#bd3786"
             ],
             [
              0.5555555555555556,
              "#d8576b"
             ],
             [
              0.6666666666666666,
              "#ed7953"
             ],
             [
              0.7777777777777778,
              "#fb9f3a"
             ],
             [
              0.8888888888888888,
              "#fdca26"
             ],
             [
              1,
              "#f0f921"
             ]
            ],
            "type": "surface"
           }
          ],
          "table": [
           {
            "cells": {
             "fill": {
              "color": "#EBF0F8"
             },
             "line": {
              "color": "white"
             }
            },
            "header": {
             "fill": {
              "color": "#C8D4E3"
             },
             "line": {
              "color": "white"
             }
            },
            "type": "table"
           }
          ]
         },
         "layout": {
          "annotationdefaults": {
           "arrowcolor": "#2a3f5f",
           "arrowhead": 0,
           "arrowwidth": 1
          },
          "autotypenumbers": "strict",
          "coloraxis": {
           "colorbar": {
            "outlinewidth": 0,
            "ticks": ""
           }
          },
          "colorscale": {
           "diverging": [
            [
             0,
             "#8e0152"
            ],
            [
             0.1,
             "#c51b7d"
            ],
            [
             0.2,
             "#de77ae"
            ],
            [
             0.3,
             "#f1b6da"
            ],
            [
             0.4,
             "#fde0ef"
            ],
            [
             0.5,
             "#f7f7f7"
            ],
            [
             0.6,
             "#e6f5d0"
            ],
            [
             0.7,
             "#b8e186"
            ],
            [
             0.8,
             "#7fbc41"
            ],
            [
             0.9,
             "#4d9221"
            ],
            [
             1,
             "#276419"
            ]
           ],
           "sequential": [
            [
             0,
             "#0d0887"
            ],
            [
             0.1111111111111111,
             "#46039f"
            ],
            [
             0.2222222222222222,
             "#7201a8"
            ],
            [
             0.3333333333333333,
             "#9c179e"
            ],
            [
             0.4444444444444444,
             "#bd3786"
            ],
            [
             0.5555555555555556,
             "#d8576b"
            ],
            [
             0.6666666666666666,
             "#ed7953"
            ],
            [
             0.7777777777777778,
             "#fb9f3a"
            ],
            [
             0.8888888888888888,
             "#fdca26"
            ],
            [
             1,
             "#f0f921"
            ]
           ],
           "sequentialminus": [
            [
             0,
             "#0d0887"
            ],
            [
             0.1111111111111111,
             "#46039f"
            ],
            [
             0.2222222222222222,
             "#7201a8"
            ],
            [
             0.3333333333333333,
             "#9c179e"
            ],
            [
             0.4444444444444444,
             "#bd3786"
            ],
            [
             0.5555555555555556,
             "#d8576b"
            ],
            [
             0.6666666666666666,
             "#ed7953"
            ],
            [
             0.7777777777777778,
             "#fb9f3a"
            ],
            [
             0.8888888888888888,
             "#fdca26"
            ],
            [
             1,
             "#f0f921"
            ]
           ]
          },
          "colorway": [
           "#636efa",
           "#EF553B",
           "#00cc96",
           "#ab63fa",
           "#FFA15A",
           "#19d3f3",
           "#FF6692",
           "#B6E880",
           "#FF97FF",
           "#FECB52"
          ],
          "font": {
           "color": "#2a3f5f"
          },
          "geo": {
           "bgcolor": "white",
           "lakecolor": "white",
           "landcolor": "white",
           "showlakes": true,
           "showland": true,
           "subunitcolor": "#C8D4E3"
          },
          "hoverlabel": {
           "align": "left"
          },
          "hovermode": "closest",
          "mapbox": {
           "style": "light"
          },
          "paper_bgcolor": "white",
          "plot_bgcolor": "white",
          "polar": {
           "angularaxis": {
            "gridcolor": "#EBF0F8",
            "linecolor": "#EBF0F8",
            "ticks": ""
           },
           "bgcolor": "white",
           "radialaxis": {
            "gridcolor": "#EBF0F8",
            "linecolor": "#EBF0F8",
            "ticks": ""
           }
          },
          "scene": {
           "xaxis": {
            "backgroundcolor": "white",
            "gridcolor": "#DFE8F3",
            "gridwidth": 2,
            "linecolor": "#EBF0F8",
            "showbackground": true,
            "ticks": "",
            "zerolinecolor": "#EBF0F8"
           },
           "yaxis": {
            "backgroundcolor": "white",
            "gridcolor": "#DFE8F3",
            "gridwidth": 2,
            "linecolor": "#EBF0F8",
            "showbackground": true,
            "ticks": "",
            "zerolinecolor": "#EBF0F8"
           },
           "zaxis": {
            "backgroundcolor": "white",
            "gridcolor": "#DFE8F3",
            "gridwidth": 2,
            "linecolor": "#EBF0F8",
            "showbackground": true,
            "ticks": "",
            "zerolinecolor": "#EBF0F8"
           }
          },
          "shapedefaults": {
           "line": {
            "color": "#2a3f5f"
           }
          },
          "ternary": {
           "aaxis": {
            "gridcolor": "#DFE8F3",
            "linecolor": "#A2B1C6",
            "ticks": ""
           },
           "baxis": {
            "gridcolor": "#DFE8F3",
            "linecolor": "#A2B1C6",
            "ticks": ""
           },
           "bgcolor": "white",
           "caxis": {
            "gridcolor": "#DFE8F3",
            "linecolor": "#A2B1C6",
            "ticks": ""
           }
          },
          "title": {
           "x": 0.05
          },
          "xaxis": {
           "automargin": true,
           "gridcolor": "#EBF0F8",
           "linecolor": "#EBF0F8",
           "ticks": "",
           "title": {
            "standoff": 15
           },
           "zerolinecolor": "#EBF0F8",
           "zerolinewidth": 2
          },
          "yaxis": {
           "automargin": true,
           "gridcolor": "#EBF0F8",
           "linecolor": "#EBF0F8",
           "ticks": "",
           "title": {
            "standoff": 15
           },
           "zerolinecolor": "#EBF0F8",
           "zerolinewidth": 2
          }
         }
        },
        "title": {
         "text": "Miscoordination Index (MT) - Scenario scenario_1<br>(Total MT = -0.7393, Pairs = 100)"
        },
        "width": 800,
        "xaxis": {
         "gridcolor": "lightgrey",
         "tickfont": {
          "size": 12
         },
         "title": {
          "text": "Relay Pair Index (Sorted by MT)"
         },
         "zeroline": true,
         "zerolinecolor": "black",
         "zerolinewidth": 1
        },
        "yaxis": {
         "gridcolor": "lightgrey",
         "tickfont": {
          "size": 12
         },
         "title": {
          "text": "Miscoordination Index (MT)"
         },
         "zeroline": true,
         "zerolinecolor": "black",
         "zerolinewidth": 1
        }
       }
      }
     },
     "metadata": {},
     "output_type": "display_data"
    },
    {
     "name": "stdout",
     "output_type": "stream",
     "text": [
      "    Displaying delta_bar plot...\n"
     ]
    },
    {
     "data": {
      "application/vnd.plotly.v1+json": {
       "config": {
        "plotlyServerURL": "https://plot.ly"
       },
       "data": [
        {
         "hoverinfo": "text",
         "marker": {
          "color": [
           "indianred",
           "indianred",
           "indianred",
           "indianred",
           "indianred",
           "indianred",
           "indianred",
           "indianred",
           "indianred",
           "indianred",
           "indianred",
           "indianred",
           "indianred",
           "mediumseagreen",
           "mediumseagreen",
           "mediumseagreen",
           "mediumseagreen",
           "mediumseagreen",
           "mediumseagreen",
           "mediumseagreen",
           "mediumseagreen",
           "mediumseagreen",
           "mediumseagreen",
           "mediumseagreen",
           "mediumseagreen",
           "mediumseagreen",
           "mediumseagreen",
           "mediumseagreen",
           "mediumseagreen",
           "mediumseagreen",
           "mediumseagreen",
           "mediumseagreen",
           "mediumseagreen",
           "mediumseagreen",
           "mediumseagreen",
           "mediumseagreen",
           "mediumseagreen",
           "mediumseagreen",
           "mediumseagreen",
           "mediumseagreen",
           "mediumseagreen",
           "mediumseagreen",
           "mediumseagreen",
           "mediumseagreen",
           "mediumseagreen",
           "mediumseagreen",
           "mediumseagreen",
           "mediumseagreen",
           "mediumseagreen",
           "mediumseagreen",
           "mediumseagreen",
           "mediumseagreen",
           "mediumseagreen",
           "mediumseagreen",
           "mediumseagreen",
           "mediumseagreen",
           "mediumseagreen",
           "mediumseagreen",
           "mediumseagreen",
           "mediumseagreen",
           "mediumseagreen",
           "mediumseagreen",
           "mediumseagreen",
           "mediumseagreen",
           "mediumseagreen",
           "mediumseagreen",
           "mediumseagreen",
           "mediumseagreen",
           "mediumseagreen",
           "mediumseagreen",
           "mediumseagreen",
           "mediumseagreen",
           "mediumseagreen",
           "mediumseagreen",
           "mediumseagreen",
           "mediumseagreen",
           "mediumseagreen",
           "mediumseagreen",
           "mediumseagreen",
           "mediumseagreen",
           "mediumseagreen",
           "mediumseagreen",
           "mediumseagreen",
           "mediumseagreen",
           "mediumseagreen",
           "mediumseagreen",
           "mediumseagreen",
           "mediumseagreen",
           "mediumseagreen",
           "mediumseagreen",
           "mediumseagreen",
           "mediumseagreen",
           "mediumseagreen",
           "mediumseagreen",
           "mediumseagreen",
           "mediumseagreen",
           "mediumseagreen",
           "mediumseagreen",
           "mediumseagreen",
           "mediumseagreen"
          ]
         },
         "name": "Δt",
         "text": [
          "<b>R19-R18</b><br>Plot Index: 1<br>MT: -0.1390 | <b>Δt: -0.1390 s</b><br>Tm: 1.5523 s | Tb: 1.6133 s<br>Line: L19-20 | Fault: 10<br>Status: Miscoordinated<extra></extra>",
          "<b>R11-R10</b><br>Plot Index: 2<br>MT: -0.1201 | <b>Δt: -0.1201 s</b><br>Tm: 1.9870 s | Tb: 2.0669 s<br>Line: L11-12 | Fault: 10<br>Status: Miscoordinated<extra></extra>",
          "<b>R12-R11</b><br>Plot Index: 3<br>MT: -0.1069 | <b>Δt: -0.1069 s</b><br>Tm: 2.0294 s | Tb: 2.1225 s<br>Line: L12-13 | Fault: 10<br>Status: Miscoordinated<extra></extra>",
          "<b>R10-R9</b><br>Plot Index: 4<br>MT: -0.0967 | <b>Δt: -0.0967 s</b><br>Tm: 2.0165 s | Tb: 2.1198 s<br>Line: L10-11 | Fault: 10<br>Status: Miscoordinated<extra></extra>",
          "<b>R23-R22</b><br>Plot Index: 5<br>MT: -0.0750 | <b>Δt: -0.0750 s</b><br>Tm: 2.1218 s | Tb: 2.2468 s<br>Line: L23-24 | Fault: 10<br>Status: Miscoordinated<extra></extra>",
          "<b>R44-R70</b><br>Plot Index: 6<br>MT: -0.0652 | <b>Δt: -0.0652 s</b><br>Tm: 2.4149 s | Tb: 2.5497 s<br>Line: L7-8 | Fault: 90<br>Status: Miscoordinated<extra></extra>",
          "<b>R13-R12</b><br>Plot Index: 7<br>MT: -0.0644 | <b>Δt: -0.0644 s</b><br>Tm: 2.3337 s | Tb: 2.4693 s<br>Line: L13-14 | Fault: 10<br>Status: Miscoordinated<extra></extra>",
          "<b>R17-R16</b><br>Plot Index: 8<br>MT: -0.0255 | <b>Δt: -0.0255 s</b><br>Tm: 2.5522 s | Tb: 2.7267 s<br>Line: L17-18 | Fault: 10<br>Status: Miscoordinated<extra></extra>",
          "<b>R20-R19</b><br>Plot Index: 9<br>MT: -0.0156 | <b>Δt: -0.0156 s</b><br>Tm: 1.8801 s | Tb: 2.0645 s<br>Line: L20-21 | Fault: 10<br>Status: Miscoordinated<extra></extra>",
          "<b>R70-R20</b><br>Plot Index: 10<br>MT: -0.0116 | <b>Δt: -0.0116 s</b><br>Tm: 1.8668 s | Tb: 2.0552 s<br>Line: L8-21 | Fault: 90<br>Status: Miscoordinated<extra></extra>",
          "<b>R15-R34</b><br>Plot Index: 11<br>MT: -0.0093 | <b>Δt: -0.0093 s</b><br>Tm: 2.3380 s | Tb: 2.5287 s<br>Line: L15-16 | Fault: 10<br>Status: Miscoordinated<extra></extra>",
          "<b>R15-R14</b><br>Plot Index: 12<br>MT: -0.0072 | <b>Δt: -0.0072 s</b><br>Tm: 2.3380 s | Tb: 2.5308 s<br>Line: L15-16 | Fault: 10<br>Status: Miscoordinated<extra></extra>",
          "<b>R24-R23</b><br>Plot Index: 13<br>MT: -0.0028 | <b>Δt: -0.0028 s</b><br>Tm: 2.4064 s | Tb: 2.6036 s<br>Line: L24-25 | Fault: 10<br>Status: Miscoordinated<extra></extra>",
          "<b>R51-R52</b><br>Plot Index: 14<br>MT: 0.0000 | <b>Δt: 0.0667 s</b><br>Tm: 1.8980 s | Tb: 2.1647 s<br>Line: L14-15 | Fault: 90<br>Status: Coordinated<extra></extra>",
          "<b>R38-R55</b><br>Plot Index: 15<br>MT: 0.0000 | <b>Δt: 1.7861 s</b><br>Tm: 0.1989 s | Tb: 2.1850 s<br>Line: L1-2 | Fault: 90<br>Status: Coordinated<extra></extra>",
          "<b>R47-R48</b><br>Plot Index: 16<br>MT: 0.0000 | <b>Δt: 0.0215 s</b><br>Tm: 1.9344 s | Tb: 2.1559 s<br>Line: L10-11 | Fault: 90<br>Status: Coordinated<extra></extra>",
          "<b>R48-R49</b><br>Plot Index: 17<br>MT: 0.0000 | <b>Δt: 0.0219 s</b><br>Tm: 2.0627 s | Tb: 2.2846 s<br>Line: L11-12 | Fault: 90<br>Status: Coordinated<extra></extra>",
          "<b>R48-R72</b><br>Plot Index: 18<br>MT: 0.0000 | <b>Δt: 0.0439 s</b><br>Tm: 2.0627 s | Tb: 2.3066 s<br>Line: L11-12 | Fault: 90<br>Status: Coordinated<extra></extra>",
          "<b>R12-R72</b><br>Plot Index: 19<br>MT: 0.0000 | <b>Δt: 0.1267 s</b><br>Tm: 2.0294 s | Tb: 2.3561 s<br>Line: L12-13 | Fault: 10<br>Status: Coordinated<extra></extra>",
          "<b>R49-R50</b><br>Plot Index: 20<br>MT: 0.0000 | <b>Δt: 0.0335 s</b><br>Tm: 1.7994 s | Tb: 2.0329 s<br>Line: L12-13 | Fault: 90<br>Status: Coordinated<extra></extra>",
          "<b>R50-R51</b><br>Plot Index: 21<br>MT: 0.0000 | <b>Δt: 0.0032 s</b><br>Tm: 1.8518 s | Tb: 2.0550 s<br>Line: L13-14 | Fault: 90<br>Status: Coordinated<extra></extra>",
          "<b>R14-R13</b><br>Plot Index: 22<br>MT: 0.0000 | <b>Δt: 0.0585 s</b><br>Tm: 2.3044 s | Tb: 2.5629 s<br>Line: L14-15 | Fault: 10<br>Status: Coordinated<extra></extra>",
          "<b>R54-R73</b><br>Plot Index: 23<br>MT: 0.0000 | <b>Δt: 0.0757 s</b><br>Tm: 2.2353 s | Tb: 2.5110 s<br>Line: L17-18 | Fault: 90<br>Status: Coordinated<extra></extra>",
          "<b>R18-R39</b><br>Plot Index: 24<br>MT: 0.0000 | <b>Δt: 0.0653 s</b><br>Tm: 1.4531 s | Tb: 1.7184 s<br>Line: L2-19 | Fault: 10<br>Status: Coordinated<extra></extra>",
          "<b>R52-R53</b><br>Plot Index: 25<br>MT: 0.0000 | <b>Δt: 0.0894 s</b><br>Tm: 2.0266 s | Tb: 2.3160 s<br>Line: L15-16 | Fault: 90<br>Status: Coordinated<extra></extra>",
          "<b>R16-R15</b><br>Plot Index: 26<br>MT: 0.0000 | <b>Δt: 0.0752 s</b><br>Tm: 2.3050 s | Tb: 2.5802 s<br>Line: L16-17 | Fault: 10<br>Status: Coordinated<extra></extra>",
          "<b>R53-R54</b><br>Plot Index: 27<br>MT: 0.0000 | <b>Δt: 0.1214 s</b><br>Tm: 2.0604 s | Tb: 2.3818 s<br>Line: L16-17 | Fault: 90<br>Status: Coordinated<extra></extra>",
          "<b>R55-R56</b><br>Plot Index: 28<br>MT: 0.0000 | <b>Δt: 0.0660 s</b><br>Tm: 1.8282 s | Tb: 2.0942 s<br>Line: L2-19 | Fault: 90<br>Status: Coordinated<extra></extra>",
          "<b>R36-R17</b><br>Plot Index: 29<br>MT: 0.0000 | <b>Δt: 0.0232 s</b><br>Tm: 2.5008 s | Tb: 2.7240 s<br>Line: L18-33 | Fault: 10<br>Status: Coordinated<extra></extra>",
          "<b>R73-R32</b><br>Plot Index: 30<br>MT: 0.0000 | <b>Δt: 0.0991 s</b><br>Tm: 2.3767 s | Tb: 2.6758 s<br>Line: L18-33 | Fault: 90<br>Status: Coordinated<extra></extra>",
          "<b>R56-R57</b><br>Plot Index: 31<br>MT: 0.0000 | <b>Δt: 0.0045 s</b><br>Tm: 1.5655 s | Tb: 1.7700 s<br>Line: L19-20 | Fault: 90<br>Status: Coordinated<extra></extra>",
          "<b>R51-R34</b><br>Plot Index: 32<br>MT: 0.0000 | <b>Δt: 0.4307 s</b><br>Tm: 1.8980 s | Tb: 2.5287 s<br>Line: L14-15 | Fault: 90<br>Status: Coordinated<extra></extra>",
          "<b>R2-R1</b><br>Plot Index: 33<br>MT: 0.0000 | <b>Δt: 0.0944 s</b><br>Tm: 1.9891 s | Tb: 2.2835 s<br>Line: L2-3 | Fault: 10<br>Status: Coordinated<extra></extra>",
          "<b>R71-R14</b><br>Plot Index: 34<br>MT: 0.0000 | <b>Δt: 1.0817 s</b><br>Tm: 1.3400 s | Tb: 2.6217 s<br>Line: L9-15 | Fault: 90<br>Status: Coordinated<extra></extra>",
          "<b>R26-R25</b><br>Plot Index: 35<br>MT: 0.0000 | <b>Δt: 0.0492 s</b><br>Tm: 2.2805 s | Tb: 2.5297 s<br>Line: L26-27 | Fault: 10<br>Status: Coordinated<extra></extra>",
          "<b>R39-R40</b><br>Plot Index: 36<br>MT: 0.0000 | <b>Δt: 0.7327 s</b><br>Tm: 1.1999 s | Tb: 2.1326 s<br>Line: L2-3 | Fault: 90<br>Status: Coordinated<extra></extra>",
          "<b>R39-R59</b><br>Plot Index: 37<br>MT: 0.0000 | <b>Δt: 0.9717 s</b><br>Tm: 1.1999 s | Tb: 2.3716 s<br>Line: L2-3 | Fault: 90<br>Status: Coordinated<extra></extra>",
          "<b>R57-R58</b><br>Plot Index: 38<br>MT: 0.0000 | <b>Δt: 0.0650 s</b><br>Tm: 1.6605 s | Tb: 1.9255 s<br>Line: L20-21 | Fault: 90<br>Status: Coordinated<extra></extra>",
          "<b>R57-R33</b><br>Plot Index: 39<br>MT: 0.0000 | <b>Δt: 0.0189 s</b><br>Tm: 1.6605 s | Tb: 1.8794 s<br>Line: L20-21 | Fault: 90<br>Status: Coordinated<extra></extra>",
          "<b>R21-R20</b><br>Plot Index: 40<br>MT: 0.0000 | <b>Δt: 0.3241 s</b><br>Tm: 1.4986 s | Tb: 2.0227 s<br>Line: L21-22 | Fault: 10<br>Status: Coordinated<extra></extra>",
          "<b>R21-R33</b><br>Plot Index: 41<br>MT: 0.0000 | <b>Δt: 0.2140 s</b><br>Tm: 1.4986 s | Tb: 1.9126 s<br>Line: L21-22 | Fault: 10<br>Status: Coordinated<extra></extra>",
          "<b>R58-R35</b><br>Plot Index: 42<br>MT: 0.0000 | <b>Δt: 0.0136 s</b><br>Tm: 1.6871 s | Tb: 1.9007 s<br>Line: L21-22 | Fault: 90<br>Status: Coordinated<extra></extra>",
          "<b>R33-R7</b><br>Plot Index: 43<br>MT: 0.0000 | <b>Δt: 0.3356 s</b><br>Tm: 1.4160 s | Tb: 1.9516 s<br>Line: L8-21 | Fault: 10<br>Status: Coordinated<extra></extra>",
          "<b>R2-R55</b><br>Plot Index: 44<br>MT: 0.0000 | <b>Δt: 0.2697 s</b><br>Tm: 1.9891 s | Tb: 2.4588 s<br>Line: L2-3 | Fault: 10<br>Status: Coordinated<extra></extra>",
          "<b>R33-R45</b><br>Plot Index: 45<br>MT: 0.0000 | <b>Δt: 1.1912 s</b><br>Tm: 1.4160 s | Tb: 2.8072 s<br>Line: L8-21 | Fault: 10<br>Status: Coordinated<extra></extra>",
          "<b>R72-R21</b><br>Plot Index: 46<br>MT: 0.0000 | <b>Δt: 0.0158 s</b><br>Tm: 1.8478 s | Tb: 2.0636 s<br>Line: L12-22 | Fault: 10<br>Status: Coordinated<extra></extra>",
          "<b>R35-R11</b><br>Plot Index: 47<br>MT: 0.0000 | <b>Δt: 0.9304 s</b><br>Tm: 1.5177 s | Tb: 2.6481 s<br>Line: L12-22 | Fault: 90<br>Status: Coordinated<extra></extra>",
          "<b>R35-R49</b><br>Plot Index: 48<br>MT: 0.0000 | <b>Δt: 1.4758 s</b><br>Tm: 1.5177 s | Tb: 3.1935 s<br>Line: L12-22 | Fault: 90<br>Status: Coordinated<extra></extra>",
          "<b>R60-R61</b><br>Plot Index: 49<br>MT: 0.0000 | <b>Δt: 0.0016 s</b><br>Tm: 1.5096 s | Tb: 1.7112 s<br>Line: L23-24 | Fault: 90<br>Status: Coordinated<extra></extra>",
          "<b>R18-R1</b><br>Plot Index: 50<br>MT: 0.0000 | <b>Δt: 0.6124 s</b><br>Tm: 1.4531 s | Tb: 2.2655 s<br>Line: L2-19 | Fault: 10<br>Status: Coordinated<extra></extra>",
          "<b>R37-R24</b><br>Plot Index: 51<br>MT: 0.0000 | <b>Δt: 0.0002 s</b><br>Tm: 2.6099 s | Tb: 2.8101 s<br>Line: L25-29 | Fault: 10<br>Status: Coordinated<extra></extra>",
          "<b>R74-R28</b><br>Plot Index: 52<br>MT: 0.0000 | <b>Δt: 1.0917 s</b><br>Tm: 1.6779 s | Tb: 2.9696 s<br>Line: L25-29 | Fault: 90<br>Status: Coordinated<extra></extra>",
          "<b>R74-R66</b><br>Plot Index: 53<br>MT: 0.0000 | <b>Δt: 0.3042 s</b><br>Tm: 1.6779 s | Tb: 2.1821 s<br>Line: L25-29 | Fault: 90<br>Status: Coordinated<extra></extra>",
          "<b>R70-R58</b><br>Plot Index: 54<br>MT: 0.0000 | <b>Δt: 0.0108 s</b><br>Tm: 1.8668 s | Tb: 2.0776 s<br>Line: L8-21 | Fault: 90<br>Status: Coordinated<extra></extra>",
          "<b>R63-R64</b><br>Plot Index: 55<br>MT: 0.0000 | <b>Δt: 0.0113 s</b><br>Tm: 2.0625 s | Tb: 2.2738 s<br>Line: L26-27 | Fault: 90<br>Status: Coordinated<extra></extra>",
          "<b>R25-R5</b><br>Plot Index: 56<br>MT: 0.0000 | <b>Δt: 0.0713 s</b><br>Tm: 2.4072 s | Tb: 2.6785 s<br>Line: L6-26 | Fault: 10<br>Status: Coordinated<extra></extra>",
          "<b>R64-R65</b><br>Plot Index: 57<br>MT: 0.0000 | <b>Δt: 0.0340 s</b><br>Tm: 1.9583 s | Tb: 2.1923 s<br>Line: L27-28 | Fault: 90<br>Status: Coordinated<extra></extra>",
          "<b>R69-R36</b><br>Plot Index: 58<br>MT: 0.0000 | <b>Δt: 0.0333 s</b><br>Tm: 2.3775 s | Tb: 2.6108 s<br>Line: L32-33 | Fault: 90<br>Status: Coordinated<extra></extra>",
          "<b>R3-R2</b><br>Plot Index: 59<br>MT: 0.0000 | <b>Δt: 0.0647 s</b><br>Tm: 2.1218 s | Tb: 2.3865 s<br>Line: L3-4 | Fault: 10<br>Status: Coordinated<extra></extra>",
          "<b>R65-R37</b><br>Plot Index: 60<br>MT: 0.0000 | <b>Δt: 0.7113 s</b><br>Tm: 1.9594 s | Tb: 2.8707 s<br>Line: L28-29 | Fault: 90<br>Status: Coordinated<extra></extra>",
          "<b>R65-R66</b><br>Plot Index: 61<br>MT: 0.0000 | <b>Δt: 0.0450 s</b><br>Tm: 1.9594 s | Tb: 2.2044 s<br>Line: L28-29 | Fault: 90<br>Status: Coordinated<extra></extra>",
          "<b>R29-R28</b><br>Plot Index: 62<br>MT: 0.0000 | <b>Δt: 0.1530 s</b><br>Tm: 2.6166 s | Tb: 2.9696 s<br>Line: L29-30 | Fault: 10<br>Status: Coordinated<extra></extra>",
          "<b>R29-R37</b><br>Plot Index: 63<br>MT: 0.0000 | <b>Δt: 0.0344 s</b><br>Tm: 2.6166 s | Tb: 2.8510 s<br>Line: L29-30 | Fault: 10<br>Status: Coordinated<extra></extra>",
          "<b>R66-R67</b><br>Plot Index: 64<br>MT: 0.0000 | <b>Δt: 0.0448 s</b><br>Tm: 2.0653 s | Tb: 2.3101 s<br>Line: L29-30 | Fault: 90<br>Status: Coordinated<extra></extra>",
          "<b>R22-R2</b><br>Plot Index: 65<br>MT: 0.0000 | <b>Δt: 0.2618 s</b><br>Tm: 1.9394 s | Tb: 2.4012 s<br>Line: L3-23 | Fault: 10<br>Status: Coordinated<extra></extra>",
          "<b>R42-R62</b><br>Plot Index: 66<br>MT: 0.0000 | <b>Δt: 0.0438 s</b><br>Tm: 1.8509 s | Tb: 2.0947 s<br>Line: L5-6 | Fault: 90<br>Status: Coordinated<extra></extra>",
          "<b>R22-R40</b><br>Plot Index: 67<br>MT: 0.0000 | <b>Δt: 0.0459 s</b><br>Tm: 1.9394 s | Tb: 2.1853 s<br>Line: L3-23 | Fault: 10<br>Status: Coordinated<extra></extra>",
          "<b>R38-R39</b><br>Plot Index: 68<br>MT: 0.0000 | <b>Δt: 1.2379 s</b><br>Tm: 0.1989 s | Tb: 1.6368 s<br>Line: L1-2 | Fault: 90<br>Status: Coordinated<extra></extra>",
          "<b>R67-R68</b><br>Plot Index: 69<br>MT: 0.0000 | <b>Δt: 0.0144 s</b><br>Tm: 2.1176 s | Tb: 2.3320 s<br>Line: L30-31 | Fault: 90<br>Status: Coordinated<extra></extra>",
          "<b>R32-R31</b><br>Plot Index: 70<br>MT: 0.0000 | <b>Δt: 0.1070 s</b><br>Tm: 2.5315 s | Tb: 2.8385 s<br>Line: L32-33 | Fault: 10<br>Status: Coordinated<extra></extra>",
          "<b>R3-R59</b><br>Plot Index: 71<br>MT: 0.0000 | <b>Δt: 0.2420 s</b><br>Tm: 2.1218 s | Tb: 2.5638 s<br>Line: L3-4 | Fault: 10<br>Status: Coordinated<extra></extra>",
          "<b>R40-R41</b><br>Plot Index: 72<br>MT: 0.0000 | <b>Δt: 0.0188 s</b><br>Tm: 1.8337 s | Tb: 2.0525 s<br>Line: L3-4 | Fault: 90<br>Status: Coordinated<extra></extra>",
          "<b>R30-R29</b><br>Plot Index: 73<br>MT: 0.0000 | <b>Δt: 0.2114 s</b><br>Tm: 2.4651 s | Tb: 2.8765 s<br>Line: L30-31 | Fault: 10<br>Status: Coordinated<extra></extra>",
          "<b>R68-R69</b><br>Plot Index: 74<br>MT: 0.0000 | <b>Δt: 0.0087 s</b><br>Tm: 2.2508 s | Tb: 2.4595 s<br>Line: L31-32 | Fault: 90<br>Status: Coordinated<extra></extra>",
          "<b>R31-R30</b><br>Plot Index: 75<br>MT: 0.0000 | <b>Δt: 0.0102 s</b><br>Tm: 2.6913 s | Tb: 2.9015 s<br>Line: L31-32 | Fault: 10<br>Status: Coordinated<extra></extra>",
          "<b>R59-R60</b><br>Plot Index: 76<br>MT: 0.0000 | <b>Δt: 0.0372 s</b><br>Tm: 1.6106 s | Tb: 1.8478 s<br>Line: L3-23 | Fault: 90<br>Status: Coordinated<extra></extra>",
          "<b>R41-R42</b><br>Plot Index: 77<br>MT: 0.0000 | <b>Δt: 0.0023 s</b><br>Tm: 1.8954 s | Tb: 2.0977 s<br>Line: L4-5 | Fault: 90<br>Status: Coordinated<extra></extra>",
          "<b>R34-R46</b><br>Plot Index: 78<br>MT: 0.0000 | <b>Δt: 0.7241 s</b><br>Tm: 1.8600 s | Tb: 2.7841 s<br>Line: L9-15 | Fault: 10<br>Status: Coordinated<extra></extra>",
          "<b>R34-R8</b><br>Plot Index: 79<br>MT: 0.0000 | <b>Δt: 0.0272 s</b><br>Tm: 1.8600 s | Tb: 2.0872 s<br>Line: L9-15 | Fault: 10<br>Status: Coordinated<extra></extra>",
          "<b>R7-R6</b><br>Plot Index: 80<br>MT: 0.0000 | <b>Δt: 0.0238 s</b><br>Tm: 1.7384 s | Tb: 1.9622 s<br>Line: L7-8 | Fault: 10<br>Status: Coordinated<extra></extra>",
          "<b>R5-R4</b><br>Plot Index: 81<br>MT: 0.0000 | <b>Δt: 0.0290 s</b><br>Tm: 2.2100 s | Tb: 2.4390 s<br>Line: L5-6 | Fault: 10<br>Status: Coordinated<extra></extra>",
          "<b>R42-R43</b><br>Plot Index: 82<br>MT: 0.0000 | <b>Δt: 0.6125 s</b><br>Tm: 1.8509 s | Tb: 2.6634 s<br>Line: L5-6 | Fault: 90<br>Status: Coordinated<extra></extra>",
          "<b>R28-R27</b><br>Plot Index: 83<br>MT: 0.0000 | <b>Δt: 0.0006 s</b><br>Tm: 2.5829 s | Tb: 2.7835 s<br>Line: L28-29 | Fault: 10<br>Status: Coordinated<extra></extra>",
          "<b>R27-R26</b><br>Plot Index: 84<br>MT: 0.0000 | <b>Δt: 0.0268 s</b><br>Tm: 2.2492 s | Tb: 2.4760 s<br>Line: L27-28 | Fault: 10<br>Status: Coordinated<extra></extra>",
          "<b>R25-R43</b><br>Plot Index: 85<br>MT: 0.0000 | <b>Δt: 0.0241 s</b><br>Tm: 2.4072 s | Tb: 2.6313 s<br>Line: L6-26 | Fault: 10<br>Status: Coordinated<extra></extra>",
          "<b>R62-R63</b><br>Plot Index: 86<br>MT: 0.0000 | <b>Δt: 0.0180 s</b><br>Tm: 1.9479 s | Tb: 2.1659 s<br>Line: L6-26 | Fault: 90<br>Status: Coordinated<extra></extra>",
          "<b>R6-R5</b><br>Plot Index: 87<br>MT: 0.0000 | <b>Δt: 0.6638 s</b><br>Tm: 1.8263 s | Tb: 2.6901 s<br>Line: L6-7 | Fault: 10<br>Status: Coordinated<extra></extra>",
          "<b>R6-R62</b><br>Plot Index: 88<br>MT: 0.0000 | <b>Δt: 0.0404 s</b><br>Tm: 1.8263 s | Tb: 2.0667 s<br>Line: L6-7 | Fault: 10<br>Status: Coordinated<extra></extra>",
          "<b>R43-R44</b><br>Plot Index: 89<br>MT: 0.0000 | <b>Δt: 0.0146 s</b><br>Tm: 2.4393 s | Tb: 2.6539 s<br>Line: L6-7 | Fault: 90<br>Status: Coordinated<extra></extra>",
          "<b>R44-R45</b><br>Plot Index: 90<br>MT: 0.0000 | <b>Δt: 0.0473 s</b><br>Tm: 2.4149 s | Tb: 2.6622 s<br>Line: L7-8 | Fault: 90<br>Status: Coordinated<extra></extra>",
          "<b>R4-R3</b><br>Plot Index: 91<br>MT: 0.0000 | <b>Δt: 0.0349 s</b><br>Tm: 2.1654 s | Tb: 2.4003 s<br>Line: L4-5 | Fault: 10<br>Status: Coordinated<extra></extra>",
          "<b>R8-R7</b><br>Plot Index: 92<br>MT: 0.0000 | <b>Δt: 0.0266 s</b><br>Tm: 1.6771 s | Tb: 1.9037 s<br>Line: L8-9 | Fault: 10<br>Status: Coordinated<extra></extra>",
          "<b>R8-R70</b><br>Plot Index: 93<br>MT: 0.0000 | <b>Δt: 0.7190 s</b><br>Tm: 1.6771 s | Tb: 2.5961 s<br>Line: L8-9 | Fault: 10<br>Status: Coordinated<extra></extra>",
          "<b>R45-R46</b><br>Plot Index: 94<br>MT: 0.0000 | <b>Δt: 0.0265 s</b><br>Tm: 2.2619 s | Tb: 2.4884 s<br>Line: L8-9 | Fault: 90<br>Status: Coordinated<extra></extra>",
          "<b>R45-R71</b><br>Plot Index: 95<br>MT: 0.0000 | <b>Δt: 0.0421 s</b><br>Tm: 2.2619 s | Tb: 2.5040 s<br>Line: L8-9 | Fault: 90<br>Status: Coordinated<extra></extra>",
          "<b>R9-R8</b><br>Plot Index: 96<br>MT: 0.0000 | <b>Δt: 0.0164 s</b><br>Tm: 1.8166 s | Tb: 2.0330 s<br>Line: L9-10 | Fault: 10<br>Status: Coordinated<extra></extra>",
          "<b>R9-R71</b><br>Plot Index: 97<br>MT: 0.0000 | <b>Δt: 0.6633 s</b><br>Tm: 1.8166 s | Tb: 2.6799 s<br>Line: L9-10 | Fault: 10<br>Status: Coordinated<extra></extra>",
          "<b>R46-R47</b><br>Plot Index: 98<br>MT: 0.0000 | <b>Δt: 0.0004 s</b><br>Tm: 1.8203 s | Tb: 2.0207 s<br>Line: L9-10 | Fault: 90<br>Status: Coordinated<extra></extra>",
          "<b>R61-R74</b><br>Plot Index: 99<br>MT: 0.0000 | <b>Δt: 0.0557 s</b><br>Tm: 1.5339 s | Tb: 1.7896 s<br>Line: L24-25 | Fault: 90<br>Status: Coordinated<extra></extra>",
          "<b>R71-R52</b><br>Plot Index: 100<br>MT: 0.0000 | <b>Δt: 0.6808 s</b><br>Tm: 1.3400 s | Tb: 2.2208 s<br>Line: L9-15 | Fault: 90<br>Status: Coordinated<extra></extra>"
         ],
         "type": "bar",
         "x": [
          1,
          2,
          3,
          4,
          5,
          6,
          7,
          8,
          9,
          10,
          11,
          12,
          13,
          14,
          15,
          16,
          17,
          18,
          19,
          20,
          21,
          22,
          23,
          24,
          25,
          26,
          27,
          28,
          29,
          30,
          31,
          32,
          33,
          34,
          35,
          36,
          37,
          38,
          39,
          40,
          41,
          42,
          43,
          44,
          45,
          46,
          47,
          48,
          49,
          50,
          51,
          52,
          53,
          54,
          55,
          56,
          57,
          58,
          59,
          60,
          61,
          62,
          63,
          64,
          65,
          66,
          67,
          68,
          69,
          70,
          71,
          72,
          73,
          74,
          75,
          76,
          77,
          78,
          79,
          80,
          81,
          82,
          83,
          84,
          85,
          86,
          87,
          88,
          89,
          90,
          91,
          92,
          93,
          94,
          95,
          96,
          97,
          98,
          99,
          100
         ],
         "y": [
          -0.13900000000000007,
          -0.12010000000000015,
          -0.10689999999999983,
          -0.09670000000000006,
          -0.07500000000000001,
          -0.06519999999999976,
          -0.06439999999999985,
          -0.02549999999999991,
          -0.015600000000000336,
          -0.011599999999999888,
          -0.00929999999999992,
          -0.007199999999999929,
          -0.002799999999999969,
          0.06669999999999993,
          1.7861,
          0.02150000000000002,
          0.021900000000000197,
          0.043899999999999995,
          0.1267000000000002,
          0.03350000000000003,
          0.003200000000000258,
          0.05850000000000016,
          0.07570000000000005,
          0.06529999999999986,
          0.08939999999999965,
          0.07519999999999988,
          0.12140000000000012,
          0.06599999999999978,
          0.023200000000000276,
          0.09910000000000013,
          0.004500000000000115,
          0.43070000000000025,
          0.09439999999999998,
          1.0817,
          0.04920000000000008,
          0.7327000000000001,
          0.9717,
          0.06499999999999989,
          0.01889999999999986,
          0.3241,
          0.21400000000000013,
          0.013600000000000001,
          0.33560000000000006,
          0.2697,
          1.1912,
          0.01579999999999998,
          0.9303999999999999,
          1.4757999999999998,
          0.0015999999999999903,
          0.6123999999999998,
          0.00019999999999970042,
          1.0917,
          0.3042000000000002,
          0.010799999999999865,
          0.011300000000000032,
          0.07130000000000009,
          0.033999999999999975,
          0.03329999999999983,
          0.06469999999999992,
          0.7112999999999998,
          0.045000000000000095,
          0.15299999999999975,
          0.03439999999999993,
          0.04479999999999967,
          0.26179999999999976,
          0.043800000000000006,
          0.045899999999999774,
          1.2379,
          0.014399999999999913,
          0.10699999999999993,
          0.24200000000000016,
          0.018800000000000094,
          0.21139999999999998,
          0.008699999999999875,
          0.010199999999999931,
          0.037200000000000066,
          0.0023000000000001353,
          0.7241,
          0.027200000000000057,
          0.023799999999999988,
          0.02900000000000008,
          0.6125000000000003,
          0.0006000000000001005,
          0.02679999999999988,
          0.024099999999999955,
          0.018000000000000183,
          0.6638000000000002,
          0.040399999999999936,
          0.014600000000000335,
          0.047300000000000064,
          0.0349000000000001,
          0.0265999999999999,
          0.7189999999999999,
          0.026500000000000135,
          0.04210000000000019,
          0.016399999999999915,
          0.6633,
          0.0004000000000001225,
          0.05570000000000003,
          0.6808000000000001
         ]
        }
       ],
       "layout": {
        "annotations": [
         {
          "align": "right",
          "font": {
           "color": "black",
           "size": 12
          },
          "showarrow": false,
          "text": "Coordination Limit (Δt = 0)",
          "x": 0.98,
          "xref": "paper",
          "y": 0,
          "yref": "y"
         }
        ],
        "bargap": 0.2,
        "height": 500,
        "legend": {
         "font": {
          "size": 12
         },
         "title": {
          "font": {
           "size": 14
          }
         }
        },
        "margin": {
         "b": 70,
         "l": 70,
         "r": 40,
         "t": 80
        },
        "shapes": [
         {
          "line": {
           "color": "black",
           "dash": "dash",
           "width": 1.5
          },
          "type": "line",
          "x0": 0,
          "x1": 1,
          "xref": "x domain",
          "y0": 0,
          "y1": 0,
          "yref": "y"
         }
        ],
        "template": {
         "data": {
          "bar": [
           {
            "error_x": {
             "color": "#2a3f5f"
            },
            "error_y": {
             "color": "#2a3f5f"
            },
            "marker": {
             "line": {
              "color": "white",
              "width": 0.5
             },
             "pattern": {
              "fillmode": "overlay",
              "size": 10,
              "solidity": 0.2
             }
            },
            "type": "bar"
           }
          ],
          "barpolar": [
           {
            "marker": {
             "line": {
              "color": "white",
              "width": 0.5
             },
             "pattern": {
              "fillmode": "overlay",
              "size": 10,
              "solidity": 0.2
             }
            },
            "type": "barpolar"
           }
          ],
          "carpet": [
           {
            "aaxis": {
             "endlinecolor": "#2a3f5f",
             "gridcolor": "#C8D4E3",
             "linecolor": "#C8D4E3",
             "minorgridcolor": "#C8D4E3",
             "startlinecolor": "#2a3f5f"
            },
            "baxis": {
             "endlinecolor": "#2a3f5f",
             "gridcolor": "#C8D4E3",
             "linecolor": "#C8D4E3",
             "minorgridcolor": "#C8D4E3",
             "startlinecolor": "#2a3f5f"
            },
            "type": "carpet"
           }
          ],
          "choropleth": [
           {
            "colorbar": {
             "outlinewidth": 0,
             "ticks": ""
            },
            "type": "choropleth"
           }
          ],
          "contour": [
           {
            "colorbar": {
             "outlinewidth": 0,
             "ticks": ""
            },
            "colorscale": [
             [
              0,
              "#0d0887"
             ],
             [
              0.1111111111111111,
              "#46039f"
             ],
             [
              0.2222222222222222,
              "#7201a8"
             ],
             [
              0.3333333333333333,
              "#9c179e"
             ],
             [
              0.4444444444444444,
              "#bd3786"
             ],
             [
              0.5555555555555556,
              "#d8576b"
             ],
             [
              0.6666666666666666,
              "#ed7953"
             ],
             [
              0.7777777777777778,
              "#fb9f3a"
             ],
             [
              0.8888888888888888,
              "#fdca26"
             ],
             [
              1,
              "#f0f921"
             ]
            ],
            "type": "contour"
           }
          ],
          "contourcarpet": [
           {
            "colorbar": {
             "outlinewidth": 0,
             "ticks": ""
            },
            "type": "contourcarpet"
           }
          ],
          "heatmap": [
           {
            "colorbar": {
             "outlinewidth": 0,
             "ticks": ""
            },
            "colorscale": [
             [
              0,
              "#0d0887"
             ],
             [
              0.1111111111111111,
              "#46039f"
             ],
             [
              0.2222222222222222,
              "#7201a8"
             ],
             [
              0.3333333333333333,
              "#9c179e"
             ],
             [
              0.4444444444444444,
              "#bd3786"
             ],
             [
              0.5555555555555556,
              "#d8576b"
             ],
             [
              0.6666666666666666,
              "#ed7953"
             ],
             [
              0.7777777777777778,
              "#fb9f3a"
             ],
             [
              0.8888888888888888,
              "#fdca26"
             ],
             [
              1,
              "#f0f921"
             ]
            ],
            "type": "heatmap"
           }
          ],
          "heatmapgl": [
           {
            "colorbar": {
             "outlinewidth": 0,
             "ticks": ""
            },
            "colorscale": [
             [
              0,
              "#0d0887"
             ],
             [
              0.1111111111111111,
              "#46039f"
             ],
             [
              0.2222222222222222,
              "#7201a8"
             ],
             [
              0.3333333333333333,
              "#9c179e"
             ],
             [
              0.4444444444444444,
              "#bd3786"
             ],
             [
              0.5555555555555556,
              "#d8576b"
             ],
             [
              0.6666666666666666,
              "#ed7953"
             ],
             [
              0.7777777777777778,
              "#fb9f3a"
             ],
             [
              0.8888888888888888,
              "#fdca26"
             ],
             [
              1,
              "#f0f921"
             ]
            ],
            "type": "heatmapgl"
           }
          ],
          "histogram": [
           {
            "marker": {
             "pattern": {
              "fillmode": "overlay",
              "size": 10,
              "solidity": 0.2
             }
            },
            "type": "histogram"
           }
          ],
          "histogram2d": [
           {
            "colorbar": {
             "outlinewidth": 0,
             "ticks": ""
            },
            "colorscale": [
             [
              0,
              "#0d0887"
             ],
             [
              0.1111111111111111,
              "#46039f"
             ],
             [
              0.2222222222222222,
              "#7201a8"
             ],
             [
              0.3333333333333333,
              "#9c179e"
             ],
             [
              0.4444444444444444,
              "#bd3786"
             ],
             [
              0.5555555555555556,
              "#d8576b"
             ],
             [
              0.6666666666666666,
              "#ed7953"
             ],
             [
              0.7777777777777778,
              "#fb9f3a"
             ],
             [
              0.8888888888888888,
              "#fdca26"
             ],
             [
              1,
              "#f0f921"
             ]
            ],
            "type": "histogram2d"
           }
          ],
          "histogram2dcontour": [
           {
            "colorbar": {
             "outlinewidth": 0,
             "ticks": ""
            },
            "colorscale": [
             [
              0,
              "#0d0887"
             ],
             [
              0.1111111111111111,
              "#46039f"
             ],
             [
              0.2222222222222222,
              "#7201a8"
             ],
             [
              0.3333333333333333,
              "#9c179e"
             ],
             [
              0.4444444444444444,
              "#bd3786"
             ],
             [
              0.5555555555555556,
              "#d8576b"
             ],
             [
              0.6666666666666666,
              "#ed7953"
             ],
             [
              0.7777777777777778,
              "#fb9f3a"
             ],
             [
              0.8888888888888888,
              "#fdca26"
             ],
             [
              1,
              "#f0f921"
             ]
            ],
            "type": "histogram2dcontour"
           }
          ],
          "mesh3d": [
           {
            "colorbar": {
             "outlinewidth": 0,
             "ticks": ""
            },
            "type": "mesh3d"
           }
          ],
          "parcoords": [
           {
            "line": {
             "colorbar": {
              "outlinewidth": 0,
              "ticks": ""
             }
            },
            "type": "parcoords"
           }
          ],
          "pie": [
           {
            "automargin": true,
            "type": "pie"
           }
          ],
          "scatter": [
           {
            "fillpattern": {
             "fillmode": "overlay",
             "size": 10,
             "solidity": 0.2
            },
            "type": "scatter"
           }
          ],
          "scatter3d": [
           {
            "line": {
             "colorbar": {
              "outlinewidth": 0,
              "ticks": ""
             }
            },
            "marker": {
             "colorbar": {
              "outlinewidth": 0,
              "ticks": ""
             }
            },
            "type": "scatter3d"
           }
          ],
          "scattercarpet": [
           {
            "marker": {
             "colorbar": {
              "outlinewidth": 0,
              "ticks": ""
             }
            },
            "type": "scattercarpet"
           }
          ],
          "scattergeo": [
           {
            "marker": {
             "colorbar": {
              "outlinewidth": 0,
              "ticks": ""
             }
            },
            "type": "scattergeo"
           }
          ],
          "scattergl": [
           {
            "marker": {
             "colorbar": {
              "outlinewidth": 0,
              "ticks": ""
             }
            },
            "type": "scattergl"
           }
          ],
          "scattermapbox": [
           {
            "marker": {
             "colorbar": {
              "outlinewidth": 0,
              "ticks": ""
             }
            },
            "type": "scattermapbox"
           }
          ],
          "scatterpolar": [
           {
            "marker": {
             "colorbar": {
              "outlinewidth": 0,
              "ticks": ""
             }
            },
            "type": "scatterpolar"
           }
          ],
          "scatterpolargl": [
           {
            "marker": {
             "colorbar": {
              "outlinewidth": 0,
              "ticks": ""
             }
            },
            "type": "scatterpolargl"
           }
          ],
          "scatterternary": [
           {
            "marker": {
             "colorbar": {
              "outlinewidth": 0,
              "ticks": ""
             }
            },
            "type": "scatterternary"
           }
          ],
          "surface": [
           {
            "colorbar": {
             "outlinewidth": 0,
             "ticks": ""
            },
            "colorscale": [
             [
              0,
              "#0d0887"
             ],
             [
              0.1111111111111111,
              "#46039f"
             ],
             [
              0.2222222222222222,
              "#7201a8"
             ],
             [
              0.3333333333333333,
              "#9c179e"
             ],
             [
              0.4444444444444444,
              "#bd3786"
             ],
             [
              0.5555555555555556,
              "#d8576b"
             ],
             [
              0.6666666666666666,
              "#ed7953"
             ],
             [
              0.7777777777777778,
              "#fb9f3a"
             ],
             [
              0.8888888888888888,
              "#fdca26"
             ],
             [
              1,
              "#f0f921"
             ]
            ],
            "type": "surface"
           }
          ],
          "table": [
           {
            "cells": {
             "fill": {
              "color": "#EBF0F8"
             },
             "line": {
              "color": "white"
             }
            },
            "header": {
             "fill": {
              "color": "#C8D4E3"
             },
             "line": {
              "color": "white"
             }
            },
            "type": "table"
           }
          ]
         },
         "layout": {
          "annotationdefaults": {
           "arrowcolor": "#2a3f5f",
           "arrowhead": 0,
           "arrowwidth": 1
          },
          "autotypenumbers": "strict",
          "coloraxis": {
           "colorbar": {
            "outlinewidth": 0,
            "ticks": ""
           }
          },
          "colorscale": {
           "diverging": [
            [
             0,
             "#8e0152"
            ],
            [
             0.1,
             "#c51b7d"
            ],
            [
             0.2,
             "#de77ae"
            ],
            [
             0.3,
             "#f1b6da"
            ],
            [
             0.4,
             "#fde0ef"
            ],
            [
             0.5,
             "#f7f7f7"
            ],
            [
             0.6,
             "#e6f5d0"
            ],
            [
             0.7,
             "#b8e186"
            ],
            [
             0.8,
             "#7fbc41"
            ],
            [
             0.9,
             "#4d9221"
            ],
            [
             1,
             "#276419"
            ]
           ],
           "sequential": [
            [
             0,
             "#0d0887"
            ],
            [
             0.1111111111111111,
             "#46039f"
            ],
            [
             0.2222222222222222,
             "#7201a8"
            ],
            [
             0.3333333333333333,
             "#9c179e"
            ],
            [
             0.4444444444444444,
             "#bd3786"
            ],
            [
             0.5555555555555556,
             "#d8576b"
            ],
            [
             0.6666666666666666,
             "#ed7953"
            ],
            [
             0.7777777777777778,
             "#fb9f3a"
            ],
            [
             0.8888888888888888,
             "#fdca26"
            ],
            [
             1,
             "#f0f921"
            ]
           ],
           "sequentialminus": [
            [
             0,
             "#0d0887"
            ],
            [
             0.1111111111111111,
             "#46039f"
            ],
            [
             0.2222222222222222,
             "#7201a8"
            ],
            [
             0.3333333333333333,
             "#9c179e"
            ],
            [
             0.4444444444444444,
             "#bd3786"
            ],
            [
             0.5555555555555556,
             "#d8576b"
            ],
            [
             0.6666666666666666,
             "#ed7953"
            ],
            [
             0.7777777777777778,
             "#fb9f3a"
            ],
            [
             0.8888888888888888,
             "#fdca26"
            ],
            [
             1,
             "#f0f921"
            ]
           ]
          },
          "colorway": [
           "#636efa",
           "#EF553B",
           "#00cc96",
           "#ab63fa",
           "#FFA15A",
           "#19d3f3",
           "#FF6692",
           "#B6E880",
           "#FF97FF",
           "#FECB52"
          ],
          "font": {
           "color": "#2a3f5f"
          },
          "geo": {
           "bgcolor": "white",
           "lakecolor": "white",
           "landcolor": "white",
           "showlakes": true,
           "showland": true,
           "subunitcolor": "#C8D4E3"
          },
          "hoverlabel": {
           "align": "left"
          },
          "hovermode": "closest",
          "mapbox": {
           "style": "light"
          },
          "paper_bgcolor": "white",
          "plot_bgcolor": "white",
          "polar": {
           "angularaxis": {
            "gridcolor": "#EBF0F8",
            "linecolor": "#EBF0F8",
            "ticks": ""
           },
           "bgcolor": "white",
           "radialaxis": {
            "gridcolor": "#EBF0F8",
            "linecolor": "#EBF0F8",
            "ticks": ""
           }
          },
          "scene": {
           "xaxis": {
            "backgroundcolor": "white",
            "gridcolor": "#DFE8F3",
            "gridwidth": 2,
            "linecolor": "#EBF0F8",
            "showbackground": true,
            "ticks": "",
            "zerolinecolor": "#EBF0F8"
           },
           "yaxis": {
            "backgroundcolor": "white",
            "gridcolor": "#DFE8F3",
            "gridwidth": 2,
            "linecolor": "#EBF0F8",
            "showbackground": true,
            "ticks": "",
            "zerolinecolor": "#EBF0F8"
           },
           "zaxis": {
            "backgroundcolor": "white",
            "gridcolor": "#DFE8F3",
            "gridwidth": 2,
            "linecolor": "#EBF0F8",
            "showbackground": true,
            "ticks": "",
            "zerolinecolor": "#EBF0F8"
           }
          },
          "shapedefaults": {
           "line": {
            "color": "#2a3f5f"
           }
          },
          "ternary": {
           "aaxis": {
            "gridcolor": "#DFE8F3",
            "linecolor": "#A2B1C6",
            "ticks": ""
           },
           "baxis": {
            "gridcolor": "#DFE8F3",
            "linecolor": "#A2B1C6",
            "ticks": ""
           },
           "bgcolor": "white",
           "caxis": {
            "gridcolor": "#DFE8F3",
            "linecolor": "#A2B1C6",
            "ticks": ""
           }
          },
          "title": {
           "x": 0.05
          },
          "xaxis": {
           "automargin": true,
           "gridcolor": "#EBF0F8",
           "linecolor": "#EBF0F8",
           "ticks": "",
           "title": {
            "standoff": 15
           },
           "zerolinecolor": "#EBF0F8",
           "zerolinewidth": 2
          },
          "yaxis": {
           "automargin": true,
           "gridcolor": "#EBF0F8",
           "linecolor": "#EBF0F8",
           "ticks": "",
           "title": {
            "standoff": 15
           },
           "zerolinecolor": "#EBF0F8",
           "zerolinewidth": 2
          }
         }
        },
        "title": {
         "text": "Time Difference (Δt = Tb - Tm - CTI) - Scenario scenario_1<br>(CTI = 0.2 s)"
        },
        "width": 800,
        "xaxis": {
         "gridcolor": "lightgrey",
         "tickfont": {
          "size": 12
         },
         "title": {
          "text": "Relay Pair Index (Sorted by MT)"
         },
         "zeroline": true,
         "zerolinecolor": "black",
         "zerolinewidth": 1
        },
        "yaxis": {
         "gridcolor": "lightgrey",
         "tickfont": {
          "size": 12
         },
         "title": {
          "text": "Time Difference Δt [s]"
         },
         "zeroline": true,
         "zerolinecolor": "black",
         "zerolinewidth": 1
        }
       }
      }
     },
     "metadata": {},
     "output_type": "display_data"
    },
    {
     "name": "stdout",
     "output_type": "stream",
     "text": [
      "    Displaying delta_scatter plot...\n"
     ]
    },
    {
     "data": {
      "application/vnd.plotly.v1+json": {
       "config": {
        "plotlyServerURL": "https://plot.ly"
       },
       "data": [
        {
         "customdata": [
          [
           "R19-R18",
           -0.13900000000000007,
           1.5523,
           1.6133,
           "L19-20",
           "10",
           "Miscoordinated"
          ],
          [
           "R11-R10",
           -0.12010000000000015,
           1.987,
           2.0669,
           "L11-12",
           "10",
           "Miscoordinated"
          ],
          [
           "R12-R11",
           -0.10689999999999983,
           2.0294,
           2.1225,
           "L12-13",
           "10",
           "Miscoordinated"
          ],
          [
           "R10-R9",
           -0.09670000000000006,
           2.0165,
           2.1198,
           "L10-11",
           "10",
           "Miscoordinated"
          ],
          [
           "R23-R22",
           -0.07500000000000001,
           2.1218,
           2.2468,
           "L23-24",
           "10",
           "Miscoordinated"
          ],
          [
           "R44-R70",
           -0.06519999999999976,
           2.4149,
           2.5497,
           "L7-8",
           "90",
           "Miscoordinated"
          ],
          [
           "R13-R12",
           -0.06439999999999985,
           2.3337,
           2.4693,
           "L13-14",
           "10",
           "Miscoordinated"
          ],
          [
           "R17-R16",
           -0.02549999999999991,
           2.5522,
           2.7267,
           "L17-18",
           "10",
           "Miscoordinated"
          ],
          [
           "R20-R19",
           -0.015600000000000336,
           1.8801,
           2.0645,
           "L20-21",
           "10",
           "Miscoordinated"
          ],
          [
           "R70-R20",
           -0.011599999999999888,
           1.8668,
           2.0552,
           "L8-21",
           "90",
           "Miscoordinated"
          ],
          [
           "R15-R34",
           -0.00929999999999992,
           2.338,
           2.5287,
           "L15-16",
           "10",
           "Miscoordinated"
          ],
          [
           "R15-R14",
           -0.007199999999999929,
           2.338,
           2.5308,
           "L15-16",
           "10",
           "Miscoordinated"
          ],
          [
           "R24-R23",
           -0.002799999999999969,
           2.4064,
           2.6036,
           "L24-25",
           "10",
           "Miscoordinated"
          ]
         ],
         "hovertemplate": "status=%{customdata[6]}<br>delta_t=%{y:.4f s}<br>pair_label=%{customdata[0]}<br>mt=%{customdata[1]:.4f}<br>tm=%{customdata[2]:.4f s}<br>tb=%{customdata[3]:.4f s}<br>line=%{customdata[4]}<br>fault=%{customdata[5]}<extra></extra>",
         "legendgroup": "Miscoordinated",
         "marker": {
          "color": "indianred",
          "line": {
           "color": "DarkSlateGrey",
           "width": 0.5
          },
          "opacity": 0.8,
          "size": 7,
          "symbol": "circle"
         },
         "mode": "markers",
         "name": "Miscoordinated",
         "orientation": "v",
         "showlegend": true,
         "type": "scatter",
         "x": [
          1,
          2,
          3,
          4,
          5,
          6,
          7,
          8,
          9,
          10,
          11,
          12,
          13
         ],
         "xaxis": "x",
         "y": [
          -0.13900000000000007,
          -0.12010000000000015,
          -0.10689999999999983,
          -0.09670000000000006,
          -0.07500000000000001,
          -0.06519999999999976,
          -0.06439999999999985,
          -0.02549999999999991,
          -0.015600000000000336,
          -0.011599999999999888,
          -0.00929999999999992,
          -0.007199999999999929,
          -0.002799999999999969
         ],
         "yaxis": "y"
        },
        {
         "customdata": [
          [
           "R51-R52",
           0,
           1.898,
           2.1647,
           "L14-15",
           "90",
           "Coordinated"
          ],
          [
           "R38-R55",
           0,
           0.1989,
           2.185,
           "L1-2",
           "90",
           "Coordinated"
          ],
          [
           "R47-R48",
           0,
           1.9344,
           2.1559,
           "L10-11",
           "90",
           "Coordinated"
          ],
          [
           "R48-R49",
           0,
           2.0627,
           2.2846,
           "L11-12",
           "90",
           "Coordinated"
          ],
          [
           "R48-R72",
           0,
           2.0627,
           2.3066,
           "L11-12",
           "90",
           "Coordinated"
          ],
          [
           "R12-R72",
           0,
           2.0294,
           2.3561,
           "L12-13",
           "10",
           "Coordinated"
          ],
          [
           "R49-R50",
           0,
           1.7994,
           2.0329,
           "L12-13",
           "90",
           "Coordinated"
          ],
          [
           "R50-R51",
           0,
           1.8518,
           2.055,
           "L13-14",
           "90",
           "Coordinated"
          ],
          [
           "R14-R13",
           0,
           2.3044,
           2.5629,
           "L14-15",
           "10",
           "Coordinated"
          ],
          [
           "R54-R73",
           0,
           2.2353,
           2.511,
           "L17-18",
           "90",
           "Coordinated"
          ],
          [
           "R18-R39",
           0,
           1.4531,
           1.7184,
           "L2-19",
           "10",
           "Coordinated"
          ],
          [
           "R52-R53",
           0,
           2.0266,
           2.316,
           "L15-16",
           "90",
           "Coordinated"
          ],
          [
           "R16-R15",
           0,
           2.305,
           2.5802,
           "L16-17",
           "10",
           "Coordinated"
          ],
          [
           "R53-R54",
           0,
           2.0604,
           2.3818,
           "L16-17",
           "90",
           "Coordinated"
          ],
          [
           "R55-R56",
           0,
           1.8282,
           2.0942,
           "L2-19",
           "90",
           "Coordinated"
          ],
          [
           "R36-R17",
           0,
           2.5008,
           2.724,
           "L18-33",
           "10",
           "Coordinated"
          ],
          [
           "R73-R32",
           0,
           2.3767,
           2.6758,
           "L18-33",
           "90",
           "Coordinated"
          ],
          [
           "R56-R57",
           0,
           1.5655,
           1.77,
           "L19-20",
           "90",
           "Coordinated"
          ],
          [
           "R51-R34",
           0,
           1.898,
           2.5287,
           "L14-15",
           "90",
           "Coordinated"
          ],
          [
           "R2-R1",
           0,
           1.9891,
           2.2835,
           "L2-3",
           "10",
           "Coordinated"
          ],
          [
           "R71-R14",
           0,
           1.34,
           2.6217,
           "L9-15",
           "90",
           "Coordinated"
          ],
          [
           "R26-R25",
           0,
           2.2805,
           2.5297,
           "L26-27",
           "10",
           "Coordinated"
          ],
          [
           "R39-R40",
           0,
           1.1999,
           2.1326,
           "L2-3",
           "90",
           "Coordinated"
          ],
          [
           "R39-R59",
           0,
           1.1999,
           2.3716,
           "L2-3",
           "90",
           "Coordinated"
          ],
          [
           "R57-R58",
           0,
           1.6605,
           1.9255,
           "L20-21",
           "90",
           "Coordinated"
          ],
          [
           "R57-R33",
           0,
           1.6605,
           1.8794,
           "L20-21",
           "90",
           "Coordinated"
          ],
          [
           "R21-R20",
           0,
           1.4986,
           2.0227,
           "L21-22",
           "10",
           "Coordinated"
          ],
          [
           "R21-R33",
           0,
           1.4986,
           1.9126,
           "L21-22",
           "10",
           "Coordinated"
          ],
          [
           "R58-R35",
           0,
           1.6871,
           1.9007,
           "L21-22",
           "90",
           "Coordinated"
          ],
          [
           "R33-R7",
           0,
           1.416,
           1.9516,
           "L8-21",
           "10",
           "Coordinated"
          ],
          [
           "R2-R55",
           0,
           1.9891,
           2.4588,
           "L2-3",
           "10",
           "Coordinated"
          ],
          [
           "R33-R45",
           0,
           1.416,
           2.8072,
           "L8-21",
           "10",
           "Coordinated"
          ],
          [
           "R72-R21",
           0,
           1.8478,
           2.0636,
           "L12-22",
           "10",
           "Coordinated"
          ],
          [
           "R35-R11",
           0,
           1.5177,
           2.6481,
           "L12-22",
           "90",
           "Coordinated"
          ],
          [
           "R35-R49",
           0,
           1.5177,
           3.1935,
           "L12-22",
           "90",
           "Coordinated"
          ],
          [
           "R60-R61",
           0,
           1.5096,
           1.7112,
           "L23-24",
           "90",
           "Coordinated"
          ],
          [
           "R18-R1",
           0,
           1.4531,
           2.2655,
           "L2-19",
           "10",
           "Coordinated"
          ],
          [
           "R37-R24",
           0,
           2.6099,
           2.8101,
           "L25-29",
           "10",
           "Coordinated"
          ],
          [
           "R74-R28",
           0,
           1.6779,
           2.9696,
           "L25-29",
           "90",
           "Coordinated"
          ],
          [
           "R74-R66",
           0,
           1.6779,
           2.1821,
           "L25-29",
           "90",
           "Coordinated"
          ],
          [
           "R70-R58",
           0,
           1.8668,
           2.0776,
           "L8-21",
           "90",
           "Coordinated"
          ],
          [
           "R63-R64",
           0,
           2.0625,
           2.2738,
           "L26-27",
           "90",
           "Coordinated"
          ],
          [
           "R25-R5",
           0,
           2.4072,
           2.6785,
           "L6-26",
           "10",
           "Coordinated"
          ],
          [
           "R64-R65",
           0,
           1.9583,
           2.1923,
           "L27-28",
           "90",
           "Coordinated"
          ],
          [
           "R69-R36",
           0,
           2.3775,
           2.6108,
           "L32-33",
           "90",
           "Coordinated"
          ],
          [
           "R3-R2",
           0,
           2.1218,
           2.3865,
           "L3-4",
           "10",
           "Coordinated"
          ],
          [
           "R65-R37",
           0,
           1.9594,
           2.8707,
           "L28-29",
           "90",
           "Coordinated"
          ],
          [
           "R65-R66",
           0,
           1.9594,
           2.2044,
           "L28-29",
           "90",
           "Coordinated"
          ],
          [
           "R29-R28",
           0,
           2.6166,
           2.9696,
           "L29-30",
           "10",
           "Coordinated"
          ],
          [
           "R29-R37",
           0,
           2.6166,
           2.851,
           "L29-30",
           "10",
           "Coordinated"
          ],
          [
           "R66-R67",
           0,
           2.0653,
           2.3101,
           "L29-30",
           "90",
           "Coordinated"
          ],
          [
           "R22-R2",
           0,
           1.9394,
           2.4012,
           "L3-23",
           "10",
           "Coordinated"
          ],
          [
           "R42-R62",
           0,
           1.8509,
           2.0947,
           "L5-6",
           "90",
           "Coordinated"
          ],
          [
           "R22-R40",
           0,
           1.9394,
           2.1853,
           "L3-23",
           "10",
           "Coordinated"
          ],
          [
           "R38-R39",
           0,
           0.1989,
           1.6368,
           "L1-2",
           "90",
           "Coordinated"
          ],
          [
           "R67-R68",
           0,
           2.1176,
           2.332,
           "L30-31",
           "90",
           "Coordinated"
          ],
          [
           "R32-R31",
           0,
           2.5315,
           2.8385,
           "L32-33",
           "10",
           "Coordinated"
          ],
          [
           "R3-R59",
           0,
           2.1218,
           2.5638,
           "L3-4",
           "10",
           "Coordinated"
          ],
          [
           "R40-R41",
           0,
           1.8337,
           2.0525,
           "L3-4",
           "90",
           "Coordinated"
          ],
          [
           "R30-R29",
           0,
           2.4651,
           2.8765,
           "L30-31",
           "10",
           "Coordinated"
          ],
          [
           "R68-R69",
           0,
           2.2508,
           2.4595,
           "L31-32",
           "90",
           "Coordinated"
          ],
          [
           "R31-R30",
           0,
           2.6913,
           2.9015,
           "L31-32",
           "10",
           "Coordinated"
          ],
          [
           "R59-R60",
           0,
           1.6106,
           1.8478,
           "L3-23",
           "90",
           "Coordinated"
          ],
          [
           "R41-R42",
           0,
           1.8954,
           2.0977,
           "L4-5",
           "90",
           "Coordinated"
          ],
          [
           "R34-R46",
           0,
           1.86,
           2.7841,
           "L9-15",
           "10",
           "Coordinated"
          ],
          [
           "R34-R8",
           0,
           1.86,
           2.0872,
           "L9-15",
           "10",
           "Coordinated"
          ],
          [
           "R7-R6",
           0,
           1.7384,
           1.9622,
           "L7-8",
           "10",
           "Coordinated"
          ],
          [
           "R5-R4",
           0,
           2.21,
           2.439,
           "L5-6",
           "10",
           "Coordinated"
          ],
          [
           "R42-R43",
           0,
           1.8509,
           2.6634,
           "L5-6",
           "90",
           "Coordinated"
          ],
          [
           "R28-R27",
           0,
           2.5829,
           2.7835,
           "L28-29",
           "10",
           "Coordinated"
          ],
          [
           "R27-R26",
           0,
           2.2492,
           2.476,
           "L27-28",
           "10",
           "Coordinated"
          ],
          [
           "R25-R43",
           0,
           2.4072,
           2.6313,
           "L6-26",
           "10",
           "Coordinated"
          ],
          [
           "R62-R63",
           0,
           1.9479,
           2.1659,
           "L6-26",
           "90",
           "Coordinated"
          ],
          [
           "R6-R5",
           0,
           1.8263,
           2.6901,
           "L6-7",
           "10",
           "Coordinated"
          ],
          [
           "R6-R62",
           0,
           1.8263,
           2.0667,
           "L6-7",
           "10",
           "Coordinated"
          ],
          [
           "R43-R44",
           0,
           2.4393,
           2.6539,
           "L6-7",
           "90",
           "Coordinated"
          ],
          [
           "R44-R45",
           0,
           2.4149,
           2.6622,
           "L7-8",
           "90",
           "Coordinated"
          ],
          [
           "R4-R3",
           0,
           2.1654,
           2.4003,
           "L4-5",
           "10",
           "Coordinated"
          ],
          [
           "R8-R7",
           0,
           1.6771,
           1.9037,
           "L8-9",
           "10",
           "Coordinated"
          ],
          [
           "R8-R70",
           0,
           1.6771,
           2.5961,
           "L8-9",
           "10",
           "Coordinated"
          ],
          [
           "R45-R46",
           0,
           2.2619,
           2.4884,
           "L8-9",
           "90",
           "Coordinated"
          ],
          [
           "R45-R71",
           0,
           2.2619,
           2.504,
           "L8-9",
           "90",
           "Coordinated"
          ],
          [
           "R9-R8",
           0,
           1.8166,
           2.033,
           "L9-10",
           "10",
           "Coordinated"
          ],
          [
           "R9-R71",
           0,
           1.8166,
           2.6799,
           "L9-10",
           "10",
           "Coordinated"
          ],
          [
           "R46-R47",
           0,
           1.8203,
           2.0207,
           "L9-10",
           "90",
           "Coordinated"
          ],
          [
           "R61-R74",
           0,
           1.5339,
           1.7896,
           "L24-25",
           "90",
           "Coordinated"
          ],
          [
           "R71-R52",
           0,
           1.34,
           2.2208,
           "L9-15",
           "90",
           "Coordinated"
          ]
         ],
         "hovertemplate": "status=%{customdata[6]}<br>delta_t=%{y:.4f s}<br>pair_label=%{customdata[0]}<br>mt=%{customdata[1]:.4f}<br>tm=%{customdata[2]:.4f s}<br>tb=%{customdata[3]:.4f s}<br>line=%{customdata[4]}<br>fault=%{customdata[5]}<extra></extra>",
         "legendgroup": "Coordinated",
         "marker": {
          "color": "mediumseagreen",
          "line": {
           "color": "DarkSlateGrey",
           "width": 0.5
          },
          "opacity": 0.8,
          "size": 7,
          "symbol": "circle"
         },
         "mode": "markers",
         "name": "Coordinated",
         "orientation": "v",
         "showlegend": true,
         "type": "scatter",
         "x": [
          14,
          15,
          16,
          17,
          18,
          19,
          20,
          21,
          22,
          23,
          24,
          25,
          26,
          27,
          28,
          29,
          30,
          31,
          32,
          33,
          34,
          35,
          36,
          37,
          38,
          39,
          40,
          41,
          42,
          43,
          44,
          45,
          46,
          47,
          48,
          49,
          50,
          51,
          52,
          53,
          54,
          55,
          56,
          57,
          58,
          59,
          60,
          61,
          62,
          63,
          64,
          65,
          66,
          67,
          68,
          69,
          70,
          71,
          72,
          73,
          74,
          75,
          76,
          77,
          78,
          79,
          80,
          81,
          82,
          83,
          84,
          85,
          86,
          87,
          88,
          89,
          90,
          91,
          92,
          93,
          94,
          95,
          96,
          97,
          98,
          99,
          100
         ],
         "xaxis": "x",
         "y": [
          0.06669999999999993,
          1.7861,
          0.02150000000000002,
          0.021900000000000197,
          0.043899999999999995,
          0.1267000000000002,
          0.03350000000000003,
          0.003200000000000258,
          0.05850000000000016,
          0.07570000000000005,
          0.06529999999999986,
          0.08939999999999965,
          0.07519999999999988,
          0.12140000000000012,
          0.06599999999999978,
          0.023200000000000276,
          0.09910000000000013,
          0.004500000000000115,
          0.43070000000000025,
          0.09439999999999998,
          1.0817,
          0.04920000000000008,
          0.7327000000000001,
          0.9717,
          0.06499999999999989,
          0.01889999999999986,
          0.3241,
          0.21400000000000013,
          0.013600000000000001,
          0.33560000000000006,
          0.2697,
          1.1912,
          0.01579999999999998,
          0.9303999999999999,
          1.4757999999999998,
          0.0015999999999999903,
          0.6123999999999998,
          0.00019999999999970042,
          1.0917,
          0.3042000000000002,
          0.010799999999999865,
          0.011300000000000032,
          0.07130000000000009,
          0.033999999999999975,
          0.03329999999999983,
          0.06469999999999992,
          0.7112999999999998,
          0.045000000000000095,
          0.15299999999999975,
          0.03439999999999993,
          0.04479999999999967,
          0.26179999999999976,
          0.043800000000000006,
          0.045899999999999774,
          1.2379,
          0.014399999999999913,
          0.10699999999999993,
          0.24200000000000016,
          0.018800000000000094,
          0.21139999999999998,
          0.008699999999999875,
          0.010199999999999931,
          0.037200000000000066,
          0.0023000000000001353,
          0.7241,
          0.027200000000000057,
          0.023799999999999988,
          0.02900000000000008,
          0.6125000000000003,
          0.0006000000000001005,
          0.02679999999999988,
          0.024099999999999955,
          0.018000000000000183,
          0.6638000000000002,
          0.040399999999999936,
          0.014600000000000335,
          0.047300000000000064,
          0.0349000000000001,
          0.0265999999999999,
          0.7189999999999999,
          0.026500000000000135,
          0.04210000000000019,
          0.016399999999999915,
          0.6633,
          0.0004000000000001225,
          0.05570000000000003,
          0.6808000000000001
         ],
         "yaxis": "y"
        }
       ],
       "layout": {
        "annotations": [
         {
          "align": "right",
          "font": {
           "color": "black",
           "size": 12
          },
          "showarrow": false,
          "text": "Coordination Limit (Δt = 0)",
          "x": 0.98,
          "xref": "paper",
          "y": 0,
          "yref": "y"
         }
        ],
        "height": 500,
        "legend": {
         "font": {
          "size": 12
         },
         "title": {
          "font": {
           "size": 14
          },
          "text": "Coordination Status"
         },
         "tracegroupgap": 0
        },
        "margin": {
         "b": 70,
         "l": 70,
         "r": 40,
         "t": 80
        },
        "shapes": [
         {
          "line": {
           "color": "black",
           "dash": "dash",
           "width": 1.5
          },
          "type": "line",
          "x0": 0,
          "x1": 1,
          "xref": "x domain",
          "y0": 0,
          "y1": 0,
          "yref": "y"
         }
        ],
        "template": {
         "data": {
          "bar": [
           {
            "error_x": {
             "color": "#2a3f5f"
            },
            "error_y": {
             "color": "#2a3f5f"
            },
            "marker": {
             "line": {
              "color": "white",
              "width": 0.5
             },
             "pattern": {
              "fillmode": "overlay",
              "size": 10,
              "solidity": 0.2
             }
            },
            "type": "bar"
           }
          ],
          "barpolar": [
           {
            "marker": {
             "line": {
              "color": "white",
              "width": 0.5
             },
             "pattern": {
              "fillmode": "overlay",
              "size": 10,
              "solidity": 0.2
             }
            },
            "type": "barpolar"
           }
          ],
          "carpet": [
           {
            "aaxis": {
             "endlinecolor": "#2a3f5f",
             "gridcolor": "#C8D4E3",
             "linecolor": "#C8D4E3",
             "minorgridcolor": "#C8D4E3",
             "startlinecolor": "#2a3f5f"
            },
            "baxis": {
             "endlinecolor": "#2a3f5f",
             "gridcolor": "#C8D4E3",
             "linecolor": "#C8D4E3",
             "minorgridcolor": "#C8D4E3",
             "startlinecolor": "#2a3f5f"
            },
            "type": "carpet"
           }
          ],
          "choropleth": [
           {
            "colorbar": {
             "outlinewidth": 0,
             "ticks": ""
            },
            "type": "choropleth"
           }
          ],
          "contour": [
           {
            "colorbar": {
             "outlinewidth": 0,
             "ticks": ""
            },
            "colorscale": [
             [
              0,
              "#0d0887"
             ],
             [
              0.1111111111111111,
              "#46039f"
             ],
             [
              0.2222222222222222,
              "#7201a8"
             ],
             [
              0.3333333333333333,
              "#9c179e"
             ],
             [
              0.4444444444444444,
              "#bd3786"
             ],
             [
              0.5555555555555556,
              "#d8576b"
             ],
             [
              0.6666666666666666,
              "#ed7953"
             ],
             [
              0.7777777777777778,
              "#fb9f3a"
             ],
             [
              0.8888888888888888,
              "#fdca26"
             ],
             [
              1,
              "#f0f921"
             ]
            ],
            "type": "contour"
           }
          ],
          "contourcarpet": [
           {
            "colorbar": {
             "outlinewidth": 0,
             "ticks": ""
            },
            "type": "contourcarpet"
           }
          ],
          "heatmap": [
           {
            "colorbar": {
             "outlinewidth": 0,
             "ticks": ""
            },
            "colorscale": [
             [
              0,
              "#0d0887"
             ],
             [
              0.1111111111111111,
              "#46039f"
             ],
             [
              0.2222222222222222,
              "#7201a8"
             ],
             [
              0.3333333333333333,
              "#9c179e"
             ],
             [
              0.4444444444444444,
              "#bd3786"
             ],
             [
              0.5555555555555556,
              "#d8576b"
             ],
             [
              0.6666666666666666,
              "#ed7953"
             ],
             [
              0.7777777777777778,
              "#fb9f3a"
             ],
             [
              0.8888888888888888,
              "#fdca26"
             ],
             [
              1,
              "#f0f921"
             ]
            ],
            "type": "heatmap"
           }
          ],
          "heatmapgl": [
           {
            "colorbar": {
             "outlinewidth": 0,
             "ticks": ""
            },
            "colorscale": [
             [
              0,
              "#0d0887"
             ],
             [
              0.1111111111111111,
              "#46039f"
             ],
             [
              0.2222222222222222,
              "#7201a8"
             ],
             [
              0.3333333333333333,
              "#9c179e"
             ],
             [
              0.4444444444444444,
              "#bd3786"
             ],
             [
              0.5555555555555556,
              "#d8576b"
             ],
             [
              0.6666666666666666,
              "#ed7953"
             ],
             [
              0.7777777777777778,
              "#fb9f3a"
             ],
             [
              0.8888888888888888,
              "#fdca26"
             ],
             [
              1,
              "#f0f921"
             ]
            ],
            "type": "heatmapgl"
           }
          ],
          "histogram": [
           {
            "marker": {
             "pattern": {
              "fillmode": "overlay",
              "size": 10,
              "solidity": 0.2
             }
            },
            "type": "histogram"
           }
          ],
          "histogram2d": [
           {
            "colorbar": {
             "outlinewidth": 0,
             "ticks": ""
            },
            "colorscale": [
             [
              0,
              "#0d0887"
             ],
             [
              0.1111111111111111,
              "#46039f"
             ],
             [
              0.2222222222222222,
              "#7201a8"
             ],
             [
              0.3333333333333333,
              "#9c179e"
             ],
             [
              0.4444444444444444,
              "#bd3786"
             ],
             [
              0.5555555555555556,
              "#d8576b"
             ],
             [
              0.6666666666666666,
              "#ed7953"
             ],
             [
              0.7777777777777778,
              "#fb9f3a"
             ],
             [
              0.8888888888888888,
              "#fdca26"
             ],
             [
              1,
              "#f0f921"
             ]
            ],
            "type": "histogram2d"
           }
          ],
          "histogram2dcontour": [
           {
            "colorbar": {
             "outlinewidth": 0,
             "ticks": ""
            },
            "colorscale": [
             [
              0,
              "#0d0887"
             ],
             [
              0.1111111111111111,
              "#46039f"
             ],
             [
              0.2222222222222222,
              "#7201a8"
             ],
             [
              0.3333333333333333,
              "#9c179e"
             ],
             [
              0.4444444444444444,
              "#bd3786"
             ],
             [
              0.5555555555555556,
              "#d8576b"
             ],
             [
              0.6666666666666666,
              "#ed7953"
             ],
             [
              0.7777777777777778,
              "#fb9f3a"
             ],
             [
              0.8888888888888888,
              "#fdca26"
             ],
             [
              1,
              "#f0f921"
             ]
            ],
            "type": "histogram2dcontour"
           }
          ],
          "mesh3d": [
           {
            "colorbar": {
             "outlinewidth": 0,
             "ticks": ""
            },
            "type": "mesh3d"
           }
          ],
          "parcoords": [
           {
            "line": {
             "colorbar": {
              "outlinewidth": 0,
              "ticks": ""
             }
            },
            "type": "parcoords"
           }
          ],
          "pie": [
           {
            "automargin": true,
            "type": "pie"
           }
          ],
          "scatter": [
           {
            "fillpattern": {
             "fillmode": "overlay",
             "size": 10,
             "solidity": 0.2
            },
            "type": "scatter"
           }
          ],
          "scatter3d": [
           {
            "line": {
             "colorbar": {
              "outlinewidth": 0,
              "ticks": ""
             }
            },
            "marker": {
             "colorbar": {
              "outlinewidth": 0,
              "ticks": ""
             }
            },
            "type": "scatter3d"
           }
          ],
          "scattercarpet": [
           {
            "marker": {
             "colorbar": {
              "outlinewidth": 0,
              "ticks": ""
             }
            },
            "type": "scattercarpet"
           }
          ],
          "scattergeo": [
           {
            "marker": {
             "colorbar": {
              "outlinewidth": 0,
              "ticks": ""
             }
            },
            "type": "scattergeo"
           }
          ],
          "scattergl": [
           {
            "marker": {
             "colorbar": {
              "outlinewidth": 0,
              "ticks": ""
             }
            },
            "type": "scattergl"
           }
          ],
          "scattermapbox": [
           {
            "marker": {
             "colorbar": {
              "outlinewidth": 0,
              "ticks": ""
             }
            },
            "type": "scattermapbox"
           }
          ],
          "scatterpolar": [
           {
            "marker": {
             "colorbar": {
              "outlinewidth": 0,
              "ticks": ""
             }
            },
            "type": "scatterpolar"
           }
          ],
          "scatterpolargl": [
           {
            "marker": {
             "colorbar": {
              "outlinewidth": 0,
              "ticks": ""
             }
            },
            "type": "scatterpolargl"
           }
          ],
          "scatterternary": [
           {
            "marker": {
             "colorbar": {
              "outlinewidth": 0,
              "ticks": ""
             }
            },
            "type": "scatterternary"
           }
          ],
          "surface": [
           {
            "colorbar": {
             "outlinewidth": 0,
             "ticks": ""
            },
            "colorscale": [
             [
              0,
              "#0d0887"
             ],
             [
              0.1111111111111111,
              "#46039f"
             ],
             [
              0.2222222222222222,
              "#7201a8"
             ],
             [
              0.3333333333333333,
              "#9c179e"
             ],
             [
              0.4444444444444444,
              "#bd3786"
             ],
             [
              0.5555555555555556,
              "#d8576b"
             ],
             [
              0.6666666666666666,
              "#ed7953"
             ],
             [
              0.7777777777777778,
              "#fb9f3a"
             ],
             [
              0.8888888888888888,
              "#fdca26"
             ],
             [
              1,
              "#f0f921"
             ]
            ],
            "type": "surface"
           }
          ],
          "table": [
           {
            "cells": {
             "fill": {
              "color": "#EBF0F8"
             },
             "line": {
              "color": "white"
             }
            },
            "header": {
             "fill": {
              "color": "#C8D4E3"
             },
             "line": {
              "color": "white"
             }
            },
            "type": "table"
           }
          ]
         },
         "layout": {
          "annotationdefaults": {
           "arrowcolor": "#2a3f5f",
           "arrowhead": 0,
           "arrowwidth": 1
          },
          "autotypenumbers": "strict",
          "coloraxis": {
           "colorbar": {
            "outlinewidth": 0,
            "ticks": ""
           }
          },
          "colorscale": {
           "diverging": [
            [
             0,
             "#8e0152"
            ],
            [
             0.1,
             "#c51b7d"
            ],
            [
             0.2,
             "#de77ae"
            ],
            [
             0.3,
             "#f1b6da"
            ],
            [
             0.4,
             "#fde0ef"
            ],
            [
             0.5,
             "#f7f7f7"
            ],
            [
             0.6,
             "#e6f5d0"
            ],
            [
             0.7,
             "#b8e186"
            ],
            [
             0.8,
             "#7fbc41"
            ],
            [
             0.9,
             "#4d9221"
            ],
            [
             1,
             "#276419"
            ]
           ],
           "sequential": [
            [
             0,
             "#0d0887"
            ],
            [
             0.1111111111111111,
             "#46039f"
            ],
            [
             0.2222222222222222,
             "#7201a8"
            ],
            [
             0.3333333333333333,
             "#9c179e"
            ],
            [
             0.4444444444444444,
             "#bd3786"
            ],
            [
             0.5555555555555556,
             "#d8576b"
            ],
            [
             0.6666666666666666,
             "#ed7953"
            ],
            [
             0.7777777777777778,
             "#fb9f3a"
            ],
            [
             0.8888888888888888,
             "#fdca26"
            ],
            [
             1,
             "#f0f921"
            ]
           ],
           "sequentialminus": [
            [
             0,
             "#0d0887"
            ],
            [
             0.1111111111111111,
             "#46039f"
            ],
            [
             0.2222222222222222,
             "#7201a8"
            ],
            [
             0.3333333333333333,
             "#9c179e"
            ],
            [
             0.4444444444444444,
             "#bd3786"
            ],
            [
             0.5555555555555556,
             "#d8576b"
            ],
            [
             0.6666666666666666,
             "#ed7953"
            ],
            [
             0.7777777777777778,
             "#fb9f3a"
            ],
            [
             0.8888888888888888,
             "#fdca26"
            ],
            [
             1,
             "#f0f921"
            ]
           ]
          },
          "colorway": [
           "#636efa",
           "#EF553B",
           "#00cc96",
           "#ab63fa",
           "#FFA15A",
           "#19d3f3",
           "#FF6692",
           "#B6E880",
           "#FF97FF",
           "#FECB52"
          ],
          "font": {
           "color": "#2a3f5f"
          },
          "geo": {
           "bgcolor": "white",
           "lakecolor": "white",
           "landcolor": "white",
           "showlakes": true,
           "showland": true,
           "subunitcolor": "#C8D4E3"
          },
          "hoverlabel": {
           "align": "left"
          },
          "hovermode": "closest",
          "mapbox": {
           "style": "light"
          },
          "paper_bgcolor": "white",
          "plot_bgcolor": "white",
          "polar": {
           "angularaxis": {
            "gridcolor": "#EBF0F8",
            "linecolor": "#EBF0F8",
            "ticks": ""
           },
           "bgcolor": "white",
           "radialaxis": {
            "gridcolor": "#EBF0F8",
            "linecolor": "#EBF0F8",
            "ticks": ""
           }
          },
          "scene": {
           "xaxis": {
            "backgroundcolor": "white",
            "gridcolor": "#DFE8F3",
            "gridwidth": 2,
            "linecolor": "#EBF0F8",
            "showbackground": true,
            "ticks": "",
            "zerolinecolor": "#EBF0F8"
           },
           "yaxis": {
            "backgroundcolor": "white",
            "gridcolor": "#DFE8F3",
            "gridwidth": 2,
            "linecolor": "#EBF0F8",
            "showbackground": true,
            "ticks": "",
            "zerolinecolor": "#EBF0F8"
           },
           "zaxis": {
            "backgroundcolor": "white",
            "gridcolor": "#DFE8F3",
            "gridwidth": 2,
            "linecolor": "#EBF0F8",
            "showbackground": true,
            "ticks": "",
            "zerolinecolor": "#EBF0F8"
           }
          },
          "shapedefaults": {
           "line": {
            "color": "#2a3f5f"
           }
          },
          "ternary": {
           "aaxis": {
            "gridcolor": "#DFE8F3",
            "linecolor": "#A2B1C6",
            "ticks": ""
           },
           "baxis": {
            "gridcolor": "#DFE8F3",
            "linecolor": "#A2B1C6",
            "ticks": ""
           },
           "bgcolor": "white",
           "caxis": {
            "gridcolor": "#DFE8F3",
            "linecolor": "#A2B1C6",
            "ticks": ""
           }
          },
          "title": {
           "x": 0.05
          },
          "xaxis": {
           "automargin": true,
           "gridcolor": "#EBF0F8",
           "linecolor": "#EBF0F8",
           "ticks": "",
           "title": {
            "standoff": 15
           },
           "zerolinecolor": "#EBF0F8",
           "zerolinewidth": 2
          },
          "yaxis": {
           "automargin": true,
           "gridcolor": "#EBF0F8",
           "linecolor": "#EBF0F8",
           "ticks": "",
           "title": {
            "standoff": 15
           },
           "zerolinecolor": "#EBF0F8",
           "zerolinewidth": 2
          }
         }
        },
        "title": {
         "text": "Time Difference vs Index - Scenario scenario_1<br>(CTI = 0.2 s)"
        },
        "width": 800,
        "xaxis": {
         "anchor": "y",
         "domain": [
          0,
          1
         ],
         "gridcolor": "lightgrey",
         "tickfont": {
          "size": 12
         },
         "title": {
          "text": "Relay Pair Index (Sorted by MT)"
         },
         "zeroline": true,
         "zerolinecolor": "black",
         "zerolinewidth": 1
        },
        "yaxis": {
         "anchor": "x",
         "domain": [
          0,
          1
         ],
         "gridcolor": "lightgrey",
         "tickfont": {
          "size": 12
         },
         "title": {
          "text": "Time Difference Δt [s]"
         },
         "zeroline": true,
         "zerolinecolor": "black",
         "zerolinewidth": 1
        }
       }
      }
     },
     "metadata": {},
     "output_type": "display_data"
    },
    {
     "name": "stdout",
     "output_type": "stream",
     "text": [
      "    Displaying mt_histogram plot...\n"
     ]
    },
    {
     "data": {
      "application/vnd.plotly.v1+json": {
       "config": {
        "plotlyServerURL": "https://plot.ly"
       },
       "data": [
        {
         "alignmentgroup": "True",
         "bingroup": "x",
         "hovertemplate": "status=Miscoordinated<br>mt=%{x}<br>count=%{y}<extra></extra>",
         "legendgroup": "Miscoordinated",
         "marker": {
          "color": "indianred",
          "pattern": {
           "shape": ""
          }
         },
         "name": "Miscoordinated",
         "nbinsx": 25,
         "offsetgroup": "Miscoordinated",
         "orientation": "v",
         "showlegend": true,
         "type": "histogram",
         "x": [
          -0.13900000000000007,
          -0.12010000000000015,
          -0.10689999999999983,
          -0.09670000000000006,
          -0.07500000000000001,
          -0.06519999999999976,
          -0.06439999999999985,
          -0.02549999999999991,
          -0.015600000000000336,
          -0.011599999999999888,
          -0.00929999999999992,
          -0.007199999999999929,
          -0.002799999999999969
         ],
         "xaxis": "x",
         "yaxis": "y"
        },
        {
         "alignmentgroup": "True",
         "hovertemplate": "status=Miscoordinated<br>mt=%{x}<extra></extra>",
         "legendgroup": "Miscoordinated",
         "marker": {
          "color": "indianred"
         },
         "name": "Miscoordinated",
         "notched": true,
         "offsetgroup": "Miscoordinated",
         "showlegend": false,
         "type": "box",
         "x": [
          -0.13900000000000007,
          -0.12010000000000015,
          -0.10689999999999983,
          -0.09670000000000006,
          -0.07500000000000001,
          -0.06519999999999976,
          -0.06439999999999985,
          -0.02549999999999991,
          -0.015600000000000336,
          -0.011599999999999888,
          -0.00929999999999992,
          -0.007199999999999929,
          -0.002799999999999969
         ],
         "xaxis": "x2",
         "yaxis": "y2"
        },
        {
         "alignmentgroup": "True",
         "bingroup": "x",
         "hovertemplate": "status=Coordinated<br>mt=%{x}<br>count=%{y}<extra></extra>",
         "legendgroup": "Coordinated",
         "marker": {
          "color": "mediumseagreen",
          "pattern": {
           "shape": ""
          }
         },
         "name": "Coordinated",
         "nbinsx": 25,
         "offsetgroup": "Coordinated",
         "orientation": "v",
         "showlegend": true,
         "type": "histogram",
         "x": [
          0,
          0,
          0,
          0,
          0,
          0,
          0,
          0,
          0,
          0,
          0,
          0,
          0,
          0,
          0,
          0,
          0,
          0,
          0,
          0,
          0,
          0,
          0,
          0,
          0,
          0,
          0,
          0,
          0,
          0,
          0,
          0,
          0,
          0,
          0,
          0,
          0,
          0,
          0,
          0,
          0,
          0,
          0,
          0,
          0,
          0,
          0,
          0,
          0,
          0,
          0,
          0,
          0,
          0,
          0,
          0,
          0,
          0,
          0,
          0,
          0,
          0,
          0,
          0,
          0,
          0,
          0,
          0,
          0,
          0,
          0,
          0,
          0,
          0,
          0,
          0,
          0,
          0,
          0,
          0,
          0,
          0,
          0,
          0,
          0,
          0,
          0
         ],
         "xaxis": "x",
         "yaxis": "y"
        },
        {
         "alignmentgroup": "True",
         "hovertemplate": "status=Coordinated<br>mt=%{x}<extra></extra>",
         "legendgroup": "Coordinated",
         "marker": {
          "color": "mediumseagreen"
         },
         "name": "Coordinated",
         "notched": true,
         "offsetgroup": "Coordinated",
         "showlegend": false,
         "type": "box",
         "x": [
          0,
          0,
          0,
          0,
          0,
          0,
          0,
          0,
          0,
          0,
          0,
          0,
          0,
          0,
          0,
          0,
          0,
          0,
          0,
          0,
          0,
          0,
          0,
          0,
          0,
          0,
          0,
          0,
          0,
          0,
          0,
          0,
          0,
          0,
          0,
          0,
          0,
          0,
          0,
          0,
          0,
          0,
          0,
          0,
          0,
          0,
          0,
          0,
          0,
          0,
          0,
          0,
          0,
          0,
          0,
          0,
          0,
          0,
          0,
          0,
          0,
          0,
          0,
          0,
          0,
          0,
          0,
          0,
          0,
          0,
          0,
          0,
          0,
          0,
          0,
          0,
          0,
          0,
          0,
          0,
          0,
          0,
          0,
          0,
          0,
          0,
          0
         ],
         "xaxis": "x2",
         "yaxis": "y2"
        }
       ],
       "layout": {
        "bargap": 0.1,
        "barmode": "relative",
        "height": 500,
        "legend": {
         "font": {
          "size": 12
         },
         "title": {
          "font": {
           "size": 14
          },
          "text": "Coordination Status"
         },
         "tracegroupgap": 0
        },
        "margin": {
         "b": 70,
         "l": 70,
         "r": 40,
         "t": 80
        },
        "shapes": [
         {
          "line": {
           "color": "black",
           "dash": "dash",
           "width": 1.5
          },
          "type": "line",
          "x0": 0,
          "x1": 0,
          "xref": "x",
          "y0": 0,
          "y1": 1,
          "yref": "y domain"
         },
         {
          "line": {
           "color": "black",
           "dash": "dash",
           "width": 1.5
          },
          "type": "line",
          "x0": 0,
          "x1": 0,
          "xref": "x2",
          "y0": 0,
          "y1": 1,
          "yref": "y2 domain"
         }
        ],
        "template": {
         "data": {
          "bar": [
           {
            "error_x": {
             "color": "#2a3f5f"
            },
            "error_y": {
             "color": "#2a3f5f"
            },
            "marker": {
             "line": {
              "color": "white",
              "width": 0.5
             },
             "pattern": {
              "fillmode": "overlay",
              "size": 10,
              "solidity": 0.2
             }
            },
            "type": "bar"
           }
          ],
          "barpolar": [
           {
            "marker": {
             "line": {
              "color": "white",
              "width": 0.5
             },
             "pattern": {
              "fillmode": "overlay",
              "size": 10,
              "solidity": 0.2
             }
            },
            "type": "barpolar"
           }
          ],
          "carpet": [
           {
            "aaxis": {
             "endlinecolor": "#2a3f5f",
             "gridcolor": "#C8D4E3",
             "linecolor": "#C8D4E3",
             "minorgridcolor": "#C8D4E3",
             "startlinecolor": "#2a3f5f"
            },
            "baxis": {
             "endlinecolor": "#2a3f5f",
             "gridcolor": "#C8D4E3",
             "linecolor": "#C8D4E3",
             "minorgridcolor": "#C8D4E3",
             "startlinecolor": "#2a3f5f"
            },
            "type": "carpet"
           }
          ],
          "choropleth": [
           {
            "colorbar": {
             "outlinewidth": 0,
             "ticks": ""
            },
            "type": "choropleth"
           }
          ],
          "contour": [
           {
            "colorbar": {
             "outlinewidth": 0,
             "ticks": ""
            },
            "colorscale": [
             [
              0,
              "#0d0887"
             ],
             [
              0.1111111111111111,
              "#46039f"
             ],
             [
              0.2222222222222222,
              "#7201a8"
             ],
             [
              0.3333333333333333,
              "#9c179e"
             ],
             [
              0.4444444444444444,
              "#bd3786"
             ],
             [
              0.5555555555555556,
              "#d8576b"
             ],
             [
              0.6666666666666666,
              "#ed7953"
             ],
             [
              0.7777777777777778,
              "#fb9f3a"
             ],
             [
              0.8888888888888888,
              "#fdca26"
             ],
             [
              1,
              "#f0f921"
             ]
            ],
            "type": "contour"
           }
          ],
          "contourcarpet": [
           {
            "colorbar": {
             "outlinewidth": 0,
             "ticks": ""
            },
            "type": "contourcarpet"
           }
          ],
          "heatmap": [
           {
            "colorbar": {
             "outlinewidth": 0,
             "ticks": ""
            },
            "colorscale": [
             [
              0,
              "#0d0887"
             ],
             [
              0.1111111111111111,
              "#46039f"
             ],
             [
              0.2222222222222222,
              "#7201a8"
             ],
             [
              0.3333333333333333,
              "#9c179e"
             ],
             [
              0.4444444444444444,
              "#bd3786"
             ],
             [
              0.5555555555555556,
              "#d8576b"
             ],
             [
              0.6666666666666666,
              "#ed7953"
             ],
             [
              0.7777777777777778,
              "#fb9f3a"
             ],
             [
              0.8888888888888888,
              "#fdca26"
             ],
             [
              1,
              "#f0f921"
             ]
            ],
            "type": "heatmap"
           }
          ],
          "heatmapgl": [
           {
            "colorbar": {
             "outlinewidth": 0,
             "ticks": ""
            },
            "colorscale": [
             [
              0,
              "#0d0887"
             ],
             [
              0.1111111111111111,
              "#46039f"
             ],
             [
              0.2222222222222222,
              "#7201a8"
             ],
             [
              0.3333333333333333,
              "#9c179e"
             ],
             [
              0.4444444444444444,
              "#bd3786"
             ],
             [
              0.5555555555555556,
              "#d8576b"
             ],
             [
              0.6666666666666666,
              "#ed7953"
             ],
             [
              0.7777777777777778,
              "#fb9f3a"
             ],
             [
              0.8888888888888888,
              "#fdca26"
             ],
             [
              1,
              "#f0f921"
             ]
            ],
            "type": "heatmapgl"
           }
          ],
          "histogram": [
           {
            "marker": {
             "pattern": {
              "fillmode": "overlay",
              "size": 10,
              "solidity": 0.2
             }
            },
            "type": "histogram"
           }
          ],
          "histogram2d": [
           {
            "colorbar": {
             "outlinewidth": 0,
             "ticks": ""
            },
            "colorscale": [
             [
              0,
              "#0d0887"
             ],
             [
              0.1111111111111111,
              "#46039f"
             ],
             [
              0.2222222222222222,
              "#7201a8"
             ],
             [
              0.3333333333333333,
              "#9c179e"
             ],
             [
              0.4444444444444444,
              "#bd3786"
             ],
             [
              0.5555555555555556,
              "#d8576b"
             ],
             [
              0.6666666666666666,
              "#ed7953"
             ],
             [
              0.7777777777777778,
              "#fb9f3a"
             ],
             [
              0.8888888888888888,
              "#fdca26"
             ],
             [
              1,
              "#f0f921"
             ]
            ],
            "type": "histogram2d"
           }
          ],
          "histogram2dcontour": [
           {
            "colorbar": {
             "outlinewidth": 0,
             "ticks": ""
            },
            "colorscale": [
             [
              0,
              "#0d0887"
             ],
             [
              0.1111111111111111,
              "#46039f"
             ],
             [
              0.2222222222222222,
              "#7201a8"
             ],
             [
              0.3333333333333333,
              "#9c179e"
             ],
             [
              0.4444444444444444,
              "#bd3786"
             ],
             [
              0.5555555555555556,
              "#d8576b"
             ],
             [
              0.6666666666666666,
              "#ed7953"
             ],
             [
              0.7777777777777778,
              "#fb9f3a"
             ],
             [
              0.8888888888888888,
              "#fdca26"
             ],
             [
              1,
              "#f0f921"
             ]
            ],
            "type": "histogram2dcontour"
           }
          ],
          "mesh3d": [
           {
            "colorbar": {
             "outlinewidth": 0,
             "ticks": ""
            },
            "type": "mesh3d"
           }
          ],
          "parcoords": [
           {
            "line": {
             "colorbar": {
              "outlinewidth": 0,
              "ticks": ""
             }
            },
            "type": "parcoords"
           }
          ],
          "pie": [
           {
            "automargin": true,
            "type": "pie"
           }
          ],
          "scatter": [
           {
            "fillpattern": {
             "fillmode": "overlay",
             "size": 10,
             "solidity": 0.2
            },
            "type": "scatter"
           }
          ],
          "scatter3d": [
           {
            "line": {
             "colorbar": {
              "outlinewidth": 0,
              "ticks": ""
             }
            },
            "marker": {
             "colorbar": {
              "outlinewidth": 0,
              "ticks": ""
             }
            },
            "type": "scatter3d"
           }
          ],
          "scattercarpet": [
           {
            "marker": {
             "colorbar": {
              "outlinewidth": 0,
              "ticks": ""
             }
            },
            "type": "scattercarpet"
           }
          ],
          "scattergeo": [
           {
            "marker": {
             "colorbar": {
              "outlinewidth": 0,
              "ticks": ""
             }
            },
            "type": "scattergeo"
           }
          ],
          "scattergl": [
           {
            "marker": {
             "colorbar": {
              "outlinewidth": 0,
              "ticks": ""
             }
            },
            "type": "scattergl"
           }
          ],
          "scattermapbox": [
           {
            "marker": {
             "colorbar": {
              "outlinewidth": 0,
              "ticks": ""
             }
            },
            "type": "scattermapbox"
           }
          ],
          "scatterpolar": [
           {
            "marker": {
             "colorbar": {
              "outlinewidth": 0,
              "ticks": ""
             }
            },
            "type": "scatterpolar"
           }
          ],
          "scatterpolargl": [
           {
            "marker": {
             "colorbar": {
              "outlinewidth": 0,
              "ticks": ""
             }
            },
            "type": "scatterpolargl"
           }
          ],
          "scatterternary": [
           {
            "marker": {
             "colorbar": {
              "outlinewidth": 0,
              "ticks": ""
             }
            },
            "type": "scatterternary"
           }
          ],
          "surface": [
           {
            "colorbar": {
             "outlinewidth": 0,
             "ticks": ""
            },
            "colorscale": [
             [
              0,
              "#0d0887"
             ],
             [
              0.1111111111111111,
              "#46039f"
             ],
             [
              0.2222222222222222,
              "#7201a8"
             ],
             [
              0.3333333333333333,
              "#9c179e"
             ],
             [
              0.4444444444444444,
              "#bd3786"
             ],
             [
              0.5555555555555556,
              "#d8576b"
             ],
             [
              0.6666666666666666,
              "#ed7953"
             ],
             [
              0.7777777777777778,
              "#fb9f3a"
             ],
             [
              0.8888888888888888,
              "#fdca26"
             ],
             [
              1,
              "#f0f921"
             ]
            ],
            "type": "surface"
           }
          ],
          "table": [
           {
            "cells": {
             "fill": {
              "color": "#EBF0F8"
             },
             "line": {
              "color": "white"
             }
            },
            "header": {
             "fill": {
              "color": "#C8D4E3"
             },
             "line": {
              "color": "white"
             }
            },
            "type": "table"
           }
          ]
         },
         "layout": {
          "annotationdefaults": {
           "arrowcolor": "#2a3f5f",
           "arrowhead": 0,
           "arrowwidth": 1
          },
          "autotypenumbers": "strict",
          "coloraxis": {
           "colorbar": {
            "outlinewidth": 0,
            "ticks": ""
           }
          },
          "colorscale": {
           "diverging": [
            [
             0,
             "#8e0152"
            ],
            [
             0.1,
             "#c51b7d"
            ],
            [
             0.2,
             "#de77ae"
            ],
            [
             0.3,
             "#f1b6da"
            ],
            [
             0.4,
             "#fde0ef"
            ],
            [
             0.5,
             "#f7f7f7"
            ],
            [
             0.6,
             "#e6f5d0"
            ],
            [
             0.7,
             "#b8e186"
            ],
            [
             0.8,
             "#7fbc41"
            ],
            [
             0.9,
             "#4d9221"
            ],
            [
             1,
             "#276419"
            ]
           ],
           "sequential": [
            [
             0,
             "#0d0887"
            ],
            [
             0.1111111111111111,
             "#46039f"
            ],
            [
             0.2222222222222222,
             "#7201a8"
            ],
            [
             0.3333333333333333,
             "#9c179e"
            ],
            [
             0.4444444444444444,
             "#bd3786"
            ],
            [
             0.5555555555555556,
             "#d8576b"
            ],
            [
             0.6666666666666666,
             "#ed7953"
            ],
            [
             0.7777777777777778,
             "#fb9f3a"
            ],
            [
             0.8888888888888888,
             "#fdca26"
            ],
            [
             1,
             "#f0f921"
            ]
           ],
           "sequentialminus": [
            [
             0,
             "#0d0887"
            ],
            [
             0.1111111111111111,
             "#46039f"
            ],
            [
             0.2222222222222222,
             "#7201a8"
            ],
            [
             0.3333333333333333,
             "#9c179e"
            ],
            [
             0.4444444444444444,
             "#bd3786"
            ],
            [
             0.5555555555555556,
             "#d8576b"
            ],
            [
             0.6666666666666666,
             "#ed7953"
            ],
            [
             0.7777777777777778,
             "#fb9f3a"
            ],
            [
             0.8888888888888888,
             "#fdca26"
            ],
            [
             1,
             "#f0f921"
            ]
           ]
          },
          "colorway": [
           "#636efa",
           "#EF553B",
           "#00cc96",
           "#ab63fa",
           "#FFA15A",
           "#19d3f3",
           "#FF6692",
           "#B6E880",
           "#FF97FF",
           "#FECB52"
          ],
          "font": {
           "color": "#2a3f5f"
          },
          "geo": {
           "bgcolor": "white",
           "lakecolor": "white",
           "landcolor": "white",
           "showlakes": true,
           "showland": true,
           "subunitcolor": "#C8D4E3"
          },
          "hoverlabel": {
           "align": "left"
          },
          "hovermode": "closest",
          "mapbox": {
           "style": "light"
          },
          "paper_bgcolor": "white",
          "plot_bgcolor": "white",
          "polar": {
           "angularaxis": {
            "gridcolor": "#EBF0F8",
            "linecolor": "#EBF0F8",
            "ticks": ""
           },
           "bgcolor": "white",
           "radialaxis": {
            "gridcolor": "#EBF0F8",
            "linecolor": "#EBF0F8",
            "ticks": ""
           }
          },
          "scene": {
           "xaxis": {
            "backgroundcolor": "white",
            "gridcolor": "#DFE8F3",
            "gridwidth": 2,
            "linecolor": "#EBF0F8",
            "showbackground": true,
            "ticks": "",
            "zerolinecolor": "#EBF0F8"
           },
           "yaxis": {
            "backgroundcolor": "white",
            "gridcolor": "#DFE8F3",
            "gridwidth": 2,
            "linecolor": "#EBF0F8",
            "showbackground": true,
            "ticks": "",
            "zerolinecolor": "#EBF0F8"
           },
           "zaxis": {
            "backgroundcolor": "white",
            "gridcolor": "#DFE8F3",
            "gridwidth": 2,
            "linecolor": "#EBF0F8",
            "showbackground": true,
            "ticks": "",
            "zerolinecolor": "#EBF0F8"
           }
          },
          "shapedefaults": {
           "line": {
            "color": "#2a3f5f"
           }
          },
          "ternary": {
           "aaxis": {
            "gridcolor": "#DFE8F3",
            "linecolor": "#A2B1C6",
            "ticks": ""
           },
           "baxis": {
            "gridcolor": "#DFE8F3",
            "linecolor": "#A2B1C6",
            "ticks": ""
           },
           "bgcolor": "white",
           "caxis": {
            "gridcolor": "#DFE8F3",
            "linecolor": "#A2B1C6",
            "ticks": ""
           }
          },
          "title": {
           "x": 0.05
          },
          "xaxis": {
           "automargin": true,
           "gridcolor": "#EBF0F8",
           "linecolor": "#EBF0F8",
           "ticks": "",
           "title": {
            "standoff": 15
           },
           "zerolinecolor": "#EBF0F8",
           "zerolinewidth": 2
          },
          "yaxis": {
           "automargin": true,
           "gridcolor": "#EBF0F8",
           "linecolor": "#EBF0F8",
           "ticks": "",
           "title": {
            "standoff": 15
           },
           "zerolinecolor": "#EBF0F8",
           "zerolinewidth": 2
          }
         }
        },
        "title": {
         "font": {
          "size": 18
         },
         "text": "Distribution of MT Values - Scenario scenario_1<br>(13 Miscoordinated Pairs)"
        },
        "width": 800,
        "xaxis": {
         "anchor": "y",
         "domain": [
          0,
          1
         ],
         "gridcolor": "lightgrey",
         "tickfont": {
          "size": 12
         },
         "title": {
          "text": "Miscoordination Index (MT)"
         },
         "zeroline": true,
         "zerolinecolor": "black",
         "zerolinewidth": 1
        },
        "xaxis2": {
         "anchor": "y2",
         "domain": [
          0,
          1
         ],
         "matches": "x",
         "showgrid": true,
         "showticklabels": false
        },
        "yaxis": {
         "anchor": "x",
         "domain": [
          0,
          0.7326
         ],
         "gridcolor": "lightgrey",
         "tickfont": {
          "size": 12
         },
         "title": {
          "text": "Frequency (Number of Pairs)"
         },
         "zeroline": true,
         "zerolinecolor": "black",
         "zerolinewidth": 1
        },
        "yaxis2": {
         "anchor": "x2",
         "domain": [
          0.7426,
          1
         ],
         "matches": "y2",
         "showgrid": false,
         "showline": false,
         "showticklabels": false,
         "ticks": ""
        }
       }
      }
     },
     "metadata": {},
     "output_type": "display_data"
    },
    {
     "name": "stdout",
     "output_type": "stream",
     "text": [
      "--- Plot generation and saving complete for Scenario: scenario_1 ---\n",
      "\n",
      "--- Analysis Complete for Scenario: scenario_1 ---\n",
      "\n",
      "============================================\n",
      "=== Script Execution Finished ===\n",
      "============================================\n"
     ]
    }
   ],
   "source": [
    "# %% Import Libraries\n",
    "import json\n",
    "# import matplotlib.pyplot as plt # Not needed for these plots\n",
    "import numpy as np\n",
    "import pandas as pd\n",
    "from collections import defaultdict\n",
    "import os\n",
    "import plotly.graph_objects as go\n",
    "import plotly.express as px\n",
    "import plotly.io as pio\n",
    "import traceback # For detailed error reporting\n",
    "\n",
    "# %% Configuration\n",
    "# --- CORRECTED TEMPLATE NAME ---\n",
    "pio.templates.default = \"plotly_white\" # Standard template for white background\n",
    "# -------------------------------\n",
    "\n",
    "json_file_path = \"/Users/gustavo/Documents/Projects/TESIS_UNAL/ADAPTIVE_ALGORITHM/data/processed/independent_relay_pairs_optimization.json\"\n",
    "# Output directory for results - will be created if it doesn't exist\n",
    "output_dir = \"/Users/gustavo/Documents/Projects/TESIS_UNAL/ADAPTIVE_ALGORITHM/results/coordination_plots_paper\" # Changed output dir slightly\n",
    "\n",
    "# Coordination Time Interval (CTI)\n",
    "CTI = 0.2\n",
    "\n",
    "# %% Helper Functions\n",
    "\n",
    "def calculate_MT(tm, tb, cti=CTI):\n",
    "    \"\"\"Calculates the Miscoordination Index (MT) and the time difference delta.\"\"\"\n",
    "    delta_tmb = tb - tm - cti\n",
    "    MT = (delta_tmb - abs(delta_tmb)) / 2\n",
    "    return MT, delta_tmb\n",
    "\n",
    "def analyze_by_scenario(data, cti=CTI):\n",
    "    \"\"\"\n",
    "    Analyzes relay pair data, calculating MT, Delta_t, TMT,\n",
    "    and extracting additional info (line, fault) for each scenario.\n",
    "    Returns a dictionary mapping scenario_id to its analysis results (DataFrame, TMT).\n",
    "    (Minor logging adjustments from original)\n",
    "    \"\"\"\n",
    "    scenarios = defaultdict(lambda: {\"pairs_data\": []})\n",
    "    print(\"Starting data extraction and processing for scenarios...\")\n",
    "    processed_count = 0\n",
    "    skipped_count = 0\n",
    "    # --- Data Extraction and Initial Processing ---\n",
    "    for idx, relay_pair in enumerate(data):\n",
    "        record_label = f\"Record {idx+1}\"\n",
    "        scenario_id = relay_pair.get(\"scenario_id\")\n",
    "        if not scenario_id:\n",
    "            skipped_count += 1\n",
    "            continue\n",
    "\n",
    "        record_label = f\"{record_label} (Scenario: {scenario_id})\"\n",
    "        main_relay = relay_pair.get(\"main_relay\")\n",
    "        backup_relay = relay_pair.get(\"backup_relay\")\n",
    "        if not main_relay or not backup_relay:\n",
    "            skipped_count += 1\n",
    "            continue\n",
    "\n",
    "        tm_val = main_relay.get(\"Time_out\")\n",
    "        tb_val = backup_relay.get(\"Time_out\")\n",
    "        main_relay_id = main_relay.get(\"relay\", f\"Main_Unknown_{idx+1}\")\n",
    "        backup_relay_id = backup_relay.get(\"relay\", f\"Backup_Unknown_{idx+1}\")\n",
    "        pair_name = f\"{main_relay_id}-{backup_relay_id}\"\n",
    "        record_label = f\"{record_label}, Pair: {pair_name}\"\n",
    "\n",
    "        if tm_val is None or tb_val is None:\n",
    "            skipped_count += 1\n",
    "            continue\n",
    "\n",
    "        line_info = relay_pair.get('line', main_relay.get('line', backup_relay.get('line', 'N/A')))\n",
    "        fault_info = relay_pair.get('fault', main_relay.get('fault', backup_relay.get('fault', 'N/A')))\n",
    "\n",
    "        try:\n",
    "             tm_float = float(tm_val)\n",
    "             tb_float = float(tb_val)\n",
    "             if tm_float < 0 or tb_float < 0:\n",
    "                 skipped_count += 1\n",
    "                 continue\n",
    "             mt, delta_t = calculate_MT(tm_float, tb_float, cti)\n",
    "        except (ValueError, TypeError) as e:\n",
    "             # Keep this warning, it's useful for debugging data issues\n",
    "             print(f\"Warning: Could not calculate MT for {record_label}. Invalid time values? Tm='{tm_val}', Tb='{tb_val}'. Error: {e}\")\n",
    "             skipped_count += 1\n",
    "             continue\n",
    "\n",
    "        pair_info = {\n",
    "            \"pair_label\": pair_name, \"mt\": mt, \"delta_t\": delta_t,\n",
    "            \"tm\": tm_float, \"tb\": tb_float, \"main_relay_id\": main_relay_id,\n",
    "            \"backup_relay_id\": backup_relay_id, \"line\": line_info,\n",
    "            \"fault\": fault_info, \"status\": \"Coordinated\" if delta_t >= 0 else \"Miscoordinated\" # Changed label\n",
    "        }\n",
    "        scenarios[scenario_id][\"pairs_data\"].append(pair_info)\n",
    "        processed_count += 1\n",
    "\n",
    "    print(f\"Data extraction complete. Processed pairs: {processed_count}, Skipped records/pairs: {skipped_count}\")\n",
    "\n",
    "    # --- Aggregation per Scenario ---\n",
    "    print(\"Aggregating results per scenario...\")\n",
    "    results = {}\n",
    "    all_scenario_ids = sorted(list(scenarios.keys())) # Sort scenario keys for consistent processing order\n",
    "\n",
    "    if not all_scenario_ids:\n",
    "        print(\"No scenarios found with valid data after processing.\")\n",
    "        return results\n",
    "\n",
    "    for scenario_id in all_scenario_ids:\n",
    "        scenario_pairs_list = scenarios[scenario_id][\"pairs_data\"]\n",
    "        if not scenario_pairs_list:\n",
    "            continue\n",
    "        try:\n",
    "            df = pd.DataFrame(scenario_pairs_list)\n",
    "            tmt = df[\"mt\"].sum()\n",
    "            results[scenario_id] = {\"detailed_df\": df, \"TMT\": tmt}\n",
    "        except Exception as e:\n",
    "            print(f\"Error creating DataFrame or calculating TMT for scenario '{scenario_id}': {e}\")\n",
    "            continue\n",
    "\n",
    "    print(\"Scenario aggregation complete.\")\n",
    "    return results\n",
    "\n",
    "\n",
    "# %% Plotting Functions (REFINED FOR PUBLICATION QUALITY)\n",
    "\n",
    "def plot_scenario_details_plotly(scenario_data_df, scenario_id, output_dir, cti=CTI, show_plots=False):\n",
    "    \"\"\"\n",
    "    Generates, SAVES (HTML, SVG, PDF, PNG), and optionally DISPLAYS\n",
    "    multiple publication-quality interactive Plotly charts for a scenario.\n",
    "    \"\"\"\n",
    "    if not isinstance(scenario_data_df, pd.DataFrame) or scenario_data_df.empty:\n",
    "        print(f\"Plotting skipped for scenario {scenario_id}: No valid DataFrame provided.\")\n",
    "        return\n",
    "\n",
    "    print(f\"\\n--- Generating Publication Quality Plots for Scenario: {scenario_id} ---\")\n",
    "\n",
    "    # --- Style Constants for Paper ---\n",
    "    FIG_WIDTH_PAPER = 800       # Adjust width as needed for paper layout (e.g., single/double column)\n",
    "    FIG_HEIGHT_PAPER = 500      # Adjust height\n",
    "    TITLE_FONT_SIZE_PAPER = 18\n",
    "    AXIS_LABEL_FONT_SIZE_PAPER = 14\n",
    "    TICK_FONT_SIZE_PAPER = 12\n",
    "    LEGEND_TITLE_FONT_SIZE_PAPER = 14\n",
    "    LEGEND_FONT_SIZE_PAPER = 12\n",
    "    ANNOTATION_FONT_SIZE = 12\n",
    "    TEMPLATE_PAPER = \"plotly_white\" # Ensure clean background\n",
    "\n",
    "    # --- Data Prep ---\n",
    "    # Sort by MT for consistent ordering in MT and Delta_t plots\n",
    "    df_sorted_mt = scenario_data_df.sort_values(by='mt', ascending=True).reset_index(drop=True)\n",
    "    df_sorted_mt['plot_index'] = df_sorted_mt.index + 1 # Index for plotting if needed\n",
    "    tmt = df_sorted_mt[\"mt\"].sum()\n",
    "    n_pairs = len(df_sorted_mt)\n",
    "    n_miscoordinated = len(df_sorted_mt[df_sorted_mt['status'] == 'Miscoordinated'])\n",
    "\n",
    "    # Map status to colors\n",
    "    color_map = {'Coordinated': 'mediumseagreen', 'Miscoordinated': 'indianred'} # More distinct colors\n",
    "\n",
    "    # Common hover text generation logic (Updated status label)\n",
    "    def generate_hover_text(row):\n",
    "        return (f\"<b>{row['pair_label']}</b><br>Plot Index: {row['plot_index']}<br>\" +\n",
    "                f\"MT: {row['mt']:.4f} | <b>Δt: {row['delta_t']:.4f} s</b><br>\" +\n",
    "                f\"Tm: {row['tm']:.4f} s | Tb: {row['tb']:.4f} s<br>Line: {row['line']} | Fault: {row['fault']}<br>\" +\n",
    "                f\"Status: {row['status']}<extra></extra>\")\n",
    "\n",
    "    hover_texts = [generate_hover_text(row) for _, row in df_sorted_mt.iterrows()]\n",
    "\n",
    "    # --- Base Layout Settings (Common for all plots) ---\n",
    "    base_layout = dict(\n",
    "        template=TEMPLATE_PAPER,\n",
    "        width=FIG_WIDTH_PAPER,\n",
    "        height=FIG_HEIGHT_PAPER,\n",
    "        title_font_size=TITLE_FONT_SIZE_PAPER,\n",
    "        xaxis_title_font_size=AXIS_LABEL_FONT_SIZE_PAPER,\n",
    "        yaxis_title_font_size=AXIS_LABEL_FONT_SIZE_PAPER,\n",
    "        xaxis_tickfont_size=TICK_FONT_SIZE_PAPER,\n",
    "        yaxis_tickfont_size=TICK_FONT_SIZE_PAPER,\n",
    "        legend_title_font_size=LEGEND_TITLE_FONT_SIZE_PAPER,\n",
    "        legend_font_size=LEGEND_FONT_SIZE_PAPER,\n",
    "        margin=dict(l=70, r=40, t=80, b=70), # Adjusted margins\n",
    "        xaxis=dict(gridcolor='lightgrey', zeroline=True, zerolinecolor='black', zerolinewidth=1),\n",
    "        yaxis=dict(gridcolor='lightgrey', zeroline=True, zerolinecolor='black', zerolinewidth=1)\n",
    "    )\n",
    "\n",
    "    # Horizontal line for CTI limit\n",
    "    cti_hline = dict(y=0, line_width=1.5, line_dash=\"dash\", line_color=\"black\")\n",
    "    cti_annotation = dict(text=\"Coordination Limit (Δt = 0)\", align='right',\n",
    "                          showarrow=False, xref='paper', yref='y', x=0.98, y=0,\n",
    "                          font=dict(size=ANNOTATION_FONT_SIZE, color=\"black\"))\n",
    "\n",
    "\n",
    "    # --- 1. MT Bar Chart ---\n",
    "    fig_mt_bar = None # Initialize in case of error\n",
    "    try:\n",
    "        print(f\"  Generating MT Bar Chart...\")\n",
    "        colors_mt = [color_map['Miscoordinated'] if mt < 0 else color_map['Coordinated'] for mt in df_sorted_mt['mt']]\n",
    "        fig_mt_bar = go.Figure(data=[go.Bar(\n",
    "            x=df_sorted_mt['plot_index'], y=df_sorted_mt['mt'], marker_color=colors_mt,\n",
    "            name='MT', text=hover_texts, hoverinfo='text'\n",
    "        )])\n",
    "        fig_mt_bar.add_hline(**cti_hline) # MT is 0 if delta_t = 0\n",
    "        fig_mt_bar.update_layout(**base_layout) # Apply base layout\n",
    "        fig_mt_bar.update_layout(\n",
    "            title=f'Miscoordination Index (MT) - Scenario {scenario_id}<br>(Total MT = {tmt:.4f}, Pairs = {n_pairs})',\n",
    "            xaxis_title='Relay Pair Index (Sorted by MT)', yaxis_title='Miscoordination Index (MT)',\n",
    "            bargap=0.2\n",
    "        )\n",
    "    except Exception as e:\n",
    "        print(f\"    Error generating MT Bar Chart: {e}\")\n",
    "\n",
    "    # --- 2. Delta_t Bar Chart ---\n",
    "    fig_delta_bar = None\n",
    "    try:\n",
    "        print(f\"  Generating Delta_t Bar Chart...\")\n",
    "        colors_delta = [color_map[status] for status in df_sorted_mt['status']]\n",
    "        fig_delta_bar = go.Figure(data=[go.Bar(\n",
    "            x=df_sorted_mt['plot_index'], y=df_sorted_mt['delta_t'], marker_color=colors_delta,\n",
    "            name='Δt', text=hover_texts, hoverinfo='text'\n",
    "        )])\n",
    "        fig_delta_bar.add_hline(**cti_hline)\n",
    "        fig_delta_bar.add_annotation(**cti_annotation)\n",
    "        fig_delta_bar.update_layout(**base_layout)\n",
    "        fig_delta_bar.update_layout(\n",
    "            title=f'Time Difference (Δt = Tb - Tm - CTI) - Scenario {scenario_id}<br>(CTI = {cti} s)',\n",
    "            xaxis_title='Relay Pair Index (Sorted by MT)', yaxis_title='Time Difference Δt [s]',\n",
    "            bargap=0.2\n",
    "        )\n",
    "    except Exception as e:\n",
    "        print(f\"    Error generating Delta_t Bar Chart: {e}\")\n",
    "\n",
    "    # --- 3. Delta_t Scatter Plot ---\n",
    "    fig_delta_scatter = None\n",
    "    try:\n",
    "        print(f\"  Generating Delta_t Scatter Plot...\")\n",
    "        fig_delta_scatter = px.scatter(\n",
    "            df_sorted_mt, x='plot_index', y='delta_t', color='status',\n",
    "            color_discrete_map=color_map,\n",
    "            hover_data={'plot_index': False, 'pair_label': True, 'delta_t': ':.4f s', 'mt': ':.4f',\n",
    "                        'tm': ':.4f s', 'tb': ':.4f s', 'line': True, 'fault': True, 'status': True}\n",
    "            # Removed 'extra' for cleaner default hover\n",
    "        )\n",
    "        fig_delta_scatter.add_hline(**cti_hline)\n",
    "        fig_delta_scatter.add_annotation(**cti_annotation)\n",
    "        fig_delta_scatter.update_layout(**base_layout)\n",
    "        fig_delta_scatter.update_layout(\n",
    "            title=f'Time Difference vs Index - Scenario {scenario_id}<br>(CTI = {cti} s)',\n",
    "            xaxis_title='Relay Pair Index (Sorted by MT)', yaxis_title='Time Difference Δt [s]',\n",
    "            legend_title_text='Coordination Status'\n",
    "        )\n",
    "        fig_delta_scatter.update_traces(marker=dict(size=7, opacity=0.8, line=dict(width=0.5, color='DarkSlateGrey')),\n",
    "                                         selector=dict(mode='markers'))\n",
    "    except Exception as e:\n",
    "        print(f\"    Error generating Delta_t Scatter Plot: {e}\")\n",
    "\n",
    "    # --- 4. MT Histogram ---\n",
    "    fig_mt_hist = None\n",
    "    try:\n",
    "        print(f\"  Generating MT Histogram...\")\n",
    "        fig_mt_hist = px.histogram(\n",
    "            df_sorted_mt, x='mt', color='status',\n",
    "            color_discrete_map=color_map,\n",
    "            marginal='box', # box plot marginal is good\n",
    "            nbins=max(15, n_pairs // 4), # Adjust nbins for better look\n",
    "            title=f\"Distribution of MT Values - Scenario {scenario_id}<br>({n_miscoordinated} Miscoordinated Pairs)\"\n",
    "        )\n",
    "        fig_mt_hist.update_layout(**base_layout)\n",
    "        fig_mt_hist.update_layout(\n",
    "            xaxis_title='Miscoordination Index (MT)', yaxis_title='Frequency (Number of Pairs)',\n",
    "            legend_title_text='Coordination Status', bargap=0.1\n",
    "        )\n",
    "        # Optional: Add vertical line at MT=0\n",
    "        fig_mt_hist.add_vline(x=0, line_width=1.5, line_dash=\"dash\", line_color=\"black\")\n",
    "    except Exception as e:\n",
    "        print(f\"    Error generating MT Histogram: {e}\")\n",
    "\n",
    "    # --- Save Plots ---\n",
    "    plots_to_save = {\n",
    "        \"mt_bar\": fig_mt_bar,\n",
    "        \"delta_bar\": fig_delta_bar,\n",
    "        \"delta_scatter\": fig_delta_scatter,\n",
    "        \"mt_histogram\": fig_mt_hist\n",
    "    }\n",
    "    print(f\"  Saving plots for {scenario_id} to {output_dir}...\")\n",
    "    kaleido_error_logged = False # Track if Kaleido error was shown\n",
    "\n",
    "    for name, fig in plots_to_save.items():\n",
    "        if fig is None:\n",
    "            print(f\"    Skipping saving/display for '{name}' plot (generation failed).\")\n",
    "            continue\n",
    "\n",
    "        base_filename = os.path.join(output_dir, f\"Scenario_{scenario_id}_Plot_{name}\") # More descriptive name\n",
    "\n",
    "        # Save HTML (Interactive)\n",
    "        html_filename = f\"{base_filename}.html\"\n",
    "        try: fig.write_html(html_filename)\n",
    "        except Exception as e: print(f\"    Error saving HTML '{html_filename}': {e}\")\n",
    "\n",
    "        # Save Static (Requires Kaleido)\n",
    "        for fmt, scale in [('svg', 1), ('pdf', 1), ('png', 3)]: # Added PDF, increased PNG scale\n",
    "            static_filename = f\"{base_filename}.{fmt}\"\n",
    "            try:\n",
    "                fig.write_image(static_filename, scale=scale)\n",
    "                # print(f\"    Successfully saved {static_filename}\") # Optional: print success message\n",
    "            except ValueError as e:\n",
    "                if \"kaleido\" in str(e).lower() and not kaleido_error_logged:\n",
    "                    print(\"\\n    --- KALEIDO WARNING ---\")\n",
    "                    print(\"    Static image export (SVG, PDF, PNG) requires Kaleido.\")\n",
    "                    print(\"    Install with: pip install -U kaleido\")\n",
    "                    print(\"    Alternatively, use Orca or export manually from HTML.\")\n",
    "                    print(\"    Skipping further static saving attempts if Kaleido is missing.\")\n",
    "                    print(\"    -----------------------\\n\")\n",
    "                    kaleido_error_logged = True\n",
    "                elif \"kaleido\" not in str(e).lower():\n",
    "                     print(f\"    Error saving static image '{static_filename}' (Format: {fmt}): {e}\")\n",
    "                # If Kaleido error already logged, just silently skip other formats\n",
    "                break # Stop trying static formats for this figure if kaleido error occurred\n",
    "            except Exception as e:\n",
    "                 print(f\"    Unexpected error saving static image '{static_filename}' (Format: {fmt}): {e}\")\n",
    "                 break # Stop trying static formats for this figure\n",
    "\n",
    "        # --- DISPLAY PLOT (Optional) ---\n",
    "        if show_plots:\n",
    "            print(f\"    Displaying {name} plot...\")\n",
    "            fig.show()\n",
    "        # ---------------------------------\n",
    "\n",
    "    print(f\"--- Plot generation and saving complete for Scenario: {scenario_id} ---\")\n",
    "\n",
    "\n",
    "# %% Main Execution Logic - Focused on Single Scenario\n",
    "\n",
    "def main_analyze_single_scenario(data, scenario_id_to_analyze, cti=CTI, show_interactive_plots=False): # Added show_plots flag\n",
    "    \"\"\"\n",
    "    Loads data, performs analysis, generates detailed table, stats, and plots\n",
    "    SPECIFICALLY for the given scenario_id_to_analyze.\n",
    "    Controls whether interactive plots are displayed.\n",
    "    \"\"\"\n",
    "    print(f\"--- Starting Analysis for Single Scenario: {scenario_id_to_analyze} ---\")\n",
    "    print(f\"Using CTI = {cti}s\")\n",
    "\n",
    "    # --- Ensure Output Directory Exists ---\n",
    "    try:\n",
    "        os.makedirs(output_dir, exist_ok=True)\n",
    "        print(f\"Results will be saved in: {output_dir}\")\n",
    "    except OSError as e:\n",
    "        print(f\"Error: Could not create output directory '{output_dir}'. Check permissions. Error: {e}\")\n",
    "        return\n",
    "\n",
    "    # --- Analyze Data ---\n",
    "    all_results = analyze_by_scenario(data, cti)\n",
    "\n",
    "    if not all_results:\n",
    "        print(\"Error: Analysis yielded no results. Check input data.\")\n",
    "        return\n",
    "\n",
    "    # --- Detailed Analysis for the Specified Scenario ---\n",
    "    if scenario_id_to_analyze in all_results:\n",
    "        print(f\"\\n--- Processing Detailed Analysis for: {scenario_id_to_analyze} ---\")\n",
    "        scenario_result = all_results[scenario_id_to_analyze]\n",
    "        detailed_df = scenario_result.get(\"detailed_df\")\n",
    "\n",
    "        if detailed_df is not None and not detailed_df.empty:\n",
    "            try:\n",
    "                detailed_df_sorted = detailed_df.sort_values(by=\"mt\", ascending=True).reset_index(drop=True)\n",
    "            except KeyError:\n",
    "                 print(f\"Error: 'mt' column not found in DataFrame for scenario {scenario_id_to_analyze}.\")\n",
    "                 return\n",
    "\n",
    "            # --- Coordination Summary ---\n",
    "            print(\"\\n--- Coordination Summary ---\")\n",
    "            n_total = len(detailed_df_sorted)\n",
    "            n_coord = len(detailed_df_sorted[detailed_df_sorted['status'] == 'Coordinated'])\n",
    "            n_descoord = n_total - n_coord\n",
    "            coord_pct = (n_coord / n_total * 100) if n_total > 0 else 0\n",
    "            descoord_pct = (n_descoord / n_total * 100) if n_total > 0 else 0\n",
    "            print(f\"Total Pairs Analyzed: {n_total}\")\n",
    "            print(f\"Coordinated Pairs (Δt >= 0): {n_coord} ({coord_pct:.1f}%)\")\n",
    "            print(f\"Miscoordinated Pairs (Δt < 0): {n_descoord} ({descoord_pct:.1f}%)\") # Changed label\n",
    "\n",
    "            print(\"\\n--- MT Statistics ---\")\n",
    "            try:\n",
    "                # Use formatting for better alignment in print\n",
    "                print(detailed_df_sorted['mt'].describe().to_frame().T.to_string(\n",
    "                    formatters={'count': '{:,.0f}'.format, 'mean': '{:,.4f}'.format,\n",
    "                                'std': '{:,.4f}'.format, 'min': '{:,.4f}'.format,\n",
    "                                '25%': '{:,.4f}'.format, '50%': '{:,.4f}'.format,\n",
    "                                '75%': '{:,.4f}'.format, 'max': '{:,.4f}'.format}\n",
    "                ))\n",
    "            except Exception as e:\n",
    "                print(f\"  Could not generate MT statistics: {e}\")\n",
    "            print(f\"TMT (Sum of MT): {scenario_result.get('TMT', 0):.5f}\")\n",
    "\n",
    "\n",
    "            # --- Identify and Print Worst Miscoordinated Pair(s) ---\n",
    "            miscoordinated_pairs = detailed_df_sorted[detailed_df_sorted['status'] == 'Miscoordinated'] # Changed label\n",
    "            if not miscoordinated_pairs.empty:\n",
    "                worst_pair = miscoordinated_pairs.loc[miscoordinated_pairs['mt'].idxmin()] # Single worst\n",
    "\n",
    "                print(\"\\n--- Most Miscoordinated Pair (Lowest MT) ---\")\n",
    "                print(f\"  Pair (P-R): {worst_pair['pair_label']}\")\n",
    "                print(f\"  MT:         {worst_pair['mt']:.4f}\")\n",
    "                print(f\"  Δt:         {worst_pair['delta_t']:.4f} s\")\n",
    "                print(f\"  Tm:         {worst_pair['tm']:.4f} s\")\n",
    "                print(f\"  Tb:         {worst_pair['tb']:.4f} s\")\n",
    "                print(f\"  Line:       {worst_pair['line']}\")\n",
    "                print(f\"  Fault:      {worst_pair['fault']}\")\n",
    "\n",
    "                # --- Top N Worst Pairs Table ---\n",
    "                print(\"\\n--- Top 10 Miscoordinated Pairs (by MT) ---\")\n",
    "                worst_pairs_display = miscoordinated_pairs.head(10)\n",
    "                display_cols = ['pair_label', 'mt', 'delta_t', 'tm', 'tb', 'line', 'fault']\n",
    "                existing_display_cols = [col for col in display_cols if col in worst_pairs_display.columns]\n",
    "                # Create a copy to avoid SettingWithCopyWarning\n",
    "                worst_pairs_display_formatted = worst_pairs_display[existing_display_cols].copy()\n",
    "                # Rename columns for display\n",
    "                worst_pairs_display_formatted = worst_pairs_display_formatted.rename(\n",
    "                    columns={'pair_label': 'Pair (P-R)', 'delta_t': 'Δt [s]', 'mt': 'MT',\n",
    "                             'tm': 'Tm [s]', 'tb': 'Tb [s]', 'line': 'Line', 'fault': 'Fault'})\n",
    "                # Format float columns\n",
    "                float_cols = worst_pairs_display_formatted.select_dtypes(include=['float']).columns\n",
    "                for col in float_cols:\n",
    "                     worst_pairs_display_formatted[col] = worst_pairs_display_formatted[col].map('{:.4f}'.format)\n",
    "                # Print using pandas settings for better control\n",
    "                pd.set_option('display.max_rows', 20)\n",
    "                pd.set_option('display.max_columns', None) # Show all columns\n",
    "                pd.set_option('display.width', 150)       # Adjust width\n",
    "                print(worst_pairs_display_formatted.to_string(index=False))\n",
    "                pd.reset_option('display.max_rows')\n",
    "                pd.reset_option('display.max_columns')\n",
    "                pd.reset_option('display.width')\n",
    "            else:\n",
    "                print(\"\\n--- Excellent! No miscoordinated pairs found in this scenario. ---\")\n",
    "\n",
    "            # --- Save Detailed DataFrame to CSV ---\n",
    "            csv_filename = os.path.join(output_dir, f\"Scenario_{scenario_id_to_analyze}_DetailedResults.csv\") # Use os.path.join & new name\n",
    "            print(f\"\\nSaving detailed results to CSV: {csv_filename}\")\n",
    "            try:\n",
    "                detailed_df_sorted.to_csv(csv_filename, index=False, encoding='utf-8-sig', float_format='%.6f') # More precision\n",
    "                print(f\"  Successfully saved.\")\n",
    "            except Exception as e:\n",
    "                print(f\"  Error saving detailed CSV: {e}\")\n",
    "\n",
    "            # --- Generate AND Optionally DISPLAY Plotly Plots ---\n",
    "            plot_scenario_details_plotly(\n",
    "                detailed_df_sorted,\n",
    "                scenario_id_to_analyze,\n",
    "                output_dir,\n",
    "                cti,\n",
    "                show_plots=show_interactive_plots # Pass the flag here\n",
    "            )\n",
    "\n",
    "        else:\n",
    "            print(f\"No valid pair data found in DataFrame to generate table or plots for {scenario_id_to_analyze}.\")\n",
    "\n",
    "    else:\n",
    "        print(f\"Error: Scenario '{scenario_id_to_analyze}' not found in analysis results.\")\n",
    "        available_scenarios = list(all_results.keys()) if all_results else \"None\"\n",
    "        print(f\"Available scenarios found: {available_scenarios}\")\n",
    "\n",
    "    print(f\"\\n--- Analysis Complete for Scenario: {scenario_id_to_analyze} ---\")\n",
    "\n",
    "\n",
    "# %% Script Entry Point - Execute Analysis for Scenario 1\n",
    "\n",
    "if __name__ == \"__main__\":\n",
    "    print(\"============================================\")\n",
    "    print(\"=== Relay Coordination Analysis Script ===\")\n",
    "    print(\"=== Mode: Analyze Scenario 1 (Pub Quality) ===\")\n",
    "    print(\"============================================\")\n",
    "\n",
    "    # --- Dummy data creation (kept for standalone execution) ---\n",
    "    # (No changes needed here, ensures script can run if file missing)\n",
    "    if not os.path.exists(os.path.dirname(json_file_path)):\n",
    "         os.makedirs(os.path.dirname(json_file_path), exist_ok=True)\n",
    "         # print(f\"Created dummy directory: {os.path.dirname(json_file_path)}\") # Less verbose\n",
    "\n",
    "    if not os.path.exists(json_file_path):\n",
    "        print(f\"Warning: JSON file '{json_file_path}' not found. Creating a dummy file.\")\n",
    "        dummy_data = [\n",
    "            {\"scenario_id\": \"scenario_1\", \"main_relay\": {\"relay\": \"P1\", \"Time_out\": 0.1, \"line\": \"L1\", \"fault\": \"F1\"}, \"backup_relay\": {\"relay\": \"R1\", \"Time_out\": 0.35}}, # Coordinated dt=0.05\n",
    "            {\"scenario_id\": \"scenario_1\", \"main_relay\": {\"relay\": \"P2\", \"Time_out\": 0.2, \"line\": \"L2\", \"fault\": \"F1\"}, \"backup_relay\": {\"relay\": \"R2\", \"Time_out\": 0.3}}, # Uncoordinated dt=-0.1, mt=-0.1\n",
    "            {\"scenario_id\": \"scenario_1\", \"main_relay\": {\"relay\": \"P3\", \"Time_out\": 0.15, \"line\": \"L1\", \"fault\": \"F2\"}, \"backup_relay\": {\"relay\": \"R3\", \"Time_out\": 0.25}}, # Uncoordinated dt=-0.1, mt=-0.1\n",
    "            {\"scenario_id\": \"scenario_1\", \"main_relay\": {\"relay\": \"P4\", \"Time_out\": 0.25, \"line\": \"L3\", \"fault\": \"F3\"}, \"backup_relay\": {\"relay\": \"R4\", \"Time_out\": 0.3}}, # Uncoordinated dt=-0.15, mt=-0.15 <- Worst\n",
    "            {\"scenario_id\": \"scenario_1\", \"main_relay\": {\"relay\": \"P5\", \"Time_out\": 0.3, \"line\": \"L2\", \"fault\": \"F2\"}, \"backup_relay\": {\"relay\": \"R5\", \"Time_out\": 0.6}}, # Coordinated dt=0.1\n",
    "            {\"scenario_id\": \"scenario_2\", \"main_relay\": {\"relay\": \"P6\", \"Time_out\": 0.1, \"line\": \"L4\", \"fault\": \"F4\"}, \"backup_relay\": {\"relay\": \"R6\", \"Time_out\": 0.4}}\n",
    "        ]\n",
    "        try:\n",
    "            with open(json_file_path, 'w', encoding='utf-8') as f: json.dump(dummy_data, f, indent=2)\n",
    "            print(f\"Successfully created dummy file: {json_file_path}\")\n",
    "        except Exception as e:\n",
    "            print(f\"Error creating dummy file: {e}\")\n",
    "            exit()\n",
    "\n",
    "    # --- Main execution ---\n",
    "    try:\n",
    "        print(f\"Attempting to load data from: {json_file_path}\")\n",
    "        if not os.path.exists(json_file_path):\n",
    "             abs_path = os.path.abspath(json_file_path)\n",
    "             raise FileNotFoundError(f\"JSON file not found: '{json_file_path}' (Absolute: '{abs_path}')\")\n",
    "        if not os.path.isfile(json_file_path):\n",
    "             raise FileNotFoundError(f\"Specified path is not a file: '{json_file_path}'\")\n",
    "\n",
    "        with open(json_file_path, 'r', encoding='utf-8') as file:\n",
    "            first_char = file.read(1)\n",
    "            if not first_char: raise ValueError(\"JSON file appears to be empty.\")\n",
    "            file.seek(0); data = json.load(file)\n",
    "\n",
    "        if not isinstance(data, list):\n",
    "            raise TypeError(f\"Expected JSON root to be a List '[]', found type '{type(data)}'.\")\n",
    "        if not data:\n",
    "             print(\"Warning: JSON file loaded, but the list is empty.\")\n",
    "\n",
    "        print(f\"Successfully loaded {len(data)} records from JSON.\")\n",
    "\n",
    "        # --- Run the main analysis function ---\n",
    "        TARGET_SCENARIO = \"scenario_1\"\n",
    "        # Set show_interactive_plots=True if you want to see plots during runs,\n",
    "        # False if you only want to save the files (e.g., for batch processing)\n",
    "        SHOW_PLOTS_INTERACTIVELY = True\n",
    "\n",
    "        if data: # Only run if data was loaded\n",
    "            main_analyze_single_scenario(\n",
    "                data,\n",
    "                scenario_id_to_analyze=TARGET_SCENARIO,\n",
    "                cti=CTI,\n",
    "                show_interactive_plots=SHOW_PLOTS_INTERACTIVELY\n",
    "            )\n",
    "        else:\n",
    "            print(\"Skipping analysis as no data was loaded.\")\n",
    "\n",
    "    # --- Exception Handling (More specific messages) ---\n",
    "    except FileNotFoundError as e: print(f\"\\n--- Error: File Not Found ---\\n{e}\\n*** Please ensure 'json_file_path' is correct. ***\")\n",
    "    except ValueError as e: print(f\"\\n--- Error: Value Error ---\\n{e}\")\n",
    "    except TypeError as e: print(f\"\\n--- Error: Type Error ---\\n{e}\\n*** Check if JSON structure is a list of objects. ***\")\n",
    "    except json.JSONDecodeError as e: print(f\"\\n--- Error: JSON Decode Error ---\\n{e.msg} at Line {e.lineno}, Col {e.colno}.\\n*** Check JSON syntax in '{json_file_path}'. ***\")\n",
    "    except KeyError as e: print(f\"\\n--- Error: Missing Key Error ---\\nRequired key {e} not found in the JSON data.\\n*** Check data structure consistency. ***\")\n",
    "    except ImportError as e: print(f\"\\n--- Error: Import Error ---\\nMissing library: {e}. Please install required libraries (plotly, pandas, numpy, kaleido).\")\n",
    "    except Exception as e:\n",
    "        print(f\"\\n--- An Unexpected Error Occurred ---\")\n",
    "        print(f\"Error Type: {type(e).__name__}\")\n",
    "        print(f\"Error Details: {str(e)}\")\n",
    "        print(\"\\n--- Traceback ---\"); traceback.print_exc(); print(\"-----------------\")\n",
    "\n",
    "    print(\"\\n============================================\")\n",
    "    print(\"=== Script Execution Finished ===\")\n",
    "    print(\"============================================\")"
   ]
  },
  {
   "cell_type": "code",
   "execution_count": 17,
   "metadata": {},
   "outputs": [
    {
     "name": "stdout",
     "output_type": "stream",
     "text": [
      "============================================\n",
      "=== Relay Coordination Analysis Script ===\n",
      "===       Mode: Analyze Scenario 1       ===\n",
      "============================================\n",
      "Attempting to load data from: /Users/gustavo/Documents/Projects/TESIS_UNAL/ADAPTIVE_ALGORITHM/data/processed/independent_relay_pairs_optimization.json\n",
      "Successfully loaded 6800 records from JSON.\n",
      "--- Starting Analysis for Single Scenario: scenario_1 ---\n",
      "Using CTI = 0.2s\n",
      "Results will be saved in: /Users/gustavo/Documents/Projects/TESIS_UNAL/ADAPTIVE_ALGORITHM/results/coordination_plots\n",
      "Starting data extraction and processing for scenarios...\n",
      "Data extraction complete. Processed pairs: 6800, Skipped records/pairs: 0\n",
      "Aggregating results per scenario...\n",
      "Scenario aggregation complete.\n",
      "\n",
      "--- Processing Detailed Analysis for: scenario_1 ---\n",
      "\n",
      "--- Resumen de Coordinación ---\n",
      "Total Pares Analizados: 100\n",
      "Pares Coordinados (Δt >= 0): 87 (87.0%)\n",
      "Pares Descoordinados (Δt < 0): 13 (13.0%)\n",
      "\n",
      "--- Estadísticas del Índice MT ---\n",
      "count    100.000000\n",
      "mean      -0.007393\n",
      "std        0.025476\n",
      "min       -0.139000\n",
      "25%        0.000000\n",
      "50%        0.000000\n",
      "75%        0.000000\n",
      "max        0.000000\n",
      "TMT (Suma MT): -0.73930\n",
      "\n",
      "--- Par Más Descoordinado (Peor MT) ---\n",
      "Par (P-R): R19-R18\n",
      "MT:        -0.1390\n",
      "Δt:        -0.1390 s\n",
      "Tm:        1.5523 s\n",
      "Tb:        1.6133 s\n",
      "Línea:     L19-20\n",
      "Falla:     10\n",
      "\n",
      "--- Top 10 Pares con Mayor Descoordinación (Ordenados por Peor MT) ---\n",
      "Par (P-R)      mt      Δt     tm     tb  Línea Falla\n",
      "  R19-R18 -0.1390 -0.1390 1.5523 1.6133 L19-20    10\n",
      "  R11-R10 -0.1201 -0.1201 1.9870 2.0669 L11-12    10\n",
      "  R12-R11 -0.1069 -0.1069 2.0294 2.1225 L12-13    10\n",
      "   R10-R9 -0.0967 -0.0967 2.0165 2.1198 L10-11    10\n",
      "  R23-R22 -0.0750 -0.0750 2.1218 2.2468 L23-24    10\n",
      "  R44-R70 -0.0652 -0.0652 2.4149 2.5497   L7-8    90\n",
      "  R13-R12 -0.0644 -0.0644 2.3337 2.4693 L13-14    10\n",
      "  R17-R16 -0.0255 -0.0255 2.5522 2.7267 L17-18    10\n",
      "  R20-R19 -0.0156 -0.0156 1.8801 2.0645 L20-21    10\n",
      "  R70-R20 -0.0116 -0.0116 1.8668 2.0552  L8-21    90\n",
      "\n",
      "Saving detailed results to CSV: /Users/gustavo/Documents/Projects/TESIS_UNAL/ADAPTIVE_ALGORITHM/results/coordination_plots/scenario_1_detailed_results.csv\n",
      "  Successfully saved.\n",
      "\n",
      "--- Generating Plots for Scenario: scenario_1 ---\n",
      "  Generating MT Bar Chart...\n",
      "  Generating Delta_t Bar Chart...\n",
      "  Generating Delta_t Scatter Plot...\n",
      "  Generating MT Histogram...\n",
      "  Saving plots for scenario_1...\n",
      "    Displaying mt_bar plot...\n"
     ]
    },
    {
     "data": {
      "application/vnd.plotly.v1+json": {
       "config": {
        "plotlyServerURL": "https://plot.ly"
       },
       "data": [
        {
         "hoverinfo": "text",
         "marker": {
          "color": [
           "red",
           "red",
           "red",
           "red",
           "red",
           "red",
           "red",
           "red",
           "red",
           "red",
           "red",
           "red",
           "red",
           "green",
           "green",
           "green",
           "green",
           "green",
           "green",
           "green",
           "green",
           "green",
           "green",
           "green",
           "green",
           "green",
           "green",
           "green",
           "green",
           "green",
           "green",
           "green",
           "green",
           "green",
           "green",
           "green",
           "green",
           "green",
           "green",
           "green",
           "green",
           "green",
           "green",
           "green",
           "green",
           "green",
           "green",
           "green",
           "green",
           "green",
           "green",
           "green",
           "green",
           "green",
           "green",
           "green",
           "green",
           "green",
           "green",
           "green",
           "green",
           "green",
           "green",
           "green",
           "green",
           "green",
           "green",
           "green",
           "green",
           "green",
           "green",
           "green",
           "green",
           "green",
           "green",
           "green",
           "green",
           "green",
           "green",
           "green",
           "green",
           "green",
           "green",
           "green",
           "green",
           "green",
           "green",
           "green",
           "green",
           "green",
           "green",
           "green",
           "green",
           "green",
           "green",
           "green",
           "green",
           "green",
           "green",
           "green"
          ]
         },
         "name": "Índice MT",
         "text": [
          "<b>R19-R18</b><br>Índice Plot: 1<br>MT: -0.1390 | <b>Δt: -0.1390s</b><br>Tm: 1.5523s | Tb: 1.6133s<br>Línea: L19-20 | Falla: 10<br>Estado: Descoordinado<extra></extra>",
          "<b>R11-R10</b><br>Índice Plot: 2<br>MT: -0.1201 | <b>Δt: -0.1201s</b><br>Tm: 1.9870s | Tb: 2.0669s<br>Línea: L11-12 | Falla: 10<br>Estado: Descoordinado<extra></extra>",
          "<b>R12-R11</b><br>Índice Plot: 3<br>MT: -0.1069 | <b>Δt: -0.1069s</b><br>Tm: 2.0294s | Tb: 2.1225s<br>Línea: L12-13 | Falla: 10<br>Estado: Descoordinado<extra></extra>",
          "<b>R10-R9</b><br>Índice Plot: 4<br>MT: -0.0967 | <b>Δt: -0.0967s</b><br>Tm: 2.0165s | Tb: 2.1198s<br>Línea: L10-11 | Falla: 10<br>Estado: Descoordinado<extra></extra>",
          "<b>R23-R22</b><br>Índice Plot: 5<br>MT: -0.0750 | <b>Δt: -0.0750s</b><br>Tm: 2.1218s | Tb: 2.2468s<br>Línea: L23-24 | Falla: 10<br>Estado: Descoordinado<extra></extra>",
          "<b>R44-R70</b><br>Índice Plot: 6<br>MT: -0.0652 | <b>Δt: -0.0652s</b><br>Tm: 2.4149s | Tb: 2.5497s<br>Línea: L7-8 | Falla: 90<br>Estado: Descoordinado<extra></extra>",
          "<b>R13-R12</b><br>Índice Plot: 7<br>MT: -0.0644 | <b>Δt: -0.0644s</b><br>Tm: 2.3337s | Tb: 2.4693s<br>Línea: L13-14 | Falla: 10<br>Estado: Descoordinado<extra></extra>",
          "<b>R17-R16</b><br>Índice Plot: 8<br>MT: -0.0255 | <b>Δt: -0.0255s</b><br>Tm: 2.5522s | Tb: 2.7267s<br>Línea: L17-18 | Falla: 10<br>Estado: Descoordinado<extra></extra>",
          "<b>R20-R19</b><br>Índice Plot: 9<br>MT: -0.0156 | <b>Δt: -0.0156s</b><br>Tm: 1.8801s | Tb: 2.0645s<br>Línea: L20-21 | Falla: 10<br>Estado: Descoordinado<extra></extra>",
          "<b>R70-R20</b><br>Índice Plot: 10<br>MT: -0.0116 | <b>Δt: -0.0116s</b><br>Tm: 1.8668s | Tb: 2.0552s<br>Línea: L8-21 | Falla: 90<br>Estado: Descoordinado<extra></extra>",
          "<b>R15-R34</b><br>Índice Plot: 11<br>MT: -0.0093 | <b>Δt: -0.0093s</b><br>Tm: 2.3380s | Tb: 2.5287s<br>Línea: L15-16 | Falla: 10<br>Estado: Descoordinado<extra></extra>",
          "<b>R15-R14</b><br>Índice Plot: 12<br>MT: -0.0072 | <b>Δt: -0.0072s</b><br>Tm: 2.3380s | Tb: 2.5308s<br>Línea: L15-16 | Falla: 10<br>Estado: Descoordinado<extra></extra>",
          "<b>R24-R23</b><br>Índice Plot: 13<br>MT: -0.0028 | <b>Δt: -0.0028s</b><br>Tm: 2.4064s | Tb: 2.6036s<br>Línea: L24-25 | Falla: 10<br>Estado: Descoordinado<extra></extra>",
          "<b>R51-R52</b><br>Índice Plot: 14<br>MT: 0.0000 | <b>Δt: 0.0667s</b><br>Tm: 1.8980s | Tb: 2.1647s<br>Línea: L14-15 | Falla: 90<br>Estado: Coordinado<extra></extra>",
          "<b>R38-R55</b><br>Índice Plot: 15<br>MT: 0.0000 | <b>Δt: 1.7861s</b><br>Tm: 0.1989s | Tb: 2.1850s<br>Línea: L1-2 | Falla: 90<br>Estado: Coordinado<extra></extra>",
          "<b>R47-R48</b><br>Índice Plot: 16<br>MT: 0.0000 | <b>Δt: 0.0215s</b><br>Tm: 1.9344s | Tb: 2.1559s<br>Línea: L10-11 | Falla: 90<br>Estado: Coordinado<extra></extra>",
          "<b>R48-R49</b><br>Índice Plot: 17<br>MT: 0.0000 | <b>Δt: 0.0219s</b><br>Tm: 2.0627s | Tb: 2.2846s<br>Línea: L11-12 | Falla: 90<br>Estado: Coordinado<extra></extra>",
          "<b>R48-R72</b><br>Índice Plot: 18<br>MT: 0.0000 | <b>Δt: 0.0439s</b><br>Tm: 2.0627s | Tb: 2.3066s<br>Línea: L11-12 | Falla: 90<br>Estado: Coordinado<extra></extra>",
          "<b>R12-R72</b><br>Índice Plot: 19<br>MT: 0.0000 | <b>Δt: 0.1267s</b><br>Tm: 2.0294s | Tb: 2.3561s<br>Línea: L12-13 | Falla: 10<br>Estado: Coordinado<extra></extra>",
          "<b>R49-R50</b><br>Índice Plot: 20<br>MT: 0.0000 | <b>Δt: 0.0335s</b><br>Tm: 1.7994s | Tb: 2.0329s<br>Línea: L12-13 | Falla: 90<br>Estado: Coordinado<extra></extra>",
          "<b>R50-R51</b><br>Índice Plot: 21<br>MT: 0.0000 | <b>Δt: 0.0032s</b><br>Tm: 1.8518s | Tb: 2.0550s<br>Línea: L13-14 | Falla: 90<br>Estado: Coordinado<extra></extra>",
          "<b>R14-R13</b><br>Índice Plot: 22<br>MT: 0.0000 | <b>Δt: 0.0585s</b><br>Tm: 2.3044s | Tb: 2.5629s<br>Línea: L14-15 | Falla: 10<br>Estado: Coordinado<extra></extra>",
          "<b>R54-R73</b><br>Índice Plot: 23<br>MT: 0.0000 | <b>Δt: 0.0757s</b><br>Tm: 2.2353s | Tb: 2.5110s<br>Línea: L17-18 | Falla: 90<br>Estado: Coordinado<extra></extra>",
          "<b>R18-R39</b><br>Índice Plot: 24<br>MT: 0.0000 | <b>Δt: 0.0653s</b><br>Tm: 1.4531s | Tb: 1.7184s<br>Línea: L2-19 | Falla: 10<br>Estado: Coordinado<extra></extra>",
          "<b>R52-R53</b><br>Índice Plot: 25<br>MT: 0.0000 | <b>Δt: 0.0894s</b><br>Tm: 2.0266s | Tb: 2.3160s<br>Línea: L15-16 | Falla: 90<br>Estado: Coordinado<extra></extra>",
          "<b>R16-R15</b><br>Índice Plot: 26<br>MT: 0.0000 | <b>Δt: 0.0752s</b><br>Tm: 2.3050s | Tb: 2.5802s<br>Línea: L16-17 | Falla: 10<br>Estado: Coordinado<extra></extra>",
          "<b>R53-R54</b><br>Índice Plot: 27<br>MT: 0.0000 | <b>Δt: 0.1214s</b><br>Tm: 2.0604s | Tb: 2.3818s<br>Línea: L16-17 | Falla: 90<br>Estado: Coordinado<extra></extra>",
          "<b>R55-R56</b><br>Índice Plot: 28<br>MT: 0.0000 | <b>Δt: 0.0660s</b><br>Tm: 1.8282s | Tb: 2.0942s<br>Línea: L2-19 | Falla: 90<br>Estado: Coordinado<extra></extra>",
          "<b>R36-R17</b><br>Índice Plot: 29<br>MT: 0.0000 | <b>Δt: 0.0232s</b><br>Tm: 2.5008s | Tb: 2.7240s<br>Línea: L18-33 | Falla: 10<br>Estado: Coordinado<extra></extra>",
          "<b>R73-R32</b><br>Índice Plot: 30<br>MT: 0.0000 | <b>Δt: 0.0991s</b><br>Tm: 2.3767s | Tb: 2.6758s<br>Línea: L18-33 | Falla: 90<br>Estado: Coordinado<extra></extra>",
          "<b>R56-R57</b><br>Índice Plot: 31<br>MT: 0.0000 | <b>Δt: 0.0045s</b><br>Tm: 1.5655s | Tb: 1.7700s<br>Línea: L19-20 | Falla: 90<br>Estado: Coordinado<extra></extra>",
          "<b>R51-R34</b><br>Índice Plot: 32<br>MT: 0.0000 | <b>Δt: 0.4307s</b><br>Tm: 1.8980s | Tb: 2.5287s<br>Línea: L14-15 | Falla: 90<br>Estado: Coordinado<extra></extra>",
          "<b>R2-R1</b><br>Índice Plot: 33<br>MT: 0.0000 | <b>Δt: 0.0944s</b><br>Tm: 1.9891s | Tb: 2.2835s<br>Línea: L2-3 | Falla: 10<br>Estado: Coordinado<extra></extra>",
          "<b>R71-R14</b><br>Índice Plot: 34<br>MT: 0.0000 | <b>Δt: 1.0817s</b><br>Tm: 1.3400s | Tb: 2.6217s<br>Línea: L9-15 | Falla: 90<br>Estado: Coordinado<extra></extra>",
          "<b>R26-R25</b><br>Índice Plot: 35<br>MT: 0.0000 | <b>Δt: 0.0492s</b><br>Tm: 2.2805s | Tb: 2.5297s<br>Línea: L26-27 | Falla: 10<br>Estado: Coordinado<extra></extra>",
          "<b>R39-R40</b><br>Índice Plot: 36<br>MT: 0.0000 | <b>Δt: 0.7327s</b><br>Tm: 1.1999s | Tb: 2.1326s<br>Línea: L2-3 | Falla: 90<br>Estado: Coordinado<extra></extra>",
          "<b>R39-R59</b><br>Índice Plot: 37<br>MT: 0.0000 | <b>Δt: 0.9717s</b><br>Tm: 1.1999s | Tb: 2.3716s<br>Línea: L2-3 | Falla: 90<br>Estado: Coordinado<extra></extra>",
          "<b>R57-R58</b><br>Índice Plot: 38<br>MT: 0.0000 | <b>Δt: 0.0650s</b><br>Tm: 1.6605s | Tb: 1.9255s<br>Línea: L20-21 | Falla: 90<br>Estado: Coordinado<extra></extra>",
          "<b>R57-R33</b><br>Índice Plot: 39<br>MT: 0.0000 | <b>Δt: 0.0189s</b><br>Tm: 1.6605s | Tb: 1.8794s<br>Línea: L20-21 | Falla: 90<br>Estado: Coordinado<extra></extra>",
          "<b>R21-R20</b><br>Índice Plot: 40<br>MT: 0.0000 | <b>Δt: 0.3241s</b><br>Tm: 1.4986s | Tb: 2.0227s<br>Línea: L21-22 | Falla: 10<br>Estado: Coordinado<extra></extra>",
          "<b>R21-R33</b><br>Índice Plot: 41<br>MT: 0.0000 | <b>Δt: 0.2140s</b><br>Tm: 1.4986s | Tb: 1.9126s<br>Línea: L21-22 | Falla: 10<br>Estado: Coordinado<extra></extra>",
          "<b>R58-R35</b><br>Índice Plot: 42<br>MT: 0.0000 | <b>Δt: 0.0136s</b><br>Tm: 1.6871s | Tb: 1.9007s<br>Línea: L21-22 | Falla: 90<br>Estado: Coordinado<extra></extra>",
          "<b>R33-R7</b><br>Índice Plot: 43<br>MT: 0.0000 | <b>Δt: 0.3356s</b><br>Tm: 1.4160s | Tb: 1.9516s<br>Línea: L8-21 | Falla: 10<br>Estado: Coordinado<extra></extra>",
          "<b>R2-R55</b><br>Índice Plot: 44<br>MT: 0.0000 | <b>Δt: 0.2697s</b><br>Tm: 1.9891s | Tb: 2.4588s<br>Línea: L2-3 | Falla: 10<br>Estado: Coordinado<extra></extra>",
          "<b>R33-R45</b><br>Índice Plot: 45<br>MT: 0.0000 | <b>Δt: 1.1912s</b><br>Tm: 1.4160s | Tb: 2.8072s<br>Línea: L8-21 | Falla: 10<br>Estado: Coordinado<extra></extra>",
          "<b>R72-R21</b><br>Índice Plot: 46<br>MT: 0.0000 | <b>Δt: 0.0158s</b><br>Tm: 1.8478s | Tb: 2.0636s<br>Línea: L12-22 | Falla: 10<br>Estado: Coordinado<extra></extra>",
          "<b>R35-R11</b><br>Índice Plot: 47<br>MT: 0.0000 | <b>Δt: 0.9304s</b><br>Tm: 1.5177s | Tb: 2.6481s<br>Línea: L12-22 | Falla: 90<br>Estado: Coordinado<extra></extra>",
          "<b>R35-R49</b><br>Índice Plot: 48<br>MT: 0.0000 | <b>Δt: 1.4758s</b><br>Tm: 1.5177s | Tb: 3.1935s<br>Línea: L12-22 | Falla: 90<br>Estado: Coordinado<extra></extra>",
          "<b>R60-R61</b><br>Índice Plot: 49<br>MT: 0.0000 | <b>Δt: 0.0016s</b><br>Tm: 1.5096s | Tb: 1.7112s<br>Línea: L23-24 | Falla: 90<br>Estado: Coordinado<extra></extra>",
          "<b>R18-R1</b><br>Índice Plot: 50<br>MT: 0.0000 | <b>Δt: 0.6124s</b><br>Tm: 1.4531s | Tb: 2.2655s<br>Línea: L2-19 | Falla: 10<br>Estado: Coordinado<extra></extra>",
          "<b>R37-R24</b><br>Índice Plot: 51<br>MT: 0.0000 | <b>Δt: 0.0002s</b><br>Tm: 2.6099s | Tb: 2.8101s<br>Línea: L25-29 | Falla: 10<br>Estado: Coordinado<extra></extra>",
          "<b>R74-R28</b><br>Índice Plot: 52<br>MT: 0.0000 | <b>Δt: 1.0917s</b><br>Tm: 1.6779s | Tb: 2.9696s<br>Línea: L25-29 | Falla: 90<br>Estado: Coordinado<extra></extra>",
          "<b>R74-R66</b><br>Índice Plot: 53<br>MT: 0.0000 | <b>Δt: 0.3042s</b><br>Tm: 1.6779s | Tb: 2.1821s<br>Línea: L25-29 | Falla: 90<br>Estado: Coordinado<extra></extra>",
          "<b>R70-R58</b><br>Índice Plot: 54<br>MT: 0.0000 | <b>Δt: 0.0108s</b><br>Tm: 1.8668s | Tb: 2.0776s<br>Línea: L8-21 | Falla: 90<br>Estado: Coordinado<extra></extra>",
          "<b>R63-R64</b><br>Índice Plot: 55<br>MT: 0.0000 | <b>Δt: 0.0113s</b><br>Tm: 2.0625s | Tb: 2.2738s<br>Línea: L26-27 | Falla: 90<br>Estado: Coordinado<extra></extra>",
          "<b>R25-R5</b><br>Índice Plot: 56<br>MT: 0.0000 | <b>Δt: 0.0713s</b><br>Tm: 2.4072s | Tb: 2.6785s<br>Línea: L6-26 | Falla: 10<br>Estado: Coordinado<extra></extra>",
          "<b>R64-R65</b><br>Índice Plot: 57<br>MT: 0.0000 | <b>Δt: 0.0340s</b><br>Tm: 1.9583s | Tb: 2.1923s<br>Línea: L27-28 | Falla: 90<br>Estado: Coordinado<extra></extra>",
          "<b>R69-R36</b><br>Índice Plot: 58<br>MT: 0.0000 | <b>Δt: 0.0333s</b><br>Tm: 2.3775s | Tb: 2.6108s<br>Línea: L32-33 | Falla: 90<br>Estado: Coordinado<extra></extra>",
          "<b>R3-R2</b><br>Índice Plot: 59<br>MT: 0.0000 | <b>Δt: 0.0647s</b><br>Tm: 2.1218s | Tb: 2.3865s<br>Línea: L3-4 | Falla: 10<br>Estado: Coordinado<extra></extra>",
          "<b>R65-R37</b><br>Índice Plot: 60<br>MT: 0.0000 | <b>Δt: 0.7113s</b><br>Tm: 1.9594s | Tb: 2.8707s<br>Línea: L28-29 | Falla: 90<br>Estado: Coordinado<extra></extra>",
          "<b>R65-R66</b><br>Índice Plot: 61<br>MT: 0.0000 | <b>Δt: 0.0450s</b><br>Tm: 1.9594s | Tb: 2.2044s<br>Línea: L28-29 | Falla: 90<br>Estado: Coordinado<extra></extra>",
          "<b>R29-R28</b><br>Índice Plot: 62<br>MT: 0.0000 | <b>Δt: 0.1530s</b><br>Tm: 2.6166s | Tb: 2.9696s<br>Línea: L29-30 | Falla: 10<br>Estado: Coordinado<extra></extra>",
          "<b>R29-R37</b><br>Índice Plot: 63<br>MT: 0.0000 | <b>Δt: 0.0344s</b><br>Tm: 2.6166s | Tb: 2.8510s<br>Línea: L29-30 | Falla: 10<br>Estado: Coordinado<extra></extra>",
          "<b>R66-R67</b><br>Índice Plot: 64<br>MT: 0.0000 | <b>Δt: 0.0448s</b><br>Tm: 2.0653s | Tb: 2.3101s<br>Línea: L29-30 | Falla: 90<br>Estado: Coordinado<extra></extra>",
          "<b>R22-R2</b><br>Índice Plot: 65<br>MT: 0.0000 | <b>Δt: 0.2618s</b><br>Tm: 1.9394s | Tb: 2.4012s<br>Línea: L3-23 | Falla: 10<br>Estado: Coordinado<extra></extra>",
          "<b>R42-R62</b><br>Índice Plot: 66<br>MT: 0.0000 | <b>Δt: 0.0438s</b><br>Tm: 1.8509s | Tb: 2.0947s<br>Línea: L5-6 | Falla: 90<br>Estado: Coordinado<extra></extra>",
          "<b>R22-R40</b><br>Índice Plot: 67<br>MT: 0.0000 | <b>Δt: 0.0459s</b><br>Tm: 1.9394s | Tb: 2.1853s<br>Línea: L3-23 | Falla: 10<br>Estado: Coordinado<extra></extra>",
          "<b>R38-R39</b><br>Índice Plot: 68<br>MT: 0.0000 | <b>Δt: 1.2379s</b><br>Tm: 0.1989s | Tb: 1.6368s<br>Línea: L1-2 | Falla: 90<br>Estado: Coordinado<extra></extra>",
          "<b>R67-R68</b><br>Índice Plot: 69<br>MT: 0.0000 | <b>Δt: 0.0144s</b><br>Tm: 2.1176s | Tb: 2.3320s<br>Línea: L30-31 | Falla: 90<br>Estado: Coordinado<extra></extra>",
          "<b>R32-R31</b><br>Índice Plot: 70<br>MT: 0.0000 | <b>Δt: 0.1070s</b><br>Tm: 2.5315s | Tb: 2.8385s<br>Línea: L32-33 | Falla: 10<br>Estado: Coordinado<extra></extra>",
          "<b>R3-R59</b><br>Índice Plot: 71<br>MT: 0.0000 | <b>Δt: 0.2420s</b><br>Tm: 2.1218s | Tb: 2.5638s<br>Línea: L3-4 | Falla: 10<br>Estado: Coordinado<extra></extra>",
          "<b>R40-R41</b><br>Índice Plot: 72<br>MT: 0.0000 | <b>Δt: 0.0188s</b><br>Tm: 1.8337s | Tb: 2.0525s<br>Línea: L3-4 | Falla: 90<br>Estado: Coordinado<extra></extra>",
          "<b>R30-R29</b><br>Índice Plot: 73<br>MT: 0.0000 | <b>Δt: 0.2114s</b><br>Tm: 2.4651s | Tb: 2.8765s<br>Línea: L30-31 | Falla: 10<br>Estado: Coordinado<extra></extra>",
          "<b>R68-R69</b><br>Índice Plot: 74<br>MT: 0.0000 | <b>Δt: 0.0087s</b><br>Tm: 2.2508s | Tb: 2.4595s<br>Línea: L31-32 | Falla: 90<br>Estado: Coordinado<extra></extra>",
          "<b>R31-R30</b><br>Índice Plot: 75<br>MT: 0.0000 | <b>Δt: 0.0102s</b><br>Tm: 2.6913s | Tb: 2.9015s<br>Línea: L31-32 | Falla: 10<br>Estado: Coordinado<extra></extra>",
          "<b>R59-R60</b><br>Índice Plot: 76<br>MT: 0.0000 | <b>Δt: 0.0372s</b><br>Tm: 1.6106s | Tb: 1.8478s<br>Línea: L3-23 | Falla: 90<br>Estado: Coordinado<extra></extra>",
          "<b>R41-R42</b><br>Índice Plot: 77<br>MT: 0.0000 | <b>Δt: 0.0023s</b><br>Tm: 1.8954s | Tb: 2.0977s<br>Línea: L4-5 | Falla: 90<br>Estado: Coordinado<extra></extra>",
          "<b>R34-R46</b><br>Índice Plot: 78<br>MT: 0.0000 | <b>Δt: 0.7241s</b><br>Tm: 1.8600s | Tb: 2.7841s<br>Línea: L9-15 | Falla: 10<br>Estado: Coordinado<extra></extra>",
          "<b>R34-R8</b><br>Índice Plot: 79<br>MT: 0.0000 | <b>Δt: 0.0272s</b><br>Tm: 1.8600s | Tb: 2.0872s<br>Línea: L9-15 | Falla: 10<br>Estado: Coordinado<extra></extra>",
          "<b>R7-R6</b><br>Índice Plot: 80<br>MT: 0.0000 | <b>Δt: 0.0238s</b><br>Tm: 1.7384s | Tb: 1.9622s<br>Línea: L7-8 | Falla: 10<br>Estado: Coordinado<extra></extra>",
          "<b>R5-R4</b><br>Índice Plot: 81<br>MT: 0.0000 | <b>Δt: 0.0290s</b><br>Tm: 2.2100s | Tb: 2.4390s<br>Línea: L5-6 | Falla: 10<br>Estado: Coordinado<extra></extra>",
          "<b>R42-R43</b><br>Índice Plot: 82<br>MT: 0.0000 | <b>Δt: 0.6125s</b><br>Tm: 1.8509s | Tb: 2.6634s<br>Línea: L5-6 | Falla: 90<br>Estado: Coordinado<extra></extra>",
          "<b>R28-R27</b><br>Índice Plot: 83<br>MT: 0.0000 | <b>Δt: 0.0006s</b><br>Tm: 2.5829s | Tb: 2.7835s<br>Línea: L28-29 | Falla: 10<br>Estado: Coordinado<extra></extra>",
          "<b>R27-R26</b><br>Índice Plot: 84<br>MT: 0.0000 | <b>Δt: 0.0268s</b><br>Tm: 2.2492s | Tb: 2.4760s<br>Línea: L27-28 | Falla: 10<br>Estado: Coordinado<extra></extra>",
          "<b>R25-R43</b><br>Índice Plot: 85<br>MT: 0.0000 | <b>Δt: 0.0241s</b><br>Tm: 2.4072s | Tb: 2.6313s<br>Línea: L6-26 | Falla: 10<br>Estado: Coordinado<extra></extra>",
          "<b>R62-R63</b><br>Índice Plot: 86<br>MT: 0.0000 | <b>Δt: 0.0180s</b><br>Tm: 1.9479s | Tb: 2.1659s<br>Línea: L6-26 | Falla: 90<br>Estado: Coordinado<extra></extra>",
          "<b>R6-R5</b><br>Índice Plot: 87<br>MT: 0.0000 | <b>Δt: 0.6638s</b><br>Tm: 1.8263s | Tb: 2.6901s<br>Línea: L6-7 | Falla: 10<br>Estado: Coordinado<extra></extra>",
          "<b>R6-R62</b><br>Índice Plot: 88<br>MT: 0.0000 | <b>Δt: 0.0404s</b><br>Tm: 1.8263s | Tb: 2.0667s<br>Línea: L6-7 | Falla: 10<br>Estado: Coordinado<extra></extra>",
          "<b>R43-R44</b><br>Índice Plot: 89<br>MT: 0.0000 | <b>Δt: 0.0146s</b><br>Tm: 2.4393s | Tb: 2.6539s<br>Línea: L6-7 | Falla: 90<br>Estado: Coordinado<extra></extra>",
          "<b>R44-R45</b><br>Índice Plot: 90<br>MT: 0.0000 | <b>Δt: 0.0473s</b><br>Tm: 2.4149s | Tb: 2.6622s<br>Línea: L7-8 | Falla: 90<br>Estado: Coordinado<extra></extra>",
          "<b>R4-R3</b><br>Índice Plot: 91<br>MT: 0.0000 | <b>Δt: 0.0349s</b><br>Tm: 2.1654s | Tb: 2.4003s<br>Línea: L4-5 | Falla: 10<br>Estado: Coordinado<extra></extra>",
          "<b>R8-R7</b><br>Índice Plot: 92<br>MT: 0.0000 | <b>Δt: 0.0266s</b><br>Tm: 1.6771s | Tb: 1.9037s<br>Línea: L8-9 | Falla: 10<br>Estado: Coordinado<extra></extra>",
          "<b>R8-R70</b><br>Índice Plot: 93<br>MT: 0.0000 | <b>Δt: 0.7190s</b><br>Tm: 1.6771s | Tb: 2.5961s<br>Línea: L8-9 | Falla: 10<br>Estado: Coordinado<extra></extra>",
          "<b>R45-R46</b><br>Índice Plot: 94<br>MT: 0.0000 | <b>Δt: 0.0265s</b><br>Tm: 2.2619s | Tb: 2.4884s<br>Línea: L8-9 | Falla: 90<br>Estado: Coordinado<extra></extra>",
          "<b>R45-R71</b><br>Índice Plot: 95<br>MT: 0.0000 | <b>Δt: 0.0421s</b><br>Tm: 2.2619s | Tb: 2.5040s<br>Línea: L8-9 | Falla: 90<br>Estado: Coordinado<extra></extra>",
          "<b>R9-R8</b><br>Índice Plot: 96<br>MT: 0.0000 | <b>Δt: 0.0164s</b><br>Tm: 1.8166s | Tb: 2.0330s<br>Línea: L9-10 | Falla: 10<br>Estado: Coordinado<extra></extra>",
          "<b>R9-R71</b><br>Índice Plot: 97<br>MT: 0.0000 | <b>Δt: 0.6633s</b><br>Tm: 1.8166s | Tb: 2.6799s<br>Línea: L9-10 | Falla: 10<br>Estado: Coordinado<extra></extra>",
          "<b>R46-R47</b><br>Índice Plot: 98<br>MT: 0.0000 | <b>Δt: 0.0004s</b><br>Tm: 1.8203s | Tb: 2.0207s<br>Línea: L9-10 | Falla: 90<br>Estado: Coordinado<extra></extra>",
          "<b>R61-R74</b><br>Índice Plot: 99<br>MT: 0.0000 | <b>Δt: 0.0557s</b><br>Tm: 1.5339s | Tb: 1.7896s<br>Línea: L24-25 | Falla: 90<br>Estado: Coordinado<extra></extra>",
          "<b>R71-R52</b><br>Índice Plot: 100<br>MT: 0.0000 | <b>Δt: 0.6808s</b><br>Tm: 1.3400s | Tb: 2.2208s<br>Línea: L9-15 | Falla: 90<br>Estado: Coordinado<extra></extra>"
         ],
         "type": "bar",
         "x": [
          1,
          2,
          3,
          4,
          5,
          6,
          7,
          8,
          9,
          10,
          11,
          12,
          13,
          14,
          15,
          16,
          17,
          18,
          19,
          20,
          21,
          22,
          23,
          24,
          25,
          26,
          27,
          28,
          29,
          30,
          31,
          32,
          33,
          34,
          35,
          36,
          37,
          38,
          39,
          40,
          41,
          42,
          43,
          44,
          45,
          46,
          47,
          48,
          49,
          50,
          51,
          52,
          53,
          54,
          55,
          56,
          57,
          58,
          59,
          60,
          61,
          62,
          63,
          64,
          65,
          66,
          67,
          68,
          69,
          70,
          71,
          72,
          73,
          74,
          75,
          76,
          77,
          78,
          79,
          80,
          81,
          82,
          83,
          84,
          85,
          86,
          87,
          88,
          89,
          90,
          91,
          92,
          93,
          94,
          95,
          96,
          97,
          98,
          99,
          100
         ],
         "y": [
          -0.13900000000000007,
          -0.12010000000000015,
          -0.10689999999999983,
          -0.09670000000000006,
          -0.07500000000000001,
          -0.06519999999999976,
          -0.06439999999999985,
          -0.02549999999999991,
          -0.015600000000000336,
          -0.011599999999999888,
          -0.00929999999999992,
          -0.007199999999999929,
          -0.002799999999999969,
          0,
          0,
          0,
          0,
          0,
          0,
          0,
          0,
          0,
          0,
          0,
          0,
          0,
          0,
          0,
          0,
          0,
          0,
          0,
          0,
          0,
          0,
          0,
          0,
          0,
          0,
          0,
          0,
          0,
          0,
          0,
          0,
          0,
          0,
          0,
          0,
          0,
          0,
          0,
          0,
          0,
          0,
          0,
          0,
          0,
          0,
          0,
          0,
          0,
          0,
          0,
          0,
          0,
          0,
          0,
          0,
          0,
          0,
          0,
          0,
          0,
          0,
          0,
          0,
          0,
          0,
          0,
          0,
          0,
          0,
          0,
          0,
          0,
          0,
          0,
          0,
          0,
          0,
          0,
          0,
          0,
          0,
          0,
          0,
          0,
          0,
          0
         ]
        }
       ],
       "layout": {
        "bargap": 0.1,
        "height": 900,
        "margin": {
         "b": 100,
         "l": 60,
         "r": 30,
         "t": 100
        },
        "shapes": [
         {
          "line": {
           "color": "black",
           "dash": "dash",
           "width": 1.5
          },
          "type": "line",
          "x0": 0,
          "x1": 1,
          "xref": "x domain",
          "y0": 0,
          "y1": 0,
          "yref": "y"
         }
        ],
        "template": {
         "data": {
          "bar": [
           {
            "error_x": {
             "color": "#2a3f5f"
            },
            "error_y": {
             "color": "#2a3f5f"
            },
            "marker": {
             "line": {
              "color": "white",
              "width": 0.5
             },
             "pattern": {
              "fillmode": "overlay",
              "size": 10,
              "solidity": 0.2
             }
            },
            "type": "bar"
           }
          ],
          "barpolar": [
           {
            "marker": {
             "line": {
              "color": "white",
              "width": 0.5
             },
             "pattern": {
              "fillmode": "overlay",
              "size": 10,
              "solidity": 0.2
             }
            },
            "type": "barpolar"
           }
          ],
          "carpet": [
           {
            "aaxis": {
             "endlinecolor": "#2a3f5f",
             "gridcolor": "#C8D4E3",
             "linecolor": "#C8D4E3",
             "minorgridcolor": "#C8D4E3",
             "startlinecolor": "#2a3f5f"
            },
            "baxis": {
             "endlinecolor": "#2a3f5f",
             "gridcolor": "#C8D4E3",
             "linecolor": "#C8D4E3",
             "minorgridcolor": "#C8D4E3",
             "startlinecolor": "#2a3f5f"
            },
            "type": "carpet"
           }
          ],
          "choropleth": [
           {
            "colorbar": {
             "outlinewidth": 0,
             "ticks": ""
            },
            "type": "choropleth"
           }
          ],
          "contour": [
           {
            "colorbar": {
             "outlinewidth": 0,
             "ticks": ""
            },
            "colorscale": [
             [
              0,
              "#0d0887"
             ],
             [
              0.1111111111111111,
              "#46039f"
             ],
             [
              0.2222222222222222,
              "#7201a8"
             ],
             [
              0.3333333333333333,
              "#9c179e"
             ],
             [
              0.4444444444444444,
              "#bd3786"
             ],
             [
              0.5555555555555556,
              "#d8576b"
             ],
             [
              0.6666666666666666,
              "#ed7953"
             ],
             [
              0.7777777777777778,
              "#fb9f3a"
             ],
             [
              0.8888888888888888,
              "#fdca26"
             ],
             [
              1,
              "#f0f921"
             ]
            ],
            "type": "contour"
           }
          ],
          "contourcarpet": [
           {
            "colorbar": {
             "outlinewidth": 0,
             "ticks": ""
            },
            "type": "contourcarpet"
           }
          ],
          "heatmap": [
           {
            "colorbar": {
             "outlinewidth": 0,
             "ticks": ""
            },
            "colorscale": [
             [
              0,
              "#0d0887"
             ],
             [
              0.1111111111111111,
              "#46039f"
             ],
             [
              0.2222222222222222,
              "#7201a8"
             ],
             [
              0.3333333333333333,
              "#9c179e"
             ],
             [
              0.4444444444444444,
              "#bd3786"
             ],
             [
              0.5555555555555556,
              "#d8576b"
             ],
             [
              0.6666666666666666,
              "#ed7953"
             ],
             [
              0.7777777777777778,
              "#fb9f3a"
             ],
             [
              0.8888888888888888,
              "#fdca26"
             ],
             [
              1,
              "#f0f921"
             ]
            ],
            "type": "heatmap"
           }
          ],
          "heatmapgl": [
           {
            "colorbar": {
             "outlinewidth": 0,
             "ticks": ""
            },
            "colorscale": [
             [
              0,
              "#0d0887"
             ],
             [
              0.1111111111111111,
              "#46039f"
             ],
             [
              0.2222222222222222,
              "#7201a8"
             ],
             [
              0.3333333333333333,
              "#9c179e"
             ],
             [
              0.4444444444444444,
              "#bd3786"
             ],
             [
              0.5555555555555556,
              "#d8576b"
             ],
             [
              0.6666666666666666,
              "#ed7953"
             ],
             [
              0.7777777777777778,
              "#fb9f3a"
             ],
             [
              0.8888888888888888,
              "#fdca26"
             ],
             [
              1,
              "#f0f921"
             ]
            ],
            "type": "heatmapgl"
           }
          ],
          "histogram": [
           {
            "marker": {
             "pattern": {
              "fillmode": "overlay",
              "size": 10,
              "solidity": 0.2
             }
            },
            "type": "histogram"
           }
          ],
          "histogram2d": [
           {
            "colorbar": {
             "outlinewidth": 0,
             "ticks": ""
            },
            "colorscale": [
             [
              0,
              "#0d0887"
             ],
             [
              0.1111111111111111,
              "#46039f"
             ],
             [
              0.2222222222222222,
              "#7201a8"
             ],
             [
              0.3333333333333333,
              "#9c179e"
             ],
             [
              0.4444444444444444,
              "#bd3786"
             ],
             [
              0.5555555555555556,
              "#d8576b"
             ],
             [
              0.6666666666666666,
              "#ed7953"
             ],
             [
              0.7777777777777778,
              "#fb9f3a"
             ],
             [
              0.8888888888888888,
              "#fdca26"
             ],
             [
              1,
              "#f0f921"
             ]
            ],
            "type": "histogram2d"
           }
          ],
          "histogram2dcontour": [
           {
            "colorbar": {
             "outlinewidth": 0,
             "ticks": ""
            },
            "colorscale": [
             [
              0,
              "#0d0887"
             ],
             [
              0.1111111111111111,
              "#46039f"
             ],
             [
              0.2222222222222222,
              "#7201a8"
             ],
             [
              0.3333333333333333,
              "#9c179e"
             ],
             [
              0.4444444444444444,
              "#bd3786"
             ],
             [
              0.5555555555555556,
              "#d8576b"
             ],
             [
              0.6666666666666666,
              "#ed7953"
             ],
             [
              0.7777777777777778,
              "#fb9f3a"
             ],
             [
              0.8888888888888888,
              "#fdca26"
             ],
             [
              1,
              "#f0f921"
             ]
            ],
            "type": "histogram2dcontour"
           }
          ],
          "mesh3d": [
           {
            "colorbar": {
             "outlinewidth": 0,
             "ticks": ""
            },
            "type": "mesh3d"
           }
          ],
          "parcoords": [
           {
            "line": {
             "colorbar": {
              "outlinewidth": 0,
              "ticks": ""
             }
            },
            "type": "parcoords"
           }
          ],
          "pie": [
           {
            "automargin": true,
            "type": "pie"
           }
          ],
          "scatter": [
           {
            "fillpattern": {
             "fillmode": "overlay",
             "size": 10,
             "solidity": 0.2
            },
            "type": "scatter"
           }
          ],
          "scatter3d": [
           {
            "line": {
             "colorbar": {
              "outlinewidth": 0,
              "ticks": ""
             }
            },
            "marker": {
             "colorbar": {
              "outlinewidth": 0,
              "ticks": ""
             }
            },
            "type": "scatter3d"
           }
          ],
          "scattercarpet": [
           {
            "marker": {
             "colorbar": {
              "outlinewidth": 0,
              "ticks": ""
             }
            },
            "type": "scattercarpet"
           }
          ],
          "scattergeo": [
           {
            "marker": {
             "colorbar": {
              "outlinewidth": 0,
              "ticks": ""
             }
            },
            "type": "scattergeo"
           }
          ],
          "scattergl": [
           {
            "marker": {
             "colorbar": {
              "outlinewidth": 0,
              "ticks": ""
             }
            },
            "type": "scattergl"
           }
          ],
          "scattermapbox": [
           {
            "marker": {
             "colorbar": {
              "outlinewidth": 0,
              "ticks": ""
             }
            },
            "type": "scattermapbox"
           }
          ],
          "scatterpolar": [
           {
            "marker": {
             "colorbar": {
              "outlinewidth": 0,
              "ticks": ""
             }
            },
            "type": "scatterpolar"
           }
          ],
          "scatterpolargl": [
           {
            "marker": {
             "colorbar": {
              "outlinewidth": 0,
              "ticks": ""
             }
            },
            "type": "scatterpolargl"
           }
          ],
          "scatterternary": [
           {
            "marker": {
             "colorbar": {
              "outlinewidth": 0,
              "ticks": ""
             }
            },
            "type": "scatterternary"
           }
          ],
          "surface": [
           {
            "colorbar": {
             "outlinewidth": 0,
             "ticks": ""
            },
            "colorscale": [
             [
              0,
              "#0d0887"
             ],
             [
              0.1111111111111111,
              "#46039f"
             ],
             [
              0.2222222222222222,
              "#7201a8"
             ],
             [
              0.3333333333333333,
              "#9c179e"
             ],
             [
              0.4444444444444444,
              "#bd3786"
             ],
             [
              0.5555555555555556,
              "#d8576b"
             ],
             [
              0.6666666666666666,
              "#ed7953"
             ],
             [
              0.7777777777777778,
              "#fb9f3a"
             ],
             [
              0.8888888888888888,
              "#fdca26"
             ],
             [
              1,
              "#f0f921"
             ]
            ],
            "type": "surface"
           }
          ],
          "table": [
           {
            "cells": {
             "fill": {
              "color": "#EBF0F8"
             },
             "line": {
              "color": "white"
             }
            },
            "header": {
             "fill": {
              "color": "#C8D4E3"
             },
             "line": {
              "color": "white"
             }
            },
            "type": "table"
           }
          ]
         },
         "layout": {
          "annotationdefaults": {
           "arrowcolor": "#2a3f5f",
           "arrowhead": 0,
           "arrowwidth": 1
          },
          "autotypenumbers": "strict",
          "coloraxis": {
           "colorbar": {
            "outlinewidth": 0,
            "ticks": ""
           }
          },
          "colorscale": {
           "diverging": [
            [
             0,
             "#8e0152"
            ],
            [
             0.1,
             "#c51b7d"
            ],
            [
             0.2,
             "#de77ae"
            ],
            [
             0.3,
             "#f1b6da"
            ],
            [
             0.4,
             "#fde0ef"
            ],
            [
             0.5,
             "#f7f7f7"
            ],
            [
             0.6,
             "#e6f5d0"
            ],
            [
             0.7,
             "#b8e186"
            ],
            [
             0.8,
             "#7fbc41"
            ],
            [
             0.9,
             "#4d9221"
            ],
            [
             1,
             "#276419"
            ]
           ],
           "sequential": [
            [
             0,
             "#0d0887"
            ],
            [
             0.1111111111111111,
             "#46039f"
            ],
            [
             0.2222222222222222,
             "#7201a8"
            ],
            [
             0.3333333333333333,
             "#9c179e"
            ],
            [
             0.4444444444444444,
             "#bd3786"
            ],
            [
             0.5555555555555556,
             "#d8576b"
            ],
            [
             0.6666666666666666,
             "#ed7953"
            ],
            [
             0.7777777777777778,
             "#fb9f3a"
            ],
            [
             0.8888888888888888,
             "#fdca26"
            ],
            [
             1,
             "#f0f921"
            ]
           ],
           "sequentialminus": [
            [
             0,
             "#0d0887"
            ],
            [
             0.1111111111111111,
             "#46039f"
            ],
            [
             0.2222222222222222,
             "#7201a8"
            ],
            [
             0.3333333333333333,
             "#9c179e"
            ],
            [
             0.4444444444444444,
             "#bd3786"
            ],
            [
             0.5555555555555556,
             "#d8576b"
            ],
            [
             0.6666666666666666,
             "#ed7953"
            ],
            [
             0.7777777777777778,
             "#fb9f3a"
            ],
            [
             0.8888888888888888,
             "#fdca26"
            ],
            [
             1,
             "#f0f921"
            ]
           ]
          },
          "colorway": [
           "#636efa",
           "#EF553B",
           "#00cc96",
           "#ab63fa",
           "#FFA15A",
           "#19d3f3",
           "#FF6692",
           "#B6E880",
           "#FF97FF",
           "#FECB52"
          ],
          "font": {
           "color": "#2a3f5f"
          },
          "geo": {
           "bgcolor": "white",
           "lakecolor": "white",
           "landcolor": "white",
           "showlakes": true,
           "showland": true,
           "subunitcolor": "#C8D4E3"
          },
          "hoverlabel": {
           "align": "left"
          },
          "hovermode": "closest",
          "mapbox": {
           "style": "light"
          },
          "paper_bgcolor": "white",
          "plot_bgcolor": "white",
          "polar": {
           "angularaxis": {
            "gridcolor": "#EBF0F8",
            "linecolor": "#EBF0F8",
            "ticks": ""
           },
           "bgcolor": "white",
           "radialaxis": {
            "gridcolor": "#EBF0F8",
            "linecolor": "#EBF0F8",
            "ticks": ""
           }
          },
          "scene": {
           "xaxis": {
            "backgroundcolor": "white",
            "gridcolor": "#DFE8F3",
            "gridwidth": 2,
            "linecolor": "#EBF0F8",
            "showbackground": true,
            "ticks": "",
            "zerolinecolor": "#EBF0F8"
           },
           "yaxis": {
            "backgroundcolor": "white",
            "gridcolor": "#DFE8F3",
            "gridwidth": 2,
            "linecolor": "#EBF0F8",
            "showbackground": true,
            "ticks": "",
            "zerolinecolor": "#EBF0F8"
           },
           "zaxis": {
            "backgroundcolor": "white",
            "gridcolor": "#DFE8F3",
            "gridwidth": 2,
            "linecolor": "#EBF0F8",
            "showbackground": true,
            "ticks": "",
            "zerolinecolor": "#EBF0F8"
           }
          },
          "shapedefaults": {
           "line": {
            "color": "#2a3f5f"
           }
          },
          "ternary": {
           "aaxis": {
            "gridcolor": "#DFE8F3",
            "linecolor": "#A2B1C6",
            "ticks": ""
           },
           "baxis": {
            "gridcolor": "#DFE8F3",
            "linecolor": "#A2B1C6",
            "ticks": ""
           },
           "bgcolor": "white",
           "caxis": {
            "gridcolor": "#DFE8F3",
            "linecolor": "#A2B1C6",
            "ticks": ""
           }
          },
          "title": {
           "x": 0.05
          },
          "xaxis": {
           "automargin": true,
           "gridcolor": "#EBF0F8",
           "linecolor": "#EBF0F8",
           "ticks": "",
           "title": {
            "standoff": 15
           },
           "zerolinecolor": "#EBF0F8",
           "zerolinewidth": 2
          },
          "yaxis": {
           "automargin": true,
           "gridcolor": "#EBF0F8",
           "linecolor": "#EBF0F8",
           "ticks": "",
           "title": {
            "standoff": 15
           },
           "zerolinecolor": "#EBF0F8",
           "zerolinewidth": 2
          }
         }
        },
        "title": {
         "text": "Índice de Descoordinación (MT) - Escenario: scenario_1 Optimizado<br><sup>TMT = -0.7393 | Pares = 100</sup>"
        },
        "xaxis": {
         "tickmode": "auto",
         "title": {
          "text": "Índice del Par de Relés (Ordenado por MT Ascendente)"
         }
        },
        "yaxis": {
         "gridcolor": "lightgrey",
         "title": {
          "text": "Índice MT"
         },
         "zerolinecolor": "black",
         "zerolinewidth": 1.5
        }
       }
      }
     },
     "metadata": {},
     "output_type": "display_data"
    },
    {
     "name": "stdout",
     "output_type": "stream",
     "text": [
      "    Displaying delta_bar plot...\n"
     ]
    },
    {
     "data": {
      "application/vnd.plotly.v1+json": {
       "config": {
        "plotlyServerURL": "https://plot.ly"
       },
       "data": [
        {
         "hoverinfo": "text",
         "marker": {
          "color": [
           "red",
           "red",
           "red",
           "red",
           "red",
           "red",
           "red",
           "red",
           "red",
           "red",
           "red",
           "red",
           "red",
           "green",
           "green",
           "green",
           "green",
           "green",
           "green",
           "green",
           "green",
           "green",
           "green",
           "green",
           "green",
           "green",
           "green",
           "green",
           "green",
           "green",
           "green",
           "green",
           "green",
           "green",
           "green",
           "green",
           "green",
           "green",
           "green",
           "green",
           "green",
           "green",
           "green",
           "green",
           "green",
           "green",
           "green",
           "green",
           "green",
           "green",
           "green",
           "green",
           "green",
           "green",
           "green",
           "green",
           "green",
           "green",
           "green",
           "green",
           "green",
           "green",
           "green",
           "green",
           "green",
           "green",
           "green",
           "green",
           "green",
           "green",
           "green",
           "green",
           "green",
           "green",
           "green",
           "green",
           "green",
           "green",
           "green",
           "green",
           "green",
           "green",
           "green",
           "green",
           "green",
           "green",
           "green",
           "green",
           "green",
           "green",
           "green",
           "green",
           "green",
           "green",
           "green",
           "green",
           "green",
           "green",
           "green",
           "green"
          ]
         },
         "name": "Δt (Tb - Tm - CTI)",
         "text": [
          "<b>R19-R18</b><br>Índice Plot: 1<br>MT: -0.1390 | <b>Δt: -0.1390s</b><br>Tm: 1.5523s | Tb: 1.6133s<br>Línea: L19-20 | Falla: 10<br>Estado: Descoordinado<extra></extra>",
          "<b>R11-R10</b><br>Índice Plot: 2<br>MT: -0.1201 | <b>Δt: -0.1201s</b><br>Tm: 1.9870s | Tb: 2.0669s<br>Línea: L11-12 | Falla: 10<br>Estado: Descoordinado<extra></extra>",
          "<b>R12-R11</b><br>Índice Plot: 3<br>MT: -0.1069 | <b>Δt: -0.1069s</b><br>Tm: 2.0294s | Tb: 2.1225s<br>Línea: L12-13 | Falla: 10<br>Estado: Descoordinado<extra></extra>",
          "<b>R10-R9</b><br>Índice Plot: 4<br>MT: -0.0967 | <b>Δt: -0.0967s</b><br>Tm: 2.0165s | Tb: 2.1198s<br>Línea: L10-11 | Falla: 10<br>Estado: Descoordinado<extra></extra>",
          "<b>R23-R22</b><br>Índice Plot: 5<br>MT: -0.0750 | <b>Δt: -0.0750s</b><br>Tm: 2.1218s | Tb: 2.2468s<br>Línea: L23-24 | Falla: 10<br>Estado: Descoordinado<extra></extra>",
          "<b>R44-R70</b><br>Índice Plot: 6<br>MT: -0.0652 | <b>Δt: -0.0652s</b><br>Tm: 2.4149s | Tb: 2.5497s<br>Línea: L7-8 | Falla: 90<br>Estado: Descoordinado<extra></extra>",
          "<b>R13-R12</b><br>Índice Plot: 7<br>MT: -0.0644 | <b>Δt: -0.0644s</b><br>Tm: 2.3337s | Tb: 2.4693s<br>Línea: L13-14 | Falla: 10<br>Estado: Descoordinado<extra></extra>",
          "<b>R17-R16</b><br>Índice Plot: 8<br>MT: -0.0255 | <b>Δt: -0.0255s</b><br>Tm: 2.5522s | Tb: 2.7267s<br>Línea: L17-18 | Falla: 10<br>Estado: Descoordinado<extra></extra>",
          "<b>R20-R19</b><br>Índice Plot: 9<br>MT: -0.0156 | <b>Δt: -0.0156s</b><br>Tm: 1.8801s | Tb: 2.0645s<br>Línea: L20-21 | Falla: 10<br>Estado: Descoordinado<extra></extra>",
          "<b>R70-R20</b><br>Índice Plot: 10<br>MT: -0.0116 | <b>Δt: -0.0116s</b><br>Tm: 1.8668s | Tb: 2.0552s<br>Línea: L8-21 | Falla: 90<br>Estado: Descoordinado<extra></extra>",
          "<b>R15-R34</b><br>Índice Plot: 11<br>MT: -0.0093 | <b>Δt: -0.0093s</b><br>Tm: 2.3380s | Tb: 2.5287s<br>Línea: L15-16 | Falla: 10<br>Estado: Descoordinado<extra></extra>",
          "<b>R15-R14</b><br>Índice Plot: 12<br>MT: -0.0072 | <b>Δt: -0.0072s</b><br>Tm: 2.3380s | Tb: 2.5308s<br>Línea: L15-16 | Falla: 10<br>Estado: Descoordinado<extra></extra>",
          "<b>R24-R23</b><br>Índice Plot: 13<br>MT: -0.0028 | <b>Δt: -0.0028s</b><br>Tm: 2.4064s | Tb: 2.6036s<br>Línea: L24-25 | Falla: 10<br>Estado: Descoordinado<extra></extra>",
          "<b>R51-R52</b><br>Índice Plot: 14<br>MT: 0.0000 | <b>Δt: 0.0667s</b><br>Tm: 1.8980s | Tb: 2.1647s<br>Línea: L14-15 | Falla: 90<br>Estado: Coordinado<extra></extra>",
          "<b>R38-R55</b><br>Índice Plot: 15<br>MT: 0.0000 | <b>Δt: 1.7861s</b><br>Tm: 0.1989s | Tb: 2.1850s<br>Línea: L1-2 | Falla: 90<br>Estado: Coordinado<extra></extra>",
          "<b>R47-R48</b><br>Índice Plot: 16<br>MT: 0.0000 | <b>Δt: 0.0215s</b><br>Tm: 1.9344s | Tb: 2.1559s<br>Línea: L10-11 | Falla: 90<br>Estado: Coordinado<extra></extra>",
          "<b>R48-R49</b><br>Índice Plot: 17<br>MT: 0.0000 | <b>Δt: 0.0219s</b><br>Tm: 2.0627s | Tb: 2.2846s<br>Línea: L11-12 | Falla: 90<br>Estado: Coordinado<extra></extra>",
          "<b>R48-R72</b><br>Índice Plot: 18<br>MT: 0.0000 | <b>Δt: 0.0439s</b><br>Tm: 2.0627s | Tb: 2.3066s<br>Línea: L11-12 | Falla: 90<br>Estado: Coordinado<extra></extra>",
          "<b>R12-R72</b><br>Índice Plot: 19<br>MT: 0.0000 | <b>Δt: 0.1267s</b><br>Tm: 2.0294s | Tb: 2.3561s<br>Línea: L12-13 | Falla: 10<br>Estado: Coordinado<extra></extra>",
          "<b>R49-R50</b><br>Índice Plot: 20<br>MT: 0.0000 | <b>Δt: 0.0335s</b><br>Tm: 1.7994s | Tb: 2.0329s<br>Línea: L12-13 | Falla: 90<br>Estado: Coordinado<extra></extra>",
          "<b>R50-R51</b><br>Índice Plot: 21<br>MT: 0.0000 | <b>Δt: 0.0032s</b><br>Tm: 1.8518s | Tb: 2.0550s<br>Línea: L13-14 | Falla: 90<br>Estado: Coordinado<extra></extra>",
          "<b>R14-R13</b><br>Índice Plot: 22<br>MT: 0.0000 | <b>Δt: 0.0585s</b><br>Tm: 2.3044s | Tb: 2.5629s<br>Línea: L14-15 | Falla: 10<br>Estado: Coordinado<extra></extra>",
          "<b>R54-R73</b><br>Índice Plot: 23<br>MT: 0.0000 | <b>Δt: 0.0757s</b><br>Tm: 2.2353s | Tb: 2.5110s<br>Línea: L17-18 | Falla: 90<br>Estado: Coordinado<extra></extra>",
          "<b>R18-R39</b><br>Índice Plot: 24<br>MT: 0.0000 | <b>Δt: 0.0653s</b><br>Tm: 1.4531s | Tb: 1.7184s<br>Línea: L2-19 | Falla: 10<br>Estado: Coordinado<extra></extra>",
          "<b>R52-R53</b><br>Índice Plot: 25<br>MT: 0.0000 | <b>Δt: 0.0894s</b><br>Tm: 2.0266s | Tb: 2.3160s<br>Línea: L15-16 | Falla: 90<br>Estado: Coordinado<extra></extra>",
          "<b>R16-R15</b><br>Índice Plot: 26<br>MT: 0.0000 | <b>Δt: 0.0752s</b><br>Tm: 2.3050s | Tb: 2.5802s<br>Línea: L16-17 | Falla: 10<br>Estado: Coordinado<extra></extra>",
          "<b>R53-R54</b><br>Índice Plot: 27<br>MT: 0.0000 | <b>Δt: 0.1214s</b><br>Tm: 2.0604s | Tb: 2.3818s<br>Línea: L16-17 | Falla: 90<br>Estado: Coordinado<extra></extra>",
          "<b>R55-R56</b><br>Índice Plot: 28<br>MT: 0.0000 | <b>Δt: 0.0660s</b><br>Tm: 1.8282s | Tb: 2.0942s<br>Línea: L2-19 | Falla: 90<br>Estado: Coordinado<extra></extra>",
          "<b>R36-R17</b><br>Índice Plot: 29<br>MT: 0.0000 | <b>Δt: 0.0232s</b><br>Tm: 2.5008s | Tb: 2.7240s<br>Línea: L18-33 | Falla: 10<br>Estado: Coordinado<extra></extra>",
          "<b>R73-R32</b><br>Índice Plot: 30<br>MT: 0.0000 | <b>Δt: 0.0991s</b><br>Tm: 2.3767s | Tb: 2.6758s<br>Línea: L18-33 | Falla: 90<br>Estado: Coordinado<extra></extra>",
          "<b>R56-R57</b><br>Índice Plot: 31<br>MT: 0.0000 | <b>Δt: 0.0045s</b><br>Tm: 1.5655s | Tb: 1.7700s<br>Línea: L19-20 | Falla: 90<br>Estado: Coordinado<extra></extra>",
          "<b>R51-R34</b><br>Índice Plot: 32<br>MT: 0.0000 | <b>Δt: 0.4307s</b><br>Tm: 1.8980s | Tb: 2.5287s<br>Línea: L14-15 | Falla: 90<br>Estado: Coordinado<extra></extra>",
          "<b>R2-R1</b><br>Índice Plot: 33<br>MT: 0.0000 | <b>Δt: 0.0944s</b><br>Tm: 1.9891s | Tb: 2.2835s<br>Línea: L2-3 | Falla: 10<br>Estado: Coordinado<extra></extra>",
          "<b>R71-R14</b><br>Índice Plot: 34<br>MT: 0.0000 | <b>Δt: 1.0817s</b><br>Tm: 1.3400s | Tb: 2.6217s<br>Línea: L9-15 | Falla: 90<br>Estado: Coordinado<extra></extra>",
          "<b>R26-R25</b><br>Índice Plot: 35<br>MT: 0.0000 | <b>Δt: 0.0492s</b><br>Tm: 2.2805s | Tb: 2.5297s<br>Línea: L26-27 | Falla: 10<br>Estado: Coordinado<extra></extra>",
          "<b>R39-R40</b><br>Índice Plot: 36<br>MT: 0.0000 | <b>Δt: 0.7327s</b><br>Tm: 1.1999s | Tb: 2.1326s<br>Línea: L2-3 | Falla: 90<br>Estado: Coordinado<extra></extra>",
          "<b>R39-R59</b><br>Índice Plot: 37<br>MT: 0.0000 | <b>Δt: 0.9717s</b><br>Tm: 1.1999s | Tb: 2.3716s<br>Línea: L2-3 | Falla: 90<br>Estado: Coordinado<extra></extra>",
          "<b>R57-R58</b><br>Índice Plot: 38<br>MT: 0.0000 | <b>Δt: 0.0650s</b><br>Tm: 1.6605s | Tb: 1.9255s<br>Línea: L20-21 | Falla: 90<br>Estado: Coordinado<extra></extra>",
          "<b>R57-R33</b><br>Índice Plot: 39<br>MT: 0.0000 | <b>Δt: 0.0189s</b><br>Tm: 1.6605s | Tb: 1.8794s<br>Línea: L20-21 | Falla: 90<br>Estado: Coordinado<extra></extra>",
          "<b>R21-R20</b><br>Índice Plot: 40<br>MT: 0.0000 | <b>Δt: 0.3241s</b><br>Tm: 1.4986s | Tb: 2.0227s<br>Línea: L21-22 | Falla: 10<br>Estado: Coordinado<extra></extra>",
          "<b>R21-R33</b><br>Índice Plot: 41<br>MT: 0.0000 | <b>Δt: 0.2140s</b><br>Tm: 1.4986s | Tb: 1.9126s<br>Línea: L21-22 | Falla: 10<br>Estado: Coordinado<extra></extra>",
          "<b>R58-R35</b><br>Índice Plot: 42<br>MT: 0.0000 | <b>Δt: 0.0136s</b><br>Tm: 1.6871s | Tb: 1.9007s<br>Línea: L21-22 | Falla: 90<br>Estado: Coordinado<extra></extra>",
          "<b>R33-R7</b><br>Índice Plot: 43<br>MT: 0.0000 | <b>Δt: 0.3356s</b><br>Tm: 1.4160s | Tb: 1.9516s<br>Línea: L8-21 | Falla: 10<br>Estado: Coordinado<extra></extra>",
          "<b>R2-R55</b><br>Índice Plot: 44<br>MT: 0.0000 | <b>Δt: 0.2697s</b><br>Tm: 1.9891s | Tb: 2.4588s<br>Línea: L2-3 | Falla: 10<br>Estado: Coordinado<extra></extra>",
          "<b>R33-R45</b><br>Índice Plot: 45<br>MT: 0.0000 | <b>Δt: 1.1912s</b><br>Tm: 1.4160s | Tb: 2.8072s<br>Línea: L8-21 | Falla: 10<br>Estado: Coordinado<extra></extra>",
          "<b>R72-R21</b><br>Índice Plot: 46<br>MT: 0.0000 | <b>Δt: 0.0158s</b><br>Tm: 1.8478s | Tb: 2.0636s<br>Línea: L12-22 | Falla: 10<br>Estado: Coordinado<extra></extra>",
          "<b>R35-R11</b><br>Índice Plot: 47<br>MT: 0.0000 | <b>Δt: 0.9304s</b><br>Tm: 1.5177s | Tb: 2.6481s<br>Línea: L12-22 | Falla: 90<br>Estado: Coordinado<extra></extra>",
          "<b>R35-R49</b><br>Índice Plot: 48<br>MT: 0.0000 | <b>Δt: 1.4758s</b><br>Tm: 1.5177s | Tb: 3.1935s<br>Línea: L12-22 | Falla: 90<br>Estado: Coordinado<extra></extra>",
          "<b>R60-R61</b><br>Índice Plot: 49<br>MT: 0.0000 | <b>Δt: 0.0016s</b><br>Tm: 1.5096s | Tb: 1.7112s<br>Línea: L23-24 | Falla: 90<br>Estado: Coordinado<extra></extra>",
          "<b>R18-R1</b><br>Índice Plot: 50<br>MT: 0.0000 | <b>Δt: 0.6124s</b><br>Tm: 1.4531s | Tb: 2.2655s<br>Línea: L2-19 | Falla: 10<br>Estado: Coordinado<extra></extra>",
          "<b>R37-R24</b><br>Índice Plot: 51<br>MT: 0.0000 | <b>Δt: 0.0002s</b><br>Tm: 2.6099s | Tb: 2.8101s<br>Línea: L25-29 | Falla: 10<br>Estado: Coordinado<extra></extra>",
          "<b>R74-R28</b><br>Índice Plot: 52<br>MT: 0.0000 | <b>Δt: 1.0917s</b><br>Tm: 1.6779s | Tb: 2.9696s<br>Línea: L25-29 | Falla: 90<br>Estado: Coordinado<extra></extra>",
          "<b>R74-R66</b><br>Índice Plot: 53<br>MT: 0.0000 | <b>Δt: 0.3042s</b><br>Tm: 1.6779s | Tb: 2.1821s<br>Línea: L25-29 | Falla: 90<br>Estado: Coordinado<extra></extra>",
          "<b>R70-R58</b><br>Índice Plot: 54<br>MT: 0.0000 | <b>Δt: 0.0108s</b><br>Tm: 1.8668s | Tb: 2.0776s<br>Línea: L8-21 | Falla: 90<br>Estado: Coordinado<extra></extra>",
          "<b>R63-R64</b><br>Índice Plot: 55<br>MT: 0.0000 | <b>Δt: 0.0113s</b><br>Tm: 2.0625s | Tb: 2.2738s<br>Línea: L26-27 | Falla: 90<br>Estado: Coordinado<extra></extra>",
          "<b>R25-R5</b><br>Índice Plot: 56<br>MT: 0.0000 | <b>Δt: 0.0713s</b><br>Tm: 2.4072s | Tb: 2.6785s<br>Línea: L6-26 | Falla: 10<br>Estado: Coordinado<extra></extra>",
          "<b>R64-R65</b><br>Índice Plot: 57<br>MT: 0.0000 | <b>Δt: 0.0340s</b><br>Tm: 1.9583s | Tb: 2.1923s<br>Línea: L27-28 | Falla: 90<br>Estado: Coordinado<extra></extra>",
          "<b>R69-R36</b><br>Índice Plot: 58<br>MT: 0.0000 | <b>Δt: 0.0333s</b><br>Tm: 2.3775s | Tb: 2.6108s<br>Línea: L32-33 | Falla: 90<br>Estado: Coordinado<extra></extra>",
          "<b>R3-R2</b><br>Índice Plot: 59<br>MT: 0.0000 | <b>Δt: 0.0647s</b><br>Tm: 2.1218s | Tb: 2.3865s<br>Línea: L3-4 | Falla: 10<br>Estado: Coordinado<extra></extra>",
          "<b>R65-R37</b><br>Índice Plot: 60<br>MT: 0.0000 | <b>Δt: 0.7113s</b><br>Tm: 1.9594s | Tb: 2.8707s<br>Línea: L28-29 | Falla: 90<br>Estado: Coordinado<extra></extra>",
          "<b>R65-R66</b><br>Índice Plot: 61<br>MT: 0.0000 | <b>Δt: 0.0450s</b><br>Tm: 1.9594s | Tb: 2.2044s<br>Línea: L28-29 | Falla: 90<br>Estado: Coordinado<extra></extra>",
          "<b>R29-R28</b><br>Índice Plot: 62<br>MT: 0.0000 | <b>Δt: 0.1530s</b><br>Tm: 2.6166s | Tb: 2.9696s<br>Línea: L29-30 | Falla: 10<br>Estado: Coordinado<extra></extra>",
          "<b>R29-R37</b><br>Índice Plot: 63<br>MT: 0.0000 | <b>Δt: 0.0344s</b><br>Tm: 2.6166s | Tb: 2.8510s<br>Línea: L29-30 | Falla: 10<br>Estado: Coordinado<extra></extra>",
          "<b>R66-R67</b><br>Índice Plot: 64<br>MT: 0.0000 | <b>Δt: 0.0448s</b><br>Tm: 2.0653s | Tb: 2.3101s<br>Línea: L29-30 | Falla: 90<br>Estado: Coordinado<extra></extra>",
          "<b>R22-R2</b><br>Índice Plot: 65<br>MT: 0.0000 | <b>Δt: 0.2618s</b><br>Tm: 1.9394s | Tb: 2.4012s<br>Línea: L3-23 | Falla: 10<br>Estado: Coordinado<extra></extra>",
          "<b>R42-R62</b><br>Índice Plot: 66<br>MT: 0.0000 | <b>Δt: 0.0438s</b><br>Tm: 1.8509s | Tb: 2.0947s<br>Línea: L5-6 | Falla: 90<br>Estado: Coordinado<extra></extra>",
          "<b>R22-R40</b><br>Índice Plot: 67<br>MT: 0.0000 | <b>Δt: 0.0459s</b><br>Tm: 1.9394s | Tb: 2.1853s<br>Línea: L3-23 | Falla: 10<br>Estado: Coordinado<extra></extra>",
          "<b>R38-R39</b><br>Índice Plot: 68<br>MT: 0.0000 | <b>Δt: 1.2379s</b><br>Tm: 0.1989s | Tb: 1.6368s<br>Línea: L1-2 | Falla: 90<br>Estado: Coordinado<extra></extra>",
          "<b>R67-R68</b><br>Índice Plot: 69<br>MT: 0.0000 | <b>Δt: 0.0144s</b><br>Tm: 2.1176s | Tb: 2.3320s<br>Línea: L30-31 | Falla: 90<br>Estado: Coordinado<extra></extra>",
          "<b>R32-R31</b><br>Índice Plot: 70<br>MT: 0.0000 | <b>Δt: 0.1070s</b><br>Tm: 2.5315s | Tb: 2.8385s<br>Línea: L32-33 | Falla: 10<br>Estado: Coordinado<extra></extra>",
          "<b>R3-R59</b><br>Índice Plot: 71<br>MT: 0.0000 | <b>Δt: 0.2420s</b><br>Tm: 2.1218s | Tb: 2.5638s<br>Línea: L3-4 | Falla: 10<br>Estado: Coordinado<extra></extra>",
          "<b>R40-R41</b><br>Índice Plot: 72<br>MT: 0.0000 | <b>Δt: 0.0188s</b><br>Tm: 1.8337s | Tb: 2.0525s<br>Línea: L3-4 | Falla: 90<br>Estado: Coordinado<extra></extra>",
          "<b>R30-R29</b><br>Índice Plot: 73<br>MT: 0.0000 | <b>Δt: 0.2114s</b><br>Tm: 2.4651s | Tb: 2.8765s<br>Línea: L30-31 | Falla: 10<br>Estado: Coordinado<extra></extra>",
          "<b>R68-R69</b><br>Índice Plot: 74<br>MT: 0.0000 | <b>Δt: 0.0087s</b><br>Tm: 2.2508s | Tb: 2.4595s<br>Línea: L31-32 | Falla: 90<br>Estado: Coordinado<extra></extra>",
          "<b>R31-R30</b><br>Índice Plot: 75<br>MT: 0.0000 | <b>Δt: 0.0102s</b><br>Tm: 2.6913s | Tb: 2.9015s<br>Línea: L31-32 | Falla: 10<br>Estado: Coordinado<extra></extra>",
          "<b>R59-R60</b><br>Índice Plot: 76<br>MT: 0.0000 | <b>Δt: 0.0372s</b><br>Tm: 1.6106s | Tb: 1.8478s<br>Línea: L3-23 | Falla: 90<br>Estado: Coordinado<extra></extra>",
          "<b>R41-R42</b><br>Índice Plot: 77<br>MT: 0.0000 | <b>Δt: 0.0023s</b><br>Tm: 1.8954s | Tb: 2.0977s<br>Línea: L4-5 | Falla: 90<br>Estado: Coordinado<extra></extra>",
          "<b>R34-R46</b><br>Índice Plot: 78<br>MT: 0.0000 | <b>Δt: 0.7241s</b><br>Tm: 1.8600s | Tb: 2.7841s<br>Línea: L9-15 | Falla: 10<br>Estado: Coordinado<extra></extra>",
          "<b>R34-R8</b><br>Índice Plot: 79<br>MT: 0.0000 | <b>Δt: 0.0272s</b><br>Tm: 1.8600s | Tb: 2.0872s<br>Línea: L9-15 | Falla: 10<br>Estado: Coordinado<extra></extra>",
          "<b>R7-R6</b><br>Índice Plot: 80<br>MT: 0.0000 | <b>Δt: 0.0238s</b><br>Tm: 1.7384s | Tb: 1.9622s<br>Línea: L7-8 | Falla: 10<br>Estado: Coordinado<extra></extra>",
          "<b>R5-R4</b><br>Índice Plot: 81<br>MT: 0.0000 | <b>Δt: 0.0290s</b><br>Tm: 2.2100s | Tb: 2.4390s<br>Línea: L5-6 | Falla: 10<br>Estado: Coordinado<extra></extra>",
          "<b>R42-R43</b><br>Índice Plot: 82<br>MT: 0.0000 | <b>Δt: 0.6125s</b><br>Tm: 1.8509s | Tb: 2.6634s<br>Línea: L5-6 | Falla: 90<br>Estado: Coordinado<extra></extra>",
          "<b>R28-R27</b><br>Índice Plot: 83<br>MT: 0.0000 | <b>Δt: 0.0006s</b><br>Tm: 2.5829s | Tb: 2.7835s<br>Línea: L28-29 | Falla: 10<br>Estado: Coordinado<extra></extra>",
          "<b>R27-R26</b><br>Índice Plot: 84<br>MT: 0.0000 | <b>Δt: 0.0268s</b><br>Tm: 2.2492s | Tb: 2.4760s<br>Línea: L27-28 | Falla: 10<br>Estado: Coordinado<extra></extra>",
          "<b>R25-R43</b><br>Índice Plot: 85<br>MT: 0.0000 | <b>Δt: 0.0241s</b><br>Tm: 2.4072s | Tb: 2.6313s<br>Línea: L6-26 | Falla: 10<br>Estado: Coordinado<extra></extra>",
          "<b>R62-R63</b><br>Índice Plot: 86<br>MT: 0.0000 | <b>Δt: 0.0180s</b><br>Tm: 1.9479s | Tb: 2.1659s<br>Línea: L6-26 | Falla: 90<br>Estado: Coordinado<extra></extra>",
          "<b>R6-R5</b><br>Índice Plot: 87<br>MT: 0.0000 | <b>Δt: 0.6638s</b><br>Tm: 1.8263s | Tb: 2.6901s<br>Línea: L6-7 | Falla: 10<br>Estado: Coordinado<extra></extra>",
          "<b>R6-R62</b><br>Índice Plot: 88<br>MT: 0.0000 | <b>Δt: 0.0404s</b><br>Tm: 1.8263s | Tb: 2.0667s<br>Línea: L6-7 | Falla: 10<br>Estado: Coordinado<extra></extra>",
          "<b>R43-R44</b><br>Índice Plot: 89<br>MT: 0.0000 | <b>Δt: 0.0146s</b><br>Tm: 2.4393s | Tb: 2.6539s<br>Línea: L6-7 | Falla: 90<br>Estado: Coordinado<extra></extra>",
          "<b>R44-R45</b><br>Índice Plot: 90<br>MT: 0.0000 | <b>Δt: 0.0473s</b><br>Tm: 2.4149s | Tb: 2.6622s<br>Línea: L7-8 | Falla: 90<br>Estado: Coordinado<extra></extra>",
          "<b>R4-R3</b><br>Índice Plot: 91<br>MT: 0.0000 | <b>Δt: 0.0349s</b><br>Tm: 2.1654s | Tb: 2.4003s<br>Línea: L4-5 | Falla: 10<br>Estado: Coordinado<extra></extra>",
          "<b>R8-R7</b><br>Índice Plot: 92<br>MT: 0.0000 | <b>Δt: 0.0266s</b><br>Tm: 1.6771s | Tb: 1.9037s<br>Línea: L8-9 | Falla: 10<br>Estado: Coordinado<extra></extra>",
          "<b>R8-R70</b><br>Índice Plot: 93<br>MT: 0.0000 | <b>Δt: 0.7190s</b><br>Tm: 1.6771s | Tb: 2.5961s<br>Línea: L8-9 | Falla: 10<br>Estado: Coordinado<extra></extra>",
          "<b>R45-R46</b><br>Índice Plot: 94<br>MT: 0.0000 | <b>Δt: 0.0265s</b><br>Tm: 2.2619s | Tb: 2.4884s<br>Línea: L8-9 | Falla: 90<br>Estado: Coordinado<extra></extra>",
          "<b>R45-R71</b><br>Índice Plot: 95<br>MT: 0.0000 | <b>Δt: 0.0421s</b><br>Tm: 2.2619s | Tb: 2.5040s<br>Línea: L8-9 | Falla: 90<br>Estado: Coordinado<extra></extra>",
          "<b>R9-R8</b><br>Índice Plot: 96<br>MT: 0.0000 | <b>Δt: 0.0164s</b><br>Tm: 1.8166s | Tb: 2.0330s<br>Línea: L9-10 | Falla: 10<br>Estado: Coordinado<extra></extra>",
          "<b>R9-R71</b><br>Índice Plot: 97<br>MT: 0.0000 | <b>Δt: 0.6633s</b><br>Tm: 1.8166s | Tb: 2.6799s<br>Línea: L9-10 | Falla: 10<br>Estado: Coordinado<extra></extra>",
          "<b>R46-R47</b><br>Índice Plot: 98<br>MT: 0.0000 | <b>Δt: 0.0004s</b><br>Tm: 1.8203s | Tb: 2.0207s<br>Línea: L9-10 | Falla: 90<br>Estado: Coordinado<extra></extra>",
          "<b>R61-R74</b><br>Índice Plot: 99<br>MT: 0.0000 | <b>Δt: 0.0557s</b><br>Tm: 1.5339s | Tb: 1.7896s<br>Línea: L24-25 | Falla: 90<br>Estado: Coordinado<extra></extra>",
          "<b>R71-R52</b><br>Índice Plot: 100<br>MT: 0.0000 | <b>Δt: 0.6808s</b><br>Tm: 1.3400s | Tb: 2.2208s<br>Línea: L9-15 | Falla: 90<br>Estado: Coordinado<extra></extra>"
         ],
         "type": "bar",
         "x": [
          1,
          2,
          3,
          4,
          5,
          6,
          7,
          8,
          9,
          10,
          11,
          12,
          13,
          14,
          15,
          16,
          17,
          18,
          19,
          20,
          21,
          22,
          23,
          24,
          25,
          26,
          27,
          28,
          29,
          30,
          31,
          32,
          33,
          34,
          35,
          36,
          37,
          38,
          39,
          40,
          41,
          42,
          43,
          44,
          45,
          46,
          47,
          48,
          49,
          50,
          51,
          52,
          53,
          54,
          55,
          56,
          57,
          58,
          59,
          60,
          61,
          62,
          63,
          64,
          65,
          66,
          67,
          68,
          69,
          70,
          71,
          72,
          73,
          74,
          75,
          76,
          77,
          78,
          79,
          80,
          81,
          82,
          83,
          84,
          85,
          86,
          87,
          88,
          89,
          90,
          91,
          92,
          93,
          94,
          95,
          96,
          97,
          98,
          99,
          100
         ],
         "y": [
          -0.13900000000000007,
          -0.12010000000000015,
          -0.10689999999999983,
          -0.09670000000000006,
          -0.07500000000000001,
          -0.06519999999999976,
          -0.06439999999999985,
          -0.02549999999999991,
          -0.015600000000000336,
          -0.011599999999999888,
          -0.00929999999999992,
          -0.007199999999999929,
          -0.002799999999999969,
          0.06669999999999993,
          1.7861,
          0.02150000000000002,
          0.021900000000000197,
          0.043899999999999995,
          0.1267000000000002,
          0.03350000000000003,
          0.003200000000000258,
          0.05850000000000016,
          0.07570000000000005,
          0.06529999999999986,
          0.08939999999999965,
          0.07519999999999988,
          0.12140000000000012,
          0.06599999999999978,
          0.023200000000000276,
          0.09910000000000013,
          0.004500000000000115,
          0.43070000000000025,
          0.09439999999999998,
          1.0817,
          0.04920000000000008,
          0.7327000000000001,
          0.9717,
          0.06499999999999989,
          0.01889999999999986,
          0.3241,
          0.21400000000000013,
          0.013600000000000001,
          0.33560000000000006,
          0.2697,
          1.1912,
          0.01579999999999998,
          0.9303999999999999,
          1.4757999999999998,
          0.0015999999999999903,
          0.6123999999999998,
          0.00019999999999970042,
          1.0917,
          0.3042000000000002,
          0.010799999999999865,
          0.011300000000000032,
          0.07130000000000009,
          0.033999999999999975,
          0.03329999999999983,
          0.06469999999999992,
          0.7112999999999998,
          0.045000000000000095,
          0.15299999999999975,
          0.03439999999999993,
          0.04479999999999967,
          0.26179999999999976,
          0.043800000000000006,
          0.045899999999999774,
          1.2379,
          0.014399999999999913,
          0.10699999999999993,
          0.24200000000000016,
          0.018800000000000094,
          0.21139999999999998,
          0.008699999999999875,
          0.010199999999999931,
          0.037200000000000066,
          0.0023000000000001353,
          0.7241,
          0.027200000000000057,
          0.023799999999999988,
          0.02900000000000008,
          0.6125000000000003,
          0.0006000000000001005,
          0.02679999999999988,
          0.024099999999999955,
          0.018000000000000183,
          0.6638000000000002,
          0.040399999999999936,
          0.014600000000000335,
          0.047300000000000064,
          0.0349000000000001,
          0.0265999999999999,
          0.7189999999999999,
          0.026500000000000135,
          0.04210000000000019,
          0.016399999999999915,
          0.6633,
          0.0004000000000001225,
          0.05570000000000003,
          0.6808000000000001
         ]
        }
       ],
       "layout": {
        "annotations": [
         {
          "showarrow": false,
          "text": "Límite CTI (Δt=0)",
          "x": 1,
          "xanchor": "right",
          "xref": "x domain",
          "y": 0,
          "yanchor": "top",
          "yref": "y"
         }
        ],
        "bargap": 0.1,
        "height": 900,
        "margin": {
         "b": 100,
         "l": 60,
         "r": 30,
         "t": 100
        },
        "shapes": [
         {
          "line": {
           "color": "black",
           "dash": "dash",
           "width": 1.5
          },
          "type": "line",
          "x0": 0,
          "x1": 1,
          "xref": "x domain",
          "y0": 0,
          "y1": 0,
          "yref": "y"
         }
        ],
        "template": {
         "data": {
          "bar": [
           {
            "error_x": {
             "color": "#2a3f5f"
            },
            "error_y": {
             "color": "#2a3f5f"
            },
            "marker": {
             "line": {
              "color": "white",
              "width": 0.5
             },
             "pattern": {
              "fillmode": "overlay",
              "size": 10,
              "solidity": 0.2
             }
            },
            "type": "bar"
           }
          ],
          "barpolar": [
           {
            "marker": {
             "line": {
              "color": "white",
              "width": 0.5
             },
             "pattern": {
              "fillmode": "overlay",
              "size": 10,
              "solidity": 0.2
             }
            },
            "type": "barpolar"
           }
          ],
          "carpet": [
           {
            "aaxis": {
             "endlinecolor": "#2a3f5f",
             "gridcolor": "#C8D4E3",
             "linecolor": "#C8D4E3",
             "minorgridcolor": "#C8D4E3",
             "startlinecolor": "#2a3f5f"
            },
            "baxis": {
             "endlinecolor": "#2a3f5f",
             "gridcolor": "#C8D4E3",
             "linecolor": "#C8D4E3",
             "minorgridcolor": "#C8D4E3",
             "startlinecolor": "#2a3f5f"
            },
            "type": "carpet"
           }
          ],
          "choropleth": [
           {
            "colorbar": {
             "outlinewidth": 0,
             "ticks": ""
            },
            "type": "choropleth"
           }
          ],
          "contour": [
           {
            "colorbar": {
             "outlinewidth": 0,
             "ticks": ""
            },
            "colorscale": [
             [
              0,
              "#0d0887"
             ],
             [
              0.1111111111111111,
              "#46039f"
             ],
             [
              0.2222222222222222,
              "#7201a8"
             ],
             [
              0.3333333333333333,
              "#9c179e"
             ],
             [
              0.4444444444444444,
              "#bd3786"
             ],
             [
              0.5555555555555556,
              "#d8576b"
             ],
             [
              0.6666666666666666,
              "#ed7953"
             ],
             [
              0.7777777777777778,
              "#fb9f3a"
             ],
             [
              0.8888888888888888,
              "#fdca26"
             ],
             [
              1,
              "#f0f921"
             ]
            ],
            "type": "contour"
           }
          ],
          "contourcarpet": [
           {
            "colorbar": {
             "outlinewidth": 0,
             "ticks": ""
            },
            "type": "contourcarpet"
           }
          ],
          "heatmap": [
           {
            "colorbar": {
             "outlinewidth": 0,
             "ticks": ""
            },
            "colorscale": [
             [
              0,
              "#0d0887"
             ],
             [
              0.1111111111111111,
              "#46039f"
             ],
             [
              0.2222222222222222,
              "#7201a8"
             ],
             [
              0.3333333333333333,
              "#9c179e"
             ],
             [
              0.4444444444444444,
              "#bd3786"
             ],
             [
              0.5555555555555556,
              "#d8576b"
             ],
             [
              0.6666666666666666,
              "#ed7953"
             ],
             [
              0.7777777777777778,
              "#fb9f3a"
             ],
             [
              0.8888888888888888,
              "#fdca26"
             ],
             [
              1,
              "#f0f921"
             ]
            ],
            "type": "heatmap"
           }
          ],
          "heatmapgl": [
           {
            "colorbar": {
             "outlinewidth": 0,
             "ticks": ""
            },
            "colorscale": [
             [
              0,
              "#0d0887"
             ],
             [
              0.1111111111111111,
              "#46039f"
             ],
             [
              0.2222222222222222,
              "#7201a8"
             ],
             [
              0.3333333333333333,
              "#9c179e"
             ],
             [
              0.4444444444444444,
              "#bd3786"
             ],
             [
              0.5555555555555556,
              "#d8576b"
             ],
             [
              0.6666666666666666,
              "#ed7953"
             ],
             [
              0.7777777777777778,
              "#fb9f3a"
             ],
             [
              0.8888888888888888,
              "#fdca26"
             ],
             [
              1,
              "#f0f921"
             ]
            ],
            "type": "heatmapgl"
           }
          ],
          "histogram": [
           {
            "marker": {
             "pattern": {
              "fillmode": "overlay",
              "size": 10,
              "solidity": 0.2
             }
            },
            "type": "histogram"
           }
          ],
          "histogram2d": [
           {
            "colorbar": {
             "outlinewidth": 0,
             "ticks": ""
            },
            "colorscale": [
             [
              0,
              "#0d0887"
             ],
             [
              0.1111111111111111,
              "#46039f"
             ],
             [
              0.2222222222222222,
              "#7201a8"
             ],
             [
              0.3333333333333333,
              "#9c179e"
             ],
             [
              0.4444444444444444,
              "#bd3786"
             ],
             [
              0.5555555555555556,
              "#d8576b"
             ],
             [
              0.6666666666666666,
              "#ed7953"
             ],
             [
              0.7777777777777778,
              "#fb9f3a"
             ],
             [
              0.8888888888888888,
              "#fdca26"
             ],
             [
              1,
              "#f0f921"
             ]
            ],
            "type": "histogram2d"
           }
          ],
          "histogram2dcontour": [
           {
            "colorbar": {
             "outlinewidth": 0,
             "ticks": ""
            },
            "colorscale": [
             [
              0,
              "#0d0887"
             ],
             [
              0.1111111111111111,
              "#46039f"
             ],
             [
              0.2222222222222222,
              "#7201a8"
             ],
             [
              0.3333333333333333,
              "#9c179e"
             ],
             [
              0.4444444444444444,
              "#bd3786"
             ],
             [
              0.5555555555555556,
              "#d8576b"
             ],
             [
              0.6666666666666666,
              "#ed7953"
             ],
             [
              0.7777777777777778,
              "#fb9f3a"
             ],
             [
              0.8888888888888888,
              "#fdca26"
             ],
             [
              1,
              "#f0f921"
             ]
            ],
            "type": "histogram2dcontour"
           }
          ],
          "mesh3d": [
           {
            "colorbar": {
             "outlinewidth": 0,
             "ticks": ""
            },
            "type": "mesh3d"
           }
          ],
          "parcoords": [
           {
            "line": {
             "colorbar": {
              "outlinewidth": 0,
              "ticks": ""
             }
            },
            "type": "parcoords"
           }
          ],
          "pie": [
           {
            "automargin": true,
            "type": "pie"
           }
          ],
          "scatter": [
           {
            "fillpattern": {
             "fillmode": "overlay",
             "size": 10,
             "solidity": 0.2
            },
            "type": "scatter"
           }
          ],
          "scatter3d": [
           {
            "line": {
             "colorbar": {
              "outlinewidth": 0,
              "ticks": ""
             }
            },
            "marker": {
             "colorbar": {
              "outlinewidth": 0,
              "ticks": ""
             }
            },
            "type": "scatter3d"
           }
          ],
          "scattercarpet": [
           {
            "marker": {
             "colorbar": {
              "outlinewidth": 0,
              "ticks": ""
             }
            },
            "type": "scattercarpet"
           }
          ],
          "scattergeo": [
           {
            "marker": {
             "colorbar": {
              "outlinewidth": 0,
              "ticks": ""
             }
            },
            "type": "scattergeo"
           }
          ],
          "scattergl": [
           {
            "marker": {
             "colorbar": {
              "outlinewidth": 0,
              "ticks": ""
             }
            },
            "type": "scattergl"
           }
          ],
          "scattermapbox": [
           {
            "marker": {
             "colorbar": {
              "outlinewidth": 0,
              "ticks": ""
             }
            },
            "type": "scattermapbox"
           }
          ],
          "scatterpolar": [
           {
            "marker": {
             "colorbar": {
              "outlinewidth": 0,
              "ticks": ""
             }
            },
            "type": "scatterpolar"
           }
          ],
          "scatterpolargl": [
           {
            "marker": {
             "colorbar": {
              "outlinewidth": 0,
              "ticks": ""
             }
            },
            "type": "scatterpolargl"
           }
          ],
          "scatterternary": [
           {
            "marker": {
             "colorbar": {
              "outlinewidth": 0,
              "ticks": ""
             }
            },
            "type": "scatterternary"
           }
          ],
          "surface": [
           {
            "colorbar": {
             "outlinewidth": 0,
             "ticks": ""
            },
            "colorscale": [
             [
              0,
              "#0d0887"
             ],
             [
              0.1111111111111111,
              "#46039f"
             ],
             [
              0.2222222222222222,
              "#7201a8"
             ],
             [
              0.3333333333333333,
              "#9c179e"
             ],
             [
              0.4444444444444444,
              "#bd3786"
             ],
             [
              0.5555555555555556,
              "#d8576b"
             ],
             [
              0.6666666666666666,
              "#ed7953"
             ],
             [
              0.7777777777777778,
              "#fb9f3a"
             ],
             [
              0.8888888888888888,
              "#fdca26"
             ],
             [
              1,
              "#f0f921"
             ]
            ],
            "type": "surface"
           }
          ],
          "table": [
           {
            "cells": {
             "fill": {
              "color": "#EBF0F8"
             },
             "line": {
              "color": "white"
             }
            },
            "header": {
             "fill": {
              "color": "#C8D4E3"
             },
             "line": {
              "color": "white"
             }
            },
            "type": "table"
           }
          ]
         },
         "layout": {
          "annotationdefaults": {
           "arrowcolor": "#2a3f5f",
           "arrowhead": 0,
           "arrowwidth": 1
          },
          "autotypenumbers": "strict",
          "coloraxis": {
           "colorbar": {
            "outlinewidth": 0,
            "ticks": ""
           }
          },
          "colorscale": {
           "diverging": [
            [
             0,
             "#8e0152"
            ],
            [
             0.1,
             "#c51b7d"
            ],
            [
             0.2,
             "#de77ae"
            ],
            [
             0.3,
             "#f1b6da"
            ],
            [
             0.4,
             "#fde0ef"
            ],
            [
             0.5,
             "#f7f7f7"
            ],
            [
             0.6,
             "#e6f5d0"
            ],
            [
             0.7,
             "#b8e186"
            ],
            [
             0.8,
             "#7fbc41"
            ],
            [
             0.9,
             "#4d9221"
            ],
            [
             1,
             "#276419"
            ]
           ],
           "sequential": [
            [
             0,
             "#0d0887"
            ],
            [
             0.1111111111111111,
             "#46039f"
            ],
            [
             0.2222222222222222,
             "#7201a8"
            ],
            [
             0.3333333333333333,
             "#9c179e"
            ],
            [
             0.4444444444444444,
             "#bd3786"
            ],
            [
             0.5555555555555556,
             "#d8576b"
            ],
            [
             0.6666666666666666,
             "#ed7953"
            ],
            [
             0.7777777777777778,
             "#fb9f3a"
            ],
            [
             0.8888888888888888,
             "#fdca26"
            ],
            [
             1,
             "#f0f921"
            ]
           ],
           "sequentialminus": [
            [
             0,
             "#0d0887"
            ],
            [
             0.1111111111111111,
             "#46039f"
            ],
            [
             0.2222222222222222,
             "#7201a8"
            ],
            [
             0.3333333333333333,
             "#9c179e"
            ],
            [
             0.4444444444444444,
             "#bd3786"
            ],
            [
             0.5555555555555556,
             "#d8576b"
            ],
            [
             0.6666666666666666,
             "#ed7953"
            ],
            [
             0.7777777777777778,
             "#fb9f3a"
            ],
            [
             0.8888888888888888,
             "#fdca26"
            ],
            [
             1,
             "#f0f921"
            ]
           ]
          },
          "colorway": [
           "#636efa",
           "#EF553B",
           "#00cc96",
           "#ab63fa",
           "#FFA15A",
           "#19d3f3",
           "#FF6692",
           "#B6E880",
           "#FF97FF",
           "#FECB52"
          ],
          "font": {
           "color": "#2a3f5f"
          },
          "geo": {
           "bgcolor": "white",
           "lakecolor": "white",
           "landcolor": "white",
           "showlakes": true,
           "showland": true,
           "subunitcolor": "#C8D4E3"
          },
          "hoverlabel": {
           "align": "left"
          },
          "hovermode": "closest",
          "mapbox": {
           "style": "light"
          },
          "paper_bgcolor": "white",
          "plot_bgcolor": "white",
          "polar": {
           "angularaxis": {
            "gridcolor": "#EBF0F8",
            "linecolor": "#EBF0F8",
            "ticks": ""
           },
           "bgcolor": "white",
           "radialaxis": {
            "gridcolor": "#EBF0F8",
            "linecolor": "#EBF0F8",
            "ticks": ""
           }
          },
          "scene": {
           "xaxis": {
            "backgroundcolor": "white",
            "gridcolor": "#DFE8F3",
            "gridwidth": 2,
            "linecolor": "#EBF0F8",
            "showbackground": true,
            "ticks": "",
            "zerolinecolor": "#EBF0F8"
           },
           "yaxis": {
            "backgroundcolor": "white",
            "gridcolor": "#DFE8F3",
            "gridwidth": 2,
            "linecolor": "#EBF0F8",
            "showbackground": true,
            "ticks": "",
            "zerolinecolor": "#EBF0F8"
           },
           "zaxis": {
            "backgroundcolor": "white",
            "gridcolor": "#DFE8F3",
            "gridwidth": 2,
            "linecolor": "#EBF0F8",
            "showbackground": true,
            "ticks": "",
            "zerolinecolor": "#EBF0F8"
           }
          },
          "shapedefaults": {
           "line": {
            "color": "#2a3f5f"
           }
          },
          "ternary": {
           "aaxis": {
            "gridcolor": "#DFE8F3",
            "linecolor": "#A2B1C6",
            "ticks": ""
           },
           "baxis": {
            "gridcolor": "#DFE8F3",
            "linecolor": "#A2B1C6",
            "ticks": ""
           },
           "bgcolor": "white",
           "caxis": {
            "gridcolor": "#DFE8F3",
            "linecolor": "#A2B1C6",
            "ticks": ""
           }
          },
          "title": {
           "x": 0.05
          },
          "xaxis": {
           "automargin": true,
           "gridcolor": "#EBF0F8",
           "linecolor": "#EBF0F8",
           "ticks": "",
           "title": {
            "standoff": 15
           },
           "zerolinecolor": "#EBF0F8",
           "zerolinewidth": 2
          },
          "yaxis": {
           "automargin": true,
           "gridcolor": "#EBF0F8",
           "linecolor": "#EBF0F8",
           "ticks": "",
           "title": {
            "standoff": 15
           },
           "zerolinecolor": "#EBF0F8",
           "zerolinewidth": 2
          }
         }
        },
        "title": {
         "text": "Diferencia de Tiempo (Δt = Tb - Tm - CTI) - Escenario: scenario_1 Optimizado<br><sup>CTI = 0.2s</sup>"
        },
        "xaxis": {
         "tickmode": "auto",
         "title": {
          "text": "Índice del Par de Relés (Ordenado por MT Ascendente)"
         }
        },
        "yaxis": {
         "gridcolor": "lightgrey",
         "title": {
          "text": "Δt [s]"
         },
         "zerolinecolor": "black",
         "zerolinewidth": 1.5
        }
       }
      }
     },
     "metadata": {},
     "output_type": "display_data"
    },
    {
     "name": "stdout",
     "output_type": "stream",
     "text": [
      "    Displaying delta_scatter plot...\n"
     ]
    },
    {
     "data": {
      "application/vnd.plotly.v1+json": {
       "config": {
        "plotlyServerURL": "https://plot.ly"
       },
       "data": [
        {
         "customdata": [
          [
           "R19-R18",
           -0.13900000000000007,
           1.5523,
           1.6133,
           "L19-20",
           "10",
           "Descoordinado"
          ],
          [
           "R11-R10",
           -0.12010000000000015,
           1.987,
           2.0669,
           "L11-12",
           "10",
           "Descoordinado"
          ],
          [
           "R12-R11",
           -0.10689999999999983,
           2.0294,
           2.1225,
           "L12-13",
           "10",
           "Descoordinado"
          ],
          [
           "R10-R9",
           -0.09670000000000006,
           2.0165,
           2.1198,
           "L10-11",
           "10",
           "Descoordinado"
          ],
          [
           "R23-R22",
           -0.07500000000000001,
           2.1218,
           2.2468,
           "L23-24",
           "10",
           "Descoordinado"
          ],
          [
           "R44-R70",
           -0.06519999999999976,
           2.4149,
           2.5497,
           "L7-8",
           "90",
           "Descoordinado"
          ],
          [
           "R13-R12",
           -0.06439999999999985,
           2.3337,
           2.4693,
           "L13-14",
           "10",
           "Descoordinado"
          ],
          [
           "R17-R16",
           -0.02549999999999991,
           2.5522,
           2.7267,
           "L17-18",
           "10",
           "Descoordinado"
          ],
          [
           "R20-R19",
           -0.015600000000000336,
           1.8801,
           2.0645,
           "L20-21",
           "10",
           "Descoordinado"
          ],
          [
           "R70-R20",
           -0.011599999999999888,
           1.8668,
           2.0552,
           "L8-21",
           "90",
           "Descoordinado"
          ],
          [
           "R15-R34",
           -0.00929999999999992,
           2.338,
           2.5287,
           "L15-16",
           "10",
           "Descoordinado"
          ],
          [
           "R15-R14",
           -0.007199999999999929,
           2.338,
           2.5308,
           "L15-16",
           "10",
           "Descoordinado"
          ],
          [
           "R24-R23",
           -0.002799999999999969,
           2.4064,
           2.6036,
           "L24-25",
           "10",
           "Descoordinado"
          ]
         ],
         "hovertemplate": "status=%{customdata[6]}<br>delta_t=%{y:.4f}<br>pair_label=%{customdata[0]}<br>mt=%{customdata[1]:.4f}<br>tm=%{customdata[2]:.4f}<br>tb=%{customdata[3]:.4f}<br>line=%{customdata[4]}<br>fault=%{customdata[5]}<extra></extra>",
         "legendgroup": "Descoordinado",
         "marker": {
          "color": "red",
          "opacity": 0.7,
          "size": 8,
          "symbol": "circle"
         },
         "mode": "markers",
         "name": "Descoordinado",
         "orientation": "v",
         "showlegend": true,
         "type": "scatter",
         "x": [
          1,
          2,
          3,
          4,
          5,
          6,
          7,
          8,
          9,
          10,
          11,
          12,
          13
         ],
         "xaxis": "x",
         "y": [
          -0.13900000000000007,
          -0.12010000000000015,
          -0.10689999999999983,
          -0.09670000000000006,
          -0.07500000000000001,
          -0.06519999999999976,
          -0.06439999999999985,
          -0.02549999999999991,
          -0.015600000000000336,
          -0.011599999999999888,
          -0.00929999999999992,
          -0.007199999999999929,
          -0.002799999999999969
         ],
         "yaxis": "y"
        },
        {
         "customdata": [
          [
           "R51-R52",
           0,
           1.898,
           2.1647,
           "L14-15",
           "90",
           "Coordinado"
          ],
          [
           "R38-R55",
           0,
           0.1989,
           2.185,
           "L1-2",
           "90",
           "Coordinado"
          ],
          [
           "R47-R48",
           0,
           1.9344,
           2.1559,
           "L10-11",
           "90",
           "Coordinado"
          ],
          [
           "R48-R49",
           0,
           2.0627,
           2.2846,
           "L11-12",
           "90",
           "Coordinado"
          ],
          [
           "R48-R72",
           0,
           2.0627,
           2.3066,
           "L11-12",
           "90",
           "Coordinado"
          ],
          [
           "R12-R72",
           0,
           2.0294,
           2.3561,
           "L12-13",
           "10",
           "Coordinado"
          ],
          [
           "R49-R50",
           0,
           1.7994,
           2.0329,
           "L12-13",
           "90",
           "Coordinado"
          ],
          [
           "R50-R51",
           0,
           1.8518,
           2.055,
           "L13-14",
           "90",
           "Coordinado"
          ],
          [
           "R14-R13",
           0,
           2.3044,
           2.5629,
           "L14-15",
           "10",
           "Coordinado"
          ],
          [
           "R54-R73",
           0,
           2.2353,
           2.511,
           "L17-18",
           "90",
           "Coordinado"
          ],
          [
           "R18-R39",
           0,
           1.4531,
           1.7184,
           "L2-19",
           "10",
           "Coordinado"
          ],
          [
           "R52-R53",
           0,
           2.0266,
           2.316,
           "L15-16",
           "90",
           "Coordinado"
          ],
          [
           "R16-R15",
           0,
           2.305,
           2.5802,
           "L16-17",
           "10",
           "Coordinado"
          ],
          [
           "R53-R54",
           0,
           2.0604,
           2.3818,
           "L16-17",
           "90",
           "Coordinado"
          ],
          [
           "R55-R56",
           0,
           1.8282,
           2.0942,
           "L2-19",
           "90",
           "Coordinado"
          ],
          [
           "R36-R17",
           0,
           2.5008,
           2.724,
           "L18-33",
           "10",
           "Coordinado"
          ],
          [
           "R73-R32",
           0,
           2.3767,
           2.6758,
           "L18-33",
           "90",
           "Coordinado"
          ],
          [
           "R56-R57",
           0,
           1.5655,
           1.77,
           "L19-20",
           "90",
           "Coordinado"
          ],
          [
           "R51-R34",
           0,
           1.898,
           2.5287,
           "L14-15",
           "90",
           "Coordinado"
          ],
          [
           "R2-R1",
           0,
           1.9891,
           2.2835,
           "L2-3",
           "10",
           "Coordinado"
          ],
          [
           "R71-R14",
           0,
           1.34,
           2.6217,
           "L9-15",
           "90",
           "Coordinado"
          ],
          [
           "R26-R25",
           0,
           2.2805,
           2.5297,
           "L26-27",
           "10",
           "Coordinado"
          ],
          [
           "R39-R40",
           0,
           1.1999,
           2.1326,
           "L2-3",
           "90",
           "Coordinado"
          ],
          [
           "R39-R59",
           0,
           1.1999,
           2.3716,
           "L2-3",
           "90",
           "Coordinado"
          ],
          [
           "R57-R58",
           0,
           1.6605,
           1.9255,
           "L20-21",
           "90",
           "Coordinado"
          ],
          [
           "R57-R33",
           0,
           1.6605,
           1.8794,
           "L20-21",
           "90",
           "Coordinado"
          ],
          [
           "R21-R20",
           0,
           1.4986,
           2.0227,
           "L21-22",
           "10",
           "Coordinado"
          ],
          [
           "R21-R33",
           0,
           1.4986,
           1.9126,
           "L21-22",
           "10",
           "Coordinado"
          ],
          [
           "R58-R35",
           0,
           1.6871,
           1.9007,
           "L21-22",
           "90",
           "Coordinado"
          ],
          [
           "R33-R7",
           0,
           1.416,
           1.9516,
           "L8-21",
           "10",
           "Coordinado"
          ],
          [
           "R2-R55",
           0,
           1.9891,
           2.4588,
           "L2-3",
           "10",
           "Coordinado"
          ],
          [
           "R33-R45",
           0,
           1.416,
           2.8072,
           "L8-21",
           "10",
           "Coordinado"
          ],
          [
           "R72-R21",
           0,
           1.8478,
           2.0636,
           "L12-22",
           "10",
           "Coordinado"
          ],
          [
           "R35-R11",
           0,
           1.5177,
           2.6481,
           "L12-22",
           "90",
           "Coordinado"
          ],
          [
           "R35-R49",
           0,
           1.5177,
           3.1935,
           "L12-22",
           "90",
           "Coordinado"
          ],
          [
           "R60-R61",
           0,
           1.5096,
           1.7112,
           "L23-24",
           "90",
           "Coordinado"
          ],
          [
           "R18-R1",
           0,
           1.4531,
           2.2655,
           "L2-19",
           "10",
           "Coordinado"
          ],
          [
           "R37-R24",
           0,
           2.6099,
           2.8101,
           "L25-29",
           "10",
           "Coordinado"
          ],
          [
           "R74-R28",
           0,
           1.6779,
           2.9696,
           "L25-29",
           "90",
           "Coordinado"
          ],
          [
           "R74-R66",
           0,
           1.6779,
           2.1821,
           "L25-29",
           "90",
           "Coordinado"
          ],
          [
           "R70-R58",
           0,
           1.8668,
           2.0776,
           "L8-21",
           "90",
           "Coordinado"
          ],
          [
           "R63-R64",
           0,
           2.0625,
           2.2738,
           "L26-27",
           "90",
           "Coordinado"
          ],
          [
           "R25-R5",
           0,
           2.4072,
           2.6785,
           "L6-26",
           "10",
           "Coordinado"
          ],
          [
           "R64-R65",
           0,
           1.9583,
           2.1923,
           "L27-28",
           "90",
           "Coordinado"
          ],
          [
           "R69-R36",
           0,
           2.3775,
           2.6108,
           "L32-33",
           "90",
           "Coordinado"
          ],
          [
           "R3-R2",
           0,
           2.1218,
           2.3865,
           "L3-4",
           "10",
           "Coordinado"
          ],
          [
           "R65-R37",
           0,
           1.9594,
           2.8707,
           "L28-29",
           "90",
           "Coordinado"
          ],
          [
           "R65-R66",
           0,
           1.9594,
           2.2044,
           "L28-29",
           "90",
           "Coordinado"
          ],
          [
           "R29-R28",
           0,
           2.6166,
           2.9696,
           "L29-30",
           "10",
           "Coordinado"
          ],
          [
           "R29-R37",
           0,
           2.6166,
           2.851,
           "L29-30",
           "10",
           "Coordinado"
          ],
          [
           "R66-R67",
           0,
           2.0653,
           2.3101,
           "L29-30",
           "90",
           "Coordinado"
          ],
          [
           "R22-R2",
           0,
           1.9394,
           2.4012,
           "L3-23",
           "10",
           "Coordinado"
          ],
          [
           "R42-R62",
           0,
           1.8509,
           2.0947,
           "L5-6",
           "90",
           "Coordinado"
          ],
          [
           "R22-R40",
           0,
           1.9394,
           2.1853,
           "L3-23",
           "10",
           "Coordinado"
          ],
          [
           "R38-R39",
           0,
           0.1989,
           1.6368,
           "L1-2",
           "90",
           "Coordinado"
          ],
          [
           "R67-R68",
           0,
           2.1176,
           2.332,
           "L30-31",
           "90",
           "Coordinado"
          ],
          [
           "R32-R31",
           0,
           2.5315,
           2.8385,
           "L32-33",
           "10",
           "Coordinado"
          ],
          [
           "R3-R59",
           0,
           2.1218,
           2.5638,
           "L3-4",
           "10",
           "Coordinado"
          ],
          [
           "R40-R41",
           0,
           1.8337,
           2.0525,
           "L3-4",
           "90",
           "Coordinado"
          ],
          [
           "R30-R29",
           0,
           2.4651,
           2.8765,
           "L30-31",
           "10",
           "Coordinado"
          ],
          [
           "R68-R69",
           0,
           2.2508,
           2.4595,
           "L31-32",
           "90",
           "Coordinado"
          ],
          [
           "R31-R30",
           0,
           2.6913,
           2.9015,
           "L31-32",
           "10",
           "Coordinado"
          ],
          [
           "R59-R60",
           0,
           1.6106,
           1.8478,
           "L3-23",
           "90",
           "Coordinado"
          ],
          [
           "R41-R42",
           0,
           1.8954,
           2.0977,
           "L4-5",
           "90",
           "Coordinado"
          ],
          [
           "R34-R46",
           0,
           1.86,
           2.7841,
           "L9-15",
           "10",
           "Coordinado"
          ],
          [
           "R34-R8",
           0,
           1.86,
           2.0872,
           "L9-15",
           "10",
           "Coordinado"
          ],
          [
           "R7-R6",
           0,
           1.7384,
           1.9622,
           "L7-8",
           "10",
           "Coordinado"
          ],
          [
           "R5-R4",
           0,
           2.21,
           2.439,
           "L5-6",
           "10",
           "Coordinado"
          ],
          [
           "R42-R43",
           0,
           1.8509,
           2.6634,
           "L5-6",
           "90",
           "Coordinado"
          ],
          [
           "R28-R27",
           0,
           2.5829,
           2.7835,
           "L28-29",
           "10",
           "Coordinado"
          ],
          [
           "R27-R26",
           0,
           2.2492,
           2.476,
           "L27-28",
           "10",
           "Coordinado"
          ],
          [
           "R25-R43",
           0,
           2.4072,
           2.6313,
           "L6-26",
           "10",
           "Coordinado"
          ],
          [
           "R62-R63",
           0,
           1.9479,
           2.1659,
           "L6-26",
           "90",
           "Coordinado"
          ],
          [
           "R6-R5",
           0,
           1.8263,
           2.6901,
           "L6-7",
           "10",
           "Coordinado"
          ],
          [
           "R6-R62",
           0,
           1.8263,
           2.0667,
           "L6-7",
           "10",
           "Coordinado"
          ],
          [
           "R43-R44",
           0,
           2.4393,
           2.6539,
           "L6-7",
           "90",
           "Coordinado"
          ],
          [
           "R44-R45",
           0,
           2.4149,
           2.6622,
           "L7-8",
           "90",
           "Coordinado"
          ],
          [
           "R4-R3",
           0,
           2.1654,
           2.4003,
           "L4-5",
           "10",
           "Coordinado"
          ],
          [
           "R8-R7",
           0,
           1.6771,
           1.9037,
           "L8-9",
           "10",
           "Coordinado"
          ],
          [
           "R8-R70",
           0,
           1.6771,
           2.5961,
           "L8-9",
           "10",
           "Coordinado"
          ],
          [
           "R45-R46",
           0,
           2.2619,
           2.4884,
           "L8-9",
           "90",
           "Coordinado"
          ],
          [
           "R45-R71",
           0,
           2.2619,
           2.504,
           "L8-9",
           "90",
           "Coordinado"
          ],
          [
           "R9-R8",
           0,
           1.8166,
           2.033,
           "L9-10",
           "10",
           "Coordinado"
          ],
          [
           "R9-R71",
           0,
           1.8166,
           2.6799,
           "L9-10",
           "10",
           "Coordinado"
          ],
          [
           "R46-R47",
           0,
           1.8203,
           2.0207,
           "L9-10",
           "90",
           "Coordinado"
          ],
          [
           "R61-R74",
           0,
           1.5339,
           1.7896,
           "L24-25",
           "90",
           "Coordinado"
          ],
          [
           "R71-R52",
           0,
           1.34,
           2.2208,
           "L9-15",
           "90",
           "Coordinado"
          ]
         ],
         "hovertemplate": "status=%{customdata[6]}<br>delta_t=%{y:.4f}<br>pair_label=%{customdata[0]}<br>mt=%{customdata[1]:.4f}<br>tm=%{customdata[2]:.4f}<br>tb=%{customdata[3]:.4f}<br>line=%{customdata[4]}<br>fault=%{customdata[5]}<extra></extra>",
         "legendgroup": "Coordinado",
         "marker": {
          "color": "green",
          "opacity": 0.7,
          "size": 8,
          "symbol": "circle"
         },
         "mode": "markers",
         "name": "Coordinado",
         "orientation": "v",
         "showlegend": true,
         "type": "scatter",
         "x": [
          14,
          15,
          16,
          17,
          18,
          19,
          20,
          21,
          22,
          23,
          24,
          25,
          26,
          27,
          28,
          29,
          30,
          31,
          32,
          33,
          34,
          35,
          36,
          37,
          38,
          39,
          40,
          41,
          42,
          43,
          44,
          45,
          46,
          47,
          48,
          49,
          50,
          51,
          52,
          53,
          54,
          55,
          56,
          57,
          58,
          59,
          60,
          61,
          62,
          63,
          64,
          65,
          66,
          67,
          68,
          69,
          70,
          71,
          72,
          73,
          74,
          75,
          76,
          77,
          78,
          79,
          80,
          81,
          82,
          83,
          84,
          85,
          86,
          87,
          88,
          89,
          90,
          91,
          92,
          93,
          94,
          95,
          96,
          97,
          98,
          99,
          100
         ],
         "xaxis": "x",
         "y": [
          0.06669999999999993,
          1.7861,
          0.02150000000000002,
          0.021900000000000197,
          0.043899999999999995,
          0.1267000000000002,
          0.03350000000000003,
          0.003200000000000258,
          0.05850000000000016,
          0.07570000000000005,
          0.06529999999999986,
          0.08939999999999965,
          0.07519999999999988,
          0.12140000000000012,
          0.06599999999999978,
          0.023200000000000276,
          0.09910000000000013,
          0.004500000000000115,
          0.43070000000000025,
          0.09439999999999998,
          1.0817,
          0.04920000000000008,
          0.7327000000000001,
          0.9717,
          0.06499999999999989,
          0.01889999999999986,
          0.3241,
          0.21400000000000013,
          0.013600000000000001,
          0.33560000000000006,
          0.2697,
          1.1912,
          0.01579999999999998,
          0.9303999999999999,
          1.4757999999999998,
          0.0015999999999999903,
          0.6123999999999998,
          0.00019999999999970042,
          1.0917,
          0.3042000000000002,
          0.010799999999999865,
          0.011300000000000032,
          0.07130000000000009,
          0.033999999999999975,
          0.03329999999999983,
          0.06469999999999992,
          0.7112999999999998,
          0.045000000000000095,
          0.15299999999999975,
          0.03439999999999993,
          0.04479999999999967,
          0.26179999999999976,
          0.043800000000000006,
          0.045899999999999774,
          1.2379,
          0.014399999999999913,
          0.10699999999999993,
          0.24200000000000016,
          0.018800000000000094,
          0.21139999999999998,
          0.008699999999999875,
          0.010199999999999931,
          0.037200000000000066,
          0.0023000000000001353,
          0.7241,
          0.027200000000000057,
          0.023799999999999988,
          0.02900000000000008,
          0.6125000000000003,
          0.0006000000000001005,
          0.02679999999999988,
          0.024099999999999955,
          0.018000000000000183,
          0.6638000000000002,
          0.040399999999999936,
          0.014600000000000335,
          0.047300000000000064,
          0.0349000000000001,
          0.0265999999999999,
          0.7189999999999999,
          0.026500000000000135,
          0.04210000000000019,
          0.016399999999999915,
          0.6633,
          0.0004000000000001225,
          0.05570000000000003,
          0.6808000000000001
         ],
         "yaxis": "y"
        }
       ],
       "layout": {
        "annotations": [
         {
          "showarrow": false,
          "text": "Límite CTI (Δt=0)",
          "x": 1,
          "xanchor": "right",
          "xref": "x domain",
          "y": 0,
          "yanchor": "top",
          "yref": "y"
         }
        ],
        "legend": {
         "title": {
          "text": "Estado Coordinación"
         },
         "tracegroupgap": 0
        },
        "shapes": [
         {
          "line": {
           "color": "black",
           "dash": "dash",
           "width": 1.5
          },
          "type": "line",
          "x0": 0,
          "x1": 1,
          "xref": "x domain",
          "y0": 0,
          "y1": 0,
          "yref": "y"
         }
        ],
        "template": {
         "data": {
          "bar": [
           {
            "error_x": {
             "color": "#2a3f5f"
            },
            "error_y": {
             "color": "#2a3f5f"
            },
            "marker": {
             "line": {
              "color": "white",
              "width": 0.5
             },
             "pattern": {
              "fillmode": "overlay",
              "size": 10,
              "solidity": 0.2
             }
            },
            "type": "bar"
           }
          ],
          "barpolar": [
           {
            "marker": {
             "line": {
              "color": "white",
              "width": 0.5
             },
             "pattern": {
              "fillmode": "overlay",
              "size": 10,
              "solidity": 0.2
             }
            },
            "type": "barpolar"
           }
          ],
          "carpet": [
           {
            "aaxis": {
             "endlinecolor": "#2a3f5f",
             "gridcolor": "#C8D4E3",
             "linecolor": "#C8D4E3",
             "minorgridcolor": "#C8D4E3",
             "startlinecolor": "#2a3f5f"
            },
            "baxis": {
             "endlinecolor": "#2a3f5f",
             "gridcolor": "#C8D4E3",
             "linecolor": "#C8D4E3",
             "minorgridcolor": "#C8D4E3",
             "startlinecolor": "#2a3f5f"
            },
            "type": "carpet"
           }
          ],
          "choropleth": [
           {
            "colorbar": {
             "outlinewidth": 0,
             "ticks": ""
            },
            "type": "choropleth"
           }
          ],
          "contour": [
           {
            "colorbar": {
             "outlinewidth": 0,
             "ticks": ""
            },
            "colorscale": [
             [
              0,
              "#0d0887"
             ],
             [
              0.1111111111111111,
              "#46039f"
             ],
             [
              0.2222222222222222,
              "#7201a8"
             ],
             [
              0.3333333333333333,
              "#9c179e"
             ],
             [
              0.4444444444444444,
              "#bd3786"
             ],
             [
              0.5555555555555556,
              "#d8576b"
             ],
             [
              0.6666666666666666,
              "#ed7953"
             ],
             [
              0.7777777777777778,
              "#fb9f3a"
             ],
             [
              0.8888888888888888,
              "#fdca26"
             ],
             [
              1,
              "#f0f921"
             ]
            ],
            "type": "contour"
           }
          ],
          "contourcarpet": [
           {
            "colorbar": {
             "outlinewidth": 0,
             "ticks": ""
            },
            "type": "contourcarpet"
           }
          ],
          "heatmap": [
           {
            "colorbar": {
             "outlinewidth": 0,
             "ticks": ""
            },
            "colorscale": [
             [
              0,
              "#0d0887"
             ],
             [
              0.1111111111111111,
              "#46039f"
             ],
             [
              0.2222222222222222,
              "#7201a8"
             ],
             [
              0.3333333333333333,
              "#9c179e"
             ],
             [
              0.4444444444444444,
              "#bd3786"
             ],
             [
              0.5555555555555556,
              "#d8576b"
             ],
             [
              0.6666666666666666,
              "#ed7953"
             ],
             [
              0.7777777777777778,
              "#fb9f3a"
             ],
             [
              0.8888888888888888,
              "#fdca26"
             ],
             [
              1,
              "#f0f921"
             ]
            ],
            "type": "heatmap"
           }
          ],
          "heatmapgl": [
           {
            "colorbar": {
             "outlinewidth": 0,
             "ticks": ""
            },
            "colorscale": [
             [
              0,
              "#0d0887"
             ],
             [
              0.1111111111111111,
              "#46039f"
             ],
             [
              0.2222222222222222,
              "#7201a8"
             ],
             [
              0.3333333333333333,
              "#9c179e"
             ],
             [
              0.4444444444444444,
              "#bd3786"
             ],
             [
              0.5555555555555556,
              "#d8576b"
             ],
             [
              0.6666666666666666,
              "#ed7953"
             ],
             [
              0.7777777777777778,
              "#fb9f3a"
             ],
             [
              0.8888888888888888,
              "#fdca26"
             ],
             [
              1,
              "#f0f921"
             ]
            ],
            "type": "heatmapgl"
           }
          ],
          "histogram": [
           {
            "marker": {
             "pattern": {
              "fillmode": "overlay",
              "size": 10,
              "solidity": 0.2
             }
            },
            "type": "histogram"
           }
          ],
          "histogram2d": [
           {
            "colorbar": {
             "outlinewidth": 0,
             "ticks": ""
            },
            "colorscale": [
             [
              0,
              "#0d0887"
             ],
             [
              0.1111111111111111,
              "#46039f"
             ],
             [
              0.2222222222222222,
              "#7201a8"
             ],
             [
              0.3333333333333333,
              "#9c179e"
             ],
             [
              0.4444444444444444,
              "#bd3786"
             ],
             [
              0.5555555555555556,
              "#d8576b"
             ],
             [
              0.6666666666666666,
              "#ed7953"
             ],
             [
              0.7777777777777778,
              "#fb9f3a"
             ],
             [
              0.8888888888888888,
              "#fdca26"
             ],
             [
              1,
              "#f0f921"
             ]
            ],
            "type": "histogram2d"
           }
          ],
          "histogram2dcontour": [
           {
            "colorbar": {
             "outlinewidth": 0,
             "ticks": ""
            },
            "colorscale": [
             [
              0,
              "#0d0887"
             ],
             [
              0.1111111111111111,
              "#46039f"
             ],
             [
              0.2222222222222222,
              "#7201a8"
             ],
             [
              0.3333333333333333,
              "#9c179e"
             ],
             [
              0.4444444444444444,
              "#bd3786"
             ],
             [
              0.5555555555555556,
              "#d8576b"
             ],
             [
              0.6666666666666666,
              "#ed7953"
             ],
             [
              0.7777777777777778,
              "#fb9f3a"
             ],
             [
              0.8888888888888888,
              "#fdca26"
             ],
             [
              1,
              "#f0f921"
             ]
            ],
            "type": "histogram2dcontour"
           }
          ],
          "mesh3d": [
           {
            "colorbar": {
             "outlinewidth": 0,
             "ticks": ""
            },
            "type": "mesh3d"
           }
          ],
          "parcoords": [
           {
            "line": {
             "colorbar": {
              "outlinewidth": 0,
              "ticks": ""
             }
            },
            "type": "parcoords"
           }
          ],
          "pie": [
           {
            "automargin": true,
            "type": "pie"
           }
          ],
          "scatter": [
           {
            "fillpattern": {
             "fillmode": "overlay",
             "size": 10,
             "solidity": 0.2
            },
            "type": "scatter"
           }
          ],
          "scatter3d": [
           {
            "line": {
             "colorbar": {
              "outlinewidth": 0,
              "ticks": ""
             }
            },
            "marker": {
             "colorbar": {
              "outlinewidth": 0,
              "ticks": ""
             }
            },
            "type": "scatter3d"
           }
          ],
          "scattercarpet": [
           {
            "marker": {
             "colorbar": {
              "outlinewidth": 0,
              "ticks": ""
             }
            },
            "type": "scattercarpet"
           }
          ],
          "scattergeo": [
           {
            "marker": {
             "colorbar": {
              "outlinewidth": 0,
              "ticks": ""
             }
            },
            "type": "scattergeo"
           }
          ],
          "scattergl": [
           {
            "marker": {
             "colorbar": {
              "outlinewidth": 0,
              "ticks": ""
             }
            },
            "type": "scattergl"
           }
          ],
          "scattermapbox": [
           {
            "marker": {
             "colorbar": {
              "outlinewidth": 0,
              "ticks": ""
             }
            },
            "type": "scattermapbox"
           }
          ],
          "scatterpolar": [
           {
            "marker": {
             "colorbar": {
              "outlinewidth": 0,
              "ticks": ""
             }
            },
            "type": "scatterpolar"
           }
          ],
          "scatterpolargl": [
           {
            "marker": {
             "colorbar": {
              "outlinewidth": 0,
              "ticks": ""
             }
            },
            "type": "scatterpolargl"
           }
          ],
          "scatterternary": [
           {
            "marker": {
             "colorbar": {
              "outlinewidth": 0,
              "ticks": ""
             }
            },
            "type": "scatterternary"
           }
          ],
          "surface": [
           {
            "colorbar": {
             "outlinewidth": 0,
             "ticks": ""
            },
            "colorscale": [
             [
              0,
              "#0d0887"
             ],
             [
              0.1111111111111111,
              "#46039f"
             ],
             [
              0.2222222222222222,
              "#7201a8"
             ],
             [
              0.3333333333333333,
              "#9c179e"
             ],
             [
              0.4444444444444444,
              "#bd3786"
             ],
             [
              0.5555555555555556,
              "#d8576b"
             ],
             [
              0.6666666666666666,
              "#ed7953"
             ],
             [
              0.7777777777777778,
              "#fb9f3a"
             ],
             [
              0.8888888888888888,
              "#fdca26"
             ],
             [
              1,
              "#f0f921"
             ]
            ],
            "type": "surface"
           }
          ],
          "table": [
           {
            "cells": {
             "fill": {
              "color": "#EBF0F8"
             },
             "line": {
              "color": "white"
             }
            },
            "header": {
             "fill": {
              "color": "#C8D4E3"
             },
             "line": {
              "color": "white"
             }
            },
            "type": "table"
           }
          ]
         },
         "layout": {
          "annotationdefaults": {
           "arrowcolor": "#2a3f5f",
           "arrowhead": 0,
           "arrowwidth": 1
          },
          "autotypenumbers": "strict",
          "coloraxis": {
           "colorbar": {
            "outlinewidth": 0,
            "ticks": ""
           }
          },
          "colorscale": {
           "diverging": [
            [
             0,
             "#8e0152"
            ],
            [
             0.1,
             "#c51b7d"
            ],
            [
             0.2,
             "#de77ae"
            ],
            [
             0.3,
             "#f1b6da"
            ],
            [
             0.4,
             "#fde0ef"
            ],
            [
             0.5,
             "#f7f7f7"
            ],
            [
             0.6,
             "#e6f5d0"
            ],
            [
             0.7,
             "#b8e186"
            ],
            [
             0.8,
             "#7fbc41"
            ],
            [
             0.9,
             "#4d9221"
            ],
            [
             1,
             "#276419"
            ]
           ],
           "sequential": [
            [
             0,
             "#0d0887"
            ],
            [
             0.1111111111111111,
             "#46039f"
            ],
            [
             0.2222222222222222,
             "#7201a8"
            ],
            [
             0.3333333333333333,
             "#9c179e"
            ],
            [
             0.4444444444444444,
             "#bd3786"
            ],
            [
             0.5555555555555556,
             "#d8576b"
            ],
            [
             0.6666666666666666,
             "#ed7953"
            ],
            [
             0.7777777777777778,
             "#fb9f3a"
            ],
            [
             0.8888888888888888,
             "#fdca26"
            ],
            [
             1,
             "#f0f921"
            ]
           ],
           "sequentialminus": [
            [
             0,
             "#0d0887"
            ],
            [
             0.1111111111111111,
             "#46039f"
            ],
            [
             0.2222222222222222,
             "#7201a8"
            ],
            [
             0.3333333333333333,
             "#9c179e"
            ],
            [
             0.4444444444444444,
             "#bd3786"
            ],
            [
             0.5555555555555556,
             "#d8576b"
            ],
            [
             0.6666666666666666,
             "#ed7953"
            ],
            [
             0.7777777777777778,
             "#fb9f3a"
            ],
            [
             0.8888888888888888,
             "#fdca26"
            ],
            [
             1,
             "#f0f921"
            ]
           ]
          },
          "colorway": [
           "#636efa",
           "#EF553B",
           "#00cc96",
           "#ab63fa",
           "#FFA15A",
           "#19d3f3",
           "#FF6692",
           "#B6E880",
           "#FF97FF",
           "#FECB52"
          ],
          "font": {
           "color": "#2a3f5f"
          },
          "geo": {
           "bgcolor": "white",
           "lakecolor": "white",
           "landcolor": "white",
           "showlakes": true,
           "showland": true,
           "subunitcolor": "#C8D4E3"
          },
          "hoverlabel": {
           "align": "left"
          },
          "hovermode": "closest",
          "mapbox": {
           "style": "light"
          },
          "paper_bgcolor": "white",
          "plot_bgcolor": "white",
          "polar": {
           "angularaxis": {
            "gridcolor": "#EBF0F8",
            "linecolor": "#EBF0F8",
            "ticks": ""
           },
           "bgcolor": "white",
           "radialaxis": {
            "gridcolor": "#EBF0F8",
            "linecolor": "#EBF0F8",
            "ticks": ""
           }
          },
          "scene": {
           "xaxis": {
            "backgroundcolor": "white",
            "gridcolor": "#DFE8F3",
            "gridwidth": 2,
            "linecolor": "#EBF0F8",
            "showbackground": true,
            "ticks": "",
            "zerolinecolor": "#EBF0F8"
           },
           "yaxis": {
            "backgroundcolor": "white",
            "gridcolor": "#DFE8F3",
            "gridwidth": 2,
            "linecolor": "#EBF0F8",
            "showbackground": true,
            "ticks": "",
            "zerolinecolor": "#EBF0F8"
           },
           "zaxis": {
            "backgroundcolor": "white",
            "gridcolor": "#DFE8F3",
            "gridwidth": 2,
            "linecolor": "#EBF0F8",
            "showbackground": true,
            "ticks": "",
            "zerolinecolor": "#EBF0F8"
           }
          },
          "shapedefaults": {
           "line": {
            "color": "#2a3f5f"
           }
          },
          "ternary": {
           "aaxis": {
            "gridcolor": "#DFE8F3",
            "linecolor": "#A2B1C6",
            "ticks": ""
           },
           "baxis": {
            "gridcolor": "#DFE8F3",
            "linecolor": "#A2B1C6",
            "ticks": ""
           },
           "bgcolor": "white",
           "caxis": {
            "gridcolor": "#DFE8F3",
            "linecolor": "#A2B1C6",
            "ticks": ""
           }
          },
          "title": {
           "x": 0.05
          },
          "xaxis": {
           "automargin": true,
           "gridcolor": "#EBF0F8",
           "linecolor": "#EBF0F8",
           "ticks": "",
           "title": {
            "standoff": 15
           },
           "zerolinecolor": "#EBF0F8",
           "zerolinewidth": 2
          },
          "yaxis": {
           "automargin": true,
           "gridcolor": "#EBF0F8",
           "linecolor": "#EBF0F8",
           "ticks": "",
           "title": {
            "standoff": 15
           },
           "zerolinecolor": "#EBF0F8",
           "zerolinewidth": 2
          }
         }
        },
        "title": {
         "text": "Diferencia de Tiempo (Δt vs Índice) - Escenario: scenario_1 Optimizado<br><sup>CTI = 0.2s</sup>"
        },
        "xaxis": {
         "anchor": "y",
         "domain": [
          0,
          1
         ],
         "tickmode": "auto",
         "title": {
          "text": "Índice del Par de Relés (Ordenado por MT Ascendente)"
         }
        },
        "yaxis": {
         "anchor": "x",
         "domain": [
          0,
          1
         ],
         "gridcolor": "lightgrey",
         "title": {
          "text": "Δt (Tb - Tm - CTI) [s]"
         },
         "zerolinecolor": "black",
         "zerolinewidth": 1.5
        }
       }
      }
     },
     "metadata": {},
     "output_type": "display_data"
    },
    {
     "name": "stdout",
     "output_type": "stream",
     "text": [
      "    Displaying mt_histogram plot...\n"
     ]
    },
    {
     "data": {
      "application/vnd.plotly.v1+json": {
       "config": {
        "plotlyServerURL": "https://plot.ly"
       },
       "data": [
        {
         "alignmentgroup": "True",
         "bingroup": "x",
         "hovertemplate": "status=Descoordinado<br>mt=%{x}<br>count=%{y}<extra></extra>",
         "legendgroup": "Descoordinado",
         "marker": {
          "color": "red",
          "pattern": {
           "shape": ""
          }
         },
         "name": "Descoordinado",
         "nbinsx": 20,
         "offsetgroup": "Descoordinado",
         "orientation": "v",
         "showlegend": true,
         "type": "histogram",
         "x": [
          -0.13900000000000007,
          -0.12010000000000015,
          -0.10689999999999983,
          -0.09670000000000006,
          -0.07500000000000001,
          -0.06519999999999976,
          -0.06439999999999985,
          -0.02549999999999991,
          -0.015600000000000336,
          -0.011599999999999888,
          -0.00929999999999992,
          -0.007199999999999929,
          -0.002799999999999969
         ],
         "xaxis": "x",
         "yaxis": "y"
        },
        {
         "alignmentgroup": "True",
         "hovertemplate": "status=Descoordinado<br>mt=%{x}<extra></extra>",
         "legendgroup": "Descoordinado",
         "marker": {
          "color": "red"
         },
         "name": "Descoordinado",
         "notched": true,
         "offsetgroup": "Descoordinado",
         "showlegend": false,
         "type": "box",
         "x": [
          -0.13900000000000007,
          -0.12010000000000015,
          -0.10689999999999983,
          -0.09670000000000006,
          -0.07500000000000001,
          -0.06519999999999976,
          -0.06439999999999985,
          -0.02549999999999991,
          -0.015600000000000336,
          -0.011599999999999888,
          -0.00929999999999992,
          -0.007199999999999929,
          -0.002799999999999969
         ],
         "xaxis": "x2",
         "yaxis": "y2"
        },
        {
         "alignmentgroup": "True",
         "bingroup": "x",
         "hovertemplate": "status=Coordinado<br>mt=%{x}<br>count=%{y}<extra></extra>",
         "legendgroup": "Coordinado",
         "marker": {
          "color": "green",
          "pattern": {
           "shape": ""
          }
         },
         "name": "Coordinado",
         "nbinsx": 20,
         "offsetgroup": "Coordinado",
         "orientation": "v",
         "showlegend": true,
         "type": "histogram",
         "x": [
          0,
          0,
          0,
          0,
          0,
          0,
          0,
          0,
          0,
          0,
          0,
          0,
          0,
          0,
          0,
          0,
          0,
          0,
          0,
          0,
          0,
          0,
          0,
          0,
          0,
          0,
          0,
          0,
          0,
          0,
          0,
          0,
          0,
          0,
          0,
          0,
          0,
          0,
          0,
          0,
          0,
          0,
          0,
          0,
          0,
          0,
          0,
          0,
          0,
          0,
          0,
          0,
          0,
          0,
          0,
          0,
          0,
          0,
          0,
          0,
          0,
          0,
          0,
          0,
          0,
          0,
          0,
          0,
          0,
          0,
          0,
          0,
          0,
          0,
          0,
          0,
          0,
          0,
          0,
          0,
          0,
          0,
          0,
          0,
          0,
          0,
          0
         ],
         "xaxis": "x",
         "yaxis": "y"
        },
        {
         "alignmentgroup": "True",
         "hovertemplate": "status=Coordinado<br>mt=%{x}<extra></extra>",
         "legendgroup": "Coordinado",
         "marker": {
          "color": "green"
         },
         "name": "Coordinado",
         "notched": true,
         "offsetgroup": "Coordinado",
         "showlegend": false,
         "type": "box",
         "x": [
          0,
          0,
          0,
          0,
          0,
          0,
          0,
          0,
          0,
          0,
          0,
          0,
          0,
          0,
          0,
          0,
          0,
          0,
          0,
          0,
          0,
          0,
          0,
          0,
          0,
          0,
          0,
          0,
          0,
          0,
          0,
          0,
          0,
          0,
          0,
          0,
          0,
          0,
          0,
          0,
          0,
          0,
          0,
          0,
          0,
          0,
          0,
          0,
          0,
          0,
          0,
          0,
          0,
          0,
          0,
          0,
          0,
          0,
          0,
          0,
          0,
          0,
          0,
          0,
          0,
          0,
          0,
          0,
          0,
          0,
          0,
          0,
          0,
          0,
          0,
          0,
          0,
          0,
          0,
          0,
          0,
          0,
          0,
          0,
          0,
          0,
          0
         ],
         "xaxis": "x2",
         "yaxis": "y2"
        }
       ],
       "layout": {
        "bargap": 0.1,
        "barmode": "relative",
        "legend": {
         "title": {
          "text": "Estado Coordinación"
         },
         "tracegroupgap": 0
        },
        "template": {
         "data": {
          "bar": [
           {
            "error_x": {
             "color": "#2a3f5f"
            },
            "error_y": {
             "color": "#2a3f5f"
            },
            "marker": {
             "line": {
              "color": "white",
              "width": 0.5
             },
             "pattern": {
              "fillmode": "overlay",
              "size": 10,
              "solidity": 0.2
             }
            },
            "type": "bar"
           }
          ],
          "barpolar": [
           {
            "marker": {
             "line": {
              "color": "white",
              "width": 0.5
             },
             "pattern": {
              "fillmode": "overlay",
              "size": 10,
              "solidity": 0.2
             }
            },
            "type": "barpolar"
           }
          ],
          "carpet": [
           {
            "aaxis": {
             "endlinecolor": "#2a3f5f",
             "gridcolor": "#C8D4E3",
             "linecolor": "#C8D4E3",
             "minorgridcolor": "#C8D4E3",
             "startlinecolor": "#2a3f5f"
            },
            "baxis": {
             "endlinecolor": "#2a3f5f",
             "gridcolor": "#C8D4E3",
             "linecolor": "#C8D4E3",
             "minorgridcolor": "#C8D4E3",
             "startlinecolor": "#2a3f5f"
            },
            "type": "carpet"
           }
          ],
          "choropleth": [
           {
            "colorbar": {
             "outlinewidth": 0,
             "ticks": ""
            },
            "type": "choropleth"
           }
          ],
          "contour": [
           {
            "colorbar": {
             "outlinewidth": 0,
             "ticks": ""
            },
            "colorscale": [
             [
              0,
              "#0d0887"
             ],
             [
              0.1111111111111111,
              "#46039f"
             ],
             [
              0.2222222222222222,
              "#7201a8"
             ],
             [
              0.3333333333333333,
              "#9c179e"
             ],
             [
              0.4444444444444444,
              "#bd3786"
             ],
             [
              0.5555555555555556,
              "#d8576b"
             ],
             [
              0.6666666666666666,
              "#ed7953"
             ],
             [
              0.7777777777777778,
              "#fb9f3a"
             ],
             [
              0.8888888888888888,
              "#fdca26"
             ],
             [
              1,
              "#f0f921"
             ]
            ],
            "type": "contour"
           }
          ],
          "contourcarpet": [
           {
            "colorbar": {
             "outlinewidth": 0,
             "ticks": ""
            },
            "type": "contourcarpet"
           }
          ],
          "heatmap": [
           {
            "colorbar": {
             "outlinewidth": 0,
             "ticks": ""
            },
            "colorscale": [
             [
              0,
              "#0d0887"
             ],
             [
              0.1111111111111111,
              "#46039f"
             ],
             [
              0.2222222222222222,
              "#7201a8"
             ],
             [
              0.3333333333333333,
              "#9c179e"
             ],
             [
              0.4444444444444444,
              "#bd3786"
             ],
             [
              0.5555555555555556,
              "#d8576b"
             ],
             [
              0.6666666666666666,
              "#ed7953"
             ],
             [
              0.7777777777777778,
              "#fb9f3a"
             ],
             [
              0.8888888888888888,
              "#fdca26"
             ],
             [
              1,
              "#f0f921"
             ]
            ],
            "type": "heatmap"
           }
          ],
          "heatmapgl": [
           {
            "colorbar": {
             "outlinewidth": 0,
             "ticks": ""
            },
            "colorscale": [
             [
              0,
              "#0d0887"
             ],
             [
              0.1111111111111111,
              "#46039f"
             ],
             [
              0.2222222222222222,
              "#7201a8"
             ],
             [
              0.3333333333333333,
              "#9c179e"
             ],
             [
              0.4444444444444444,
              "#bd3786"
             ],
             [
              0.5555555555555556,
              "#d8576b"
             ],
             [
              0.6666666666666666,
              "#ed7953"
             ],
             [
              0.7777777777777778,
              "#fb9f3a"
             ],
             [
              0.8888888888888888,
              "#fdca26"
             ],
             [
              1,
              "#f0f921"
             ]
            ],
            "type": "heatmapgl"
           }
          ],
          "histogram": [
           {
            "marker": {
             "pattern": {
              "fillmode": "overlay",
              "size": 10,
              "solidity": 0.2
             }
            },
            "type": "histogram"
           }
          ],
          "histogram2d": [
           {
            "colorbar": {
             "outlinewidth": 0,
             "ticks": ""
            },
            "colorscale": [
             [
              0,
              "#0d0887"
             ],
             [
              0.1111111111111111,
              "#46039f"
             ],
             [
              0.2222222222222222,
              "#7201a8"
             ],
             [
              0.3333333333333333,
              "#9c179e"
             ],
             [
              0.4444444444444444,
              "#bd3786"
             ],
             [
              0.5555555555555556,
              "#d8576b"
             ],
             [
              0.6666666666666666,
              "#ed7953"
             ],
             [
              0.7777777777777778,
              "#fb9f3a"
             ],
             [
              0.8888888888888888,
              "#fdca26"
             ],
             [
              1,
              "#f0f921"
             ]
            ],
            "type": "histogram2d"
           }
          ],
          "histogram2dcontour": [
           {
            "colorbar": {
             "outlinewidth": 0,
             "ticks": ""
            },
            "colorscale": [
             [
              0,
              "#0d0887"
             ],
             [
              0.1111111111111111,
              "#46039f"
             ],
             [
              0.2222222222222222,
              "#7201a8"
             ],
             [
              0.3333333333333333,
              "#9c179e"
             ],
             [
              0.4444444444444444,
              "#bd3786"
             ],
             [
              0.5555555555555556,
              "#d8576b"
             ],
             [
              0.6666666666666666,
              "#ed7953"
             ],
             [
              0.7777777777777778,
              "#fb9f3a"
             ],
             [
              0.8888888888888888,
              "#fdca26"
             ],
             [
              1,
              "#f0f921"
             ]
            ],
            "type": "histogram2dcontour"
           }
          ],
          "mesh3d": [
           {
            "colorbar": {
             "outlinewidth": 0,
             "ticks": ""
            },
            "type": "mesh3d"
           }
          ],
          "parcoords": [
           {
            "line": {
             "colorbar": {
              "outlinewidth": 0,
              "ticks": ""
             }
            },
            "type": "parcoords"
           }
          ],
          "pie": [
           {
            "automargin": true,
            "type": "pie"
           }
          ],
          "scatter": [
           {
            "fillpattern": {
             "fillmode": "overlay",
             "size": 10,
             "solidity": 0.2
            },
            "type": "scatter"
           }
          ],
          "scatter3d": [
           {
            "line": {
             "colorbar": {
              "outlinewidth": 0,
              "ticks": ""
             }
            },
            "marker": {
             "colorbar": {
              "outlinewidth": 0,
              "ticks": ""
             }
            },
            "type": "scatter3d"
           }
          ],
          "scattercarpet": [
           {
            "marker": {
             "colorbar": {
              "outlinewidth": 0,
              "ticks": ""
             }
            },
            "type": "scattercarpet"
           }
          ],
          "scattergeo": [
           {
            "marker": {
             "colorbar": {
              "outlinewidth": 0,
              "ticks": ""
             }
            },
            "type": "scattergeo"
           }
          ],
          "scattergl": [
           {
            "marker": {
             "colorbar": {
              "outlinewidth": 0,
              "ticks": ""
             }
            },
            "type": "scattergl"
           }
          ],
          "scattermapbox": [
           {
            "marker": {
             "colorbar": {
              "outlinewidth": 0,
              "ticks": ""
             }
            },
            "type": "scattermapbox"
           }
          ],
          "scatterpolar": [
           {
            "marker": {
             "colorbar": {
              "outlinewidth": 0,
              "ticks": ""
             }
            },
            "type": "scatterpolar"
           }
          ],
          "scatterpolargl": [
           {
            "marker": {
             "colorbar": {
              "outlinewidth": 0,
              "ticks": ""
             }
            },
            "type": "scatterpolargl"
           }
          ],
          "scatterternary": [
           {
            "marker": {
             "colorbar": {
              "outlinewidth": 0,
              "ticks": ""
             }
            },
            "type": "scatterternary"
           }
          ],
          "surface": [
           {
            "colorbar": {
             "outlinewidth": 0,
             "ticks": ""
            },
            "colorscale": [
             [
              0,
              "#0d0887"
             ],
             [
              0.1111111111111111,
              "#46039f"
             ],
             [
              0.2222222222222222,
              "#7201a8"
             ],
             [
              0.3333333333333333,
              "#9c179e"
             ],
             [
              0.4444444444444444,
              "#bd3786"
             ],
             [
              0.5555555555555556,
              "#d8576b"
             ],
             [
              0.6666666666666666,
              "#ed7953"
             ],
             [
              0.7777777777777778,
              "#fb9f3a"
             ],
             [
              0.8888888888888888,
              "#fdca26"
             ],
             [
              1,
              "#f0f921"
             ]
            ],
            "type": "surface"
           }
          ],
          "table": [
           {
            "cells": {
             "fill": {
              "color": "#EBF0F8"
             },
             "line": {
              "color": "white"
             }
            },
            "header": {
             "fill": {
              "color": "#C8D4E3"
             },
             "line": {
              "color": "white"
             }
            },
            "type": "table"
           }
          ]
         },
         "layout": {
          "annotationdefaults": {
           "arrowcolor": "#2a3f5f",
           "arrowhead": 0,
           "arrowwidth": 1
          },
          "autotypenumbers": "strict",
          "coloraxis": {
           "colorbar": {
            "outlinewidth": 0,
            "ticks": ""
           }
          },
          "colorscale": {
           "diverging": [
            [
             0,
             "#8e0152"
            ],
            [
             0.1,
             "#c51b7d"
            ],
            [
             0.2,
             "#de77ae"
            ],
            [
             0.3,
             "#f1b6da"
            ],
            [
             0.4,
             "#fde0ef"
            ],
            [
             0.5,
             "#f7f7f7"
            ],
            [
             0.6,
             "#e6f5d0"
            ],
            [
             0.7,
             "#b8e186"
            ],
            [
             0.8,
             "#7fbc41"
            ],
            [
             0.9,
             "#4d9221"
            ],
            [
             1,
             "#276419"
            ]
           ],
           "sequential": [
            [
             0,
             "#0d0887"
            ],
            [
             0.1111111111111111,
             "#46039f"
            ],
            [
             0.2222222222222222,
             "#7201a8"
            ],
            [
             0.3333333333333333,
             "#9c179e"
            ],
            [
             0.4444444444444444,
             "#bd3786"
            ],
            [
             0.5555555555555556,
             "#d8576b"
            ],
            [
             0.6666666666666666,
             "#ed7953"
            ],
            [
             0.7777777777777778,
             "#fb9f3a"
            ],
            [
             0.8888888888888888,
             "#fdca26"
            ],
            [
             1,
             "#f0f921"
            ]
           ],
           "sequentialminus": [
            [
             0,
             "#0d0887"
            ],
            [
             0.1111111111111111,
             "#46039f"
            ],
            [
             0.2222222222222222,
             "#7201a8"
            ],
            [
             0.3333333333333333,
             "#9c179e"
            ],
            [
             0.4444444444444444,
             "#bd3786"
            ],
            [
             0.5555555555555556,
             "#d8576b"
            ],
            [
             0.6666666666666666,
             "#ed7953"
            ],
            [
             0.7777777777777778,
             "#fb9f3a"
            ],
            [
             0.8888888888888888,
             "#fdca26"
            ],
            [
             1,
             "#f0f921"
            ]
           ]
          },
          "colorway": [
           "#636efa",
           "#EF553B",
           "#00cc96",
           "#ab63fa",
           "#FFA15A",
           "#19d3f3",
           "#FF6692",
           "#B6E880",
           "#FF97FF",
           "#FECB52"
          ],
          "font": {
           "color": "#2a3f5f"
          },
          "geo": {
           "bgcolor": "white",
           "lakecolor": "white",
           "landcolor": "white",
           "showlakes": true,
           "showland": true,
           "subunitcolor": "#C8D4E3"
          },
          "hoverlabel": {
           "align": "left"
          },
          "hovermode": "closest",
          "mapbox": {
           "style": "light"
          },
          "paper_bgcolor": "white",
          "plot_bgcolor": "white",
          "polar": {
           "angularaxis": {
            "gridcolor": "#EBF0F8",
            "linecolor": "#EBF0F8",
            "ticks": ""
           },
           "bgcolor": "white",
           "radialaxis": {
            "gridcolor": "#EBF0F8",
            "linecolor": "#EBF0F8",
            "ticks": ""
           }
          },
          "scene": {
           "xaxis": {
            "backgroundcolor": "white",
            "gridcolor": "#DFE8F3",
            "gridwidth": 2,
            "linecolor": "#EBF0F8",
            "showbackground": true,
            "ticks": "",
            "zerolinecolor": "#EBF0F8"
           },
           "yaxis": {
            "backgroundcolor": "white",
            "gridcolor": "#DFE8F3",
            "gridwidth": 2,
            "linecolor": "#EBF0F8",
            "showbackground": true,
            "ticks": "",
            "zerolinecolor": "#EBF0F8"
           },
           "zaxis": {
            "backgroundcolor": "white",
            "gridcolor": "#DFE8F3",
            "gridwidth": 2,
            "linecolor": "#EBF0F8",
            "showbackground": true,
            "ticks": "",
            "zerolinecolor": "#EBF0F8"
           }
          },
          "shapedefaults": {
           "line": {
            "color": "#2a3f5f"
           }
          },
          "ternary": {
           "aaxis": {
            "gridcolor": "#DFE8F3",
            "linecolor": "#A2B1C6",
            "ticks": ""
           },
           "baxis": {
            "gridcolor": "#DFE8F3",
            "linecolor": "#A2B1C6",
            "ticks": ""
           },
           "bgcolor": "white",
           "caxis": {
            "gridcolor": "#DFE8F3",
            "linecolor": "#A2B1C6",
            "ticks": ""
           }
          },
          "title": {
           "x": 0.05
          },
          "xaxis": {
           "automargin": true,
           "gridcolor": "#EBF0F8",
           "linecolor": "#EBF0F8",
           "ticks": "",
           "title": {
            "standoff": 15
           },
           "zerolinecolor": "#EBF0F8",
           "zerolinewidth": 2
          },
          "yaxis": {
           "automargin": true,
           "gridcolor": "#EBF0F8",
           "linecolor": "#EBF0F8",
           "ticks": "",
           "title": {
            "standoff": 15
           },
           "zerolinecolor": "#EBF0F8",
           "zerolinewidth": 2
          }
         }
        },
        "title": {
         "text": "Distribución de Valores MT - Escenario: scenario_1 Optimizado"
        },
        "xaxis": {
         "anchor": "y",
         "domain": [
          0,
          1
         ],
         "title": {
          "text": "Valor MT"
         }
        },
        "xaxis2": {
         "anchor": "y2",
         "domain": [
          0,
          1
         ],
         "matches": "x",
         "showgrid": true,
         "showticklabels": false
        },
        "yaxis": {
         "anchor": "x",
         "domain": [
          0,
          0.7326
         ],
         "title": {
          "text": "Frecuencia (Número de Pares)"
         }
        },
        "yaxis2": {
         "anchor": "x2",
         "domain": [
          0.7426,
          1
         ],
         "matches": "y2",
         "showgrid": false,
         "showline": false,
         "showticklabels": false,
         "ticks": ""
        }
       }
      }
     },
     "metadata": {},
     "output_type": "display_data"
    },
    {
     "name": "stdout",
     "output_type": "stream",
     "text": [
      "--- Plot generation, saving, and display complete for Scenario: scenario_1 ---\n",
      "\n",
      "--- Analysis Complete for Scenario: scenario_1 ---\n",
      "\n",
      "============================================\n",
      "=== Script Execution Finished ===\n",
      "============================================\n"
     ]
    }
   ],
   "source": [
    "# %% Import Libraries\n",
    "import json\n",
    "import matplotlib.pyplot as plt # Still needed for TMT summary plot if run for all\n",
    "import numpy as np\n",
    "import pandas as pd\n",
    "from collections import defaultdict\n",
    "import os\n",
    "import plotly.graph_objects as go\n",
    "import plotly.express as px\n",
    "import plotly.io as pio\n",
    "import traceback # For detailed error reporting\n",
    "\n",
    "# %% Configuration\n",
    "# Set default Plotly template\n",
    "# --- CORRECTED TEMPLATE NAME ---\n",
    "pio.templates.default = \"plotly_white\" # Standard template for white background\n",
    "# -------------------------------\n",
    "\n",
    "json_file_path = \"/Users/gustavo/Documents/Projects/TESIS_UNAL/ADAPTIVE_ALGORITHM/data/processed/independent_relay_pairs_optimization.json\"\n",
    "# Output directory for results - will be created if it doesn't exist\n",
    "output_dir = \"/Users/gustavo/Documents/Projects/TESIS_UNAL/ADAPTIVE_ALGORITHM/results/coordination_plots\"\n",
    "\n",
    "# Coordination Time Interval (CTI)\n",
    "CTI = 0.2\n",
    "\n",
    "# %% Helper Functions\n",
    "\n",
    "def calculate_MT(tm, tb, cti=CTI):\n",
    "    \"\"\"Calculates the Miscoordination Index (MT) and the time difference delta.\"\"\"\n",
    "    delta_tmb = tb - tm - cti\n",
    "    MT = (delta_tmb - abs(delta_tmb)) / 2\n",
    "    return MT, delta_tmb\n",
    "\n",
    "def analyze_by_scenario(data, cti=CTI):\n",
    "    \"\"\"\n",
    "    Analyzes relay pair data, calculating MT, Delta_t, TMT,\n",
    "    and extracting additional info (line, fault) for each scenario.\n",
    "    Returns a dictionary mapping scenario_id to its analysis results (DataFrame, TMT).\n",
    "    \"\"\"\n",
    "    scenarios = defaultdict(lambda: {\"pairs_data\": []})\n",
    "    print(\"Starting data extraction and processing for scenarios...\")\n",
    "    processed_count = 0\n",
    "    skipped_count = 0\n",
    "    # --- Data Extraction and Initial Processing ---\n",
    "    for idx, relay_pair in enumerate(data):\n",
    "        record_label = f\"Record {idx+1}\"\n",
    "        scenario_id = relay_pair.get(\"scenario_id\")\n",
    "        if not scenario_id:\n",
    "            # print(f\"Warning: Skipping record {idx+1} - Missing 'scenario_id'.\")\n",
    "            skipped_count += 1\n",
    "            continue\n",
    "\n",
    "        record_label = f\"{record_label} (Scenario: {scenario_id})\"\n",
    "        main_relay = relay_pair.get(\"main_relay\")\n",
    "        backup_relay = relay_pair.get(\"backup_relay\")\n",
    "        if not main_relay or not backup_relay:\n",
    "            # print(f\"Warning: Skipping {record_label} - Missing 'main_relay' or 'backup_relay' data.\")\n",
    "            skipped_count += 1\n",
    "            continue\n",
    "\n",
    "        tm_val = main_relay.get(\"Time_out\")\n",
    "        tb_val = backup_relay.get(\"Time_out\")\n",
    "        main_relay_id = main_relay.get(\"relay\", f\"Main_Unknown_{idx+1}\")\n",
    "        backup_relay_id = backup_relay.get(\"relay\", f\"Backup_Unknown_{idx+1}\")\n",
    "        pair_name = f\"{main_relay_id}-{backup_relay_id}\"\n",
    "        record_label = f\"{record_label}, Pair: {pair_name}\"\n",
    "\n",
    "        if tm_val is None or tb_val is None:\n",
    "            # print(f\"Warning: Skipping {record_label} - Missing 'Time_out' for main or backup relay.\")\n",
    "            skipped_count += 1\n",
    "            continue\n",
    "\n",
    "        line_info = relay_pair.get('line', main_relay.get('line', backup_relay.get('line', 'N/A')))\n",
    "        fault_info = relay_pair.get('fault', main_relay.get('fault', backup_relay.get('fault', 'N/A')))\n",
    "\n",
    "        try:\n",
    "             tm_float = float(tm_val)\n",
    "             tb_float = float(tb_val)\n",
    "             if tm_float < 0 or tb_float < 0:\n",
    "                 # print(f\"Warning: Skipping {record_label} - Negative time values detected (Tm={tm_float}, Tb={tb_float}).\")\n",
    "                 skipped_count += 1\n",
    "                 continue\n",
    "             mt, delta_t = calculate_MT(tm_float, tb_float, cti)\n",
    "        except (ValueError, TypeError) as e:\n",
    "             print(f\"Warning: Could not calculate MT for {record_label}. Invalid time values? Tm='{tm_val}', Tb='{tb_val}'. Error: {e}\")\n",
    "             skipped_count += 1\n",
    "             continue\n",
    "\n",
    "        pair_info = {\n",
    "            \"pair_label\": pair_name, \"mt\": mt, \"delta_t\": delta_t,\n",
    "            \"tm\": tm_float, \"tb\": tb_float, \"main_relay_id\": main_relay_id,\n",
    "            \"backup_relay_id\": backup_relay_id, \"line\": line_info,\n",
    "            \"fault\": fault_info, \"status\": \"Coordinado\" if delta_t >= 0 else \"Descoordinado\"\n",
    "        }\n",
    "        scenarios[scenario_id][\"pairs_data\"].append(pair_info)\n",
    "        processed_count += 1\n",
    "\n",
    "    print(f\"Data extraction complete. Processed pairs: {processed_count}, Skipped records/pairs: {skipped_count}\")\n",
    "\n",
    "    # --- Aggregation per Scenario ---\n",
    "    print(\"Aggregating results per scenario...\")\n",
    "    results = {}\n",
    "    all_scenario_ids = sorted(list(scenarios.keys()))\n",
    "\n",
    "    if not all_scenario_ids:\n",
    "        print(\"No scenarios found with valid data after processing.\")\n",
    "        return results\n",
    "\n",
    "    for scenario_id in all_scenario_ids:\n",
    "        scenario_pairs_list = scenarios[scenario_id][\"pairs_data\"]\n",
    "        if not scenario_pairs_list:\n",
    "            # print(f\"Info: Scenario '{scenario_id}' has no valid pairs after processing.\")\n",
    "            continue\n",
    "        try:\n",
    "            df = pd.DataFrame(scenario_pairs_list)\n",
    "            tmt = df[\"mt\"].sum()\n",
    "            results[scenario_id] = {\"detailed_df\": df, \"TMT\": tmt}\n",
    "            # print(f\"Scenario '{scenario_id}' processed. TMT: {tmt:.4f}, Pairs: {len(df)}\")\n",
    "        except Exception as e:\n",
    "            print(f\"Error creating DataFrame or calculating TMT for scenario '{scenario_id}': {e}\")\n",
    "            continue\n",
    "\n",
    "    print(\"Scenario aggregation complete.\")\n",
    "    return results\n",
    "\n",
    "\n",
    "# %% Plotting Functions\n",
    "\n",
    "def plot_scenario_details_plotly(scenario_data_df, scenario_id, output_dir, cti=CTI):\n",
    "    \"\"\"\n",
    "    Generates, SAVES, and DISPLAYS multiple interactive Plotly charts for a scenario:\n",
    "    1. MT Bar Chart\n",
    "    2. Delta_t Bar Chart  <-- NEW\n",
    "    3. Delta_t Scatter Plot\n",
    "    4. MT Histogram\n",
    "    \"\"\"\n",
    "    if not isinstance(scenario_data_df, pd.DataFrame) or scenario_data_df.empty:\n",
    "        print(f\"Plotting skipped for scenario {scenario_id}: No valid DataFrame provided.\")\n",
    "        return\n",
    "\n",
    "    print(f\"\\n--- Generating Plots for Scenario: {scenario_id} ---\")\n",
    "    # Sort by MT for consistent ordering in MT and Delta_t plots\n",
    "    df_sorted_mt = scenario_data_df.sort_values(by='mt', ascending=True).reset_index(drop=True)\n",
    "    df_sorted_mt['plot_index'] = df_sorted_mt.index + 1\n",
    "    tmt = df_sorted_mt[\"mt\"].sum()\n",
    "    n_pairs = len(df_sorted_mt)\n",
    "\n",
    "    # Common hover text generation logic (avoids repetition)\n",
    "    def generate_hover_text(row):\n",
    "        return (f\"<b>{row['pair_label']}</b><br>Índice Plot: {row['plot_index']}<br>\" +\n",
    "                f\"MT: {row['mt']:.4f} | <b>Δt: {row['delta_t']:.4f}s</b><br>\" +\n",
    "                f\"Tm: {row['tm']:.4f}s | Tb: {row['tb']:.4f}s<br>Línea: {row['line']} | Falla: {row['fault']}<br>\" +\n",
    "                f\"Estado: {row['status']}<extra></extra>\")\n",
    "\n",
    "    hover_texts = [generate_hover_text(row) for _, row in df_sorted_mt.iterrows()]\n",
    "\n",
    "    # --- 1. MT Bar Chart (Shows all pairs, positive and negative MT) ---\n",
    "    try:\n",
    "        print(f\"  Generating MT Bar Chart...\")\n",
    "        colors_mt = ['red' if mt < 0 else 'green' for mt in df_sorted_mt['mt']]\n",
    "        fig_mt_bar = go.Figure(data=[go.Bar(\n",
    "            x=df_sorted_mt['plot_index'], y=df_sorted_mt['mt'], marker_color=colors_mt,\n",
    "            name='Índice MT', text=hover_texts, hoverinfo='text'\n",
    "        )])\n",
    "        fig_mt_bar.add_hline(y=0, line_width=1.5, line_dash=\"dash\", line_color=\"black\")\n",
    "        fig_mt_bar.update_layout(\n",
    "            title=f'Índice de Descoordinación (MT) - Escenario: {scenario_id} Optimizado<br><sup>TMT = {tmt:.4f} | Pares = {n_pairs}</sup>',\n",
    "            xaxis_title='Índice del Par de Relés (Ordenado por MT Ascendente)', yaxis_title='Índice MT',\n",
    "            xaxis=dict(tickmode='auto'),\n",
    "            yaxis=dict(gridcolor='lightgrey', zerolinecolor='black', zerolinewidth=1.5),\n",
    "            bargap=0.1, height=max(500, 400 + n_pairs * 5), margin=dict(l=60, r=30, t=100, b=100)\n",
    "        )\n",
    "    except Exception as e:\n",
    "        print(f\"    Error generating MT Bar Chart: {e}\")\n",
    "        fig_mt_bar = None\n",
    "\n",
    "    # --- 2. Delta_t Bar Chart (Shows all pairs, positive and negative Delta_t) --- <<< NEW PLOT\n",
    "    try:\n",
    "        print(f\"  Generating Delta_t Bar Chart...\")\n",
    "        colors_delta = ['red' if delta_t < 0 else 'green' for delta_t in df_sorted_mt['delta_t']]\n",
    "        fig_delta_bar = go.Figure(data=[go.Bar(\n",
    "            x=df_sorted_mt['plot_index'], y=df_sorted_mt['delta_t'], marker_color=colors_delta,\n",
    "            name='Δt (Tb - Tm - CTI)', text=hover_texts, hoverinfo='text'\n",
    "        )])\n",
    "        fig_delta_bar.add_hline(y=0, line_width=1.5, line_dash=\"dash\", line_color=\"black\",\n",
    "                                annotation_text=\"Límite CTI (Δt=0)\", annotation_position=\"bottom right\")\n",
    "        fig_delta_bar.update_layout(\n",
    "            title=f'Diferencia de Tiempo (Δt = Tb - Tm - CTI) - Escenario: {scenario_id} Optimizado<br><sup>CTI = {cti}s</sup>',\n",
    "            xaxis_title='Índice del Par de Relés (Ordenado por MT Ascendente)', yaxis_title='Δt [s]',\n",
    "            xaxis=dict(tickmode='auto'),\n",
    "            yaxis=dict(gridcolor='lightgrey', zerolinecolor='black', zerolinewidth=1.5),\n",
    "            bargap=0.1, height=max(500, 400 + n_pairs * 5), margin=dict(l=60, r=30, t=100, b=100)\n",
    "        )\n",
    "    except Exception as e:\n",
    "        print(f\"    Error generating Delta_t Bar Chart: {e}\")\n",
    "        fig_delta_bar = None\n",
    "\n",
    "    # --- 3. Delta_t Scatter Plot (Shows all pairs, colors by status) ---\n",
    "    try:\n",
    "        print(f\"  Generating Delta_t Scatter Plot...\")\n",
    "        fig_delta_scatter = px.scatter(\n",
    "            df_sorted_mt, x='plot_index', y='delta_t', color='status',\n",
    "            color_discrete_map={'Coordinado': 'green', 'Descoordinado': 'red'},\n",
    "            hover_data={'plot_index': False, 'pair_label': True, 'delta_t': ':.4f', 'mt': ':.4f',\n",
    "                        'tm': ':.4f', 'tb': ':.4f', 'line': True, 'fault': True, 'status': True},\n",
    "            title=f'Diferencia de Tiempo (Δt vs Índice) - Escenario: {scenario_id} Optimizado<br><sup>CTI = {cti}s</sup>'\n",
    "        )\n",
    "        fig_delta_scatter.add_hline(y=0, line_width=1.5, line_dash=\"dash\", line_color=\"black\",\n",
    "                                     annotation_text=\"Límite CTI (Δt=0)\", annotation_position=\"bottom right\")\n",
    "        fig_delta_scatter.update_layout(\n",
    "            xaxis_title='Índice del Par de Relés (Ordenado por MT Ascendente)', yaxis_title='Δt (Tb - Tm - CTI) [s]',\n",
    "            xaxis=dict(tickmode='auto'), yaxis=dict(gridcolor='lightgrey', zerolinecolor='black', zerolinewidth=1.5),\n",
    "            legend_title_text='Estado Coordinación'\n",
    "        )\n",
    "        fig_delta_scatter.update_traces(marker=dict(size=8, opacity=0.7), selector=dict(mode='markers'))\n",
    "    except Exception as e:\n",
    "        print(f\"    Error generating Delta_t Scatter Plot: {e}\")\n",
    "        fig_delta_scatter = None\n",
    "\n",
    "    # --- 4. MT Histogram ---\n",
    "    try:\n",
    "        print(f\"  Generating MT Histogram...\")\n",
    "        fig_mt_hist = px.histogram(\n",
    "            df_sorted_mt, x='mt', color='status',\n",
    "            color_discrete_map={'Coordinado': 'green', 'Descoordinado': 'red'},\n",
    "            marginal='box', nbins=max(10, n_pairs // 5),\n",
    "            title=f\"Distribución de Valores MT - Escenario: {scenario_id} Optimizado\"\n",
    "        )\n",
    "        fig_mt_hist.update_layout(\n",
    "            xaxis_title='Valor MT', yaxis_title='Frecuencia (Número de Pares)',\n",
    "            legend_title_text='Estado Coordinación', bargap=0.1\n",
    "        )\n",
    "    except Exception as e:\n",
    "        print(f\"    Error generating MT Histogram: {e}\")\n",
    "        fig_mt_hist = None\n",
    "\n",
    "    # --- Save Plots ---\n",
    "    plots_to_save = {\n",
    "        \"mt_bar\": fig_mt_bar,\n",
    "        \"delta_bar\": fig_delta_bar, # <<< Added new plot\n",
    "        \"delta_scatter\": fig_delta_scatter,\n",
    "        \"mt_histogram\": fig_mt_hist\n",
    "    }\n",
    "    print(f\"  Saving plots for {scenario_id}...\")\n",
    "    kaleido_error_shown = False\n",
    "    for name, fig in plots_to_save.items():\n",
    "        if fig is None:\n",
    "            print(f\"    Skipping saving/display for '{name}' plot (generation failed).\")\n",
    "            continue\n",
    "        base_filename = os.path.join(output_dir, f\"{scenario_id}_{name}\") # Use os.path.join\n",
    "        html_filename = f\"{base_filename}.html\"\n",
    "        png_filename = f\"{base_filename}.png\"\n",
    "\n",
    "        # Save HTML\n",
    "        try: fig.write_html(html_filename)\n",
    "        except Exception as e: print(f\"    Error saving HTML plot '{html_filename}': {e}\")\n",
    "\n",
    "        # Save PNG (optional, requires kaleido)\n",
    "        try: fig.write_image(png_filename, scale=2)\n",
    "        except ValueError as e:\n",
    "            if \"kaleido\" in str(e) and not kaleido_error_shown:\n",
    "                print(\"\\n    Info: Install kaleido for static PNG export: pip install -U kaleido\")\n",
    "                print(\"    Skipping further PNG saving attempts if Kaleido is missing.\\n\")\n",
    "                kaleido_error_shown = True\n",
    "            elif \"kaleido\" not in str(e): print(f\"    Error saving static image '{png_filename}': {e}\")\n",
    "        except Exception as e: print(f\"    Unexpected error saving static image '{png_filename}': {e}\")\n",
    "\n",
    "        # --- DISPLAY PLOT IN JUPYTER/OUTPUT ---\n",
    "        print(f\"    Displaying {name} plot...\")\n",
    "        fig.show() # This line displays the plot in the notebook output or default browser\n",
    "        # ---------------------------------\n",
    "\n",
    "    print(f\"--- Plot generation, saving, and display complete for Scenario: {scenario_id} ---\")\n",
    "\n",
    "\n",
    "# %% Main Execution Logic - Focused on Single Scenario\n",
    "\n",
    "def main_analyze_single_scenario(data, scenario_id_to_analyze, cti=CTI):\n",
    "    \"\"\"\n",
    "    Loads data, performs analysis, generates detailed table, stats, and plots\n",
    "    SPECIFICALLY for the given scenario_id_to_analyze.\n",
    "    \"\"\"\n",
    "    print(f\"--- Starting Analysis for Single Scenario: {scenario_id_to_analyze} ---\")\n",
    "    print(f\"Using CTI = {cti}s\")\n",
    "\n",
    "    # --- Ensure Output Directory Exists ---\n",
    "    try:\n",
    "        os.makedirs(output_dir, exist_ok=True)\n",
    "        print(f\"Results will be saved in: {output_dir}\")\n",
    "    except OSError as e:\n",
    "        print(f\"Error: Could not create output directory '{output_dir}'. Check permissions. Error: {e}\")\n",
    "        return\n",
    "\n",
    "    # --- Analyze Data (for all scenarios, then filter) ---\n",
    "    all_results = analyze_by_scenario(data, cti)\n",
    "\n",
    "    if not all_results:\n",
    "        print(\"Error: Analysis yielded no results. Please check input data and analysis function.\")\n",
    "        return\n",
    "\n",
    "    # --- Detailed Analysis for the Specified Scenario ---\n",
    "    if scenario_id_to_analyze in all_results:\n",
    "        print(f\"\\n--- Processing Detailed Analysis for: {scenario_id_to_analyze} ---\")\n",
    "        scenario_result = all_results[scenario_id_to_analyze]\n",
    "        detailed_df = scenario_result.get(\"detailed_df\")\n",
    "\n",
    "        if detailed_df is not None and not detailed_df.empty:\n",
    "            try:\n",
    "                detailed_df_sorted = detailed_df.sort_values(by=\"mt\", ascending=True).reset_index(drop=True)\n",
    "            except KeyError:\n",
    "                 print(f\"Error: 'mt' column not found in DataFrame for scenario {scenario_id_to_analyze}. Cannot proceed.\")\n",
    "                 return\n",
    "\n",
    "            # --- Print Coordination Summary Statistics ---\n",
    "            print(\"\\n--- Resumen de Coordinación ---\") # <<< Renamed section for clarity\n",
    "            n_total = len(detailed_df_sorted)\n",
    "            n_coord = len(detailed_df_sorted[detailed_df_sorted['status'] == 'Coordinado'])\n",
    "            n_descoord = n_total - n_coord\n",
    "            coord_pct = (n_coord / n_total * 100) if n_total > 0 else 0\n",
    "            descoord_pct = (n_descoord / n_total * 100) if n_total > 0 else 0\n",
    "            print(f\"Total Pares Analizados: {n_total}\")\n",
    "            print(f\"Pares Coordinados (Δt >= 0): {n_coord} ({coord_pct:.1f}%)\") # <<< Shows count and percentage\n",
    "            print(f\"Pares Descoordinados (Δt < 0): {n_descoord} ({descoord_pct:.1f}%)\") # <<< Shows count and percentage\n",
    "\n",
    "            print(\"\\n--- Estadísticas del Índice MT ---\")\n",
    "            try:\n",
    "                print(detailed_df_sorted['mt'].describe().to_string())\n",
    "            except Exception as e:\n",
    "                print(f\"  Could not generate MT statistics: {e}\")\n",
    "            print(f\"TMT (Suma MT): {scenario_result.get('TMT', 0):.5f}\")\n",
    "\n",
    "            # --- Identify and Print Worst Coordinated Pair --- <<< MODIFIED SECTION\n",
    "            uncoordinated_pairs = detailed_df_sorted[detailed_df_sorted['status'] == 'Descoordinado']\n",
    "            if not uncoordinated_pairs.empty:\n",
    "                # Find the single worst pair (minimum MT)\n",
    "                worst_pair = uncoordinated_pairs.loc[uncoordinated_pairs['mt'].idxmin()]\n",
    "\n",
    "                print(\"\\n--- Par Más Descoordinado (Peor MT) ---\") # <<< Specific heading\n",
    "                print(f\"Par (P-R): {worst_pair['pair_label']}\")\n",
    "                print(f\"MT:        {worst_pair['mt']:.4f}\")\n",
    "                print(f\"Δt:        {worst_pair['delta_t']:.4f} s\")\n",
    "                print(f\"Tm:        {worst_pair['tm']:.4f} s\")\n",
    "                print(f\"Tb:        {worst_pair['tb']:.4f} s\")\n",
    "                print(f\"Línea:     {worst_pair['line']}\")\n",
    "                print(f\"Falla:     {worst_pair['fault']}\")\n",
    "\n",
    "                # --- Optionally print Top 10 list as before ---\n",
    "                print(\"\\n--- Top 10 Pares con Mayor Descoordinación (Ordenados por Peor MT) ---\")\n",
    "                worst_pairs_display = uncoordinated_pairs.head(10)\n",
    "                display_cols = ['pair_label', 'mt', 'delta_t', 'tm', 'tb', 'line', 'fault']\n",
    "                existing_display_cols = [col for col in display_cols if col in worst_pairs_display.columns]\n",
    "                # Create a copy to avoid SettingWithCopyWarning\n",
    "                worst_pairs_display_formatted = worst_pairs_display[existing_display_cols].copy()\n",
    "                worst_pairs_display_formatted = worst_pairs_display_formatted.rename(\n",
    "                    columns={'pair_label': 'Par (P-R)', 'delta_t': 'Δt', 'line': 'Línea', 'fault': 'Falla'})\n",
    "                float_cols = worst_pairs_display_formatted.select_dtypes(include=['float']).columns\n",
    "                for col in float_cols:\n",
    "                     worst_pairs_display_formatted[col] = worst_pairs_display_formatted[col].map('{:.4f}'.format)\n",
    "                pd.set_option('display.max_rows', 20)\n",
    "                pd.set_option('display.width', 120)\n",
    "                print(worst_pairs_display_formatted.to_string(index=False))\n",
    "            else:\n",
    "                print(\"\\n--- ¡Excelente! No se encontraron pares descoordinados en este escenario. ---\")\n",
    "\n",
    "            # --- Save Detailed DataFrame to CSV ---\n",
    "            csv_filename = os.path.join(output_dir, f\"{scenario_id_to_analyze}_detailed_results.csv\") # Use os.path.join\n",
    "            print(f\"\\nSaving detailed results to CSV: {csv_filename}\")\n",
    "            try:\n",
    "                detailed_df_sorted.to_csv(csv_filename, index=False, encoding='utf-8-sig')\n",
    "                print(f\"  Successfully saved.\")\n",
    "            except Exception as e:\n",
    "                print(f\"  Error saving detailed CSV: {e}\")\n",
    "\n",
    "            # --- Generate AND DISPLAY Plotly Plots ---\n",
    "            plot_scenario_details_plotly(detailed_df_sorted, scenario_id_to_analyze, output_dir, cti)\n",
    "\n",
    "        else:\n",
    "            print(f\"No valid pair data found in DataFrame to generate table or plots for {scenario_id_to_analyze}.\")\n",
    "\n",
    "    else:\n",
    "        print(f\"Error: El escenario '{scenario_id_to_analyze}' especificado no se encontró en los resultados del análisis.\")\n",
    "        available_scenarios = list(all_results.keys()) if all_results else \"None\"\n",
    "        print(f\"Available scenarios found: {available_scenarios}\")\n",
    "\n",
    "    print(f\"\\n--- Analysis Complete for Scenario: {scenario_id_to_analyze} ---\")\n",
    "\n",
    "\n",
    "# %% Script Entry Point - Execute Analysis for Scenario 1\n",
    "\n",
    "if __name__ == \"__main__\":\n",
    "    # This block executes when the script is run directly (or a cell in Jupyter)\n",
    "    print(\"============================================\")\n",
    "    print(\"=== Relay Coordination Analysis Script ===\")\n",
    "    print(\"===       Mode: Analyze Scenario 1       ===\")\n",
    "    print(\"============================================\")\n",
    "\n",
    "    # --- Create dummy data and directory for execution if file doesn't exist ---\n",
    "    # This is just for demonstration if the actual file isn't available in the environment\n",
    "    # You should REPLACE json_file_path and output_dir with your actual paths above.\n",
    "    if not os.path.exists(os.path.dirname(json_file_path)):\n",
    "         os.makedirs(os.path.dirname(json_file_path), exist_ok=True)\n",
    "         print(f\"Created dummy directory: {os.path.dirname(json_file_path)}\")\n",
    "\n",
    "    if not os.path.exists(json_file_path):\n",
    "        print(f\"Warning: JSON file '{json_file_path}' not found. Creating a dummy file for demonstration.\")\n",
    "        dummy_data = [\n",
    "            {\"scenario_id\": \"scenario_1\", \"main_relay\": {\"relay\": \"P1\", \"Time_out\": 0.1, \"line\": \"L1\", \"fault\": \"F1\"}, \"backup_relay\": {\"relay\": \"R1\", \"Time_out\": 0.35}}, # Coordinated dt=0.05\n",
    "            {\"scenario_id\": \"scenario_1\", \"main_relay\": {\"relay\": \"P2\", \"Time_out\": 0.2, \"line\": \"L2\", \"fault\": \"F1\"}, \"backup_relay\": {\"relay\": \"R2\", \"Time_out\": 0.3}}, # Uncoordinated dt=-0.1, mt=-0.1\n",
    "            {\"scenario_id\": \"scenario_1\", \"main_relay\": {\"relay\": \"P3\", \"Time_out\": 0.15, \"line\": \"L1\", \"fault\": \"F2\"}, \"backup_relay\": {\"relay\": \"R3\", \"Time_out\": 0.25}}, # Uncoordinated dt=-0.1, mt=-0.1\n",
    "            {\"scenario_id\": \"scenario_1\", \"main_relay\": {\"relay\": \"P4\", \"Time_out\": 0.25, \"line\": \"L3\", \"fault\": \"F3\"}, \"backup_relay\": {\"relay\": \"R4\", \"Time_out\": 0.3}}, # Uncoordinated dt=-0.15, mt=-0.15 <- Worst\n",
    "            {\"scenario_id\": \"scenario_1\", \"main_relay\": {\"relay\": \"P5\", \"Time_out\": 0.3, \"line\": \"L2\", \"fault\": \"F2\"}, \"backup_relay\": {\"relay\": \"R5\", \"Time_out\": 0.6}}, # Coordinated dt=0.1\n",
    "            {\"scenario_id\": \"scenario_2\", \"main_relay\": {\"relay\": \"P6\", \"Time_out\": 0.1, \"line\": \"L4\", \"fault\": \"F4\"}, \"backup_relay\": {\"relay\": \"R6\", \"Time_out\": 0.4}}  # Different scenario\n",
    "        ]\n",
    "        try:\n",
    "            with open(json_file_path, 'w', encoding='utf-8') as f:\n",
    "                json.dump(dummy_data, f, indent=2)\n",
    "            print(f\"Successfully created dummy file: {json_file_path}\")\n",
    "        except Exception as e:\n",
    "            print(f\"Error creating dummy file: {e}\")\n",
    "            # Exit if dummy file creation fails and original wasn't found\n",
    "            exit() # Or handle differently\n",
    "\n",
    "    # --- Main execution ---\n",
    "    try:\n",
    "        print(f\"Attempting to load data from: {json_file_path}\")\n",
    "        if not os.path.exists(json_file_path):\n",
    "             abs_path = os.path.abspath(json_file_path)\n",
    "             raise FileNotFoundError(f\"JSON file not found: '{json_file_path}' (Absolute: '{abs_path}')\")\n",
    "        if not os.path.isfile(json_file_path):\n",
    "             raise FileNotFoundError(f\"Specified path is not a file: '{json_file_path}'\")\n",
    "\n",
    "        with open(json_file_path, 'r', encoding='utf-8') as file:\n",
    "            first_char = file.read(1)\n",
    "            if not first_char: raise ValueError(\"JSON file appears to be empty.\")\n",
    "            file.seek(0) # Rewind after checking\n",
    "            data = json.load(file)\n",
    "\n",
    "        if not isinstance(data, list):\n",
    "            raise TypeError(f\"Expected JSON root to be a List '[]', found type '{type(data)}'. Check JSON structure.\")\n",
    "        if not data:\n",
    "             print(\"Warning: JSON file loaded, but the list is empty. No data to analyze.\")\n",
    "             # Decide if exiting is appropriate\n",
    "             # exit() # Exit if no data - or remove this to let it proceed and show no results\n",
    "\n",
    "        print(f\"Successfully loaded {len(data)} records from JSON.\")\n",
    "\n",
    "        # --- Run the main analysis function, focusing ONLY on scenario_1 ---\n",
    "        TARGET_SCENARIO = \"scenario_1\"\n",
    "        # Check if data was loaded before proceeding\n",
    "        if data:\n",
    "            main_analyze_single_scenario(data, scenario_id_to_analyze=TARGET_SCENARIO, cti=CTI)\n",
    "        else:\n",
    "            print(\"Skipping analysis as no data was loaded.\")\n",
    "\n",
    "\n",
    "    # --- Exception Handling ---\n",
    "    except FileNotFoundError as e: print(f\"\\n--- Error ---\\nFile Not Found: {e}\\n*** Please ensure the 'json_file_path' variable is set correctly at the top of the script. ***\")\n",
    "    except ValueError as e: print(f\"\\n--- Error ---\\nValue Error: {e}\") # Catch empty file error\n",
    "    except TypeError as e: print(f\"\\n--- Error ---\\nType Error: {e}\") # Catch wrong JSON root type\n",
    "    except json.JSONDecodeError as e: print(f\"\\n--- Error ---\\nJSON Decode Error: {e.msg} at Line {e.lineno}, Col {e.colno}. Check JSON syntax.\")\n",
    "    except KeyError as e: print(f\"\\n--- Error ---\\nMissing Key Error: Required key {e} not found in the JSON data. Check data structure consistency.\")\n",
    "    except Exception as e:\n",
    "        print(f\"\\n--- An Unexpected Error Occurred ---\")\n",
    "        print(f\"Error Type: {type(e).__name__}\")\n",
    "        print(f\"Error Details: {str(e)}\")\n",
    "        print(\"\\n--- Traceback ---\")\n",
    "        traceback.print_exc()\n",
    "        print(\"-----------------\")\n",
    "\n",
    "    print(\"\\n============================================\")\n",
    "    print(\"=== Script Execution Finished ===\")\n",
    "    print(\"============================================\")"
   ]
  },
  {
   "cell_type": "markdown",
   "metadata": {},
   "source": [
    "# 🚀🚀🚀"
   ]
  },
  {
   "cell_type": "markdown",
   "metadata": {},
   "source": [
    "# Analisys"
   ]
  },
  {
   "cell_type": "code",
   "execution_count": 18,
   "metadata": {},
   "outputs": [
    {
     "name": "stdout",
     "output_type": "stream",
     "text": [
      "Cargando datos desde: /Users/gustavo/Documents/Projects/TESIS_UNAL/ADAPTIVE_ALGORITHM/data/processed/independent_relay_pairs_optimization.json\n",
      "Calculando TMT por escenario...\n",
      "\n",
      "--- Resultados por Escenario ---\n",
      "Escenario       Pares Válidos   Coordinados     Descoordinados  % Coordin.      TMT            \n",
      "------------------------------------------------------------------------------------------\n",
      "scenario_1      100             87              13              87.0%           -0.73930\n",
      "scenario_10     100             87              13              87.0%           -18.51000\n",
      "scenario_11     100             91              9               91.0%           -17.35610\n",
      "scenario_12     100             91              9               91.0%           -17.10330\n",
      "scenario_13     100             90              10              90.0%           -15.79160\n",
      "scenario_14     100             91              9               91.0%           -15.79740\n",
      "scenario_15     100             91              9               91.0%           -16.32340\n",
      "scenario_16     100             90              10              90.0%           -16.31490\n",
      "scenario_17     100             89              11              89.0%           -17.26570\n",
      "scenario_18     100             86              14              86.0%           -17.23950\n",
      "scenario_19     100             89              11              89.0%           -17.08760\n",
      "scenario_2      100             90              10              90.0%           -17.02310\n",
      "scenario_20     100             90              10              90.0%           -17.05450\n",
      "scenario_21     100             93              7               93.0%           -0.35300\n",
      "scenario_22     100             92              8               92.0%           -0.37330\n",
      "scenario_23     100             80              20              80.0%           -1.59470\n",
      "scenario_24     100             93              7               93.0%           -0.30390\n",
      "scenario_25     100             95              5               95.0%           -0.11710\n",
      "scenario_26     100             83              17              83.0%           -0.71190\n",
      "scenario_27     100             84              16              84.0%           -1.03180\n",
      "scenario_28     100             88              12              88.0%           -0.55960\n",
      "scenario_29     100             87              13              87.0%           -0.60610\n",
      "scenario_3      100             91              9               91.0%           -17.73160\n",
      "scenario_30     100             91              9               91.0%           -0.32290\n",
      "scenario_31     100             88              12              88.0%           -0.56410\n",
      "scenario_32     100             86              14              86.0%           -0.58600\n",
      "scenario_33     100             86              14              86.0%           -0.80790\n",
      "scenario_34     100             97              3               97.0%           -0.20690\n",
      "scenario_35     100             93              7               93.0%           -0.23850\n",
      "scenario_36     100             92              8               92.0%           -0.49580\n",
      "scenario_37     100             87              13              87.0%           -19.23580\n",
      "scenario_38     100             89              11              89.0%           -17.37400\n",
      "scenario_39     100             86              14              86.0%           -17.65960\n",
      "scenario_4      100             89              11              89.0%           -0.51750\n",
      "scenario_40     100             91              9               91.0%           -18.04090\n",
      "scenario_41     100             90              10              90.0%           -16.58300\n",
      "scenario_42     100             90              10              90.0%           -16.84180\n",
      "scenario_43     100             88              12              88.0%           -19.47960\n",
      "scenario_44     100             87              13              87.0%           -17.39910\n",
      "scenario_45     100             90              10              90.0%           -16.34510\n",
      "scenario_46     100             88              12              88.0%           -16.46150\n",
      "scenario_47     100             90              10              90.0%           -16.70570\n",
      "scenario_48     100             90              10              90.0%           -16.51670\n",
      "scenario_49     100             90              10              90.0%           -17.80960\n",
      "scenario_5      100             91              9               91.0%           -16.65510\n",
      "scenario_50     100             91              9               91.0%           -17.37920\n",
      "scenario_51     100             90              10              90.0%           -17.33600\n",
      "scenario_52     100             91              9               91.0%           -17.66980\n",
      "scenario_53     100             89              11              89.0%           -0.53900\n",
      "scenario_54     100             97              3               97.0%           -0.13860\n",
      "scenario_55     100             92              8               92.0%           -0.49530\n",
      "scenario_56     100             94              6               94.0%           -0.35770\n",
      "scenario_57     100             91              9               91.0%           -0.68320\n",
      "scenario_58     100             91              9               91.0%           -0.35940\n",
      "scenario_59     100             85              15              85.0%           -1.10130\n",
      "scenario_6      100             91              9               91.0%           -16.73160\n",
      "scenario_60     100             94              6               94.0%           -0.24280\n",
      "scenario_61     100             86              14              86.0%           -0.59150\n",
      "scenario_62     100             91              9               91.0%           -0.40880\n",
      "scenario_63     100             82              18              82.0%           -0.89540\n",
      "scenario_64     100             79              21              79.0%           -1.80930\n",
      "scenario_65     100             87              13              87.0%           -0.84160\n",
      "scenario_66     100             95              5               95.0%           -0.23300\n",
      "scenario_67     100             96              4               96.0%           -0.22470\n",
      "scenario_68     100             89              11              89.0%           -0.73450\n",
      "scenario_7      100             91              9               91.0%           -17.08800\n",
      "scenario_8      100             91              9               91.0%           -16.92290\n",
      "scenario_9      100             89              11              89.0%           -15.84750\n",
      "\n",
      "Total de pares leídos: 6800\n",
      "Pares omitidos (datos inválidos/faltantes): 0\n",
      "\n",
      "Gráfico de TMT guardado en: /Users/gustavo/Documents/Projects/TESIS_UNAL/ADAPTIVE_ALGORITHM/data/processed/tmt_by_scenario.html\n",
      "Gráfico de Porcentaje de Coordinación guardado en: /Users/gustavo/Documents/Projects/TESIS_UNAL/ADAPTIVE_ALGORITHM/data/processed/coordination_percentage_by_scenario.html\n"
     ]
    },
    {
     "data": {
      "application/vnd.plotly.v1+json": {
       "config": {
        "plotlyServerURL": "https://plot.ly"
       },
       "data": [
        {
         "alignmentgroup": "True",
         "customdata": [
          [
           87,
           13,
           100,
           87
          ],
          [
           87,
           13,
           100,
           87
          ],
          [
           91,
           9,
           100,
           91
          ],
          [
           91,
           9,
           100,
           91
          ],
          [
           90,
           10,
           100,
           90
          ],
          [
           91,
           9,
           100,
           91
          ],
          [
           91,
           9,
           100,
           91
          ],
          [
           90,
           10,
           100,
           90
          ],
          [
           89,
           11,
           100,
           89
          ],
          [
           86,
           14,
           100,
           86
          ],
          [
           89,
           11,
           100,
           89
          ],
          [
           90,
           10,
           100,
           90
          ],
          [
           90,
           10,
           100,
           90
          ],
          [
           93,
           7,
           100,
           93
          ],
          [
           92,
           8,
           100,
           92
          ],
          [
           80,
           20,
           100,
           80
          ],
          [
           93,
           7,
           100,
           93
          ],
          [
           95,
           5,
           100,
           95
          ],
          [
           83,
           17,
           100,
           83
          ],
          [
           84,
           16,
           100,
           84
          ],
          [
           88,
           12,
           100,
           88
          ],
          [
           87,
           13,
           100,
           87
          ],
          [
           91,
           9,
           100,
           91
          ],
          [
           91,
           9,
           100,
           91
          ],
          [
           88,
           12,
           100,
           88
          ],
          [
           86,
           14,
           100,
           86
          ],
          [
           86,
           14,
           100,
           86
          ],
          [
           97,
           3,
           100,
           97
          ],
          [
           93,
           7,
           100,
           93
          ],
          [
           92,
           8,
           100,
           92
          ],
          [
           87,
           13,
           100,
           87
          ],
          [
           89,
           11,
           100,
           89
          ],
          [
           86,
           14,
           100,
           86
          ],
          [
           89,
           11,
           100,
           89
          ],
          [
           91,
           9,
           100,
           91
          ],
          [
           90,
           10,
           100,
           90
          ],
          [
           90,
           10,
           100,
           90
          ],
          [
           88,
           12,
           100,
           88
          ],
          [
           87,
           13,
           100,
           87
          ],
          [
           90,
           10,
           100,
           90
          ],
          [
           88,
           12,
           100,
           88
          ],
          [
           90,
           10,
           100,
           90
          ],
          [
           90,
           10,
           100,
           90
          ],
          [
           90,
           10,
           100,
           90
          ],
          [
           91,
           9,
           100,
           91
          ],
          [
           91,
           9,
           100,
           91
          ],
          [
           90,
           10,
           100,
           90
          ],
          [
           91,
           9,
           100,
           91
          ],
          [
           89,
           11,
           100,
           89
          ],
          [
           97,
           3,
           100,
           97
          ],
          [
           92,
           8,
           100,
           92
          ],
          [
           94,
           6,
           100,
           94
          ],
          [
           91,
           9,
           100,
           91
          ],
          [
           91,
           9,
           100,
           91
          ],
          [
           85,
           15,
           100,
           85
          ],
          [
           91,
           9,
           100,
           91
          ],
          [
           94,
           6,
           100,
           94
          ],
          [
           86,
           14,
           100,
           86
          ],
          [
           91,
           9,
           100,
           91
          ],
          [
           82,
           18,
           100,
           82
          ],
          [
           79,
           21,
           100,
           79
          ],
          [
           87,
           13,
           100,
           87
          ],
          [
           95,
           5,
           100,
           95
          ],
          [
           96,
           4,
           100,
           96
          ],
          [
           89,
           11,
           100,
           89
          ],
          [
           91,
           9,
           100,
           91
          ],
          [
           91,
           9,
           100,
           91
          ],
          [
           89,
           11,
           100,
           89
          ]
         ],
         "hovertemplate": "Escenario=%{x}<br>Total Miscoordination Time=%{marker.color}<br>Pares Coordinados=%{customdata[0]}<br>Pares Descoordinados=%{customdata[1]}<br>Total Pares Válidos=%{customdata[2]}<br>Porcentaje Coordinación=%{customdata[3]}<extra></extra>",
         "legendgroup": "",
         "marker": {
          "color": [
           -0.7392999999999994,
           -18.51,
           -17.3561,
           -17.1033,
           -15.791599999999999,
           -15.7974,
           -16.3234,
           -16.3149,
           -17.265700000000002,
           -17.239499999999996,
           -17.0876,
           -17.0231,
           -17.054500000000004,
           -0.35299999999999904,
           -0.3733000000000002,
           -1.5947,
           -0.30390000000000067,
           -0.11710000000000004,
           -0.7118999999999995,
           -1.031800000000002,
           -0.5596000000000008,
           -0.6061000000000001,
           -17.7316,
           -0.32290000000000046,
           -0.5640999999999994,
           -0.585999999999999,
           -0.8078999999999994,
           -0.20690000000000025,
           -0.2385000000000001,
           -0.4958,
           -19.2358,
           -17.374000000000002,
           -17.6596,
           -0.517499999999999,
           -18.040900000000004,
           -16.583,
           -16.841800000000003,
           -19.4796,
           -17.3991,
           -16.345100000000002,
           -16.4615,
           -16.7057,
           -16.5167,
           -17.809600000000003,
           -16.6551,
           -17.3792,
           -17.336000000000002,
           -17.669800000000002,
           -0.5390000000000001,
           -0.1386,
           -0.4953000000000005,
           -0.35770000000000024,
           -0.6831999999999998,
           -0.3594000000000002,
           -1.1012999999999997,
           -16.7316,
           -0.24280000000000002,
           -0.5915000000000004,
           -0.40880000000000033,
           -0.8953999999999998,
           -1.809299999999999,
           -0.8416000000000003,
           -0.2330000000000006,
           -0.22469999999999968,
           -0.7344999999999999,
           -17.087999999999997,
           -16.9229,
           -15.847500000000002
          ],
          "coloraxis": "coloraxis",
          "pattern": {
           "shape": ""
          }
         },
         "name": "",
         "offsetgroup": "",
         "orientation": "v",
         "showlegend": false,
         "text": [
          -0.7392999999999994,
          -18.51,
          -17.3561,
          -17.1033,
          -15.791599999999999,
          -15.7974,
          -16.3234,
          -16.3149,
          -17.265700000000002,
          -17.239499999999996,
          -17.0876,
          -17.0231,
          -17.054500000000004,
          -0.35299999999999904,
          -0.3733000000000002,
          -1.5947,
          -0.30390000000000067,
          -0.11710000000000004,
          -0.7118999999999995,
          -1.031800000000002,
          -0.5596000000000008,
          -0.6061000000000001,
          -17.7316,
          -0.32290000000000046,
          -0.5640999999999994,
          -0.585999999999999,
          -0.8078999999999994,
          -0.20690000000000025,
          -0.2385000000000001,
          -0.4958,
          -19.2358,
          -17.374000000000002,
          -17.6596,
          -0.517499999999999,
          -18.040900000000004,
          -16.583,
          -16.841800000000003,
          -19.4796,
          -17.3991,
          -16.345100000000002,
          -16.4615,
          -16.7057,
          -16.5167,
          -17.809600000000003,
          -16.6551,
          -17.3792,
          -17.336000000000002,
          -17.669800000000002,
          -0.5390000000000001,
          -0.1386,
          -0.4953000000000005,
          -0.35770000000000024,
          -0.6831999999999998,
          -0.3594000000000002,
          -1.1012999999999997,
          -16.7316,
          -0.24280000000000002,
          -0.5915000000000004,
          -0.40880000000000033,
          -0.8953999999999998,
          -1.809299999999999,
          -0.8416000000000003,
          -0.2330000000000006,
          -0.22469999999999968,
          -0.7344999999999999,
          -17.087999999999997,
          -16.9229,
          -15.847500000000002
         ],
         "textposition": "outside",
         "texttemplate": "%{text:.5f}",
         "type": "bar",
         "x": [
          "scenario_1",
          "scenario_10",
          "scenario_11",
          "scenario_12",
          "scenario_13",
          "scenario_14",
          "scenario_15",
          "scenario_16",
          "scenario_17",
          "scenario_18",
          "scenario_19",
          "scenario_2",
          "scenario_20",
          "scenario_21",
          "scenario_22",
          "scenario_23",
          "scenario_24",
          "scenario_25",
          "scenario_26",
          "scenario_27",
          "scenario_28",
          "scenario_29",
          "scenario_3",
          "scenario_30",
          "scenario_31",
          "scenario_32",
          "scenario_33",
          "scenario_34",
          "scenario_35",
          "scenario_36",
          "scenario_37",
          "scenario_38",
          "scenario_39",
          "scenario_4",
          "scenario_40",
          "scenario_41",
          "scenario_42",
          "scenario_43",
          "scenario_44",
          "scenario_45",
          "scenario_46",
          "scenario_47",
          "scenario_48",
          "scenario_49",
          "scenario_5",
          "scenario_50",
          "scenario_51",
          "scenario_52",
          "scenario_53",
          "scenario_54",
          "scenario_55",
          "scenario_56",
          "scenario_57",
          "scenario_58",
          "scenario_59",
          "scenario_6",
          "scenario_60",
          "scenario_61",
          "scenario_62",
          "scenario_63",
          "scenario_64",
          "scenario_65",
          "scenario_66",
          "scenario_67",
          "scenario_68",
          "scenario_7",
          "scenario_8",
          "scenario_9"
         ],
         "xaxis": "x",
         "y": [
          -0.7392999999999994,
          -18.51,
          -17.3561,
          -17.1033,
          -15.791599999999999,
          -15.7974,
          -16.3234,
          -16.3149,
          -17.265700000000002,
          -17.239499999999996,
          -17.0876,
          -17.0231,
          -17.054500000000004,
          -0.35299999999999904,
          -0.3733000000000002,
          -1.5947,
          -0.30390000000000067,
          -0.11710000000000004,
          -0.7118999999999995,
          -1.031800000000002,
          -0.5596000000000008,
          -0.6061000000000001,
          -17.7316,
          -0.32290000000000046,
          -0.5640999999999994,
          -0.585999999999999,
          -0.8078999999999994,
          -0.20690000000000025,
          -0.2385000000000001,
          -0.4958,
          -19.2358,
          -17.374000000000002,
          -17.6596,
          -0.517499999999999,
          -18.040900000000004,
          -16.583,
          -16.841800000000003,
          -19.4796,
          -17.3991,
          -16.345100000000002,
          -16.4615,
          -16.7057,
          -16.5167,
          -17.809600000000003,
          -16.6551,
          -17.3792,
          -17.336000000000002,
          -17.669800000000002,
          -0.5390000000000001,
          -0.1386,
          -0.4953000000000005,
          -0.35770000000000024,
          -0.6831999999999998,
          -0.3594000000000002,
          -1.1012999999999997,
          -16.7316,
          -0.24280000000000002,
          -0.5915000000000004,
          -0.40880000000000033,
          -0.8953999999999998,
          -1.809299999999999,
          -0.8416000000000003,
          -0.2330000000000006,
          -0.22469999999999968,
          -0.7344999999999999,
          -17.087999999999997,
          -16.9229,
          -15.847500000000002
         ],
         "yaxis": "y"
        }
       ],
       "layout": {
        "barmode": "relative",
        "coloraxis": {
         "colorbar": {
          "title": {
           "text": "Total Miscoordination Time"
          }
         },
         "colorscale": [
          [
           0,
           "#440154"
          ],
          [
           0.1111111111111111,
           "#482878"
          ],
          [
           0.2222222222222222,
           "#3e4989"
          ],
          [
           0.3333333333333333,
           "#31688e"
          ],
          [
           0.4444444444444444,
           "#26828e"
          ],
          [
           0.5555555555555556,
           "#1f9e89"
          ],
          [
           0.6666666666666666,
           "#35b779"
          ],
          [
           0.7777777777777778,
           "#6ece58"
          ],
          [
           0.8888888888888888,
           "#b5de2b"
          ],
          [
           1,
           "#fde725"
          ]
         ]
        },
        "font": {
         "size": 12
        },
        "height": 600,
        "legend": {
         "tracegroupgap": 0
        },
        "template": {
         "data": {
          "bar": [
           {
            "error_x": {
             "color": "#2a3f5f"
            },
            "error_y": {
             "color": "#2a3f5f"
            },
            "marker": {
             "line": {
              "color": "white",
              "width": 0.5
             },
             "pattern": {
              "fillmode": "overlay",
              "size": 10,
              "solidity": 0.2
             }
            },
            "type": "bar"
           }
          ],
          "barpolar": [
           {
            "marker": {
             "line": {
              "color": "white",
              "width": 0.5
             },
             "pattern": {
              "fillmode": "overlay",
              "size": 10,
              "solidity": 0.2
             }
            },
            "type": "barpolar"
           }
          ],
          "carpet": [
           {
            "aaxis": {
             "endlinecolor": "#2a3f5f",
             "gridcolor": "#C8D4E3",
             "linecolor": "#C8D4E3",
             "minorgridcolor": "#C8D4E3",
             "startlinecolor": "#2a3f5f"
            },
            "baxis": {
             "endlinecolor": "#2a3f5f",
             "gridcolor": "#C8D4E3",
             "linecolor": "#C8D4E3",
             "minorgridcolor": "#C8D4E3",
             "startlinecolor": "#2a3f5f"
            },
            "type": "carpet"
           }
          ],
          "choropleth": [
           {
            "colorbar": {
             "outlinewidth": 0,
             "ticks": ""
            },
            "type": "choropleth"
           }
          ],
          "contour": [
           {
            "colorbar": {
             "outlinewidth": 0,
             "ticks": ""
            },
            "colorscale": [
             [
              0,
              "#0d0887"
             ],
             [
              0.1111111111111111,
              "#46039f"
             ],
             [
              0.2222222222222222,
              "#7201a8"
             ],
             [
              0.3333333333333333,
              "#9c179e"
             ],
             [
              0.4444444444444444,
              "#bd3786"
             ],
             [
              0.5555555555555556,
              "#d8576b"
             ],
             [
              0.6666666666666666,
              "#ed7953"
             ],
             [
              0.7777777777777778,
              "#fb9f3a"
             ],
             [
              0.8888888888888888,
              "#fdca26"
             ],
             [
              1,
              "#f0f921"
             ]
            ],
            "type": "contour"
           }
          ],
          "contourcarpet": [
           {
            "colorbar": {
             "outlinewidth": 0,
             "ticks": ""
            },
            "type": "contourcarpet"
           }
          ],
          "heatmap": [
           {
            "colorbar": {
             "outlinewidth": 0,
             "ticks": ""
            },
            "colorscale": [
             [
              0,
              "#0d0887"
             ],
             [
              0.1111111111111111,
              "#46039f"
             ],
             [
              0.2222222222222222,
              "#7201a8"
             ],
             [
              0.3333333333333333,
              "#9c179e"
             ],
             [
              0.4444444444444444,
              "#bd3786"
             ],
             [
              0.5555555555555556,
              "#d8576b"
             ],
             [
              0.6666666666666666,
              "#ed7953"
             ],
             [
              0.7777777777777778,
              "#fb9f3a"
             ],
             [
              0.8888888888888888,
              "#fdca26"
             ],
             [
              1,
              "#f0f921"
             ]
            ],
            "type": "heatmap"
           }
          ],
          "heatmapgl": [
           {
            "colorbar": {
             "outlinewidth": 0,
             "ticks": ""
            },
            "colorscale": [
             [
              0,
              "#0d0887"
             ],
             [
              0.1111111111111111,
              "#46039f"
             ],
             [
              0.2222222222222222,
              "#7201a8"
             ],
             [
              0.3333333333333333,
              "#9c179e"
             ],
             [
              0.4444444444444444,
              "#bd3786"
             ],
             [
              0.5555555555555556,
              "#d8576b"
             ],
             [
              0.6666666666666666,
              "#ed7953"
             ],
             [
              0.7777777777777778,
              "#fb9f3a"
             ],
             [
              0.8888888888888888,
              "#fdca26"
             ],
             [
              1,
              "#f0f921"
             ]
            ],
            "type": "heatmapgl"
           }
          ],
          "histogram": [
           {
            "marker": {
             "pattern": {
              "fillmode": "overlay",
              "size": 10,
              "solidity": 0.2
             }
            },
            "type": "histogram"
           }
          ],
          "histogram2d": [
           {
            "colorbar": {
             "outlinewidth": 0,
             "ticks": ""
            },
            "colorscale": [
             [
              0,
              "#0d0887"
             ],
             [
              0.1111111111111111,
              "#46039f"
             ],
             [
              0.2222222222222222,
              "#7201a8"
             ],
             [
              0.3333333333333333,
              "#9c179e"
             ],
             [
              0.4444444444444444,
              "#bd3786"
             ],
             [
              0.5555555555555556,
              "#d8576b"
             ],
             [
              0.6666666666666666,
              "#ed7953"
             ],
             [
              0.7777777777777778,
              "#fb9f3a"
             ],
             [
              0.8888888888888888,
              "#fdca26"
             ],
             [
              1,
              "#f0f921"
             ]
            ],
            "type": "histogram2d"
           }
          ],
          "histogram2dcontour": [
           {
            "colorbar": {
             "outlinewidth": 0,
             "ticks": ""
            },
            "colorscale": [
             [
              0,
              "#0d0887"
             ],
             [
              0.1111111111111111,
              "#46039f"
             ],
             [
              0.2222222222222222,
              "#7201a8"
             ],
             [
              0.3333333333333333,
              "#9c179e"
             ],
             [
              0.4444444444444444,
              "#bd3786"
             ],
             [
              0.5555555555555556,
              "#d8576b"
             ],
             [
              0.6666666666666666,
              "#ed7953"
             ],
             [
              0.7777777777777778,
              "#fb9f3a"
             ],
             [
              0.8888888888888888,
              "#fdca26"
             ],
             [
              1,
              "#f0f921"
             ]
            ],
            "type": "histogram2dcontour"
           }
          ],
          "mesh3d": [
           {
            "colorbar": {
             "outlinewidth": 0,
             "ticks": ""
            },
            "type": "mesh3d"
           }
          ],
          "parcoords": [
           {
            "line": {
             "colorbar": {
              "outlinewidth": 0,
              "ticks": ""
             }
            },
            "type": "parcoords"
           }
          ],
          "pie": [
           {
            "automargin": true,
            "type": "pie"
           }
          ],
          "scatter": [
           {
            "fillpattern": {
             "fillmode": "overlay",
             "size": 10,
             "solidity": 0.2
            },
            "type": "scatter"
           }
          ],
          "scatter3d": [
           {
            "line": {
             "colorbar": {
              "outlinewidth": 0,
              "ticks": ""
             }
            },
            "marker": {
             "colorbar": {
              "outlinewidth": 0,
              "ticks": ""
             }
            },
            "type": "scatter3d"
           }
          ],
          "scattercarpet": [
           {
            "marker": {
             "colorbar": {
              "outlinewidth": 0,
              "ticks": ""
             }
            },
            "type": "scattercarpet"
           }
          ],
          "scattergeo": [
           {
            "marker": {
             "colorbar": {
              "outlinewidth": 0,
              "ticks": ""
             }
            },
            "type": "scattergeo"
           }
          ],
          "scattergl": [
           {
            "marker": {
             "colorbar": {
              "outlinewidth": 0,
              "ticks": ""
             }
            },
            "type": "scattergl"
           }
          ],
          "scattermapbox": [
           {
            "marker": {
             "colorbar": {
              "outlinewidth": 0,
              "ticks": ""
             }
            },
            "type": "scattermapbox"
           }
          ],
          "scatterpolar": [
           {
            "marker": {
             "colorbar": {
              "outlinewidth": 0,
              "ticks": ""
             }
            },
            "type": "scatterpolar"
           }
          ],
          "scatterpolargl": [
           {
            "marker": {
             "colorbar": {
              "outlinewidth": 0,
              "ticks": ""
             }
            },
            "type": "scatterpolargl"
           }
          ],
          "scatterternary": [
           {
            "marker": {
             "colorbar": {
              "outlinewidth": 0,
              "ticks": ""
             }
            },
            "type": "scatterternary"
           }
          ],
          "surface": [
           {
            "colorbar": {
             "outlinewidth": 0,
             "ticks": ""
            },
            "colorscale": [
             [
              0,
              "#0d0887"
             ],
             [
              0.1111111111111111,
              "#46039f"
             ],
             [
              0.2222222222222222,
              "#7201a8"
             ],
             [
              0.3333333333333333,
              "#9c179e"
             ],
             [
              0.4444444444444444,
              "#bd3786"
             ],
             [
              0.5555555555555556,
              "#d8576b"
             ],
             [
              0.6666666666666666,
              "#ed7953"
             ],
             [
              0.7777777777777778,
              "#fb9f3a"
             ],
             [
              0.8888888888888888,
              "#fdca26"
             ],
             [
              1,
              "#f0f921"
             ]
            ],
            "type": "surface"
           }
          ],
          "table": [
           {
            "cells": {
             "fill": {
              "color": "#EBF0F8"
             },
             "line": {
              "color": "white"
             }
            },
            "header": {
             "fill": {
              "color": "#C8D4E3"
             },
             "line": {
              "color": "white"
             }
            },
            "type": "table"
           }
          ]
         },
         "layout": {
          "annotationdefaults": {
           "arrowcolor": "#2a3f5f",
           "arrowhead": 0,
           "arrowwidth": 1
          },
          "autotypenumbers": "strict",
          "coloraxis": {
           "colorbar": {
            "outlinewidth": 0,
            "ticks": ""
           }
          },
          "colorscale": {
           "diverging": [
            [
             0,
             "#8e0152"
            ],
            [
             0.1,
             "#c51b7d"
            ],
            [
             0.2,
             "#de77ae"
            ],
            [
             0.3,
             "#f1b6da"
            ],
            [
             0.4,
             "#fde0ef"
            ],
            [
             0.5,
             "#f7f7f7"
            ],
            [
             0.6,
             "#e6f5d0"
            ],
            [
             0.7,
             "#b8e186"
            ],
            [
             0.8,
             "#7fbc41"
            ],
            [
             0.9,
             "#4d9221"
            ],
            [
             1,
             "#276419"
            ]
           ],
           "sequential": [
            [
             0,
             "#0d0887"
            ],
            [
             0.1111111111111111,
             "#46039f"
            ],
            [
             0.2222222222222222,
             "#7201a8"
            ],
            [
             0.3333333333333333,
             "#9c179e"
            ],
            [
             0.4444444444444444,
             "#bd3786"
            ],
            [
             0.5555555555555556,
             "#d8576b"
            ],
            [
             0.6666666666666666,
             "#ed7953"
            ],
            [
             0.7777777777777778,
             "#fb9f3a"
            ],
            [
             0.8888888888888888,
             "#fdca26"
            ],
            [
             1,
             "#f0f921"
            ]
           ],
           "sequentialminus": [
            [
             0,
             "#0d0887"
            ],
            [
             0.1111111111111111,
             "#46039f"
            ],
            [
             0.2222222222222222,
             "#7201a8"
            ],
            [
             0.3333333333333333,
             "#9c179e"
            ],
            [
             0.4444444444444444,
             "#bd3786"
            ],
            [
             0.5555555555555556,
             "#d8576b"
            ],
            [
             0.6666666666666666,
             "#ed7953"
            ],
            [
             0.7777777777777778,
             "#fb9f3a"
            ],
            [
             0.8888888888888888,
             "#fdca26"
            ],
            [
             1,
             "#f0f921"
            ]
           ]
          },
          "colorway": [
           "#636efa",
           "#EF553B",
           "#00cc96",
           "#ab63fa",
           "#FFA15A",
           "#19d3f3",
           "#FF6692",
           "#B6E880",
           "#FF97FF",
           "#FECB52"
          ],
          "font": {
           "color": "#2a3f5f"
          },
          "geo": {
           "bgcolor": "white",
           "lakecolor": "white",
           "landcolor": "white",
           "showlakes": true,
           "showland": true,
           "subunitcolor": "#C8D4E3"
          },
          "hoverlabel": {
           "align": "left"
          },
          "hovermode": "closest",
          "mapbox": {
           "style": "light"
          },
          "paper_bgcolor": "white",
          "plot_bgcolor": "white",
          "polar": {
           "angularaxis": {
            "gridcolor": "#EBF0F8",
            "linecolor": "#EBF0F8",
            "ticks": ""
           },
           "bgcolor": "white",
           "radialaxis": {
            "gridcolor": "#EBF0F8",
            "linecolor": "#EBF0F8",
            "ticks": ""
           }
          },
          "scene": {
           "xaxis": {
            "backgroundcolor": "white",
            "gridcolor": "#DFE8F3",
            "gridwidth": 2,
            "linecolor": "#EBF0F8",
            "showbackground": true,
            "ticks": "",
            "zerolinecolor": "#EBF0F8"
           },
           "yaxis": {
            "backgroundcolor": "white",
            "gridcolor": "#DFE8F3",
            "gridwidth": 2,
            "linecolor": "#EBF0F8",
            "showbackground": true,
            "ticks": "",
            "zerolinecolor": "#EBF0F8"
           },
           "zaxis": {
            "backgroundcolor": "white",
            "gridcolor": "#DFE8F3",
            "gridwidth": 2,
            "linecolor": "#EBF0F8",
            "showbackground": true,
            "ticks": "",
            "zerolinecolor": "#EBF0F8"
           }
          },
          "shapedefaults": {
           "line": {
            "color": "#2a3f5f"
           }
          },
          "ternary": {
           "aaxis": {
            "gridcolor": "#DFE8F3",
            "linecolor": "#A2B1C6",
            "ticks": ""
           },
           "baxis": {
            "gridcolor": "#DFE8F3",
            "linecolor": "#A2B1C6",
            "ticks": ""
           },
           "bgcolor": "white",
           "caxis": {
            "gridcolor": "#DFE8F3",
            "linecolor": "#A2B1C6",
            "ticks": ""
           }
          },
          "title": {
           "x": 0.05
          },
          "xaxis": {
           "automargin": true,
           "gridcolor": "#EBF0F8",
           "linecolor": "#EBF0F8",
           "ticks": "",
           "title": {
            "standoff": 15
           },
           "zerolinecolor": "#EBF0F8",
           "zerolinewidth": 2
          },
          "yaxis": {
           "automargin": true,
           "gridcolor": "#EBF0F8",
           "linecolor": "#EBF0F8",
           "ticks": "",
           "title": {
            "standoff": 15
           },
           "zerolinecolor": "#EBF0F8",
           "zerolinewidth": 2
          }
         }
        },
        "title": {
         "text": "Penalización Total por Descoordinación (TMT) por Escenario"
        },
        "width": 1000,
        "xaxis": {
         "anchor": "y",
         "categoryarray": [
          "scenario_1",
          "scenario_10",
          "scenario_11",
          "scenario_12",
          "scenario_13",
          "scenario_14",
          "scenario_15",
          "scenario_16",
          "scenario_17",
          "scenario_18",
          "scenario_19",
          "scenario_2",
          "scenario_20",
          "scenario_21",
          "scenario_22",
          "scenario_23",
          "scenario_24",
          "scenario_25",
          "scenario_26",
          "scenario_27",
          "scenario_28",
          "scenario_29",
          "scenario_3",
          "scenario_30",
          "scenario_31",
          "scenario_32",
          "scenario_33",
          "scenario_34",
          "scenario_35",
          "scenario_36",
          "scenario_37",
          "scenario_38",
          "scenario_39",
          "scenario_4",
          "scenario_40",
          "scenario_41",
          "scenario_42",
          "scenario_43",
          "scenario_44",
          "scenario_45",
          "scenario_46",
          "scenario_47",
          "scenario_48",
          "scenario_49",
          "scenario_5",
          "scenario_50",
          "scenario_51",
          "scenario_52",
          "scenario_53",
          "scenario_54",
          "scenario_55",
          "scenario_56",
          "scenario_57",
          "scenario_58",
          "scenario_59",
          "scenario_6",
          "scenario_60",
          "scenario_61",
          "scenario_62",
          "scenario_63",
          "scenario_64",
          "scenario_65",
          "scenario_66",
          "scenario_67",
          "scenario_68",
          "scenario_7",
          "scenario_8",
          "scenario_9"
         ],
         "categoryorder": "array",
         "domain": [
          0,
          1
         ],
         "title": {
          "text": "Escenarios"
         }
        },
        "yaxis": {
         "anchor": "x",
         "domain": [
          0,
          1
         ],
         "title": {
          "text": "TMT (Total Miscoordination Time)"
         }
        }
       }
      }
     },
     "metadata": {},
     "output_type": "display_data"
    },
    {
     "data": {
      "application/vnd.plotly.v1+json": {
       "config": {
        "plotlyServerURL": "https://plot.ly"
       },
       "data": [
        {
         "alignmentgroup": "True",
         "customdata": [
          [
           87,
           13,
           100,
           -0.7392999999999994
          ],
          [
           87,
           13,
           100,
           -18.51
          ],
          [
           91,
           9,
           100,
           -17.3561
          ],
          [
           91,
           9,
           100,
           -17.1033
          ],
          [
           90,
           10,
           100,
           -15.791599999999999
          ],
          [
           91,
           9,
           100,
           -15.7974
          ],
          [
           91,
           9,
           100,
           -16.3234
          ],
          [
           90,
           10,
           100,
           -16.3149
          ],
          [
           89,
           11,
           100,
           -17.265700000000002
          ],
          [
           86,
           14,
           100,
           -17.239499999999996
          ],
          [
           89,
           11,
           100,
           -17.0876
          ],
          [
           90,
           10,
           100,
           -17.0231
          ],
          [
           90,
           10,
           100,
           -17.054500000000004
          ],
          [
           93,
           7,
           100,
           -0.35299999999999904
          ],
          [
           92,
           8,
           100,
           -0.3733000000000002
          ],
          [
           80,
           20,
           100,
           -1.5947
          ],
          [
           93,
           7,
           100,
           -0.30390000000000067
          ],
          [
           95,
           5,
           100,
           -0.11710000000000004
          ],
          [
           83,
           17,
           100,
           -0.7118999999999995
          ],
          [
           84,
           16,
           100,
           -1.031800000000002
          ],
          [
           88,
           12,
           100,
           -0.5596000000000008
          ],
          [
           87,
           13,
           100,
           -0.6061000000000001
          ],
          [
           91,
           9,
           100,
           -17.7316
          ],
          [
           91,
           9,
           100,
           -0.32290000000000046
          ],
          [
           88,
           12,
           100,
           -0.5640999999999994
          ],
          [
           86,
           14,
           100,
           -0.585999999999999
          ],
          [
           86,
           14,
           100,
           -0.8078999999999994
          ],
          [
           97,
           3,
           100,
           -0.20690000000000025
          ],
          [
           93,
           7,
           100,
           -0.2385000000000001
          ],
          [
           92,
           8,
           100,
           -0.4958
          ],
          [
           87,
           13,
           100,
           -19.2358
          ],
          [
           89,
           11,
           100,
           -17.374000000000002
          ],
          [
           86,
           14,
           100,
           -17.6596
          ],
          [
           89,
           11,
           100,
           -0.517499999999999
          ],
          [
           91,
           9,
           100,
           -18.040900000000004
          ],
          [
           90,
           10,
           100,
           -16.583
          ],
          [
           90,
           10,
           100,
           -16.841800000000003
          ],
          [
           88,
           12,
           100,
           -19.4796
          ],
          [
           87,
           13,
           100,
           -17.3991
          ],
          [
           90,
           10,
           100,
           -16.345100000000002
          ],
          [
           88,
           12,
           100,
           -16.4615
          ],
          [
           90,
           10,
           100,
           -16.7057
          ],
          [
           90,
           10,
           100,
           -16.5167
          ],
          [
           90,
           10,
           100,
           -17.809600000000003
          ],
          [
           91,
           9,
           100,
           -16.6551
          ],
          [
           91,
           9,
           100,
           -17.3792
          ],
          [
           90,
           10,
           100,
           -17.336000000000002
          ],
          [
           91,
           9,
           100,
           -17.669800000000002
          ],
          [
           89,
           11,
           100,
           -0.5390000000000001
          ],
          [
           97,
           3,
           100,
           -0.1386
          ],
          [
           92,
           8,
           100,
           -0.4953000000000005
          ],
          [
           94,
           6,
           100,
           -0.35770000000000024
          ],
          [
           91,
           9,
           100,
           -0.6831999999999998
          ],
          [
           91,
           9,
           100,
           -0.3594000000000002
          ],
          [
           85,
           15,
           100,
           -1.1012999999999997
          ],
          [
           91,
           9,
           100,
           -16.7316
          ],
          [
           94,
           6,
           100,
           -0.24280000000000002
          ],
          [
           86,
           14,
           100,
           -0.5915000000000004
          ],
          [
           91,
           9,
           100,
           -0.40880000000000033
          ],
          [
           82,
           18,
           100,
           -0.8953999999999998
          ],
          [
           79,
           21,
           100,
           -1.809299999999999
          ],
          [
           87,
           13,
           100,
           -0.8416000000000003
          ],
          [
           95,
           5,
           100,
           -0.2330000000000006
          ],
          [
           96,
           4,
           100,
           -0.22469999999999968
          ],
          [
           89,
           11,
           100,
           -0.7344999999999999
          ],
          [
           91,
           9,
           100,
           -17.087999999999997
          ],
          [
           91,
           9,
           100,
           -16.9229
          ],
          [
           89,
           11,
           100,
           -15.847500000000002
          ]
         ],
         "hovertemplate": "Escenario=%{x}<br>Porcentaje de Coordinación (%)=%{marker.color}<br>Pares Coordinados=%{customdata[0]}<br>Pares Descoordinados=%{customdata[1]}<br>Total Pares Válidos=%{customdata[2]}<br>TMT=%{customdata[3]}<extra></extra>",
         "legendgroup": "",
         "marker": {
          "color": [
           87,
           87,
           91,
           91,
           90,
           91,
           91,
           90,
           89,
           86,
           89,
           90,
           90,
           93,
           92,
           80,
           93,
           95,
           83,
           84,
           88,
           87,
           91,
           91,
           88,
           86,
           86,
           97,
           93,
           92,
           87,
           89,
           86,
           89,
           91,
           90,
           90,
           88,
           87,
           90,
           88,
           90,
           90,
           90,
           91,
           91,
           90,
           91,
           89,
           97,
           92,
           94,
           91,
           91,
           85,
           91,
           94,
           86,
           91,
           82,
           79,
           87,
           95,
           96,
           89,
           91,
           91,
           89
          ],
          "coloraxis": "coloraxis",
          "pattern": {
           "shape": ""
          }
         },
         "name": "",
         "offsetgroup": "",
         "orientation": "v",
         "showlegend": false,
         "text": [
          87,
          87,
          91,
          91,
          90,
          91,
          91,
          90,
          89,
          86,
          89,
          90,
          90,
          93,
          92,
          80,
          93,
          95,
          83,
          84,
          88,
          87,
          91,
          91,
          88,
          86,
          86,
          97,
          93,
          92,
          87,
          89,
          86,
          89,
          91,
          90,
          90,
          88,
          87,
          90,
          88,
          90,
          90,
          90,
          91,
          91,
          90,
          91,
          89,
          97,
          92,
          94,
          91,
          91,
          85,
          91,
          94,
          86,
          91,
          82,
          79,
          87,
          95,
          96,
          89,
          91,
          91,
          89
         ],
         "textposition": "outside",
         "texttemplate": "%{text:.1f}%",
         "type": "bar",
         "x": [
          "scenario_1",
          "scenario_10",
          "scenario_11",
          "scenario_12",
          "scenario_13",
          "scenario_14",
          "scenario_15",
          "scenario_16",
          "scenario_17",
          "scenario_18",
          "scenario_19",
          "scenario_2",
          "scenario_20",
          "scenario_21",
          "scenario_22",
          "scenario_23",
          "scenario_24",
          "scenario_25",
          "scenario_26",
          "scenario_27",
          "scenario_28",
          "scenario_29",
          "scenario_3",
          "scenario_30",
          "scenario_31",
          "scenario_32",
          "scenario_33",
          "scenario_34",
          "scenario_35",
          "scenario_36",
          "scenario_37",
          "scenario_38",
          "scenario_39",
          "scenario_4",
          "scenario_40",
          "scenario_41",
          "scenario_42",
          "scenario_43",
          "scenario_44",
          "scenario_45",
          "scenario_46",
          "scenario_47",
          "scenario_48",
          "scenario_49",
          "scenario_5",
          "scenario_50",
          "scenario_51",
          "scenario_52",
          "scenario_53",
          "scenario_54",
          "scenario_55",
          "scenario_56",
          "scenario_57",
          "scenario_58",
          "scenario_59",
          "scenario_6",
          "scenario_60",
          "scenario_61",
          "scenario_62",
          "scenario_63",
          "scenario_64",
          "scenario_65",
          "scenario_66",
          "scenario_67",
          "scenario_68",
          "scenario_7",
          "scenario_8",
          "scenario_9"
         ],
         "xaxis": "x",
         "y": [
          87,
          87,
          91,
          91,
          90,
          91,
          91,
          90,
          89,
          86,
          89,
          90,
          90,
          93,
          92,
          80,
          93,
          95,
          83,
          84,
          88,
          87,
          91,
          91,
          88,
          86,
          86,
          97,
          93,
          92,
          87,
          89,
          86,
          89,
          91,
          90,
          90,
          88,
          87,
          90,
          88,
          90,
          90,
          90,
          91,
          91,
          90,
          91,
          89,
          97,
          92,
          94,
          91,
          91,
          85,
          91,
          94,
          86,
          91,
          82,
          79,
          87,
          95,
          96,
          89,
          91,
          91,
          89
         ],
         "yaxis": "y"
        }
       ],
       "layout": {
        "barmode": "relative",
        "coloraxis": {
         "colorbar": {
          "title": {
           "text": "Porcentaje de Coordinación (%)"
          }
         },
         "colorscale": [
          [
           0,
           "#30123b"
          ],
          [
           0.07142857142857142,
           "#4145ab"
          ],
          [
           0.14285714285714285,
           "#4675ed"
          ],
          [
           0.21428571428571427,
           "#39a2fc"
          ],
          [
           0.2857142857142857,
           "#1bcfd4"
          ],
          [
           0.35714285714285715,
           "#24eca6"
          ],
          [
           0.42857142857142855,
           "#61fc6c"
          ],
          [
           0.5,
           "#a4fc3b"
          ],
          [
           0.5714285714285714,
           "#d1e834"
          ],
          [
           0.6428571428571429,
           "#f3c63a"
          ],
          [
           0.7142857142857143,
           "#fe9b2d"
          ],
          [
           0.7857142857142857,
           "#f36315"
          ],
          [
           0.8571428571428571,
           "#d93806"
          ],
          [
           0.9285714285714286,
           "#b11901"
          ],
          [
           1,
           "#7a0402"
          ]
         ]
        },
        "font": {
         "size": 12
        },
        "height": 600,
        "legend": {
         "tracegroupgap": 0
        },
        "template": {
         "data": {
          "bar": [
           {
            "error_x": {
             "color": "#2a3f5f"
            },
            "error_y": {
             "color": "#2a3f5f"
            },
            "marker": {
             "line": {
              "color": "white",
              "width": 0.5
             },
             "pattern": {
              "fillmode": "overlay",
              "size": 10,
              "solidity": 0.2
             }
            },
            "type": "bar"
           }
          ],
          "barpolar": [
           {
            "marker": {
             "line": {
              "color": "white",
              "width": 0.5
             },
             "pattern": {
              "fillmode": "overlay",
              "size": 10,
              "solidity": 0.2
             }
            },
            "type": "barpolar"
           }
          ],
          "carpet": [
           {
            "aaxis": {
             "endlinecolor": "#2a3f5f",
             "gridcolor": "#C8D4E3",
             "linecolor": "#C8D4E3",
             "minorgridcolor": "#C8D4E3",
             "startlinecolor": "#2a3f5f"
            },
            "baxis": {
             "endlinecolor": "#2a3f5f",
             "gridcolor": "#C8D4E3",
             "linecolor": "#C8D4E3",
             "minorgridcolor": "#C8D4E3",
             "startlinecolor": "#2a3f5f"
            },
            "type": "carpet"
           }
          ],
          "choropleth": [
           {
            "colorbar": {
             "outlinewidth": 0,
             "ticks": ""
            },
            "type": "choropleth"
           }
          ],
          "contour": [
           {
            "colorbar": {
             "outlinewidth": 0,
             "ticks": ""
            },
            "colorscale": [
             [
              0,
              "#0d0887"
             ],
             [
              0.1111111111111111,
              "#46039f"
             ],
             [
              0.2222222222222222,
              "#7201a8"
             ],
             [
              0.3333333333333333,
              "#9c179e"
             ],
             [
              0.4444444444444444,
              "#bd3786"
             ],
             [
              0.5555555555555556,
              "#d8576b"
             ],
             [
              0.6666666666666666,
              "#ed7953"
             ],
             [
              0.7777777777777778,
              "#fb9f3a"
             ],
             [
              0.8888888888888888,
              "#fdca26"
             ],
             [
              1,
              "#f0f921"
             ]
            ],
            "type": "contour"
           }
          ],
          "contourcarpet": [
           {
            "colorbar": {
             "outlinewidth": 0,
             "ticks": ""
            },
            "type": "contourcarpet"
           }
          ],
          "heatmap": [
           {
            "colorbar": {
             "outlinewidth": 0,
             "ticks": ""
            },
            "colorscale": [
             [
              0,
              "#0d0887"
             ],
             [
              0.1111111111111111,
              "#46039f"
             ],
             [
              0.2222222222222222,
              "#7201a8"
             ],
             [
              0.3333333333333333,
              "#9c179e"
             ],
             [
              0.4444444444444444,
              "#bd3786"
             ],
             [
              0.5555555555555556,
              "#d8576b"
             ],
             [
              0.6666666666666666,
              "#ed7953"
             ],
             [
              0.7777777777777778,
              "#fb9f3a"
             ],
             [
              0.8888888888888888,
              "#fdca26"
             ],
             [
              1,
              "#f0f921"
             ]
            ],
            "type": "heatmap"
           }
          ],
          "heatmapgl": [
           {
            "colorbar": {
             "outlinewidth": 0,
             "ticks": ""
            },
            "colorscale": [
             [
              0,
              "#0d0887"
             ],
             [
              0.1111111111111111,
              "#46039f"
             ],
             [
              0.2222222222222222,
              "#7201a8"
             ],
             [
              0.3333333333333333,
              "#9c179e"
             ],
             [
              0.4444444444444444,
              "#bd3786"
             ],
             [
              0.5555555555555556,
              "#d8576b"
             ],
             [
              0.6666666666666666,
              "#ed7953"
             ],
             [
              0.7777777777777778,
              "#fb9f3a"
             ],
             [
              0.8888888888888888,
              "#fdca26"
             ],
             [
              1,
              "#f0f921"
             ]
            ],
            "type": "heatmapgl"
           }
          ],
          "histogram": [
           {
            "marker": {
             "pattern": {
              "fillmode": "overlay",
              "size": 10,
              "solidity": 0.2
             }
            },
            "type": "histogram"
           }
          ],
          "histogram2d": [
           {
            "colorbar": {
             "outlinewidth": 0,
             "ticks": ""
            },
            "colorscale": [
             [
              0,
              "#0d0887"
             ],
             [
              0.1111111111111111,
              "#46039f"
             ],
             [
              0.2222222222222222,
              "#7201a8"
             ],
             [
              0.3333333333333333,
              "#9c179e"
             ],
             [
              0.4444444444444444,
              "#bd3786"
             ],
             [
              0.5555555555555556,
              "#d8576b"
             ],
             [
              0.6666666666666666,
              "#ed7953"
             ],
             [
              0.7777777777777778,
              "#fb9f3a"
             ],
             [
              0.8888888888888888,
              "#fdca26"
             ],
             [
              1,
              "#f0f921"
             ]
            ],
            "type": "histogram2d"
           }
          ],
          "histogram2dcontour": [
           {
            "colorbar": {
             "outlinewidth": 0,
             "ticks": ""
            },
            "colorscale": [
             [
              0,
              "#0d0887"
             ],
             [
              0.1111111111111111,
              "#46039f"
             ],
             [
              0.2222222222222222,
              "#7201a8"
             ],
             [
              0.3333333333333333,
              "#9c179e"
             ],
             [
              0.4444444444444444,
              "#bd3786"
             ],
             [
              0.5555555555555556,
              "#d8576b"
             ],
             [
              0.6666666666666666,
              "#ed7953"
             ],
             [
              0.7777777777777778,
              "#fb9f3a"
             ],
             [
              0.8888888888888888,
              "#fdca26"
             ],
             [
              1,
              "#f0f921"
             ]
            ],
            "type": "histogram2dcontour"
           }
          ],
          "mesh3d": [
           {
            "colorbar": {
             "outlinewidth": 0,
             "ticks": ""
            },
            "type": "mesh3d"
           }
          ],
          "parcoords": [
           {
            "line": {
             "colorbar": {
              "outlinewidth": 0,
              "ticks": ""
             }
            },
            "type": "parcoords"
           }
          ],
          "pie": [
           {
            "automargin": true,
            "type": "pie"
           }
          ],
          "scatter": [
           {
            "fillpattern": {
             "fillmode": "overlay",
             "size": 10,
             "solidity": 0.2
            },
            "type": "scatter"
           }
          ],
          "scatter3d": [
           {
            "line": {
             "colorbar": {
              "outlinewidth": 0,
              "ticks": ""
             }
            },
            "marker": {
             "colorbar": {
              "outlinewidth": 0,
              "ticks": ""
             }
            },
            "type": "scatter3d"
           }
          ],
          "scattercarpet": [
           {
            "marker": {
             "colorbar": {
              "outlinewidth": 0,
              "ticks": ""
             }
            },
            "type": "scattercarpet"
           }
          ],
          "scattergeo": [
           {
            "marker": {
             "colorbar": {
              "outlinewidth": 0,
              "ticks": ""
             }
            },
            "type": "scattergeo"
           }
          ],
          "scattergl": [
           {
            "marker": {
             "colorbar": {
              "outlinewidth": 0,
              "ticks": ""
             }
            },
            "type": "scattergl"
           }
          ],
          "scattermapbox": [
           {
            "marker": {
             "colorbar": {
              "outlinewidth": 0,
              "ticks": ""
             }
            },
            "type": "scattermapbox"
           }
          ],
          "scatterpolar": [
           {
            "marker": {
             "colorbar": {
              "outlinewidth": 0,
              "ticks": ""
             }
            },
            "type": "scatterpolar"
           }
          ],
          "scatterpolargl": [
           {
            "marker": {
             "colorbar": {
              "outlinewidth": 0,
              "ticks": ""
             }
            },
            "type": "scatterpolargl"
           }
          ],
          "scatterternary": [
           {
            "marker": {
             "colorbar": {
              "outlinewidth": 0,
              "ticks": ""
             }
            },
            "type": "scatterternary"
           }
          ],
          "surface": [
           {
            "colorbar": {
             "outlinewidth": 0,
             "ticks": ""
            },
            "colorscale": [
             [
              0,
              "#0d0887"
             ],
             [
              0.1111111111111111,
              "#46039f"
             ],
             [
              0.2222222222222222,
              "#7201a8"
             ],
             [
              0.3333333333333333,
              "#9c179e"
             ],
             [
              0.4444444444444444,
              "#bd3786"
             ],
             [
              0.5555555555555556,
              "#d8576b"
             ],
             [
              0.6666666666666666,
              "#ed7953"
             ],
             [
              0.7777777777777778,
              "#fb9f3a"
             ],
             [
              0.8888888888888888,
              "#fdca26"
             ],
             [
              1,
              "#f0f921"
             ]
            ],
            "type": "surface"
           }
          ],
          "table": [
           {
            "cells": {
             "fill": {
              "color": "#EBF0F8"
             },
             "line": {
              "color": "white"
             }
            },
            "header": {
             "fill": {
              "color": "#C8D4E3"
             },
             "line": {
              "color": "white"
             }
            },
            "type": "table"
           }
          ]
         },
         "layout": {
          "annotationdefaults": {
           "arrowcolor": "#2a3f5f",
           "arrowhead": 0,
           "arrowwidth": 1
          },
          "autotypenumbers": "strict",
          "coloraxis": {
           "colorbar": {
            "outlinewidth": 0,
            "ticks": ""
           }
          },
          "colorscale": {
           "diverging": [
            [
             0,
             "#8e0152"
            ],
            [
             0.1,
             "#c51b7d"
            ],
            [
             0.2,
             "#de77ae"
            ],
            [
             0.3,
             "#f1b6da"
            ],
            [
             0.4,
             "#fde0ef"
            ],
            [
             0.5,
             "#f7f7f7"
            ],
            [
             0.6,
             "#e6f5d0"
            ],
            [
             0.7,
             "#b8e186"
            ],
            [
             0.8,
             "#7fbc41"
            ],
            [
             0.9,
             "#4d9221"
            ],
            [
             1,
             "#276419"
            ]
           ],
           "sequential": [
            [
             0,
             "#0d0887"
            ],
            [
             0.1111111111111111,
             "#46039f"
            ],
            [
             0.2222222222222222,
             "#7201a8"
            ],
            [
             0.3333333333333333,
             "#9c179e"
            ],
            [
             0.4444444444444444,
             "#bd3786"
            ],
            [
             0.5555555555555556,
             "#d8576b"
            ],
            [
             0.6666666666666666,
             "#ed7953"
            ],
            [
             0.7777777777777778,
             "#fb9f3a"
            ],
            [
             0.8888888888888888,
             "#fdca26"
            ],
            [
             1,
             "#f0f921"
            ]
           ],
           "sequentialminus": [
            [
             0,
             "#0d0887"
            ],
            [
             0.1111111111111111,
             "#46039f"
            ],
            [
             0.2222222222222222,
             "#7201a8"
            ],
            [
             0.3333333333333333,
             "#9c179e"
            ],
            [
             0.4444444444444444,
             "#bd3786"
            ],
            [
             0.5555555555555556,
             "#d8576b"
            ],
            [
             0.6666666666666666,
             "#ed7953"
            ],
            [
             0.7777777777777778,
             "#fb9f3a"
            ],
            [
             0.8888888888888888,
             "#fdca26"
            ],
            [
             1,
             "#f0f921"
            ]
           ]
          },
          "colorway": [
           "#636efa",
           "#EF553B",
           "#00cc96",
           "#ab63fa",
           "#FFA15A",
           "#19d3f3",
           "#FF6692",
           "#B6E880",
           "#FF97FF",
           "#FECB52"
          ],
          "font": {
           "color": "#2a3f5f"
          },
          "geo": {
           "bgcolor": "white",
           "lakecolor": "white",
           "landcolor": "white",
           "showlakes": true,
           "showland": true,
           "subunitcolor": "#C8D4E3"
          },
          "hoverlabel": {
           "align": "left"
          },
          "hovermode": "closest",
          "mapbox": {
           "style": "light"
          },
          "paper_bgcolor": "white",
          "plot_bgcolor": "white",
          "polar": {
           "angularaxis": {
            "gridcolor": "#EBF0F8",
            "linecolor": "#EBF0F8",
            "ticks": ""
           },
           "bgcolor": "white",
           "radialaxis": {
            "gridcolor": "#EBF0F8",
            "linecolor": "#EBF0F8",
            "ticks": ""
           }
          },
          "scene": {
           "xaxis": {
            "backgroundcolor": "white",
            "gridcolor": "#DFE8F3",
            "gridwidth": 2,
            "linecolor": "#EBF0F8",
            "showbackground": true,
            "ticks": "",
            "zerolinecolor": "#EBF0F8"
           },
           "yaxis": {
            "backgroundcolor": "white",
            "gridcolor": "#DFE8F3",
            "gridwidth": 2,
            "linecolor": "#EBF0F8",
            "showbackground": true,
            "ticks": "",
            "zerolinecolor": "#EBF0F8"
           },
           "zaxis": {
            "backgroundcolor": "white",
            "gridcolor": "#DFE8F3",
            "gridwidth": 2,
            "linecolor": "#EBF0F8",
            "showbackground": true,
            "ticks": "",
            "zerolinecolor": "#EBF0F8"
           }
          },
          "shapedefaults": {
           "line": {
            "color": "#2a3f5f"
           }
          },
          "ternary": {
           "aaxis": {
            "gridcolor": "#DFE8F3",
            "linecolor": "#A2B1C6",
            "ticks": ""
           },
           "baxis": {
            "gridcolor": "#DFE8F3",
            "linecolor": "#A2B1C6",
            "ticks": ""
           },
           "bgcolor": "white",
           "caxis": {
            "gridcolor": "#DFE8F3",
            "linecolor": "#A2B1C6",
            "ticks": ""
           }
          },
          "title": {
           "x": 0.05
          },
          "xaxis": {
           "automargin": true,
           "gridcolor": "#EBF0F8",
           "linecolor": "#EBF0F8",
           "ticks": "",
           "title": {
            "standoff": 15
           },
           "zerolinecolor": "#EBF0F8",
           "zerolinewidth": 2
          },
          "yaxis": {
           "automargin": true,
           "gridcolor": "#EBF0F8",
           "linecolor": "#EBF0F8",
           "ticks": "",
           "title": {
            "standoff": 15
           },
           "zerolinecolor": "#EBF0F8",
           "zerolinewidth": 2
          }
         }
        },
        "title": {
         "text": "Porcentaje de Pares Coordinados por Escenario"
        },
        "width": 1000,
        "xaxis": {
         "anchor": "y",
         "categoryarray": [
          "scenario_1",
          "scenario_10",
          "scenario_11",
          "scenario_12",
          "scenario_13",
          "scenario_14",
          "scenario_15",
          "scenario_16",
          "scenario_17",
          "scenario_18",
          "scenario_19",
          "scenario_2",
          "scenario_20",
          "scenario_21",
          "scenario_22",
          "scenario_23",
          "scenario_24",
          "scenario_25",
          "scenario_26",
          "scenario_27",
          "scenario_28",
          "scenario_29",
          "scenario_3",
          "scenario_30",
          "scenario_31",
          "scenario_32",
          "scenario_33",
          "scenario_34",
          "scenario_35",
          "scenario_36",
          "scenario_37",
          "scenario_38",
          "scenario_39",
          "scenario_4",
          "scenario_40",
          "scenario_41",
          "scenario_42",
          "scenario_43",
          "scenario_44",
          "scenario_45",
          "scenario_46",
          "scenario_47",
          "scenario_48",
          "scenario_49",
          "scenario_5",
          "scenario_50",
          "scenario_51",
          "scenario_52",
          "scenario_53",
          "scenario_54",
          "scenario_55",
          "scenario_56",
          "scenario_57",
          "scenario_58",
          "scenario_59",
          "scenario_6",
          "scenario_60",
          "scenario_61",
          "scenario_62",
          "scenario_63",
          "scenario_64",
          "scenario_65",
          "scenario_66",
          "scenario_67",
          "scenario_68",
          "scenario_7",
          "scenario_8",
          "scenario_9"
         ],
         "categoryorder": "array",
         "domain": [
          0,
          1
         ],
         "title": {
          "text": "Escenarios"
         }
        },
        "yaxis": {
         "anchor": "x",
         "domain": [
          0,
          1
         ],
         "title": {
          "text": "Porcentaje de Coordinación (%)"
         }
        }
       }
      }
     },
     "metadata": {},
     "output_type": "display_data"
    }
   ],
   "source": [
    "import json\n",
    "import os\n",
    "import copy\n",
    "import plotly.express as px\n",
    "import plotly.graph_objects as go\n",
    "import pandas as pd\n",
    "import numpy as np\n",
    "\n",
    "# --- Constantes ---\n",
    "CTI = 0.2  # Intervalo de tiempo de coordinación típico (en segundos)\n",
    "\n",
    "# --- Ruta del archivo ---\n",
    "input_file = \"/Users/gustavo/Documents/Projects/TESIS_UNAL/ADAPTIVE_ALGORITHM/data/processed/independent_relay_pairs_optimization.json\"\n",
    "\n",
    "def analyze_all_scenarios():\n",
    "    try:\n",
    "        # 1. Cargar el archivo JSON\n",
    "        print(f\"Cargando datos desde: {input_file}\")\n",
    "        with open(input_file, 'r') as f:\n",
    "            relay_pairs_data = json.load(f)\n",
    "        \n",
    "        if not isinstance(relay_pairs_data, list):\n",
    "            raise TypeError(f\"Error: El archivo {input_file} no contiene una lista JSON.\")\n",
    "        \n",
    "        # Diccionarios para almacenar datos por escenario\n",
    "        scenario_results = {}  # Estructura: {scenario_id: {'tmt': valor, 'coordinated': cantidad, 'uncoordinated': cantidad}}\n",
    "        \n",
    "        # 2. Procesar cada par y agrupar por escenario\n",
    "        print(\"Calculando TMT por escenario...\")\n",
    "        total_pairs_read = 0\n",
    "        skipped_pairs_count = 0\n",
    "        \n",
    "        for pair_entry in relay_pairs_data:\n",
    "            total_pairs_read += 1\n",
    "            if not isinstance(pair_entry, dict):\n",
    "                skipped_pairs_count += 1\n",
    "                continue\n",
    "            \n",
    "            scenario_id = pair_entry.get(\"scenario_id\")\n",
    "            if not scenario_id:\n",
    "                skipped_pairs_count += 1\n",
    "                continue\n",
    "                \n",
    "            # Inicializar datos del escenario si es la primera vez\n",
    "            if scenario_id not in scenario_results:\n",
    "                scenario_results[scenario_id] = {\n",
    "                    'tmt': 0, \n",
    "                    'coordinated': 0, \n",
    "                    'uncoordinated': 0,\n",
    "                    'total_valid': 0\n",
    "                }\n",
    "            \n",
    "            # Obtener información de los relés\n",
    "            main_relay_info = pair_entry.get('main_relay')\n",
    "            backup_relay_info = pair_entry.get('backup_relay')\n",
    "            \n",
    "            if not isinstance(main_relay_info, dict) or not isinstance(backup_relay_info, dict):\n",
    "                skipped_pairs_count += 1\n",
    "                continue\n",
    "                \n",
    "            # Obtener tiempos de operación\n",
    "            main_time = main_relay_info.get('Time_out')\n",
    "            backup_time = backup_relay_info.get('Time_out')\n",
    "            \n",
    "            # Validar que los tiempos son números\n",
    "            if not isinstance(main_time, (int, float)) or not isinstance(backup_time, (int, float)):\n",
    "                skipped_pairs_count += 1\n",
    "                continue\n",
    "                \n",
    "            # Cálculos\n",
    "            delta_t = backup_time - main_time - CTI\n",
    "            mt = (delta_t - abs(delta_t)) / 2  # Penalización solo si delta_t es negativo\n",
    "            \n",
    "            # Actualizar resultados del escenario\n",
    "            scenario_results[scenario_id]['tmt'] += mt\n",
    "            scenario_results[scenario_id]['total_valid'] += 1\n",
    "            \n",
    "            if delta_t >= 0:\n",
    "                scenario_results[scenario_id]['coordinated'] += 1\n",
    "            else:\n",
    "                scenario_results[scenario_id]['uncoordinated'] += 1\n",
    "        \n",
    "        # 3. Preparar datos para graficar\n",
    "        data_for_chart = []\n",
    "        for scenario, data in scenario_results.items():\n",
    "            data_for_chart.append({\n",
    "                'Escenario': scenario,\n",
    "                'TMT': data['tmt'],\n",
    "                'Pares Coordinados': data['coordinated'],\n",
    "                'Pares Descoordinados': data['uncoordinated'],\n",
    "                'Total Pares Válidos': data['total_valid'],\n",
    "                'Porcentaje Coordinación': 100 * data['coordinated'] / data['total_valid'] if data['total_valid'] > 0 else 0\n",
    "            })\n",
    "        \n",
    "        # Convertir a DataFrame y ordenar por nombre de escenario\n",
    "        df = pd.DataFrame(data_for_chart)\n",
    "        df = df.sort_values(by='Escenario')\n",
    "        \n",
    "        # 4. Crear gráfico de barras con Plotly\n",
    "        fig = px.bar(\n",
    "            df, \n",
    "            x='Escenario', \n",
    "            y='TMT',\n",
    "            text='TMT',\n",
    "            color='TMT',\n",
    "            color_continuous_scale='Viridis',\n",
    "            title='Penalización Total por Descoordinación (TMT) por Escenario',\n",
    "            labels={'TMT': 'Total Miscoordination Time'},\n",
    "            hover_data=['Pares Coordinados', 'Pares Descoordinados', 'Total Pares Válidos', 'Porcentaje Coordinación']\n",
    "        )\n",
    "        \n",
    "        # Personalizar el gráfico\n",
    "        fig.update_traces(\n",
    "            texttemplate='%{text:.5f}',\n",
    "            textposition='outside'\n",
    "        )\n",
    "        \n",
    "        fig.update_layout(\n",
    "            xaxis_title='Escenarios',\n",
    "            yaxis_title='TMT (Total Miscoordination Time)',\n",
    "            xaxis={'categoryorder': 'array', 'categoryarray': df['Escenario'].tolist()},\n",
    "            font=dict(size=12),\n",
    "            height=600,\n",
    "            width=1000\n",
    "        )\n",
    "        \n",
    "        # 5. Crear un segundo gráfico: porcentaje de coordinación\n",
    "        fig2 = px.bar(\n",
    "            df,\n",
    "            x='Escenario',\n",
    "            y='Porcentaje Coordinación',\n",
    "            text='Porcentaje Coordinación',\n",
    "            color='Porcentaje Coordinación',\n",
    "            color_continuous_scale='Turbo',\n",
    "            title='Porcentaje de Pares Coordinados por Escenario',\n",
    "            labels={'Porcentaje Coordinación': 'Porcentaje de Coordinación (%)'},\n",
    "            hover_data=['Pares Coordinados', 'Pares Descoordinados', 'Total Pares Válidos', 'TMT']\n",
    "        )\n",
    "        \n",
    "        fig2.update_traces(\n",
    "            texttemplate='%{text:.1f}%',\n",
    "            textposition='outside'\n",
    "        )\n",
    "        \n",
    "        fig2.update_layout(\n",
    "            xaxis_title='Escenarios',\n",
    "            yaxis_title='Porcentaje de Coordinación (%)',\n",
    "            xaxis={'categoryorder': 'array', 'categoryarray': df['Escenario'].tolist()},\n",
    "            font=dict(size=12),\n",
    "            height=600,\n",
    "            width=1000\n",
    "        )\n",
    "        \n",
    "        # 5. Mostrar tabla de resultados\n",
    "        print(\"\\n--- Resultados por Escenario ---\")\n",
    "        print(f\"{'Escenario':<15} {'Pares Válidos':<15} {'Coordinados':<15} {'Descoordinados':<15} {'% Coordin.':<15} {'TMT':<15}\")\n",
    "        print(\"-\" * 90)\n",
    "        \n",
    "        for index, row in df.iterrows():\n",
    "            print(f\"{row['Escenario']:<15} {int(row['Total Pares Válidos']):<15} {int(row['Pares Coordinados']):<15} {int(row['Pares Descoordinados']):<15} {row['Porcentaje Coordinación']:.1f}%{' ':<10} {row['TMT']:.5f}\")\n",
    "        \n",
    "        print(f\"\\nTotal de pares leídos: {total_pairs_read}\")\n",
    "        print(f\"Pares omitidos (datos inválidos/faltantes): {skipped_pairs_count}\")\n",
    "        \n",
    "        # Guardar los gráficos antes de mostrarlos\n",
    "        output_dir = os.path.dirname(input_file)\n",
    "        \n",
    "        # Guardar el primer gráfico (TMT)\n",
    "        output_file_tmt = os.path.join(output_dir, \"tmt_by_scenario.html\")\n",
    "        fig.write_html(output_file_tmt)\n",
    "        print(f\"\\nGráfico de TMT guardado en: {output_file_tmt}\")\n",
    "        \n",
    "        # Guardar el segundo gráfico (% Coordinación)\n",
    "        output_file_coord = os.path.join(output_dir, \"coordination_percentage_by_scenario.html\")\n",
    "        fig2.write_html(output_file_coord)\n",
    "        print(f\"Gráfico de Porcentaje de Coordinación guardado en: {output_file_coord}\")\n",
    "        \n",
    "        # Mostrar los gráficos\n",
    "        fig.show()\n",
    "        fig2.show()\n",
    "        \n",
    "    except FileNotFoundError:\n",
    "        print(f\"Error CRÍTICO: No se pudo encontrar el archivo de entrada: {input_file}\")\n",
    "    except TypeError as e:\n",
    "        print(f\"Error CRÍTICO: Problema con el tipo de datos esperado en el archivo JSON: {e}\")\n",
    "    except json.JSONDecodeError as e:\n",
    "        print(f\"Error CRÍTICO: El archivo de entrada JSON ({input_file}) está mal formado: {e}\")\n",
    "    except Exception as e:\n",
    "        import traceback\n",
    "        print(f\"Error inesperado durante el procesamiento: {e}\")\n",
    "        print(\"--- Traceback ---\")\n",
    "        traceback.print_exc()\n",
    "        print(\"-----------------\")\n",
    "        \n",
    "if __name__ == \"__main__\":\n",
    "    analyze_all_scenarios()\n"
   ]
  },
  {
   "cell_type": "code",
   "execution_count": null,
   "metadata": {},
   "outputs": [],
   "source": []
  }
 ],
 "metadata": {
  "kernelspec": {
   "display_name": "Python 3",
   "language": "python",
   "name": "python3"
  },
  "language_info": {
   "codemirror_mode": {
    "name": "ipython",
    "version": 3
   },
   "file_extension": ".py",
   "mimetype": "text/x-python",
   "name": "python",
   "nbconvert_exporter": "python",
   "pygments_lexer": "ipython3",
   "version": "3.11.11"
  }
 },
 "nbformat": 4,
 "nbformat_minor": 2
}
