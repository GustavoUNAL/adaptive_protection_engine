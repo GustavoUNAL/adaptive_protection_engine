{
 "cells": [
  {
   "cell_type": "markdown",
   "metadata": {},
   "source": [
    "# Anlisis detallado escenario base"
   ]
  },
  {
   "cell_type": "code",
   "execution_count": 9,
   "metadata": {},
   "outputs": [
    {
     "name": "stdout",
     "output_type": "stream",
     "text": [
      "============================================\n",
      "=== Relay Coordination Analysis Script ===\n",
      "===       Mode: Analyze Scenario 1       ===\n",
      "============================================\n",
      "Attempting to load data from: /Users/gustavo/Documents/Projects/TESIS_UNAL/ADAPTIVE_ALGORITHM/data/processed/independent_relay_pairs_optimization.json\n",
      "Successfully loaded 6800 records from JSON.\n",
      "--- Starting Analysis for Single Scenario: scenario_1 ---\n",
      "Using CTI = 0.2s\n",
      "Results will be saved in: /Users/gustavo/Documents/Projects/TESIS_UNAL/ADAPTIVE_ALGORITHM/results/coordination_plots\n",
      "Starting data extraction and processing for scenarios...\n",
      "Data extraction complete. Processed pairs: 6800, Skipped records/pairs: 0\n",
      "Aggregating results per scenario...\n",
      "Scenario aggregation complete.\n",
      "\n",
      "--- Processing Detailed Analysis for: scenario_1 ---\n",
      "\n",
      "--- Resumen de Coordinación ---\n",
      "Total Pares Analizados: 100\n",
      "Pares Coordinados (Δt >= 0): 87 (87.0%)\n",
      "Pares Descoordinados (Δt < 0): 13 (13.0%)\n",
      "\n",
      "--- Estadísticas del Índice MT ---\n",
      "count    100.000000\n",
      "mean      -0.007393\n",
      "std        0.025476\n",
      "min       -0.139000\n",
      "25%        0.000000\n",
      "50%        0.000000\n",
      "75%        0.000000\n",
      "max        0.000000\n",
      "TMT (Suma MT): -0.73930\n",
      "\n",
      "--- Par Más Descoordinado (Peor MT) ---\n",
      "Par (P-R): R19-R18\n",
      "MT:        -0.1390\n",
      "Δt:        -0.1390 s\n",
      "Tm:        1.5523 s\n",
      "Tb:        1.6133 s\n",
      "Línea:     L19-20\n",
      "Falla:     10\n",
      "\n",
      "--- Top 10 Pares con Mayor Descoordinación (Ordenados por Peor MT) ---\n",
      "Par (P-R)      mt      Δt     tm     tb  Línea Falla\n",
      "  R19-R18 -0.1390 -0.1390 1.5523 1.6133 L19-20    10\n",
      "  R11-R10 -0.1201 -0.1201 1.9870 2.0669 L11-12    10\n",
      "  R12-R11 -0.1069 -0.1069 2.0294 2.1225 L12-13    10\n",
      "   R10-R9 -0.0967 -0.0967 2.0165 2.1198 L10-11    10\n",
      "  R23-R22 -0.0750 -0.0750 2.1218 2.2468 L23-24    10\n",
      "  R44-R70 -0.0652 -0.0652 2.4149 2.5497   L7-8    90\n",
      "  R13-R12 -0.0644 -0.0644 2.3337 2.4693 L13-14    10\n",
      "  R17-R16 -0.0255 -0.0255 2.5522 2.7267 L17-18    10\n",
      "  R20-R19 -0.0156 -0.0156 1.8801 2.0645 L20-21    10\n",
      "  R70-R20 -0.0116 -0.0116 1.8668 2.0552  L8-21    90\n",
      "\n",
      "Saving detailed results to CSV: /Users/gustavo/Documents/Projects/TESIS_UNAL/ADAPTIVE_ALGORITHM/results/coordination_plots/scenario_1_detailed_results.csv\n",
      "  Successfully saved.\n",
      "\n",
      "--- Generating Plots for Scenario: scenario_1 ---\n",
      "  Generating MT Bar Chart...\n",
      "  Generating Delta_t Bar Chart...\n",
      "  Generating Delta_t Scatter Plot...\n",
      "  Generating MT Histogram...\n",
      "  Saving plots for scenario_1...\n",
      "    Displaying mt_bar plot...\n"
     ]
    },
    {
     "data": {
      "application/vnd.plotly.v1+json": {
       "config": {
        "plotlyServerURL": "https://plot.ly"
       },
       "data": [
        {
         "hoverinfo": "text",
         "marker": {
          "color": [
           "red",
           "red",
           "red",
           "red",
           "red",
           "red",
           "red",
           "red",
           "red",
           "red",
           "red",
           "red",
           "red",
           "green",
           "green",
           "green",
           "green",
           "green",
           "green",
           "green",
           "green",
           "green",
           "green",
           "green",
           "green",
           "green",
           "green",
           "green",
           "green",
           "green",
           "green",
           "green",
           "green",
           "green",
           "green",
           "green",
           "green",
           "green",
           "green",
           "green",
           "green",
           "green",
           "green",
           "green",
           "green",
           "green",
           "green",
           "green",
           "green",
           "green",
           "green",
           "green",
           "green",
           "green",
           "green",
           "green",
           "green",
           "green",
           "green",
           "green",
           "green",
           "green",
           "green",
           "green",
           "green",
           "green",
           "green",
           "green",
           "green",
           "green",
           "green",
           "green",
           "green",
           "green",
           "green",
           "green",
           "green",
           "green",
           "green",
           "green",
           "green",
           "green",
           "green",
           "green",
           "green",
           "green",
           "green",
           "green",
           "green",
           "green",
           "green",
           "green",
           "green",
           "green",
           "green",
           "green",
           "green",
           "green",
           "green",
           "green"
          ]
         },
         "name": "Índice MT",
         "text": [
          "<b>R19-R18</b><br>Índice Plot: 1<br>MT: -0.1390 | <b>Δt: -0.1390s</b><br>Tm: 1.5523s | Tb: 1.6133s<br>Línea: L19-20 | Falla: 10<br>Estado: Descoordinado<extra></extra>",
          "<b>R11-R10</b><br>Índice Plot: 2<br>MT: -0.1201 | <b>Δt: -0.1201s</b><br>Tm: 1.9870s | Tb: 2.0669s<br>Línea: L11-12 | Falla: 10<br>Estado: Descoordinado<extra></extra>",
          "<b>R12-R11</b><br>Índice Plot: 3<br>MT: -0.1069 | <b>Δt: -0.1069s</b><br>Tm: 2.0294s | Tb: 2.1225s<br>Línea: L12-13 | Falla: 10<br>Estado: Descoordinado<extra></extra>",
          "<b>R10-R9</b><br>Índice Plot: 4<br>MT: -0.0967 | <b>Δt: -0.0967s</b><br>Tm: 2.0165s | Tb: 2.1198s<br>Línea: L10-11 | Falla: 10<br>Estado: Descoordinado<extra></extra>",
          "<b>R23-R22</b><br>Índice Plot: 5<br>MT: -0.0750 | <b>Δt: -0.0750s</b><br>Tm: 2.1218s | Tb: 2.2468s<br>Línea: L23-24 | Falla: 10<br>Estado: Descoordinado<extra></extra>",
          "<b>R44-R70</b><br>Índice Plot: 6<br>MT: -0.0652 | <b>Δt: -0.0652s</b><br>Tm: 2.4149s | Tb: 2.5497s<br>Línea: L7-8 | Falla: 90<br>Estado: Descoordinado<extra></extra>",
          "<b>R13-R12</b><br>Índice Plot: 7<br>MT: -0.0644 | <b>Δt: -0.0644s</b><br>Tm: 2.3337s | Tb: 2.4693s<br>Línea: L13-14 | Falla: 10<br>Estado: Descoordinado<extra></extra>",
          "<b>R17-R16</b><br>Índice Plot: 8<br>MT: -0.0255 | <b>Δt: -0.0255s</b><br>Tm: 2.5522s | Tb: 2.7267s<br>Línea: L17-18 | Falla: 10<br>Estado: Descoordinado<extra></extra>",
          "<b>R20-R19</b><br>Índice Plot: 9<br>MT: -0.0156 | <b>Δt: -0.0156s</b><br>Tm: 1.8801s | Tb: 2.0645s<br>Línea: L20-21 | Falla: 10<br>Estado: Descoordinado<extra></extra>",
          "<b>R70-R20</b><br>Índice Plot: 10<br>MT: -0.0116 | <b>Δt: -0.0116s</b><br>Tm: 1.8668s | Tb: 2.0552s<br>Línea: L8-21 | Falla: 90<br>Estado: Descoordinado<extra></extra>",
          "<b>R15-R34</b><br>Índice Plot: 11<br>MT: -0.0093 | <b>Δt: -0.0093s</b><br>Tm: 2.3380s | Tb: 2.5287s<br>Línea: L15-16 | Falla: 10<br>Estado: Descoordinado<extra></extra>",
          "<b>R15-R14</b><br>Índice Plot: 12<br>MT: -0.0072 | <b>Δt: -0.0072s</b><br>Tm: 2.3380s | Tb: 2.5308s<br>Línea: L15-16 | Falla: 10<br>Estado: Descoordinado<extra></extra>",
          "<b>R24-R23</b><br>Índice Plot: 13<br>MT: -0.0028 | <b>Δt: -0.0028s</b><br>Tm: 2.4064s | Tb: 2.6036s<br>Línea: L24-25 | Falla: 10<br>Estado: Descoordinado<extra></extra>",
          "<b>R51-R52</b><br>Índice Plot: 14<br>MT: 0.0000 | <b>Δt: 0.0667s</b><br>Tm: 1.8980s | Tb: 2.1647s<br>Línea: L14-15 | Falla: 90<br>Estado: Coordinado<extra></extra>",
          "<b>R38-R55</b><br>Índice Plot: 15<br>MT: 0.0000 | <b>Δt: 1.7861s</b><br>Tm: 0.1989s | Tb: 2.1850s<br>Línea: L1-2 | Falla: 90<br>Estado: Coordinado<extra></extra>",
          "<b>R47-R48</b><br>Índice Plot: 16<br>MT: 0.0000 | <b>Δt: 0.0215s</b><br>Tm: 1.9344s | Tb: 2.1559s<br>Línea: L10-11 | Falla: 90<br>Estado: Coordinado<extra></extra>",
          "<b>R48-R49</b><br>Índice Plot: 17<br>MT: 0.0000 | <b>Δt: 0.0219s</b><br>Tm: 2.0627s | Tb: 2.2846s<br>Línea: L11-12 | Falla: 90<br>Estado: Coordinado<extra></extra>",
          "<b>R48-R72</b><br>Índice Plot: 18<br>MT: 0.0000 | <b>Δt: 0.0439s</b><br>Tm: 2.0627s | Tb: 2.3066s<br>Línea: L11-12 | Falla: 90<br>Estado: Coordinado<extra></extra>",
          "<b>R12-R72</b><br>Índice Plot: 19<br>MT: 0.0000 | <b>Δt: 0.1267s</b><br>Tm: 2.0294s | Tb: 2.3561s<br>Línea: L12-13 | Falla: 10<br>Estado: Coordinado<extra></extra>",
          "<b>R49-R50</b><br>Índice Plot: 20<br>MT: 0.0000 | <b>Δt: 0.0335s</b><br>Tm: 1.7994s | Tb: 2.0329s<br>Línea: L12-13 | Falla: 90<br>Estado: Coordinado<extra></extra>",
          "<b>R50-R51</b><br>Índice Plot: 21<br>MT: 0.0000 | <b>Δt: 0.0032s</b><br>Tm: 1.8518s | Tb: 2.0550s<br>Línea: L13-14 | Falla: 90<br>Estado: Coordinado<extra></extra>",
          "<b>R14-R13</b><br>Índice Plot: 22<br>MT: 0.0000 | <b>Δt: 0.0585s</b><br>Tm: 2.3044s | Tb: 2.5629s<br>Línea: L14-15 | Falla: 10<br>Estado: Coordinado<extra></extra>",
          "<b>R54-R73</b><br>Índice Plot: 23<br>MT: 0.0000 | <b>Δt: 0.0757s</b><br>Tm: 2.2353s | Tb: 2.5110s<br>Línea: L17-18 | Falla: 90<br>Estado: Coordinado<extra></extra>",
          "<b>R18-R39</b><br>Índice Plot: 24<br>MT: 0.0000 | <b>Δt: 0.0653s</b><br>Tm: 1.4531s | Tb: 1.7184s<br>Línea: L2-19 | Falla: 10<br>Estado: Coordinado<extra></extra>",
          "<b>R52-R53</b><br>Índice Plot: 25<br>MT: 0.0000 | <b>Δt: 0.0894s</b><br>Tm: 2.0266s | Tb: 2.3160s<br>Línea: L15-16 | Falla: 90<br>Estado: Coordinado<extra></extra>",
          "<b>R16-R15</b><br>Índice Plot: 26<br>MT: 0.0000 | <b>Δt: 0.0752s</b><br>Tm: 2.3050s | Tb: 2.5802s<br>Línea: L16-17 | Falla: 10<br>Estado: Coordinado<extra></extra>",
          "<b>R53-R54</b><br>Índice Plot: 27<br>MT: 0.0000 | <b>Δt: 0.1214s</b><br>Tm: 2.0604s | Tb: 2.3818s<br>Línea: L16-17 | Falla: 90<br>Estado: Coordinado<extra></extra>",
          "<b>R55-R56</b><br>Índice Plot: 28<br>MT: 0.0000 | <b>Δt: 0.0660s</b><br>Tm: 1.8282s | Tb: 2.0942s<br>Línea: L2-19 | Falla: 90<br>Estado: Coordinado<extra></extra>",
          "<b>R36-R17</b><br>Índice Plot: 29<br>MT: 0.0000 | <b>Δt: 0.0232s</b><br>Tm: 2.5008s | Tb: 2.7240s<br>Línea: L18-33 | Falla: 10<br>Estado: Coordinado<extra></extra>",
          "<b>R73-R32</b><br>Índice Plot: 30<br>MT: 0.0000 | <b>Δt: 0.0991s</b><br>Tm: 2.3767s | Tb: 2.6758s<br>Línea: L18-33 | Falla: 90<br>Estado: Coordinado<extra></extra>",
          "<b>R56-R57</b><br>Índice Plot: 31<br>MT: 0.0000 | <b>Δt: 0.0045s</b><br>Tm: 1.5655s | Tb: 1.7700s<br>Línea: L19-20 | Falla: 90<br>Estado: Coordinado<extra></extra>",
          "<b>R51-R34</b><br>Índice Plot: 32<br>MT: 0.0000 | <b>Δt: 0.4307s</b><br>Tm: 1.8980s | Tb: 2.5287s<br>Línea: L14-15 | Falla: 90<br>Estado: Coordinado<extra></extra>",
          "<b>R2-R1</b><br>Índice Plot: 33<br>MT: 0.0000 | <b>Δt: 0.0944s</b><br>Tm: 1.9891s | Tb: 2.2835s<br>Línea: L2-3 | Falla: 10<br>Estado: Coordinado<extra></extra>",
          "<b>R71-R14</b><br>Índice Plot: 34<br>MT: 0.0000 | <b>Δt: 1.0817s</b><br>Tm: 1.3400s | Tb: 2.6217s<br>Línea: L9-15 | Falla: 90<br>Estado: Coordinado<extra></extra>",
          "<b>R26-R25</b><br>Índice Plot: 35<br>MT: 0.0000 | <b>Δt: 0.0492s</b><br>Tm: 2.2805s | Tb: 2.5297s<br>Línea: L26-27 | Falla: 10<br>Estado: Coordinado<extra></extra>",
          "<b>R39-R40</b><br>Índice Plot: 36<br>MT: 0.0000 | <b>Δt: 0.7327s</b><br>Tm: 1.1999s | Tb: 2.1326s<br>Línea: L2-3 | Falla: 90<br>Estado: Coordinado<extra></extra>",
          "<b>R39-R59</b><br>Índice Plot: 37<br>MT: 0.0000 | <b>Δt: 0.9717s</b><br>Tm: 1.1999s | Tb: 2.3716s<br>Línea: L2-3 | Falla: 90<br>Estado: Coordinado<extra></extra>",
          "<b>R57-R58</b><br>Índice Plot: 38<br>MT: 0.0000 | <b>Δt: 0.0650s</b><br>Tm: 1.6605s | Tb: 1.9255s<br>Línea: L20-21 | Falla: 90<br>Estado: Coordinado<extra></extra>",
          "<b>R57-R33</b><br>Índice Plot: 39<br>MT: 0.0000 | <b>Δt: 0.0189s</b><br>Tm: 1.6605s | Tb: 1.8794s<br>Línea: L20-21 | Falla: 90<br>Estado: Coordinado<extra></extra>",
          "<b>R21-R20</b><br>Índice Plot: 40<br>MT: 0.0000 | <b>Δt: 0.3241s</b><br>Tm: 1.4986s | Tb: 2.0227s<br>Línea: L21-22 | Falla: 10<br>Estado: Coordinado<extra></extra>",
          "<b>R21-R33</b><br>Índice Plot: 41<br>MT: 0.0000 | <b>Δt: 0.2140s</b><br>Tm: 1.4986s | Tb: 1.9126s<br>Línea: L21-22 | Falla: 10<br>Estado: Coordinado<extra></extra>",
          "<b>R58-R35</b><br>Índice Plot: 42<br>MT: 0.0000 | <b>Δt: 0.0136s</b><br>Tm: 1.6871s | Tb: 1.9007s<br>Línea: L21-22 | Falla: 90<br>Estado: Coordinado<extra></extra>",
          "<b>R33-R7</b><br>Índice Plot: 43<br>MT: 0.0000 | <b>Δt: 0.3356s</b><br>Tm: 1.4160s | Tb: 1.9516s<br>Línea: L8-21 | Falla: 10<br>Estado: Coordinado<extra></extra>",
          "<b>R2-R55</b><br>Índice Plot: 44<br>MT: 0.0000 | <b>Δt: 0.2697s</b><br>Tm: 1.9891s | Tb: 2.4588s<br>Línea: L2-3 | Falla: 10<br>Estado: Coordinado<extra></extra>",
          "<b>R33-R45</b><br>Índice Plot: 45<br>MT: 0.0000 | <b>Δt: 1.1912s</b><br>Tm: 1.4160s | Tb: 2.8072s<br>Línea: L8-21 | Falla: 10<br>Estado: Coordinado<extra></extra>",
          "<b>R72-R21</b><br>Índice Plot: 46<br>MT: 0.0000 | <b>Δt: 0.0158s</b><br>Tm: 1.8478s | Tb: 2.0636s<br>Línea: L12-22 | Falla: 10<br>Estado: Coordinado<extra></extra>",
          "<b>R35-R11</b><br>Índice Plot: 47<br>MT: 0.0000 | <b>Δt: 0.9304s</b><br>Tm: 1.5177s | Tb: 2.6481s<br>Línea: L12-22 | Falla: 90<br>Estado: Coordinado<extra></extra>",
          "<b>R35-R49</b><br>Índice Plot: 48<br>MT: 0.0000 | <b>Δt: 1.4758s</b><br>Tm: 1.5177s | Tb: 3.1935s<br>Línea: L12-22 | Falla: 90<br>Estado: Coordinado<extra></extra>",
          "<b>R60-R61</b><br>Índice Plot: 49<br>MT: 0.0000 | <b>Δt: 0.0016s</b><br>Tm: 1.5096s | Tb: 1.7112s<br>Línea: L23-24 | Falla: 90<br>Estado: Coordinado<extra></extra>",
          "<b>R18-R1</b><br>Índice Plot: 50<br>MT: 0.0000 | <b>Δt: 0.6124s</b><br>Tm: 1.4531s | Tb: 2.2655s<br>Línea: L2-19 | Falla: 10<br>Estado: Coordinado<extra></extra>",
          "<b>R37-R24</b><br>Índice Plot: 51<br>MT: 0.0000 | <b>Δt: 0.0002s</b><br>Tm: 2.6099s | Tb: 2.8101s<br>Línea: L25-29 | Falla: 10<br>Estado: Coordinado<extra></extra>",
          "<b>R74-R28</b><br>Índice Plot: 52<br>MT: 0.0000 | <b>Δt: 1.0917s</b><br>Tm: 1.6779s | Tb: 2.9696s<br>Línea: L25-29 | Falla: 90<br>Estado: Coordinado<extra></extra>",
          "<b>R74-R66</b><br>Índice Plot: 53<br>MT: 0.0000 | <b>Δt: 0.3042s</b><br>Tm: 1.6779s | Tb: 2.1821s<br>Línea: L25-29 | Falla: 90<br>Estado: Coordinado<extra></extra>",
          "<b>R70-R58</b><br>Índice Plot: 54<br>MT: 0.0000 | <b>Δt: 0.0108s</b><br>Tm: 1.8668s | Tb: 2.0776s<br>Línea: L8-21 | Falla: 90<br>Estado: Coordinado<extra></extra>",
          "<b>R63-R64</b><br>Índice Plot: 55<br>MT: 0.0000 | <b>Δt: 0.0113s</b><br>Tm: 2.0625s | Tb: 2.2738s<br>Línea: L26-27 | Falla: 90<br>Estado: Coordinado<extra></extra>",
          "<b>R25-R5</b><br>Índice Plot: 56<br>MT: 0.0000 | <b>Δt: 0.0713s</b><br>Tm: 2.4072s | Tb: 2.6785s<br>Línea: L6-26 | Falla: 10<br>Estado: Coordinado<extra></extra>",
          "<b>R64-R65</b><br>Índice Plot: 57<br>MT: 0.0000 | <b>Δt: 0.0340s</b><br>Tm: 1.9583s | Tb: 2.1923s<br>Línea: L27-28 | Falla: 90<br>Estado: Coordinado<extra></extra>",
          "<b>R69-R36</b><br>Índice Plot: 58<br>MT: 0.0000 | <b>Δt: 0.0333s</b><br>Tm: 2.3775s | Tb: 2.6108s<br>Línea: L32-33 | Falla: 90<br>Estado: Coordinado<extra></extra>",
          "<b>R3-R2</b><br>Índice Plot: 59<br>MT: 0.0000 | <b>Δt: 0.0647s</b><br>Tm: 2.1218s | Tb: 2.3865s<br>Línea: L3-4 | Falla: 10<br>Estado: Coordinado<extra></extra>",
          "<b>R65-R37</b><br>Índice Plot: 60<br>MT: 0.0000 | <b>Δt: 0.7113s</b><br>Tm: 1.9594s | Tb: 2.8707s<br>Línea: L28-29 | Falla: 90<br>Estado: Coordinado<extra></extra>",
          "<b>R65-R66</b><br>Índice Plot: 61<br>MT: 0.0000 | <b>Δt: 0.0450s</b><br>Tm: 1.9594s | Tb: 2.2044s<br>Línea: L28-29 | Falla: 90<br>Estado: Coordinado<extra></extra>",
          "<b>R29-R28</b><br>Índice Plot: 62<br>MT: 0.0000 | <b>Δt: 0.1530s</b><br>Tm: 2.6166s | Tb: 2.9696s<br>Línea: L29-30 | Falla: 10<br>Estado: Coordinado<extra></extra>",
          "<b>R29-R37</b><br>Índice Plot: 63<br>MT: 0.0000 | <b>Δt: 0.0344s</b><br>Tm: 2.6166s | Tb: 2.8510s<br>Línea: L29-30 | Falla: 10<br>Estado: Coordinado<extra></extra>",
          "<b>R66-R67</b><br>Índice Plot: 64<br>MT: 0.0000 | <b>Δt: 0.0448s</b><br>Tm: 2.0653s | Tb: 2.3101s<br>Línea: L29-30 | Falla: 90<br>Estado: Coordinado<extra></extra>",
          "<b>R22-R2</b><br>Índice Plot: 65<br>MT: 0.0000 | <b>Δt: 0.2618s</b><br>Tm: 1.9394s | Tb: 2.4012s<br>Línea: L3-23 | Falla: 10<br>Estado: Coordinado<extra></extra>",
          "<b>R42-R62</b><br>Índice Plot: 66<br>MT: 0.0000 | <b>Δt: 0.0438s</b><br>Tm: 1.8509s | Tb: 2.0947s<br>Línea: L5-6 | Falla: 90<br>Estado: Coordinado<extra></extra>",
          "<b>R22-R40</b><br>Índice Plot: 67<br>MT: 0.0000 | <b>Δt: 0.0459s</b><br>Tm: 1.9394s | Tb: 2.1853s<br>Línea: L3-23 | Falla: 10<br>Estado: Coordinado<extra></extra>",
          "<b>R38-R39</b><br>Índice Plot: 68<br>MT: 0.0000 | <b>Δt: 1.2379s</b><br>Tm: 0.1989s | Tb: 1.6368s<br>Línea: L1-2 | Falla: 90<br>Estado: Coordinado<extra></extra>",
          "<b>R67-R68</b><br>Índice Plot: 69<br>MT: 0.0000 | <b>Δt: 0.0144s</b><br>Tm: 2.1176s | Tb: 2.3320s<br>Línea: L30-31 | Falla: 90<br>Estado: Coordinado<extra></extra>",
          "<b>R32-R31</b><br>Índice Plot: 70<br>MT: 0.0000 | <b>Δt: 0.1070s</b><br>Tm: 2.5315s | Tb: 2.8385s<br>Línea: L32-33 | Falla: 10<br>Estado: Coordinado<extra></extra>",
          "<b>R3-R59</b><br>Índice Plot: 71<br>MT: 0.0000 | <b>Δt: 0.2420s</b><br>Tm: 2.1218s | Tb: 2.5638s<br>Línea: L3-4 | Falla: 10<br>Estado: Coordinado<extra></extra>",
          "<b>R40-R41</b><br>Índice Plot: 72<br>MT: 0.0000 | <b>Δt: 0.0188s</b><br>Tm: 1.8337s | Tb: 2.0525s<br>Línea: L3-4 | Falla: 90<br>Estado: Coordinado<extra></extra>",
          "<b>R30-R29</b><br>Índice Plot: 73<br>MT: 0.0000 | <b>Δt: 0.2114s</b><br>Tm: 2.4651s | Tb: 2.8765s<br>Línea: L30-31 | Falla: 10<br>Estado: Coordinado<extra></extra>",
          "<b>R68-R69</b><br>Índice Plot: 74<br>MT: 0.0000 | <b>Δt: 0.0087s</b><br>Tm: 2.2508s | Tb: 2.4595s<br>Línea: L31-32 | Falla: 90<br>Estado: Coordinado<extra></extra>",
          "<b>R31-R30</b><br>Índice Plot: 75<br>MT: 0.0000 | <b>Δt: 0.0102s</b><br>Tm: 2.6913s | Tb: 2.9015s<br>Línea: L31-32 | Falla: 10<br>Estado: Coordinado<extra></extra>",
          "<b>R59-R60</b><br>Índice Plot: 76<br>MT: 0.0000 | <b>Δt: 0.0372s</b><br>Tm: 1.6106s | Tb: 1.8478s<br>Línea: L3-23 | Falla: 90<br>Estado: Coordinado<extra></extra>",
          "<b>R41-R42</b><br>Índice Plot: 77<br>MT: 0.0000 | <b>Δt: 0.0023s</b><br>Tm: 1.8954s | Tb: 2.0977s<br>Línea: L4-5 | Falla: 90<br>Estado: Coordinado<extra></extra>",
          "<b>R34-R46</b><br>Índice Plot: 78<br>MT: 0.0000 | <b>Δt: 0.7241s</b><br>Tm: 1.8600s | Tb: 2.7841s<br>Línea: L9-15 | Falla: 10<br>Estado: Coordinado<extra></extra>",
          "<b>R34-R8</b><br>Índice Plot: 79<br>MT: 0.0000 | <b>Δt: 0.0272s</b><br>Tm: 1.8600s | Tb: 2.0872s<br>Línea: L9-15 | Falla: 10<br>Estado: Coordinado<extra></extra>",
          "<b>R7-R6</b><br>Índice Plot: 80<br>MT: 0.0000 | <b>Δt: 0.0238s</b><br>Tm: 1.7384s | Tb: 1.9622s<br>Línea: L7-8 | Falla: 10<br>Estado: Coordinado<extra></extra>",
          "<b>R5-R4</b><br>Índice Plot: 81<br>MT: 0.0000 | <b>Δt: 0.0290s</b><br>Tm: 2.2100s | Tb: 2.4390s<br>Línea: L5-6 | Falla: 10<br>Estado: Coordinado<extra></extra>",
          "<b>R42-R43</b><br>Índice Plot: 82<br>MT: 0.0000 | <b>Δt: 0.6125s</b><br>Tm: 1.8509s | Tb: 2.6634s<br>Línea: L5-6 | Falla: 90<br>Estado: Coordinado<extra></extra>",
          "<b>R28-R27</b><br>Índice Plot: 83<br>MT: 0.0000 | <b>Δt: 0.0006s</b><br>Tm: 2.5829s | Tb: 2.7835s<br>Línea: L28-29 | Falla: 10<br>Estado: Coordinado<extra></extra>",
          "<b>R27-R26</b><br>Índice Plot: 84<br>MT: 0.0000 | <b>Δt: 0.0268s</b><br>Tm: 2.2492s | Tb: 2.4760s<br>Línea: L27-28 | Falla: 10<br>Estado: Coordinado<extra></extra>",
          "<b>R25-R43</b><br>Índice Plot: 85<br>MT: 0.0000 | <b>Δt: 0.0241s</b><br>Tm: 2.4072s | Tb: 2.6313s<br>Línea: L6-26 | Falla: 10<br>Estado: Coordinado<extra></extra>",
          "<b>R62-R63</b><br>Índice Plot: 86<br>MT: 0.0000 | <b>Δt: 0.0180s</b><br>Tm: 1.9479s | Tb: 2.1659s<br>Línea: L6-26 | Falla: 90<br>Estado: Coordinado<extra></extra>",
          "<b>R6-R5</b><br>Índice Plot: 87<br>MT: 0.0000 | <b>Δt: 0.6638s</b><br>Tm: 1.8263s | Tb: 2.6901s<br>Línea: L6-7 | Falla: 10<br>Estado: Coordinado<extra></extra>",
          "<b>R6-R62</b><br>Índice Plot: 88<br>MT: 0.0000 | <b>Δt: 0.0404s</b><br>Tm: 1.8263s | Tb: 2.0667s<br>Línea: L6-7 | Falla: 10<br>Estado: Coordinado<extra></extra>",
          "<b>R43-R44</b><br>Índice Plot: 89<br>MT: 0.0000 | <b>Δt: 0.0146s</b><br>Tm: 2.4393s | Tb: 2.6539s<br>Línea: L6-7 | Falla: 90<br>Estado: Coordinado<extra></extra>",
          "<b>R44-R45</b><br>Índice Plot: 90<br>MT: 0.0000 | <b>Δt: 0.0473s</b><br>Tm: 2.4149s | Tb: 2.6622s<br>Línea: L7-8 | Falla: 90<br>Estado: Coordinado<extra></extra>",
          "<b>R4-R3</b><br>Índice Plot: 91<br>MT: 0.0000 | <b>Δt: 0.0349s</b><br>Tm: 2.1654s | Tb: 2.4003s<br>Línea: L4-5 | Falla: 10<br>Estado: Coordinado<extra></extra>",
          "<b>R8-R7</b><br>Índice Plot: 92<br>MT: 0.0000 | <b>Δt: 0.0266s</b><br>Tm: 1.6771s | Tb: 1.9037s<br>Línea: L8-9 | Falla: 10<br>Estado: Coordinado<extra></extra>",
          "<b>R8-R70</b><br>Índice Plot: 93<br>MT: 0.0000 | <b>Δt: 0.7190s</b><br>Tm: 1.6771s | Tb: 2.5961s<br>Línea: L8-9 | Falla: 10<br>Estado: Coordinado<extra></extra>",
          "<b>R45-R46</b><br>Índice Plot: 94<br>MT: 0.0000 | <b>Δt: 0.0265s</b><br>Tm: 2.2619s | Tb: 2.4884s<br>Línea: L8-9 | Falla: 90<br>Estado: Coordinado<extra></extra>",
          "<b>R45-R71</b><br>Índice Plot: 95<br>MT: 0.0000 | <b>Δt: 0.0421s</b><br>Tm: 2.2619s | Tb: 2.5040s<br>Línea: L8-9 | Falla: 90<br>Estado: Coordinado<extra></extra>",
          "<b>R9-R8</b><br>Índice Plot: 96<br>MT: 0.0000 | <b>Δt: 0.0164s</b><br>Tm: 1.8166s | Tb: 2.0330s<br>Línea: L9-10 | Falla: 10<br>Estado: Coordinado<extra></extra>",
          "<b>R9-R71</b><br>Índice Plot: 97<br>MT: 0.0000 | <b>Δt: 0.6633s</b><br>Tm: 1.8166s | Tb: 2.6799s<br>Línea: L9-10 | Falla: 10<br>Estado: Coordinado<extra></extra>",
          "<b>R46-R47</b><br>Índice Plot: 98<br>MT: 0.0000 | <b>Δt: 0.0004s</b><br>Tm: 1.8203s | Tb: 2.0207s<br>Línea: L9-10 | Falla: 90<br>Estado: Coordinado<extra></extra>",
          "<b>R61-R74</b><br>Índice Plot: 99<br>MT: 0.0000 | <b>Δt: 0.0557s</b><br>Tm: 1.5339s | Tb: 1.7896s<br>Línea: L24-25 | Falla: 90<br>Estado: Coordinado<extra></extra>",
          "<b>R71-R52</b><br>Índice Plot: 100<br>MT: 0.0000 | <b>Δt: 0.6808s</b><br>Tm: 1.3400s | Tb: 2.2208s<br>Línea: L9-15 | Falla: 90<br>Estado: Coordinado<extra></extra>"
         ],
         "type": "bar",
         "x": [
          1,
          2,
          3,
          4,
          5,
          6,
          7,
          8,
          9,
          10,
          11,
          12,
          13,
          14,
          15,
          16,
          17,
          18,
          19,
          20,
          21,
          22,
          23,
          24,
          25,
          26,
          27,
          28,
          29,
          30,
          31,
          32,
          33,
          34,
          35,
          36,
          37,
          38,
          39,
          40,
          41,
          42,
          43,
          44,
          45,
          46,
          47,
          48,
          49,
          50,
          51,
          52,
          53,
          54,
          55,
          56,
          57,
          58,
          59,
          60,
          61,
          62,
          63,
          64,
          65,
          66,
          67,
          68,
          69,
          70,
          71,
          72,
          73,
          74,
          75,
          76,
          77,
          78,
          79,
          80,
          81,
          82,
          83,
          84,
          85,
          86,
          87,
          88,
          89,
          90,
          91,
          92,
          93,
          94,
          95,
          96,
          97,
          98,
          99,
          100
         ],
         "y": [
          -0.13900000000000007,
          -0.12010000000000015,
          -0.10689999999999983,
          -0.09670000000000006,
          -0.07500000000000001,
          -0.06519999999999976,
          -0.06439999999999985,
          -0.02549999999999991,
          -0.015600000000000336,
          -0.011599999999999888,
          -0.00929999999999992,
          -0.007199999999999929,
          -0.002799999999999969,
          0,
          0,
          0,
          0,
          0,
          0,
          0,
          0,
          0,
          0,
          0,
          0,
          0,
          0,
          0,
          0,
          0,
          0,
          0,
          0,
          0,
          0,
          0,
          0,
          0,
          0,
          0,
          0,
          0,
          0,
          0,
          0,
          0,
          0,
          0,
          0,
          0,
          0,
          0,
          0,
          0,
          0,
          0,
          0,
          0,
          0,
          0,
          0,
          0,
          0,
          0,
          0,
          0,
          0,
          0,
          0,
          0,
          0,
          0,
          0,
          0,
          0,
          0,
          0,
          0,
          0,
          0,
          0,
          0,
          0,
          0,
          0,
          0,
          0,
          0,
          0,
          0,
          0,
          0,
          0,
          0,
          0,
          0,
          0,
          0,
          0,
          0
         ]
        }
       ],
       "layout": {
        "bargap": 0.1,
        "height": 900,
        "margin": {
         "b": 100,
         "l": 60,
         "r": 30,
         "t": 100
        },
        "shapes": [
         {
          "line": {
           "color": "black",
           "dash": "dash",
           "width": 1.5
          },
          "type": "line",
          "x0": 0,
          "x1": 1,
          "xref": "x domain",
          "y0": 0,
          "y1": 0,
          "yref": "y"
         }
        ],
        "template": {
         "data": {
          "bar": [
           {
            "error_x": {
             "color": "#2a3f5f"
            },
            "error_y": {
             "color": "#2a3f5f"
            },
            "marker": {
             "line": {
              "color": "white",
              "width": 0.5
             },
             "pattern": {
              "fillmode": "overlay",
              "size": 10,
              "solidity": 0.2
             }
            },
            "type": "bar"
           }
          ],
          "barpolar": [
           {
            "marker": {
             "line": {
              "color": "white",
              "width": 0.5
             },
             "pattern": {
              "fillmode": "overlay",
              "size": 10,
              "solidity": 0.2
             }
            },
            "type": "barpolar"
           }
          ],
          "carpet": [
           {
            "aaxis": {
             "endlinecolor": "#2a3f5f",
             "gridcolor": "#C8D4E3",
             "linecolor": "#C8D4E3",
             "minorgridcolor": "#C8D4E3",
             "startlinecolor": "#2a3f5f"
            },
            "baxis": {
             "endlinecolor": "#2a3f5f",
             "gridcolor": "#C8D4E3",
             "linecolor": "#C8D4E3",
             "minorgridcolor": "#C8D4E3",
             "startlinecolor": "#2a3f5f"
            },
            "type": "carpet"
           }
          ],
          "choropleth": [
           {
            "colorbar": {
             "outlinewidth": 0,
             "ticks": ""
            },
            "type": "choropleth"
           }
          ],
          "contour": [
           {
            "colorbar": {
             "outlinewidth": 0,
             "ticks": ""
            },
            "colorscale": [
             [
              0,
              "#0d0887"
             ],
             [
              0.1111111111111111,
              "#46039f"
             ],
             [
              0.2222222222222222,
              "#7201a8"
             ],
             [
              0.3333333333333333,
              "#9c179e"
             ],
             [
              0.4444444444444444,
              "#bd3786"
             ],
             [
              0.5555555555555556,
              "#d8576b"
             ],
             [
              0.6666666666666666,
              "#ed7953"
             ],
             [
              0.7777777777777778,
              "#fb9f3a"
             ],
             [
              0.8888888888888888,
              "#fdca26"
             ],
             [
              1,
              "#f0f921"
             ]
            ],
            "type": "contour"
           }
          ],
          "contourcarpet": [
           {
            "colorbar": {
             "outlinewidth": 0,
             "ticks": ""
            },
            "type": "contourcarpet"
           }
          ],
          "heatmap": [
           {
            "colorbar": {
             "outlinewidth": 0,
             "ticks": ""
            },
            "colorscale": [
             [
              0,
              "#0d0887"
             ],
             [
              0.1111111111111111,
              "#46039f"
             ],
             [
              0.2222222222222222,
              "#7201a8"
             ],
             [
              0.3333333333333333,
              "#9c179e"
             ],
             [
              0.4444444444444444,
              "#bd3786"
             ],
             [
              0.5555555555555556,
              "#d8576b"
             ],
             [
              0.6666666666666666,
              "#ed7953"
             ],
             [
              0.7777777777777778,
              "#fb9f3a"
             ],
             [
              0.8888888888888888,
              "#fdca26"
             ],
             [
              1,
              "#f0f921"
             ]
            ],
            "type": "heatmap"
           }
          ],
          "heatmapgl": [
           {
            "colorbar": {
             "outlinewidth": 0,
             "ticks": ""
            },
            "colorscale": [
             [
              0,
              "#0d0887"
             ],
             [
              0.1111111111111111,
              "#46039f"
             ],
             [
              0.2222222222222222,
              "#7201a8"
             ],
             [
              0.3333333333333333,
              "#9c179e"
             ],
             [
              0.4444444444444444,
              "#bd3786"
             ],
             [
              0.5555555555555556,
              "#d8576b"
             ],
             [
              0.6666666666666666,
              "#ed7953"
             ],
             [
              0.7777777777777778,
              "#fb9f3a"
             ],
             [
              0.8888888888888888,
              "#fdca26"
             ],
             [
              1,
              "#f0f921"
             ]
            ],
            "type": "heatmapgl"
           }
          ],
          "histogram": [
           {
            "marker": {
             "pattern": {
              "fillmode": "overlay",
              "size": 10,
              "solidity": 0.2
             }
            },
            "type": "histogram"
           }
          ],
          "histogram2d": [
           {
            "colorbar": {
             "outlinewidth": 0,
             "ticks": ""
            },
            "colorscale": [
             [
              0,
              "#0d0887"
             ],
             [
              0.1111111111111111,
              "#46039f"
             ],
             [
              0.2222222222222222,
              "#7201a8"
             ],
             [
              0.3333333333333333,
              "#9c179e"
             ],
             [
              0.4444444444444444,
              "#bd3786"
             ],
             [
              0.5555555555555556,
              "#d8576b"
             ],
             [
              0.6666666666666666,
              "#ed7953"
             ],
             [
              0.7777777777777778,
              "#fb9f3a"
             ],
             [
              0.8888888888888888,
              "#fdca26"
             ],
             [
              1,
              "#f0f921"
             ]
            ],
            "type": "histogram2d"
           }
          ],
          "histogram2dcontour": [
           {
            "colorbar": {
             "outlinewidth": 0,
             "ticks": ""
            },
            "colorscale": [
             [
              0,
              "#0d0887"
             ],
             [
              0.1111111111111111,
              "#46039f"
             ],
             [
              0.2222222222222222,
              "#7201a8"
             ],
             [
              0.3333333333333333,
              "#9c179e"
             ],
             [
              0.4444444444444444,
              "#bd3786"
             ],
             [
              0.5555555555555556,
              "#d8576b"
             ],
             [
              0.6666666666666666,
              "#ed7953"
             ],
             [
              0.7777777777777778,
              "#fb9f3a"
             ],
             [
              0.8888888888888888,
              "#fdca26"
             ],
             [
              1,
              "#f0f921"
             ]
            ],
            "type": "histogram2dcontour"
           }
          ],
          "mesh3d": [
           {
            "colorbar": {
             "outlinewidth": 0,
             "ticks": ""
            },
            "type": "mesh3d"
           }
          ],
          "parcoords": [
           {
            "line": {
             "colorbar": {
              "outlinewidth": 0,
              "ticks": ""
             }
            },
            "type": "parcoords"
           }
          ],
          "pie": [
           {
            "automargin": true,
            "type": "pie"
           }
          ],
          "scatter": [
           {
            "fillpattern": {
             "fillmode": "overlay",
             "size": 10,
             "solidity": 0.2
            },
            "type": "scatter"
           }
          ],
          "scatter3d": [
           {
            "line": {
             "colorbar": {
              "outlinewidth": 0,
              "ticks": ""
             }
            },
            "marker": {
             "colorbar": {
              "outlinewidth": 0,
              "ticks": ""
             }
            },
            "type": "scatter3d"
           }
          ],
          "scattercarpet": [
           {
            "marker": {
             "colorbar": {
              "outlinewidth": 0,
              "ticks": ""
             }
            },
            "type": "scattercarpet"
           }
          ],
          "scattergeo": [
           {
            "marker": {
             "colorbar": {
              "outlinewidth": 0,
              "ticks": ""
             }
            },
            "type": "scattergeo"
           }
          ],
          "scattergl": [
           {
            "marker": {
             "colorbar": {
              "outlinewidth": 0,
              "ticks": ""
             }
            },
            "type": "scattergl"
           }
          ],
          "scattermapbox": [
           {
            "marker": {
             "colorbar": {
              "outlinewidth": 0,
              "ticks": ""
             }
            },
            "type": "scattermapbox"
           }
          ],
          "scatterpolar": [
           {
            "marker": {
             "colorbar": {
              "outlinewidth": 0,
              "ticks": ""
             }
            },
            "type": "scatterpolar"
           }
          ],
          "scatterpolargl": [
           {
            "marker": {
             "colorbar": {
              "outlinewidth": 0,
              "ticks": ""
             }
            },
            "type": "scatterpolargl"
           }
          ],
          "scatterternary": [
           {
            "marker": {
             "colorbar": {
              "outlinewidth": 0,
              "ticks": ""
             }
            },
            "type": "scatterternary"
           }
          ],
          "surface": [
           {
            "colorbar": {
             "outlinewidth": 0,
             "ticks": ""
            },
            "colorscale": [
             [
              0,
              "#0d0887"
             ],
             [
              0.1111111111111111,
              "#46039f"
             ],
             [
              0.2222222222222222,
              "#7201a8"
             ],
             [
              0.3333333333333333,
              "#9c179e"
             ],
             [
              0.4444444444444444,
              "#bd3786"
             ],
             [
              0.5555555555555556,
              "#d8576b"
             ],
             [
              0.6666666666666666,
              "#ed7953"
             ],
             [
              0.7777777777777778,
              "#fb9f3a"
             ],
             [
              0.8888888888888888,
              "#fdca26"
             ],
             [
              1,
              "#f0f921"
             ]
            ],
            "type": "surface"
           }
          ],
          "table": [
           {
            "cells": {
             "fill": {
              "color": "#EBF0F8"
             },
             "line": {
              "color": "white"
             }
            },
            "header": {
             "fill": {
              "color": "#C8D4E3"
             },
             "line": {
              "color": "white"
             }
            },
            "type": "table"
           }
          ]
         },
         "layout": {
          "annotationdefaults": {
           "arrowcolor": "#2a3f5f",
           "arrowhead": 0,
           "arrowwidth": 1
          },
          "autotypenumbers": "strict",
          "coloraxis": {
           "colorbar": {
            "outlinewidth": 0,
            "ticks": ""
           }
          },
          "colorscale": {
           "diverging": [
            [
             0,
             "#8e0152"
            ],
            [
             0.1,
             "#c51b7d"
            ],
            [
             0.2,
             "#de77ae"
            ],
            [
             0.3,
             "#f1b6da"
            ],
            [
             0.4,
             "#fde0ef"
            ],
            [
             0.5,
             "#f7f7f7"
            ],
            [
             0.6,
             "#e6f5d0"
            ],
            [
             0.7,
             "#b8e186"
            ],
            [
             0.8,
             "#7fbc41"
            ],
            [
             0.9,
             "#4d9221"
            ],
            [
             1,
             "#276419"
            ]
           ],
           "sequential": [
            [
             0,
             "#0d0887"
            ],
            [
             0.1111111111111111,
             "#46039f"
            ],
            [
             0.2222222222222222,
             "#7201a8"
            ],
            [
             0.3333333333333333,
             "#9c179e"
            ],
            [
             0.4444444444444444,
             "#bd3786"
            ],
            [
             0.5555555555555556,
             "#d8576b"
            ],
            [
             0.6666666666666666,
             "#ed7953"
            ],
            [
             0.7777777777777778,
             "#fb9f3a"
            ],
            [
             0.8888888888888888,
             "#fdca26"
            ],
            [
             1,
             "#f0f921"
            ]
           ],
           "sequentialminus": [
            [
             0,
             "#0d0887"
            ],
            [
             0.1111111111111111,
             "#46039f"
            ],
            [
             0.2222222222222222,
             "#7201a8"
            ],
            [
             0.3333333333333333,
             "#9c179e"
            ],
            [
             0.4444444444444444,
             "#bd3786"
            ],
            [
             0.5555555555555556,
             "#d8576b"
            ],
            [
             0.6666666666666666,
             "#ed7953"
            ],
            [
             0.7777777777777778,
             "#fb9f3a"
            ],
            [
             0.8888888888888888,
             "#fdca26"
            ],
            [
             1,
             "#f0f921"
            ]
           ]
          },
          "colorway": [
           "#636efa",
           "#EF553B",
           "#00cc96",
           "#ab63fa",
           "#FFA15A",
           "#19d3f3",
           "#FF6692",
           "#B6E880",
           "#FF97FF",
           "#FECB52"
          ],
          "font": {
           "color": "#2a3f5f"
          },
          "geo": {
           "bgcolor": "white",
           "lakecolor": "white",
           "landcolor": "white",
           "showlakes": true,
           "showland": true,
           "subunitcolor": "#C8D4E3"
          },
          "hoverlabel": {
           "align": "left"
          },
          "hovermode": "closest",
          "mapbox": {
           "style": "light"
          },
          "paper_bgcolor": "white",
          "plot_bgcolor": "white",
          "polar": {
           "angularaxis": {
            "gridcolor": "#EBF0F8",
            "linecolor": "#EBF0F8",
            "ticks": ""
           },
           "bgcolor": "white",
           "radialaxis": {
            "gridcolor": "#EBF0F8",
            "linecolor": "#EBF0F8",
            "ticks": ""
           }
          },
          "scene": {
           "xaxis": {
            "backgroundcolor": "white",
            "gridcolor": "#DFE8F3",
            "gridwidth": 2,
            "linecolor": "#EBF0F8",
            "showbackground": true,
            "ticks": "",
            "zerolinecolor": "#EBF0F8"
           },
           "yaxis": {
            "backgroundcolor": "white",
            "gridcolor": "#DFE8F3",
            "gridwidth": 2,
            "linecolor": "#EBF0F8",
            "showbackground": true,
            "ticks": "",
            "zerolinecolor": "#EBF0F8"
           },
           "zaxis": {
            "backgroundcolor": "white",
            "gridcolor": "#DFE8F3",
            "gridwidth": 2,
            "linecolor": "#EBF0F8",
            "showbackground": true,
            "ticks": "",
            "zerolinecolor": "#EBF0F8"
           }
          },
          "shapedefaults": {
           "line": {
            "color": "#2a3f5f"
           }
          },
          "ternary": {
           "aaxis": {
            "gridcolor": "#DFE8F3",
            "linecolor": "#A2B1C6",
            "ticks": ""
           },
           "baxis": {
            "gridcolor": "#DFE8F3",
            "linecolor": "#A2B1C6",
            "ticks": ""
           },
           "bgcolor": "white",
           "caxis": {
            "gridcolor": "#DFE8F3",
            "linecolor": "#A2B1C6",
            "ticks": ""
           }
          },
          "title": {
           "x": 0.05
          },
          "xaxis": {
           "automargin": true,
           "gridcolor": "#EBF0F8",
           "linecolor": "#EBF0F8",
           "ticks": "",
           "title": {
            "standoff": 15
           },
           "zerolinecolor": "#EBF0F8",
           "zerolinewidth": 2
          },
          "yaxis": {
           "automargin": true,
           "gridcolor": "#EBF0F8",
           "linecolor": "#EBF0F8",
           "ticks": "",
           "title": {
            "standoff": 15
           },
           "zerolinecolor": "#EBF0F8",
           "zerolinewidth": 2
          }
         }
        },
        "title": {
         "text": "Índice de Descoordinación (MT) - Escenario: scenario_1 Optimizado<br><sup>TMT = -0.7393 | Pares = 100</sup>"
        },
        "xaxis": {
         "tickmode": "auto",
         "title": {
          "text": "Índice del Par de Relés (Ordenado por MT Ascendente)"
         }
        },
        "yaxis": {
         "gridcolor": "lightgrey",
         "title": {
          "text": "Índice MT"
         },
         "zerolinecolor": "black",
         "zerolinewidth": 1.5
        }
       }
      }
     },
     "metadata": {},
     "output_type": "display_data"
    },
    {
     "name": "stdout",
     "output_type": "stream",
     "text": [
      "    Displaying delta_bar plot...\n"
     ]
    },
    {
     "data": {
      "application/vnd.plotly.v1+json": {
       "config": {
        "plotlyServerURL": "https://plot.ly"
       },
       "data": [
        {
         "hoverinfo": "text",
         "marker": {
          "color": [
           "red",
           "red",
           "red",
           "red",
           "red",
           "red",
           "red",
           "red",
           "red",
           "red",
           "red",
           "red",
           "red",
           "green",
           "green",
           "green",
           "green",
           "green",
           "green",
           "green",
           "green",
           "green",
           "green",
           "green",
           "green",
           "green",
           "green",
           "green",
           "green",
           "green",
           "green",
           "green",
           "green",
           "green",
           "green",
           "green",
           "green",
           "green",
           "green",
           "green",
           "green",
           "green",
           "green",
           "green",
           "green",
           "green",
           "green",
           "green",
           "green",
           "green",
           "green",
           "green",
           "green",
           "green",
           "green",
           "green",
           "green",
           "green",
           "green",
           "green",
           "green",
           "green",
           "green",
           "green",
           "green",
           "green",
           "green",
           "green",
           "green",
           "green",
           "green",
           "green",
           "green",
           "green",
           "green",
           "green",
           "green",
           "green",
           "green",
           "green",
           "green",
           "green",
           "green",
           "green",
           "green",
           "green",
           "green",
           "green",
           "green",
           "green",
           "green",
           "green",
           "green",
           "green",
           "green",
           "green",
           "green",
           "green",
           "green",
           "green"
          ]
         },
         "name": "Δt (Tb - Tm - CTI)",
         "text": [
          "<b>R19-R18</b><br>Índice Plot: 1<br>MT: -0.1390 | <b>Δt: -0.1390s</b><br>Tm: 1.5523s | Tb: 1.6133s<br>Línea: L19-20 | Falla: 10<br>Estado: Descoordinado<extra></extra>",
          "<b>R11-R10</b><br>Índice Plot: 2<br>MT: -0.1201 | <b>Δt: -0.1201s</b><br>Tm: 1.9870s | Tb: 2.0669s<br>Línea: L11-12 | Falla: 10<br>Estado: Descoordinado<extra></extra>",
          "<b>R12-R11</b><br>Índice Plot: 3<br>MT: -0.1069 | <b>Δt: -0.1069s</b><br>Tm: 2.0294s | Tb: 2.1225s<br>Línea: L12-13 | Falla: 10<br>Estado: Descoordinado<extra></extra>",
          "<b>R10-R9</b><br>Índice Plot: 4<br>MT: -0.0967 | <b>Δt: -0.0967s</b><br>Tm: 2.0165s | Tb: 2.1198s<br>Línea: L10-11 | Falla: 10<br>Estado: Descoordinado<extra></extra>",
          "<b>R23-R22</b><br>Índice Plot: 5<br>MT: -0.0750 | <b>Δt: -0.0750s</b><br>Tm: 2.1218s | Tb: 2.2468s<br>Línea: L23-24 | Falla: 10<br>Estado: Descoordinado<extra></extra>",
          "<b>R44-R70</b><br>Índice Plot: 6<br>MT: -0.0652 | <b>Δt: -0.0652s</b><br>Tm: 2.4149s | Tb: 2.5497s<br>Línea: L7-8 | Falla: 90<br>Estado: Descoordinado<extra></extra>",
          "<b>R13-R12</b><br>Índice Plot: 7<br>MT: -0.0644 | <b>Δt: -0.0644s</b><br>Tm: 2.3337s | Tb: 2.4693s<br>Línea: L13-14 | Falla: 10<br>Estado: Descoordinado<extra></extra>",
          "<b>R17-R16</b><br>Índice Plot: 8<br>MT: -0.0255 | <b>Δt: -0.0255s</b><br>Tm: 2.5522s | Tb: 2.7267s<br>Línea: L17-18 | Falla: 10<br>Estado: Descoordinado<extra></extra>",
          "<b>R20-R19</b><br>Índice Plot: 9<br>MT: -0.0156 | <b>Δt: -0.0156s</b><br>Tm: 1.8801s | Tb: 2.0645s<br>Línea: L20-21 | Falla: 10<br>Estado: Descoordinado<extra></extra>",
          "<b>R70-R20</b><br>Índice Plot: 10<br>MT: -0.0116 | <b>Δt: -0.0116s</b><br>Tm: 1.8668s | Tb: 2.0552s<br>Línea: L8-21 | Falla: 90<br>Estado: Descoordinado<extra></extra>",
          "<b>R15-R34</b><br>Índice Plot: 11<br>MT: -0.0093 | <b>Δt: -0.0093s</b><br>Tm: 2.3380s | Tb: 2.5287s<br>Línea: L15-16 | Falla: 10<br>Estado: Descoordinado<extra></extra>",
          "<b>R15-R14</b><br>Índice Plot: 12<br>MT: -0.0072 | <b>Δt: -0.0072s</b><br>Tm: 2.3380s | Tb: 2.5308s<br>Línea: L15-16 | Falla: 10<br>Estado: Descoordinado<extra></extra>",
          "<b>R24-R23</b><br>Índice Plot: 13<br>MT: -0.0028 | <b>Δt: -0.0028s</b><br>Tm: 2.4064s | Tb: 2.6036s<br>Línea: L24-25 | Falla: 10<br>Estado: Descoordinado<extra></extra>",
          "<b>R51-R52</b><br>Índice Plot: 14<br>MT: 0.0000 | <b>Δt: 0.0667s</b><br>Tm: 1.8980s | Tb: 2.1647s<br>Línea: L14-15 | Falla: 90<br>Estado: Coordinado<extra></extra>",
          "<b>R38-R55</b><br>Índice Plot: 15<br>MT: 0.0000 | <b>Δt: 1.7861s</b><br>Tm: 0.1989s | Tb: 2.1850s<br>Línea: L1-2 | Falla: 90<br>Estado: Coordinado<extra></extra>",
          "<b>R47-R48</b><br>Índice Plot: 16<br>MT: 0.0000 | <b>Δt: 0.0215s</b><br>Tm: 1.9344s | Tb: 2.1559s<br>Línea: L10-11 | Falla: 90<br>Estado: Coordinado<extra></extra>",
          "<b>R48-R49</b><br>Índice Plot: 17<br>MT: 0.0000 | <b>Δt: 0.0219s</b><br>Tm: 2.0627s | Tb: 2.2846s<br>Línea: L11-12 | Falla: 90<br>Estado: Coordinado<extra></extra>",
          "<b>R48-R72</b><br>Índice Plot: 18<br>MT: 0.0000 | <b>Δt: 0.0439s</b><br>Tm: 2.0627s | Tb: 2.3066s<br>Línea: L11-12 | Falla: 90<br>Estado: Coordinado<extra></extra>",
          "<b>R12-R72</b><br>Índice Plot: 19<br>MT: 0.0000 | <b>Δt: 0.1267s</b><br>Tm: 2.0294s | Tb: 2.3561s<br>Línea: L12-13 | Falla: 10<br>Estado: Coordinado<extra></extra>",
          "<b>R49-R50</b><br>Índice Plot: 20<br>MT: 0.0000 | <b>Δt: 0.0335s</b><br>Tm: 1.7994s | Tb: 2.0329s<br>Línea: L12-13 | Falla: 90<br>Estado: Coordinado<extra></extra>",
          "<b>R50-R51</b><br>Índice Plot: 21<br>MT: 0.0000 | <b>Δt: 0.0032s</b><br>Tm: 1.8518s | Tb: 2.0550s<br>Línea: L13-14 | Falla: 90<br>Estado: Coordinado<extra></extra>",
          "<b>R14-R13</b><br>Índice Plot: 22<br>MT: 0.0000 | <b>Δt: 0.0585s</b><br>Tm: 2.3044s | Tb: 2.5629s<br>Línea: L14-15 | Falla: 10<br>Estado: Coordinado<extra></extra>",
          "<b>R54-R73</b><br>Índice Plot: 23<br>MT: 0.0000 | <b>Δt: 0.0757s</b><br>Tm: 2.2353s | Tb: 2.5110s<br>Línea: L17-18 | Falla: 90<br>Estado: Coordinado<extra></extra>",
          "<b>R18-R39</b><br>Índice Plot: 24<br>MT: 0.0000 | <b>Δt: 0.0653s</b><br>Tm: 1.4531s | Tb: 1.7184s<br>Línea: L2-19 | Falla: 10<br>Estado: Coordinado<extra></extra>",
          "<b>R52-R53</b><br>Índice Plot: 25<br>MT: 0.0000 | <b>Δt: 0.0894s</b><br>Tm: 2.0266s | Tb: 2.3160s<br>Línea: L15-16 | Falla: 90<br>Estado: Coordinado<extra></extra>",
          "<b>R16-R15</b><br>Índice Plot: 26<br>MT: 0.0000 | <b>Δt: 0.0752s</b><br>Tm: 2.3050s | Tb: 2.5802s<br>Línea: L16-17 | Falla: 10<br>Estado: Coordinado<extra></extra>",
          "<b>R53-R54</b><br>Índice Plot: 27<br>MT: 0.0000 | <b>Δt: 0.1214s</b><br>Tm: 2.0604s | Tb: 2.3818s<br>Línea: L16-17 | Falla: 90<br>Estado: Coordinado<extra></extra>",
          "<b>R55-R56</b><br>Índice Plot: 28<br>MT: 0.0000 | <b>Δt: 0.0660s</b><br>Tm: 1.8282s | Tb: 2.0942s<br>Línea: L2-19 | Falla: 90<br>Estado: Coordinado<extra></extra>",
          "<b>R36-R17</b><br>Índice Plot: 29<br>MT: 0.0000 | <b>Δt: 0.0232s</b><br>Tm: 2.5008s | Tb: 2.7240s<br>Línea: L18-33 | Falla: 10<br>Estado: Coordinado<extra></extra>",
          "<b>R73-R32</b><br>Índice Plot: 30<br>MT: 0.0000 | <b>Δt: 0.0991s</b><br>Tm: 2.3767s | Tb: 2.6758s<br>Línea: L18-33 | Falla: 90<br>Estado: Coordinado<extra></extra>",
          "<b>R56-R57</b><br>Índice Plot: 31<br>MT: 0.0000 | <b>Δt: 0.0045s</b><br>Tm: 1.5655s | Tb: 1.7700s<br>Línea: L19-20 | Falla: 90<br>Estado: Coordinado<extra></extra>",
          "<b>R51-R34</b><br>Índice Plot: 32<br>MT: 0.0000 | <b>Δt: 0.4307s</b><br>Tm: 1.8980s | Tb: 2.5287s<br>Línea: L14-15 | Falla: 90<br>Estado: Coordinado<extra></extra>",
          "<b>R2-R1</b><br>Índice Plot: 33<br>MT: 0.0000 | <b>Δt: 0.0944s</b><br>Tm: 1.9891s | Tb: 2.2835s<br>Línea: L2-3 | Falla: 10<br>Estado: Coordinado<extra></extra>",
          "<b>R71-R14</b><br>Índice Plot: 34<br>MT: 0.0000 | <b>Δt: 1.0817s</b><br>Tm: 1.3400s | Tb: 2.6217s<br>Línea: L9-15 | Falla: 90<br>Estado: Coordinado<extra></extra>",
          "<b>R26-R25</b><br>Índice Plot: 35<br>MT: 0.0000 | <b>Δt: 0.0492s</b><br>Tm: 2.2805s | Tb: 2.5297s<br>Línea: L26-27 | Falla: 10<br>Estado: Coordinado<extra></extra>",
          "<b>R39-R40</b><br>Índice Plot: 36<br>MT: 0.0000 | <b>Δt: 0.7327s</b><br>Tm: 1.1999s | Tb: 2.1326s<br>Línea: L2-3 | Falla: 90<br>Estado: Coordinado<extra></extra>",
          "<b>R39-R59</b><br>Índice Plot: 37<br>MT: 0.0000 | <b>Δt: 0.9717s</b><br>Tm: 1.1999s | Tb: 2.3716s<br>Línea: L2-3 | Falla: 90<br>Estado: Coordinado<extra></extra>",
          "<b>R57-R58</b><br>Índice Plot: 38<br>MT: 0.0000 | <b>Δt: 0.0650s</b><br>Tm: 1.6605s | Tb: 1.9255s<br>Línea: L20-21 | Falla: 90<br>Estado: Coordinado<extra></extra>",
          "<b>R57-R33</b><br>Índice Plot: 39<br>MT: 0.0000 | <b>Δt: 0.0189s</b><br>Tm: 1.6605s | Tb: 1.8794s<br>Línea: L20-21 | Falla: 90<br>Estado: Coordinado<extra></extra>",
          "<b>R21-R20</b><br>Índice Plot: 40<br>MT: 0.0000 | <b>Δt: 0.3241s</b><br>Tm: 1.4986s | Tb: 2.0227s<br>Línea: L21-22 | Falla: 10<br>Estado: Coordinado<extra></extra>",
          "<b>R21-R33</b><br>Índice Plot: 41<br>MT: 0.0000 | <b>Δt: 0.2140s</b><br>Tm: 1.4986s | Tb: 1.9126s<br>Línea: L21-22 | Falla: 10<br>Estado: Coordinado<extra></extra>",
          "<b>R58-R35</b><br>Índice Plot: 42<br>MT: 0.0000 | <b>Δt: 0.0136s</b><br>Tm: 1.6871s | Tb: 1.9007s<br>Línea: L21-22 | Falla: 90<br>Estado: Coordinado<extra></extra>",
          "<b>R33-R7</b><br>Índice Plot: 43<br>MT: 0.0000 | <b>Δt: 0.3356s</b><br>Tm: 1.4160s | Tb: 1.9516s<br>Línea: L8-21 | Falla: 10<br>Estado: Coordinado<extra></extra>",
          "<b>R2-R55</b><br>Índice Plot: 44<br>MT: 0.0000 | <b>Δt: 0.2697s</b><br>Tm: 1.9891s | Tb: 2.4588s<br>Línea: L2-3 | Falla: 10<br>Estado: Coordinado<extra></extra>",
          "<b>R33-R45</b><br>Índice Plot: 45<br>MT: 0.0000 | <b>Δt: 1.1912s</b><br>Tm: 1.4160s | Tb: 2.8072s<br>Línea: L8-21 | Falla: 10<br>Estado: Coordinado<extra></extra>",
          "<b>R72-R21</b><br>Índice Plot: 46<br>MT: 0.0000 | <b>Δt: 0.0158s</b><br>Tm: 1.8478s | Tb: 2.0636s<br>Línea: L12-22 | Falla: 10<br>Estado: Coordinado<extra></extra>",
          "<b>R35-R11</b><br>Índice Plot: 47<br>MT: 0.0000 | <b>Δt: 0.9304s</b><br>Tm: 1.5177s | Tb: 2.6481s<br>Línea: L12-22 | Falla: 90<br>Estado: Coordinado<extra></extra>",
          "<b>R35-R49</b><br>Índice Plot: 48<br>MT: 0.0000 | <b>Δt: 1.4758s</b><br>Tm: 1.5177s | Tb: 3.1935s<br>Línea: L12-22 | Falla: 90<br>Estado: Coordinado<extra></extra>",
          "<b>R60-R61</b><br>Índice Plot: 49<br>MT: 0.0000 | <b>Δt: 0.0016s</b><br>Tm: 1.5096s | Tb: 1.7112s<br>Línea: L23-24 | Falla: 90<br>Estado: Coordinado<extra></extra>",
          "<b>R18-R1</b><br>Índice Plot: 50<br>MT: 0.0000 | <b>Δt: 0.6124s</b><br>Tm: 1.4531s | Tb: 2.2655s<br>Línea: L2-19 | Falla: 10<br>Estado: Coordinado<extra></extra>",
          "<b>R37-R24</b><br>Índice Plot: 51<br>MT: 0.0000 | <b>Δt: 0.0002s</b><br>Tm: 2.6099s | Tb: 2.8101s<br>Línea: L25-29 | Falla: 10<br>Estado: Coordinado<extra></extra>",
          "<b>R74-R28</b><br>Índice Plot: 52<br>MT: 0.0000 | <b>Δt: 1.0917s</b><br>Tm: 1.6779s | Tb: 2.9696s<br>Línea: L25-29 | Falla: 90<br>Estado: Coordinado<extra></extra>",
          "<b>R74-R66</b><br>Índice Plot: 53<br>MT: 0.0000 | <b>Δt: 0.3042s</b><br>Tm: 1.6779s | Tb: 2.1821s<br>Línea: L25-29 | Falla: 90<br>Estado: Coordinado<extra></extra>",
          "<b>R70-R58</b><br>Índice Plot: 54<br>MT: 0.0000 | <b>Δt: 0.0108s</b><br>Tm: 1.8668s | Tb: 2.0776s<br>Línea: L8-21 | Falla: 90<br>Estado: Coordinado<extra></extra>",
          "<b>R63-R64</b><br>Índice Plot: 55<br>MT: 0.0000 | <b>Δt: 0.0113s</b><br>Tm: 2.0625s | Tb: 2.2738s<br>Línea: L26-27 | Falla: 90<br>Estado: Coordinado<extra></extra>",
          "<b>R25-R5</b><br>Índice Plot: 56<br>MT: 0.0000 | <b>Δt: 0.0713s</b><br>Tm: 2.4072s | Tb: 2.6785s<br>Línea: L6-26 | Falla: 10<br>Estado: Coordinado<extra></extra>",
          "<b>R64-R65</b><br>Índice Plot: 57<br>MT: 0.0000 | <b>Δt: 0.0340s</b><br>Tm: 1.9583s | Tb: 2.1923s<br>Línea: L27-28 | Falla: 90<br>Estado: Coordinado<extra></extra>",
          "<b>R69-R36</b><br>Índice Plot: 58<br>MT: 0.0000 | <b>Δt: 0.0333s</b><br>Tm: 2.3775s | Tb: 2.6108s<br>Línea: L32-33 | Falla: 90<br>Estado: Coordinado<extra></extra>",
          "<b>R3-R2</b><br>Índice Plot: 59<br>MT: 0.0000 | <b>Δt: 0.0647s</b><br>Tm: 2.1218s | Tb: 2.3865s<br>Línea: L3-4 | Falla: 10<br>Estado: Coordinado<extra></extra>",
          "<b>R65-R37</b><br>Índice Plot: 60<br>MT: 0.0000 | <b>Δt: 0.7113s</b><br>Tm: 1.9594s | Tb: 2.8707s<br>Línea: L28-29 | Falla: 90<br>Estado: Coordinado<extra></extra>",
          "<b>R65-R66</b><br>Índice Plot: 61<br>MT: 0.0000 | <b>Δt: 0.0450s</b><br>Tm: 1.9594s | Tb: 2.2044s<br>Línea: L28-29 | Falla: 90<br>Estado: Coordinado<extra></extra>",
          "<b>R29-R28</b><br>Índice Plot: 62<br>MT: 0.0000 | <b>Δt: 0.1530s</b><br>Tm: 2.6166s | Tb: 2.9696s<br>Línea: L29-30 | Falla: 10<br>Estado: Coordinado<extra></extra>",
          "<b>R29-R37</b><br>Índice Plot: 63<br>MT: 0.0000 | <b>Δt: 0.0344s</b><br>Tm: 2.6166s | Tb: 2.8510s<br>Línea: L29-30 | Falla: 10<br>Estado: Coordinado<extra></extra>",
          "<b>R66-R67</b><br>Índice Plot: 64<br>MT: 0.0000 | <b>Δt: 0.0448s</b><br>Tm: 2.0653s | Tb: 2.3101s<br>Línea: L29-30 | Falla: 90<br>Estado: Coordinado<extra></extra>",
          "<b>R22-R2</b><br>Índice Plot: 65<br>MT: 0.0000 | <b>Δt: 0.2618s</b><br>Tm: 1.9394s | Tb: 2.4012s<br>Línea: L3-23 | Falla: 10<br>Estado: Coordinado<extra></extra>",
          "<b>R42-R62</b><br>Índice Plot: 66<br>MT: 0.0000 | <b>Δt: 0.0438s</b><br>Tm: 1.8509s | Tb: 2.0947s<br>Línea: L5-6 | Falla: 90<br>Estado: Coordinado<extra></extra>",
          "<b>R22-R40</b><br>Índice Plot: 67<br>MT: 0.0000 | <b>Δt: 0.0459s</b><br>Tm: 1.9394s | Tb: 2.1853s<br>Línea: L3-23 | Falla: 10<br>Estado: Coordinado<extra></extra>",
          "<b>R38-R39</b><br>Índice Plot: 68<br>MT: 0.0000 | <b>Δt: 1.2379s</b><br>Tm: 0.1989s | Tb: 1.6368s<br>Línea: L1-2 | Falla: 90<br>Estado: Coordinado<extra></extra>",
          "<b>R67-R68</b><br>Índice Plot: 69<br>MT: 0.0000 | <b>Δt: 0.0144s</b><br>Tm: 2.1176s | Tb: 2.3320s<br>Línea: L30-31 | Falla: 90<br>Estado: Coordinado<extra></extra>",
          "<b>R32-R31</b><br>Índice Plot: 70<br>MT: 0.0000 | <b>Δt: 0.1070s</b><br>Tm: 2.5315s | Tb: 2.8385s<br>Línea: L32-33 | Falla: 10<br>Estado: Coordinado<extra></extra>",
          "<b>R3-R59</b><br>Índice Plot: 71<br>MT: 0.0000 | <b>Δt: 0.2420s</b><br>Tm: 2.1218s | Tb: 2.5638s<br>Línea: L3-4 | Falla: 10<br>Estado: Coordinado<extra></extra>",
          "<b>R40-R41</b><br>Índice Plot: 72<br>MT: 0.0000 | <b>Δt: 0.0188s</b><br>Tm: 1.8337s | Tb: 2.0525s<br>Línea: L3-4 | Falla: 90<br>Estado: Coordinado<extra></extra>",
          "<b>R30-R29</b><br>Índice Plot: 73<br>MT: 0.0000 | <b>Δt: 0.2114s</b><br>Tm: 2.4651s | Tb: 2.8765s<br>Línea: L30-31 | Falla: 10<br>Estado: Coordinado<extra></extra>",
          "<b>R68-R69</b><br>Índice Plot: 74<br>MT: 0.0000 | <b>Δt: 0.0087s</b><br>Tm: 2.2508s | Tb: 2.4595s<br>Línea: L31-32 | Falla: 90<br>Estado: Coordinado<extra></extra>",
          "<b>R31-R30</b><br>Índice Plot: 75<br>MT: 0.0000 | <b>Δt: 0.0102s</b><br>Tm: 2.6913s | Tb: 2.9015s<br>Línea: L31-32 | Falla: 10<br>Estado: Coordinado<extra></extra>",
          "<b>R59-R60</b><br>Índice Plot: 76<br>MT: 0.0000 | <b>Δt: 0.0372s</b><br>Tm: 1.6106s | Tb: 1.8478s<br>Línea: L3-23 | Falla: 90<br>Estado: Coordinado<extra></extra>",
          "<b>R41-R42</b><br>Índice Plot: 77<br>MT: 0.0000 | <b>Δt: 0.0023s</b><br>Tm: 1.8954s | Tb: 2.0977s<br>Línea: L4-5 | Falla: 90<br>Estado: Coordinado<extra></extra>",
          "<b>R34-R46</b><br>Índice Plot: 78<br>MT: 0.0000 | <b>Δt: 0.7241s</b><br>Tm: 1.8600s | Tb: 2.7841s<br>Línea: L9-15 | Falla: 10<br>Estado: Coordinado<extra></extra>",
          "<b>R34-R8</b><br>Índice Plot: 79<br>MT: 0.0000 | <b>Δt: 0.0272s</b><br>Tm: 1.8600s | Tb: 2.0872s<br>Línea: L9-15 | Falla: 10<br>Estado: Coordinado<extra></extra>",
          "<b>R7-R6</b><br>Índice Plot: 80<br>MT: 0.0000 | <b>Δt: 0.0238s</b><br>Tm: 1.7384s | Tb: 1.9622s<br>Línea: L7-8 | Falla: 10<br>Estado: Coordinado<extra></extra>",
          "<b>R5-R4</b><br>Índice Plot: 81<br>MT: 0.0000 | <b>Δt: 0.0290s</b><br>Tm: 2.2100s | Tb: 2.4390s<br>Línea: L5-6 | Falla: 10<br>Estado: Coordinado<extra></extra>",
          "<b>R42-R43</b><br>Índice Plot: 82<br>MT: 0.0000 | <b>Δt: 0.6125s</b><br>Tm: 1.8509s | Tb: 2.6634s<br>Línea: L5-6 | Falla: 90<br>Estado: Coordinado<extra></extra>",
          "<b>R28-R27</b><br>Índice Plot: 83<br>MT: 0.0000 | <b>Δt: 0.0006s</b><br>Tm: 2.5829s | Tb: 2.7835s<br>Línea: L28-29 | Falla: 10<br>Estado: Coordinado<extra></extra>",
          "<b>R27-R26</b><br>Índice Plot: 84<br>MT: 0.0000 | <b>Δt: 0.0268s</b><br>Tm: 2.2492s | Tb: 2.4760s<br>Línea: L27-28 | Falla: 10<br>Estado: Coordinado<extra></extra>",
          "<b>R25-R43</b><br>Índice Plot: 85<br>MT: 0.0000 | <b>Δt: 0.0241s</b><br>Tm: 2.4072s | Tb: 2.6313s<br>Línea: L6-26 | Falla: 10<br>Estado: Coordinado<extra></extra>",
          "<b>R62-R63</b><br>Índice Plot: 86<br>MT: 0.0000 | <b>Δt: 0.0180s</b><br>Tm: 1.9479s | Tb: 2.1659s<br>Línea: L6-26 | Falla: 90<br>Estado: Coordinado<extra></extra>",
          "<b>R6-R5</b><br>Índice Plot: 87<br>MT: 0.0000 | <b>Δt: 0.6638s</b><br>Tm: 1.8263s | Tb: 2.6901s<br>Línea: L6-7 | Falla: 10<br>Estado: Coordinado<extra></extra>",
          "<b>R6-R62</b><br>Índice Plot: 88<br>MT: 0.0000 | <b>Δt: 0.0404s</b><br>Tm: 1.8263s | Tb: 2.0667s<br>Línea: L6-7 | Falla: 10<br>Estado: Coordinado<extra></extra>",
          "<b>R43-R44</b><br>Índice Plot: 89<br>MT: 0.0000 | <b>Δt: 0.0146s</b><br>Tm: 2.4393s | Tb: 2.6539s<br>Línea: L6-7 | Falla: 90<br>Estado: Coordinado<extra></extra>",
          "<b>R44-R45</b><br>Índice Plot: 90<br>MT: 0.0000 | <b>Δt: 0.0473s</b><br>Tm: 2.4149s | Tb: 2.6622s<br>Línea: L7-8 | Falla: 90<br>Estado: Coordinado<extra></extra>",
          "<b>R4-R3</b><br>Índice Plot: 91<br>MT: 0.0000 | <b>Δt: 0.0349s</b><br>Tm: 2.1654s | Tb: 2.4003s<br>Línea: L4-5 | Falla: 10<br>Estado: Coordinado<extra></extra>",
          "<b>R8-R7</b><br>Índice Plot: 92<br>MT: 0.0000 | <b>Δt: 0.0266s</b><br>Tm: 1.6771s | Tb: 1.9037s<br>Línea: L8-9 | Falla: 10<br>Estado: Coordinado<extra></extra>",
          "<b>R8-R70</b><br>Índice Plot: 93<br>MT: 0.0000 | <b>Δt: 0.7190s</b><br>Tm: 1.6771s | Tb: 2.5961s<br>Línea: L8-9 | Falla: 10<br>Estado: Coordinado<extra></extra>",
          "<b>R45-R46</b><br>Índice Plot: 94<br>MT: 0.0000 | <b>Δt: 0.0265s</b><br>Tm: 2.2619s | Tb: 2.4884s<br>Línea: L8-9 | Falla: 90<br>Estado: Coordinado<extra></extra>",
          "<b>R45-R71</b><br>Índice Plot: 95<br>MT: 0.0000 | <b>Δt: 0.0421s</b><br>Tm: 2.2619s | Tb: 2.5040s<br>Línea: L8-9 | Falla: 90<br>Estado: Coordinado<extra></extra>",
          "<b>R9-R8</b><br>Índice Plot: 96<br>MT: 0.0000 | <b>Δt: 0.0164s</b><br>Tm: 1.8166s | Tb: 2.0330s<br>Línea: L9-10 | Falla: 10<br>Estado: Coordinado<extra></extra>",
          "<b>R9-R71</b><br>Índice Plot: 97<br>MT: 0.0000 | <b>Δt: 0.6633s</b><br>Tm: 1.8166s | Tb: 2.6799s<br>Línea: L9-10 | Falla: 10<br>Estado: Coordinado<extra></extra>",
          "<b>R46-R47</b><br>Índice Plot: 98<br>MT: 0.0000 | <b>Δt: 0.0004s</b><br>Tm: 1.8203s | Tb: 2.0207s<br>Línea: L9-10 | Falla: 90<br>Estado: Coordinado<extra></extra>",
          "<b>R61-R74</b><br>Índice Plot: 99<br>MT: 0.0000 | <b>Δt: 0.0557s</b><br>Tm: 1.5339s | Tb: 1.7896s<br>Línea: L24-25 | Falla: 90<br>Estado: Coordinado<extra></extra>",
          "<b>R71-R52</b><br>Índice Plot: 100<br>MT: 0.0000 | <b>Δt: 0.6808s</b><br>Tm: 1.3400s | Tb: 2.2208s<br>Línea: L9-15 | Falla: 90<br>Estado: Coordinado<extra></extra>"
         ],
         "type": "bar",
         "x": [
          1,
          2,
          3,
          4,
          5,
          6,
          7,
          8,
          9,
          10,
          11,
          12,
          13,
          14,
          15,
          16,
          17,
          18,
          19,
          20,
          21,
          22,
          23,
          24,
          25,
          26,
          27,
          28,
          29,
          30,
          31,
          32,
          33,
          34,
          35,
          36,
          37,
          38,
          39,
          40,
          41,
          42,
          43,
          44,
          45,
          46,
          47,
          48,
          49,
          50,
          51,
          52,
          53,
          54,
          55,
          56,
          57,
          58,
          59,
          60,
          61,
          62,
          63,
          64,
          65,
          66,
          67,
          68,
          69,
          70,
          71,
          72,
          73,
          74,
          75,
          76,
          77,
          78,
          79,
          80,
          81,
          82,
          83,
          84,
          85,
          86,
          87,
          88,
          89,
          90,
          91,
          92,
          93,
          94,
          95,
          96,
          97,
          98,
          99,
          100
         ],
         "y": [
          -0.13900000000000007,
          -0.12010000000000015,
          -0.10689999999999983,
          -0.09670000000000006,
          -0.07500000000000001,
          -0.06519999999999976,
          -0.06439999999999985,
          -0.02549999999999991,
          -0.015600000000000336,
          -0.011599999999999888,
          -0.00929999999999992,
          -0.007199999999999929,
          -0.002799999999999969,
          0.06669999999999993,
          1.7861,
          0.02150000000000002,
          0.021900000000000197,
          0.043899999999999995,
          0.1267000000000002,
          0.03350000000000003,
          0.003200000000000258,
          0.05850000000000016,
          0.07570000000000005,
          0.06529999999999986,
          0.08939999999999965,
          0.07519999999999988,
          0.12140000000000012,
          0.06599999999999978,
          0.023200000000000276,
          0.09910000000000013,
          0.004500000000000115,
          0.43070000000000025,
          0.09439999999999998,
          1.0817,
          0.04920000000000008,
          0.7327000000000001,
          0.9717,
          0.06499999999999989,
          0.01889999999999986,
          0.3241,
          0.21400000000000013,
          0.013600000000000001,
          0.33560000000000006,
          0.2697,
          1.1912,
          0.01579999999999998,
          0.9303999999999999,
          1.4757999999999998,
          0.0015999999999999903,
          0.6123999999999998,
          0.00019999999999970042,
          1.0917,
          0.3042000000000002,
          0.010799999999999865,
          0.011300000000000032,
          0.07130000000000009,
          0.033999999999999975,
          0.03329999999999983,
          0.06469999999999992,
          0.7112999999999998,
          0.045000000000000095,
          0.15299999999999975,
          0.03439999999999993,
          0.04479999999999967,
          0.26179999999999976,
          0.043800000000000006,
          0.045899999999999774,
          1.2379,
          0.014399999999999913,
          0.10699999999999993,
          0.24200000000000016,
          0.018800000000000094,
          0.21139999999999998,
          0.008699999999999875,
          0.010199999999999931,
          0.037200000000000066,
          0.0023000000000001353,
          0.7241,
          0.027200000000000057,
          0.023799999999999988,
          0.02900000000000008,
          0.6125000000000003,
          0.0006000000000001005,
          0.02679999999999988,
          0.024099999999999955,
          0.018000000000000183,
          0.6638000000000002,
          0.040399999999999936,
          0.014600000000000335,
          0.047300000000000064,
          0.0349000000000001,
          0.0265999999999999,
          0.7189999999999999,
          0.026500000000000135,
          0.04210000000000019,
          0.016399999999999915,
          0.6633,
          0.0004000000000001225,
          0.05570000000000003,
          0.6808000000000001
         ]
        }
       ],
       "layout": {
        "annotations": [
         {
          "showarrow": false,
          "text": "Límite CTI (Δt=0)",
          "x": 1,
          "xanchor": "right",
          "xref": "x domain",
          "y": 0,
          "yanchor": "top",
          "yref": "y"
         }
        ],
        "bargap": 0.1,
        "height": 900,
        "margin": {
         "b": 100,
         "l": 60,
         "r": 30,
         "t": 100
        },
        "shapes": [
         {
          "line": {
           "color": "black",
           "dash": "dash",
           "width": 1.5
          },
          "type": "line",
          "x0": 0,
          "x1": 1,
          "xref": "x domain",
          "y0": 0,
          "y1": 0,
          "yref": "y"
         }
        ],
        "template": {
         "data": {
          "bar": [
           {
            "error_x": {
             "color": "#2a3f5f"
            },
            "error_y": {
             "color": "#2a3f5f"
            },
            "marker": {
             "line": {
              "color": "white",
              "width": 0.5
             },
             "pattern": {
              "fillmode": "overlay",
              "size": 10,
              "solidity": 0.2
             }
            },
            "type": "bar"
           }
          ],
          "barpolar": [
           {
            "marker": {
             "line": {
              "color": "white",
              "width": 0.5
             },
             "pattern": {
              "fillmode": "overlay",
              "size": 10,
              "solidity": 0.2
             }
            },
            "type": "barpolar"
           }
          ],
          "carpet": [
           {
            "aaxis": {
             "endlinecolor": "#2a3f5f",
             "gridcolor": "#C8D4E3",
             "linecolor": "#C8D4E3",
             "minorgridcolor": "#C8D4E3",
             "startlinecolor": "#2a3f5f"
            },
            "baxis": {
             "endlinecolor": "#2a3f5f",
             "gridcolor": "#C8D4E3",
             "linecolor": "#C8D4E3",
             "minorgridcolor": "#C8D4E3",
             "startlinecolor": "#2a3f5f"
            },
            "type": "carpet"
           }
          ],
          "choropleth": [
           {
            "colorbar": {
             "outlinewidth": 0,
             "ticks": ""
            },
            "type": "choropleth"
           }
          ],
          "contour": [
           {
            "colorbar": {
             "outlinewidth": 0,
             "ticks": ""
            },
            "colorscale": [
             [
              0,
              "#0d0887"
             ],
             [
              0.1111111111111111,
              "#46039f"
             ],
             [
              0.2222222222222222,
              "#7201a8"
             ],
             [
              0.3333333333333333,
              "#9c179e"
             ],
             [
              0.4444444444444444,
              "#bd3786"
             ],
             [
              0.5555555555555556,
              "#d8576b"
             ],
             [
              0.6666666666666666,
              "#ed7953"
             ],
             [
              0.7777777777777778,
              "#fb9f3a"
             ],
             [
              0.8888888888888888,
              "#fdca26"
             ],
             [
              1,
              "#f0f921"
             ]
            ],
            "type": "contour"
           }
          ],
          "contourcarpet": [
           {
            "colorbar": {
             "outlinewidth": 0,
             "ticks": ""
            },
            "type": "contourcarpet"
           }
          ],
          "heatmap": [
           {
            "colorbar": {
             "outlinewidth": 0,
             "ticks": ""
            },
            "colorscale": [
             [
              0,
              "#0d0887"
             ],
             [
              0.1111111111111111,
              "#46039f"
             ],
             [
              0.2222222222222222,
              "#7201a8"
             ],
             [
              0.3333333333333333,
              "#9c179e"
             ],
             [
              0.4444444444444444,
              "#bd3786"
             ],
             [
              0.5555555555555556,
              "#d8576b"
             ],
             [
              0.6666666666666666,
              "#ed7953"
             ],
             [
              0.7777777777777778,
              "#fb9f3a"
             ],
             [
              0.8888888888888888,
              "#fdca26"
             ],
             [
              1,
              "#f0f921"
             ]
            ],
            "type": "heatmap"
           }
          ],
          "heatmapgl": [
           {
            "colorbar": {
             "outlinewidth": 0,
             "ticks": ""
            },
            "colorscale": [
             [
              0,
              "#0d0887"
             ],
             [
              0.1111111111111111,
              "#46039f"
             ],
             [
              0.2222222222222222,
              "#7201a8"
             ],
             [
              0.3333333333333333,
              "#9c179e"
             ],
             [
              0.4444444444444444,
              "#bd3786"
             ],
             [
              0.5555555555555556,
              "#d8576b"
             ],
             [
              0.6666666666666666,
              "#ed7953"
             ],
             [
              0.7777777777777778,
              "#fb9f3a"
             ],
             [
              0.8888888888888888,
              "#fdca26"
             ],
             [
              1,
              "#f0f921"
             ]
            ],
            "type": "heatmapgl"
           }
          ],
          "histogram": [
           {
            "marker": {
             "pattern": {
              "fillmode": "overlay",
              "size": 10,
              "solidity": 0.2
             }
            },
            "type": "histogram"
           }
          ],
          "histogram2d": [
           {
            "colorbar": {
             "outlinewidth": 0,
             "ticks": ""
            },
            "colorscale": [
             [
              0,
              "#0d0887"
             ],
             [
              0.1111111111111111,
              "#46039f"
             ],
             [
              0.2222222222222222,
              "#7201a8"
             ],
             [
              0.3333333333333333,
              "#9c179e"
             ],
             [
              0.4444444444444444,
              "#bd3786"
             ],
             [
              0.5555555555555556,
              "#d8576b"
             ],
             [
              0.6666666666666666,
              "#ed7953"
             ],
             [
              0.7777777777777778,
              "#fb9f3a"
             ],
             [
              0.8888888888888888,
              "#fdca26"
             ],
             [
              1,
              "#f0f921"
             ]
            ],
            "type": "histogram2d"
           }
          ],
          "histogram2dcontour": [
           {
            "colorbar": {
             "outlinewidth": 0,
             "ticks": ""
            },
            "colorscale": [
             [
              0,
              "#0d0887"
             ],
             [
              0.1111111111111111,
              "#46039f"
             ],
             [
              0.2222222222222222,
              "#7201a8"
             ],
             [
              0.3333333333333333,
              "#9c179e"
             ],
             [
              0.4444444444444444,
              "#bd3786"
             ],
             [
              0.5555555555555556,
              "#d8576b"
             ],
             [
              0.6666666666666666,
              "#ed7953"
             ],
             [
              0.7777777777777778,
              "#fb9f3a"
             ],
             [
              0.8888888888888888,
              "#fdca26"
             ],
             [
              1,
              "#f0f921"
             ]
            ],
            "type": "histogram2dcontour"
           }
          ],
          "mesh3d": [
           {
            "colorbar": {
             "outlinewidth": 0,
             "ticks": ""
            },
            "type": "mesh3d"
           }
          ],
          "parcoords": [
           {
            "line": {
             "colorbar": {
              "outlinewidth": 0,
              "ticks": ""
             }
            },
            "type": "parcoords"
           }
          ],
          "pie": [
           {
            "automargin": true,
            "type": "pie"
           }
          ],
          "scatter": [
           {
            "fillpattern": {
             "fillmode": "overlay",
             "size": 10,
             "solidity": 0.2
            },
            "type": "scatter"
           }
          ],
          "scatter3d": [
           {
            "line": {
             "colorbar": {
              "outlinewidth": 0,
              "ticks": ""
             }
            },
            "marker": {
             "colorbar": {
              "outlinewidth": 0,
              "ticks": ""
             }
            },
            "type": "scatter3d"
           }
          ],
          "scattercarpet": [
           {
            "marker": {
             "colorbar": {
              "outlinewidth": 0,
              "ticks": ""
             }
            },
            "type": "scattercarpet"
           }
          ],
          "scattergeo": [
           {
            "marker": {
             "colorbar": {
              "outlinewidth": 0,
              "ticks": ""
             }
            },
            "type": "scattergeo"
           }
          ],
          "scattergl": [
           {
            "marker": {
             "colorbar": {
              "outlinewidth": 0,
              "ticks": ""
             }
            },
            "type": "scattergl"
           }
          ],
          "scattermapbox": [
           {
            "marker": {
             "colorbar": {
              "outlinewidth": 0,
              "ticks": ""
             }
            },
            "type": "scattermapbox"
           }
          ],
          "scatterpolar": [
           {
            "marker": {
             "colorbar": {
              "outlinewidth": 0,
              "ticks": ""
             }
            },
            "type": "scatterpolar"
           }
          ],
          "scatterpolargl": [
           {
            "marker": {
             "colorbar": {
              "outlinewidth": 0,
              "ticks": ""
             }
            },
            "type": "scatterpolargl"
           }
          ],
          "scatterternary": [
           {
            "marker": {
             "colorbar": {
              "outlinewidth": 0,
              "ticks": ""
             }
            },
            "type": "scatterternary"
           }
          ],
          "surface": [
           {
            "colorbar": {
             "outlinewidth": 0,
             "ticks": ""
            },
            "colorscale": [
             [
              0,
              "#0d0887"
             ],
             [
              0.1111111111111111,
              "#46039f"
             ],
             [
              0.2222222222222222,
              "#7201a8"
             ],
             [
              0.3333333333333333,
              "#9c179e"
             ],
             [
              0.4444444444444444,
              "#bd3786"
             ],
             [
              0.5555555555555556,
              "#d8576b"
             ],
             [
              0.6666666666666666,
              "#ed7953"
             ],
             [
              0.7777777777777778,
              "#fb9f3a"
             ],
             [
              0.8888888888888888,
              "#fdca26"
             ],
             [
              1,
              "#f0f921"
             ]
            ],
            "type": "surface"
           }
          ],
          "table": [
           {
            "cells": {
             "fill": {
              "color": "#EBF0F8"
             },
             "line": {
              "color": "white"
             }
            },
            "header": {
             "fill": {
              "color": "#C8D4E3"
             },
             "line": {
              "color": "white"
             }
            },
            "type": "table"
           }
          ]
         },
         "layout": {
          "annotationdefaults": {
           "arrowcolor": "#2a3f5f",
           "arrowhead": 0,
           "arrowwidth": 1
          },
          "autotypenumbers": "strict",
          "coloraxis": {
           "colorbar": {
            "outlinewidth": 0,
            "ticks": ""
           }
          },
          "colorscale": {
           "diverging": [
            [
             0,
             "#8e0152"
            ],
            [
             0.1,
             "#c51b7d"
            ],
            [
             0.2,
             "#de77ae"
            ],
            [
             0.3,
             "#f1b6da"
            ],
            [
             0.4,
             "#fde0ef"
            ],
            [
             0.5,
             "#f7f7f7"
            ],
            [
             0.6,
             "#e6f5d0"
            ],
            [
             0.7,
             "#b8e186"
            ],
            [
             0.8,
             "#7fbc41"
            ],
            [
             0.9,
             "#4d9221"
            ],
            [
             1,
             "#276419"
            ]
           ],
           "sequential": [
            [
             0,
             "#0d0887"
            ],
            [
             0.1111111111111111,
             "#46039f"
            ],
            [
             0.2222222222222222,
             "#7201a8"
            ],
            [
             0.3333333333333333,
             "#9c179e"
            ],
            [
             0.4444444444444444,
             "#bd3786"
            ],
            [
             0.5555555555555556,
             "#d8576b"
            ],
            [
             0.6666666666666666,
             "#ed7953"
            ],
            [
             0.7777777777777778,
             "#fb9f3a"
            ],
            [
             0.8888888888888888,
             "#fdca26"
            ],
            [
             1,
             "#f0f921"
            ]
           ],
           "sequentialminus": [
            [
             0,
             "#0d0887"
            ],
            [
             0.1111111111111111,
             "#46039f"
            ],
            [
             0.2222222222222222,
             "#7201a8"
            ],
            [
             0.3333333333333333,
             "#9c179e"
            ],
            [
             0.4444444444444444,
             "#bd3786"
            ],
            [
             0.5555555555555556,
             "#d8576b"
            ],
            [
             0.6666666666666666,
             "#ed7953"
            ],
            [
             0.7777777777777778,
             "#fb9f3a"
            ],
            [
             0.8888888888888888,
             "#fdca26"
            ],
            [
             1,
             "#f0f921"
            ]
           ]
          },
          "colorway": [
           "#636efa",
           "#EF553B",
           "#00cc96",
           "#ab63fa",
           "#FFA15A",
           "#19d3f3",
           "#FF6692",
           "#B6E880",
           "#FF97FF",
           "#FECB52"
          ],
          "font": {
           "color": "#2a3f5f"
          },
          "geo": {
           "bgcolor": "white",
           "lakecolor": "white",
           "landcolor": "white",
           "showlakes": true,
           "showland": true,
           "subunitcolor": "#C8D4E3"
          },
          "hoverlabel": {
           "align": "left"
          },
          "hovermode": "closest",
          "mapbox": {
           "style": "light"
          },
          "paper_bgcolor": "white",
          "plot_bgcolor": "white",
          "polar": {
           "angularaxis": {
            "gridcolor": "#EBF0F8",
            "linecolor": "#EBF0F8",
            "ticks": ""
           },
           "bgcolor": "white",
           "radialaxis": {
            "gridcolor": "#EBF0F8",
            "linecolor": "#EBF0F8",
            "ticks": ""
           }
          },
          "scene": {
           "xaxis": {
            "backgroundcolor": "white",
            "gridcolor": "#DFE8F3",
            "gridwidth": 2,
            "linecolor": "#EBF0F8",
            "showbackground": true,
            "ticks": "",
            "zerolinecolor": "#EBF0F8"
           },
           "yaxis": {
            "backgroundcolor": "white",
            "gridcolor": "#DFE8F3",
            "gridwidth": 2,
            "linecolor": "#EBF0F8",
            "showbackground": true,
            "ticks": "",
            "zerolinecolor": "#EBF0F8"
           },
           "zaxis": {
            "backgroundcolor": "white",
            "gridcolor": "#DFE8F3",
            "gridwidth": 2,
            "linecolor": "#EBF0F8",
            "showbackground": true,
            "ticks": "",
            "zerolinecolor": "#EBF0F8"
           }
          },
          "shapedefaults": {
           "line": {
            "color": "#2a3f5f"
           }
          },
          "ternary": {
           "aaxis": {
            "gridcolor": "#DFE8F3",
            "linecolor": "#A2B1C6",
            "ticks": ""
           },
           "baxis": {
            "gridcolor": "#DFE8F3",
            "linecolor": "#A2B1C6",
            "ticks": ""
           },
           "bgcolor": "white",
           "caxis": {
            "gridcolor": "#DFE8F3",
            "linecolor": "#A2B1C6",
            "ticks": ""
           }
          },
          "title": {
           "x": 0.05
          },
          "xaxis": {
           "automargin": true,
           "gridcolor": "#EBF0F8",
           "linecolor": "#EBF0F8",
           "ticks": "",
           "title": {
            "standoff": 15
           },
           "zerolinecolor": "#EBF0F8",
           "zerolinewidth": 2
          },
          "yaxis": {
           "automargin": true,
           "gridcolor": "#EBF0F8",
           "linecolor": "#EBF0F8",
           "ticks": "",
           "title": {
            "standoff": 15
           },
           "zerolinecolor": "#EBF0F8",
           "zerolinewidth": 2
          }
         }
        },
        "title": {
         "text": "Diferencia de Tiempo (Δt = Tb - Tm - CTI) - Escenario: scenario_1 Optimizado<br><sup>CTI = 0.2s</sup>"
        },
        "xaxis": {
         "tickmode": "auto",
         "title": {
          "text": "Índice del Par de Relés (Ordenado por MT Ascendente)"
         }
        },
        "yaxis": {
         "gridcolor": "lightgrey",
         "title": {
          "text": "Δt [s]"
         },
         "zerolinecolor": "black",
         "zerolinewidth": 1.5
        }
       }
      }
     },
     "metadata": {},
     "output_type": "display_data"
    },
    {
     "name": "stdout",
     "output_type": "stream",
     "text": [
      "    Displaying delta_scatter plot...\n"
     ]
    },
    {
     "data": {
      "application/vnd.plotly.v1+json": {
       "config": {
        "plotlyServerURL": "https://plot.ly"
       },
       "data": [
        {
         "customdata": [
          [
           "R19-R18",
           -0.13900000000000007,
           1.5523,
           1.6133,
           "L19-20",
           "10",
           "Descoordinado"
          ],
          [
           "R11-R10",
           -0.12010000000000015,
           1.987,
           2.0669,
           "L11-12",
           "10",
           "Descoordinado"
          ],
          [
           "R12-R11",
           -0.10689999999999983,
           2.0294,
           2.1225,
           "L12-13",
           "10",
           "Descoordinado"
          ],
          [
           "R10-R9",
           -0.09670000000000006,
           2.0165,
           2.1198,
           "L10-11",
           "10",
           "Descoordinado"
          ],
          [
           "R23-R22",
           -0.07500000000000001,
           2.1218,
           2.2468,
           "L23-24",
           "10",
           "Descoordinado"
          ],
          [
           "R44-R70",
           -0.06519999999999976,
           2.4149,
           2.5497,
           "L7-8",
           "90",
           "Descoordinado"
          ],
          [
           "R13-R12",
           -0.06439999999999985,
           2.3337,
           2.4693,
           "L13-14",
           "10",
           "Descoordinado"
          ],
          [
           "R17-R16",
           -0.02549999999999991,
           2.5522,
           2.7267,
           "L17-18",
           "10",
           "Descoordinado"
          ],
          [
           "R20-R19",
           -0.015600000000000336,
           1.8801,
           2.0645,
           "L20-21",
           "10",
           "Descoordinado"
          ],
          [
           "R70-R20",
           -0.011599999999999888,
           1.8668,
           2.0552,
           "L8-21",
           "90",
           "Descoordinado"
          ],
          [
           "R15-R34",
           -0.00929999999999992,
           2.338,
           2.5287,
           "L15-16",
           "10",
           "Descoordinado"
          ],
          [
           "R15-R14",
           -0.007199999999999929,
           2.338,
           2.5308,
           "L15-16",
           "10",
           "Descoordinado"
          ],
          [
           "R24-R23",
           -0.002799999999999969,
           2.4064,
           2.6036,
           "L24-25",
           "10",
           "Descoordinado"
          ]
         ],
         "hovertemplate": "status=%{customdata[6]}<br>delta_t=%{y:.4f}<br>pair_label=%{customdata[0]}<br>mt=%{customdata[1]:.4f}<br>tm=%{customdata[2]:.4f}<br>tb=%{customdata[3]:.4f}<br>line=%{customdata[4]}<br>fault=%{customdata[5]}<extra></extra>",
         "legendgroup": "Descoordinado",
         "marker": {
          "color": "red",
          "opacity": 0.7,
          "size": 8,
          "symbol": "circle"
         },
         "mode": "markers",
         "name": "Descoordinado",
         "orientation": "v",
         "showlegend": true,
         "type": "scatter",
         "x": [
          1,
          2,
          3,
          4,
          5,
          6,
          7,
          8,
          9,
          10,
          11,
          12,
          13
         ],
         "xaxis": "x",
         "y": [
          -0.13900000000000007,
          -0.12010000000000015,
          -0.10689999999999983,
          -0.09670000000000006,
          -0.07500000000000001,
          -0.06519999999999976,
          -0.06439999999999985,
          -0.02549999999999991,
          -0.015600000000000336,
          -0.011599999999999888,
          -0.00929999999999992,
          -0.007199999999999929,
          -0.002799999999999969
         ],
         "yaxis": "y"
        },
        {
         "customdata": [
          [
           "R51-R52",
           0,
           1.898,
           2.1647,
           "L14-15",
           "90",
           "Coordinado"
          ],
          [
           "R38-R55",
           0,
           0.1989,
           2.185,
           "L1-2",
           "90",
           "Coordinado"
          ],
          [
           "R47-R48",
           0,
           1.9344,
           2.1559,
           "L10-11",
           "90",
           "Coordinado"
          ],
          [
           "R48-R49",
           0,
           2.0627,
           2.2846,
           "L11-12",
           "90",
           "Coordinado"
          ],
          [
           "R48-R72",
           0,
           2.0627,
           2.3066,
           "L11-12",
           "90",
           "Coordinado"
          ],
          [
           "R12-R72",
           0,
           2.0294,
           2.3561,
           "L12-13",
           "10",
           "Coordinado"
          ],
          [
           "R49-R50",
           0,
           1.7994,
           2.0329,
           "L12-13",
           "90",
           "Coordinado"
          ],
          [
           "R50-R51",
           0,
           1.8518,
           2.055,
           "L13-14",
           "90",
           "Coordinado"
          ],
          [
           "R14-R13",
           0,
           2.3044,
           2.5629,
           "L14-15",
           "10",
           "Coordinado"
          ],
          [
           "R54-R73",
           0,
           2.2353,
           2.511,
           "L17-18",
           "90",
           "Coordinado"
          ],
          [
           "R18-R39",
           0,
           1.4531,
           1.7184,
           "L2-19",
           "10",
           "Coordinado"
          ],
          [
           "R52-R53",
           0,
           2.0266,
           2.316,
           "L15-16",
           "90",
           "Coordinado"
          ],
          [
           "R16-R15",
           0,
           2.305,
           2.5802,
           "L16-17",
           "10",
           "Coordinado"
          ],
          [
           "R53-R54",
           0,
           2.0604,
           2.3818,
           "L16-17",
           "90",
           "Coordinado"
          ],
          [
           "R55-R56",
           0,
           1.8282,
           2.0942,
           "L2-19",
           "90",
           "Coordinado"
          ],
          [
           "R36-R17",
           0,
           2.5008,
           2.724,
           "L18-33",
           "10",
           "Coordinado"
          ],
          [
           "R73-R32",
           0,
           2.3767,
           2.6758,
           "L18-33",
           "90",
           "Coordinado"
          ],
          [
           "R56-R57",
           0,
           1.5655,
           1.77,
           "L19-20",
           "90",
           "Coordinado"
          ],
          [
           "R51-R34",
           0,
           1.898,
           2.5287,
           "L14-15",
           "90",
           "Coordinado"
          ],
          [
           "R2-R1",
           0,
           1.9891,
           2.2835,
           "L2-3",
           "10",
           "Coordinado"
          ],
          [
           "R71-R14",
           0,
           1.34,
           2.6217,
           "L9-15",
           "90",
           "Coordinado"
          ],
          [
           "R26-R25",
           0,
           2.2805,
           2.5297,
           "L26-27",
           "10",
           "Coordinado"
          ],
          [
           "R39-R40",
           0,
           1.1999,
           2.1326,
           "L2-3",
           "90",
           "Coordinado"
          ],
          [
           "R39-R59",
           0,
           1.1999,
           2.3716,
           "L2-3",
           "90",
           "Coordinado"
          ],
          [
           "R57-R58",
           0,
           1.6605,
           1.9255,
           "L20-21",
           "90",
           "Coordinado"
          ],
          [
           "R57-R33",
           0,
           1.6605,
           1.8794,
           "L20-21",
           "90",
           "Coordinado"
          ],
          [
           "R21-R20",
           0,
           1.4986,
           2.0227,
           "L21-22",
           "10",
           "Coordinado"
          ],
          [
           "R21-R33",
           0,
           1.4986,
           1.9126,
           "L21-22",
           "10",
           "Coordinado"
          ],
          [
           "R58-R35",
           0,
           1.6871,
           1.9007,
           "L21-22",
           "90",
           "Coordinado"
          ],
          [
           "R33-R7",
           0,
           1.416,
           1.9516,
           "L8-21",
           "10",
           "Coordinado"
          ],
          [
           "R2-R55",
           0,
           1.9891,
           2.4588,
           "L2-3",
           "10",
           "Coordinado"
          ],
          [
           "R33-R45",
           0,
           1.416,
           2.8072,
           "L8-21",
           "10",
           "Coordinado"
          ],
          [
           "R72-R21",
           0,
           1.8478,
           2.0636,
           "L12-22",
           "10",
           "Coordinado"
          ],
          [
           "R35-R11",
           0,
           1.5177,
           2.6481,
           "L12-22",
           "90",
           "Coordinado"
          ],
          [
           "R35-R49",
           0,
           1.5177,
           3.1935,
           "L12-22",
           "90",
           "Coordinado"
          ],
          [
           "R60-R61",
           0,
           1.5096,
           1.7112,
           "L23-24",
           "90",
           "Coordinado"
          ],
          [
           "R18-R1",
           0,
           1.4531,
           2.2655,
           "L2-19",
           "10",
           "Coordinado"
          ],
          [
           "R37-R24",
           0,
           2.6099,
           2.8101,
           "L25-29",
           "10",
           "Coordinado"
          ],
          [
           "R74-R28",
           0,
           1.6779,
           2.9696,
           "L25-29",
           "90",
           "Coordinado"
          ],
          [
           "R74-R66",
           0,
           1.6779,
           2.1821,
           "L25-29",
           "90",
           "Coordinado"
          ],
          [
           "R70-R58",
           0,
           1.8668,
           2.0776,
           "L8-21",
           "90",
           "Coordinado"
          ],
          [
           "R63-R64",
           0,
           2.0625,
           2.2738,
           "L26-27",
           "90",
           "Coordinado"
          ],
          [
           "R25-R5",
           0,
           2.4072,
           2.6785,
           "L6-26",
           "10",
           "Coordinado"
          ],
          [
           "R64-R65",
           0,
           1.9583,
           2.1923,
           "L27-28",
           "90",
           "Coordinado"
          ],
          [
           "R69-R36",
           0,
           2.3775,
           2.6108,
           "L32-33",
           "90",
           "Coordinado"
          ],
          [
           "R3-R2",
           0,
           2.1218,
           2.3865,
           "L3-4",
           "10",
           "Coordinado"
          ],
          [
           "R65-R37",
           0,
           1.9594,
           2.8707,
           "L28-29",
           "90",
           "Coordinado"
          ],
          [
           "R65-R66",
           0,
           1.9594,
           2.2044,
           "L28-29",
           "90",
           "Coordinado"
          ],
          [
           "R29-R28",
           0,
           2.6166,
           2.9696,
           "L29-30",
           "10",
           "Coordinado"
          ],
          [
           "R29-R37",
           0,
           2.6166,
           2.851,
           "L29-30",
           "10",
           "Coordinado"
          ],
          [
           "R66-R67",
           0,
           2.0653,
           2.3101,
           "L29-30",
           "90",
           "Coordinado"
          ],
          [
           "R22-R2",
           0,
           1.9394,
           2.4012,
           "L3-23",
           "10",
           "Coordinado"
          ],
          [
           "R42-R62",
           0,
           1.8509,
           2.0947,
           "L5-6",
           "90",
           "Coordinado"
          ],
          [
           "R22-R40",
           0,
           1.9394,
           2.1853,
           "L3-23",
           "10",
           "Coordinado"
          ],
          [
           "R38-R39",
           0,
           0.1989,
           1.6368,
           "L1-2",
           "90",
           "Coordinado"
          ],
          [
           "R67-R68",
           0,
           2.1176,
           2.332,
           "L30-31",
           "90",
           "Coordinado"
          ],
          [
           "R32-R31",
           0,
           2.5315,
           2.8385,
           "L32-33",
           "10",
           "Coordinado"
          ],
          [
           "R3-R59",
           0,
           2.1218,
           2.5638,
           "L3-4",
           "10",
           "Coordinado"
          ],
          [
           "R40-R41",
           0,
           1.8337,
           2.0525,
           "L3-4",
           "90",
           "Coordinado"
          ],
          [
           "R30-R29",
           0,
           2.4651,
           2.8765,
           "L30-31",
           "10",
           "Coordinado"
          ],
          [
           "R68-R69",
           0,
           2.2508,
           2.4595,
           "L31-32",
           "90",
           "Coordinado"
          ],
          [
           "R31-R30",
           0,
           2.6913,
           2.9015,
           "L31-32",
           "10",
           "Coordinado"
          ],
          [
           "R59-R60",
           0,
           1.6106,
           1.8478,
           "L3-23",
           "90",
           "Coordinado"
          ],
          [
           "R41-R42",
           0,
           1.8954,
           2.0977,
           "L4-5",
           "90",
           "Coordinado"
          ],
          [
           "R34-R46",
           0,
           1.86,
           2.7841,
           "L9-15",
           "10",
           "Coordinado"
          ],
          [
           "R34-R8",
           0,
           1.86,
           2.0872,
           "L9-15",
           "10",
           "Coordinado"
          ],
          [
           "R7-R6",
           0,
           1.7384,
           1.9622,
           "L7-8",
           "10",
           "Coordinado"
          ],
          [
           "R5-R4",
           0,
           2.21,
           2.439,
           "L5-6",
           "10",
           "Coordinado"
          ],
          [
           "R42-R43",
           0,
           1.8509,
           2.6634,
           "L5-6",
           "90",
           "Coordinado"
          ],
          [
           "R28-R27",
           0,
           2.5829,
           2.7835,
           "L28-29",
           "10",
           "Coordinado"
          ],
          [
           "R27-R26",
           0,
           2.2492,
           2.476,
           "L27-28",
           "10",
           "Coordinado"
          ],
          [
           "R25-R43",
           0,
           2.4072,
           2.6313,
           "L6-26",
           "10",
           "Coordinado"
          ],
          [
           "R62-R63",
           0,
           1.9479,
           2.1659,
           "L6-26",
           "90",
           "Coordinado"
          ],
          [
           "R6-R5",
           0,
           1.8263,
           2.6901,
           "L6-7",
           "10",
           "Coordinado"
          ],
          [
           "R6-R62",
           0,
           1.8263,
           2.0667,
           "L6-7",
           "10",
           "Coordinado"
          ],
          [
           "R43-R44",
           0,
           2.4393,
           2.6539,
           "L6-7",
           "90",
           "Coordinado"
          ],
          [
           "R44-R45",
           0,
           2.4149,
           2.6622,
           "L7-8",
           "90",
           "Coordinado"
          ],
          [
           "R4-R3",
           0,
           2.1654,
           2.4003,
           "L4-5",
           "10",
           "Coordinado"
          ],
          [
           "R8-R7",
           0,
           1.6771,
           1.9037,
           "L8-9",
           "10",
           "Coordinado"
          ],
          [
           "R8-R70",
           0,
           1.6771,
           2.5961,
           "L8-9",
           "10",
           "Coordinado"
          ],
          [
           "R45-R46",
           0,
           2.2619,
           2.4884,
           "L8-9",
           "90",
           "Coordinado"
          ],
          [
           "R45-R71",
           0,
           2.2619,
           2.504,
           "L8-9",
           "90",
           "Coordinado"
          ],
          [
           "R9-R8",
           0,
           1.8166,
           2.033,
           "L9-10",
           "10",
           "Coordinado"
          ],
          [
           "R9-R71",
           0,
           1.8166,
           2.6799,
           "L9-10",
           "10",
           "Coordinado"
          ],
          [
           "R46-R47",
           0,
           1.8203,
           2.0207,
           "L9-10",
           "90",
           "Coordinado"
          ],
          [
           "R61-R74",
           0,
           1.5339,
           1.7896,
           "L24-25",
           "90",
           "Coordinado"
          ],
          [
           "R71-R52",
           0,
           1.34,
           2.2208,
           "L9-15",
           "90",
           "Coordinado"
          ]
         ],
         "hovertemplate": "status=%{customdata[6]}<br>delta_t=%{y:.4f}<br>pair_label=%{customdata[0]}<br>mt=%{customdata[1]:.4f}<br>tm=%{customdata[2]:.4f}<br>tb=%{customdata[3]:.4f}<br>line=%{customdata[4]}<br>fault=%{customdata[5]}<extra></extra>",
         "legendgroup": "Coordinado",
         "marker": {
          "color": "green",
          "opacity": 0.7,
          "size": 8,
          "symbol": "circle"
         },
         "mode": "markers",
         "name": "Coordinado",
         "orientation": "v",
         "showlegend": true,
         "type": "scatter",
         "x": [
          14,
          15,
          16,
          17,
          18,
          19,
          20,
          21,
          22,
          23,
          24,
          25,
          26,
          27,
          28,
          29,
          30,
          31,
          32,
          33,
          34,
          35,
          36,
          37,
          38,
          39,
          40,
          41,
          42,
          43,
          44,
          45,
          46,
          47,
          48,
          49,
          50,
          51,
          52,
          53,
          54,
          55,
          56,
          57,
          58,
          59,
          60,
          61,
          62,
          63,
          64,
          65,
          66,
          67,
          68,
          69,
          70,
          71,
          72,
          73,
          74,
          75,
          76,
          77,
          78,
          79,
          80,
          81,
          82,
          83,
          84,
          85,
          86,
          87,
          88,
          89,
          90,
          91,
          92,
          93,
          94,
          95,
          96,
          97,
          98,
          99,
          100
         ],
         "xaxis": "x",
         "y": [
          0.06669999999999993,
          1.7861,
          0.02150000000000002,
          0.021900000000000197,
          0.043899999999999995,
          0.1267000000000002,
          0.03350000000000003,
          0.003200000000000258,
          0.05850000000000016,
          0.07570000000000005,
          0.06529999999999986,
          0.08939999999999965,
          0.07519999999999988,
          0.12140000000000012,
          0.06599999999999978,
          0.023200000000000276,
          0.09910000000000013,
          0.004500000000000115,
          0.43070000000000025,
          0.09439999999999998,
          1.0817,
          0.04920000000000008,
          0.7327000000000001,
          0.9717,
          0.06499999999999989,
          0.01889999999999986,
          0.3241,
          0.21400000000000013,
          0.013600000000000001,
          0.33560000000000006,
          0.2697,
          1.1912,
          0.01579999999999998,
          0.9303999999999999,
          1.4757999999999998,
          0.0015999999999999903,
          0.6123999999999998,
          0.00019999999999970042,
          1.0917,
          0.3042000000000002,
          0.010799999999999865,
          0.011300000000000032,
          0.07130000000000009,
          0.033999999999999975,
          0.03329999999999983,
          0.06469999999999992,
          0.7112999999999998,
          0.045000000000000095,
          0.15299999999999975,
          0.03439999999999993,
          0.04479999999999967,
          0.26179999999999976,
          0.043800000000000006,
          0.045899999999999774,
          1.2379,
          0.014399999999999913,
          0.10699999999999993,
          0.24200000000000016,
          0.018800000000000094,
          0.21139999999999998,
          0.008699999999999875,
          0.010199999999999931,
          0.037200000000000066,
          0.0023000000000001353,
          0.7241,
          0.027200000000000057,
          0.023799999999999988,
          0.02900000000000008,
          0.6125000000000003,
          0.0006000000000001005,
          0.02679999999999988,
          0.024099999999999955,
          0.018000000000000183,
          0.6638000000000002,
          0.040399999999999936,
          0.014600000000000335,
          0.047300000000000064,
          0.0349000000000001,
          0.0265999999999999,
          0.7189999999999999,
          0.026500000000000135,
          0.04210000000000019,
          0.016399999999999915,
          0.6633,
          0.0004000000000001225,
          0.05570000000000003,
          0.6808000000000001
         ],
         "yaxis": "y"
        }
       ],
       "layout": {
        "annotations": [
         {
          "showarrow": false,
          "text": "Límite CTI (Δt=0)",
          "x": 1,
          "xanchor": "right",
          "xref": "x domain",
          "y": 0,
          "yanchor": "top",
          "yref": "y"
         }
        ],
        "legend": {
         "title": {
          "text": "Estado Coordinación"
         },
         "tracegroupgap": 0
        },
        "shapes": [
         {
          "line": {
           "color": "black",
           "dash": "dash",
           "width": 1.5
          },
          "type": "line",
          "x0": 0,
          "x1": 1,
          "xref": "x domain",
          "y0": 0,
          "y1": 0,
          "yref": "y"
         }
        ],
        "template": {
         "data": {
          "bar": [
           {
            "error_x": {
             "color": "#2a3f5f"
            },
            "error_y": {
             "color": "#2a3f5f"
            },
            "marker": {
             "line": {
              "color": "white",
              "width": 0.5
             },
             "pattern": {
              "fillmode": "overlay",
              "size": 10,
              "solidity": 0.2
             }
            },
            "type": "bar"
           }
          ],
          "barpolar": [
           {
            "marker": {
             "line": {
              "color": "white",
              "width": 0.5
             },
             "pattern": {
              "fillmode": "overlay",
              "size": 10,
              "solidity": 0.2
             }
            },
            "type": "barpolar"
           }
          ],
          "carpet": [
           {
            "aaxis": {
             "endlinecolor": "#2a3f5f",
             "gridcolor": "#C8D4E3",
             "linecolor": "#C8D4E3",
             "minorgridcolor": "#C8D4E3",
             "startlinecolor": "#2a3f5f"
            },
            "baxis": {
             "endlinecolor": "#2a3f5f",
             "gridcolor": "#C8D4E3",
             "linecolor": "#C8D4E3",
             "minorgridcolor": "#C8D4E3",
             "startlinecolor": "#2a3f5f"
            },
            "type": "carpet"
           }
          ],
          "choropleth": [
           {
            "colorbar": {
             "outlinewidth": 0,
             "ticks": ""
            },
            "type": "choropleth"
           }
          ],
          "contour": [
           {
            "colorbar": {
             "outlinewidth": 0,
             "ticks": ""
            },
            "colorscale": [
             [
              0,
              "#0d0887"
             ],
             [
              0.1111111111111111,
              "#46039f"
             ],
             [
              0.2222222222222222,
              "#7201a8"
             ],
             [
              0.3333333333333333,
              "#9c179e"
             ],
             [
              0.4444444444444444,
              "#bd3786"
             ],
             [
              0.5555555555555556,
              "#d8576b"
             ],
             [
              0.6666666666666666,
              "#ed7953"
             ],
             [
              0.7777777777777778,
              "#fb9f3a"
             ],
             [
              0.8888888888888888,
              "#fdca26"
             ],
             [
              1,
              "#f0f921"
             ]
            ],
            "type": "contour"
           }
          ],
          "contourcarpet": [
           {
            "colorbar": {
             "outlinewidth": 0,
             "ticks": ""
            },
            "type": "contourcarpet"
           }
          ],
          "heatmap": [
           {
            "colorbar": {
             "outlinewidth": 0,
             "ticks": ""
            },
            "colorscale": [
             [
              0,
              "#0d0887"
             ],
             [
              0.1111111111111111,
              "#46039f"
             ],
             [
              0.2222222222222222,
              "#7201a8"
             ],
             [
              0.3333333333333333,
              "#9c179e"
             ],
             [
              0.4444444444444444,
              "#bd3786"
             ],
             [
              0.5555555555555556,
              "#d8576b"
             ],
             [
              0.6666666666666666,
              "#ed7953"
             ],
             [
              0.7777777777777778,
              "#fb9f3a"
             ],
             [
              0.8888888888888888,
              "#fdca26"
             ],
             [
              1,
              "#f0f921"
             ]
            ],
            "type": "heatmap"
           }
          ],
          "heatmapgl": [
           {
            "colorbar": {
             "outlinewidth": 0,
             "ticks": ""
            },
            "colorscale": [
             [
              0,
              "#0d0887"
             ],
             [
              0.1111111111111111,
              "#46039f"
             ],
             [
              0.2222222222222222,
              "#7201a8"
             ],
             [
              0.3333333333333333,
              "#9c179e"
             ],
             [
              0.4444444444444444,
              "#bd3786"
             ],
             [
              0.5555555555555556,
              "#d8576b"
             ],
             [
              0.6666666666666666,
              "#ed7953"
             ],
             [
              0.7777777777777778,
              "#fb9f3a"
             ],
             [
              0.8888888888888888,
              "#fdca26"
             ],
             [
              1,
              "#f0f921"
             ]
            ],
            "type": "heatmapgl"
           }
          ],
          "histogram": [
           {
            "marker": {
             "pattern": {
              "fillmode": "overlay",
              "size": 10,
              "solidity": 0.2
             }
            },
            "type": "histogram"
           }
          ],
          "histogram2d": [
           {
            "colorbar": {
             "outlinewidth": 0,
             "ticks": ""
            },
            "colorscale": [
             [
              0,
              "#0d0887"
             ],
             [
              0.1111111111111111,
              "#46039f"
             ],
             [
              0.2222222222222222,
              "#7201a8"
             ],
             [
              0.3333333333333333,
              "#9c179e"
             ],
             [
              0.4444444444444444,
              "#bd3786"
             ],
             [
              0.5555555555555556,
              "#d8576b"
             ],
             [
              0.6666666666666666,
              "#ed7953"
             ],
             [
              0.7777777777777778,
              "#fb9f3a"
             ],
             [
              0.8888888888888888,
              "#fdca26"
             ],
             [
              1,
              "#f0f921"
             ]
            ],
            "type": "histogram2d"
           }
          ],
          "histogram2dcontour": [
           {
            "colorbar": {
             "outlinewidth": 0,
             "ticks": ""
            },
            "colorscale": [
             [
              0,
              "#0d0887"
             ],
             [
              0.1111111111111111,
              "#46039f"
             ],
             [
              0.2222222222222222,
              "#7201a8"
             ],
             [
              0.3333333333333333,
              "#9c179e"
             ],
             [
              0.4444444444444444,
              "#bd3786"
             ],
             [
              0.5555555555555556,
              "#d8576b"
             ],
             [
              0.6666666666666666,
              "#ed7953"
             ],
             [
              0.7777777777777778,
              "#fb9f3a"
             ],
             [
              0.8888888888888888,
              "#fdca26"
             ],
             [
              1,
              "#f0f921"
             ]
            ],
            "type": "histogram2dcontour"
           }
          ],
          "mesh3d": [
           {
            "colorbar": {
             "outlinewidth": 0,
             "ticks": ""
            },
            "type": "mesh3d"
           }
          ],
          "parcoords": [
           {
            "line": {
             "colorbar": {
              "outlinewidth": 0,
              "ticks": ""
             }
            },
            "type": "parcoords"
           }
          ],
          "pie": [
           {
            "automargin": true,
            "type": "pie"
           }
          ],
          "scatter": [
           {
            "fillpattern": {
             "fillmode": "overlay",
             "size": 10,
             "solidity": 0.2
            },
            "type": "scatter"
           }
          ],
          "scatter3d": [
           {
            "line": {
             "colorbar": {
              "outlinewidth": 0,
              "ticks": ""
             }
            },
            "marker": {
             "colorbar": {
              "outlinewidth": 0,
              "ticks": ""
             }
            },
            "type": "scatter3d"
           }
          ],
          "scattercarpet": [
           {
            "marker": {
             "colorbar": {
              "outlinewidth": 0,
              "ticks": ""
             }
            },
            "type": "scattercarpet"
           }
          ],
          "scattergeo": [
           {
            "marker": {
             "colorbar": {
              "outlinewidth": 0,
              "ticks": ""
             }
            },
            "type": "scattergeo"
           }
          ],
          "scattergl": [
           {
            "marker": {
             "colorbar": {
              "outlinewidth": 0,
              "ticks": ""
             }
            },
            "type": "scattergl"
           }
          ],
          "scattermapbox": [
           {
            "marker": {
             "colorbar": {
              "outlinewidth": 0,
              "ticks": ""
             }
            },
            "type": "scattermapbox"
           }
          ],
          "scatterpolar": [
           {
            "marker": {
             "colorbar": {
              "outlinewidth": 0,
              "ticks": ""
             }
            },
            "type": "scatterpolar"
           }
          ],
          "scatterpolargl": [
           {
            "marker": {
             "colorbar": {
              "outlinewidth": 0,
              "ticks": ""
             }
            },
            "type": "scatterpolargl"
           }
          ],
          "scatterternary": [
           {
            "marker": {
             "colorbar": {
              "outlinewidth": 0,
              "ticks": ""
             }
            },
            "type": "scatterternary"
           }
          ],
          "surface": [
           {
            "colorbar": {
             "outlinewidth": 0,
             "ticks": ""
            },
            "colorscale": [
             [
              0,
              "#0d0887"
             ],
             [
              0.1111111111111111,
              "#46039f"
             ],
             [
              0.2222222222222222,
              "#7201a8"
             ],
             [
              0.3333333333333333,
              "#9c179e"
             ],
             [
              0.4444444444444444,
              "#bd3786"
             ],
             [
              0.5555555555555556,
              "#d8576b"
             ],
             [
              0.6666666666666666,
              "#ed7953"
             ],
             [
              0.7777777777777778,
              "#fb9f3a"
             ],
             [
              0.8888888888888888,
              "#fdca26"
             ],
             [
              1,
              "#f0f921"
             ]
            ],
            "type": "surface"
           }
          ],
          "table": [
           {
            "cells": {
             "fill": {
              "color": "#EBF0F8"
             },
             "line": {
              "color": "white"
             }
            },
            "header": {
             "fill": {
              "color": "#C8D4E3"
             },
             "line": {
              "color": "white"
             }
            },
            "type": "table"
           }
          ]
         },
         "layout": {
          "annotationdefaults": {
           "arrowcolor": "#2a3f5f",
           "arrowhead": 0,
           "arrowwidth": 1
          },
          "autotypenumbers": "strict",
          "coloraxis": {
           "colorbar": {
            "outlinewidth": 0,
            "ticks": ""
           }
          },
          "colorscale": {
           "diverging": [
            [
             0,
             "#8e0152"
            ],
            [
             0.1,
             "#c51b7d"
            ],
            [
             0.2,
             "#de77ae"
            ],
            [
             0.3,
             "#f1b6da"
            ],
            [
             0.4,
             "#fde0ef"
            ],
            [
             0.5,
             "#f7f7f7"
            ],
            [
             0.6,
             "#e6f5d0"
            ],
            [
             0.7,
             "#b8e186"
            ],
            [
             0.8,
             "#7fbc41"
            ],
            [
             0.9,
             "#4d9221"
            ],
            [
             1,
             "#276419"
            ]
           ],
           "sequential": [
            [
             0,
             "#0d0887"
            ],
            [
             0.1111111111111111,
             "#46039f"
            ],
            [
             0.2222222222222222,
             "#7201a8"
            ],
            [
             0.3333333333333333,
             "#9c179e"
            ],
            [
             0.4444444444444444,
             "#bd3786"
            ],
            [
             0.5555555555555556,
             "#d8576b"
            ],
            [
             0.6666666666666666,
             "#ed7953"
            ],
            [
             0.7777777777777778,
             "#fb9f3a"
            ],
            [
             0.8888888888888888,
             "#fdca26"
            ],
            [
             1,
             "#f0f921"
            ]
           ],
           "sequentialminus": [
            [
             0,
             "#0d0887"
            ],
            [
             0.1111111111111111,
             "#46039f"
            ],
            [
             0.2222222222222222,
             "#7201a8"
            ],
            [
             0.3333333333333333,
             "#9c179e"
            ],
            [
             0.4444444444444444,
             "#bd3786"
            ],
            [
             0.5555555555555556,
             "#d8576b"
            ],
            [
             0.6666666666666666,
             "#ed7953"
            ],
            [
             0.7777777777777778,
             "#fb9f3a"
            ],
            [
             0.8888888888888888,
             "#fdca26"
            ],
            [
             1,
             "#f0f921"
            ]
           ]
          },
          "colorway": [
           "#636efa",
           "#EF553B",
           "#00cc96",
           "#ab63fa",
           "#FFA15A",
           "#19d3f3",
           "#FF6692",
           "#B6E880",
           "#FF97FF",
           "#FECB52"
          ],
          "font": {
           "color": "#2a3f5f"
          },
          "geo": {
           "bgcolor": "white",
           "lakecolor": "white",
           "landcolor": "white",
           "showlakes": true,
           "showland": true,
           "subunitcolor": "#C8D4E3"
          },
          "hoverlabel": {
           "align": "left"
          },
          "hovermode": "closest",
          "mapbox": {
           "style": "light"
          },
          "paper_bgcolor": "white",
          "plot_bgcolor": "white",
          "polar": {
           "angularaxis": {
            "gridcolor": "#EBF0F8",
            "linecolor": "#EBF0F8",
            "ticks": ""
           },
           "bgcolor": "white",
           "radialaxis": {
            "gridcolor": "#EBF0F8",
            "linecolor": "#EBF0F8",
            "ticks": ""
           }
          },
          "scene": {
           "xaxis": {
            "backgroundcolor": "white",
            "gridcolor": "#DFE8F3",
            "gridwidth": 2,
            "linecolor": "#EBF0F8",
            "showbackground": true,
            "ticks": "",
            "zerolinecolor": "#EBF0F8"
           },
           "yaxis": {
            "backgroundcolor": "white",
            "gridcolor": "#DFE8F3",
            "gridwidth": 2,
            "linecolor": "#EBF0F8",
            "showbackground": true,
            "ticks": "",
            "zerolinecolor": "#EBF0F8"
           },
           "zaxis": {
            "backgroundcolor": "white",
            "gridcolor": "#DFE8F3",
            "gridwidth": 2,
            "linecolor": "#EBF0F8",
            "showbackground": true,
            "ticks": "",
            "zerolinecolor": "#EBF0F8"
           }
          },
          "shapedefaults": {
           "line": {
            "color": "#2a3f5f"
           }
          },
          "ternary": {
           "aaxis": {
            "gridcolor": "#DFE8F3",
            "linecolor": "#A2B1C6",
            "ticks": ""
           },
           "baxis": {
            "gridcolor": "#DFE8F3",
            "linecolor": "#A2B1C6",
            "ticks": ""
           },
           "bgcolor": "white",
           "caxis": {
            "gridcolor": "#DFE8F3",
            "linecolor": "#A2B1C6",
            "ticks": ""
           }
          },
          "title": {
           "x": 0.05
          },
          "xaxis": {
           "automargin": true,
           "gridcolor": "#EBF0F8",
           "linecolor": "#EBF0F8",
           "ticks": "",
           "title": {
            "standoff": 15
           },
           "zerolinecolor": "#EBF0F8",
           "zerolinewidth": 2
          },
          "yaxis": {
           "automargin": true,
           "gridcolor": "#EBF0F8",
           "linecolor": "#EBF0F8",
           "ticks": "",
           "title": {
            "standoff": 15
           },
           "zerolinecolor": "#EBF0F8",
           "zerolinewidth": 2
          }
         }
        },
        "title": {
         "text": "Diferencia de Tiempo (Δt vs Índice) - Escenario: scenario_1 Optimizado<br><sup>CTI = 0.2s</sup>"
        },
        "xaxis": {
         "anchor": "y",
         "domain": [
          0,
          1
         ],
         "tickmode": "auto",
         "title": {
          "text": "Índice del Par de Relés (Ordenado por MT Ascendente)"
         }
        },
        "yaxis": {
         "anchor": "x",
         "domain": [
          0,
          1
         ],
         "gridcolor": "lightgrey",
         "title": {
          "text": "Δt (Tb - Tm - CTI) [s]"
         },
         "zerolinecolor": "black",
         "zerolinewidth": 1.5
        }
       }
      }
     },
     "metadata": {},
     "output_type": "display_data"
    },
    {
     "name": "stdout",
     "output_type": "stream",
     "text": [
      "    Displaying mt_histogram plot...\n"
     ]
    },
    {
     "data": {
      "application/vnd.plotly.v1+json": {
       "config": {
        "plotlyServerURL": "https://plot.ly"
       },
       "data": [
        {
         "alignmentgroup": "True",
         "bingroup": "x",
         "hovertemplate": "status=Descoordinado<br>mt=%{x}<br>count=%{y}<extra></extra>",
         "legendgroup": "Descoordinado",
         "marker": {
          "color": "red",
          "pattern": {
           "shape": ""
          }
         },
         "name": "Descoordinado",
         "nbinsx": 20,
         "offsetgroup": "Descoordinado",
         "orientation": "v",
         "showlegend": true,
         "type": "histogram",
         "x": [
          -0.13900000000000007,
          -0.12010000000000015,
          -0.10689999999999983,
          -0.09670000000000006,
          -0.07500000000000001,
          -0.06519999999999976,
          -0.06439999999999985,
          -0.02549999999999991,
          -0.015600000000000336,
          -0.011599999999999888,
          -0.00929999999999992,
          -0.007199999999999929,
          -0.002799999999999969
         ],
         "xaxis": "x",
         "yaxis": "y"
        },
        {
         "alignmentgroup": "True",
         "hovertemplate": "status=Descoordinado<br>mt=%{x}<extra></extra>",
         "legendgroup": "Descoordinado",
         "marker": {
          "color": "red"
         },
         "name": "Descoordinado",
         "notched": true,
         "offsetgroup": "Descoordinado",
         "showlegend": false,
         "type": "box",
         "x": [
          -0.13900000000000007,
          -0.12010000000000015,
          -0.10689999999999983,
          -0.09670000000000006,
          -0.07500000000000001,
          -0.06519999999999976,
          -0.06439999999999985,
          -0.02549999999999991,
          -0.015600000000000336,
          -0.011599999999999888,
          -0.00929999999999992,
          -0.007199999999999929,
          -0.002799999999999969
         ],
         "xaxis": "x2",
         "yaxis": "y2"
        },
        {
         "alignmentgroup": "True",
         "bingroup": "x",
         "hovertemplate": "status=Coordinado<br>mt=%{x}<br>count=%{y}<extra></extra>",
         "legendgroup": "Coordinado",
         "marker": {
          "color": "green",
          "pattern": {
           "shape": ""
          }
         },
         "name": "Coordinado",
         "nbinsx": 20,
         "offsetgroup": "Coordinado",
         "orientation": "v",
         "showlegend": true,
         "type": "histogram",
         "x": [
          0,
          0,
          0,
          0,
          0,
          0,
          0,
          0,
          0,
          0,
          0,
          0,
          0,
          0,
          0,
          0,
          0,
          0,
          0,
          0,
          0,
          0,
          0,
          0,
          0,
          0,
          0,
          0,
          0,
          0,
          0,
          0,
          0,
          0,
          0,
          0,
          0,
          0,
          0,
          0,
          0,
          0,
          0,
          0,
          0,
          0,
          0,
          0,
          0,
          0,
          0,
          0,
          0,
          0,
          0,
          0,
          0,
          0,
          0,
          0,
          0,
          0,
          0,
          0,
          0,
          0,
          0,
          0,
          0,
          0,
          0,
          0,
          0,
          0,
          0,
          0,
          0,
          0,
          0,
          0,
          0,
          0,
          0,
          0,
          0,
          0,
          0
         ],
         "xaxis": "x",
         "yaxis": "y"
        },
        {
         "alignmentgroup": "True",
         "hovertemplate": "status=Coordinado<br>mt=%{x}<extra></extra>",
         "legendgroup": "Coordinado",
         "marker": {
          "color": "green"
         },
         "name": "Coordinado",
         "notched": true,
         "offsetgroup": "Coordinado",
         "showlegend": false,
         "type": "box",
         "x": [
          0,
          0,
          0,
          0,
          0,
          0,
          0,
          0,
          0,
          0,
          0,
          0,
          0,
          0,
          0,
          0,
          0,
          0,
          0,
          0,
          0,
          0,
          0,
          0,
          0,
          0,
          0,
          0,
          0,
          0,
          0,
          0,
          0,
          0,
          0,
          0,
          0,
          0,
          0,
          0,
          0,
          0,
          0,
          0,
          0,
          0,
          0,
          0,
          0,
          0,
          0,
          0,
          0,
          0,
          0,
          0,
          0,
          0,
          0,
          0,
          0,
          0,
          0,
          0,
          0,
          0,
          0,
          0,
          0,
          0,
          0,
          0,
          0,
          0,
          0,
          0,
          0,
          0,
          0,
          0,
          0,
          0,
          0,
          0,
          0,
          0,
          0
         ],
         "xaxis": "x2",
         "yaxis": "y2"
        }
       ],
       "layout": {
        "bargap": 0.1,
        "barmode": "relative",
        "legend": {
         "title": {
          "text": "Estado Coordinación"
         },
         "tracegroupgap": 0
        },
        "template": {
         "data": {
          "bar": [
           {
            "error_x": {
             "color": "#2a3f5f"
            },
            "error_y": {
             "color": "#2a3f5f"
            },
            "marker": {
             "line": {
              "color": "white",
              "width": 0.5
             },
             "pattern": {
              "fillmode": "overlay",
              "size": 10,
              "solidity": 0.2
             }
            },
            "type": "bar"
           }
          ],
          "barpolar": [
           {
            "marker": {
             "line": {
              "color": "white",
              "width": 0.5
             },
             "pattern": {
              "fillmode": "overlay",
              "size": 10,
              "solidity": 0.2
             }
            },
            "type": "barpolar"
           }
          ],
          "carpet": [
           {
            "aaxis": {
             "endlinecolor": "#2a3f5f",
             "gridcolor": "#C8D4E3",
             "linecolor": "#C8D4E3",
             "minorgridcolor": "#C8D4E3",
             "startlinecolor": "#2a3f5f"
            },
            "baxis": {
             "endlinecolor": "#2a3f5f",
             "gridcolor": "#C8D4E3",
             "linecolor": "#C8D4E3",
             "minorgridcolor": "#C8D4E3",
             "startlinecolor": "#2a3f5f"
            },
            "type": "carpet"
           }
          ],
          "choropleth": [
           {
            "colorbar": {
             "outlinewidth": 0,
             "ticks": ""
            },
            "type": "choropleth"
           }
          ],
          "contour": [
           {
            "colorbar": {
             "outlinewidth": 0,
             "ticks": ""
            },
            "colorscale": [
             [
              0,
              "#0d0887"
             ],
             [
              0.1111111111111111,
              "#46039f"
             ],
             [
              0.2222222222222222,
              "#7201a8"
             ],
             [
              0.3333333333333333,
              "#9c179e"
             ],
             [
              0.4444444444444444,
              "#bd3786"
             ],
             [
              0.5555555555555556,
              "#d8576b"
             ],
             [
              0.6666666666666666,
              "#ed7953"
             ],
             [
              0.7777777777777778,
              "#fb9f3a"
             ],
             [
              0.8888888888888888,
              "#fdca26"
             ],
             [
              1,
              "#f0f921"
             ]
            ],
            "type": "contour"
           }
          ],
          "contourcarpet": [
           {
            "colorbar": {
             "outlinewidth": 0,
             "ticks": ""
            },
            "type": "contourcarpet"
           }
          ],
          "heatmap": [
           {
            "colorbar": {
             "outlinewidth": 0,
             "ticks": ""
            },
            "colorscale": [
             [
              0,
              "#0d0887"
             ],
             [
              0.1111111111111111,
              "#46039f"
             ],
             [
              0.2222222222222222,
              "#7201a8"
             ],
             [
              0.3333333333333333,
              "#9c179e"
             ],
             [
              0.4444444444444444,
              "#bd3786"
             ],
             [
              0.5555555555555556,
              "#d8576b"
             ],
             [
              0.6666666666666666,
              "#ed7953"
             ],
             [
              0.7777777777777778,
              "#fb9f3a"
             ],
             [
              0.8888888888888888,
              "#fdca26"
             ],
             [
              1,
              "#f0f921"
             ]
            ],
            "type": "heatmap"
           }
          ],
          "heatmapgl": [
           {
            "colorbar": {
             "outlinewidth": 0,
             "ticks": ""
            },
            "colorscale": [
             [
              0,
              "#0d0887"
             ],
             [
              0.1111111111111111,
              "#46039f"
             ],
             [
              0.2222222222222222,
              "#7201a8"
             ],
             [
              0.3333333333333333,
              "#9c179e"
             ],
             [
              0.4444444444444444,
              "#bd3786"
             ],
             [
              0.5555555555555556,
              "#d8576b"
             ],
             [
              0.6666666666666666,
              "#ed7953"
             ],
             [
              0.7777777777777778,
              "#fb9f3a"
             ],
             [
              0.8888888888888888,
              "#fdca26"
             ],
             [
              1,
              "#f0f921"
             ]
            ],
            "type": "heatmapgl"
           }
          ],
          "histogram": [
           {
            "marker": {
             "pattern": {
              "fillmode": "overlay",
              "size": 10,
              "solidity": 0.2
             }
            },
            "type": "histogram"
           }
          ],
          "histogram2d": [
           {
            "colorbar": {
             "outlinewidth": 0,
             "ticks": ""
            },
            "colorscale": [
             [
              0,
              "#0d0887"
             ],
             [
              0.1111111111111111,
              "#46039f"
             ],
             [
              0.2222222222222222,
              "#7201a8"
             ],
             [
              0.3333333333333333,
              "#9c179e"
             ],
             [
              0.4444444444444444,
              "#bd3786"
             ],
             [
              0.5555555555555556,
              "#d8576b"
             ],
             [
              0.6666666666666666,
              "#ed7953"
             ],
             [
              0.7777777777777778,
              "#fb9f3a"
             ],
             [
              0.8888888888888888,
              "#fdca26"
             ],
             [
              1,
              "#f0f921"
             ]
            ],
            "type": "histogram2d"
           }
          ],
          "histogram2dcontour": [
           {
            "colorbar": {
             "outlinewidth": 0,
             "ticks": ""
            },
            "colorscale": [
             [
              0,
              "#0d0887"
             ],
             [
              0.1111111111111111,
              "#46039f"
             ],
             [
              0.2222222222222222,
              "#7201a8"
             ],
             [
              0.3333333333333333,
              "#9c179e"
             ],
             [
              0.4444444444444444,
              "#bd3786"
             ],
             [
              0.5555555555555556,
              "#d8576b"
             ],
             [
              0.6666666666666666,
              "#ed7953"
             ],
             [
              0.7777777777777778,
              "#fb9f3a"
             ],
             [
              0.8888888888888888,
              "#fdca26"
             ],
             [
              1,
              "#f0f921"
             ]
            ],
            "type": "histogram2dcontour"
           }
          ],
          "mesh3d": [
           {
            "colorbar": {
             "outlinewidth": 0,
             "ticks": ""
            },
            "type": "mesh3d"
           }
          ],
          "parcoords": [
           {
            "line": {
             "colorbar": {
              "outlinewidth": 0,
              "ticks": ""
             }
            },
            "type": "parcoords"
           }
          ],
          "pie": [
           {
            "automargin": true,
            "type": "pie"
           }
          ],
          "scatter": [
           {
            "fillpattern": {
             "fillmode": "overlay",
             "size": 10,
             "solidity": 0.2
            },
            "type": "scatter"
           }
          ],
          "scatter3d": [
           {
            "line": {
             "colorbar": {
              "outlinewidth": 0,
              "ticks": ""
             }
            },
            "marker": {
             "colorbar": {
              "outlinewidth": 0,
              "ticks": ""
             }
            },
            "type": "scatter3d"
           }
          ],
          "scattercarpet": [
           {
            "marker": {
             "colorbar": {
              "outlinewidth": 0,
              "ticks": ""
             }
            },
            "type": "scattercarpet"
           }
          ],
          "scattergeo": [
           {
            "marker": {
             "colorbar": {
              "outlinewidth": 0,
              "ticks": ""
             }
            },
            "type": "scattergeo"
           }
          ],
          "scattergl": [
           {
            "marker": {
             "colorbar": {
              "outlinewidth": 0,
              "ticks": ""
             }
            },
            "type": "scattergl"
           }
          ],
          "scattermapbox": [
           {
            "marker": {
             "colorbar": {
              "outlinewidth": 0,
              "ticks": ""
             }
            },
            "type": "scattermapbox"
           }
          ],
          "scatterpolar": [
           {
            "marker": {
             "colorbar": {
              "outlinewidth": 0,
              "ticks": ""
             }
            },
            "type": "scatterpolar"
           }
          ],
          "scatterpolargl": [
           {
            "marker": {
             "colorbar": {
              "outlinewidth": 0,
              "ticks": ""
             }
            },
            "type": "scatterpolargl"
           }
          ],
          "scatterternary": [
           {
            "marker": {
             "colorbar": {
              "outlinewidth": 0,
              "ticks": ""
             }
            },
            "type": "scatterternary"
           }
          ],
          "surface": [
           {
            "colorbar": {
             "outlinewidth": 0,
             "ticks": ""
            },
            "colorscale": [
             [
              0,
              "#0d0887"
             ],
             [
              0.1111111111111111,
              "#46039f"
             ],
             [
              0.2222222222222222,
              "#7201a8"
             ],
             [
              0.3333333333333333,
              "#9c179e"
             ],
             [
              0.4444444444444444,
              "#bd3786"
             ],
             [
              0.5555555555555556,
              "#d8576b"
             ],
             [
              0.6666666666666666,
              "#ed7953"
             ],
             [
              0.7777777777777778,
              "#fb9f3a"
             ],
             [
              0.8888888888888888,
              "#fdca26"
             ],
             [
              1,
              "#f0f921"
             ]
            ],
            "type": "surface"
           }
          ],
          "table": [
           {
            "cells": {
             "fill": {
              "color": "#EBF0F8"
             },
             "line": {
              "color": "white"
             }
            },
            "header": {
             "fill": {
              "color": "#C8D4E3"
             },
             "line": {
              "color": "white"
             }
            },
            "type": "table"
           }
          ]
         },
         "layout": {
          "annotationdefaults": {
           "arrowcolor": "#2a3f5f",
           "arrowhead": 0,
           "arrowwidth": 1
          },
          "autotypenumbers": "strict",
          "coloraxis": {
           "colorbar": {
            "outlinewidth": 0,
            "ticks": ""
           }
          },
          "colorscale": {
           "diverging": [
            [
             0,
             "#8e0152"
            ],
            [
             0.1,
             "#c51b7d"
            ],
            [
             0.2,
             "#de77ae"
            ],
            [
             0.3,
             "#f1b6da"
            ],
            [
             0.4,
             "#fde0ef"
            ],
            [
             0.5,
             "#f7f7f7"
            ],
            [
             0.6,
             "#e6f5d0"
            ],
            [
             0.7,
             "#b8e186"
            ],
            [
             0.8,
             "#7fbc41"
            ],
            [
             0.9,
             "#4d9221"
            ],
            [
             1,
             "#276419"
            ]
           ],
           "sequential": [
            [
             0,
             "#0d0887"
            ],
            [
             0.1111111111111111,
             "#46039f"
            ],
            [
             0.2222222222222222,
             "#7201a8"
            ],
            [
             0.3333333333333333,
             "#9c179e"
            ],
            [
             0.4444444444444444,
             "#bd3786"
            ],
            [
             0.5555555555555556,
             "#d8576b"
            ],
            [
             0.6666666666666666,
             "#ed7953"
            ],
            [
             0.7777777777777778,
             "#fb9f3a"
            ],
            [
             0.8888888888888888,
             "#fdca26"
            ],
            [
             1,
             "#f0f921"
            ]
           ],
           "sequentialminus": [
            [
             0,
             "#0d0887"
            ],
            [
             0.1111111111111111,
             "#46039f"
            ],
            [
             0.2222222222222222,
             "#7201a8"
            ],
            [
             0.3333333333333333,
             "#9c179e"
            ],
            [
             0.4444444444444444,
             "#bd3786"
            ],
            [
             0.5555555555555556,
             "#d8576b"
            ],
            [
             0.6666666666666666,
             "#ed7953"
            ],
            [
             0.7777777777777778,
             "#fb9f3a"
            ],
            [
             0.8888888888888888,
             "#fdca26"
            ],
            [
             1,
             "#f0f921"
            ]
           ]
          },
          "colorway": [
           "#636efa",
           "#EF553B",
           "#00cc96",
           "#ab63fa",
           "#FFA15A",
           "#19d3f3",
           "#FF6692",
           "#B6E880",
           "#FF97FF",
           "#FECB52"
          ],
          "font": {
           "color": "#2a3f5f"
          },
          "geo": {
           "bgcolor": "white",
           "lakecolor": "white",
           "landcolor": "white",
           "showlakes": true,
           "showland": true,
           "subunitcolor": "#C8D4E3"
          },
          "hoverlabel": {
           "align": "left"
          },
          "hovermode": "closest",
          "mapbox": {
           "style": "light"
          },
          "paper_bgcolor": "white",
          "plot_bgcolor": "white",
          "polar": {
           "angularaxis": {
            "gridcolor": "#EBF0F8",
            "linecolor": "#EBF0F8",
            "ticks": ""
           },
           "bgcolor": "white",
           "radialaxis": {
            "gridcolor": "#EBF0F8",
            "linecolor": "#EBF0F8",
            "ticks": ""
           }
          },
          "scene": {
           "xaxis": {
            "backgroundcolor": "white",
            "gridcolor": "#DFE8F3",
            "gridwidth": 2,
            "linecolor": "#EBF0F8",
            "showbackground": true,
            "ticks": "",
            "zerolinecolor": "#EBF0F8"
           },
           "yaxis": {
            "backgroundcolor": "white",
            "gridcolor": "#DFE8F3",
            "gridwidth": 2,
            "linecolor": "#EBF0F8",
            "showbackground": true,
            "ticks": "",
            "zerolinecolor": "#EBF0F8"
           },
           "zaxis": {
            "backgroundcolor": "white",
            "gridcolor": "#DFE8F3",
            "gridwidth": 2,
            "linecolor": "#EBF0F8",
            "showbackground": true,
            "ticks": "",
            "zerolinecolor": "#EBF0F8"
           }
          },
          "shapedefaults": {
           "line": {
            "color": "#2a3f5f"
           }
          },
          "ternary": {
           "aaxis": {
            "gridcolor": "#DFE8F3",
            "linecolor": "#A2B1C6",
            "ticks": ""
           },
           "baxis": {
            "gridcolor": "#DFE8F3",
            "linecolor": "#A2B1C6",
            "ticks": ""
           },
           "bgcolor": "white",
           "caxis": {
            "gridcolor": "#DFE8F3",
            "linecolor": "#A2B1C6",
            "ticks": ""
           }
          },
          "title": {
           "x": 0.05
          },
          "xaxis": {
           "automargin": true,
           "gridcolor": "#EBF0F8",
           "linecolor": "#EBF0F8",
           "ticks": "",
           "title": {
            "standoff": 15
           },
           "zerolinecolor": "#EBF0F8",
           "zerolinewidth": 2
          },
          "yaxis": {
           "automargin": true,
           "gridcolor": "#EBF0F8",
           "linecolor": "#EBF0F8",
           "ticks": "",
           "title": {
            "standoff": 15
           },
           "zerolinecolor": "#EBF0F8",
           "zerolinewidth": 2
          }
         }
        },
        "title": {
         "text": "Distribución de Valores MT - Escenario: scenario_1 Optimizado"
        },
        "xaxis": {
         "anchor": "y",
         "domain": [
          0,
          1
         ],
         "title": {
          "text": "Valor MT"
         }
        },
        "xaxis2": {
         "anchor": "y2",
         "domain": [
          0,
          1
         ],
         "matches": "x",
         "showgrid": true,
         "showticklabels": false
        },
        "yaxis": {
         "anchor": "x",
         "domain": [
          0,
          0.7326
         ],
         "title": {
          "text": "Frecuencia (Número de Pares)"
         }
        },
        "yaxis2": {
         "anchor": "x2",
         "domain": [
          0.7426,
          1
         ],
         "matches": "y2",
         "showgrid": false,
         "showline": false,
         "showticklabels": false,
         "ticks": ""
        }
       }
      }
     },
     "metadata": {},
     "output_type": "display_data"
    },
    {
     "name": "stdout",
     "output_type": "stream",
     "text": [
      "--- Plot generation, saving, and display complete for Scenario: scenario_1 ---\n",
      "\n",
      "--- Analysis Complete for Scenario: scenario_1 ---\n",
      "\n",
      "============================================\n",
      "=== Script Execution Finished ===\n",
      "============================================\n"
     ]
    }
   ],
   "source": [
    "# %% Import Libraries\n",
    "import json\n",
    "import matplotlib.pyplot as plt # Still needed for TMT summary plot if run for all\n",
    "import numpy as np\n",
    "import pandas as pd\n",
    "from collections import defaultdict\n",
    "import os\n",
    "import plotly.graph_objects as go\n",
    "import plotly.express as px\n",
    "import plotly.io as pio\n",
    "import traceback # For detailed error reporting\n",
    "\n",
    "# %% Configuration\n",
    "# Set default Plotly template\n",
    "# --- CORRECTED TEMPLATE NAME ---\n",
    "pio.templates.default = \"plotly_white\" # Standard template for white background\n",
    "# -------------------------------\n",
    "\n",
    "json_file_path = \"/Users/gustavo/Documents/Projects/TESIS_UNAL/ADAPTIVE_ALGORITHM/data/processed/independent_relay_pairs_optimization.json\"\n",
    "# Output directory for results - will be created if it doesn't exist\n",
    "output_dir = \"/Users/gustavo/Documents/Projects/TESIS_UNAL/ADAPTIVE_ALGORITHM/results/coordination_plots\"\n",
    "\n",
    "# Coordination Time Interval (CTI)\n",
    "CTI = 0.2\n",
    "\n",
    "# %% Helper Functions\n",
    "\n",
    "def calculate_MT(tm, tb, cti=CTI):\n",
    "    \"\"\"Calculates the Miscoordination Index (MT) and the time difference delta.\"\"\"\n",
    "    delta_tmb = tb - tm - cti\n",
    "    MT = (delta_tmb - abs(delta_tmb)) / 2\n",
    "    return MT, delta_tmb\n",
    "\n",
    "def analyze_by_scenario(data, cti=CTI):\n",
    "    \"\"\"\n",
    "    Analyzes relay pair data, calculating MT, Delta_t, TMT,\n",
    "    and extracting additional info (line, fault) for each scenario.\n",
    "    Returns a dictionary mapping scenario_id to its analysis results (DataFrame, TMT).\n",
    "    \"\"\"\n",
    "    scenarios = defaultdict(lambda: {\"pairs_data\": []})\n",
    "    print(\"Starting data extraction and processing for scenarios...\")\n",
    "    processed_count = 0\n",
    "    skipped_count = 0\n",
    "    # --- Data Extraction and Initial Processing ---\n",
    "    for idx, relay_pair in enumerate(data):\n",
    "        record_label = f\"Record {idx+1}\"\n",
    "        scenario_id = relay_pair.get(\"scenario_id\")\n",
    "        if not scenario_id:\n",
    "            # print(f\"Warning: Skipping record {idx+1} - Missing 'scenario_id'.\")\n",
    "            skipped_count += 1\n",
    "            continue\n",
    "\n",
    "        record_label = f\"{record_label} (Scenario: {scenario_id})\"\n",
    "        main_relay = relay_pair.get(\"main_relay\")\n",
    "        backup_relay = relay_pair.get(\"backup_relay\")\n",
    "        if not main_relay or not backup_relay:\n",
    "            # print(f\"Warning: Skipping {record_label} - Missing 'main_relay' or 'backup_relay' data.\")\n",
    "            skipped_count += 1\n",
    "            continue\n",
    "\n",
    "        tm_val = main_relay.get(\"Time_out\")\n",
    "        tb_val = backup_relay.get(\"Time_out\")\n",
    "        main_relay_id = main_relay.get(\"relay\", f\"Main_Unknown_{idx+1}\")\n",
    "        backup_relay_id = backup_relay.get(\"relay\", f\"Backup_Unknown_{idx+1}\")\n",
    "        pair_name = f\"{main_relay_id}-{backup_relay_id}\"\n",
    "        record_label = f\"{record_label}, Pair: {pair_name}\"\n",
    "\n",
    "        if tm_val is None or tb_val is None:\n",
    "            # print(f\"Warning: Skipping {record_label} - Missing 'Time_out' for main or backup relay.\")\n",
    "            skipped_count += 1\n",
    "            continue\n",
    "\n",
    "        line_info = relay_pair.get('line', main_relay.get('line', backup_relay.get('line', 'N/A')))\n",
    "        fault_info = relay_pair.get('fault', main_relay.get('fault', backup_relay.get('fault', 'N/A')))\n",
    "\n",
    "        try:\n",
    "             tm_float = float(tm_val)\n",
    "             tb_float = float(tb_val)\n",
    "             if tm_float < 0 or tb_float < 0:\n",
    "                 # print(f\"Warning: Skipping {record_label} - Negative time values detected (Tm={tm_float}, Tb={tb_float}).\")\n",
    "                 skipped_count += 1\n",
    "                 continue\n",
    "             mt, delta_t = calculate_MT(tm_float, tb_float, cti)\n",
    "        except (ValueError, TypeError) as e:\n",
    "             print(f\"Warning: Could not calculate MT for {record_label}. Invalid time values? Tm='{tm_val}', Tb='{tb_val}'. Error: {e}\")\n",
    "             skipped_count += 1\n",
    "             continue\n",
    "\n",
    "        pair_info = {\n",
    "            \"pair_label\": pair_name, \"mt\": mt, \"delta_t\": delta_t,\n",
    "            \"tm\": tm_float, \"tb\": tb_float, \"main_relay_id\": main_relay_id,\n",
    "            \"backup_relay_id\": backup_relay_id, \"line\": line_info,\n",
    "            \"fault\": fault_info, \"status\": \"Coordinado\" if delta_t >= 0 else \"Descoordinado\"\n",
    "        }\n",
    "        scenarios[scenario_id][\"pairs_data\"].append(pair_info)\n",
    "        processed_count += 1\n",
    "\n",
    "    print(f\"Data extraction complete. Processed pairs: {processed_count}, Skipped records/pairs: {skipped_count}\")\n",
    "\n",
    "    # --- Aggregation per Scenario ---\n",
    "    print(\"Aggregating results per scenario...\")\n",
    "    results = {}\n",
    "    all_scenario_ids = sorted(list(scenarios.keys()))\n",
    "\n",
    "    if not all_scenario_ids:\n",
    "        print(\"No scenarios found with valid data after processing.\")\n",
    "        return results\n",
    "\n",
    "    for scenario_id in all_scenario_ids:\n",
    "        scenario_pairs_list = scenarios[scenario_id][\"pairs_data\"]\n",
    "        if not scenario_pairs_list:\n",
    "            # print(f\"Info: Scenario '{scenario_id}' has no valid pairs after processing.\")\n",
    "            continue\n",
    "        try:\n",
    "            df = pd.DataFrame(scenario_pairs_list)\n",
    "            tmt = df[\"mt\"].sum()\n",
    "            results[scenario_id] = {\"detailed_df\": df, \"TMT\": tmt}\n",
    "            # print(f\"Scenario '{scenario_id}' processed. TMT: {tmt:.4f}, Pairs: {len(df)}\")\n",
    "        except Exception as e:\n",
    "            print(f\"Error creating DataFrame or calculating TMT for scenario '{scenario_id}': {e}\")\n",
    "            continue\n",
    "\n",
    "    print(\"Scenario aggregation complete.\")\n",
    "    return results\n",
    "\n",
    "\n",
    "# %% Plotting Functions\n",
    "\n",
    "def plot_scenario_details_plotly(scenario_data_df, scenario_id, output_dir, cti=CTI):\n",
    "    \"\"\"\n",
    "    Generates, SAVES, and DISPLAYS multiple interactive Plotly charts for a scenario:\n",
    "    1. MT Bar Chart\n",
    "    2. Delta_t Bar Chart  <-- NEW\n",
    "    3. Delta_t Scatter Plot\n",
    "    4. MT Histogram\n",
    "    \"\"\"\n",
    "    if not isinstance(scenario_data_df, pd.DataFrame) or scenario_data_df.empty:\n",
    "        print(f\"Plotting skipped for scenario {scenario_id}: No valid DataFrame provided.\")\n",
    "        return\n",
    "\n",
    "    print(f\"\\n--- Generating Plots for Scenario: {scenario_id} ---\")\n",
    "    # Sort by MT for consistent ordering in MT and Delta_t plots\n",
    "    df_sorted_mt = scenario_data_df.sort_values(by='mt', ascending=True).reset_index(drop=True)\n",
    "    df_sorted_mt['plot_index'] = df_sorted_mt.index + 1\n",
    "    tmt = df_sorted_mt[\"mt\"].sum()\n",
    "    n_pairs = len(df_sorted_mt)\n",
    "\n",
    "    # Common hover text generation logic (avoids repetition)\n",
    "    def generate_hover_text(row):\n",
    "        return (f\"<b>{row['pair_label']}</b><br>Índice Plot: {row['plot_index']}<br>\" +\n",
    "                f\"MT: {row['mt']:.4f} | <b>Δt: {row['delta_t']:.4f}s</b><br>\" +\n",
    "                f\"Tm: {row['tm']:.4f}s | Tb: {row['tb']:.4f}s<br>Línea: {row['line']} | Falla: {row['fault']}<br>\" +\n",
    "                f\"Estado: {row['status']}<extra></extra>\")\n",
    "\n",
    "    hover_texts = [generate_hover_text(row) for _, row in df_sorted_mt.iterrows()]\n",
    "\n",
    "    # --- 1. MT Bar Chart (Shows all pairs, positive and negative MT) ---\n",
    "    try:\n",
    "        print(f\"  Generating MT Bar Chart...\")\n",
    "        colors_mt = ['red' if mt < 0 else 'green' for mt in df_sorted_mt['mt']]\n",
    "        fig_mt_bar = go.Figure(data=[go.Bar(\n",
    "            x=df_sorted_mt['plot_index'], y=df_sorted_mt['mt'], marker_color=colors_mt,\n",
    "            name='Índice MT', text=hover_texts, hoverinfo='text'\n",
    "        )])\n",
    "        fig_mt_bar.add_hline(y=0, line_width=1.5, line_dash=\"dash\", line_color=\"black\")\n",
    "        fig_mt_bar.update_layout(\n",
    "            title=f'Índice de Descoordinación (MT) - Escenario: {scenario_id} Optimizado<br><sup>TMT = {tmt:.4f} | Pares = {n_pairs}</sup>',\n",
    "            xaxis_title='Índice del Par de Relés (Ordenado por MT Ascendente)', yaxis_title='Índice MT',\n",
    "            xaxis=dict(tickmode='auto'),\n",
    "            yaxis=dict(gridcolor='lightgrey', zerolinecolor='black', zerolinewidth=1.5),\n",
    "            bargap=0.1, height=max(500, 400 + n_pairs * 5), margin=dict(l=60, r=30, t=100, b=100)\n",
    "        )\n",
    "    except Exception as e:\n",
    "        print(f\"    Error generating MT Bar Chart: {e}\")\n",
    "        fig_mt_bar = None\n",
    "\n",
    "    # --- 2. Delta_t Bar Chart (Shows all pairs, positive and negative Delta_t) --- <<< NEW PLOT\n",
    "    try:\n",
    "        print(f\"  Generating Delta_t Bar Chart...\")\n",
    "        colors_delta = ['red' if delta_t < 0 else 'green' for delta_t in df_sorted_mt['delta_t']]\n",
    "        fig_delta_bar = go.Figure(data=[go.Bar(\n",
    "            x=df_sorted_mt['plot_index'], y=df_sorted_mt['delta_t'], marker_color=colors_delta,\n",
    "            name='Δt (Tb - Tm - CTI)', text=hover_texts, hoverinfo='text'\n",
    "        )])\n",
    "        fig_delta_bar.add_hline(y=0, line_width=1.5, line_dash=\"dash\", line_color=\"black\",\n",
    "                                annotation_text=\"Límite CTI (Δt=0)\", annotation_position=\"bottom right\")\n",
    "        fig_delta_bar.update_layout(\n",
    "            title=f'Diferencia de Tiempo (Δt = Tb - Tm - CTI) - Escenario: {scenario_id} Optimizado<br><sup>CTI = {cti}s</sup>',\n",
    "            xaxis_title='Índice del Par de Relés (Ordenado por MT Ascendente)', yaxis_title='Δt [s]',\n",
    "            xaxis=dict(tickmode='auto'),\n",
    "            yaxis=dict(gridcolor='lightgrey', zerolinecolor='black', zerolinewidth=1.5),\n",
    "            bargap=0.1, height=max(500, 400 + n_pairs * 5), margin=dict(l=60, r=30, t=100, b=100)\n",
    "        )\n",
    "    except Exception as e:\n",
    "        print(f\"    Error generating Delta_t Bar Chart: {e}\")\n",
    "        fig_delta_bar = None\n",
    "\n",
    "    # --- 3. Delta_t Scatter Plot (Shows all pairs, colors by status) ---\n",
    "    try:\n",
    "        print(f\"  Generating Delta_t Scatter Plot...\")\n",
    "        fig_delta_scatter = px.scatter(\n",
    "            df_sorted_mt, x='plot_index', y='delta_t', color='status',\n",
    "            color_discrete_map={'Coordinado': 'green', 'Descoordinado': 'red'},\n",
    "            hover_data={'plot_index': False, 'pair_label': True, 'delta_t': ':.4f', 'mt': ':.4f',\n",
    "                        'tm': ':.4f', 'tb': ':.4f', 'line': True, 'fault': True, 'status': True},\n",
    "            title=f'Diferencia de Tiempo (Δt vs Índice) - Escenario: {scenario_id} Optimizado<br><sup>CTI = {cti}s</sup>'\n",
    "        )\n",
    "        fig_delta_scatter.add_hline(y=0, line_width=1.5, line_dash=\"dash\", line_color=\"black\",\n",
    "                                     annotation_text=\"Límite CTI (Δt=0)\", annotation_position=\"bottom right\")\n",
    "        fig_delta_scatter.update_layout(\n",
    "            xaxis_title='Índice del Par de Relés (Ordenado por MT Ascendente)', yaxis_title='Δt (Tb - Tm - CTI) [s]',\n",
    "            xaxis=dict(tickmode='auto'), yaxis=dict(gridcolor='lightgrey', zerolinecolor='black', zerolinewidth=1.5),\n",
    "            legend_title_text='Estado Coordinación'\n",
    "        )\n",
    "        fig_delta_scatter.update_traces(marker=dict(size=8, opacity=0.7), selector=dict(mode='markers'))\n",
    "    except Exception as e:\n",
    "        print(f\"    Error generating Delta_t Scatter Plot: {e}\")\n",
    "        fig_delta_scatter = None\n",
    "\n",
    "    # --- 4. MT Histogram ---\n",
    "    try:\n",
    "        print(f\"  Generating MT Histogram...\")\n",
    "        fig_mt_hist = px.histogram(\n",
    "            df_sorted_mt, x='mt', color='status',\n",
    "            color_discrete_map={'Coordinado': 'green', 'Descoordinado': 'red'},\n",
    "            marginal='box', nbins=max(10, n_pairs // 5),\n",
    "            title=f\"Distribución de Valores MT - Escenario: {scenario_id} Optimizado\"\n",
    "        )\n",
    "        fig_mt_hist.update_layout(\n",
    "            xaxis_title='Valor MT', yaxis_title='Frecuencia (Número de Pares)',\n",
    "            legend_title_text='Estado Coordinación', bargap=0.1\n",
    "        )\n",
    "    except Exception as e:\n",
    "        print(f\"    Error generating MT Histogram: {e}\")\n",
    "        fig_mt_hist = None\n",
    "\n",
    "    # --- Save Plots ---\n",
    "    plots_to_save = {\n",
    "        \"mt_bar\": fig_mt_bar,\n",
    "        \"delta_bar\": fig_delta_bar, # <<< Added new plot\n",
    "        \"delta_scatter\": fig_delta_scatter,\n",
    "        \"mt_histogram\": fig_mt_hist\n",
    "    }\n",
    "    print(f\"  Saving plots for {scenario_id}...\")\n",
    "    kaleido_error_shown = False\n",
    "    for name, fig in plots_to_save.items():\n",
    "        if fig is None:\n",
    "            print(f\"    Skipping saving/display for '{name}' plot (generation failed).\")\n",
    "            continue\n",
    "        base_filename = os.path.join(output_dir, f\"{scenario_id}_{name}\") # Use os.path.join\n",
    "        html_filename = f\"{base_filename}.html\"\n",
    "        png_filename = f\"{base_filename}.png\"\n",
    "\n",
    "        # Save HTML\n",
    "        try: fig.write_html(html_filename)\n",
    "        except Exception as e: print(f\"    Error saving HTML plot '{html_filename}': {e}\")\n",
    "\n",
    "        # Save PNG (optional, requires kaleido)\n",
    "        try: fig.write_image(png_filename, scale=2)\n",
    "        except ValueError as e:\n",
    "            if \"kaleido\" in str(e) and not kaleido_error_shown:\n",
    "                print(\"\\n    Info: Install kaleido for static PNG export: pip install -U kaleido\")\n",
    "                print(\"    Skipping further PNG saving attempts if Kaleido is missing.\\n\")\n",
    "                kaleido_error_shown = True\n",
    "            elif \"kaleido\" not in str(e): print(f\"    Error saving static image '{png_filename}': {e}\")\n",
    "        except Exception as e: print(f\"    Unexpected error saving static image '{png_filename}': {e}\")\n",
    "\n",
    "        # --- DISPLAY PLOT IN JUPYTER/OUTPUT ---\n",
    "        print(f\"    Displaying {name} plot...\")\n",
    "        fig.show() # This line displays the plot in the notebook output or default browser\n",
    "        # ---------------------------------\n",
    "\n",
    "    print(f\"--- Plot generation, saving, and display complete for Scenario: {scenario_id} ---\")\n",
    "\n",
    "\n",
    "# %% Main Execution Logic - Focused on Single Scenario\n",
    "\n",
    "def main_analyze_single_scenario(data, scenario_id_to_analyze, cti=CTI):\n",
    "    \"\"\"\n",
    "    Loads data, performs analysis, generates detailed table, stats, and plots\n",
    "    SPECIFICALLY for the given scenario_id_to_analyze.\n",
    "    \"\"\"\n",
    "    print(f\"--- Starting Analysis for Single Scenario: {scenario_id_to_analyze} ---\")\n",
    "    print(f\"Using CTI = {cti}s\")\n",
    "\n",
    "    # --- Ensure Output Directory Exists ---\n",
    "    try:\n",
    "        os.makedirs(output_dir, exist_ok=True)\n",
    "        print(f\"Results will be saved in: {output_dir}\")\n",
    "    except OSError as e:\n",
    "        print(f\"Error: Could not create output directory '{output_dir}'. Check permissions. Error: {e}\")\n",
    "        return\n",
    "\n",
    "    # --- Analyze Data (for all scenarios, then filter) ---\n",
    "    all_results = analyze_by_scenario(data, cti)\n",
    "\n",
    "    if not all_results:\n",
    "        print(\"Error: Analysis yielded no results. Please check input data and analysis function.\")\n",
    "        return\n",
    "\n",
    "    # --- Detailed Analysis for the Specified Scenario ---\n",
    "    if scenario_id_to_analyze in all_results:\n",
    "        print(f\"\\n--- Processing Detailed Analysis for: {scenario_id_to_analyze} ---\")\n",
    "        scenario_result = all_results[scenario_id_to_analyze]\n",
    "        detailed_df = scenario_result.get(\"detailed_df\")\n",
    "\n",
    "        if detailed_df is not None and not detailed_df.empty:\n",
    "            try:\n",
    "                detailed_df_sorted = detailed_df.sort_values(by=\"mt\", ascending=True).reset_index(drop=True)\n",
    "            except KeyError:\n",
    "                 print(f\"Error: 'mt' column not found in DataFrame for scenario {scenario_id_to_analyze}. Cannot proceed.\")\n",
    "                 return\n",
    "\n",
    "            # --- Print Coordination Summary Statistics ---\n",
    "            print(\"\\n--- Resumen de Coordinación ---\") # <<< Renamed section for clarity\n",
    "            n_total = len(detailed_df_sorted)\n",
    "            n_coord = len(detailed_df_sorted[detailed_df_sorted['status'] == 'Coordinado'])\n",
    "            n_descoord = n_total - n_coord\n",
    "            coord_pct = (n_coord / n_total * 100) if n_total > 0 else 0\n",
    "            descoord_pct = (n_descoord / n_total * 100) if n_total > 0 else 0\n",
    "            print(f\"Total Pares Analizados: {n_total}\")\n",
    "            print(f\"Pares Coordinados (Δt >= 0): {n_coord} ({coord_pct:.1f}%)\") # <<< Shows count and percentage\n",
    "            print(f\"Pares Descoordinados (Δt < 0): {n_descoord} ({descoord_pct:.1f}%)\") # <<< Shows count and percentage\n",
    "\n",
    "            print(\"\\n--- Estadísticas del Índice MT ---\")\n",
    "            try:\n",
    "                print(detailed_df_sorted['mt'].describe().to_string())\n",
    "            except Exception as e:\n",
    "                print(f\"  Could not generate MT statistics: {e}\")\n",
    "            print(f\"TMT (Suma MT): {scenario_result.get('TMT', 0):.5f}\")\n",
    "\n",
    "            # --- Identify and Print Worst Coordinated Pair --- <<< MODIFIED SECTION\n",
    "            uncoordinated_pairs = detailed_df_sorted[detailed_df_sorted['status'] == 'Descoordinado']\n",
    "            if not uncoordinated_pairs.empty:\n",
    "                # Find the single worst pair (minimum MT)\n",
    "                worst_pair = uncoordinated_pairs.loc[uncoordinated_pairs['mt'].idxmin()]\n",
    "\n",
    "                print(\"\\n--- Par Más Descoordinado (Peor MT) ---\") # <<< Specific heading\n",
    "                print(f\"Par (P-R): {worst_pair['pair_label']}\")\n",
    "                print(f\"MT:        {worst_pair['mt']:.4f}\")\n",
    "                print(f\"Δt:        {worst_pair['delta_t']:.4f} s\")\n",
    "                print(f\"Tm:        {worst_pair['tm']:.4f} s\")\n",
    "                print(f\"Tb:        {worst_pair['tb']:.4f} s\")\n",
    "                print(f\"Línea:     {worst_pair['line']}\")\n",
    "                print(f\"Falla:     {worst_pair['fault']}\")\n",
    "\n",
    "                # --- Optionally print Top 10 list as before ---\n",
    "                print(\"\\n--- Top 10 Pares con Mayor Descoordinación (Ordenados por Peor MT) ---\")\n",
    "                worst_pairs_display = uncoordinated_pairs.head(10)\n",
    "                display_cols = ['pair_label', 'mt', 'delta_t', 'tm', 'tb', 'line', 'fault']\n",
    "                existing_display_cols = [col for col in display_cols if col in worst_pairs_display.columns]\n",
    "                # Create a copy to avoid SettingWithCopyWarning\n",
    "                worst_pairs_display_formatted = worst_pairs_display[existing_display_cols].copy()\n",
    "                worst_pairs_display_formatted = worst_pairs_display_formatted.rename(\n",
    "                    columns={'pair_label': 'Par (P-R)', 'delta_t': 'Δt', 'line': 'Línea', 'fault': 'Falla'})\n",
    "                float_cols = worst_pairs_display_formatted.select_dtypes(include=['float']).columns\n",
    "                for col in float_cols:\n",
    "                     worst_pairs_display_formatted[col] = worst_pairs_display_formatted[col].map('{:.4f}'.format)\n",
    "                pd.set_option('display.max_rows', 20)\n",
    "                pd.set_option('display.width', 120)\n",
    "                print(worst_pairs_display_formatted.to_string(index=False))\n",
    "            else:\n",
    "                print(\"\\n--- ¡Excelente! No se encontraron pares descoordinados en este escenario. ---\")\n",
    "\n",
    "            # --- Save Detailed DataFrame to CSV ---\n",
    "            csv_filename = os.path.join(output_dir, f\"{scenario_id_to_analyze}_detailed_results.csv\") # Use os.path.join\n",
    "            print(f\"\\nSaving detailed results to CSV: {csv_filename}\")\n",
    "            try:\n",
    "                detailed_df_sorted.to_csv(csv_filename, index=False, encoding='utf-8-sig')\n",
    "                print(f\"  Successfully saved.\")\n",
    "            except Exception as e:\n",
    "                print(f\"  Error saving detailed CSV: {e}\")\n",
    "\n",
    "            # --- Generate AND DISPLAY Plotly Plots ---\n",
    "            plot_scenario_details_plotly(detailed_df_sorted, scenario_id_to_analyze, output_dir, cti)\n",
    "\n",
    "        else:\n",
    "            print(f\"No valid pair data found in DataFrame to generate table or plots for {scenario_id_to_analyze}.\")\n",
    "\n",
    "    else:\n",
    "        print(f\"Error: El escenario '{scenario_id_to_analyze}' especificado no se encontró en los resultados del análisis.\")\n",
    "        available_scenarios = list(all_results.keys()) if all_results else \"None\"\n",
    "        print(f\"Available scenarios found: {available_scenarios}\")\n",
    "\n",
    "    print(f\"\\n--- Analysis Complete for Scenario: {scenario_id_to_analyze} ---\")\n",
    "\n",
    "\n",
    "# %% Script Entry Point - Execute Analysis for Scenario 1\n",
    "\n",
    "if __name__ == \"__main__\":\n",
    "    # This block executes when the script is run directly (or a cell in Jupyter)\n",
    "    print(\"============================================\")\n",
    "    print(\"=== Relay Coordination Analysis Script ===\")\n",
    "    print(\"===       Mode: Analyze Scenario 1       ===\")\n",
    "    print(\"============================================\")\n",
    "\n",
    "    # --- Create dummy data and directory for execution if file doesn't exist ---\n",
    "    # This is just for demonstration if the actual file isn't available in the environment\n",
    "    # You should REPLACE json_file_path and output_dir with your actual paths above.\n",
    "    if not os.path.exists(os.path.dirname(json_file_path)):\n",
    "         os.makedirs(os.path.dirname(json_file_path), exist_ok=True)\n",
    "         print(f\"Created dummy directory: {os.path.dirname(json_file_path)}\")\n",
    "\n",
    "    if not os.path.exists(json_file_path):\n",
    "        print(f\"Warning: JSON file '{json_file_path}' not found. Creating a dummy file for demonstration.\")\n",
    "        dummy_data = [\n",
    "            {\"scenario_id\": \"scenario_1\", \"main_relay\": {\"relay\": \"P1\", \"Time_out\": 0.1, \"line\": \"L1\", \"fault\": \"F1\"}, \"backup_relay\": {\"relay\": \"R1\", \"Time_out\": 0.35}}, # Coordinated dt=0.05\n",
    "            {\"scenario_id\": \"scenario_1\", \"main_relay\": {\"relay\": \"P2\", \"Time_out\": 0.2, \"line\": \"L2\", \"fault\": \"F1\"}, \"backup_relay\": {\"relay\": \"R2\", \"Time_out\": 0.3}}, # Uncoordinated dt=-0.1, mt=-0.1\n",
    "            {\"scenario_id\": \"scenario_1\", \"main_relay\": {\"relay\": \"P3\", \"Time_out\": 0.15, \"line\": \"L1\", \"fault\": \"F2\"}, \"backup_relay\": {\"relay\": \"R3\", \"Time_out\": 0.25}}, # Uncoordinated dt=-0.1, mt=-0.1\n",
    "            {\"scenario_id\": \"scenario_1\", \"main_relay\": {\"relay\": \"P4\", \"Time_out\": 0.25, \"line\": \"L3\", \"fault\": \"F3\"}, \"backup_relay\": {\"relay\": \"R4\", \"Time_out\": 0.3}}, # Uncoordinated dt=-0.15, mt=-0.15 <- Worst\n",
    "            {\"scenario_id\": \"scenario_1\", \"main_relay\": {\"relay\": \"P5\", \"Time_out\": 0.3, \"line\": \"L2\", \"fault\": \"F2\"}, \"backup_relay\": {\"relay\": \"R5\", \"Time_out\": 0.6}}, # Coordinated dt=0.1\n",
    "            {\"scenario_id\": \"scenario_2\", \"main_relay\": {\"relay\": \"P6\", \"Time_out\": 0.1, \"line\": \"L4\", \"fault\": \"F4\"}, \"backup_relay\": {\"relay\": \"R6\", \"Time_out\": 0.4}}  # Different scenario\n",
    "        ]\n",
    "        try:\n",
    "            with open(json_file_path, 'w', encoding='utf-8') as f:\n",
    "                json.dump(dummy_data, f, indent=2)\n",
    "            print(f\"Successfully created dummy file: {json_file_path}\")\n",
    "        except Exception as e:\n",
    "            print(f\"Error creating dummy file: {e}\")\n",
    "            # Exit if dummy file creation fails and original wasn't found\n",
    "            exit() # Or handle differently\n",
    "\n",
    "    # --- Main execution ---\n",
    "    try:\n",
    "        print(f\"Attempting to load data from: {json_file_path}\")\n",
    "        if not os.path.exists(json_file_path):\n",
    "             abs_path = os.path.abspath(json_file_path)\n",
    "             raise FileNotFoundError(f\"JSON file not found: '{json_file_path}' (Absolute: '{abs_path}')\")\n",
    "        if not os.path.isfile(json_file_path):\n",
    "             raise FileNotFoundError(f\"Specified path is not a file: '{json_file_path}'\")\n",
    "\n",
    "        with open(json_file_path, 'r', encoding='utf-8') as file:\n",
    "            first_char = file.read(1)\n",
    "            if not first_char: raise ValueError(\"JSON file appears to be empty.\")\n",
    "            file.seek(0) # Rewind after checking\n",
    "            data = json.load(file)\n",
    "\n",
    "        if not isinstance(data, list):\n",
    "            raise TypeError(f\"Expected JSON root to be a List '[]', found type '{type(data)}'. Check JSON structure.\")\n",
    "        if not data:\n",
    "             print(\"Warning: JSON file loaded, but the list is empty. No data to analyze.\")\n",
    "             # Decide if exiting is appropriate\n",
    "             # exit() # Exit if no data - or remove this to let it proceed and show no results\n",
    "\n",
    "        print(f\"Successfully loaded {len(data)} records from JSON.\")\n",
    "\n",
    "        # --- Run the main analysis function, focusing ONLY on scenario_1 ---\n",
    "        TARGET_SCENARIO = \"scenario_1\"\n",
    "        # Check if data was loaded before proceeding\n",
    "        if data:\n",
    "            main_analyze_single_scenario(data, scenario_id_to_analyze=TARGET_SCENARIO, cti=CTI)\n",
    "        else:\n",
    "            print(\"Skipping analysis as no data was loaded.\")\n",
    "\n",
    "\n",
    "    # --- Exception Handling ---\n",
    "    except FileNotFoundError as e: print(f\"\\n--- Error ---\\nFile Not Found: {e}\\n*** Please ensure the 'json_file_path' variable is set correctly at the top of the script. ***\")\n",
    "    except ValueError as e: print(f\"\\n--- Error ---\\nValue Error: {e}\") # Catch empty file error\n",
    "    except TypeError as e: print(f\"\\n--- Error ---\\nType Error: {e}\") # Catch wrong JSON root type\n",
    "    except json.JSONDecodeError as e: print(f\"\\n--- Error ---\\nJSON Decode Error: {e.msg} at Line {e.lineno}, Col {e.colno}. Check JSON syntax.\")\n",
    "    except KeyError as e: print(f\"\\n--- Error ---\\nMissing Key Error: Required key {e} not found in the JSON data. Check data structure consistency.\")\n",
    "    except Exception as e:\n",
    "        print(f\"\\n--- An Unexpected Error Occurred ---\")\n",
    "        print(f\"Error Type: {type(e).__name__}\")\n",
    "        print(f\"Error Details: {str(e)}\")\n",
    "        print(\"\\n--- Traceback ---\")\n",
    "        traceback.print_exc()\n",
    "        print(\"-----------------\")\n",
    "\n",
    "    print(\"\\n============================================\")\n",
    "    print(\"=== Script Execution Finished ===\")\n",
    "    print(\"============================================\")"
   ]
  },
  {
   "cell_type": "markdown",
   "metadata": {},
   "source": [
    "# 🚀🚀🚀"
   ]
  },
  {
   "cell_type": "markdown",
   "metadata": {},
   "source": [
    "# Analisys"
   ]
  },
  {
   "cell_type": "code",
   "execution_count": 10,
   "metadata": {},
   "outputs": [
    {
     "name": "stdout",
     "output_type": "stream",
     "text": [
      "Cargando datos desde: /Users/gustavo/Documents/Projects/TESIS_UNAL/ADAPTIVE_ALGORITHM/data/processed/independent_relay_pairs_optimization_paper.json\n",
      "Error CRÍTICO: No se pudo encontrar el archivo de entrada: /Users/gustavo/Documents/Projects/TESIS_UNAL/ADAPTIVE_ALGORITHM/data/processed/independent_relay_pairs_optimization_paper.json\n"
     ]
    }
   ],
   "source": [
    "import json\n",
    "import os\n",
    "import copy\n",
    "import plotly.express as px\n",
    "import plotly.graph_objects as go\n",
    "import pandas as pd\n",
    "import numpy as np\n",
    "\n",
    "# --- Constantes ---\n",
    "CTI = 0.2  # Intervalo de tiempo de coordinación típico (en segundos)\n",
    "\n",
    "# --- Ruta del archivo ---\n",
    "input_file = \"/Users/gustavo/Documents/Projects/TESIS_UNAL/ADAPTIVE_ALGORITHM/data/processed/independent_relay_pairs_optimization_paper.json\"\n",
    "\n",
    "def analyze_all_scenarios():\n",
    "    try:\n",
    "        # 1. Cargar el archivo JSON\n",
    "        print(f\"Cargando datos desde: {input_file}\")\n",
    "        with open(input_file, 'r') as f:\n",
    "            relay_pairs_data = json.load(f)\n",
    "        \n",
    "        if not isinstance(relay_pairs_data, list):\n",
    "            raise TypeError(f\"Error: El archivo {input_file} no contiene una lista JSON.\")\n",
    "        \n",
    "        # Diccionarios para almacenar datos por escenario\n",
    "        scenario_results = {}  # Estructura: {scenario_id: {'tmt': valor, 'coordinated': cantidad, 'uncoordinated': cantidad}}\n",
    "        \n",
    "        # 2. Procesar cada par y agrupar por escenario\n",
    "        print(\"Calculando TMT por escenario...\")\n",
    "        total_pairs_read = 0\n",
    "        skipped_pairs_count = 0\n",
    "        \n",
    "        for pair_entry in relay_pairs_data:\n",
    "            total_pairs_read += 1\n",
    "            if not isinstance(pair_entry, dict):\n",
    "                skipped_pairs_count += 1\n",
    "                continue\n",
    "            \n",
    "            scenario_id = pair_entry.get(\"scenario_id\")\n",
    "            if not scenario_id:\n",
    "                skipped_pairs_count += 1\n",
    "                continue\n",
    "                \n",
    "            # Inicializar datos del escenario si es la primera vez\n",
    "            if scenario_id not in scenario_results:\n",
    "                scenario_results[scenario_id] = {\n",
    "                    'tmt': 0, \n",
    "                    'coordinated': 0, \n",
    "                    'uncoordinated': 0,\n",
    "                    'total_valid': 0\n",
    "                }\n",
    "            \n",
    "            # Obtener información de los relés\n",
    "            main_relay_info = pair_entry.get('main_relay')\n",
    "            backup_relay_info = pair_entry.get('backup_relay')\n",
    "            \n",
    "            if not isinstance(main_relay_info, dict) or not isinstance(backup_relay_info, dict):\n",
    "                skipped_pairs_count += 1\n",
    "                continue\n",
    "                \n",
    "            # Obtener tiempos de operación\n",
    "            main_time = main_relay_info.get('Time_out')\n",
    "            backup_time = backup_relay_info.get('Time_out')\n",
    "            \n",
    "            # Validar que los tiempos son números\n",
    "            if not isinstance(main_time, (int, float)) or not isinstance(backup_time, (int, float)):\n",
    "                skipped_pairs_count += 1\n",
    "                continue\n",
    "                \n",
    "            # Cálculos\n",
    "            delta_t = backup_time - main_time - CTI\n",
    "            mt = (delta_t - abs(delta_t)) / 2  # Penalización solo si delta_t es negativo\n",
    "            \n",
    "            # Actualizar resultados del escenario\n",
    "            scenario_results[scenario_id]['tmt'] += mt\n",
    "            scenario_results[scenario_id]['total_valid'] += 1\n",
    "            \n",
    "            if delta_t >= 0:\n",
    "                scenario_results[scenario_id]['coordinated'] += 1\n",
    "            else:\n",
    "                scenario_results[scenario_id]['uncoordinated'] += 1\n",
    "        \n",
    "        # 3. Preparar datos para graficar\n",
    "        data_for_chart = []\n",
    "        for scenario, data in scenario_results.items():\n",
    "            data_for_chart.append({\n",
    "                'Escenario': scenario,\n",
    "                'TMT': data['tmt'],\n",
    "                'Pares Coordinados': data['coordinated'],\n",
    "                'Pares Descoordinados': data['uncoordinated'],\n",
    "                'Total Pares Válidos': data['total_valid'],\n",
    "                'Porcentaje Coordinación': 100 * data['coordinated'] / data['total_valid'] if data['total_valid'] > 0 else 0\n",
    "            })\n",
    "        \n",
    "        # Convertir a DataFrame y ordenar por nombre de escenario\n",
    "        df = pd.DataFrame(data_for_chart)\n",
    "        df = df.sort_values(by='Escenario')\n",
    "        \n",
    "        # 4. Crear gráfico de barras con Plotly\n",
    "        fig = px.bar(\n",
    "            df, \n",
    "            x='Escenario', \n",
    "            y='TMT',\n",
    "            text='TMT',\n",
    "            color='TMT',\n",
    "            color_continuous_scale='Viridis',\n",
    "            title='Penalización Total por Descoordinación (TMT) por Escenario',\n",
    "            labels={'TMT': 'Total Miscoordination Time'},\n",
    "            hover_data=['Pares Coordinados', 'Pares Descoordinados', 'Total Pares Válidos', 'Porcentaje Coordinación']\n",
    "        )\n",
    "        \n",
    "        # Personalizar el gráfico\n",
    "        fig.update_traces(\n",
    "            texttemplate='%{text:.5f}',\n",
    "            textposition='outside'\n",
    "        )\n",
    "        \n",
    "        fig.update_layout(\n",
    "            xaxis_title='Escenarios',\n",
    "            yaxis_title='TMT (Total Miscoordination Time)',\n",
    "            xaxis={'categoryorder': 'array', 'categoryarray': df['Escenario'].tolist()},\n",
    "            font=dict(size=12),\n",
    "            height=600,\n",
    "            width=1000\n",
    "        )\n",
    "        \n",
    "        # 5. Crear un segundo gráfico: porcentaje de coordinación\n",
    "        fig2 = px.bar(\n",
    "            df,\n",
    "            x='Escenario',\n",
    "            y='Porcentaje Coordinación',\n",
    "            text='Porcentaje Coordinación',\n",
    "            color='Porcentaje Coordinación',\n",
    "            color_continuous_scale='Turbo',\n",
    "            title='Porcentaje de Pares Coordinados por Escenario',\n",
    "            labels={'Porcentaje Coordinación': 'Porcentaje de Coordinación (%)'},\n",
    "            hover_data=['Pares Coordinados', 'Pares Descoordinados', 'Total Pares Válidos', 'TMT']\n",
    "        )\n",
    "        \n",
    "        fig2.update_traces(\n",
    "            texttemplate='%{text:.1f}%',\n",
    "            textposition='outside'\n",
    "        )\n",
    "        \n",
    "        fig2.update_layout(\n",
    "            xaxis_title='Escenarios',\n",
    "            yaxis_title='Porcentaje de Coordinación (%)',\n",
    "            xaxis={'categoryorder': 'array', 'categoryarray': df['Escenario'].tolist()},\n",
    "            font=dict(size=12),\n",
    "            height=600,\n",
    "            width=1000\n",
    "        )\n",
    "        \n",
    "        # 5. Mostrar tabla de resultados\n",
    "        print(\"\\n--- Resultados por Escenario ---\")\n",
    "        print(f\"{'Escenario':<15} {'Pares Válidos':<15} {'Coordinados':<15} {'Descoordinados':<15} {'% Coordin.':<15} {'TMT':<15}\")\n",
    "        print(\"-\" * 90)\n",
    "        \n",
    "        for index, row in df.iterrows():\n",
    "            print(f\"{row['Escenario']:<15} {int(row['Total Pares Válidos']):<15} {int(row['Pares Coordinados']):<15} {int(row['Pares Descoordinados']):<15} {row['Porcentaje Coordinación']:.1f}%{' ':<10} {row['TMT']:.5f}\")\n",
    "        \n",
    "        print(f\"\\nTotal de pares leídos: {total_pairs_read}\")\n",
    "        print(f\"Pares omitidos (datos inválidos/faltantes): {skipped_pairs_count}\")\n",
    "        \n",
    "        # Guardar los gráficos antes de mostrarlos\n",
    "        output_dir = os.path.dirname(input_file)\n",
    "        \n",
    "        # Guardar el primer gráfico (TMT)\n",
    "        output_file_tmt = os.path.join(output_dir, \"tmt_by_scenario.html\")\n",
    "        fig.write_html(output_file_tmt)\n",
    "        print(f\"\\nGráfico de TMT guardado en: {output_file_tmt}\")\n",
    "        \n",
    "        # Guardar el segundo gráfico (% Coordinación)\n",
    "        output_file_coord = os.path.join(output_dir, \"coordination_percentage_by_scenario.html\")\n",
    "        fig2.write_html(output_file_coord)\n",
    "        print(f\"Gráfico de Porcentaje de Coordinación guardado en: {output_file_coord}\")\n",
    "        \n",
    "        # Mostrar los gráficos\n",
    "        fig.show()\n",
    "        fig2.show()\n",
    "        \n",
    "    except FileNotFoundError:\n",
    "        print(f\"Error CRÍTICO: No se pudo encontrar el archivo de entrada: {input_file}\")\n",
    "    except TypeError as e:\n",
    "        print(f\"Error CRÍTICO: Problema con el tipo de datos esperado en el archivo JSON: {e}\")\n",
    "    except json.JSONDecodeError as e:\n",
    "        print(f\"Error CRÍTICO: El archivo de entrada JSON ({input_file}) está mal formado: {e}\")\n",
    "    except Exception as e:\n",
    "        import traceback\n",
    "        print(f\"Error inesperado durante el procesamiento: {e}\")\n",
    "        print(\"--- Traceback ---\")\n",
    "        traceback.print_exc()\n",
    "        print(\"-----------------\")\n",
    "        \n",
    "if __name__ == \"__main__\":\n",
    "    analyze_all_scenarios()\n"
   ]
  },
  {
   "cell_type": "code",
   "execution_count": null,
   "metadata": {},
   "outputs": [],
   "source": []
  }
 ],
 "metadata": {
  "kernelspec": {
   "display_name": "Python 3",
   "language": "python",
   "name": "python3"
  },
  "language_info": {
   "codemirror_mode": {
    "name": "ipython",
    "version": 3
   },
   "file_extension": ".py",
   "mimetype": "text/x-python",
   "name": "python",
   "nbconvert_exporter": "python",
   "pygments_lexer": "ipython3",
   "version": "3.11.11"
  }
 },
 "nbformat": 4,
 "nbformat_minor": 2
}
