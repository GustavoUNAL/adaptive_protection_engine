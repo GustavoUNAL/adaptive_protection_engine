{
 "cells": [
  {
   "cell_type": "markdown",
   "metadata": {},
   "source": [
    "# Anlisis detallado escenario base"
   ]
  },
  {
   "cell_type": "code",
   "execution_count": 7,
   "metadata": {},
   "outputs": [
    {
     "name": "stdout",
     "output_type": "stream",
     "text": [
      "============================================\n",
      "=== Relay Coordination Analysis Script ===\n",
      "===       Mode: Analyze Scenario 1       ===\n",
      "============================================\n",
      "Attempting to load data from: /Users/gustavo/Documents/Projects/TESIS_UNAL/ADAPTIVE_ALGORITHM/data/processed/independent_relay_pairs_transformer.json\n",
      "Successfully loaded 6800 records from JSON.\n",
      "--- Starting Analysis for Single Scenario: scenario_40 ---\n",
      "Using CTI = 0.2s\n",
      "Results will be saved in: /Users/gustavo/Documents/Projects/TESIS_UNAL/ADAPTIVE_ALGORITHM/results/stransformer_coordination_plots\n",
      "Starting data extraction and processing for scenarios...\n",
      "Data extraction complete. Processed pairs: 6800, Skipped records/pairs: 0\n",
      "Aggregating results per scenario...\n",
      "Scenario aggregation complete.\n",
      "\n",
      "--- Processing Detailed Analysis for: scenario_40 ---\n",
      "\n",
      "--- Resumen de Coordinación ---\n",
      "Total Pares Analizados: 100\n",
      "Pares Coordinados (Δt >= 0): 82 (82.0%)\n",
      "Pares Descoordinados (Δt < 0): 18 (18.0%)\n",
      "\n",
      "--- Estadísticas del Índice MT ---\n",
      "count    100.000000\n",
      "mean      -0.037127\n",
      "std        0.174351\n",
      "min       -1.320700\n",
      "25%        0.000000\n",
      "50%        0.000000\n",
      "75%        0.000000\n",
      "max        0.000000\n",
      "TMT (Suma MT): -3.71270\n",
      "\n",
      "--- Par Más Descoordinado (Peor MT) ---\n",
      "Par (P-R): R9-R71\n",
      "MT:        -1.3207\n",
      "Δt:        -1.3207 s\n",
      "Tm:        2.2753 s\n",
      "Tb:        1.1546 s\n",
      "Línea:     L9-10\n",
      "Falla:     10\n",
      "\n",
      "--- Top 10 Pares con Mayor Descoordinación (Ordenados por Peor MT) ---\n",
      "Par (P-R)      mt      Δt     tm     tb  Línea Falla\n",
      "   R9-R71 -1.3207 -1.3207 2.2753 1.1546  L9-10    10\n",
      "  R45-R46 -0.9955 -0.9955 2.1973 1.4018   L8-9    90\n",
      "  R45-R71 -0.4686 -0.4686 2.2612 1.9926   L8-9    90\n",
      "    R2-R1 -0.3587 -0.3587 1.9838 1.8251   L2-3    10\n",
      "   R33-R7 -0.1731 -0.1731 1.6760 1.7029  L8-21    10\n",
      "  R46-R47 -0.1564 -0.1564 0.2068 0.2504  L9-10    90\n",
      "  R14-R13 -0.0580 -0.0580 2.4242 2.5662 L14-15    10\n",
      "  R20-R19 -0.0488 -0.0488 1.0663 1.2175 L20-21    10\n",
      "  R13-R12 -0.0445 -0.0445 2.3570 2.5125 L13-14    10\n",
      "  R12-R11 -0.0287 -0.0287 2.1414 2.3127 L12-13    10\n",
      "\n",
      "Saving detailed results to CSV: /Users/gustavo/Documents/Projects/TESIS_UNAL/ADAPTIVE_ALGORITHM/results/stransformer_coordination_plots/scenario_40_detailed_results.csv\n",
      "  Successfully saved.\n",
      "\n",
      "--- Generating Plots for Scenario: scenario_40 ---\n",
      "  Generating MT Bar Chart...\n",
      "  Generating Delta_t Bar Chart...\n",
      "  Generating Delta_t Scatter Plot...\n",
      "  Generating MT Histogram...\n",
      "  Saving plots for scenario_40...\n",
      "    Displaying mt_bar plot...\n"
     ]
    },
    {
     "data": {
      "application/vnd.plotly.v1+json": {
       "config": {
        "plotlyServerURL": "https://plot.ly"
       },
       "data": [
        {
         "hoverinfo": "text",
         "marker": {
          "color": [
           "red",
           "red",
           "red",
           "red",
           "red",
           "red",
           "red",
           "red",
           "red",
           "red",
           "red",
           "red",
           "red",
           "red",
           "red",
           "red",
           "red",
           "red",
           "green",
           "green",
           "green",
           "green",
           "green",
           "green",
           "green",
           "green",
           "green",
           "green",
           "green",
           "green",
           "green",
           "green",
           "green",
           "green",
           "green",
           "green",
           "green",
           "green",
           "green",
           "green",
           "green",
           "green",
           "green",
           "green",
           "green",
           "green",
           "green",
           "green",
           "green",
           "green",
           "green",
           "green",
           "green",
           "green",
           "green",
           "green",
           "green",
           "green",
           "green",
           "green",
           "green",
           "green",
           "green",
           "green",
           "green",
           "green",
           "green",
           "green",
           "green",
           "green",
           "green",
           "green",
           "green",
           "green",
           "green",
           "green",
           "green",
           "green",
           "green",
           "green",
           "green",
           "green",
           "green",
           "green",
           "green",
           "green",
           "green",
           "green",
           "green",
           "green",
           "green",
           "green",
           "green",
           "green",
           "green",
           "green",
           "green",
           "green",
           "green",
           "green"
          ]
         },
         "name": "Índice MT",
         "text": [
          "<b>R9-R71</b><br>Índice Plot: 1<br>MT: -1.3207 | <b>Δt: -1.3207s</b><br>Tm: 2.2753s | Tb: 1.1546s<br>Línea: L9-10 | Falla: 10<br>Estado: Descoordinado<extra></extra>",
          "<b>R45-R46</b><br>Índice Plot: 2<br>MT: -0.9955 | <b>Δt: -0.9955s</b><br>Tm: 2.1973s | Tb: 1.4018s<br>Línea: L8-9 | Falla: 90<br>Estado: Descoordinado<extra></extra>",
          "<b>R45-R71</b><br>Índice Plot: 3<br>MT: -0.4686 | <b>Δt: -0.4686s</b><br>Tm: 2.2612s | Tb: 1.9926s<br>Línea: L8-9 | Falla: 90<br>Estado: Descoordinado<extra></extra>",
          "<b>R2-R1</b><br>Índice Plot: 4<br>MT: -0.3587 | <b>Δt: -0.3587s</b><br>Tm: 1.9838s | Tb: 1.8251s<br>Línea: L2-3 | Falla: 10<br>Estado: Descoordinado<extra></extra>",
          "<b>R33-R7</b><br>Índice Plot: 5<br>MT: -0.1731 | <b>Δt: -0.1731s</b><br>Tm: 1.6760s | Tb: 1.7029s<br>Línea: L8-21 | Falla: 10<br>Estado: Descoordinado<extra></extra>",
          "<b>R46-R47</b><br>Índice Plot: 6<br>MT: -0.1564 | <b>Δt: -0.1564s</b><br>Tm: 0.2068s | Tb: 0.2504s<br>Línea: L9-10 | Falla: 90<br>Estado: Descoordinado<extra></extra>",
          "<b>R14-R13</b><br>Índice Plot: 7<br>MT: -0.0580 | <b>Δt: -0.0580s</b><br>Tm: 2.4242s | Tb: 2.5662s<br>Línea: L14-15 | Falla: 10<br>Estado: Descoordinado<extra></extra>",
          "<b>R20-R19</b><br>Índice Plot: 8<br>MT: -0.0488 | <b>Δt: -0.0488s</b><br>Tm: 1.0663s | Tb: 1.2175s<br>Línea: L20-21 | Falla: 10<br>Estado: Descoordinado<extra></extra>",
          "<b>R13-R12</b><br>Índice Plot: 9<br>MT: -0.0445 | <b>Δt: -0.0445s</b><br>Tm: 2.3570s | Tb: 2.5125s<br>Línea: L13-14 | Falla: 10<br>Estado: Descoordinado<extra></extra>",
          "<b>R12-R11</b><br>Índice Plot: 10<br>MT: -0.0287 | <b>Δt: -0.0287s</b><br>Tm: 2.1414s | Tb: 2.3127s<br>Línea: L12-13 | Falla: 10<br>Estado: Descoordinado<extra></extra>",
          "<b>R51-R52</b><br>Índice Plot: 11<br>MT: -0.0207 | <b>Δt: -0.0207s</b><br>Tm: 1.2767s | Tb: 1.4560s<br>Línea: L14-15 | Falla: 90<br>Estado: Descoordinado<extra></extra>",
          "<b>R70-R20</b><br>Índice Plot: 12<br>MT: -0.0155 | <b>Δt: -0.0155s</b><br>Tm: 1.0578s | Tb: 1.2423s<br>Línea: L8-21 | Falla: 90<br>Estado: Descoordinado<extra></extra>",
          "<b>R68-R69</b><br>Índice Plot: 13<br>MT: -0.0071 | <b>Δt: -0.0071s</b><br>Tm: 1.9588s | Tb: 2.1517s<br>Línea: L31-32 | Falla: 90<br>Estado: Descoordinado<extra></extra>",
          "<b>R32-R31</b><br>Índice Plot: 14<br>MT: -0.0051 | <b>Δt: -0.0051s</b><br>Tm: 1.4394s | Tb: 1.6343s<br>Línea: L32-33 | Falla: 10<br>Estado: Descoordinado<extra></extra>",
          "<b>R30-R29</b><br>Índice Plot: 15<br>MT: -0.0046 | <b>Δt: -0.0046s</b><br>Tm: 1.6772s | Tb: 1.8726s<br>Línea: L30-31 | Falla: 10<br>Estado: Descoordinado<extra></extra>",
          "<b>R56-R57</b><br>Índice Plot: 16<br>MT: -0.0033 | <b>Δt: -0.0033s</b><br>Tm: 1.9971s | Tb: 2.1938s<br>Línea: L19-20 | Falla: 90<br>Estado: Descoordinado<extra></extra>",
          "<b>R19-R18</b><br>Índice Plot: 17<br>MT: -0.0029 | <b>Δt: -0.0029s</b><br>Tm: 0.9458s | Tb: 1.1429s<br>Línea: L19-20 | Falla: 10<br>Estado: Descoordinado<extra></extra>",
          "<b>R41-R42</b><br>Índice Plot: 18<br>MT: -0.0005 | <b>Δt: -0.0005s</b><br>Tm: 2.1446s | Tb: 2.3441s<br>Línea: L4-5 | Falla: 90<br>Estado: Descoordinado<extra></extra>",
          "<b>R63-R64</b><br>Índice Plot: 19<br>MT: 0.0000 | <b>Δt: 0.0537s</b><br>Tm: 1.6963s | Tb: 1.9500s<br>Línea: L26-27 | Falla: 90<br>Estado: Coordinado<extra></extra>",
          "<b>R18-R1</b><br>Índice Plot: 20<br>MT: 0.0000 | <b>Δt: 0.2613s</b><br>Tm: 1.1046s | Tb: 1.5659s<br>Línea: L2-19 | Falla: 10<br>Estado: Coordinado<extra></extra>",
          "<b>R38-R55</b><br>Índice Plot: 21<br>MT: 0.0000 | <b>Δt: 1.9308s</b><br>Tm: 0.1250s | Tb: 2.2558s<br>Línea: L1-2 | Falla: 90<br>Estado: Coordinado<extra></extra>",
          "<b>R10-R9</b><br>Índice Plot: 22<br>MT: 0.0000 | <b>Δt: 0.1193s</b><br>Tm: 2.3919s | Tb: 2.7112s<br>Línea: L10-11 | Falla: 10<br>Estado: Coordinado<extra></extra>",
          "<b>R47-R48</b><br>Índice Plot: 23<br>MT: 0.0000 | <b>Δt: 0.0455s</b><br>Tm: 0.1742s | Tb: 0.4197s<br>Línea: L10-11 | Falla: 90<br>Estado: Coordinado<extra></extra>",
          "<b>R11-R10</b><br>Índice Plot: 24<br>MT: 0.0000 | <b>Δt: 0.0240s</b><br>Tm: 2.2402s | Tb: 2.4642s<br>Línea: L11-12 | Falla: 10<br>Estado: Coordinado<extra></extra>",
          "<b>R48-R49</b><br>Índice Plot: 25<br>MT: 0.0000 | <b>Δt: 0.9172s</b><br>Tm: 0.3469s | Tb: 1.4641s<br>Línea: L11-12 | Falla: 90<br>Estado: Coordinado<extra></extra>",
          "<b>R48-R72</b><br>Índice Plot: 26<br>MT: 0.0000 | <b>Δt: 2.0941s</b><br>Tm: 0.3433s | Tb: 2.6374s<br>Línea: L11-12 | Falla: 90<br>Estado: Coordinado<extra></extra>",
          "<b>R53-R54</b><br>Índice Plot: 27<br>MT: 0.0000 | <b>Δt: 0.0799s</b><br>Tm: 1.0259s | Tb: 1.3058s<br>Línea: L16-17 | Falla: 90<br>Estado: Coordinado<extra></extra>",
          "<b>R49-R50</b><br>Índice Plot: 28<br>MT: 0.0000 | <b>Δt: 0.0325s</b><br>Tm: 1.0476s | Tb: 1.2801s<br>Línea: L12-13 | Falla: 90<br>Estado: Coordinado<extra></extra>",
          "<b>R50-R51</b><br>Índice Plot: 29<br>MT: 0.0000 | <b>Δt: 0.0409s</b><br>Tm: 1.1387s | Tb: 1.3796s<br>Línea: L13-14 | Falla: 90<br>Estado: Coordinado<extra></extra>",
          "<b>R51-R34</b><br>Índice Plot: 30<br>MT: 0.0000 | <b>Δt: 1.0940s</b><br>Tm: 1.3113s | Tb: 2.6053s<br>Línea: L14-15 | Falla: 90<br>Estado: Coordinado<extra></extra>",
          "<b>R15-R14</b><br>Índice Plot: 31<br>MT: 0.0000 | <b>Δt: 0.1908s</b><br>Tm: 2.4391s | Tb: 2.8299s<br>Línea: L15-16 | Falla: 10<br>Estado: Coordinado<extra></extra>",
          "<b>R15-R34</b><br>Índice Plot: 32<br>MT: 0.0000 | <b>Δt: 0.0495s</b><br>Tm: 2.4220s | Tb: 2.6715s<br>Línea: L15-16 | Falla: 10<br>Estado: Coordinado<extra></extra>",
          "<b>R52-R53</b><br>Índice Plot: 33<br>MT: 0.0000 | <b>Δt: 0.2250s</b><br>Tm: 0.9947s | Tb: 1.4197s<br>Línea: L15-16 | Falla: 90<br>Estado: Coordinado<extra></extra>",
          "<b>R16-R15</b><br>Índice Plot: 34<br>MT: 0.0000 | <b>Δt: 0.0161s</b><br>Tm: 2.4066s | Tb: 2.6227s<br>Línea: L16-17 | Falla: 10<br>Estado: Coordinado<extra></extra>",
          "<b>R18-R39</b><br>Índice Plot: 35<br>MT: 0.0000 | <b>Δt: 0.0185s</b><br>Tm: 1.0991s | Tb: 1.3176s<br>Línea: L2-19 | Falla: 10<br>Estado: Coordinado<extra></extra>",
          "<b>R12-R72</b><br>Índice Plot: 36<br>MT: 0.0000 | <b>Δt: 0.2277s</b><br>Tm: 2.1569s | Tb: 2.5846s<br>Línea: L12-13 | Falla: 10<br>Estado: Coordinado<extra></extra>",
          "<b>R2-R55</b><br>Índice Plot: 37<br>MT: 0.0000 | <b>Δt: 0.0480s</b><br>Tm: 2.0250s | Tb: 2.2730s<br>Línea: L2-3 | Falla: 10<br>Estado: Coordinado<extra></extra>",
          "<b>R35-R11</b><br>Índice Plot: 38<br>MT: 0.0000 | <b>Δt: 0.4871s</b><br>Tm: 2.3122s | Tb: 2.9993s<br>Línea: L12-22 | Falla: 90<br>Estado: Coordinado<extra></extra>",
          "<b>R74-R28</b><br>Índice Plot: 39<br>MT: 0.0000 | <b>Δt: 0.2790s</b><br>Tm: 1.6353s | Tb: 2.1143s<br>Línea: L25-29 | Falla: 90<br>Estado: Coordinado<extra></extra>",
          "<b>R39-R40</b><br>Índice Plot: 40<br>MT: 0.0000 | <b>Δt: 0.7675s</b><br>Tm: 1.2755s | Tb: 2.2430s<br>Línea: L2-3 | Falla: 90<br>Estado: Coordinado<extra></extra>",
          "<b>R39-R59</b><br>Índice Plot: 41<br>MT: 0.0000 | <b>Δt: 0.5610s</b><br>Tm: 1.2560s | Tb: 2.0170s<br>Línea: L2-3 | Falla: 90<br>Estado: Coordinado<extra></extra>",
          "<b>R57-R58</b><br>Índice Plot: 42<br>MT: 0.0000 | <b>Δt: 0.0534s</b><br>Tm: 2.0253s | Tb: 2.2787s<br>Línea: L20-21 | Falla: 90<br>Estado: Coordinado<extra></extra>",
          "<b>R57-R33</b><br>Índice Plot: 43<br>MT: 0.0000 | <b>Δt: 0.0333s</b><br>Tm: 2.0339s | Tb: 2.2672s<br>Línea: L20-21 | Falla: 90<br>Estado: Coordinado<extra></extra>",
          "<b>R21-R20</b><br>Índice Plot: 44<br>MT: 0.0000 | <b>Δt: 0.2557s</b><br>Tm: 0.8127s | Tb: 1.2684s<br>Línea: L21-22 | Falla: 10<br>Estado: Coordinado<extra></extra>",
          "<b>R21-R33</b><br>Índice Plot: 45<br>MT: 0.0000 | <b>Δt: 1.2742s</b><br>Tm: 0.8221s | Tb: 2.2963s<br>Línea: L21-22 | Falla: 10<br>Estado: Coordinado<extra></extra>",
          "<b>R58-R35</b><br>Índice Plot: 46<br>MT: 0.0000 | <b>Δt: 0.0189s</b><br>Tm: 2.0236s | Tb: 2.2425s<br>Línea: L21-22 | Falla: 90<br>Estado: Coordinado<extra></extra>",
          "<b>R33-R45</b><br>Índice Plot: 47<br>MT: 0.0000 | <b>Δt: 0.7326s</b><br>Tm: 1.6673s | Tb: 2.5999s<br>Línea: L8-21 | Falla: 10<br>Estado: Coordinado<extra></extra>",
          "<b>R70-R58</b><br>Índice Plot: 48<br>MT: 0.0000 | <b>Δt: 1.1283s</b><br>Tm: 1.0337s | Tb: 2.3620s<br>Línea: L8-21 | Falla: 90<br>Estado: Coordinado<extra></extra>",
          "<b>R72-R21</b><br>Índice Plot: 49<br>MT: 0.0000 | <b>Δt: 0.0758s</b><br>Tm: 1.1230s | Tb: 1.3988s<br>Línea: L12-22 | Falla: 10<br>Estado: Coordinado<extra></extra>",
          "<b>R17-R16</b><br>Índice Plot: 50<br>MT: 0.0000 | <b>Δt: 0.0755s</b><br>Tm: 2.4838s | Tb: 2.7593s<br>Línea: L17-18 | Falla: 10<br>Estado: Coordinado<extra></extra>",
          "<b>R35-R49</b><br>Índice Plot: 51<br>MT: 0.0000 | <b>Δt: 0.0012s</b><br>Tm: 2.2202s | Tb: 2.4214s<br>Línea: L12-22 | Falla: 90<br>Estado: Coordinado<extra></extra>",
          "<b>R23-R22</b><br>Índice Plot: 52<br>MT: 0.0000 | <b>Δt: 0.0267s</b><br>Tm: 1.8119s | Tb: 2.0386s<br>Línea: L23-24 | Falla: 10<br>Estado: Coordinado<extra></extra>",
          "<b>R60-R61</b><br>Índice Plot: 53<br>MT: 0.0000 | <b>Δt: 0.0808s</b><br>Tm: 1.5344s | Tb: 1.8152s<br>Línea: L23-24 | Falla: 90<br>Estado: Coordinado<extra></extra>",
          "<b>R24-R23</b><br>Índice Plot: 54<br>MT: 0.0000 | <b>Δt: 0.0329s</b><br>Tm: 1.8156s | Tb: 2.0485s<br>Línea: L24-25 | Falla: 10<br>Estado: Coordinado<extra></extra>",
          "<b>R71-R14</b><br>Índice Plot: 55<br>MT: 0.0000 | <b>Δt: 2.4193s</b><br>Tm: 0.3084s | Tb: 2.9277s<br>Línea: L9-15 | Falla: 90<br>Estado: Coordinado<extra></extra>",
          "<b>R37-R24</b><br>Índice Plot: 56<br>MT: 0.0000 | <b>Δt: 0.0737s</b><br>Tm: 1.8444s | Tb: 2.1181s<br>Línea: L25-29 | Falla: 10<br>Estado: Coordinado<extra></extra>",
          "<b>R74-R66</b><br>Índice Plot: 57<br>MT: 0.0000 | <b>Δt: 0.1155s</b><br>Tm: 1.6328s | Tb: 1.9483s<br>Línea: L25-29 | Falla: 90<br>Estado: Coordinado<extra></extra>",
          "<b>R54-R73</b><br>Índice Plot: 58<br>MT: 0.0000 | <b>Δt: 0.0490s</b><br>Tm: 1.1347s | Tb: 1.3837s<br>Línea: L17-18 | Falla: 90<br>Estado: Coordinado<extra></extra>",
          "<b>R42-R62</b><br>Índice Plot: 59<br>MT: 0.0000 | <b>Δt: 0.2169s</b><br>Tm: 2.1002s | Tb: 2.5171s<br>Línea: L5-6 | Falla: 90<br>Estado: Coordinado<extra></extra>",
          "<b>R73-R32</b><br>Índice Plot: 60<br>MT: 0.0000 | <b>Δt: 0.0361s</b><br>Tm: 1.2747s | Tb: 1.5108s<br>Línea: L18-33 | Falla: 90<br>Estado: Coordinado<extra></extra>",
          "<b>R4-R3</b><br>Índice Plot: 61<br>MT: 0.0000 | <b>Δt: 0.0381s</b><br>Tm: 1.5979s | Tb: 1.8360s<br>Línea: L4-5 | Falla: 10<br>Estado: Coordinado<extra></extra>",
          "<b>R42-R43</b><br>Índice Plot: 62<br>MT: 0.0000 | <b>Δt: 0.1226s</b><br>Tm: 2.1121s | Tb: 2.4347s<br>Línea: L5-6 | Falla: 90<br>Estado: Coordinado<extra></extra>",
          "<b>R22-R40</b><br>Índice Plot: 63<br>MT: 0.0000 | <b>Δt: 0.1025s</b><br>Tm: 1.9153s | Tb: 2.2178s<br>Línea: L3-23 | Falla: 10<br>Estado: Coordinado<extra></extra>",
          "<b>R3-R59</b><br>Índice Plot: 64<br>MT: 0.0000 | <b>Δt: 0.0836s</b><br>Tm: 1.7354s | Tb: 2.0190s<br>Línea: L3-4 | Falla: 10<br>Estado: Coordinado<extra></extra>",
          "<b>R28-R27</b><br>Índice Plot: 65<br>MT: 0.0000 | <b>Δt: 0.0092s</b><br>Tm: 1.8144s | Tb: 2.0236s<br>Línea: L28-29 | Falla: 10<br>Estado: Coordinado<extra></extra>",
          "<b>R65-R37</b><br>Índice Plot: 66<br>MT: 0.0000 | <b>Δt: 0.4873s</b><br>Tm: 1.4018s | Tb: 2.0891s<br>Línea: L28-29 | Falla: 90<br>Estado: Coordinado<extra></extra>",
          "<b>R65-R66</b><br>Índice Plot: 67<br>MT: 0.0000 | <b>Δt: 0.2946s</b><br>Tm: 1.4185s | Tb: 1.9131s<br>Línea: L28-29 | Falla: 90<br>Estado: Coordinado<extra></extra>",
          "<b>R29-R28</b><br>Índice Plot: 68<br>MT: 0.0000 | <b>Δt: 0.0203s</b><br>Tm: 1.8369s | Tb: 2.0572s<br>Línea: L29-30 | Falla: 10<br>Estado: Coordinado<extra></extra>",
          "<b>R29-R37</b><br>Índice Plot: 69<br>MT: 0.0000 | <b>Δt: 0.1085s</b><br>Tm: 1.7862s | Tb: 2.0947s<br>Línea: L29-30 | Falla: 10<br>Estado: Coordinado<extra></extra>",
          "<b>R66-R67</b><br>Índice Plot: 70<br>MT: 0.0000 | <b>Δt: 0.0433s</b><br>Tm: 1.7683s | Tb: 2.0116s<br>Línea: L29-30 | Falla: 90<br>Estado: Coordinado<extra></extra>",
          "<b>R22-R2</b><br>Índice Plot: 71<br>MT: 0.0000 | <b>Δt: 0.1215s</b><br>Tm: 1.9200s | Tb: 2.2415s<br>Línea: L3-23 | Falla: 10<br>Estado: Coordinado<extra></extra>",
          "<b>R59-R60</b><br>Índice Plot: 72<br>MT: 0.0000 | <b>Δt: 0.0534s</b><br>Tm: 1.6747s | Tb: 1.9281s<br>Línea: L3-23 | Falla: 90<br>Estado: Coordinado<extra></extra>",
          "<b>R3-R2</b><br>Índice Plot: 73<br>MT: 0.0000 | <b>Δt: 0.3459s</b><br>Tm: 1.7277s | Tb: 2.2736s<br>Línea: L3-4 | Falla: 10<br>Estado: Coordinado<extra></extra>",
          "<b>R38-R39</b><br>Índice Plot: 74<br>MT: 0.0000 | <b>Δt: 0.9681s</b><br>Tm: 0.1259s | Tb: 1.2940s<br>Línea: L1-2 | Falla: 90<br>Estado: Coordinado<extra></extra>",
          "<b>R67-R68</b><br>Índice Plot: 75<br>MT: 0.0000 | <b>Δt: 0.0039s</b><br>Tm: 1.8582s | Tb: 2.0621s<br>Línea: L30-31 | Falla: 90<br>Estado: Coordinado<extra></extra>",
          "<b>R40-R41</b><br>Índice Plot: 76<br>MT: 0.0000 | <b>Δt: 0.0657s</b><br>Tm: 2.0119s | Tb: 2.2776s<br>Línea: L3-4 | Falla: 90<br>Estado: Coordinado<extra></extra>",
          "<b>R31-R30</b><br>Índice Plot: 77<br>MT: 0.0000 | <b>Δt: 0.0173s</b><br>Tm: 1.5784s | Tb: 1.7957s<br>Línea: L31-32 | Falla: 10<br>Estado: Coordinado<extra></extra>",
          "<b>R34-R46</b><br>Índice Plot: 78<br>MT: 0.0000 | <b>Δt: 0.7794s</b><br>Tm: 1.9929s | Tb: 2.9723s<br>Línea: L9-15 | Falla: 10<br>Estado: Coordinado<extra></extra>",
          "<b>R36-R17</b><br>Índice Plot: 79<br>MT: 0.0000 | <b>Δt: 0.0467s</b><br>Tm: 2.4216s | Tb: 2.6683s<br>Línea: L18-33 | Falla: 10<br>Estado: Coordinado<extra></extra>",
          "<b>R34-R8</b><br>Índice Plot: 80<br>MT: 0.0000 | <b>Δt: 0.1077s</b><br>Tm: 2.0402s | Tb: 2.3479s<br>Línea: L9-15 | Falla: 10<br>Estado: Coordinado<extra></extra>",
          "<b>R8-R70</b><br>Índice Plot: 81<br>MT: 0.0000 | <b>Δt: 2.5157s</b><br>Tm: 0.2771s | Tb: 2.9928s<br>Línea: L8-9 | Falla: 10<br>Estado: Coordinado<extra></extra>",
          "<b>R26-R25</b><br>Índice Plot: 82<br>MT: 0.0000 | <b>Δt: 0.0231s</b><br>Tm: 1.9462s | Tb: 2.1693s<br>Línea: L26-27 | Falla: 10<br>Estado: Coordinado<extra></extra>",
          "<b>R61-R74</b><br>Índice Plot: 83<br>MT: 0.0000 | <b>Δt: 0.0424s</b><br>Tm: 1.5562s | Tb: 1.7986s<br>Línea: L24-25 | Falla: 90<br>Estado: Coordinado<extra></extra>",
          "<b>R27-R26</b><br>Índice Plot: 84<br>MT: 0.0000 | <b>Δt: 0.0083s</b><br>Tm: 1.7991s | Tb: 2.0074s<br>Línea: L27-28 | Falla: 10<br>Estado: Coordinado<extra></extra>",
          "<b>R69-R36</b><br>Índice Plot: 85<br>MT: 0.0000 | <b>Δt: 0.1889s</b><br>Tm: 2.1226s | Tb: 2.5115s<br>Línea: L32-33 | Falla: 90<br>Estado: Coordinado<extra></extra>",
          "<b>R5-R4</b><br>Índice Plot: 86<br>MT: 0.0000 | <b>Δt: 0.0301s</b><br>Tm: 1.5441s | Tb: 1.7742s<br>Línea: L5-6 | Falla: 10<br>Estado: Coordinado<extra></extra>",
          "<b>R64-R65</b><br>Índice Plot: 87<br>MT: 0.0000 | <b>Δt: 0.1013s</b><br>Tm: 1.3601s | Tb: 1.6614s<br>Línea: L27-28 | Falla: 90<br>Estado: Coordinado<extra></extra>",
          "<b>R55-R56</b><br>Índice Plot: 88<br>MT: 0.0000 | <b>Δt: 0.1061s</b><br>Tm: 2.1367s | Tb: 2.4428s<br>Línea: L2-19 | Falla: 90<br>Estado: Coordinado<extra></extra>",
          "<b>R25-R5</b><br>Índice Plot: 89<br>MT: 0.0000 | <b>Δt: 0.1209s</b><br>Tm: 2.1212s | Tb: 2.4421s<br>Línea: L6-26 | Falla: 10<br>Estado: Coordinado<extra></extra>",
          "<b>R25-R43</b><br>Índice Plot: 90<br>MT: 0.0000 | <b>Δt: 0.0187s</b><br>Tm: 2.1474s | Tb: 2.3661s<br>Línea: L6-26 | Falla: 10<br>Estado: Coordinado<extra></extra>",
          "<b>R62-R63</b><br>Índice Plot: 91<br>MT: 0.0000 | <b>Δt: 0.1166s</b><br>Tm: 1.7174s | Tb: 2.0340s<br>Línea: L6-26 | Falla: 90<br>Estado: Coordinado<extra></extra>",
          "<b>R6-R5</b><br>Índice Plot: 92<br>MT: 0.0000 | <b>Δt: 1.5962s</b><br>Tm: 0.5619s | Tb: 2.3581s<br>Línea: L6-7 | Falla: 10<br>Estado: Coordinado<extra></extra>",
          "<b>R6-R62</b><br>Índice Plot: 93<br>MT: 0.0000 | <b>Δt: 1.4435s</b><br>Tm: 0.6029s | Tb: 2.2464s<br>Línea: L6-7 | Falla: 10<br>Estado: Coordinado<extra></extra>",
          "<b>R43-R44</b><br>Índice Plot: 94<br>MT: 0.0000 | <b>Δt: 0.0399s</b><br>Tm: 2.2311s | Tb: 2.4710s<br>Línea: L6-7 | Falla: 90<br>Estado: Coordinado<extra></extra>",
          "<b>R7-R6</b><br>Índice Plot: 95<br>MT: 0.0000 | <b>Δt: 0.1865s</b><br>Tm: 0.4973s | Tb: 0.8838s<br>Línea: L7-8 | Falla: 10<br>Estado: Coordinado<extra></extra>",
          "<b>R44-R70</b><br>Índice Plot: 96<br>MT: 0.0000 | <b>Δt: 0.2063s</b><br>Tm: 2.2508s | Tb: 2.6571s<br>Línea: L7-8 | Falla: 90<br>Estado: Coordinado<extra></extra>",
          "<b>R44-R45</b><br>Índice Plot: 97<br>MT: 0.0000 | <b>Δt: 0.1118s</b><br>Tm: 2.2706s | Tb: 2.5824s<br>Línea: L7-8 | Falla: 90<br>Estado: Coordinado<extra></extra>",
          "<b>R8-R7</b><br>Índice Plot: 98<br>MT: 0.0000 | <b>Δt: 0.6662s</b><br>Tm: 0.2491s | Tb: 1.1153s<br>Línea: L8-9 | Falla: 10<br>Estado: Coordinado<extra></extra>",
          "<b>R9-R8</b><br>Índice Plot: 99<br>MT: 0.0000 | <b>Δt: 0.1612s</b><br>Tm: 2.3013s | Tb: 2.6625s<br>Línea: L9-10 | Falla: 10<br>Estado: Coordinado<extra></extra>",
          "<b>R71-R52</b><br>Índice Plot: 100<br>MT: 0.0000 | <b>Δt: 1.2018s</b><br>Tm: 0.2464s | Tb: 1.6482s<br>Línea: L9-15 | Falla: 90<br>Estado: Coordinado<extra></extra>"
         ],
         "type": "bar",
         "x": [
          1,
          2,
          3,
          4,
          5,
          6,
          7,
          8,
          9,
          10,
          11,
          12,
          13,
          14,
          15,
          16,
          17,
          18,
          19,
          20,
          21,
          22,
          23,
          24,
          25,
          26,
          27,
          28,
          29,
          30,
          31,
          32,
          33,
          34,
          35,
          36,
          37,
          38,
          39,
          40,
          41,
          42,
          43,
          44,
          45,
          46,
          47,
          48,
          49,
          50,
          51,
          52,
          53,
          54,
          55,
          56,
          57,
          58,
          59,
          60,
          61,
          62,
          63,
          64,
          65,
          66,
          67,
          68,
          69,
          70,
          71,
          72,
          73,
          74,
          75,
          76,
          77,
          78,
          79,
          80,
          81,
          82,
          83,
          84,
          85,
          86,
          87,
          88,
          89,
          90,
          91,
          92,
          93,
          94,
          95,
          96,
          97,
          98,
          99,
          100
         ],
         "y": [
          -1.3207,
          -0.9954999999999998,
          -0.4686000000000002,
          -0.3587000000000001,
          -0.17309999999999987,
          -0.1564,
          -0.05800000000000011,
          -0.04880000000000001,
          -0.04450000000000004,
          -0.028700000000000003,
          -0.020699999999999996,
          -0.015500000000000125,
          -0.007100000000000162,
          -0.005099999999999938,
          -0.004599999999999993,
          -0.003300000000000136,
          -0.002899999999999958,
          -0.0005000000000000004,
          0,
          0,
          0,
          0,
          0,
          0,
          0,
          0,
          0,
          0,
          0,
          0,
          0,
          0,
          0,
          0,
          0,
          0,
          0,
          0,
          0,
          0,
          0,
          0,
          0,
          0,
          0,
          0,
          0,
          0,
          0,
          0,
          0,
          0,
          0,
          0,
          0,
          0,
          0,
          0,
          0,
          0,
          0,
          0,
          0,
          0,
          0,
          0,
          0,
          0,
          0,
          0,
          0,
          0,
          0,
          0,
          0,
          0,
          0,
          0,
          0,
          0,
          0,
          0,
          0,
          0,
          0,
          0,
          0,
          0,
          0,
          0,
          0,
          0,
          0,
          0,
          0,
          0,
          0,
          0,
          0,
          0
         ]
        }
       ],
       "layout": {
        "bargap": 0.1,
        "height": 900,
        "margin": {
         "b": 100,
         "l": 60,
         "r": 30,
         "t": 100
        },
        "shapes": [
         {
          "line": {
           "color": "black",
           "dash": "dash",
           "width": 1.5
          },
          "type": "line",
          "x0": 0,
          "x1": 1,
          "xref": "x domain",
          "y0": 0,
          "y1": 0,
          "yref": "y"
         }
        ],
        "template": {
         "data": {
          "bar": [
           {
            "error_x": {
             "color": "#2a3f5f"
            },
            "error_y": {
             "color": "#2a3f5f"
            },
            "marker": {
             "line": {
              "color": "white",
              "width": 0.5
             },
             "pattern": {
              "fillmode": "overlay",
              "size": 10,
              "solidity": 0.2
             }
            },
            "type": "bar"
           }
          ],
          "barpolar": [
           {
            "marker": {
             "line": {
              "color": "white",
              "width": 0.5
             },
             "pattern": {
              "fillmode": "overlay",
              "size": 10,
              "solidity": 0.2
             }
            },
            "type": "barpolar"
           }
          ],
          "carpet": [
           {
            "aaxis": {
             "endlinecolor": "#2a3f5f",
             "gridcolor": "#C8D4E3",
             "linecolor": "#C8D4E3",
             "minorgridcolor": "#C8D4E3",
             "startlinecolor": "#2a3f5f"
            },
            "baxis": {
             "endlinecolor": "#2a3f5f",
             "gridcolor": "#C8D4E3",
             "linecolor": "#C8D4E3",
             "minorgridcolor": "#C8D4E3",
             "startlinecolor": "#2a3f5f"
            },
            "type": "carpet"
           }
          ],
          "choropleth": [
           {
            "colorbar": {
             "outlinewidth": 0,
             "ticks": ""
            },
            "type": "choropleth"
           }
          ],
          "contour": [
           {
            "colorbar": {
             "outlinewidth": 0,
             "ticks": ""
            },
            "colorscale": [
             [
              0,
              "#0d0887"
             ],
             [
              0.1111111111111111,
              "#46039f"
             ],
             [
              0.2222222222222222,
              "#7201a8"
             ],
             [
              0.3333333333333333,
              "#9c179e"
             ],
             [
              0.4444444444444444,
              "#bd3786"
             ],
             [
              0.5555555555555556,
              "#d8576b"
             ],
             [
              0.6666666666666666,
              "#ed7953"
             ],
             [
              0.7777777777777778,
              "#fb9f3a"
             ],
             [
              0.8888888888888888,
              "#fdca26"
             ],
             [
              1,
              "#f0f921"
             ]
            ],
            "type": "contour"
           }
          ],
          "contourcarpet": [
           {
            "colorbar": {
             "outlinewidth": 0,
             "ticks": ""
            },
            "type": "contourcarpet"
           }
          ],
          "heatmap": [
           {
            "colorbar": {
             "outlinewidth": 0,
             "ticks": ""
            },
            "colorscale": [
             [
              0,
              "#0d0887"
             ],
             [
              0.1111111111111111,
              "#46039f"
             ],
             [
              0.2222222222222222,
              "#7201a8"
             ],
             [
              0.3333333333333333,
              "#9c179e"
             ],
             [
              0.4444444444444444,
              "#bd3786"
             ],
             [
              0.5555555555555556,
              "#d8576b"
             ],
             [
              0.6666666666666666,
              "#ed7953"
             ],
             [
              0.7777777777777778,
              "#fb9f3a"
             ],
             [
              0.8888888888888888,
              "#fdca26"
             ],
             [
              1,
              "#f0f921"
             ]
            ],
            "type": "heatmap"
           }
          ],
          "heatmapgl": [
           {
            "colorbar": {
             "outlinewidth": 0,
             "ticks": ""
            },
            "colorscale": [
             [
              0,
              "#0d0887"
             ],
             [
              0.1111111111111111,
              "#46039f"
             ],
             [
              0.2222222222222222,
              "#7201a8"
             ],
             [
              0.3333333333333333,
              "#9c179e"
             ],
             [
              0.4444444444444444,
              "#bd3786"
             ],
             [
              0.5555555555555556,
              "#d8576b"
             ],
             [
              0.6666666666666666,
              "#ed7953"
             ],
             [
              0.7777777777777778,
              "#fb9f3a"
             ],
             [
              0.8888888888888888,
              "#fdca26"
             ],
             [
              1,
              "#f0f921"
             ]
            ],
            "type": "heatmapgl"
           }
          ],
          "histogram": [
           {
            "marker": {
             "pattern": {
              "fillmode": "overlay",
              "size": 10,
              "solidity": 0.2
             }
            },
            "type": "histogram"
           }
          ],
          "histogram2d": [
           {
            "colorbar": {
             "outlinewidth": 0,
             "ticks": ""
            },
            "colorscale": [
             [
              0,
              "#0d0887"
             ],
             [
              0.1111111111111111,
              "#46039f"
             ],
             [
              0.2222222222222222,
              "#7201a8"
             ],
             [
              0.3333333333333333,
              "#9c179e"
             ],
             [
              0.4444444444444444,
              "#bd3786"
             ],
             [
              0.5555555555555556,
              "#d8576b"
             ],
             [
              0.6666666666666666,
              "#ed7953"
             ],
             [
              0.7777777777777778,
              "#fb9f3a"
             ],
             [
              0.8888888888888888,
              "#fdca26"
             ],
             [
              1,
              "#f0f921"
             ]
            ],
            "type": "histogram2d"
           }
          ],
          "histogram2dcontour": [
           {
            "colorbar": {
             "outlinewidth": 0,
             "ticks": ""
            },
            "colorscale": [
             [
              0,
              "#0d0887"
             ],
             [
              0.1111111111111111,
              "#46039f"
             ],
             [
              0.2222222222222222,
              "#7201a8"
             ],
             [
              0.3333333333333333,
              "#9c179e"
             ],
             [
              0.4444444444444444,
              "#bd3786"
             ],
             [
              0.5555555555555556,
              "#d8576b"
             ],
             [
              0.6666666666666666,
              "#ed7953"
             ],
             [
              0.7777777777777778,
              "#fb9f3a"
             ],
             [
              0.8888888888888888,
              "#fdca26"
             ],
             [
              1,
              "#f0f921"
             ]
            ],
            "type": "histogram2dcontour"
           }
          ],
          "mesh3d": [
           {
            "colorbar": {
             "outlinewidth": 0,
             "ticks": ""
            },
            "type": "mesh3d"
           }
          ],
          "parcoords": [
           {
            "line": {
             "colorbar": {
              "outlinewidth": 0,
              "ticks": ""
             }
            },
            "type": "parcoords"
           }
          ],
          "pie": [
           {
            "automargin": true,
            "type": "pie"
           }
          ],
          "scatter": [
           {
            "fillpattern": {
             "fillmode": "overlay",
             "size": 10,
             "solidity": 0.2
            },
            "type": "scatter"
           }
          ],
          "scatter3d": [
           {
            "line": {
             "colorbar": {
              "outlinewidth": 0,
              "ticks": ""
             }
            },
            "marker": {
             "colorbar": {
              "outlinewidth": 0,
              "ticks": ""
             }
            },
            "type": "scatter3d"
           }
          ],
          "scattercarpet": [
           {
            "marker": {
             "colorbar": {
              "outlinewidth": 0,
              "ticks": ""
             }
            },
            "type": "scattercarpet"
           }
          ],
          "scattergeo": [
           {
            "marker": {
             "colorbar": {
              "outlinewidth": 0,
              "ticks": ""
             }
            },
            "type": "scattergeo"
           }
          ],
          "scattergl": [
           {
            "marker": {
             "colorbar": {
              "outlinewidth": 0,
              "ticks": ""
             }
            },
            "type": "scattergl"
           }
          ],
          "scattermapbox": [
           {
            "marker": {
             "colorbar": {
              "outlinewidth": 0,
              "ticks": ""
             }
            },
            "type": "scattermapbox"
           }
          ],
          "scatterpolar": [
           {
            "marker": {
             "colorbar": {
              "outlinewidth": 0,
              "ticks": ""
             }
            },
            "type": "scatterpolar"
           }
          ],
          "scatterpolargl": [
           {
            "marker": {
             "colorbar": {
              "outlinewidth": 0,
              "ticks": ""
             }
            },
            "type": "scatterpolargl"
           }
          ],
          "scatterternary": [
           {
            "marker": {
             "colorbar": {
              "outlinewidth": 0,
              "ticks": ""
             }
            },
            "type": "scatterternary"
           }
          ],
          "surface": [
           {
            "colorbar": {
             "outlinewidth": 0,
             "ticks": ""
            },
            "colorscale": [
             [
              0,
              "#0d0887"
             ],
             [
              0.1111111111111111,
              "#46039f"
             ],
             [
              0.2222222222222222,
              "#7201a8"
             ],
             [
              0.3333333333333333,
              "#9c179e"
             ],
             [
              0.4444444444444444,
              "#bd3786"
             ],
             [
              0.5555555555555556,
              "#d8576b"
             ],
             [
              0.6666666666666666,
              "#ed7953"
             ],
             [
              0.7777777777777778,
              "#fb9f3a"
             ],
             [
              0.8888888888888888,
              "#fdca26"
             ],
             [
              1,
              "#f0f921"
             ]
            ],
            "type": "surface"
           }
          ],
          "table": [
           {
            "cells": {
             "fill": {
              "color": "#EBF0F8"
             },
             "line": {
              "color": "white"
             }
            },
            "header": {
             "fill": {
              "color": "#C8D4E3"
             },
             "line": {
              "color": "white"
             }
            },
            "type": "table"
           }
          ]
         },
         "layout": {
          "annotationdefaults": {
           "arrowcolor": "#2a3f5f",
           "arrowhead": 0,
           "arrowwidth": 1
          },
          "autotypenumbers": "strict",
          "coloraxis": {
           "colorbar": {
            "outlinewidth": 0,
            "ticks": ""
           }
          },
          "colorscale": {
           "diverging": [
            [
             0,
             "#8e0152"
            ],
            [
             0.1,
             "#c51b7d"
            ],
            [
             0.2,
             "#de77ae"
            ],
            [
             0.3,
             "#f1b6da"
            ],
            [
             0.4,
             "#fde0ef"
            ],
            [
             0.5,
             "#f7f7f7"
            ],
            [
             0.6,
             "#e6f5d0"
            ],
            [
             0.7,
             "#b8e186"
            ],
            [
             0.8,
             "#7fbc41"
            ],
            [
             0.9,
             "#4d9221"
            ],
            [
             1,
             "#276419"
            ]
           ],
           "sequential": [
            [
             0,
             "#0d0887"
            ],
            [
             0.1111111111111111,
             "#46039f"
            ],
            [
             0.2222222222222222,
             "#7201a8"
            ],
            [
             0.3333333333333333,
             "#9c179e"
            ],
            [
             0.4444444444444444,
             "#bd3786"
            ],
            [
             0.5555555555555556,
             "#d8576b"
            ],
            [
             0.6666666666666666,
             "#ed7953"
            ],
            [
             0.7777777777777778,
             "#fb9f3a"
            ],
            [
             0.8888888888888888,
             "#fdca26"
            ],
            [
             1,
             "#f0f921"
            ]
           ],
           "sequentialminus": [
            [
             0,
             "#0d0887"
            ],
            [
             0.1111111111111111,
             "#46039f"
            ],
            [
             0.2222222222222222,
             "#7201a8"
            ],
            [
             0.3333333333333333,
             "#9c179e"
            ],
            [
             0.4444444444444444,
             "#bd3786"
            ],
            [
             0.5555555555555556,
             "#d8576b"
            ],
            [
             0.6666666666666666,
             "#ed7953"
            ],
            [
             0.7777777777777778,
             "#fb9f3a"
            ],
            [
             0.8888888888888888,
             "#fdca26"
            ],
            [
             1,
             "#f0f921"
            ]
           ]
          },
          "colorway": [
           "#636efa",
           "#EF553B",
           "#00cc96",
           "#ab63fa",
           "#FFA15A",
           "#19d3f3",
           "#FF6692",
           "#B6E880",
           "#FF97FF",
           "#FECB52"
          ],
          "font": {
           "color": "#2a3f5f"
          },
          "geo": {
           "bgcolor": "white",
           "lakecolor": "white",
           "landcolor": "white",
           "showlakes": true,
           "showland": true,
           "subunitcolor": "#C8D4E3"
          },
          "hoverlabel": {
           "align": "left"
          },
          "hovermode": "closest",
          "mapbox": {
           "style": "light"
          },
          "paper_bgcolor": "white",
          "plot_bgcolor": "white",
          "polar": {
           "angularaxis": {
            "gridcolor": "#EBF0F8",
            "linecolor": "#EBF0F8",
            "ticks": ""
           },
           "bgcolor": "white",
           "radialaxis": {
            "gridcolor": "#EBF0F8",
            "linecolor": "#EBF0F8",
            "ticks": ""
           }
          },
          "scene": {
           "xaxis": {
            "backgroundcolor": "white",
            "gridcolor": "#DFE8F3",
            "gridwidth": 2,
            "linecolor": "#EBF0F8",
            "showbackground": true,
            "ticks": "",
            "zerolinecolor": "#EBF0F8"
           },
           "yaxis": {
            "backgroundcolor": "white",
            "gridcolor": "#DFE8F3",
            "gridwidth": 2,
            "linecolor": "#EBF0F8",
            "showbackground": true,
            "ticks": "",
            "zerolinecolor": "#EBF0F8"
           },
           "zaxis": {
            "backgroundcolor": "white",
            "gridcolor": "#DFE8F3",
            "gridwidth": 2,
            "linecolor": "#EBF0F8",
            "showbackground": true,
            "ticks": "",
            "zerolinecolor": "#EBF0F8"
           }
          },
          "shapedefaults": {
           "line": {
            "color": "#2a3f5f"
           }
          },
          "ternary": {
           "aaxis": {
            "gridcolor": "#DFE8F3",
            "linecolor": "#A2B1C6",
            "ticks": ""
           },
           "baxis": {
            "gridcolor": "#DFE8F3",
            "linecolor": "#A2B1C6",
            "ticks": ""
           },
           "bgcolor": "white",
           "caxis": {
            "gridcolor": "#DFE8F3",
            "linecolor": "#A2B1C6",
            "ticks": ""
           }
          },
          "title": {
           "x": 0.05
          },
          "xaxis": {
           "automargin": true,
           "gridcolor": "#EBF0F8",
           "linecolor": "#EBF0F8",
           "ticks": "",
           "title": {
            "standoff": 15
           },
           "zerolinecolor": "#EBF0F8",
           "zerolinewidth": 2
          },
          "yaxis": {
           "automargin": true,
           "gridcolor": "#EBF0F8",
           "linecolor": "#EBF0F8",
           "ticks": "",
           "title": {
            "standoff": 15
           },
           "zerolinecolor": "#EBF0F8",
           "zerolinewidth": 2
          }
         }
        },
        "title": {
         "text": "Índice de Descoordinación (MT) - Escenario: scenario_40 Optimizado<br><sup>TMT = -3.7127 | Pares = 100</sup>"
        },
        "xaxis": {
         "tickmode": "auto",
         "title": {
          "text": "Índice del Par de Relés (Ordenado por MT Ascendente)"
         }
        },
        "yaxis": {
         "gridcolor": "lightgrey",
         "title": {
          "text": "Índice MT"
         },
         "zerolinecolor": "black",
         "zerolinewidth": 1.5
        }
       }
      }
     },
     "metadata": {},
     "output_type": "display_data"
    },
    {
     "name": "stdout",
     "output_type": "stream",
     "text": [
      "    Displaying delta_bar plot...\n"
     ]
    },
    {
     "data": {
      "application/vnd.plotly.v1+json": {
       "config": {
        "plotlyServerURL": "https://plot.ly"
       },
       "data": [
        {
         "hoverinfo": "text",
         "marker": {
          "color": [
           "red",
           "red",
           "red",
           "red",
           "red",
           "red",
           "red",
           "red",
           "red",
           "red",
           "red",
           "red",
           "red",
           "red",
           "red",
           "red",
           "red",
           "red",
           "green",
           "green",
           "green",
           "green",
           "green",
           "green",
           "green",
           "green",
           "green",
           "green",
           "green",
           "green",
           "green",
           "green",
           "green",
           "green",
           "green",
           "green",
           "green",
           "green",
           "green",
           "green",
           "green",
           "green",
           "green",
           "green",
           "green",
           "green",
           "green",
           "green",
           "green",
           "green",
           "green",
           "green",
           "green",
           "green",
           "green",
           "green",
           "green",
           "green",
           "green",
           "green",
           "green",
           "green",
           "green",
           "green",
           "green",
           "green",
           "green",
           "green",
           "green",
           "green",
           "green",
           "green",
           "green",
           "green",
           "green",
           "green",
           "green",
           "green",
           "green",
           "green",
           "green",
           "green",
           "green",
           "green",
           "green",
           "green",
           "green",
           "green",
           "green",
           "green",
           "green",
           "green",
           "green",
           "green",
           "green",
           "green",
           "green",
           "green",
           "green",
           "green"
          ]
         },
         "name": "Δt (Tb - Tm - CTI)",
         "text": [
          "<b>R9-R71</b><br>Índice Plot: 1<br>MT: -1.3207 | <b>Δt: -1.3207s</b><br>Tm: 2.2753s | Tb: 1.1546s<br>Línea: L9-10 | Falla: 10<br>Estado: Descoordinado<extra></extra>",
          "<b>R45-R46</b><br>Índice Plot: 2<br>MT: -0.9955 | <b>Δt: -0.9955s</b><br>Tm: 2.1973s | Tb: 1.4018s<br>Línea: L8-9 | Falla: 90<br>Estado: Descoordinado<extra></extra>",
          "<b>R45-R71</b><br>Índice Plot: 3<br>MT: -0.4686 | <b>Δt: -0.4686s</b><br>Tm: 2.2612s | Tb: 1.9926s<br>Línea: L8-9 | Falla: 90<br>Estado: Descoordinado<extra></extra>",
          "<b>R2-R1</b><br>Índice Plot: 4<br>MT: -0.3587 | <b>Δt: -0.3587s</b><br>Tm: 1.9838s | Tb: 1.8251s<br>Línea: L2-3 | Falla: 10<br>Estado: Descoordinado<extra></extra>",
          "<b>R33-R7</b><br>Índice Plot: 5<br>MT: -0.1731 | <b>Δt: -0.1731s</b><br>Tm: 1.6760s | Tb: 1.7029s<br>Línea: L8-21 | Falla: 10<br>Estado: Descoordinado<extra></extra>",
          "<b>R46-R47</b><br>Índice Plot: 6<br>MT: -0.1564 | <b>Δt: -0.1564s</b><br>Tm: 0.2068s | Tb: 0.2504s<br>Línea: L9-10 | Falla: 90<br>Estado: Descoordinado<extra></extra>",
          "<b>R14-R13</b><br>Índice Plot: 7<br>MT: -0.0580 | <b>Δt: -0.0580s</b><br>Tm: 2.4242s | Tb: 2.5662s<br>Línea: L14-15 | Falla: 10<br>Estado: Descoordinado<extra></extra>",
          "<b>R20-R19</b><br>Índice Plot: 8<br>MT: -0.0488 | <b>Δt: -0.0488s</b><br>Tm: 1.0663s | Tb: 1.2175s<br>Línea: L20-21 | Falla: 10<br>Estado: Descoordinado<extra></extra>",
          "<b>R13-R12</b><br>Índice Plot: 9<br>MT: -0.0445 | <b>Δt: -0.0445s</b><br>Tm: 2.3570s | Tb: 2.5125s<br>Línea: L13-14 | Falla: 10<br>Estado: Descoordinado<extra></extra>",
          "<b>R12-R11</b><br>Índice Plot: 10<br>MT: -0.0287 | <b>Δt: -0.0287s</b><br>Tm: 2.1414s | Tb: 2.3127s<br>Línea: L12-13 | Falla: 10<br>Estado: Descoordinado<extra></extra>",
          "<b>R51-R52</b><br>Índice Plot: 11<br>MT: -0.0207 | <b>Δt: -0.0207s</b><br>Tm: 1.2767s | Tb: 1.4560s<br>Línea: L14-15 | Falla: 90<br>Estado: Descoordinado<extra></extra>",
          "<b>R70-R20</b><br>Índice Plot: 12<br>MT: -0.0155 | <b>Δt: -0.0155s</b><br>Tm: 1.0578s | Tb: 1.2423s<br>Línea: L8-21 | Falla: 90<br>Estado: Descoordinado<extra></extra>",
          "<b>R68-R69</b><br>Índice Plot: 13<br>MT: -0.0071 | <b>Δt: -0.0071s</b><br>Tm: 1.9588s | Tb: 2.1517s<br>Línea: L31-32 | Falla: 90<br>Estado: Descoordinado<extra></extra>",
          "<b>R32-R31</b><br>Índice Plot: 14<br>MT: -0.0051 | <b>Δt: -0.0051s</b><br>Tm: 1.4394s | Tb: 1.6343s<br>Línea: L32-33 | Falla: 10<br>Estado: Descoordinado<extra></extra>",
          "<b>R30-R29</b><br>Índice Plot: 15<br>MT: -0.0046 | <b>Δt: -0.0046s</b><br>Tm: 1.6772s | Tb: 1.8726s<br>Línea: L30-31 | Falla: 10<br>Estado: Descoordinado<extra></extra>",
          "<b>R56-R57</b><br>Índice Plot: 16<br>MT: -0.0033 | <b>Δt: -0.0033s</b><br>Tm: 1.9971s | Tb: 2.1938s<br>Línea: L19-20 | Falla: 90<br>Estado: Descoordinado<extra></extra>",
          "<b>R19-R18</b><br>Índice Plot: 17<br>MT: -0.0029 | <b>Δt: -0.0029s</b><br>Tm: 0.9458s | Tb: 1.1429s<br>Línea: L19-20 | Falla: 10<br>Estado: Descoordinado<extra></extra>",
          "<b>R41-R42</b><br>Índice Plot: 18<br>MT: -0.0005 | <b>Δt: -0.0005s</b><br>Tm: 2.1446s | Tb: 2.3441s<br>Línea: L4-5 | Falla: 90<br>Estado: Descoordinado<extra></extra>",
          "<b>R63-R64</b><br>Índice Plot: 19<br>MT: 0.0000 | <b>Δt: 0.0537s</b><br>Tm: 1.6963s | Tb: 1.9500s<br>Línea: L26-27 | Falla: 90<br>Estado: Coordinado<extra></extra>",
          "<b>R18-R1</b><br>Índice Plot: 20<br>MT: 0.0000 | <b>Δt: 0.2613s</b><br>Tm: 1.1046s | Tb: 1.5659s<br>Línea: L2-19 | Falla: 10<br>Estado: Coordinado<extra></extra>",
          "<b>R38-R55</b><br>Índice Plot: 21<br>MT: 0.0000 | <b>Δt: 1.9308s</b><br>Tm: 0.1250s | Tb: 2.2558s<br>Línea: L1-2 | Falla: 90<br>Estado: Coordinado<extra></extra>",
          "<b>R10-R9</b><br>Índice Plot: 22<br>MT: 0.0000 | <b>Δt: 0.1193s</b><br>Tm: 2.3919s | Tb: 2.7112s<br>Línea: L10-11 | Falla: 10<br>Estado: Coordinado<extra></extra>",
          "<b>R47-R48</b><br>Índice Plot: 23<br>MT: 0.0000 | <b>Δt: 0.0455s</b><br>Tm: 0.1742s | Tb: 0.4197s<br>Línea: L10-11 | Falla: 90<br>Estado: Coordinado<extra></extra>",
          "<b>R11-R10</b><br>Índice Plot: 24<br>MT: 0.0000 | <b>Δt: 0.0240s</b><br>Tm: 2.2402s | Tb: 2.4642s<br>Línea: L11-12 | Falla: 10<br>Estado: Coordinado<extra></extra>",
          "<b>R48-R49</b><br>Índice Plot: 25<br>MT: 0.0000 | <b>Δt: 0.9172s</b><br>Tm: 0.3469s | Tb: 1.4641s<br>Línea: L11-12 | Falla: 90<br>Estado: Coordinado<extra></extra>",
          "<b>R48-R72</b><br>Índice Plot: 26<br>MT: 0.0000 | <b>Δt: 2.0941s</b><br>Tm: 0.3433s | Tb: 2.6374s<br>Línea: L11-12 | Falla: 90<br>Estado: Coordinado<extra></extra>",
          "<b>R53-R54</b><br>Índice Plot: 27<br>MT: 0.0000 | <b>Δt: 0.0799s</b><br>Tm: 1.0259s | Tb: 1.3058s<br>Línea: L16-17 | Falla: 90<br>Estado: Coordinado<extra></extra>",
          "<b>R49-R50</b><br>Índice Plot: 28<br>MT: 0.0000 | <b>Δt: 0.0325s</b><br>Tm: 1.0476s | Tb: 1.2801s<br>Línea: L12-13 | Falla: 90<br>Estado: Coordinado<extra></extra>",
          "<b>R50-R51</b><br>Índice Plot: 29<br>MT: 0.0000 | <b>Δt: 0.0409s</b><br>Tm: 1.1387s | Tb: 1.3796s<br>Línea: L13-14 | Falla: 90<br>Estado: Coordinado<extra></extra>",
          "<b>R51-R34</b><br>Índice Plot: 30<br>MT: 0.0000 | <b>Δt: 1.0940s</b><br>Tm: 1.3113s | Tb: 2.6053s<br>Línea: L14-15 | Falla: 90<br>Estado: Coordinado<extra></extra>",
          "<b>R15-R14</b><br>Índice Plot: 31<br>MT: 0.0000 | <b>Δt: 0.1908s</b><br>Tm: 2.4391s | Tb: 2.8299s<br>Línea: L15-16 | Falla: 10<br>Estado: Coordinado<extra></extra>",
          "<b>R15-R34</b><br>Índice Plot: 32<br>MT: 0.0000 | <b>Δt: 0.0495s</b><br>Tm: 2.4220s | Tb: 2.6715s<br>Línea: L15-16 | Falla: 10<br>Estado: Coordinado<extra></extra>",
          "<b>R52-R53</b><br>Índice Plot: 33<br>MT: 0.0000 | <b>Δt: 0.2250s</b><br>Tm: 0.9947s | Tb: 1.4197s<br>Línea: L15-16 | Falla: 90<br>Estado: Coordinado<extra></extra>",
          "<b>R16-R15</b><br>Índice Plot: 34<br>MT: 0.0000 | <b>Δt: 0.0161s</b><br>Tm: 2.4066s | Tb: 2.6227s<br>Línea: L16-17 | Falla: 10<br>Estado: Coordinado<extra></extra>",
          "<b>R18-R39</b><br>Índice Plot: 35<br>MT: 0.0000 | <b>Δt: 0.0185s</b><br>Tm: 1.0991s | Tb: 1.3176s<br>Línea: L2-19 | Falla: 10<br>Estado: Coordinado<extra></extra>",
          "<b>R12-R72</b><br>Índice Plot: 36<br>MT: 0.0000 | <b>Δt: 0.2277s</b><br>Tm: 2.1569s | Tb: 2.5846s<br>Línea: L12-13 | Falla: 10<br>Estado: Coordinado<extra></extra>",
          "<b>R2-R55</b><br>Índice Plot: 37<br>MT: 0.0000 | <b>Δt: 0.0480s</b><br>Tm: 2.0250s | Tb: 2.2730s<br>Línea: L2-3 | Falla: 10<br>Estado: Coordinado<extra></extra>",
          "<b>R35-R11</b><br>Índice Plot: 38<br>MT: 0.0000 | <b>Δt: 0.4871s</b><br>Tm: 2.3122s | Tb: 2.9993s<br>Línea: L12-22 | Falla: 90<br>Estado: Coordinado<extra></extra>",
          "<b>R74-R28</b><br>Índice Plot: 39<br>MT: 0.0000 | <b>Δt: 0.2790s</b><br>Tm: 1.6353s | Tb: 2.1143s<br>Línea: L25-29 | Falla: 90<br>Estado: Coordinado<extra></extra>",
          "<b>R39-R40</b><br>Índice Plot: 40<br>MT: 0.0000 | <b>Δt: 0.7675s</b><br>Tm: 1.2755s | Tb: 2.2430s<br>Línea: L2-3 | Falla: 90<br>Estado: Coordinado<extra></extra>",
          "<b>R39-R59</b><br>Índice Plot: 41<br>MT: 0.0000 | <b>Δt: 0.5610s</b><br>Tm: 1.2560s | Tb: 2.0170s<br>Línea: L2-3 | Falla: 90<br>Estado: Coordinado<extra></extra>",
          "<b>R57-R58</b><br>Índice Plot: 42<br>MT: 0.0000 | <b>Δt: 0.0534s</b><br>Tm: 2.0253s | Tb: 2.2787s<br>Línea: L20-21 | Falla: 90<br>Estado: Coordinado<extra></extra>",
          "<b>R57-R33</b><br>Índice Plot: 43<br>MT: 0.0000 | <b>Δt: 0.0333s</b><br>Tm: 2.0339s | Tb: 2.2672s<br>Línea: L20-21 | Falla: 90<br>Estado: Coordinado<extra></extra>",
          "<b>R21-R20</b><br>Índice Plot: 44<br>MT: 0.0000 | <b>Δt: 0.2557s</b><br>Tm: 0.8127s | Tb: 1.2684s<br>Línea: L21-22 | Falla: 10<br>Estado: Coordinado<extra></extra>",
          "<b>R21-R33</b><br>Índice Plot: 45<br>MT: 0.0000 | <b>Δt: 1.2742s</b><br>Tm: 0.8221s | Tb: 2.2963s<br>Línea: L21-22 | Falla: 10<br>Estado: Coordinado<extra></extra>",
          "<b>R58-R35</b><br>Índice Plot: 46<br>MT: 0.0000 | <b>Δt: 0.0189s</b><br>Tm: 2.0236s | Tb: 2.2425s<br>Línea: L21-22 | Falla: 90<br>Estado: Coordinado<extra></extra>",
          "<b>R33-R45</b><br>Índice Plot: 47<br>MT: 0.0000 | <b>Δt: 0.7326s</b><br>Tm: 1.6673s | Tb: 2.5999s<br>Línea: L8-21 | Falla: 10<br>Estado: Coordinado<extra></extra>",
          "<b>R70-R58</b><br>Índice Plot: 48<br>MT: 0.0000 | <b>Δt: 1.1283s</b><br>Tm: 1.0337s | Tb: 2.3620s<br>Línea: L8-21 | Falla: 90<br>Estado: Coordinado<extra></extra>",
          "<b>R72-R21</b><br>Índice Plot: 49<br>MT: 0.0000 | <b>Δt: 0.0758s</b><br>Tm: 1.1230s | Tb: 1.3988s<br>Línea: L12-22 | Falla: 10<br>Estado: Coordinado<extra></extra>",
          "<b>R17-R16</b><br>Índice Plot: 50<br>MT: 0.0000 | <b>Δt: 0.0755s</b><br>Tm: 2.4838s | Tb: 2.7593s<br>Línea: L17-18 | Falla: 10<br>Estado: Coordinado<extra></extra>",
          "<b>R35-R49</b><br>Índice Plot: 51<br>MT: 0.0000 | <b>Δt: 0.0012s</b><br>Tm: 2.2202s | Tb: 2.4214s<br>Línea: L12-22 | Falla: 90<br>Estado: Coordinado<extra></extra>",
          "<b>R23-R22</b><br>Índice Plot: 52<br>MT: 0.0000 | <b>Δt: 0.0267s</b><br>Tm: 1.8119s | Tb: 2.0386s<br>Línea: L23-24 | Falla: 10<br>Estado: Coordinado<extra></extra>",
          "<b>R60-R61</b><br>Índice Plot: 53<br>MT: 0.0000 | <b>Δt: 0.0808s</b><br>Tm: 1.5344s | Tb: 1.8152s<br>Línea: L23-24 | Falla: 90<br>Estado: Coordinado<extra></extra>",
          "<b>R24-R23</b><br>Índice Plot: 54<br>MT: 0.0000 | <b>Δt: 0.0329s</b><br>Tm: 1.8156s | Tb: 2.0485s<br>Línea: L24-25 | Falla: 10<br>Estado: Coordinado<extra></extra>",
          "<b>R71-R14</b><br>Índice Plot: 55<br>MT: 0.0000 | <b>Δt: 2.4193s</b><br>Tm: 0.3084s | Tb: 2.9277s<br>Línea: L9-15 | Falla: 90<br>Estado: Coordinado<extra></extra>",
          "<b>R37-R24</b><br>Índice Plot: 56<br>MT: 0.0000 | <b>Δt: 0.0737s</b><br>Tm: 1.8444s | Tb: 2.1181s<br>Línea: L25-29 | Falla: 10<br>Estado: Coordinado<extra></extra>",
          "<b>R74-R66</b><br>Índice Plot: 57<br>MT: 0.0000 | <b>Δt: 0.1155s</b><br>Tm: 1.6328s | Tb: 1.9483s<br>Línea: L25-29 | Falla: 90<br>Estado: Coordinado<extra></extra>",
          "<b>R54-R73</b><br>Índice Plot: 58<br>MT: 0.0000 | <b>Δt: 0.0490s</b><br>Tm: 1.1347s | Tb: 1.3837s<br>Línea: L17-18 | Falla: 90<br>Estado: Coordinado<extra></extra>",
          "<b>R42-R62</b><br>Índice Plot: 59<br>MT: 0.0000 | <b>Δt: 0.2169s</b><br>Tm: 2.1002s | Tb: 2.5171s<br>Línea: L5-6 | Falla: 90<br>Estado: Coordinado<extra></extra>",
          "<b>R73-R32</b><br>Índice Plot: 60<br>MT: 0.0000 | <b>Δt: 0.0361s</b><br>Tm: 1.2747s | Tb: 1.5108s<br>Línea: L18-33 | Falla: 90<br>Estado: Coordinado<extra></extra>",
          "<b>R4-R3</b><br>Índice Plot: 61<br>MT: 0.0000 | <b>Δt: 0.0381s</b><br>Tm: 1.5979s | Tb: 1.8360s<br>Línea: L4-5 | Falla: 10<br>Estado: Coordinado<extra></extra>",
          "<b>R42-R43</b><br>Índice Plot: 62<br>MT: 0.0000 | <b>Δt: 0.1226s</b><br>Tm: 2.1121s | Tb: 2.4347s<br>Línea: L5-6 | Falla: 90<br>Estado: Coordinado<extra></extra>",
          "<b>R22-R40</b><br>Índice Plot: 63<br>MT: 0.0000 | <b>Δt: 0.1025s</b><br>Tm: 1.9153s | Tb: 2.2178s<br>Línea: L3-23 | Falla: 10<br>Estado: Coordinado<extra></extra>",
          "<b>R3-R59</b><br>Índice Plot: 64<br>MT: 0.0000 | <b>Δt: 0.0836s</b><br>Tm: 1.7354s | Tb: 2.0190s<br>Línea: L3-4 | Falla: 10<br>Estado: Coordinado<extra></extra>",
          "<b>R28-R27</b><br>Índice Plot: 65<br>MT: 0.0000 | <b>Δt: 0.0092s</b><br>Tm: 1.8144s | Tb: 2.0236s<br>Línea: L28-29 | Falla: 10<br>Estado: Coordinado<extra></extra>",
          "<b>R65-R37</b><br>Índice Plot: 66<br>MT: 0.0000 | <b>Δt: 0.4873s</b><br>Tm: 1.4018s | Tb: 2.0891s<br>Línea: L28-29 | Falla: 90<br>Estado: Coordinado<extra></extra>",
          "<b>R65-R66</b><br>Índice Plot: 67<br>MT: 0.0000 | <b>Δt: 0.2946s</b><br>Tm: 1.4185s | Tb: 1.9131s<br>Línea: L28-29 | Falla: 90<br>Estado: Coordinado<extra></extra>",
          "<b>R29-R28</b><br>Índice Plot: 68<br>MT: 0.0000 | <b>Δt: 0.0203s</b><br>Tm: 1.8369s | Tb: 2.0572s<br>Línea: L29-30 | Falla: 10<br>Estado: Coordinado<extra></extra>",
          "<b>R29-R37</b><br>Índice Plot: 69<br>MT: 0.0000 | <b>Δt: 0.1085s</b><br>Tm: 1.7862s | Tb: 2.0947s<br>Línea: L29-30 | Falla: 10<br>Estado: Coordinado<extra></extra>",
          "<b>R66-R67</b><br>Índice Plot: 70<br>MT: 0.0000 | <b>Δt: 0.0433s</b><br>Tm: 1.7683s | Tb: 2.0116s<br>Línea: L29-30 | Falla: 90<br>Estado: Coordinado<extra></extra>",
          "<b>R22-R2</b><br>Índice Plot: 71<br>MT: 0.0000 | <b>Δt: 0.1215s</b><br>Tm: 1.9200s | Tb: 2.2415s<br>Línea: L3-23 | Falla: 10<br>Estado: Coordinado<extra></extra>",
          "<b>R59-R60</b><br>Índice Plot: 72<br>MT: 0.0000 | <b>Δt: 0.0534s</b><br>Tm: 1.6747s | Tb: 1.9281s<br>Línea: L3-23 | Falla: 90<br>Estado: Coordinado<extra></extra>",
          "<b>R3-R2</b><br>Índice Plot: 73<br>MT: 0.0000 | <b>Δt: 0.3459s</b><br>Tm: 1.7277s | Tb: 2.2736s<br>Línea: L3-4 | Falla: 10<br>Estado: Coordinado<extra></extra>",
          "<b>R38-R39</b><br>Índice Plot: 74<br>MT: 0.0000 | <b>Δt: 0.9681s</b><br>Tm: 0.1259s | Tb: 1.2940s<br>Línea: L1-2 | Falla: 90<br>Estado: Coordinado<extra></extra>",
          "<b>R67-R68</b><br>Índice Plot: 75<br>MT: 0.0000 | <b>Δt: 0.0039s</b><br>Tm: 1.8582s | Tb: 2.0621s<br>Línea: L30-31 | Falla: 90<br>Estado: Coordinado<extra></extra>",
          "<b>R40-R41</b><br>Índice Plot: 76<br>MT: 0.0000 | <b>Δt: 0.0657s</b><br>Tm: 2.0119s | Tb: 2.2776s<br>Línea: L3-4 | Falla: 90<br>Estado: Coordinado<extra></extra>",
          "<b>R31-R30</b><br>Índice Plot: 77<br>MT: 0.0000 | <b>Δt: 0.0173s</b><br>Tm: 1.5784s | Tb: 1.7957s<br>Línea: L31-32 | Falla: 10<br>Estado: Coordinado<extra></extra>",
          "<b>R34-R46</b><br>Índice Plot: 78<br>MT: 0.0000 | <b>Δt: 0.7794s</b><br>Tm: 1.9929s | Tb: 2.9723s<br>Línea: L9-15 | Falla: 10<br>Estado: Coordinado<extra></extra>",
          "<b>R36-R17</b><br>Índice Plot: 79<br>MT: 0.0000 | <b>Δt: 0.0467s</b><br>Tm: 2.4216s | Tb: 2.6683s<br>Línea: L18-33 | Falla: 10<br>Estado: Coordinado<extra></extra>",
          "<b>R34-R8</b><br>Índice Plot: 80<br>MT: 0.0000 | <b>Δt: 0.1077s</b><br>Tm: 2.0402s | Tb: 2.3479s<br>Línea: L9-15 | Falla: 10<br>Estado: Coordinado<extra></extra>",
          "<b>R8-R70</b><br>Índice Plot: 81<br>MT: 0.0000 | <b>Δt: 2.5157s</b><br>Tm: 0.2771s | Tb: 2.9928s<br>Línea: L8-9 | Falla: 10<br>Estado: Coordinado<extra></extra>",
          "<b>R26-R25</b><br>Índice Plot: 82<br>MT: 0.0000 | <b>Δt: 0.0231s</b><br>Tm: 1.9462s | Tb: 2.1693s<br>Línea: L26-27 | Falla: 10<br>Estado: Coordinado<extra></extra>",
          "<b>R61-R74</b><br>Índice Plot: 83<br>MT: 0.0000 | <b>Δt: 0.0424s</b><br>Tm: 1.5562s | Tb: 1.7986s<br>Línea: L24-25 | Falla: 90<br>Estado: Coordinado<extra></extra>",
          "<b>R27-R26</b><br>Índice Plot: 84<br>MT: 0.0000 | <b>Δt: 0.0083s</b><br>Tm: 1.7991s | Tb: 2.0074s<br>Línea: L27-28 | Falla: 10<br>Estado: Coordinado<extra></extra>",
          "<b>R69-R36</b><br>Índice Plot: 85<br>MT: 0.0000 | <b>Δt: 0.1889s</b><br>Tm: 2.1226s | Tb: 2.5115s<br>Línea: L32-33 | Falla: 90<br>Estado: Coordinado<extra></extra>",
          "<b>R5-R4</b><br>Índice Plot: 86<br>MT: 0.0000 | <b>Δt: 0.0301s</b><br>Tm: 1.5441s | Tb: 1.7742s<br>Línea: L5-6 | Falla: 10<br>Estado: Coordinado<extra></extra>",
          "<b>R64-R65</b><br>Índice Plot: 87<br>MT: 0.0000 | <b>Δt: 0.1013s</b><br>Tm: 1.3601s | Tb: 1.6614s<br>Línea: L27-28 | Falla: 90<br>Estado: Coordinado<extra></extra>",
          "<b>R55-R56</b><br>Índice Plot: 88<br>MT: 0.0000 | <b>Δt: 0.1061s</b><br>Tm: 2.1367s | Tb: 2.4428s<br>Línea: L2-19 | Falla: 90<br>Estado: Coordinado<extra></extra>",
          "<b>R25-R5</b><br>Índice Plot: 89<br>MT: 0.0000 | <b>Δt: 0.1209s</b><br>Tm: 2.1212s | Tb: 2.4421s<br>Línea: L6-26 | Falla: 10<br>Estado: Coordinado<extra></extra>",
          "<b>R25-R43</b><br>Índice Plot: 90<br>MT: 0.0000 | <b>Δt: 0.0187s</b><br>Tm: 2.1474s | Tb: 2.3661s<br>Línea: L6-26 | Falla: 10<br>Estado: Coordinado<extra></extra>",
          "<b>R62-R63</b><br>Índice Plot: 91<br>MT: 0.0000 | <b>Δt: 0.1166s</b><br>Tm: 1.7174s | Tb: 2.0340s<br>Línea: L6-26 | Falla: 90<br>Estado: Coordinado<extra></extra>",
          "<b>R6-R5</b><br>Índice Plot: 92<br>MT: 0.0000 | <b>Δt: 1.5962s</b><br>Tm: 0.5619s | Tb: 2.3581s<br>Línea: L6-7 | Falla: 10<br>Estado: Coordinado<extra></extra>",
          "<b>R6-R62</b><br>Índice Plot: 93<br>MT: 0.0000 | <b>Δt: 1.4435s</b><br>Tm: 0.6029s | Tb: 2.2464s<br>Línea: L6-7 | Falla: 10<br>Estado: Coordinado<extra></extra>",
          "<b>R43-R44</b><br>Índice Plot: 94<br>MT: 0.0000 | <b>Δt: 0.0399s</b><br>Tm: 2.2311s | Tb: 2.4710s<br>Línea: L6-7 | Falla: 90<br>Estado: Coordinado<extra></extra>",
          "<b>R7-R6</b><br>Índice Plot: 95<br>MT: 0.0000 | <b>Δt: 0.1865s</b><br>Tm: 0.4973s | Tb: 0.8838s<br>Línea: L7-8 | Falla: 10<br>Estado: Coordinado<extra></extra>",
          "<b>R44-R70</b><br>Índice Plot: 96<br>MT: 0.0000 | <b>Δt: 0.2063s</b><br>Tm: 2.2508s | Tb: 2.6571s<br>Línea: L7-8 | Falla: 90<br>Estado: Coordinado<extra></extra>",
          "<b>R44-R45</b><br>Índice Plot: 97<br>MT: 0.0000 | <b>Δt: 0.1118s</b><br>Tm: 2.2706s | Tb: 2.5824s<br>Línea: L7-8 | Falla: 90<br>Estado: Coordinado<extra></extra>",
          "<b>R8-R7</b><br>Índice Plot: 98<br>MT: 0.0000 | <b>Δt: 0.6662s</b><br>Tm: 0.2491s | Tb: 1.1153s<br>Línea: L8-9 | Falla: 10<br>Estado: Coordinado<extra></extra>",
          "<b>R9-R8</b><br>Índice Plot: 99<br>MT: 0.0000 | <b>Δt: 0.1612s</b><br>Tm: 2.3013s | Tb: 2.6625s<br>Línea: L9-10 | Falla: 10<br>Estado: Coordinado<extra></extra>",
          "<b>R71-R52</b><br>Índice Plot: 100<br>MT: 0.0000 | <b>Δt: 1.2018s</b><br>Tm: 0.2464s | Tb: 1.6482s<br>Línea: L9-15 | Falla: 90<br>Estado: Coordinado<extra></extra>"
         ],
         "type": "bar",
         "x": [
          1,
          2,
          3,
          4,
          5,
          6,
          7,
          8,
          9,
          10,
          11,
          12,
          13,
          14,
          15,
          16,
          17,
          18,
          19,
          20,
          21,
          22,
          23,
          24,
          25,
          26,
          27,
          28,
          29,
          30,
          31,
          32,
          33,
          34,
          35,
          36,
          37,
          38,
          39,
          40,
          41,
          42,
          43,
          44,
          45,
          46,
          47,
          48,
          49,
          50,
          51,
          52,
          53,
          54,
          55,
          56,
          57,
          58,
          59,
          60,
          61,
          62,
          63,
          64,
          65,
          66,
          67,
          68,
          69,
          70,
          71,
          72,
          73,
          74,
          75,
          76,
          77,
          78,
          79,
          80,
          81,
          82,
          83,
          84,
          85,
          86,
          87,
          88,
          89,
          90,
          91,
          92,
          93,
          94,
          95,
          96,
          97,
          98,
          99,
          100
         ],
         "y": [
          -1.3207,
          -0.9954999999999998,
          -0.4686000000000002,
          -0.3587000000000001,
          -0.17309999999999987,
          -0.1564,
          -0.05800000000000011,
          -0.04880000000000001,
          -0.04450000000000004,
          -0.028700000000000003,
          -0.020699999999999996,
          -0.015500000000000125,
          -0.007100000000000162,
          -0.005099999999999938,
          -0.004599999999999993,
          -0.003300000000000136,
          -0.002899999999999958,
          -0.0005000000000000004,
          0.053700000000000025,
          0.26130000000000003,
          1.9307999999999998,
          0.11929999999999968,
          0.04550000000000001,
          0.023999999999999744,
          0.9172,
          2.0940999999999996,
          0.07990000000000003,
          0.03249999999999992,
          0.04089999999999988,
          1.0940000000000003,
          0.19080000000000003,
          0.04949999999999982,
          0.22499999999999992,
          0.016099999999999948,
          0.018500000000000127,
          0.22770000000000018,
          0.04800000000000021,
          0.48710000000000003,
          0.2790000000000001,
          0.7674999999999998,
          0.5609999999999999,
          0.05340000000000006,
          0.03329999999999983,
          0.2557,
          1.2742,
          0.018900000000000083,
          0.7325999999999999,
          1.1283,
          0.07580000000000003,
          0.07550000000000007,
          0.0012000000000000344,
          0.026700000000000113,
          0.08079999999999993,
          0.032900000000000096,
          2.4193,
          0.07370000000000004,
          0.11549999999999988,
          0.04899999999999988,
          0.21690000000000004,
          0.036099999999999965,
          0.03809999999999997,
          0.12259999999999999,
          0.10249999999999998,
          0.08360000000000006,
          0.009200000000000041,
          0.48730000000000023,
          0.2945999999999999,
          0.02029999999999993,
          0.10849999999999999,
          0.04330000000000006,
          0.12149999999999989,
          0.053399999999999836,
          0.34590000000000004,
          0.9681,
          0.003899999999999959,
          0.06570000000000026,
          0.017300000000000038,
          0.7794000000000003,
          0.046699999999999686,
          0.10770000000000007,
          2.5157,
          0.023099999999999843,
          0.04239999999999994,
          0.00830000000000014,
          0.1889,
          0.03009999999999996,
          0.10129999999999989,
          0.10610000000000025,
          0.12089999999999995,
          0.01869999999999966,
          0.11659999999999976,
          1.5961999999999998,
          1.4435,
          0.03989999999999999,
          0.1865,
          0.20629999999999987,
          0.11179999999999984,
          0.6661999999999999,
          0.16120000000000018,
          1.2018000000000002
         ]
        }
       ],
       "layout": {
        "annotations": [
         {
          "showarrow": false,
          "text": "Límite CTI (Δt=0)",
          "x": 1,
          "xanchor": "right",
          "xref": "x domain",
          "y": 0,
          "yanchor": "top",
          "yref": "y"
         }
        ],
        "bargap": 0.1,
        "height": 900,
        "margin": {
         "b": 100,
         "l": 60,
         "r": 30,
         "t": 100
        },
        "shapes": [
         {
          "line": {
           "color": "black",
           "dash": "dash",
           "width": 1.5
          },
          "type": "line",
          "x0": 0,
          "x1": 1,
          "xref": "x domain",
          "y0": 0,
          "y1": 0,
          "yref": "y"
         }
        ],
        "template": {
         "data": {
          "bar": [
           {
            "error_x": {
             "color": "#2a3f5f"
            },
            "error_y": {
             "color": "#2a3f5f"
            },
            "marker": {
             "line": {
              "color": "white",
              "width": 0.5
             },
             "pattern": {
              "fillmode": "overlay",
              "size": 10,
              "solidity": 0.2
             }
            },
            "type": "bar"
           }
          ],
          "barpolar": [
           {
            "marker": {
             "line": {
              "color": "white",
              "width": 0.5
             },
             "pattern": {
              "fillmode": "overlay",
              "size": 10,
              "solidity": 0.2
             }
            },
            "type": "barpolar"
           }
          ],
          "carpet": [
           {
            "aaxis": {
             "endlinecolor": "#2a3f5f",
             "gridcolor": "#C8D4E3",
             "linecolor": "#C8D4E3",
             "minorgridcolor": "#C8D4E3",
             "startlinecolor": "#2a3f5f"
            },
            "baxis": {
             "endlinecolor": "#2a3f5f",
             "gridcolor": "#C8D4E3",
             "linecolor": "#C8D4E3",
             "minorgridcolor": "#C8D4E3",
             "startlinecolor": "#2a3f5f"
            },
            "type": "carpet"
           }
          ],
          "choropleth": [
           {
            "colorbar": {
             "outlinewidth": 0,
             "ticks": ""
            },
            "type": "choropleth"
           }
          ],
          "contour": [
           {
            "colorbar": {
             "outlinewidth": 0,
             "ticks": ""
            },
            "colorscale": [
             [
              0,
              "#0d0887"
             ],
             [
              0.1111111111111111,
              "#46039f"
             ],
             [
              0.2222222222222222,
              "#7201a8"
             ],
             [
              0.3333333333333333,
              "#9c179e"
             ],
             [
              0.4444444444444444,
              "#bd3786"
             ],
             [
              0.5555555555555556,
              "#d8576b"
             ],
             [
              0.6666666666666666,
              "#ed7953"
             ],
             [
              0.7777777777777778,
              "#fb9f3a"
             ],
             [
              0.8888888888888888,
              "#fdca26"
             ],
             [
              1,
              "#f0f921"
             ]
            ],
            "type": "contour"
           }
          ],
          "contourcarpet": [
           {
            "colorbar": {
             "outlinewidth": 0,
             "ticks": ""
            },
            "type": "contourcarpet"
           }
          ],
          "heatmap": [
           {
            "colorbar": {
             "outlinewidth": 0,
             "ticks": ""
            },
            "colorscale": [
             [
              0,
              "#0d0887"
             ],
             [
              0.1111111111111111,
              "#46039f"
             ],
             [
              0.2222222222222222,
              "#7201a8"
             ],
             [
              0.3333333333333333,
              "#9c179e"
             ],
             [
              0.4444444444444444,
              "#bd3786"
             ],
             [
              0.5555555555555556,
              "#d8576b"
             ],
             [
              0.6666666666666666,
              "#ed7953"
             ],
             [
              0.7777777777777778,
              "#fb9f3a"
             ],
             [
              0.8888888888888888,
              "#fdca26"
             ],
             [
              1,
              "#f0f921"
             ]
            ],
            "type": "heatmap"
           }
          ],
          "heatmapgl": [
           {
            "colorbar": {
             "outlinewidth": 0,
             "ticks": ""
            },
            "colorscale": [
             [
              0,
              "#0d0887"
             ],
             [
              0.1111111111111111,
              "#46039f"
             ],
             [
              0.2222222222222222,
              "#7201a8"
             ],
             [
              0.3333333333333333,
              "#9c179e"
             ],
             [
              0.4444444444444444,
              "#bd3786"
             ],
             [
              0.5555555555555556,
              "#d8576b"
             ],
             [
              0.6666666666666666,
              "#ed7953"
             ],
             [
              0.7777777777777778,
              "#fb9f3a"
             ],
             [
              0.8888888888888888,
              "#fdca26"
             ],
             [
              1,
              "#f0f921"
             ]
            ],
            "type": "heatmapgl"
           }
          ],
          "histogram": [
           {
            "marker": {
             "pattern": {
              "fillmode": "overlay",
              "size": 10,
              "solidity": 0.2
             }
            },
            "type": "histogram"
           }
          ],
          "histogram2d": [
           {
            "colorbar": {
             "outlinewidth": 0,
             "ticks": ""
            },
            "colorscale": [
             [
              0,
              "#0d0887"
             ],
             [
              0.1111111111111111,
              "#46039f"
             ],
             [
              0.2222222222222222,
              "#7201a8"
             ],
             [
              0.3333333333333333,
              "#9c179e"
             ],
             [
              0.4444444444444444,
              "#bd3786"
             ],
             [
              0.5555555555555556,
              "#d8576b"
             ],
             [
              0.6666666666666666,
              "#ed7953"
             ],
             [
              0.7777777777777778,
              "#fb9f3a"
             ],
             [
              0.8888888888888888,
              "#fdca26"
             ],
             [
              1,
              "#f0f921"
             ]
            ],
            "type": "histogram2d"
           }
          ],
          "histogram2dcontour": [
           {
            "colorbar": {
             "outlinewidth": 0,
             "ticks": ""
            },
            "colorscale": [
             [
              0,
              "#0d0887"
             ],
             [
              0.1111111111111111,
              "#46039f"
             ],
             [
              0.2222222222222222,
              "#7201a8"
             ],
             [
              0.3333333333333333,
              "#9c179e"
             ],
             [
              0.4444444444444444,
              "#bd3786"
             ],
             [
              0.5555555555555556,
              "#d8576b"
             ],
             [
              0.6666666666666666,
              "#ed7953"
             ],
             [
              0.7777777777777778,
              "#fb9f3a"
             ],
             [
              0.8888888888888888,
              "#fdca26"
             ],
             [
              1,
              "#f0f921"
             ]
            ],
            "type": "histogram2dcontour"
           }
          ],
          "mesh3d": [
           {
            "colorbar": {
             "outlinewidth": 0,
             "ticks": ""
            },
            "type": "mesh3d"
           }
          ],
          "parcoords": [
           {
            "line": {
             "colorbar": {
              "outlinewidth": 0,
              "ticks": ""
             }
            },
            "type": "parcoords"
           }
          ],
          "pie": [
           {
            "automargin": true,
            "type": "pie"
           }
          ],
          "scatter": [
           {
            "fillpattern": {
             "fillmode": "overlay",
             "size": 10,
             "solidity": 0.2
            },
            "type": "scatter"
           }
          ],
          "scatter3d": [
           {
            "line": {
             "colorbar": {
              "outlinewidth": 0,
              "ticks": ""
             }
            },
            "marker": {
             "colorbar": {
              "outlinewidth": 0,
              "ticks": ""
             }
            },
            "type": "scatter3d"
           }
          ],
          "scattercarpet": [
           {
            "marker": {
             "colorbar": {
              "outlinewidth": 0,
              "ticks": ""
             }
            },
            "type": "scattercarpet"
           }
          ],
          "scattergeo": [
           {
            "marker": {
             "colorbar": {
              "outlinewidth": 0,
              "ticks": ""
             }
            },
            "type": "scattergeo"
           }
          ],
          "scattergl": [
           {
            "marker": {
             "colorbar": {
              "outlinewidth": 0,
              "ticks": ""
             }
            },
            "type": "scattergl"
           }
          ],
          "scattermapbox": [
           {
            "marker": {
             "colorbar": {
              "outlinewidth": 0,
              "ticks": ""
             }
            },
            "type": "scattermapbox"
           }
          ],
          "scatterpolar": [
           {
            "marker": {
             "colorbar": {
              "outlinewidth": 0,
              "ticks": ""
             }
            },
            "type": "scatterpolar"
           }
          ],
          "scatterpolargl": [
           {
            "marker": {
             "colorbar": {
              "outlinewidth": 0,
              "ticks": ""
             }
            },
            "type": "scatterpolargl"
           }
          ],
          "scatterternary": [
           {
            "marker": {
             "colorbar": {
              "outlinewidth": 0,
              "ticks": ""
             }
            },
            "type": "scatterternary"
           }
          ],
          "surface": [
           {
            "colorbar": {
             "outlinewidth": 0,
             "ticks": ""
            },
            "colorscale": [
             [
              0,
              "#0d0887"
             ],
             [
              0.1111111111111111,
              "#46039f"
             ],
             [
              0.2222222222222222,
              "#7201a8"
             ],
             [
              0.3333333333333333,
              "#9c179e"
             ],
             [
              0.4444444444444444,
              "#bd3786"
             ],
             [
              0.5555555555555556,
              "#d8576b"
             ],
             [
              0.6666666666666666,
              "#ed7953"
             ],
             [
              0.7777777777777778,
              "#fb9f3a"
             ],
             [
              0.8888888888888888,
              "#fdca26"
             ],
             [
              1,
              "#f0f921"
             ]
            ],
            "type": "surface"
           }
          ],
          "table": [
           {
            "cells": {
             "fill": {
              "color": "#EBF0F8"
             },
             "line": {
              "color": "white"
             }
            },
            "header": {
             "fill": {
              "color": "#C8D4E3"
             },
             "line": {
              "color": "white"
             }
            },
            "type": "table"
           }
          ]
         },
         "layout": {
          "annotationdefaults": {
           "arrowcolor": "#2a3f5f",
           "arrowhead": 0,
           "arrowwidth": 1
          },
          "autotypenumbers": "strict",
          "coloraxis": {
           "colorbar": {
            "outlinewidth": 0,
            "ticks": ""
           }
          },
          "colorscale": {
           "diverging": [
            [
             0,
             "#8e0152"
            ],
            [
             0.1,
             "#c51b7d"
            ],
            [
             0.2,
             "#de77ae"
            ],
            [
             0.3,
             "#f1b6da"
            ],
            [
             0.4,
             "#fde0ef"
            ],
            [
             0.5,
             "#f7f7f7"
            ],
            [
             0.6,
             "#e6f5d0"
            ],
            [
             0.7,
             "#b8e186"
            ],
            [
             0.8,
             "#7fbc41"
            ],
            [
             0.9,
             "#4d9221"
            ],
            [
             1,
             "#276419"
            ]
           ],
           "sequential": [
            [
             0,
             "#0d0887"
            ],
            [
             0.1111111111111111,
             "#46039f"
            ],
            [
             0.2222222222222222,
             "#7201a8"
            ],
            [
             0.3333333333333333,
             "#9c179e"
            ],
            [
             0.4444444444444444,
             "#bd3786"
            ],
            [
             0.5555555555555556,
             "#d8576b"
            ],
            [
             0.6666666666666666,
             "#ed7953"
            ],
            [
             0.7777777777777778,
             "#fb9f3a"
            ],
            [
             0.8888888888888888,
             "#fdca26"
            ],
            [
             1,
             "#f0f921"
            ]
           ],
           "sequentialminus": [
            [
             0,
             "#0d0887"
            ],
            [
             0.1111111111111111,
             "#46039f"
            ],
            [
             0.2222222222222222,
             "#7201a8"
            ],
            [
             0.3333333333333333,
             "#9c179e"
            ],
            [
             0.4444444444444444,
             "#bd3786"
            ],
            [
             0.5555555555555556,
             "#d8576b"
            ],
            [
             0.6666666666666666,
             "#ed7953"
            ],
            [
             0.7777777777777778,
             "#fb9f3a"
            ],
            [
             0.8888888888888888,
             "#fdca26"
            ],
            [
             1,
             "#f0f921"
            ]
           ]
          },
          "colorway": [
           "#636efa",
           "#EF553B",
           "#00cc96",
           "#ab63fa",
           "#FFA15A",
           "#19d3f3",
           "#FF6692",
           "#B6E880",
           "#FF97FF",
           "#FECB52"
          ],
          "font": {
           "color": "#2a3f5f"
          },
          "geo": {
           "bgcolor": "white",
           "lakecolor": "white",
           "landcolor": "white",
           "showlakes": true,
           "showland": true,
           "subunitcolor": "#C8D4E3"
          },
          "hoverlabel": {
           "align": "left"
          },
          "hovermode": "closest",
          "mapbox": {
           "style": "light"
          },
          "paper_bgcolor": "white",
          "plot_bgcolor": "white",
          "polar": {
           "angularaxis": {
            "gridcolor": "#EBF0F8",
            "linecolor": "#EBF0F8",
            "ticks": ""
           },
           "bgcolor": "white",
           "radialaxis": {
            "gridcolor": "#EBF0F8",
            "linecolor": "#EBF0F8",
            "ticks": ""
           }
          },
          "scene": {
           "xaxis": {
            "backgroundcolor": "white",
            "gridcolor": "#DFE8F3",
            "gridwidth": 2,
            "linecolor": "#EBF0F8",
            "showbackground": true,
            "ticks": "",
            "zerolinecolor": "#EBF0F8"
           },
           "yaxis": {
            "backgroundcolor": "white",
            "gridcolor": "#DFE8F3",
            "gridwidth": 2,
            "linecolor": "#EBF0F8",
            "showbackground": true,
            "ticks": "",
            "zerolinecolor": "#EBF0F8"
           },
           "zaxis": {
            "backgroundcolor": "white",
            "gridcolor": "#DFE8F3",
            "gridwidth": 2,
            "linecolor": "#EBF0F8",
            "showbackground": true,
            "ticks": "",
            "zerolinecolor": "#EBF0F8"
           }
          },
          "shapedefaults": {
           "line": {
            "color": "#2a3f5f"
           }
          },
          "ternary": {
           "aaxis": {
            "gridcolor": "#DFE8F3",
            "linecolor": "#A2B1C6",
            "ticks": ""
           },
           "baxis": {
            "gridcolor": "#DFE8F3",
            "linecolor": "#A2B1C6",
            "ticks": ""
           },
           "bgcolor": "white",
           "caxis": {
            "gridcolor": "#DFE8F3",
            "linecolor": "#A2B1C6",
            "ticks": ""
           }
          },
          "title": {
           "x": 0.05
          },
          "xaxis": {
           "automargin": true,
           "gridcolor": "#EBF0F8",
           "linecolor": "#EBF0F8",
           "ticks": "",
           "title": {
            "standoff": 15
           },
           "zerolinecolor": "#EBF0F8",
           "zerolinewidth": 2
          },
          "yaxis": {
           "automargin": true,
           "gridcolor": "#EBF0F8",
           "linecolor": "#EBF0F8",
           "ticks": "",
           "title": {
            "standoff": 15
           },
           "zerolinecolor": "#EBF0F8",
           "zerolinewidth": 2
          }
         }
        },
        "title": {
         "text": "Diferencia de Tiempo (Δt = Tb - Tm - CTI) - Escenario: scenario_40 Optimizado<br><sup>CTI = 0.2s</sup>"
        },
        "xaxis": {
         "tickmode": "auto",
         "title": {
          "text": "Índice del Par de Relés (Ordenado por MT Ascendente)"
         }
        },
        "yaxis": {
         "gridcolor": "lightgrey",
         "title": {
          "text": "Δt [s]"
         },
         "zerolinecolor": "black",
         "zerolinewidth": 1.5
        }
       }
      }
     },
     "metadata": {},
     "output_type": "display_data"
    },
    {
     "name": "stdout",
     "output_type": "stream",
     "text": [
      "    Displaying delta_scatter plot...\n"
     ]
    },
    {
     "data": {
      "application/vnd.plotly.v1+json": {
       "config": {
        "plotlyServerURL": "https://plot.ly"
       },
       "data": [
        {
         "customdata": [
          [
           "R9-R71",
           -1.3207,
           2.2753,
           1.1546,
           "L9-10",
           "10",
           "Descoordinado"
          ],
          [
           "R45-R46",
           -0.9954999999999998,
           2.1973,
           1.4018,
           "L8-9",
           "90",
           "Descoordinado"
          ],
          [
           "R45-R71",
           -0.4686000000000002,
           2.2612,
           1.9926,
           "L8-9",
           "90",
           "Descoordinado"
          ],
          [
           "R2-R1",
           -0.3587000000000001,
           1.9838,
           1.8251,
           "L2-3",
           "10",
           "Descoordinado"
          ],
          [
           "R33-R7",
           -0.17309999999999987,
           1.676,
           1.7029,
           "L8-21",
           "10",
           "Descoordinado"
          ],
          [
           "R46-R47",
           -0.1564,
           0.2068,
           0.2504,
           "L9-10",
           "90",
           "Descoordinado"
          ],
          [
           "R14-R13",
           -0.05800000000000011,
           2.4242,
           2.5662,
           "L14-15",
           "10",
           "Descoordinado"
          ],
          [
           "R20-R19",
           -0.04880000000000001,
           1.0663,
           1.2175,
           "L20-21",
           "10",
           "Descoordinado"
          ],
          [
           "R13-R12",
           -0.04450000000000004,
           2.357,
           2.5125,
           "L13-14",
           "10",
           "Descoordinado"
          ],
          [
           "R12-R11",
           -0.028700000000000003,
           2.1414,
           2.3127,
           "L12-13",
           "10",
           "Descoordinado"
          ],
          [
           "R51-R52",
           -0.020699999999999996,
           1.2767,
           1.456,
           "L14-15",
           "90",
           "Descoordinado"
          ],
          [
           "R70-R20",
           -0.015500000000000125,
           1.0578,
           1.2423,
           "L8-21",
           "90",
           "Descoordinado"
          ],
          [
           "R68-R69",
           -0.007100000000000162,
           1.9588,
           2.1517,
           "L31-32",
           "90",
           "Descoordinado"
          ],
          [
           "R32-R31",
           -0.005099999999999938,
           1.4394,
           1.6343,
           "L32-33",
           "10",
           "Descoordinado"
          ],
          [
           "R30-R29",
           -0.004599999999999993,
           1.6772,
           1.8726,
           "L30-31",
           "10",
           "Descoordinado"
          ],
          [
           "R56-R57",
           -0.003300000000000136,
           1.9971,
           2.1938,
           "L19-20",
           "90",
           "Descoordinado"
          ],
          [
           "R19-R18",
           -0.002899999999999958,
           0.9458,
           1.1429,
           "L19-20",
           "10",
           "Descoordinado"
          ],
          [
           "R41-R42",
           -0.0005000000000000004,
           2.1446,
           2.3441,
           "L4-5",
           "90",
           "Descoordinado"
          ]
         ],
         "hovertemplate": "status=%{customdata[6]}<br>delta_t=%{y:.4f}<br>pair_label=%{customdata[0]}<br>mt=%{customdata[1]:.4f}<br>tm=%{customdata[2]:.4f}<br>tb=%{customdata[3]:.4f}<br>line=%{customdata[4]}<br>fault=%{customdata[5]}<extra></extra>",
         "legendgroup": "Descoordinado",
         "marker": {
          "color": "red",
          "opacity": 0.7,
          "size": 8,
          "symbol": "circle"
         },
         "mode": "markers",
         "name": "Descoordinado",
         "orientation": "v",
         "showlegend": true,
         "type": "scatter",
         "x": [
          1,
          2,
          3,
          4,
          5,
          6,
          7,
          8,
          9,
          10,
          11,
          12,
          13,
          14,
          15,
          16,
          17,
          18
         ],
         "xaxis": "x",
         "y": [
          -1.3207,
          -0.9954999999999998,
          -0.4686000000000002,
          -0.3587000000000001,
          -0.17309999999999987,
          -0.1564,
          -0.05800000000000011,
          -0.04880000000000001,
          -0.04450000000000004,
          -0.028700000000000003,
          -0.020699999999999996,
          -0.015500000000000125,
          -0.007100000000000162,
          -0.005099999999999938,
          -0.004599999999999993,
          -0.003300000000000136,
          -0.002899999999999958,
          -0.0005000000000000004
         ],
         "yaxis": "y"
        },
        {
         "customdata": [
          [
           "R63-R64",
           0,
           1.6963,
           1.95,
           "L26-27",
           "90",
           "Coordinado"
          ],
          [
           "R18-R1",
           0,
           1.1046,
           1.5659,
           "L2-19",
           "10",
           "Coordinado"
          ],
          [
           "R38-R55",
           0,
           0.125,
           2.2558,
           "L1-2",
           "90",
           "Coordinado"
          ],
          [
           "R10-R9",
           0,
           2.3919,
           2.7112,
           "L10-11",
           "10",
           "Coordinado"
          ],
          [
           "R47-R48",
           0,
           0.1742,
           0.4197,
           "L10-11",
           "90",
           "Coordinado"
          ],
          [
           "R11-R10",
           0,
           2.2402,
           2.4642,
           "L11-12",
           "10",
           "Coordinado"
          ],
          [
           "R48-R49",
           0,
           0.3469,
           1.4641,
           "L11-12",
           "90",
           "Coordinado"
          ],
          [
           "R48-R72",
           0,
           0.3433,
           2.6374,
           "L11-12",
           "90",
           "Coordinado"
          ],
          [
           "R53-R54",
           0,
           1.0259,
           1.3058,
           "L16-17",
           "90",
           "Coordinado"
          ],
          [
           "R49-R50",
           0,
           1.0476,
           1.2801,
           "L12-13",
           "90",
           "Coordinado"
          ],
          [
           "R50-R51",
           0,
           1.1387,
           1.3796,
           "L13-14",
           "90",
           "Coordinado"
          ],
          [
           "R51-R34",
           0,
           1.3113,
           2.6053,
           "L14-15",
           "90",
           "Coordinado"
          ],
          [
           "R15-R14",
           0,
           2.4391,
           2.8299,
           "L15-16",
           "10",
           "Coordinado"
          ],
          [
           "R15-R34",
           0,
           2.422,
           2.6715,
           "L15-16",
           "10",
           "Coordinado"
          ],
          [
           "R52-R53",
           0,
           0.9947,
           1.4197,
           "L15-16",
           "90",
           "Coordinado"
          ],
          [
           "R16-R15",
           0,
           2.4066,
           2.6227,
           "L16-17",
           "10",
           "Coordinado"
          ],
          [
           "R18-R39",
           0,
           1.0991,
           1.3176,
           "L2-19",
           "10",
           "Coordinado"
          ],
          [
           "R12-R72",
           0,
           2.1569,
           2.5846,
           "L12-13",
           "10",
           "Coordinado"
          ],
          [
           "R2-R55",
           0,
           2.025,
           2.273,
           "L2-3",
           "10",
           "Coordinado"
          ],
          [
           "R35-R11",
           0,
           2.3122,
           2.9993,
           "L12-22",
           "90",
           "Coordinado"
          ],
          [
           "R74-R28",
           0,
           1.6353,
           2.1143,
           "L25-29",
           "90",
           "Coordinado"
          ],
          [
           "R39-R40",
           0,
           1.2755,
           2.243,
           "L2-3",
           "90",
           "Coordinado"
          ],
          [
           "R39-R59",
           0,
           1.256,
           2.017,
           "L2-3",
           "90",
           "Coordinado"
          ],
          [
           "R57-R58",
           0,
           2.0253,
           2.2787,
           "L20-21",
           "90",
           "Coordinado"
          ],
          [
           "R57-R33",
           0,
           2.0339,
           2.2672,
           "L20-21",
           "90",
           "Coordinado"
          ],
          [
           "R21-R20",
           0,
           0.8127,
           1.2684,
           "L21-22",
           "10",
           "Coordinado"
          ],
          [
           "R21-R33",
           0,
           0.8221,
           2.2963,
           "L21-22",
           "10",
           "Coordinado"
          ],
          [
           "R58-R35",
           0,
           2.0236,
           2.2425,
           "L21-22",
           "90",
           "Coordinado"
          ],
          [
           "R33-R45",
           0,
           1.6673,
           2.5999,
           "L8-21",
           "10",
           "Coordinado"
          ],
          [
           "R70-R58",
           0,
           1.0337,
           2.362,
           "L8-21",
           "90",
           "Coordinado"
          ],
          [
           "R72-R21",
           0,
           1.123,
           1.3988,
           "L12-22",
           "10",
           "Coordinado"
          ],
          [
           "R17-R16",
           0,
           2.4838,
           2.7593,
           "L17-18",
           "10",
           "Coordinado"
          ],
          [
           "R35-R49",
           0,
           2.2202,
           2.4214,
           "L12-22",
           "90",
           "Coordinado"
          ],
          [
           "R23-R22",
           0,
           1.8119,
           2.0386,
           "L23-24",
           "10",
           "Coordinado"
          ],
          [
           "R60-R61",
           0,
           1.5344,
           1.8152,
           "L23-24",
           "90",
           "Coordinado"
          ],
          [
           "R24-R23",
           0,
           1.8156,
           2.0485,
           "L24-25",
           "10",
           "Coordinado"
          ],
          [
           "R71-R14",
           0,
           0.3084,
           2.9277,
           "L9-15",
           "90",
           "Coordinado"
          ],
          [
           "R37-R24",
           0,
           1.8444,
           2.1181,
           "L25-29",
           "10",
           "Coordinado"
          ],
          [
           "R74-R66",
           0,
           1.6328,
           1.9483,
           "L25-29",
           "90",
           "Coordinado"
          ],
          [
           "R54-R73",
           0,
           1.1347,
           1.3837,
           "L17-18",
           "90",
           "Coordinado"
          ],
          [
           "R42-R62",
           0,
           2.1002,
           2.5171,
           "L5-6",
           "90",
           "Coordinado"
          ],
          [
           "R73-R32",
           0,
           1.2747,
           1.5108,
           "L18-33",
           "90",
           "Coordinado"
          ],
          [
           "R4-R3",
           0,
           1.5979,
           1.836,
           "L4-5",
           "10",
           "Coordinado"
          ],
          [
           "R42-R43",
           0,
           2.1121,
           2.4347,
           "L5-6",
           "90",
           "Coordinado"
          ],
          [
           "R22-R40",
           0,
           1.9153,
           2.2178,
           "L3-23",
           "10",
           "Coordinado"
          ],
          [
           "R3-R59",
           0,
           1.7354,
           2.019,
           "L3-4",
           "10",
           "Coordinado"
          ],
          [
           "R28-R27",
           0,
           1.8144,
           2.0236,
           "L28-29",
           "10",
           "Coordinado"
          ],
          [
           "R65-R37",
           0,
           1.4018,
           2.0891,
           "L28-29",
           "90",
           "Coordinado"
          ],
          [
           "R65-R66",
           0,
           1.4185,
           1.9131,
           "L28-29",
           "90",
           "Coordinado"
          ],
          [
           "R29-R28",
           0,
           1.8369,
           2.0572,
           "L29-30",
           "10",
           "Coordinado"
          ],
          [
           "R29-R37",
           0,
           1.7862,
           2.0947,
           "L29-30",
           "10",
           "Coordinado"
          ],
          [
           "R66-R67",
           0,
           1.7683,
           2.0116,
           "L29-30",
           "90",
           "Coordinado"
          ],
          [
           "R22-R2",
           0,
           1.92,
           2.2415,
           "L3-23",
           "10",
           "Coordinado"
          ],
          [
           "R59-R60",
           0,
           1.6747,
           1.9281,
           "L3-23",
           "90",
           "Coordinado"
          ],
          [
           "R3-R2",
           0,
           1.7277,
           2.2736,
           "L3-4",
           "10",
           "Coordinado"
          ],
          [
           "R38-R39",
           0,
           0.1259,
           1.294,
           "L1-2",
           "90",
           "Coordinado"
          ],
          [
           "R67-R68",
           0,
           1.8582,
           2.0621,
           "L30-31",
           "90",
           "Coordinado"
          ],
          [
           "R40-R41",
           0,
           2.0119,
           2.2776,
           "L3-4",
           "90",
           "Coordinado"
          ],
          [
           "R31-R30",
           0,
           1.5784,
           1.7957,
           "L31-32",
           "10",
           "Coordinado"
          ],
          [
           "R34-R46",
           0,
           1.9929,
           2.9723,
           "L9-15",
           "10",
           "Coordinado"
          ],
          [
           "R36-R17",
           0,
           2.4216,
           2.6683,
           "L18-33",
           "10",
           "Coordinado"
          ],
          [
           "R34-R8",
           0,
           2.0402,
           2.3479,
           "L9-15",
           "10",
           "Coordinado"
          ],
          [
           "R8-R70",
           0,
           0.2771,
           2.9928,
           "L8-9",
           "10",
           "Coordinado"
          ],
          [
           "R26-R25",
           0,
           1.9462,
           2.1693,
           "L26-27",
           "10",
           "Coordinado"
          ],
          [
           "R61-R74",
           0,
           1.5562,
           1.7986,
           "L24-25",
           "90",
           "Coordinado"
          ],
          [
           "R27-R26",
           0,
           1.7991,
           2.0074,
           "L27-28",
           "10",
           "Coordinado"
          ],
          [
           "R69-R36",
           0,
           2.1226,
           2.5115,
           "L32-33",
           "90",
           "Coordinado"
          ],
          [
           "R5-R4",
           0,
           1.5441,
           1.7742,
           "L5-6",
           "10",
           "Coordinado"
          ],
          [
           "R64-R65",
           0,
           1.3601,
           1.6614,
           "L27-28",
           "90",
           "Coordinado"
          ],
          [
           "R55-R56",
           0,
           2.1367,
           2.4428,
           "L2-19",
           "90",
           "Coordinado"
          ],
          [
           "R25-R5",
           0,
           2.1212,
           2.4421,
           "L6-26",
           "10",
           "Coordinado"
          ],
          [
           "R25-R43",
           0,
           2.1474,
           2.3661,
           "L6-26",
           "10",
           "Coordinado"
          ],
          [
           "R62-R63",
           0,
           1.7174,
           2.034,
           "L6-26",
           "90",
           "Coordinado"
          ],
          [
           "R6-R5",
           0,
           0.5619,
           2.3581,
           "L6-7",
           "10",
           "Coordinado"
          ],
          [
           "R6-R62",
           0,
           0.6029,
           2.2464,
           "L6-7",
           "10",
           "Coordinado"
          ],
          [
           "R43-R44",
           0,
           2.2311,
           2.471,
           "L6-7",
           "90",
           "Coordinado"
          ],
          [
           "R7-R6",
           0,
           0.4973,
           0.8838,
           "L7-8",
           "10",
           "Coordinado"
          ],
          [
           "R44-R70",
           0,
           2.2508,
           2.6571,
           "L7-8",
           "90",
           "Coordinado"
          ],
          [
           "R44-R45",
           0,
           2.2706,
           2.5824,
           "L7-8",
           "90",
           "Coordinado"
          ],
          [
           "R8-R7",
           0,
           0.2491,
           1.1153,
           "L8-9",
           "10",
           "Coordinado"
          ],
          [
           "R9-R8",
           0,
           2.3013,
           2.6625,
           "L9-10",
           "10",
           "Coordinado"
          ],
          [
           "R71-R52",
           0,
           0.2464,
           1.6482,
           "L9-15",
           "90",
           "Coordinado"
          ]
         ],
         "hovertemplate": "status=%{customdata[6]}<br>delta_t=%{y:.4f}<br>pair_label=%{customdata[0]}<br>mt=%{customdata[1]:.4f}<br>tm=%{customdata[2]:.4f}<br>tb=%{customdata[3]:.4f}<br>line=%{customdata[4]}<br>fault=%{customdata[5]}<extra></extra>",
         "legendgroup": "Coordinado",
         "marker": {
          "color": "green",
          "opacity": 0.7,
          "size": 8,
          "symbol": "circle"
         },
         "mode": "markers",
         "name": "Coordinado",
         "orientation": "v",
         "showlegend": true,
         "type": "scatter",
         "x": [
          19,
          20,
          21,
          22,
          23,
          24,
          25,
          26,
          27,
          28,
          29,
          30,
          31,
          32,
          33,
          34,
          35,
          36,
          37,
          38,
          39,
          40,
          41,
          42,
          43,
          44,
          45,
          46,
          47,
          48,
          49,
          50,
          51,
          52,
          53,
          54,
          55,
          56,
          57,
          58,
          59,
          60,
          61,
          62,
          63,
          64,
          65,
          66,
          67,
          68,
          69,
          70,
          71,
          72,
          73,
          74,
          75,
          76,
          77,
          78,
          79,
          80,
          81,
          82,
          83,
          84,
          85,
          86,
          87,
          88,
          89,
          90,
          91,
          92,
          93,
          94,
          95,
          96,
          97,
          98,
          99,
          100
         ],
         "xaxis": "x",
         "y": [
          0.053700000000000025,
          0.26130000000000003,
          1.9307999999999998,
          0.11929999999999968,
          0.04550000000000001,
          0.023999999999999744,
          0.9172,
          2.0940999999999996,
          0.07990000000000003,
          0.03249999999999992,
          0.04089999999999988,
          1.0940000000000003,
          0.19080000000000003,
          0.04949999999999982,
          0.22499999999999992,
          0.016099999999999948,
          0.018500000000000127,
          0.22770000000000018,
          0.04800000000000021,
          0.48710000000000003,
          0.2790000000000001,
          0.7674999999999998,
          0.5609999999999999,
          0.05340000000000006,
          0.03329999999999983,
          0.2557,
          1.2742,
          0.018900000000000083,
          0.7325999999999999,
          1.1283,
          0.07580000000000003,
          0.07550000000000007,
          0.0012000000000000344,
          0.026700000000000113,
          0.08079999999999993,
          0.032900000000000096,
          2.4193,
          0.07370000000000004,
          0.11549999999999988,
          0.04899999999999988,
          0.21690000000000004,
          0.036099999999999965,
          0.03809999999999997,
          0.12259999999999999,
          0.10249999999999998,
          0.08360000000000006,
          0.009200000000000041,
          0.48730000000000023,
          0.2945999999999999,
          0.02029999999999993,
          0.10849999999999999,
          0.04330000000000006,
          0.12149999999999989,
          0.053399999999999836,
          0.34590000000000004,
          0.9681,
          0.003899999999999959,
          0.06570000000000026,
          0.017300000000000038,
          0.7794000000000003,
          0.046699999999999686,
          0.10770000000000007,
          2.5157,
          0.023099999999999843,
          0.04239999999999994,
          0.00830000000000014,
          0.1889,
          0.03009999999999996,
          0.10129999999999989,
          0.10610000000000025,
          0.12089999999999995,
          0.01869999999999966,
          0.11659999999999976,
          1.5961999999999998,
          1.4435,
          0.03989999999999999,
          0.1865,
          0.20629999999999987,
          0.11179999999999984,
          0.6661999999999999,
          0.16120000000000018,
          1.2018000000000002
         ],
         "yaxis": "y"
        }
       ],
       "layout": {
        "annotations": [
         {
          "showarrow": false,
          "text": "Límite CTI (Δt=0)",
          "x": 1,
          "xanchor": "right",
          "xref": "x domain",
          "y": 0,
          "yanchor": "top",
          "yref": "y"
         }
        ],
        "legend": {
         "title": {
          "text": "Estado Coordinación"
         },
         "tracegroupgap": 0
        },
        "shapes": [
         {
          "line": {
           "color": "black",
           "dash": "dash",
           "width": 1.5
          },
          "type": "line",
          "x0": 0,
          "x1": 1,
          "xref": "x domain",
          "y0": 0,
          "y1": 0,
          "yref": "y"
         }
        ],
        "template": {
         "data": {
          "bar": [
           {
            "error_x": {
             "color": "#2a3f5f"
            },
            "error_y": {
             "color": "#2a3f5f"
            },
            "marker": {
             "line": {
              "color": "white",
              "width": 0.5
             },
             "pattern": {
              "fillmode": "overlay",
              "size": 10,
              "solidity": 0.2
             }
            },
            "type": "bar"
           }
          ],
          "barpolar": [
           {
            "marker": {
             "line": {
              "color": "white",
              "width": 0.5
             },
             "pattern": {
              "fillmode": "overlay",
              "size": 10,
              "solidity": 0.2
             }
            },
            "type": "barpolar"
           }
          ],
          "carpet": [
           {
            "aaxis": {
             "endlinecolor": "#2a3f5f",
             "gridcolor": "#C8D4E3",
             "linecolor": "#C8D4E3",
             "minorgridcolor": "#C8D4E3",
             "startlinecolor": "#2a3f5f"
            },
            "baxis": {
             "endlinecolor": "#2a3f5f",
             "gridcolor": "#C8D4E3",
             "linecolor": "#C8D4E3",
             "minorgridcolor": "#C8D4E3",
             "startlinecolor": "#2a3f5f"
            },
            "type": "carpet"
           }
          ],
          "choropleth": [
           {
            "colorbar": {
             "outlinewidth": 0,
             "ticks": ""
            },
            "type": "choropleth"
           }
          ],
          "contour": [
           {
            "colorbar": {
             "outlinewidth": 0,
             "ticks": ""
            },
            "colorscale": [
             [
              0,
              "#0d0887"
             ],
             [
              0.1111111111111111,
              "#46039f"
             ],
             [
              0.2222222222222222,
              "#7201a8"
             ],
             [
              0.3333333333333333,
              "#9c179e"
             ],
             [
              0.4444444444444444,
              "#bd3786"
             ],
             [
              0.5555555555555556,
              "#d8576b"
             ],
             [
              0.6666666666666666,
              "#ed7953"
             ],
             [
              0.7777777777777778,
              "#fb9f3a"
             ],
             [
              0.8888888888888888,
              "#fdca26"
             ],
             [
              1,
              "#f0f921"
             ]
            ],
            "type": "contour"
           }
          ],
          "contourcarpet": [
           {
            "colorbar": {
             "outlinewidth": 0,
             "ticks": ""
            },
            "type": "contourcarpet"
           }
          ],
          "heatmap": [
           {
            "colorbar": {
             "outlinewidth": 0,
             "ticks": ""
            },
            "colorscale": [
             [
              0,
              "#0d0887"
             ],
             [
              0.1111111111111111,
              "#46039f"
             ],
             [
              0.2222222222222222,
              "#7201a8"
             ],
             [
              0.3333333333333333,
              "#9c179e"
             ],
             [
              0.4444444444444444,
              "#bd3786"
             ],
             [
              0.5555555555555556,
              "#d8576b"
             ],
             [
              0.6666666666666666,
              "#ed7953"
             ],
             [
              0.7777777777777778,
              "#fb9f3a"
             ],
             [
              0.8888888888888888,
              "#fdca26"
             ],
             [
              1,
              "#f0f921"
             ]
            ],
            "type": "heatmap"
           }
          ],
          "heatmapgl": [
           {
            "colorbar": {
             "outlinewidth": 0,
             "ticks": ""
            },
            "colorscale": [
             [
              0,
              "#0d0887"
             ],
             [
              0.1111111111111111,
              "#46039f"
             ],
             [
              0.2222222222222222,
              "#7201a8"
             ],
             [
              0.3333333333333333,
              "#9c179e"
             ],
             [
              0.4444444444444444,
              "#bd3786"
             ],
             [
              0.5555555555555556,
              "#d8576b"
             ],
             [
              0.6666666666666666,
              "#ed7953"
             ],
             [
              0.7777777777777778,
              "#fb9f3a"
             ],
             [
              0.8888888888888888,
              "#fdca26"
             ],
             [
              1,
              "#f0f921"
             ]
            ],
            "type": "heatmapgl"
           }
          ],
          "histogram": [
           {
            "marker": {
             "pattern": {
              "fillmode": "overlay",
              "size": 10,
              "solidity": 0.2
             }
            },
            "type": "histogram"
           }
          ],
          "histogram2d": [
           {
            "colorbar": {
             "outlinewidth": 0,
             "ticks": ""
            },
            "colorscale": [
             [
              0,
              "#0d0887"
             ],
             [
              0.1111111111111111,
              "#46039f"
             ],
             [
              0.2222222222222222,
              "#7201a8"
             ],
             [
              0.3333333333333333,
              "#9c179e"
             ],
             [
              0.4444444444444444,
              "#bd3786"
             ],
             [
              0.5555555555555556,
              "#d8576b"
             ],
             [
              0.6666666666666666,
              "#ed7953"
             ],
             [
              0.7777777777777778,
              "#fb9f3a"
             ],
             [
              0.8888888888888888,
              "#fdca26"
             ],
             [
              1,
              "#f0f921"
             ]
            ],
            "type": "histogram2d"
           }
          ],
          "histogram2dcontour": [
           {
            "colorbar": {
             "outlinewidth": 0,
             "ticks": ""
            },
            "colorscale": [
             [
              0,
              "#0d0887"
             ],
             [
              0.1111111111111111,
              "#46039f"
             ],
             [
              0.2222222222222222,
              "#7201a8"
             ],
             [
              0.3333333333333333,
              "#9c179e"
             ],
             [
              0.4444444444444444,
              "#bd3786"
             ],
             [
              0.5555555555555556,
              "#d8576b"
             ],
             [
              0.6666666666666666,
              "#ed7953"
             ],
             [
              0.7777777777777778,
              "#fb9f3a"
             ],
             [
              0.8888888888888888,
              "#fdca26"
             ],
             [
              1,
              "#f0f921"
             ]
            ],
            "type": "histogram2dcontour"
           }
          ],
          "mesh3d": [
           {
            "colorbar": {
             "outlinewidth": 0,
             "ticks": ""
            },
            "type": "mesh3d"
           }
          ],
          "parcoords": [
           {
            "line": {
             "colorbar": {
              "outlinewidth": 0,
              "ticks": ""
             }
            },
            "type": "parcoords"
           }
          ],
          "pie": [
           {
            "automargin": true,
            "type": "pie"
           }
          ],
          "scatter": [
           {
            "fillpattern": {
             "fillmode": "overlay",
             "size": 10,
             "solidity": 0.2
            },
            "type": "scatter"
           }
          ],
          "scatter3d": [
           {
            "line": {
             "colorbar": {
              "outlinewidth": 0,
              "ticks": ""
             }
            },
            "marker": {
             "colorbar": {
              "outlinewidth": 0,
              "ticks": ""
             }
            },
            "type": "scatter3d"
           }
          ],
          "scattercarpet": [
           {
            "marker": {
             "colorbar": {
              "outlinewidth": 0,
              "ticks": ""
             }
            },
            "type": "scattercarpet"
           }
          ],
          "scattergeo": [
           {
            "marker": {
             "colorbar": {
              "outlinewidth": 0,
              "ticks": ""
             }
            },
            "type": "scattergeo"
           }
          ],
          "scattergl": [
           {
            "marker": {
             "colorbar": {
              "outlinewidth": 0,
              "ticks": ""
             }
            },
            "type": "scattergl"
           }
          ],
          "scattermapbox": [
           {
            "marker": {
             "colorbar": {
              "outlinewidth": 0,
              "ticks": ""
             }
            },
            "type": "scattermapbox"
           }
          ],
          "scatterpolar": [
           {
            "marker": {
             "colorbar": {
              "outlinewidth": 0,
              "ticks": ""
             }
            },
            "type": "scatterpolar"
           }
          ],
          "scatterpolargl": [
           {
            "marker": {
             "colorbar": {
              "outlinewidth": 0,
              "ticks": ""
             }
            },
            "type": "scatterpolargl"
           }
          ],
          "scatterternary": [
           {
            "marker": {
             "colorbar": {
              "outlinewidth": 0,
              "ticks": ""
             }
            },
            "type": "scatterternary"
           }
          ],
          "surface": [
           {
            "colorbar": {
             "outlinewidth": 0,
             "ticks": ""
            },
            "colorscale": [
             [
              0,
              "#0d0887"
             ],
             [
              0.1111111111111111,
              "#46039f"
             ],
             [
              0.2222222222222222,
              "#7201a8"
             ],
             [
              0.3333333333333333,
              "#9c179e"
             ],
             [
              0.4444444444444444,
              "#bd3786"
             ],
             [
              0.5555555555555556,
              "#d8576b"
             ],
             [
              0.6666666666666666,
              "#ed7953"
             ],
             [
              0.7777777777777778,
              "#fb9f3a"
             ],
             [
              0.8888888888888888,
              "#fdca26"
             ],
             [
              1,
              "#f0f921"
             ]
            ],
            "type": "surface"
           }
          ],
          "table": [
           {
            "cells": {
             "fill": {
              "color": "#EBF0F8"
             },
             "line": {
              "color": "white"
             }
            },
            "header": {
             "fill": {
              "color": "#C8D4E3"
             },
             "line": {
              "color": "white"
             }
            },
            "type": "table"
           }
          ]
         },
         "layout": {
          "annotationdefaults": {
           "arrowcolor": "#2a3f5f",
           "arrowhead": 0,
           "arrowwidth": 1
          },
          "autotypenumbers": "strict",
          "coloraxis": {
           "colorbar": {
            "outlinewidth": 0,
            "ticks": ""
           }
          },
          "colorscale": {
           "diverging": [
            [
             0,
             "#8e0152"
            ],
            [
             0.1,
             "#c51b7d"
            ],
            [
             0.2,
             "#de77ae"
            ],
            [
             0.3,
             "#f1b6da"
            ],
            [
             0.4,
             "#fde0ef"
            ],
            [
             0.5,
             "#f7f7f7"
            ],
            [
             0.6,
             "#e6f5d0"
            ],
            [
             0.7,
             "#b8e186"
            ],
            [
             0.8,
             "#7fbc41"
            ],
            [
             0.9,
             "#4d9221"
            ],
            [
             1,
             "#276419"
            ]
           ],
           "sequential": [
            [
             0,
             "#0d0887"
            ],
            [
             0.1111111111111111,
             "#46039f"
            ],
            [
             0.2222222222222222,
             "#7201a8"
            ],
            [
             0.3333333333333333,
             "#9c179e"
            ],
            [
             0.4444444444444444,
             "#bd3786"
            ],
            [
             0.5555555555555556,
             "#d8576b"
            ],
            [
             0.6666666666666666,
             "#ed7953"
            ],
            [
             0.7777777777777778,
             "#fb9f3a"
            ],
            [
             0.8888888888888888,
             "#fdca26"
            ],
            [
             1,
             "#f0f921"
            ]
           ],
           "sequentialminus": [
            [
             0,
             "#0d0887"
            ],
            [
             0.1111111111111111,
             "#46039f"
            ],
            [
             0.2222222222222222,
             "#7201a8"
            ],
            [
             0.3333333333333333,
             "#9c179e"
            ],
            [
             0.4444444444444444,
             "#bd3786"
            ],
            [
             0.5555555555555556,
             "#d8576b"
            ],
            [
             0.6666666666666666,
             "#ed7953"
            ],
            [
             0.7777777777777778,
             "#fb9f3a"
            ],
            [
             0.8888888888888888,
             "#fdca26"
            ],
            [
             1,
             "#f0f921"
            ]
           ]
          },
          "colorway": [
           "#636efa",
           "#EF553B",
           "#00cc96",
           "#ab63fa",
           "#FFA15A",
           "#19d3f3",
           "#FF6692",
           "#B6E880",
           "#FF97FF",
           "#FECB52"
          ],
          "font": {
           "color": "#2a3f5f"
          },
          "geo": {
           "bgcolor": "white",
           "lakecolor": "white",
           "landcolor": "white",
           "showlakes": true,
           "showland": true,
           "subunitcolor": "#C8D4E3"
          },
          "hoverlabel": {
           "align": "left"
          },
          "hovermode": "closest",
          "mapbox": {
           "style": "light"
          },
          "paper_bgcolor": "white",
          "plot_bgcolor": "white",
          "polar": {
           "angularaxis": {
            "gridcolor": "#EBF0F8",
            "linecolor": "#EBF0F8",
            "ticks": ""
           },
           "bgcolor": "white",
           "radialaxis": {
            "gridcolor": "#EBF0F8",
            "linecolor": "#EBF0F8",
            "ticks": ""
           }
          },
          "scene": {
           "xaxis": {
            "backgroundcolor": "white",
            "gridcolor": "#DFE8F3",
            "gridwidth": 2,
            "linecolor": "#EBF0F8",
            "showbackground": true,
            "ticks": "",
            "zerolinecolor": "#EBF0F8"
           },
           "yaxis": {
            "backgroundcolor": "white",
            "gridcolor": "#DFE8F3",
            "gridwidth": 2,
            "linecolor": "#EBF0F8",
            "showbackground": true,
            "ticks": "",
            "zerolinecolor": "#EBF0F8"
           },
           "zaxis": {
            "backgroundcolor": "white",
            "gridcolor": "#DFE8F3",
            "gridwidth": 2,
            "linecolor": "#EBF0F8",
            "showbackground": true,
            "ticks": "",
            "zerolinecolor": "#EBF0F8"
           }
          },
          "shapedefaults": {
           "line": {
            "color": "#2a3f5f"
           }
          },
          "ternary": {
           "aaxis": {
            "gridcolor": "#DFE8F3",
            "linecolor": "#A2B1C6",
            "ticks": ""
           },
           "baxis": {
            "gridcolor": "#DFE8F3",
            "linecolor": "#A2B1C6",
            "ticks": ""
           },
           "bgcolor": "white",
           "caxis": {
            "gridcolor": "#DFE8F3",
            "linecolor": "#A2B1C6",
            "ticks": ""
           }
          },
          "title": {
           "x": 0.05
          },
          "xaxis": {
           "automargin": true,
           "gridcolor": "#EBF0F8",
           "linecolor": "#EBF0F8",
           "ticks": "",
           "title": {
            "standoff": 15
           },
           "zerolinecolor": "#EBF0F8",
           "zerolinewidth": 2
          },
          "yaxis": {
           "automargin": true,
           "gridcolor": "#EBF0F8",
           "linecolor": "#EBF0F8",
           "ticks": "",
           "title": {
            "standoff": 15
           },
           "zerolinecolor": "#EBF0F8",
           "zerolinewidth": 2
          }
         }
        },
        "title": {
         "text": "Diferencia de Tiempo (Δt vs Índice) - Escenario: scenario_40 Optimizado<br><sup>CTI = 0.2s</sup>"
        },
        "xaxis": {
         "anchor": "y",
         "domain": [
          0,
          1
         ],
         "tickmode": "auto",
         "title": {
          "text": "Índice del Par de Relés (Ordenado por MT Ascendente)"
         }
        },
        "yaxis": {
         "anchor": "x",
         "domain": [
          0,
          1
         ],
         "gridcolor": "lightgrey",
         "title": {
          "text": "Δt (Tb - Tm - CTI) [s]"
         },
         "zerolinecolor": "black",
         "zerolinewidth": 1.5
        }
       }
      }
     },
     "metadata": {},
     "output_type": "display_data"
    },
    {
     "name": "stdout",
     "output_type": "stream",
     "text": [
      "    Displaying mt_histogram plot...\n"
     ]
    },
    {
     "data": {
      "application/vnd.plotly.v1+json": {
       "config": {
        "plotlyServerURL": "https://plot.ly"
       },
       "data": [
        {
         "alignmentgroup": "True",
         "bingroup": "x",
         "hovertemplate": "status=Descoordinado<br>mt=%{x}<br>count=%{y}<extra></extra>",
         "legendgroup": "Descoordinado",
         "marker": {
          "color": "red",
          "pattern": {
           "shape": ""
          }
         },
         "name": "Descoordinado",
         "nbinsx": 20,
         "offsetgroup": "Descoordinado",
         "orientation": "v",
         "showlegend": true,
         "type": "histogram",
         "x": [
          -1.3207,
          -0.9954999999999998,
          -0.4686000000000002,
          -0.3587000000000001,
          -0.17309999999999987,
          -0.1564,
          -0.05800000000000011,
          -0.04880000000000001,
          -0.04450000000000004,
          -0.028700000000000003,
          -0.020699999999999996,
          -0.015500000000000125,
          -0.007100000000000162,
          -0.005099999999999938,
          -0.004599999999999993,
          -0.003300000000000136,
          -0.002899999999999958,
          -0.0005000000000000004
         ],
         "xaxis": "x",
         "yaxis": "y"
        },
        {
         "alignmentgroup": "True",
         "hovertemplate": "status=Descoordinado<br>mt=%{x}<extra></extra>",
         "legendgroup": "Descoordinado",
         "marker": {
          "color": "red"
         },
         "name": "Descoordinado",
         "notched": true,
         "offsetgroup": "Descoordinado",
         "showlegend": false,
         "type": "box",
         "x": [
          -1.3207,
          -0.9954999999999998,
          -0.4686000000000002,
          -0.3587000000000001,
          -0.17309999999999987,
          -0.1564,
          -0.05800000000000011,
          -0.04880000000000001,
          -0.04450000000000004,
          -0.028700000000000003,
          -0.020699999999999996,
          -0.015500000000000125,
          -0.007100000000000162,
          -0.005099999999999938,
          -0.004599999999999993,
          -0.003300000000000136,
          -0.002899999999999958,
          -0.0005000000000000004
         ],
         "xaxis": "x2",
         "yaxis": "y2"
        },
        {
         "alignmentgroup": "True",
         "bingroup": "x",
         "hovertemplate": "status=Coordinado<br>mt=%{x}<br>count=%{y}<extra></extra>",
         "legendgroup": "Coordinado",
         "marker": {
          "color": "green",
          "pattern": {
           "shape": ""
          }
         },
         "name": "Coordinado",
         "nbinsx": 20,
         "offsetgroup": "Coordinado",
         "orientation": "v",
         "showlegend": true,
         "type": "histogram",
         "x": [
          0,
          0,
          0,
          0,
          0,
          0,
          0,
          0,
          0,
          0,
          0,
          0,
          0,
          0,
          0,
          0,
          0,
          0,
          0,
          0,
          0,
          0,
          0,
          0,
          0,
          0,
          0,
          0,
          0,
          0,
          0,
          0,
          0,
          0,
          0,
          0,
          0,
          0,
          0,
          0,
          0,
          0,
          0,
          0,
          0,
          0,
          0,
          0,
          0,
          0,
          0,
          0,
          0,
          0,
          0,
          0,
          0,
          0,
          0,
          0,
          0,
          0,
          0,
          0,
          0,
          0,
          0,
          0,
          0,
          0,
          0,
          0,
          0,
          0,
          0,
          0,
          0,
          0,
          0,
          0,
          0,
          0
         ],
         "xaxis": "x",
         "yaxis": "y"
        },
        {
         "alignmentgroup": "True",
         "hovertemplate": "status=Coordinado<br>mt=%{x}<extra></extra>",
         "legendgroup": "Coordinado",
         "marker": {
          "color": "green"
         },
         "name": "Coordinado",
         "notched": true,
         "offsetgroup": "Coordinado",
         "showlegend": false,
         "type": "box",
         "x": [
          0,
          0,
          0,
          0,
          0,
          0,
          0,
          0,
          0,
          0,
          0,
          0,
          0,
          0,
          0,
          0,
          0,
          0,
          0,
          0,
          0,
          0,
          0,
          0,
          0,
          0,
          0,
          0,
          0,
          0,
          0,
          0,
          0,
          0,
          0,
          0,
          0,
          0,
          0,
          0,
          0,
          0,
          0,
          0,
          0,
          0,
          0,
          0,
          0,
          0,
          0,
          0,
          0,
          0,
          0,
          0,
          0,
          0,
          0,
          0,
          0,
          0,
          0,
          0,
          0,
          0,
          0,
          0,
          0,
          0,
          0,
          0,
          0,
          0,
          0,
          0,
          0,
          0,
          0,
          0,
          0,
          0
         ],
         "xaxis": "x2",
         "yaxis": "y2"
        }
       ],
       "layout": {
        "bargap": 0.1,
        "barmode": "relative",
        "legend": {
         "title": {
          "text": "Estado Coordinación"
         },
         "tracegroupgap": 0
        },
        "template": {
         "data": {
          "bar": [
           {
            "error_x": {
             "color": "#2a3f5f"
            },
            "error_y": {
             "color": "#2a3f5f"
            },
            "marker": {
             "line": {
              "color": "white",
              "width": 0.5
             },
             "pattern": {
              "fillmode": "overlay",
              "size": 10,
              "solidity": 0.2
             }
            },
            "type": "bar"
           }
          ],
          "barpolar": [
           {
            "marker": {
             "line": {
              "color": "white",
              "width": 0.5
             },
             "pattern": {
              "fillmode": "overlay",
              "size": 10,
              "solidity": 0.2
             }
            },
            "type": "barpolar"
           }
          ],
          "carpet": [
           {
            "aaxis": {
             "endlinecolor": "#2a3f5f",
             "gridcolor": "#C8D4E3",
             "linecolor": "#C8D4E3",
             "minorgridcolor": "#C8D4E3",
             "startlinecolor": "#2a3f5f"
            },
            "baxis": {
             "endlinecolor": "#2a3f5f",
             "gridcolor": "#C8D4E3",
             "linecolor": "#C8D4E3",
             "minorgridcolor": "#C8D4E3",
             "startlinecolor": "#2a3f5f"
            },
            "type": "carpet"
           }
          ],
          "choropleth": [
           {
            "colorbar": {
             "outlinewidth": 0,
             "ticks": ""
            },
            "type": "choropleth"
           }
          ],
          "contour": [
           {
            "colorbar": {
             "outlinewidth": 0,
             "ticks": ""
            },
            "colorscale": [
             [
              0,
              "#0d0887"
             ],
             [
              0.1111111111111111,
              "#46039f"
             ],
             [
              0.2222222222222222,
              "#7201a8"
             ],
             [
              0.3333333333333333,
              "#9c179e"
             ],
             [
              0.4444444444444444,
              "#bd3786"
             ],
             [
              0.5555555555555556,
              "#d8576b"
             ],
             [
              0.6666666666666666,
              "#ed7953"
             ],
             [
              0.7777777777777778,
              "#fb9f3a"
             ],
             [
              0.8888888888888888,
              "#fdca26"
             ],
             [
              1,
              "#f0f921"
             ]
            ],
            "type": "contour"
           }
          ],
          "contourcarpet": [
           {
            "colorbar": {
             "outlinewidth": 0,
             "ticks": ""
            },
            "type": "contourcarpet"
           }
          ],
          "heatmap": [
           {
            "colorbar": {
             "outlinewidth": 0,
             "ticks": ""
            },
            "colorscale": [
             [
              0,
              "#0d0887"
             ],
             [
              0.1111111111111111,
              "#46039f"
             ],
             [
              0.2222222222222222,
              "#7201a8"
             ],
             [
              0.3333333333333333,
              "#9c179e"
             ],
             [
              0.4444444444444444,
              "#bd3786"
             ],
             [
              0.5555555555555556,
              "#d8576b"
             ],
             [
              0.6666666666666666,
              "#ed7953"
             ],
             [
              0.7777777777777778,
              "#fb9f3a"
             ],
             [
              0.8888888888888888,
              "#fdca26"
             ],
             [
              1,
              "#f0f921"
             ]
            ],
            "type": "heatmap"
           }
          ],
          "heatmapgl": [
           {
            "colorbar": {
             "outlinewidth": 0,
             "ticks": ""
            },
            "colorscale": [
             [
              0,
              "#0d0887"
             ],
             [
              0.1111111111111111,
              "#46039f"
             ],
             [
              0.2222222222222222,
              "#7201a8"
             ],
             [
              0.3333333333333333,
              "#9c179e"
             ],
             [
              0.4444444444444444,
              "#bd3786"
             ],
             [
              0.5555555555555556,
              "#d8576b"
             ],
             [
              0.6666666666666666,
              "#ed7953"
             ],
             [
              0.7777777777777778,
              "#fb9f3a"
             ],
             [
              0.8888888888888888,
              "#fdca26"
             ],
             [
              1,
              "#f0f921"
             ]
            ],
            "type": "heatmapgl"
           }
          ],
          "histogram": [
           {
            "marker": {
             "pattern": {
              "fillmode": "overlay",
              "size": 10,
              "solidity": 0.2
             }
            },
            "type": "histogram"
           }
          ],
          "histogram2d": [
           {
            "colorbar": {
             "outlinewidth": 0,
             "ticks": ""
            },
            "colorscale": [
             [
              0,
              "#0d0887"
             ],
             [
              0.1111111111111111,
              "#46039f"
             ],
             [
              0.2222222222222222,
              "#7201a8"
             ],
             [
              0.3333333333333333,
              "#9c179e"
             ],
             [
              0.4444444444444444,
              "#bd3786"
             ],
             [
              0.5555555555555556,
              "#d8576b"
             ],
             [
              0.6666666666666666,
              "#ed7953"
             ],
             [
              0.7777777777777778,
              "#fb9f3a"
             ],
             [
              0.8888888888888888,
              "#fdca26"
             ],
             [
              1,
              "#f0f921"
             ]
            ],
            "type": "histogram2d"
           }
          ],
          "histogram2dcontour": [
           {
            "colorbar": {
             "outlinewidth": 0,
             "ticks": ""
            },
            "colorscale": [
             [
              0,
              "#0d0887"
             ],
             [
              0.1111111111111111,
              "#46039f"
             ],
             [
              0.2222222222222222,
              "#7201a8"
             ],
             [
              0.3333333333333333,
              "#9c179e"
             ],
             [
              0.4444444444444444,
              "#bd3786"
             ],
             [
              0.5555555555555556,
              "#d8576b"
             ],
             [
              0.6666666666666666,
              "#ed7953"
             ],
             [
              0.7777777777777778,
              "#fb9f3a"
             ],
             [
              0.8888888888888888,
              "#fdca26"
             ],
             [
              1,
              "#f0f921"
             ]
            ],
            "type": "histogram2dcontour"
           }
          ],
          "mesh3d": [
           {
            "colorbar": {
             "outlinewidth": 0,
             "ticks": ""
            },
            "type": "mesh3d"
           }
          ],
          "parcoords": [
           {
            "line": {
             "colorbar": {
              "outlinewidth": 0,
              "ticks": ""
             }
            },
            "type": "parcoords"
           }
          ],
          "pie": [
           {
            "automargin": true,
            "type": "pie"
           }
          ],
          "scatter": [
           {
            "fillpattern": {
             "fillmode": "overlay",
             "size": 10,
             "solidity": 0.2
            },
            "type": "scatter"
           }
          ],
          "scatter3d": [
           {
            "line": {
             "colorbar": {
              "outlinewidth": 0,
              "ticks": ""
             }
            },
            "marker": {
             "colorbar": {
              "outlinewidth": 0,
              "ticks": ""
             }
            },
            "type": "scatter3d"
           }
          ],
          "scattercarpet": [
           {
            "marker": {
             "colorbar": {
              "outlinewidth": 0,
              "ticks": ""
             }
            },
            "type": "scattercarpet"
           }
          ],
          "scattergeo": [
           {
            "marker": {
             "colorbar": {
              "outlinewidth": 0,
              "ticks": ""
             }
            },
            "type": "scattergeo"
           }
          ],
          "scattergl": [
           {
            "marker": {
             "colorbar": {
              "outlinewidth": 0,
              "ticks": ""
             }
            },
            "type": "scattergl"
           }
          ],
          "scattermapbox": [
           {
            "marker": {
             "colorbar": {
              "outlinewidth": 0,
              "ticks": ""
             }
            },
            "type": "scattermapbox"
           }
          ],
          "scatterpolar": [
           {
            "marker": {
             "colorbar": {
              "outlinewidth": 0,
              "ticks": ""
             }
            },
            "type": "scatterpolar"
           }
          ],
          "scatterpolargl": [
           {
            "marker": {
             "colorbar": {
              "outlinewidth": 0,
              "ticks": ""
             }
            },
            "type": "scatterpolargl"
           }
          ],
          "scatterternary": [
           {
            "marker": {
             "colorbar": {
              "outlinewidth": 0,
              "ticks": ""
             }
            },
            "type": "scatterternary"
           }
          ],
          "surface": [
           {
            "colorbar": {
             "outlinewidth": 0,
             "ticks": ""
            },
            "colorscale": [
             [
              0,
              "#0d0887"
             ],
             [
              0.1111111111111111,
              "#46039f"
             ],
             [
              0.2222222222222222,
              "#7201a8"
             ],
             [
              0.3333333333333333,
              "#9c179e"
             ],
             [
              0.4444444444444444,
              "#bd3786"
             ],
             [
              0.5555555555555556,
              "#d8576b"
             ],
             [
              0.6666666666666666,
              "#ed7953"
             ],
             [
              0.7777777777777778,
              "#fb9f3a"
             ],
             [
              0.8888888888888888,
              "#fdca26"
             ],
             [
              1,
              "#f0f921"
             ]
            ],
            "type": "surface"
           }
          ],
          "table": [
           {
            "cells": {
             "fill": {
              "color": "#EBF0F8"
             },
             "line": {
              "color": "white"
             }
            },
            "header": {
             "fill": {
              "color": "#C8D4E3"
             },
             "line": {
              "color": "white"
             }
            },
            "type": "table"
           }
          ]
         },
         "layout": {
          "annotationdefaults": {
           "arrowcolor": "#2a3f5f",
           "arrowhead": 0,
           "arrowwidth": 1
          },
          "autotypenumbers": "strict",
          "coloraxis": {
           "colorbar": {
            "outlinewidth": 0,
            "ticks": ""
           }
          },
          "colorscale": {
           "diverging": [
            [
             0,
             "#8e0152"
            ],
            [
             0.1,
             "#c51b7d"
            ],
            [
             0.2,
             "#de77ae"
            ],
            [
             0.3,
             "#f1b6da"
            ],
            [
             0.4,
             "#fde0ef"
            ],
            [
             0.5,
             "#f7f7f7"
            ],
            [
             0.6,
             "#e6f5d0"
            ],
            [
             0.7,
             "#b8e186"
            ],
            [
             0.8,
             "#7fbc41"
            ],
            [
             0.9,
             "#4d9221"
            ],
            [
             1,
             "#276419"
            ]
           ],
           "sequential": [
            [
             0,
             "#0d0887"
            ],
            [
             0.1111111111111111,
             "#46039f"
            ],
            [
             0.2222222222222222,
             "#7201a8"
            ],
            [
             0.3333333333333333,
             "#9c179e"
            ],
            [
             0.4444444444444444,
             "#bd3786"
            ],
            [
             0.5555555555555556,
             "#d8576b"
            ],
            [
             0.6666666666666666,
             "#ed7953"
            ],
            [
             0.7777777777777778,
             "#fb9f3a"
            ],
            [
             0.8888888888888888,
             "#fdca26"
            ],
            [
             1,
             "#f0f921"
            ]
           ],
           "sequentialminus": [
            [
             0,
             "#0d0887"
            ],
            [
             0.1111111111111111,
             "#46039f"
            ],
            [
             0.2222222222222222,
             "#7201a8"
            ],
            [
             0.3333333333333333,
             "#9c179e"
            ],
            [
             0.4444444444444444,
             "#bd3786"
            ],
            [
             0.5555555555555556,
             "#d8576b"
            ],
            [
             0.6666666666666666,
             "#ed7953"
            ],
            [
             0.7777777777777778,
             "#fb9f3a"
            ],
            [
             0.8888888888888888,
             "#fdca26"
            ],
            [
             1,
             "#f0f921"
            ]
           ]
          },
          "colorway": [
           "#636efa",
           "#EF553B",
           "#00cc96",
           "#ab63fa",
           "#FFA15A",
           "#19d3f3",
           "#FF6692",
           "#B6E880",
           "#FF97FF",
           "#FECB52"
          ],
          "font": {
           "color": "#2a3f5f"
          },
          "geo": {
           "bgcolor": "white",
           "lakecolor": "white",
           "landcolor": "white",
           "showlakes": true,
           "showland": true,
           "subunitcolor": "#C8D4E3"
          },
          "hoverlabel": {
           "align": "left"
          },
          "hovermode": "closest",
          "mapbox": {
           "style": "light"
          },
          "paper_bgcolor": "white",
          "plot_bgcolor": "white",
          "polar": {
           "angularaxis": {
            "gridcolor": "#EBF0F8",
            "linecolor": "#EBF0F8",
            "ticks": ""
           },
           "bgcolor": "white",
           "radialaxis": {
            "gridcolor": "#EBF0F8",
            "linecolor": "#EBF0F8",
            "ticks": ""
           }
          },
          "scene": {
           "xaxis": {
            "backgroundcolor": "white",
            "gridcolor": "#DFE8F3",
            "gridwidth": 2,
            "linecolor": "#EBF0F8",
            "showbackground": true,
            "ticks": "",
            "zerolinecolor": "#EBF0F8"
           },
           "yaxis": {
            "backgroundcolor": "white",
            "gridcolor": "#DFE8F3",
            "gridwidth": 2,
            "linecolor": "#EBF0F8",
            "showbackground": true,
            "ticks": "",
            "zerolinecolor": "#EBF0F8"
           },
           "zaxis": {
            "backgroundcolor": "white",
            "gridcolor": "#DFE8F3",
            "gridwidth": 2,
            "linecolor": "#EBF0F8",
            "showbackground": true,
            "ticks": "",
            "zerolinecolor": "#EBF0F8"
           }
          },
          "shapedefaults": {
           "line": {
            "color": "#2a3f5f"
           }
          },
          "ternary": {
           "aaxis": {
            "gridcolor": "#DFE8F3",
            "linecolor": "#A2B1C6",
            "ticks": ""
           },
           "baxis": {
            "gridcolor": "#DFE8F3",
            "linecolor": "#A2B1C6",
            "ticks": ""
           },
           "bgcolor": "white",
           "caxis": {
            "gridcolor": "#DFE8F3",
            "linecolor": "#A2B1C6",
            "ticks": ""
           }
          },
          "title": {
           "x": 0.05
          },
          "xaxis": {
           "automargin": true,
           "gridcolor": "#EBF0F8",
           "linecolor": "#EBF0F8",
           "ticks": "",
           "title": {
            "standoff": 15
           },
           "zerolinecolor": "#EBF0F8",
           "zerolinewidth": 2
          },
          "yaxis": {
           "automargin": true,
           "gridcolor": "#EBF0F8",
           "linecolor": "#EBF0F8",
           "ticks": "",
           "title": {
            "standoff": 15
           },
           "zerolinecolor": "#EBF0F8",
           "zerolinewidth": 2
          }
         }
        },
        "title": {
         "text": "Distribución de Valores MT - Escenario: scenario_40 Optimizado"
        },
        "xaxis": {
         "anchor": "y",
         "domain": [
          0,
          1
         ],
         "title": {
          "text": "Valor MT"
         }
        },
        "xaxis2": {
         "anchor": "y2",
         "domain": [
          0,
          1
         ],
         "matches": "x",
         "showgrid": true,
         "showticklabels": false
        },
        "yaxis": {
         "anchor": "x",
         "domain": [
          0,
          0.7326
         ],
         "title": {
          "text": "Frecuencia (Número de Pares)"
         }
        },
        "yaxis2": {
         "anchor": "x2",
         "domain": [
          0.7426,
          1
         ],
         "matches": "y2",
         "showgrid": false,
         "showline": false,
         "showticklabels": false,
         "ticks": ""
        }
       }
      }
     },
     "metadata": {},
     "output_type": "display_data"
    },
    {
     "name": "stdout",
     "output_type": "stream",
     "text": [
      "--- Plot generation, saving, and display complete for Scenario: scenario_40 ---\n",
      "\n",
      "--- Analysis Complete for Scenario: scenario_40 ---\n",
      "\n",
      "============================================\n",
      "=== Script Execution Finished ===\n",
      "============================================\n"
     ]
    }
   ],
   "source": [
    "# %% Import Libraries\n",
    "import json\n",
    "import matplotlib.pyplot as plt # Still needed for TMT summary plot if run for all\n",
    "import numpy as np\n",
    "import pandas as pd\n",
    "from collections import defaultdict\n",
    "import os\n",
    "import plotly.graph_objects as go\n",
    "import plotly.express as px\n",
    "import plotly.io as pio\n",
    "import traceback # For detailed error reporting\n",
    "\n",
    "# %% Configuration\n",
    "# Set default Plotly template\n",
    "# --- CORRECTED TEMPLATE NAME ---\n",
    "pio.templates.default = \"plotly_white\" # Standard template for white background\n",
    "# -------------------------------\n",
    "\n",
    "json_file_path = \"/Users/gustavo/Documents/Projects/TESIS_UNAL/ADAPTIVE_ALGORITHM/data/processed/independent_relay_pairs_transformer.json\"\n",
    "# Output directory for results - will be created if it doesn't exist\n",
    "output_dir = \"/Users/gustavo/Documents/Projects/TESIS_UNAL/ADAPTIVE_ALGORITHM/results/stransformer_coordination_plots\"\n",
    "\n",
    "# Coordination Time Interval (CTI)\n",
    "CTI = 0.2\n",
    "\n",
    "# %% Helper Functions\n",
    "\n",
    "def calculate_MT(tm, tb, cti=CTI):\n",
    "    \"\"\"Calculates the Miscoordination Index (MT) and the time difference delta.\"\"\"\n",
    "    delta_tmb = tb - tm - cti\n",
    "    MT = (delta_tmb - abs(delta_tmb)) / 2\n",
    "    return MT, delta_tmb\n",
    "\n",
    "def analyze_by_scenario(data, cti=CTI):\n",
    "    \"\"\"\n",
    "    Analyzes relay pair data, calculating MT, Delta_t, TMT,\n",
    "    and extracting additional info (line, fault) for each scenario.\n",
    "    Returns a dictionary mapping scenario_id to its analysis results (DataFrame, TMT).\n",
    "    \"\"\"\n",
    "    scenarios = defaultdict(lambda: {\"pairs_data\": []})\n",
    "    print(\"Starting data extraction and processing for scenarios...\")\n",
    "    processed_count = 0\n",
    "    skipped_count = 0\n",
    "    # --- Data Extraction and Initial Processing ---\n",
    "    for idx, relay_pair in enumerate(data):\n",
    "        record_label = f\"Record {idx+1}\"\n",
    "        scenario_id = relay_pair.get(\"scenario_id\")\n",
    "        if not scenario_id:\n",
    "            # print(f\"Warning: Skipping record {idx+1} - Missing 'scenario_id'.\")\n",
    "            skipped_count += 1\n",
    "            continue\n",
    "\n",
    "        record_label = f\"{record_label} (Scenario: {scenario_id})\"\n",
    "        main_relay = relay_pair.get(\"main_relay\")\n",
    "        backup_relay = relay_pair.get(\"backup_relay\")\n",
    "        if not main_relay or not backup_relay:\n",
    "            # print(f\"Warning: Skipping {record_label} - Missing 'main_relay' or 'backup_relay' data.\")\n",
    "            skipped_count += 1\n",
    "            continue\n",
    "\n",
    "        tm_val = main_relay.get(\"new_timeout\")\n",
    "        tb_val = backup_relay.get(\"new_timeout\")\n",
    "        main_relay_id = main_relay.get(\"relay\", f\"Main_Unknown_{idx+1}\")\n",
    "        backup_relay_id = backup_relay.get(\"relay\", f\"Backup_Unknown_{idx+1}\")\n",
    "        pair_name = f\"{main_relay_id}-{backup_relay_id}\"\n",
    "        record_label = f\"{record_label}, Pair: {pair_name}\"\n",
    "\n",
    "        if tm_val is None or tb_val is None:\n",
    "            # print(f\"Warning: Skipping {record_label} - Missing 'new_timeout' for main or backup relay.\")\n",
    "            skipped_count += 1\n",
    "            continue\n",
    "\n",
    "        line_info = relay_pair.get('line', main_relay.get('line', backup_relay.get('line', 'N/A')))\n",
    "        fault_info = relay_pair.get('fault', main_relay.get('fault', backup_relay.get('fault', 'N/A')))\n",
    "\n",
    "        try:\n",
    "             tm_float = float(tm_val)\n",
    "             tb_float = float(tb_val)\n",
    "             if tm_float < 0 or tb_float < 0:\n",
    "                 # print(f\"Warning: Skipping {record_label} - Negative time values detected (Tm={tm_float}, Tb={tb_float}).\")\n",
    "                 skipped_count += 1\n",
    "                 continue\n",
    "             mt, delta_t = calculate_MT(tm_float, tb_float, cti)\n",
    "        except (ValueError, TypeError) as e:\n",
    "             print(f\"Warning: Could not calculate MT for {record_label}. Invalid time values? Tm='{tm_val}', Tb='{tb_val}'. Error: {e}\")\n",
    "             skipped_count += 1\n",
    "             continue\n",
    "\n",
    "        pair_info = {\n",
    "            \"pair_label\": pair_name, \"mt\": mt, \"delta_t\": delta_t,\n",
    "            \"tm\": tm_float, \"tb\": tb_float, \"main_relay_id\": main_relay_id,\n",
    "            \"backup_relay_id\": backup_relay_id, \"line\": line_info,\n",
    "            \"fault\": fault_info, \"status\": \"Coordinado\" if delta_t >= 0 else \"Descoordinado\"\n",
    "        }\n",
    "        scenarios[scenario_id][\"pairs_data\"].append(pair_info)\n",
    "        processed_count += 1\n",
    "\n",
    "    print(f\"Data extraction complete. Processed pairs: {processed_count}, Skipped records/pairs: {skipped_count}\")\n",
    "\n",
    "    # --- Aggregation per Scenario ---\n",
    "    print(\"Aggregating results per scenario...\")\n",
    "    results = {}\n",
    "    all_scenario_ids = sorted(list(scenarios.keys()))\n",
    "\n",
    "    if not all_scenario_ids:\n",
    "        print(\"No scenarios found with valid data after processing.\")\n",
    "        return results\n",
    "\n",
    "    for scenario_id in all_scenario_ids:\n",
    "        scenario_pairs_list = scenarios[scenario_id][\"pairs_data\"]\n",
    "        if not scenario_pairs_list:\n",
    "            # print(f\"Info: Scenario '{scenario_id}' has no valid pairs after processing.\")\n",
    "            continue\n",
    "        try:\n",
    "            df = pd.DataFrame(scenario_pairs_list)\n",
    "            tmt = df[\"mt\"].sum()\n",
    "            results[scenario_id] = {\"detailed_df\": df, \"TMT\": tmt}\n",
    "            # print(f\"Scenario '{scenario_id}' processed. TMT: {tmt:.4f}, Pairs: {len(df)}\")\n",
    "        except Exception as e:\n",
    "            print(f\"Error creating DataFrame or calculating TMT for scenario '{scenario_id}': {e}\")\n",
    "            continue\n",
    "\n",
    "    print(\"Scenario aggregation complete.\")\n",
    "    return results\n",
    "\n",
    "\n",
    "# %% Plotting Functions\n",
    "\n",
    "def plot_scenario_details_plotly(scenario_data_df, scenario_id, output_dir, cti=CTI):\n",
    "    \"\"\"\n",
    "    Generates, SAVES, and DISPLAYS multiple interactive Plotly charts for a scenario:\n",
    "    1. MT Bar Chart\n",
    "    2. Delta_t Bar Chart  <-- NEW\n",
    "    3. Delta_t Scatter Plot\n",
    "    4. MT Histogram\n",
    "    \"\"\"\n",
    "    if not isinstance(scenario_data_df, pd.DataFrame) or scenario_data_df.empty:\n",
    "        print(f\"Plotting skipped for scenario {scenario_id}: No valid DataFrame provided.\")\n",
    "        return\n",
    "\n",
    "    print(f\"\\n--- Generating Plots for Scenario: {scenario_id} ---\")\n",
    "    # Sort by MT for consistent ordering in MT and Delta_t plots\n",
    "    df_sorted_mt = scenario_data_df.sort_values(by='mt', ascending=True).reset_index(drop=True)\n",
    "    df_sorted_mt['plot_index'] = df_sorted_mt.index + 1\n",
    "    tmt = df_sorted_mt[\"mt\"].sum()\n",
    "    n_pairs = len(df_sorted_mt)\n",
    "\n",
    "    # Common hover text generation logic (avoids repetition)\n",
    "    def generate_hover_text(row):\n",
    "        return (f\"<b>{row['pair_label']}</b><br>Índice Plot: {row['plot_index']}<br>\" +\n",
    "                f\"MT: {row['mt']:.4f} | <b>Δt: {row['delta_t']:.4f}s</b><br>\" +\n",
    "                f\"Tm: {row['tm']:.4f}s | Tb: {row['tb']:.4f}s<br>Línea: {row['line']} | Falla: {row['fault']}<br>\" +\n",
    "                f\"Estado: {row['status']}<extra></extra>\")\n",
    "\n",
    "    hover_texts = [generate_hover_text(row) for _, row in df_sorted_mt.iterrows()]\n",
    "\n",
    "    # --- 1. MT Bar Chart (Shows all pairs, positive and negative MT) ---\n",
    "    try:\n",
    "        print(f\"  Generating MT Bar Chart...\")\n",
    "        colors_mt = ['red' if mt < 0 else 'green' for mt in df_sorted_mt['mt']]\n",
    "        fig_mt_bar = go.Figure(data=[go.Bar(\n",
    "            x=df_sorted_mt['plot_index'], y=df_sorted_mt['mt'], marker_color=colors_mt,\n",
    "            name='Índice MT', text=hover_texts, hoverinfo='text'\n",
    "        )])\n",
    "        fig_mt_bar.add_hline(y=0, line_width=1.5, line_dash=\"dash\", line_color=\"black\")\n",
    "        fig_mt_bar.update_layout(\n",
    "            title=f'Índice de Descoordinación (MT) - Escenario: {scenario_id} Optimizado<br><sup>TMT = {tmt:.4f} | Pares = {n_pairs}</sup>',\n",
    "            xaxis_title='Índice del Par de Relés (Ordenado por MT Ascendente)', yaxis_title='Índice MT',\n",
    "            xaxis=dict(tickmode='auto'),\n",
    "            yaxis=dict(gridcolor='lightgrey', zerolinecolor='black', zerolinewidth=1.5),\n",
    "            bargap=0.1, height=max(500, 400 + n_pairs * 5), margin=dict(l=60, r=30, t=100, b=100)\n",
    "        )\n",
    "    except Exception as e:\n",
    "        print(f\"    Error generating MT Bar Chart: {e}\")\n",
    "        fig_mt_bar = None\n",
    "\n",
    "    # --- 2. Delta_t Bar Chart (Shows all pairs, positive and negative Delta_t) --- <<< NEW PLOT\n",
    "    try:\n",
    "        print(f\"  Generating Delta_t Bar Chart...\")\n",
    "        colors_delta = ['red' if delta_t < 0 else 'green' for delta_t in df_sorted_mt['delta_t']]\n",
    "        fig_delta_bar = go.Figure(data=[go.Bar(\n",
    "            x=df_sorted_mt['plot_index'], y=df_sorted_mt['delta_t'], marker_color=colors_delta,\n",
    "            name='Δt (Tb - Tm - CTI)', text=hover_texts, hoverinfo='text'\n",
    "        )])\n",
    "        fig_delta_bar.add_hline(y=0, line_width=1.5, line_dash=\"dash\", line_color=\"black\",\n",
    "                                annotation_text=\"Límite CTI (Δt=0)\", annotation_position=\"bottom right\")\n",
    "        fig_delta_bar.update_layout(\n",
    "            title=f'Diferencia de Tiempo (Δt = Tb - Tm - CTI) - Escenario: {scenario_id} Optimizado<br><sup>CTI = {cti}s</sup>',\n",
    "            xaxis_title='Índice del Par de Relés (Ordenado por MT Ascendente)', yaxis_title='Δt [s]',\n",
    "            xaxis=dict(tickmode='auto'),\n",
    "            yaxis=dict(gridcolor='lightgrey', zerolinecolor='black', zerolinewidth=1.5),\n",
    "            bargap=0.1, height=max(500, 400 + n_pairs * 5), margin=dict(l=60, r=30, t=100, b=100)\n",
    "        )\n",
    "    except Exception as e:\n",
    "        print(f\"    Error generating Delta_t Bar Chart: {e}\")\n",
    "        fig_delta_bar = None\n",
    "\n",
    "    # --- 3. Delta_t Scatter Plot (Shows all pairs, colors by status) ---\n",
    "    try:\n",
    "        print(f\"  Generating Delta_t Scatter Plot...\")\n",
    "        fig_delta_scatter = px.scatter(\n",
    "            df_sorted_mt, x='plot_index', y='delta_t', color='status',\n",
    "            color_discrete_map={'Coordinado': 'green', 'Descoordinado': 'red'},\n",
    "            hover_data={'plot_index': False, 'pair_label': True, 'delta_t': ':.4f', 'mt': ':.4f',\n",
    "                        'tm': ':.4f', 'tb': ':.4f', 'line': True, 'fault': True, 'status': True},\n",
    "            title=f'Diferencia de Tiempo (Δt vs Índice) - Escenario: {scenario_id} Optimizado<br><sup>CTI = {cti}s</sup>'\n",
    "        )\n",
    "        fig_delta_scatter.add_hline(y=0, line_width=1.5, line_dash=\"dash\", line_color=\"black\",\n",
    "                                     annotation_text=\"Límite CTI (Δt=0)\", annotation_position=\"bottom right\")\n",
    "        fig_delta_scatter.update_layout(\n",
    "            xaxis_title='Índice del Par de Relés (Ordenado por MT Ascendente)', yaxis_title='Δt (Tb - Tm - CTI) [s]',\n",
    "            xaxis=dict(tickmode='auto'), yaxis=dict(gridcolor='lightgrey', zerolinecolor='black', zerolinewidth=1.5),\n",
    "            legend_title_text='Estado Coordinación'\n",
    "        )\n",
    "        fig_delta_scatter.update_traces(marker=dict(size=8, opacity=0.7), selector=dict(mode='markers'))\n",
    "    except Exception as e:\n",
    "        print(f\"    Error generating Delta_t Scatter Plot: {e}\")\n",
    "        fig_delta_scatter = None\n",
    "\n",
    "    # --- 4. MT Histogram ---\n",
    "    try:\n",
    "        print(f\"  Generating MT Histogram...\")\n",
    "        fig_mt_hist = px.histogram(\n",
    "            df_sorted_mt, x='mt', color='status',\n",
    "            color_discrete_map={'Coordinado': 'green', 'Descoordinado': 'red'},\n",
    "            marginal='box', nbins=max(10, n_pairs // 5),\n",
    "            title=f\"Distribución de Valores MT - Escenario: {scenario_id} Optimizado\"\n",
    "        )\n",
    "        fig_mt_hist.update_layout(\n",
    "            xaxis_title='Valor MT', yaxis_title='Frecuencia (Número de Pares)',\n",
    "            legend_title_text='Estado Coordinación', bargap=0.1\n",
    "        )\n",
    "    except Exception as e:\n",
    "        print(f\"    Error generating MT Histogram: {e}\")\n",
    "        fig_mt_hist = None\n",
    "\n",
    "    # --- Save Plots ---\n",
    "    plots_to_save = {\n",
    "        \"mt_bar\": fig_mt_bar,\n",
    "        \"delta_bar\": fig_delta_bar, # <<< Added new plot\n",
    "        \"delta_scatter\": fig_delta_scatter,\n",
    "        \"mt_histogram\": fig_mt_hist\n",
    "    }\n",
    "    print(f\"  Saving plots for {scenario_id}...\")\n",
    "    kaleido_error_shown = False\n",
    "    for name, fig in plots_to_save.items():\n",
    "        if fig is None:\n",
    "            print(f\"    Skipping saving/display for '{name}' plot (generation failed).\")\n",
    "            continue\n",
    "        base_filename = os.path.join(output_dir, f\"{scenario_id}_{name}\") # Use os.path.join\n",
    "        html_filename = f\"{base_filename}.html\"\n",
    "        png_filename = f\"{base_filename}.png\"\n",
    "\n",
    "        # Save HTML\n",
    "        try: fig.write_html(html_filename)\n",
    "        except Exception as e: print(f\"    Error saving HTML plot '{html_filename}': {e}\")\n",
    "\n",
    "        # Save PNG (optional, requires kaleido)\n",
    "        try: fig.write_image(png_filename, scale=2)\n",
    "        except ValueError as e:\n",
    "            if \"kaleido\" in str(e) and not kaleido_error_shown:\n",
    "                print(\"\\n    Info: Install kaleido for static PNG export: pip install -U kaleido\")\n",
    "                print(\"    Skipping further PNG saving attempts if Kaleido is missing.\\n\")\n",
    "                kaleido_error_shown = True\n",
    "            elif \"kaleido\" not in str(e): print(f\"    Error saving static image '{png_filename}': {e}\")\n",
    "        except Exception as e: print(f\"    Unexpected error saving static image '{png_filename}': {e}\")\n",
    "\n",
    "        # --- DISPLAY PLOT IN JUPYTER/OUTPUT ---\n",
    "        print(f\"    Displaying {name} plot...\")\n",
    "        fig.show() # This line displays the plot in the notebook output or default browser\n",
    "        # ---------------------------------\n",
    "\n",
    "    print(f\"--- Plot generation, saving, and display complete for Scenario: {scenario_id} ---\")\n",
    "\n",
    "\n",
    "# %% Main Execution Logic - Focused on Single Scenario\n",
    "\n",
    "def main_analyze_single_scenario(data, scenario_id_to_analyze, cti=CTI):\n",
    "    \"\"\"\n",
    "    Loads data, performs analysis, generates detailed table, stats, and plots\n",
    "    SPECIFICALLY for the given scenario_id_to_analyze.\n",
    "    \"\"\"\n",
    "    print(f\"--- Starting Analysis for Single Scenario: {scenario_id_to_analyze} ---\")\n",
    "    print(f\"Using CTI = {cti}s\")\n",
    "\n",
    "    # --- Ensure Output Directory Exists ---\n",
    "    try:\n",
    "        os.makedirs(output_dir, exist_ok=True)\n",
    "        print(f\"Results will be saved in: {output_dir}\")\n",
    "    except OSError as e:\n",
    "        print(f\"Error: Could not create output directory '{output_dir}'. Check permissions. Error: {e}\")\n",
    "        return\n",
    "\n",
    "    # --- Analyze Data (for all scenarios, then filter) ---\n",
    "    all_results = analyze_by_scenario(data, cti)\n",
    "\n",
    "    if not all_results:\n",
    "        print(\"Error: Analysis yielded no results. Please check input data and analysis function.\")\n",
    "        return\n",
    "\n",
    "    # --- Detailed Analysis for the Specified Scenario ---\n",
    "    if scenario_id_to_analyze in all_results:\n",
    "        print(f\"\\n--- Processing Detailed Analysis for: {scenario_id_to_analyze} ---\")\n",
    "        scenario_result = all_results[scenario_id_to_analyze]\n",
    "        detailed_df = scenario_result.get(\"detailed_df\")\n",
    "\n",
    "        if detailed_df is not None and not detailed_df.empty:\n",
    "            try:\n",
    "                detailed_df_sorted = detailed_df.sort_values(by=\"mt\", ascending=True).reset_index(drop=True)\n",
    "            except KeyError:\n",
    "                 print(f\"Error: 'mt' column not found in DataFrame for scenario {scenario_id_to_analyze}. Cannot proceed.\")\n",
    "                 return\n",
    "\n",
    "            # --- Print Coordination Summary Statistics ---\n",
    "            print(\"\\n--- Resumen de Coordinación ---\") # <<< Renamed section for clarity\n",
    "            n_total = len(detailed_df_sorted)\n",
    "            n_coord = len(detailed_df_sorted[detailed_df_sorted['status'] == 'Coordinado'])\n",
    "            n_descoord = n_total - n_coord\n",
    "            coord_pct = (n_coord / n_total * 100) if n_total > 0 else 0\n",
    "            descoord_pct = (n_descoord / n_total * 100) if n_total > 0 else 0\n",
    "            print(f\"Total Pares Analizados: {n_total}\")\n",
    "            print(f\"Pares Coordinados (Δt >= 0): {n_coord} ({coord_pct:.1f}%)\") # <<< Shows count and percentage\n",
    "            print(f\"Pares Descoordinados (Δt < 0): {n_descoord} ({descoord_pct:.1f}%)\") # <<< Shows count and percentage\n",
    "\n",
    "            print(\"\\n--- Estadísticas del Índice MT ---\")\n",
    "            try:\n",
    "                print(detailed_df_sorted['mt'].describe().to_string())\n",
    "            except Exception as e:\n",
    "                print(f\"  Could not generate MT statistics: {e}\")\n",
    "            print(f\"TMT (Suma MT): {scenario_result.get('TMT', 0):.5f}\")\n",
    "\n",
    "            # --- Identify and Print Worst Coordinated Pair --- <<< MODIFIED SECTION\n",
    "            uncoordinated_pairs = detailed_df_sorted[detailed_df_sorted['status'] == 'Descoordinado']\n",
    "            if not uncoordinated_pairs.empty:\n",
    "                # Find the single worst pair (minimum MT)\n",
    "                worst_pair = uncoordinated_pairs.loc[uncoordinated_pairs['mt'].idxmin()]\n",
    "\n",
    "                print(\"\\n--- Par Más Descoordinado (Peor MT) ---\") # <<< Specific heading\n",
    "                print(f\"Par (P-R): {worst_pair['pair_label']}\")\n",
    "                print(f\"MT:        {worst_pair['mt']:.4f}\")\n",
    "                print(f\"Δt:        {worst_pair['delta_t']:.4f} s\")\n",
    "                print(f\"Tm:        {worst_pair['tm']:.4f} s\")\n",
    "                print(f\"Tb:        {worst_pair['tb']:.4f} s\")\n",
    "                print(f\"Línea:     {worst_pair['line']}\")\n",
    "                print(f\"Falla:     {worst_pair['fault']}\")\n",
    "\n",
    "                # --- Optionally print Top 10 list as before ---\n",
    "                print(\"\\n--- Top 10 Pares con Mayor Descoordinación (Ordenados por Peor MT) ---\")\n",
    "                worst_pairs_display = uncoordinated_pairs.head(10)\n",
    "                display_cols = ['pair_label', 'mt', 'delta_t', 'tm', 'tb', 'line', 'fault']\n",
    "                existing_display_cols = [col for col in display_cols if col in worst_pairs_display.columns]\n",
    "                # Create a copy to avoid SettingWithCopyWarning\n",
    "                worst_pairs_display_formatted = worst_pairs_display[existing_display_cols].copy()\n",
    "                worst_pairs_display_formatted = worst_pairs_display_formatted.rename(\n",
    "                    columns={'pair_label': 'Par (P-R)', 'delta_t': 'Δt', 'line': 'Línea', 'fault': 'Falla'})\n",
    "                float_cols = worst_pairs_display_formatted.select_dtypes(include=['float']).columns\n",
    "                for col in float_cols:\n",
    "                     worst_pairs_display_formatted[col] = worst_pairs_display_formatted[col].map('{:.4f}'.format)\n",
    "                pd.set_option('display.max_rows', 20)\n",
    "                pd.set_option('display.width', 120)\n",
    "                print(worst_pairs_display_formatted.to_string(index=False))\n",
    "            else:\n",
    "                print(\"\\n--- ¡Excelente! No se encontraron pares descoordinados en este escenario. ---\")\n",
    "\n",
    "            # --- Save Detailed DataFrame to CSV ---\n",
    "            csv_filename = os.path.join(output_dir, f\"{scenario_id_to_analyze}_detailed_results.csv\") # Use os.path.join\n",
    "            print(f\"\\nSaving detailed results to CSV: {csv_filename}\")\n",
    "            try:\n",
    "                detailed_df_sorted.to_csv(csv_filename, index=False, encoding='utf-8-sig')\n",
    "                print(f\"  Successfully saved.\")\n",
    "            except Exception as e:\n",
    "                print(f\"  Error saving detailed CSV: {e}\")\n",
    "\n",
    "            # --- Generate AND DISPLAY Plotly Plots ---\n",
    "            plot_scenario_details_plotly(detailed_df_sorted, scenario_id_to_analyze, output_dir, cti)\n",
    "\n",
    "        else:\n",
    "            print(f\"No valid pair data found in DataFrame to generate table or plots for {scenario_id_to_analyze}.\")\n",
    "\n",
    "    else:\n",
    "        print(f\"Error: El escenario '{scenario_id_to_analyze}' especificado no se encontró en los resultados del análisis.\")\n",
    "        available_scenarios = list(all_results.keys()) if all_results else \"None\"\n",
    "        print(f\"Available scenarios found: {available_scenarios}\")\n",
    "\n",
    "    print(f\"\\n--- Analysis Complete for Scenario: {scenario_id_to_analyze} ---\")\n",
    "\n",
    "\n",
    "# %% Script Entry Point - Execute Analysis for Scenario 1\n",
    "\n",
    "if __name__ == \"__main__\":\n",
    "    # This block executes when the script is run directly (or a cell in Jupyter)\n",
    "    print(\"============================================\")\n",
    "    print(\"=== Relay Coordination Analysis Script ===\")\n",
    "    print(\"===       Mode: Analyze Scenario 1       ===\")\n",
    "    print(\"============================================\")\n",
    "\n",
    "    # --- Create dummy data and directory for execution if file doesn't exist ---\n",
    "    # This is just for demonstration if the actual file isn't available in the environment\n",
    "    # You should REPLACE json_file_path and output_dir with your actual paths above.\n",
    "    if not os.path.exists(os.path.dirname(json_file_path)):\n",
    "         os.makedirs(os.path.dirname(json_file_path), exist_ok=True)\n",
    "         print(f\"Created dummy directory: {os.path.dirname(json_file_path)}\")\n",
    "\n",
    "    if not os.path.exists(json_file_path):\n",
    "        print(f\"Warning: JSON file '{json_file_path}' not found. Creating a dummy file for demonstration.\")\n",
    "        dummy_data = [\n",
    "            {\"scenario_id\": \"scenario_1\", \"main_relay\": {\"relay\": \"P1\", \"new_timeout\": 0.1, \"line\": \"L1\", \"fault\": \"F1\"}, \"backup_relay\": {\"relay\": \"R1\", \"new_timeout\": 0.35}}, # Coordinated dt=0.05\n",
    "            {\"scenario_id\": \"scenario_1\", \"main_relay\": {\"relay\": \"P2\", \"new_timeout\": 0.2, \"line\": \"L2\", \"fault\": \"F1\"}, \"backup_relay\": {\"relay\": \"R2\", \"new_timeout\": 0.3}}, # Uncoordinated dt=-0.1, mt=-0.1\n",
    "            {\"scenario_id\": \"scenario_1\", \"main_relay\": {\"relay\": \"P3\", \"new_timeout\": 0.15, \"line\": \"L1\", \"fault\": \"F2\"}, \"backup_relay\": {\"relay\": \"R3\", \"new_timeout\": 0.25}}, # Uncoordinated dt=-0.1, mt=-0.1\n",
    "            {\"scenario_id\": \"scenario_1\", \"main_relay\": {\"relay\": \"P4\", \"new_timeout\": 0.25, \"line\": \"L3\", \"fault\": \"F3\"}, \"backup_relay\": {\"relay\": \"R4\", \"new_timeout\": 0.3}}, # Uncoordinated dt=-0.15, mt=-0.15 <- Worst\n",
    "            {\"scenario_id\": \"scenario_1\", \"main_relay\": {\"relay\": \"P5\", \"new_timeout\": 0.3, \"line\": \"L2\", \"fault\": \"F2\"}, \"backup_relay\": {\"relay\": \"R5\", \"new_timeout\": 0.6}}, # Coordinated dt=0.1\n",
    "            {\"scenario_id\": \"scenario_2\", \"main_relay\": {\"relay\": \"P6\", \"new_timeout\": 0.1, \"line\": \"L4\", \"fault\": \"F4\"}, \"backup_relay\": {\"relay\": \"R6\", \"new_timeout\": 0.4}}  # Different scenario\n",
    "        ]\n",
    "        try:\n",
    "            with open(json_file_path, 'w', encoding='utf-8') as f:\n",
    "                json.dump(dummy_data, f, indent=2)\n",
    "            print(f\"Successfully created dummy file: {json_file_path}\")\n",
    "        except Exception as e:\n",
    "            print(f\"Error creating dummy file: {e}\")\n",
    "            # Exit if dummy file creation fails and original wasn't found\n",
    "            exit() # Or handle differently\n",
    "\n",
    "    # --- Main execution ---\n",
    "    try:\n",
    "        print(f\"Attempting to load data from: {json_file_path}\")\n",
    "        if not os.path.exists(json_file_path):\n",
    "             abs_path = os.path.abspath(json_file_path)\n",
    "             raise FileNotFoundError(f\"JSON file not found: '{json_file_path}' (Absolute: '{abs_path}')\")\n",
    "        if not os.path.isfile(json_file_path):\n",
    "             raise FileNotFoundError(f\"Specified path is not a file: '{json_file_path}'\")\n",
    "\n",
    "        with open(json_file_path, 'r', encoding='utf-8') as file:\n",
    "            first_char = file.read(1)\n",
    "            if not first_char: raise ValueError(\"JSON file appears to be empty.\")\n",
    "            file.seek(0) # Rewind after checking\n",
    "            data = json.load(file)\n",
    "\n",
    "        if not isinstance(data, list):\n",
    "            raise TypeError(f\"Expected JSON root to be a List '[]', found type '{type(data)}'. Check JSON structure.\")\n",
    "        if not data:\n",
    "             print(\"Warning: JSON file loaded, but the list is empty. No data to analyze.\")\n",
    "             # Decide if exiting is appropriate\n",
    "             # exit() # Exit if no data - or remove this to let it proceed and show no results\n",
    "\n",
    "        print(f\"Successfully loaded {len(data)} records from JSON.\")\n",
    "\n",
    "        # --- Run the main analysis function, focusing ONLY on scenario_1 ---\n",
    "        TARGET_SCENARIO = \"scenario_40\"\n",
    "        # Check if data was loaded before proceeding\n",
    "        if data:\n",
    "            main_analyze_single_scenario(data, scenario_id_to_analyze=TARGET_SCENARIO, cti=CTI)\n",
    "        else:\n",
    "            print(\"Skipping analysis as no data was loaded.\")\n",
    "\n",
    "\n",
    "    # --- Exception Handling ---\n",
    "    except FileNotFoundError as e: print(f\"\\n--- Error ---\\nFile Not Found: {e}\\n*** Please ensure the 'json_file_path' variable is set correctly at the top of the script. ***\")\n",
    "    except ValueError as e: print(f\"\\n--- Error ---\\nValue Error: {e}\") # Catch empty file error\n",
    "    except TypeError as e: print(f\"\\n--- Error ---\\nType Error: {e}\") # Catch wrong JSON root type\n",
    "    except json.JSONDecodeError as e: print(f\"\\n--- Error ---\\nJSON Decode Error: {e.msg} at Line {e.lineno}, Col {e.colno}. Check JSON syntax.\")\n",
    "    except KeyError as e: print(f\"\\n--- Error ---\\nMissing Key Error: Required key {e} not found in the JSON data. Check data structure consistency.\")\n",
    "    except Exception as e:\n",
    "        print(f\"\\n--- An Unexpected Error Occurred ---\")\n",
    "        print(f\"Error Type: {type(e).__name__}\")\n",
    "        print(f\"Error Details: {str(e)}\")\n",
    "        print(\"\\n--- Traceback ---\")\n",
    "        traceback.print_exc()\n",
    "        print(\"-----------------\")\n",
    "\n",
    "    print(\"\\n============================================\")\n",
    "    print(\"=== Script Execution Finished ===\")\n",
    "    print(\"============================================\")"
   ]
  },
  {
   "cell_type": "markdown",
   "metadata": {},
   "source": [
    "# 🚀🚀🚀"
   ]
  },
  {
   "cell_type": "markdown",
   "metadata": {},
   "source": [
    "# Analisys"
   ]
  },
  {
   "cell_type": "code",
   "execution_count": 6,
   "metadata": {},
   "outputs": [
    {
     "name": "stdout",
     "output_type": "stream",
     "text": [
      "Cargando datos desde: /Users/gustavo/Documents/Projects/TESIS_UNAL/ADAPTIVE_ALGORITHM/data/processed/independent_relay_pairs_transformer.json\n",
      "Calculando TMT por escenario...\n",
      "\n",
      "--- Resultados por Escenario ---\n",
      "Escenario       Pares Válidos   Coordinados     Descoordinados  % Coordin.      TMT            \n",
      "------------------------------------------------------------------------------------------\n",
      "scenario_1      100             84              16              84.0%           -1.02140\n",
      "scenario_10     100             81              19              81.0%           -4.60090\n",
      "scenario_11     100             87              13              87.0%           -1.10910\n",
      "scenario_12     100             88              12              88.0%           -3.44320\n",
      "scenario_13     100             86              14              86.0%           -1.64200\n",
      "scenario_14     100             85              15              85.0%           -1.71110\n",
      "scenario_15     100             88              12              88.0%           -3.15520\n",
      "scenario_16     100             90              10              90.0%           -1.84530\n",
      "scenario_17     100             84              16              84.0%           -3.12920\n",
      "scenario_18     100             86              14              86.0%           -1.41740\n",
      "scenario_19     100             89              11              89.0%           -3.16130\n",
      "scenario_2      100             94              6               94.0%           -2.58520\n",
      "scenario_20     100             88              12              88.0%           -4.08150\n",
      "scenario_21     100             83              17              83.0%           -0.64630\n",
      "scenario_22     100             82              18              82.0%           -0.56180\n",
      "scenario_23     100             67              33              67.0%           -1.91820\n",
      "scenario_24     100             81              19              81.0%           -0.62970\n",
      "scenario_25     100             79              21              79.0%           -0.70400\n",
      "scenario_26     100             81              19              81.0%           -0.87500\n",
      "scenario_27     100             71              29              71.0%           -1.20210\n",
      "scenario_28     100             78              22              78.0%           -0.60910\n",
      "scenario_29     100             81              19              81.0%           -1.10550\n",
      "scenario_3      100             89              11              89.0%           -1.82310\n",
      "scenario_30     100             81              19              81.0%           -0.57260\n",
      "scenario_31     100             81              19              81.0%           -0.98390\n",
      "scenario_32     100             81              19              81.0%           -0.73010\n",
      "scenario_33     100             77              23              77.0%           -1.10730\n",
      "scenario_34     100             81              19              81.0%           -0.56190\n",
      "scenario_35     100             79              21              79.0%           -0.79500\n",
      "scenario_36     100             82              18              82.0%           -0.62950\n",
      "scenario_37     100             81              19              81.0%           -7.28920\n",
      "scenario_38     100             88              12              88.0%           -4.32750\n",
      "scenario_39     100             83              17              83.0%           -4.14740\n",
      "scenario_4      100             85              15              85.0%           -0.59560\n",
      "scenario_40     100             82              18              82.0%           -3.71270\n",
      "scenario_41     100             88              12              88.0%           -3.23640\n",
      "scenario_42     100             93              7               93.0%           -2.12140\n",
      "scenario_43     100             82              18              82.0%           -3.28760\n",
      "scenario_44     100             85              15              85.0%           -2.96710\n",
      "scenario_45     100             87              13              87.0%           -2.71870\n",
      "scenario_46     100             88              12              88.0%           -0.83170\n",
      "scenario_47     100             89              11              89.0%           -3.68430\n",
      "scenario_48     100             89              11              89.0%           -2.89510\n",
      "scenario_49     100             81              19              81.0%           -5.45210\n",
      "scenario_5      100             96              4               96.0%           -0.95990\n",
      "scenario_50     100             85              15              85.0%           -3.60040\n",
      "scenario_51     100             85              15              85.0%           -4.39900\n",
      "scenario_52     100             88              12              88.0%           -2.31860\n",
      "scenario_53     100             84              16              84.0%           -0.51440\n",
      "scenario_54     100             86              14              86.0%           -0.20280\n",
      "scenario_55     100             82              18              82.0%           -0.82590\n",
      "scenario_56     100             83              17              83.0%           -0.49060\n",
      "scenario_57     100             77              23              77.0%           -0.75570\n",
      "scenario_58     100             86              14              86.0%           -0.38300\n",
      "scenario_59     100             83              17              83.0%           -1.10020\n",
      "scenario_6      100             94              6               94.0%           -2.49100\n",
      "scenario_60     100             86              14              86.0%           -0.59700\n",
      "scenario_61     100             84              16              84.0%           -0.95000\n",
      "scenario_62     100             86              14              86.0%           -0.43590\n",
      "scenario_63     100             85              15              85.0%           -0.77330\n",
      "scenario_64     100             77              23              77.0%           -1.38430\n",
      "scenario_65     100             72              28              72.0%           -1.74970\n",
      "scenario_66     100             86              14              86.0%           -0.47260\n",
      "scenario_67     100             84              16              84.0%           -0.38860\n",
      "scenario_68     100             83              17              83.0%           -0.72150\n",
      "scenario_7      100             89              11              89.0%           -2.58220\n",
      "scenario_8      100             93              7               93.0%           -2.95240\n",
      "scenario_9      100             88              12              88.0%           -1.63530\n",
      "\n",
      "Total de pares leídos: 6800\n",
      "Pares omitidos (datos inválidos/faltantes): 0\n",
      "\n",
      "Gráfico de TMT guardado en: /Users/gustavo/Documents/Projects/TESIS_UNAL/ADAPTIVE_ALGORITHM/data/processed/tmt_by_scenario.html\n",
      "Gráfico de Porcentaje de Coordinación guardado en: /Users/gustavo/Documents/Projects/TESIS_UNAL/ADAPTIVE_ALGORITHM/data/processed/coordination_percentage_by_scenario.html\n"
     ]
    },
    {
     "data": {
      "application/vnd.plotly.v1+json": {
       "config": {
        "plotlyServerURL": "https://plot.ly"
       },
       "data": [
        {
         "alignmentgroup": "True",
         "customdata": [
          [
           84,
           16,
           100,
           84
          ],
          [
           81,
           19,
           100,
           81
          ],
          [
           87,
           13,
           100,
           87
          ],
          [
           88,
           12,
           100,
           88
          ],
          [
           86,
           14,
           100,
           86
          ],
          [
           85,
           15,
           100,
           85
          ],
          [
           88,
           12,
           100,
           88
          ],
          [
           90,
           10,
           100,
           90
          ],
          [
           84,
           16,
           100,
           84
          ],
          [
           86,
           14,
           100,
           86
          ],
          [
           89,
           11,
           100,
           89
          ],
          [
           94,
           6,
           100,
           94
          ],
          [
           88,
           12,
           100,
           88
          ],
          [
           83,
           17,
           100,
           83
          ],
          [
           82,
           18,
           100,
           82
          ],
          [
           67,
           33,
           100,
           67
          ],
          [
           81,
           19,
           100,
           81
          ],
          [
           79,
           21,
           100,
           79
          ],
          [
           81,
           19,
           100,
           81
          ],
          [
           71,
           29,
           100,
           71
          ],
          [
           78,
           22,
           100,
           78
          ],
          [
           81,
           19,
           100,
           81
          ],
          [
           89,
           11,
           100,
           89
          ],
          [
           81,
           19,
           100,
           81
          ],
          [
           81,
           19,
           100,
           81
          ],
          [
           81,
           19,
           100,
           81
          ],
          [
           77,
           23,
           100,
           77
          ],
          [
           81,
           19,
           100,
           81
          ],
          [
           79,
           21,
           100,
           79
          ],
          [
           82,
           18,
           100,
           82
          ],
          [
           81,
           19,
           100,
           81
          ],
          [
           88,
           12,
           100,
           88
          ],
          [
           83,
           17,
           100,
           83
          ],
          [
           85,
           15,
           100,
           85
          ],
          [
           82,
           18,
           100,
           82
          ],
          [
           88,
           12,
           100,
           88
          ],
          [
           93,
           7,
           100,
           93
          ],
          [
           82,
           18,
           100,
           82
          ],
          [
           85,
           15,
           100,
           85
          ],
          [
           87,
           13,
           100,
           87
          ],
          [
           88,
           12,
           100,
           88
          ],
          [
           89,
           11,
           100,
           89
          ],
          [
           89,
           11,
           100,
           89
          ],
          [
           81,
           19,
           100,
           81
          ],
          [
           96,
           4,
           100,
           96
          ],
          [
           85,
           15,
           100,
           85
          ],
          [
           85,
           15,
           100,
           85
          ],
          [
           88,
           12,
           100,
           88
          ],
          [
           84,
           16,
           100,
           84
          ],
          [
           86,
           14,
           100,
           86
          ],
          [
           82,
           18,
           100,
           82
          ],
          [
           83,
           17,
           100,
           83
          ],
          [
           77,
           23,
           100,
           77
          ],
          [
           86,
           14,
           100,
           86
          ],
          [
           83,
           17,
           100,
           83
          ],
          [
           94,
           6,
           100,
           94
          ],
          [
           86,
           14,
           100,
           86
          ],
          [
           84,
           16,
           100,
           84
          ],
          [
           86,
           14,
           100,
           86
          ],
          [
           85,
           15,
           100,
           85
          ],
          [
           77,
           23,
           100,
           77
          ],
          [
           72,
           28,
           100,
           72
          ],
          [
           86,
           14,
           100,
           86
          ],
          [
           84,
           16,
           100,
           84
          ],
          [
           83,
           17,
           100,
           83
          ],
          [
           89,
           11,
           100,
           89
          ],
          [
           93,
           7,
           100,
           93
          ],
          [
           88,
           12,
           100,
           88
          ]
         ],
         "hovertemplate": "Escenario=%{x}<br>Total Miscoordination Time=%{marker.color}<br>Pares Coordinados=%{customdata[0]}<br>Pares Descoordinados=%{customdata[1]}<br>Total Pares Válidos=%{customdata[2]}<br>Porcentaje Coordinación=%{customdata[3]}<extra></extra>",
         "legendgroup": "",
         "marker": {
          "color": [
           -1.0213999999999994,
           -4.600899999999998,
           -1.1091000000000009,
           -3.443199999999999,
           -1.6420000000000003,
           -1.7110999999999996,
           -3.1552,
           -1.845299999999999,
           -3.129200000000001,
           -1.417399999999999,
           -3.1612999999999998,
           -2.5851999999999995,
           -4.081499999999998,
           -0.6462999999999999,
           -0.5618000000000005,
           -1.9181999999999992,
           -0.6297000000000008,
           -0.7040000000000013,
           -0.8750000000000004,
           -1.2021000000000006,
           -0.6091000000000004,
           -1.1054999999999995,
           -1.8231000000000002,
           -0.5726000000000002,
           -0.9839000000000007,
           -0.7300999999999993,
           -1.1073000000000002,
           -0.5619000000000005,
           -0.7950000000000002,
           -0.6295000000000004,
           -7.2891999999999975,
           -4.327500000000001,
           -4.147400000000001,
           -0.5955999999999997,
           -3.7127000000000003,
           -3.236399999999999,
           -2.1214,
           -3.2875999999999994,
           -2.9671000000000003,
           -2.718700000000001,
           -0.8316999999999999,
           -3.6842999999999995,
           -2.8950999999999993,
           -5.452099999999999,
           -0.9599000000000001,
           -3.6004000000000014,
           -4.398999999999999,
           -2.3186000000000004,
           -0.5143999999999997,
           -0.20280000000000042,
           -0.8259000000000001,
           -0.49059999999999865,
           -0.7557000000000003,
           -0.382999999999999,
           -1.1002000000000005,
           -2.4909999999999997,
           -0.5970000000000005,
           -0.95,
           -0.4358999999999994,
           -0.7732999999999999,
           -1.3842999999999985,
           -1.7496999999999994,
           -0.4726000000000009,
           -0.3886000000000005,
           -0.7215000000000003,
           -2.5822,
           -2.9524,
           -1.6352999999999995
          ],
          "coloraxis": "coloraxis",
          "pattern": {
           "shape": ""
          }
         },
         "name": "",
         "offsetgroup": "",
         "orientation": "v",
         "showlegend": false,
         "text": [
          -1.0213999999999994,
          -4.600899999999998,
          -1.1091000000000009,
          -3.443199999999999,
          -1.6420000000000003,
          -1.7110999999999996,
          -3.1552,
          -1.845299999999999,
          -3.129200000000001,
          -1.417399999999999,
          -3.1612999999999998,
          -2.5851999999999995,
          -4.081499999999998,
          -0.6462999999999999,
          -0.5618000000000005,
          -1.9181999999999992,
          -0.6297000000000008,
          -0.7040000000000013,
          -0.8750000000000004,
          -1.2021000000000006,
          -0.6091000000000004,
          -1.1054999999999995,
          -1.8231000000000002,
          -0.5726000000000002,
          -0.9839000000000007,
          -0.7300999999999993,
          -1.1073000000000002,
          -0.5619000000000005,
          -0.7950000000000002,
          -0.6295000000000004,
          -7.2891999999999975,
          -4.327500000000001,
          -4.147400000000001,
          -0.5955999999999997,
          -3.7127000000000003,
          -3.236399999999999,
          -2.1214,
          -3.2875999999999994,
          -2.9671000000000003,
          -2.718700000000001,
          -0.8316999999999999,
          -3.6842999999999995,
          -2.8950999999999993,
          -5.452099999999999,
          -0.9599000000000001,
          -3.6004000000000014,
          -4.398999999999999,
          -2.3186000000000004,
          -0.5143999999999997,
          -0.20280000000000042,
          -0.8259000000000001,
          -0.49059999999999865,
          -0.7557000000000003,
          -0.382999999999999,
          -1.1002000000000005,
          -2.4909999999999997,
          -0.5970000000000005,
          -0.95,
          -0.4358999999999994,
          -0.7732999999999999,
          -1.3842999999999985,
          -1.7496999999999994,
          -0.4726000000000009,
          -0.3886000000000005,
          -0.7215000000000003,
          -2.5822,
          -2.9524,
          -1.6352999999999995
         ],
         "textposition": "outside",
         "texttemplate": "%{text:.5f}",
         "type": "bar",
         "x": [
          "scenario_1",
          "scenario_10",
          "scenario_11",
          "scenario_12",
          "scenario_13",
          "scenario_14",
          "scenario_15",
          "scenario_16",
          "scenario_17",
          "scenario_18",
          "scenario_19",
          "scenario_2",
          "scenario_20",
          "scenario_21",
          "scenario_22",
          "scenario_23",
          "scenario_24",
          "scenario_25",
          "scenario_26",
          "scenario_27",
          "scenario_28",
          "scenario_29",
          "scenario_3",
          "scenario_30",
          "scenario_31",
          "scenario_32",
          "scenario_33",
          "scenario_34",
          "scenario_35",
          "scenario_36",
          "scenario_37",
          "scenario_38",
          "scenario_39",
          "scenario_4",
          "scenario_40",
          "scenario_41",
          "scenario_42",
          "scenario_43",
          "scenario_44",
          "scenario_45",
          "scenario_46",
          "scenario_47",
          "scenario_48",
          "scenario_49",
          "scenario_5",
          "scenario_50",
          "scenario_51",
          "scenario_52",
          "scenario_53",
          "scenario_54",
          "scenario_55",
          "scenario_56",
          "scenario_57",
          "scenario_58",
          "scenario_59",
          "scenario_6",
          "scenario_60",
          "scenario_61",
          "scenario_62",
          "scenario_63",
          "scenario_64",
          "scenario_65",
          "scenario_66",
          "scenario_67",
          "scenario_68",
          "scenario_7",
          "scenario_8",
          "scenario_9"
         ],
         "xaxis": "x",
         "y": [
          -1.0213999999999994,
          -4.600899999999998,
          -1.1091000000000009,
          -3.443199999999999,
          -1.6420000000000003,
          -1.7110999999999996,
          -3.1552,
          -1.845299999999999,
          -3.129200000000001,
          -1.417399999999999,
          -3.1612999999999998,
          -2.5851999999999995,
          -4.081499999999998,
          -0.6462999999999999,
          -0.5618000000000005,
          -1.9181999999999992,
          -0.6297000000000008,
          -0.7040000000000013,
          -0.8750000000000004,
          -1.2021000000000006,
          -0.6091000000000004,
          -1.1054999999999995,
          -1.8231000000000002,
          -0.5726000000000002,
          -0.9839000000000007,
          -0.7300999999999993,
          -1.1073000000000002,
          -0.5619000000000005,
          -0.7950000000000002,
          -0.6295000000000004,
          -7.2891999999999975,
          -4.327500000000001,
          -4.147400000000001,
          -0.5955999999999997,
          -3.7127000000000003,
          -3.236399999999999,
          -2.1214,
          -3.2875999999999994,
          -2.9671000000000003,
          -2.718700000000001,
          -0.8316999999999999,
          -3.6842999999999995,
          -2.8950999999999993,
          -5.452099999999999,
          -0.9599000000000001,
          -3.6004000000000014,
          -4.398999999999999,
          -2.3186000000000004,
          -0.5143999999999997,
          -0.20280000000000042,
          -0.8259000000000001,
          -0.49059999999999865,
          -0.7557000000000003,
          -0.382999999999999,
          -1.1002000000000005,
          -2.4909999999999997,
          -0.5970000000000005,
          -0.95,
          -0.4358999999999994,
          -0.7732999999999999,
          -1.3842999999999985,
          -1.7496999999999994,
          -0.4726000000000009,
          -0.3886000000000005,
          -0.7215000000000003,
          -2.5822,
          -2.9524,
          -1.6352999999999995
         ],
         "yaxis": "y"
        }
       ],
       "layout": {
        "barmode": "relative",
        "coloraxis": {
         "colorbar": {
          "title": {
           "text": "Total Miscoordination Time"
          }
         },
         "colorscale": [
          [
           0,
           "#440154"
          ],
          [
           0.1111111111111111,
           "#482878"
          ],
          [
           0.2222222222222222,
           "#3e4989"
          ],
          [
           0.3333333333333333,
           "#31688e"
          ],
          [
           0.4444444444444444,
           "#26828e"
          ],
          [
           0.5555555555555556,
           "#1f9e89"
          ],
          [
           0.6666666666666666,
           "#35b779"
          ],
          [
           0.7777777777777778,
           "#6ece58"
          ],
          [
           0.8888888888888888,
           "#b5de2b"
          ],
          [
           1,
           "#fde725"
          ]
         ]
        },
        "font": {
         "size": 12
        },
        "height": 600,
        "legend": {
         "tracegroupgap": 0
        },
        "template": {
         "data": {
          "bar": [
           {
            "error_x": {
             "color": "#2a3f5f"
            },
            "error_y": {
             "color": "#2a3f5f"
            },
            "marker": {
             "line": {
              "color": "white",
              "width": 0.5
             },
             "pattern": {
              "fillmode": "overlay",
              "size": 10,
              "solidity": 0.2
             }
            },
            "type": "bar"
           }
          ],
          "barpolar": [
           {
            "marker": {
             "line": {
              "color": "white",
              "width": 0.5
             },
             "pattern": {
              "fillmode": "overlay",
              "size": 10,
              "solidity": 0.2
             }
            },
            "type": "barpolar"
           }
          ],
          "carpet": [
           {
            "aaxis": {
             "endlinecolor": "#2a3f5f",
             "gridcolor": "#C8D4E3",
             "linecolor": "#C8D4E3",
             "minorgridcolor": "#C8D4E3",
             "startlinecolor": "#2a3f5f"
            },
            "baxis": {
             "endlinecolor": "#2a3f5f",
             "gridcolor": "#C8D4E3",
             "linecolor": "#C8D4E3",
             "minorgridcolor": "#C8D4E3",
             "startlinecolor": "#2a3f5f"
            },
            "type": "carpet"
           }
          ],
          "choropleth": [
           {
            "colorbar": {
             "outlinewidth": 0,
             "ticks": ""
            },
            "type": "choropleth"
           }
          ],
          "contour": [
           {
            "colorbar": {
             "outlinewidth": 0,
             "ticks": ""
            },
            "colorscale": [
             [
              0,
              "#0d0887"
             ],
             [
              0.1111111111111111,
              "#46039f"
             ],
             [
              0.2222222222222222,
              "#7201a8"
             ],
             [
              0.3333333333333333,
              "#9c179e"
             ],
             [
              0.4444444444444444,
              "#bd3786"
             ],
             [
              0.5555555555555556,
              "#d8576b"
             ],
             [
              0.6666666666666666,
              "#ed7953"
             ],
             [
              0.7777777777777778,
              "#fb9f3a"
             ],
             [
              0.8888888888888888,
              "#fdca26"
             ],
             [
              1,
              "#f0f921"
             ]
            ],
            "type": "contour"
           }
          ],
          "contourcarpet": [
           {
            "colorbar": {
             "outlinewidth": 0,
             "ticks": ""
            },
            "type": "contourcarpet"
           }
          ],
          "heatmap": [
           {
            "colorbar": {
             "outlinewidth": 0,
             "ticks": ""
            },
            "colorscale": [
             [
              0,
              "#0d0887"
             ],
             [
              0.1111111111111111,
              "#46039f"
             ],
             [
              0.2222222222222222,
              "#7201a8"
             ],
             [
              0.3333333333333333,
              "#9c179e"
             ],
             [
              0.4444444444444444,
              "#bd3786"
             ],
             [
              0.5555555555555556,
              "#d8576b"
             ],
             [
              0.6666666666666666,
              "#ed7953"
             ],
             [
              0.7777777777777778,
              "#fb9f3a"
             ],
             [
              0.8888888888888888,
              "#fdca26"
             ],
             [
              1,
              "#f0f921"
             ]
            ],
            "type": "heatmap"
           }
          ],
          "heatmapgl": [
           {
            "colorbar": {
             "outlinewidth": 0,
             "ticks": ""
            },
            "colorscale": [
             [
              0,
              "#0d0887"
             ],
             [
              0.1111111111111111,
              "#46039f"
             ],
             [
              0.2222222222222222,
              "#7201a8"
             ],
             [
              0.3333333333333333,
              "#9c179e"
             ],
             [
              0.4444444444444444,
              "#bd3786"
             ],
             [
              0.5555555555555556,
              "#d8576b"
             ],
             [
              0.6666666666666666,
              "#ed7953"
             ],
             [
              0.7777777777777778,
              "#fb9f3a"
             ],
             [
              0.8888888888888888,
              "#fdca26"
             ],
             [
              1,
              "#f0f921"
             ]
            ],
            "type": "heatmapgl"
           }
          ],
          "histogram": [
           {
            "marker": {
             "pattern": {
              "fillmode": "overlay",
              "size": 10,
              "solidity": 0.2
             }
            },
            "type": "histogram"
           }
          ],
          "histogram2d": [
           {
            "colorbar": {
             "outlinewidth": 0,
             "ticks": ""
            },
            "colorscale": [
             [
              0,
              "#0d0887"
             ],
             [
              0.1111111111111111,
              "#46039f"
             ],
             [
              0.2222222222222222,
              "#7201a8"
             ],
             [
              0.3333333333333333,
              "#9c179e"
             ],
             [
              0.4444444444444444,
              "#bd3786"
             ],
             [
              0.5555555555555556,
              "#d8576b"
             ],
             [
              0.6666666666666666,
              "#ed7953"
             ],
             [
              0.7777777777777778,
              "#fb9f3a"
             ],
             [
              0.8888888888888888,
              "#fdca26"
             ],
             [
              1,
              "#f0f921"
             ]
            ],
            "type": "histogram2d"
           }
          ],
          "histogram2dcontour": [
           {
            "colorbar": {
             "outlinewidth": 0,
             "ticks": ""
            },
            "colorscale": [
             [
              0,
              "#0d0887"
             ],
             [
              0.1111111111111111,
              "#46039f"
             ],
             [
              0.2222222222222222,
              "#7201a8"
             ],
             [
              0.3333333333333333,
              "#9c179e"
             ],
             [
              0.4444444444444444,
              "#bd3786"
             ],
             [
              0.5555555555555556,
              "#d8576b"
             ],
             [
              0.6666666666666666,
              "#ed7953"
             ],
             [
              0.7777777777777778,
              "#fb9f3a"
             ],
             [
              0.8888888888888888,
              "#fdca26"
             ],
             [
              1,
              "#f0f921"
             ]
            ],
            "type": "histogram2dcontour"
           }
          ],
          "mesh3d": [
           {
            "colorbar": {
             "outlinewidth": 0,
             "ticks": ""
            },
            "type": "mesh3d"
           }
          ],
          "parcoords": [
           {
            "line": {
             "colorbar": {
              "outlinewidth": 0,
              "ticks": ""
             }
            },
            "type": "parcoords"
           }
          ],
          "pie": [
           {
            "automargin": true,
            "type": "pie"
           }
          ],
          "scatter": [
           {
            "fillpattern": {
             "fillmode": "overlay",
             "size": 10,
             "solidity": 0.2
            },
            "type": "scatter"
           }
          ],
          "scatter3d": [
           {
            "line": {
             "colorbar": {
              "outlinewidth": 0,
              "ticks": ""
             }
            },
            "marker": {
             "colorbar": {
              "outlinewidth": 0,
              "ticks": ""
             }
            },
            "type": "scatter3d"
           }
          ],
          "scattercarpet": [
           {
            "marker": {
             "colorbar": {
              "outlinewidth": 0,
              "ticks": ""
             }
            },
            "type": "scattercarpet"
           }
          ],
          "scattergeo": [
           {
            "marker": {
             "colorbar": {
              "outlinewidth": 0,
              "ticks": ""
             }
            },
            "type": "scattergeo"
           }
          ],
          "scattergl": [
           {
            "marker": {
             "colorbar": {
              "outlinewidth": 0,
              "ticks": ""
             }
            },
            "type": "scattergl"
           }
          ],
          "scattermapbox": [
           {
            "marker": {
             "colorbar": {
              "outlinewidth": 0,
              "ticks": ""
             }
            },
            "type": "scattermapbox"
           }
          ],
          "scatterpolar": [
           {
            "marker": {
             "colorbar": {
              "outlinewidth": 0,
              "ticks": ""
             }
            },
            "type": "scatterpolar"
           }
          ],
          "scatterpolargl": [
           {
            "marker": {
             "colorbar": {
              "outlinewidth": 0,
              "ticks": ""
             }
            },
            "type": "scatterpolargl"
           }
          ],
          "scatterternary": [
           {
            "marker": {
             "colorbar": {
              "outlinewidth": 0,
              "ticks": ""
             }
            },
            "type": "scatterternary"
           }
          ],
          "surface": [
           {
            "colorbar": {
             "outlinewidth": 0,
             "ticks": ""
            },
            "colorscale": [
             [
              0,
              "#0d0887"
             ],
             [
              0.1111111111111111,
              "#46039f"
             ],
             [
              0.2222222222222222,
              "#7201a8"
             ],
             [
              0.3333333333333333,
              "#9c179e"
             ],
             [
              0.4444444444444444,
              "#bd3786"
             ],
             [
              0.5555555555555556,
              "#d8576b"
             ],
             [
              0.6666666666666666,
              "#ed7953"
             ],
             [
              0.7777777777777778,
              "#fb9f3a"
             ],
             [
              0.8888888888888888,
              "#fdca26"
             ],
             [
              1,
              "#f0f921"
             ]
            ],
            "type": "surface"
           }
          ],
          "table": [
           {
            "cells": {
             "fill": {
              "color": "#EBF0F8"
             },
             "line": {
              "color": "white"
             }
            },
            "header": {
             "fill": {
              "color": "#C8D4E3"
             },
             "line": {
              "color": "white"
             }
            },
            "type": "table"
           }
          ]
         },
         "layout": {
          "annotationdefaults": {
           "arrowcolor": "#2a3f5f",
           "arrowhead": 0,
           "arrowwidth": 1
          },
          "autotypenumbers": "strict",
          "coloraxis": {
           "colorbar": {
            "outlinewidth": 0,
            "ticks": ""
           }
          },
          "colorscale": {
           "diverging": [
            [
             0,
             "#8e0152"
            ],
            [
             0.1,
             "#c51b7d"
            ],
            [
             0.2,
             "#de77ae"
            ],
            [
             0.3,
             "#f1b6da"
            ],
            [
             0.4,
             "#fde0ef"
            ],
            [
             0.5,
             "#f7f7f7"
            ],
            [
             0.6,
             "#e6f5d0"
            ],
            [
             0.7,
             "#b8e186"
            ],
            [
             0.8,
             "#7fbc41"
            ],
            [
             0.9,
             "#4d9221"
            ],
            [
             1,
             "#276419"
            ]
           ],
           "sequential": [
            [
             0,
             "#0d0887"
            ],
            [
             0.1111111111111111,
             "#46039f"
            ],
            [
             0.2222222222222222,
             "#7201a8"
            ],
            [
             0.3333333333333333,
             "#9c179e"
            ],
            [
             0.4444444444444444,
             "#bd3786"
            ],
            [
             0.5555555555555556,
             "#d8576b"
            ],
            [
             0.6666666666666666,
             "#ed7953"
            ],
            [
             0.7777777777777778,
             "#fb9f3a"
            ],
            [
             0.8888888888888888,
             "#fdca26"
            ],
            [
             1,
             "#f0f921"
            ]
           ],
           "sequentialminus": [
            [
             0,
             "#0d0887"
            ],
            [
             0.1111111111111111,
             "#46039f"
            ],
            [
             0.2222222222222222,
             "#7201a8"
            ],
            [
             0.3333333333333333,
             "#9c179e"
            ],
            [
             0.4444444444444444,
             "#bd3786"
            ],
            [
             0.5555555555555556,
             "#d8576b"
            ],
            [
             0.6666666666666666,
             "#ed7953"
            ],
            [
             0.7777777777777778,
             "#fb9f3a"
            ],
            [
             0.8888888888888888,
             "#fdca26"
            ],
            [
             1,
             "#f0f921"
            ]
           ]
          },
          "colorway": [
           "#636efa",
           "#EF553B",
           "#00cc96",
           "#ab63fa",
           "#FFA15A",
           "#19d3f3",
           "#FF6692",
           "#B6E880",
           "#FF97FF",
           "#FECB52"
          ],
          "font": {
           "color": "#2a3f5f"
          },
          "geo": {
           "bgcolor": "white",
           "lakecolor": "white",
           "landcolor": "white",
           "showlakes": true,
           "showland": true,
           "subunitcolor": "#C8D4E3"
          },
          "hoverlabel": {
           "align": "left"
          },
          "hovermode": "closest",
          "mapbox": {
           "style": "light"
          },
          "paper_bgcolor": "white",
          "plot_bgcolor": "white",
          "polar": {
           "angularaxis": {
            "gridcolor": "#EBF0F8",
            "linecolor": "#EBF0F8",
            "ticks": ""
           },
           "bgcolor": "white",
           "radialaxis": {
            "gridcolor": "#EBF0F8",
            "linecolor": "#EBF0F8",
            "ticks": ""
           }
          },
          "scene": {
           "xaxis": {
            "backgroundcolor": "white",
            "gridcolor": "#DFE8F3",
            "gridwidth": 2,
            "linecolor": "#EBF0F8",
            "showbackground": true,
            "ticks": "",
            "zerolinecolor": "#EBF0F8"
           },
           "yaxis": {
            "backgroundcolor": "white",
            "gridcolor": "#DFE8F3",
            "gridwidth": 2,
            "linecolor": "#EBF0F8",
            "showbackground": true,
            "ticks": "",
            "zerolinecolor": "#EBF0F8"
           },
           "zaxis": {
            "backgroundcolor": "white",
            "gridcolor": "#DFE8F3",
            "gridwidth": 2,
            "linecolor": "#EBF0F8",
            "showbackground": true,
            "ticks": "",
            "zerolinecolor": "#EBF0F8"
           }
          },
          "shapedefaults": {
           "line": {
            "color": "#2a3f5f"
           }
          },
          "ternary": {
           "aaxis": {
            "gridcolor": "#DFE8F3",
            "linecolor": "#A2B1C6",
            "ticks": ""
           },
           "baxis": {
            "gridcolor": "#DFE8F3",
            "linecolor": "#A2B1C6",
            "ticks": ""
           },
           "bgcolor": "white",
           "caxis": {
            "gridcolor": "#DFE8F3",
            "linecolor": "#A2B1C6",
            "ticks": ""
           }
          },
          "title": {
           "x": 0.05
          },
          "xaxis": {
           "automargin": true,
           "gridcolor": "#EBF0F8",
           "linecolor": "#EBF0F8",
           "ticks": "",
           "title": {
            "standoff": 15
           },
           "zerolinecolor": "#EBF0F8",
           "zerolinewidth": 2
          },
          "yaxis": {
           "automargin": true,
           "gridcolor": "#EBF0F8",
           "linecolor": "#EBF0F8",
           "ticks": "",
           "title": {
            "standoff": 15
           },
           "zerolinecolor": "#EBF0F8",
           "zerolinewidth": 2
          }
         }
        },
        "title": {
         "text": "Penalización Total por Descoordinación (TMT) por Escenario"
        },
        "width": 1000,
        "xaxis": {
         "anchor": "y",
         "categoryarray": [
          "scenario_1",
          "scenario_10",
          "scenario_11",
          "scenario_12",
          "scenario_13",
          "scenario_14",
          "scenario_15",
          "scenario_16",
          "scenario_17",
          "scenario_18",
          "scenario_19",
          "scenario_2",
          "scenario_20",
          "scenario_21",
          "scenario_22",
          "scenario_23",
          "scenario_24",
          "scenario_25",
          "scenario_26",
          "scenario_27",
          "scenario_28",
          "scenario_29",
          "scenario_3",
          "scenario_30",
          "scenario_31",
          "scenario_32",
          "scenario_33",
          "scenario_34",
          "scenario_35",
          "scenario_36",
          "scenario_37",
          "scenario_38",
          "scenario_39",
          "scenario_4",
          "scenario_40",
          "scenario_41",
          "scenario_42",
          "scenario_43",
          "scenario_44",
          "scenario_45",
          "scenario_46",
          "scenario_47",
          "scenario_48",
          "scenario_49",
          "scenario_5",
          "scenario_50",
          "scenario_51",
          "scenario_52",
          "scenario_53",
          "scenario_54",
          "scenario_55",
          "scenario_56",
          "scenario_57",
          "scenario_58",
          "scenario_59",
          "scenario_6",
          "scenario_60",
          "scenario_61",
          "scenario_62",
          "scenario_63",
          "scenario_64",
          "scenario_65",
          "scenario_66",
          "scenario_67",
          "scenario_68",
          "scenario_7",
          "scenario_8",
          "scenario_9"
         ],
         "categoryorder": "array",
         "domain": [
          0,
          1
         ],
         "title": {
          "text": "Escenarios"
         }
        },
        "yaxis": {
         "anchor": "x",
         "domain": [
          0,
          1
         ],
         "title": {
          "text": "TMT (Total Miscoordination Time)"
         }
        }
       }
      }
     },
     "metadata": {},
     "output_type": "display_data"
    },
    {
     "data": {
      "application/vnd.plotly.v1+json": {
       "config": {
        "plotlyServerURL": "https://plot.ly"
       },
       "data": [
        {
         "alignmentgroup": "True",
         "customdata": [
          [
           84,
           16,
           100,
           -1.0213999999999994
          ],
          [
           81,
           19,
           100,
           -4.600899999999998
          ],
          [
           87,
           13,
           100,
           -1.1091000000000009
          ],
          [
           88,
           12,
           100,
           -3.443199999999999
          ],
          [
           86,
           14,
           100,
           -1.6420000000000003
          ],
          [
           85,
           15,
           100,
           -1.7110999999999996
          ],
          [
           88,
           12,
           100,
           -3.1552
          ],
          [
           90,
           10,
           100,
           -1.845299999999999
          ],
          [
           84,
           16,
           100,
           -3.129200000000001
          ],
          [
           86,
           14,
           100,
           -1.417399999999999
          ],
          [
           89,
           11,
           100,
           -3.1612999999999998
          ],
          [
           94,
           6,
           100,
           -2.5851999999999995
          ],
          [
           88,
           12,
           100,
           -4.081499999999998
          ],
          [
           83,
           17,
           100,
           -0.6462999999999999
          ],
          [
           82,
           18,
           100,
           -0.5618000000000005
          ],
          [
           67,
           33,
           100,
           -1.9181999999999992
          ],
          [
           81,
           19,
           100,
           -0.6297000000000008
          ],
          [
           79,
           21,
           100,
           -0.7040000000000013
          ],
          [
           81,
           19,
           100,
           -0.8750000000000004
          ],
          [
           71,
           29,
           100,
           -1.2021000000000006
          ],
          [
           78,
           22,
           100,
           -0.6091000000000004
          ],
          [
           81,
           19,
           100,
           -1.1054999999999995
          ],
          [
           89,
           11,
           100,
           -1.8231000000000002
          ],
          [
           81,
           19,
           100,
           -0.5726000000000002
          ],
          [
           81,
           19,
           100,
           -0.9839000000000007
          ],
          [
           81,
           19,
           100,
           -0.7300999999999993
          ],
          [
           77,
           23,
           100,
           -1.1073000000000002
          ],
          [
           81,
           19,
           100,
           -0.5619000000000005
          ],
          [
           79,
           21,
           100,
           -0.7950000000000002
          ],
          [
           82,
           18,
           100,
           -0.6295000000000004
          ],
          [
           81,
           19,
           100,
           -7.2891999999999975
          ],
          [
           88,
           12,
           100,
           -4.327500000000001
          ],
          [
           83,
           17,
           100,
           -4.147400000000001
          ],
          [
           85,
           15,
           100,
           -0.5955999999999997
          ],
          [
           82,
           18,
           100,
           -3.7127000000000003
          ],
          [
           88,
           12,
           100,
           -3.236399999999999
          ],
          [
           93,
           7,
           100,
           -2.1214
          ],
          [
           82,
           18,
           100,
           -3.2875999999999994
          ],
          [
           85,
           15,
           100,
           -2.9671000000000003
          ],
          [
           87,
           13,
           100,
           -2.718700000000001
          ],
          [
           88,
           12,
           100,
           -0.8316999999999999
          ],
          [
           89,
           11,
           100,
           -3.6842999999999995
          ],
          [
           89,
           11,
           100,
           -2.8950999999999993
          ],
          [
           81,
           19,
           100,
           -5.452099999999999
          ],
          [
           96,
           4,
           100,
           -0.9599000000000001
          ],
          [
           85,
           15,
           100,
           -3.6004000000000014
          ],
          [
           85,
           15,
           100,
           -4.398999999999999
          ],
          [
           88,
           12,
           100,
           -2.3186000000000004
          ],
          [
           84,
           16,
           100,
           -0.5143999999999997
          ],
          [
           86,
           14,
           100,
           -0.20280000000000042
          ],
          [
           82,
           18,
           100,
           -0.8259000000000001
          ],
          [
           83,
           17,
           100,
           -0.49059999999999865
          ],
          [
           77,
           23,
           100,
           -0.7557000000000003
          ],
          [
           86,
           14,
           100,
           -0.382999999999999
          ],
          [
           83,
           17,
           100,
           -1.1002000000000005
          ],
          [
           94,
           6,
           100,
           -2.4909999999999997
          ],
          [
           86,
           14,
           100,
           -0.5970000000000005
          ],
          [
           84,
           16,
           100,
           -0.95
          ],
          [
           86,
           14,
           100,
           -0.4358999999999994
          ],
          [
           85,
           15,
           100,
           -0.7732999999999999
          ],
          [
           77,
           23,
           100,
           -1.3842999999999985
          ],
          [
           72,
           28,
           100,
           -1.7496999999999994
          ],
          [
           86,
           14,
           100,
           -0.4726000000000009
          ],
          [
           84,
           16,
           100,
           -0.3886000000000005
          ],
          [
           83,
           17,
           100,
           -0.7215000000000003
          ],
          [
           89,
           11,
           100,
           -2.5822
          ],
          [
           93,
           7,
           100,
           -2.9524
          ],
          [
           88,
           12,
           100,
           -1.6352999999999995
          ]
         ],
         "hovertemplate": "Escenario=%{x}<br>Porcentaje de Coordinación (%)=%{marker.color}<br>Pares Coordinados=%{customdata[0]}<br>Pares Descoordinados=%{customdata[1]}<br>Total Pares Válidos=%{customdata[2]}<br>TMT=%{customdata[3]}<extra></extra>",
         "legendgroup": "",
         "marker": {
          "color": [
           84,
           81,
           87,
           88,
           86,
           85,
           88,
           90,
           84,
           86,
           89,
           94,
           88,
           83,
           82,
           67,
           81,
           79,
           81,
           71,
           78,
           81,
           89,
           81,
           81,
           81,
           77,
           81,
           79,
           82,
           81,
           88,
           83,
           85,
           82,
           88,
           93,
           82,
           85,
           87,
           88,
           89,
           89,
           81,
           96,
           85,
           85,
           88,
           84,
           86,
           82,
           83,
           77,
           86,
           83,
           94,
           86,
           84,
           86,
           85,
           77,
           72,
           86,
           84,
           83,
           89,
           93,
           88
          ],
          "coloraxis": "coloraxis",
          "pattern": {
           "shape": ""
          }
         },
         "name": "",
         "offsetgroup": "",
         "orientation": "v",
         "showlegend": false,
         "text": [
          84,
          81,
          87,
          88,
          86,
          85,
          88,
          90,
          84,
          86,
          89,
          94,
          88,
          83,
          82,
          67,
          81,
          79,
          81,
          71,
          78,
          81,
          89,
          81,
          81,
          81,
          77,
          81,
          79,
          82,
          81,
          88,
          83,
          85,
          82,
          88,
          93,
          82,
          85,
          87,
          88,
          89,
          89,
          81,
          96,
          85,
          85,
          88,
          84,
          86,
          82,
          83,
          77,
          86,
          83,
          94,
          86,
          84,
          86,
          85,
          77,
          72,
          86,
          84,
          83,
          89,
          93,
          88
         ],
         "textposition": "outside",
         "texttemplate": "%{text:.1f}%",
         "type": "bar",
         "x": [
          "scenario_1",
          "scenario_10",
          "scenario_11",
          "scenario_12",
          "scenario_13",
          "scenario_14",
          "scenario_15",
          "scenario_16",
          "scenario_17",
          "scenario_18",
          "scenario_19",
          "scenario_2",
          "scenario_20",
          "scenario_21",
          "scenario_22",
          "scenario_23",
          "scenario_24",
          "scenario_25",
          "scenario_26",
          "scenario_27",
          "scenario_28",
          "scenario_29",
          "scenario_3",
          "scenario_30",
          "scenario_31",
          "scenario_32",
          "scenario_33",
          "scenario_34",
          "scenario_35",
          "scenario_36",
          "scenario_37",
          "scenario_38",
          "scenario_39",
          "scenario_4",
          "scenario_40",
          "scenario_41",
          "scenario_42",
          "scenario_43",
          "scenario_44",
          "scenario_45",
          "scenario_46",
          "scenario_47",
          "scenario_48",
          "scenario_49",
          "scenario_5",
          "scenario_50",
          "scenario_51",
          "scenario_52",
          "scenario_53",
          "scenario_54",
          "scenario_55",
          "scenario_56",
          "scenario_57",
          "scenario_58",
          "scenario_59",
          "scenario_6",
          "scenario_60",
          "scenario_61",
          "scenario_62",
          "scenario_63",
          "scenario_64",
          "scenario_65",
          "scenario_66",
          "scenario_67",
          "scenario_68",
          "scenario_7",
          "scenario_8",
          "scenario_9"
         ],
         "xaxis": "x",
         "y": [
          84,
          81,
          87,
          88,
          86,
          85,
          88,
          90,
          84,
          86,
          89,
          94,
          88,
          83,
          82,
          67,
          81,
          79,
          81,
          71,
          78,
          81,
          89,
          81,
          81,
          81,
          77,
          81,
          79,
          82,
          81,
          88,
          83,
          85,
          82,
          88,
          93,
          82,
          85,
          87,
          88,
          89,
          89,
          81,
          96,
          85,
          85,
          88,
          84,
          86,
          82,
          83,
          77,
          86,
          83,
          94,
          86,
          84,
          86,
          85,
          77,
          72,
          86,
          84,
          83,
          89,
          93,
          88
         ],
         "yaxis": "y"
        }
       ],
       "layout": {
        "barmode": "relative",
        "coloraxis": {
         "colorbar": {
          "title": {
           "text": "Porcentaje de Coordinación (%)"
          }
         },
         "colorscale": [
          [
           0,
           "#30123b"
          ],
          [
           0.07142857142857142,
           "#4145ab"
          ],
          [
           0.14285714285714285,
           "#4675ed"
          ],
          [
           0.21428571428571427,
           "#39a2fc"
          ],
          [
           0.2857142857142857,
           "#1bcfd4"
          ],
          [
           0.35714285714285715,
           "#24eca6"
          ],
          [
           0.42857142857142855,
           "#61fc6c"
          ],
          [
           0.5,
           "#a4fc3b"
          ],
          [
           0.5714285714285714,
           "#d1e834"
          ],
          [
           0.6428571428571429,
           "#f3c63a"
          ],
          [
           0.7142857142857143,
           "#fe9b2d"
          ],
          [
           0.7857142857142857,
           "#f36315"
          ],
          [
           0.8571428571428571,
           "#d93806"
          ],
          [
           0.9285714285714286,
           "#b11901"
          ],
          [
           1,
           "#7a0402"
          ]
         ]
        },
        "font": {
         "size": 12
        },
        "height": 600,
        "legend": {
         "tracegroupgap": 0
        },
        "template": {
         "data": {
          "bar": [
           {
            "error_x": {
             "color": "#2a3f5f"
            },
            "error_y": {
             "color": "#2a3f5f"
            },
            "marker": {
             "line": {
              "color": "white",
              "width": 0.5
             },
             "pattern": {
              "fillmode": "overlay",
              "size": 10,
              "solidity": 0.2
             }
            },
            "type": "bar"
           }
          ],
          "barpolar": [
           {
            "marker": {
             "line": {
              "color": "white",
              "width": 0.5
             },
             "pattern": {
              "fillmode": "overlay",
              "size": 10,
              "solidity": 0.2
             }
            },
            "type": "barpolar"
           }
          ],
          "carpet": [
           {
            "aaxis": {
             "endlinecolor": "#2a3f5f",
             "gridcolor": "#C8D4E3",
             "linecolor": "#C8D4E3",
             "minorgridcolor": "#C8D4E3",
             "startlinecolor": "#2a3f5f"
            },
            "baxis": {
             "endlinecolor": "#2a3f5f",
             "gridcolor": "#C8D4E3",
             "linecolor": "#C8D4E3",
             "minorgridcolor": "#C8D4E3",
             "startlinecolor": "#2a3f5f"
            },
            "type": "carpet"
           }
          ],
          "choropleth": [
           {
            "colorbar": {
             "outlinewidth": 0,
             "ticks": ""
            },
            "type": "choropleth"
           }
          ],
          "contour": [
           {
            "colorbar": {
             "outlinewidth": 0,
             "ticks": ""
            },
            "colorscale": [
             [
              0,
              "#0d0887"
             ],
             [
              0.1111111111111111,
              "#46039f"
             ],
             [
              0.2222222222222222,
              "#7201a8"
             ],
             [
              0.3333333333333333,
              "#9c179e"
             ],
             [
              0.4444444444444444,
              "#bd3786"
             ],
             [
              0.5555555555555556,
              "#d8576b"
             ],
             [
              0.6666666666666666,
              "#ed7953"
             ],
             [
              0.7777777777777778,
              "#fb9f3a"
             ],
             [
              0.8888888888888888,
              "#fdca26"
             ],
             [
              1,
              "#f0f921"
             ]
            ],
            "type": "contour"
           }
          ],
          "contourcarpet": [
           {
            "colorbar": {
             "outlinewidth": 0,
             "ticks": ""
            },
            "type": "contourcarpet"
           }
          ],
          "heatmap": [
           {
            "colorbar": {
             "outlinewidth": 0,
             "ticks": ""
            },
            "colorscale": [
             [
              0,
              "#0d0887"
             ],
             [
              0.1111111111111111,
              "#46039f"
             ],
             [
              0.2222222222222222,
              "#7201a8"
             ],
             [
              0.3333333333333333,
              "#9c179e"
             ],
             [
              0.4444444444444444,
              "#bd3786"
             ],
             [
              0.5555555555555556,
              "#d8576b"
             ],
             [
              0.6666666666666666,
              "#ed7953"
             ],
             [
              0.7777777777777778,
              "#fb9f3a"
             ],
             [
              0.8888888888888888,
              "#fdca26"
             ],
             [
              1,
              "#f0f921"
             ]
            ],
            "type": "heatmap"
           }
          ],
          "heatmapgl": [
           {
            "colorbar": {
             "outlinewidth": 0,
             "ticks": ""
            },
            "colorscale": [
             [
              0,
              "#0d0887"
             ],
             [
              0.1111111111111111,
              "#46039f"
             ],
             [
              0.2222222222222222,
              "#7201a8"
             ],
             [
              0.3333333333333333,
              "#9c179e"
             ],
             [
              0.4444444444444444,
              "#bd3786"
             ],
             [
              0.5555555555555556,
              "#d8576b"
             ],
             [
              0.6666666666666666,
              "#ed7953"
             ],
             [
              0.7777777777777778,
              "#fb9f3a"
             ],
             [
              0.8888888888888888,
              "#fdca26"
             ],
             [
              1,
              "#f0f921"
             ]
            ],
            "type": "heatmapgl"
           }
          ],
          "histogram": [
           {
            "marker": {
             "pattern": {
              "fillmode": "overlay",
              "size": 10,
              "solidity": 0.2
             }
            },
            "type": "histogram"
           }
          ],
          "histogram2d": [
           {
            "colorbar": {
             "outlinewidth": 0,
             "ticks": ""
            },
            "colorscale": [
             [
              0,
              "#0d0887"
             ],
             [
              0.1111111111111111,
              "#46039f"
             ],
             [
              0.2222222222222222,
              "#7201a8"
             ],
             [
              0.3333333333333333,
              "#9c179e"
             ],
             [
              0.4444444444444444,
              "#bd3786"
             ],
             [
              0.5555555555555556,
              "#d8576b"
             ],
             [
              0.6666666666666666,
              "#ed7953"
             ],
             [
              0.7777777777777778,
              "#fb9f3a"
             ],
             [
              0.8888888888888888,
              "#fdca26"
             ],
             [
              1,
              "#f0f921"
             ]
            ],
            "type": "histogram2d"
           }
          ],
          "histogram2dcontour": [
           {
            "colorbar": {
             "outlinewidth": 0,
             "ticks": ""
            },
            "colorscale": [
             [
              0,
              "#0d0887"
             ],
             [
              0.1111111111111111,
              "#46039f"
             ],
             [
              0.2222222222222222,
              "#7201a8"
             ],
             [
              0.3333333333333333,
              "#9c179e"
             ],
             [
              0.4444444444444444,
              "#bd3786"
             ],
             [
              0.5555555555555556,
              "#d8576b"
             ],
             [
              0.6666666666666666,
              "#ed7953"
             ],
             [
              0.7777777777777778,
              "#fb9f3a"
             ],
             [
              0.8888888888888888,
              "#fdca26"
             ],
             [
              1,
              "#f0f921"
             ]
            ],
            "type": "histogram2dcontour"
           }
          ],
          "mesh3d": [
           {
            "colorbar": {
             "outlinewidth": 0,
             "ticks": ""
            },
            "type": "mesh3d"
           }
          ],
          "parcoords": [
           {
            "line": {
             "colorbar": {
              "outlinewidth": 0,
              "ticks": ""
             }
            },
            "type": "parcoords"
           }
          ],
          "pie": [
           {
            "automargin": true,
            "type": "pie"
           }
          ],
          "scatter": [
           {
            "fillpattern": {
             "fillmode": "overlay",
             "size": 10,
             "solidity": 0.2
            },
            "type": "scatter"
           }
          ],
          "scatter3d": [
           {
            "line": {
             "colorbar": {
              "outlinewidth": 0,
              "ticks": ""
             }
            },
            "marker": {
             "colorbar": {
              "outlinewidth": 0,
              "ticks": ""
             }
            },
            "type": "scatter3d"
           }
          ],
          "scattercarpet": [
           {
            "marker": {
             "colorbar": {
              "outlinewidth": 0,
              "ticks": ""
             }
            },
            "type": "scattercarpet"
           }
          ],
          "scattergeo": [
           {
            "marker": {
             "colorbar": {
              "outlinewidth": 0,
              "ticks": ""
             }
            },
            "type": "scattergeo"
           }
          ],
          "scattergl": [
           {
            "marker": {
             "colorbar": {
              "outlinewidth": 0,
              "ticks": ""
             }
            },
            "type": "scattergl"
           }
          ],
          "scattermapbox": [
           {
            "marker": {
             "colorbar": {
              "outlinewidth": 0,
              "ticks": ""
             }
            },
            "type": "scattermapbox"
           }
          ],
          "scatterpolar": [
           {
            "marker": {
             "colorbar": {
              "outlinewidth": 0,
              "ticks": ""
             }
            },
            "type": "scatterpolar"
           }
          ],
          "scatterpolargl": [
           {
            "marker": {
             "colorbar": {
              "outlinewidth": 0,
              "ticks": ""
             }
            },
            "type": "scatterpolargl"
           }
          ],
          "scatterternary": [
           {
            "marker": {
             "colorbar": {
              "outlinewidth": 0,
              "ticks": ""
             }
            },
            "type": "scatterternary"
           }
          ],
          "surface": [
           {
            "colorbar": {
             "outlinewidth": 0,
             "ticks": ""
            },
            "colorscale": [
             [
              0,
              "#0d0887"
             ],
             [
              0.1111111111111111,
              "#46039f"
             ],
             [
              0.2222222222222222,
              "#7201a8"
             ],
             [
              0.3333333333333333,
              "#9c179e"
             ],
             [
              0.4444444444444444,
              "#bd3786"
             ],
             [
              0.5555555555555556,
              "#d8576b"
             ],
             [
              0.6666666666666666,
              "#ed7953"
             ],
             [
              0.7777777777777778,
              "#fb9f3a"
             ],
             [
              0.8888888888888888,
              "#fdca26"
             ],
             [
              1,
              "#f0f921"
             ]
            ],
            "type": "surface"
           }
          ],
          "table": [
           {
            "cells": {
             "fill": {
              "color": "#EBF0F8"
             },
             "line": {
              "color": "white"
             }
            },
            "header": {
             "fill": {
              "color": "#C8D4E3"
             },
             "line": {
              "color": "white"
             }
            },
            "type": "table"
           }
          ]
         },
         "layout": {
          "annotationdefaults": {
           "arrowcolor": "#2a3f5f",
           "arrowhead": 0,
           "arrowwidth": 1
          },
          "autotypenumbers": "strict",
          "coloraxis": {
           "colorbar": {
            "outlinewidth": 0,
            "ticks": ""
           }
          },
          "colorscale": {
           "diverging": [
            [
             0,
             "#8e0152"
            ],
            [
             0.1,
             "#c51b7d"
            ],
            [
             0.2,
             "#de77ae"
            ],
            [
             0.3,
             "#f1b6da"
            ],
            [
             0.4,
             "#fde0ef"
            ],
            [
             0.5,
             "#f7f7f7"
            ],
            [
             0.6,
             "#e6f5d0"
            ],
            [
             0.7,
             "#b8e186"
            ],
            [
             0.8,
             "#7fbc41"
            ],
            [
             0.9,
             "#4d9221"
            ],
            [
             1,
             "#276419"
            ]
           ],
           "sequential": [
            [
             0,
             "#0d0887"
            ],
            [
             0.1111111111111111,
             "#46039f"
            ],
            [
             0.2222222222222222,
             "#7201a8"
            ],
            [
             0.3333333333333333,
             "#9c179e"
            ],
            [
             0.4444444444444444,
             "#bd3786"
            ],
            [
             0.5555555555555556,
             "#d8576b"
            ],
            [
             0.6666666666666666,
             "#ed7953"
            ],
            [
             0.7777777777777778,
             "#fb9f3a"
            ],
            [
             0.8888888888888888,
             "#fdca26"
            ],
            [
             1,
             "#f0f921"
            ]
           ],
           "sequentialminus": [
            [
             0,
             "#0d0887"
            ],
            [
             0.1111111111111111,
             "#46039f"
            ],
            [
             0.2222222222222222,
             "#7201a8"
            ],
            [
             0.3333333333333333,
             "#9c179e"
            ],
            [
             0.4444444444444444,
             "#bd3786"
            ],
            [
             0.5555555555555556,
             "#d8576b"
            ],
            [
             0.6666666666666666,
             "#ed7953"
            ],
            [
             0.7777777777777778,
             "#fb9f3a"
            ],
            [
             0.8888888888888888,
             "#fdca26"
            ],
            [
             1,
             "#f0f921"
            ]
           ]
          },
          "colorway": [
           "#636efa",
           "#EF553B",
           "#00cc96",
           "#ab63fa",
           "#FFA15A",
           "#19d3f3",
           "#FF6692",
           "#B6E880",
           "#FF97FF",
           "#FECB52"
          ],
          "font": {
           "color": "#2a3f5f"
          },
          "geo": {
           "bgcolor": "white",
           "lakecolor": "white",
           "landcolor": "white",
           "showlakes": true,
           "showland": true,
           "subunitcolor": "#C8D4E3"
          },
          "hoverlabel": {
           "align": "left"
          },
          "hovermode": "closest",
          "mapbox": {
           "style": "light"
          },
          "paper_bgcolor": "white",
          "plot_bgcolor": "white",
          "polar": {
           "angularaxis": {
            "gridcolor": "#EBF0F8",
            "linecolor": "#EBF0F8",
            "ticks": ""
           },
           "bgcolor": "white",
           "radialaxis": {
            "gridcolor": "#EBF0F8",
            "linecolor": "#EBF0F8",
            "ticks": ""
           }
          },
          "scene": {
           "xaxis": {
            "backgroundcolor": "white",
            "gridcolor": "#DFE8F3",
            "gridwidth": 2,
            "linecolor": "#EBF0F8",
            "showbackground": true,
            "ticks": "",
            "zerolinecolor": "#EBF0F8"
           },
           "yaxis": {
            "backgroundcolor": "white",
            "gridcolor": "#DFE8F3",
            "gridwidth": 2,
            "linecolor": "#EBF0F8",
            "showbackground": true,
            "ticks": "",
            "zerolinecolor": "#EBF0F8"
           },
           "zaxis": {
            "backgroundcolor": "white",
            "gridcolor": "#DFE8F3",
            "gridwidth": 2,
            "linecolor": "#EBF0F8",
            "showbackground": true,
            "ticks": "",
            "zerolinecolor": "#EBF0F8"
           }
          },
          "shapedefaults": {
           "line": {
            "color": "#2a3f5f"
           }
          },
          "ternary": {
           "aaxis": {
            "gridcolor": "#DFE8F3",
            "linecolor": "#A2B1C6",
            "ticks": ""
           },
           "baxis": {
            "gridcolor": "#DFE8F3",
            "linecolor": "#A2B1C6",
            "ticks": ""
           },
           "bgcolor": "white",
           "caxis": {
            "gridcolor": "#DFE8F3",
            "linecolor": "#A2B1C6",
            "ticks": ""
           }
          },
          "title": {
           "x": 0.05
          },
          "xaxis": {
           "automargin": true,
           "gridcolor": "#EBF0F8",
           "linecolor": "#EBF0F8",
           "ticks": "",
           "title": {
            "standoff": 15
           },
           "zerolinecolor": "#EBF0F8",
           "zerolinewidth": 2
          },
          "yaxis": {
           "automargin": true,
           "gridcolor": "#EBF0F8",
           "linecolor": "#EBF0F8",
           "ticks": "",
           "title": {
            "standoff": 15
           },
           "zerolinecolor": "#EBF0F8",
           "zerolinewidth": 2
          }
         }
        },
        "title": {
         "text": "Porcentaje de Pares Coordinados por Escenario"
        },
        "width": 1000,
        "xaxis": {
         "anchor": "y",
         "categoryarray": [
          "scenario_1",
          "scenario_10",
          "scenario_11",
          "scenario_12",
          "scenario_13",
          "scenario_14",
          "scenario_15",
          "scenario_16",
          "scenario_17",
          "scenario_18",
          "scenario_19",
          "scenario_2",
          "scenario_20",
          "scenario_21",
          "scenario_22",
          "scenario_23",
          "scenario_24",
          "scenario_25",
          "scenario_26",
          "scenario_27",
          "scenario_28",
          "scenario_29",
          "scenario_3",
          "scenario_30",
          "scenario_31",
          "scenario_32",
          "scenario_33",
          "scenario_34",
          "scenario_35",
          "scenario_36",
          "scenario_37",
          "scenario_38",
          "scenario_39",
          "scenario_4",
          "scenario_40",
          "scenario_41",
          "scenario_42",
          "scenario_43",
          "scenario_44",
          "scenario_45",
          "scenario_46",
          "scenario_47",
          "scenario_48",
          "scenario_49",
          "scenario_5",
          "scenario_50",
          "scenario_51",
          "scenario_52",
          "scenario_53",
          "scenario_54",
          "scenario_55",
          "scenario_56",
          "scenario_57",
          "scenario_58",
          "scenario_59",
          "scenario_6",
          "scenario_60",
          "scenario_61",
          "scenario_62",
          "scenario_63",
          "scenario_64",
          "scenario_65",
          "scenario_66",
          "scenario_67",
          "scenario_68",
          "scenario_7",
          "scenario_8",
          "scenario_9"
         ],
         "categoryorder": "array",
         "domain": [
          0,
          1
         ],
         "title": {
          "text": "Escenarios"
         }
        },
        "yaxis": {
         "anchor": "x",
         "domain": [
          0,
          1
         ],
         "title": {
          "text": "Porcentaje de Coordinación (%)"
         }
        }
       }
      }
     },
     "metadata": {},
     "output_type": "display_data"
    }
   ],
   "source": [
    "import json\n",
    "import os\n",
    "import copy\n",
    "import plotly.express as px\n",
    "import plotly.graph_objects as go\n",
    "import pandas as pd\n",
    "import numpy as np\n",
    "\n",
    "# --- Constantes ---\n",
    "CTI = 0.2  # Intervalo de tiempo de coordinación típico (en segundos)\n",
    "\n",
    "# --- Ruta del archivo ---\n",
    "# input_file = \"/Users/gustavo/Documents/Projects/TESIS_UNAL/ADAPTIVE_ALGORITHM/data/processed/independent_relay_pairs_second_optimization.json\"\n",
    "input_file = \"/Users/gustavo/Documents/Projects/TESIS_UNAL/ADAPTIVE_ALGORITHM/data/processed/independent_relay_pairs_transformer.json\"\n",
    "\n",
    "\n",
    "def analyze_all_scenarios():\n",
    "    try:\n",
    "        # 1. Cargar el archivo JSON\n",
    "        print(f\"Cargando datos desde: {input_file}\")\n",
    "        with open(input_file, 'r') as f:\n",
    "            relay_pairs_data = json.load(f)\n",
    "        \n",
    "        if not isinstance(relay_pairs_data, list):\n",
    "            raise TypeError(f\"Error: El archivo {input_file} no contiene una lista JSON.\")\n",
    "        \n",
    "        # Diccionarios para almacenar datos por escenario\n",
    "        scenario_results = {}  # Estructura: {scenario_id: {'tmt': valor, 'coordinated': cantidad, 'uncoordinated': cantidad}}\n",
    "        \n",
    "        # 2. Procesar cada par y agrupar por escenario\n",
    "        print(\"Calculando TMT por escenario...\")\n",
    "        total_pairs_read = 0\n",
    "        skipped_pairs_count = 0\n",
    "        \n",
    "        for pair_entry in relay_pairs_data:\n",
    "            total_pairs_read += 1\n",
    "            if not isinstance(pair_entry, dict):\n",
    "                skipped_pairs_count += 1\n",
    "                continue\n",
    "            \n",
    "            scenario_id = pair_entry.get(\"scenario_id\")\n",
    "            if not scenario_id:\n",
    "                skipped_pairs_count += 1\n",
    "                continue\n",
    "                \n",
    "            # Inicializar datos del escenario si es la primera vez\n",
    "            if scenario_id not in scenario_results:\n",
    "                scenario_results[scenario_id] = {\n",
    "                    'tmt': 0, \n",
    "                    'coordinated': 0, \n",
    "                    'uncoordinated': 0,\n",
    "                    'total_valid': 0\n",
    "                }\n",
    "            \n",
    "            # Obtener información de los relés\n",
    "            main_relay_info = pair_entry.get('main_relay')\n",
    "            backup_relay_info = pair_entry.get('backup_relay')\n",
    "            \n",
    "            if not isinstance(main_relay_info, dict) or not isinstance(backup_relay_info, dict):\n",
    "                skipped_pairs_count += 1\n",
    "                continue\n",
    "                \n",
    "            # Obtener tiempos de operación\n",
    "            main_time = main_relay_info.get('new_timeout')\n",
    "            backup_time = backup_relay_info.get('new_timeout')\n",
    "            \n",
    "            # Validar que los tiempos son números\n",
    "            if not isinstance(main_time, (int, float)) or not isinstance(backup_time, (int, float)):\n",
    "                skipped_pairs_count += 1\n",
    "                continue\n",
    "                \n",
    "            # Cálculos\n",
    "            delta_t = backup_time - main_time - CTI\n",
    "            mt = (delta_t - abs(delta_t)) / 2  # Penalización solo si delta_t es negativo\n",
    "            \n",
    "            # Actualizar resultados del escenario\n",
    "            scenario_results[scenario_id]['tmt'] += mt\n",
    "            scenario_results[scenario_id]['total_valid'] += 1\n",
    "            \n",
    "            if delta_t >= 0:\n",
    "                scenario_results[scenario_id]['coordinated'] += 1\n",
    "            else:\n",
    "                scenario_results[scenario_id]['uncoordinated'] += 1\n",
    "        \n",
    "        # 3. Preparar datos para graficar\n",
    "        data_for_chart = []\n",
    "        for scenario, data in scenario_results.items():\n",
    "            data_for_chart.append({\n",
    "                'Escenario': scenario,\n",
    "                'TMT': data['tmt'],\n",
    "                'Pares Coordinados': data['coordinated'],\n",
    "                'Pares Descoordinados': data['uncoordinated'],\n",
    "                'Total Pares Válidos': data['total_valid'],\n",
    "                'Porcentaje Coordinación': 100 * data['coordinated'] / data['total_valid'] if data['total_valid'] > 0 else 0\n",
    "            })\n",
    "        \n",
    "        # Convertir a DataFrame y ordenar por nombre de escenario\n",
    "        df = pd.DataFrame(data_for_chart)\n",
    "        df = df.sort_values(by='Escenario')\n",
    "        \n",
    "        # 4. Crear gráfico de barras con Plotly\n",
    "        fig = px.bar(\n",
    "            df, \n",
    "            x='Escenario', \n",
    "            y='TMT',\n",
    "            text='TMT',\n",
    "            color='TMT',\n",
    "            color_continuous_scale='Viridis',\n",
    "            title='Penalización Total por Descoordinación (TMT) por Escenario',\n",
    "            labels={'TMT': 'Total Miscoordination Time'},\n",
    "            hover_data=['Pares Coordinados', 'Pares Descoordinados', 'Total Pares Válidos', 'Porcentaje Coordinación']\n",
    "        )\n",
    "        \n",
    "        # Personalizar el gráfico\n",
    "        fig.update_traces(\n",
    "            texttemplate='%{text:.5f}',\n",
    "            textposition='outside'\n",
    "        )\n",
    "        \n",
    "        fig.update_layout(\n",
    "            xaxis_title='Escenarios',\n",
    "            yaxis_title='TMT (Total Miscoordination Time)',\n",
    "            xaxis={'categoryorder': 'array', 'categoryarray': df['Escenario'].tolist()},\n",
    "            font=dict(size=12),\n",
    "            height=600,\n",
    "            width=1000\n",
    "        )\n",
    "        \n",
    "        # 5. Crear un segundo gráfico: porcentaje de coordinación\n",
    "        fig2 = px.bar(\n",
    "            df,\n",
    "            x='Escenario',\n",
    "            y='Porcentaje Coordinación',\n",
    "            text='Porcentaje Coordinación',\n",
    "            color='Porcentaje Coordinación',\n",
    "            color_continuous_scale='Turbo',\n",
    "            title='Porcentaje de Pares Coordinados por Escenario',\n",
    "            labels={'Porcentaje Coordinación': 'Porcentaje de Coordinación (%)'},\n",
    "            hover_data=['Pares Coordinados', 'Pares Descoordinados', 'Total Pares Válidos', 'TMT']\n",
    "        )\n",
    "        \n",
    "        fig2.update_traces(\n",
    "            texttemplate='%{text:.1f}%',\n",
    "            textposition='outside'\n",
    "        )\n",
    "        \n",
    "        fig2.update_layout(\n",
    "            xaxis_title='Escenarios',\n",
    "            yaxis_title='Porcentaje de Coordinación (%)',\n",
    "            xaxis={'categoryorder': 'array', 'categoryarray': df['Escenario'].tolist()},\n",
    "            font=dict(size=12),\n",
    "            height=600,\n",
    "            width=1000\n",
    "        )\n",
    "        \n",
    "        # 5. Mostrar tabla de resultados\n",
    "        print(\"\\n--- Resultados por Escenario ---\")\n",
    "        print(f\"{'Escenario':<15} {'Pares Válidos':<15} {'Coordinados':<15} {'Descoordinados':<15} {'% Coordin.':<15} {'TMT':<15}\")\n",
    "        print(\"-\" * 90)\n",
    "        \n",
    "        for index, row in df.iterrows():\n",
    "            print(f\"{row['Escenario']:<15} {int(row['Total Pares Válidos']):<15} {int(row['Pares Coordinados']):<15} {int(row['Pares Descoordinados']):<15} {row['Porcentaje Coordinación']:.1f}%{' ':<10} {row['TMT']:.5f}\")\n",
    "        \n",
    "        print(f\"\\nTotal de pares leídos: {total_pairs_read}\")\n",
    "        print(f\"Pares omitidos (datos inválidos/faltantes): {skipped_pairs_count}\")\n",
    "        \n",
    "        # Guardar los gráficos antes de mostrarlos\n",
    "        output_dir = os.path.dirname(input_file)\n",
    "        \n",
    "        # Guardar el primer gráfico (TMT)\n",
    "        output_file_tmt = os.path.join(output_dir, \"tmt_by_scenario.html\")\n",
    "        fig.write_html(output_file_tmt)\n",
    "        print(f\"\\nGráfico de TMT guardado en: {output_file_tmt}\")\n",
    "        \n",
    "        # Guardar el segundo gráfico (% Coordinación)\n",
    "        output_file_coord = os.path.join(output_dir, \"coordination_percentage_by_scenario.html\")\n",
    "        fig2.write_html(output_file_coord)\n",
    "        print(f\"Gráfico de Porcentaje de Coordinación guardado en: {output_file_coord}\")\n",
    "        \n",
    "        # Mostrar los gráficos\n",
    "        fig.show()\n",
    "        fig2.show()\n",
    "        \n",
    "    except FileNotFoundError:\n",
    "        print(f\"Error CRÍTICO: No se pudo encontrar el archivo de entrada: {input_file}\")\n",
    "    except TypeError as e:\n",
    "        print(f\"Error CRÍTICO: Problema con el tipo de datos esperado en el archivo JSON: {e}\")\n",
    "    except json.JSONDecodeError as e:\n",
    "        print(f\"Error CRÍTICO: El archivo de entrada JSON ({input_file}) está mal formado: {e}\")\n",
    "    except Exception as e:\n",
    "        import traceback\n",
    "        print(f\"Error inesperado durante el procesamiento: {e}\")\n",
    "        print(\"--- Traceback ---\")\n",
    "        traceback.print_exc()\n",
    "        print(\"-----------------\")\n",
    "        \n",
    "if __name__ == \"__main__\":\n",
    "    analyze_all_scenarios()\n"
   ]
  },
  {
   "cell_type": "code",
   "execution_count": null,
   "metadata": {},
   "outputs": [],
   "source": []
  }
 ],
 "metadata": {
  "kernelspec": {
   "display_name": "Python 3",
   "language": "python",
   "name": "python3"
  },
  "language_info": {
   "codemirror_mode": {
    "name": "ipython",
    "version": 3
   },
   "file_extension": ".py",
   "mimetype": "text/x-python",
   "name": "python",
   "nbconvert_exporter": "python",
   "pygments_lexer": "ipython3",
   "version": "3.11.11"
  }
 },
 "nbformat": 4,
 "nbformat_minor": 2
}
