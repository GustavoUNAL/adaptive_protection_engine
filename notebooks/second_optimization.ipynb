{
 "cells": [
  {
   "cell_type": "markdown",
   "metadata": {},
   "source": [
    "## Algoritmo desegunda optimización \n",
    "\n"
   ]
  },
  {
   "cell_type": "code",
   "execution_count": 23,
   "metadata": {},
   "outputs": [
    {
     "name": "stdout",
     "output_type": "stream",
     "text": [
      "Updated file saved to: /Users/gustavo/Documents/Projects/TESIS_UNAL/ADAPTIVE_ALGORITHM/data/processed/independent_relay_pairs_second_optimization.json\n"
     ]
    }
   ],
   "source": [
    "import json\n",
    "import os\n",
    "import random\n",
    "\n",
    "def update_relay_data(input_path, output_path):\n",
    "    # Read the input JSON file\n",
    "    with open(input_path, 'r') as file:\n",
    "        data = json.load(file)\n",
    "    \n",
    "    # Process each scenario and relay pair\n",
    "    for entry in data:\n",
    "        # Check main relay for R1 condition first\n",
    "        if entry['main_relay']['relay'] == 'R1' and entry['main_relay']['Time_out'] == 0:\n",
    "            if entry['backup_relay']['Time_out'] != 0:\n",
    "                entry['main_relay']['Time_out'] = entry['backup_relay']['Time_out']\n",
    "            else:\n",
    "                entry['main_relay']['Time_out'] = random.uniform(1, 3)\n",
    "                \n",
    "        # Check backup relay for R1 condition\n",
    "        if entry['backup_relay']['relay'] == 'R1' and entry['backup_relay']['Time_out'] == 0:\n",
    "            if entry['main_relay']['Time_out'] != 0:\n",
    "                entry['backup_relay']['Time_out'] = entry['main_relay']['Time_out']\n",
    "            else:\n",
    "                entry['backup_relay']['Time_out'] = random.uniform(1, 3)\n",
    "                \n",
    "        # Check other conditions for main relay\n",
    "        if entry['main_relay']['Time_out'] == 0:\n",
    "            entry['main_relay']['Time_out'] = random.uniform(1, 3)\n",
    "        if entry['main_relay']['Ishc'] == 0:\n",
    "            entry['main_relay']['Time_out'] = random.uniform(1, 3)\n",
    "            \n",
    "        # Check other conditions for backup relay\n",
    "        if entry['backup_relay']['Time_out'] == 0:\n",
    "            entry['backup_relay']['Time_out'] = random.uniform(1, 3)\n",
    "        if entry['backup_relay']['Ishc'] == 0:\n",
    "            entry['backup_relay']['Time_out'] = random.uniform(1, 3)\n",
    "    \n",
    "    # Ensure output directory exists\n",
    "    os.makedirs(os.path.dirname(output_path), exist_ok=True)\n",
    "    \n",
    "    # Write the updated data to a new JSON file\n",
    "    with open(output_path, 'w') as file:\n",
    "        json.dump(data, file, indent=2)\n",
    "\n",
    "if __name__ == \"__main__\":\n",
    "    input_file = \"/Users/gustavo/Documents/Projects/TESIS_UNAL/ADAPTIVE_ALGORITHM/data/processed/independent_relay_pairs_optimization.json\"\n",
    "    output_file = \"/Users/gustavo/Documents/Projects/TESIS_UNAL/ADAPTIVE_ALGORITHM/data/processed/independent_relay_pairs_second_optimization.json\"\n",
    "    update_relay_data(input_file, output_file)\n",
    "    print(f\"Updated file saved to: {output_file}\")"
   ]
  }
 ],
 "metadata": {
  "kernelspec": {
   "display_name": "Python 3",
   "language": "python",
   "name": "python3"
  },
  "language_info": {
   "codemirror_mode": {
    "name": "ipython",
    "version": 3
   },
   "file_extension": ".py",
   "mimetype": "text/x-python",
   "name": "python",
   "nbconvert_exporter": "python",
   "pygments_lexer": "ipython3",
   "version": "3.11.11"
  }
 },
 "nbformat": 4,
 "nbformat_minor": 2
}
