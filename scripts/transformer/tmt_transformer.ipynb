{
 "cells": [
  {
   "cell_type": "code",
   "execution_count": 1,
   "metadata": {},
   "outputs": [
    {
     "name": "stdout",
     "output_type": "stream",
     "text": [
      "Intentando leer el archivo: /Users/gustavo/Documents/Projects/TESIS_UNAL/ADAPTIVE_ALGORITHM/data/processed/model/input_data_bad.json\n",
      "Archivo leído exitosamente.\n",
      "Modificando los valores de 'Time_out' a null...\n",
      "Modificación completada en memoria.\n",
      "Intentando guardar el archivo actualizado: /Users/gustavo/Documents/Projects/TESIS_UNAL/ADAPTIVE_ALGORITHM/data/processed/model/input_data_bad.json\n",
      "¡Éxito! El archivo /Users/gustavo/Documents/Projects/TESIS_UNAL/ADAPTIVE_ALGORITHM/data/processed/model/input_data_bad.json ha sido actualizado.\n",
      "Todos los valores asociados a la clave 'Time_out' han sido cambiados a null.\n"
     ]
    }
   ],
   "source": [
    "import json\n",
    "import os # Import the os module for path manipulation if needed\n",
    "\n",
    "# Define the path to the JSON file\n",
    "# IMPORTANT: Make sure this path is correct for your system.\n",
    "# Using os.path.expanduser('~') can help make paths more portable if the file\n",
    "# is relative to the user's home directory, but for an absolute path like this,\n",
    "# just ensure it's correct.\n",
    "file_path = '/Users/gustavo/Documents/Projects/TESIS_UNAL/ADAPTIVE_ALGORITHM/data/processed/model/input_data_bad.json'\n",
    "\n",
    "# --- Recursive function to find and update \"Time_out\" values ---\n",
    "# This function handles nested dictionaries and lists within the JSON structure.\n",
    "def update_time_out_values(data_item):\n",
    "    \"\"\"\n",
    "    Recursively traverses a data structure (dictionary or list)\n",
    "    and sets the value associated with the key \"Time_out\" to None.\n",
    "    \"\"\"\n",
    "    if isinstance(data_item, dict):\n",
    "        for key, value in data_item.items():\n",
    "            if key == \"Time_out\":\n",
    "                # Found the key, set its value to None (which becomes null in JSON)\n",
    "                data_item[key] = None\n",
    "            else:\n",
    "                # If the value is another dict or a list, recurse into it\n",
    "                update_time_out_values(value)\n",
    "    elif isinstance(data_item, list):\n",
    "        # If it's a list, iterate through its items and recurse\n",
    "        for item in data_item:\n",
    "            update_time_out_values(item)\n",
    "    # Base case: If it's not a dict or list (e.g., str, int, float, bool, None), do nothing.\n",
    "\n",
    "# --- Main execution block ---\n",
    "try:\n",
    "    # Step 1: Read the JSON file\n",
    "    print(f\"Intentando leer el archivo: {file_path}\")\n",
    "    with open(file_path, 'r', encoding='utf-8') as f:\n",
    "        # Load the JSON data from the file into a Python object (list or dict)\n",
    "        data = json.load(f)\n",
    "    print(\"Archivo leído exitosamente.\")\n",
    "\n",
    "    # Step 2: Modify the data\n",
    "    print(\"Modificando los valores de 'Time_out' a null...\")\n",
    "    # Call the recursive function to update \"Time_out\" values throughout the data\n",
    "    update_time_out_values(data)\n",
    "    print(\"Modificación completada en memoria.\")\n",
    "\n",
    "    # Step 3: Write the updated data back to the same file\n",
    "    print(f\"Intentando guardar el archivo actualizado: {file_path}\")\n",
    "    with open(file_path, 'w', encoding='utf-8') as f:\n",
    "        # Dump the modified Python object back into the JSON file\n",
    "        # ensure_ascii=False is good practice for handling non-ASCII characters\n",
    "        # indent=4 makes the output JSON file human-readable (optional but recommended)\n",
    "        json.dump(data, f, ensure_ascii=False, indent=4)\n",
    "    print(f\"¡Éxito! El archivo {file_path} ha sido actualizado.\")\n",
    "    print(\"Todos los valores asociados a la clave 'Time_out' han sido cambiados a null.\")\n",
    "\n",
    "# --- Error Handling ---\n",
    "except FileNotFoundError:\n",
    "    print(f\"Error: No se pudo encontrar el archivo en la ruta especificada.\")\n",
    "    print(f\"Verifica que la ruta '{file_path}' sea correcta.\")\n",
    "except json.JSONDecodeError:\n",
    "    print(f\"Error: El archivo '{file_path}' no contiene JSON válido o está corrupto.\")\n",
    "    print(\"Verifica el contenido del archivo.\")\n",
    "except PermissionError:\n",
    "    print(f\"Error: No tienes permisos para leer o escribir en el archivo '{file_path}'.\")\n",
    "    print(\"Verifica los permisos del archivo o la carpeta.\")\n",
    "except Exception as e:\n",
    "    # Catch any other unexpected errors\n",
    "    print(f\"Ocurrió un error inesperado:\")\n",
    "    print(e)"
   ]
  },
  {
   "cell_type": "code",
   "execution_count": 2,
   "metadata": {},
   "outputs": [
    {
     "name": "stdout",
     "output_type": "stream",
     "text": [
      "Leyendo archivo de predicciones: /Users/gustavo/Documents/Projects/TESIS_UNAL/ADAPTIVE_ALGORITHM/data/processed/model/results/predictions_bad.json\n",
      "Archivo de predicciones leído.\n",
      "Datos de predicciones organizados para búsqueda.\n",
      "Leyendo archivo de datos de entrada: /Users/gustavo/Documents/Projects/TESIS_UNAL/ADAPTIVE_ALGORITHM/data/processed/model/input_data_bad.json\n",
      "Archivo de datos de entrada leído.\n",
      "Iniciando la combinación de datos...\n",
      "Combinación completada. Entradas actualizadas: 3400, Entradas omitidas/sin coincidencia: 0\n",
      "Guardando los datos actualizados en: /Users/gustavo/Documents/Projects/TESIS_UNAL/ADAPTIVE_ALGORITHM/data/processed/model/input_data_bad.json\n",
      "¡Éxito! El archivo /Users/gustavo/Documents/Projects/TESIS_UNAL/ADAPTIVE_ALGORITHM/data/processed/model/input_data_bad.json ha sido actualizado con los valores de 'pick_up' y 'TDS'.\n"
     ]
    }
   ],
   "source": [
    "import json\n",
    "import os\n",
    "from collections import defaultdict\n",
    "\n",
    "# --- Configuration ---\n",
    "# Define the paths to the JSON files\n",
    "predictions_path = '/Users/gustavo/Documents/Projects/TESIS_UNAL/ADAPTIVE_ALGORITHM/data/processed/model/results/predictions_bad.json'\n",
    "input_data_path = '/Users/gustavo/Documents/Projects/TESIS_UNAL/ADAPTIVE_ALGORITHM/data/processed/model/input_data_bad.json'\n",
    "# Output path will be the same as the input data path, overwriting it\n",
    "output_path = input_data_path\n",
    "\n",
    "# --- Helper function to safely update dictionary ---\n",
    "def safe_update_relay_data(target_relay, source_relay):\n",
    "    \"\"\"\n",
    "    Safely updates the target relay dict with 'pick_up' and 'TDS'\n",
    "    from the source relay dict, if they exist.\n",
    "    \"\"\"\n",
    "    if source_relay:\n",
    "        if 'pick_up' in source_relay:\n",
    "            target_relay['pick_up'] = source_relay['pick_up']\n",
    "        if 'TDS' in source_relay:\n",
    "            target_relay['TDS'] = source_relay['TDS']\n",
    "\n",
    "# --- Main execution block ---\n",
    "try:\n",
    "    # Step 1: Read the predictions data\n",
    "    print(f\"Leyendo archivo de predicciones: {predictions_path}\")\n",
    "    if not os.path.exists(predictions_path):\n",
    "        raise FileNotFoundError(f\"El archivo de predicciones no existe: {predictions_path}\")\n",
    "    with open(predictions_path, 'r', encoding='utf-8') as f:\n",
    "        predictions_list = json.load(f)\n",
    "    print(\"Archivo de predicciones leído.\")\n",
    "\n",
    "    # Step 2: Organize predictions for efficient lookup\n",
    "    # Create a dictionary where keys are scenario_id and values are dictionaries\n",
    "    # mapping pair_index to the corresponding prediction data.\n",
    "    predictions_map = defaultdict(dict)\n",
    "    for prediction in predictions_list:\n",
    "        scenario_id = prediction.get(\"scenario_id\")\n",
    "        pair_index = prediction.get(\"pair_index\")\n",
    "        if scenario_id is not None and pair_index is not None:\n",
    "            predictions_map[scenario_id][pair_index] = prediction\n",
    "        else:\n",
    "            print(f\"Advertencia: Entrada de predicción omitida por falta de 'scenario_id' o 'pair_index': {prediction}\")\n",
    "    print(\"Datos de predicciones organizados para búsqueda.\")\n",
    "\n",
    "    # Step 3: Read the input data file\n",
    "    print(f\"Leyendo archivo de datos de entrada: {input_data_path}\")\n",
    "    if not os.path.exists(input_data_path):\n",
    "        raise FileNotFoundError(f\"El archivo de datos de entrada no existe: {input_data_path}\")\n",
    "    with open(input_data_path, 'r', encoding='utf-8') as f:\n",
    "        input_data_list = json.load(f)\n",
    "    print(\"Archivo de datos de entrada leído.\")\n",
    "\n",
    "    # Step 4: Merge the data\n",
    "    print(\"Iniciando la combinación de datos...\")\n",
    "    # Keep track of the pair index for each scenario as we iterate through input_data\n",
    "    scenario_pair_counters = defaultdict(int)\n",
    "    skipped_entries = 0\n",
    "    updated_entries = 0\n",
    "\n",
    "    for input_entry in input_data_list:\n",
    "        scenario_id = input_entry.get(\"scenario_id\")\n",
    "\n",
    "        if not scenario_id:\n",
    "            print(f\"Advertencia: Entrada de datos omitida por falta de 'scenario_id': {input_entry}\")\n",
    "            skipped_entries += 1\n",
    "            continue\n",
    "\n",
    "        # Determine the current pair index for this scenario based on the order in the input file\n",
    "        current_pair_index = scenario_pair_counters[scenario_id]\n",
    "        scenario_pair_counters[scenario_id] += 1 # Increment for the next entry of the same scenario\n",
    "\n",
    "        # Find the corresponding prediction data\n",
    "        prediction_data = predictions_map.get(scenario_id, {}).get(current_pair_index)\n",
    "\n",
    "        if prediction_data:\n",
    "            # Update main relay data if it exists in both entries\n",
    "            if 'main_relay' in input_entry:\n",
    "                safe_update_relay_data(input_entry['main_relay'], prediction_data.get('main_relay'))\n",
    "\n",
    "            # Update backup relay data if it exists in both entries\n",
    "            if 'backup_relay' in input_entry:\n",
    "                 safe_update_relay_data(input_entry['backup_relay'], prediction_data.get('backup_relay'))\n",
    "\n",
    "            updated_entries += 1\n",
    "        else:\n",
    "            # Optional: Add a warning if no matching prediction was found for an input entry\n",
    "            # This might happen if the number of pairs per scenario differs between files\n",
    "            # or if scenario_ids don't match.\n",
    "            print(f\"Advertencia: No se encontraron datos de predicción para scenario_id='{scenario_id}', pair_index={current_pair_index} (índice basado en orden).\")\n",
    "            skipped_entries += 1\n",
    "\n",
    "    print(f\"Combinación completada. Entradas actualizadas: {updated_entries}, Entradas omitidas/sin coincidencia: {skipped_entries}\")\n",
    "\n",
    "    # Step 5: Write the updated data back to the input file (overwrite)\n",
    "    print(f\"Guardando los datos actualizados en: {output_path}\")\n",
    "    with open(output_path, 'w', encoding='utf-8') as f:\n",
    "        # Use indent=4 for readability\n",
    "        json.dump(input_data_list, f, ensure_ascii=False, indent=4)\n",
    "    print(f\"¡Éxito! El archivo {output_path} ha sido actualizado con los valores de 'pick_up' y 'TDS'.\")\n",
    "\n",
    "# --- Error Handling ---\n",
    "except FileNotFoundError as e:\n",
    "    print(f\"Error: Archivo no encontrado.\")\n",
    "    print(e)\n",
    "except json.JSONDecodeError as e:\n",
    "    print(f\"Error: Falla al decodificar JSON. Verifica que ambos archivos sean JSON válidos.\")\n",
    "    print(f\"Detalles del error: {e}\")\n",
    "except KeyError as e:\n",
    "    print(f\"Error: Falta una clave esperada en los datos.\")\n",
    "    print(f\"Clave faltante: {e}\")\n",
    "    print(\"Verifica la estructura de tus archivos JSON.\")\n",
    "except Exception as e:\n",
    "    # Catch any other unexpected errors\n",
    "    print(f\"Ocurrió un error inesperado:\")\n",
    "    print(e)"
   ]
  },
  {
   "cell_type": "markdown",
   "metadata": {},
   "source": [
    "# calculo del TMT"
   ]
  },
  {
   "cell_type": "code",
   "execution_count": 5,
   "metadata": {},
   "outputs": [
    {
     "name": "stdout",
     "output_type": "stream",
     "text": [
      "Leyendo archivo de datos: /Users/gustavo/Documents/Projects/TESIS_UNAL/ADAPTIVE_ALGORITHM/data/processed/model/input_data_bad.json\n",
      "Archivo de datos leído.\n",
      "Iniciando cálculos (K=0.14, N=0.02, CTI=0.25)...\n",
      "Cálculos completados para 3400 entradas totales.\n",
      "\n",
      "--- Suma de Miscoordination Time (TMT) por Escenario ---\n",
      "  - Escenario 'scenario_10': tmt_total = -62.9120\n",
      "  - Escenario 'scenario_11': tmt_total = -69.6442\n",
      "  - Escenario 'scenario_12': tmt_total = -62.4626\n",
      "  - Escenario 'scenario_13': tmt_total = -64.3786\n",
      "  - Escenario 'scenario_14': tmt_total = -55.2419\n",
      "  - Escenario 'scenario_15': tmt_total = -43.1925\n",
      "  - Escenario 'scenario_16': tmt_total = -46.5251\n",
      "  - Escenario 'scenario_17': tmt_total = -51.8726\n",
      "  - Escenario 'scenario_18': tmt_total = -53.9080\n",
      "  - Escenario 'scenario_19': tmt_total = -63.8215\n",
      "  - Escenario 'scenario_2': tmt_total = -45.6686\n",
      "  - Escenario 'scenario_20': tmt_total = -46.3023\n",
      "  - Escenario 'scenario_3': tmt_total = -43.8514\n",
      "  - Escenario 'scenario_37': tmt_total = -38.4487\n",
      "  - Escenario 'scenario_38': tmt_total = -179.7808\n",
      "  - Escenario 'scenario_39': tmt_total = -43.8937\n",
      "  - Escenario 'scenario_40': tmt_total = -46.3742\n",
      "  - Escenario 'scenario_41': tmt_total = -43.3842\n",
      "  - Escenario 'scenario_42': tmt_total = -36.1293\n",
      "  - Escenario 'scenario_43': tmt_total = -187.2773\n",
      "  - Escenario 'scenario_44': tmt_total = -97.5823\n",
      "  - Escenario 'scenario_45': tmt_total = -42.8346\n",
      "  - Escenario 'scenario_46': tmt_total = -41.2332\n",
      "  - Escenario 'scenario_47': tmt_total = -50.9250\n",
      "  - Escenario 'scenario_48': tmt_total = -48.1936\n",
      "  - Escenario 'scenario_49': tmt_total = -44.2368\n",
      "  - Escenario 'scenario_5': tmt_total = -64.2204\n",
      "  - Escenario 'scenario_50': tmt_total = -48.7710\n",
      "  - Escenario 'scenario_51': tmt_total = -44.4371\n",
      "  - Escenario 'scenario_52': tmt_total = -52.5236\n",
      "  - Escenario 'scenario_6': tmt_total = -41.2062\n",
      "  - Escenario 'scenario_7': tmt_total = -56.0333\n",
      "  - Escenario 'scenario_8': tmt_total = -52.6646\n",
      "  - Escenario 'scenario_9': tmt_total = -48.5568\n",
      "----------------------------------------------------\n",
      "\n",
      "--- Resumen General de Coordinación (Todos los Escenarios) ---\n",
      "Total de Pares Procesados: 3400\n",
      "  - Pares Coordinados (delta_t >= 0): 1306\n",
      "  - Pares Descoordinados (delta_t < 0): 1349\n",
      "  - Pares Inválidos/Sin Operación (tiempo infinito o datos faltantes): 745\n",
      "----------------------------------------------------------\n",
      "\n",
      "Guardando los datos actualizados en: /Users/gustavo/Documents/Projects/TESIS_UNAL/ADAPTIVE_ALGORITHM/data/processed/model/input_data_bad.json\n",
      "¡Éxito! El archivo /Users/gustavo/Documents/Projects/TESIS_UNAL/ADAPTIVE_ALGORITHM/data/processed/model/input_data_bad.json ha sido actualizado con los datos por par.\n"
     ]
    }
   ],
   "source": [
    "import json\n",
    "import math\n",
    "import os\n",
    "from collections import defaultdict # Import defaultdict for easier summing per scenario\n",
    "\n",
    "# --- Configuration ---\n",
    "# Path to the JSON file (updated in previous steps)\n",
    "input_data_path = '/Users/gustavo/Documents/Projects/TESIS_UNAL/ADAPTIVE_ALGORITHM/data/processed/model/input_data_bad.json'\n",
    "# Output path will be the same, overwriting the file\n",
    "output_path = input_data_path\n",
    "\n",
    "# --- Constants for Calculation ---\n",
    "# IEC Standard Normal Inverse Curve parameters\n",
    "K = 0.14\n",
    "N = 0.02\n",
    "# Coordination Time Interval (CTI) in seconds\n",
    "CTI = 0.25\n",
    "\n",
    "# --- Function to calculate operation time ---\n",
    "# (Function remains the same as previous version)\n",
    "def calculate_operation_time(I_shc, I_pi, TDS, relay_id=\"N/A\"):\n",
    "    if I_shc is None or I_pi is None or TDS is None: return float('inf')\n",
    "    if not all(isinstance(x, (int, float)) for x in [I_shc, I_pi, TDS]): return float('inf')\n",
    "    if I_pi <= 0: return float('inf')\n",
    "    if TDS <= 0: return float('inf')\n",
    "    try:\n",
    "        M = I_shc / I_pi\n",
    "        if M <= 1: return float('inf')\n",
    "        denominator = (M**N) - 1\n",
    "        if denominator <= 1e-9: return float('inf')\n",
    "        time = (K / denominator) * TDS\n",
    "        return max(0.0, time)\n",
    "    except (ZeroDivisionError, OverflowError, ValueError):\n",
    "        return float('inf')\n",
    "\n",
    "# --- Main execution block ---\n",
    "try:\n",
    "    # Step 1: Read the input data file\n",
    "    print(f\"Leyendo archivo de datos: {input_data_path}\")\n",
    "    if not os.path.exists(input_data_path):\n",
    "        raise FileNotFoundError(f\"El archivo de datos de entrada no existe: {input_data_path}\")\n",
    "    with open(input_data_path, 'r', encoding='utf-8') as f:\n",
    "        data_list = json.load(f)\n",
    "    print(\"Archivo de datos leído.\")\n",
    "\n",
    "    # Step 2: Iterate, calculate, handle values, and sum MT per scenario\n",
    "    print(f\"Iniciando cálculos (K={K}, N={N}, CTI={CTI})...\")\n",
    "\n",
    "    # Counters for overall summary\n",
    "    processed_pairs = 0\n",
    "    coordinated_count = 0\n",
    "    miscoordinated_count = 0\n",
    "    invalid_or_no_op_count = 0\n",
    "\n",
    "    # Dictionary to store TMT sum per scenario\n",
    "    # defaultdict(float) initializes new keys with 0.0\n",
    "    scenario_tmt_totals = defaultdict(float)\n",
    "\n",
    "    for entry in data_list:\n",
    "        processed_pairs += 1\n",
    "        main_relay_data = entry.get('main_relay')\n",
    "        backup_relay_data = entry.get('backup_relay')\n",
    "        # Get scenario ID early, use a default if missing\n",
    "        scenario_id = entry.get('scenario_id', 'ID_Desconocido')\n",
    "\n",
    "        if not main_relay_data or not backup_relay_data:\n",
    "            print(f\"Advertencia: Entrada {processed_pairs} (Escenario: {scenario_id}) omitida por falta de 'main_relay' o 'backup_relay'.\")\n",
    "            if main_relay_data: main_relay_data['Time_out'] = None\n",
    "            if backup_relay_data: backup_relay_data['Time_out'] = None\n",
    "            entry['delta_t'] = None\n",
    "            entry['MT'] = None\n",
    "            invalid_or_no_op_count += 1\n",
    "            continue # Skip to next entry\n",
    "\n",
    "        main_relay_id = main_relay_data.get('relay', 'Principal_Desconocido')\n",
    "        backup_relay_id = backup_relay_data.get('relay', 'Respaldo_Desconocido')\n",
    "\n",
    "        # --- Get values and Force Positive Pickup/TDS ---\n",
    "        I_shc_main = main_relay_data.get('Ishc')\n",
    "        I_pi_main = main_relay_data.get('pick_up')\n",
    "        TDS_main = main_relay_data.get('TDS')\n",
    "        I_shc_backup = backup_relay_data.get('Ishc')\n",
    "        I_pi_backup = backup_relay_data.get('pick_up')\n",
    "        TDS_backup = backup_relay_data.get('TDS')\n",
    "\n",
    "        if I_pi_main is not None and isinstance(I_pi_main, (int, float)): I_pi_main = abs(I_pi_main)\n",
    "        if TDS_main is not None and isinstance(TDS_main, (int, float)): TDS_main = abs(TDS_main)\n",
    "        if I_pi_backup is not None and isinstance(I_pi_backup, (int, float)): I_pi_backup = abs(I_pi_backup)\n",
    "        if TDS_backup is not None and isinstance(TDS_backup, (int, float)): TDS_backup = abs(TDS_backup)\n",
    "        # --- End forcing positive ---\n",
    "\n",
    "        t_m_ref = calculate_operation_time(I_shc_main, I_pi_main, TDS_main, main_relay_id)\n",
    "        t_b_ref = calculate_operation_time(I_shc_backup, I_pi_backup, TDS_backup, backup_relay_id) # Using Backup Ishc\n",
    "\n",
    "        main_relay_data['Time_out'] = t_m_ref if t_m_ref != float('inf') else None\n",
    "        backup_relay_data['Time_out'] = t_b_ref if t_b_ref != float('inf') else None\n",
    "\n",
    "        delta_t = None\n",
    "        mt = None\n",
    "\n",
    "        if t_m_ref != float('inf') and t_b_ref != float('inf'):\n",
    "            delta_t = t_b_ref - t_m_ref - CTI\n",
    "            mt = min(0.0, (delta_t - abs(delta_t)) / 2)\n",
    "\n",
    "            # --- Accumulate MT per scenario ---\n",
    "            # Add MT to the total for this specific scenario *only if* it's negative\n",
    "            if mt < 0:\n",
    "                 scenario_tmt_totals[scenario_id] += mt\n",
    "            # --- End Accumulate ---\n",
    "\n",
    "            if delta_t >= 0:\n",
    "                coordinated_count += 1\n",
    "            else:\n",
    "                miscoordinated_count += 1\n",
    "        else:\n",
    "            invalid_or_no_op_count += 1\n",
    "\n",
    "        entry['delta_t'] = delta_t\n",
    "        entry['MT'] = mt\n",
    "        # End of loop for one entry\n",
    "\n",
    "    print(f\"Cálculos completados para {processed_pairs} entradas totales.\")\n",
    "\n",
    "    # Step 3: Print Summary per Scenario\n",
    "    print(\"\\n--- Suma de Miscoordination Time (TMT) por Escenario ---\")\n",
    "    if scenario_tmt_totals:\n",
    "        # Sort scenarios by ID for consistent output order\n",
    "        sorted_scenarios = sorted(scenario_tmt_totals.items())\n",
    "        for scenario_id, tmt in sorted_scenarios:\n",
    "            print(f\"  - Escenario '{scenario_id}': tmt_total = {tmt:.4f}\")\n",
    "    else:\n",
    "        print(\"  No se registraron valores de TMT negativos en ningún escenario.\")\n",
    "    print(\"----------------------------------------------------\\n\")\n",
    "\n",
    "\n",
    "    # Step 4: Print Overall Summary\n",
    "    print(\"--- Resumen General de Coordinación (Todos los Escenarios) ---\")\n",
    "    print(f\"Total de Pares Procesados: {processed_pairs}\")\n",
    "    print(f\"  - Pares Coordinados (delta_t >= 0): {coordinated_count}\")\n",
    "    print(f\"  - Pares Descoordinados (delta_t < 0): {miscoordinated_count}\")\n",
    "    print(f\"  - Pares Inválidos/Sin Operación (tiempo infinito o datos faltantes): {invalid_or_no_op_count}\")\n",
    "    print(f\"----------------------------------------------------------\")\n",
    "    # Verification check\n",
    "    if processed_pairs != (coordinated_count + miscoordinated_count + invalid_or_no_op_count):\n",
    "         print(\"ADVERTENCIA: El conteo de pares no coincide con el total procesado.\")\n",
    "    print(\"\") # Add a newline for spacing\n",
    "\n",
    "    # Step 5: Write the updated data (with individual Time_out, delta_t, MT per pair) back to the file\n",
    "    print(f\"Guardando los datos actualizados en: {output_path}\")\n",
    "    with open(output_path, 'w', encoding='utf-8') as f:\n",
    "        # The main JSON file still contains the list of pairs, each updated.\n",
    "        # The per-scenario TMT totals are only printed, not added back to this file.\n",
    "        json.dump(data_list, f, ensure_ascii=False, indent=4)\n",
    "    print(f\"¡Éxito! El archivo {output_path} ha sido actualizado con los datos por par.\")\n",
    "\n",
    "# --- Error Handling ---\n",
    "except FileNotFoundError as e: print(f\"Error: Archivo no encontrado.\\n{e}\")\n",
    "except json.JSONDecodeError as e: print(f\"Error: Falla al decodificar JSON en {input_data_path}.\\nDetalles: {e}\")\n",
    "except KeyError as e: print(f\"Error: Falta una clave esperada en los datos JSON.\\nClave faltante: {e}\")\n",
    "except TypeError as e: print(f\"Error de tipo: Probablemente un valor None o tipo incorrecto.\\nDetalles: {e}\")\n",
    "except Exception as e: print(f\"Ocurrió un error inesperado:\\n{e}\")"
   ]
  },
  {
   "cell_type": "code",
   "execution_count": null,
   "metadata": {},
   "outputs": [],
   "source": []
  },
  {
   "cell_type": "code",
   "execution_count": 14,
   "metadata": {},
   "outputs": [
    {
     "name": "stdout",
     "output_type": "stream",
     "text": [
      "✓ summary_scenarios.csv y mt_distribution.csv listos\n"
     ]
    }
   ],
   "source": [
    "#!/usr/bin/env python3\n",
    "\"\"\"\n",
    "Genera:\n",
    "  • summary_scenarios.csv  –  métrica global por escenario\n",
    "  • mt_distribution.csv    –  |mt| de cada par descoordinado\n",
    "Notas:\n",
    "  – TMT se define como la suma de mt (siempre negativo) y es adimensional.\n",
    "  – CTI fijo en 0.2 s.\n",
    "\"\"\"\n",
    "import json, csv, os\n",
    "CTI = 0.2\n",
    "INPUT_FILE = \"/Users/gustavo/Documents/Projects/TESIS_UNAL/ADAPTIVE_ALGORITHM/data/processed/independent_relay_pairs_best.json\"\n",
    "OUT_CSV_SCEN = \"summary_scenarios_transformer.csv\"\n",
    "OUT_CSV_MT   = \"mt_distribution_transformer.csv\"\n",
    "\n",
    "with open(INPUT_FILE) as f:\n",
    "    data = json.load(f)\n",
    "\n",
    "per_scenario = {}\n",
    "for p in data:\n",
    "    sid = p[\"scenario_id\"]\n",
    "    d = per_scenario.setdefault(sid, {\"total\":0,\"valid\":0,\"descoord\":0,\"TMT\":0.0})\n",
    "    d[\"total\"] += 1\n",
    "    tm, tb = p[\"main_relay\"].get(\"Time_out\"), p[\"backup_relay\"].get(\"Time_out\")\n",
    "    if not all(isinstance(x,(int,float)) for x in (tm, tb)):\n",
    "        continue\n",
    "    d[\"valid\"] += 1\n",
    "    delta_t = tb - tm - CTI\n",
    "    mt = (delta_t - abs(delta_t))/2        # negativo si Δt<0\n",
    "    if delta_t < 0:\n",
    "        d[\"descoord\"] += 1\n",
    "        d[\"TMT\"]      += mt                # suma valores negativos\n",
    "        # exportar |mt| para gráfica de distribución\n",
    "        with open(OUT_CSV_MT,\"a\",newline=\"\") as g:\n",
    "            csv.writer(g).writerow([\n",
    "                sid,\n",
    "                f'{p[\"fault\"]}% {p[\"main_relay\"][\"relay\"]}/{p[\"backup_relay\"][\"relay\"]}',\n",
    "                abs(mt)\n",
    "            ])\n",
    "\n",
    "with open(OUT_CSV_SCEN,\"w\",newline=\"\") as f:\n",
    "    w = csv.writer(f)\n",
    "    w.writerow([\"Escenario\",\"Pares evaluados\",\"Pares válidos\",\n",
    "                \"Descoordinados\",\"% Descoord\",\"TMT (negativo)\"])\n",
    "    for sid,d in sorted(per_scenario.items(),\n",
    "                        key=lambda k:int(k[0].split(\"_\")[-1])):\n",
    "        pct = 100*d[\"descoord\"]/d[\"valid\"] if d[\"valid\"] else 0\n",
    "        w.writerow([sid,d[\"total\"],d[\"valid\"],d[\"descoord\"],\n",
    "                    f\"{pct:.1f}\",f\"{d['TMT']:.5f}\"])\n",
    "print(\"✓ summary_scenarios.csv y mt_distribution.csv listos\")\n"
   ]
  },
  {
   "cell_type": "markdown",
   "metadata": {},
   "source": [
    "# graph\n"
   ]
  },
  {
   "cell_type": "code",
   "execution_count": 15,
   "metadata": {},
   "outputs": [
    {
     "name": "stdout",
     "output_type": "stream",
     "text": [
      "✓ tmt_by_scenario_transformer.png generado\n"
     ]
    }
   ],
   "source": [
    "#!/usr/bin/env python3\n",
    "\"\"\"\n",
    "Lee summary_scenarios.csv y genera:\n",
    "  • tmt_by_scenario.png  –  gráfica en barras del TMT (negativo)\n",
    "\"\"\"\n",
    "import pandas as pd\n",
    "import matplotlib.pyplot as plt\n",
    "\n",
    "# --- 1. Cargar CSV ---\n",
    "df = pd.read_csv(\"summary_scenarios_transformer.csv\")\n",
    "\n",
    "# --- 2. Extraer número de escenario y ordenar ---\n",
    "df[\"num\"] = pd.to_numeric(df[\"Escenario\"].str.extract(r\"(\\d+)\")[0])\n",
    "df = df.sort_values(\"num\")\n",
    "\n",
    "# --- 3. Graficar ---\n",
    "plt.figure(figsize=(12,5))\n",
    "plt.bar(df[\"Escenario\"], df[\"TMT (negativo)\"])\n",
    "plt.title(\"TMT por escenario (68 escenarios)\")\n",
    "plt.xlabel(\"Escenario\")\n",
    "plt.ylabel(\"TMT\")\n",
    "plt.xticks(rotation=90)\n",
    "plt.tight_layout()\n",
    "\n",
    "# --- 4. Guardar como PNG (300 dpi) ---\n",
    "plt.savefig(\"tmt_by_scenario_transformer.png\", dpi=300)\n",
    "plt.close()\n",
    "\n",
    "print(\"✓ tmt_by_scenario_transformer.png generado\")\n"
   ]
  },
  {
   "cell_type": "markdown",
   "metadata": {},
   "source": [
    "# grap v2"
   ]
  },
  {
   "cell_type": "code",
   "execution_count": 16,
   "metadata": {},
   "outputs": [
    {
     "ename": "FileNotFoundError",
     "evalue": "[Errno 2] No such file or directory: '/Users/gustavo/Documents/Projects/TESIS_UNAL/ADAPTIVE_ALGORITHM/data/processed/model/results/TDS_Pickup_nuevos.csv'",
     "output_type": "error",
     "traceback": [
      "\u001b[0;31m---------------------------------------------------------------------------\u001b[0m",
      "\u001b[0;31mFileNotFoundError\u001b[0m                         Traceback (most recent call last)",
      "Cell \u001b[0;32mIn[16], line 22\u001b[0m\n\u001b[1;32m     19\u001b[0m CTI    \u001b[38;5;241m=\u001b[39m \u001b[38;5;241m0.2\u001b[39m\n\u001b[1;32m     21\u001b[0m \u001b[38;5;66;03m# ─── 1) Cargar CSV ───────────────────────────────────────────────────────\u001b[39;00m\n\u001b[0;32m---> 22\u001b[0m df \u001b[38;5;241m=\u001b[39m \u001b[43mpd\u001b[49m\u001b[38;5;241;43m.\u001b[39;49m\u001b[43mread_csv\u001b[49m\u001b[43m(\u001b[49m\u001b[43mCSV_IN\u001b[49m\u001b[43m)\u001b[49m\n\u001b[1;32m     24\u001b[0m \u001b[38;5;66;03m# ─── 2) Calcular TM (margen de tiempo usando pickup) ────────────────────\u001b[39;00m\n\u001b[1;32m     25\u001b[0m \u001b[38;5;66;03m# df[\"TM\"] = df[\"Pickup_respaldo\"] - df[\"Pickup_principal\"] - CTI\u001b[39;00m\n\u001b[1;32m     26\u001b[0m \u001b[38;5;66;03m#2) Calcular TM (margen de tiempo usando time out)\u001b[39;00m\n\u001b[1;32m     27\u001b[0m \n\u001b[1;32m     28\u001b[0m \n\u001b[1;32m     29\u001b[0m \u001b[38;5;66;03m# ─── 3) Agrupar para obtener TMT (suma de TM negativos) ─────────────────\u001b[39;00m\n\u001b[1;32m     30\u001b[0m summary \u001b[38;5;241m=\u001b[39m (\n\u001b[1;32m     31\u001b[0m     df\u001b[38;5;241m.\u001b[39mgroupby(\u001b[38;5;124m\"\u001b[39m\u001b[38;5;124mescenario\u001b[39m\u001b[38;5;124m\"\u001b[39m)[\u001b[38;5;124m\"\u001b[39m\u001b[38;5;124mTM\u001b[39m\u001b[38;5;124m\"\u001b[39m]\n\u001b[1;32m     32\u001b[0m       \u001b[38;5;241m.\u001b[39mapply(\u001b[38;5;28;01mlambda\u001b[39;00m x: x[x \u001b[38;5;241m<\u001b[39m \u001b[38;5;241m0\u001b[39m]\u001b[38;5;241m.\u001b[39msum())\n\u001b[1;32m     33\u001b[0m       \u001b[38;5;241m.\u001b[39mreset_index()\n\u001b[1;32m     34\u001b[0m       \u001b[38;5;241m.\u001b[39mrename(columns\u001b[38;5;241m=\u001b[39m{\u001b[38;5;124m\"\u001b[39m\u001b[38;5;124mTM\u001b[39m\u001b[38;5;124m\"\u001b[39m: \u001b[38;5;124m\"\u001b[39m\u001b[38;5;124mTMT (negativo)\u001b[39m\u001b[38;5;124m\"\u001b[39m})\n\u001b[1;32m     35\u001b[0m )\n",
      "File \u001b[0;32m/opt/homebrew/lib/python3.11/site-packages/pandas/io/parsers/readers.py:912\u001b[0m, in \u001b[0;36mread_csv\u001b[0;34m(filepath_or_buffer, sep, delimiter, header, names, index_col, usecols, dtype, engine, converters, true_values, false_values, skipinitialspace, skiprows, skipfooter, nrows, na_values, keep_default_na, na_filter, verbose, skip_blank_lines, parse_dates, infer_datetime_format, keep_date_col, date_parser, date_format, dayfirst, cache_dates, iterator, chunksize, compression, thousands, decimal, lineterminator, quotechar, quoting, doublequote, escapechar, comment, encoding, encoding_errors, dialect, on_bad_lines, delim_whitespace, low_memory, memory_map, float_precision, storage_options, dtype_backend)\u001b[0m\n\u001b[1;32m    899\u001b[0m kwds_defaults \u001b[38;5;241m=\u001b[39m _refine_defaults_read(\n\u001b[1;32m    900\u001b[0m     dialect,\n\u001b[1;32m    901\u001b[0m     delimiter,\n\u001b[0;32m   (...)\u001b[0m\n\u001b[1;32m    908\u001b[0m     dtype_backend\u001b[38;5;241m=\u001b[39mdtype_backend,\n\u001b[1;32m    909\u001b[0m )\n\u001b[1;32m    910\u001b[0m kwds\u001b[38;5;241m.\u001b[39mupdate(kwds_defaults)\n\u001b[0;32m--> 912\u001b[0m \u001b[38;5;28;01mreturn\u001b[39;00m \u001b[43m_read\u001b[49m\u001b[43m(\u001b[49m\u001b[43mfilepath_or_buffer\u001b[49m\u001b[43m,\u001b[49m\u001b[43m \u001b[49m\u001b[43mkwds\u001b[49m\u001b[43m)\u001b[49m\n",
      "File \u001b[0;32m/opt/homebrew/lib/python3.11/site-packages/pandas/io/parsers/readers.py:577\u001b[0m, in \u001b[0;36m_read\u001b[0;34m(filepath_or_buffer, kwds)\u001b[0m\n\u001b[1;32m    574\u001b[0m _validate_names(kwds\u001b[38;5;241m.\u001b[39mget(\u001b[38;5;124m\"\u001b[39m\u001b[38;5;124mnames\u001b[39m\u001b[38;5;124m\"\u001b[39m, \u001b[38;5;28;01mNone\u001b[39;00m))\n\u001b[1;32m    576\u001b[0m \u001b[38;5;66;03m# Create the parser.\u001b[39;00m\n\u001b[0;32m--> 577\u001b[0m parser \u001b[38;5;241m=\u001b[39m \u001b[43mTextFileReader\u001b[49m\u001b[43m(\u001b[49m\u001b[43mfilepath_or_buffer\u001b[49m\u001b[43m,\u001b[49m\u001b[43m \u001b[49m\u001b[38;5;241;43m*\u001b[39;49m\u001b[38;5;241;43m*\u001b[39;49m\u001b[43mkwds\u001b[49m\u001b[43m)\u001b[49m\n\u001b[1;32m    579\u001b[0m \u001b[38;5;28;01mif\u001b[39;00m chunksize \u001b[38;5;129;01mor\u001b[39;00m iterator:\n\u001b[1;32m    580\u001b[0m     \u001b[38;5;28;01mreturn\u001b[39;00m parser\n",
      "File \u001b[0;32m/opt/homebrew/lib/python3.11/site-packages/pandas/io/parsers/readers.py:1407\u001b[0m, in \u001b[0;36mTextFileReader.__init__\u001b[0;34m(self, f, engine, **kwds)\u001b[0m\n\u001b[1;32m   1404\u001b[0m     \u001b[38;5;28mself\u001b[39m\u001b[38;5;241m.\u001b[39moptions[\u001b[38;5;124m\"\u001b[39m\u001b[38;5;124mhas_index_names\u001b[39m\u001b[38;5;124m\"\u001b[39m] \u001b[38;5;241m=\u001b[39m kwds[\u001b[38;5;124m\"\u001b[39m\u001b[38;5;124mhas_index_names\u001b[39m\u001b[38;5;124m\"\u001b[39m]\n\u001b[1;32m   1406\u001b[0m \u001b[38;5;28mself\u001b[39m\u001b[38;5;241m.\u001b[39mhandles: IOHandles \u001b[38;5;241m|\u001b[39m \u001b[38;5;28;01mNone\u001b[39;00m \u001b[38;5;241m=\u001b[39m \u001b[38;5;28;01mNone\u001b[39;00m\n\u001b[0;32m-> 1407\u001b[0m \u001b[38;5;28mself\u001b[39m\u001b[38;5;241m.\u001b[39m_engine \u001b[38;5;241m=\u001b[39m \u001b[38;5;28;43mself\u001b[39;49m\u001b[38;5;241;43m.\u001b[39;49m\u001b[43m_make_engine\u001b[49m\u001b[43m(\u001b[49m\u001b[43mf\u001b[49m\u001b[43m,\u001b[49m\u001b[43m \u001b[49m\u001b[38;5;28;43mself\u001b[39;49m\u001b[38;5;241;43m.\u001b[39;49m\u001b[43mengine\u001b[49m\u001b[43m)\u001b[49m\n",
      "File \u001b[0;32m/opt/homebrew/lib/python3.11/site-packages/pandas/io/parsers/readers.py:1661\u001b[0m, in \u001b[0;36mTextFileReader._make_engine\u001b[0;34m(self, f, engine)\u001b[0m\n\u001b[1;32m   1659\u001b[0m     \u001b[38;5;28;01mif\u001b[39;00m \u001b[38;5;124m\"\u001b[39m\u001b[38;5;124mb\u001b[39m\u001b[38;5;124m\"\u001b[39m \u001b[38;5;129;01mnot\u001b[39;00m \u001b[38;5;129;01min\u001b[39;00m mode:\n\u001b[1;32m   1660\u001b[0m         mode \u001b[38;5;241m+\u001b[39m\u001b[38;5;241m=\u001b[39m \u001b[38;5;124m\"\u001b[39m\u001b[38;5;124mb\u001b[39m\u001b[38;5;124m\"\u001b[39m\n\u001b[0;32m-> 1661\u001b[0m \u001b[38;5;28mself\u001b[39m\u001b[38;5;241m.\u001b[39mhandles \u001b[38;5;241m=\u001b[39m \u001b[43mget_handle\u001b[49m\u001b[43m(\u001b[49m\n\u001b[1;32m   1662\u001b[0m \u001b[43m    \u001b[49m\u001b[43mf\u001b[49m\u001b[43m,\u001b[49m\n\u001b[1;32m   1663\u001b[0m \u001b[43m    \u001b[49m\u001b[43mmode\u001b[49m\u001b[43m,\u001b[49m\n\u001b[1;32m   1664\u001b[0m \u001b[43m    \u001b[49m\u001b[43mencoding\u001b[49m\u001b[38;5;241;43m=\u001b[39;49m\u001b[38;5;28;43mself\u001b[39;49m\u001b[38;5;241;43m.\u001b[39;49m\u001b[43moptions\u001b[49m\u001b[38;5;241;43m.\u001b[39;49m\u001b[43mget\u001b[49m\u001b[43m(\u001b[49m\u001b[38;5;124;43m\"\u001b[39;49m\u001b[38;5;124;43mencoding\u001b[39;49m\u001b[38;5;124;43m\"\u001b[39;49m\u001b[43m,\u001b[49m\u001b[43m \u001b[49m\u001b[38;5;28;43;01mNone\u001b[39;49;00m\u001b[43m)\u001b[49m\u001b[43m,\u001b[49m\n\u001b[1;32m   1665\u001b[0m \u001b[43m    \u001b[49m\u001b[43mcompression\u001b[49m\u001b[38;5;241;43m=\u001b[39;49m\u001b[38;5;28;43mself\u001b[39;49m\u001b[38;5;241;43m.\u001b[39;49m\u001b[43moptions\u001b[49m\u001b[38;5;241;43m.\u001b[39;49m\u001b[43mget\u001b[49m\u001b[43m(\u001b[49m\u001b[38;5;124;43m\"\u001b[39;49m\u001b[38;5;124;43mcompression\u001b[39;49m\u001b[38;5;124;43m\"\u001b[39;49m\u001b[43m,\u001b[49m\u001b[43m \u001b[49m\u001b[38;5;28;43;01mNone\u001b[39;49;00m\u001b[43m)\u001b[49m\u001b[43m,\u001b[49m\n\u001b[1;32m   1666\u001b[0m \u001b[43m    \u001b[49m\u001b[43mmemory_map\u001b[49m\u001b[38;5;241;43m=\u001b[39;49m\u001b[38;5;28;43mself\u001b[39;49m\u001b[38;5;241;43m.\u001b[39;49m\u001b[43moptions\u001b[49m\u001b[38;5;241;43m.\u001b[39;49m\u001b[43mget\u001b[49m\u001b[43m(\u001b[49m\u001b[38;5;124;43m\"\u001b[39;49m\u001b[38;5;124;43mmemory_map\u001b[39;49m\u001b[38;5;124;43m\"\u001b[39;49m\u001b[43m,\u001b[49m\u001b[43m \u001b[49m\u001b[38;5;28;43;01mFalse\u001b[39;49;00m\u001b[43m)\u001b[49m\u001b[43m,\u001b[49m\n\u001b[1;32m   1667\u001b[0m \u001b[43m    \u001b[49m\u001b[43mis_text\u001b[49m\u001b[38;5;241;43m=\u001b[39;49m\u001b[43mis_text\u001b[49m\u001b[43m,\u001b[49m\n\u001b[1;32m   1668\u001b[0m \u001b[43m    \u001b[49m\u001b[43merrors\u001b[49m\u001b[38;5;241;43m=\u001b[39;49m\u001b[38;5;28;43mself\u001b[39;49m\u001b[38;5;241;43m.\u001b[39;49m\u001b[43moptions\u001b[49m\u001b[38;5;241;43m.\u001b[39;49m\u001b[43mget\u001b[49m\u001b[43m(\u001b[49m\u001b[38;5;124;43m\"\u001b[39;49m\u001b[38;5;124;43mencoding_errors\u001b[39;49m\u001b[38;5;124;43m\"\u001b[39;49m\u001b[43m,\u001b[49m\u001b[43m \u001b[49m\u001b[38;5;124;43m\"\u001b[39;49m\u001b[38;5;124;43mstrict\u001b[39;49m\u001b[38;5;124;43m\"\u001b[39;49m\u001b[43m)\u001b[49m\u001b[43m,\u001b[49m\n\u001b[1;32m   1669\u001b[0m \u001b[43m    \u001b[49m\u001b[43mstorage_options\u001b[49m\u001b[38;5;241;43m=\u001b[39;49m\u001b[38;5;28;43mself\u001b[39;49m\u001b[38;5;241;43m.\u001b[39;49m\u001b[43moptions\u001b[49m\u001b[38;5;241;43m.\u001b[39;49m\u001b[43mget\u001b[49m\u001b[43m(\u001b[49m\u001b[38;5;124;43m\"\u001b[39;49m\u001b[38;5;124;43mstorage_options\u001b[39;49m\u001b[38;5;124;43m\"\u001b[39;49m\u001b[43m,\u001b[49m\u001b[43m \u001b[49m\u001b[38;5;28;43;01mNone\u001b[39;49;00m\u001b[43m)\u001b[49m\u001b[43m,\u001b[49m\n\u001b[1;32m   1670\u001b[0m \u001b[43m\u001b[49m\u001b[43m)\u001b[49m\n\u001b[1;32m   1671\u001b[0m \u001b[38;5;28;01massert\u001b[39;00m \u001b[38;5;28mself\u001b[39m\u001b[38;5;241m.\u001b[39mhandles \u001b[38;5;129;01mis\u001b[39;00m \u001b[38;5;129;01mnot\u001b[39;00m \u001b[38;5;28;01mNone\u001b[39;00m\n\u001b[1;32m   1672\u001b[0m f \u001b[38;5;241m=\u001b[39m \u001b[38;5;28mself\u001b[39m\u001b[38;5;241m.\u001b[39mhandles\u001b[38;5;241m.\u001b[39mhandle\n",
      "File \u001b[0;32m/opt/homebrew/lib/python3.11/site-packages/pandas/io/common.py:859\u001b[0m, in \u001b[0;36mget_handle\u001b[0;34m(path_or_buf, mode, encoding, compression, memory_map, is_text, errors, storage_options)\u001b[0m\n\u001b[1;32m    854\u001b[0m \u001b[38;5;28;01melif\u001b[39;00m \u001b[38;5;28misinstance\u001b[39m(handle, \u001b[38;5;28mstr\u001b[39m):\n\u001b[1;32m    855\u001b[0m     \u001b[38;5;66;03m# Check whether the filename is to be opened in binary mode.\u001b[39;00m\n\u001b[1;32m    856\u001b[0m     \u001b[38;5;66;03m# Binary mode does not support 'encoding' and 'newline'.\u001b[39;00m\n\u001b[1;32m    857\u001b[0m     \u001b[38;5;28;01mif\u001b[39;00m ioargs\u001b[38;5;241m.\u001b[39mencoding \u001b[38;5;129;01mand\u001b[39;00m \u001b[38;5;124m\"\u001b[39m\u001b[38;5;124mb\u001b[39m\u001b[38;5;124m\"\u001b[39m \u001b[38;5;129;01mnot\u001b[39;00m \u001b[38;5;129;01min\u001b[39;00m ioargs\u001b[38;5;241m.\u001b[39mmode:\n\u001b[1;32m    858\u001b[0m         \u001b[38;5;66;03m# Encoding\u001b[39;00m\n\u001b[0;32m--> 859\u001b[0m         handle \u001b[38;5;241m=\u001b[39m \u001b[38;5;28mopen\u001b[39m(\n\u001b[1;32m    860\u001b[0m             handle,\n\u001b[1;32m    861\u001b[0m             ioargs\u001b[38;5;241m.\u001b[39mmode,\n\u001b[1;32m    862\u001b[0m             encoding\u001b[38;5;241m=\u001b[39mioargs\u001b[38;5;241m.\u001b[39mencoding,\n\u001b[1;32m    863\u001b[0m             errors\u001b[38;5;241m=\u001b[39merrors,\n\u001b[1;32m    864\u001b[0m             newline\u001b[38;5;241m=\u001b[39m\u001b[38;5;124m\"\u001b[39m\u001b[38;5;124m\"\u001b[39m,\n\u001b[1;32m    865\u001b[0m         )\n\u001b[1;32m    866\u001b[0m     \u001b[38;5;28;01melse\u001b[39;00m:\n\u001b[1;32m    867\u001b[0m         \u001b[38;5;66;03m# Binary mode\u001b[39;00m\n\u001b[1;32m    868\u001b[0m         handle \u001b[38;5;241m=\u001b[39m \u001b[38;5;28mopen\u001b[39m(handle, ioargs\u001b[38;5;241m.\u001b[39mmode)\n",
      "\u001b[0;31mFileNotFoundError\u001b[0m: [Errno 2] No such file or directory: '/Users/gustavo/Documents/Projects/TESIS_UNAL/ADAPTIVE_ALGORITHM/data/processed/model/results/TDS_Pickup_nuevos.csv'"
     ]
    }
   ],
   "source": [
    "#!/usr/bin/env python3\n",
    "# -*- coding: utf-8 -*-\n",
    "\"\"\"\n",
    "Lee TDS_Pickup_nuevos.csv con columnas:\n",
    "  escenario,par_rele,TDS_principal,Pickup_principal,TDS_respaldo,Pickup_respaldo\n",
    "Calcula TM = Pickup_respaldo − Pickup_principal − CTI\n",
    "y agrupa los TM negativos para obtener TMT por escenario.\n",
    "Dibuja un bar chart de TMT por escenario.\n",
    "\"\"\"\n",
    "\n",
    "import pandas as pd\n",
    "import matplotlib.pyplot as plt\n",
    "from pathlib import Path\n",
    "\n",
    "# ─── Configuración de rutas y constantes ────────────────────────────────\n",
    "BASE   = Path(\"/Users/gustavo/Documents/Projects/TESIS_UNAL/ADAPTIVE_ALGORITHM/\")\n",
    "CSV_IN = BASE / \"data/processed/model/results/TDS_Pickup_nuevos.csv\"\n",
    "PNG_OUT = BASE / \"data/processed/model/results/tmt_by_scenario_prueba_v2.png\"\n",
    "CTI    = 0.2\n",
    "\n",
    "# ─── 1) Cargar CSV ───────────────────────────────────────────────────────\n",
    "df = pd.read_csv(CSV_IN)\n",
    "\n",
    "# ─── 2) Calcular TM (margen de tiempo usando pickup) ────────────────────\n",
    "# df[\"TM\"] = df[\"Pickup_respaldo\"] - df[\"Pickup_principal\"] - CTI\n",
    "#2) Calcular TM (margen de tiempo usando time out)\n",
    "\n",
    "\n",
    "# ─── 3) Agrupar para obtener TMT (suma de TM negativos) ─────────────────\n",
    "summary = (\n",
    "    df.groupby(\"escenario\")[\"TM\"]\n",
    "      .apply(lambda x: x[x < 0].sum())\n",
    "      .reset_index()\n",
    "      .rename(columns={\"TM\": \"TMT (negativo)\"})\n",
    ")\n",
    "\n",
    "# Extraer número de escenario para ordenarlo\n",
    "summary[\"num\"] = summary[\"escenario\"].str.extract(r\"(\\d+)\").astype(int)\n",
    "summary = summary.sort_values(\"num\")\n",
    "\n",
    "# ─── 4) Gráfica de barras ───────────────────────────────────────────────\n",
    "plt.figure(figsize=(12, 5))\n",
    "plt.bar(summary[\"escenario\"], summary[\"TMT (negativo)\"])\n",
    "plt.title(\"TMT por escenario (prueba)\")\n",
    "plt.xlabel(\"Escenario\")\n",
    "plt.ylabel(\"TMT (suma de márgenes negativos)\")\n",
    "plt.xticks(rotation=90)\n",
    "plt.tight_layout()\n",
    "plt.savefig(PNG_OUT, dpi=300)\n",
    "plt.show()\n",
    "\n",
    "print(f\"Gráfica guardada en: {PNG_OUT}\")\n"
   ]
  },
  {
   "cell_type": "code",
   "execution_count": 8,
   "metadata": {},
   "outputs": [
    {
     "data": {
      "image/png": "[encoded data removed]",
      "text/plain": [
       "<Figure size 1200x500 with 1 Axes>"
      ]
     },
     "metadata": {},
     "output_type": "display_data"
    },
    {
     "name": "stdout",
     "output_type": "stream",
     "text": [
      "Gráfica guardada en: /Users/gustavo/Documents/Projects/TESIS_UNAL/ADAPTIVE_ALGORITHM/data/processed/model/results/tmt_by_scenario_prueba_v2.png\n"
     ]
    }
   ],
   "source": [
    "#!/usr/bin/env python3\n",
    "# -*- coding: utf-8 -*-\n",
    "\"\"\"\n",
    "Lee los nuevos ajustes de TDS/pickup, recalcula Time_out con la función\n",
    "calculate_operation_time, obtiene delta_t y mt para cada par, agrupa\n",
    "los mt negativos en TMT por escenario y dibuja un bar chart.\n",
    "\"\"\"\n",
    "\n",
    "import json\n",
    "import numpy as np\n",
    "import pandas as pd\n",
    "import copy\n",
    "import matplotlib.pyplot as plt\n",
    "from pathlib import Path\n",
    "\n",
    "# ─────────────────────────── CONSTANTES ───────────────────────────\n",
    "K = 0.14\n",
    "N = 0.02\n",
    "DECIMAL_PLACES = 4\n",
    "CTI = 0.2\n",
    "\n",
    "def calculate_operation_time(I_shc, I_pi, TDS):\n",
    "    if not all(isinstance(x, (int, float)) for x in [I_shc, I_pi, TDS]):\n",
    "        return 0.0\n",
    "    if any(x is None or x <= 0 for x in [I_pi, TDS]) or I_shc <= 0:\n",
    "        return 0.0\n",
    "    try:\n",
    "        if abs(I_pi) < 1e-9:\n",
    "            return 0.0\n",
    "        M = I_shc / I_pi\n",
    "    except ZeroDivisionError:\n",
    "        return 0.0\n",
    "    if M <= 1:\n",
    "        return 0.0\n",
    "    try:\n",
    "        denominator = M**N - 1\n",
    "        if abs(denominator) < 1e-9:\n",
    "            return 0.0\n",
    "        timeout = (K / denominator) * TDS\n",
    "        return round(timeout, DECIMAL_PLACES) if np.isfinite(timeout) else 0.0\n",
    "    except (OverflowError, ValueError):\n",
    "        return 0.0\n",
    "\n",
    "# ─────────────────────────── RUTAS ───────────────────────────\n",
    "BASE    = Path(\"/Users/gustavo/Documents/Projects/TESIS_UNAL/ADAPTIVE_ALGORITHM/\")\n",
    "JSON_IN = BASE / \"data/processed/independent_relay_pairs_transformer.json\"\n",
    "CSV_IN  = BASE / \"data/processed/model/results/TDS_Pickup_nuevos.csv\"\n",
    "PNG_OUT = BASE / \"data/processed/model/results/tmt_by_scenario_prueba_v2.png\"\n",
    "\n",
    "# ────────────────── 1) Carga de pares originales ──────────────────\n",
    "with open(JSON_IN, \"r\") as f:\n",
    "    pairs = json.load(f)\n",
    "\n",
    "# Asignar par_rele en orden de aparición\n",
    "counts = {}\n",
    "for pair in pairs:\n",
    "    sid = pair[\"scenario_id\"]\n",
    "    counts[sid] = counts.get(sid, 0) + 1\n",
    "    pair[\"par_rele\"] = counts[sid]\n",
    "\n",
    "# ────────────────── 2) Leer CSV y construir mapa de ajustes ────────\n",
    "df_new = pd.read_csv(CSV_IN)\n",
    "new_map = {\n",
    "    (row[\"escenario\"], row[\"par_rele\"]): row.to_dict()\n",
    "    for _, row in df_new.iterrows()\n",
    "}\n",
    "\n",
    "# ────────────────── 3) Recalcular timeouts y márgenes ────────────\n",
    "for pair in pairs:\n",
    "    key = (pair[\"scenario_id\"], pair[\"par_rele\"])\n",
    "    ajustes = new_map.get(key)\n",
    "\n",
    "    main = pair[\"main_relay\"]\n",
    "    back = pair[\"backup_relay\"]\n",
    "\n",
    "    if ajustes:\n",
    "        main[\"TDS\"]     = ajustes[\"TDS_principal\"]\n",
    "        main[\"pick_up\"] = ajustes[\"Pickup_principal\"]\n",
    "        back[\"TDS\"]     = ajustes[\"TDS_respaldo\"]\n",
    "        back[\"pick_up\"] = ajustes[\"Pickup_respaldo\"]\n",
    "\n",
    "    main_time   = calculate_operation_time(main.get(\"Ishc\"), main.get(\"pick_up\"), main.get(\"TDS\"))\n",
    "    back_time   = calculate_operation_time(back.get(\"Ishc\"), back.get(\"pick_up\"), back.get(\"TDS\"))\n",
    "    pair[\"main_time\"]   = main_time\n",
    "    pair[\"backup_time\"] = back_time\n",
    "\n",
    "    delta_t = back_time - main_time - CTI\n",
    "    mt = (delta_t - abs(delta_t)) / 2\n",
    "    pair[\"delta_t\"] = delta_t\n",
    "    pair[\"mt\"]      = mt\n",
    "\n",
    "# ────────────────── 4) Agregar mt negativo a TMT por escenario ──────\n",
    "per_scenario = {}\n",
    "for p in pairs:\n",
    "    sid = p[\"scenario_id\"]\n",
    "    d = per_scenario.setdefault(sid, {\"TMT\": 0.0})\n",
    "    mt = p.get(\"mt\", 0.0)\n",
    "    if isinstance(mt, float) and mt < 0:\n",
    "        d[\"TMT\"] += mt\n",
    "\n",
    "# ────────────────── 5) Construir DataFrame de resumen ───────────────\n",
    "summary = [\n",
    "    {\"Escenario\": sid, \"TMT (negativo)\": vals[\"TMT\"]}\n",
    "    for sid, vals in sorted(per_scenario.items(),\n",
    "                            key=lambda x: int(x[0].split(\"_\")[-1]))\n",
    "]\n",
    "df_summary = pd.DataFrame(summary)\n",
    "\n",
    "# ────────────────── 6) Graficar TMT por escenario ────────────────────\n",
    "plt.figure(figsize=(12,5))\n",
    "plt.bar(df_summary[\"Escenario\"], df_summary[\"TMT (negativo)\"])\n",
    "plt.title(\"TMT por escenario (prueba v2)\")\n",
    "plt.xlabel(\"Escenario\")\n",
    "plt.ylabel(\"TMT (suma de márgenes negativos)\")\n",
    "plt.xticks(rotation=90)\n",
    "plt.tight_layout()\n",
    "plt.savefig(PNG_OUT, dpi=300)\n",
    "plt.show()\n",
    "\n",
    "print(f\"Gráfica guardada en: {PNG_OUT}\")\n"
   ]
  },
  {
   "cell_type": "code",
   "execution_count": 9,
   "metadata": {},
   "outputs": [],
   "source": [
    "#!/usr/bin/env python3\n",
    "# -*- coding: utf-8 -*-\n",
    "\"\"\"\n",
    "Calcula Time_out, delta_t y mt para cada par, suma los mt negativos\n",
    "en TMT por escenario y dibuja un bar chart interactivo con Plotly.\n",
    "\"\"\"\n",
    "\n",
    "import json\n",
    "import numpy as np\n",
    "import pandas as pd\n",
    "import copy\n",
    "import plotly.express as px\n",
    "from pathlib import Path\n",
    "\n",
    "# ─────────────────────────── CONSTANTES ───────────────────────────\n",
    "K = 0.14\n",
    "N = 0.02\n",
    "DECIMAL_PLACES = 4\n",
    "CTI = 0.2\n",
    "\n",
    "def calculate_operation_time(I_shc, I_pi, TDS):\n",
    "    if not all(isinstance(x, (int, float)) for x in (I_shc, I_pi, TDS)):\n",
    "        return 0.0\n",
    "    if any(x is None or x <= 0 for x in (I_pi, TDS)) or I_shc <= 0:\n",
    "        return 0.0\n",
    "    try:\n",
    "        if abs(I_pi) < 1e-9:\n",
    "            return 0.0\n",
    "        M = I_shc / I_pi\n",
    "    except ZeroDivisionError:\n",
    "        return 0.0\n",
    "    if M <= 1:\n",
    "        return 0.0\n",
    "    try:\n",
    "        denom = M**N - 1\n",
    "        if abs(denom) < 1e-9:\n",
    "            return 0.0\n",
    "        t = (K / denom) * TDS\n",
    "        return round(t, DECIMAL_PLACES) if np.isfinite(t) else 0.0\n",
    "    except (OverflowError, ValueError):\n",
    "        return 0.0\n",
    "\n",
    "# ─────────────────────────── RUTAS ───────────────────────────\n",
    "BASE    = Path(\"/Users/gustavo/Documents/Projects/TESIS_UNAL/ADAPTIVE_ALGORITHM/\")\n",
    "JSON_IN = BASE / \"data/processed/independent_relay_pairs_transformer.json\"\n",
    "CSV_IN  = BASE / \"data/processed/model/results/TDS_Pickup_nuevos.csv\"\n",
    "HTML_OUT = BASE / \"data/processed/model/results/tmt_by_scenario_prueba_v2.html\"\n",
    "PNG_OUT  = BASE / \"data/processed/model/results/tmt_by_scenario_prueba_v2.png\"\n",
    "\n",
    "# ────────────────── 1) Leer pares originales ──────────────────\n",
    "with open(JSON_IN, \"r\") as f:\n",
    "    pairs = json.load(f)\n",
    "\n",
    "# Asignar par_rele en orden de aparición\n",
    "counts = {}\n",
    "for pair in pairs:\n",
    "    sid = pair[\"scenario_id\"]\n",
    "    counts[sid] = counts.get(sid, 0) + 1\n",
    "    pair[\"par_rele\"] = counts[sid]\n",
    "\n",
    "# ──────────────── 2) Leer CSV de nuevos ajustes ───────────────\n",
    "df_new = pd.read_csv(CSV_IN)\n",
    "new_map = {\n",
    "    (int(r[\"escenario\"].split(\"_\")[-1]), r[\"par_rele\"]): r.to_dict()\n",
    "    for _, r in df_new.iterrows()\n",
    "}\n",
    "\n",
    "#\n"
   ]
  },
  {
   "cell_type": "code",
   "execution_count": 10,
   "metadata": {},
   "outputs": [
    {
     "data": {
      "application/vnd.plotly.v1+json": {
       "config": {
        "plotlyServerURL": "https://plot.ly"
       },
       "data": [
        {
         "alignmentgroup": "True",
         "hovertemplate": "Escenario=%{x}<br>TMT (suma márgenes negativos)=%{y}<extra></extra>",
         "legendgroup": "",
         "marker": {
          "color": "#636efa",
          "pattern": {
           "shape": ""
          }
         },
         "name": "",
         "offsetgroup": "",
         "orientation": "v",
         "showlegend": false,
         "textposition": "auto",
         "type": "bar",
         "x": [
          "scenario_1",
          "scenario_2",
          "scenario_3",
          "scenario_4",
          "scenario_5",
          "scenario_6",
          "scenario_7",
          "scenario_8",
          "scenario_9",
          "scenario_10",
          "scenario_11",
          "scenario_12",
          "scenario_13",
          "scenario_14",
          "scenario_15",
          "scenario_16",
          "scenario_17",
          "scenario_18",
          "scenario_19",
          "scenario_20",
          "scenario_21",
          "scenario_22",
          "scenario_23",
          "scenario_24",
          "scenario_25",
          "scenario_26",
          "scenario_27",
          "scenario_28",
          "scenario_29",
          "scenario_30",
          "scenario_31",
          "scenario_32",
          "scenario_33",
          "scenario_34",
          "scenario_35",
          "scenario_36",
          "scenario_37",
          "scenario_38",
          "scenario_39",
          "scenario_40",
          "scenario_41",
          "scenario_42",
          "scenario_43",
          "scenario_44",
          "scenario_45",
          "scenario_46",
          "scenario_47",
          "scenario_48",
          "scenario_49",
          "scenario_50",
          "scenario_51",
          "scenario_52",
          "scenario_53",
          "scenario_54",
          "scenario_55",
          "scenario_56",
          "scenario_57",
          "scenario_58",
          "scenario_59",
          "scenario_60",
          "scenario_61",
          "scenario_62",
          "scenario_63",
          "scenario_64",
          "scenario_65",
          "scenario_66",
          "scenario_67",
          "scenario_68"
         ],
         "xaxis": "x",
         "y": [
          -50.52469999999999,
          -211.4209999999999,
          -135.8947,
          -22.379499999999997,
          -97.64090000000003,
          -75.96700000000003,
          -57.13910000000001,
          -69.68880000000003,
          -282.0836999999999,
          -131.69070000000008,
          -147.01600000000008,
          -5080.1765,
          -323.0944,
          -470.5135999999997,
          -244.35269999999994,
          -209.31959999999998,
          -457.9032,
          -221.84369999999998,
          -256.30729999999994,
          -257.75449999999984,
          -51.61769999999999,
          -57.59260000000001,
          -20.994000000000003,
          -55.223699999999994,
          -53.300599999999996,
          -57.7105,
          -50.28590000000001,
          -49.15359999999999,
          -56.42900000000001,
          -48.43179999999999,
          -21.764899999999997,
          -21.719499999999996,
          -21.578300000000006,
          -54.29060000000001,
          -20.125200000000007,
          -20.477599999999995,
          -124.51850000000005,
          -79.9726,
          -86.46709999999999,
          -131.77540000000002,
          -78.5618,
          -94.39020000000002,
          -140.55829999999992,
          -74.81980000000001,
          -170.99249999999998,
          -136.81109999999995,
          -183.11839999999998,
          -234.03019999999998,
          -280.82079999999985,
          -244.6179999999999,
          -276.01129999999995,
          -253.94379999999987,
          -55.7418,
          -53.162299999999995,
          -53.0213,
          -20.4201,
          -52.85959999999999,
          -57.3219,
          -52.212599999999995,
          -52.10559999999998,
          -54.138,
          -57.934000000000005,
          -52.7533,
          -50.58709999999999,
          -50.61410000000001,
          -21.544700000000002,
          -21.1575,
          -21.243100000000005
         ],
         "yaxis": "y"
        }
       ],
       "layout": {
        "barmode": "relative",
        "legend": {
         "tracegroupgap": 0
        },
        "template": {
         "data": {
          "bar": [
           {
            "error_x": {
             "color": "#2a3f5f"
            },
            "error_y": {
             "color": "#2a3f5f"
            },
            "marker": {
             "line": {
              "color": "#E5ECF6",
              "width": 0.5
             },
             "pattern": {
              "fillmode": "overlay",
              "size": 10,
              "solidity": 0.2
             }
            },
            "type": "bar"
           }
          ],
          "barpolar": [
           {
            "marker": {
             "line": {
              "color": "#E5ECF6",
              "width": 0.5
             },
             "pattern": {
              "fillmode": "overlay",
              "size": 10,
              "solidity": 0.2
             }
            },
            "type": "barpolar"
           }
          ],
          "carpet": [
           {
            "aaxis": {
             "endlinecolor": "#2a3f5f",
             "gridcolor": "white",
             "linecolor": "white",
             "minorgridcolor": "white",
             "startlinecolor": "#2a3f5f"
            },
            "baxis": {
             "endlinecolor": "#2a3f5f",
             "gridcolor": "white",
             "linecolor": "white",
             "minorgridcolor": "white",
             "startlinecolor": "#2a3f5f"
            },
            "type": "carpet"
           }
          ],
          "choropleth": [
           {
            "colorbar": {
             "outlinewidth": 0,
             "ticks": ""
            },
            "type": "choropleth"
           }
          ],
          "contour": [
           {
            "colorbar": {
             "outlinewidth": 0,
             "ticks": ""
            },
            "colorscale": [
             [
              0,
              "#0d0887"
             ],
             [
              0.1111111111111111,
              "#46039f"
             ],
             [
              0.2222222222222222,
              "#7201a8"
             ],
             [
              0.3333333333333333,
              "#9c179e"
             ],
             [
              0.4444444444444444,
              "#bd3786"
             ],
             [
              0.5555555555555556,
              "#d8576b"
             ],
             [
              0.6666666666666666,
              "#ed7953"
             ],
             [
              0.7777777777777778,
              "#fb9f3a"
             ],
             [
              0.8888888888888888,
              "#fdca26"
             ],
             [
              1,
              "#f0f921"
             ]
            ],
            "type": "contour"
           }
          ],
          "contourcarpet": [
           {
            "colorbar": {
             "outlinewidth": 0,
             "ticks": ""
            },
            "type": "contourcarpet"
           }
          ],
          "heatmap": [
           {
            "colorbar": {
             "outlinewidth": 0,
             "ticks": ""
            },
            "colorscale": [
             [
              0,
              "#0d0887"
             ],
             [
              0.1111111111111111,
              "#46039f"
             ],
             [
              0.2222222222222222,
              "#7201a8"
             ],
             [
              0.3333333333333333,
              "#9c179e"
             ],
             [
              0.4444444444444444,
              "#bd3786"
             ],
             [
              0.5555555555555556,
              "#d8576b"
             ],
             [
              0.6666666666666666,
              "#ed7953"
             ],
             [
              0.7777777777777778,
              "#fb9f3a"
             ],
             [
              0.8888888888888888,
              "#fdca26"
             ],
             [
              1,
              "#f0f921"
             ]
            ],
            "type": "heatmap"
           }
          ],
          "heatmapgl": [
           {
            "colorbar": {
             "outlinewidth": 0,
             "ticks": ""
            },
            "colorscale": [
             [
              0,
              "#0d0887"
             ],
             [
              0.1111111111111111,
              "#46039f"
             ],
             [
              0.2222222222222222,
              "#7201a8"
             ],
             [
              0.3333333333333333,
              "#9c179e"
             ],
             [
              0.4444444444444444,
              "#bd3786"
             ],
             [
              0.5555555555555556,
              "#d8576b"
             ],
             [
              0.6666666666666666,
              "#ed7953"
             ],
             [
              0.7777777777777778,
              "#fb9f3a"
             ],
             [
              0.8888888888888888,
              "#fdca26"
             ],
             [
              1,
              "#f0f921"
             ]
            ],
            "type": "heatmapgl"
           }
          ],
          "histogram": [
           {
            "marker": {
             "pattern": {
              "fillmode": "overlay",
              "size": 10,
              "solidity": 0.2
             }
            },
            "type": "histogram"
           }
          ],
          "histogram2d": [
           {
            "colorbar": {
             "outlinewidth": 0,
             "ticks": ""
            },
            "colorscale": [
             [
              0,
              "#0d0887"
             ],
             [
              0.1111111111111111,
              "#46039f"
             ],
             [
              0.2222222222222222,
              "#7201a8"
             ],
             [
              0.3333333333333333,
              "#9c179e"
             ],
             [
              0.4444444444444444,
              "#bd3786"
             ],
             [
              0.5555555555555556,
              "#d8576b"
             ],
             [
              0.6666666666666666,
              "#ed7953"
             ],
             [
              0.7777777777777778,
              "#fb9f3a"
             ],
             [
              0.8888888888888888,
              "#fdca26"
             ],
             [
              1,
              "#f0f921"
             ]
            ],
            "type": "histogram2d"
           }
          ],
          "histogram2dcontour": [
           {
            "colorbar": {
             "outlinewidth": 0,
             "ticks": ""
            },
            "colorscale": [
             [
              0,
              "#0d0887"
             ],
             [
              0.1111111111111111,
              "#46039f"
             ],
             [
              0.2222222222222222,
              "#7201a8"
             ],
             [
              0.3333333333333333,
              "#9c179e"
             ],
             [
              0.4444444444444444,
              "#bd3786"
             ],
             [
              0.5555555555555556,
              "#d8576b"
             ],
             [
              0.6666666666666666,
              "#ed7953"
             ],
             [
              0.7777777777777778,
              "#fb9f3a"
             ],
             [
              0.8888888888888888,
              "#fdca26"
             ],
             [
              1,
              "#f0f921"
             ]
            ],
            "type": "histogram2dcontour"
           }
          ],
          "mesh3d": [
           {
            "colorbar": {
             "outlinewidth": 0,
             "ticks": ""
            },
            "type": "mesh3d"
           }
          ],
          "parcoords": [
           {
            "line": {
             "colorbar": {
              "outlinewidth": 0,
              "ticks": ""
             }
            },
            "type": "parcoords"
           }
          ],
          "pie": [
           {
            "automargin": true,
            "type": "pie"
           }
          ],
          "scatter": [
           {
            "fillpattern": {
             "fillmode": "overlay",
             "size": 10,
             "solidity": 0.2
            },
            "type": "scatter"
           }
          ],
          "scatter3d": [
           {
            "line": {
             "colorbar": {
              "outlinewidth": 0,
              "ticks": ""
             }
            },
            "marker": {
             "colorbar": {
              "outlinewidth": 0,
              "ticks": ""
             }
            },
            "type": "scatter3d"
           }
          ],
          "scattercarpet": [
           {
            "marker": {
             "colorbar": {
              "outlinewidth": 0,
              "ticks": ""
             }
            },
            "type": "scattercarpet"
           }
          ],
          "scattergeo": [
           {
            "marker": {
             "colorbar": {
              "outlinewidth": 0,
              "ticks": ""
             }
            },
            "type": "scattergeo"
           }
          ],
          "scattergl": [
           {
            "marker": {
             "colorbar": {
              "outlinewidth": 0,
              "ticks": ""
             }
            },
            "type": "scattergl"
           }
          ],
          "scattermapbox": [
           {
            "marker": {
             "colorbar": {
              "outlinewidth": 0,
              "ticks": ""
             }
            },
            "type": "scattermapbox"
           }
          ],
          "scatterpolar": [
           {
            "marker": {
             "colorbar": {
              "outlinewidth": 0,
              "ticks": ""
             }
            },
            "type": "scatterpolar"
           }
          ],
          "scatterpolargl": [
           {
            "marker": {
             "colorbar": {
              "outlinewidth": 0,
              "ticks": ""
             }
            },
            "type": "scatterpolargl"
           }
          ],
          "scatterternary": [
           {
            "marker": {
             "colorbar": {
              "outlinewidth": 0,
              "ticks": ""
             }
            },
            "type": "scatterternary"
           }
          ],
          "surface": [
           {
            "colorbar": {
             "outlinewidth": 0,
             "ticks": ""
            },
            "colorscale": [
             [
              0,
              "#0d0887"
             ],
             [
              0.1111111111111111,
              "#46039f"
             ],
             [
              0.2222222222222222,
              "#7201a8"
             ],
             [
              0.3333333333333333,
              "#9c179e"
             ],
             [
              0.4444444444444444,
              "#bd3786"
             ],
             [
              0.5555555555555556,
              "#d8576b"
             ],
             [
              0.6666666666666666,
              "#ed7953"
             ],
             [
              0.7777777777777778,
              "#fb9f3a"
             ],
             [
              0.8888888888888888,
              "#fdca26"
             ],
             [
              1,
              "#f0f921"
             ]
            ],
            "type": "surface"
           }
          ],
          "table": [
           {
            "cells": {
             "fill": {
              "color": "#EBF0F8"
             },
             "line": {
              "color": "white"
             }
            },
            "header": {
             "fill": {
              "color": "#C8D4E3"
             },
             "line": {
              "color": "white"
             }
            },
            "type": "table"
           }
          ]
         },
         "layout": {
          "annotationdefaults": {
           "arrowcolor": "#2a3f5f",
           "arrowhead": 0,
           "arrowwidth": 1
          },
          "autotypenumbers": "strict",
          "coloraxis": {
           "colorbar": {
            "outlinewidth": 0,
            "ticks": ""
           }
          },
          "colorscale": {
           "diverging": [
            [
             0,
             "#8e0152"
            ],
            [
             0.1,
             "#c51b7d"
            ],
            [
             0.2,
             "#de77ae"
            ],
            [
             0.3,
             "#f1b6da"
            ],
            [
             0.4,
             "#fde0ef"
            ],
            [
             0.5,
             "#f7f7f7"
            ],
            [
             0.6,
             "#e6f5d0"
            ],
            [
             0.7,
             "#b8e186"
            ],
            [
             0.8,
             "#7fbc41"
            ],
            [
             0.9,
             "#4d9221"
            ],
            [
             1,
             "#276419"
            ]
           ],
           "sequential": [
            [
             0,
             "#0d0887"
            ],
            [
             0.1111111111111111,
             "#46039f"
            ],
            [
             0.2222222222222222,
             "#7201a8"
            ],
            [
             0.3333333333333333,
             "#9c179e"
            ],
            [
             0.4444444444444444,
             "#bd3786"
            ],
            [
             0.5555555555555556,
             "#d8576b"
            ],
            [
             0.6666666666666666,
             "#ed7953"
            ],
            [
             0.7777777777777778,
             "#fb9f3a"
            ],
            [
             0.8888888888888888,
             "#fdca26"
            ],
            [
             1,
             "#f0f921"
            ]
           ],
           "sequentialminus": [
            [
             0,
             "#0d0887"
            ],
            [
             0.1111111111111111,
             "#46039f"
            ],
            [
             0.2222222222222222,
             "#7201a8"
            ],
            [
             0.3333333333333333,
             "#9c179e"
            ],
            [
             0.4444444444444444,
             "#bd3786"
            ],
            [
             0.5555555555555556,
             "#d8576b"
            ],
            [
             0.6666666666666666,
             "#ed7953"
            ],
            [
             0.7777777777777778,
             "#fb9f3a"
            ],
            [
             0.8888888888888888,
             "#fdca26"
            ],
            [
             1,
             "#f0f921"
            ]
           ]
          },
          "colorway": [
           "#636efa",
           "#EF553B",
           "#00cc96",
           "#ab63fa",
           "#FFA15A",
           "#19d3f3",
           "#FF6692",
           "#B6E880",
           "#FF97FF",
           "#FECB52"
          ],
          "font": {
           "color": "#2a3f5f"
          },
          "geo": {
           "bgcolor": "white",
           "lakecolor": "white",
           "landcolor": "#E5ECF6",
           "showlakes": true,
           "showland": true,
           "subunitcolor": "white"
          },
          "hoverlabel": {
           "align": "left"
          },
          "hovermode": "closest",
          "mapbox": {
           "style": "light"
          },
          "paper_bgcolor": "white",
          "plot_bgcolor": "#E5ECF6",
          "polar": {
           "angularaxis": {
            "gridcolor": "white",
            "linecolor": "white",
            "ticks": ""
           },
           "bgcolor": "#E5ECF6",
           "radialaxis": {
            "gridcolor": "white",
            "linecolor": "white",
            "ticks": ""
           }
          },
          "scene": {
           "xaxis": {
            "backgroundcolor": "#E5ECF6",
            "gridcolor": "white",
            "gridwidth": 2,
            "linecolor": "white",
            "showbackground": true,
            "ticks": "",
            "zerolinecolor": "white"
           },
           "yaxis": {
            "backgroundcolor": "#E5ECF6",
            "gridcolor": "white",
            "gridwidth": 2,
            "linecolor": "white",
            "showbackground": true,
            "ticks": "",
            "zerolinecolor": "white"
           },
           "zaxis": {
            "backgroundcolor": "#E5ECF6",
            "gridcolor": "white",
            "gridwidth": 2,
            "linecolor": "white",
            "showbackground": true,
            "ticks": "",
            "zerolinecolor": "white"
           }
          },
          "shapedefaults": {
           "line": {
            "color": "#2a3f5f"
           }
          },
          "ternary": {
           "aaxis": {
            "gridcolor": "white",
            "linecolor": "white",
            "ticks": ""
           },
           "baxis": {
            "gridcolor": "white",
            "linecolor": "white",
            "ticks": ""
           },
           "bgcolor": "#E5ECF6",
           "caxis": {
            "gridcolor": "white",
            "linecolor": "white",
            "ticks": ""
           }
          },
          "title": {
           "x": 0.05
          },
          "xaxis": {
           "automargin": true,
           "gridcolor": "white",
           "linecolor": "white",
           "ticks": "",
           "title": {
            "standoff": 15
           },
           "zerolinecolor": "white",
           "zerolinewidth": 2
          },
          "yaxis": {
           "automargin": true,
           "gridcolor": "white",
           "linecolor": "white",
           "ticks": "",
           "title": {
            "standoff": 15
           },
           "zerolinecolor": "white",
           "zerolinewidth": 2
          }
         }
        },
        "title": {
         "text": "TMT por escenario (Plotly)"
        },
        "xaxis": {
         "anchor": "y",
         "domain": [
          0,
          1
         ],
         "tickangle": -45,
         "title": {
          "text": "Escenario"
         }
        },
        "yaxis": {
         "anchor": "x",
         "domain": [
          0,
          1
         ],
         "title": {
          "text": "TMT (suma márgenes negativos)"
         }
        }
       }
      }
     },
     "metadata": {},
     "output_type": "display_data"
    }
   ],
   "source": [
    "import json\n",
    "import numpy as np\n",
    "import pandas as pd\n",
    "import plotly.express as px\n",
    "from pathlib import Path\n",
    "\n",
    "# ─────────────────────────── CONSTANTES ───────────────────────────\n",
    "K = 0.14\n",
    "N = 0.02\n",
    "DECIMAL_PLACES = 4\n",
    "CTI = 0.2\n",
    "\n",
    "def calculate_operation_time(I_shc, I_pi, TDS):\n",
    "    if not all(isinstance(x, (int, float)) for x in (I_shc, I_pi, TDS)):\n",
    "        return 0.0\n",
    "    if any(x is None or x <= 0 for x in (I_pi, TDS)) or I_shc <= 0:\n",
    "        return 0.0\n",
    "    try:\n",
    "        if abs(I_pi) < 1e-9:\n",
    "            return 0.0\n",
    "        M = I_shc / I_pi\n",
    "    except ZeroDivisionError:\n",
    "        return 0.0\n",
    "    if M <= 1:\n",
    "        return 0.0\n",
    "    try:\n",
    "        denom = M**N - 1\n",
    "        if abs(denom) < 1e-9:\n",
    "            return 0.0\n",
    "        timeout = (K / denom) * TDS\n",
    "        return round(timeout, DECIMAL_PLACES) if np.isfinite(timeout) else 0.0\n",
    "    except (OverflowError, ValueError):\n",
    "        return 0.0\n",
    "\n",
    "# ─────────────────────────── RUTAS ───────────────────────────\n",
    "BASE    = Path(\"/Users/gustavo/Documents/Projects/TESIS_UNAL/ADAPTIVE_ALGORITHM/\")\n",
    "JSON_IN = BASE / \"data/processed/independent_relay_pairs_transformer.json\"\n",
    "CSV_IN  = BASE / \"data/processed/model/results/TDS_Pickup_nuevos.csv\"\n",
    "\n",
    "# ────────────────── 1) Leer pares originales ──────────────────\n",
    "with open(JSON_IN, \"r\") as f:\n",
    "    pairs = json.load(f)\n",
    "\n",
    "# Asignar par_rele en orden de aparición\n",
    "counts = {}\n",
    "for pair in pairs:\n",
    "    sid = pair[\"scenario_id\"]\n",
    "    counts[sid] = counts.get(sid, 0) + 1\n",
    "    pair[\"par_rele\"] = counts[sid]\n",
    "\n",
    "# ──────────────── 2) Leer CSV de nuevos ajustes ───────────────\n",
    "df_new = pd.read_csv(CSV_IN)\n",
    "new_map = {\n",
    "    (row[\"escenario\"], row[\"par_rele\"]): row.to_dict()\n",
    "    for _, row in df_new.iterrows()\n",
    "}\n",
    "\n",
    "# ──────── 3) Recalcular timeouts y márgenes y agregar mt ────────\n",
    "per_scenario = {}\n",
    "for pair in pairs:\n",
    "    key = (pair[\"scenario_id\"], pair[\"par_rele\"])\n",
    "    ajustes = new_map.get(key, {})\n",
    "\n",
    "    main = pair[\"main_relay\"]\n",
    "    back = pair[\"backup_relay\"]\n",
    "\n",
    "    # Actualizar configuraciones\n",
    "    if ajustes:\n",
    "        main[\"TDS\"]     = ajustes[\"TDS_principal\"]\n",
    "        main[\"pick_up\"] = ajustes[\"Pickup_principal\"]\n",
    "        back[\"TDS\"]     = ajustes[\"TDS_respaldo\"]\n",
    "        back[\"pick_up\"] = ajustes[\"Pickup_respaldo\"]\n",
    "\n",
    "    # Recalcular Time_out\n",
    "    mt_main = calculate_operation_time(main.get(\"Ishc\"), main.get(\"pick_up\"), main.get(\"TDS\"))\n",
    "    mt_back = calculate_operation_time(back.get(\"Ishc\"), back.get(\"pick_up\"), back.get(\"TDS\"))\n",
    "\n",
    "    # delta_t y mt\n",
    "    delta_t = mt_back - mt_main - CTI\n",
    "    mt_val  = (delta_t - abs(delta_t)) / 2\n",
    "\n",
    "    # Acumular TMT por escenario\n",
    "    d = per_scenario.setdefault(pair[\"scenario_id\"], 0.0)\n",
    "    if mt_val < 0:\n",
    "        per_scenario[pair[\"scenario_id\"]] += mt_val\n",
    "\n",
    "# ────────────────── 4) Preparar DataFrame de resumen ──────────────\n",
    "summary_df = pd.DataFrame([\n",
    "    {\"Escenario\": esc, \"TMT (negativo)\": tmt}\n",
    "    for esc, tmt in per_scenario.items()\n",
    "])\n",
    "# Ordenar por número\n",
    "summary_df[\"num\"] = summary_df[\"Escenario\"].str.extract(r\"(\\d+)\").astype(int)\n",
    "summary_df = summary_df.sort_values(\"num\")\n",
    "\n",
    "# ────────────────── 5) Graficar con Plotly ───────────────────────\n",
    "fig = px.bar(\n",
    "    summary_df,\n",
    "    x=\"Escenario\",\n",
    "    y=\"TMT (negativo)\",\n",
    "    title=\"TMT por escenario (Plotly)\",\n",
    "    labels={\"TMT (negativo)\": \"TMT (suma márgenes negativos)\"}\n",
    ")\n",
    "fig.update_layout(xaxis_tickangle=-45)\n",
    "fig.show()\n"
   ]
  }
 ],
 "metadata": {
  "kernelspec": {
   "display_name": "Python 3",
   "language": "python",
   "name": "python3"
  },
  "language_info": {
   "codemirror_mode": {
    "name": "ipython",
    "version": 3
   },
   "file_extension": ".py",
   "mimetype": "text/x-python",
   "name": "python",
   "nbconvert_exporter": "python",
   "pygments_lexer": "ipython3",
   "version": "3.11.11"
  }
 },
 "nbformat": 4,
 "nbformat_minor": 2
}
