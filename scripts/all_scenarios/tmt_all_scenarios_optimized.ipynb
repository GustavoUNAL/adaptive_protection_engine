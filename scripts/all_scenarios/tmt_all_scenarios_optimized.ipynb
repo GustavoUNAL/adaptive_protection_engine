{
 "cells": [
  {
   "cell_type": "code",
   "execution_count": 1,
   "metadata": {},
   "outputs": [
    {
     "name": "stdout",
     "output_type": "stream",
     "text": [
      "✓ summary_scenarios.csv y mt_distribution.csv listos\n"
     ]
    }
   ],
   "source": [
    "#!/usr/bin/env python3\n",
    "\"\"\"\n",
    "Genera:\n",
    "  • summary_scenarios.csv  –  métrica global por escenario\n",
    "  • mt_distribution.csv    –  |mt| de cada par descoordinado\n",
    "Notas:\n",
    "  – TMT se define como la suma de mt (siempre negativo) y es adimensional.\n",
    "  – CTI fijo en 0.2 s.\n",
    "\"\"\"\n",
    "import json, csv, os\n",
    "CTI = 0.2\n",
    "INPUT_FILE = \"/Users/gustavo/Documents/Projects/TESIS_UNAL/ADAPTIVE_ALGORITHM/data/processed/independent_relay_pairs.json\"\n",
    "OUT_CSV_SCEN = \"summary_scenarios_optimized.csv\"\n",
    "OUT_CSV_MT   = \"mt_distribution_optimized.csv\"\n",
    "\n",
    "with open(INPUT_FILE) as f:\n",
    "    data = json.load(f)\n",
    "\n",
    "per_scenario = {}\n",
    "for p in data:\n",
    "    sid = p[\"scenario_id\"]\n",
    "    d = per_scenario.setdefault(sid, {\"total\":0,\"valid\":0,\"descoord\":0,\"TMT\":0.0})\n",
    "    d[\"total\"] += 1\n",
    "    tm, tb = p[\"main_relay\"].get(\"Time_out\"), p[\"backup_relay\"].get(\"Time_out\")\n",
    "    if not all(isinstance(x,(int,float)) for x in (tm, tb)):\n",
    "        continue\n",
    "    d[\"valid\"] += 1\n",
    "    delta_t = tb - tm - CTI\n",
    "    mt = (delta_t - abs(delta_t))/2        # negativo si Δt<0\n",
    "    if delta_t < 0:\n",
    "        d[\"descoord\"] += 1\n",
    "        d[\"TMT\"]      += mt                # suma valores negativos\n",
    "        # exportar |mt| para gráfica de distribución\n",
    "        with open(OUT_CSV_MT,\"a\",newline=\"\") as g:\n",
    "            csv.writer(g).writerow([\n",
    "                sid,\n",
    "                f'{p[\"fault\"]}% {p[\"main_relay\"][\"relay\"]}/{p[\"backup_relay\"][\"relay\"]}',\n",
    "                abs(mt)\n",
    "            ])\n",
    "\n",
    "with open(OUT_CSV_SCEN,\"w\",newline=\"\") as f:\n",
    "    w = csv.writer(f)\n",
    "    w.writerow([\"Escenario\",\"Pares evaluados\",\"Pares válidos\",\n",
    "                \"Descoordinados\",\"% Descoord\",\"TMT (negativo)\"])\n",
    "    for sid,d in sorted(per_scenario.items(),\n",
    "                        key=lambda k:int(k[0].split(\"_\")[-1])):\n",
    "        pct = 100*d[\"descoord\"]/d[\"valid\"] if d[\"valid\"] else 0\n",
    "        w.writerow([sid,d[\"total\"],d[\"valid\"],d[\"descoord\"],\n",
    "                    f\"{pct:.1f}\",f\"{d['TMT']:.5f}\"])\n",
    "print(\"✓ summary_scenarios.csv y mt_distribution.csv listos\")\n"
   ]
  },
  {
   "cell_type": "markdown",
   "metadata": {},
   "source": [
    "# graph\n"
   ]
  },
  {
   "cell_type": "code",
   "execution_count": 2,
   "metadata": {},
   "outputs": [
    {
     "name": "stdout",
     "output_type": "stream",
     "text": [
      "✓ tmt_by_scenario.png generado\n"
     ]
    }
   ],
   "source": [
    "#!/usr/bin/env python3\n",
    "\"\"\"\n",
    "Lee summary_scenarios.csv y genera:\n",
    "  • tmt_by_scenario.png  –  gráfica en barras del TMT (negativo)\n",
    "\"\"\"\n",
    "import pandas as pd\n",
    "import matplotlib.pyplot as plt\n",
    "\n",
    "# --- 1. Cargar CSV ---\n",
    "df = pd.read_csv(\"summary_scenarios_optimized.csv\")\n",
    "\n",
    "# --- 2. Extraer número de escenario y ordenar ---\n",
    "df[\"num\"] = pd.to_numeric(df[\"Escenario\"].str.extract(r\"(\\d+)\")[0])\n",
    "df = df.sort_values(\"num\")\n",
    "\n",
    "# --- 3. Graficar ---\n",
    "plt.figure(figsize=(12,5))\n",
    "plt.bar(df[\"Escenario\"], df[\"TMT (negativo)\"])\n",
    "plt.title(\"TMT por escenario (68 escenarios)\")\n",
    "plt.xlabel(\"Escenario\")\n",
    "plt.ylabel(\"TMT\")\n",
    "plt.xticks(rotation=90)\n",
    "plt.tight_layout()\n",
    "\n",
    "# --- 4. Guardar como PNG (300 dpi) ---\n",
    "plt.savefig(\"tmt_by_scenario_optimized.png\", dpi=300)\n",
    "plt.close()\n",
    "\n",
    "print(\"✓ tmt_by_scenario.png generado\")\n"
   ]
  }
 ],
 "metadata": {
  "kernelspec": {
   "display_name": "Python 3",
   "language": "python",
   "name": "python3"
  },
  "language_info": {
   "codemirror_mode": {
    "name": "ipython",
    "version": 3
   },
   "file_extension": ".py",
   "mimetype": "text/x-python",
   "name": "python",
   "nbconvert_exporter": "python",
   "pygments_lexer": "ipython3",
   "version": "3.11.11"
  }
 },
 "nbformat": 4,
 "nbformat_minor": 2
}
